{
 "cells": [
  {
   "cell_type": "code",
   "execution_count": 47,
   "id": "cc447a8f",
   "metadata": {},
   "outputs": [],
   "source": [
    "from clearml import Task\n",
    "import numpy as np\n",
    "import random\n",
    "import os\n",
    "import optuna\n",
    "\n",
    "import joblib\n",
    "import pandas as pd\n",
    "import optuna.visualization as vis\n",
    "import matplotlib.pyplot as plt\n",
    "from lightgbm import LGBMRegressor\n",
    "from pathlib import Path\n",
    "from clearml import Logger\n",
    "from sklearn.ensemble import RandomForestRegressor\n",
    "from sklearn.ensemble import ExtraTreesRegressor, GradientBoostingRegressor\n",
    "from sklearn.model_selection import TimeSeriesSplit\n",
    "\n",
    "from src import data_preprocessing as dp\n",
    "from src import pipeline as pl\n",
    "from src import feature_engineering as fe\n",
    "from src.model_evaluation import evaluate\n",
    "from sklearn.model_selection import cross_val_score, cross_val_predict, KFold\n",
    "\n",
    "SEED = 42 # vẫn phải chọn random của model đấy\n",
    "\n",
    "# Python, NumPy\n",
    "random.seed(SEED)\n",
    "np.random.seed(SEED) \n",
    "\n",
    "# Hash seed cho Python interpreter (ảnh hưởng tới dict order)\n",
    "os.environ['PYTHONHASHSEED'] = str(SEED)\n",
    "\n",
    "# Giới hạn luồng tính toán song song (để tránh floating-point nondeterminism)\n",
    "os.environ[\"OMP_NUM_THREADS\"] = \"1\"\n",
    "os.environ[\"MKL_NUM_THREADS\"] = \"1\"\n",
    "os.environ[\"NUMEXPR_NUM_THREADS\"] = \"1\"\n",
    "\n",
    "# tạo sampler của Optuna có seed cố định\n",
    "sampler = optuna.samplers.TPESampler(seed=SEED)\n"
   ]
  },
  {
   "cell_type": "code",
   "execution_count": 48,
   "id": "e3a5496f",
   "metadata": {},
   "outputs": [
    {
     "name": "stdout",
     "output_type": "stream",
     "text": [
      " Loaded data with shape: (3660, 33)\n",
      "Dropped column: 'description'\n",
      "Dropped column: 'icon'\n",
      "Dropped column: 'stations'\n",
      "Dropped column: 'name'\n",
      "(2562, 246)\n"
     ]
    }
   ],
   "source": [
    "# 1. Load raw Data\n",
    "df = dp.load_data(r\"data\\raw data\\Hanoi Daily 10 years.csv\")\n",
    "\n",
    "\n",
    "# 2. basic preprocessing for all data set\n",
    "df = dp.basic_preprocessing(df=df)\n",
    "\n",
    "# 3. chia train, val, test (tỉ lệ 70/15/15)\n",
    "target_col = 'temp'\n",
    "train_size = 0.7\n",
    "val_size = 0.15\n",
    "n = len(df)\n",
    "\n",
    "train_df = df.iloc[:int(train_size*n)]\n",
    "val_df = df.iloc[int(train_size*n):int((train_size+val_size)*n)]\n",
    "test_df = df.iloc[int((train_size+val_size)*n):]\n",
    "\n",
    "# 4. Fit và transform trên preprocessing pipeline\n",
    "pipeline1 = pl.build_preprocessing_pipeline()\n",
    "\n",
    "# fit trên train\n",
    "pipeline1.fit(train_df)\n",
    "\n",
    "# transform \n",
    "train_processed = pipeline1.transform(train_df)\n",
    "val_processed = pipeline1.transform(val_df)\n",
    "test_processed = pipeline1.transform(test_df)\n",
    "\n",
    "\n",
    "# Tạo feature engineering\n",
    "column_lag = ['tempmax', 'tempmin', 'dew', 'humidity', 'precip',\n",
    "    'precipprob', 'precipcover', 'windgust', 'windspeed',\n",
    "    'sealevelpressure', 'cloudcover', 'visibility', 'solarradiation', \n",
    "    'pressure_temp_index', 'wind_temp_index', 'temp_range', 'dew_spread']\n",
    "\n",
    "train_feat = fe.feature_engineering(train_processed, column= column_lag)\n",
    "val_feat = fe.feature_engineering(val_processed, column= column_lag)\n",
    "test_feat = fe.feature_engineering(test_processed, column= column_lag)\n",
    "print(train_feat.shape)"
   ]
  },
  {
   "cell_type": "code",
   "execution_count": 49,
   "id": "2ba1e240",
   "metadata": {},
   "outputs": [
    {
     "name": "stdout",
     "output_type": "stream",
     "text": [
      "Train: ((2562, 245), (2562,)), Val: ((549, 245), (549,)), Test: ((549, 245), (549,))\n"
     ]
    }
   ],
   "source": [
    "# Chia X, y riêng biệt\n",
    "X_train, y_train = train_feat.drop(columns=[target_col]), train_df[target_col]\n",
    "X_val, y_val = val_feat.drop(columns=[target_col]), val_df[target_col]\n",
    "X_test, y_test = test_feat.drop(columns=[target_col]), test_df[target_col]\n",
    "\n",
    "print(f\"Train: {X_train.shape, y_train.shape}, Val: {X_val.shape, y_val.shape}, Test: {X_test.shape, y_test.shape}\")"
   ]
  },
  {
   "cell_type": "code",
   "execution_count": 50,
   "id": "55b526d8",
   "metadata": {},
   "outputs": [],
   "source": [
    "pipeline2 = pl.build_LGBM_feature_engineering_pipeline(top_k=30)\n",
    "X_train = pipeline2.fit_transform(X= X_train, y= y_train)"
   ]
  },
  {
   "cell_type": "code",
   "execution_count": 51,
   "id": "4f41ff6e",
   "metadata": {},
   "outputs": [],
   "source": [
    "X_val = pipeline2.transform(X= X_val)\n",
    "X_test = pipeline2.transform(X= X_test)"
   ]
  },
  {
   "cell_type": "code",
   "execution_count": 52,
   "id": "885b30f6",
   "metadata": {},
   "outputs": [
    {
     "data": {
      "text/plain": [
       "Index(['feelslike_lag_1', 'winddir_lag_1', 'solar_temp_index_lag_1',\n",
       "       'windgust_lag_1', 'sunrise_lag_1', 'dew_spread_lag_1', 'humidity_lag_1',\n",
       "       'windspeed_lag_1', 'pressure_temp_index_roll_mean_14',\n",
       "       'sealevelpressure_roll_std_3', 'temp_range_lag_1',\n",
       "       'visibility_roll_std_7', 'day_length_lag_1', 'wind_variability_lag_1',\n",
       "       'precipcover_roll_std_3', 'windgust_roll_mean_14',\n",
       "       'wind_temp_index_lag_1', 'precip_lag_1', 'rain_intensity_lag_1',\n",
       "       'windgust_roll_mean_3', 'sealevelpressure_roll_std_14',\n",
       "       'visibility_roll_std_3', 'cloudcover_roll_std_3',\n",
       "       'solarradiation_roll_std_7', 'tempmax_roll_std_7',\n",
       "       'windgust_roll_std_3', 'tempmax_roll_std_14',\n",
       "       'solarradiation_roll_std_14', 'temp_range_roll_std_14', 'precip_lag_3'],\n",
       "      dtype='object')"
      ]
     },
     "execution_count": 52,
     "metadata": {},
     "output_type": "execute_result"
    }
   ],
   "source": [
    "X_train.columns"
   ]
  },
  {
   "cell_type": "code",
   "execution_count": 53,
   "id": "2c64434c",
   "metadata": {},
   "outputs": [],
   "source": [
    "# chưa có feature selection để nguyên tất cả temp lag 1, 252 feature\n",
    "# 1. RF\n",
    "## Default\n",
    "# a. Validation metrics: {'RMSE': 2.1278075895022885, 'R2': 0.8297628223226209, 'MAPE': 7.013125189028322}\n",
    "# b. Test metrics: {'RMSE': 1.7168173002419687, 'R2': 0.8638144750921892, 'MAPE': 5.359437239042012}\n",
    "\n",
    "## Best parameter\n",
    "# Validation metrics: {'RMSE': 1.6388776242029133, 'R2': 0.8990089808287993, 'MAPE': 5.741406234570231}\n",
    "# Test metrics: {'RMSE': 1.4337918013739446, 'R2': 0.9050150119360206, 'MAPE': 4.584963631819218}\n",
    "\n",
    "\n",
    "# 2. Extra Tree\n",
    "## Default\n",
    "# Validation metrics: {'RMSE': 1.5501069852687441, 'R2': 0.9096531427481926, 'MAPE': 5.289823867518864}\n",
    "# Test metrics: {'RMSE': 1.4094799560393934, 'R2': 0.9082088955219491, 'MAPE': 4.494487229026149}\n",
    "\n",
    "## Best parameter\n",
    "# Validation metrics: {'RMSE': 1.4981094962144423, 'R2': 0.9156127533286983, 'MAPE': 5.13799909932879}\n",
    "# Test metrics: {'RMSE': 1.3558239003827515, 'R2': 0.9150644784751033, 'MAPE': 4.317549688535942}\n",
    "\n",
    "# 3. GB\n",
    "## Default\n",
    "# Validation metrics: {'RMSE': 1.479398688181336, 'R2': 0.9177075178532362, 'MAPE': 5.0692414857715775}\n",
    "# Test metrics: {'RMSE': 1.3534994389764416, 'R2': 0.9153554603683042, 'MAPE': 4.1845167790637126}\n",
    "\n",
    "## Best parameter\n",
    "# Validation metrics: {'RMSE': 1.5011458815829, 'R2': 0.9152703326059204, 'MAPE': 5.158944802837902}\n",
    "# Test metrics: {'RMSE': 1.3430800523462543, 'R2': 0.9166536500947113, 'MAPE': 4.216884591360309}"
   ]
  },
  {
   "cell_type": "code",
   "execution_count": 54,
   "id": "a03d801d",
   "metadata": {},
   "outputs": [],
   "source": [
    "from clearml import Task "
   ]
  },
  {
   "cell_type": "markdown",
   "id": "3917cc62",
   "metadata": {},
   "source": [
    "### Light GBM\n"
   ]
  },
  {
   "cell_type": "code",
   "execution_count": 55,
   "id": "10c9fa6b",
   "metadata": {},
   "outputs": [
    {
     "name": "stdout",
     "output_type": "stream",
     "text": [
      "Task ID: 0208e428d4c1472fb035ebd059069c4c\n"
     ]
    }
   ],
   "source": [
    "# mỗi lần chạy xong, thì tạo task mới\n",
    "# Tạo task mới trong project Temperature Forecasting\n",
    "\n",
    "task_lgbm = Task.init(\n",
    "    project_name=\"Temperature Forecasting\",     # tên project (nếu chưa có sẽ tự tạo)\n",
    "    task_name=\"Light GBM Optuna Tuning7\", # tên task mới\n",
    "    task_type=Task.TaskTypes.optimizer            # loại task (training / testing / optimizer ...)\n",
    ")\n",
    "\n",
    "# print(\"✅ Task created successfully!\")\n",
    "print(\"Task ID:\", task_lgbm.id)"
   ]
  },
  {
   "cell_type": "code",
   "execution_count": 56,
   "id": "a1fb480d",
   "metadata": {},
   "outputs": [],
   "source": [
    "task_lgbm = Task.get_task(task_id=\"0208e428d4c1472fb035ebd059069c4c\")\n",
    "logger_lgbm = task_lgbm.get_logger()"
   ]
  },
  {
   "cell_type": "code",
   "execution_count": 57,
   "id": "a2ebe5f0",
   "metadata": {},
   "outputs": [],
   "source": [
    "# --- A. Default Hyperparameter Model ---\n",
    "model_lgbm = LGBMRegressor(\n",
    "        objective='regression',\n",
    "        metric='rmse',\n",
    "        n_estimators=100,         \n",
    "        learning_rate=0.1,         \n",
    "        num_leaves=31,             \n",
    "        max_depth=-1,              \n",
    "        min_child_samples=20,      \n",
    "        subsample=1.0,             \n",
    "        colsample_bytree=1.0,      \n",
    "        random_state=42,\n",
    "        n_jobs=-1,\n",
    "        verbose=-1\n",
    "    )\n",
    "model_lgbm.fit(X_train, y_train)\n",
    "\n",
    "y_pred_val = model_lgbm.predict(X_val) \n",
    "y_pred_test = model_lgbm.predict(X_test)"
   ]
  },
  {
   "cell_type": "code",
   "execution_count": 58,
   "id": "a2c9f124",
   "metadata": {},
   "outputs": [],
   "source": [
    "# Lấy feature importance\n",
    "importances_lgbm = model_lgbm.feature_importances_\n",
    "\n",
    "# Tạo DataFrame hiển thị\n",
    "feat_importance_lgbm = pd.DataFrame({\n",
    "    'Feature': X_train.columns,\n",
    "    'Importance': importances_lgbm\n",
    "}).sort_values(by='Importance', ascending=False)\n",
    "\n",
    "#print(feat_importance_lgbm)"
   ]
  },
  {
   "cell_type": "code",
   "execution_count": 59,
   "id": "40cd6513",
   "metadata": {},
   "outputs": [
    {
     "data": {
      "text/plain": [
       "Text(0.5, 0, 'Importance')"
      ]
     },
     "execution_count": 59,
     "metadata": {},
     "output_type": "execute_result"
    },
    {
     "data": {
      "image/png": "[encoded data removed]",
      "text/plain": [
       "<Figure size 1000x600 with 1 Axes>"
      ]
     },
     "metadata": {},
     "output_type": "display_data"
    }
   ],
   "source": [
    "plt.figure(figsize=(10, 6))\n",
    "plt.barh(feat_importance_lgbm['Feature'][:15], feat_importance_lgbm['Importance'][:15])\n",
    "plt.gca().invert_yaxis()\n",
    "plt.title(\"Top 15 Feature Importances (Light GBM)\")\n",
    "plt.xlabel(\"Importance\")\n",
    "#plt.show()"
   ]
  },
  {
   "cell_type": "code",
   "execution_count": 60,
   "id": "ec94b46a",
   "metadata": {},
   "outputs": [
    {
     "name": "stdout",
     "output_type": "stream",
     "text": [
      "Validation metrics: {'RMSE': np.float64(1.4675877700901645), 'R2': 0.9190162522030215, 'MAPE': np.float64(5.036462520011502)}\n",
      "Test metrics: {'RMSE': np.float64(1.3649667662111598), 'R2': 0.9139151074021015, 'MAPE': np.float64(4.304491094350407)}\n",
      "ExtraTree model saved to models/ExTree_model.pkl\n"
     ]
    },
    {
     "data": {
      "text/plain": [
       "True"
      ]
     },
     "execution_count": 60,
     "metadata": {},
     "output_type": "execute_result"
    }
   ],
   "source": [
    "# Đánh giá sơ bộ trước khi tune\n",
    "\n",
    "# 3. Evaluate on validation\n",
    "defEx_val_metrics = evaluate(y_val, y_pred_val)\n",
    "print(\"Validation metrics:\", defEx_val_metrics)\n",
    "\n",
    "# 4. Evaluate on test\n",
    "defEx_test_metrics = evaluate(y_test, y_pred_test)\n",
    "print(\"Test metrics:\", defEx_test_metrics)\n",
    "\n",
    "# 5. Save model \n",
    "model_path = r'models/ExTree_model.pkl' \n",
    "joblib.dump(model_lgbm, model_path)\n",
    "print(f\"ExtraTree model saved to {model_path}\")\n",
    "\n",
    "# 6 Log lên ClearML\n",
    "logger_lgbm.report_scalar(\"Default Metrics\", \"RMSE_val\", defEx_val_metrics[\"RMSE\"], iteration=0)\n",
    "logger_lgbm.report_scalar(\"Default Metrics\", \"R2_val\", defEx_val_metrics[\"R2\"], iteration=0)\n",
    "logger_lgbm.report_scalar(\"Default Metrics\", \"MAPE_val\", defEx_val_metrics[\"MAPE\"], iteration=0)\n",
    "logger_lgbm.report_scalar(\"Default Metrics\", \"RMSE_test\", defEx_test_metrics[\"RMSE\"], iteration=0)\n",
    "logger_lgbm.report_scalar(\"Default Metrics\", \"R2_test\", defEx_test_metrics[\"R2\"], iteration=0)\n",
    "logger_lgbm.report_scalar(\"Default Metrics\", \"MAPE_test\", defEx_test_metrics[\"MAPE\"], iteration=0)\n",
    "\n",
    "\n",
    "task_lgbm.upload_artifact(\"Default Metrics\", {\n",
    "    \"Validation\": defEx_val_metrics,\n",
    "    \"Test\": defEx_test_metrics\n",
    "})"
   ]
  },
  {
   "cell_type": "code",
   "execution_count": 61,
   "id": "81cc7a6e",
   "metadata": {},
   "outputs": [
    {
     "name": "stderr",
     "output_type": "stream",
     "text": [
      "[I 2025-10-24 00:22:51,161] A new study created in memory with name: no-name-a9985fbf-5ce4-4b9f-86be-b481719c63d7\n",
      "Best trial: 0. Best value: 1.61046:   2%|▏         | 1/50 [00:01<00:52,  1.08s/it]"
     ]
    },
    {
     "name": "stdout",
     "output_type": "stream",
     "text": [
      "[I 2025-10-24 00:22:52,242] Trial 0 finished with value: 1.6104607144247907 and parameters: {'n_estimators': 406, 'learning_rate': 0.2536999076681772, 'num_leaves': 188, 'max_depth': 10, 'min_child_samples': 19, 'subsample': 0.662397808134481, 'colsample_bytree': 0.6232334448672797, 'reg_alpha': 0.8661761457749352, 'reg_lambda': 0.6011150117432088}. Best is trial 0 with value: 1.6104607144247907.\n"
     ]
    },
    {
     "name": "stderr",
     "output_type": "stream",
     "text": [
      "Best trial: 1. Best value: 1.48346:   4%|▍         | 2/50 [00:04<01:47,  2.23s/it]"
     ]
    },
    {
     "name": "stdout",
     "output_type": "stream",
     "text": [
      "[I 2025-10-24 00:22:55,283] Trial 1 finished with value: 1.4834585076647104 and parameters: {'n_estimators': 723, 'learning_rate': 0.010725209743171996, 'num_leaves': 249, 'max_depth': 13, 'min_child_samples': 25, 'subsample': 0.6727299868828402, 'colsample_bytree': 0.6733618039413735, 'reg_alpha': 0.3042422429595377, 'reg_lambda': 0.5247564316322378}. Best is trial 1 with value: 1.4834585076647104.\n"
     ]
    },
    {
     "name": "stderr",
     "output_type": "stream",
     "text": [
      "Best trial: 1. Best value: 1.48346:   6%|▌         | 3/50 [00:04<01:10,  1.50s/it]"
     ]
    },
    {
     "name": "stdout",
     "output_type": "stream",
     "text": [
      "[I 2025-10-24 00:22:55,919] Trial 2 finished with value: 1.4888608749712893 and parameters: {'n_estimators': 460, 'learning_rate': 0.02692655251486473, 'num_leaves': 158, 'max_depth': 4, 'min_child_samples': 33, 'subsample': 0.7465447373174767, 'colsample_bytree': 0.7824279936868144, 'reg_alpha': 0.7851759613930136, 'reg_lambda': 0.19967378215835974}. Best is trial 1 with value: 1.4834585076647104.\n"
     ]
    },
    {
     "name": "stderr",
     "output_type": "stream",
     "text": [
      "Best trial: 1. Best value: 1.48346:   8%|▊         | 4/50 [00:05<01:01,  1.34s/it]"
     ]
    },
    {
     "name": "stdout",
     "output_type": "stream",
     "text": [
      "[I 2025-10-24 00:22:57,006] Trial 3 finished with value: 1.519901885278316 and parameters: {'n_estimators': 539, 'learning_rate': 0.07500118950416987, 'num_leaves': 13, 'max_depth': 10, 'min_child_samples': 21, 'subsample': 0.6260206371941118, 'colsample_bytree': 0.9795542149013333, 'reg_alpha': 0.9656320330745594, 'reg_lambda': 0.8083973481164611}. Best is trial 1 with value: 1.4834585076647104.\n"
     ]
    },
    {
     "name": "stderr",
     "output_type": "stream",
     "text": [
      "Best trial: 1. Best value: 1.48346:  10%|█         | 5/50 [00:07<01:06,  1.48s/it]"
     ]
    },
    {
     "name": "stdout",
     "output_type": "stream",
     "text": [
      "[I 2025-10-24 00:22:58,736] Trial 4 finished with value: 1.4925929334869612 and parameters: {'n_estimators': 339, 'learning_rate': 0.013940346079873234, 'num_leaves': 176, 'max_depth': 8, 'min_child_samples': 16, 'subsample': 0.798070764044508, 'colsample_bytree': 0.6137554084460873, 'reg_alpha': 0.9093204020787821, 'reg_lambda': 0.2587799816000169}. Best is trial 1 with value: 1.4834585076647104.\n"
     ]
    },
    {
     "name": "stderr",
     "output_type": "stream",
     "text": [
      "Best trial: 1. Best value: 1.48346:  12%|█▏        | 6/50 [00:10<01:23,  1.91s/it]"
     ]
    },
    {
     "name": "stdout",
     "output_type": "stream",
     "text": [
      "[I 2025-10-24 00:23:01,470] Trial 5 finished with value: 1.5209547797375453 and parameters: {'n_estimators': 680, 'learning_rate': 0.028869220380495747, 'num_leaves': 134, 'max_depth': 10, 'min_child_samples': 22, 'subsample': 0.9878338511058234, 'colsample_bytree': 0.9100531293444458, 'reg_alpha': 0.9394989415641891, 'reg_lambda': 0.8948273504276488}. Best is trial 1 with value: 1.4834585076647104.\n"
     ]
    },
    {
     "name": "stderr",
     "output_type": "stream",
     "text": [
      "Best trial: 1. Best value: 1.48346:  14%|█▍        | 7/50 [00:11<01:07,  1.57s/it]"
     ]
    },
    {
     "name": "stdout",
     "output_type": "stream",
     "text": [
      "[I 2025-10-24 00:23:02,358] Trial 6 finished with value: 1.5396380865186683 and parameters: {'n_estimators': 618, 'learning_rate': 0.22999586428143728, 'num_leaves': 24, 'max_depth': 5, 'min_child_samples': 9, 'subsample': 0.7301321323053057, 'colsample_bytree': 0.7554709158757928, 'reg_alpha': 0.2713490317738959, 'reg_lambda': 0.8287375091519293}. Best is trial 1 with value: 1.4834585076647104.\n"
     ]
    },
    {
     "name": "stderr",
     "output_type": "stream",
     "text": [
      "Best trial: 1. Best value: 1.48346:  18%|█▊        | 9/50 [00:11<00:36,  1.11it/s]"
     ]
    },
    {
     "name": "stdout",
     "output_type": "stream",
     "text": [
      "[I 2025-10-24 00:23:02,824] Trial 7 finished with value: 1.5045081784517227 and parameters: {'n_estimators': 389, 'learning_rate': 0.026000059117302653, 'num_leaves': 140, 'max_depth': 4, 'min_child_samples': 82, 'subsample': 0.6298202574719083, 'colsample_bytree': 0.9947547746402069, 'reg_alpha': 0.7722447692966574, 'reg_lambda': 0.1987156815341724}. Best is trial 1 with value: 1.4834585076647104.\n",
      "[I 2025-10-24 00:23:03,017] Trial 8 finished with value: 1.5218663239170813 and parameters: {'n_estimators': 55, 'learning_rate': 0.1601531217136121, 'num_leaves': 182, 'max_depth': 12, 'min_child_samples': 79, 'subsample': 0.6296178606936361, 'colsample_bytree': 0.7433862914177091, 'reg_alpha': 0.11586905952512971, 'reg_lambda': 0.8631034258755935}. Best is trial 1 with value: 1.4834585076647104.\n"
     ]
    },
    {
     "name": "stderr",
     "output_type": "stream",
     "text": [
      "Best trial: 1. Best value: 1.48346:  20%|██        | 10/50 [00:13<00:40,  1.02s/it]"
     ]
    },
    {
     "name": "stdout",
     "output_type": "stream",
     "text": [
      "[I 2025-10-24 00:23:04,317] Trial 9 finished with value: 1.5039931092888135 and parameters: {'n_estimators': 642, 'learning_rate': 0.030816017044468066, 'num_leaves': 18, 'max_depth': 7, 'min_child_samples': 36, 'subsample': 0.8918424713352255, 'colsample_bytree': 0.8550229885420852, 'reg_alpha': 0.8872127425763265, 'reg_lambda': 0.4722149251619493}. Best is trial 1 with value: 1.4834585076647104.\n"
     ]
    },
    {
     "name": "stderr",
     "output_type": "stream",
     "text": [
      "Best trial: 1. Best value: 1.48346:  22%|██▏       | 11/50 [00:15<00:54,  1.39s/it]"
     ]
    },
    {
     "name": "stdout",
     "output_type": "stream",
     "text": [
      "[I 2025-10-24 00:23:06,525] Trial 10 finished with value: 1.4926884001862715 and parameters: {'n_estimators': 970, 'learning_rate': 0.010206070557577008, 'num_leaves': 249, 'max_depth': 15, 'min_child_samples': 59, 'subsample': 0.876098829427658, 'colsample_bytree': 0.7021773835060796, 'reg_alpha': 0.40402607201864477, 'reg_lambda': 0.4792951727359478}. Best is trial 1 with value: 1.4834585076647104.\n"
     ]
    },
    {
     "name": "stderr",
     "output_type": "stream",
     "text": [
      "Best trial: 1. Best value: 1.48346:  24%|██▍       | 12/50 [00:17<01:06,  1.75s/it]"
     ]
    },
    {
     "name": "stdout",
     "output_type": "stream",
     "text": [
      "[I 2025-10-24 00:23:09,116] Trial 11 finished with value: 1.5001137773849065 and parameters: {'n_estimators': 909, 'learning_rate': 0.01699223047970666, 'num_leaves': 243, 'max_depth': 14, 'min_child_samples': 45, 'subsample': 0.7370063974951027, 'colsample_bytree': 0.6859627191294981, 'reg_alpha': 0.6071842740332256, 'reg_lambda': 0.009046927318156123}. Best is trial 1 with value: 1.4834585076647104.\n"
     ]
    },
    {
     "name": "stderr",
     "output_type": "stream",
     "text": [
      "Best trial: 1. Best value: 1.48346:  26%|██▌       | 13/50 [00:18<00:53,  1.45s/it]"
     ]
    },
    {
     "name": "stdout",
     "output_type": "stream",
     "text": [
      "[I 2025-10-24 00:23:09,863] Trial 12 finished with value: 1.5426568913692917 and parameters: {'n_estimators': 805, 'learning_rate': 0.058261802534285465, 'num_leaves': 79, 'max_depth': 3, 'min_child_samples': 57, 'subsample': 0.715850780023381, 'colsample_bytree': 0.815848042721119, 'reg_alpha': 0.5992087187997686, 'reg_lambda': 0.2944068495666103}. Best is trial 1 with value: 1.4834585076647104.\n"
     ]
    },
    {
     "name": "stderr",
     "output_type": "stream",
     "text": [
      "Best trial: 1. Best value: 1.48346:  28%|██▊       | 14/50 [00:19<00:41,  1.14s/it]"
     ]
    },
    {
     "name": "stdout",
     "output_type": "stream",
     "text": [
      "[I 2025-10-24 00:23:10,308] Trial 13 finished with value: 1.5131198376403043 and parameters: {'n_estimators': 169, 'learning_rate': 0.01892380376353781, 'num_leaves': 84, 'max_depth': 6, 'min_child_samples': 36, 'subsample': 0.7987586652315627, 'colsample_bytree': 0.6966219731921359, 'reg_alpha': 0.3473443561556252, 'reg_lambda': 0.64208794318194}. Best is trial 1 with value: 1.4834585076647104.\n"
     ]
    },
    {
     "name": "stderr",
     "output_type": "stream",
     "text": [
      "Best trial: 1. Best value: 1.48346:  30%|███       | 15/50 [00:21<00:55,  1.60s/it]"
     ]
    },
    {
     "name": "stdout",
     "output_type": "stream",
     "text": [
      "[I 2025-10-24 00:23:12,955] Trial 14 finished with value: 1.5215299596689715 and parameters: {'n_estimators': 744, 'learning_rate': 0.04424937591236206, 'num_leaves': 214, 'max_depth': 13, 'min_child_samples': 35, 'subsample': 0.6939187182384499, 'colsample_bytree': 0.796840732144714, 'reg_alpha': 0.12476602449473986, 'reg_lambda': 0.09086840375111392}. Best is trial 1 with value: 1.4834585076647104.\n"
     ]
    },
    {
     "name": "stderr",
     "output_type": "stream",
     "text": [
      "Best trial: 1. Best value: 1.48346:  32%|███▏      | 16/50 [00:22<00:50,  1.48s/it]"
     ]
    },
    {
     "name": "stdout",
     "output_type": "stream",
     "text": [
      "[I 2025-10-24 00:23:14,161] Trial 15 finished with value: 1.50526259320585 and parameters: {'n_estimators': 454, 'learning_rate': 0.010433904133257729, 'num_leaves': 97, 'max_depth': 12, 'min_child_samples': 67, 'subsample': 0.7673635839576047, 'colsample_bytree': 0.8674582886269184, 'reg_alpha': 0.6705451426048863, 'reg_lambda': 0.43451435782595793}. Best is trial 1 with value: 1.4834585076647104.\n"
     ]
    },
    {
     "name": "stderr",
     "output_type": "stream",
     "text": [
      "Best trial: 1. Best value: 1.48346:  34%|███▍      | 17/50 [00:25<00:56,  1.72s/it]"
     ]
    },
    {
     "name": "stdout",
     "output_type": "stream",
     "text": [
      "[I 2025-10-24 00:23:16,425] Trial 16 finished with value: 1.510530556732527 and parameters: {'n_estimators': 843, 'learning_rate': 0.08801819602632835, 'num_leaves': 216, 'max_depth': 8, 'min_child_samples': 5, 'subsample': 0.8720139949842398, 'colsample_bytree': 0.6512694504817759, 'reg_alpha': 0.47866936071859034, 'reg_lambda': 0.3583902847905419}. Best is trial 1 with value: 1.4834585076647104.\n"
     ]
    },
    {
     "name": "stderr",
     "output_type": "stream",
     "text": [
      "Best trial: 1. Best value: 1.48346:  36%|███▌      | 18/50 [00:26<00:47,  1.47s/it]"
     ]
    },
    {
     "name": "stdout",
     "output_type": "stream",
     "text": [
      "[I 2025-10-24 00:23:17,330] Trial 17 finished with value: 1.4924535800962635 and parameters: {'n_estimators': 252, 'learning_rate': 0.042055725241708065, 'num_leaves': 153, 'max_depth': 12, 'min_child_samples': 48, 'subsample': 0.6732315708885339, 'colsample_bytree': 0.7544273033878155, 'reg_alpha': 0.23951225471837512, 'reg_lambda': 0.6556498190600932}. Best is trial 1 with value: 1.4834585076647104.\n"
     ]
    },
    {
     "name": "stderr",
     "output_type": "stream",
     "text": [
      "Best trial: 1. Best value: 1.48346:  38%|███▊      | 19/50 [00:26<00:37,  1.22s/it]"
     ]
    },
    {
     "name": "stdout",
     "output_type": "stream",
     "text": [
      "[I 2025-10-24 00:23:17,956] Trial 18 finished with value: 1.4931152391586366 and parameters: {'n_estimators': 591, 'learning_rate': 0.021069676640142868, 'num_leaves': 54, 'max_depth': 3, 'min_child_samples': 28, 'subsample': 0.8366070683982902, 'colsample_bytree': 0.7976507673645237, 'reg_alpha': 0.6914344988956265, 'reg_lambda': 0.1643967376099857}. Best is trial 1 with value: 1.4834585076647104.\n"
     ]
    },
    {
     "name": "stderr",
     "output_type": "stream",
     "text": [
      "Best trial: 1. Best value: 1.48346:  40%|████      | 20/50 [00:27<00:34,  1.15s/it]"
     ]
    },
    {
     "name": "stdout",
     "output_type": "stream",
     "text": [
      "[I 2025-10-24 00:23:18,932] Trial 19 finished with value: 1.4942555223216658 and parameters: {'n_estimators': 488, 'learning_rate': 0.013991038367899857, 'num_leaves': 107, 'max_depth': 15, 'min_child_samples': 68, 'subsample': 0.7642025555264566, 'colsample_bytree': 0.6567104234717263, 'reg_alpha': 0.45366053575028714, 'reg_lambda': 0.3534692325095147}. Best is trial 1 with value: 1.4834585076647104.\n"
     ]
    },
    {
     "name": "stderr",
     "output_type": "stream",
     "text": [
      "Best trial: 1. Best value: 1.48346:  42%|████▏     | 21/50 [00:28<00:32,  1.12s/it]"
     ]
    },
    {
     "name": "stdout",
     "output_type": "stream",
     "text": [
      "[I 2025-10-24 00:23:19,994] Trial 20 finished with value: 1.6026076903541817 and parameters: {'n_estimators': 742, 'learning_rate': 0.11005791941043674, 'num_leaves': 221, 'max_depth': 6, 'min_child_samples': 95, 'subsample': 0.9614035607563236, 'colsample_bytree': 0.9177821035896214, 'reg_alpha': 0.011620961627553272, 'reg_lambda': 0.9938427850497087}. Best is trial 1 with value: 1.4834585076647104.\n"
     ]
    },
    {
     "name": "stderr",
     "output_type": "stream",
     "text": [
      "Best trial: 1. Best value: 1.48346:  44%|████▍     | 22/50 [00:29<00:28,  1.02s/it]"
     ]
    },
    {
     "name": "stdout",
     "output_type": "stream",
     "text": [
      "[I 2025-10-24 00:23:20,767] Trial 21 finished with value: 1.5032492652736371 and parameters: {'n_estimators': 279, 'learning_rate': 0.04285150252074264, 'num_leaves': 154, 'max_depth': 12, 'min_child_samples': 47, 'subsample': 0.6715011565469081, 'colsample_bytree': 0.7431809610203663, 'reg_alpha': 0.2895492452060503, 'reg_lambda': 0.6466669471993522}. Best is trial 1 with value: 1.4834585076647104.\n"
     ]
    },
    {
     "name": "stderr",
     "output_type": "stream",
     "text": [
      "Best trial: 22. Best value: 1.47968:  46%|████▌     | 23/50 [00:30<00:24,  1.10it/s]"
     ]
    },
    {
     "name": "stdout",
     "output_type": "stream",
     "text": [
      "[I 2025-10-24 00:23:21,437] Trial 22 finished with value: 1.4796785969709965 and parameters: {'n_estimators': 229, 'learning_rate': 0.037073700845267156, 'num_leaves': 155, 'max_depth': 11, 'min_child_samples': 44, 'subsample': 0.6730396214365393, 'colsample_bytree': 0.7267340845030492, 'reg_alpha': 0.21153958273338241, 'reg_lambda': 0.7242630922111837}. Best is trial 22 with value: 1.4796785969709965.\n"
     ]
    },
    {
     "name": "stderr",
     "output_type": "stream",
     "text": [
      "Best trial: 22. Best value: 1.47968:  48%|████▊     | 24/50 [00:30<00:22,  1.18it/s]"
     ]
    },
    {
     "name": "stdout",
     "output_type": "stream",
     "text": [
      "[I 2025-10-24 00:23:22,142] Trial 23 finished with value: 1.484832474610639 and parameters: {'n_estimators': 148, 'learning_rate': 0.03476945195940975, 'num_leaves': 199, 'max_depth': 11, 'min_child_samples': 30, 'subsample': 0.7024138525502907, 'colsample_bytree': 0.7207299397203465, 'reg_alpha': 0.17392714953607313, 'reg_lambda': 0.7510882509824127}. Best is trial 22 with value: 1.4796785969709965.\n"
     ]
    },
    {
     "name": "stderr",
     "output_type": "stream",
     "text": [
      "Best trial: 22. Best value: 1.47968:  50%|█████     | 25/50 [00:31<00:17,  1.39it/s]"
     ]
    },
    {
     "name": "stdout",
     "output_type": "stream",
     "text": [
      "[I 2025-10-24 00:23:22,549] Trial 24 finished with value: 1.4852927257927562 and parameters: {'n_estimators': 71, 'learning_rate': 0.06682224013041096, 'num_leaves': 201, 'max_depth': 11, 'min_child_samples': 28, 'subsample': 0.6089145049038844, 'colsample_bytree': 0.7002347311595115, 'reg_alpha': 0.1696233037043374, 'reg_lambda': 0.7414450168878227}. Best is trial 22 with value: 1.4796785969709965.\n"
     ]
    },
    {
     "name": "stderr",
     "output_type": "stream",
     "text": [
      "Best trial: 25. Best value: 1.47459:  52%|█████▏    | 26/50 [00:31<00:16,  1.47it/s]"
     ]
    },
    {
     "name": "stdout",
     "output_type": "stream",
     "text": [
      "[I 2025-10-24 00:23:23,142] Trial 25 finished with value: 1.4745853836118137 and parameters: {'n_estimators': 181, 'learning_rate': 0.03535541139245488, 'num_leaves': 240, 'max_depth': 13, 'min_child_samples': 42, 'subsample': 0.7010167689421148, 'colsample_bytree': 0.6605184319353712, 'reg_alpha': 0.020992816677700032, 'reg_lambda': 0.5641493403440335}. Best is trial 25 with value: 1.4745853836118137.\n"
     ]
    },
    {
     "name": "stderr",
     "output_type": "stream",
     "text": [
      "Best trial: 25. Best value: 1.47459:  54%|█████▍    | 27/50 [00:32<00:17,  1.34it/s]"
     ]
    },
    {
     "name": "stdout",
     "output_type": "stream",
     "text": [
      "[I 2025-10-24 00:23:24,039] Trial 26 finished with value: 1.545898870826281 and parameters: {'n_estimators': 220, 'learning_rate': 0.11277661172347543, 'num_leaves': 234, 'max_depth': 14, 'min_child_samples': 42, 'subsample': 0.6619343009332945, 'colsample_bytree': 0.6506090757484941, 'reg_alpha': 0.025328595278902633, 'reg_lambda': 0.5535387686722112}. Best is trial 25 with value: 1.4745853836118137.\n"
     ]
    },
    {
     "name": "stderr",
     "output_type": "stream",
     "text": [
      "Best trial: 25. Best value: 1.47459:  56%|█████▌    | 28/50 [00:33<00:16,  1.30it/s]"
     ]
    },
    {
     "name": "stdout",
     "output_type": "stream",
     "text": [
      "[I 2025-10-24 00:23:24,871] Trial 27 finished with value: 1.5112784579621215 and parameters: {'n_estimators': 318, 'learning_rate': 0.05020671455211381, 'num_leaves': 234, 'max_depth': 13, 'min_child_samples': 55, 'subsample': 0.6891855650014052, 'colsample_bytree': 0.6585319947526904, 'reg_alpha': 0.08067831169843259, 'reg_lambda': 0.525578146814522}. Best is trial 25 with value: 1.4745853836118137.\n"
     ]
    },
    {
     "name": "stderr",
     "output_type": "stream",
     "text": [
      "Best trial: 25. Best value: 1.47459:  58%|█████▊    | 29/50 [00:34<00:14,  1.46it/s]"
     ]
    },
    {
     "name": "stdout",
     "output_type": "stream",
     "text": [
      "[I 2025-10-24 00:23:25,354] Trial 28 finished with value: 1.5311142955169852 and parameters: {'n_estimators': 142, 'learning_rate': 0.02256006021358721, 'num_leaves': 254, 'max_depth': 14, 'min_child_samples': 41, 'subsample': 0.6469282854040203, 'colsample_bytree': 0.6160280931301652, 'reg_alpha': 0.3648858887172245, 'reg_lambda': 0.7124947825754071}. Best is trial 25 with value: 1.4745853836118137.\n"
     ]
    },
    {
     "name": "stderr",
     "output_type": "stream",
     "text": [
      "Best trial: 25. Best value: 1.47459:  60%|██████    | 30/50 [00:36<00:23,  1.16s/it]"
     ]
    },
    {
     "name": "stdout",
     "output_type": "stream",
     "text": [
      "[I 2025-10-24 00:23:27,620] Trial 29 finished with value: 1.4938100272182873 and parameters: {'n_estimators': 376, 'learning_rate': 0.0140047954012614, 'num_leaves': 168, 'max_depth': 11, 'min_child_samples': 16, 'subsample': 0.6010603166303072, 'colsample_bytree': 0.6036691172680716, 'reg_alpha': 0.20885447300979176, 'reg_lambda': 0.5769383079445419}. Best is trial 25 with value: 1.4745853836118137.\n"
     ]
    },
    {
     "name": "stderr",
     "output_type": "stream",
     "text": [
      "Best trial: 25. Best value: 1.47459:  62%|██████▏   | 31/50 [00:37<00:22,  1.21s/it]"
     ]
    },
    {
     "name": "stdout",
     "output_type": "stream",
     "text": [
      "[I 2025-10-24 00:23:28,945] Trial 30 finished with value: 1.5201149842220305 and parameters: {'n_estimators': 547, 'learning_rate': 0.037161448721430596, 'num_leaves': 195, 'max_depth': 9, 'min_child_samples': 53, 'subsample': 0.773536315881101, 'colsample_bytree': 0.7230189679414286, 'reg_alpha': 0.3132109054209895, 'reg_lambda': 0.3959237727783301}. Best is trial 25 with value: 1.4745853836118137.\n"
     ]
    },
    {
     "name": "stderr",
     "output_type": "stream",
     "text": [
      "Best trial: 25. Best value: 1.47459:  64%|██████▍   | 32/50 [00:38<00:18,  1.05s/it]"
     ]
    },
    {
     "name": "stdout",
     "output_type": "stream",
     "text": [
      "[I 2025-10-24 00:23:29,640] Trial 31 finished with value: 1.4803314588039513 and parameters: {'n_estimators': 140, 'learning_rate': 0.03553793604183132, 'num_leaves': 204, 'max_depth': 11, 'min_child_samples': 27, 'subsample': 0.7075384777286414, 'colsample_bytree': 0.6776752050027633, 'reg_alpha': 0.18784011905209202, 'reg_lambda': 0.7366197334645432}. Best is trial 25 with value: 1.4745853836118137.\n"
     ]
    },
    {
     "name": "stderr",
     "output_type": "stream",
     "text": [
      "Best trial: 25. Best value: 1.47459:  66%|██████▌   | 33/50 [00:39<00:17,  1.04s/it]"
     ]
    },
    {
     "name": "stdout",
     "output_type": "stream",
     "text": [
      "[I 2025-10-24 00:23:30,636] Trial 32 finished with value: 1.4971119431075646 and parameters: {'n_estimators': 203, 'learning_rate': 0.058917774302488846, 'num_leaves': 231, 'max_depth': 13, 'min_child_samples': 25, 'subsample': 0.7151142223753031, 'colsample_bytree': 0.6745650004020675, 'reg_alpha': 0.0689938001759009, 'reg_lambda': 0.6008984236501816}. Best is trial 25 with value: 1.4745853836118137.\n"
     ]
    },
    {
     "name": "stderr",
     "output_type": "stream",
     "text": [
      "Best trial: 25. Best value: 1.47459:  68%|██████▊   | 34/50 [00:39<00:13,  1.18it/s]"
     ]
    },
    {
     "name": "stdout",
     "output_type": "stream",
     "text": [
      "[I 2025-10-24 00:23:31,031] Trial 33 finished with value: 1.5569280952976716 and parameters: {'n_estimators': 107, 'learning_rate': 0.024861422417896066, 'num_leaves': 210, 'max_depth': 9, 'min_child_samples': 38, 'subsample': 0.6508316782774582, 'colsample_bytree': 0.6718262986403243, 'reg_alpha': 0.18558974949022322, 'reg_lambda': 0.6989848191124235}. Best is trial 25 with value: 1.4745853836118137.\n"
     ]
    },
    {
     "name": "stderr",
     "output_type": "stream",
     "text": [
      "Best trial: 25. Best value: 1.47459:  70%|███████   | 35/50 [00:41<00:16,  1.10s/it]"
     ]
    },
    {
     "name": "stdout",
     "output_type": "stream",
     "text": [
      "[I 2025-10-24 00:23:32,711] Trial 34 finished with value: 1.5084957547328652 and parameters: {'n_estimators': 283, 'learning_rate': 0.03466826347048089, 'num_leaves': 186, 'max_depth': 10, 'min_child_samples': 14, 'subsample': 0.6850351030654552, 'colsample_bytree': 0.6342778992639416, 'reg_alpha': 0.11962965031970402, 'reg_lambda': 0.9136015492560878}. Best is trial 25 with value: 1.4745853836118137.\n"
     ]
    },
    {
     "name": "stderr",
     "output_type": "stream",
     "text": [
      "Best trial: 25. Best value: 1.47459:  72%|███████▏  | 36/50 [00:42<00:15,  1.09s/it]"
     ]
    },
    {
     "name": "stdout",
     "output_type": "stream",
     "text": [
      "[I 2025-10-24 00:23:33,776] Trial 35 finished with value: 1.4992230119478838 and parameters: {'n_estimators': 200, 'learning_rate': 0.017372632913416005, 'num_leaves': 165, 'max_depth': 11, 'min_child_samples': 20, 'subsample': 0.746765247869304, 'colsample_bytree': 0.7198771767246773, 'reg_alpha': 0.24675016435737734, 'reg_lambda': 0.7918619726908254}. Best is trial 25 with value: 1.4745853836118137.\n"
     ]
    },
    {
     "name": "stderr",
     "output_type": "stream",
     "text": [
      "Best trial: 25. Best value: 1.47459:  74%|███████▍  | 37/50 [00:43<00:11,  1.13it/s]"
     ]
    },
    {
     "name": "stdout",
     "output_type": "stream",
     "text": [
      "[I 2025-10-24 00:23:34,185] Trial 36 finished with value: 1.5240977697325144 and parameters: {'n_estimators': 108, 'learning_rate': 0.09136171314744959, 'num_leaves': 120, 'max_depth': 13, 'min_child_samples': 31, 'subsample': 0.8249574951505665, 'colsample_bytree': 0.6367458486612505, 'reg_alpha': 0.41228179983917546, 'reg_lambda': 0.5060944618370891}. Best is trial 25 with value: 1.4745853836118137.\n"
     ]
    },
    {
     "name": "stderr",
     "output_type": "stream",
     "text": [
      "Best trial: 25. Best value: 1.47459:  76%|███████▌  | 38/50 [00:44<00:13,  1.11s/it]"
     ]
    },
    {
     "name": "stdout",
     "output_type": "stream",
     "text": [
      "[I 2025-10-24 00:23:35,827] Trial 37 finished with value: 1.5023607416140077 and parameters: {'n_estimators': 424, 'learning_rate': 0.02819782070565746, 'num_leaves': 256, 'max_depth': 10, 'min_child_samples': 23, 'subsample': 0.7168280614849236, 'colsample_bytree': 0.77459627385957, 'reg_alpha': 0.542143855793352, 'reg_lambda': 0.6753144921494529}. Best is trial 25 with value: 1.4745853836118137.\n"
     ]
    },
    {
     "name": "stderr",
     "output_type": "stream",
     "text": [
      "Best trial: 25. Best value: 1.47459:  78%|███████▊  | 39/50 [00:46<00:15,  1.40s/it]"
     ]
    },
    {
     "name": "stdout",
     "output_type": "stream",
     "text": [
      "[I 2025-10-24 00:23:37,917] Trial 38 finished with value: 1.5156889403521832 and parameters: {'n_estimators': 313, 'learning_rate': 0.04925889576573655, 'num_leaves': 228, 'max_depth': 14, 'min_child_samples': 12, 'subsample': 0.6318672713332886, 'colsample_bytree': 0.6279726021666024, 'reg_alpha': 0.039713225358783626, 'reg_lambda': 0.7848943834379494}. Best is trial 25 with value: 1.4745853836118137.\n"
     ]
    },
    {
     "name": "stderr",
     "output_type": "stream",
     "text": [
      "Best trial: 25. Best value: 1.47459:  80%|████████  | 40/50 [00:47<00:12,  1.26s/it]"
     ]
    },
    {
     "name": "stdout",
     "output_type": "stream",
     "text": [
      "[I 2025-10-24 00:23:38,824] Trial 39 finished with value: 1.630643867384585 and parameters: {'n_estimators': 378, 'learning_rate': 0.2161512504601447, 'num_leaves': 141, 'max_depth': 12, 'min_child_samples': 62, 'subsample': 0.6533163615930541, 'colsample_bytree': 0.6774299510005038, 'reg_alpha': 0.14203205945160818, 'reg_lambda': 0.6215099220696408}. Best is trial 25 with value: 1.4745853836118137.\n"
     ]
    },
    {
     "name": "stderr",
     "output_type": "stream",
     "text": [
      "Best trial: 25. Best value: 1.47459:  82%|████████▏ | 41/50 [00:49<00:12,  1.38s/it]"
     ]
    },
    {
     "name": "stdout",
     "output_type": "stream",
     "text": [
      "[I 2025-10-24 00:23:40,507] Trial 40 finished with value: 1.487243098086736 and parameters: {'n_estimators': 687, 'learning_rate': 0.011840161496799036, 'num_leaves': 178, 'max_depth': 8, 'min_child_samples': 50, 'subsample': 0.7446370238715672, 'colsample_bytree': 0.7300725571610435, 'reg_alpha': 0.317820940294554, 'reg_lambda': 0.8340023920549832}. Best is trial 25 with value: 1.4745853836118137.\n"
     ]
    },
    {
     "name": "stderr",
     "output_type": "stream",
     "text": [
      "Best trial: 25. Best value: 1.47459:  84%|████████▍ | 42/50 [00:50<00:10,  1.31s/it]"
     ]
    },
    {
     "name": "stdout",
     "output_type": "stream",
     "text": [
      "[I 2025-10-24 00:23:41,648] Trial 41 finished with value: 1.4846995242270917 and parameters: {'n_estimators': 148, 'learning_rate': 0.03429214607459629, 'num_leaves': 192, 'max_depth': 11, 'min_child_samples': 30, 'subsample': 0.6998162588973983, 'colsample_bytree': 0.7711039538668426, 'reg_alpha': 0.21216483471668718, 'reg_lambda': 0.7500573717641517}. Best is trial 25 with value: 1.4745853836118137.\n"
     ]
    },
    {
     "name": "stderr",
     "output_type": "stream",
     "text": [
      "Best trial: 25. Best value: 1.47459:  86%|████████▌ | 43/50 [00:54<00:14,  2.06s/it]"
     ]
    },
    {
     "name": "stdout",
     "output_type": "stream",
     "text": [
      "[I 2025-10-24 00:23:45,456] Trial 42 finished with value: 1.52219728927763 and parameters: {'n_estimators': 103, 'learning_rate': 0.030474757454922525, 'num_leaves': 203, 'max_depth': 9, 'min_child_samples': 25, 'subsample': 0.706113634919691, 'colsample_bytree': 0.8330663743696199, 'reg_alpha': 0.2322994537019237, 'reg_lambda': 0.91738985170924}. Best is trial 25 with value: 1.4745853836118137.\n"
     ]
    },
    {
     "name": "stderr",
     "output_type": "stream",
     "text": [
      "Best trial: 25. Best value: 1.47459:  88%|████████▊ | 44/50 [00:55<00:11,  1.93s/it]"
     ]
    },
    {
     "name": "stdout",
     "output_type": "stream",
     "text": [
      "[I 2025-10-24 00:23:47,080] Trial 43 finished with value: 1.7265598758986922 and parameters: {'n_estimators': 52, 'learning_rate': 0.036543426726893605, 'num_leaves': 239, 'max_depth': 11, 'min_child_samples': 42, 'subsample': 0.6797564736856957, 'colsample_bytree': 0.7697846231481719, 'reg_alpha': 0.08667749331269929, 'reg_lambda': 0.7491689593491082}. Best is trial 25 with value: 1.4745853836118137.\n"
     ]
    },
    {
     "name": "stderr",
     "output_type": "stream",
     "text": [
      "Best trial: 25. Best value: 1.47459:  90%|█████████ | 45/50 [01:01<00:15,  3.16s/it]"
     ]
    },
    {
     "name": "stdout",
     "output_type": "stream",
     "text": [
      "[I 2025-10-24 00:23:53,102] Trial 44 finished with value: 1.5053604915137775 and parameters: {'n_estimators': 244, 'learning_rate': 0.06557427886289512, 'num_leaves': 192, 'max_depth': 10, 'min_child_samples': 33, 'subsample': 0.722028599358516, 'colsample_bytree': 0.7061812135575102, 'reg_alpha': 0.27993182156272417, 'reg_lambda': 0.5459137021222557}. Best is trial 25 with value: 1.4745853836118137.\n"
     ]
    },
    {
     "name": "stderr",
     "output_type": "stream",
     "text": [
      "Best trial: 25. Best value: 1.47459:  92%|█████████▏| 46/50 [01:12<00:21,  5.34s/it]"
     ]
    },
    {
     "name": "stdout",
     "output_type": "stream",
     "text": [
      "[I 2025-10-24 00:24:03,528] Trial 45 finished with value: 1.4899848767691704 and parameters: {'n_estimators': 187, 'learning_rate': 0.02415136003021407, 'num_leaves': 174, 'max_depth': 13, 'min_child_samples': 18, 'subsample': 0.6391679125192807, 'colsample_bytree': 0.7431501643288505, 'reg_alpha': 0.3694439082604318, 'reg_lambda': 0.44784018967689754}. Best is trial 25 with value: 1.4745853836118137.\n"
     ]
    },
    {
     "name": "stderr",
     "output_type": "stream",
     "text": [
      "Best trial: 25. Best value: 1.47459:  94%|█████████▍| 47/50 [01:15<00:14,  4.78s/it]"
     ]
    },
    {
     "name": "stdout",
     "output_type": "stream",
     "text": [
      "[I 2025-10-24 00:24:07,010] Trial 46 finished with value: 1.5661177273121911 and parameters: {'n_estimators': 130, 'learning_rate': 0.020514168102375326, 'num_leaves': 245, 'max_depth': 15, 'min_child_samples': 39, 'subsample': 0.6175477443055092, 'colsample_bytree': 0.6852050227594195, 'reg_alpha': 0.19237441222958604, 'reg_lambda': 0.8587148304326301}. Best is trial 25 with value: 1.4745853836118137.\n"
     ]
    },
    {
     "name": "stderr",
     "output_type": "stream",
     "text": [
      "Best trial: 25. Best value: 1.47459:  96%|█████████▌| 48/50 [01:37<00:19,  9.99s/it]"
     ]
    },
    {
     "name": "stdout",
     "output_type": "stream",
     "text": [
      "[I 2025-10-24 00:24:29,144] Trial 47 finished with value: 1.5247128745933904 and parameters: {'n_estimators': 994, 'learning_rate': 0.029920004761043277, 'num_leaves': 221, 'max_depth': 12, 'min_child_samples': 45, 'subsample': 0.7838554919115773, 'colsample_bytree': 0.7610940678844151, 'reg_alpha': 0.13955135488086617, 'reg_lambda': 0.7002727619671392}. Best is trial 25 with value: 1.4745853836118137.\n"
     ]
    },
    {
     "name": "stderr",
     "output_type": "stream",
     "text": [
      "Best trial: 25. Best value: 1.47459:  98%|█████████▊| 49/50 [01:41<00:08,  8.13s/it]"
     ]
    },
    {
     "name": "stdout",
     "output_type": "stream",
     "text": [
      "[I 2025-10-24 00:24:32,963] Trial 48 finished with value: 1.5680688990275091 and parameters: {'n_estimators': 164, 'learning_rate': 0.01595620166081445, 'num_leaves': 144, 'max_depth': 11, 'min_child_samples': 10, 'subsample': 0.7378557993891562, 'colsample_bytree': 0.818167498830793, 'reg_alpha': 0.2582325309229212, 'reg_lambda': 0.5888787075468495}. Best is trial 25 with value: 1.4745853836118137.\n"
     ]
    },
    {
     "name": "stderr",
     "output_type": "stream",
     "text": [
      "Best trial: 25. Best value: 1.47459: 100%|██████████| 50/50 [01:43<00:00,  2.07s/it]"
     ]
    },
    {
     "name": "stdout",
     "output_type": "stream",
     "text": [
      "[I 2025-10-24 00:24:34,620] Trial 49 finished with value: 1.5086566336123945 and parameters: {'n_estimators': 343, 'learning_rate': 0.04765383166239607, 'num_leaves': 182, 'max_depth': 12, 'min_child_samples': 35, 'subsample': 0.6654825503650624, 'colsample_bytree': 0.7840538437519955, 'reg_alpha': 0.05980591981642194, 'reg_lambda': 0.9614536015606393}. Best is trial 25 with value: 1.4745853836118137.\n",
      "Best parameters: {'n_estimators': 181, 'learning_rate': 0.03535541139245488, 'num_leaves': 240, 'max_depth': 13, 'min_child_samples': 42, 'subsample': 0.7010167689421148, 'colsample_bytree': 0.6605184319353712, 'reg_alpha': 0.020992816677700032, 'reg_lambda': 0.5641493403440335}\n",
      "Best RMSE: 1.4745853836118137\n"
     ]
    },
    {
     "name": "stderr",
     "output_type": "stream",
     "text": [
      "\n"
     ]
    }
   ],
   "source": [
    "# --- B. Hyperparameter tuning (Optuna) ---\n",
    "def objective(trial):\n",
    "    params = {\n",
    "        'objective': 'regression',\n",
    "        'metric': 'rmse',\n",
    "        'n_estimators': trial.suggest_int('n_estimators', 50, 1000),\n",
    "        'learning_rate': trial.suggest_float('learning_rate', 0.01, 0.3, log=True),\n",
    "        'num_leaves': trial.suggest_int('num_leaves', 2, 256),\n",
    "        'max_depth': trial.suggest_int('max_depth', 3, 15), \n",
    "        'min_child_samples': trial.suggest_int('min_child_samples', 5, 100),\n",
    "        'subsample': trial.suggest_float('subsample', 0.6, 1.0),\n",
    "        'colsample_bytree': trial.suggest_float('colsample_bytree', 0.6, 1.0),\n",
    "        'reg_alpha': trial.suggest_float('reg_alpha', 0.0, 1.0),\n",
    "        'reg_lambda': trial.suggest_float('reg_lambda', 0.0, 1.0),\n",
    "        'random_state': 42,\n",
    "        'n_jobs': -1,\n",
    "        'verbose': -1 \n",
    "    }\n",
    "\n",
    "    cv = TimeSeriesSplit(n_splits=5)\n",
    "    rmse_scores = []\n",
    "\n",
    "    for train_idx, val_idx in cv.split(X_train):\n",
    "        X_tr, X_val_cv = X_train.iloc[train_idx], X_train.iloc[val_idx]\n",
    "        y_tr, y_val_cv = y_train.iloc[train_idx], y_train.iloc[val_idx]\n",
    "\n",
    "        model = LGBMRegressor(**params)\n",
    "        model.fit(X_tr, y_tr)\n",
    "        y_pred_val_cv = model.predict(X_val_cv)\n",
    "\n",
    "        metrics = evaluate(y_val_cv, y_pred_val_cv)\n",
    "        rmse_scores.append(metrics['RMSE'])\n",
    "\n",
    "    mean_rmse = np.mean(rmse_scores)\n",
    "\n",
    "    logger_lgbm.report_scalar(\n",
    "        title='Optuna Tuning',\n",
    "        series='Trial RMSE',\n",
    "        value=mean_rmse,\n",
    "        iteration=trial.number\n",
    "    )\n",
    "\n",
    "    params_table = pd.DataFrame([params])\n",
    "    logger_lgbm.report_table(\n",
    "        title=f\"Trial {trial.number} Parameters\",\n",
    "        series=\"params\",\n",
    "        iteration=trial.number,\n",
    "        table_plot=params_table\n",
    "    )\n",
    "\n",
    "    return mean_rmse\n",
    "\n",
    "# Chạy Optuna study\n",
    "study_lgbm = optuna.create_study(\n",
    "    direction='minimize',\n",
    "    sampler=sampler\n",
    ")\n",
    "study_lgbm.optimize(objective, n_trials=50, show_progress_bar=True)\n",
    "\n",
    "print(\"Best parameters:\", study_lgbm.best_trial.params)\n",
    "print(\"Best RMSE:\", study_lgbm.best_value)"
   ]
  },
  {
   "cell_type": "code",
   "execution_count": 62,
   "id": "95a9a7c2",
   "metadata": {},
   "outputs": [
    {
     "name": "stdout",
     "output_type": "stream",
     "text": [
      "Validation metrics: {'RMSE': np.float64(1.4644891119109276), 'R2': 0.9193578686157625, 'MAPE': np.float64(5.006440674737391)}\n",
      "Test metrics: {'RMSE': np.float64(1.3484958628505441), 'R2': 0.915980126397003, 'MAPE': np.float64(4.281489655120908)}\n",
      "LGBM model saved to models/Tuning_LGBM_model.pkl\n"
     ]
    },
    {
     "data": {
      "text/plain": [
       "True"
      ]
     },
     "execution_count": 62,
     "metadata": {},
     "output_type": "execute_result"
    }
   ],
   "source": [
    "# === 4 Log kết quả tổng hợp ===\n",
    "task_lgbm.upload_artifact(\"Best Parameters\", study_lgbm.best_trial.params)\n",
    "\n",
    "# Fit lại mô hình với best params\n",
    "best_model_ex = LGBMRegressor(**study_lgbm.best_trial.params)\n",
    "best_model_ex.fit(X_train, y_train)\n",
    "\n",
    "# Predict\n",
    "y_pred_val = best_model_ex.predict(X_val)\n",
    "y_pred_test = best_model_ex.predict(X_test)\n",
    "\n",
    "# Evaluate on validation\n",
    "bestEx_val_metrics = evaluate(y_val, y_pred_val)\n",
    "print(\"Validation metrics:\", bestEx_val_metrics)\n",
    "\n",
    "# Evaluate on test\n",
    "bestEx_test_metrics = evaluate(y_test, y_pred_test)\n",
    "print(\"Test metrics:\", bestEx_test_metrics)\n",
    "\n",
    "\n",
    "# 6 Log lên ClearML\n",
    "logger_lgbm.report_scalar(\"Best Metrics\", \"RMSE_val\", bestEx_val_metrics[\"RMSE\"], iteration=0)\n",
    "logger_lgbm.report_scalar(\"Best Metrics\", \"R2_val\", bestEx_val_metrics[\"R2\"], iteration=0)\n",
    "logger_lgbm.report_scalar(\"Best Metrics\", \"MAPE_val\", bestEx_val_metrics[\"MAPE\"], iteration=0)\n",
    "logger_lgbm.report_scalar(\"Best Metrics\", \"RMSE_test\", bestEx_test_metrics[\"RMSE\"], iteration=0)\n",
    "logger_lgbm.report_scalar(\"Best Metrics\", \"R2_test\", bestEx_test_metrics[\"R2\"], iteration=0)\n",
    "logger_lgbm.report_scalar(\"Best Metrics\", \"MAPE_test\", bestEx_test_metrics[\"MAPE\"], iteration=0)\n",
    "\n",
    "\n",
    "# Upload artifact tổng hợp\n",
    "task_lgbm.upload_artifact(\"Best Metrics\", {\n",
    "    \"Validation\": bestEx_val_metrics,\n",
    "    \"Test\": bestEx_test_metrics\n",
    "})\n",
    "\n",
    "\n",
    "# Save & upload model\n",
    "model_path = r'models/Tuning_LGBM_model.pkl' \n",
    "joblib.dump(best_model_ex, model_path)\n",
    "print(f\"LGBM model saved to {model_path}\")\n",
    "task_lgbm.upload_artifact(\"Best Model\", model_path)"
   ]
  },
  {
   "cell_type": "code",
   "execution_count": 63,
   "id": "c97955b1",
   "metadata": {},
   "outputs": [],
   "source": [
    "# === 6️ Vẽ biểu đồ RMSE theo trial  ===\n",
    "fig2 = plt.figure(figsize=(7, 4))\n",
    "plt.plot([t.value for t in study_lgbm.trials])\n",
    "plt.xlabel(\"Trial\")\n",
    "plt.ylabel(\"RMSE\")\n",
    "plt.title(\"Optuna RMSE per Trial\")\n",
    "\n",
    "logger_lgbm.report_matplotlib_figure(\n",
    "    title=\"Optuna Performance\", \n",
    "    series=\"RMSE Curve\", \n",
    "    figure=fig2,\n",
    "    iteration=len(study_lgbm.trials)\n",
    ")\n",
    "plt.close(fig2)\n"
   ]
  },
  {
   "cell_type": "code",
   "execution_count": 64,
   "id": "14027af1",
   "metadata": {},
   "outputs": [
    {
     "data": {
      "application/vnd.plotly.v1+json": {
       "config": {
        "plotlyServerURL": "https://plot.ly"
       },
       "data": [
        {
         "dimensions": [
          {
           "label": "Objective Value",
           "range": [
            1.4745853836118137,
            1.7265598758986922
           ],
           "values": [
            1.6104607144247907,
            1.4834585076647104,
            1.4888608749712893,
            1.519901885278316,
            1.4925929334869612,
            1.5209547797375453,
            1.5396380865186683,
            1.5045081784517227,
            1.5218663239170813,
            1.5039931092888135,
            1.4926884001862715,
            1.5001137773849065,
            1.5426568913692917,
            1.5131198376403043,
            1.5215299596689715,
            1.50526259320585,
            1.510530556732527,
            1.4924535800962635,
            1.4931152391586366,
            1.4942555223216658,
            1.6026076903541817,
            1.5032492652736371,
            1.4796785969709965,
            1.484832474610639,
            1.4852927257927562,
            1.4745853836118137,
            1.545898870826281,
            1.5112784579621215,
            1.5311142955169852,
            1.4938100272182873,
            1.5201149842220305,
            1.4803314588039513,
            1.4971119431075646,
            1.5569280952976716,
            1.5084957547328652,
            1.4992230119478838,
            1.5240977697325144,
            1.5023607416140077,
            1.5156889403521832,
            1.630643867384585,
            1.487243098086736,
            1.4846995242270917,
            1.52219728927763,
            1.7265598758986922,
            1.5053604915137775,
            1.4899848767691704,
            1.5661177273121911,
            1.5247128745933904,
            1.5680688990275091,
            1.5086566336123945
           ]
          },
          {
           "label": "colsample_bytree",
           "range": [
            0.6036691172680716,
            0.9947547746402069
           ],
           "values": [
            0.6232334448672797,
            0.6733618039413735,
            0.7824279936868144,
            0.9795542149013333,
            0.6137554084460873,
            0.9100531293444458,
            0.7554709158757928,
            0.9947547746402069,
            0.7433862914177091,
            0.8550229885420852,
            0.7021773835060796,
            0.6859627191294981,
            0.815848042721119,
            0.6966219731921359,
            0.796840732144714,
            0.8674582886269184,
            0.6512694504817759,
            0.7544273033878155,
            0.7976507673645237,
            0.6567104234717263,
            0.9177821035896214,
            0.7431809610203663,
            0.7267340845030492,
            0.7207299397203465,
            0.7002347311595115,
            0.6605184319353712,
            0.6506090757484941,
            0.6585319947526904,
            0.6160280931301652,
            0.6036691172680716,
            0.7230189679414286,
            0.6776752050027633,
            0.6745650004020675,
            0.6718262986403243,
            0.6342778992639416,
            0.7198771767246773,
            0.6367458486612505,
            0.77459627385957,
            0.6279726021666024,
            0.6774299510005038,
            0.7300725571610435,
            0.7711039538668426,
            0.8330663743696199,
            0.7697846231481719,
            0.7061812135575102,
            0.7431501643288505,
            0.6852050227594195,
            0.7610940678844151,
            0.818167498830793,
            0.7840538437519955
           ]
          },
          {
           "label": "learning_rate",
           "range": [
            -1.9911414335875195,
            -0.5956796908358509
           ],
           "ticktext": [
            "0.0102",
            "0.1",
            "0.254"
           ],
           "tickvals": [
            -1.9911414335875195,
            -1,
            -0.5956796908358509
           ],
           "values": [
            -0.5956796908358509,
            -1.9695942059580145,
            -1.5698192470197396,
            -1.124931848728292,
            -1.8557264444077681,
            -1.539564944176793,
            -0.6382799732689247,
            -1.5850256645565228,
            -0.795464591625307,
            -1.5112234943453966,
            -1.9911414335875195,
            -1.7697496098626346,
            -1.2346160830694282,
            -1.7229915641562643,
            -1.3540928501577651,
            -1.9815531578943066,
            -1.055427536748303,
            -1.3761748733112935,
            -1.6763421295309242,
            -1.8541500524335186,
            -0.9583787015658156,
            -1.3680339456187933,
            -1.4309340587922914,
            -1.4588021546684808,
            -1.1750789692850048,
            -1.4515441049782307,
            -0.9477809575566981,
            -1.2992381972389173,
            -1.6466597455400356,
            -1.8537232314853422,
            -1.4299073635842359,
            -1.449307798581151,
            -1.2297536675728675,
            -1.604474027320641,
            -1.4600679115618185,
            -1.7601343569636747,
            -1.0392357654521192,
            -1.5497844552295859,
            -1.3075153279460117,
            -0.6652422476789308,
            -1.926642373906145,
            -1.4648053349728316,
            -1.516059742195485,
            -1.4371907306889262,
            -1.1832664767587668,
            -1.6170584078944066,
            -1.6879460899996936,
            -1.5240383417001344,
            -1.7970704835413474,
            -1.3219021736629561
           ]
          },
          {
           "label": "max_depth",
           "range": [
            3,
            15
           ],
           "values": [
            10,
            13,
            4,
            10,
            8,
            10,
            5,
            4,
            12,
            7,
            15,
            14,
            3,
            6,
            13,
            12,
            8,
            12,
            3,
            15,
            6,
            12,
            11,
            11,
            11,
            13,
            14,
            13,
            14,
            11,
            9,
            11,
            13,
            9,
            10,
            11,
            13,
            10,
            14,
            12,
            8,
            11,
            9,
            11,
            10,
            13,
            15,
            12,
            11,
            12
           ]
          },
          {
           "label": "min_child_samples",
           "range": [
            5,
            95
           ],
           "values": [
            19,
            25,
            33,
            21,
            16,
            22,
            9,
            82,
            79,
            36,
            59,
            45,
            57,
            36,
            35,
            67,
            5,
            48,
            28,
            68,
            95,
            47,
            44,
            30,
            28,
            42,
            42,
            55,
            41,
            16,
            53,
            27,
            25,
            38,
            14,
            20,
            31,
            23,
            12,
            62,
            50,
            30,
            25,
            42,
            33,
            18,
            39,
            45,
            10,
            35
           ]
          },
          {
           "label": "n_estimators",
           "range": [
            52,
            994
           ],
           "values": [
            406,
            723,
            460,
            539,
            339,
            680,
            618,
            389,
            55,
            642,
            970,
            909,
            805,
            169,
            744,
            454,
            843,
            252,
            591,
            488,
            742,
            279,
            229,
            148,
            71,
            181,
            220,
            318,
            142,
            376,
            547,
            140,
            203,
            107,
            283,
            200,
            108,
            424,
            313,
            378,
            687,
            148,
            103,
            52,
            244,
            187,
            130,
            994,
            164,
            343
           ]
          },
          {
           "label": "num_leaves",
           "range": [
            13,
            256
           ],
           "values": [
            188,
            249,
            158,
            13,
            176,
            134,
            24,
            140,
            182,
            18,
            249,
            243,
            79,
            84,
            214,
            97,
            216,
            153,
            54,
            107,
            221,
            154,
            155,
            199,
            201,
            240,
            234,
            234,
            254,
            168,
            195,
            204,
            231,
            210,
            186,
            165,
            120,
            256,
            228,
            141,
            178,
            192,
            203,
            239,
            192,
            174,
            245,
            221,
            144,
            182
           ]
          },
          {
           "label": "reg_alpha",
           "range": [
            0.011620961627553272,
            0.9656320330745594
           ],
           "values": [
            0.8661761457749352,
            0.3042422429595377,
            0.7851759613930136,
            0.9656320330745594,
            0.9093204020787821,
            0.9394989415641891,
            0.2713490317738959,
            0.7722447692966574,
            0.11586905952512971,
            0.8872127425763265,
            0.40402607201864477,
            0.6071842740332256,
            0.5992087187997686,
            0.3473443561556252,
            0.12476602449473986,
            0.6705451426048863,
            0.47866936071859034,
            0.23951225471837512,
            0.6914344988956265,
            0.45366053575028714,
            0.011620961627553272,
            0.2895492452060503,
            0.21153958273338241,
            0.17392714953607313,
            0.1696233037043374,
            0.020992816677700032,
            0.025328595278902633,
            0.08067831169843259,
            0.3648858887172245,
            0.20885447300979176,
            0.3132109054209895,
            0.18784011905209202,
            0.0689938001759009,
            0.18558974949022322,
            0.11962965031970402,
            0.24675016435737734,
            0.41228179983917546,
            0.542143855793352,
            0.039713225358783626,
            0.14203205945160818,
            0.317820940294554,
            0.21216483471668718,
            0.2322994537019237,
            0.08667749331269929,
            0.27993182156272417,
            0.3694439082604318,
            0.19237441222958604,
            0.13955135488086617,
            0.2582325309229212,
            0.05980591981642194
           ]
          },
          {
           "label": "reg_lambda",
           "range": [
            0.009046927318156123,
            0.9938427850497087
           ],
           "values": [
            0.6011150117432088,
            0.5247564316322378,
            0.19967378215835974,
            0.8083973481164611,
            0.2587799816000169,
            0.8948273504276488,
            0.8287375091519293,
            0.1987156815341724,
            0.8631034258755935,
            0.4722149251619493,
            0.4792951727359478,
            0.009046927318156123,
            0.2944068495666103,
            0.64208794318194,
            0.09086840375111392,
            0.43451435782595793,
            0.3583902847905419,
            0.6556498190600932,
            0.1643967376099857,
            0.3534692325095147,
            0.9938427850497087,
            0.6466669471993522,
            0.7242630922111837,
            0.7510882509824127,
            0.7414450168878227,
            0.5641493403440335,
            0.5535387686722112,
            0.525578146814522,
            0.7124947825754071,
            0.5769383079445419,
            0.3959237727783301,
            0.7366197334645432,
            0.6008984236501816,
            0.6989848191124235,
            0.9136015492560878,
            0.7918619726908254,
            0.5060944618370891,
            0.6753144921494529,
            0.7848943834379494,
            0.6215099220696408,
            0.8340023920549832,
            0.7500573717641517,
            0.91738985170924,
            0.7491689593491082,
            0.5459137021222557,
            0.44784018967689754,
            0.8587148304326301,
            0.7002727619671392,
            0.5888787075468495,
            0.9614536015606393
           ]
          },
          {
           "label": "subsample",
           "range": [
            0.6010603166303072,
            0.9878338511058234
           ],
           "values": [
            0.662397808134481,
            0.6727299868828402,
            0.7465447373174767,
            0.6260206371941118,
            0.798070764044508,
            0.9878338511058234,
            0.7301321323053057,
            0.6298202574719083,
            0.6296178606936361,
            0.8918424713352255,
            0.876098829427658,
            0.7370063974951027,
            0.715850780023381,
            0.7987586652315627,
            0.6939187182384499,
            0.7673635839576047,
            0.8720139949842398,
            0.6732315708885339,
            0.8366070683982902,
            0.7642025555264566,
            0.9614035607563236,
            0.6715011565469081,
            0.6730396214365393,
            0.7024138525502907,
            0.6089145049038844,
            0.7010167689421148,
            0.6619343009332945,
            0.6891855650014052,
            0.6469282854040203,
            0.6010603166303072,
            0.773536315881101,
            0.7075384777286414,
            0.7151142223753031,
            0.6508316782774582,
            0.6850351030654552,
            0.746765247869304,
            0.8249574951505665,
            0.7168280614849236,
            0.6318672713332886,
            0.6533163615930541,
            0.7446370238715672,
            0.6998162588973983,
            0.706113634919691,
            0.6797564736856957,
            0.722028599358516,
            0.6391679125192807,
            0.6175477443055092,
            0.7838554919115773,
            0.7378557993891562,
            0.6654825503650624
           ]
          }
         ],
         "labelangle": 30,
         "labelside": "bottom",
         "line": {
          "color": [
           1.6104607144247907,
           1.4834585076647104,
           1.4888608749712893,
           1.519901885278316,
           1.4925929334869612,
           1.5209547797375453,
           1.5396380865186683,
           1.5045081784517227,
           1.5218663239170813,
           1.5039931092888135,
           1.4926884001862715,
           1.5001137773849065,
           1.5426568913692917,
           1.5131198376403043,
           1.5215299596689715,
           1.50526259320585,
           1.510530556732527,
           1.4924535800962635,
           1.4931152391586366,
           1.4942555223216658,
           1.6026076903541817,
           1.5032492652736371,
           1.4796785969709965,
           1.484832474610639,
           1.4852927257927562,
           1.4745853836118137,
           1.545898870826281,
           1.5112784579621215,
           1.5311142955169852,
           1.4938100272182873,
           1.5201149842220305,
           1.4803314588039513,
           1.4971119431075646,
           1.5569280952976716,
           1.5084957547328652,
           1.4992230119478838,
           1.5240977697325144,
           1.5023607416140077,
           1.5156889403521832,
           1.630643867384585,
           1.487243098086736,
           1.4846995242270917,
           1.52219728927763,
           1.7265598758986922,
           1.5053604915137775,
           1.4899848767691704,
           1.5661177273121911,
           1.5247128745933904,
           1.5680688990275091,
           1.5086566336123945
          ],
          "colorbar": {
           "title": {
            "text": "Objective Value"
           }
          },
          "colorscale": [
           [
            0,
            "rgb(247,251,255)"
           ],
           [
            0.125,
            "rgb(222,235,247)"
           ],
           [
            0.25,
            "rgb(198,219,239)"
           ],
           [
            0.375,
            "rgb(158,202,225)"
           ],
           [
            0.5,
            "rgb(107,174,214)"
           ],
           [
            0.625,
            "rgb(66,146,198)"
           ],
           [
            0.75,
            "rgb(33,113,181)"
           ],
           [
            0.875,
            "rgb(8,81,156)"
           ],
           [
            1,
            "rgb(8,48,107)"
           ]
          ],
          "reversescale": true,
          "showscale": true
         },
         "type": "parcoords"
        }
       ],
       "layout": {
        "template": {
         "data": {
          "bar": [
           {
            "error_x": {
             "color": "#2a3f5f"
            },
            "error_y": {
             "color": "#2a3f5f"
            },
            "marker": {
             "line": {
              "color": "#E5ECF6",
              "width": 0.5
             },
             "pattern": {
              "fillmode": "overlay",
              "size": 10,
              "solidity": 0.2
             }
            },
            "type": "bar"
           }
          ],
          "barpolar": [
           {
            "marker": {
             "line": {
              "color": "#E5ECF6",
              "width": 0.5
             },
             "pattern": {
              "fillmode": "overlay",
              "size": 10,
              "solidity": 0.2
             }
            },
            "type": "barpolar"
           }
          ],
          "carpet": [
           {
            "aaxis": {
             "endlinecolor": "#2a3f5f",
             "gridcolor": "white",
             "linecolor": "white",
             "minorgridcolor": "white",
             "startlinecolor": "#2a3f5f"
            },
            "baxis": {
             "endlinecolor": "#2a3f5f",
             "gridcolor": "white",
             "linecolor": "white",
             "minorgridcolor": "white",
             "startlinecolor": "#2a3f5f"
            },
            "type": "carpet"
           }
          ],
          "choropleth": [
           {
            "colorbar": {
             "outlinewidth": 0,
             "ticks": ""
            },
            "type": "choropleth"
           }
          ],
          "contour": [
           {
            "colorbar": {
             "outlinewidth": 0,
             "ticks": ""
            },
            "colorscale": [
             [
              0,
              "#0d0887"
             ],
             [
              0.1111111111111111,
              "#46039f"
             ],
             [
              0.2222222222222222,
              "#7201a8"
             ],
             [
              0.3333333333333333,
              "#9c179e"
             ],
             [
              0.4444444444444444,
              "#bd3786"
             ],
             [
              0.5555555555555556,
              "#d8576b"
             ],
             [
              0.6666666666666666,
              "#ed7953"
             ],
             [
              0.7777777777777778,
              "#fb9f3a"
             ],
             [
              0.8888888888888888,
              "#fdca26"
             ],
             [
              1,
              "#f0f921"
             ]
            ],
            "type": "contour"
           }
          ],
          "contourcarpet": [
           {
            "colorbar": {
             "outlinewidth": 0,
             "ticks": ""
            },
            "type": "contourcarpet"
           }
          ],
          "heatmap": [
           {
            "colorbar": {
             "outlinewidth": 0,
             "ticks": ""
            },
            "colorscale": [
             [
              0,
              "#0d0887"
             ],
             [
              0.1111111111111111,
              "#46039f"
             ],
             [
              0.2222222222222222,
              "#7201a8"
             ],
             [
              0.3333333333333333,
              "#9c179e"
             ],
             [
              0.4444444444444444,
              "#bd3786"
             ],
             [
              0.5555555555555556,
              "#d8576b"
             ],
             [
              0.6666666666666666,
              "#ed7953"
             ],
             [
              0.7777777777777778,
              "#fb9f3a"
             ],
             [
              0.8888888888888888,
              "#fdca26"
             ],
             [
              1,
              "#f0f921"
             ]
            ],
            "type": "heatmap"
           }
          ],
          "histogram": [
           {
            "marker": {
             "pattern": {
              "fillmode": "overlay",
              "size": 10,
              "solidity": 0.2
             }
            },
            "type": "histogram"
           }
          ],
          "histogram2d": [
           {
            "colorbar": {
             "outlinewidth": 0,
             "ticks": ""
            },
            "colorscale": [
             [
              0,
              "#0d0887"
             ],
             [
              0.1111111111111111,
              "#46039f"
             ],
             [
              0.2222222222222222,
              "#7201a8"
             ],
             [
              0.3333333333333333,
              "#9c179e"
             ],
             [
              0.4444444444444444,
              "#bd3786"
             ],
             [
              0.5555555555555556,
              "#d8576b"
             ],
             [
              0.6666666666666666,
              "#ed7953"
             ],
             [
              0.7777777777777778,
              "#fb9f3a"
             ],
             [
              0.8888888888888888,
              "#fdca26"
             ],
             [
              1,
              "#f0f921"
             ]
            ],
            "type": "histogram2d"
           }
          ],
          "histogram2dcontour": [
           {
            "colorbar": {
             "outlinewidth": 0,
             "ticks": ""
            },
            "colorscale": [
             [
              0,
              "#0d0887"
             ],
             [
              0.1111111111111111,
              "#46039f"
             ],
             [
              0.2222222222222222,
              "#7201a8"
             ],
             [
              0.3333333333333333,
              "#9c179e"
             ],
             [
              0.4444444444444444,
              "#bd3786"
             ],
             [
              0.5555555555555556,
              "#d8576b"
             ],
             [
              0.6666666666666666,
              "#ed7953"
             ],
             [
              0.7777777777777778,
              "#fb9f3a"
             ],
             [
              0.8888888888888888,
              "#fdca26"
             ],
             [
              1,
              "#f0f921"
             ]
            ],
            "type": "histogram2dcontour"
           }
          ],
          "mesh3d": [
           {
            "colorbar": {
             "outlinewidth": 0,
             "ticks": ""
            },
            "type": "mesh3d"
           }
          ],
          "parcoords": [
           {
            "line": {
             "colorbar": {
              "outlinewidth": 0,
              "ticks": ""
             }
            },
            "type": "parcoords"
           }
          ],
          "pie": [
           {
            "automargin": true,
            "type": "pie"
           }
          ],
          "scatter": [
           {
            "fillpattern": {
             "fillmode": "overlay",
             "size": 10,
             "solidity": 0.2
            },
            "type": "scatter"
           }
          ],
          "scatter3d": [
           {
            "line": {
             "colorbar": {
              "outlinewidth": 0,
              "ticks": ""
             }
            },
            "marker": {
             "colorbar": {
              "outlinewidth": 0,
              "ticks": ""
             }
            },
            "type": "scatter3d"
           }
          ],
          "scattercarpet": [
           {
            "marker": {
             "colorbar": {
              "outlinewidth": 0,
              "ticks": ""
             }
            },
            "type": "scattercarpet"
           }
          ],
          "scattergeo": [
           {
            "marker": {
             "colorbar": {
              "outlinewidth": 0,
              "ticks": ""
             }
            },
            "type": "scattergeo"
           }
          ],
          "scattergl": [
           {
            "marker": {
             "colorbar": {
              "outlinewidth": 0,
              "ticks": ""
             }
            },
            "type": "scattergl"
           }
          ],
          "scattermap": [
           {
            "marker": {
             "colorbar": {
              "outlinewidth": 0,
              "ticks": ""
             }
            },
            "type": "scattermap"
           }
          ],
          "scattermapbox": [
           {
            "marker": {
             "colorbar": {
              "outlinewidth": 0,
              "ticks": ""
             }
            },
            "type": "scattermapbox"
           }
          ],
          "scatterpolar": [
           {
            "marker": {
             "colorbar": {
              "outlinewidth": 0,
              "ticks": ""
             }
            },
            "type": "scatterpolar"
           }
          ],
          "scatterpolargl": [
           {
            "marker": {
             "colorbar": {
              "outlinewidth": 0,
              "ticks": ""
             }
            },
            "type": "scatterpolargl"
           }
          ],
          "scatterternary": [
           {
            "marker": {
             "colorbar": {
              "outlinewidth": 0,
              "ticks": ""
             }
            },
            "type": "scatterternary"
           }
          ],
          "surface": [
           {
            "colorbar": {
             "outlinewidth": 0,
             "ticks": ""
            },
            "colorscale": [
             [
              0,
              "#0d0887"
             ],
             [
              0.1111111111111111,
              "#46039f"
             ],
             [
              0.2222222222222222,
              "#7201a8"
             ],
             [
              0.3333333333333333,
              "#9c179e"
             ],
             [
              0.4444444444444444,
              "#bd3786"
             ],
             [
              0.5555555555555556,
              "#d8576b"
             ],
             [
              0.6666666666666666,
              "#ed7953"
             ],
             [
              0.7777777777777778,
              "#fb9f3a"
             ],
             [
              0.8888888888888888,
              "#fdca26"
             ],
             [
              1,
              "#f0f921"
             ]
            ],
            "type": "surface"
           }
          ],
          "table": [
           {
            "cells": {
             "fill": {
              "color": "#EBF0F8"
             },
             "line": {
              "color": "white"
             }
            },
            "header": {
             "fill": {
              "color": "#C8D4E3"
             },
             "line": {
              "color": "white"
             }
            },
            "type": "table"
           }
          ]
         },
         "layout": {
          "annotationdefaults": {
           "arrowcolor": "#2a3f5f",
           "arrowhead": 0,
           "arrowwidth": 1
          },
          "autotypenumbers": "strict",
          "coloraxis": {
           "colorbar": {
            "outlinewidth": 0,
            "ticks": ""
           }
          },
          "colorscale": {
           "diverging": [
            [
             0,
             "#8e0152"
            ],
            [
             0.1,
             "#c51b7d"
            ],
            [
             0.2,
             "#de77ae"
            ],
            [
             0.3,
             "#f1b6da"
            ],
            [
             0.4,
             "#fde0ef"
            ],
            [
             0.5,
             "#f7f7f7"
            ],
            [
             0.6,
             "#e6f5d0"
            ],
            [
             0.7,
             "#b8e186"
            ],
            [
             0.8,
             "#7fbc41"
            ],
            [
             0.9,
             "#4d9221"
            ],
            [
             1,
             "#276419"
            ]
           ],
           "sequential": [
            [
             0,
             "#0d0887"
            ],
            [
             0.1111111111111111,
             "#46039f"
            ],
            [
             0.2222222222222222,
             "#7201a8"
            ],
            [
             0.3333333333333333,
             "#9c179e"
            ],
            [
             0.4444444444444444,
             "#bd3786"
            ],
            [
             0.5555555555555556,
             "#d8576b"
            ],
            [
             0.6666666666666666,
             "#ed7953"
            ],
            [
             0.7777777777777778,
             "#fb9f3a"
            ],
            [
             0.8888888888888888,
             "#fdca26"
            ],
            [
             1,
             "#f0f921"
            ]
           ],
           "sequentialminus": [
            [
             0,
             "#0d0887"
            ],
            [
             0.1111111111111111,
             "#46039f"
            ],
            [
             0.2222222222222222,
             "#7201a8"
            ],
            [
             0.3333333333333333,
             "#9c179e"
            ],
            [
             0.4444444444444444,
             "#bd3786"
            ],
            [
             0.5555555555555556,
             "#d8576b"
            ],
            [
             0.6666666666666666,
             "#ed7953"
            ],
            [
             0.7777777777777778,
             "#fb9f3a"
            ],
            [
             0.8888888888888888,
             "#fdca26"
            ],
            [
             1,
             "#f0f921"
            ]
           ]
          },
          "colorway": [
           "#636efa",
           "#EF553B",
           "#00cc96",
           "#ab63fa",
           "#FFA15A",
           "#19d3f3",
           "#FF6692",
           "#B6E880",
           "#FF97FF",
           "#FECB52"
          ],
          "font": {
           "color": "#2a3f5f"
          },
          "geo": {
           "bgcolor": "white",
           "lakecolor": "white",
           "landcolor": "#E5ECF6",
           "showlakes": true,
           "showland": true,
           "subunitcolor": "white"
          },
          "hoverlabel": {
           "align": "left"
          },
          "hovermode": "closest",
          "mapbox": {
           "style": "light"
          },
          "paper_bgcolor": "white",
          "plot_bgcolor": "#E5ECF6",
          "polar": {
           "angularaxis": {
            "gridcolor": "white",
            "linecolor": "white",
            "ticks": ""
           },
           "bgcolor": "#E5ECF6",
           "radialaxis": {
            "gridcolor": "white",
            "linecolor": "white",
            "ticks": ""
           }
          },
          "scene": {
           "xaxis": {
            "backgroundcolor": "#E5ECF6",
            "gridcolor": "white",
            "gridwidth": 2,
            "linecolor": "white",
            "showbackground": true,
            "ticks": "",
            "zerolinecolor": "white"
           },
           "yaxis": {
            "backgroundcolor": "#E5ECF6",
            "gridcolor": "white",
            "gridwidth": 2,
            "linecolor": "white",
            "showbackground": true,
            "ticks": "",
            "zerolinecolor": "white"
           },
           "zaxis": {
            "backgroundcolor": "#E5ECF6",
            "gridcolor": "white",
            "gridwidth": 2,
            "linecolor": "white",
            "showbackground": true,
            "ticks": "",
            "zerolinecolor": "white"
           }
          },
          "shapedefaults": {
           "line": {
            "color": "#2a3f5f"
           }
          },
          "ternary": {
           "aaxis": {
            "gridcolor": "white",
            "linecolor": "white",
            "ticks": ""
           },
           "baxis": {
            "gridcolor": "white",
            "linecolor": "white",
            "ticks": ""
           },
           "bgcolor": "#E5ECF6",
           "caxis": {
            "gridcolor": "white",
            "linecolor": "white",
            "ticks": ""
           }
          },
          "title": {
           "x": 0.05
          },
          "xaxis": {
           "automargin": true,
           "gridcolor": "white",
           "linecolor": "white",
           "ticks": "",
           "title": {
            "standoff": 15
           },
           "zerolinecolor": "white",
           "zerolinewidth": 2
          },
          "yaxis": {
           "automargin": true,
           "gridcolor": "white",
           "linecolor": "white",
           "ticks": "",
           "title": {
            "standoff": 15
           },
           "zerolinecolor": "white",
           "zerolinewidth": 2
          }
         }
        },
        "title": {
         "text": "Parallel Coordinate Plot"
        }
       }
      }
     },
     "metadata": {},
     "output_type": "display_data"
    }
   ],
   "source": [
    "vis.plot_parallel_coordinate(study_lgbm)"
   ]
  },
  {
   "cell_type": "code",
   "execution_count": 65,
   "id": "626770cf",
   "metadata": {},
   "outputs": [
    {
     "data": {
      "application/vnd.plotly.v1+json": {
       "config": {
        "plotlyServerURL": "https://plot.ly"
       },
       "data": [
        {
         "marker": {
          "color": [
           0,
           1,
           2,
           3,
           4,
           5,
           6,
           7,
           8,
           9,
           10,
           11,
           12,
           13,
           14,
           15,
           16,
           17,
           18,
           19,
           20,
           21,
           22,
           23,
           24,
           25,
           26,
           27,
           28,
           29,
           30,
           31,
           32,
           33,
           34,
           35,
           36,
           37,
           38,
           39,
           40,
           41,
           42,
           43,
           44,
           45,
           46,
           47,
           48,
           49
          ],
          "colorbar": {
           "title": {
            "text": "Trial"
           },
           "x": 1,
           "xpad": 40
          },
          "colorscale": [
           [
            0,
            "rgb(247,251,255)"
           ],
           [
            0.125,
            "rgb(222,235,247)"
           ],
           [
            0.25,
            "rgb(198,219,239)"
           ],
           [
            0.375,
            "rgb(158,202,225)"
           ],
           [
            0.5,
            "rgb(107,174,214)"
           ],
           [
            0.625,
            "rgb(66,146,198)"
           ],
           [
            0.75,
            "rgb(33,113,181)"
           ],
           [
            0.875,
            "rgb(8,81,156)"
           ],
           [
            1,
            "rgb(8,48,107)"
           ]
          ],
          "line": {
           "color": "Grey",
           "width": 0.5
          },
          "showscale": true
         },
         "mode": "markers",
         "name": "Feasible Trial",
         "showlegend": false,
         "type": "scatter",
         "x": [
          0.6232334448672797,
          0.6733618039413735,
          0.7824279936868144,
          0.9795542149013333,
          0.6137554084460873,
          0.9100531293444458,
          0.7554709158757928,
          0.9947547746402069,
          0.7433862914177091,
          0.8550229885420852,
          0.7021773835060796,
          0.6859627191294981,
          0.815848042721119,
          0.6966219731921359,
          0.796840732144714,
          0.8674582886269184,
          0.6512694504817759,
          0.7544273033878155,
          0.7976507673645237,
          0.6567104234717263,
          0.9177821035896214,
          0.7431809610203663,
          0.7267340845030492,
          0.7207299397203465,
          0.7002347311595115,
          0.6605184319353712,
          0.6506090757484941,
          0.6585319947526904,
          0.6160280931301652,
          0.6036691172680716,
          0.7230189679414286,
          0.6776752050027633,
          0.6745650004020675,
          0.6718262986403243,
          0.6342778992639416,
          0.7198771767246773,
          0.6367458486612505,
          0.77459627385957,
          0.6279726021666024,
          0.6774299510005038,
          0.7300725571610435,
          0.7711039538668426,
          0.8330663743696199,
          0.7697846231481719,
          0.7061812135575102,
          0.7431501643288505,
          0.6852050227594195,
          0.7610940678844151,
          0.818167498830793,
          0.7840538437519955
         ],
         "xaxis": "x",
         "y": [
          1.6104607144247907,
          1.4834585076647104,
          1.4888608749712893,
          1.519901885278316,
          1.4925929334869612,
          1.5209547797375453,
          1.5396380865186683,
          1.5045081784517227,
          1.5218663239170813,
          1.5039931092888135,
          1.4926884001862715,
          1.5001137773849065,
          1.5426568913692917,
          1.5131198376403043,
          1.5215299596689715,
          1.50526259320585,
          1.510530556732527,
          1.4924535800962635,
          1.4931152391586366,
          1.4942555223216658,
          1.6026076903541817,
          1.5032492652736371,
          1.4796785969709965,
          1.484832474610639,
          1.4852927257927562,
          1.4745853836118137,
          1.545898870826281,
          1.5112784579621215,
          1.5311142955169852,
          1.4938100272182873,
          1.5201149842220305,
          1.4803314588039513,
          1.4971119431075646,
          1.5569280952976716,
          1.5084957547328652,
          1.4992230119478838,
          1.5240977697325144,
          1.5023607416140077,
          1.5156889403521832,
          1.630643867384585,
          1.487243098086736,
          1.4846995242270917,
          1.52219728927763,
          1.7265598758986922,
          1.5053604915137775,
          1.4899848767691704,
          1.5661177273121911,
          1.5247128745933904,
          1.5680688990275091,
          1.5086566336123945
         ],
         "yaxis": "y"
        },
        {
         "marker": {
          "color": [
           0,
           1,
           2,
           3,
           4,
           5,
           6,
           7,
           8,
           9,
           10,
           11,
           12,
           13,
           14,
           15,
           16,
           17,
           18,
           19,
           20,
           21,
           22,
           23,
           24,
           25,
           26,
           27,
           28,
           29,
           30,
           31,
           32,
           33,
           34,
           35,
           36,
           37,
           38,
           39,
           40,
           41,
           42,
           43,
           44,
           45,
           46,
           47,
           48,
           49
          ],
          "colorbar": {
           "title": {
            "text": "Trial"
           },
           "x": 1,
           "xpad": 40
          },
          "colorscale": [
           [
            0,
            "rgb(247,251,255)"
           ],
           [
            0.125,
            "rgb(222,235,247)"
           ],
           [
            0.25,
            "rgb(198,219,239)"
           ],
           [
            0.375,
            "rgb(158,202,225)"
           ],
           [
            0.5,
            "rgb(107,174,214)"
           ],
           [
            0.625,
            "rgb(66,146,198)"
           ],
           [
            0.75,
            "rgb(33,113,181)"
           ],
           [
            0.875,
            "rgb(8,81,156)"
           ],
           [
            1,
            "rgb(8,48,107)"
           ]
          ],
          "line": {
           "color": "Grey",
           "width": 0.5
          },
          "showscale": false
         },
         "mode": "markers",
         "name": "Feasible Trial",
         "showlegend": false,
         "type": "scatter",
         "x": [
          0.2536999076681772,
          0.010725209743171996,
          0.02692655251486473,
          0.07500118950416987,
          0.013940346079873234,
          0.028869220380495747,
          0.22999586428143728,
          0.026000059117302653,
          0.1601531217136121,
          0.030816017044468066,
          0.010206070557577008,
          0.01699223047970666,
          0.058261802534285465,
          0.01892380376353781,
          0.04424937591236206,
          0.010433904133257729,
          0.08801819602632835,
          0.042055725241708065,
          0.021069676640142868,
          0.013991038367899857,
          0.11005791941043674,
          0.04285150252074264,
          0.037073700845267156,
          0.03476945195940975,
          0.06682224013041096,
          0.03535541139245488,
          0.11277661172347543,
          0.05020671455211381,
          0.02256006021358721,
          0.0140047954012614,
          0.037161448721430596,
          0.03553793604183132,
          0.058917774302488846,
          0.024861422417896066,
          0.03466826347048089,
          0.017372632913416005,
          0.09136171314744959,
          0.02819782070565746,
          0.04925889576573655,
          0.2161512504601447,
          0.011840161496799036,
          0.03429214607459629,
          0.030474757454922525,
          0.036543426726893605,
          0.06557427886289512,
          0.02415136003021407,
          0.020514168102375326,
          0.029920004761043277,
          0.01595620166081445,
          0.04765383166239607
         ],
         "xaxis": "x2",
         "y": [
          1.6104607144247907,
          1.4834585076647104,
          1.4888608749712893,
          1.519901885278316,
          1.4925929334869612,
          1.5209547797375453,
          1.5396380865186683,
          1.5045081784517227,
          1.5218663239170813,
          1.5039931092888135,
          1.4926884001862715,
          1.5001137773849065,
          1.5426568913692917,
          1.5131198376403043,
          1.5215299596689715,
          1.50526259320585,
          1.510530556732527,
          1.4924535800962635,
          1.4931152391586366,
          1.4942555223216658,
          1.6026076903541817,
          1.5032492652736371,
          1.4796785969709965,
          1.484832474610639,
          1.4852927257927562,
          1.4745853836118137,
          1.545898870826281,
          1.5112784579621215,
          1.5311142955169852,
          1.4938100272182873,
          1.5201149842220305,
          1.4803314588039513,
          1.4971119431075646,
          1.5569280952976716,
          1.5084957547328652,
          1.4992230119478838,
          1.5240977697325144,
          1.5023607416140077,
          1.5156889403521832,
          1.630643867384585,
          1.487243098086736,
          1.4846995242270917,
          1.52219728927763,
          1.7265598758986922,
          1.5053604915137775,
          1.4899848767691704,
          1.5661177273121911,
          1.5247128745933904,
          1.5680688990275091,
          1.5086566336123945
         ],
         "yaxis": "y2"
        },
        {
         "marker": {
          "color": [
           0,
           1,
           2,
           3,
           4,
           5,
           6,
           7,
           8,
           9,
           10,
           11,
           12,
           13,
           14,
           15,
           16,
           17,
           18,
           19,
           20,
           21,
           22,
           23,
           24,
           25,
           26,
           27,
           28,
           29,
           30,
           31,
           32,
           33,
           34,
           35,
           36,
           37,
           38,
           39,
           40,
           41,
           42,
           43,
           44,
           45,
           46,
           47,
           48,
           49
          ],
          "colorbar": {
           "title": {
            "text": "Trial"
           },
           "x": 1,
           "xpad": 40
          },
          "colorscale": [
           [
            0,
            "rgb(247,251,255)"
           ],
           [
            0.125,
            "rgb(222,235,247)"
           ],
           [
            0.25,
            "rgb(198,219,239)"
           ],
           [
            0.375,
            "rgb(158,202,225)"
           ],
           [
            0.5,
            "rgb(107,174,214)"
           ],
           [
            0.625,
            "rgb(66,146,198)"
           ],
           [
            0.75,
            "rgb(33,113,181)"
           ],
           [
            0.875,
            "rgb(8,81,156)"
           ],
           [
            1,
            "rgb(8,48,107)"
           ]
          ],
          "line": {
           "color": "Grey",
           "width": 0.5
          },
          "showscale": false
         },
         "mode": "markers",
         "name": "Feasible Trial",
         "showlegend": false,
         "type": "scatter",
         "x": [
          10,
          13,
          4,
          10,
          8,
          10,
          5,
          4,
          12,
          7,
          15,
          14,
          3,
          6,
          13,
          12,
          8,
          12,
          3,
          15,
          6,
          12,
          11,
          11,
          11,
          13,
          14,
          13,
          14,
          11,
          9,
          11,
          13,
          9,
          10,
          11,
          13,
          10,
          14,
          12,
          8,
          11,
          9,
          11,
          10,
          13,
          15,
          12,
          11,
          12
         ],
         "xaxis": "x3",
         "y": [
          1.6104607144247907,
          1.4834585076647104,
          1.4888608749712893,
          1.519901885278316,
          1.4925929334869612,
          1.5209547797375453,
          1.5396380865186683,
          1.5045081784517227,
          1.5218663239170813,
          1.5039931092888135,
          1.4926884001862715,
          1.5001137773849065,
          1.5426568913692917,
          1.5131198376403043,
          1.5215299596689715,
          1.50526259320585,
          1.510530556732527,
          1.4924535800962635,
          1.4931152391586366,
          1.4942555223216658,
          1.6026076903541817,
          1.5032492652736371,
          1.4796785969709965,
          1.484832474610639,
          1.4852927257927562,
          1.4745853836118137,
          1.545898870826281,
          1.5112784579621215,
          1.5311142955169852,
          1.4938100272182873,
          1.5201149842220305,
          1.4803314588039513,
          1.4971119431075646,
          1.5569280952976716,
          1.5084957547328652,
          1.4992230119478838,
          1.5240977697325144,
          1.5023607416140077,
          1.5156889403521832,
          1.630643867384585,
          1.487243098086736,
          1.4846995242270917,
          1.52219728927763,
          1.7265598758986922,
          1.5053604915137775,
          1.4899848767691704,
          1.5661177273121911,
          1.5247128745933904,
          1.5680688990275091,
          1.5086566336123945
         ],
         "yaxis": "y3"
        },
        {
         "marker": {
          "color": [
           0,
           1,
           2,
           3,
           4,
           5,
           6,
           7,
           8,
           9,
           10,
           11,
           12,
           13,
           14,
           15,
           16,
           17,
           18,
           19,
           20,
           21,
           22,
           23,
           24,
           25,
           26,
           27,
           28,
           29,
           30,
           31,
           32,
           33,
           34,
           35,
           36,
           37,
           38,
           39,
           40,
           41,
           42,
           43,
           44,
           45,
           46,
           47,
           48,
           49
          ],
          "colorbar": {
           "title": {
            "text": "Trial"
           },
           "x": 1,
           "xpad": 40
          },
          "colorscale": [
           [
            0,
            "rgb(247,251,255)"
           ],
           [
            0.125,
            "rgb(222,235,247)"
           ],
           [
            0.25,
            "rgb(198,219,239)"
           ],
           [
            0.375,
            "rgb(158,202,225)"
           ],
           [
            0.5,
            "rgb(107,174,214)"
           ],
           [
            0.625,
            "rgb(66,146,198)"
           ],
           [
            0.75,
            "rgb(33,113,181)"
           ],
           [
            0.875,
            "rgb(8,81,156)"
           ],
           [
            1,
            "rgb(8,48,107)"
           ]
          ],
          "line": {
           "color": "Grey",
           "width": 0.5
          },
          "showscale": false
         },
         "mode": "markers",
         "name": "Feasible Trial",
         "showlegend": false,
         "type": "scatter",
         "x": [
          19,
          25,
          33,
          21,
          16,
          22,
          9,
          82,
          79,
          36,
          59,
          45,
          57,
          36,
          35,
          67,
          5,
          48,
          28,
          68,
          95,
          47,
          44,
          30,
          28,
          42,
          42,
          55,
          41,
          16,
          53,
          27,
          25,
          38,
          14,
          20,
          31,
          23,
          12,
          62,
          50,
          30,
          25,
          42,
          33,
          18,
          39,
          45,
          10,
          35
         ],
         "xaxis": "x4",
         "y": [
          1.6104607144247907,
          1.4834585076647104,
          1.4888608749712893,
          1.519901885278316,
          1.4925929334869612,
          1.5209547797375453,
          1.5396380865186683,
          1.5045081784517227,
          1.5218663239170813,
          1.5039931092888135,
          1.4926884001862715,
          1.5001137773849065,
          1.5426568913692917,
          1.5131198376403043,
          1.5215299596689715,
          1.50526259320585,
          1.510530556732527,
          1.4924535800962635,
          1.4931152391586366,
          1.4942555223216658,
          1.6026076903541817,
          1.5032492652736371,
          1.4796785969709965,
          1.484832474610639,
          1.4852927257927562,
          1.4745853836118137,
          1.545898870826281,
          1.5112784579621215,
          1.5311142955169852,
          1.4938100272182873,
          1.5201149842220305,
          1.4803314588039513,
          1.4971119431075646,
          1.5569280952976716,
          1.5084957547328652,
          1.4992230119478838,
          1.5240977697325144,
          1.5023607416140077,
          1.5156889403521832,
          1.630643867384585,
          1.487243098086736,
          1.4846995242270917,
          1.52219728927763,
          1.7265598758986922,
          1.5053604915137775,
          1.4899848767691704,
          1.5661177273121911,
          1.5247128745933904,
          1.5680688990275091,
          1.5086566336123945
         ],
         "yaxis": "y4"
        },
        {
         "marker": {
          "color": [
           0,
           1,
           2,
           3,
           4,
           5,
           6,
           7,
           8,
           9,
           10,
           11,
           12,
           13,
           14,
           15,
           16,
           17,
           18,
           19,
           20,
           21,
           22,
           23,
           24,
           25,
           26,
           27,
           28,
           29,
           30,
           31,
           32,
           33,
           34,
           35,
           36,
           37,
           38,
           39,
           40,
           41,
           42,
           43,
           44,
           45,
           46,
           47,
           48,
           49
          ],
          "colorbar": {
           "title": {
            "text": "Trial"
           },
           "x": 1,
           "xpad": 40
          },
          "colorscale": [
           [
            0,
            "rgb(247,251,255)"
           ],
           [
            0.125,
            "rgb(222,235,247)"
           ],
           [
            0.25,
            "rgb(198,219,239)"
           ],
           [
            0.375,
            "rgb(158,202,225)"
           ],
           [
            0.5,
            "rgb(107,174,214)"
           ],
           [
            0.625,
            "rgb(66,146,198)"
           ],
           [
            0.75,
            "rgb(33,113,181)"
           ],
           [
            0.875,
            "rgb(8,81,156)"
           ],
           [
            1,
            "rgb(8,48,107)"
           ]
          ],
          "line": {
           "color": "Grey",
           "width": 0.5
          },
          "showscale": false
         },
         "mode": "markers",
         "name": "Feasible Trial",
         "showlegend": false,
         "type": "scatter",
         "x": [
          406,
          723,
          460,
          539,
          339,
          680,
          618,
          389,
          55,
          642,
          970,
          909,
          805,
          169,
          744,
          454,
          843,
          252,
          591,
          488,
          742,
          279,
          229,
          148,
          71,
          181,
          220,
          318,
          142,
          376,
          547,
          140,
          203,
          107,
          283,
          200,
          108,
          424,
          313,
          378,
          687,
          148,
          103,
          52,
          244,
          187,
          130,
          994,
          164,
          343
         ],
         "xaxis": "x5",
         "y": [
          1.6104607144247907,
          1.4834585076647104,
          1.4888608749712893,
          1.519901885278316,
          1.4925929334869612,
          1.5209547797375453,
          1.5396380865186683,
          1.5045081784517227,
          1.5218663239170813,
          1.5039931092888135,
          1.4926884001862715,
          1.5001137773849065,
          1.5426568913692917,
          1.5131198376403043,
          1.5215299596689715,
          1.50526259320585,
          1.510530556732527,
          1.4924535800962635,
          1.4931152391586366,
          1.4942555223216658,
          1.6026076903541817,
          1.5032492652736371,
          1.4796785969709965,
          1.484832474610639,
          1.4852927257927562,
          1.4745853836118137,
          1.545898870826281,
          1.5112784579621215,
          1.5311142955169852,
          1.4938100272182873,
          1.5201149842220305,
          1.4803314588039513,
          1.4971119431075646,
          1.5569280952976716,
          1.5084957547328652,
          1.4992230119478838,
          1.5240977697325144,
          1.5023607416140077,
          1.5156889403521832,
          1.630643867384585,
          1.487243098086736,
          1.4846995242270917,
          1.52219728927763,
          1.7265598758986922,
          1.5053604915137775,
          1.4899848767691704,
          1.5661177273121911,
          1.5247128745933904,
          1.5680688990275091,
          1.5086566336123945
         ],
         "yaxis": "y5"
        },
        {
         "marker": {
          "color": [
           0,
           1,
           2,
           3,
           4,
           5,
           6,
           7,
           8,
           9,
           10,
           11,
           12,
           13,
           14,
           15,
           16,
           17,
           18,
           19,
           20,
           21,
           22,
           23,
           24,
           25,
           26,
           27,
           28,
           29,
           30,
           31,
           32,
           33,
           34,
           35,
           36,
           37,
           38,
           39,
           40,
           41,
           42,
           43,
           44,
           45,
           46,
           47,
           48,
           49
          ],
          "colorbar": {
           "title": {
            "text": "Trial"
           },
           "x": 1,
           "xpad": 40
          },
          "colorscale": [
           [
            0,
            "rgb(247,251,255)"
           ],
           [
            0.125,
            "rgb(222,235,247)"
           ],
           [
            0.25,
            "rgb(198,219,239)"
           ],
           [
            0.375,
            "rgb(158,202,225)"
           ],
           [
            0.5,
            "rgb(107,174,214)"
           ],
           [
            0.625,
            "rgb(66,146,198)"
           ],
           [
            0.75,
            "rgb(33,113,181)"
           ],
           [
            0.875,
            "rgb(8,81,156)"
           ],
           [
            1,
            "rgb(8,48,107)"
           ]
          ],
          "line": {
           "color": "Grey",
           "width": 0.5
          },
          "showscale": false
         },
         "mode": "markers",
         "name": "Feasible Trial",
         "showlegend": false,
         "type": "scatter",
         "x": [
          188,
          249,
          158,
          13,
          176,
          134,
          24,
          140,
          182,
          18,
          249,
          243,
          79,
          84,
          214,
          97,
          216,
          153,
          54,
          107,
          221,
          154,
          155,
          199,
          201,
          240,
          234,
          234,
          254,
          168,
          195,
          204,
          231,
          210,
          186,
          165,
          120,
          256,
          228,
          141,
          178,
          192,
          203,
          239,
          192,
          174,
          245,
          221,
          144,
          182
         ],
         "xaxis": "x6",
         "y": [
          1.6104607144247907,
          1.4834585076647104,
          1.4888608749712893,
          1.519901885278316,
          1.4925929334869612,
          1.5209547797375453,
          1.5396380865186683,
          1.5045081784517227,
          1.5218663239170813,
          1.5039931092888135,
          1.4926884001862715,
          1.5001137773849065,
          1.5426568913692917,
          1.5131198376403043,
          1.5215299596689715,
          1.50526259320585,
          1.510530556732527,
          1.4924535800962635,
          1.4931152391586366,
          1.4942555223216658,
          1.6026076903541817,
          1.5032492652736371,
          1.4796785969709965,
          1.484832474610639,
          1.4852927257927562,
          1.4745853836118137,
          1.545898870826281,
          1.5112784579621215,
          1.5311142955169852,
          1.4938100272182873,
          1.5201149842220305,
          1.4803314588039513,
          1.4971119431075646,
          1.5569280952976716,
          1.5084957547328652,
          1.4992230119478838,
          1.5240977697325144,
          1.5023607416140077,
          1.5156889403521832,
          1.630643867384585,
          1.487243098086736,
          1.4846995242270917,
          1.52219728927763,
          1.7265598758986922,
          1.5053604915137775,
          1.4899848767691704,
          1.5661177273121911,
          1.5247128745933904,
          1.5680688990275091,
          1.5086566336123945
         ],
         "yaxis": "y6"
        },
        {
         "marker": {
          "color": [
           0,
           1,
           2,
           3,
           4,
           5,
           6,
           7,
           8,
           9,
           10,
           11,
           12,
           13,
           14,
           15,
           16,
           17,
           18,
           19,
           20,
           21,
           22,
           23,
           24,
           25,
           26,
           27,
           28,
           29,
           30,
           31,
           32,
           33,
           34,
           35,
           36,
           37,
           38,
           39,
           40,
           41,
           42,
           43,
           44,
           45,
           46,
           47,
           48,
           49
          ],
          "colorbar": {
           "title": {
            "text": "Trial"
           },
           "x": 1,
           "xpad": 40
          },
          "colorscale": [
           [
            0,
            "rgb(247,251,255)"
           ],
           [
            0.125,
            "rgb(222,235,247)"
           ],
           [
            0.25,
            "rgb(198,219,239)"
           ],
           [
            0.375,
            "rgb(158,202,225)"
           ],
           [
            0.5,
            "rgb(107,174,214)"
           ],
           [
            0.625,
            "rgb(66,146,198)"
           ],
           [
            0.75,
            "rgb(33,113,181)"
           ],
           [
            0.875,
            "rgb(8,81,156)"
           ],
           [
            1,
            "rgb(8,48,107)"
           ]
          ],
          "line": {
           "color": "Grey",
           "width": 0.5
          },
          "showscale": false
         },
         "mode": "markers",
         "name": "Feasible Trial",
         "showlegend": false,
         "type": "scatter",
         "x": [
          0.8661761457749352,
          0.3042422429595377,
          0.7851759613930136,
          0.9656320330745594,
          0.9093204020787821,
          0.9394989415641891,
          0.2713490317738959,
          0.7722447692966574,
          0.11586905952512971,
          0.8872127425763265,
          0.40402607201864477,
          0.6071842740332256,
          0.5992087187997686,
          0.3473443561556252,
          0.12476602449473986,
          0.6705451426048863,
          0.47866936071859034,
          0.23951225471837512,
          0.6914344988956265,
          0.45366053575028714,
          0.011620961627553272,
          0.2895492452060503,
          0.21153958273338241,
          0.17392714953607313,
          0.1696233037043374,
          0.020992816677700032,
          0.025328595278902633,
          0.08067831169843259,
          0.3648858887172245,
          0.20885447300979176,
          0.3132109054209895,
          0.18784011905209202,
          0.0689938001759009,
          0.18558974949022322,
          0.11962965031970402,
          0.24675016435737734,
          0.41228179983917546,
          0.542143855793352,
          0.039713225358783626,
          0.14203205945160818,
          0.317820940294554,
          0.21216483471668718,
          0.2322994537019237,
          0.08667749331269929,
          0.27993182156272417,
          0.3694439082604318,
          0.19237441222958604,
          0.13955135488086617,
          0.2582325309229212,
          0.05980591981642194
         ],
         "xaxis": "x7",
         "y": [
          1.6104607144247907,
          1.4834585076647104,
          1.4888608749712893,
          1.519901885278316,
          1.4925929334869612,
          1.5209547797375453,
          1.5396380865186683,
          1.5045081784517227,
          1.5218663239170813,
          1.5039931092888135,
          1.4926884001862715,
          1.5001137773849065,
          1.5426568913692917,
          1.5131198376403043,
          1.5215299596689715,
          1.50526259320585,
          1.510530556732527,
          1.4924535800962635,
          1.4931152391586366,
          1.4942555223216658,
          1.6026076903541817,
          1.5032492652736371,
          1.4796785969709965,
          1.484832474610639,
          1.4852927257927562,
          1.4745853836118137,
          1.545898870826281,
          1.5112784579621215,
          1.5311142955169852,
          1.4938100272182873,
          1.5201149842220305,
          1.4803314588039513,
          1.4971119431075646,
          1.5569280952976716,
          1.5084957547328652,
          1.4992230119478838,
          1.5240977697325144,
          1.5023607416140077,
          1.5156889403521832,
          1.630643867384585,
          1.487243098086736,
          1.4846995242270917,
          1.52219728927763,
          1.7265598758986922,
          1.5053604915137775,
          1.4899848767691704,
          1.5661177273121911,
          1.5247128745933904,
          1.5680688990275091,
          1.5086566336123945
         ],
         "yaxis": "y7"
        },
        {
         "marker": {
          "color": [
           0,
           1,
           2,
           3,
           4,
           5,
           6,
           7,
           8,
           9,
           10,
           11,
           12,
           13,
           14,
           15,
           16,
           17,
           18,
           19,
           20,
           21,
           22,
           23,
           24,
           25,
           26,
           27,
           28,
           29,
           30,
           31,
           32,
           33,
           34,
           35,
           36,
           37,
           38,
           39,
           40,
           41,
           42,
           43,
           44,
           45,
           46,
           47,
           48,
           49
          ],
          "colorbar": {
           "title": {
            "text": "Trial"
           },
           "x": 1,
           "xpad": 40
          },
          "colorscale": [
           [
            0,
            "rgb(247,251,255)"
           ],
           [
            0.125,
            "rgb(222,235,247)"
           ],
           [
            0.25,
            "rgb(198,219,239)"
           ],
           [
            0.375,
            "rgb(158,202,225)"
           ],
           [
            0.5,
            "rgb(107,174,214)"
           ],
           [
            0.625,
            "rgb(66,146,198)"
           ],
           [
            0.75,
            "rgb(33,113,181)"
           ],
           [
            0.875,
            "rgb(8,81,156)"
           ],
           [
            1,
            "rgb(8,48,107)"
           ]
          ],
          "line": {
           "color": "Grey",
           "width": 0.5
          },
          "showscale": false
         },
         "mode": "markers",
         "name": "Feasible Trial",
         "showlegend": false,
         "type": "scatter",
         "x": [
          0.6011150117432088,
          0.5247564316322378,
          0.19967378215835974,
          0.8083973481164611,
          0.2587799816000169,
          0.8948273504276488,
          0.8287375091519293,
          0.1987156815341724,
          0.8631034258755935,
          0.4722149251619493,
          0.4792951727359478,
          0.009046927318156123,
          0.2944068495666103,
          0.64208794318194,
          0.09086840375111392,
          0.43451435782595793,
          0.3583902847905419,
          0.6556498190600932,
          0.1643967376099857,
          0.3534692325095147,
          0.9938427850497087,
          0.6466669471993522,
          0.7242630922111837,
          0.7510882509824127,
          0.7414450168878227,
          0.5641493403440335,
          0.5535387686722112,
          0.525578146814522,
          0.7124947825754071,
          0.5769383079445419,
          0.3959237727783301,
          0.7366197334645432,
          0.6008984236501816,
          0.6989848191124235,
          0.9136015492560878,
          0.7918619726908254,
          0.5060944618370891,
          0.6753144921494529,
          0.7848943834379494,
          0.6215099220696408,
          0.8340023920549832,
          0.7500573717641517,
          0.91738985170924,
          0.7491689593491082,
          0.5459137021222557,
          0.44784018967689754,
          0.8587148304326301,
          0.7002727619671392,
          0.5888787075468495,
          0.9614536015606393
         ],
         "xaxis": "x8",
         "y": [
          1.6104607144247907,
          1.4834585076647104,
          1.4888608749712893,
          1.519901885278316,
          1.4925929334869612,
          1.5209547797375453,
          1.5396380865186683,
          1.5045081784517227,
          1.5218663239170813,
          1.5039931092888135,
          1.4926884001862715,
          1.5001137773849065,
          1.5426568913692917,
          1.5131198376403043,
          1.5215299596689715,
          1.50526259320585,
          1.510530556732527,
          1.4924535800962635,
          1.4931152391586366,
          1.4942555223216658,
          1.6026076903541817,
          1.5032492652736371,
          1.4796785969709965,
          1.484832474610639,
          1.4852927257927562,
          1.4745853836118137,
          1.545898870826281,
          1.5112784579621215,
          1.5311142955169852,
          1.4938100272182873,
          1.5201149842220305,
          1.4803314588039513,
          1.4971119431075646,
          1.5569280952976716,
          1.5084957547328652,
          1.4992230119478838,
          1.5240977697325144,
          1.5023607416140077,
          1.5156889403521832,
          1.630643867384585,
          1.487243098086736,
          1.4846995242270917,
          1.52219728927763,
          1.7265598758986922,
          1.5053604915137775,
          1.4899848767691704,
          1.5661177273121911,
          1.5247128745933904,
          1.5680688990275091,
          1.5086566336123945
         ],
         "yaxis": "y8"
        },
        {
         "marker": {
          "color": [
           0,
           1,
           2,
           3,
           4,
           5,
           6,
           7,
           8,
           9,
           10,
           11,
           12,
           13,
           14,
           15,
           16,
           17,
           18,
           19,
           20,
           21,
           22,
           23,
           24,
           25,
           26,
           27,
           28,
           29,
           30,
           31,
           32,
           33,
           34,
           35,
           36,
           37,
           38,
           39,
           40,
           41,
           42,
           43,
           44,
           45,
           46,
           47,
           48,
           49
          ],
          "colorbar": {
           "title": {
            "text": "Trial"
           },
           "x": 1,
           "xpad": 40
          },
          "colorscale": [
           [
            0,
            "rgb(247,251,255)"
           ],
           [
            0.125,
            "rgb(222,235,247)"
           ],
           [
            0.25,
            "rgb(198,219,239)"
           ],
           [
            0.375,
            "rgb(158,202,225)"
           ],
           [
            0.5,
            "rgb(107,174,214)"
           ],
           [
            0.625,
            "rgb(66,146,198)"
           ],
           [
            0.75,
            "rgb(33,113,181)"
           ],
           [
            0.875,
            "rgb(8,81,156)"
           ],
           [
            1,
            "rgb(8,48,107)"
           ]
          ],
          "line": {
           "color": "Grey",
           "width": 0.5
          },
          "showscale": false
         },
         "mode": "markers",
         "name": "Feasible Trial",
         "showlegend": false,
         "type": "scatter",
         "x": [
          0.662397808134481,
          0.6727299868828402,
          0.7465447373174767,
          0.6260206371941118,
          0.798070764044508,
          0.9878338511058234,
          0.7301321323053057,
          0.6298202574719083,
          0.6296178606936361,
          0.8918424713352255,
          0.876098829427658,
          0.7370063974951027,
          0.715850780023381,
          0.7987586652315627,
          0.6939187182384499,
          0.7673635839576047,
          0.8720139949842398,
          0.6732315708885339,
          0.8366070683982902,
          0.7642025555264566,
          0.9614035607563236,
          0.6715011565469081,
          0.6730396214365393,
          0.7024138525502907,
          0.6089145049038844,
          0.7010167689421148,
          0.6619343009332945,
          0.6891855650014052,
          0.6469282854040203,
          0.6010603166303072,
          0.773536315881101,
          0.7075384777286414,
          0.7151142223753031,
          0.6508316782774582,
          0.6850351030654552,
          0.746765247869304,
          0.8249574951505665,
          0.7168280614849236,
          0.6318672713332886,
          0.6533163615930541,
          0.7446370238715672,
          0.6998162588973983,
          0.706113634919691,
          0.6797564736856957,
          0.722028599358516,
          0.6391679125192807,
          0.6175477443055092,
          0.7838554919115773,
          0.7378557993891562,
          0.6654825503650624
         ],
         "xaxis": "x9",
         "y": [
          1.6104607144247907,
          1.4834585076647104,
          1.4888608749712893,
          1.519901885278316,
          1.4925929334869612,
          1.5209547797375453,
          1.5396380865186683,
          1.5045081784517227,
          1.5218663239170813,
          1.5039931092888135,
          1.4926884001862715,
          1.5001137773849065,
          1.5426568913692917,
          1.5131198376403043,
          1.5215299596689715,
          1.50526259320585,
          1.510530556732527,
          1.4924535800962635,
          1.4931152391586366,
          1.4942555223216658,
          1.6026076903541817,
          1.5032492652736371,
          1.4796785969709965,
          1.484832474610639,
          1.4852927257927562,
          1.4745853836118137,
          1.545898870826281,
          1.5112784579621215,
          1.5311142955169852,
          1.4938100272182873,
          1.5201149842220305,
          1.4803314588039513,
          1.4971119431075646,
          1.5569280952976716,
          1.5084957547328652,
          1.4992230119478838,
          1.5240977697325144,
          1.5023607416140077,
          1.5156889403521832,
          1.630643867384585,
          1.487243098086736,
          1.4846995242270917,
          1.52219728927763,
          1.7265598758986922,
          1.5053604915137775,
          1.4899848767691704,
          1.5661177273121911,
          1.5247128745933904,
          1.5680688990275091,
          1.5086566336123945
         ],
         "yaxis": "y9"
        }
       ],
       "layout": {
        "template": {
         "data": {
          "bar": [
           {
            "error_x": {
             "color": "#2a3f5f"
            },
            "error_y": {
             "color": "#2a3f5f"
            },
            "marker": {
             "line": {
              "color": "#E5ECF6",
              "width": 0.5
             },
             "pattern": {
              "fillmode": "overlay",
              "size": 10,
              "solidity": 0.2
             }
            },
            "type": "bar"
           }
          ],
          "barpolar": [
           {
            "marker": {
             "line": {
              "color": "#E5ECF6",
              "width": 0.5
             },
             "pattern": {
              "fillmode": "overlay",
              "size": 10,
              "solidity": 0.2
             }
            },
            "type": "barpolar"
           }
          ],
          "carpet": [
           {
            "aaxis": {
             "endlinecolor": "#2a3f5f",
             "gridcolor": "white",
             "linecolor": "white",
             "minorgridcolor": "white",
             "startlinecolor": "#2a3f5f"
            },
            "baxis": {
             "endlinecolor": "#2a3f5f",
             "gridcolor": "white",
             "linecolor": "white",
             "minorgridcolor": "white",
             "startlinecolor": "#2a3f5f"
            },
            "type": "carpet"
           }
          ],
          "choropleth": [
           {
            "colorbar": {
             "outlinewidth": 0,
             "ticks": ""
            },
            "type": "choropleth"
           }
          ],
          "contour": [
           {
            "colorbar": {
             "outlinewidth": 0,
             "ticks": ""
            },
            "colorscale": [
             [
              0,
              "#0d0887"
             ],
             [
              0.1111111111111111,
              "#46039f"
             ],
             [
              0.2222222222222222,
              "#7201a8"
             ],
             [
              0.3333333333333333,
              "#9c179e"
             ],
             [
              0.4444444444444444,
              "#bd3786"
             ],
             [
              0.5555555555555556,
              "#d8576b"
             ],
             [
              0.6666666666666666,
              "#ed7953"
             ],
             [
              0.7777777777777778,
              "#fb9f3a"
             ],
             [
              0.8888888888888888,
              "#fdca26"
             ],
             [
              1,
              "#f0f921"
             ]
            ],
            "type": "contour"
           }
          ],
          "contourcarpet": [
           {
            "colorbar": {
             "outlinewidth": 0,
             "ticks": ""
            },
            "type": "contourcarpet"
           }
          ],
          "heatmap": [
           {
            "colorbar": {
             "outlinewidth": 0,
             "ticks": ""
            },
            "colorscale": [
             [
              0,
              "#0d0887"
             ],
             [
              0.1111111111111111,
              "#46039f"
             ],
             [
              0.2222222222222222,
              "#7201a8"
             ],
             [
              0.3333333333333333,
              "#9c179e"
             ],
             [
              0.4444444444444444,
              "#bd3786"
             ],
             [
              0.5555555555555556,
              "#d8576b"
             ],
             [
              0.6666666666666666,
              "#ed7953"
             ],
             [
              0.7777777777777778,
              "#fb9f3a"
             ],
             [
              0.8888888888888888,
              "#fdca26"
             ],
             [
              1,
              "#f0f921"
             ]
            ],
            "type": "heatmap"
           }
          ],
          "histogram": [
           {
            "marker": {
             "pattern": {
              "fillmode": "overlay",
              "size": 10,
              "solidity": 0.2
             }
            },
            "type": "histogram"
           }
          ],
          "histogram2d": [
           {
            "colorbar": {
             "outlinewidth": 0,
             "ticks": ""
            },
            "colorscale": [
             [
              0,
              "#0d0887"
             ],
             [
              0.1111111111111111,
              "#46039f"
             ],
             [
              0.2222222222222222,
              "#7201a8"
             ],
             [
              0.3333333333333333,
              "#9c179e"
             ],
             [
              0.4444444444444444,
              "#bd3786"
             ],
             [
              0.5555555555555556,
              "#d8576b"
             ],
             [
              0.6666666666666666,
              "#ed7953"
             ],
             [
              0.7777777777777778,
              "#fb9f3a"
             ],
             [
              0.8888888888888888,
              "#fdca26"
             ],
             [
              1,
              "#f0f921"
             ]
            ],
            "type": "histogram2d"
           }
          ],
          "histogram2dcontour": [
           {
            "colorbar": {
             "outlinewidth": 0,
             "ticks": ""
            },
            "colorscale": [
             [
              0,
              "#0d0887"
             ],
             [
              0.1111111111111111,
              "#46039f"
             ],
             [
              0.2222222222222222,
              "#7201a8"
             ],
             [
              0.3333333333333333,
              "#9c179e"
             ],
             [
              0.4444444444444444,
              "#bd3786"
             ],
             [
              0.5555555555555556,
              "#d8576b"
             ],
             [
              0.6666666666666666,
              "#ed7953"
             ],
             [
              0.7777777777777778,
              "#fb9f3a"
             ],
             [
              0.8888888888888888,
              "#fdca26"
             ],
             [
              1,
              "#f0f921"
             ]
            ],
            "type": "histogram2dcontour"
           }
          ],
          "mesh3d": [
           {
            "colorbar": {
             "outlinewidth": 0,
             "ticks": ""
            },
            "type": "mesh3d"
           }
          ],
          "parcoords": [
           {
            "line": {
             "colorbar": {
              "outlinewidth": 0,
              "ticks": ""
             }
            },
            "type": "parcoords"
           }
          ],
          "pie": [
           {
            "automargin": true,
            "type": "pie"
           }
          ],
          "scatter": [
           {
            "fillpattern": {
             "fillmode": "overlay",
             "size": 10,
             "solidity": 0.2
            },
            "type": "scatter"
           }
          ],
          "scatter3d": [
           {
            "line": {
             "colorbar": {
              "outlinewidth": 0,
              "ticks": ""
             }
            },
            "marker": {
             "colorbar": {
              "outlinewidth": 0,
              "ticks": ""
             }
            },
            "type": "scatter3d"
           }
          ],
          "scattercarpet": [
           {
            "marker": {
             "colorbar": {
              "outlinewidth": 0,
              "ticks": ""
             }
            },
            "type": "scattercarpet"
           }
          ],
          "scattergeo": [
           {
            "marker": {
             "colorbar": {
              "outlinewidth": 0,
              "ticks": ""
             }
            },
            "type": "scattergeo"
           }
          ],
          "scattergl": [
           {
            "marker": {
             "colorbar": {
              "outlinewidth": 0,
              "ticks": ""
             }
            },
            "type": "scattergl"
           }
          ],
          "scattermap": [
           {
            "marker": {
             "colorbar": {
              "outlinewidth": 0,
              "ticks": ""
             }
            },
            "type": "scattermap"
           }
          ],
          "scattermapbox": [
           {
            "marker": {
             "colorbar": {
              "outlinewidth": 0,
              "ticks": ""
             }
            },
            "type": "scattermapbox"
           }
          ],
          "scatterpolar": [
           {
            "marker": {
             "colorbar": {
              "outlinewidth": 0,
              "ticks": ""
             }
            },
            "type": "scatterpolar"
           }
          ],
          "scatterpolargl": [
           {
            "marker": {
             "colorbar": {
              "outlinewidth": 0,
              "ticks": ""
             }
            },
            "type": "scatterpolargl"
           }
          ],
          "scatterternary": [
           {
            "marker": {
             "colorbar": {
              "outlinewidth": 0,
              "ticks": ""
             }
            },
            "type": "scatterternary"
           }
          ],
          "surface": [
           {
            "colorbar": {
             "outlinewidth": 0,
             "ticks": ""
            },
            "colorscale": [
             [
              0,
              "#0d0887"
             ],
             [
              0.1111111111111111,
              "#46039f"
             ],
             [
              0.2222222222222222,
              "#7201a8"
             ],
             [
              0.3333333333333333,
              "#9c179e"
             ],
             [
              0.4444444444444444,
              "#bd3786"
             ],
             [
              0.5555555555555556,
              "#d8576b"
             ],
             [
              0.6666666666666666,
              "#ed7953"
             ],
             [
              0.7777777777777778,
              "#fb9f3a"
             ],
             [
              0.8888888888888888,
              "#fdca26"
             ],
             [
              1,
              "#f0f921"
             ]
            ],
            "type": "surface"
           }
          ],
          "table": [
           {
            "cells": {
             "fill": {
              "color": "#EBF0F8"
             },
             "line": {
              "color": "white"
             }
            },
            "header": {
             "fill": {
              "color": "#C8D4E3"
             },
             "line": {
              "color": "white"
             }
            },
            "type": "table"
           }
          ]
         },
         "layout": {
          "annotationdefaults": {
           "arrowcolor": "#2a3f5f",
           "arrowhead": 0,
           "arrowwidth": 1
          },
          "autotypenumbers": "strict",
          "coloraxis": {
           "colorbar": {
            "outlinewidth": 0,
            "ticks": ""
           }
          },
          "colorscale": {
           "diverging": [
            [
             0,
             "#8e0152"
            ],
            [
             0.1,
             "#c51b7d"
            ],
            [
             0.2,
             "#de77ae"
            ],
            [
             0.3,
             "#f1b6da"
            ],
            [
             0.4,
             "#fde0ef"
            ],
            [
             0.5,
             "#f7f7f7"
            ],
            [
             0.6,
             "#e6f5d0"
            ],
            [
             0.7,
             "#b8e186"
            ],
            [
             0.8,
             "#7fbc41"
            ],
            [
             0.9,
             "#4d9221"
            ],
            [
             1,
             "#276419"
            ]
           ],
           "sequential": [
            [
             0,
             "#0d0887"
            ],
            [
             0.1111111111111111,
             "#46039f"
            ],
            [
             0.2222222222222222,
             "#7201a8"
            ],
            [
             0.3333333333333333,
             "#9c179e"
            ],
            [
             0.4444444444444444,
             "#bd3786"
            ],
            [
             0.5555555555555556,
             "#d8576b"
            ],
            [
             0.6666666666666666,
             "#ed7953"
            ],
            [
             0.7777777777777778,
             "#fb9f3a"
            ],
            [
             0.8888888888888888,
             "#fdca26"
            ],
            [
             1,
             "#f0f921"
            ]
           ],
           "sequentialminus": [
            [
             0,
             "#0d0887"
            ],
            [
             0.1111111111111111,
             "#46039f"
            ],
            [
             0.2222222222222222,
             "#7201a8"
            ],
            [
             0.3333333333333333,
             "#9c179e"
            ],
            [
             0.4444444444444444,
             "#bd3786"
            ],
            [
             0.5555555555555556,
             "#d8576b"
            ],
            [
             0.6666666666666666,
             "#ed7953"
            ],
            [
             0.7777777777777778,
             "#fb9f3a"
            ],
            [
             0.8888888888888888,
             "#fdca26"
            ],
            [
             1,
             "#f0f921"
            ]
           ]
          },
          "colorway": [
           "#636efa",
           "#EF553B",
           "#00cc96",
           "#ab63fa",
           "#FFA15A",
           "#19d3f3",
           "#FF6692",
           "#B6E880",
           "#FF97FF",
           "#FECB52"
          ],
          "font": {
           "color": "#2a3f5f"
          },
          "geo": {
           "bgcolor": "white",
           "lakecolor": "white",
           "landcolor": "#E5ECF6",
           "showlakes": true,
           "showland": true,
           "subunitcolor": "white"
          },
          "hoverlabel": {
           "align": "left"
          },
          "hovermode": "closest",
          "mapbox": {
           "style": "light"
          },
          "paper_bgcolor": "white",
          "plot_bgcolor": "#E5ECF6",
          "polar": {
           "angularaxis": {
            "gridcolor": "white",
            "linecolor": "white",
            "ticks": ""
           },
           "bgcolor": "#E5ECF6",
           "radialaxis": {
            "gridcolor": "white",
            "linecolor": "white",
            "ticks": ""
           }
          },
          "scene": {
           "xaxis": {
            "backgroundcolor": "#E5ECF6",
            "gridcolor": "white",
            "gridwidth": 2,
            "linecolor": "white",
            "showbackground": true,
            "ticks": "",
            "zerolinecolor": "white"
           },
           "yaxis": {
            "backgroundcolor": "#E5ECF6",
            "gridcolor": "white",
            "gridwidth": 2,
            "linecolor": "white",
            "showbackground": true,
            "ticks": "",
            "zerolinecolor": "white"
           },
           "zaxis": {
            "backgroundcolor": "#E5ECF6",
            "gridcolor": "white",
            "gridwidth": 2,
            "linecolor": "white",
            "showbackground": true,
            "ticks": "",
            "zerolinecolor": "white"
           }
          },
          "shapedefaults": {
           "line": {
            "color": "#2a3f5f"
           }
          },
          "ternary": {
           "aaxis": {
            "gridcolor": "white",
            "linecolor": "white",
            "ticks": ""
           },
           "baxis": {
            "gridcolor": "white",
            "linecolor": "white",
            "ticks": ""
           },
           "bgcolor": "#E5ECF6",
           "caxis": {
            "gridcolor": "white",
            "linecolor": "white",
            "ticks": ""
           }
          },
          "title": {
           "x": 0.05
          },
          "xaxis": {
           "automargin": true,
           "gridcolor": "white",
           "linecolor": "white",
           "ticks": "",
           "title": {
            "standoff": 15
           },
           "zerolinecolor": "white",
           "zerolinewidth": 2
          },
          "yaxis": {
           "automargin": true,
           "gridcolor": "white",
           "linecolor": "white",
           "ticks": "",
           "title": {
            "standoff": 15
           },
           "zerolinecolor": "white",
           "zerolinewidth": 2
          }
         }
        },
        "title": {
         "text": "Slice Plot"
        },
        "width": 2700,
        "xaxis": {
         "anchor": "y",
         "domain": [
          0,
          0.09135802469135802
         ],
         "title": {
          "text": "colsample_bytree"
         }
        },
        "xaxis2": {
         "anchor": "y2",
         "domain": [
          0.11358024691358025,
          0.20493827160493827
         ],
         "title": {
          "text": "learning_rate"
         },
         "type": "log"
        },
        "xaxis3": {
         "anchor": "y3",
         "domain": [
          0.2271604938271605,
          0.31851851851851853
         ],
         "title": {
          "text": "max_depth"
         }
        },
        "xaxis4": {
         "anchor": "y4",
         "domain": [
          0.34074074074074073,
          0.43209876543209874
         ],
         "title": {
          "text": "min_child_samples"
         }
        },
        "xaxis5": {
         "anchor": "y5",
         "domain": [
          0.454320987654321,
          0.5456790123456791
         ],
         "title": {
          "text": "n_estimators"
         }
        },
        "xaxis6": {
         "anchor": "y6",
         "domain": [
          0.5679012345679012,
          0.6592592592592592
         ],
         "title": {
          "text": "num_leaves"
         }
        },
        "xaxis7": {
         "anchor": "y7",
         "domain": [
          0.6814814814814815,
          0.7728395061728395
         ],
         "title": {
          "text": "reg_alpha"
         }
        },
        "xaxis8": {
         "anchor": "y8",
         "domain": [
          0.7950617283950617,
          0.8864197530864197
         ],
         "title": {
          "text": "reg_lambda"
         }
        },
        "xaxis9": {
         "anchor": "y9",
         "domain": [
          0.908641975308642,
          1
         ],
         "title": {
          "text": "subsample"
         }
        },
        "yaxis": {
         "anchor": "x",
         "domain": [
          0,
          1
         ],
         "title": {
          "text": "Objective Value"
         }
        },
        "yaxis2": {
         "anchor": "x2",
         "domain": [
          0,
          1
         ],
         "matches": "y",
         "showticklabels": false
        },
        "yaxis3": {
         "anchor": "x3",
         "domain": [
          0,
          1
         ],
         "matches": "y",
         "showticklabels": false
        },
        "yaxis4": {
         "anchor": "x4",
         "domain": [
          0,
          1
         ],
         "matches": "y",
         "showticklabels": false
        },
        "yaxis5": {
         "anchor": "x5",
         "domain": [
          0,
          1
         ],
         "matches": "y",
         "showticklabels": false
        },
        "yaxis6": {
         "anchor": "x6",
         "domain": [
          0,
          1
         ],
         "matches": "y",
         "showticklabels": false
        },
        "yaxis7": {
         "anchor": "x7",
         "domain": [
          0,
          1
         ],
         "matches": "y",
         "showticklabels": false
        },
        "yaxis8": {
         "anchor": "x8",
         "domain": [
          0,
          1
         ],
         "matches": "y",
         "showticklabels": false
        },
        "yaxis9": {
         "anchor": "x9",
         "domain": [
          0,
          1
         ],
         "matches": "y",
         "showticklabels": false
        }
       }
      }
     },
     "metadata": {},
     "output_type": "display_data"
    }
   ],
   "source": [
    "vis.plot_slice(study=study_lgbm)"
   ]
  },
  {
   "cell_type": "code",
   "execution_count": 66,
   "id": "63d8c3ff",
   "metadata": {},
   "outputs": [
    {
     "data": {
      "application/vnd.plotly.v1+json": {
       "config": {
        "plotlyServerURL": "https://plot.ly"
       },
       "data": [
        {
         "cliponaxis": false,
         "hovertemplate": [
          "subsample (FloatDistribution): 0.011549906789168798<extra></extra>",
          "reg_alpha (FloatDistribution): 0.018371144645776803<extra></extra>",
          "max_depth (IntDistribution): 0.024055988752739968<extra></extra>",
          "reg_lambda (FloatDistribution): 0.028956722354829215<extra></extra>",
          "colsample_bytree (FloatDistribution): 0.04200992687457207<extra></extra>",
          "min_child_samples (IntDistribution): 0.0463313701586235<extra></extra>",
          "num_leaves (IntDistribution): 0.05792524967146946<extra></extra>",
          "n_estimators (IntDistribution): 0.14612695238263934<extra></extra>",
          "learning_rate (FloatDistribution): 0.6246727383701809<extra></extra>"
         ],
         "name": "Objective Value",
         "orientation": "h",
         "text": [
          "0.01",
          "0.02",
          "0.02",
          "0.03",
          "0.04",
          "0.05",
          "0.06",
          "0.15",
          "0.62"
         ],
         "textposition": "outside",
         "type": "bar",
         "x": [
          0.011549906789168798,
          0.018371144645776803,
          0.024055988752739968,
          0.028956722354829215,
          0.04200992687457207,
          0.0463313701586235,
          0.05792524967146946,
          0.14612695238263934,
          0.6246727383701809
         ],
         "y": [
          "subsample",
          "reg_alpha",
          "max_depth",
          "reg_lambda",
          "colsample_bytree",
          "min_child_samples",
          "num_leaves",
          "n_estimators",
          "learning_rate"
         ]
        }
       ],
       "layout": {
        "template": {
         "data": {
          "bar": [
           {
            "error_x": {
             "color": "#2a3f5f"
            },
            "error_y": {
             "color": "#2a3f5f"
            },
            "marker": {
             "line": {
              "color": "#E5ECF6",
              "width": 0.5
             },
             "pattern": {
              "fillmode": "overlay",
              "size": 10,
              "solidity": 0.2
             }
            },
            "type": "bar"
           }
          ],
          "barpolar": [
           {
            "marker": {
             "line": {
              "color": "#E5ECF6",
              "width": 0.5
             },
             "pattern": {
              "fillmode": "overlay",
              "size": 10,
              "solidity": 0.2
             }
            },
            "type": "barpolar"
           }
          ],
          "carpet": [
           {
            "aaxis": {
             "endlinecolor": "#2a3f5f",
             "gridcolor": "white",
             "linecolor": "white",
             "minorgridcolor": "white",
             "startlinecolor": "#2a3f5f"
            },
            "baxis": {
             "endlinecolor": "#2a3f5f",
             "gridcolor": "white",
             "linecolor": "white",
             "minorgridcolor": "white",
             "startlinecolor": "#2a3f5f"
            },
            "type": "carpet"
           }
          ],
          "choropleth": [
           {
            "colorbar": {
             "outlinewidth": 0,
             "ticks": ""
            },
            "type": "choropleth"
           }
          ],
          "contour": [
           {
            "colorbar": {
             "outlinewidth": 0,
             "ticks": ""
            },
            "colorscale": [
             [
              0,
              "#0d0887"
             ],
             [
              0.1111111111111111,
              "#46039f"
             ],
             [
              0.2222222222222222,
              "#7201a8"
             ],
             [
              0.3333333333333333,
              "#9c179e"
             ],
             [
              0.4444444444444444,
              "#bd3786"
             ],
             [
              0.5555555555555556,
              "#d8576b"
             ],
             [
              0.6666666666666666,
              "#ed7953"
             ],
             [
              0.7777777777777778,
              "#fb9f3a"
             ],
             [
              0.8888888888888888,
              "#fdca26"
             ],
             [
              1,
              "#f0f921"
             ]
            ],
            "type": "contour"
           }
          ],
          "contourcarpet": [
           {
            "colorbar": {
             "outlinewidth": 0,
             "ticks": ""
            },
            "type": "contourcarpet"
           }
          ],
          "heatmap": [
           {
            "colorbar": {
             "outlinewidth": 0,
             "ticks": ""
            },
            "colorscale": [
             [
              0,
              "#0d0887"
             ],
             [
              0.1111111111111111,
              "#46039f"
             ],
             [
              0.2222222222222222,
              "#7201a8"
             ],
             [
              0.3333333333333333,
              "#9c179e"
             ],
             [
              0.4444444444444444,
              "#bd3786"
             ],
             [
              0.5555555555555556,
              "#d8576b"
             ],
             [
              0.6666666666666666,
              "#ed7953"
             ],
             [
              0.7777777777777778,
              "#fb9f3a"
             ],
             [
              0.8888888888888888,
              "#fdca26"
             ],
             [
              1,
              "#f0f921"
             ]
            ],
            "type": "heatmap"
           }
          ],
          "histogram": [
           {
            "marker": {
             "pattern": {
              "fillmode": "overlay",
              "size": 10,
              "solidity": 0.2
             }
            },
            "type": "histogram"
           }
          ],
          "histogram2d": [
           {
            "colorbar": {
             "outlinewidth": 0,
             "ticks": ""
            },
            "colorscale": [
             [
              0,
              "#0d0887"
             ],
             [
              0.1111111111111111,
              "#46039f"
             ],
             [
              0.2222222222222222,
              "#7201a8"
             ],
             [
              0.3333333333333333,
              "#9c179e"
             ],
             [
              0.4444444444444444,
              "#bd3786"
             ],
             [
              0.5555555555555556,
              "#d8576b"
             ],
             [
              0.6666666666666666,
              "#ed7953"
             ],
             [
              0.7777777777777778,
              "#fb9f3a"
             ],
             [
              0.8888888888888888,
              "#fdca26"
             ],
             [
              1,
              "#f0f921"
             ]
            ],
            "type": "histogram2d"
           }
          ],
          "histogram2dcontour": [
           {
            "colorbar": {
             "outlinewidth": 0,
             "ticks": ""
            },
            "colorscale": [
             [
              0,
              "#0d0887"
             ],
             [
              0.1111111111111111,
              "#46039f"
             ],
             [
              0.2222222222222222,
              "#7201a8"
             ],
             [
              0.3333333333333333,
              "#9c179e"
             ],
             [
              0.4444444444444444,
              "#bd3786"
             ],
             [
              0.5555555555555556,
              "#d8576b"
             ],
             [
              0.6666666666666666,
              "#ed7953"
             ],
             [
              0.7777777777777778,
              "#fb9f3a"
             ],
             [
              0.8888888888888888,
              "#fdca26"
             ],
             [
              1,
              "#f0f921"
             ]
            ],
            "type": "histogram2dcontour"
           }
          ],
          "mesh3d": [
           {
            "colorbar": {
             "outlinewidth": 0,
             "ticks": ""
            },
            "type": "mesh3d"
           }
          ],
          "parcoords": [
           {
            "line": {
             "colorbar": {
              "outlinewidth": 0,
              "ticks": ""
             }
            },
            "type": "parcoords"
           }
          ],
          "pie": [
           {
            "automargin": true,
            "type": "pie"
           }
          ],
          "scatter": [
           {
            "fillpattern": {
             "fillmode": "overlay",
             "size": 10,
             "solidity": 0.2
            },
            "type": "scatter"
           }
          ],
          "scatter3d": [
           {
            "line": {
             "colorbar": {
              "outlinewidth": 0,
              "ticks": ""
             }
            },
            "marker": {
             "colorbar": {
              "outlinewidth": 0,
              "ticks": ""
             }
            },
            "type": "scatter3d"
           }
          ],
          "scattercarpet": [
           {
            "marker": {
             "colorbar": {
              "outlinewidth": 0,
              "ticks": ""
             }
            },
            "type": "scattercarpet"
           }
          ],
          "scattergeo": [
           {
            "marker": {
             "colorbar": {
              "outlinewidth": 0,
              "ticks": ""
             }
            },
            "type": "scattergeo"
           }
          ],
          "scattergl": [
           {
            "marker": {
             "colorbar": {
              "outlinewidth": 0,
              "ticks": ""
             }
            },
            "type": "scattergl"
           }
          ],
          "scattermap": [
           {
            "marker": {
             "colorbar": {
              "outlinewidth": 0,
              "ticks": ""
             }
            },
            "type": "scattermap"
           }
          ],
          "scattermapbox": [
           {
            "marker": {
             "colorbar": {
              "outlinewidth": 0,
              "ticks": ""
             }
            },
            "type": "scattermapbox"
           }
          ],
          "scatterpolar": [
           {
            "marker": {
             "colorbar": {
              "outlinewidth": 0,
              "ticks": ""
             }
            },
            "type": "scatterpolar"
           }
          ],
          "scatterpolargl": [
           {
            "marker": {
             "colorbar": {
              "outlinewidth": 0,
              "ticks": ""
             }
            },
            "type": "scatterpolargl"
           }
          ],
          "scatterternary": [
           {
            "marker": {
             "colorbar": {
              "outlinewidth": 0,
              "ticks": ""
             }
            },
            "type": "scatterternary"
           }
          ],
          "surface": [
           {
            "colorbar": {
             "outlinewidth": 0,
             "ticks": ""
            },
            "colorscale": [
             [
              0,
              "#0d0887"
             ],
             [
              0.1111111111111111,
              "#46039f"
             ],
             [
              0.2222222222222222,
              "#7201a8"
             ],
             [
              0.3333333333333333,
              "#9c179e"
             ],
             [
              0.4444444444444444,
              "#bd3786"
             ],
             [
              0.5555555555555556,
              "#d8576b"
             ],
             [
              0.6666666666666666,
              "#ed7953"
             ],
             [
              0.7777777777777778,
              "#fb9f3a"
             ],
             [
              0.8888888888888888,
              "#fdca26"
             ],
             [
              1,
              "#f0f921"
             ]
            ],
            "type": "surface"
           }
          ],
          "table": [
           {
            "cells": {
             "fill": {
              "color": "#EBF0F8"
             },
             "line": {
              "color": "white"
             }
            },
            "header": {
             "fill": {
              "color": "#C8D4E3"
             },
             "line": {
              "color": "white"
             }
            },
            "type": "table"
           }
          ]
         },
         "layout": {
          "annotationdefaults": {
           "arrowcolor": "#2a3f5f",
           "arrowhead": 0,
           "arrowwidth": 1
          },
          "autotypenumbers": "strict",
          "coloraxis": {
           "colorbar": {
            "outlinewidth": 0,
            "ticks": ""
           }
          },
          "colorscale": {
           "diverging": [
            [
             0,
             "#8e0152"
            ],
            [
             0.1,
             "#c51b7d"
            ],
            [
             0.2,
             "#de77ae"
            ],
            [
             0.3,
             "#f1b6da"
            ],
            [
             0.4,
             "#fde0ef"
            ],
            [
             0.5,
             "#f7f7f7"
            ],
            [
             0.6,
             "#e6f5d0"
            ],
            [
             0.7,
             "#b8e186"
            ],
            [
             0.8,
             "#7fbc41"
            ],
            [
             0.9,
             "#4d9221"
            ],
            [
             1,
             "#276419"
            ]
           ],
           "sequential": [
            [
             0,
             "#0d0887"
            ],
            [
             0.1111111111111111,
             "#46039f"
            ],
            [
             0.2222222222222222,
             "#7201a8"
            ],
            [
             0.3333333333333333,
             "#9c179e"
            ],
            [
             0.4444444444444444,
             "#bd3786"
            ],
            [
             0.5555555555555556,
             "#d8576b"
            ],
            [
             0.6666666666666666,
             "#ed7953"
            ],
            [
             0.7777777777777778,
             "#fb9f3a"
            ],
            [
             0.8888888888888888,
             "#fdca26"
            ],
            [
             1,
             "#f0f921"
            ]
           ],
           "sequentialminus": [
            [
             0,
             "#0d0887"
            ],
            [
             0.1111111111111111,
             "#46039f"
            ],
            [
             0.2222222222222222,
             "#7201a8"
            ],
            [
             0.3333333333333333,
             "#9c179e"
            ],
            [
             0.4444444444444444,
             "#bd3786"
            ],
            [
             0.5555555555555556,
             "#d8576b"
            ],
            [
             0.6666666666666666,
             "#ed7953"
            ],
            [
             0.7777777777777778,
             "#fb9f3a"
            ],
            [
             0.8888888888888888,
             "#fdca26"
            ],
            [
             1,
             "#f0f921"
            ]
           ]
          },
          "colorway": [
           "#636efa",
           "#EF553B",
           "#00cc96",
           "#ab63fa",
           "#FFA15A",
           "#19d3f3",
           "#FF6692",
           "#B6E880",
           "#FF97FF",
           "#FECB52"
          ],
          "font": {
           "color": "#2a3f5f"
          },
          "geo": {
           "bgcolor": "white",
           "lakecolor": "white",
           "landcolor": "#E5ECF6",
           "showlakes": true,
           "showland": true,
           "subunitcolor": "white"
          },
          "hoverlabel": {
           "align": "left"
          },
          "hovermode": "closest",
          "mapbox": {
           "style": "light"
          },
          "paper_bgcolor": "white",
          "plot_bgcolor": "#E5ECF6",
          "polar": {
           "angularaxis": {
            "gridcolor": "white",
            "linecolor": "white",
            "ticks": ""
           },
           "bgcolor": "#E5ECF6",
           "radialaxis": {
            "gridcolor": "white",
            "linecolor": "white",
            "ticks": ""
           }
          },
          "scene": {
           "xaxis": {
            "backgroundcolor": "#E5ECF6",
            "gridcolor": "white",
            "gridwidth": 2,
            "linecolor": "white",
            "showbackground": true,
            "ticks": "",
            "zerolinecolor": "white"
           },
           "yaxis": {
            "backgroundcolor": "#E5ECF6",
            "gridcolor": "white",
            "gridwidth": 2,
            "linecolor": "white",
            "showbackground": true,
            "ticks": "",
            "zerolinecolor": "white"
           },
           "zaxis": {
            "backgroundcolor": "#E5ECF6",
            "gridcolor": "white",
            "gridwidth": 2,
            "linecolor": "white",
            "showbackground": true,
            "ticks": "",
            "zerolinecolor": "white"
           }
          },
          "shapedefaults": {
           "line": {
            "color": "#2a3f5f"
           }
          },
          "ternary": {
           "aaxis": {
            "gridcolor": "white",
            "linecolor": "white",
            "ticks": ""
           },
           "baxis": {
            "gridcolor": "white",
            "linecolor": "white",
            "ticks": ""
           },
           "bgcolor": "#E5ECF6",
           "caxis": {
            "gridcolor": "white",
            "linecolor": "white",
            "ticks": ""
           }
          },
          "title": {
           "x": 0.05
          },
          "xaxis": {
           "automargin": true,
           "gridcolor": "white",
           "linecolor": "white",
           "ticks": "",
           "title": {
            "standoff": 15
           },
           "zerolinecolor": "white",
           "zerolinewidth": 2
          },
          "yaxis": {
           "automargin": true,
           "gridcolor": "white",
           "linecolor": "white",
           "ticks": "",
           "title": {
            "standoff": 15
           },
           "zerolinecolor": "white",
           "zerolinewidth": 2
          }
         }
        },
        "title": {
         "text": "Hyperparameter Importances"
        },
        "xaxis": {
         "title": {
          "text": "Hyperparameter Importance"
         }
        },
        "yaxis": {
         "title": {
          "text": "Hyperparameter"
         }
        }
       }
      }
     },
     "metadata": {},
     "output_type": "display_data"
    }
   ],
   "source": [
    "vis.plot_param_importances(study=study_lgbm)"
   ]
  },
  {
   "cell_type": "code",
   "execution_count": null,
   "id": "9508828b",
   "metadata": {},
   "outputs": [
    {
     "ename": "",
     "evalue": "",
     "output_type": "error",
     "traceback": [
      "\u001b[1;31mThe Kernel crashed while executing code in the current cell or a previous cell. \n",
      "\u001b[1;31mPlease review the code in the cell(s) to identify a possible cause of the failure. \n",
      "\u001b[1;31mClick <a href='https://aka.ms/vscodeJupyterKernelCrash'>here</a> for more info. \n",
      "\u001b[1;31mView Jupyter <a href='command:jupyter.viewOutput'>log</a> for further details."
     ]
    }
   ],
   "source": [
    "task_lgbm.close()"
   ]
  }
 ],
 "metadata": {
  "kernelspec": {
   "display_name": "Python 3",
   "language": "python",
   "name": "python3"
  },
  "language_info": {
   "codemirror_mode": {
    "name": "ipython",
    "version": 3
   },
   "file_extension": ".py",
   "mimetype": "text/x-python",
   "name": "python",
   "nbconvert_exporter": "python",
   "pygments_lexer": "ipython3",
   "version": "3.13.2"
  }
 },
 "nbformat": 4,
 "nbformat_minor": 5
}
