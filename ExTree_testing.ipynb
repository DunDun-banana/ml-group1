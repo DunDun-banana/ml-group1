{
 "cells": [
  {
   "cell_type": "code",
   "execution_count": 1,
   "id": "b72ccedf",
   "metadata": {},
   "outputs": [
    {
     "name": "stderr",
     "output_type": "stream",
     "text": [
      "c:\\Users\\Admin\\Documents\\ML\\group1\\venv\\Lib\\site-packages\\tqdm\\auto.py:21: TqdmWarning: IProgress not found. Please update jupyter and ipywidgets. See https://ipywidgets.readthedocs.io/en/stable/user_install.html\n",
      "  from .autonotebook import tqdm as notebook_tqdm\n"
     ]
    }
   ],
   "source": [
    "from clearml import Task\n",
    "import numpy as np\n",
    "import random\n",
    "import os\n",
    "import optuna\n",
    "\n",
    "import joblib\n",
    "import pandas as pd\n",
    "import optuna.visualization as vis\n",
    "import matplotlib.pyplot as plt\n",
    "\n",
    "from pathlib import Path\n",
    "from clearml import Logger\n",
    "from sklearn.ensemble import RandomForestRegressor\n",
    "from sklearn.ensemble import ExtraTreesRegressor, GradientBoostingRegressor\n",
    "from sklearn.model_selection import TimeSeriesSplit\n",
    "\n",
    "from src import data_preprocessing as dp\n",
    "from src import pipeline as pl\n",
    "from src import feature_engineering as fe\n",
    "from src.model_evaluation import evaluate\n",
    "from sklearn.model_selection import cross_val_score, cross_val_predict, KFold\n",
    "\n",
    "SEED = 42 # vẫn phải chọn random của model đấy\n",
    "\n",
    "# Python, NumPy\n",
    "random.seed(SEED)\n",
    "np.random.seed(SEED) \n",
    "\n",
    "# Hash seed cho Python interpreter (ảnh hưởng tới dict order)\n",
    "os.environ['PYTHONHASHSEED'] = str(SEED)\n",
    "\n",
    "# Giới hạn luồng tính toán song song (để tránh floating-point nondeterminism)\n",
    "os.environ[\"OMP_NUM_THREADS\"] = \"1\"\n",
    "os.environ[\"MKL_NUM_THREADS\"] = \"1\"\n",
    "os.environ[\"NUMEXPR_NUM_THREADS\"] = \"1\"\n",
    "\n",
    "# tạo sampler của Optuna có seed cố định\n",
    "sampler = optuna.samplers.TPESampler(seed=SEED)\n"
   ]
  },
  {
   "cell_type": "code",
   "execution_count": 2,
   "id": "e8a9465b",
   "metadata": {},
   "outputs": [
    {
     "name": "stdout",
     "output_type": "stream",
     "text": [
      " Loaded data with shape: (3660, 33)\n",
      "Dropped column: 'description'\n",
      "Dropped column: 'icon'\n",
      "Dropped column: 'stations'\n",
      "Dropped column: 'name'\n",
      "(2562, 246)\n"
     ]
    }
   ],
   "source": [
    "# 1. Load raw Data\n",
    "df = dp.load_data(r\"data\\raw data\\Hanoi Daily 10 years.csv\")\n",
    "\n",
    "\n",
    "# 2. basic preprocessing for all data set\n",
    "df = dp.basic_preprocessing(df=df)\n",
    "\n",
    "# 3. chia train, val, test (tỉ lệ 70/15/15)\n",
    "target_col = 'temp'\n",
    "train_size = 0.7\n",
    "val_size = 0.15\n",
    "n = len(df)\n",
    "\n",
    "train_df = df.iloc[:int(train_size*n)]\n",
    "val_df = df.iloc[int(train_size*n):int((train_size+val_size)*n)]\n",
    "test_df = df.iloc[int((train_size+val_size)*n):]\n",
    "\n",
    "# 4. Fit và transform trên preprocessing pipeline\n",
    "pipeline1 = pl.build_preprocessing_pipeline()\n",
    "\n",
    "# fit trên train\n",
    "pipeline1.fit(train_df)\n",
    "\n",
    "# transform \n",
    "train_processed = pipeline1.transform(train_df)\n",
    "val_processed = pipeline1.transform(val_df)\n",
    "test_processed = pipeline1.transform(test_df)\n",
    "\n",
    "\n",
    "# Tạo feature engineering\n",
    "column_lag = ['tempmax', 'tempmin', 'dew', 'humidity', 'precip',\n",
    "    'precipprob', 'precipcover', 'windgust', 'windspeed',\n",
    "    'sealevelpressure', 'cloudcover', 'visibility', 'solarradiation', \n",
    "    'pressure_temp_index', 'wind_temp_index', 'temp_range', 'dew_spread']\n",
    "\n",
    "train_feat = fe.feature_engineering(train_processed, column= column_lag)\n",
    "val_feat = fe.feature_engineering(val_processed, column= column_lag)\n",
    "test_feat = fe.feature_engineering(test_processed, column= column_lag)\n",
    "print(train_feat.shape)"
   ]
  },
  {
   "cell_type": "code",
   "execution_count": 3,
   "id": "6efadf4d",
   "metadata": {},
   "outputs": [
    {
     "name": "stdout",
     "output_type": "stream",
     "text": [
      "Train: ((2562, 245), (2562,)), Val: ((549, 245), (549,)), Test: ((549, 245), (549,))\n"
     ]
    }
   ],
   "source": [
    "# Chia X, y riêng biệt\n",
    "X_train, y_train = train_feat.drop(columns=[target_col]), train_df[target_col]\n",
    "X_val, y_val = val_feat.drop(columns=[target_col]), val_df[target_col]\n",
    "X_test, y_test = test_feat.drop(columns=[target_col]), test_df[target_col]\n",
    "\n",
    "print(f\"Train: {X_train.shape, y_train.shape}, Val: {X_val.shape, y_val.shape}, Test: {X_test.shape, y_test.shape}\")"
   ]
  },
  {
   "cell_type": "code",
   "execution_count": 4,
   "id": "71a22a64",
   "metadata": {},
   "outputs": [],
   "source": [
    "pipeline2 = pl.build_ExTree_featture_engineering_pipeline(top_k=30)\n",
    "X_train = pipeline2.fit_transform(X= X_train, y= y_train)"
   ]
  },
  {
   "cell_type": "code",
   "execution_count": 5,
   "id": "1d97e06b",
   "metadata": {},
   "outputs": [],
   "source": [
    "X_val = pipeline2.transform(X= X_val)\n",
    "X_test = pipeline2.transform(X= X_test)"
   ]
  },
  {
   "cell_type": "code",
   "execution_count": 6,
   "id": "386f9b14",
   "metadata": {},
   "outputs": [
    {
     "data": {
      "text/plain": [
       "Index(['feelslike_lag_1', 'sunrise_lag_1', 'pressure_temp_index_roll_mean_14',\n",
       "       'sealevelpressure_roll_mean_14', 'dew_roll_mean_3',\n",
       "       'solar_temp_index_lag_1', 'day_length_lag_1', 'winddir_lag_1',\n",
       "       'tempmax_lag_3', 'wind_temp_index_roll_mean_14',\n",
       "       'pressure_temp_index_lag_6', 'dew_lag_5', 'dew_lag_4',\n",
       "       'month_sin_lag_1', 'uvindex_lag_1', 'windspeed_lag_1',\n",
       "       'humidity_high_lag_1', 'wind_temp_index_roll_mean_7', 'windgust_lag_1',\n",
       "       'humidity_lag_1', 'dew_roll_std_14', 'month_lag_1', 'visibility_lag_1',\n",
       "       'wind_temp_index_lag_1', 'dew_spread_lag_1', 'wind_variability_lag_1',\n",
       "       'precipprob_lag_1', 'solarradiation_roll_mean_3',\n",
       "       'windspeed_roll_mean_3', 'windgust_roll_mean_3'],\n",
       "      dtype='object')"
      ]
     },
     "execution_count": 6,
     "metadata": {},
     "output_type": "execute_result"
    }
   ],
   "source": [
    "X_train.columns"
   ]
  },
  {
   "cell_type": "code",
   "execution_count": null,
   "id": "b81d4ed4",
   "metadata": {},
   "outputs": [],
   "source": [
    "# chưa có feature selection để nguyên tất cả temp lag 1, 252 feature\n",
    "# 1. RF\n",
    "## Default\n",
    "# a. Validation metrics: {'RMSE': 2.1278075895022885, 'R2': 0.8297628223226209, 'MAPE': 7.013125189028322}\n",
    "# b. Test metrics: {'RMSE': 1.7168173002419687, 'R2': 0.8638144750921892, 'MAPE': 5.359437239042012}\n",
    "\n",
    "## Best parameter\n",
    "# Validation metrics: {'RMSE': 1.6388776242029133, 'R2': 0.8990089808287993, 'MAPE': 5.741406234570231}\n",
    "# Test metrics: {'RMSE': 1.4337918013739446, 'R2': 0.9050150119360206, 'MAPE': 4.584963631819218}\n",
    "\n",
    "\n",
    "# 2. Extra Tree\n",
    "## Default\n",
    "# Validation metrics: {'RMSE': 1.5501069852687441, 'R2': 0.9096531427481926, 'MAPE': 5.289823867518864}\n",
    "# Test metrics: {'RMSE': 1.4094799560393934, 'R2': 0.9082088955219491, 'MAPE': 4.494487229026149}\n",
    "\n",
    "## Best parameter\n",
    "# Validation metrics: {'RMSE': 1.4981094962144423, 'R2': 0.9156127533286983, 'MAPE': 5.13799909932879}\n",
    "# Test metrics: {'RMSE': 1.3558239003827515, 'R2': 0.9150644784751033, 'MAPE': 4.317549688535942}\n",
    "\n",
    "# 3. GB\n",
    "## Default\n",
    "# Validation metrics: {'RMSE': 1.479398688181336, 'R2': 0.9177075178532362, 'MAPE': 5.0692414857715775}\n",
    "# Test metrics: {'RMSE': 1.3534994389764416, 'R2': 0.9153554603683042, 'MAPE': 4.1845167790637126}\n",
    "\n",
    "## Best parameter\n",
    "# Validation metrics: {'RMSE': 1.5011458815829, 'R2': 0.9152703326059204, 'MAPE': 5.158944802837902}\n",
    "# Test metrics: {'RMSE': 1.3430800523462543, 'R2': 0.9166536500947113, 'MAPE': 4.216884591360309}"
   ]
  },
  {
   "cell_type": "markdown",
   "id": "d1e4330c",
   "metadata": {},
   "source": [
    "### Extra Tree"
   ]
  },
  {
   "cell_type": "code",
   "execution_count": null,
   "id": "f0180fa8",
   "metadata": {},
   "outputs": [
    {
     "name": "stdout",
     "output_type": "stream",
     "text": [
      "ClearML Task: created new task id=4fad4ac7a3e6418fa70a1c8170e7be0e\n",
      "ClearML results page: https://app.clear.ml/projects/01d8ce929f0243de9a9d3adf48970730/experiments/4fad4ac7a3e6418fa70a1c8170e7be0e/output/log\n",
      "Task ID: 4fad4ac7a3e6418fa70a1c8170e7be0e\n"
     ]
    },
    {
     "name": "stdout",
     "output_type": "stream",
     "text": [
      "ClearML Monitor: GPU monitoring failed getting GPU reading, switching off GPU monitoring\n",
      "ClearML Monitor: Could not detect iteration reporting, falling back to iterations as seconds-from-start\n",
      "2025-10-21 18:43:01,958 - clearml.storage - INFO - Uploading: 8.15MB from c:/Users/Admin/Documents/ML/group1/models/Tuning_ExTree_model.pkl\n"
     ]
    },
    {
     "name": "stderr",
     "output_type": "stream",
     "text": [
      "█████████████████████████████████ 100% | 8.15/8.15 MB [00:33<00:00,  4.13s/MB]: \n",
      "█████████████████████████████████ 100% | 8.15/8.15 MB [00:27<00:00,  3.32s/MB]: \n",
      "### TASK STOPPED - USER ABORTED - STATUS CHANGED ###\n"
     ]
    }
   ],
   "source": [
    "# mỗi lần chạy xong, thì tạo task mới\n",
    "# Tạo task mới trong project Temperature Forecasting\n",
    "\n",
    "task_ex = Task.init(\n",
    "    project_name=\"Temperature Forecasting\",     # tên project (nếu chưa có sẽ tự tạo)\n",
    "    task_name=\"ExtraTree Optuna Tuning\", # tên task mới\n",
    "    task_type=Task.TaskTypes.optimizer            # loại task (training / testing / optimizer ...)\n",
    ")\n",
    "\n",
    "# print(\"✅ Task created successfully!\")\n",
    "print(\"Task ID:\", task_ex.id)"
   ]
  },
  {
   "cell_type": "code",
   "execution_count": 31,
   "id": "22a2705d",
   "metadata": {},
   "outputs": [],
   "source": [
    "task_extra = Task.get_task(task_id=\"4fad4ac7a3e6418fa70a1c8170e7be0e\")\n",
    "logger_extra = task_extra.get_logger()"
   ]
  },
  {
   "cell_type": "code",
   "execution_count": 7,
   "id": "b9fd182b",
   "metadata": {},
   "outputs": [],
   "source": [
    "## A. default hyper parameter\n",
    "# 1. fit \n",
    "model_ex = ExtraTreesRegressor(\n",
    "    n_estimators = 100,          # số cây (default)\n",
    "    criterion = 'squared_error', # hàm loss mặc định\n",
    "    max_depth = 7,               # bạn đặt theo baseline RF\n",
    "    min_samples_split = 2,\n",
    "    min_samples_leaf = 1,\n",
    "    min_impurity_decrease = 0.0,\n",
    "    max_features = None,         # xét tất cả features\n",
    "    max_leaf_nodes = None,\n",
    "    bootstrap = False,           # ExtraTrees mặc định là False\n",
    "    oob_score = False,           # không dùng out-of-bag\n",
    "    max_samples = None,\n",
    "    random_state = 42,\n",
    "    n_jobs = -1\n",
    ")\n",
    "model_ex.fit(X_train, y_train) \n",
    "\n",
    "# 2. predict\n",
    "y_pred_val = model_ex.predict(X_val) \n",
    "y_pred_test = model_ex.predict(X_test)"
   ]
  },
  {
   "cell_type": "code",
   "execution_count": 34,
   "id": "4c19e1cf",
   "metadata": {},
   "outputs": [],
   "source": [
    "# Lấy feature importance\n",
    "importances_extra = model_ex.feature_importances_\n",
    "\n",
    "# Tạo DataFrame hiển thị\n",
    "feat_importance_extra = pd.DataFrame({\n",
    "    'Feature': X_train.columns,\n",
    "    'Importance': importances_extra\n",
    "}).sort_values(by='Importance', ascending=False)\n",
    "\n",
    "#print(feat_importance_extra)"
   ]
  },
  {
   "cell_type": "code",
   "execution_count": 35,
   "id": "e58abfa0",
   "metadata": {},
   "outputs": [
    {
     "data": {
      "text/plain": [
       "Text(0.5, 0, 'Importance')"
      ]
     },
     "execution_count": 35,
     "metadata": {},
     "output_type": "execute_result"
    },
    {
     "data": {
      "image/png": "[encoded data removed]",
      "text/plain": [
       "<Figure size 1000x600 with 1 Axes>"
      ]
     },
     "metadata": {},
     "output_type": "display_data"
    }
   ],
   "source": [
    "plt.figure(figsize=(10, 6))\n",
    "plt.barh(feat_importance_extra['Feature'][:15], feat_importance_extra['Importance'][:15])\n",
    "plt.gca().invert_yaxis()\n",
    "plt.title(\"Top 15 Feature Importances (extra tree)\")\n",
    "plt.xlabel(\"Importance\")\n",
    "#plt.show()"
   ]
  },
  {
   "cell_type": "code",
   "execution_count": 36,
   "id": "6a342598",
   "metadata": {},
   "outputs": [
    {
     "name": "stdout",
     "output_type": "stream",
     "text": [
      "Validation metrics: {'RMSE': 1.5304805182730774, 'R2': 0.9119264879175523, 'MAPE': 5.303734179674432}\n",
      "Test metrics: {'RMSE': 1.379977872214333, 'R2': 0.9120112734451329, 'MAPE': 4.350115292487959}\n",
      "ExtraTree model saved to models/ExTree_model.pkl\n"
     ]
    },
    {
     "data": {
      "text/plain": [
       "True"
      ]
     },
     "execution_count": 36,
     "metadata": {},
     "output_type": "execute_result"
    }
   ],
   "source": [
    "# Đánh giá sơ bộ trước khi tune\n",
    "\n",
    "# 3. Evaluate on validation\n",
    "defEx_val_metrics = evaluate(y_val, y_pred_val)\n",
    "print(\"Validation metrics:\", defEx_val_metrics)\n",
    "\n",
    "# 4. Evaluate on test\n",
    "defEx_test_metrics = evaluate(y_test, y_pred_test)\n",
    "print(\"Test metrics:\", defEx_test_metrics)\n",
    "\n",
    "# 5. Save model \n",
    "model_path = r'models/ExTree_model.pkl' \n",
    "joblib.dump(model_ex, model_path)\n",
    "print(f\"ExtraTree model saved to {model_path}\")\n",
    "\n",
    "# 6 Log lên ClearML\n",
    "logger_extra.report_scalar(\"Default Metrics\", \"RMSE_val\", defEx_val_metrics[\"RMSE\"], iteration=0)\n",
    "logger_extra.report_scalar(\"Default Metrics\", \"R2_val\", defEx_val_metrics[\"R2\"], iteration=0)\n",
    "logger_extra.report_scalar(\"Default Metrics\", \"MAPE_val\", defEx_val_metrics[\"MAPE\"], iteration=0)\n",
    "logger_extra.report_scalar(\"Default Metrics\", \"RMSE_test\", defEx_test_metrics[\"RMSE\"], iteration=0)\n",
    "logger_extra.report_scalar(\"Default Metrics\", \"R2_test\", defEx_test_metrics[\"R2\"], iteration=0)\n",
    "logger_extra.report_scalar(\"Default Metrics\", \"MAPE_test\", defEx_test_metrics[\"MAPE\"], iteration=0)\n",
    "\n",
    "\n",
    "task_extra.upload_artifact(\"Default Metrics\", {\n",
    "    \"Validation\": defEx_val_metrics,\n",
    "    \"Test\": defEx_test_metrics\n",
    "})\n"
   ]
  },
  {
   "cell_type": "code",
   "execution_count": 37,
   "id": "c44fbb45",
   "metadata": {},
   "outputs": [],
   "source": [
    "## B. Hyperparameter tuning cho ExtraTrees\n",
    "def objective(trial):\n",
    "    # === 1. Định nghĩa không gian hyperparameter ===\n",
    "    params = {\n",
    "        'n_estimators': trial.suggest_int('n_estimators', 100, 1000),       # default = 100\n",
    "        'max_depth': trial.suggest_int('max_depth', 5, 50),                # default = None\n",
    "        'min_samples_split': trial.suggest_int('min_samples_split', 2, 10),# default = 2\n",
    "        'min_samples_leaf': trial.suggest_int('min_samples_leaf', 1, 5),   # default = 1\n",
    "        'min_impurity_decrease': trial.suggest_float('min_impurity_decrease', 0.0, 0.3), # default = 0\n",
    "        'max_features': trial.suggest_categorical('max_features', ['sqrt', 'log2', None]),\n",
    "        'bootstrap': False, # default = False\n",
    "        'max_leaf_nodes': trial.suggest_int('max_leaf_nodes', 100, 1000),   # default = None\n",
    "        'random_state': 42,\n",
    "        'n_jobs': -1\n",
    "    }\n",
    "\n",
    "    # === 2. TimeSeriesSplit CV ===\n",
    "    cv = TimeSeriesSplit(n_splits=5)\n",
    "    rmse_scores = []\n",
    "\n",
    "    for train_idx, val_idx in cv.split(X_train):\n",
    "        X_tr, X_val = X_train.iloc[train_idx], X_train.iloc[val_idx]\n",
    "        y_tr, y_val = y_train.iloc[train_idx], y_train.iloc[val_idx]\n",
    "\n",
    "        # === 3. Train model ===\n",
    "        model = ExtraTreesRegressor(**params)\n",
    "        model.fit(X_tr, y_tr)\n",
    "        y_pred_val = model.predict(X_val)\n",
    "\n",
    "        metrics = evaluate(y_val, y_pred_val)  # bạn có hàm evaluate riêng rồi\n",
    "        rmse_scores.append(metrics['RMSE'])\n",
    "\n",
    "    mean_rmse = np.mean(rmse_scores)\n",
    "\n",
    "    # === 4. Log kết quả lên ClearML ===\n",
    "    # (a) Log giá trị RMSE của trial\n",
    "    logger_extra.report_scalar(\n",
    "        title='Optuna Tuning',\n",
    "        series='Trial RMSE',\n",
    "        value=mean_rmse,\n",
    "        iteration=trial.number\n",
    "    )\n",
    "\n",
    "    # (b) Log bảng thông số\n",
    "    params_table = pd.DataFrame([params])\n",
    "    logger_extra.report_table(\n",
    "        title=f\"Trial {trial.number} Parameters\",\n",
    "        series=\"params\",\n",
    "        iteration=trial.number,\n",
    "        table_plot=params_table\n",
    "    )\n",
    "\n",
    "    # === 5. Trả về giá trị cần minimize (RMSE) ===\n",
    "    return mean_rmse\n"
   ]
  },
  {
   "cell_type": "code",
   "execution_count": 38,
   "id": "e72ffcc6",
   "metadata": {},
   "outputs": [
    {
     "name": "stderr",
     "output_type": "stream",
     "text": [
      "[I 2025-10-21 18:38:01,271] A new study created in memory with name: no-name-5adba6a8-8bb0-4f0c-8959-9be6a9579c32\n",
      "Best trial: 0. Best value: 1.58541:   2%|▏         | 1/50 [00:05<04:33,  5.58s/it]"
     ]
    },
    {
     "name": "stdout",
     "output_type": "stream",
     "text": [
      "[I 2025-10-21 18:38:06,844] Trial 0 finished with value: 1.5854138017797699 and parameters: {'n_estimators': 437, 'max_depth': 48, 'min_samples_split': 8, 'min_samples_leaf': 3, 'min_impurity_decrease': 0.04680559213273095, 'max_features': None, 'max_leaf_nodes': 641}. Best is trial 0 with value: 1.5854138017797699.\n"
     ]
    },
    {
     "name": "stderr",
     "output_type": "stream",
     "text": [
      "Best trial: 0. Best value: 1.58541:   4%|▍         | 2/50 [00:15<06:25,  8.03s/it]"
     ]
    },
    {
     "name": "stdout",
     "output_type": "stream",
     "text": [
      "[I 2025-10-21 18:38:16,597] Trial 1 finished with value: 1.6309389082537407 and parameters: {'n_estimators': 737, 'max_depth': 5, 'min_samples_split': 10, 'min_samples_leaf': 5, 'min_impurity_decrease': 0.06370173320348284, 'max_features': None, 'max_leaf_nodes': 572}. Best is trial 0 with value: 1.5854138017797699.\n"
     ]
    },
    {
     "name": "stderr",
     "output_type": "stream",
     "text": [
      "Best trial: 0. Best value: 1.58541:   6%|▌         | 3/50 [00:22<05:54,  7.54s/it]"
     ]
    },
    {
     "name": "stdout",
     "output_type": "stream",
     "text": [
      "[I 2025-10-21 18:38:23,556] Trial 2 finished with value: 1.6330524234925665 and parameters: {'n_estimators': 489, 'max_depth': 18, 'min_samples_split': 7, 'min_samples_leaf': 1, 'min_impurity_decrease': 0.08764339456056544, 'max_features': None, 'max_leaf_nodes': 279}. Best is trial 0 with value: 1.5854138017797699.\n"
     ]
    },
    {
     "name": "stderr",
     "output_type": "stream",
     "text": [
      "Best trial: 0. Best value: 1.58541:   8%|▊         | 4/50 [00:28<05:24,  7.06s/it]"
     ]
    },
    {
     "name": "stdout",
     "output_type": "stream",
     "text": [
      "[I 2025-10-21 18:38:29,888] Trial 3 finished with value: 1.5949560738132909 and parameters: {'n_estimators': 563, 'max_depth': 32, 'min_samples_split': 2, 'min_samples_leaf': 4, 'min_impurity_decrease': 0.051157237106187456, 'max_features': None, 'max_leaf_nodes': 828}. Best is trial 0 with value: 1.5854138017797699.\n"
     ]
    },
    {
     "name": "stderr",
     "output_type": "stream",
     "text": [
      "Best trial: 4. Best value: 1.56999:  10%|█         | 5/50 [00:33<04:39,  6.22s/it]"
     ]
    },
    {
     "name": "stdout",
     "output_type": "stream",
     "text": [
      "[I 2025-10-21 18:38:34,614] Trial 4 finished with value: 1.569994640778204 and parameters: {'n_estimators': 374, 'max_depth': 9, 'min_samples_split': 8, 'min_samples_leaf': 3, 'min_impurity_decrease': 0.036611470453433645, 'max_features': None, 'max_leaf_nodes': 333}. Best is trial 4 with value: 1.569994640778204.\n"
     ]
    },
    {
     "name": "stderr",
     "output_type": "stream",
     "text": [
      "Best trial: 4. Best value: 1.56999:  12%|█▏        | 6/50 [00:40<04:45,  6.48s/it]"
     ]
    },
    {
     "name": "stdout",
     "output_type": "stream",
     "text": [
      "[I 2025-10-21 18:38:41,594] Trial 5 finished with value: 1.8757765171330871 and parameters: {'n_estimators': 696, 'max_depth': 19, 'min_samples_split': 6, 'min_samples_leaf': 3, 'min_impurity_decrease': 0.05545633665765811, 'max_features': 'sqrt', 'max_leaf_nodes': 906}. Best is trial 4 with value: 1.569994640778204.\n"
     ]
    },
    {
     "name": "stderr",
     "output_type": "stream",
     "text": [
      "Best trial: 4. Best value: 1.56999:  14%|█▍        | 7/50 [00:48<05:09,  7.19s/it]"
     ]
    },
    {
     "name": "stdout",
     "output_type": "stream",
     "text": [
      "[I 2025-10-21 18:38:50,235] Trial 6 finished with value: 1.746119042207378 and parameters: {'n_estimators': 638, 'max_depth': 47, 'min_samples_split': 2, 'min_samples_leaf': 1, 'min_impurity_decrease': 0.01356818667316142, 'max_features': 'log2', 'max_leaf_nodes': 846}. Best is trial 4 with value: 1.569994640778204.\n"
     ]
    },
    {
     "name": "stderr",
     "output_type": "stream",
     "text": [
      "Best trial: 4. Best value: 1.56999:  16%|█▌        | 8/50 [00:54<04:42,  6.74s/it]"
     ]
    },
    {
     "name": "stdout",
     "output_type": "stream",
     "text": [
      "[I 2025-10-21 18:38:56,004] Trial 7 finished with value: 2.177534315391798 and parameters: {'n_estimators': 421, 'max_depth': 17, 'min_samples_split': 6, 'min_samples_leaf': 1, 'min_impurity_decrease': 0.2406590942262119, 'max_features': 'log2', 'max_leaf_nodes': 279}. Best is trial 4 with value: 1.569994640778204.\n"
     ]
    },
    {
     "name": "stderr",
     "output_type": "stream",
     "text": [
      "Best trial: 4. Best value: 1.56999:  18%|█▊        | 9/50 [00:56<03:28,  5.09s/it]"
     ]
    },
    {
     "name": "stdout",
     "output_type": "stream",
     "text": [
      "[I 2025-10-21 18:38:57,464] Trial 8 finished with value: 2.184072838426345 and parameters: {'n_estimators': 104, 'max_depth': 42, 'min_samples_split': 8, 'min_samples_leaf': 4, 'min_impurity_decrease': 0.2313811040057837, 'max_features': 'log2', 'max_leaf_nodes': 877}. Best is trial 4 with value: 1.569994640778204.\n"
     ]
    },
    {
     "name": "stderr",
     "output_type": "stream",
     "text": [
      "Best trial: 4. Best value: 1.56999:  20%|██        | 10/50 [01:03<03:47,  5.69s/it]"
     ]
    },
    {
     "name": "stdout",
     "output_type": "stream",
     "text": [
      "[I 2025-10-21 18:39:04,519] Trial 9 finished with value: 1.643143158003125 and parameters: {'n_estimators': 661, 'max_depth': 20, 'min_samples_split': 2, 'min_samples_leaf': 2, 'min_impurity_decrease': 0.09755499660802411, 'max_features': None, 'max_leaf_nodes': 525}. Best is trial 4 with value: 1.569994640778204.\n"
     ]
    },
    {
     "name": "stderr",
     "output_type": "stream",
     "text": [
      "Best trial: 4. Best value: 1.56999:  22%|██▏       | 11/50 [01:12<04:28,  6.87s/it]"
     ]
    },
    {
     "name": "stdout",
     "output_type": "stream",
     "text": [
      "[I 2025-10-21 18:39:14,048] Trial 10 finished with value: 2.080617714523775 and parameters: {'n_estimators': 951, 'max_depth': 5, 'min_samples_split': 4, 'min_samples_leaf': 5, 'min_impurity_decrease': 0.16085657660932784, 'max_features': 'sqrt', 'max_leaf_nodes': 114}. Best is trial 4 with value: 1.569994640778204.\n"
     ]
    },
    {
     "name": "stderr",
     "output_type": "stream",
     "text": [
      "Best trial: 11. Best value: 1.48246:  24%|██▍       | 12/50 [01:16<03:39,  5.77s/it]"
     ]
    },
    {
     "name": "stdout",
     "output_type": "stream",
     "text": [
      "[I 2025-10-21 18:39:17,323] Trial 11 finished with value: 1.4824552011463772 and parameters: {'n_estimators': 294, 'max_depth': 33, 'min_samples_split': 10, 'min_samples_leaf': 3, 'min_impurity_decrease': 0.0027683007133353157, 'max_features': None, 'max_leaf_nodes': 582}. Best is trial 11 with value: 1.4824552011463772.\n"
     ]
    },
    {
     "name": "stderr",
     "output_type": "stream",
     "text": [
      "Best trial: 11. Best value: 1.48246:  26%|██▌       | 13/50 [01:17<02:50,  4.60s/it]"
     ]
    },
    {
     "name": "stdout",
     "output_type": "stream",
     "text": [
      "[I 2025-10-21 18:39:19,222] Trial 12 finished with value: 1.487073644777989 and parameters: {'n_estimators': 227, 'max_depth': 33, 'min_samples_split': 10, 'min_samples_leaf': 2, 'min_impurity_decrease': 0.0023922249698360085, 'max_features': None, 'max_leaf_nodes': 396}. Best is trial 11 with value: 1.4824552011463772.\n"
     ]
    },
    {
     "name": "stderr",
     "output_type": "stream",
     "text": [
      "Best trial: 11. Best value: 1.48246:  28%|██▊       | 14/50 [01:19<02:10,  3.63s/it]"
     ]
    },
    {
     "name": "stdout",
     "output_type": "stream",
     "text": [
      "[I 2025-10-21 18:39:20,590] Trial 13 finished with value: 1.6805013449485238 and parameters: {'n_estimators': 230, 'max_depth': 33, 'min_samples_split': 10, 'min_samples_leaf': 2, 'min_impurity_decrease': 0.14228480479966227, 'max_features': None, 'max_leaf_nodes': 431}. Best is trial 11 with value: 1.4824552011463772.\n"
     ]
    },
    {
     "name": "stderr",
     "output_type": "stream",
     "text": [
      "Best trial: 11. Best value: 1.48246:  30%|███       | 15/50 [01:22<02:02,  3.51s/it]"
     ]
    },
    {
     "name": "stdout",
     "output_type": "stream",
     "text": [
      "[I 2025-10-21 18:39:23,836] Trial 14 finished with value: 1.4990942596442012 and parameters: {'n_estimators': 264, 'max_depth': 38, 'min_samples_split': 10, 'min_samples_leaf': 2, 'min_impurity_decrease': 0.007664848443163036, 'max_features': None, 'max_leaf_nodes': 720}. Best is trial 11 with value: 1.4824552011463772.\n"
     ]
    },
    {
     "name": "stderr",
     "output_type": "stream",
     "text": [
      "Best trial: 11. Best value: 1.48246:  32%|███▏      | 16/50 [01:23<01:37,  2.87s/it]"
     ]
    },
    {
     "name": "stdout",
     "output_type": "stream",
     "text": [
      "[I 2025-10-21 18:39:25,234] Trial 15 finished with value: 2.1627290479281736 and parameters: {'n_estimators': 126, 'max_depth': 27, 'min_samples_split': 9, 'min_samples_leaf': 4, 'min_impurity_decrease': 0.29880509680836403, 'max_features': 'sqrt', 'max_leaf_nodes': 441}. Best is trial 11 with value: 1.4824552011463772.\n"
     ]
    },
    {
     "name": "stderr",
     "output_type": "stream",
     "text": [
      "Best trial: 11. Best value: 1.48246:  34%|███▍      | 17/50 [01:27<01:36,  2.93s/it]"
     ]
    },
    {
     "name": "stdout",
     "output_type": "stream",
     "text": [
      "[I 2025-10-21 18:39:28,304] Trial 16 finished with value: 1.6713400749284204 and parameters: {'n_estimators': 293, 'max_depth': 27, 'min_samples_split': 4, 'min_samples_leaf': 2, 'min_impurity_decrease': 0.12847659481075646, 'max_features': None, 'max_leaf_nodes': 696}. Best is trial 11 with value: 1.4824552011463772.\n"
     ]
    },
    {
     "name": "stderr",
     "output_type": "stream",
     "text": [
      "Best trial: 11. Best value: 1.48246:  36%|███▌      | 18/50 [01:30<01:34,  2.95s/it]"
     ]
    },
    {
     "name": "stdout",
     "output_type": "stream",
     "text": [
      "[I 2025-10-21 18:39:31,292] Trial 17 finished with value: 1.7098979817472593 and parameters: {'n_estimators': 331, 'max_depth': 35, 'min_samples_split': 9, 'min_samples_leaf': 2, 'min_impurity_decrease': 0.18496255345188253, 'max_features': None, 'max_leaf_nodes': 118}. Best is trial 11 with value: 1.4824552011463772.\n"
     ]
    },
    {
     "name": "stderr",
     "output_type": "stream",
     "text": [
      "Best trial: 11. Best value: 1.48246:  38%|███▊      | 19/50 [01:32<01:24,  2.72s/it]"
     ]
    },
    {
     "name": "stdout",
     "output_type": "stream",
     "text": [
      "[I 2025-10-21 18:39:33,473] Trial 18 finished with value: 1.6564585682464432 and parameters: {'n_estimators': 227, 'max_depth': 41, 'min_samples_split': 9, 'min_samples_leaf': 3, 'min_impurity_decrease': 0.00014212030256912592, 'max_features': 'sqrt', 'max_leaf_nodes': 422}. Best is trial 11 with value: 1.4824552011463772.\n"
     ]
    },
    {
     "name": "stderr",
     "output_type": "stream",
     "text": [
      "Best trial: 11. Best value: 1.48246:  40%|████      | 20/50 [01:34<01:15,  2.53s/it]"
     ]
    },
    {
     "name": "stdout",
     "output_type": "stream",
     "text": [
      "[I 2025-10-21 18:39:35,548] Trial 19 finished with value: 1.9941412809693575 and parameters: {'n_estimators': 188, 'max_depth': 25, 'min_samples_split': 5, 'min_samples_leaf': 3, 'min_impurity_decrease': 0.09542294520450934, 'max_features': 'log2', 'max_leaf_nodes': 556}. Best is trial 11 with value: 1.4824552011463772.\n"
     ]
    },
    {
     "name": "stderr",
     "output_type": "stream",
     "text": [
      "Best trial: 11. Best value: 1.48246:  42%|████▏     | 21/50 [01:41<01:54,  3.93s/it]"
     ]
    },
    {
     "name": "stdout",
     "output_type": "stream",
     "text": [
      "[I 2025-10-21 18:39:42,762] Trial 20 finished with value: 1.661757770763162 and parameters: {'n_estimators': 845, 'max_depth': 31, 'min_samples_split': 7, 'min_samples_leaf': 4, 'min_impurity_decrease': 0.11309879122991345, 'max_features': None, 'max_leaf_nodes': 212}. Best is trial 11 with value: 1.4824552011463772.\n"
     ]
    },
    {
     "name": "stderr",
     "output_type": "stream",
     "text": [
      "Best trial: 11. Best value: 1.48246:  44%|████▍     | 22/50 [01:43<01:37,  3.50s/it]"
     ]
    },
    {
     "name": "stdout",
     "output_type": "stream",
     "text": [
      "[I 2025-10-21 18:39:45,244] Trial 21 finished with value: 1.525617020874409 and parameters: {'n_estimators': 294, 'max_depth': 38, 'min_samples_split': 10, 'min_samples_leaf': 2, 'min_impurity_decrease': 0.017434249220333264, 'max_features': None, 'max_leaf_nodes': 746}. Best is trial 11 with value: 1.4824552011463772.\n"
     ]
    },
    {
     "name": "stderr",
     "output_type": "stream",
     "text": [
      "Best trial: 11. Best value: 1.48246:  46%|████▌     | 23/50 [01:45<01:21,  3.01s/it]"
     ]
    },
    {
     "name": "stdout",
     "output_type": "stream",
     "text": [
      "[I 2025-10-21 18:39:47,106] Trial 22 finished with value: 1.5482295051153159 and parameters: {'n_estimators': 213, 'max_depth': 38, 'min_samples_split': 10, 'min_samples_leaf': 2, 'min_impurity_decrease': 0.02700028414056692, 'max_features': None, 'max_leaf_nodes': 744}. Best is trial 11 with value: 1.4824552011463772.\n"
     ]
    },
    {
     "name": "stderr",
     "output_type": "stream",
     "text": [
      "Best trial: 11. Best value: 1.48246:  48%|████▊     | 24/50 [01:48<01:19,  3.04s/it]"
     ]
    },
    {
     "name": "stdout",
     "output_type": "stream",
     "text": [
      "[I 2025-10-21 18:39:50,228] Trial 23 finished with value: 1.617374984367693 and parameters: {'n_estimators': 326, 'max_depth': 44, 'min_samples_split': 9, 'min_samples_leaf': 1, 'min_impurity_decrease': 0.07202354786212121, 'max_features': None, 'max_leaf_nodes': 984}. Best is trial 11 with value: 1.4824552011463772.\n"
     ]
    },
    {
     "name": "stderr",
     "output_type": "stream",
     "text": [
      "Best trial: 11. Best value: 1.48246:  50%|█████     | 25/50 [01:54<01:36,  3.86s/it]"
     ]
    },
    {
     "name": "stdout",
     "output_type": "stream",
     "text": [
      "[I 2025-10-21 18:39:56,003] Trial 24 finished with value: 1.489686610943957 and parameters: {'n_estimators': 502, 'max_depth': 37, 'min_samples_split': 10, 'min_samples_leaf': 3, 'min_impurity_decrease': 0.0038686233519529584, 'max_features': None, 'max_leaf_nodes': 627}. Best is trial 11 with value: 1.4824552011463772.\n"
     ]
    },
    {
     "name": "stderr",
     "output_type": "stream",
     "text": [
      "Best trial: 11. Best value: 1.48246:  52%|█████▏    | 26/50 [01:59<01:41,  4.24s/it]"
     ]
    },
    {
     "name": "stdout",
     "output_type": "stream",
     "text": [
      "[I 2025-10-21 18:40:01,141] Trial 25 finished with value: 1.5580604423525943 and parameters: {'n_estimators': 554, 'max_depth': 29, 'min_samples_split': 9, 'min_samples_leaf': 3, 'min_impurity_decrease': 0.029916974116560024, 'max_features': None, 'max_leaf_nodes': 631}. Best is trial 11 with value: 1.4824552011463772.\n"
     ]
    },
    {
     "name": "stderr",
     "output_type": "stream",
     "text": [
      "Best trial: 11. Best value: 1.48246:  54%|█████▍    | 27/50 [02:06<01:51,  4.83s/it]"
     ]
    },
    {
     "name": "stdout",
     "output_type": "stream",
     "text": [
      "[I 2025-10-21 18:40:07,331] Trial 26 finished with value: 1.4939843253989875 and parameters: {'n_estimators': 473, 'max_depth': 34, 'min_samples_split': 7, 'min_samples_leaf': 4, 'min_impurity_decrease': 0.0031038109060421985, 'max_features': None, 'max_leaf_nodes': 494}. Best is trial 11 with value: 1.4824552011463772.\n"
     ]
    },
    {
     "name": "stderr",
     "output_type": "stream",
     "text": [
      "Best trial: 11. Best value: 1.48246:  56%|█████▌    | 28/50 [02:07<01:26,  3.95s/it]"
     ]
    },
    {
     "name": "stdout",
     "output_type": "stream",
     "text": [
      "[I 2025-10-21 18:40:09,235] Trial 27 finished with value: 1.5604387772867911 and parameters: {'n_estimators': 162, 'max_depth': 23, 'min_samples_split': 8, 'min_samples_leaf': 3, 'min_impurity_decrease': 0.03129329608956821, 'max_features': None, 'max_leaf_nodes': 623}. Best is trial 11 with value: 1.4824552011463772.\n"
     ]
    },
    {
     "name": "stderr",
     "output_type": "stream",
     "text": [
      "Best trial: 11. Best value: 1.48246:  58%|█████▊    | 29/50 [02:12<01:26,  4.13s/it]"
     ]
    },
    {
     "name": "stdout",
     "output_type": "stream",
     "text": [
      "[I 2025-10-21 18:40:13,789] Trial 28 finished with value: 1.9430969940684015 and parameters: {'n_estimators': 381, 'max_depth': 36, 'min_samples_split': 10, 'min_samples_leaf': 2, 'min_impurity_decrease': 0.06535035879177278, 'max_features': 'log2', 'max_leaf_nodes': 394}. Best is trial 11 with value: 1.4824552011463772.\n"
     ]
    },
    {
     "name": "stderr",
     "output_type": "stream",
     "text": [
      "Best trial: 11. Best value: 1.48246:  60%|██████    | 30/50 [02:18<01:32,  4.61s/it]"
     ]
    },
    {
     "name": "stdout",
     "output_type": "stream",
     "text": [
      "[I 2025-10-21 18:40:19,515] Trial 29 finished with value: 1.850938201320713 and parameters: {'n_estimators': 474, 'max_depth': 49, 'min_samples_split': 8, 'min_samples_leaf': 3, 'min_impurity_decrease': 0.04512861932542525, 'max_features': 'sqrt', 'max_leaf_nodes': 492}. Best is trial 11 with value: 1.4824552011463772.\n"
     ]
    },
    {
     "name": "stderr",
     "output_type": "stream",
     "text": [
      "Best trial: 11. Best value: 1.48246:  62%|██████▏   | 31/50 [02:22<01:26,  4.53s/it]"
     ]
    },
    {
     "name": "stdout",
     "output_type": "stream",
     "text": [
      "[I 2025-10-21 18:40:23,869] Trial 30 finished with value: 1.6287918824578629 and parameters: {'n_estimators': 395, 'max_depth': 43, 'min_samples_split': 9, 'min_samples_leaf': 4, 'min_impurity_decrease': 0.08032016366605743, 'max_features': None, 'max_leaf_nodes': 666}. Best is trial 11 with value: 1.4824552011463772.\n"
     ]
    },
    {
     "name": "stderr",
     "output_type": "stream",
     "text": [
      "Best trial: 11. Best value: 1.48246:  64%|██████▍   | 32/50 [02:29<01:34,  5.25s/it]"
     ]
    },
    {
     "name": "stdout",
     "output_type": "stream",
     "text": [
      "[I 2025-10-21 18:40:30,783] Trial 31 finished with value: 1.4949365120393725 and parameters: {'n_estimators': 492, 'max_depth': 34, 'min_samples_split': 7, 'min_samples_leaf': 4, 'min_impurity_decrease': 0.0035070938131738045, 'max_features': None, 'max_leaf_nodes': 490}. Best is trial 11 with value: 1.4824552011463772.\n"
     ]
    },
    {
     "name": "stderr",
     "output_type": "stream",
     "text": [
      "Best trial: 11. Best value: 1.48246:  66%|██████▌   | 33/50 [02:35<01:32,  5.46s/it]"
     ]
    },
    {
     "name": "stdout",
     "output_type": "stream",
     "text": [
      "[I 2025-10-21 18:40:36,744] Trial 32 finished with value: 1.5476932895921949 and parameters: {'n_estimators': 515, 'max_depth': 31, 'min_samples_split': 10, 'min_samples_leaf': 5, 'min_impurity_decrease': 0.021488884511252103, 'max_features': None, 'max_leaf_nodes': 596}. Best is trial 11 with value: 1.4824552011463772.\n"
     ]
    },
    {
     "name": "stderr",
     "output_type": "stream",
     "text": [
      "Best trial: 11. Best value: 1.48246:  68%|██████▊   | 34/50 [02:42<01:35,  6.00s/it]"
     ]
    },
    {
     "name": "stdout",
     "output_type": "stream",
     "text": [
      "[I 2025-10-21 18:40:43,983] Trial 33 finished with value: 1.4982333895741047 and parameters: {'n_estimators': 589, 'max_depth': 37, 'min_samples_split': 6, 'min_samples_leaf': 5, 'min_impurity_decrease': 0.0020387716606042215, 'max_features': None, 'max_leaf_nodes': 366}. Best is trial 11 with value: 1.4824552011463772.\n"
     ]
    },
    {
     "name": "stderr",
     "output_type": "stream",
     "text": [
      "Best trial: 11. Best value: 1.48246:  70%|███████   | 35/50 [02:51<01:42,  6.86s/it]"
     ]
    },
    {
     "name": "stdout",
     "output_type": "stream",
     "text": [
      "[I 2025-10-21 18:40:52,878] Trial 34 finished with value: 1.5881009467398282 and parameters: {'n_estimators': 798, 'max_depth': 40, 'min_samples_split': 7, 'min_samples_leaf': 4, 'min_impurity_decrease': 0.0470375501463896, 'max_features': None, 'max_leaf_nodes': 484}. Best is trial 11 with value: 1.4824552011463772.\n"
     ]
    },
    {
     "name": "stderr",
     "output_type": "stream",
     "text": [
      "Best trial: 11. Best value: 1.48246:  72%|███████▏  | 36/50 [02:55<01:25,  6.07s/it]"
     ]
    },
    {
     "name": "stdout",
     "output_type": "stream",
     "text": [
      "[I 2025-10-21 18:40:57,099] Trial 35 finished with value: 1.5816020131977413 and parameters: {'n_estimators': 428, 'max_depth': 45, 'min_samples_split': 5, 'min_samples_leaf': 3, 'min_impurity_decrease': 0.04371875188115536, 'max_features': None, 'max_leaf_nodes': 554}. Best is trial 11 with value: 1.4824552011463772.\n"
     ]
    },
    {
     "name": "stderr",
     "output_type": "stream",
     "text": [
      "Best trial: 11. Best value: 1.48246:  74%|███████▍  | 37/50 [02:59<01:07,  5.20s/it]"
     ]
    },
    {
     "name": "stdout",
     "output_type": "stream",
     "text": [
      "[I 2025-10-21 18:41:00,275] Trial 36 finished with value: 1.5439504370359274 and parameters: {'n_estimators': 348, 'max_depth': 29, 'min_samples_split': 8, 'min_samples_leaf': 4, 'min_impurity_decrease': 0.022605842643695483, 'max_features': None, 'max_leaf_nodes': 312}. Best is trial 11 with value: 1.4824552011463772.\n"
     ]
    },
    {
     "name": "stderr",
     "output_type": "stream",
     "text": [
      "Best trial: 11. Best value: 1.48246:  76%|███████▌  | 38/50 [03:02<00:57,  4.81s/it]"
     ]
    },
    {
     "name": "stdout",
     "output_type": "stream",
     "text": [
      "[I 2025-10-21 18:41:04,166] Trial 37 finished with value: 1.5991819596006187 and parameters: {'n_estimators': 460, 'max_depth': 23, 'min_samples_split': 10, 'min_samples_leaf': 3, 'min_impurity_decrease': 0.056776761773990075, 'max_features': None, 'max_leaf_nodes': 225}. Best is trial 11 with value: 1.4824552011463772.\n"
     ]
    },
    {
     "name": "stderr",
     "output_type": "stream",
     "text": [
      "Best trial: 11. Best value: 1.48246:  78%|███████▊  | 39/50 [03:07<00:53,  4.87s/it]"
     ]
    },
    {
     "name": "stdout",
     "output_type": "stream",
     "text": [
      "[I 2025-10-21 18:41:09,182] Trial 38 finished with value: 1.5711270331197087 and parameters: {'n_estimators': 588, 'max_depth': 33, 'min_samples_split': 9, 'min_samples_leaf': 3, 'min_impurity_decrease': 0.03742259445670653, 'max_features': None, 'max_leaf_nodes': 672}. Best is trial 11 with value: 1.4824552011463772.\n"
     ]
    },
    {
     "name": "stderr",
     "output_type": "stream",
     "text": [
      "Best trial: 11. Best value: 1.48246:  80%|████████  | 40/50 [03:11<00:45,  4.56s/it]"
     ]
    },
    {
     "name": "stdout",
     "output_type": "stream",
     "text": [
      "[I 2025-10-21 18:41:13,030] Trial 39 finished with value: 1.9575696609811584 and parameters: {'n_estimators': 517, 'max_depth': 14, 'min_samples_split': 10, 'min_samples_leaf': 1, 'min_impurity_decrease': 0.0700035034315539, 'max_features': 'log2', 'max_leaf_nodes': 791}. Best is trial 11 with value: 1.4824552011463772.\n"
     ]
    },
    {
     "name": "stderr",
     "output_type": "stream",
     "text": [
      "Best trial: 11. Best value: 1.48246:  82%|████████▏ | 41/50 [03:17<00:43,  4.89s/it]"
     ]
    },
    {
     "name": "stdout",
     "output_type": "stream",
     "text": [
      "[I 2025-10-21 18:41:18,666] Trial 40 finished with value: 1.7168311914334136 and parameters: {'n_estimators': 639, 'max_depth': 40, 'min_samples_split': 5, 'min_samples_leaf': 3, 'min_impurity_decrease': 0.19377327228181282, 'max_features': None, 'max_leaf_nodes': 512}. Best is trial 11 with value: 1.4824552011463772.\n"
     ]
    },
    {
     "name": "stderr",
     "output_type": "stream",
     "text": [
      "Best trial: 11. Best value: 1.48246:  84%|████████▍ | 42/50 [03:23<00:41,  5.19s/it]"
     ]
    },
    {
     "name": "stdout",
     "output_type": "stream",
     "text": [
      "[I 2025-10-21 18:41:24,558] Trial 41 finished with value: 1.521174103327739 and parameters: {'n_estimators': 510, 'max_depth': 34, 'min_samples_split': 7, 'min_samples_leaf': 4, 'min_impurity_decrease': 0.012653844616283907, 'max_features': None, 'max_leaf_nodes': 463}. Best is trial 11 with value: 1.4824552011463772.\n"
     ]
    },
    {
     "name": "stderr",
     "output_type": "stream",
     "text": [
      "Best trial: 11. Best value: 1.48246:  86%|████████▌ | 43/50 [03:29<00:39,  5.63s/it]"
     ]
    },
    {
     "name": "stdout",
     "output_type": "stream",
     "text": [
      "[I 2025-10-21 18:41:31,219] Trial 42 finished with value: 1.5034182945705887 and parameters: {'n_estimators': 439, 'max_depth': 30, 'min_samples_split': 7, 'min_samples_leaf': 4, 'min_impurity_decrease': 0.006771096232065347, 'max_features': None, 'max_leaf_nodes': 592}. Best is trial 11 with value: 1.4824552011463772.\n"
     ]
    },
    {
     "name": "stderr",
     "output_type": "stream",
     "text": [
      "Best trial: 11. Best value: 1.48246:  88%|████████▊ | 44/50 [03:40<00:43,  7.23s/it]"
     ]
    },
    {
     "name": "stdout",
     "output_type": "stream",
     "text": [
      "[I 2025-10-21 18:41:42,191] Trial 43 finished with value: 1.497456377374578 and parameters: {'n_estimators': 744, 'max_depth': 35, 'min_samples_split': 6, 'min_samples_leaf': 5, 'min_impurity_decrease': 0.0012975198213144822, 'max_features': None, 'max_leaf_nodes': 372}. Best is trial 11 with value: 1.4824552011463772.\n"
     ]
    },
    {
     "name": "stderr",
     "output_type": "stream",
     "text": [
      "Best trial: 11. Best value: 1.48246:  90%|█████████ | 45/50 [03:45<00:32,  6.55s/it]"
     ]
    },
    {
     "name": "stdout",
     "output_type": "stream",
     "text": [
      "[I 2025-10-21 18:41:47,137] Trial 44 finished with value: 1.540061533192474 and parameters: {'n_estimators': 400, 'max_depth': 34, 'min_samples_split': 8, 'min_samples_leaf': 4, 'min_impurity_decrease': 0.02039147945483578, 'max_features': None, 'max_leaf_nodes': 531}. Best is trial 11 with value: 1.4824552011463772.\n"
     ]
    },
    {
     "name": "stderr",
     "output_type": "stream",
     "text": [
      "Best trial: 11. Best value: 1.48246:  92%|█████████▏| 46/50 [03:48<00:21,  5.34s/it]"
     ]
    },
    {
     "name": "stdout",
     "output_type": "stream",
     "text": [
      "[I 2025-10-21 18:41:49,665] Trial 45 finished with value: 1.8827187825165854 and parameters: {'n_estimators': 272, 'max_depth': 31, 'min_samples_split': 3, 'min_samples_leaf': 4, 'min_impurity_decrease': 0.053644605416695385, 'max_features': 'sqrt', 'max_leaf_nodes': 587}. Best is trial 11 with value: 1.4824552011463772.\n"
     ]
    },
    {
     "name": "stderr",
     "output_type": "stream",
     "text": [
      "Best trial: 11. Best value: 1.48246:  94%|█████████▍| 47/50 [03:49<00:12,  4.16s/it]"
     ]
    },
    {
     "name": "stdout",
     "output_type": "stream",
     "text": [
      "[I 2025-10-21 18:41:51,061] Trial 46 finished with value: 1.5733773239217868 and parameters: {'n_estimators': 143, 'max_depth': 47, 'min_samples_split': 8, 'min_samples_leaf': 5, 'min_impurity_decrease': 0.03393078476545705, 'max_features': None, 'max_leaf_nodes': 338}. Best is trial 11 with value: 1.4824552011463772.\n"
     ]
    },
    {
     "name": "stderr",
     "output_type": "stream",
     "text": [
      "Best trial: 11. Best value: 1.48246:  96%|█████████▌| 48/50 [03:55<00:09,  4.52s/it]"
     ]
    },
    {
     "name": "stdout",
     "output_type": "stream",
     "text": [
      "[I 2025-10-21 18:41:56,417] Trial 47 finished with value: 1.5189168968017275 and parameters: {'n_estimators': 572, 'max_depth': 26, 'min_samples_split': 9, 'min_samples_leaf': 3, 'min_impurity_decrease': 0.013299461767489165, 'max_features': None, 'max_leaf_nodes': 453}. Best is trial 11 with value: 1.4824552011463772.\n"
     ]
    },
    {
     "name": "stderr",
     "output_type": "stream",
     "text": [
      "Best trial: 11. Best value: 1.48246:  98%|█████████▊| 49/50 [03:57<00:04,  4.02s/it]"
     ]
    },
    {
     "name": "stdout",
     "output_type": "stream",
     "text": [
      "[I 2025-10-21 18:41:59,273] Trial 48 finished with value: 2.212364253244691 and parameters: {'n_estimators': 362, 'max_depth': 39, 'min_samples_split': 7, 'min_samples_leaf': 4, 'min_impurity_decrease': 0.2888848303308986, 'max_features': 'log2', 'max_leaf_nodes': 402}. Best is trial 11 with value: 1.4824552011463772.\n"
     ]
    },
    {
     "name": "stderr",
     "output_type": "stream",
     "text": [
      "Best trial: 11. Best value: 1.48246: 100%|██████████| 50/50 [04:05<00:00,  4.91s/it]"
     ]
    },
    {
     "name": "stdout",
     "output_type": "stream",
     "text": [
      "[I 2025-10-21 18:42:06,671] Trial 49 finished with value: 1.6559997468545042 and parameters: {'n_estimators': 689, 'max_depth': 36, 'min_samples_split': 10, 'min_samples_leaf': 2, 'min_impurity_decrease': 0.11134486647164177, 'max_features': None, 'max_leaf_nodes': 527}. Best is trial 11 with value: 1.4824552011463772.\n",
      "Best parameters: {'n_estimators': 294, 'max_depth': 33, 'min_samples_split': 10, 'min_samples_leaf': 3, 'min_impurity_decrease': 0.0027683007133353157, 'max_features': None, 'max_leaf_nodes': 582}\n",
      "Best RMSE: 1.4824552011463772\n"
     ]
    },
    {
     "name": "stderr",
     "output_type": "stream",
     "text": [
      "\n"
     ]
    }
   ],
   "source": [
    "# === 3. Chạy Optuna study cho ExtraTrees ===\n",
    "study_ex = optuna.create_study(\n",
    "    direction='minimize',   # mục tiêu: giảm RMSE\n",
    "    sampler=sampler\n",
    ")\n",
    "\n",
    "# Tiến hành tối ưu\n",
    "study_ex.optimize(objective, n_trials=50, show_progress_bar=True)\n",
    "\n",
    "# === 4. In kết quả tốt nhất ===\n",
    "print(\"Best parameters:\", study_ex.best_trial.params)\n",
    "print(\"Best RMSE:\", study_ex.best_value)\n"
   ]
  },
  {
   "cell_type": "code",
   "execution_count": 39,
   "id": "476f1f47",
   "metadata": {},
   "outputs": [
    {
     "name": "stdout",
     "output_type": "stream",
     "text": [
      "Validation metrics: {'RMSE': 1.4781760169477107, 'R2': 0.9178434853559763, 'MAPE': 5.106336161163009}\n",
      "Test metrics: {'RMSE': 1.351677982332345, 'R2': 0.9155831259499977, 'MAPE': 4.251549843957973}\n",
      "RandomForest model saved to models/Tuning_ExTree_model.pkl\n"
     ]
    },
    {
     "data": {
      "text/plain": [
       "True"
      ]
     },
     "execution_count": 39,
     "metadata": {},
     "output_type": "execute_result"
    }
   ],
   "source": [
    "# === 4 Log kết quả tổng hợp ===\n",
    "task_extra.upload_artifact(\"Best Parameters\", study_ex.best_trial.params)\n",
    "\n",
    "# Fit lại mô hình với best params\n",
    "best_model_ex = ExtraTreesRegressor(**study_ex.best_trial.params)\n",
    "best_model_ex.fit(X_train, y_train)\n",
    "\n",
    "# Predict\n",
    "y_pred_val = best_model_ex.predict(X_val)\n",
    "y_pred_test = best_model_ex.predict(X_test)\n",
    "\n",
    "# Evaluate on validation\n",
    "bestEx_val_metrics = evaluate(y_val, y_pred_val)\n",
    "print(\"Validation metrics:\", bestEx_val_metrics)\n",
    "\n",
    "# Evaluate on test\n",
    "bestEx_test_metrics = evaluate(y_test, y_pred_test)\n",
    "print(\"Test metrics:\", bestEx_test_metrics)\n",
    "\n",
    "\n",
    "# 6 Log lên ClearML\n",
    "logger_extra.report_scalar(\"Best Metrics\", \"RMSE_val\", bestEx_val_metrics[\"RMSE\"], iteration=0)\n",
    "logger_extra.report_scalar(\"Best Metrics\", \"R2_val\", bestEx_val_metrics[\"R2\"], iteration=0)\n",
    "logger_extra.report_scalar(\"Best Metrics\", \"MAPE_val\", bestEx_val_metrics[\"MAPE\"], iteration=0)\n",
    "logger_extra.report_scalar(\"Best Metrics\", \"RMSE_test\", bestEx_test_metrics[\"RMSE\"], iteration=0)\n",
    "logger_extra.report_scalar(\"Best Metrics\", \"R2_test\", bestEx_test_metrics[\"R2\"], iteration=0)\n",
    "logger_extra.report_scalar(\"Best Metrics\", \"MAPE_test\", bestEx_test_metrics[\"MAPE\"], iteration=0)\n",
    "\n",
    "\n",
    "# Upload artifact tổng hợp\n",
    "task_extra.upload_artifact(\"Best Metrics\", {\n",
    "    \"Validation\": bestEx_val_metrics,\n",
    "    \"Test\": bestEx_test_metrics\n",
    "})\n",
    "\n",
    "\n",
    "# Save & upload model\n",
    "model_path = r'models/Tuning_ExTree_model.pkl' \n",
    "joblib.dump(best_model_ex, model_path)\n",
    "print(f\"RandomForest model saved to {model_path}\")\n",
    "task_extra.upload_artifact(\"Best Model\", model_path)"
   ]
  },
  {
   "cell_type": "code",
   "execution_count": 40,
   "id": "68568fd7",
   "metadata": {},
   "outputs": [],
   "source": [
    "# === 6️ Vẽ biểu đồ RMSE theo trial  ===\n",
    "fig2 = plt.figure(figsize=(7, 4))\n",
    "plt.plot([t.value for t in study_ex.trials])\n",
    "plt.xlabel(\"Trial\")\n",
    "plt.ylabel(\"RMSE\")\n",
    "plt.title(\"Optuna RMSE per Trial\")\n",
    "\n",
    "logger_extra.report_matplotlib_figure(\n",
    "    title=\"Optuna Performance\", \n",
    "    series=\"RMSE Curve\", \n",
    "    figure=fig2,\n",
    "    iteration=len(study_ex.trials)\n",
    ")\n",
    "plt.close(fig2)\n"
   ]
  },
  {
   "cell_type": "code",
   "execution_count": 42,
   "id": "f5a6c8ba",
   "metadata": {},
   "outputs": [
    {
     "data": {
      "application/vnd.plotly.v1+json": {
       "config": {
        "plotlyServerURL": "https://plot.ly"
       },
       "data": [
        {
         "dimensions": [
          {
           "label": "Objective Value",
           "range": [
            1.4824552011463772,
            2.212364253244691
           ],
           "values": [
            1.5854138017797699,
            1.6309389082537407,
            1.6330524234925665,
            1.5949560738132909,
            1.569994640778204,
            1.8757765171330871,
            1.746119042207378,
            2.177534315391798,
            2.184072838426345,
            1.643143158003125,
            2.080617714523775,
            1.4824552011463772,
            1.487073644777989,
            1.6805013449485238,
            1.4990942596442012,
            2.1627290479281736,
            1.6713400749284204,
            1.7098979817472593,
            1.6564585682464432,
            1.9941412809693575,
            1.661757770763162,
            1.525617020874409,
            1.5482295051153159,
            1.617374984367693,
            1.489686610943957,
            1.5580604423525943,
            1.4939843253989875,
            1.5604387772867911,
            1.9430969940684015,
            1.850938201320713,
            1.6287918824578629,
            1.4949365120393725,
            1.5476932895921949,
            1.4982333895741047,
            1.5881009467398282,
            1.5816020131977413,
            1.5439504370359274,
            1.5991819596006187,
            1.5711270331197087,
            1.9575696609811584,
            1.7168311914334136,
            1.521174103327739,
            1.5034182945705887,
            1.497456377374578,
            1.540061533192474,
            1.8827187825165854,
            1.5733773239217868,
            1.5189168968017275,
            2.212364253244691,
            1.6559997468545042
           ]
          },
          {
           "label": "max_depth",
           "range": [
            5,
            49
           ],
           "values": [
            48,
            5,
            18,
            32,
            9,
            19,
            47,
            17,
            42,
            20,
            5,
            33,
            33,
            33,
            38,
            27,
            27,
            35,
            41,
            25,
            31,
            38,
            38,
            44,
            37,
            29,
            34,
            23,
            36,
            49,
            43,
            34,
            31,
            37,
            40,
            45,
            29,
            23,
            33,
            14,
            40,
            34,
            30,
            35,
            34,
            31,
            47,
            26,
            39,
            36
           ]
          },
          {
           "label": "max_features",
           "range": [
            0,
            2
           ],
           "ticktext": [
            "None",
            "sqrt",
            "log2"
           ],
           "tickvals": [
            0,
            1,
            2
           ],
           "values": [
            0,
            0,
            0,
            0,
            0,
            1,
            2,
            2,
            2,
            0,
            1,
            0,
            0,
            0,
            0,
            1,
            0,
            0,
            1,
            2,
            0,
            0,
            0,
            0,
            0,
            0,
            0,
            0,
            2,
            1,
            0,
            0,
            0,
            0,
            0,
            0,
            0,
            0,
            0,
            2,
            0,
            0,
            0,
            0,
            0,
            1,
            0,
            0,
            2,
            0
           ]
          },
          {
           "label": "max_leaf_nodes",
           "range": [
            114,
            984
           ],
           "values": [
            641,
            572,
            279,
            828,
            333,
            906,
            846,
            279,
            877,
            525,
            114,
            582,
            396,
            431,
            720,
            441,
            696,
            118,
            422,
            556,
            212,
            746,
            744,
            984,
            627,
            631,
            494,
            623,
            394,
            492,
            666,
            490,
            596,
            366,
            484,
            554,
            312,
            225,
            672,
            791,
            512,
            463,
            592,
            372,
            531,
            587,
            338,
            453,
            402,
            527
           ]
          },
          {
           "label": "min_impurity_decr...",
           "range": [
            0.00014212030256912592,
            0.29880509680836403
           ],
           "values": [
            0.04680559213273095,
            0.06370173320348284,
            0.08764339456056544,
            0.051157237106187456,
            0.036611470453433645,
            0.05545633665765811,
            0.01356818667316142,
            0.2406590942262119,
            0.2313811040057837,
            0.09755499660802411,
            0.16085657660932784,
            0.0027683007133353157,
            0.0023922249698360085,
            0.14228480479966227,
            0.007664848443163036,
            0.29880509680836403,
            0.12847659481075646,
            0.18496255345188253,
            0.00014212030256912592,
            0.09542294520450934,
            0.11309879122991345,
            0.017434249220333264,
            0.02700028414056692,
            0.07202354786212121,
            0.0038686233519529584,
            0.029916974116560024,
            0.0031038109060421985,
            0.03129329608956821,
            0.06535035879177278,
            0.04512861932542525,
            0.08032016366605743,
            0.0035070938131738045,
            0.021488884511252103,
            0.0020387716606042215,
            0.0470375501463896,
            0.04371875188115536,
            0.022605842643695483,
            0.056776761773990075,
            0.03742259445670653,
            0.0700035034315539,
            0.19377327228181282,
            0.012653844616283907,
            0.006771096232065347,
            0.0012975198213144822,
            0.02039147945483578,
            0.053644605416695385,
            0.03393078476545705,
            0.013299461767489165,
            0.2888848303308986,
            0.11134486647164177
           ]
          },
          {
           "label": "min_samples_leaf",
           "range": [
            1,
            5
           ],
           "values": [
            3,
            5,
            1,
            4,
            3,
            3,
            1,
            1,
            4,
            2,
            5,
            3,
            2,
            2,
            2,
            4,
            2,
            2,
            3,
            3,
            4,
            2,
            2,
            1,
            3,
            3,
            4,
            3,
            2,
            3,
            4,
            4,
            5,
            5,
            4,
            3,
            4,
            3,
            3,
            1,
            3,
            4,
            4,
            5,
            4,
            4,
            5,
            3,
            4,
            2
           ]
          },
          {
           "label": "min_samples_split",
           "range": [
            2,
            10
           ],
           "values": [
            8,
            10,
            7,
            2,
            8,
            6,
            2,
            6,
            8,
            2,
            4,
            10,
            10,
            10,
            10,
            9,
            4,
            9,
            9,
            5,
            7,
            10,
            10,
            9,
            10,
            9,
            7,
            8,
            10,
            8,
            9,
            7,
            10,
            6,
            7,
            5,
            8,
            10,
            9,
            10,
            5,
            7,
            7,
            6,
            8,
            3,
            8,
            9,
            7,
            10
           ]
          },
          {
           "label": "n_estimators",
           "range": [
            104,
            951
           ],
           "values": [
            437,
            737,
            489,
            563,
            374,
            696,
            638,
            421,
            104,
            661,
            951,
            294,
            227,
            230,
            264,
            126,
            293,
            331,
            227,
            188,
            845,
            294,
            213,
            326,
            502,
            554,
            473,
            162,
            381,
            474,
            395,
            492,
            515,
            589,
            798,
            428,
            348,
            460,
            588,
            517,
            639,
            510,
            439,
            744,
            400,
            272,
            143,
            572,
            362,
            689
           ]
          }
         ],
         "labelangle": 30,
         "labelside": "bottom",
         "line": {
          "color": [
           1.5854138017797699,
           1.6309389082537407,
           1.6330524234925665,
           1.5949560738132909,
           1.569994640778204,
           1.8757765171330871,
           1.746119042207378,
           2.177534315391798,
           2.184072838426345,
           1.643143158003125,
           2.080617714523775,
           1.4824552011463772,
           1.487073644777989,
           1.6805013449485238,
           1.4990942596442012,
           2.1627290479281736,
           1.6713400749284204,
           1.7098979817472593,
           1.6564585682464432,
           1.9941412809693575,
           1.661757770763162,
           1.525617020874409,
           1.5482295051153159,
           1.617374984367693,
           1.489686610943957,
           1.5580604423525943,
           1.4939843253989875,
           1.5604387772867911,
           1.9430969940684015,
           1.850938201320713,
           1.6287918824578629,
           1.4949365120393725,
           1.5476932895921949,
           1.4982333895741047,
           1.5881009467398282,
           1.5816020131977413,
           1.5439504370359274,
           1.5991819596006187,
           1.5711270331197087,
           1.9575696609811584,
           1.7168311914334136,
           1.521174103327739,
           1.5034182945705887,
           1.497456377374578,
           1.540061533192474,
           1.8827187825165854,
           1.5733773239217868,
           1.5189168968017275,
           2.212364253244691,
           1.6559997468545042
          ],
          "colorbar": {
           "title": {
            "text": "Objective Value"
           }
          },
          "colorscale": [
           [
            0,
            "rgb(247,251,255)"
           ],
           [
            0.125,
            "rgb(222,235,247)"
           ],
           [
            0.25,
            "rgb(198,219,239)"
           ],
           [
            0.375,
            "rgb(158,202,225)"
           ],
           [
            0.5,
            "rgb(107,174,214)"
           ],
           [
            0.625,
            "rgb(66,146,198)"
           ],
           [
            0.75,
            "rgb(33,113,181)"
           ],
           [
            0.875,
            "rgb(8,81,156)"
           ],
           [
            1,
            "rgb(8,48,107)"
           ]
          ],
          "reversescale": true,
          "showscale": true
         },
         "type": "parcoords"
        }
       ],
       "layout": {
        "template": {
         "data": {
          "bar": [
           {
            "error_x": {
             "color": "#2a3f5f"
            },
            "error_y": {
             "color": "#2a3f5f"
            },
            "marker": {
             "line": {
              "color": "#E5ECF6",
              "width": 0.5
             },
             "pattern": {
              "fillmode": "overlay",
              "size": 10,
              "solidity": 0.2
             }
            },
            "type": "bar"
           }
          ],
          "barpolar": [
           {
            "marker": {
             "line": {
              "color": "#E5ECF6",
              "width": 0.5
             },
             "pattern": {
              "fillmode": "overlay",
              "size": 10,
              "solidity": 0.2
             }
            },
            "type": "barpolar"
           }
          ],
          "carpet": [
           {
            "aaxis": {
             "endlinecolor": "#2a3f5f",
             "gridcolor": "white",
             "linecolor": "white",
             "minorgridcolor": "white",
             "startlinecolor": "#2a3f5f"
            },
            "baxis": {
             "endlinecolor": "#2a3f5f",
             "gridcolor": "white",
             "linecolor": "white",
             "minorgridcolor": "white",
             "startlinecolor": "#2a3f5f"
            },
            "type": "carpet"
           }
          ],
          "choropleth": [
           {
            "colorbar": {
             "outlinewidth": 0,
             "ticks": ""
            },
            "type": "choropleth"
           }
          ],
          "contour": [
           {
            "colorbar": {
             "outlinewidth": 0,
             "ticks": ""
            },
            "colorscale": [
             [
              0,
              "#0d0887"
             ],
             [
              0.1111111111111111,
              "#46039f"
             ],
             [
              0.2222222222222222,
              "#7201a8"
             ],
             [
              0.3333333333333333,
              "#9c179e"
             ],
             [
              0.4444444444444444,
              "#bd3786"
             ],
             [
              0.5555555555555556,
              "#d8576b"
             ],
             [
              0.6666666666666666,
              "#ed7953"
             ],
             [
              0.7777777777777778,
              "#fb9f3a"
             ],
             [
              0.8888888888888888,
              "#fdca26"
             ],
             [
              1,
              "#f0f921"
             ]
            ],
            "type": "contour"
           }
          ],
          "contourcarpet": [
           {
            "colorbar": {
             "outlinewidth": 0,
             "ticks": ""
            },
            "type": "contourcarpet"
           }
          ],
          "heatmap": [
           {
            "colorbar": {
             "outlinewidth": 0,
             "ticks": ""
            },
            "colorscale": [
             [
              0,
              "#0d0887"
             ],
             [
              0.1111111111111111,
              "#46039f"
             ],
             [
              0.2222222222222222,
              "#7201a8"
             ],
             [
              0.3333333333333333,
              "#9c179e"
             ],
             [
              0.4444444444444444,
              "#bd3786"
             ],
             [
              0.5555555555555556,
              "#d8576b"
             ],
             [
              0.6666666666666666,
              "#ed7953"
             ],
             [
              0.7777777777777778,
              "#fb9f3a"
             ],
             [
              0.8888888888888888,
              "#fdca26"
             ],
             [
              1,
              "#f0f921"
             ]
            ],
            "type": "heatmap"
           }
          ],
          "histogram": [
           {
            "marker": {
             "pattern": {
              "fillmode": "overlay",
              "size": 10,
              "solidity": 0.2
             }
            },
            "type": "histogram"
           }
          ],
          "histogram2d": [
           {
            "colorbar": {
             "outlinewidth": 0,
             "ticks": ""
            },
            "colorscale": [
             [
              0,
              "#0d0887"
             ],
             [
              0.1111111111111111,
              "#46039f"
             ],
             [
              0.2222222222222222,
              "#7201a8"
             ],
             [
              0.3333333333333333,
              "#9c179e"
             ],
             [
              0.4444444444444444,
              "#bd3786"
             ],
             [
              0.5555555555555556,
              "#d8576b"
             ],
             [
              0.6666666666666666,
              "#ed7953"
             ],
             [
              0.7777777777777778,
              "#fb9f3a"
             ],
             [
              0.8888888888888888,
              "#fdca26"
             ],
             [
              1,
              "#f0f921"
             ]
            ],
            "type": "histogram2d"
           }
          ],
          "histogram2dcontour": [
           {
            "colorbar": {
             "outlinewidth": 0,
             "ticks": ""
            },
            "colorscale": [
             [
              0,
              "#0d0887"
             ],
             [
              0.1111111111111111,
              "#46039f"
             ],
             [
              0.2222222222222222,
              "#7201a8"
             ],
             [
              0.3333333333333333,
              "#9c179e"
             ],
             [
              0.4444444444444444,
              "#bd3786"
             ],
             [
              0.5555555555555556,
              "#d8576b"
             ],
             [
              0.6666666666666666,
              "#ed7953"
             ],
             [
              0.7777777777777778,
              "#fb9f3a"
             ],
             [
              0.8888888888888888,
              "#fdca26"
             ],
             [
              1,
              "#f0f921"
             ]
            ],
            "type": "histogram2dcontour"
           }
          ],
          "mesh3d": [
           {
            "colorbar": {
             "outlinewidth": 0,
             "ticks": ""
            },
            "type": "mesh3d"
           }
          ],
          "parcoords": [
           {
            "line": {
             "colorbar": {
              "outlinewidth": 0,
              "ticks": ""
             }
            },
            "type": "parcoords"
           }
          ],
          "pie": [
           {
            "automargin": true,
            "type": "pie"
           }
          ],
          "scatter": [
           {
            "fillpattern": {
             "fillmode": "overlay",
             "size": 10,
             "solidity": 0.2
            },
            "type": "scatter"
           }
          ],
          "scatter3d": [
           {
            "line": {
             "colorbar": {
              "outlinewidth": 0,
              "ticks": ""
             }
            },
            "marker": {
             "colorbar": {
              "outlinewidth": 0,
              "ticks": ""
             }
            },
            "type": "scatter3d"
           }
          ],
          "scattercarpet": [
           {
            "marker": {
             "colorbar": {
              "outlinewidth": 0,
              "ticks": ""
             }
            },
            "type": "scattercarpet"
           }
          ],
          "scattergeo": [
           {
            "marker": {
             "colorbar": {
              "outlinewidth": 0,
              "ticks": ""
             }
            },
            "type": "scattergeo"
           }
          ],
          "scattergl": [
           {
            "marker": {
             "colorbar": {
              "outlinewidth": 0,
              "ticks": ""
             }
            },
            "type": "scattergl"
           }
          ],
          "scattermap": [
           {
            "marker": {
             "colorbar": {
              "outlinewidth": 0,
              "ticks": ""
             }
            },
            "type": "scattermap"
           }
          ],
          "scattermapbox": [
           {
            "marker": {
             "colorbar": {
              "outlinewidth": 0,
              "ticks": ""
             }
            },
            "type": "scattermapbox"
           }
          ],
          "scatterpolar": [
           {
            "marker": {
             "colorbar": {
              "outlinewidth": 0,
              "ticks": ""
             }
            },
            "type": "scatterpolar"
           }
          ],
          "scatterpolargl": [
           {
            "marker": {
             "colorbar": {
              "outlinewidth": 0,
              "ticks": ""
             }
            },
            "type": "scatterpolargl"
           }
          ],
          "scatterternary": [
           {
            "marker": {
             "colorbar": {
              "outlinewidth": 0,
              "ticks": ""
             }
            },
            "type": "scatterternary"
           }
          ],
          "surface": [
           {
            "colorbar": {
             "outlinewidth": 0,
             "ticks": ""
            },
            "colorscale": [
             [
              0,
              "#0d0887"
             ],
             [
              0.1111111111111111,
              "#46039f"
             ],
             [
              0.2222222222222222,
              "#7201a8"
             ],
             [
              0.3333333333333333,
              "#9c179e"
             ],
             [
              0.4444444444444444,
              "#bd3786"
             ],
             [
              0.5555555555555556,
              "#d8576b"
             ],
             [
              0.6666666666666666,
              "#ed7953"
             ],
             [
              0.7777777777777778,
              "#fb9f3a"
             ],
             [
              0.8888888888888888,
              "#fdca26"
             ],
             [
              1,
              "#f0f921"
             ]
            ],
            "type": "surface"
           }
          ],
          "table": [
           {
            "cells": {
             "fill": {
              "color": "#EBF0F8"
             },
             "line": {
              "color": "white"
             }
            },
            "header": {
             "fill": {
              "color": "#C8D4E3"
             },
             "line": {
              "color": "white"
             }
            },
            "type": "table"
           }
          ]
         },
         "layout": {
          "annotationdefaults": {
           "arrowcolor": "#2a3f5f",
           "arrowhead": 0,
           "arrowwidth": 1
          },
          "autotypenumbers": "strict",
          "coloraxis": {
           "colorbar": {
            "outlinewidth": 0,
            "ticks": ""
           }
          },
          "colorscale": {
           "diverging": [
            [
             0,
             "#8e0152"
            ],
            [
             0.1,
             "#c51b7d"
            ],
            [
             0.2,
             "#de77ae"
            ],
            [
             0.3,
             "#f1b6da"
            ],
            [
             0.4,
             "#fde0ef"
            ],
            [
             0.5,
             "#f7f7f7"
            ],
            [
             0.6,
             "#e6f5d0"
            ],
            [
             0.7,
             "#b8e186"
            ],
            [
             0.8,
             "#7fbc41"
            ],
            [
             0.9,
             "#4d9221"
            ],
            [
             1,
             "#276419"
            ]
           ],
           "sequential": [
            [
             0,
             "#0d0887"
            ],
            [
             0.1111111111111111,
             "#46039f"
            ],
            [
             0.2222222222222222,
             "#7201a8"
            ],
            [
             0.3333333333333333,
             "#9c179e"
            ],
            [
             0.4444444444444444,
             "#bd3786"
            ],
            [
             0.5555555555555556,
             "#d8576b"
            ],
            [
             0.6666666666666666,
             "#ed7953"
            ],
            [
             0.7777777777777778,
             "#fb9f3a"
            ],
            [
             0.8888888888888888,
             "#fdca26"
            ],
            [
             1,
             "#f0f921"
            ]
           ],
           "sequentialminus": [
            [
             0,
             "#0d0887"
            ],
            [
             0.1111111111111111,
             "#46039f"
            ],
            [
             0.2222222222222222,
             "#7201a8"
            ],
            [
             0.3333333333333333,
             "#9c179e"
            ],
            [
             0.4444444444444444,
             "#bd3786"
            ],
            [
             0.5555555555555556,
             "#d8576b"
            ],
            [
             0.6666666666666666,
             "#ed7953"
            ],
            [
             0.7777777777777778,
             "#fb9f3a"
            ],
            [
             0.8888888888888888,
             "#fdca26"
            ],
            [
             1,
             "#f0f921"
            ]
           ]
          },
          "colorway": [
           "#636efa",
           "#EF553B",
           "#00cc96",
           "#ab63fa",
           "#FFA15A",
           "#19d3f3",
           "#FF6692",
           "#B6E880",
           "#FF97FF",
           "#FECB52"
          ],
          "font": {
           "color": "#2a3f5f"
          },
          "geo": {
           "bgcolor": "white",
           "lakecolor": "white",
           "landcolor": "#E5ECF6",
           "showlakes": true,
           "showland": true,
           "subunitcolor": "white"
          },
          "hoverlabel": {
           "align": "left"
          },
          "hovermode": "closest",
          "mapbox": {
           "style": "light"
          },
          "paper_bgcolor": "white",
          "plot_bgcolor": "#E5ECF6",
          "polar": {
           "angularaxis": {
            "gridcolor": "white",
            "linecolor": "white",
            "ticks": ""
           },
           "bgcolor": "#E5ECF6",
           "radialaxis": {
            "gridcolor": "white",
            "linecolor": "white",
            "ticks": ""
           }
          },
          "scene": {
           "xaxis": {
            "backgroundcolor": "#E5ECF6",
            "gridcolor": "white",
            "gridwidth": 2,
            "linecolor": "white",
            "showbackground": true,
            "ticks": "",
            "zerolinecolor": "white"
           },
           "yaxis": {
            "backgroundcolor": "#E5ECF6",
            "gridcolor": "white",
            "gridwidth": 2,
            "linecolor": "white",
            "showbackground": true,
            "ticks": "",
            "zerolinecolor": "white"
           },
           "zaxis": {
            "backgroundcolor": "#E5ECF6",
            "gridcolor": "white",
            "gridwidth": 2,
            "linecolor": "white",
            "showbackground": true,
            "ticks": "",
            "zerolinecolor": "white"
           }
          },
          "shapedefaults": {
           "line": {
            "color": "#2a3f5f"
           }
          },
          "ternary": {
           "aaxis": {
            "gridcolor": "white",
            "linecolor": "white",
            "ticks": ""
           },
           "baxis": {
            "gridcolor": "white",
            "linecolor": "white",
            "ticks": ""
           },
           "bgcolor": "#E5ECF6",
           "caxis": {
            "gridcolor": "white",
            "linecolor": "white",
            "ticks": ""
           }
          },
          "title": {
           "x": 0.05
          },
          "xaxis": {
           "automargin": true,
           "gridcolor": "white",
           "linecolor": "white",
           "ticks": "",
           "title": {
            "standoff": 15
           },
           "zerolinecolor": "white",
           "zerolinewidth": 2
          },
          "yaxis": {
           "automargin": true,
           "gridcolor": "white",
           "linecolor": "white",
           "ticks": "",
           "title": {
            "standoff": 15
           },
           "zerolinecolor": "white",
           "zerolinewidth": 2
          }
         }
        },
        "title": {
         "text": "Parallel Coordinate Plot"
        }
       }
      }
     },
     "metadata": {},
     "output_type": "display_data"
    }
   ],
   "source": [
    "vis.plot_parallel_coordinate(study_ex)"
   ]
  },
  {
   "cell_type": "code",
   "execution_count": 43,
   "id": "b850f61b",
   "metadata": {},
   "outputs": [
    {
     "data": {
      "application/vnd.plotly.v1+json": {
       "config": {
        "plotlyServerURL": "https://plot.ly"
       },
       "data": [
        {
         "marker": {
          "color": [
           0,
           1,
           2,
           3,
           4,
           5,
           6,
           7,
           8,
           9,
           10,
           11,
           12,
           13,
           14,
           15,
           16,
           17,
           18,
           19,
           20,
           21,
           22,
           23,
           24,
           25,
           26,
           27,
           28,
           29,
           30,
           31,
           32,
           33,
           34,
           35,
           36,
           37,
           38,
           39,
           40,
           41,
           42,
           43,
           44,
           45,
           46,
           47,
           48,
           49
          ],
          "colorbar": {
           "title": {
            "text": "Trial"
           },
           "x": 1,
           "xpad": 40
          },
          "colorscale": [
           [
            0,
            "rgb(247,251,255)"
           ],
           [
            0.125,
            "rgb(222,235,247)"
           ],
           [
            0.25,
            "rgb(198,219,239)"
           ],
           [
            0.375,
            "rgb(158,202,225)"
           ],
           [
            0.5,
            "rgb(107,174,214)"
           ],
           [
            0.625,
            "rgb(66,146,198)"
           ],
           [
            0.75,
            "rgb(33,113,181)"
           ],
           [
            0.875,
            "rgb(8,81,156)"
           ],
           [
            1,
            "rgb(8,48,107)"
           ]
          ],
          "line": {
           "color": "Grey",
           "width": 0.5
          },
          "showscale": true
         },
         "mode": "markers",
         "name": "Feasible Trial",
         "showlegend": false,
         "type": "scatter",
         "x": [
          48,
          5,
          18,
          32,
          9,
          19,
          47,
          17,
          42,
          20,
          5,
          33,
          33,
          33,
          38,
          27,
          27,
          35,
          41,
          25,
          31,
          38,
          38,
          44,
          37,
          29,
          34,
          23,
          36,
          49,
          43,
          34,
          31,
          37,
          40,
          45,
          29,
          23,
          33,
          14,
          40,
          34,
          30,
          35,
          34,
          31,
          47,
          26,
          39,
          36
         ],
         "xaxis": "x",
         "y": [
          1.5854138017797699,
          1.6309389082537407,
          1.6330524234925665,
          1.5949560738132909,
          1.569994640778204,
          1.8757765171330871,
          1.746119042207378,
          2.177534315391798,
          2.184072838426345,
          1.643143158003125,
          2.080617714523775,
          1.4824552011463772,
          1.487073644777989,
          1.6805013449485238,
          1.4990942596442012,
          2.1627290479281736,
          1.6713400749284204,
          1.7098979817472593,
          1.6564585682464432,
          1.9941412809693575,
          1.661757770763162,
          1.525617020874409,
          1.5482295051153159,
          1.617374984367693,
          1.489686610943957,
          1.5580604423525943,
          1.4939843253989875,
          1.5604387772867911,
          1.9430969940684015,
          1.850938201320713,
          1.6287918824578629,
          1.4949365120393725,
          1.5476932895921949,
          1.4982333895741047,
          1.5881009467398282,
          1.5816020131977413,
          1.5439504370359274,
          1.5991819596006187,
          1.5711270331197087,
          1.9575696609811584,
          1.7168311914334136,
          1.521174103327739,
          1.5034182945705887,
          1.497456377374578,
          1.540061533192474,
          1.8827187825165854,
          1.5733773239217868,
          1.5189168968017275,
          2.212364253244691,
          1.6559997468545042
         ],
         "yaxis": "y"
        },
        {
         "marker": {
          "color": [
           0,
           1,
           2,
           3,
           4,
           5,
           6,
           7,
           8,
           9,
           10,
           11,
           12,
           13,
           14,
           15,
           16,
           17,
           18,
           19,
           20,
           21,
           22,
           23,
           24,
           25,
           26,
           27,
           28,
           29,
           30,
           31,
           32,
           33,
           34,
           35,
           36,
           37,
           38,
           39,
           40,
           41,
           42,
           43,
           44,
           45,
           46,
           47,
           48,
           49
          ],
          "colorbar": {
           "title": {
            "text": "Trial"
           },
           "x": 1,
           "xpad": 40
          },
          "colorscale": [
           [
            0,
            "rgb(247,251,255)"
           ],
           [
            0.125,
            "rgb(222,235,247)"
           ],
           [
            0.25,
            "rgb(198,219,239)"
           ],
           [
            0.375,
            "rgb(158,202,225)"
           ],
           [
            0.5,
            "rgb(107,174,214)"
           ],
           [
            0.625,
            "rgb(66,146,198)"
           ],
           [
            0.75,
            "rgb(33,113,181)"
           ],
           [
            0.875,
            "rgb(8,81,156)"
           ],
           [
            1,
            "rgb(8,48,107)"
           ]
          ],
          "line": {
           "color": "Grey",
           "width": 0.5
          },
          "showscale": false
         },
         "mode": "markers",
         "name": "Feasible Trial",
         "showlegend": false,
         "type": "scatter",
         "x": [
          null,
          null,
          null,
          null,
          null,
          "sqrt",
          "log2",
          "log2",
          "log2",
          null,
          "sqrt",
          null,
          null,
          null,
          null,
          "sqrt",
          null,
          null,
          "sqrt",
          "log2",
          null,
          null,
          null,
          null,
          null,
          null,
          null,
          null,
          "log2",
          "sqrt",
          null,
          null,
          null,
          null,
          null,
          null,
          null,
          null,
          null,
          "log2",
          null,
          null,
          null,
          null,
          null,
          "sqrt",
          null,
          null,
          "log2",
          null
         ],
         "xaxis": "x2",
         "y": [
          1.5854138017797699,
          1.6309389082537407,
          1.6330524234925665,
          1.5949560738132909,
          1.569994640778204,
          1.8757765171330871,
          1.746119042207378,
          2.177534315391798,
          2.184072838426345,
          1.643143158003125,
          2.080617714523775,
          1.4824552011463772,
          1.487073644777989,
          1.6805013449485238,
          1.4990942596442012,
          2.1627290479281736,
          1.6713400749284204,
          1.7098979817472593,
          1.6564585682464432,
          1.9941412809693575,
          1.661757770763162,
          1.525617020874409,
          1.5482295051153159,
          1.617374984367693,
          1.489686610943957,
          1.5580604423525943,
          1.4939843253989875,
          1.5604387772867911,
          1.9430969940684015,
          1.850938201320713,
          1.6287918824578629,
          1.4949365120393725,
          1.5476932895921949,
          1.4982333895741047,
          1.5881009467398282,
          1.5816020131977413,
          1.5439504370359274,
          1.5991819596006187,
          1.5711270331197087,
          1.9575696609811584,
          1.7168311914334136,
          1.521174103327739,
          1.5034182945705887,
          1.497456377374578,
          1.540061533192474,
          1.8827187825165854,
          1.5733773239217868,
          1.5189168968017275,
          2.212364253244691,
          1.6559997468545042
         ],
         "yaxis": "y2"
        },
        {
         "marker": {
          "color": [
           0,
           1,
           2,
           3,
           4,
           5,
           6,
           7,
           8,
           9,
           10,
           11,
           12,
           13,
           14,
           15,
           16,
           17,
           18,
           19,
           20,
           21,
           22,
           23,
           24,
           25,
           26,
           27,
           28,
           29,
           30,
           31,
           32,
           33,
           34,
           35,
           36,
           37,
           38,
           39,
           40,
           41,
           42,
           43,
           44,
           45,
           46,
           47,
           48,
           49
          ],
          "colorbar": {
           "title": {
            "text": "Trial"
           },
           "x": 1,
           "xpad": 40
          },
          "colorscale": [
           [
            0,
            "rgb(247,251,255)"
           ],
           [
            0.125,
            "rgb(222,235,247)"
           ],
           [
            0.25,
            "rgb(198,219,239)"
           ],
           [
            0.375,
            "rgb(158,202,225)"
           ],
           [
            0.5,
            "rgb(107,174,214)"
           ],
           [
            0.625,
            "rgb(66,146,198)"
           ],
           [
            0.75,
            "rgb(33,113,181)"
           ],
           [
            0.875,
            "rgb(8,81,156)"
           ],
           [
            1,
            "rgb(8,48,107)"
           ]
          ],
          "line": {
           "color": "Grey",
           "width": 0.5
          },
          "showscale": false
         },
         "mode": "markers",
         "name": "Feasible Trial",
         "showlegend": false,
         "type": "scatter",
         "x": [
          641,
          572,
          279,
          828,
          333,
          906,
          846,
          279,
          877,
          525,
          114,
          582,
          396,
          431,
          720,
          441,
          696,
          118,
          422,
          556,
          212,
          746,
          744,
          984,
          627,
          631,
          494,
          623,
          394,
          492,
          666,
          490,
          596,
          366,
          484,
          554,
          312,
          225,
          672,
          791,
          512,
          463,
          592,
          372,
          531,
          587,
          338,
          453,
          402,
          527
         ],
         "xaxis": "x3",
         "y": [
          1.5854138017797699,
          1.6309389082537407,
          1.6330524234925665,
          1.5949560738132909,
          1.569994640778204,
          1.8757765171330871,
          1.746119042207378,
          2.177534315391798,
          2.184072838426345,
          1.643143158003125,
          2.080617714523775,
          1.4824552011463772,
          1.487073644777989,
          1.6805013449485238,
          1.4990942596442012,
          2.1627290479281736,
          1.6713400749284204,
          1.7098979817472593,
          1.6564585682464432,
          1.9941412809693575,
          1.661757770763162,
          1.525617020874409,
          1.5482295051153159,
          1.617374984367693,
          1.489686610943957,
          1.5580604423525943,
          1.4939843253989875,
          1.5604387772867911,
          1.9430969940684015,
          1.850938201320713,
          1.6287918824578629,
          1.4949365120393725,
          1.5476932895921949,
          1.4982333895741047,
          1.5881009467398282,
          1.5816020131977413,
          1.5439504370359274,
          1.5991819596006187,
          1.5711270331197087,
          1.9575696609811584,
          1.7168311914334136,
          1.521174103327739,
          1.5034182945705887,
          1.497456377374578,
          1.540061533192474,
          1.8827187825165854,
          1.5733773239217868,
          1.5189168968017275,
          2.212364253244691,
          1.6559997468545042
         ],
         "yaxis": "y3"
        },
        {
         "marker": {
          "color": [
           0,
           1,
           2,
           3,
           4,
           5,
           6,
           7,
           8,
           9,
           10,
           11,
           12,
           13,
           14,
           15,
           16,
           17,
           18,
           19,
           20,
           21,
           22,
           23,
           24,
           25,
           26,
           27,
           28,
           29,
           30,
           31,
           32,
           33,
           34,
           35,
           36,
           37,
           38,
           39,
           40,
           41,
           42,
           43,
           44,
           45,
           46,
           47,
           48,
           49
          ],
          "colorbar": {
           "title": {
            "text": "Trial"
           },
           "x": 1,
           "xpad": 40
          },
          "colorscale": [
           [
            0,
            "rgb(247,251,255)"
           ],
           [
            0.125,
            "rgb(222,235,247)"
           ],
           [
            0.25,
            "rgb(198,219,239)"
           ],
           [
            0.375,
            "rgb(158,202,225)"
           ],
           [
            0.5,
            "rgb(107,174,214)"
           ],
           [
            0.625,
            "rgb(66,146,198)"
           ],
           [
            0.75,
            "rgb(33,113,181)"
           ],
           [
            0.875,
            "rgb(8,81,156)"
           ],
           [
            1,
            "rgb(8,48,107)"
           ]
          ],
          "line": {
           "color": "Grey",
           "width": 0.5
          },
          "showscale": false
         },
         "mode": "markers",
         "name": "Feasible Trial",
         "showlegend": false,
         "type": "scatter",
         "x": [
          0.04680559213273095,
          0.06370173320348284,
          0.08764339456056544,
          0.051157237106187456,
          0.036611470453433645,
          0.05545633665765811,
          0.01356818667316142,
          0.2406590942262119,
          0.2313811040057837,
          0.09755499660802411,
          0.16085657660932784,
          0.0027683007133353157,
          0.0023922249698360085,
          0.14228480479966227,
          0.007664848443163036,
          0.29880509680836403,
          0.12847659481075646,
          0.18496255345188253,
          0.00014212030256912592,
          0.09542294520450934,
          0.11309879122991345,
          0.017434249220333264,
          0.02700028414056692,
          0.07202354786212121,
          0.0038686233519529584,
          0.029916974116560024,
          0.0031038109060421985,
          0.03129329608956821,
          0.06535035879177278,
          0.04512861932542525,
          0.08032016366605743,
          0.0035070938131738045,
          0.021488884511252103,
          0.0020387716606042215,
          0.0470375501463896,
          0.04371875188115536,
          0.022605842643695483,
          0.056776761773990075,
          0.03742259445670653,
          0.0700035034315539,
          0.19377327228181282,
          0.012653844616283907,
          0.006771096232065347,
          0.0012975198213144822,
          0.02039147945483578,
          0.053644605416695385,
          0.03393078476545705,
          0.013299461767489165,
          0.2888848303308986,
          0.11134486647164177
         ],
         "xaxis": "x4",
         "y": [
          1.5854138017797699,
          1.6309389082537407,
          1.6330524234925665,
          1.5949560738132909,
          1.569994640778204,
          1.8757765171330871,
          1.746119042207378,
          2.177534315391798,
          2.184072838426345,
          1.643143158003125,
          2.080617714523775,
          1.4824552011463772,
          1.487073644777989,
          1.6805013449485238,
          1.4990942596442012,
          2.1627290479281736,
          1.6713400749284204,
          1.7098979817472593,
          1.6564585682464432,
          1.9941412809693575,
          1.661757770763162,
          1.525617020874409,
          1.5482295051153159,
          1.617374984367693,
          1.489686610943957,
          1.5580604423525943,
          1.4939843253989875,
          1.5604387772867911,
          1.9430969940684015,
          1.850938201320713,
          1.6287918824578629,
          1.4949365120393725,
          1.5476932895921949,
          1.4982333895741047,
          1.5881009467398282,
          1.5816020131977413,
          1.5439504370359274,
          1.5991819596006187,
          1.5711270331197087,
          1.9575696609811584,
          1.7168311914334136,
          1.521174103327739,
          1.5034182945705887,
          1.497456377374578,
          1.540061533192474,
          1.8827187825165854,
          1.5733773239217868,
          1.5189168968017275,
          2.212364253244691,
          1.6559997468545042
         ],
         "yaxis": "y4"
        },
        {
         "marker": {
          "color": [
           0,
           1,
           2,
           3,
           4,
           5,
           6,
           7,
           8,
           9,
           10,
           11,
           12,
           13,
           14,
           15,
           16,
           17,
           18,
           19,
           20,
           21,
           22,
           23,
           24,
           25,
           26,
           27,
           28,
           29,
           30,
           31,
           32,
           33,
           34,
           35,
           36,
           37,
           38,
           39,
           40,
           41,
           42,
           43,
           44,
           45,
           46,
           47,
           48,
           49
          ],
          "colorbar": {
           "title": {
            "text": "Trial"
           },
           "x": 1,
           "xpad": 40
          },
          "colorscale": [
           [
            0,
            "rgb(247,251,255)"
           ],
           [
            0.125,
            "rgb(222,235,247)"
           ],
           [
            0.25,
            "rgb(198,219,239)"
           ],
           [
            0.375,
            "rgb(158,202,225)"
           ],
           [
            0.5,
            "rgb(107,174,214)"
           ],
           [
            0.625,
            "rgb(66,146,198)"
           ],
           [
            0.75,
            "rgb(33,113,181)"
           ],
           [
            0.875,
            "rgb(8,81,156)"
           ],
           [
            1,
            "rgb(8,48,107)"
           ]
          ],
          "line": {
           "color": "Grey",
           "width": 0.5
          },
          "showscale": false
         },
         "mode": "markers",
         "name": "Feasible Trial",
         "showlegend": false,
         "type": "scatter",
         "x": [
          3,
          5,
          1,
          4,
          3,
          3,
          1,
          1,
          4,
          2,
          5,
          3,
          2,
          2,
          2,
          4,
          2,
          2,
          3,
          3,
          4,
          2,
          2,
          1,
          3,
          3,
          4,
          3,
          2,
          3,
          4,
          4,
          5,
          5,
          4,
          3,
          4,
          3,
          3,
          1,
          3,
          4,
          4,
          5,
          4,
          4,
          5,
          3,
          4,
          2
         ],
         "xaxis": "x5",
         "y": [
          1.5854138017797699,
          1.6309389082537407,
          1.6330524234925665,
          1.5949560738132909,
          1.569994640778204,
          1.8757765171330871,
          1.746119042207378,
          2.177534315391798,
          2.184072838426345,
          1.643143158003125,
          2.080617714523775,
          1.4824552011463772,
          1.487073644777989,
          1.6805013449485238,
          1.4990942596442012,
          2.1627290479281736,
          1.6713400749284204,
          1.7098979817472593,
          1.6564585682464432,
          1.9941412809693575,
          1.661757770763162,
          1.525617020874409,
          1.5482295051153159,
          1.617374984367693,
          1.489686610943957,
          1.5580604423525943,
          1.4939843253989875,
          1.5604387772867911,
          1.9430969940684015,
          1.850938201320713,
          1.6287918824578629,
          1.4949365120393725,
          1.5476932895921949,
          1.4982333895741047,
          1.5881009467398282,
          1.5816020131977413,
          1.5439504370359274,
          1.5991819596006187,
          1.5711270331197087,
          1.9575696609811584,
          1.7168311914334136,
          1.521174103327739,
          1.5034182945705887,
          1.497456377374578,
          1.540061533192474,
          1.8827187825165854,
          1.5733773239217868,
          1.5189168968017275,
          2.212364253244691,
          1.6559997468545042
         ],
         "yaxis": "y5"
        },
        {
         "marker": {
          "color": [
           0,
           1,
           2,
           3,
           4,
           5,
           6,
           7,
           8,
           9,
           10,
           11,
           12,
           13,
           14,
           15,
           16,
           17,
           18,
           19,
           20,
           21,
           22,
           23,
           24,
           25,
           26,
           27,
           28,
           29,
           30,
           31,
           32,
           33,
           34,
           35,
           36,
           37,
           38,
           39,
           40,
           41,
           42,
           43,
           44,
           45,
           46,
           47,
           48,
           49
          ],
          "colorbar": {
           "title": {
            "text": "Trial"
           },
           "x": 1,
           "xpad": 40
          },
          "colorscale": [
           [
            0,
            "rgb(247,251,255)"
           ],
           [
            0.125,
            "rgb(222,235,247)"
           ],
           [
            0.25,
            "rgb(198,219,239)"
           ],
           [
            0.375,
            "rgb(158,202,225)"
           ],
           [
            0.5,
            "rgb(107,174,214)"
           ],
           [
            0.625,
            "rgb(66,146,198)"
           ],
           [
            0.75,
            "rgb(33,113,181)"
           ],
           [
            0.875,
            "rgb(8,81,156)"
           ],
           [
            1,
            "rgb(8,48,107)"
           ]
          ],
          "line": {
           "color": "Grey",
           "width": 0.5
          },
          "showscale": false
         },
         "mode": "markers",
         "name": "Feasible Trial",
         "showlegend": false,
         "type": "scatter",
         "x": [
          8,
          10,
          7,
          2,
          8,
          6,
          2,
          6,
          8,
          2,
          4,
          10,
          10,
          10,
          10,
          9,
          4,
          9,
          9,
          5,
          7,
          10,
          10,
          9,
          10,
          9,
          7,
          8,
          10,
          8,
          9,
          7,
          10,
          6,
          7,
          5,
          8,
          10,
          9,
          10,
          5,
          7,
          7,
          6,
          8,
          3,
          8,
          9,
          7,
          10
         ],
         "xaxis": "x6",
         "y": [
          1.5854138017797699,
          1.6309389082537407,
          1.6330524234925665,
          1.5949560738132909,
          1.569994640778204,
          1.8757765171330871,
          1.746119042207378,
          2.177534315391798,
          2.184072838426345,
          1.643143158003125,
          2.080617714523775,
          1.4824552011463772,
          1.487073644777989,
          1.6805013449485238,
          1.4990942596442012,
          2.1627290479281736,
          1.6713400749284204,
          1.7098979817472593,
          1.6564585682464432,
          1.9941412809693575,
          1.661757770763162,
          1.525617020874409,
          1.5482295051153159,
          1.617374984367693,
          1.489686610943957,
          1.5580604423525943,
          1.4939843253989875,
          1.5604387772867911,
          1.9430969940684015,
          1.850938201320713,
          1.6287918824578629,
          1.4949365120393725,
          1.5476932895921949,
          1.4982333895741047,
          1.5881009467398282,
          1.5816020131977413,
          1.5439504370359274,
          1.5991819596006187,
          1.5711270331197087,
          1.9575696609811584,
          1.7168311914334136,
          1.521174103327739,
          1.5034182945705887,
          1.497456377374578,
          1.540061533192474,
          1.8827187825165854,
          1.5733773239217868,
          1.5189168968017275,
          2.212364253244691,
          1.6559997468545042
         ],
         "yaxis": "y6"
        },
        {
         "marker": {
          "color": [
           0,
           1,
           2,
           3,
           4,
           5,
           6,
           7,
           8,
           9,
           10,
           11,
           12,
           13,
           14,
           15,
           16,
           17,
           18,
           19,
           20,
           21,
           22,
           23,
           24,
           25,
           26,
           27,
           28,
           29,
           30,
           31,
           32,
           33,
           34,
           35,
           36,
           37,
           38,
           39,
           40,
           41,
           42,
           43,
           44,
           45,
           46,
           47,
           48,
           49
          ],
          "colorbar": {
           "title": {
            "text": "Trial"
           },
           "x": 1,
           "xpad": 40
          },
          "colorscale": [
           [
            0,
            "rgb(247,251,255)"
           ],
           [
            0.125,
            "rgb(222,235,247)"
           ],
           [
            0.25,
            "rgb(198,219,239)"
           ],
           [
            0.375,
            "rgb(158,202,225)"
           ],
           [
            0.5,
            "rgb(107,174,214)"
           ],
           [
            0.625,
            "rgb(66,146,198)"
           ],
           [
            0.75,
            "rgb(33,113,181)"
           ],
           [
            0.875,
            "rgb(8,81,156)"
           ],
           [
            1,
            "rgb(8,48,107)"
           ]
          ],
          "line": {
           "color": "Grey",
           "width": 0.5
          },
          "showscale": false
         },
         "mode": "markers",
         "name": "Feasible Trial",
         "showlegend": false,
         "type": "scatter",
         "x": [
          437,
          737,
          489,
          563,
          374,
          696,
          638,
          421,
          104,
          661,
          951,
          294,
          227,
          230,
          264,
          126,
          293,
          331,
          227,
          188,
          845,
          294,
          213,
          326,
          502,
          554,
          473,
          162,
          381,
          474,
          395,
          492,
          515,
          589,
          798,
          428,
          348,
          460,
          588,
          517,
          639,
          510,
          439,
          744,
          400,
          272,
          143,
          572,
          362,
          689
         ],
         "xaxis": "x7",
         "y": [
          1.5854138017797699,
          1.6309389082537407,
          1.6330524234925665,
          1.5949560738132909,
          1.569994640778204,
          1.8757765171330871,
          1.746119042207378,
          2.177534315391798,
          2.184072838426345,
          1.643143158003125,
          2.080617714523775,
          1.4824552011463772,
          1.487073644777989,
          1.6805013449485238,
          1.4990942596442012,
          2.1627290479281736,
          1.6713400749284204,
          1.7098979817472593,
          1.6564585682464432,
          1.9941412809693575,
          1.661757770763162,
          1.525617020874409,
          1.5482295051153159,
          1.617374984367693,
          1.489686610943957,
          1.5580604423525943,
          1.4939843253989875,
          1.5604387772867911,
          1.9430969940684015,
          1.850938201320713,
          1.6287918824578629,
          1.4949365120393725,
          1.5476932895921949,
          1.4982333895741047,
          1.5881009467398282,
          1.5816020131977413,
          1.5439504370359274,
          1.5991819596006187,
          1.5711270331197087,
          1.9575696609811584,
          1.7168311914334136,
          1.521174103327739,
          1.5034182945705887,
          1.497456377374578,
          1.540061533192474,
          1.8827187825165854,
          1.5733773239217868,
          1.5189168968017275,
          2.212364253244691,
          1.6559997468545042
         ],
         "yaxis": "y7"
        }
       ],
       "layout": {
        "template": {
         "data": {
          "bar": [
           {
            "error_x": {
             "color": "#2a3f5f"
            },
            "error_y": {
             "color": "#2a3f5f"
            },
            "marker": {
             "line": {
              "color": "#E5ECF6",
              "width": 0.5
             },
             "pattern": {
              "fillmode": "overlay",
              "size": 10,
              "solidity": 0.2
             }
            },
            "type": "bar"
           }
          ],
          "barpolar": [
           {
            "marker": {
             "line": {
              "color": "#E5ECF6",
              "width": 0.5
             },
             "pattern": {
              "fillmode": "overlay",
              "size": 10,
              "solidity": 0.2
             }
            },
            "type": "barpolar"
           }
          ],
          "carpet": [
           {
            "aaxis": {
             "endlinecolor": "#2a3f5f",
             "gridcolor": "white",
             "linecolor": "white",
             "minorgridcolor": "white",
             "startlinecolor": "#2a3f5f"
            },
            "baxis": {
             "endlinecolor": "#2a3f5f",
             "gridcolor": "white",
             "linecolor": "white",
             "minorgridcolor": "white",
             "startlinecolor": "#2a3f5f"
            },
            "type": "carpet"
           }
          ],
          "choropleth": [
           {
            "colorbar": {
             "outlinewidth": 0,
             "ticks": ""
            },
            "type": "choropleth"
           }
          ],
          "contour": [
           {
            "colorbar": {
             "outlinewidth": 0,
             "ticks": ""
            },
            "colorscale": [
             [
              0,
              "#0d0887"
             ],
             [
              0.1111111111111111,
              "#46039f"
             ],
             [
              0.2222222222222222,
              "#7201a8"
             ],
             [
              0.3333333333333333,
              "#9c179e"
             ],
             [
              0.4444444444444444,
              "#bd3786"
             ],
             [
              0.5555555555555556,
              "#d8576b"
             ],
             [
              0.6666666666666666,
              "#ed7953"
             ],
             [
              0.7777777777777778,
              "#fb9f3a"
             ],
             [
              0.8888888888888888,
              "#fdca26"
             ],
             [
              1,
              "#f0f921"
             ]
            ],
            "type": "contour"
           }
          ],
          "contourcarpet": [
           {
            "colorbar": {
             "outlinewidth": 0,
             "ticks": ""
            },
            "type": "contourcarpet"
           }
          ],
          "heatmap": [
           {
            "colorbar": {
             "outlinewidth": 0,
             "ticks": ""
            },
            "colorscale": [
             [
              0,
              "#0d0887"
             ],
             [
              0.1111111111111111,
              "#46039f"
             ],
             [
              0.2222222222222222,
              "#7201a8"
             ],
             [
              0.3333333333333333,
              "#9c179e"
             ],
             [
              0.4444444444444444,
              "#bd3786"
             ],
             [
              0.5555555555555556,
              "#d8576b"
             ],
             [
              0.6666666666666666,
              "#ed7953"
             ],
             [
              0.7777777777777778,
              "#fb9f3a"
             ],
             [
              0.8888888888888888,
              "#fdca26"
             ],
             [
              1,
              "#f0f921"
             ]
            ],
            "type": "heatmap"
           }
          ],
          "histogram": [
           {
            "marker": {
             "pattern": {
              "fillmode": "overlay",
              "size": 10,
              "solidity": 0.2
             }
            },
            "type": "histogram"
           }
          ],
          "histogram2d": [
           {
            "colorbar": {
             "outlinewidth": 0,
             "ticks": ""
            },
            "colorscale": [
             [
              0,
              "#0d0887"
             ],
             [
              0.1111111111111111,
              "#46039f"
             ],
             [
              0.2222222222222222,
              "#7201a8"
             ],
             [
              0.3333333333333333,
              "#9c179e"
             ],
             [
              0.4444444444444444,
              "#bd3786"
             ],
             [
              0.5555555555555556,
              "#d8576b"
             ],
             [
              0.6666666666666666,
              "#ed7953"
             ],
             [
              0.7777777777777778,
              "#fb9f3a"
             ],
             [
              0.8888888888888888,
              "#fdca26"
             ],
             [
              1,
              "#f0f921"
             ]
            ],
            "type": "histogram2d"
           }
          ],
          "histogram2dcontour": [
           {
            "colorbar": {
             "outlinewidth": 0,
             "ticks": ""
            },
            "colorscale": [
             [
              0,
              "#0d0887"
             ],
             [
              0.1111111111111111,
              "#46039f"
             ],
             [
              0.2222222222222222,
              "#7201a8"
             ],
             [
              0.3333333333333333,
              "#9c179e"
             ],
             [
              0.4444444444444444,
              "#bd3786"
             ],
             [
              0.5555555555555556,
              "#d8576b"
             ],
             [
              0.6666666666666666,
              "#ed7953"
             ],
             [
              0.7777777777777778,
              "#fb9f3a"
             ],
             [
              0.8888888888888888,
              "#fdca26"
             ],
             [
              1,
              "#f0f921"
             ]
            ],
            "type": "histogram2dcontour"
           }
          ],
          "mesh3d": [
           {
            "colorbar": {
             "outlinewidth": 0,
             "ticks": ""
            },
            "type": "mesh3d"
           }
          ],
          "parcoords": [
           {
            "line": {
             "colorbar": {
              "outlinewidth": 0,
              "ticks": ""
             }
            },
            "type": "parcoords"
           }
          ],
          "pie": [
           {
            "automargin": true,
            "type": "pie"
           }
          ],
          "scatter": [
           {
            "fillpattern": {
             "fillmode": "overlay",
             "size": 10,
             "solidity": 0.2
            },
            "type": "scatter"
           }
          ],
          "scatter3d": [
           {
            "line": {
             "colorbar": {
              "outlinewidth": 0,
              "ticks": ""
             }
            },
            "marker": {
             "colorbar": {
              "outlinewidth": 0,
              "ticks": ""
             }
            },
            "type": "scatter3d"
           }
          ],
          "scattercarpet": [
           {
            "marker": {
             "colorbar": {
              "outlinewidth": 0,
              "ticks": ""
             }
            },
            "type": "scattercarpet"
           }
          ],
          "scattergeo": [
           {
            "marker": {
             "colorbar": {
              "outlinewidth": 0,
              "ticks": ""
             }
            },
            "type": "scattergeo"
           }
          ],
          "scattergl": [
           {
            "marker": {
             "colorbar": {
              "outlinewidth": 0,
              "ticks": ""
             }
            },
            "type": "scattergl"
           }
          ],
          "scattermap": [
           {
            "marker": {
             "colorbar": {
              "outlinewidth": 0,
              "ticks": ""
             }
            },
            "type": "scattermap"
           }
          ],
          "scattermapbox": [
           {
            "marker": {
             "colorbar": {
              "outlinewidth": 0,
              "ticks": ""
             }
            },
            "type": "scattermapbox"
           }
          ],
          "scatterpolar": [
           {
            "marker": {
             "colorbar": {
              "outlinewidth": 0,
              "ticks": ""
             }
            },
            "type": "scatterpolar"
           }
          ],
          "scatterpolargl": [
           {
            "marker": {
             "colorbar": {
              "outlinewidth": 0,
              "ticks": ""
             }
            },
            "type": "scatterpolargl"
           }
          ],
          "scatterternary": [
           {
            "marker": {
             "colorbar": {
              "outlinewidth": 0,
              "ticks": ""
             }
            },
            "type": "scatterternary"
           }
          ],
          "surface": [
           {
            "colorbar": {
             "outlinewidth": 0,
             "ticks": ""
            },
            "colorscale": [
             [
              0,
              "#0d0887"
             ],
             [
              0.1111111111111111,
              "#46039f"
             ],
             [
              0.2222222222222222,
              "#7201a8"
             ],
             [
              0.3333333333333333,
              "#9c179e"
             ],
             [
              0.4444444444444444,
              "#bd3786"
             ],
             [
              0.5555555555555556,
              "#d8576b"
             ],
             [
              0.6666666666666666,
              "#ed7953"
             ],
             [
              0.7777777777777778,
              "#fb9f3a"
             ],
             [
              0.8888888888888888,
              "#fdca26"
             ],
             [
              1,
              "#f0f921"
             ]
            ],
            "type": "surface"
           }
          ],
          "table": [
           {
            "cells": {
             "fill": {
              "color": "#EBF0F8"
             },
             "line": {
              "color": "white"
             }
            },
            "header": {
             "fill": {
              "color": "#C8D4E3"
             },
             "line": {
              "color": "white"
             }
            },
            "type": "table"
           }
          ]
         },
         "layout": {
          "annotationdefaults": {
           "arrowcolor": "#2a3f5f",
           "arrowhead": 0,
           "arrowwidth": 1
          },
          "autotypenumbers": "strict",
          "coloraxis": {
           "colorbar": {
            "outlinewidth": 0,
            "ticks": ""
           }
          },
          "colorscale": {
           "diverging": [
            [
             0,
             "#8e0152"
            ],
            [
             0.1,
             "#c51b7d"
            ],
            [
             0.2,
             "#de77ae"
            ],
            [
             0.3,
             "#f1b6da"
            ],
            [
             0.4,
             "#fde0ef"
            ],
            [
             0.5,
             "#f7f7f7"
            ],
            [
             0.6,
             "#e6f5d0"
            ],
            [
             0.7,
             "#b8e186"
            ],
            [
             0.8,
             "#7fbc41"
            ],
            [
             0.9,
             "#4d9221"
            ],
            [
             1,
             "#276419"
            ]
           ],
           "sequential": [
            [
             0,
             "#0d0887"
            ],
            [
             0.1111111111111111,
             "#46039f"
            ],
            [
             0.2222222222222222,
             "#7201a8"
            ],
            [
             0.3333333333333333,
             "#9c179e"
            ],
            [
             0.4444444444444444,
             "#bd3786"
            ],
            [
             0.5555555555555556,
             "#d8576b"
            ],
            [
             0.6666666666666666,
             "#ed7953"
            ],
            [
             0.7777777777777778,
             "#fb9f3a"
            ],
            [
             0.8888888888888888,
             "#fdca26"
            ],
            [
             1,
             "#f0f921"
            ]
           ],
           "sequentialminus": [
            [
             0,
             "#0d0887"
            ],
            [
             0.1111111111111111,
             "#46039f"
            ],
            [
             0.2222222222222222,
             "#7201a8"
            ],
            [
             0.3333333333333333,
             "#9c179e"
            ],
            [
             0.4444444444444444,
             "#bd3786"
            ],
            [
             0.5555555555555556,
             "#d8576b"
            ],
            [
             0.6666666666666666,
             "#ed7953"
            ],
            [
             0.7777777777777778,
             "#fb9f3a"
            ],
            [
             0.8888888888888888,
             "#fdca26"
            ],
            [
             1,
             "#f0f921"
            ]
           ]
          },
          "colorway": [
           "#636efa",
           "#EF553B",
           "#00cc96",
           "#ab63fa",
           "#FFA15A",
           "#19d3f3",
           "#FF6692",
           "#B6E880",
           "#FF97FF",
           "#FECB52"
          ],
          "font": {
           "color": "#2a3f5f"
          },
          "geo": {
           "bgcolor": "white",
           "lakecolor": "white",
           "landcolor": "#E5ECF6",
           "showlakes": true,
           "showland": true,
           "subunitcolor": "white"
          },
          "hoverlabel": {
           "align": "left"
          },
          "hovermode": "closest",
          "mapbox": {
           "style": "light"
          },
          "paper_bgcolor": "white",
          "plot_bgcolor": "#E5ECF6",
          "polar": {
           "angularaxis": {
            "gridcolor": "white",
            "linecolor": "white",
            "ticks": ""
           },
           "bgcolor": "#E5ECF6",
           "radialaxis": {
            "gridcolor": "white",
            "linecolor": "white",
            "ticks": ""
           }
          },
          "scene": {
           "xaxis": {
            "backgroundcolor": "#E5ECF6",
            "gridcolor": "white",
            "gridwidth": 2,
            "linecolor": "white",
            "showbackground": true,
            "ticks": "",
            "zerolinecolor": "white"
           },
           "yaxis": {
            "backgroundcolor": "#E5ECF6",
            "gridcolor": "white",
            "gridwidth": 2,
            "linecolor": "white",
            "showbackground": true,
            "ticks": "",
            "zerolinecolor": "white"
           },
           "zaxis": {
            "backgroundcolor": "#E5ECF6",
            "gridcolor": "white",
            "gridwidth": 2,
            "linecolor": "white",
            "showbackground": true,
            "ticks": "",
            "zerolinecolor": "white"
           }
          },
          "shapedefaults": {
           "line": {
            "color": "#2a3f5f"
           }
          },
          "ternary": {
           "aaxis": {
            "gridcolor": "white",
            "linecolor": "white",
            "ticks": ""
           },
           "baxis": {
            "gridcolor": "white",
            "linecolor": "white",
            "ticks": ""
           },
           "bgcolor": "#E5ECF6",
           "caxis": {
            "gridcolor": "white",
            "linecolor": "white",
            "ticks": ""
           }
          },
          "title": {
           "x": 0.05
          },
          "xaxis": {
           "automargin": true,
           "gridcolor": "white",
           "linecolor": "white",
           "ticks": "",
           "title": {
            "standoff": 15
           },
           "zerolinecolor": "white",
           "zerolinewidth": 2
          },
          "yaxis": {
           "automargin": true,
           "gridcolor": "white",
           "linecolor": "white",
           "ticks": "",
           "title": {
            "standoff": 15
           },
           "zerolinecolor": "white",
           "zerolinewidth": 2
          }
         }
        },
        "title": {
         "text": "Slice Plot"
        },
        "width": 2100,
        "xaxis": {
         "anchor": "y",
         "domain": [
          0,
          0.1183673469387755
         ],
         "title": {
          "text": "max_depth"
         }
        },
        "xaxis2": {
         "anchor": "y2",
         "categoryarray": [
          "sqrt",
          "log2",
          null
         ],
         "categoryorder": "array",
         "domain": [
          0.14693877551020407,
          0.26530612244897955
         ],
         "title": {
          "text": "max_features"
         },
         "type": "category"
        },
        "xaxis3": {
         "anchor": "y3",
         "domain": [
          0.29387755102040813,
          0.4122448979591836
         ],
         "title": {
          "text": "max_leaf_nodes"
         }
        },
        "xaxis4": {
         "anchor": "y4",
         "domain": [
          0.4408163265306122,
          0.5591836734693877
         ],
         "title": {
          "text": "min_impurity_decrease"
         }
        },
        "xaxis5": {
         "anchor": "y5",
         "domain": [
          0.5877551020408163,
          0.7061224489795918
         ],
         "title": {
          "text": "min_samples_leaf"
         }
        },
        "xaxis6": {
         "anchor": "y6",
         "domain": [
          0.7346938775510204,
          0.8530612244897959
         ],
         "title": {
          "text": "min_samples_split"
         }
        },
        "xaxis7": {
         "anchor": "y7",
         "domain": [
          0.8816326530612244,
          0.9999999999999999
         ],
         "title": {
          "text": "n_estimators"
         }
        },
        "yaxis": {
         "anchor": "x",
         "domain": [
          0,
          1
         ],
         "title": {
          "text": "Objective Value"
         }
        },
        "yaxis2": {
         "anchor": "x2",
         "domain": [
          0,
          1
         ],
         "matches": "y",
         "showticklabels": false
        },
        "yaxis3": {
         "anchor": "x3",
         "domain": [
          0,
          1
         ],
         "matches": "y",
         "showticklabels": false
        },
        "yaxis4": {
         "anchor": "x4",
         "domain": [
          0,
          1
         ],
         "matches": "y",
         "showticklabels": false
        },
        "yaxis5": {
         "anchor": "x5",
         "domain": [
          0,
          1
         ],
         "matches": "y",
         "showticklabels": false
        },
        "yaxis6": {
         "anchor": "x6",
         "domain": [
          0,
          1
         ],
         "matches": "y",
         "showticklabels": false
        },
        "yaxis7": {
         "anchor": "x7",
         "domain": [
          0,
          1
         ],
         "matches": "y",
         "showticklabels": false
        }
       }
      }
     },
     "metadata": {},
     "output_type": "display_data"
    }
   ],
   "source": [
    "vis.plot_slice(study=study_ex)"
   ]
  },
  {
   "cell_type": "code",
   "execution_count": 44,
   "id": "1ef7213f",
   "metadata": {},
   "outputs": [
    {
     "data": {
      "application/vnd.plotly.v1+json": {
       "config": {
        "plotlyServerURL": "https://plot.ly"
       },
       "data": [
        {
         "cliponaxis": false,
         "hovertemplate": [
          "min_samples_split (IntDistribution): 0.002343355836193105<extra></extra>",
          "max_depth (IntDistribution): 0.0033992509380766167<extra></extra>",
          "max_leaf_nodes (IntDistribution): 0.0034866670422441775<extra></extra>",
          "n_estimators (IntDistribution): 0.006494562178822368<extra></extra>",
          "min_samples_leaf (IntDistribution): 0.00794741688620296<extra></extra>",
          "min_impurity_decrease (FloatDistribution): 0.22816697697010385<extra></extra>",
          "max_features (CategoricalDistribution): 0.748161770148357<extra></extra>"
         ],
         "name": "Objective Value",
         "orientation": "h",
         "text": [
          "<0.01",
          "<0.01",
          "<0.01",
          "<0.01",
          "<0.01",
          "0.23",
          "0.75"
         ],
         "textposition": "outside",
         "type": "bar",
         "x": [
          0.002343355836193105,
          0.0033992509380766167,
          0.0034866670422441775,
          0.006494562178822368,
          0.00794741688620296,
          0.22816697697010385,
          0.748161770148357
         ],
         "y": [
          "min_samples_split",
          "max_depth",
          "max_leaf_nodes",
          "n_estimators",
          "min_samples_leaf",
          "min_impurity_decrease",
          "max_features"
         ]
        }
       ],
       "layout": {
        "template": {
         "data": {
          "bar": [
           {
            "error_x": {
             "color": "#2a3f5f"
            },
            "error_y": {
             "color": "#2a3f5f"
            },
            "marker": {
             "line": {
              "color": "#E5ECF6",
              "width": 0.5
             },
             "pattern": {
              "fillmode": "overlay",
              "size": 10,
              "solidity": 0.2
             }
            },
            "type": "bar"
           }
          ],
          "barpolar": [
           {
            "marker": {
             "line": {
              "color": "#E5ECF6",
              "width": 0.5
             },
             "pattern": {
              "fillmode": "overlay",
              "size": 10,
              "solidity": 0.2
             }
            },
            "type": "barpolar"
           }
          ],
          "carpet": [
           {
            "aaxis": {
             "endlinecolor": "#2a3f5f",
             "gridcolor": "white",
             "linecolor": "white",
             "minorgridcolor": "white",
             "startlinecolor": "#2a3f5f"
            },
            "baxis": {
             "endlinecolor": "#2a3f5f",
             "gridcolor": "white",
             "linecolor": "white",
             "minorgridcolor": "white",
             "startlinecolor": "#2a3f5f"
            },
            "type": "carpet"
           }
          ],
          "choropleth": [
           {
            "colorbar": {
             "outlinewidth": 0,
             "ticks": ""
            },
            "type": "choropleth"
           }
          ],
          "contour": [
           {
            "colorbar": {
             "outlinewidth": 0,
             "ticks": ""
            },
            "colorscale": [
             [
              0,
              "#0d0887"
             ],
             [
              0.1111111111111111,
              "#46039f"
             ],
             [
              0.2222222222222222,
              "#7201a8"
             ],
             [
              0.3333333333333333,
              "#9c179e"
             ],
             [
              0.4444444444444444,
              "#bd3786"
             ],
             [
              0.5555555555555556,
              "#d8576b"
             ],
             [
              0.6666666666666666,
              "#ed7953"
             ],
             [
              0.7777777777777778,
              "#fb9f3a"
             ],
             [
              0.8888888888888888,
              "#fdca26"
             ],
             [
              1,
              "#f0f921"
             ]
            ],
            "type": "contour"
           }
          ],
          "contourcarpet": [
           {
            "colorbar": {
             "outlinewidth": 0,
             "ticks": ""
            },
            "type": "contourcarpet"
           }
          ],
          "heatmap": [
           {
            "colorbar": {
             "outlinewidth": 0,
             "ticks": ""
            },
            "colorscale": [
             [
              0,
              "#0d0887"
             ],
             [
              0.1111111111111111,
              "#46039f"
             ],
             [
              0.2222222222222222,
              "#7201a8"
             ],
             [
              0.3333333333333333,
              "#9c179e"
             ],
             [
              0.4444444444444444,
              "#bd3786"
             ],
             [
              0.5555555555555556,
              "#d8576b"
             ],
             [
              0.6666666666666666,
              "#ed7953"
             ],
             [
              0.7777777777777778,
              "#fb9f3a"
             ],
             [
              0.8888888888888888,
              "#fdca26"
             ],
             [
              1,
              "#f0f921"
             ]
            ],
            "type": "heatmap"
           }
          ],
          "histogram": [
           {
            "marker": {
             "pattern": {
              "fillmode": "overlay",
              "size": 10,
              "solidity": 0.2
             }
            },
            "type": "histogram"
           }
          ],
          "histogram2d": [
           {
            "colorbar": {
             "outlinewidth": 0,
             "ticks": ""
            },
            "colorscale": [
             [
              0,
              "#0d0887"
             ],
             [
              0.1111111111111111,
              "#46039f"
             ],
             [
              0.2222222222222222,
              "#7201a8"
             ],
             [
              0.3333333333333333,
              "#9c179e"
             ],
             [
              0.4444444444444444,
              "#bd3786"
             ],
             [
              0.5555555555555556,
              "#d8576b"
             ],
             [
              0.6666666666666666,
              "#ed7953"
             ],
             [
              0.7777777777777778,
              "#fb9f3a"
             ],
             [
              0.8888888888888888,
              "#fdca26"
             ],
             [
              1,
              "#f0f921"
             ]
            ],
            "type": "histogram2d"
           }
          ],
          "histogram2dcontour": [
           {
            "colorbar": {
             "outlinewidth": 0,
             "ticks": ""
            },
            "colorscale": [
             [
              0,
              "#0d0887"
             ],
             [
              0.1111111111111111,
              "#46039f"
             ],
             [
              0.2222222222222222,
              "#7201a8"
             ],
             [
              0.3333333333333333,
              "#9c179e"
             ],
             [
              0.4444444444444444,
              "#bd3786"
             ],
             [
              0.5555555555555556,
              "#d8576b"
             ],
             [
              0.6666666666666666,
              "#ed7953"
             ],
             [
              0.7777777777777778,
              "#fb9f3a"
             ],
             [
              0.8888888888888888,
              "#fdca26"
             ],
             [
              1,
              "#f0f921"
             ]
            ],
            "type": "histogram2dcontour"
           }
          ],
          "mesh3d": [
           {
            "colorbar": {
             "outlinewidth": 0,
             "ticks": ""
            },
            "type": "mesh3d"
           }
          ],
          "parcoords": [
           {
            "line": {
             "colorbar": {
              "outlinewidth": 0,
              "ticks": ""
             }
            },
            "type": "parcoords"
           }
          ],
          "pie": [
           {
            "automargin": true,
            "type": "pie"
           }
          ],
          "scatter": [
           {
            "fillpattern": {
             "fillmode": "overlay",
             "size": 10,
             "solidity": 0.2
            },
            "type": "scatter"
           }
          ],
          "scatter3d": [
           {
            "line": {
             "colorbar": {
              "outlinewidth": 0,
              "ticks": ""
             }
            },
            "marker": {
             "colorbar": {
              "outlinewidth": 0,
              "ticks": ""
             }
            },
            "type": "scatter3d"
           }
          ],
          "scattercarpet": [
           {
            "marker": {
             "colorbar": {
              "outlinewidth": 0,
              "ticks": ""
             }
            },
            "type": "scattercarpet"
           }
          ],
          "scattergeo": [
           {
            "marker": {
             "colorbar": {
              "outlinewidth": 0,
              "ticks": ""
             }
            },
            "type": "scattergeo"
           }
          ],
          "scattergl": [
           {
            "marker": {
             "colorbar": {
              "outlinewidth": 0,
              "ticks": ""
             }
            },
            "type": "scattergl"
           }
          ],
          "scattermap": [
           {
            "marker": {
             "colorbar": {
              "outlinewidth": 0,
              "ticks": ""
             }
            },
            "type": "scattermap"
           }
          ],
          "scattermapbox": [
           {
            "marker": {
             "colorbar": {
              "outlinewidth": 0,
              "ticks": ""
             }
            },
            "type": "scattermapbox"
           }
          ],
          "scatterpolar": [
           {
            "marker": {
             "colorbar": {
              "outlinewidth": 0,
              "ticks": ""
             }
            },
            "type": "scatterpolar"
           }
          ],
          "scatterpolargl": [
           {
            "marker": {
             "colorbar": {
              "outlinewidth": 0,
              "ticks": ""
             }
            },
            "type": "scatterpolargl"
           }
          ],
          "scatterternary": [
           {
            "marker": {
             "colorbar": {
              "outlinewidth": 0,
              "ticks": ""
             }
            },
            "type": "scatterternary"
           }
          ],
          "surface": [
           {
            "colorbar": {
             "outlinewidth": 0,
             "ticks": ""
            },
            "colorscale": [
             [
              0,
              "#0d0887"
             ],
             [
              0.1111111111111111,
              "#46039f"
             ],
             [
              0.2222222222222222,
              "#7201a8"
             ],
             [
              0.3333333333333333,
              "#9c179e"
             ],
             [
              0.4444444444444444,
              "#bd3786"
             ],
             [
              0.5555555555555556,
              "#d8576b"
             ],
             [
              0.6666666666666666,
              "#ed7953"
             ],
             [
              0.7777777777777778,
              "#fb9f3a"
             ],
             [
              0.8888888888888888,
              "#fdca26"
             ],
             [
              1,
              "#f0f921"
             ]
            ],
            "type": "surface"
           }
          ],
          "table": [
           {
            "cells": {
             "fill": {
              "color": "#EBF0F8"
             },
             "line": {
              "color": "white"
             }
            },
            "header": {
             "fill": {
              "color": "#C8D4E3"
             },
             "line": {
              "color": "white"
             }
            },
            "type": "table"
           }
          ]
         },
         "layout": {
          "annotationdefaults": {
           "arrowcolor": "#2a3f5f",
           "arrowhead": 0,
           "arrowwidth": 1
          },
          "autotypenumbers": "strict",
          "coloraxis": {
           "colorbar": {
            "outlinewidth": 0,
            "ticks": ""
           }
          },
          "colorscale": {
           "diverging": [
            [
             0,
             "#8e0152"
            ],
            [
             0.1,
             "#c51b7d"
            ],
            [
             0.2,
             "#de77ae"
            ],
            [
             0.3,
             "#f1b6da"
            ],
            [
             0.4,
             "#fde0ef"
            ],
            [
             0.5,
             "#f7f7f7"
            ],
            [
             0.6,
             "#e6f5d0"
            ],
            [
             0.7,
             "#b8e186"
            ],
            [
             0.8,
             "#7fbc41"
            ],
            [
             0.9,
             "#4d9221"
            ],
            [
             1,
             "#276419"
            ]
           ],
           "sequential": [
            [
             0,
             "#0d0887"
            ],
            [
             0.1111111111111111,
             "#46039f"
            ],
            [
             0.2222222222222222,
             "#7201a8"
            ],
            [
             0.3333333333333333,
             "#9c179e"
            ],
            [
             0.4444444444444444,
             "#bd3786"
            ],
            [
             0.5555555555555556,
             "#d8576b"
            ],
            [
             0.6666666666666666,
             "#ed7953"
            ],
            [
             0.7777777777777778,
             "#fb9f3a"
            ],
            [
             0.8888888888888888,
             "#fdca26"
            ],
            [
             1,
             "#f0f921"
            ]
           ],
           "sequentialminus": [
            [
             0,
             "#0d0887"
            ],
            [
             0.1111111111111111,
             "#46039f"
            ],
            [
             0.2222222222222222,
             "#7201a8"
            ],
            [
             0.3333333333333333,
             "#9c179e"
            ],
            [
             0.4444444444444444,
             "#bd3786"
            ],
            [
             0.5555555555555556,
             "#d8576b"
            ],
            [
             0.6666666666666666,
             "#ed7953"
            ],
            [
             0.7777777777777778,
             "#fb9f3a"
            ],
            [
             0.8888888888888888,
             "#fdca26"
            ],
            [
             1,
             "#f0f921"
            ]
           ]
          },
          "colorway": [
           "#636efa",
           "#EF553B",
           "#00cc96",
           "#ab63fa",
           "#FFA15A",
           "#19d3f3",
           "#FF6692",
           "#B6E880",
           "#FF97FF",
           "#FECB52"
          ],
          "font": {
           "color": "#2a3f5f"
          },
          "geo": {
           "bgcolor": "white",
           "lakecolor": "white",
           "landcolor": "#E5ECF6",
           "showlakes": true,
           "showland": true,
           "subunitcolor": "white"
          },
          "hoverlabel": {
           "align": "left"
          },
          "hovermode": "closest",
          "mapbox": {
           "style": "light"
          },
          "paper_bgcolor": "white",
          "plot_bgcolor": "#E5ECF6",
          "polar": {
           "angularaxis": {
            "gridcolor": "white",
            "linecolor": "white",
            "ticks": ""
           },
           "bgcolor": "#E5ECF6",
           "radialaxis": {
            "gridcolor": "white",
            "linecolor": "white",
            "ticks": ""
           }
          },
          "scene": {
           "xaxis": {
            "backgroundcolor": "#E5ECF6",
            "gridcolor": "white",
            "gridwidth": 2,
            "linecolor": "white",
            "showbackground": true,
            "ticks": "",
            "zerolinecolor": "white"
           },
           "yaxis": {
            "backgroundcolor": "#E5ECF6",
            "gridcolor": "white",
            "gridwidth": 2,
            "linecolor": "white",
            "showbackground": true,
            "ticks": "",
            "zerolinecolor": "white"
           },
           "zaxis": {
            "backgroundcolor": "#E5ECF6",
            "gridcolor": "white",
            "gridwidth": 2,
            "linecolor": "white",
            "showbackground": true,
            "ticks": "",
            "zerolinecolor": "white"
           }
          },
          "shapedefaults": {
           "line": {
            "color": "#2a3f5f"
           }
          },
          "ternary": {
           "aaxis": {
            "gridcolor": "white",
            "linecolor": "white",
            "ticks": ""
           },
           "baxis": {
            "gridcolor": "white",
            "linecolor": "white",
            "ticks": ""
           },
           "bgcolor": "#E5ECF6",
           "caxis": {
            "gridcolor": "white",
            "linecolor": "white",
            "ticks": ""
           }
          },
          "title": {
           "x": 0.05
          },
          "xaxis": {
           "automargin": true,
           "gridcolor": "white",
           "linecolor": "white",
           "ticks": "",
           "title": {
            "standoff": 15
           },
           "zerolinecolor": "white",
           "zerolinewidth": 2
          },
          "yaxis": {
           "automargin": true,
           "gridcolor": "white",
           "linecolor": "white",
           "ticks": "",
           "title": {
            "standoff": 15
           },
           "zerolinecolor": "white",
           "zerolinewidth": 2
          }
         }
        },
        "title": {
         "text": "Hyperparameter Importances"
        },
        "xaxis": {
         "title": {
          "text": "Hyperparameter Importance"
         }
        },
        "yaxis": {
         "title": {
          "text": "Hyperparameter"
         }
        }
       }
      }
     },
     "metadata": {},
     "output_type": "display_data"
    }
   ],
   "source": [
    "vis.plot_param_importances(study=study_ex)"
   ]
  },
  {
   "cell_type": "code",
   "execution_count": null,
   "id": "01def30d",
   "metadata": {},
   "outputs": [
    {
     "ename": "",
     "evalue": "",
     "output_type": "error",
     "traceback": [
      "\u001b[1;31mThe Kernel crashed while executing code in the current cell or a previous cell. \n",
      "\u001b[1;31mPlease review the code in the cell(s) to identify a possible cause of the failure. \n",
      "\u001b[1;31mClick <a href='https://aka.ms/vscodeJupyterKernelCrash'>here</a> for more info. \n",
      "\u001b[1;31mView Jupyter <a href='command:jupyter.viewOutput'>log</a> for further details."
     ]
    }
   ],
   "source": [
    "task_extra.close()"
   ]
  }
 ],
 "metadata": {
  "kernelspec": {
   "display_name": "Python (group1venv)",
   "language": "python",
   "name": "group1venv"
  },
  "language_info": {
   "codemirror_mode": {
    "name": "ipython",
    "version": 3
   },
   "file_extension": ".py",
   "mimetype": "text/x-python",
   "name": "python",
   "nbconvert_exporter": "python",
   "pygments_lexer": "ipython3",
   "version": "3.12.4"
  }
 },
 "nbformat": 4,
 "nbformat_minor": 5
}
