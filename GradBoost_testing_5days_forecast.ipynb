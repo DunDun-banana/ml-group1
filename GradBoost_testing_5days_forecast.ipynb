{
 "cells": [
  {
   "cell_type": "code",
   "execution_count": 1,
   "id": "b72ccedf",
   "metadata": {},
   "outputs": [
    {
     "name": "stderr",
     "output_type": "stream",
     "text": [
      "c:\\Users\\Admin\\Documents\\ML\\group1\\venv\\Lib\\site-packages\\tqdm\\auto.py:21: TqdmWarning: IProgress not found. Please update jupyter and ipywidgets. See https://ipywidgets.readthedocs.io/en/stable/user_install.html\n",
      "  from .autonotebook import tqdm as notebook_tqdm\n"
     ]
    }
   ],
   "source": [
    "from clearml import Task\n",
    "import numpy as np\n",
    "import random\n",
    "import os\n",
    "import optuna\n",
    "\n",
    "import joblib\n",
    "import pandas as pd\n",
    "import optuna.visualization as vis\n",
    "import matplotlib.pyplot as plt\n",
    "\n",
    "from pathlib import Path\n",
    "from clearml import Logger\n",
    "from sklearn.ensemble import ExtraTreesRegressor, GradientBoostingRegressor\n",
    "from lightgbm import LGBMRegressor\n",
    "from sklearn.model_selection import TimeSeriesSplit\n",
    "from sklearn.multioutput import MultiOutputRegressor\n",
    "from xgboost import XGBRegressor\n",
    "\n",
    "from src import data_preprocessing as dp\n",
    "from src import pipeline as pl\n",
    "from src import feature_engineering as fe\n",
    "from src import feature_selection as fs\n",
    "from src.model_evaluation import evaluate_multi_output\n",
    "from sklearn.model_selection import cross_val_score, cross_val_predict, KFold\n",
    "\n",
    "SEED = 42 # vẫn phải chọn random của model đấy\n",
    "\n",
    "# Python, NumPy\n",
    "random.seed(SEED)\n",
    "np.random.seed(SEED) \n",
    "\n",
    "# Hash seed cho Python interpreter (ảnh hưởng tới dict order)\n",
    "os.environ['PYTHONHASHSEED'] = str(SEED)\n",
    "\n",
    "# Giới hạn luồng tính toán song song (để tránh floating-point nondeterminism)\n",
    "os.environ[\"OMP_NUM_THREADS\"] = \"1\"\n",
    "os.environ[\"MKL_NUM_THREADS\"] = \"1\"\n",
    "os.environ[\"NUMEXPR_NUM_THREADS\"] = \"1\"\n",
    "\n",
    "# tạo sampler của Optuna có seed cố định\n",
    "sampler = optuna.samplers.TPESampler(seed=SEED)\n"
   ]
  },
  {
   "cell_type": "code",
   "execution_count": 2,
   "id": "e8a9465b",
   "metadata": {},
   "outputs": [
    {
     "name": "stdout",
     "output_type": "stream",
     "text": [
      " Loaded data with shape: (3660, 33)\n",
      "Dropped column: 'description'\n",
      "Dropped column: 'icon'\n",
      "Dropped column: 'stations'\n",
      "Dropped column: 'name'\n"
     ]
    }
   ],
   "source": [
    "# 1. Load raw Data\n",
    "df = dp.load_data(r\"data\\raw data\\Hanoi Daily 10 years.csv\")\n",
    "\n",
    "\n",
    "# 2. basic preprocessing for all data set\n",
    "df = dp.basic_preprocessing(df=df)\n"
   ]
  },
  {
   "cell_type": "code",
   "execution_count": null,
   "id": "c89a7cf6",
   "metadata": {},
   "outputs": [],
   "source": [
    "from statsmodels.tsa.stattools import adfuller\n",
    "import matplotlib.pyplot as plt\n",
    "\n",
    "def step1_check_stationarity(df, target_column='temp'):\n",
    "    \"\"\"\n",
    "    STEP 1: Kiểm tra stationarity của target variable và các features quan trọng\n",
    "    \"\"\"\n",
    "    print(\"=\" * 60)\n",
    "    print(\"STEP 1: STATIONARITY CHECK\")\n",
    "    print(\"=\" * 60)\n",
    "    \n",
    "    def adf_test(series, name):\n",
    "        \"\"\"Augmented Dickey-Fuller test\"\"\"\n",
    "        result = adfuller(series.dropna())\n",
    "        p_value = result[1]\n",
    "        is_stationary = p_value < 0.05\n",
    "        \n",
    "        print(f\"📊 {name:20} | p-value: {p_value:.6f} | {'✅ Stationary' if is_stationary else '❌ Non-stationary'}\")\n",
    "        return is_stationary, p_value\n",
    "    \n",
    "    # Kiểm tra target variable\n",
    "    if target_column in df.columns:\n",
    "        target_stationary, target_pvalue = adf_test(df[target_column], target_column)\n",
    "    else:\n",
    "        print(f\"❌ Target column '{target_column}' not found\")\n",
    "        return\n",
    "    \n",
    "    # Kiểm tra các features quan trọng khác\n",
    "    important_features = ['temp', 'tempmax', 'tempmin', 'dew', \n",
    "                          'humidity', 'sealevelpressure', 'feelslikemax', \n",
    "                          'feelslikemin', 'feelslike', 'precip',\n",
    "                          'precipcover', 'windgust','windspeed','winddir'\n",
    "                        'sealevelpressure','cloudcover','visibility','solarradiation',\n",
    "                            'solarenergy','uvindex']\n",
    "    \n",
    "    print(\"\\n🔍 CHECKING IMPORTANT FEATURES:\")\n",
    "    feature_results = {}\n",
    "    \n",
    "    for feature in important_features:\n",
    "        if feature in df.columns and feature != target_column:\n",
    "            is_stationary, p_value = adf_test(df[feature], feature)\n",
    "            feature_results[feature] = {'stationary': is_stationary, 'p_value': p_value}\n",
    "    \n",
    "    # Summary\n",
    "    print(f\"\\n📋 STATIONARITY SUMMARY:\")\n",
    "    non_stationary_features = [f for f, res in feature_results.items() if not res['stationary']]\n",
    "    print(f\"   Non-stationary features: {len(non_stationary_features)}/{len(feature_results)}\")\n",
    "    if non_stationary_features:\n",
    "        print(f\"   Features cần xử lý: {non_stationary_features}\")\n",
    "    \n",
    "    return target_stationary, feature_results\n",
    "\n",
    "# Chạy step 1\n",
    "print(\"🔄 Running Step 1: Stationarity Check...\")\n",
    "target_stationary, feature_results = step1_check_stationarity(df, 'temp')\n",
    "\n",
    "# đảm bảo data stationary"
   ]
  },
  {
   "cell_type": "code",
   "execution_count": null,
   "id": "bf544c15",
   "metadata": {},
   "outputs": [],
   "source": [
    "def step2_analyze_trend_seasonality(df, target_column='temp'):\n",
    "    \"\"\"\n",
    "    STEP 2: Phân tích trend và seasonality\n",
    "    \"\"\"\n",
    "    print(\"\\n\" + \"=\" * 60)\n",
    "    print(\"STEP 2: TREND & SEASONALITY ANALYSIS\")\n",
    "    print(\"=\" * 60)\n",
    "    \n",
    "    if target_column not in df.columns:\n",
    "        print(f\"❌ Target column '{target_column}' not found\")\n",
    "        return\n",
    "    \n",
    "    series = df[target_column].dropna()\n",
    "    \n",
    "    # 1. Phân tích trend (rolling mean)\n",
    "    rolling_30 = series.rolling(window=30, center=True).mean()\n",
    "    rolling_365 = series.rolling(window=365, center=True).mean()\n",
    "    \n",
    "    # 2. Tính trend strength\n",
    "    trend_strength_30 = rolling_30.std() / series.std() if series.std() > 0 else 0\n",
    "    trend_strength_365 = rolling_365.std() / series.std() if series.std() > 0 else 0\n",
    "    \n",
    "    print(f\"📈 TREND ANALYSIS:\")\n",
    "    print(f\"   30-day trend strength:  {trend_strength_30:.4f}\")\n",
    "    print(f\"   365-day trend strength: {trend_strength_365:.4f}\")\n",
    "    \n",
    "    # 3. Phân tích seasonality (autocorrelation)\n",
    "    print(f\"\\n🔄 SEASONALITY ANALYSIS:\")\n",
    "    \n",
    "    # Monthly seasonality\n",
    "    monthly_autocorr = series.autocorr(lag=30) if len(series) > 30 else series.autocorr(lag=7)\n",
    "    yearly_autocorr = series.autocorr(lag=365) if len(series) > 365 else series.autocorr(lag=30)\n",
    "    \n",
    "    print(f\"   Monthly autocorrelation (lag 30):  {monthly_autocorr:.4f}\")\n",
    "    print(f\"   Yearly autocorrelation (lag 365): {yearly_autocorr:.4f}\")\n",
    "    \n",
    "    # 4. Visualize (tuỳ chọn)\n",
    "    try:\n",
    "        plt.figure(figsize=(12, 8))\n",
    "        \n",
    "        plt.subplot(2, 1, 1)\n",
    "        plt.plot(series.index, series.values, alpha=0.7, label='Original')\n",
    "        plt.plot(series.index, rolling_30.values, 'r-', linewidth=2, label='30-day Trend')\n",
    "        plt.plot(series.index, rolling_365.values, 'g-', linewidth=2, label='365-day Trend')\n",
    "        plt.title(f'Trend Analysis - {target_column}')\n",
    "        plt.legend()\n",
    "        plt.grid(True, alpha=0.3)\n",
    "        \n",
    "        plt.subplot(2, 1, 2)\n",
    "        lags = min(50, len(series)//4)\n",
    "        pd.plotting.autocorrelation_plot(series.iloc[:1000] if len(series) > 1000 else series)\n",
    "        plt.title('Autocorrelation Plot')\n",
    "        plt.grid(True, alpha=0.3)\n",
    "        \n",
    "        plt.tight_layout()\n",
    "        plt.show()\n",
    "        \n",
    "    except Exception as e:\n",
    "        print(f\"⚠️  Visualization failed: {e}\")\n",
    "    \n",
    "    return {\n",
    "        'trend_strength_30': trend_strength_30,\n",
    "        'trend_strength_365': trend_strength_365,\n",
    "        'monthly_autocorr': monthly_autocorr,\n",
    "        'yearly_autocorr': yearly_autocorr\n",
    "    }\n",
    "\n",
    "# Chạy step 2\n",
    "print(\"🔄 Running Step 2: Trend & Seasonality Analysis...\")\n",
    "trend_seasonality_results = step2_analyze_trend_seasonality(df, 'temp')"
   ]
  },
  {
   "cell_type": "markdown",
   "id": "6cdaeb4d",
   "metadata": {},
   "source": [
    "🧩 1️⃣ Trend Analysis\n",
    "\n",
    "30-day trend strength = 0.8851 → RẤT MẠNH\n",
    "→ Có xu hướng dao động ngắn hạn rõ (theo tháng).\n",
    "\n",
    "365-day trend strength = 0.0659 → YẾU\n",
    "→ Không có xu hướng dài hạn (trong 10 năm không tăng/giảm nhiệt độ rõ rệt).\n",
    "\n",
    "📊 => Không cần detrend theo năm.\n",
    "Tín hiệu chính là seasonal (mùa vụ) chứ không phải trend dài hạn.\n",
    "\n",
    "🧩 2️⃣ Seasonality Analysis\n",
    "\n",
    "Monthly autocorr (lag 30) = 0.65\n",
    "\n",
    "Yearly autocorr (lag 365) = 0.75\n",
    "\n",
    "Cả hai đều cao và dương, nghĩa là dữ liệu rất có tính chu kỳ mạnh (lặp lại sau mỗi 12 tháng).\n",
    "Biểu đồ autocorrelation của bạn cũng thể hiện rõ sóng lặp đều đặn theo năm.\n",
    "\n",
    "📊 => Rất nên deseasonalize (loại bỏ yếu tố mùa vụ)\n",
    "Trước khi huấn luyện model machine learning / regression / boosting, việc loại bỏ chu kỳ giúp:\n",
    "\n",
    "Giảm autocorrelation trong residuals.\n",
    "\n",
    "Làm model học tốt hơn các yếu tố phi chu kỳ (ví dụ hiệu ứng gió, mưa, độ ẩm…)."
   ]
  },
  {
   "cell_type": "code",
   "execution_count": 4,
   "id": "ce7e89e9",
   "metadata": {},
   "outputs": [],
   "source": [
    "\n",
    "# 3. chia train, val, test (tỉ lệ 70/15/15)\n",
    "train_size = 0.7\n",
    "val_size = 0.15\n",
    "n = len(df)\n",
    "\n",
    "train_df = df.iloc[:int(train_size*n)]\n",
    "val_df = df.iloc[int(train_size*n):int((train_size+val_size)*n)]\n",
    "test_df = df.iloc[int((train_size+val_size)*n):]\n",
    "\n",
    "# 4. Fit và transform trên preprocessing pipeline\n",
    "pipeline1 = pl.build_preprocessing_pipeline()\n",
    "\n",
    "# fit trên train\n",
    "pipeline1.fit(train_df)\n",
    "\n",
    "# transform \n",
    "train_processed = pipeline1.transform(train_df)\n",
    "val_processed = pipeline1.transform(val_df)\n",
    "test_processed = pipeline1.transform(test_df)\n"
   ]
  },
  {
   "cell_type": "code",
   "execution_count": 5,
   "id": "fcd88f72",
   "metadata": {},
   "outputs": [],
   "source": [
    "#Tạo feature engineering\n",
    "train_feat, target_col = fe.feature_engineering(train_processed)\n",
    "val_feat, _ = fe.feature_engineering(val_processed)\n",
    "test_feat, _ = fe.feature_engineering(test_processed)\n",
    "# print(train_feat.shape)"
   ]
  },
  {
   "cell_type": "code",
   "execution_count": 5,
   "id": "d1d08483",
   "metadata": {},
   "outputs": [
    {
     "data": {
      "text/html": [
       "<div>\n",
       "<style scoped>\n",
       "    .dataframe tbody tr th:only-of-type {\n",
       "        vertical-align: middle;\n",
       "    }\n",
       "\n",
       "    .dataframe tbody tr th {\n",
       "        vertical-align: top;\n",
       "    }\n",
       "\n",
       "    .dataframe thead th {\n",
       "        text-align: right;\n",
       "    }\n",
       "</style>\n",
       "<table border=\"1\" class=\"dataframe\">\n",
       "  <thead>\n",
       "    <tr style=\"text-align: right;\">\n",
       "      <th></th>\n",
       "      <th>tempmax</th>\n",
       "      <th>tempmin</th>\n",
       "      <th>temp</th>\n",
       "      <th>feelslikemax</th>\n",
       "      <th>feelslikemin</th>\n",
       "      <th>feelslike</th>\n",
       "      <th>dew</th>\n",
       "      <th>humidity</th>\n",
       "      <th>precip</th>\n",
       "      <th>precipprob</th>\n",
       "      <th>...</th>\n",
       "      <th>season_winter_roll_min_7</th>\n",
       "      <th>season_winter_roll_max_7</th>\n",
       "      <th>season_winter_roll_mean_10</th>\n",
       "      <th>season_winter_roll_std_10</th>\n",
       "      <th>season_winter_roll_min_10</th>\n",
       "      <th>season_winter_roll_max_10</th>\n",
       "      <th>season_winter_roll_mean_14</th>\n",
       "      <th>season_winter_roll_std_14</th>\n",
       "      <th>season_winter_roll_min_14</th>\n",
       "      <th>season_winter_roll_max_14</th>\n",
       "    </tr>\n",
       "    <tr>\n",
       "      <th>datetime</th>\n",
       "      <th></th>\n",
       "      <th></th>\n",
       "      <th></th>\n",
       "      <th></th>\n",
       "      <th></th>\n",
       "      <th></th>\n",
       "      <th></th>\n",
       "      <th></th>\n",
       "      <th></th>\n",
       "      <th></th>\n",
       "      <th></th>\n",
       "      <th></th>\n",
       "      <th></th>\n",
       "      <th></th>\n",
       "      <th></th>\n",
       "      <th></th>\n",
       "      <th></th>\n",
       "      <th></th>\n",
       "      <th></th>\n",
       "      <th></th>\n",
       "      <th></th>\n",
       "    </tr>\n",
       "  </thead>\n",
       "  <tbody>\n",
       "    <tr>\n",
       "      <th>2015-09-20</th>\n",
       "      <td>33.0</td>\n",
       "      <td>26.7</td>\n",
       "      <td>29.3</td>\n",
       "      <td>41.7</td>\n",
       "      <td>30.5</td>\n",
       "      <td>35.4</td>\n",
       "      <td>25.7</td>\n",
       "      <td>81.5</td>\n",
       "      <td>1.4</td>\n",
       "      <td>100</td>\n",
       "      <td>...</td>\n",
       "      <td>0.0</td>\n",
       "      <td>0.0</td>\n",
       "      <td>0.0</td>\n",
       "      <td>0.0</td>\n",
       "      <td>0.0</td>\n",
       "      <td>0.0</td>\n",
       "      <td>0.0</td>\n",
       "      <td>0.0</td>\n",
       "      <td>0.0</td>\n",
       "      <td>0.0</td>\n",
       "    </tr>\n",
       "  </tbody>\n",
       "</table>\n",
       "<p>1 rows × 1435 columns</p>\n",
       "</div>"
      ],
      "text/plain": [
       "            tempmax  tempmin  temp  feelslikemax  feelslikemin  feelslike  \\\n",
       "datetime                                                                    \n",
       "2015-09-20     33.0     26.7  29.3          41.7          30.5       35.4   \n",
       "\n",
       "             dew  humidity  precip  precipprob  ...  season_winter_roll_min_7  \\\n",
       "datetime                                        ...                             \n",
       "2015-09-20  25.7      81.5     1.4         100  ...                       0.0   \n",
       "\n",
       "            season_winter_roll_max_7  season_winter_roll_mean_10  \\\n",
       "datetime                                                           \n",
       "2015-09-20                       0.0                         0.0   \n",
       "\n",
       "            season_winter_roll_std_10  season_winter_roll_min_10  \\\n",
       "datetime                                                           \n",
       "2015-09-20                        0.0                        0.0   \n",
       "\n",
       "            season_winter_roll_max_10  season_winter_roll_mean_14  \\\n",
       "datetime                                                            \n",
       "2015-09-20                        0.0                         0.0   \n",
       "\n",
       "            season_winter_roll_std_14  season_winter_roll_min_14  \\\n",
       "datetime                                                           \n",
       "2015-09-20                        0.0                        0.0   \n",
       "\n",
       "            season_winter_roll_max_14  \n",
       "datetime                               \n",
       "2015-09-20                        0.0  \n",
       "\n",
       "[1 rows x 1435 columns]"
      ]
     },
     "execution_count": 5,
     "metadata": {},
     "output_type": "execute_result"
    }
   ],
   "source": [
    "from src import feature_selection as fs\n",
    "# for feat in train_feat.columns:\n",
    "#    print(feat)\n",
    "train_feat.head(1)"
   ]
  },
  {
   "cell_type": "code",
   "execution_count": 6,
   "id": "be78d5ad",
   "metadata": {},
   "outputs": [
    {
     "name": "stdout",
     "output_type": "stream",
     "text": [
      "Train: ((2562, 1430), (2562, 5)), Val: ((549, 1430), (549, 5)), Test: ((549, 1430), (549, 5))\n"
     ]
    }
   ],
   "source": [
    "# Chia X, y riêng biệt\n",
    "X_train = train_feat.drop(columns= target_col)\n",
    "y_train = train_feat[target_col]\n",
    "\n",
    "X_val = val_feat.drop(columns= target_col)\n",
    "y_val = val_feat[target_col]\n",
    "\n",
    "X_test = test_feat.drop(columns= target_col)\n",
    "y_test = test_feat[target_col]\n",
    "\n",
    "print(f\"Train: {X_train.shape, y_train.shape}, Val: {X_val.shape, y_val.shape}, Test: {X_test.shape, y_test.shape}\")"
   ]
  },
  {
   "cell_type": "code",
   "execution_count": null,
   "id": "c0c5d0df",
   "metadata": {},
   "outputs": [],
   "source": [
    "high = fs.DropHighlyCorrelated1(threshold= 0.8)\n",
    "X_train = high.fit_transform(X_train)\n",
    "X_val = high.transform(X_val)\n",
    "X_test = high.transform(X_test)\n",
    "\n",
    "# Chọn 10 features theo Lasso\n",
    "selector = fs.FeatureSelector1(method='elasticnet', top_k=100, alpha=0.05)\n",
    "X_train_sel = selector.fit_transform(X_train, y_train)\n",
    "X_test_sel = selector.transform(X_test)\n",
    "X_val_sel = selector.transform(X_val)\n",
    "\n",
    "\n",
    "# Chọn 10 features theo Lasso\n",
    "selector = fs.FeatureSelector1(method='lasso', top_k=60, alpha=0.05)\n",
    "X_train_sel = selector.fit_transform(X_train, y_train)\n",
    "X_test_sel = selector.transform(X_test)\n",
    "X_val_sel = selector.transform(X_val)\n"
   ]
  },
  {
   "cell_type": "code",
   "execution_count": null,
   "id": "bb99e936",
   "metadata": {},
   "outputs": [],
   "source": [
    "# 1. Tính phương sai từng feature\n",
    "variances = X_train_sel.var().sort_values()\n",
    "print(\"Top feature có phương sai thấp nhất:\")\n",
    "print(variances.head(10))\n",
    "\n",
    "# 2. Tính tương quan giữa các feature\n",
    "corr_matrix = X_train_sel.corr().abs()\n",
    "high_corr = (corr_matrix.where(np.triu(np.ones(corr_matrix.shape), k=1).astype(bool))\n",
    "             .stack().sort_values(ascending=False))\n",
    "print(\"Top cặp tương quan cao nhất:\")\n",
    "print(high_corr.head(10))\n",
    "\n",
    "# 3. Kiểm tra mức độ đa dạng\n",
    "unique_ratio = X_train_sel.nunique() / len(X_train_sel)\n",
    "print(\"Tỷ lệ giá trị unique của các feature:\")\n",
    "print(unique_ratio.sort_values().head(10))\n"
   ]
  },
  {
   "cell_type": "code",
   "execution_count": 28,
   "id": "8eb3982d",
   "metadata": {},
   "outputs": [],
   "source": [
    "select2 = fs.FeatureSelectionGradientBoosting1(top_k= 60)\n",
    "X_train_sel = select2.fit_transform(X_train, y_train)\n",
    "X_val_sel = select2.transform(X_val)\n",
    "X_test_sel = select2.transform(X_test)\n"
   ]
  },
  {
   "cell_type": "code",
   "execution_count": 7,
   "id": "9e30a05e",
   "metadata": {},
   "outputs": [],
   "source": [
    "select3 = pl.build_GB_featture_engineering_pipeline(top_k= 35)\n",
    "X_train_sel = select3.fit_transform(X_train, y_train['temp_next_1'])\n",
    "X_val_sel = select3.transform(X_val)\n",
    "X_test_sel = select3.transform(X_test)"
   ]
  },
  {
   "cell_type": "code",
   "execution_count": 8,
   "id": "5d83c5bc",
   "metadata": {},
   "outputs": [],
   "source": [
    "X_train_sel.to_csv(f\"data/Old_X_train_sel.csv\", index=False)\n",
    "y_train.to_csv(f\"data/Old_y_train.csv\", index=False)\n",
    "X_test_sel.to_csv(f\"data/Old_X_test_sel.csv\", index=False)\n",
    "y_test.to_csv(f\"data/Old_y_test.csv\", index=False)\n",
    "X_val_sel.to_csv(f\"data/Old_X_val_sel.csv\", index=False)\n",
    "y_val.to_csv(f\"data/Old_y_val.csv\", index=False)"
   ]
  },
  {
   "cell_type": "code",
   "execution_count": 9,
   "id": "a9b80fbb",
   "metadata": {},
   "outputs": [
    {
     "data": {
      "text/plain": [
       "['pipelines/featureSelection_pipeline.pkl']"
      ]
     },
     "execution_count": 9,
     "metadata": {},
     "output_type": "execute_result"
    }
   ],
   "source": [
    "joblib.dump(pipeline1, \"pipelines/preprocessing_pipeline.pkl\")\n",
    "joblib.dump(select3, \"pipelines/featureSelection_pipeline.pkl\")"
   ]
  },
  {
   "cell_type": "code",
   "execution_count": 9,
   "id": "418a01b3",
   "metadata": {},
   "outputs": [],
   "source": [
    "select4 = fs.FeatureSelectionLGB(top_k=60)\n",
    "X_train_sel = select4.fit_transform(X_train, y_train[['temp_next_1','temp_next_3']])\n",
    "X_val_sel = select4.transform(X_val)\n",
    "X_test_sel = select4.transform(X_test)"
   ]
  },
  {
   "cell_type": "code",
   "execution_count": null,
   "id": "6e018f2a",
   "metadata": {},
   "outputs": [],
   "source": [
    "select5 = fs.FeatureSelectionLGB(top_k=60)\n",
    "X_train_sel = select5.fit_transform(X_train, y_train)\n",
    "X_val_sel = select5.transform(X_val)\n",
    "X_test_sel = select5.transform(X_test)"
   ]
  },
  {
   "cell_type": "code",
   "execution_count": 10,
   "id": "604ce885",
   "metadata": {},
   "outputs": [
    {
     "data": {
      "text/plain": [
       "Index(['wind_chill', 'heat_index', 'temp_dew_interaction',\n",
       "       'sunrise_roll_max_14', 'pressure_temp_index', 'sunrise_roll_max_7',\n",
       "       'tempmin', 'winddir', 'windgust', 'solar_temp_index', 'windspeed',\n",
       "       'feelslike', 'sunrise_roll_mean_14', 'day_cos_roll_mean_14',\n",
       "       'temp_dew_interaction_roll_max_14', 'feelslikemax', 'sunrise', 'temp',\n",
       "       'sunrise_roll_max_5', 'solarradiation', 'tempmin_roll_max_10',\n",
       "       'tempmax', 'sealevelpressure', 'solar_temp_index_roll_max_14',\n",
       "       'solar_temp_index_roll_std_14', 'sealevelpressure_roll_max_10',\n",
       "       'temp_range', 'pressure_temp_index_roll_max_10', 'wind_temp_index',\n",
       "       'heat_index_roll_max_10', 'wind_chill_roll_max_14', 'precipcover',\n",
       "       'heat_index_roll_mean_10', 'winddir_roll_std_7',\n",
       "       'windgust_roll_mean_14'],\n",
       "      dtype='object')"
      ]
     },
     "execution_count": 10,
     "metadata": {},
     "output_type": "execute_result"
    }
   ],
   "source": [
    "X_train_sel.columns"
   ]
  },
  {
   "cell_type": "code",
   "execution_count": null,
   "id": "5e6bead9",
   "metadata": {},
   "outputs": [
    {
     "data": {
      "text/html": [
       "<div>\n",
       "<style scoped>\n",
       "    .dataframe tbody tr th:only-of-type {\n",
       "        vertical-align: middle;\n",
       "    }\n",
       "\n",
       "    .dataframe tbody tr th {\n",
       "        vertical-align: top;\n",
       "    }\n",
       "\n",
       "    .dataframe thead th {\n",
       "        text-align: right;\n",
       "    }\n",
       "</style>\n",
       "<table border=\"1\" class=\"dataframe\">\n",
       "  <thead>\n",
       "    <tr style=\"text-align: right;\">\n",
       "      <th></th>\n",
       "      <th>temp_next_1</th>\n",
       "      <th>temp_next_2</th>\n",
       "      <th>temp_next_3</th>\n",
       "      <th>temp_next_4</th>\n",
       "      <th>temp_next_5</th>\n",
       "    </tr>\n",
       "    <tr>\n",
       "      <th>datetime</th>\n",
       "      <th></th>\n",
       "      <th></th>\n",
       "      <th></th>\n",
       "      <th></th>\n",
       "      <th></th>\n",
       "    </tr>\n",
       "  </thead>\n",
       "  <tbody>\n",
       "    <tr>\n",
       "      <th>2015-09-20</th>\n",
       "      <td>26.8</td>\n",
       "      <td>25.9</td>\n",
       "      <td>28.0</td>\n",
       "      <td>29.9</td>\n",
       "      <td>30.5</td>\n",
       "    </tr>\n",
       "  </tbody>\n",
       "</table>\n",
       "</div>"
      ],
      "text/plain": [
       "            temp_next_1  temp_next_2  temp_next_3  temp_next_4  temp_next_5\n",
       "datetime                                                                   \n",
       "2015-09-20         26.8         25.9         28.0         29.9         30.5"
      ]
     },
     "execution_count": 13,
     "metadata": {},
     "output_type": "execute_result"
    }
   ],
   "source": [
    "y_train.head(1)"
   ]
  },
  {
   "cell_type": "code",
   "execution_count": null,
   "id": "bde7a506",
   "metadata": {},
   "outputs": [],
   "source": [
    "Task.current_task().close()"
   ]
  },
  {
   "cell_type": "markdown",
   "id": "cb0a9a8c",
   "metadata": {},
   "source": [
    "### Gradient Boosting "
   ]
  },
  {
   "cell_type": "code",
   "execution_count": null,
   "id": "3eca2184",
   "metadata": {},
   "outputs": [
    {
     "name": "stdout",
     "output_type": "stream",
     "text": [
      "ClearML Task: created new task id=5124c5440edc449e894e8b41934fdffe\n",
      "ClearML results page: https://app.clear.ml/projects/01d8ce929f0243de9a9d3adf48970730/experiments/5124c5440edc449e894e8b41934fdffe/output/log\n",
      "Task ID: 5124c5440edc449e894e8b41934fdffe\n"
     ]
    },
    {
     "name": "stdout",
     "output_type": "stream",
     "text": [
      "ClearML Monitor: GPU monitoring failed getting GPU reading, switching off GPU monitoring\n",
      "ClearML Monitor: Could not detect iteration reporting, falling back to iterations as seconds-from-start\n",
      "2025-10-26 14:13:41,724 - clearml.storage - INFO - Uploading: 5.60MB from c:/Users/Admin/Documents/ML/group1/models/Tuning_lgb_model.pkl\n"
     ]
    },
    {
     "name": "stderr",
     "output_type": "stream",
     "text": [
      "██████████████████████████████████ 100% | 5.60/5.6 MB [00:22<00:00,  4.05s/MB]: \n"
     ]
    }
   ],
   "source": [
    "# mỗi lần chạy xong, thì tạo task mới\n",
    "# Tạo task mới trong project Temperature Forecasting\n",
    "# Task.current_task().close()\n",
    "task_gb = Task.init(\n",
    "    project_name=\"Temperature Forecasting\",     # tên project (nếu chưa có sẽ tự tạo)\n",
    "    task_name=\"lgb top 35, feature t\", # tên task mới\n",
    "    task_type=Task.TaskTypes.optimizer            # loại task (training / testing / optimizer ...)\n",
    ")\n",
    "\n",
    "# print(\"✅ Task created successfully!\")\n",
    "print(\"Task ID:\", task_gb.id)"
   ]
  },
  {
   "cell_type": "code",
   "execution_count": 27,
   "id": "a89fa78e",
   "metadata": {},
   "outputs": [],
   "source": [
    "task_grad = Task.get_task(task_id=\"5124c5440edc449e894e8b41934fdffe\")\n",
    "logger_grad = task_grad.get_logger()"
   ]
  },
  {
   "cell_type": "code",
   "execution_count": 20,
   "id": "0cf98661",
   "metadata": {},
   "outputs": [],
   "source": [
    "select3 = pl.build_GB_featture_engineering_pipeline(top_k= 35)\n",
    "X_train_sel = select3.fit_transform(X_train, y_train['temp_next_1'])\n",
    "X_val_sel = select3.transform(X_val)\n",
    "X_test_sel = select3.transform(X_test)\n"
   ]
  },
  {
   "cell_type": "code",
   "execution_count": 21,
   "id": "1f709d09",
   "metadata": {},
   "outputs": [],
   "source": [
    "\n",
    "base_xgb = XGBRegressor(\n",
    "    booster='gbtree',          # tương đương boosting_type='gbdt'\n",
    "    learning_rate=0.0154,      # giống LGB\n",
    "    max_depth=4,               # kiểm soát độ phức tạp cây\n",
    "    n_estimators=417,          # số lượng cây\n",
    "    subsample=0.91,            # tương đương subsample\n",
    "    colsample_bytree=0.77,     # tương đương colsample_bytree\n",
    "    reg_alpha=0.0071,          # L1 regularization\n",
    "    reg_lambda=0.0143,         # L2 regularization\n",
    "    min_child_weight=22,       # tương đương min_child_samples trong LGBM\n",
    "    gamma=0.41,                # tương đương min_split_gain\n",
    "    random_state=42,\n",
    "    n_jobs=-1,\n",
    "    tree_method='hist',        # nhanh, ổn với dataset cỡ nhỏ\n",
    "    objective='reg:squarederror'\n",
    ")\n",
    "\n",
    "# Nếu bạn có nhiều output (5 ngày temp_next_1 → temp_next_5):\n",
    "\n",
    "model_grad = MultiOutputRegressor(estimator=base_xgb, n_jobs=-1)\n",
    "\n",
    "model_grad.fit(X_train_sel, y_train)\n",
    "\n",
    "y_pred_train = model_grad.predict(X_train_sel)\n",
    "y_pred_val = model_grad.predict(X_val_sel)\n",
    "y_pred_test = model_grad.predict(X_test_sel)"
   ]
  },
  {
   "cell_type": "code",
   "execution_count": 11,
   "id": "1cd93e6f",
   "metadata": {},
   "outputs": [
    {
     "name": "stdout",
     "output_type": "stream",
     "text": [
      "Validation metrics (trung bình): {'RMSE': 2.413410000484644, 'R2': 0.7706106187026828, 'MAPE': 8.892664484679358}\n",
      "Validation metrics (chi tiết từng ngày): {'RMSE_day_1': 1.4873028184387793, 'R2_day_1': 0.9168395558615586, 'MAPE_day_1': 5.04995192833021, 'RMSE_day_2': 2.243727510443769, 'R2_day_2': 0.8106181970836153, 'MAPE_day_2': 8.11130681273522, 'RMSE_day_3': 2.608724514560317, 'R2_day_3': 0.7436475829081002, 'MAPE_day_3': 9.702965995386222, 'RMSE_day_4': 2.8095054528286774, 'R2_day_4': 0.7026341307525958, 'MAPE_day_4': 10.63039223639197, 'RMSE_day_5': 2.917789706151678, 'R2_day_5': 0.6793136269075444, 'MAPE_day_5': 10.96870545055317}\n",
      "\n",
      "Test metrics (trung bình): {'RMSE': 1.878489595853664, 'R2': 0.8328467166011532, 'MAPE': 6.130599682403046}\n",
      "Test metrics (chi tiết từng ngày): {'RMSE_day_1': 1.3298979174788912, 'R2_day_1': 0.9182826606318566, 'MAPE_day_1': 4.124902319336509, 'RMSE_day_2': 1.8386702907083567, 'R2_day_2': 0.8437629980828389, 'MAPE_day_2': 5.9745719530642685, 'RMSE_day_3': 1.983785978058659, 'R2_day_3': 0.8180023384918602, 'MAPE_day_3': 6.495829138290903, 'RMSE_day_4': 2.094850565074777, 'R2_day_4': 0.7970475984535108, 'MAPE_day_4': 6.929782975814244, 'RMSE_day_5': 2.145243227947637, 'R2_day_5': 0.787137987345699, 'MAPE_day_5': 7.127912025509307}\n",
      "\n",
      "Train metrics (trung bình): {'RMSE': 1.6400079810177057, 'R2': 0.8951654387230035, 'MAPE': 5.748630480917375}\n",
      "Train metrics (chi tiết từng ngày): {'RMSE_day_1': 1.0989427288163662, 'R2_day_1': 0.9543012048095177, 'MAPE_day_1': 3.648396414414585, 'RMSE_day_2': 1.6144059929314287, 'R2_day_2': 0.9013754472822092, 'MAPE_day_2': 5.53453862225808, 'RMSE_day_3': 1.7969557633502349, 'R2_day_3': 0.877814066704144, 'MAPE_day_3': 6.342891384114899, 'RMSE_day_4': 1.830418050264569, 'R2_day_4': 0.873207941537159, 'MAPE_day_4': 6.551251081374083, 'RMSE_day_5': 1.8593173697259298, 'R2_day_5': 0.8691285332819876, 'MAPE_day_5': 6.666074902425226}\n"
     ]
    }
   ],
   "source": [
    "tune_lgb = LGBMRegressor(\n",
    "   boosting_type='gbdt',\n",
    "    colsample_bytree=0.7688738230630878,\n",
    "    learning_rate=0.015433744772417535,\n",
    "    max_depth=4,\n",
    "    min_child_samples=22,\n",
    "    min_split_gain=0.4084759794499262,\n",
    "    n_estimators=417,\n",
    "    num_leaves=192,\n",
    "    reg_alpha=0.00714911136031373,\n",
    "    reg_lambda=0.014324694192079955,\n",
    "    subsample=0.9098920662929666,\n",
    "    random_state=42,\n",
    "    n_jobs=-1\n",
    ")\n",
    "\n",
    "model_grad = MultiOutputRegressor(estimator=tune_lgb, n_jobs=-1)\n",
    "\n",
    "model_grad.fit(X_train_sel, y_train)\n",
    "\n",
    "y_pred_train = model_grad.predict(X_train_sel)\n",
    "y_pred_val = model_grad.predict(X_val_sel)\n",
    "y_pred_test = model_grad.predict(X_test_sel)   \n",
    "\n",
    "# 3. Evaluate on validation\n",
    "defGrad_val_metrics = evaluate_multi_output(y_val, y_pred_val)\n",
    "\n",
    "print(\"Validation metrics (trung bình):\", defGrad_val_metrics[\"average\"])\n",
    "print(\"Validation metrics (chi tiết từng ngày):\", defGrad_val_metrics[\"per_day\"])\n",
    "\n",
    "# 4. Evaluate on test\n",
    "defGrad_test_metrics = evaluate_multi_output(y_test, y_pred_test)\n",
    "print(\"\\nTest metrics (trung bình):\", defGrad_test_metrics[\"average\"])\n",
    "print(\"Test metrics (chi tiết từng ngày):\", defGrad_test_metrics[\"per_day\"])\n",
    "\n",
    "\n",
    "# 4. Evaluate on test\n",
    "defGrad_train_metrics = evaluate_multi_output(y_train, y_pred_train)\n",
    "print(\"\\nTrain metrics (trung bình):\", defGrad_train_metrics[\"average\"])\n",
    "print(\"Train metrics (chi tiết từng ngày):\", defGrad_train_metrics[\"per_day\"])\n"
   ]
  },
  {
   "cell_type": "code",
   "execution_count": 22,
   "id": "ae3b4d86",
   "metadata": {},
   "outputs": [
    {
     "name": "stdout",
     "output_type": "stream",
     "text": [
      "Validation metrics (trung bình): {'RMSE': 2.399253411612038, 'R2': 0.7734292167364003, 'MAPE': 8.812086969793807}\n",
      "Validation metrics (chi tiết từng ngày): {'RMSE_day_1': 1.4816105093889913, 'R2_day_1': 0.9174748926283436, 'MAPE_day_1': 5.0617301689946155, 'RMSE_day_2': 2.2298161767872564, 'R2_day_2': 0.8129592890298964, 'MAPE_day_2': 8.019040953218301, 'RMSE_day_3': 2.6065446246177344, 'R2_day_3': 0.7440758278786841, 'MAPE_day_3': 9.652890013710277, 'RMSE_day_4': 2.8113597541490867, 'R2_day_4': 0.7022414724004933, 'MAPE_day_4': 10.531836623561494, 'RMSE_day_5': 2.8669359931171203, 'R2_day_5': 0.6903946017445841, 'MAPE_day_5': 10.794937089484344}\n",
      "\n",
      "Test metrics (trung bình): {'RMSE': 1.8567020200032274, 'R2': 0.8366284358568767, 'MAPE': 6.065753335306238}\n",
      "Test metrics (chi tiết từng ngày): {'RMSE_day_1': 1.3064320973846781, 'R2_day_1': 0.9211409955646085, 'MAPE_day_1': 4.055765678252915, 'RMSE_day_2': 1.8118506903129292, 'R2_day_2': 0.8482876307895415, 'MAPE_day_2': 5.853063340891596, 'RMSE_day_3': 1.9886024023758175, 'R2_day_3': 0.8171175232023639, 'MAPE_day_3': 6.504644938983224, 'RMSE_day_4': 2.083315701819537, 'R2_day_4': 0.7992764762963811, 'MAPE_day_4': 6.926974731147652, 'RMSE_day_5': 2.0933092081231752, 'R2_day_5': 0.7973195534314893, 'MAPE_day_5': 6.988317987255796}\n",
      "\n",
      "Train metrics (trung bình): {'RMSE': 1.6185331310008606, 'R2': 0.8982768808042229, 'MAPE': 5.650431832335064}\n",
      "Train metrics (chi tiết từng ngày): {'RMSE_day_1': 1.1134841298211855, 'R2_day_1': 0.9530838146023882, 'MAPE_day_1': 3.675906270162211, 'RMSE_day_2': 1.6174847550695057, 'R2_day_2': 0.9009989235691092, 'MAPE_day_2': 5.532219428079192, 'RMSE_day_3': 1.7660661011750685, 'R2_day_3': 0.8819787126354733, 'MAPE_day_3': 6.201945839506985, 'RMSE_day_4': 1.7902189166432374, 'R2_day_4': 0.8787159315922716, 'MAPE_day_4': 6.376809171322498, 'RMSE_day_5': 1.8054117522953061, 'R2_day_5': 0.8766070216218721, 'MAPE_day_5': 6.465278452604438}\n"
     ]
    }
   ],
   "source": [
    "# Đánh giá sơ bộ trước khi tune elasticnet, correl 1, 0.8, top30k\n",
    "\n",
    "# 3. Evaluate on validation\n",
    "defGrad_val_metrics = evaluate_multi_output(y_val, y_pred_val)\n",
    "\n",
    "print(\"Validation metrics (trung bình):\", defGrad_val_metrics[\"average\"])\n",
    "print(\"Validation metrics (chi tiết từng ngày):\", defGrad_val_metrics[\"per_day\"])\n",
    "\n",
    "# 4. Evaluate on test\n",
    "defGrad_test_metrics = evaluate_multi_output(y_test, y_pred_test)\n",
    "print(\"\\nTest metrics (trung bình):\", defGrad_test_metrics[\"average\"])\n",
    "print(\"Test metrics (chi tiết từng ngày):\", defGrad_test_metrics[\"per_day\"])\n",
    "\n",
    "\n",
    "# 4. Evaluate on test\n",
    "defGrad_train_metrics = evaluate_multi_output(y_train, y_pred_train)\n",
    "print(\"\\nTrain metrics (trung bình):\", defGrad_train_metrics[\"average\"])\n",
    "print(\"Train metrics (chi tiết từng ngày):\", defGrad_train_metrics[\"per_day\"])\n"
   ]
  },
  {
   "cell_type": "code",
   "execution_count": null,
   "id": "fc212c43",
   "metadata": {},
   "outputs": [],
   "source": [
    "# Validation metrics (trung bình): {'RMSE': 2.4817041064861445, 'R2': 0.7590955379469829, 'MAPE': 9.147749583976637}\n",
    "# Validation metrics (chi tiết từng ngày): {'RMSE_day_1': 1.5812580327165688, 'R2_day_1': 0.9060009449623416, 'MAPE_day_1': 5.596094677035289, 'RMSE_day_2': 2.369307175034735, 'R2_day_2': 0.7888258473611602, 'MAPE_day_2': 8.520132535636671, 'RMSE_day_3': 2.6864010554618254, 'R2_day_3': 0.7281541691579952, 'MAPE_day_3': 9.949098491907808, 'RMSE_day_4': 2.8520942456203695, 'R2_day_4': 0.6935503665815363, 'MAPE_day_4': 10.679075692881625, 'RMSE_day_5': 2.9194600235972232, 'R2_day_5': 0.6789463616718809, 'MAPE_day_5': 10.994346522421793}\n",
    "\n",
    "# Test metrics (trung bình): {'RMSE': 1.9783987429598198, 'R2': 0.8142301441998464, 'MAPE': 6.412545085748368}\n",
    "# Test metrics (chi tiết từng ngày): {'RMSE_day_1': 1.3723285701062595, 'R2_day_1': 0.9129850618381672, 'MAPE_day_1': 4.296477004754045, 'RMSE_day_2': 1.9300379881007352, 'R2_day_2': 0.8278496566566587, 'MAPE_day_2': 6.202240635071937, 'RMSE_day_3': 2.161757510315994, 'R2_day_3': 0.7838824038741381, 'MAPE_day_3': 7.108353229679183, 'RMSE_day_4': 2.2571887287137495, 'R2_day_4': 0.7643736563627156, 'MAPE_day_4': 7.376897753353906, 'RMSE_day_5': 2.170680917562361, 'R2_day_5': 0.7820599422675529, 'MAPE_day_5': 7.0787568058827715}"
   ]
  },
  {
   "cell_type": "code",
   "execution_count": null,
   "id": "5ee99c24",
   "metadata": {},
   "outputs": [],
   "source": [
    "# dùng gb feature selection\n",
    "# Validation metrics (trung bình): {'RMSE': 2.4418699884926363, 'R2': 0.765591019012981, 'MAPE': 8.88896073890469}\n",
    "# Validation metrics (chi tiết từng ngày): {'RMSE_day_1': 1.4966404491973533, 'R2_day_1': 0.9157920770264553, 'MAPE_day_1': 5.136188928622812, 'RMSE_day_2': 2.3245514691120097, 'R2_day_2': 0.7967285645293968, 'MAPE_day_2': 8.23470815667883, 'RMSE_day_3': 2.6664461728907116, 'R2_day_3': 0.732177771044517, 'MAPE_day_3': 9.748483703459726, 'RMSE_day_4': 2.821701668774034, 'R2_day_4': 0.7000467641492176, 'MAPE_day_4': 10.433969898497432, 'RMSE_day_5': 2.9000101824890723, 'R2_day_5': 0.6832099183153186, 'MAPE_day_5': 10.89145300726464}\n",
    "\n",
    "# Test metrics (trung bình): {'RMSE': 1.944220253739615, 'R2': 0.8207917793933074, 'MAPE': 6.322395592022064}\n",
    "# Test metrics (chi tiết từng ngày): {'RMSE_day_1': 1.347442666845054, 'R2_day_1': 0.9161123175271811, 'MAPE_day_1': 4.178196794164813, 'RMSE_day_2': 1.937902886783428, 'R2_day_2': 0.8264437737903529, 'MAPE_day_2': 6.229555734228328, 'RMSE_day_3': 2.114146717995285, 'R2_day_3': 0.7932971703781171, 'MAPE_day_3': 6.952601054004568, 'RMSE_day_4': 2.161026970236575, 'R2_day_4': 0.7840225186659064, 'MAPE_day_4': 7.144809054211748, 'RMSE_day_5': 2.1605820268377327, 'R2_day_5': 0.7840831166049791, 'MAPE_day_5': 7.106815323500857}"
   ]
  },
  {
   "cell_type": "code",
   "execution_count": 28,
   "id": "d7ca2886",
   "metadata": {},
   "outputs": [
    {
     "name": "stdout",
     "output_type": "stream",
     "text": [
      "no_feature_t_XGB_selec_gb1 model saved to models/Top35_Not_tune_selecGB40_LGB_model.pkl\n"
     ]
    },
    {
     "data": {
      "text/plain": [
       "True"
      ]
     },
     "execution_count": 28,
     "metadata": {},
     "output_type": "execute_result"
    }
   ],
   "source": [
    "\n",
    "# 5. Save model \n",
    "model_path = r'models/Top35_Not_tune_selecGB40_LGB_model.pkl' \n",
    "joblib.dump(model_grad, model_path)\n",
    "print(f\"no_feature_t_XGB_selec_gb1 model saved to {model_path}\")\n",
    "\n",
    "# 6. Log lên ClearML\n",
    "val_avg_metrics = defGrad_val_metrics[\"average\"]\n",
    "test_avg_metrics = defGrad_test_metrics[\"average\"]\n",
    "train_avg_metrics = defGrad_train_metrics[\"average\"]\n",
    "\n",
    "logger_grad.report_scalar(\"Default Metrics\", \"RMSE_val_avg\", val_avg_metrics[\"RMSE\"], iteration=0)\n",
    "logger_grad.report_scalar(\"Default Metrics\", \"R2_val_avg\", val_avg_metrics[\"R2\"], iteration=0)\n",
    "logger_grad.report_scalar(\"Default Metrics\", \"MAPE_val_avg\", val_avg_metrics[\"MAPE\"], iteration=0)\n",
    "logger_grad.report_scalar(\"Default Metrics\", \"RMSE_test_avg\", test_avg_metrics[\"RMSE\"], iteration=0)\n",
    "logger_grad.report_scalar(\"Default Metrics\", \"R2_test_avg\", test_avg_metrics[\"R2\"], iteration=0)\n",
    "logger_grad.report_scalar(\"Default Metrics\", \"MAPE_test_avg\", test_avg_metrics[\"MAPE\"], iteration=0)\n",
    "logger_grad.report_scalar(\"Default Metrics\", \"RMSE_train_avg\", train_avg_metrics[\"RMSE\"], iteration=0)\n",
    "logger_grad.report_scalar(\"Default Metrics\", \"R2_train_avg\", train_avg_metrics[\"R2\"], iteration=0)\n",
    "logger_grad.report_scalar(\"Default Metrics\", \"MAPE_train_avg\", train_avg_metrics[\"MAPE\"], iteration=0)\n",
    "\n",
    "task_grad.upload_artifact(\"Default Metrics Detailed\", {\n",
    "    \"Validation\": defGrad_val_metrics,\n",
    "    \"Test\": defGrad_test_metrics,\n",
    "    \"Train\": defGrad_train_metrics\n",
    "})\n"
   ]
  },
  {
   "cell_type": "code",
   "execution_count": 34,
   "id": "65f3a132",
   "metadata": {},
   "outputs": [],
   "source": [
    "## B. Hyperparameter tuning cho LGB\n",
    "def objective(trial):\n",
    "    # === 1. booster trước, để dùng điều kiện ===\n",
    "    boosting_type = trial.suggest_categorical('boosting_type', ['gbdt', 'dart'])\n",
    "\n",
    "    # === 2. Không gian hyperparameter cho LGBM ===\n",
    "    params = {\n",
    "        'boosting_type': boosting_type,\n",
    "        'max_depth': trial.suggest_int('max_depth', 3, 12),\n",
    "        'min_child_weight': trial.suggest_float('min_child_weight', 1e-3, 10.0, log=True),\n",
    "        'min_split_gain': trial.suggest_float('min_split_gain', 0.0, 0.3),\n",
    "        'learning_rate': trial.suggest_float('learning_rate', 0.005, 0.2, log=True),\n",
    "        'reg_alpha': trial.suggest_float('reg_alpha', 1e-5, 1.0, log=True),\n",
    "        'reg_lambda': trial.suggest_float('reg_lambda', 1e-5, 1.0, log=True),\n",
    "        'subsample': trial.suggest_float('subsample', 0.6, 1.0),\n",
    "        'colsample_bytree': trial.suggest_float('colsample_bytree', 0.6, 1.0),\n",
    "        'subsample_freq': trial.suggest_int('subsample_freq', 1, 7),\n",
    "        'n_estimators': trial.suggest_int('n_estimators', 100, 1500),\n",
    "        'num_leaves': trial.suggest_int('num_leaves', 20, 150),\n",
    "        'max_bin': trial.suggest_int('max_bin', 64, 512),\n",
    "        'feature_fraction': trial.suggest_float('feature_fraction', 0.6, 1.0),\n",
    "\n",
    "        # Fixed parameters cho LGBM\n",
    "        'objective': 'regression',\n",
    "        'metric': 'rmse',\n",
    "        'random_state': 42,\n",
    "        'n_jobs': -1,\n",
    "        'verbose': -1\n",
    "    }\n",
    "\n",
    "    # --- Thêm các tham số riêng cho DART ---\n",
    "    if boosting_type == 'dart':\n",
    "        params['drop_rate'] = trial.suggest_float('drop_rate', 0.05, 0.5)\n",
    "        params['skip_drop'] = trial.suggest_float('skip_drop', 0.3, 0.7)\n",
    "\n",
    "    # === 3. TimeSeriesSplit CV===\n",
    "    cv = TimeSeriesSplit(n_splits=5)\n",
    "    rmse_scores = []\n",
    "\n",
    "    for train_idx, val_idx in cv.split(X_train_sel):\n",
    "        X_tr, X_val = X_train_sel.iloc[train_idx], X_train_sel.iloc[val_idx]\n",
    "        y_tr, y_val = y_train.iloc[train_idx], y_train.iloc[val_idx]\n",
    "\n",
    "        # === 4. Train model ===\n",
    "        base_model = LGBMRegressor(**params)\n",
    "        model = MultiOutputRegressor(estimator=base_model, n_jobs=-1)\n",
    "\n",
    "        model.fit(X_tr, y_tr)\n",
    "        y_pred_val = model.predict(X_val)\n",
    "\n",
    "        # Dùng evaluate_multi_output để tính RMSE trung bình\n",
    "        metrics = evaluate_multi_output(y_val, y_pred_val)\n",
    "        rmse_scores.append(metrics[\"average\"][\"RMSE\"])\n",
    "\n",
    "    mean_rmse = np.mean(rmse_scores)\n",
    "\n",
    "    # === 5. Log kết quả lên ClearML ===\n",
    "    logger_grad.report_scalar(\n",
    "        title='Optuna Tuning - LGB',\n",
    "        series='Trial Avg RMSE',\n",
    "        value=mean_rmse,\n",
    "        iteration=trial.number\n",
    "    )\n",
    "\n",
    "    params_table = pd.DataFrame([params], index=[0])\n",
    "    logger_grad.report_table(\n",
    "        title=f\"Trial {trial.number} Parameters\",\n",
    "        series=\"params\",\n",
    "        iteration=trial.number,\n",
    "        table_plot=params_table\n",
    "    )\n",
    "\n",
    "    # === 6. Trả về RMSE trung bình để Optuna minimize ===\n",
    "    return mean_rmse\n"
   ]
  },
  {
   "cell_type": "code",
   "execution_count": null,
   "id": "7c273d4a",
   "metadata": {},
   "outputs": [],
   "source": [
    "# # Try new objective with pruning\n",
    "# def objective(trial):\n",
    "#     # === 1. Định nghĩa không gian hyperparameter thông minh hơn ===\n",
    "#     params = {\n",
    "\n",
    "#         # Sử dụng log=True để tìm kiếm learning_rate hiệu quả hơn\n",
    "#         'loss': trial.suggest_categorical('loss', ['squared_error', 'huber']),\n",
    "#         'learning_rate': trial.suggest_float('learning_rate', 0.01, 0.3, log=True),\n",
    "#         'n_estimators': trial.suggest_int('n_estimators', 100, 1500), # Mở rộng khoảng một chút\n",
    "#         'subsample': trial.suggest_float('subsample', 0.6, 1.0, step=0.05), # Chia nhỏ bước nhảy\n",
    "#         'min_samples_split': trial.suggest_int('min_samples_split', 2, 20),\n",
    "#         'min_samples_leaf': trial.suggest_int('min_samples_leaf', 1, 5),\n",
    "#         'max_depth': trial.suggest_int('max_depth', 3, 8),\n",
    "#         'min_impurity_decrease': trial.suggest_float('min_impurity_decrease', 0.0, 0.2),\n",
    "#         'min_samples_leaf': trial.suggest_int('min_samples_leaf', 1, 20),\n",
    "#         'max_features': trial.suggest_categorical('max_features', ['sqrt', 'log2']), # Bỏ None để giảm độ phức tạp\n",
    "#         'tol': 1e-4,\n",
    "#         # 'ccp_alpha': 0.0,\n",
    "#         'random_state': 42\n",
    "#     }\n",
    "\n",
    "#     # Chỉ gợi ý 'alpha' khi 'loss' là 'huber'\n",
    "#     if params['loss'] == 'huber':\n",
    "#         params['alpha'] = trial.suggest_float('alpha', 0.8, 0.99)\n",
    "\n",
    "#     # === 2. TimeSeriesSplit CV với PRUNING (CẮT TỈA) ===\n",
    "#     cv = TimeSeriesSplit(n_splits=5)\n",
    "#     rmse_scores = []\n",
    "\n",
    "#     # Dùng enumerate để lấy step cho pruning\n",
    "#     for step, (train_idx, val_idx) in enumerate(cv.split(X_train)):\n",
    "#         X_tr, X_val = X_train.iloc[train_idx], X_train.iloc[val_idx]\n",
    "#         y_tr, y_val = y_train.iloc[train_idx], y_train.iloc[val_idx]\n",
    "\n",
    "#         # === 3. Train model ===\n",
    "#         model = GradientBoostingRegressor(**params)\n",
    "#         model.fit(X_tr, y_tr)\n",
    "#         y_pred_val = model.predict(X_val)\n",
    "\n",
    "#         metrics = evaluate(y_val, y_pred_val)\n",
    "#         rmse_score = metrics['RMSE']\n",
    "#         rmse_scores.append(rmse_score)\n",
    "        \n",
    "#         # === BƯỚC CẢI TIẾN QUAN TRỌNG NHẤT: PRUNING ===\n",
    "#         # 1. Báo cáo kết quả trung gian của fold này cho Optuna\n",
    "#         trial.report(rmse_score, step)\n",
    "\n",
    "#         # 2. Kiểm tra xem trial này có nên bị dừng sớm không\n",
    "#         if trial.should_prune():\n",
    "#             # Ném ra ngoại lệ để dừng trial này và chuyển sang trial tiếp theo\n",
    "#             raise optuna.exceptions.TrialPruned()\n",
    "\n",
    "#     mean_rmse = np.mean(rmse_scores)\n",
    "\n",
    "#     # === 4. Log kết quả lên ClearML (Giữ nguyên) ===\n",
    "#     logger_grad.report_scalar(\n",
    "#         title='Optuna Tuning - GradientBoosting', series='Trial RMSE',\n",
    "#         value=mean_rmse, iteration=trial.number)\n",
    "    \n",
    "#     params_table = pd.DataFrame([{\"trial\": trial.number, \"mean_rmse\": mean_rmse, **trial.params}])\n",
    "#     logger_grad.report_table(\n",
    "#         title=\"All Trials Summary\", series=\"params_summary\",\n",
    "#         iteration=trial.number, table_plot=params_table)\n",
    "\n",
    "#     # === 5. Trả về RMSE trung bình để Optuna minimize ===\n",
    "#     return mean_rmse"
   ]
  },
  {
   "cell_type": "code",
   "execution_count": null,
   "id": "fe2a1d4c",
   "metadata": {},
   "outputs": [],
   "source": [
    "# def objective_r2(trial):\n",
    "#     # === 1. Định nghĩa không gian hyperparameter (Giữ nguyên hoặc tinh chỉnh nếu muốn) ===\n",
    "#     # Sử dụng không gian tìm kiếm đã được tinh chỉnh ở lần trước\n",
    "#     params = {\n",
    "#         'objective': 'regression',\n",
    "#         'metric': 'rmse',\n",
    "#         'boosting_type': trial.suggest_categorical('boosting_type', ['gbdt', 'dart']),\n",
    "#         'learning_rate': trial.suggest_float('learning_rate', 0.01, 0.2, log=True),\n",
    "#         'num_leaves': trial.suggest_int('num_leaves', 31, 256),\n",
    "#         'max_depth': trial.suggest_int('max_depth', 3, 15),\n",
    "#         'min_child_samples': trial.suggest_int('min_child_samples', 10, 80),\n",
    "#         'subsample': trial.suggest_float('subsample', 0.6, 1.0),\n",
    "#         'colsample_bytree': trial.suggest_float('colsample_bytree', 0.6, 1.0),\n",
    "#         'reg_alpha': trial.suggest_float('reg_alpha', 1e-4, 1.0, log=True),\n",
    "#         'reg_lambda': trial.suggest_float('reg_lambda', 1e-4, 1.0, log=True),\n",
    "#         'min_split_gain': trial.suggest_float('min_split_gain', 0.0, 0.5),\n",
    "#         'n_estimators': trial.suggest_int('n_estimators', 200, 1000),\n",
    "#         'random_state': 42,\n",
    "#         'n_jobs': -1\n",
    "#     }\n",
    "\n",
    "\n",
    "#     # === 2. TimeSeriesSplit CV ===\n",
    "#     cv = TimeSeriesSplit(n_splits=5)\n",
    "#     r2_scores = [] # THAY ĐỔI 2: Đổi tên list để lưu R-squared scores\n",
    "\n",
    "#     for train_idx, val_idx in cv.split(X_train_sel):\n",
    "#         X_tr, X_val = X_train_sel.iloc[train_idx], X_train_sel.iloc[val_idx]\n",
    "#         y_tr, y_val = y_train.iloc[train_idx], y_train.iloc[val_idx]\n",
    "\n",
    "#         # === 3. Train model ===\n",
    "#         model = LGBMRegressor(**params)\n",
    "#         model.fit(X_tr, y_tr)\n",
    "#         y_pred_val = model.predict(X_val)\n",
    "\n",
    "#         metrics = evaluate(y_val, y_pred_val)\n",
    "#         r2_score = metrics['R2']  # THAY ĐỔI 3: Lấy R-squared thay vì RMSE\n",
    "#         r2_scores.append(r2_score)\n",
    "\n",
    "#     mean_r2 = np.mean(r2_scores) # THAY ĐỔI 4: Tính trung bình R-squared\n",
    "\n",
    "#     # === 4. Log kết quả lên ClearML (Cập nhật để log R-squared) ===\n",
    "#     logger_grad.report_scalar(\n",
    "#         title='Optuna Tuning - R-squared', # Cập nhật title\n",
    "#         series='Trial R2',               # Cập nhật series\n",
    "#         value=mean_r2,                   # Log giá trị R-squared\n",
    "#         iteration=trial.number\n",
    "#     )\n",
    "\n",
    "#     params_summary = {\"trial\": trial.number, \"mean_r2\": mean_r2, **trial.params}\n",
    "#     logger_grad.report_table(\n",
    "#         title=\"All Trials Summary (R2)\", series=\"params_summary_r2\",\n",
    "#         iteration=trial.number, table_plot=pd.DataFrame([params_summary])\n",
    "#     )\n",
    "\n",
    "#     # === 5. Trả về R-squared trung bình để Optuna MAXIMIZE ===\n",
    "#     return mean_r2"
   ]
  },
  {
   "cell_type": "code",
   "execution_count": null,
   "id": "9ae32bbc",
   "metadata": {},
   "outputs": [],
   "source": [
    "# # === 3. Chạy Optuna study cho Gradient Boosting ===\n",
    "# #maximize R-squared\n",
    "# study_grad = optuna.create_study(\n",
    "#     direction='maximize',  # THAY ĐỔI: Tối đa hóa R-squared\n",
    "#     sampler=sampler\n",
    "# )\n",
    "\n",
    "# # Tiến hành tối ưu\n",
    "# study_grad.optimize(objective_r2, n_trials=50, show_progress_bar=True)\n",
    "\n",
    "# # === 4. In kết quả tốt nhất ===\n",
    "# print(\"Best parameters:\", study_grad.best_trial.params)\n",
    "# print(\"Best R-squared:\", study_grad.best_value)"
   ]
  },
  {
   "cell_type": "code",
   "execution_count": 35,
   "id": "461fb805",
   "metadata": {},
   "outputs": [
    {
     "name": "stderr",
     "output_type": "stream",
     "text": [
      "[I 2025-10-26 13:52:20,943] A new study created in memory with name: no-name-dfd78571-36f8-4f02-a365-81020f830332\n",
      "Best trial: 0. Best value: 2.42558:   2%|▏         | 1/50 [01:02<51:18, 62.82s/it]"
     ]
    },
    {
     "name": "stdout",
     "output_type": "stream",
     "text": [
      "[I 2025-10-26 13:53:23,754] Trial 0 finished with value: 2.42558174126523 and parameters: {'boosting_type': 'dart', 'max_depth': 10, 'min_child_weight': 5.727904470799623, 'min_split_gain': 0.26844820512829465, 'learning_rate': 0.04537761219144586, 'reg_alpha': 0.40679084943595434, 'reg_lambda': 2.769889922756281e-05, 'subsample': 0.6783931449676581, 'colsample_bytree': 0.6180909155642152, 'subsample_freq': 3, 'n_estimators': 644, 'num_leaves': 55, 'max_bin': 436, 'feature_fraction': 0.7427013306774357, 'drop_rate': 0.17642052935932134, 'skip_drop': 0.5170784332632994}. Best is trial 0 with value: 2.42558174126523.\n"
     ]
    },
    {
     "name": "stderr",
     "output_type": "stream",
     "text": [
      "Best trial: 0. Best value: 2.42558:   4%|▍         | 2/50 [01:09<23:57, 29.95s/it]"
     ]
    },
    {
     "name": "stdout",
     "output_type": "stream",
     "text": [
      "[I 2025-10-26 13:53:30,705] Trial 1 finished with value: 14.311230172634913 and parameters: {'boosting_type': 'dart', 'max_depth': 3, 'min_child_weight': 8.862326508576253, 'min_split_gain': 0.23167343078899721, 'learning_rate': 0.01040697346842839, 'reg_alpha': 1.0656401760606452e-05, 'reg_lambda': 0.11948328168545447, 'subsample': 0.8827429375390468, 'colsample_bytree': 0.8916028672163949, 'subsample_freq': 6, 'n_estimators': 203, 'num_leaves': 66, 'max_bin': 116, 'feature_fraction': 0.9452413703502374, 'drop_rate': 0.3304841570724011, 'skip_drop': 0.43235920994105964}. Best is trial 0 with value: 2.42558174126523.\n"
     ]
    },
    {
     "name": "stderr",
     "output_type": "stream",
     "text": [
      "Best trial: 0. Best value: 2.42558:   6%|▌         | 3/50 [02:49<48:27, 61.85s/it]"
     ]
    },
    {
     "name": "stdout",
     "output_type": "stream",
     "text": [
      "[I 2025-10-26 13:55:10,521] Trial 2 finished with value: 2.4292670532427123 and parameters: {'boosting_type': 'dart', 'max_depth': 6, 'min_child_weight': 0.8287522363768158, 'min_split_gain': 0.19126724140656393, 'learning_rate': 0.13192832331971246, 'reg_alpha': 0.002296543234463434, 'reg_lambda': 3.962517832572342e-05, 'subsample': 0.885297914889198, 'colsample_bytree': 0.9043140194467589, 'subsample_freq': 4, 'n_estimators': 1180, 'num_leaves': 84, 'max_bin': 298, 'feature_fraction': 0.7710164073434198, 'drop_rate': 0.061438607034842836, 'skip_drop': 0.34315657079732176}. Best is trial 0 with value: 2.42558174126523.\n"
     ]
    },
    {
     "name": "stderr",
     "output_type": "stream",
     "text": [
      "Best trial: 0. Best value: 2.42558:   8%|▊         | 4/50 [03:11<35:27, 46.25s/it]"
     ]
    },
    {
     "name": "stdout",
     "output_type": "stream",
     "text": [
      "[I 2025-10-26 13:55:32,850] Trial 3 finished with value: 6.619220373526109 and parameters: {'boosting_type': 'dart', 'max_depth': 6, 'min_child_weight': 0.1082138291061399, 'min_split_gain': 0.2722699421778279, 'learning_rate': 0.012541547022380126, 'reg_alpha': 0.0011269758643814645, 'reg_lambda': 0.05994537656798812, 'subsample': 0.6915192661966489, 'colsample_bytree': 0.6307919639315172, 'subsample_freq': 3, 'n_estimators': 325, 'num_leaves': 141, 'max_bin': 426, 'feature_fraction': 0.8533615026041694, 'drop_rate': 0.442157265584473, 'skip_drop': 0.6214688307596458}. Best is trial 0 with value: 2.42558174126523.\n"
     ]
    },
    {
     "name": "stderr",
     "output_type": "stream",
     "text": [
      "Best trial: 0. Best value: 2.42558:  10%|█         | 5/50 [03:19<24:09, 32.20s/it]"
     ]
    },
    {
     "name": "stdout",
     "output_type": "stream",
     "text": [
      "[I 2025-10-26 13:55:40,150] Trial 4 finished with value: 12.385270467782219 and parameters: {'boosting_type': 'dart', 'max_depth': 8, 'min_child_weight': 1.6973078532467012, 'min_split_gain': 0.26882738997704797, 'learning_rate': 0.016159601572059135, 'reg_alpha': 3.550255612313076e-05, 'reg_lambda': 0.00013793542352772464, 'subsample': 0.7708431154505025, 'colsample_bytree': 0.9272059063689972, 'subsample_freq': 7, 'n_estimators': 109, 'num_leaves': 86, 'max_bin': 251, 'feature_fraction': 0.6888431241882921, 'drop_rate': 0.10393941530015727, 'skip_drop': 0.43504606856145117}. Best is trial 0 with value: 2.42558174126523.\n"
     ]
    },
    {
     "name": "stderr",
     "output_type": "stream",
     "text": [
      "Best trial: 0. Best value: 2.42558:  12%|█▏        | 6/50 [03:25<17:05, 23.31s/it]"
     ]
    },
    {
     "name": "stdout",
     "output_type": "stream",
     "text": [
      "[I 2025-10-26 13:55:46,197] Trial 5 finished with value: 2.4570423417241045 and parameters: {'boosting_type': 'gbdt', 'max_depth': 8, 'min_child_weight': 0.648747706605868, 'min_split_gain': 0.1090888807137882, 'learning_rate': 0.18022838843646555, 'reg_alpha': 0.6489877132084348, 'reg_lambda': 0.00018151456496577544, 'subsample': 0.7988994023569542, 'colsample_bytree': 0.7203513239267079, 'subsample_freq': 2, 'n_estimators': 151, 'num_leaves': 99, 'max_bin': 289, 'feature_fraction': 0.6205915004999957}. Best is trial 0 with value: 2.42558174126523.\n"
     ]
    },
    {
     "name": "stderr",
     "output_type": "stream",
     "text": [
      "Best trial: 0. Best value: 2.42558:  14%|█▍        | 7/50 [03:51<17:27, 24.37s/it]"
     ]
    },
    {
     "name": "stdout",
     "output_type": "stream",
     "text": [
      "[I 2025-10-26 13:56:12,752] Trial 6 finished with value: 2.4504297679753613 and parameters: {'boosting_type': 'dart', 'max_depth': 5, 'min_child_weight': 0.003798214508453258, 'min_split_gain': 0.1468358280832689, 'learning_rate': 0.18968856989494792, 'reg_alpha': 0.00016228424432188987, 'reg_lambda': 0.022944454507601995, 'subsample': 0.9046478461314871, 'colsample_bytree': 0.6950550175969599, 'subsample_freq': 6, 'n_estimators': 615, 'num_leaves': 102, 'max_bin': 348, 'feature_fraction': 0.8143098736299034, 'drop_rate': 0.09063039652448374, 'skip_drop': 0.6341209982356951}. Best is trial 0 with value: 2.42558174126523.\n"
     ]
    },
    {
     "name": "stderr",
     "output_type": "stream",
     "text": [
      "Best trial: 7. Best value: 2.27927:  16%|█▌        | 8/50 [04:00<13:35, 19.43s/it]"
     ]
    },
    {
     "name": "stdout",
     "output_type": "stream",
     "text": [
      "[I 2025-10-26 13:56:21,588] Trial 7 finished with value: 2.2792723396853036 and parameters: {'boosting_type': 'gbdt', 'max_depth': 3, 'min_child_weight': 0.2309786149269357, 'min_split_gain': 0.2032693085526847, 'learning_rate': 0.005315507085608234, 'reg_alpha': 0.003634672553428679, 'reg_lambda': 0.00013566845397879244, 'subsample': 0.8580691161637799, 'colsample_bytree': 0.6697465716019966, 'subsample_freq': 5, 'n_estimators': 641, 'num_leaves': 142, 'max_bin': 125, 'feature_fraction': 0.7364265404201034}. Best is trial 7 with value: 2.2792723396853036.\n"
     ]
    },
    {
     "name": "stderr",
     "output_type": "stream",
     "text": [
      "Best trial: 7. Best value: 2.27927:  18%|█▊        | 9/50 [06:09<36:44, 53.77s/it]"
     ]
    },
    {
     "name": "stdout",
     "output_type": "stream",
     "text": [
      "[I 2025-10-26 13:58:30,867] Trial 8 finished with value: 2.4178119566034946 and parameters: {'boosting_type': 'dart', 'max_depth': 11, 'min_child_weight': 0.01075886630676792, 'min_split_gain': 0.1979952138102537, 'learning_rate': 0.1019081682210583, 'reg_alpha': 0.005970408652384315, 'reg_lambda': 0.004448902538066169, 'subsample': 0.6967409163601807, 'colsample_bytree': 0.6372411071223597, 'subsample_freq': 7, 'n_estimators': 1361, 'num_leaves': 102, 'max_bin': 216, 'feature_fraction': 0.7396838298450643, 'drop_rate': 0.3766800554916077, 'skip_drop': 0.6588441039810308}. Best is trial 7 with value: 2.2792723396853036.\n"
     ]
    },
    {
     "name": "stderr",
     "output_type": "stream",
     "text": [
      "Best trial: 7. Best value: 2.27927:  20%|██        | 10/50 [06:25<27:56, 41.92s/it]"
     ]
    },
    {
     "name": "stdout",
     "output_type": "stream",
     "text": [
      "[I 2025-10-26 13:58:46,246] Trial 9 finished with value: 2.495223991826264 and parameters: {'boosting_type': 'gbdt', 'max_depth': 9, 'min_child_weight': 0.0021705003488711127, 'min_split_gain': 0.04848861422838413, 'learning_rate': 0.13756492629553294, 'reg_alpha': 0.010768254179081208, 'reg_lambda': 1.1116939907244576e-05, 'subsample': 0.6405886171464128, 'colsample_bytree': 0.8654007076432223, 'subsample_freq': 1, 'n_estimators': 325, 'num_leaves': 91, 'max_bin': 374, 'feature_fraction': 0.8607845038010402}. Best is trial 7 with value: 2.2792723396853036.\n"
     ]
    },
    {
     "name": "stderr",
     "output_type": "stream",
     "text": [
      "Best trial: 7. Best value: 2.27927:  22%|██▏       | 11/50 [06:37<21:20, 32.84s/it]"
     ]
    },
    {
     "name": "stdout",
     "output_type": "stream",
     "text": [
      "[I 2025-10-26 13:58:58,513] Trial 10 finished with value: 2.2888862511469013 and parameters: {'boosting_type': 'gbdt', 'max_depth': 3, 'min_child_weight': 0.057741416820445465, 'min_split_gain': 0.0053885626844459855, 'learning_rate': 0.005275138003388615, 'reg_alpha': 0.056899485948938226, 'reg_lambda': 0.0011547408571799453, 'subsample': 0.9822851559086231, 'colsample_bytree': 0.7775394130445562, 'subsample_freq': 5, 'n_estimators': 927, 'num_leaves': 24, 'max_bin': 74, 'feature_fraction': 0.977793842717421}. Best is trial 7 with value: 2.2792723396853036.\n"
     ]
    },
    {
     "name": "stderr",
     "output_type": "stream",
     "text": [
      "Best trial: 7. Best value: 2.27927:  24%|██▍       | 12/50 [06:49<16:41, 26.34s/it]"
     ]
    },
    {
     "name": "stdout",
     "output_type": "stream",
     "text": [
      "[I 2025-10-26 13:59:10,000] Trial 11 finished with value: 2.2970749710921767 and parameters: {'boosting_type': 'gbdt', 'max_depth': 3, 'min_child_weight': 0.06437184153750294, 'min_split_gain': 0.0023460670949004767, 'learning_rate': 0.005145303359988598, 'reg_alpha': 0.05107746351659404, 'reg_lambda': 0.0009429532365918693, 'subsample': 0.9989492372018763, 'colsample_bytree': 0.7874820875551369, 'subsample_freq': 5, 'n_estimators': 977, 'num_leaves': 24, 'max_bin': 65, 'feature_fraction': 0.998406612698974}. Best is trial 7 with value: 2.2792723396853036.\n"
     ]
    },
    {
     "name": "stderr",
     "output_type": "stream",
     "text": [
      "Best trial: 7. Best value: 2.27927:  26%|██▌       | 13/50 [07:09<15:12, 24.65s/it]"
     ]
    },
    {
     "name": "stdout",
     "output_type": "stream",
     "text": [
      "[I 2025-10-26 13:59:30,768] Trial 12 finished with value: 2.3140945225285656 and parameters: {'boosting_type': 'gbdt', 'max_depth': 4, 'min_child_weight': 0.056561467651267516, 'min_split_gain': 0.0919108184788498, 'learning_rate': 0.005494166642308261, 'reg_alpha': 0.039891773690884376, 'reg_lambda': 0.001928023530493638, 'subsample': 0.9994228646699713, 'colsample_bytree': 0.7786698282977956, 'subsample_freq': 5, 'n_estimators': 864, 'num_leaves': 150, 'max_bin': 160, 'feature_fraction': 0.9073979443518086}. Best is trial 7 with value: 2.2792723396853036.\n"
     ]
    },
    {
     "name": "stderr",
     "output_type": "stream",
     "text": [
      "Best trial: 7. Best value: 2.27927:  28%|██▊       | 14/50 [07:24<13:01, 21.72s/it]"
     ]
    },
    {
     "name": "stdout",
     "output_type": "stream",
     "text": [
      "[I 2025-10-26 13:59:45,694] Trial 13 finished with value: 2.3886579454246553 and parameters: {'boosting_type': 'gbdt', 'max_depth': 5, 'min_child_weight': 0.019204398733510916, 'min_split_gain': 0.15382243024741338, 'learning_rate': 0.026476704242944047, 'reg_alpha': 0.06285275524084173, 'reg_lambda': 0.0004916519022755111, 'subsample': 0.929362854358995, 'colsample_bytree': 0.9930744627111218, 'subsample_freq': 5, 'n_estimators': 641, 'num_leaves': 126, 'max_bin': 66, 'feature_fraction': 0.6575200354740318}. Best is trial 7 with value: 2.2792723396853036.\n"
     ]
    },
    {
     "name": "stderr",
     "output_type": "stream",
     "text": [
      "Best trial: 7. Best value: 2.27927:  30%|███       | 15/50 [07:40<11:41, 20.05s/it]"
     ]
    },
    {
     "name": "stdout",
     "output_type": "stream",
     "text": [
      "[I 2025-10-26 14:00:01,867] Trial 14 finished with value: 2.2983374786072206 and parameters: {'boosting_type': 'gbdt', 'max_depth': 3, 'min_child_weight': 0.17784900020511057, 'min_split_gain': 0.006451752535863857, 'learning_rate': 0.008230006726231847, 'reg_alpha': 0.0005102117718947746, 'reg_lambda': 0.00729444768398438, 'subsample': 0.8398563377678495, 'colsample_bytree': 0.7065156005441935, 'subsample_freq': 4, 'n_estimators': 1055, 'num_leaves': 21, 'max_bin': 157, 'feature_fraction': 0.6997108097658562}. Best is trial 7 with value: 2.2792723396853036.\n"
     ]
    },
    {
     "name": "stderr",
     "output_type": "stream",
     "text": [
      "Best trial: 7. Best value: 2.27927:  32%|███▏      | 16/50 [08:38<17:41, 31.23s/it]"
     ]
    },
    {
     "name": "stdout",
     "output_type": "stream",
     "text": [
      "[I 2025-10-26 14:00:59,076] Trial 15 finished with value: 2.4336896854815513 and parameters: {'boosting_type': 'gbdt', 'max_depth': 12, 'min_child_weight': 0.32187064761686673, 'min_split_gain': 0.07922110993871109, 'learning_rate': 0.020109289941611385, 'reg_alpha': 0.00868298457451247, 'reg_lambda': 0.00019808301685898322, 'subsample': 0.9567113149743813, 'colsample_bytree': 0.8255898796085731, 'subsample_freq': 6, 'n_estimators': 779, 'num_leaves': 47, 'max_bin': 169, 'feature_fraction': 0.8117826988999847}. Best is trial 7 with value: 2.2792723396853036.\n"
     ]
    },
    {
     "name": "stderr",
     "output_type": "stream",
     "text": [
      "Best trial: 7. Best value: 2.27927:  34%|███▍      | 17/50 [09:08<17:00, 30.92s/it]"
     ]
    },
    {
     "name": "stdout",
     "output_type": "stream",
     "text": [
      "[I 2025-10-26 14:01:29,256] Trial 16 finished with value: 2.458410203773025 and parameters: {'boosting_type': 'gbdt', 'max_depth': 6, 'min_child_weight': 0.019302695319477155, 'min_split_gain': 0.1438059532170728, 'learning_rate': 0.05354498765512387, 'reg_alpha': 0.18458129473830326, 'reg_lambda': 0.5940154603611365, 'subsample': 0.7546516529555951, 'colsample_bytree': 0.7570456038148734, 'subsample_freq': 3, 'n_estimators': 1491, 'num_leaves': 125, 'max_bin': 114, 'feature_fraction': 0.9925252347033172}. Best is trial 7 with value: 2.2792723396853036.\n"
     ]
    },
    {
     "name": "stderr",
     "output_type": "stream",
     "text": [
      "Best trial: 7. Best value: 2.27927:  36%|███▌      | 18/50 [09:19<13:23, 25.12s/it]"
     ]
    },
    {
     "name": "stdout",
     "output_type": "stream",
     "text": [
      "[I 2025-10-26 14:01:40,901] Trial 17 finished with value: 2.2797833481050263 and parameters: {'boosting_type': 'gbdt', 'max_depth': 4, 'min_child_weight': 1.989479185199622, 'min_split_gain': 0.17911340251183197, 'learning_rate': 0.007732166592429596, 'reg_alpha': 0.0186538268685832, 'reg_lambda': 0.0007715357620286665, 'subsample': 0.844866751719846, 'colsample_bytree': 0.6732224623895741, 'subsample_freq': 5, 'n_estimators': 430, 'num_leaves': 37, 'max_bin': 507, 'feature_fraction': 0.914425613000947}. Best is trial 7 with value: 2.2792723396853036.\n"
     ]
    },
    {
     "name": "stderr",
     "output_type": "stream",
     "text": [
      "Best trial: 7. Best value: 2.27927:  38%|███▊      | 19/50 [09:39<12:04, 23.36s/it]"
     ]
    },
    {
     "name": "stdout",
     "output_type": "stream",
     "text": [
      "[I 2025-10-26 14:02:00,157] Trial 18 finished with value: 2.2981788401418104 and parameters: {'boosting_type': 'gbdt', 'max_depth': 5, 'min_child_weight': 1.8620407527425096, 'min_split_gain': 0.21852574888180964, 'learning_rate': 0.008141632840257687, 'reg_alpha': 0.0002557206597438705, 'reg_lambda': 6.633126238011889e-05, 'subsample': 0.8385853991106461, 'colsample_bytree': 0.6717418558844097, 'subsample_freq': 4, 'n_estimators': 470, 'num_leaves': 41, 'max_bin': 493, 'feature_fraction': 0.900435300392965}. Best is trial 7 with value: 2.2792723396853036.\n"
     ]
    },
    {
     "name": "stderr",
     "output_type": "stream",
     "text": [
      "Best trial: 7. Best value: 2.27927:  40%|████      | 20/50 [09:51<10:03, 20.11s/it]"
     ]
    },
    {
     "name": "stdout",
     "output_type": "stream",
     "text": [
      "[I 2025-10-26 14:02:12,700] Trial 19 finished with value: 2.2806889031152027 and parameters: {'boosting_type': 'gbdt', 'max_depth': 4, 'min_child_weight': 2.3536761733693266, 'min_split_gain': 0.17083467561682947, 'learning_rate': 0.007883687134348092, 'reg_alpha': 0.018036667529319803, 'reg_lambda': 0.00036292172036868727, 'subsample': 0.8410183190651983, 'colsample_bytree': 0.6646236785900308, 'subsample_freq': 6, 'n_estimators': 447, 'num_leaves': 69, 'max_bin': 350, 'feature_fraction': 0.8526669538383397}. Best is trial 7 with value: 2.2792723396853036.\n"
     ]
    },
    {
     "name": "stderr",
     "output_type": "stream",
     "text": [
      "Best trial: 7. Best value: 2.27927:  42%|████▏     | 21/50 [10:28<12:07, 25.07s/it]"
     ]
    },
    {
     "name": "stdout",
     "output_type": "stream",
     "text": [
      "[I 2025-10-26 14:02:49,325] Trial 20 finished with value: 2.3591892764995857 and parameters: {'boosting_type': 'gbdt', 'max_depth': 7, 'min_child_weight': 0.4263456593615407, 'min_split_gain': 0.23334449883012912, 'learning_rate': 0.01425549551101584, 'reg_alpha': 0.002101307100054843, 'reg_lambda': 0.005389889815168253, 'subsample': 0.7413191153383969, 'colsample_bytree': 0.7270493140833728, 'subsample_freq': 4, 'n_estimators': 760, 'num_leaves': 122, 'max_bin': 485, 'feature_fraction': 0.7734822137738527}. Best is trial 7 with value: 2.2792723396853036.\n"
     ]
    },
    {
     "name": "stderr",
     "output_type": "stream",
     "text": [
      "Best trial: 7. Best value: 2.27927:  44%|████▍     | 22/50 [10:41<09:58, 21.39s/it]"
     ]
    },
    {
     "name": "stdout",
     "output_type": "stream",
     "text": [
      "[I 2025-10-26 14:03:02,128] Trial 21 finished with value: 2.2820189699695055 and parameters: {'boosting_type': 'gbdt', 'max_depth': 4, 'min_child_weight': 3.2746782686304154, 'min_split_gain': 0.1818176873567618, 'learning_rate': 0.007943251898752866, 'reg_alpha': 0.01658302077227322, 'reg_lambda': 0.00039383767840169367, 'subsample': 0.8437973880829981, 'colsample_bytree': 0.6613141193742413, 'subsample_freq': 6, 'n_estimators': 496, 'num_leaves': 75, 'max_bin': 347, 'feature_fraction': 0.8745956147455329}. Best is trial 7 with value: 2.2792723396853036.\n"
     ]
    },
    {
     "name": "stderr",
     "output_type": "stream",
     "text": [
      "Best trial: 7. Best value: 2.27927:  46%|████▌     | 23/50 [10:54<08:34, 19.07s/it]"
     ]
    },
    {
     "name": "stdout",
     "output_type": "stream",
     "text": [
      "[I 2025-10-26 14:03:15,782] Trial 22 finished with value: 2.2801658250628036 and parameters: {'boosting_type': 'gbdt', 'max_depth': 4, 'min_child_weight': 1.1682164572290228, 'min_split_gain': 0.1638329367109118, 'learning_rate': 0.0072402008867440545, 'reg_alpha': 0.021728940527320068, 'reg_lambda': 0.0004731169137082299, 'subsample': 0.8032128313636093, 'colsample_bytree': 0.6006613014502609, 'subsample_freq': 7, 'n_estimators': 440, 'num_leaves': 62, 'max_bin': 419, 'feature_fraction': 0.937141999675882}. Best is trial 7 with value: 2.2792723396853036.\n"
     ]
    },
    {
     "name": "stderr",
     "output_type": "stream",
     "text": [
      "Best trial: 7. Best value: 2.27927:  48%|████▊     | 24/50 [11:04<07:04, 16.32s/it]"
     ]
    },
    {
     "name": "stdout",
     "output_type": "stream",
     "text": [
      "[I 2025-10-26 14:03:25,699] Trial 23 finished with value: 2.285806709185104 and parameters: {'boosting_type': 'gbdt', 'max_depth': 4, 'min_child_weight': 0.9018126023784309, 'min_split_gain': 0.11825919849662185, 'learning_rate': 0.010490629424189246, 'reg_alpha': 0.21024233487565444, 'reg_lambda': 9.208137010958533e-05, 'subsample': 0.799288762248107, 'colsample_bytree': 0.6127765844823344, 'subsample_freq': 7, 'n_estimators': 313, 'num_leaves': 39, 'max_bin': 512, 'feature_fraction': 0.9448835421850141}. Best is trial 7 with value: 2.2792723396853036.\n"
     ]
    },
    {
     "name": "stderr",
     "output_type": "stream",
     "text": [
      "Best trial: 7. Best value: 2.27927:  50%|█████     | 25/50 [11:26<07:29, 17.96s/it]"
     ]
    },
    {
     "name": "stdout",
     "output_type": "stream",
     "text": [
      "[I 2025-10-26 14:03:47,484] Trial 24 finished with value: 2.373822699781191 and parameters: {'boosting_type': 'gbdt', 'max_depth': 5, 'min_child_weight': 0.19329358065239932, 'min_split_gain': 0.21464342481508317, 'learning_rate': 0.02106334321836314, 'reg_alpha': 0.004675802068479575, 'reg_lambda': 0.0009393232991874449, 'subsample': 0.8650675860079119, 'colsample_bytree': 0.606478137647976, 'subsample_freq': 7, 'n_estimators': 540, 'num_leaves': 55, 'max_bin': 445, 'feature_fraction': 0.928547187882396}. Best is trial 7 with value: 2.2792723396853036.\n"
     ]
    },
    {
     "name": "stderr",
     "output_type": "stream",
     "text": [
      "Best trial: 7. Best value: 2.27927:  52%|█████▏    | 26/50 [11:57<08:45, 21.89s/it]"
     ]
    },
    {
     "name": "stdout",
     "output_type": "stream",
     "text": [
      "[I 2025-10-26 14:04:18,528] Trial 25 finished with value: 2.320725432679008 and parameters: {'boosting_type': 'gbdt', 'max_depth': 7, 'min_child_weight': 4.415724282375198, 'min_split_gain': 0.16311708184048962, 'learning_rate': 0.00661909109083573, 'reg_alpha': 0.001012718817711798, 'reg_lambda': 0.010709379193085228, 'subsample': 0.9214416655502137, 'colsample_bytree': 0.6768248532742603, 'subsample_freq': 5, 'n_estimators': 382, 'num_leaves': 56, 'max_bin': 406, 'feature_fraction': 0.9559902160391816}. Best is trial 7 with value: 2.2792723396853036.\n"
     ]
    },
    {
     "name": "stderr",
     "output_type": "stream",
     "text": [
      "Best trial: 7. Best value: 2.27927:  54%|█████▍    | 27/50 [12:13<07:44, 20.20s/it]"
     ]
    },
    {
     "name": "stdout",
     "output_type": "stream",
     "text": [
      "[I 2025-10-26 14:04:34,806] Trial 26 finished with value: 2.41844896625956 and parameters: {'boosting_type': 'gbdt', 'max_depth': 4, 'min_child_weight': 1.3238777685656145, 'min_split_gain': 0.24803041144009388, 'learning_rate': 0.04042948415590111, 'reg_alpha': 0.020967601956733698, 'reg_lambda': 1.4858546126491551e-05, 'subsample': 0.8066033134766664, 'colsample_bytree': 0.7433356354534636, 'subsample_freq': 6, 'n_estimators': 707, 'num_leaves': 35, 'max_bin': 475, 'feature_fraction': 0.8939320885696802}. Best is trial 7 with value: 2.2792723396853036.\n"
     ]
    },
    {
     "name": "stderr",
     "output_type": "stream",
     "text": [
      "Best trial: 7. Best value: 2.27927:  56%|█████▌    | 28/50 [12:18<05:42, 15.58s/it]"
     ]
    },
    {
     "name": "stdout",
     "output_type": "stream",
     "text": [
      "[I 2025-10-26 14:04:39,613] Trial 27 finished with value: 2.2849080631853385 and parameters: {'boosting_type': 'gbdt', 'max_depth': 3, 'min_child_weight': 0.29657415623067673, 'min_split_gain': 0.20140693900672296, 'learning_rate': 0.011280156391383073, 'reg_alpha': 0.09464925192664304, 'reg_lambda': 0.0019245822827443355, 'subsample': 0.7755231972385238, 'colsample_bytree': 0.6424696451753938, 'subsample_freq': 2, 'n_estimators': 239, 'num_leaves': 66, 'max_bin': 235, 'feature_fraction': 0.8310973935831509}. Best is trial 7 with value: 2.2792723396853036.\n"
     ]
    },
    {
     "name": "stderr",
     "output_type": "stream",
     "text": [
      "Best trial: 7. Best value: 2.27927:  58%|█████▊    | 29/50 [12:49<07:00, 20.03s/it]"
     ]
    },
    {
     "name": "stdout",
     "output_type": "stream",
     "text": [
      "[I 2025-10-26 14:05:10,026] Trial 28 finished with value: 2.280657492252565 and parameters: {'boosting_type': 'gbdt', 'max_depth': 6, 'min_child_weight': 9.576620712458473, 'min_split_gain': 0.13068358642505337, 'learning_rate': 0.006846982679853434, 'reg_alpha': 0.0036280186341878014, 'reg_lambda': 4.518113687967684e-05, 'subsample': 0.7211441922913034, 'colsample_bytree': 0.6001214798112275, 'subsample_freq': 5, 'n_estimators': 573, 'num_leaves': 118, 'max_bin': 394, 'feature_fraction': 0.7719431263169828}. Best is trial 7 with value: 2.2792723396853036.\n"
     ]
    },
    {
     "name": "stderr",
     "output_type": "stream",
     "text": [
      "Best trial: 7. Best value: 2.27927:  60%|██████    | 30/50 [13:09<06:42, 20.12s/it]"
     ]
    },
    {
     "name": "stdout",
     "output_type": "stream",
     "text": [
      "[I 2025-10-26 14:05:30,368] Trial 29 finished with value: 2.4499767655237115 and parameters: {'boosting_type': 'gbdt', 'max_depth': 9, 'min_child_weight': 0.5178372636260501, 'min_split_gain': 0.2967051445213694, 'learning_rate': 0.06433890932652059, 'reg_alpha': 0.14452332099670337, 'reg_lambda': 2.438754567050048e-05, 'subsample': 0.6402504078205905, 'colsample_bytree': 0.8216579019685664, 'subsample_freq': 4, 'n_estimators': 672, 'num_leaves': 54, 'max_bin': 447, 'feature_fraction': 0.719857690168917}. Best is trial 7 with value: 2.2792723396853036.\n"
     ]
    },
    {
     "name": "stderr",
     "output_type": "stream",
     "text": [
      "Best trial: 7. Best value: 2.27927:  62%|██████▏   | 31/50 [13:22<05:42, 18.03s/it]"
     ]
    },
    {
     "name": "stdout",
     "output_type": "stream",
     "text": [
      "[I 2025-10-26 14:05:43,492] Trial 30 finished with value: 2.318249215140434 and parameters: {'boosting_type': 'gbdt', 'max_depth': 5, 'min_child_weight': 5.195865068181305, 'min_split_gain': 0.17716334814915694, 'learning_rate': 0.016382475875986124, 'reg_alpha': 0.46442769468216366, 'reg_lambda': 0.0004690790600319213, 'subsample': 0.821731555782491, 'colsample_bytree': 0.6989979630777391, 'subsample_freq': 3, 'n_estimators': 460, 'num_leaves': 31, 'max_bin': 315, 'feature_fraction': 0.608603219978707}. Best is trial 7 with value: 2.2792723396853036.\n"
     ]
    },
    {
     "name": "stderr",
     "output_type": "stream",
     "text": [
      "Best trial: 7. Best value: 2.27927:  64%|██████▍   | 32/50 [13:56<06:49, 22.76s/it]"
     ]
    },
    {
     "name": "stdout",
     "output_type": "stream",
     "text": [
      "[I 2025-10-26 14:06:17,305] Trial 31 finished with value: 2.281775022254274 and parameters: {'boosting_type': 'gbdt', 'max_depth': 6, 'min_child_weight': 9.619111359213933, 'min_split_gain': 0.1182871572420233, 'learning_rate': 0.006577532600211219, 'reg_alpha': 0.003307933325911703, 'reg_lambda': 4.3716463385559646e-05, 'subsample': 0.7278815426785651, 'colsample_bytree': 0.6127232360660558, 'subsample_freq': 5, 'n_estimators': 577, 'num_leaves': 114, 'max_bin': 386, 'feature_fraction': 0.7801113315462793}. Best is trial 7 with value: 2.2792723396853036.\n"
     ]
    },
    {
     "name": "stderr",
     "output_type": "stream",
     "text": [
      "Best trial: 7. Best value: 2.27927:  66%|██████▌   | 33/50 [14:09<05:37, 19.84s/it]"
     ]
    },
    {
     "name": "stdout",
     "output_type": "stream",
     "text": [
      "[I 2025-10-26 14:06:30,339] Trial 32 finished with value: 2.2838428735522074 and parameters: {'boosting_type': 'gbdt', 'max_depth': 4, 'min_child_weight': 4.258309123954867, 'min_split_gain': 0.13134177984881248, 'learning_rate': 0.009383202608543842, 'reg_alpha': 0.021039124027486967, 'reg_lambda': 0.00011724614436562512, 'subsample': 0.8696729696537575, 'colsample_bytree': 0.6460942661415485, 'subsample_freq': 5, 'n_estimators': 402, 'num_leaves': 139, 'max_bin': 462, 'feature_fraction': 0.7451575846647657}. Best is trial 7 with value: 2.2792723396853036.\n"
     ]
    },
    {
     "name": "stderr",
     "output_type": "stream",
     "text": [
      "Best trial: 33. Best value: 2.26494:  68%|██████▊   | 34/50 [14:19<04:29, 16.85s/it]"
     ]
    },
    {
     "name": "stdout",
     "output_type": "stream",
     "text": [
      "[I 2025-10-26 14:06:40,216] Trial 33 finished with value: 2.264939176681635 and parameters: {'boosting_type': 'gbdt', 'max_depth': 3, 'min_child_weight': 1.1170443493302642, 'min_split_gain': 0.13585642899430717, 'learning_rate': 0.006489762577789257, 'reg_alpha': 0.0014285559213266903, 'reg_lambda': 2.9537965193222325e-05, 'subsample': 0.7223743191154015, 'colsample_bytree': 0.6029368190205043, 'subsample_freq': 6, 'n_estimators': 557, 'num_leaves': 115, 'max_bin': 415, 'feature_fraction': 0.7526627270325676}. Best is trial 33 with value: 2.264939176681635.\n"
     ]
    },
    {
     "name": "stderr",
     "output_type": "stream",
     "text": [
      "Best trial: 33. Best value: 2.26494:  70%|███████   | 35/50 [14:30<03:46, 15.09s/it]"
     ]
    },
    {
     "name": "stdout",
     "output_type": "stream",
     "text": [
      "[I 2025-10-26 14:06:51,211] Trial 34 finished with value: 19.741348988862697 and parameters: {'boosting_type': 'dart', 'max_depth': 3, 'min_child_weight': 0.9941650140814465, 'min_split_gain': 0.1904810200439272, 'learning_rate': 0.005053329661241442, 'reg_alpha': 0.001328039578623201, 'reg_lambda': 2.5332922194119812e-05, 'subsample': 0.7776950772789913, 'colsample_bytree': 0.6309525130906133, 'subsample_freq': 7, 'n_estimators': 246, 'num_leaves': 134, 'max_bin': 429, 'feature_fraction': 0.6618304761284186, 'drop_rate': 0.27974996220297565, 'skip_drop': 0.30334206391572693}. Best is trial 33 with value: 2.264939176681635.\n"
     ]
    },
    {
     "name": "stderr",
     "output_type": "stream",
     "text": [
      "Best trial: 33. Best value: 2.26494:  72%|███████▏  | 36/50 [15:06<05:02, 21.59s/it]"
     ]
    },
    {
     "name": "stdout",
     "output_type": "stream",
     "text": [
      "[I 2025-10-26 14:07:27,935] Trial 35 finished with value: 3.905767280538388 and parameters: {'boosting_type': 'dart', 'max_depth': 3, 'min_child_weight': 2.4291174403438265, 'min_split_gain': 0.2359472348940257, 'learning_rate': 0.012630758375204266, 'reg_alpha': 0.0005693311443022902, 'reg_lambda': 0.0002490724862541537, 'subsample': 0.612876584776592, 'colsample_bytree': 0.6830189289656214, 'subsample_freq': 6, 'n_estimators': 841, 'num_leaves': 150, 'max_bin': 316, 'feature_fraction': 0.7464775154055905, 'drop_rate': 0.2000416048242805, 'skip_drop': 0.5260843843967243}. Best is trial 33 with value: 2.264939176681635.\n"
     ]
    },
    {
     "name": "stderr",
     "output_type": "stream",
     "text": [
      "Best trial: 33. Best value: 2.26494:  74%|███████▍  | 37/50 [15:23<04:21, 20.09s/it]"
     ]
    },
    {
     "name": "stdout",
     "output_type": "stream",
     "text": [
      "[I 2025-10-26 14:07:44,541] Trial 36 finished with value: 2.310708904629643 and parameters: {'boosting_type': 'gbdt', 'max_depth': 4, 'min_child_weight': 1.2578917419939002, 'min_split_gain': 0.21137838652796095, 'learning_rate': 0.010011736222723791, 'reg_alpha': 0.007284118863218372, 'reg_lambda': 9.404355984560887e-05, 'subsample': 0.8856604684479987, 'colsample_bytree': 0.6544116446572031, 'subsample_freq': 6, 'n_estimators': 723, 'num_leaves': 110, 'max_bin': 265, 'feature_fraction': 0.7108210505241909}. Best is trial 33 with value: 2.264939176681635.\n"
     ]
    },
    {
     "name": "stderr",
     "output_type": "stream",
     "text": [
      "Best trial: 33. Best value: 2.26494:  76%|███████▌  | 38/50 [15:38<03:40, 18.42s/it]"
     ]
    },
    {
     "name": "stdout",
     "output_type": "stream",
     "text": [
      "[I 2025-10-26 14:07:59,049] Trial 37 finished with value: 11.364846677139028 and parameters: {'boosting_type': 'dart', 'max_depth': 3, 'min_child_weight': 0.17686517828434672, 'min_split_gain': 0.1638889788401916, 'learning_rate': 0.0064743430130088315, 'reg_alpha': 7.841659690645862e-05, 'reg_lambda': 0.0008494776757662357, 'subsample': 0.706861185403674, 'colsample_bytree': 0.6331381055926658, 'subsample_freq': 7, 'n_estimators': 359, 'num_leaves': 78, 'max_bin': 202, 'feature_fraction': 0.6695143376728176, 'drop_rate': 0.4975813521510455, 'skip_drop': 0.5621977941047054}. Best is trial 33 with value: 2.264939176681635.\n"
     ]
    },
    {
     "name": "stderr",
     "output_type": "stream",
     "text": [
      "Best trial: 38. Best value: 2.26379:  78%|███████▊  | 39/50 [16:05<03:53, 21.22s/it]"
     ]
    },
    {
     "name": "stdout",
     "output_type": "stream",
     "text": [
      "[I 2025-10-26 14:08:26,819] Trial 38 finished with value: 2.263787859316132 and parameters: {'boosting_type': 'gbdt', 'max_depth': 5, 'min_child_weight': 0.5799864138381812, 'min_split_gain': 0.10002020226987698, 'learning_rate': 0.00633897126337854, 'reg_alpha': 1.1721362181810486e-05, 'reg_lambda': 0.0028486856885010254, 'subsample': 0.6639756444298484, 'colsample_bytree': 0.720617007970321, 'subsample_freq': 6, 'n_estimators': 539, 'num_leaves': 133, 'max_bin': 413, 'feature_fraction': 0.925618002124027}. Best is trial 38 with value: 2.263787859316132.\n"
     ]
    },
    {
     "name": "stderr",
     "output_type": "stream",
     "text": [
      "Best trial: 38. Best value: 2.26379:  80%|████████  | 40/50 [16:25<03:27, 20.74s/it]"
     ]
    },
    {
     "name": "stdout",
     "output_type": "stream",
     "text": [
      "[I 2025-10-26 14:08:46,450] Trial 39 finished with value: 2.2918959572385673 and parameters: {'boosting_type': 'gbdt', 'max_depth': 5, 'min_child_weight': 0.6429794233662353, 'min_split_gain': 0.06859703008933343, 'learning_rate': 0.009714407317216695, 'reg_alpha': 3.3066676120869204e-05, 'reg_lambda': 0.01749334775518412, 'subsample': 0.6627688264668535, 'colsample_bytree': 0.7264606412225302, 'subsample_freq': 6, 'n_estimators': 646, 'num_leaves': 132, 'max_bin': 503, 'feature_fraction': 0.8057357558139947}. Best is trial 38 with value: 2.263787859316132.\n"
     ]
    },
    {
     "name": "stderr",
     "output_type": "stream",
     "text": [
      "Best trial: 38. Best value: 2.26379:  82%|████████▏ | 41/50 [16:50<03:18, 22.01s/it]"
     ]
    },
    {
     "name": "stdout",
     "output_type": "stream",
     "text": [
      "[I 2025-10-26 14:09:11,416] Trial 40 finished with value: 14.270971634558682 and parameters: {'boosting_type': 'dart', 'max_depth': 3, 'min_child_weight': 0.11952024026875074, 'min_split_gain': 0.10904803364542166, 'learning_rate': 0.005852819793231195, 'reg_alpha': 1.606989482539861e-05, 'reg_lambda': 0.048664169560048015, 'subsample': 0.6736290617520423, 'colsample_bytree': 0.7574789855524633, 'subsample_freq': 6, 'n_estimators': 534, 'num_leaves': 142, 'max_bin': 371, 'feature_fraction': 0.7894747235368869, 'drop_rate': 0.19890769028199118, 'skip_drop': 0.38847095813970656}. Best is trial 38 with value: 2.263787859316132.\n"
     ]
    },
    {
     "name": "stderr",
     "output_type": "stream",
     "text": [
      "Best trial: 38. Best value: 2.26379:  84%|████████▍ | 42/50 [17:00<02:27, 18.40s/it]"
     ]
    },
    {
     "name": "stdout",
     "output_type": "stream",
     "text": [
      "[I 2025-10-26 14:09:21,381] Trial 41 finished with value: 2.3245766276016715 and parameters: {'boosting_type': 'gbdt', 'max_depth': 4, 'min_child_weight': 0.7658357248255164, 'min_split_gain': 0.14145906359945018, 'learning_rate': 0.007373388959939024, 'reg_alpha': 0.00011799484098069788, 'reg_lambda': 0.0021212192343493365, 'subsample': 0.8190454467469678, 'colsample_bytree': 0.6856362292237449, 'subsample_freq': 7, 'n_estimators': 280, 'num_leaves': 109, 'max_bin': 417, 'feature_fraction': 0.9274464589373368}. Best is trial 38 with value: 2.263787859316132.\n"
     ]
    },
    {
     "name": "stderr",
     "output_type": "stream",
     "text": [
      "Best trial: 38. Best value: 2.26379:  86%|████████▌ | 43/50 [17:07<01:44, 14.95s/it]"
     ]
    },
    {
     "name": "stdout",
     "output_type": "stream",
     "text": [
      "[I 2025-10-26 14:09:28,306] Trial 42 finished with value: 2.31804174490685 and parameters: {'boosting_type': 'gbdt', 'max_depth': 4, 'min_child_weight': 0.2818633236893542, 'min_split_gain': 0.08739341954252036, 'learning_rate': 0.012307484702499533, 'reg_alpha': 0.967777252422171, 'reg_lambda': 0.0038682943079014123, 'subsample': 0.6062281502470427, 'colsample_bytree': 0.6258869880981665, 'subsample_freq': 6, 'n_estimators': 166, 'num_leaves': 95, 'max_bin': 450, 'feature_fraction': 0.9678540017808969}. Best is trial 38 with value: 2.263787859316132.\n"
     ]
    },
    {
     "name": "stderr",
     "output_type": "stream",
     "text": [
      "Best trial: 38. Best value: 2.26379:  88%|████████▊ | 44/50 [17:24<01:34, 15.75s/it]"
     ]
    },
    {
     "name": "stdout",
     "output_type": "stream",
     "text": [
      "[I 2025-10-26 14:09:45,899] Trial 43 finished with value: 2.300041464555441 and parameters: {'boosting_type': 'gbdt', 'max_depth': 5, 'min_child_weight': 1.530580905533253, 'min_split_gain': 0.05317225278021365, 'learning_rate': 0.006061894724457128, 'reg_alpha': 0.03466830532152345, 'reg_lambda': 0.0002468248517751661, 'subsample': 0.86859500835145, 'colsample_bytree': 0.7097439186219832, 'subsample_freq': 7, 'n_estimators': 403, 'num_leaves': 132, 'max_bin': 464, 'feature_fraction': 0.9186490302096321}. Best is trial 38 with value: 2.263787859316132.\n"
     ]
    },
    {
     "name": "stderr",
     "output_type": "stream",
     "text": [
      "Best trial: 38. Best value: 2.26379:  90%|█████████ | 45/50 [17:33<01:07, 13.59s/it]"
     ]
    },
    {
     "name": "stdout",
     "output_type": "stream",
     "text": [
      "[I 2025-10-26 14:09:54,472] Trial 44 finished with value: 2.2767047207037825 and parameters: {'boosting_type': 'gbdt', 'max_depth': 3, 'min_child_weight': 0.5255513117658476, 'min_split_gain': 0.1016941232407826, 'learning_rate': 0.008622524446318277, 'reg_alpha': 0.012342417973228754, 'reg_lambda': 0.001523422644788774, 'subsample': 0.7581988265863253, 'colsample_bytree': 0.65607553584389, 'subsample_freq': 5, 'n_estimators': 603, 'num_leaves': 140, 'max_bin': 423, 'feature_fraction': 0.881812966283144}. Best is trial 38 with value: 2.263787859316132.\n"
     ]
    },
    {
     "name": "stderr",
     "output_type": "stream",
     "text": [
      "Best trial: 38. Best value: 2.26379:  92%|█████████▏| 46/50 [17:41<00:47, 11.78s/it]"
     ]
    },
    {
     "name": "stdout",
     "output_type": "stream",
     "text": [
      "[I 2025-10-26 14:10:02,018] Trial 45 finished with value: 2.269414108075456 and parameters: {'boosting_type': 'gbdt', 'max_depth': 3, 'min_child_weight': 0.4496014485988524, 'min_split_gain': 0.09538150929878349, 'learning_rate': 0.009101852259489562, 'reg_alpha': 0.0017383401891222358, 'reg_lambda': 0.0014585569925813602, 'subsample': 0.6991248112785796, 'colsample_bytree': 0.6546148913868096, 'subsample_freq': 5, 'n_estimators': 528, 'num_leaves': 145, 'max_bin': 367, 'feature_fraction': 0.8824842020601769}. Best is trial 38 with value: 2.263787859316132.\n"
     ]
    },
    {
     "name": "stderr",
     "output_type": "stream",
     "text": [
      "Best trial: 38. Best value: 2.26379:  94%|█████████▍| 47/50 [17:49<00:32, 10.71s/it]"
     ]
    },
    {
     "name": "stdout",
     "output_type": "stream",
     "text": [
      "[I 2025-10-26 14:10:10,218] Trial 46 finished with value: 2.2996785199859957 and parameters: {'boosting_type': 'gbdt', 'max_depth': 3, 'min_child_weight': 0.4785675639757138, 'min_split_gain': 0.10541773851517292, 'learning_rate': 0.015572366242276247, 'reg_alpha': 0.001955505175481505, 'reg_lambda': 0.009042180706193972, 'subsample': 0.6915856996784677, 'colsample_bytree': 0.6555977513452197, 'subsample_freq': 5, 'n_estimators': 605, 'num_leaves': 143, 'max_bin': 360, 'feature_fraction': 0.8844907914464238}. Best is trial 38 with value: 2.263787859316132.\n"
     ]
    },
    {
     "name": "stderr",
     "output_type": "stream",
     "text": [
      "Best trial: 38. Best value: 2.26379:  96%|█████████▌| 48/50 [18:02<00:22, 11.44s/it]"
     ]
    },
    {
     "name": "stdout",
     "output_type": "stream",
     "text": [
      "[I 2025-10-26 14:10:23,380] Trial 47 finished with value: 2.2706015366636993 and parameters: {'boosting_type': 'gbdt', 'max_depth': 3, 'min_child_weight': 0.07124338182311717, 'min_split_gain': 0.03138603342859314, 'learning_rate': 0.005005269780499635, 'reg_alpha': 0.0005112960078429123, 'reg_lambda': 0.00314450270072662, 'subsample': 0.7598721011918322, 'colsample_bytree': 0.6938005639735986, 'subsample_freq': 4, 'n_estimators': 830, 'num_leaves': 147, 'max_bin': 331, 'feature_fraction': 0.8551373600887916}. Best is trial 38 with value: 2.263787859316132.\n"
     ]
    },
    {
     "name": "stderr",
     "output_type": "stream",
     "text": [
      "Best trial: 38. Best value: 2.26379:  98%|█████████▊| 49/50 [18:37<00:18, 18.49s/it]"
     ]
    },
    {
     "name": "stdout",
     "output_type": "stream",
     "text": [
      "[I 2025-10-26 14:10:58,298] Trial 48 finished with value: 3.0027868783875338 and parameters: {'boosting_type': 'dart', 'max_depth': 3, 'min_child_weight': 0.04223350432073095, 'min_split_gain': 0.02848577504214242, 'learning_rate': 0.009275600457696374, 'reg_alpha': 0.0002891790569924796, 'reg_lambda': 0.002416741467994024, 'subsample': 0.7540790375924444, 'colsample_bytree': 0.7132816515204703, 'subsample_freq': 4, 'n_estimators': 940, 'num_leaves': 147, 'max_bin': 301, 'feature_fraction': 0.8323688422687402, 'drop_rate': 0.3886137334721955, 'skip_drop': 0.6967285097125954}. Best is trial 38 with value: 2.263787859316132.\n"
     ]
    },
    {
     "name": "stderr",
     "output_type": "stream",
     "text": [
      "Best trial: 38. Best value: 2.26379: 100%|██████████| 50/50 [18:56<00:00, 22.73s/it]"
     ]
    },
    {
     "name": "stdout",
     "output_type": "stream",
     "text": [
      "[I 2025-10-26 14:11:17,473] Trial 49 finished with value: 2.5202830785918096 and parameters: {'boosting_type': 'gbdt', 'max_depth': 3, 'min_child_weight': 0.11038833009158293, 'min_split_gain': 0.061782727686838956, 'learning_rate': 0.0880661702048726, 'reg_alpha': 0.0007680226413252077, 'reg_lambda': 0.17537139329102544, 'subsample': 0.6551447434450544, 'colsample_bytree': 0.9409237687843819, 'subsample_freq': 4, 'n_estimators': 1197, 'num_leaves': 137, 'max_bin': 331, 'feature_fraction': 0.866608472807292}. Best is trial 38 with value: 2.263787859316132.\n",
      "Best parameters: {'boosting_type': 'gbdt', 'max_depth': 5, 'min_child_weight': 0.5799864138381812, 'min_split_gain': 0.10002020226987698, 'learning_rate': 0.00633897126337854, 'reg_alpha': 1.1721362181810486e-05, 'reg_lambda': 0.0028486856885010254, 'subsample': 0.6639756444298484, 'colsample_bytree': 0.720617007970321, 'subsample_freq': 6, 'n_estimators': 539, 'num_leaves': 133, 'max_bin': 413, 'feature_fraction': 0.925618002124027}\n",
      "Best R2 (from Optuna CV): 2.263787859316132\n"
     ]
    },
    {
     "name": "stderr",
     "output_type": "stream",
     "text": [
      "\n"
     ]
    }
   ],
   "source": [
    "# === 3. Chạy Optuna cho Gradient Boosting ===\n",
    "study_grad = optuna.create_study(\n",
    "    direction='minimize',\n",
    "    sampler=sampler\n",
    ")\n",
    "study_grad.optimize(objective, n_trials=50, show_progress_bar=True)\n",
    "\n",
    "# === 4. In kết quả tốt nhất (Không đổi) ===\n",
    "print(\"Best parameters:\", study_grad.best_trial.params)\n",
    "print(\"Best R2 (from Optuna CV):\", study_grad.best_value)\n",
    "# task_grad.upload_artifact(\"Best Parameters\", study_grad.best_trial.params)"
   ]
  },
  {
   "cell_type": "code",
   "execution_count": 36,
   "id": "749e20f4",
   "metadata": {},
   "outputs": [
    {
     "name": "stdout",
     "output_type": "stream",
     "text": [
      "Best Model - Validation metrics (average): {'RMSE': 2.3933413529972865, 'R2': 0.7745905147433437, 'MAPE': 8.831995756348775}\n",
      "Best Model - Test metrics (average): {'RMSE': 1.8683812745306416, 'R2': 0.8345628254448123, 'MAPE': 6.142298263287459}\n",
      "Best Model - Train metrics (average): {'RMSE': 1.6211098814902147, 'R2': 0.8981529097080241, 'MAPE': 5.7187985480385155}\n"
     ]
    }
   ],
   "source": [
    "# === 4 Log kết quả tổng hợp ===\n",
    "task_grad.upload_artifact(\"Best Parameters\", study_grad.best_trial.params)\n",
    "\n",
    "# Fit lại mô hình với best params\n",
    "best_params = study_grad.best_trial.params\n",
    "best_base_model = LGBMRegressor(**best_params)\n",
    "best_model_grad = MultiOutputRegressor(estimator=best_base_model, n_jobs=-1)\n",
    "best_model_grad.fit(X_train_sel, y_train)\n",
    "\n",
    "# Predict\n",
    "y_pred_val = best_model_grad.predict(X_val_sel)\n",
    "y_pred_test = best_model_grad.predict(X_test_sel)\n",
    "y_pred_train = best_model_grad.predict(X_train_sel)\n",
    "\n",
    "# Evaluate on validation\n",
    "bestGrad_val_metrics = evaluate_multi_output(y_val, y_pred_val)\n",
    "print(\"Best Model - Validation metrics (average):\", bestGrad_val_metrics[\"average\"])\n",
    "\n",
    "# Evaluate on test\n",
    "bestGrad_test_metrics = evaluate_multi_output(y_test, y_pred_test)\n",
    "print(\"Best Model - Test metrics (average):\", bestGrad_test_metrics[\"average\"])\n",
    "\n",
    "# Evaluate on train\n",
    "bestGrad_train_metrics = evaluate_multi_output(y_train, y_pred_train)\n",
    "print(\"Best Model - Train metrics (average):\", bestGrad_train_metrics[\"average\"])\n"
   ]
  },
  {
   "cell_type": "code",
   "execution_count": 37,
   "id": "2406c924",
   "metadata": {},
   "outputs": [
    {
     "name": "stdout",
     "output_type": "stream",
     "text": [
      "lgb model saved to models/Tuning_lgb_model.pkl\n"
     ]
    },
    {
     "data": {
      "text/plain": [
       "True"
      ]
     },
     "execution_count": 37,
     "metadata": {},
     "output_type": "execute_result"
    }
   ],
   "source": [
    "\n",
    "\n",
    "# 6 Log lên ClearML\n",
    "val_avg_metrics = bestGrad_val_metrics[\"average\"]\n",
    "test_avg_metrics = bestGrad_test_metrics[\"average\"]\n",
    "logger_grad.report_scalar(\"Best Metrics\", \"RMSE_val_avg\", val_avg_metrics[\"RMSE\"], iteration=0)\n",
    "logger_grad.report_scalar(\"Best Metrics\", \"R2_val_avg\", val_avg_metrics[\"R2\"], iteration=0)\n",
    "logger_grad.report_scalar(\"Best Metrics\", \"MAPE_val_avg\", val_avg_metrics[\"MAPE\"], iteration=0)\n",
    "logger_grad.report_scalar(\"Best Metrics\", \"RMSE_test_avg\", test_avg_metrics[\"RMSE\"], iteration=0)\n",
    "logger_grad.report_scalar(\"Best Metrics\", \"R2_test_avg\", test_avg_metrics[\"R2\"], iteration=0)\n",
    "logger_grad.report_scalar(\"Best Metrics\", \"MAPE_test_avg\", test_avg_metrics[\"MAPE\"], iteration=0)\n",
    "logger_grad.report_scalar(\"Best Metrics\", \"RMSE_train_avg\", train_avg_metrics[\"RMSE\"], iteration=0)\n",
    "logger_grad.report_scalar(\"Best Metrics\", \"R2_train_avg\", train_avg_metrics[\"R2\"], iteration=0)\n",
    "logger_grad.report_scalar(\"Best Metrics\", \"MAPE_train_avg\", train_avg_metrics[\"MAPE\"], iteration=0)\n",
    "\n",
    "\n",
    "task_grad.upload_artifact(\"Best Metrics Detailed\", {\n",
    "    \"Validation\": bestGrad_val_metrics,\n",
    "    \"Test\": bestGrad_test_metrics,\n",
    "    \"Train\": bestGrad_train_metrics\n",
    "})\n",
    "\n",
    "# Save & upload model\n",
    "model_path = r'models/Tuning_lgb_model.pkl' \n",
    "joblib.dump(best_model_grad, model_path)\n",
    "print(f\"lgb model saved to {model_path}\")\n",
    "task_grad.upload_artifact(\"Best Model\", model_path)"
   ]
  },
  {
   "cell_type": "code",
   "execution_count": null,
   "id": "bab07e02",
   "metadata": {},
   "outputs": [],
   "source": [
    "# === Vẽ biểu đồ RMSE theo trial  ===\n",
    "fig3 = plt.figure(figsize=(7, 4))\n",
    "plt.plot([t.value for t in study_grad.trials])\n",
    "plt.xlabel(\"Trial\")\n",
    "plt.ylabel(\"RMSE\")\n",
    "plt.title(\"Optuna RMSE per Trial\")\n",
    "\n",
    "logger_grad.report_matplotlib_figure(\n",
    "    title=\"Optuna Performance\", \n",
    "    series=\"RMSE Curve\", \n",
    "    figure=fig3,\n",
    "    iteration=len(study_grad.trials)\n",
    ")\n",
    "plt.close(fig3)\n"
   ]
  },
  {
   "cell_type": "code",
   "execution_count": null,
   "id": "5c669a16",
   "metadata": {},
   "outputs": [
    {
     "data": {
      "application/vnd.plotly.v1+json": {
       "config": {
        "plotlyServerURL": "https://plot.ly"
       },
       "data": [
        {
         "dimensions": [
          {
           "label": "Objective Value",
           "range": [
            1.3989692673289948,
            2.4720411345010738
           ],
           "values": [
            1.4863147028145829,
            1.4908754994232234,
            2.4720411345010738,
            1.5107641903379692,
            1.6108550976932698,
            1.499775649309202,
            2.1058391691553155,
            1.6539894161434823,
            1.5169168516255227,
            1.5279618020326577,
            1.6752326344307495,
            2.3494171484590063,
            2.2701829979476003,
            1.566765043071403,
            1.6532953605913079,
            1.4778760191775053,
            1.498859101365022,
            1.7714299111274674,
            1.470151062287423,
            1.4915629842944529,
            1.5412141081374862,
            1.4430685665541703,
            1.5063516139576187,
            1.44824721814418,
            1.4596951245013874,
            1.5822489797672072,
            1.4134946988793318,
            1.430972085809558,
            1.4204438217775752,
            1.4159482608965654,
            1.4689409908707027,
            1.479083388359737,
            1.5219268477073444,
            1.4495819166254678,
            1.49462811227591,
            2.181200498786377,
            1.6959126568295577,
            1.5705453660261384,
            1.449622197078277,
            1.432871351756733,
            1.823319197664055,
            1.4349489988989803,
            1.4386493219478083,
            1.4224037031403263,
            1.411309764723942,
            1.4070521887918317,
            1.5163070692953606,
            1.3989692673289948,
            1.4233916548519843,
            1.4016791580472634
           ]
          },
          {
           "label": "boosting_type",
           "range": [
            0,
            1
           ],
           "ticktext": [
            "dart",
            "gbdt"
           ],
           "tickvals": [
            0,
            1
           ],
           "values": [
            0,
            1,
            0,
            1,
            1,
            1,
            0,
            0,
            1,
            1,
            0,
            0,
            0,
            1,
            1,
            0,
            0,
            0,
            0,
            0,
            0,
            0,
            0,
            0,
            0,
            0,
            0,
            0,
            0,
            0,
            0,
            0,
            0,
            0,
            0,
            0,
            0,
            0,
            0,
            1,
            0,
            1,
            1,
            1,
            1,
            1,
            1,
            1,
            1,
            1
           ]
          },
          {
           "label": "colsample_bytree",
           "range": [
            0.6071671404828094,
            0.999765397635074
           ],
           "values": [
            0.9464704583099741,
            0.7164916560792167,
            0.6682096494749166,
            0.9637281608315128,
            0.9687496940092467,
            0.9208787923016158,
            0.6463476238100518,
            0.885297914889198,
            0.8034282764658811,
            0.9485842360750871,
            0.8429766247021808,
            0.7212469371140328,
            0.7194931911822587,
            0.7493033372902733,
            0.821013689145996,
            0.6108876105564788,
            0.6071671404828094,
            0.8693386818617739,
            0.77261186545444,
            0.7630637446397985,
            0.6083775269940522,
            0.999765397635074,
            0.6690835669279216,
            0.996391065514728,
            0.9965396517305088,
            0.9978396703753349,
            0.9945773447130791,
            0.9090001686615082,
            0.8895927552592268,
            0.9079758732666887,
            0.9167461746837806,
            0.9096174022604196,
            0.867713835102797,
            0.8903770112510566,
            0.935173876003438,
            0.9615604080647413,
            0.8434203296216597,
            0.8956318947099702,
            0.9354225907671102,
            0.9739568592961354,
            0.861212013523947,
            0.9705120800110825,
            0.9701545682463238,
            0.9372958193486566,
            0.9455355318857205,
            0.9442882052828938,
            0.9550831361452148,
            0.9252253602325122,
            0.9255330774471571,
            0.9806658907338454
           ]
          },
          {
           "label": "learning_rate",
           "range": [
            -1.9669289536423475,
            -0.7004500894869623
           ],
           "ticktext": [
            "0.0108",
            "0.1",
            "0.199"
           ],
           "tickvals": [
            -1.9669289536423475,
            -1,
            -0.7004500894869623
           ],
           "values": [
            -1.0476539250590473,
            -1.7634402637029423,
            -1.7402184200642985,
            -1.1097923084837358,
            -0.7385413159436135,
            -0.9217876420614868,
            -1.0803573929988814,
            -1.0507604769604146,
            -1.9669289536423475,
            -1.623024668471968,
            -1.3841869570201886,
            -1.3898407276736895,
            -1.619539613091994,
            -1.2542613247896248,
            -1.9643386896761317,
            -0.7474430696968363,
            -0.8086249880007901,
            -0.8971833451590404,
            -0.7123289755902323,
            -0.720958179026201,
            -0.8994487184631244,
            -0.7004500894869623,
            -0.7029216970284973,
            -0.8628653796212684,
            -0.8401962180253241,
            -1.2288409653184162,
            -0.8505564383853607,
            -0.9220032125048779,
            -0.9841964290706999,
            -0.9800479149128307,
            -0.9869185092282671,
            -1.1714407817285906,
            -0.9804414801965313,
            -0.993953867315335,
            -1.1684653591154928,
            -1.2879276975193445,
            -1.1329681620980272,
            -0.9680268484166277,
            -1.04686274893792,
            -0.7931546079791556,
            -1.4666207689664623,
            -0.7970678063515749,
            -0.7903328922627718,
            -0.9473614962279004,
            -1.0630498812749252,
            -1.0731625520236856,
            -1.0619415728527395,
            -1.1156618619236993,
            -1.109577557317268,
            -1.0393157915306528
           ]
          },
          {
           "label": "max_depth",
           "range": [
            3,
            15
           ],
           "values": [
            5,
            6,
            10,
            4,
            15,
            6,
            13,
            14,
            3,
            15,
            10,
            7,
            6,
            8,
            5,
            3,
            3,
            4,
            9,
            12,
            11,
            8,
            9,
            8,
            8,
            8,
            8,
            7,
            7,
            7,
            7,
            7,
            5,
            6,
            10,
            9,
            7,
            5,
            6,
            9,
            7,
            10,
            11,
            9,
            7,
            6,
            4,
            6,
            6,
            5
           ]
          },
          {
           "label": "min_child_samples",
           "range": [
            10,
            79
           ],
           "values": [
            21,
            47,
            13,
            45,
            73,
            48,
            15,
            43,
            55,
            67,
            29,
            29,
            28,
            59,
            37,
            21,
            21,
            10,
            21,
            36,
            37,
            21,
            20,
            18,
            26,
            27,
            15,
            14,
            10,
            10,
            10,
            14,
            10,
            16,
            14,
            24,
            79,
            32,
            13,
            18,
            13,
            17,
            17,
            10,
            10,
            10,
            49,
            12,
            24,
            13
           ]
          },
          {
           "label": "min_split_gain",
           "range": [
            0.002158868305769243,
            0.4828160165372797
           ],
           "values": [
            0.010292247147901223,
            0.14607232426760908,
            0.4828160165372797,
            0.15585553804470548,
            0.022613644455269033,
            0.3861223846483287,
            0.1654490124263246,
            0.3854835899772805,
            0.20519146151781487,
            0.4462794992449889,
            0.006155584782468748,
            0.08392688191506598,
            0.2740969511329092,
            0.08670816521812702,
            0.2912554411220168,
            0.07923357651539556,
            0.07123279376566437,
            0.002158868305769243,
            0.06316722606155481,
            0.22338686470822428,
            0.09638902907346464,
            0.04838231053053983,
            0.05920456345236827,
            0.13120894017281,
            0.1300335713061887,
            0.13080594279136698,
            0.20005732929509631,
            0.19643507447118225,
            0.3223834581985875,
            0.34494231321702096,
            0.3279735942449057,
            0.333502487894339,
            0.2471993508503216,
            0.19274900807756928,
            0.32836080644527244,
            0.38072627059366493,
            0.2886673081592863,
            0.437419168654628,
            0.2454121803307641,
            0.17827430908328037,
            0.36017372973854034,
            0.1919751787329094,
            0.1695111330623387,
            0.2329056891744019,
            0.22285779388579466,
            0.2685967998200103,
            0.2709055180422534,
            0.41201386085635777,
            0.4810003545298027,
            0.42007812019454893
           ]
          },
          {
           "label": "n_estimators",
           "range": [
            203,
            994
           ],
           "values": [
            976,
            493,
            847,
            616,
            460,
            359,
            250,
            595,
            805,
            632,
            994,
            476,
            775,
            984,
            203,
            488,
            683,
            363,
            906,
            881,
            691,
            885,
            923,
            775,
            759,
            740,
            819,
            833,
            831,
            823,
            708,
            832,
            921,
            820,
            877,
            573,
            951,
            542,
            847,
            639,
            725,
            637,
            812,
            658,
            786,
            783,
            791,
            944,
            959,
            866
           ]
          },
          {
           "label": "num_leaves",
           "range": [
            37,
            256
           ],
           "values": [
            166,
            72,
            147,
            130,
            206,
            111,
            195,
            175,
            55,
            67,
            250,
            95,
            37,
            164,
            92,
            240,
            256,
            222,
            231,
            229,
            195,
            237,
            233,
            215,
            208,
            203,
            214,
            183,
            183,
            177,
            150,
            176,
            183,
            160,
            189,
            121,
            142,
            175,
            138,
            158,
            203,
            157,
            170,
            185,
            188,
            194,
            216,
            201,
            199,
            214
           ]
          },
          {
           "label": "reg_alpha",
           "range": [
            -3.997220059079688,
            -0.034891215425603
           ],
           "ticktext": [
            "0.000101",
            "0.001",
            "0.01",
            "0.1",
            "0.923"
           ],
           "tickvals": [
            -3.997220059079688,
            -3,
            -2,
            -1,
            -0.034891215425603
           ],
           "values": [
            -1.5955399530271643,
            -1.552588421110482,
            -3.7397936280588815,
            -2.964880073599932,
            -3.6460299917923216,
            -3.7017974252809163,
            -0.5475862964976257,
            -0.9568598055324101,
            -0.3697341042956275,
            -0.7853116924035419,
            -2.4301884315894697,
            -1.459314593579402,
            -1.731788672159107,
            -2.3463436012291488,
            -1.411214003464452,
            -2.149076028926894,
            -2.8574543428429995,
            -0.034891215425603,
            -2.238279550074741,
            -2.171595429072695,
            -2.873787347026538,
            -1.8889887417754319,
            -1.9745532770425263,
            -2.5533956520277865,
            -3.263035744089118,
            -2.658042317535066,
            -3.319335030111005,
            -3.426527689441695,
            -3.978165698490747,
            -3.334129862544216,
            -3.974004631933364,
            -3.3176852401087347,
            -3.179922287599035,
            -3.997220059079688,
            -3.3883927981154636,
            -3.504724476704315,
            -3.114481125179922,
            -3.661718121800998,
            -3.830777290067035,
            -3.519733621823294,
            -3.8040273241802365,
            -3.560293236390995,
            -3.0359911826562977,
            -3.413311994761081,
            -3.395485413882314,
            -2.6557324564115157,
            -2.727684340459927,
            -2.996526888575425,
            -2.9795335603290947,
            -2.7893105111843406
           ]
          },
          {
           "label": "reg_lambda",
           "range": [
            -3.9725945841346038,
            -0.05245225359793109
           ],
           "ticktext": [
            "0.000107",
            "0.001",
            "0.01",
            "0.1",
            "0.886"
           ],
           "tickvals": [
            -3.9725945841346038,
            -3,
            -2,
            -1,
            -0.05245225359793109
           ],
           "values": [
            -1.167709688815818,
            -3.442024557391832,
            -0.2044578509866667,
            -1.349910862584072,
            -3.2160685503234188,
            -0.05245225359793109,
            -1.506807492689768,
            -1.7548912097220148,
            -3.0028310834045,
            -3.253719764455856,
            -0.8654815154039324,
            -3.9725945841346038,
            -2.368564672180181,
            -2.3381508962805166,
            -0.8139923763104925,
            -2.5094567610908705,
            -2.4489674352694437,
            -0.9556445391332038,
            -1.8895172566121754,
            -2.0837622657673256,
            -2.772336405487489,
            -1.909816228707568,
            -1.8400659159478008,
            -2.6760888506131333,
            -2.070401169038728,
            -2.698968438691092,
            -2.0773413686837188,
            -1.571105695989977,
            -1.596406305399273,
            -1.51758789051824,
            -0.5479379035295595,
            -1.4550367173292986,
            -1.2069721883780082,
            -1.4758007918368192,
            -1.6920059620654546,
            -1.1663802565249992,
            -2.194599707749963,
            -0.5378232033116831,
            -1.1313344456025183,
            -1.637509459376571,
            -1.2913519514239487,
            -1.6600197109623254,
            -1.5923363057410065,
            -1.433931979216861,
            -1.3839531321032832,
            -0.5266555572900742,
            -0.1365663718807295,
            -0.6546967898521773,
            -0.4509486718721748,
            -0.3276151665387482
           ]
          },
          {
           "label": "subsample",
           "range": [
            0.6137554084460873,
            0.9995619821442252
           ],
           "values": [
            0.6232334448672797,
            0.7727780074568463,
            0.8430179407605753,
            0.6137554084460873,
            0.8391599915244341,
            0.6563696899899051,
            0.7433862914177091,
            0.6478376983753207,
            0.7257423924305306,
            0.8533615026041694,
            0.9630659181130071,
            0.9449928303190905,
            0.7371197153065265,
            0.7848459033604512,
            0.6794314531372452,
            0.9055232698584534,
            0.9134163635596473,
            0.8971557272342445,
            0.8910149050713664,
            0.9888888512796228,
            0.8871975834497375,
            0.8198626169348786,
            0.8185441514544223,
            0.8726636369733805,
            0.872373633658566,
            0.8129785994005747,
            0.8660425740553701,
            0.9211900858673087,
            0.9216754848706628,
            0.9396199877363662,
            0.948048809071911,
            0.9248504582953709,
            0.9930604644837789,
            0.963002312305786,
            0.940192062850453,
            0.925757938729836,
            0.8615824450684234,
            0.9711079397392529,
            0.8398526153620891,
            0.9275313775558213,
            0.8841776767106696,
            0.9283739776578621,
            0.9106271162927018,
            0.9777313476152104,
            0.978353327728404,
            0.964411573462511,
            0.9995619821442252,
            0.9548146618179026,
            0.9553079589007822,
            0.9783163329719329
           ]
          }
         ],
         "labelangle": 30,
         "labelside": "bottom",
         "line": {
          "color": [
           1.4863147028145829,
           1.4908754994232234,
           2.4720411345010738,
           1.5107641903379692,
           1.6108550976932698,
           1.499775649309202,
           2.1058391691553155,
           1.6539894161434823,
           1.5169168516255227,
           1.5279618020326577,
           1.6752326344307495,
           2.3494171484590063,
           2.2701829979476003,
           1.566765043071403,
           1.6532953605913079,
           1.4778760191775053,
           1.498859101365022,
           1.7714299111274674,
           1.470151062287423,
           1.4915629842944529,
           1.5412141081374862,
           1.4430685665541703,
           1.5063516139576187,
           1.44824721814418,
           1.4596951245013874,
           1.5822489797672072,
           1.4134946988793318,
           1.430972085809558,
           1.4204438217775752,
           1.4159482608965654,
           1.4689409908707027,
           1.479083388359737,
           1.5219268477073444,
           1.4495819166254678,
           1.49462811227591,
           2.181200498786377,
           1.6959126568295577,
           1.5705453660261384,
           1.449622197078277,
           1.432871351756733,
           1.823319197664055,
           1.4349489988989803,
           1.4386493219478083,
           1.4224037031403263,
           1.411309764723942,
           1.4070521887918317,
           1.5163070692953606,
           1.3989692673289948,
           1.4233916548519843,
           1.4016791580472634
          ],
          "colorbar": {
           "title": {
            "text": "Objective Value"
           }
          },
          "colorscale": [
           [
            0,
            "rgb(247,251,255)"
           ],
           [
            0.125,
            "rgb(222,235,247)"
           ],
           [
            0.25,
            "rgb(198,219,239)"
           ],
           [
            0.375,
            "rgb(158,202,225)"
           ],
           [
            0.5,
            "rgb(107,174,214)"
           ],
           [
            0.625,
            "rgb(66,146,198)"
           ],
           [
            0.75,
            "rgb(33,113,181)"
           ],
           [
            0.875,
            "rgb(8,81,156)"
           ],
           [
            1,
            "rgb(8,48,107)"
           ]
          ],
          "reversescale": true,
          "showscale": true
         },
         "type": "parcoords"
        }
       ],
       "layout": {
        "template": {
         "data": {
          "bar": [
           {
            "error_x": {
             "color": "#2a3f5f"
            },
            "error_y": {
             "color": "#2a3f5f"
            },
            "marker": {
             "line": {
              "color": "#E5ECF6",
              "width": 0.5
             },
             "pattern": {
              "fillmode": "overlay",
              "size": 10,
              "solidity": 0.2
             }
            },
            "type": "bar"
           }
          ],
          "barpolar": [
           {
            "marker": {
             "line": {
              "color": "#E5ECF6",
              "width": 0.5
             },
             "pattern": {
              "fillmode": "overlay",
              "size": 10,
              "solidity": 0.2
             }
            },
            "type": "barpolar"
           }
          ],
          "carpet": [
           {
            "aaxis": {
             "endlinecolor": "#2a3f5f",
             "gridcolor": "white",
             "linecolor": "white",
             "minorgridcolor": "white",
             "startlinecolor": "#2a3f5f"
            },
            "baxis": {
             "endlinecolor": "#2a3f5f",
             "gridcolor": "white",
             "linecolor": "white",
             "minorgridcolor": "white",
             "startlinecolor": "#2a3f5f"
            },
            "type": "carpet"
           }
          ],
          "choropleth": [
           {
            "colorbar": {
             "outlinewidth": 0,
             "ticks": ""
            },
            "type": "choropleth"
           }
          ],
          "contour": [
           {
            "colorbar": {
             "outlinewidth": 0,
             "ticks": ""
            },
            "colorscale": [
             [
              0,
              "#0d0887"
             ],
             [
              0.1111111111111111,
              "#46039f"
             ],
             [
              0.2222222222222222,
              "#7201a8"
             ],
             [
              0.3333333333333333,
              "#9c179e"
             ],
             [
              0.4444444444444444,
              "#bd3786"
             ],
             [
              0.5555555555555556,
              "#d8576b"
             ],
             [
              0.6666666666666666,
              "#ed7953"
             ],
             [
              0.7777777777777778,
              "#fb9f3a"
             ],
             [
              0.8888888888888888,
              "#fdca26"
             ],
             [
              1,
              "#f0f921"
             ]
            ],
            "type": "contour"
           }
          ],
          "contourcarpet": [
           {
            "colorbar": {
             "outlinewidth": 0,
             "ticks": ""
            },
            "type": "contourcarpet"
           }
          ],
          "heatmap": [
           {
            "colorbar": {
             "outlinewidth": 0,
             "ticks": ""
            },
            "colorscale": [
             [
              0,
              "#0d0887"
             ],
             [
              0.1111111111111111,
              "#46039f"
             ],
             [
              0.2222222222222222,
              "#7201a8"
             ],
             [
              0.3333333333333333,
              "#9c179e"
             ],
             [
              0.4444444444444444,
              "#bd3786"
             ],
             [
              0.5555555555555556,
              "#d8576b"
             ],
             [
              0.6666666666666666,
              "#ed7953"
             ],
             [
              0.7777777777777778,
              "#fb9f3a"
             ],
             [
              0.8888888888888888,
              "#fdca26"
             ],
             [
              1,
              "#f0f921"
             ]
            ],
            "type": "heatmap"
           }
          ],
          "histogram": [
           {
            "marker": {
             "pattern": {
              "fillmode": "overlay",
              "size": 10,
              "solidity": 0.2
             }
            },
            "type": "histogram"
           }
          ],
          "histogram2d": [
           {
            "colorbar": {
             "outlinewidth": 0,
             "ticks": ""
            },
            "colorscale": [
             [
              0,
              "#0d0887"
             ],
             [
              0.1111111111111111,
              "#46039f"
             ],
             [
              0.2222222222222222,
              "#7201a8"
             ],
             [
              0.3333333333333333,
              "#9c179e"
             ],
             [
              0.4444444444444444,
              "#bd3786"
             ],
             [
              0.5555555555555556,
              "#d8576b"
             ],
             [
              0.6666666666666666,
              "#ed7953"
             ],
             [
              0.7777777777777778,
              "#fb9f3a"
             ],
             [
              0.8888888888888888,
              "#fdca26"
             ],
             [
              1,
              "#f0f921"
             ]
            ],
            "type": "histogram2d"
           }
          ],
          "histogram2dcontour": [
           {
            "colorbar": {
             "outlinewidth": 0,
             "ticks": ""
            },
            "colorscale": [
             [
              0,
              "#0d0887"
             ],
             [
              0.1111111111111111,
              "#46039f"
             ],
             [
              0.2222222222222222,
              "#7201a8"
             ],
             [
              0.3333333333333333,
              "#9c179e"
             ],
             [
              0.4444444444444444,
              "#bd3786"
             ],
             [
              0.5555555555555556,
              "#d8576b"
             ],
             [
              0.6666666666666666,
              "#ed7953"
             ],
             [
              0.7777777777777778,
              "#fb9f3a"
             ],
             [
              0.8888888888888888,
              "#fdca26"
             ],
             [
              1,
              "#f0f921"
             ]
            ],
            "type": "histogram2dcontour"
           }
          ],
          "mesh3d": [
           {
            "colorbar": {
             "outlinewidth": 0,
             "ticks": ""
            },
            "type": "mesh3d"
           }
          ],
          "parcoords": [
           {
            "line": {
             "colorbar": {
              "outlinewidth": 0,
              "ticks": ""
             }
            },
            "type": "parcoords"
           }
          ],
          "pie": [
           {
            "automargin": true,
            "type": "pie"
           }
          ],
          "scatter": [
           {
            "fillpattern": {
             "fillmode": "overlay",
             "size": 10,
             "solidity": 0.2
            },
            "type": "scatter"
           }
          ],
          "scatter3d": [
           {
            "line": {
             "colorbar": {
              "outlinewidth": 0,
              "ticks": ""
             }
            },
            "marker": {
             "colorbar": {
              "outlinewidth": 0,
              "ticks": ""
             }
            },
            "type": "scatter3d"
           }
          ],
          "scattercarpet": [
           {
            "marker": {
             "colorbar": {
              "outlinewidth": 0,
              "ticks": ""
             }
            },
            "type": "scattercarpet"
           }
          ],
          "scattergeo": [
           {
            "marker": {
             "colorbar": {
              "outlinewidth": 0,
              "ticks": ""
             }
            },
            "type": "scattergeo"
           }
          ],
          "scattergl": [
           {
            "marker": {
             "colorbar": {
              "outlinewidth": 0,
              "ticks": ""
             }
            },
            "type": "scattergl"
           }
          ],
          "scattermap": [
           {
            "marker": {
             "colorbar": {
              "outlinewidth": 0,
              "ticks": ""
             }
            },
            "type": "scattermap"
           }
          ],
          "scattermapbox": [
           {
            "marker": {
             "colorbar": {
              "outlinewidth": 0,
              "ticks": ""
             }
            },
            "type": "scattermapbox"
           }
          ],
          "scatterpolar": [
           {
            "marker": {
             "colorbar": {
              "outlinewidth": 0,
              "ticks": ""
             }
            },
            "type": "scatterpolar"
           }
          ],
          "scatterpolargl": [
           {
            "marker": {
             "colorbar": {
              "outlinewidth": 0,
              "ticks": ""
             }
            },
            "type": "scatterpolargl"
           }
          ],
          "scatterternary": [
           {
            "marker": {
             "colorbar": {
              "outlinewidth": 0,
              "ticks": ""
             }
            },
            "type": "scatterternary"
           }
          ],
          "surface": [
           {
            "colorbar": {
             "outlinewidth": 0,
             "ticks": ""
            },
            "colorscale": [
             [
              0,
              "#0d0887"
             ],
             [
              0.1111111111111111,
              "#46039f"
             ],
             [
              0.2222222222222222,
              "#7201a8"
             ],
             [
              0.3333333333333333,
              "#9c179e"
             ],
             [
              0.4444444444444444,
              "#bd3786"
             ],
             [
              0.5555555555555556,
              "#d8576b"
             ],
             [
              0.6666666666666666,
              "#ed7953"
             ],
             [
              0.7777777777777778,
              "#fb9f3a"
             ],
             [
              0.8888888888888888,
              "#fdca26"
             ],
             [
              1,
              "#f0f921"
             ]
            ],
            "type": "surface"
           }
          ],
          "table": [
           {
            "cells": {
             "fill": {
              "color": "#EBF0F8"
             },
             "line": {
              "color": "white"
             }
            },
            "header": {
             "fill": {
              "color": "#C8D4E3"
             },
             "line": {
              "color": "white"
             }
            },
            "type": "table"
           }
          ]
         },
         "layout": {
          "annotationdefaults": {
           "arrowcolor": "#2a3f5f",
           "arrowhead": 0,
           "arrowwidth": 1
          },
          "autotypenumbers": "strict",
          "coloraxis": {
           "colorbar": {
            "outlinewidth": 0,
            "ticks": ""
           }
          },
          "colorscale": {
           "diverging": [
            [
             0,
             "#8e0152"
            ],
            [
             0.1,
             "#c51b7d"
            ],
            [
             0.2,
             "#de77ae"
            ],
            [
             0.3,
             "#f1b6da"
            ],
            [
             0.4,
             "#fde0ef"
            ],
            [
             0.5,
             "#f7f7f7"
            ],
            [
             0.6,
             "#e6f5d0"
            ],
            [
             0.7,
             "#b8e186"
            ],
            [
             0.8,
             "#7fbc41"
            ],
            [
             0.9,
             "#4d9221"
            ],
            [
             1,
             "#276419"
            ]
           ],
           "sequential": [
            [
             0,
             "#0d0887"
            ],
            [
             0.1111111111111111,
             "#46039f"
            ],
            [
             0.2222222222222222,
             "#7201a8"
            ],
            [
             0.3333333333333333,
             "#9c179e"
            ],
            [
             0.4444444444444444,
             "#bd3786"
            ],
            [
             0.5555555555555556,
             "#d8576b"
            ],
            [
             0.6666666666666666,
             "#ed7953"
            ],
            [
             0.7777777777777778,
             "#fb9f3a"
            ],
            [
             0.8888888888888888,
             "#fdca26"
            ],
            [
             1,
             "#f0f921"
            ]
           ],
           "sequentialminus": [
            [
             0,
             "#0d0887"
            ],
            [
             0.1111111111111111,
             "#46039f"
            ],
            [
             0.2222222222222222,
             "#7201a8"
            ],
            [
             0.3333333333333333,
             "#9c179e"
            ],
            [
             0.4444444444444444,
             "#bd3786"
            ],
            [
             0.5555555555555556,
             "#d8576b"
            ],
            [
             0.6666666666666666,
             "#ed7953"
            ],
            [
             0.7777777777777778,
             "#fb9f3a"
            ],
            [
             0.8888888888888888,
             "#fdca26"
            ],
            [
             1,
             "#f0f921"
            ]
           ]
          },
          "colorway": [
           "#636efa",
           "#EF553B",
           "#00cc96",
           "#ab63fa",
           "#FFA15A",
           "#19d3f3",
           "#FF6692",
           "#B6E880",
           "#FF97FF",
           "#FECB52"
          ],
          "font": {
           "color": "#2a3f5f"
          },
          "geo": {
           "bgcolor": "white",
           "lakecolor": "white",
           "landcolor": "#E5ECF6",
           "showlakes": true,
           "showland": true,
           "subunitcolor": "white"
          },
          "hoverlabel": {
           "align": "left"
          },
          "hovermode": "closest",
          "mapbox": {
           "style": "light"
          },
          "paper_bgcolor": "white",
          "plot_bgcolor": "#E5ECF6",
          "polar": {
           "angularaxis": {
            "gridcolor": "white",
            "linecolor": "white",
            "ticks": ""
           },
           "bgcolor": "#E5ECF6",
           "radialaxis": {
            "gridcolor": "white",
            "linecolor": "white",
            "ticks": ""
           }
          },
          "scene": {
           "xaxis": {
            "backgroundcolor": "#E5ECF6",
            "gridcolor": "white",
            "gridwidth": 2,
            "linecolor": "white",
            "showbackground": true,
            "ticks": "",
            "zerolinecolor": "white"
           },
           "yaxis": {
            "backgroundcolor": "#E5ECF6",
            "gridcolor": "white",
            "gridwidth": 2,
            "linecolor": "white",
            "showbackground": true,
            "ticks": "",
            "zerolinecolor": "white"
           },
           "zaxis": {
            "backgroundcolor": "#E5ECF6",
            "gridcolor": "white",
            "gridwidth": 2,
            "linecolor": "white",
            "showbackground": true,
            "ticks": "",
            "zerolinecolor": "white"
           }
          },
          "shapedefaults": {
           "line": {
            "color": "#2a3f5f"
           }
          },
          "ternary": {
           "aaxis": {
            "gridcolor": "white",
            "linecolor": "white",
            "ticks": ""
           },
           "baxis": {
            "gridcolor": "white",
            "linecolor": "white",
            "ticks": ""
           },
           "bgcolor": "#E5ECF6",
           "caxis": {
            "gridcolor": "white",
            "linecolor": "white",
            "ticks": ""
           }
          },
          "title": {
           "x": 0.05
          },
          "xaxis": {
           "automargin": true,
           "gridcolor": "white",
           "linecolor": "white",
           "ticks": "",
           "title": {
            "standoff": 15
           },
           "zerolinecolor": "white",
           "zerolinewidth": 2
          },
          "yaxis": {
           "automargin": true,
           "gridcolor": "white",
           "linecolor": "white",
           "ticks": "",
           "title": {
            "standoff": 15
           },
           "zerolinecolor": "white",
           "zerolinewidth": 2
          }
         }
        },
        "title": {
         "text": "Parallel Coordinate Plot"
        }
       }
      }
     },
     "metadata": {},
     "output_type": "display_data"
    }
   ],
   "source": [
    "vis.plot_parallel_coordinate(study_grad)"
   ]
  },
  {
   "cell_type": "code",
   "execution_count": null,
   "id": "29554614",
   "metadata": {},
   "outputs": [
    {
     "ename": "ValueError",
     "evalue": "Mime type rendering requires nbformat>=4.2.0 but it is not installed",
     "output_type": "error",
     "traceback": [
      "\u001b[31m---------------------------------------------------------------------------\u001b[39m",
      "\u001b[31mValueError\u001b[39m                                Traceback (most recent call last)",
      "\u001b[36mFile \u001b[39m\u001b[32md:\\code\\Python\\DSEB_ex\\ML1\\.venv\\Lib\\site-packages\\IPython\\core\\formatters.py:984\u001b[39m, in \u001b[36mIPythonDisplayFormatter.__call__\u001b[39m\u001b[34m(self, obj)\u001b[39m\n\u001b[32m    982\u001b[39m method = get_real_method(obj, \u001b[38;5;28mself\u001b[39m.print_method)\n\u001b[32m    983\u001b[39m \u001b[38;5;28;01mif\u001b[39;00m method \u001b[38;5;129;01mis\u001b[39;00m \u001b[38;5;129;01mnot\u001b[39;00m \u001b[38;5;28;01mNone\u001b[39;00m:\n\u001b[32m--> \u001b[39m\u001b[32m984\u001b[39m     \u001b[43mmethod\u001b[49m\u001b[43m(\u001b[49m\u001b[43m)\u001b[49m\n\u001b[32m    985\u001b[39m     \u001b[38;5;28;01mreturn\u001b[39;00m \u001b[38;5;28;01mTrue\u001b[39;00m\n",
      "\u001b[36mFile \u001b[39m\u001b[32md:\\code\\Python\\DSEB_ex\\ML1\\.venv\\Lib\\site-packages\\plotly\\basedatatypes.py:850\u001b[39m, in \u001b[36mBaseFigure._ipython_display_\u001b[39m\u001b[34m(self)\u001b[39m\n\u001b[32m    847\u001b[39m \u001b[38;5;28;01mimport\u001b[39;00m\u001b[38;5;250m \u001b[39m\u001b[34;01mplotly\u001b[39;00m\u001b[34;01m.\u001b[39;00m\u001b[34;01mio\u001b[39;00m\u001b[38;5;250m \u001b[39m\u001b[38;5;28;01mas\u001b[39;00m\u001b[38;5;250m \u001b[39m\u001b[34;01mpio\u001b[39;00m\n\u001b[32m    849\u001b[39m \u001b[38;5;28;01mif\u001b[39;00m pio.renderers.render_on_display \u001b[38;5;129;01mand\u001b[39;00m pio.renderers.default:\n\u001b[32m--> \u001b[39m\u001b[32m850\u001b[39m     \u001b[43mpio\u001b[49m\u001b[43m.\u001b[49m\u001b[43mshow\u001b[49m\u001b[43m(\u001b[49m\u001b[38;5;28;43mself\u001b[39;49m\u001b[43m)\u001b[49m\n\u001b[32m    851\u001b[39m \u001b[38;5;28;01melse\u001b[39;00m:\n\u001b[32m    852\u001b[39m     \u001b[38;5;28mprint\u001b[39m(\u001b[38;5;28mrepr\u001b[39m(\u001b[38;5;28mself\u001b[39m))\n",
      "\u001b[36mFile \u001b[39m\u001b[32md:\\code\\Python\\DSEB_ex\\ML1\\.venv\\Lib\\site-packages\\plotly\\io\\_renderers.py:415\u001b[39m, in \u001b[36mshow\u001b[39m\u001b[34m(fig, renderer, validate, **kwargs)\u001b[39m\n\u001b[32m    410\u001b[39m     \u001b[38;5;28;01mraise\u001b[39;00m \u001b[38;5;167;01mValueError\u001b[39;00m(\n\u001b[32m    411\u001b[39m         \u001b[33m\"\u001b[39m\u001b[33mMime type rendering requires ipython but it is not installed\u001b[39m\u001b[33m\"\u001b[39m\n\u001b[32m    412\u001b[39m     )\n\u001b[32m    414\u001b[39m \u001b[38;5;28;01mif\u001b[39;00m \u001b[38;5;129;01mnot\u001b[39;00m nbformat \u001b[38;5;129;01mor\u001b[39;00m Version(nbformat.__version__) < Version(\u001b[33m\"\u001b[39m\u001b[33m4.2.0\u001b[39m\u001b[33m\"\u001b[39m):\n\u001b[32m--> \u001b[39m\u001b[32m415\u001b[39m     \u001b[38;5;28;01mraise\u001b[39;00m \u001b[38;5;167;01mValueError\u001b[39;00m(\n\u001b[32m    416\u001b[39m         \u001b[33m\"\u001b[39m\u001b[33mMime type rendering requires nbformat>=4.2.0 but it is not installed\u001b[39m\u001b[33m\"\u001b[39m\n\u001b[32m    417\u001b[39m     )\n\u001b[32m    419\u001b[39m display_jupyter_version_warnings()\n\u001b[32m    421\u001b[39m ipython_display.display(bundle, raw=\u001b[38;5;28;01mTrue\u001b[39;00m)\n",
      "\u001b[31mValueError\u001b[39m: Mime type rendering requires nbformat>=4.2.0 but it is not installed"
     ]
    },
    {
     "data": {
      "application/vnd.plotly.v1+json": {
       "config": {
        "plotlyServerURL": "https://plot.ly"
       },
       "data": [
        {
         "marker": {
          "color": [
           0,
           1,
           2,
           3,
           4,
           5,
           6,
           7,
           8,
           9,
           10,
           11,
           12,
           13,
           14,
           15,
           16,
           17,
           18,
           19,
           20,
           21,
           22,
           23,
           24,
           25,
           26,
           27,
           28,
           29,
           30,
           31,
           32,
           33,
           34,
           35,
           36,
           37,
           38,
           39,
           40,
           41,
           42,
           43,
           44,
           45,
           46,
           47,
           48,
           49
          ],
          "colorbar": {
           "title": {
            "text": "Trial"
           },
           "x": 1,
           "xpad": 40
          },
          "colorscale": [
           [
            0,
            "rgb(247,251,255)"
           ],
           [
            0.125,
            "rgb(222,235,247)"
           ],
           [
            0.25,
            "rgb(198,219,239)"
           ],
           [
            0.375,
            "rgb(158,202,225)"
           ],
           [
            0.5,
            "rgb(107,174,214)"
           ],
           [
            0.625,
            "rgb(66,146,198)"
           ],
           [
            0.75,
            "rgb(33,113,181)"
           ],
           [
            0.875,
            "rgb(8,81,156)"
           ],
           [
            1,
            "rgb(8,48,107)"
           ]
          ],
          "line": {
           "color": "Grey",
           "width": 0.5
          },
          "showscale": true
         },
         "mode": "markers",
         "name": "Feasible Trial",
         "showlegend": false,
         "type": "scatter",
         "x": [
          0.8712339110678275,
          0.9014234438413611,
          0.899517691011127,
          0.9421874235023117,
          0.9486886936600517,
          0.8563558350286024,
          0.8927541018358549,
          0.8661221287254004,
          0.8927107788626256,
          0.947178208272096,
          0.8528478291139971,
          0.8513553148025303,
          0.8715112163763844,
          0.8755407504889483,
          0.8740863874583386,
          0.9198507707597202,
          0.8670559496747424,
          0.8846091158324922,
          0.9163161405482261,
          0.8636088734425605,
          0.8829910613622213,
          0.8785098183876235,
          0.8627958523743791,
          0.8811442422940439,
          0.8612224802214589,
          0.8775530303842521,
          0.8865013098893159,
          0.8685304178685387,
          0.9063346246431395,
          0.8715684159158977,
          0.8584211008409289,
          0.8753548373649981,
          0.8697078520524402,
          0.8897280760582977,
          0.8927707709424861,
          0.905747012166398,
          0.9016933689976901,
          0.9130996700033748,
          0.9300449091393835,
          0.901485644292268,
          0.9080261965222004,
          0.8951874981855131,
          0.9001956436460746,
          0.8979061404922908,
          0.8980128982499493,
          0.9252256398333366,
          0.932804862427679,
          0.9244336910182035,
          0.9320163322379106,
          0.9407093101733085
         ],
         "xaxis": "x",
         "y": [
          2.3608831792247367,
          2.2820522525287616,
          2.318979126304997,
          2.2388340980678647,
          2.2569534097225974,
          2.229492403550998,
          2.3261397934918158,
          2.2148135864928276,
          2.318103891151641,
          2.2547791298803928,
          2.252198774143338,
          2.237786023098335,
          2.222565367628073,
          2.5307493070512326,
          2.2240652745890386,
          2.29553608521051,
          2.2389529783134523,
          2.2581816980912883,
          2.2395378422107144,
          2.234900660096892,
          2.518379967672704,
          2.22208513802615,
          2.367841016161326,
          2.2548665709096385,
          2.234500408344479,
          2.2410339814064644,
          2.283454395613842,
          2.270646837716169,
          2.294690368584063,
          2.296999378092976,
          2.42180070090883,
          2.222058446044877,
          2.267337575540688,
          2.221377558730074,
          2.2312876860289883,
          2.217123698579245,
          2.215990140537614,
          2.2257298756246833,
          2.225093158793382,
          2.2352416380844304,
          2.2530225886515285,
          2.2131069675604977,
          2.2168445589309247,
          2.2251290920895492,
          2.222747079077472,
          2.215792968484861,
          2.265995215493276,
          2.2340069541869476,
          2.214915918398305,
          2.2250385872599927
         ],
         "yaxis": "y"
        },
        {
         "marker": {
          "color": [
           0,
           1,
           2,
           3,
           4,
           5,
           6,
           7,
           8,
           9,
           10,
           11,
           12,
           13,
           14,
           15,
           16,
           17,
           18,
           19,
           20,
           21,
           22,
           23,
           24,
           25,
           26,
           27,
           28,
           29,
           30,
           31,
           32,
           33,
           34,
           35,
           36,
           37,
           38,
           39,
           40,
           41,
           42,
           43,
           44,
           45,
           46,
           47,
           48,
           49
          ],
          "colorbar": {
           "title": {
            "text": "Trial"
           },
           "x": 1,
           "xpad": 40
          },
          "colorscale": [
           [
            0,
            "rgb(247,251,255)"
           ],
           [
            0.125,
            "rgb(222,235,247)"
           ],
           [
            0.25,
            "rgb(198,219,239)"
           ],
           [
            0.375,
            "rgb(158,202,225)"
           ],
           [
            0.5,
            "rgb(107,174,214)"
           ],
           [
            0.625,
            "rgb(66,146,198)"
           ],
           [
            0.75,
            "rgb(33,113,181)"
           ],
           [
            0.875,
            "rgb(8,81,156)"
           ],
           [
            1,
            "rgb(8,48,107)"
           ]
          ],
          "line": {
           "color": "Grey",
           "width": 0.5
          },
          "showscale": false
         },
         "mode": "markers",
         "name": "Feasible Trial",
         "showlegend": false,
         "type": "scatter",
         "x": [
          0.1205712628744377,
          0.028145092716060652,
          0.07896186801026692,
          0.024112898115291985,
          0.011662890273931383,
          0.010189592979395137,
          0.1195960383019184,
          0.011128194768838964,
          0.08622121759478739,
          0.010239273411172712,
          0.03445639818969485,
          0.017503385288179057,
          0.01341458896888798,
          0.25584662417332554,
          0.01751622099503016,
          0.04775185206539079,
          0.01679718022476552,
          0.043004499339600426,
          0.022523637802736165,
          0.013722987188971322,
          0.28943713540306176,
          0.016929432313236223,
          0.016404129365867548,
          0.013601110430113259,
          0.022256796513877845,
          0.029829231027351327,
          0.013263053584906166,
          0.03562358778302287,
          0.021793190071613802,
          0.06487161422946844,
          0.2049601307261189,
          0.018698545659261878,
          0.014267923411607564,
          0.019667684624011045,
          0.02546554163394945,
          0.020153870969308277,
          0.01905156668431094,
          0.031907881906453016,
          0.011065856851404855,
          0.02672488336929063,
          0.04032466964837497,
          0.018215481991953993,
          0.020021147548223105,
          0.010578926048830269,
          0.020578724457406265,
          0.02685856329872164,
          0.012197473964077941,
          0.028649062394214834,
          0.015348208802267801,
          0.015541777406018944
         ],
         "xaxis": "x2",
         "y": [
          2.3608831792247367,
          2.2820522525287616,
          2.318979126304997,
          2.2388340980678647,
          2.2569534097225974,
          2.229492403550998,
          2.3261397934918158,
          2.2148135864928276,
          2.318103891151641,
          2.2547791298803928,
          2.252198774143338,
          2.237786023098335,
          2.222565367628073,
          2.5307493070512326,
          2.2240652745890386,
          2.29553608521051,
          2.2389529783134523,
          2.2581816980912883,
          2.2395378422107144,
          2.234900660096892,
          2.518379967672704,
          2.22208513802615,
          2.367841016161326,
          2.2548665709096385,
          2.234500408344479,
          2.2410339814064644,
          2.283454395613842,
          2.270646837716169,
          2.294690368584063,
          2.296999378092976,
          2.42180070090883,
          2.222058446044877,
          2.267337575540688,
          2.221377558730074,
          2.2312876860289883,
          2.217123698579245,
          2.215990140537614,
          2.2257298756246833,
          2.225093158793382,
          2.2352416380844304,
          2.2530225886515285,
          2.2131069675604977,
          2.2168445589309247,
          2.2251290920895492,
          2.222747079077472,
          2.215792968484861,
          2.265995215493276,
          2.2340069541869476,
          2.214915918398305,
          2.2250385872599927
         ],
         "yaxis": "y2"
        },
        {
         "marker": {
          "color": [
           0,
           1,
           2,
           3,
           4,
           5,
           6,
           7,
           8,
           9,
           10,
           11,
           12,
           13,
           14,
           15,
           16,
           17,
           18,
           19,
           20,
           21,
           22,
           23,
           24,
           25,
           26,
           27,
           28,
           29,
           30,
           31,
           32,
           33,
           34,
           35,
           36,
           37,
           38,
           39,
           40,
           41,
           42,
           43,
           44,
           45,
           46,
           47,
           48,
           49
          ],
          "colorbar": {
           "title": {
            "text": "Trial"
           },
           "x": 1,
           "xpad": 40
          },
          "colorscale": [
           [
            0,
            "rgb(247,251,255)"
           ],
           [
            0.125,
            "rgb(222,235,247)"
           ],
           [
            0.25,
            "rgb(198,219,239)"
           ],
           [
            0.375,
            "rgb(158,202,225)"
           ],
           [
            0.5,
            "rgb(107,174,214)"
           ],
           [
            0.625,
            "rgb(66,146,198)"
           ],
           [
            0.75,
            "rgb(33,113,181)"
           ],
           [
            0.875,
            "rgb(8,81,156)"
           ],
           [
            1,
            "rgb(8,48,107)"
           ]
          ],
          "line": {
           "color": "Grey",
           "width": 0.5
          },
          "showscale": false
         },
         "mode": "markers",
         "name": "Feasible Trial",
         "showlegend": false,
         "type": "scatter",
         "x": [
          "huber",
          "huber",
          "squared_error",
          "huber",
          "huber",
          "squared_error",
          "huber",
          "huber",
          "squared_error",
          "huber",
          "squared_error",
          "squared_error",
          "squared_error",
          "squared_error",
          "huber",
          "squared_error",
          "huber",
          "squared_error",
          "squared_error",
          "huber",
          "squared_error",
          "huber",
          "huber",
          "huber",
          "huber",
          "huber",
          "huber",
          "huber",
          "squared_error",
          "huber",
          "huber",
          "huber",
          "huber",
          "huber",
          "huber",
          "huber",
          "huber",
          "huber",
          "huber",
          "huber",
          "huber",
          "huber",
          "huber",
          "huber",
          "huber",
          "huber",
          "huber",
          "huber",
          "huber",
          "huber"
         ],
         "xaxis": "x3",
         "y": [
          2.3608831792247367,
          2.2820522525287616,
          2.318979126304997,
          2.2388340980678647,
          2.2569534097225974,
          2.229492403550998,
          2.3261397934918158,
          2.2148135864928276,
          2.318103891151641,
          2.2547791298803928,
          2.252198774143338,
          2.237786023098335,
          2.222565367628073,
          2.5307493070512326,
          2.2240652745890386,
          2.29553608521051,
          2.2389529783134523,
          2.2581816980912883,
          2.2395378422107144,
          2.234900660096892,
          2.518379967672704,
          2.22208513802615,
          2.367841016161326,
          2.2548665709096385,
          2.234500408344479,
          2.2410339814064644,
          2.283454395613842,
          2.270646837716169,
          2.294690368584063,
          2.296999378092976,
          2.42180070090883,
          2.222058446044877,
          2.267337575540688,
          2.221377558730074,
          2.2312876860289883,
          2.217123698579245,
          2.215990140537614,
          2.2257298756246833,
          2.225093158793382,
          2.2352416380844304,
          2.2530225886515285,
          2.2131069675604977,
          2.2168445589309247,
          2.2251290920895492,
          2.222747079077472,
          2.215792968484861,
          2.265995215493276,
          2.2340069541869476,
          2.214915918398305,
          2.2250385872599927
         ],
         "yaxis": "y3"
        },
        {
         "marker": {
          "color": [
           0,
           1,
           2,
           3,
           4,
           5,
           6,
           7,
           8,
           9,
           10,
           11,
           12,
           13,
           14,
           15,
           16,
           17,
           18,
           19,
           20,
           21,
           22,
           23,
           24,
           25,
           26,
           27,
           28,
           29,
           30,
           31,
           32,
           33,
           34,
           35,
           36,
           37,
           38,
           39,
           40,
           41,
           42,
           43,
           44,
           45,
           46,
           47,
           48,
           49
          ],
          "colorbar": {
           "title": {
            "text": "Trial"
           },
           "x": 1,
           "xpad": 40
          },
          "colorscale": [
           [
            0,
            "rgb(247,251,255)"
           ],
           [
            0.125,
            "rgb(222,235,247)"
           ],
           [
            0.25,
            "rgb(198,219,239)"
           ],
           [
            0.375,
            "rgb(158,202,225)"
           ],
           [
            0.5,
            "rgb(107,174,214)"
           ],
           [
            0.625,
            "rgb(66,146,198)"
           ],
           [
            0.75,
            "rgb(33,113,181)"
           ],
           [
            0.875,
            "rgb(8,81,156)"
           ],
           [
            1,
            "rgb(8,48,107)"
           ]
          ],
          "line": {
           "color": "Grey",
           "width": 0.5
          },
          "showscale": false
         },
         "mode": "markers",
         "name": "Feasible Trial",
         "showlegend": false,
         "type": "scatter",
         "x": [
          7,
          2,
          6,
          3,
          4,
          2,
          6,
          3,
          5,
          4,
          3,
          2,
          3,
          3,
          4,
          3,
          5,
          3,
          2,
          4,
          5,
          4,
          3,
          4,
          3,
          4,
          2,
          5,
          3,
          7,
          6,
          4,
          4,
          4,
          5,
          4,
          4,
          5,
          6,
          4,
          5,
          4,
          4,
          3,
          4,
          3,
          2,
          3,
          3,
          2
         ],
         "xaxis": "x4",
         "y": [
          2.3608831792247367,
          2.2820522525287616,
          2.318979126304997,
          2.2388340980678647,
          2.2569534097225974,
          2.229492403550998,
          2.3261397934918158,
          2.2148135864928276,
          2.318103891151641,
          2.2547791298803928,
          2.252198774143338,
          2.237786023098335,
          2.222565367628073,
          2.5307493070512326,
          2.2240652745890386,
          2.29553608521051,
          2.2389529783134523,
          2.2581816980912883,
          2.2395378422107144,
          2.234900660096892,
          2.518379967672704,
          2.22208513802615,
          2.367841016161326,
          2.2548665709096385,
          2.234500408344479,
          2.2410339814064644,
          2.283454395613842,
          2.270646837716169,
          2.294690368584063,
          2.296999378092976,
          2.42180070090883,
          2.222058446044877,
          2.267337575540688,
          2.221377558730074,
          2.2312876860289883,
          2.217123698579245,
          2.215990140537614,
          2.2257298756246833,
          2.225093158793382,
          2.2352416380844304,
          2.2530225886515285,
          2.2131069675604977,
          2.2168445589309247,
          2.2251290920895492,
          2.222747079077472,
          2.215792968484861,
          2.265995215493276,
          2.2340069541869476,
          2.214915918398305,
          2.2250385872599927
         ],
         "yaxis": "y4"
        },
        {
         "marker": {
          "color": [
           0,
           1,
           2,
           3,
           4,
           5,
           6,
           7,
           8,
           9,
           10,
           11,
           12,
           13,
           14,
           15,
           16,
           17,
           18,
           19,
           20,
           21,
           22,
           23,
           24,
           25,
           26,
           27,
           28,
           29,
           30,
           31,
           32,
           33,
           34,
           35,
           36,
           37,
           38,
           39,
           40,
           41,
           42,
           43,
           44,
           45,
           46,
           47,
           48,
           49
          ],
          "colorbar": {
           "title": {
            "text": "Trial"
           },
           "x": 1,
           "xpad": 40
          },
          "colorscale": [
           [
            0,
            "rgb(247,251,255)"
           ],
           [
            0.125,
            "rgb(222,235,247)"
           ],
           [
            0.25,
            "rgb(198,219,239)"
           ],
           [
            0.375,
            "rgb(158,202,225)"
           ],
           [
            0.5,
            "rgb(107,174,214)"
           ],
           [
            0.625,
            "rgb(66,146,198)"
           ],
           [
            0.75,
            "rgb(33,113,181)"
           ],
           [
            0.875,
            "rgb(8,81,156)"
           ],
           [
            1,
            "rgb(8,48,107)"
           ]
          ],
          "line": {
           "color": "Grey",
           "width": 0.5
          },
          "showscale": false
         },
         "mode": "markers",
         "name": "Feasible Trial",
         "showlegend": false,
         "type": "scatter",
         "x": [
          null,
          null,
          "log2",
          "log2",
          null,
          "log2",
          "log2",
          "sqrt",
          "sqrt",
          null,
          "sqrt",
          "sqrt",
          "sqrt",
          "sqrt",
          "sqrt",
          "sqrt",
          "sqrt",
          "sqrt",
          "sqrt",
          "sqrt",
          "sqrt",
          "sqrt",
          "sqrt",
          "sqrt",
          "sqrt",
          "sqrt",
          "sqrt",
          "sqrt",
          null,
          "log2",
          null,
          "sqrt",
          "sqrt",
          "sqrt",
          "sqrt",
          "log2",
          "log2",
          "log2",
          "log2",
          "log2",
          "log2",
          "log2",
          "log2",
          "log2",
          "log2",
          "log2",
          "log2",
          "log2",
          "log2",
          "log2"
         ],
         "xaxis": "x5",
         "y": [
          2.3608831792247367,
          2.2820522525287616,
          2.318979126304997,
          2.2388340980678647,
          2.2569534097225974,
          2.229492403550998,
          2.3261397934918158,
          2.2148135864928276,
          2.318103891151641,
          2.2547791298803928,
          2.252198774143338,
          2.237786023098335,
          2.222565367628073,
          2.5307493070512326,
          2.2240652745890386,
          2.29553608521051,
          2.2389529783134523,
          2.2581816980912883,
          2.2395378422107144,
          2.234900660096892,
          2.518379967672704,
          2.22208513802615,
          2.367841016161326,
          2.2548665709096385,
          2.234500408344479,
          2.2410339814064644,
          2.283454395613842,
          2.270646837716169,
          2.294690368584063,
          2.296999378092976,
          2.42180070090883,
          2.222058446044877,
          2.267337575540688,
          2.221377558730074,
          2.2312876860289883,
          2.217123698579245,
          2.215990140537614,
          2.2257298756246833,
          2.225093158793382,
          2.2352416380844304,
          2.2530225886515285,
          2.2131069675604977,
          2.2168445589309247,
          2.2251290920895492,
          2.222747079077472,
          2.215792968484861,
          2.265995215493276,
          2.2340069541869476,
          2.214915918398305,
          2.2250385872599927
         ],
         "yaxis": "y5"
        },
        {
         "marker": {
          "color": [
           0,
           1,
           2,
           3,
           4,
           5,
           6,
           7,
           8,
           9,
           10,
           11,
           12,
           13,
           14,
           15,
           16,
           17,
           18,
           19,
           20,
           21,
           22,
           23,
           24,
           25,
           26,
           27,
           28,
           29,
           30,
           31,
           32,
           33,
           34,
           35,
           36,
           37,
           38,
           39,
           40,
           41,
           42,
           43,
           44,
           45,
           46,
           47,
           48,
           49
          ],
          "colorbar": {
           "title": {
            "text": "Trial"
           },
           "x": 1,
           "xpad": 40
          },
          "colorscale": [
           [
            0,
            "rgb(247,251,255)"
           ],
           [
            0.125,
            "rgb(222,235,247)"
           ],
           [
            0.25,
            "rgb(198,219,239)"
           ],
           [
            0.375,
            "rgb(158,202,225)"
           ],
           [
            0.5,
            "rgb(107,174,214)"
           ],
           [
            0.625,
            "rgb(66,146,198)"
           ],
           [
            0.75,
            "rgb(33,113,181)"
           ],
           [
            0.875,
            "rgb(8,81,156)"
           ],
           [
            1,
            "rgb(8,48,107)"
           ]
          ],
          "line": {
           "color": "Grey",
           "width": 0.5
          },
          "showscale": false
         },
         "mode": "markers",
         "name": "Feasible Trial",
         "showlegend": false,
         "type": "scatter",
         "x": [
          425,
          140,
          105,
          319,
          83,
          199,
          285,
          180,
          152,
          213,
          497,
          220,
          207,
          328,
          246,
          55,
          163,
          400,
          277,
          172,
          110,
          246,
          231,
          327,
          257,
          187,
          295,
          373,
          121,
          191,
          363,
          246,
          255,
          142,
          135,
          83,
          79,
          81,
          73,
          96,
          134,
          53,
          50,
          52,
          68,
          96,
          99,
          118,
          51,
          98
         ],
         "xaxis": "x6",
         "y": [
          2.3608831792247367,
          2.2820522525287616,
          2.318979126304997,
          2.2388340980678647,
          2.2569534097225974,
          2.229492403550998,
          2.3261397934918158,
          2.2148135864928276,
          2.318103891151641,
          2.2547791298803928,
          2.252198774143338,
          2.237786023098335,
          2.222565367628073,
          2.5307493070512326,
          2.2240652745890386,
          2.29553608521051,
          2.2389529783134523,
          2.2581816980912883,
          2.2395378422107144,
          2.234900660096892,
          2.518379967672704,
          2.22208513802615,
          2.367841016161326,
          2.2548665709096385,
          2.234500408344479,
          2.2410339814064644,
          2.283454395613842,
          2.270646837716169,
          2.294690368584063,
          2.296999378092976,
          2.42180070090883,
          2.222058446044877,
          2.267337575540688,
          2.221377558730074,
          2.2312876860289883,
          2.217123698579245,
          2.215990140537614,
          2.2257298756246833,
          2.225093158793382,
          2.2352416380844304,
          2.2530225886515285,
          2.2131069675604977,
          2.2168445589309247,
          2.2251290920895492,
          2.222747079077472,
          2.215792968484861,
          2.265995215493276,
          2.2340069541869476,
          2.214915918398305,
          2.2250385872599927
         ],
         "yaxis": "y6"
        },
        {
         "marker": {
          "color": [
           0,
           1,
           2,
           3,
           4,
           5,
           6,
           7,
           8,
           9,
           10,
           11,
           12,
           13,
           14,
           15,
           16,
           17,
           18,
           19,
           20,
           21,
           22,
           23,
           24,
           25,
           26,
           27,
           28,
           29,
           30,
           31,
           32,
           33,
           34,
           35,
           36,
           37,
           38,
           39,
           40,
           41,
           42,
           43,
           44,
           45,
           46,
           47,
           48,
           49
          ],
          "colorbar": {
           "title": {
            "text": "Trial"
           },
           "x": 1,
           "xpad": 40
          },
          "colorscale": [
           [
            0,
            "rgb(247,251,255)"
           ],
           [
            0.125,
            "rgb(222,235,247)"
           ],
           [
            0.25,
            "rgb(198,219,239)"
           ],
           [
            0.375,
            "rgb(158,202,225)"
           ],
           [
            0.5,
            "rgb(107,174,214)"
           ],
           [
            0.625,
            "rgb(66,146,198)"
           ],
           [
            0.75,
            "rgb(33,113,181)"
           ],
           [
            0.875,
            "rgb(8,81,156)"
           ],
           [
            1,
            "rgb(8,48,107)"
           ]
          ],
          "line": {
           "color": "Grey",
           "width": 0.5
          },
          "showscale": false
         },
         "mode": "markers",
         "name": "Feasible Trial",
         "showlegend": false,
         "type": "scatter",
         "x": [
          0.12022300234864176,
          0.058428929707043636,
          0.06092275383467414,
          0.19391692555291173,
          0.05618690193747616,
          0.07169314570885453,
          0.1521570097233795,
          0.08207658460712595,
          0.1614880310328125,
          0.18858194078250384,
          0.005278365854026579,
          0.0954576825626162,
          0.09130867133019255,
          0.10992009495635216,
          0.08861031477364052,
          0.021962820748635266,
          0.13219994755130463,
          0.029621372163248554,
          0.08180021421406473,
          0.13425967449340742,
          0.04105605116514056,
          0.09181425004024427,
          0.10862768791146489,
          0.08039727090901545,
          0.0954822964178552,
          0.12239776081367332,
          0.07132453713299033,
          0.041920639542824684,
          0.10209350202272213,
          0.12119057184604064,
          0.13664942977310685,
          0.08533824581145212,
          0.07165865585444144,
          0.05794140290827088,
          0.06266440181977,
          0.048867007494396444,
          0.04564439752237828,
          0.04908489060211184,
          0.02340290513603669,
          0.0020558750663316194,
          0.05053430997992995,
          0.06321206484858768,
          0.062319009316616845,
          0.03462821921378126,
          0.06290691131039934,
          0.012562633576107124,
          0.015700915425040828,
          0.017554134784538405,
          0.010588993625053354,
          0.03071954517906811
         ],
         "xaxis": "x7",
         "y": [
          2.3608831792247367,
          2.2820522525287616,
          2.318979126304997,
          2.2388340980678647,
          2.2569534097225974,
          2.229492403550998,
          2.3261397934918158,
          2.2148135864928276,
          2.318103891151641,
          2.2547791298803928,
          2.252198774143338,
          2.237786023098335,
          2.222565367628073,
          2.5307493070512326,
          2.2240652745890386,
          2.29553608521051,
          2.2389529783134523,
          2.2581816980912883,
          2.2395378422107144,
          2.234900660096892,
          2.518379967672704,
          2.22208513802615,
          2.367841016161326,
          2.2548665709096385,
          2.234500408344479,
          2.2410339814064644,
          2.283454395613842,
          2.270646837716169,
          2.294690368584063,
          2.296999378092976,
          2.42180070090883,
          2.222058446044877,
          2.267337575540688,
          2.221377558730074,
          2.2312876860289883,
          2.217123698579245,
          2.215990140537614,
          2.2257298756246833,
          2.225093158793382,
          2.2352416380844304,
          2.2530225886515285,
          2.2131069675604977,
          2.2168445589309247,
          2.2251290920895492,
          2.222747079077472,
          2.215792968484861,
          2.265995215493276,
          2.2340069541869476,
          2.214915918398305,
          2.2250385872599927
         ],
         "yaxis": "y7"
        },
        {
         "marker": {
          "color": [
           0,
           1,
           2,
           3,
           4,
           5,
           6,
           7,
           8,
           9,
           10,
           11,
           12,
           13,
           14,
           15,
           16,
           17,
           18,
           19,
           20,
           21,
           22,
           23,
           24,
           25,
           26,
           27,
           28,
           29,
           30,
           31,
           32,
           33,
           34,
           35,
           36,
           37,
           38,
           39,
           40,
           41,
           42,
           43,
           44,
           45,
           46,
           47,
           48,
           49
          ],
          "colorbar": {
           "title": {
            "text": "Trial"
           },
           "x": 1,
           "xpad": 40
          },
          "colorscale": [
           [
            0,
            "rgb(247,251,255)"
           ],
           [
            0.125,
            "rgb(222,235,247)"
           ],
           [
            0.25,
            "rgb(198,219,239)"
           ],
           [
            0.375,
            "rgb(158,202,225)"
           ],
           [
            0.5,
            "rgb(107,174,214)"
           ],
           [
            0.625,
            "rgb(66,146,198)"
           ],
           [
            0.75,
            "rgb(33,113,181)"
           ],
           [
            0.875,
            "rgb(8,81,156)"
           ],
           [
            1,
            "rgb(8,48,107)"
           ]
          ],
          "line": {
           "color": "Grey",
           "width": 0.5
          },
          "showscale": false
         },
         "mode": "markers",
         "name": "Feasible Trial",
         "showlegend": false,
         "type": "scatter",
         "x": [
          1,
          4,
          5,
          3,
          5,
          4,
          1,
          5,
          5,
          1,
          3,
          4,
          4,
          4,
          2,
          3,
          5,
          4,
          2,
          5,
          4,
          2,
          2,
          2,
          3,
          5,
          2,
          3,
          4,
          1,
          5,
          2,
          2,
          1,
          1,
          1,
          1,
          1,
          1,
          1,
          1,
          1,
          1,
          1,
          1,
          1,
          1,
          1,
          2,
          3
         ],
         "xaxis": "x8",
         "y": [
          2.3608831792247367,
          2.2820522525287616,
          2.318979126304997,
          2.2388340980678647,
          2.2569534097225974,
          2.229492403550998,
          2.3261397934918158,
          2.2148135864928276,
          2.318103891151641,
          2.2547791298803928,
          2.252198774143338,
          2.237786023098335,
          2.222565367628073,
          2.5307493070512326,
          2.2240652745890386,
          2.29553608521051,
          2.2389529783134523,
          2.2581816980912883,
          2.2395378422107144,
          2.234900660096892,
          2.518379967672704,
          2.22208513802615,
          2.367841016161326,
          2.2548665709096385,
          2.234500408344479,
          2.2410339814064644,
          2.283454395613842,
          2.270646837716169,
          2.294690368584063,
          2.296999378092976,
          2.42180070090883,
          2.222058446044877,
          2.267337575540688,
          2.221377558730074,
          2.2312876860289883,
          2.217123698579245,
          2.215990140537614,
          2.2257298756246833,
          2.225093158793382,
          2.2352416380844304,
          2.2530225886515285,
          2.2131069675604977,
          2.2168445589309247,
          2.2251290920895492,
          2.222747079077472,
          2.215792968484861,
          2.265995215493276,
          2.2340069541869476,
          2.214915918398305,
          2.2250385872599927
         ],
         "yaxis": "y8"
        },
        {
         "marker": {
          "color": [
           0,
           1,
           2,
           3,
           4,
           5,
           6,
           7,
           8,
           9,
           10,
           11,
           12,
           13,
           14,
           15,
           16,
           17,
           18,
           19,
           20,
           21,
           22,
           23,
           24,
           25,
           26,
           27,
           28,
           29,
           30,
           31,
           32,
           33,
           34,
           35,
           36,
           37,
           38,
           39,
           40,
           41,
           42,
           43,
           44,
           45,
           46,
           47,
           48,
           49
          ],
          "colorbar": {
           "title": {
            "text": "Trial"
           },
           "x": 1,
           "xpad": 40
          },
          "colorscale": [
           [
            0,
            "rgb(247,251,255)"
           ],
           [
            0.125,
            "rgb(222,235,247)"
           ],
           [
            0.25,
            "rgb(198,219,239)"
           ],
           [
            0.375,
            "rgb(158,202,225)"
           ],
           [
            0.5,
            "rgb(107,174,214)"
           ],
           [
            0.625,
            "rgb(66,146,198)"
           ],
           [
            0.75,
            "rgb(33,113,181)"
           ],
           [
            0.875,
            "rgb(8,81,156)"
           ],
           [
            1,
            "rgb(8,48,107)"
           ]
          ],
          "line": {
           "color": "Grey",
           "width": 0.5
          },
          "showscale": false
         },
         "mode": "markers",
         "name": "Feasible Trial",
         "showlegend": false,
         "type": "scatter",
         "x": [
          3,
          4,
          10,
          6,
          4,
          8,
          6,
          6,
          3,
          3,
          7,
          8,
          9,
          10,
          9,
          6,
          5,
          8,
          7,
          5,
          9,
          9,
          9,
          7,
          10,
          8,
          5,
          2,
          9,
          7,
          10,
          9,
          9,
          8,
          8,
          7,
          7,
          6,
          6,
          7,
          4,
          7,
          7,
          7,
          6,
          7,
          5,
          6,
          7,
          7
         ],
         "xaxis": "x9",
         "y": [
          2.3608831792247367,
          2.2820522525287616,
          2.318979126304997,
          2.2388340980678647,
          2.2569534097225974,
          2.229492403550998,
          2.3261397934918158,
          2.2148135864928276,
          2.318103891151641,
          2.2547791298803928,
          2.252198774143338,
          2.237786023098335,
          2.222565367628073,
          2.5307493070512326,
          2.2240652745890386,
          2.29553608521051,
          2.2389529783134523,
          2.2581816980912883,
          2.2395378422107144,
          2.234900660096892,
          2.518379967672704,
          2.22208513802615,
          2.367841016161326,
          2.2548665709096385,
          2.234500408344479,
          2.2410339814064644,
          2.283454395613842,
          2.270646837716169,
          2.294690368584063,
          2.296999378092976,
          2.42180070090883,
          2.222058446044877,
          2.267337575540688,
          2.221377558730074,
          2.2312876860289883,
          2.217123698579245,
          2.215990140537614,
          2.2257298756246833,
          2.225093158793382,
          2.2352416380844304,
          2.2530225886515285,
          2.2131069675604977,
          2.2168445589309247,
          2.2251290920895492,
          2.222747079077472,
          2.215792968484861,
          2.265995215493276,
          2.2340069541869476,
          2.214915918398305,
          2.2250385872599927
         ],
         "yaxis": "y9"
        },
        {
         "marker": {
          "color": [
           0,
           1,
           2,
           3,
           4,
           5,
           6,
           7,
           8,
           9,
           10,
           11,
           12,
           13,
           14,
           15,
           16,
           17,
           18,
           19,
           20,
           21,
           22,
           23,
           24,
           25,
           26,
           27,
           28,
           29,
           30,
           31,
           32,
           33,
           34,
           35,
           36,
           37,
           38,
           39,
           40,
           41,
           42,
           43,
           44,
           45,
           46,
           47,
           48,
           49
          ],
          "colorbar": {
           "title": {
            "text": "Trial"
           },
           "x": 1,
           "xpad": 40
          },
          "colorscale": [
           [
            0,
            "rgb(247,251,255)"
           ],
           [
            0.125,
            "rgb(222,235,247)"
           ],
           [
            0.25,
            "rgb(198,219,239)"
           ],
           [
            0.375,
            "rgb(158,202,225)"
           ],
           [
            0.5,
            "rgb(107,174,214)"
           ],
           [
            0.625,
            "rgb(66,146,198)"
           ],
           [
            0.75,
            "rgb(33,113,181)"
           ],
           [
            0.875,
            "rgb(8,81,156)"
           ],
           [
            1,
            "rgb(8,48,107)"
           ]
          ],
          "line": {
           "color": "Grey",
           "width": 0.5
          },
          "showscale": false
         },
         "mode": "markers",
         "name": "Feasible Trial",
         "showlegend": false,
         "type": "scatter",
         "x": [
          639,
          572,
          253,
          696,
          393,
          834,
          674,
          673,
          885,
          560,
          106,
          993,
          822,
          824,
          374,
          761,
          999,
          482,
          742,
          890,
          469,
          273,
          139,
          232,
          607,
          494,
          306,
          763,
          895,
          629,
          403,
          347,
          210,
          326,
          308,
          321,
          349,
          183,
          426,
          530,
          327,
          368,
          434,
          443,
          525,
          373,
          370,
          590,
          683,
          661
         ],
         "xaxis": "x10",
         "y": [
          2.3608831792247367,
          2.2820522525287616,
          2.318979126304997,
          2.2388340980678647,
          2.2569534097225974,
          2.229492403550998,
          2.3261397934918158,
          2.2148135864928276,
          2.318103891151641,
          2.2547791298803928,
          2.252198774143338,
          2.237786023098335,
          2.222565367628073,
          2.5307493070512326,
          2.2240652745890386,
          2.29553608521051,
          2.2389529783134523,
          2.2581816980912883,
          2.2395378422107144,
          2.234900660096892,
          2.518379967672704,
          2.22208513802615,
          2.367841016161326,
          2.2548665709096385,
          2.234500408344479,
          2.2410339814064644,
          2.283454395613842,
          2.270646837716169,
          2.294690368584063,
          2.296999378092976,
          2.42180070090883,
          2.222058446044877,
          2.267337575540688,
          2.221377558730074,
          2.2312876860289883,
          2.217123698579245,
          2.215990140537614,
          2.2257298756246833,
          2.225093158793382,
          2.2352416380844304,
          2.2530225886515285,
          2.2131069675604977,
          2.2168445589309247,
          2.2251290920895492,
          2.222747079077472,
          2.215792968484861,
          2.265995215493276,
          2.2340069541869476,
          2.214915918398305,
          2.2250385872599927
         ],
         "yaxis": "y10"
        },
        {
         "marker": {
          "color": [
           0,
           1,
           2,
           3,
           4,
           5,
           6,
           7,
           8,
           9,
           10,
           11,
           12,
           13,
           14,
           15,
           16,
           17,
           18,
           19,
           20,
           21,
           22,
           23,
           24,
           25,
           26,
           27,
           28,
           29,
           30,
           31,
           32,
           33,
           34,
           35,
           36,
           37,
           38,
           39,
           40,
           41,
           42,
           43,
           44,
           45,
           46,
           47,
           48,
           49
          ],
          "colorbar": {
           "title": {
            "text": "Trial"
           },
           "x": 1,
           "xpad": 40
          },
          "colorscale": [
           [
            0,
            "rgb(247,251,255)"
           ],
           [
            0.125,
            "rgb(222,235,247)"
           ],
           [
            0.25,
            "rgb(198,219,239)"
           ],
           [
            0.375,
            "rgb(158,202,225)"
           ],
           [
            0.5,
            "rgb(107,174,214)"
           ],
           [
            0.625,
            "rgb(66,146,198)"
           ],
           [
            0.75,
            "rgb(33,113,181)"
           ],
           [
            0.875,
            "rgb(8,81,156)"
           ],
           [
            1,
            "rgb(8,48,107)"
           ]
          ],
          "line": {
           "color": "Grey",
           "width": 0.5
          },
          "showscale": false
         },
         "mode": "markers",
         "name": "Feasible Trial",
         "showlegend": false,
         "type": "scatter",
         "x": [
          0.6624074561769746,
          0.7727780074568463,
          0.6260206371941118,
          0.7246844304357644,
          0.7554709158757928,
          0.8827429375390468,
          0.9548850970305306,
          0.7257423924305306,
          0.9214688307596458,
          0.7669644012595116,
          0.8559192772506938,
          0.8478578374796667,
          0.84450876983227,
          0.6967268492719876,
          0.8045604523998372,
          0.8210137421803548,
          0.6997108097658562,
          0.9732071419446625,
          0.6020394152472084,
          0.8945172351954431,
          0.7293363056497617,
          0.8012364486139857,
          0.8131426732117017,
          0.8394938090778475,
          0.7800112678160017,
          0.6705094672175854,
          0.8795410705783853,
          0.9175392558703932,
          0.7468714877292691,
          0.6552863481261628,
          0.7914691169956078,
          0.8210807737385951,
          0.8261067780130366,
          0.8582476792678189,
          0.7958948941829426,
          0.7345769786766436,
          0.7276893432735742,
          0.7086674042397739,
          0.7378202822333738,
          0.6746442099123175,
          0.7635689220435657,
          0.7118604064961678,
          0.6462890155373187,
          0.6483069058435833,
          0.7158319395956911,
          0.6938068627026094,
          0.6307263899116755,
          0.6891577676320443,
          0.6839994024018025,
          0.6829021967926221
         ],
         "xaxis": "x11",
         "y": [
          2.3608831792247367,
          2.2820522525287616,
          2.318979126304997,
          2.2388340980678647,
          2.2569534097225974,
          2.229492403550998,
          2.3261397934918158,
          2.2148135864928276,
          2.318103891151641,
          2.2547791298803928,
          2.252198774143338,
          2.237786023098335,
          2.222565367628073,
          2.5307493070512326,
          2.2240652745890386,
          2.29553608521051,
          2.2389529783134523,
          2.2581816980912883,
          2.2395378422107144,
          2.234900660096892,
          2.518379967672704,
          2.22208513802615,
          2.367841016161326,
          2.2548665709096385,
          2.234500408344479,
          2.2410339814064644,
          2.283454395613842,
          2.270646837716169,
          2.294690368584063,
          2.296999378092976,
          2.42180070090883,
          2.222058446044877,
          2.267337575540688,
          2.221377558730074,
          2.2312876860289883,
          2.217123698579245,
          2.215990140537614,
          2.2257298756246833,
          2.225093158793382,
          2.2352416380844304,
          2.2530225886515285,
          2.2131069675604977,
          2.2168445589309247,
          2.2251290920895492,
          2.222747079077472,
          2.215792968484861,
          2.265995215493276,
          2.2340069541869476,
          2.214915918398305,
          2.2250385872599927
         ],
         "yaxis": "y11"
        }
       ],
       "layout": {
        "template": {
         "data": {
          "bar": [
           {
            "error_x": {
             "color": "#2a3f5f"
            },
            "error_y": {
             "color": "#2a3f5f"
            },
            "marker": {
             "line": {
              "color": "#E5ECF6",
              "width": 0.5
             },
             "pattern": {
              "fillmode": "overlay",
              "size": 10,
              "solidity": 0.2
             }
            },
            "type": "bar"
           }
          ],
          "barpolar": [
           {
            "marker": {
             "line": {
              "color": "#E5ECF6",
              "width": 0.5
             },
             "pattern": {
              "fillmode": "overlay",
              "size": 10,
              "solidity": 0.2
             }
            },
            "type": "barpolar"
           }
          ],
          "carpet": [
           {
            "aaxis": {
             "endlinecolor": "#2a3f5f",
             "gridcolor": "white",
             "linecolor": "white",
             "minorgridcolor": "white",
             "startlinecolor": "#2a3f5f"
            },
            "baxis": {
             "endlinecolor": "#2a3f5f",
             "gridcolor": "white",
             "linecolor": "white",
             "minorgridcolor": "white",
             "startlinecolor": "#2a3f5f"
            },
            "type": "carpet"
           }
          ],
          "choropleth": [
           {
            "colorbar": {
             "outlinewidth": 0,
             "ticks": ""
            },
            "type": "choropleth"
           }
          ],
          "contour": [
           {
            "colorbar": {
             "outlinewidth": 0,
             "ticks": ""
            },
            "colorscale": [
             [
              0,
              "#0d0887"
             ],
             [
              0.1111111111111111,
              "#46039f"
             ],
             [
              0.2222222222222222,
              "#7201a8"
             ],
             [
              0.3333333333333333,
              "#9c179e"
             ],
             [
              0.4444444444444444,
              "#bd3786"
             ],
             [
              0.5555555555555556,
              "#d8576b"
             ],
             [
              0.6666666666666666,
              "#ed7953"
             ],
             [
              0.7777777777777778,
              "#fb9f3a"
             ],
             [
              0.8888888888888888,
              "#fdca26"
             ],
             [
              1,
              "#f0f921"
             ]
            ],
            "type": "contour"
           }
          ],
          "contourcarpet": [
           {
            "colorbar": {
             "outlinewidth": 0,
             "ticks": ""
            },
            "type": "contourcarpet"
           }
          ],
          "heatmap": [
           {
            "colorbar": {
             "outlinewidth": 0,
             "ticks": ""
            },
            "colorscale": [
             [
              0,
              "#0d0887"
             ],
             [
              0.1111111111111111,
              "#46039f"
             ],
             [
              0.2222222222222222,
              "#7201a8"
             ],
             [
              0.3333333333333333,
              "#9c179e"
             ],
             [
              0.4444444444444444,
              "#bd3786"
             ],
             [
              0.5555555555555556,
              "#d8576b"
             ],
             [
              0.6666666666666666,
              "#ed7953"
             ],
             [
              0.7777777777777778,
              "#fb9f3a"
             ],
             [
              0.8888888888888888,
              "#fdca26"
             ],
             [
              1,
              "#f0f921"
             ]
            ],
            "type": "heatmap"
           }
          ],
          "histogram": [
           {
            "marker": {
             "pattern": {
              "fillmode": "overlay",
              "size": 10,
              "solidity": 0.2
             }
            },
            "type": "histogram"
           }
          ],
          "histogram2d": [
           {
            "colorbar": {
             "outlinewidth": 0,
             "ticks": ""
            },
            "colorscale": [
             [
              0,
              "#0d0887"
             ],
             [
              0.1111111111111111,
              "#46039f"
             ],
             [
              0.2222222222222222,
              "#7201a8"
             ],
             [
              0.3333333333333333,
              "#9c179e"
             ],
             [
              0.4444444444444444,
              "#bd3786"
             ],
             [
              0.5555555555555556,
              "#d8576b"
             ],
             [
              0.6666666666666666,
              "#ed7953"
             ],
             [
              0.7777777777777778,
              "#fb9f3a"
             ],
             [
              0.8888888888888888,
              "#fdca26"
             ],
             [
              1,
              "#f0f921"
             ]
            ],
            "type": "histogram2d"
           }
          ],
          "histogram2dcontour": [
           {
            "colorbar": {
             "outlinewidth": 0,
             "ticks": ""
            },
            "colorscale": [
             [
              0,
              "#0d0887"
             ],
             [
              0.1111111111111111,
              "#46039f"
             ],
             [
              0.2222222222222222,
              "#7201a8"
             ],
             [
              0.3333333333333333,
              "#9c179e"
             ],
             [
              0.4444444444444444,
              "#bd3786"
             ],
             [
              0.5555555555555556,
              "#d8576b"
             ],
             [
              0.6666666666666666,
              "#ed7953"
             ],
             [
              0.7777777777777778,
              "#fb9f3a"
             ],
             [
              0.8888888888888888,
              "#fdca26"
             ],
             [
              1,
              "#f0f921"
             ]
            ],
            "type": "histogram2dcontour"
           }
          ],
          "mesh3d": [
           {
            "colorbar": {
             "outlinewidth": 0,
             "ticks": ""
            },
            "type": "mesh3d"
           }
          ],
          "parcoords": [
           {
            "line": {
             "colorbar": {
              "outlinewidth": 0,
              "ticks": ""
             }
            },
            "type": "parcoords"
           }
          ],
          "pie": [
           {
            "automargin": true,
            "type": "pie"
           }
          ],
          "scatter": [
           {
            "fillpattern": {
             "fillmode": "overlay",
             "size": 10,
             "solidity": 0.2
            },
            "type": "scatter"
           }
          ],
          "scatter3d": [
           {
            "line": {
             "colorbar": {
              "outlinewidth": 0,
              "ticks": ""
             }
            },
            "marker": {
             "colorbar": {
              "outlinewidth": 0,
              "ticks": ""
             }
            },
            "type": "scatter3d"
           }
          ],
          "scattercarpet": [
           {
            "marker": {
             "colorbar": {
              "outlinewidth": 0,
              "ticks": ""
             }
            },
            "type": "scattercarpet"
           }
          ],
          "scattergeo": [
           {
            "marker": {
             "colorbar": {
              "outlinewidth": 0,
              "ticks": ""
             }
            },
            "type": "scattergeo"
           }
          ],
          "scattergl": [
           {
            "marker": {
             "colorbar": {
              "outlinewidth": 0,
              "ticks": ""
             }
            },
            "type": "scattergl"
           }
          ],
          "scattermap": [
           {
            "marker": {
             "colorbar": {
              "outlinewidth": 0,
              "ticks": ""
             }
            },
            "type": "scattermap"
           }
          ],
          "scattermapbox": [
           {
            "marker": {
             "colorbar": {
              "outlinewidth": 0,
              "ticks": ""
             }
            },
            "type": "scattermapbox"
           }
          ],
          "scatterpolar": [
           {
            "marker": {
             "colorbar": {
              "outlinewidth": 0,
              "ticks": ""
             }
            },
            "type": "scatterpolar"
           }
          ],
          "scatterpolargl": [
           {
            "marker": {
             "colorbar": {
              "outlinewidth": 0,
              "ticks": ""
             }
            },
            "type": "scatterpolargl"
           }
          ],
          "scatterternary": [
           {
            "marker": {
             "colorbar": {
              "outlinewidth": 0,
              "ticks": ""
             }
            },
            "type": "scatterternary"
           }
          ],
          "surface": [
           {
            "colorbar": {
             "outlinewidth": 0,
             "ticks": ""
            },
            "colorscale": [
             [
              0,
              "#0d0887"
             ],
             [
              0.1111111111111111,
              "#46039f"
             ],
             [
              0.2222222222222222,
              "#7201a8"
             ],
             [
              0.3333333333333333,
              "#9c179e"
             ],
             [
              0.4444444444444444,
              "#bd3786"
             ],
             [
              0.5555555555555556,
              "#d8576b"
             ],
             [
              0.6666666666666666,
              "#ed7953"
             ],
             [
              0.7777777777777778,
              "#fb9f3a"
             ],
             [
              0.8888888888888888,
              "#fdca26"
             ],
             [
              1,
              "#f0f921"
             ]
            ],
            "type": "surface"
           }
          ],
          "table": [
           {
            "cells": {
             "fill": {
              "color": "#EBF0F8"
             },
             "line": {
              "color": "white"
             }
            },
            "header": {
             "fill": {
              "color": "#C8D4E3"
             },
             "line": {
              "color": "white"
             }
            },
            "type": "table"
           }
          ]
         },
         "layout": {
          "annotationdefaults": {
           "arrowcolor": "#2a3f5f",
           "arrowhead": 0,
           "arrowwidth": 1
          },
          "autotypenumbers": "strict",
          "coloraxis": {
           "colorbar": {
            "outlinewidth": 0,
            "ticks": ""
           }
          },
          "colorscale": {
           "diverging": [
            [
             0,
             "#8e0152"
            ],
            [
             0.1,
             "#c51b7d"
            ],
            [
             0.2,
             "#de77ae"
            ],
            [
             0.3,
             "#f1b6da"
            ],
            [
             0.4,
             "#fde0ef"
            ],
            [
             0.5,
             "#f7f7f7"
            ],
            [
             0.6,
             "#e6f5d0"
            ],
            [
             0.7,
             "#b8e186"
            ],
            [
             0.8,
             "#7fbc41"
            ],
            [
             0.9,
             "#4d9221"
            ],
            [
             1,
             "#276419"
            ]
           ],
           "sequential": [
            [
             0,
             "#0d0887"
            ],
            [
             0.1111111111111111,
             "#46039f"
            ],
            [
             0.2222222222222222,
             "#7201a8"
            ],
            [
             0.3333333333333333,
             "#9c179e"
            ],
            [
             0.4444444444444444,
             "#bd3786"
            ],
            [
             0.5555555555555556,
             "#d8576b"
            ],
            [
             0.6666666666666666,
             "#ed7953"
            ],
            [
             0.7777777777777778,
             "#fb9f3a"
            ],
            [
             0.8888888888888888,
             "#fdca26"
            ],
            [
             1,
             "#f0f921"
            ]
           ],
           "sequentialminus": [
            [
             0,
             "#0d0887"
            ],
            [
             0.1111111111111111,
             "#46039f"
            ],
            [
             0.2222222222222222,
             "#7201a8"
            ],
            [
             0.3333333333333333,
             "#9c179e"
            ],
            [
             0.4444444444444444,
             "#bd3786"
            ],
            [
             0.5555555555555556,
             "#d8576b"
            ],
            [
             0.6666666666666666,
             "#ed7953"
            ],
            [
             0.7777777777777778,
             "#fb9f3a"
            ],
            [
             0.8888888888888888,
             "#fdca26"
            ],
            [
             1,
             "#f0f921"
            ]
           ]
          },
          "colorway": [
           "#636efa",
           "#EF553B",
           "#00cc96",
           "#ab63fa",
           "#FFA15A",
           "#19d3f3",
           "#FF6692",
           "#B6E880",
           "#FF97FF",
           "#FECB52"
          ],
          "font": {
           "color": "#2a3f5f"
          },
          "geo": {
           "bgcolor": "white",
           "lakecolor": "white",
           "landcolor": "#E5ECF6",
           "showlakes": true,
           "showland": true,
           "subunitcolor": "white"
          },
          "hoverlabel": {
           "align": "left"
          },
          "hovermode": "closest",
          "mapbox": {
           "style": "light"
          },
          "paper_bgcolor": "white",
          "plot_bgcolor": "#E5ECF6",
          "polar": {
           "angularaxis": {
            "gridcolor": "white",
            "linecolor": "white",
            "ticks": ""
           },
           "bgcolor": "#E5ECF6",
           "radialaxis": {
            "gridcolor": "white",
            "linecolor": "white",
            "ticks": ""
           }
          },
          "scene": {
           "xaxis": {
            "backgroundcolor": "#E5ECF6",
            "gridcolor": "white",
            "gridwidth": 2,
            "linecolor": "white",
            "showbackground": true,
            "ticks": "",
            "zerolinecolor": "white"
           },
           "yaxis": {
            "backgroundcolor": "#E5ECF6",
            "gridcolor": "white",
            "gridwidth": 2,
            "linecolor": "white",
            "showbackground": true,
            "ticks": "",
            "zerolinecolor": "white"
           },
           "zaxis": {
            "backgroundcolor": "#E5ECF6",
            "gridcolor": "white",
            "gridwidth": 2,
            "linecolor": "white",
            "showbackground": true,
            "ticks": "",
            "zerolinecolor": "white"
           }
          },
          "shapedefaults": {
           "line": {
            "color": "#2a3f5f"
           }
          },
          "ternary": {
           "aaxis": {
            "gridcolor": "white",
            "linecolor": "white",
            "ticks": ""
           },
           "baxis": {
            "gridcolor": "white",
            "linecolor": "white",
            "ticks": ""
           },
           "bgcolor": "#E5ECF6",
           "caxis": {
            "gridcolor": "white",
            "linecolor": "white",
            "ticks": ""
           }
          },
          "title": {
           "x": 0.05
          },
          "xaxis": {
           "automargin": true,
           "gridcolor": "white",
           "linecolor": "white",
           "ticks": "",
           "title": {
            "standoff": 15
           },
           "zerolinecolor": "white",
           "zerolinewidth": 2
          },
          "yaxis": {
           "automargin": true,
           "gridcolor": "white",
           "linecolor": "white",
           "ticks": "",
           "title": {
            "standoff": 15
           },
           "zerolinecolor": "white",
           "zerolinewidth": 2
          }
         }
        },
        "title": {
         "text": "Slice Plot"
        },
        "width": 3300,
        "xaxis": {
         "anchor": "y",
         "domain": [
          0,
          0.07438016528925619
         ],
         "title": {
          "text": "alpha"
         }
        },
        "xaxis10": {
         "anchor": "y10",
         "domain": [
          0.8330578512396694,
          0.9074380165289255
         ],
         "title": {
          "text": "n_estimators"
         }
        },
        "xaxis11": {
         "anchor": "y11",
         "domain": [
          0.9256198347107437,
          0.9999999999999999
         ],
         "title": {
          "text": "subsample"
         }
        },
        "xaxis2": {
         "anchor": "y2",
         "domain": [
          0.09256198347107437,
          0.16694214876033056
         ],
         "title": {
          "text": "learning_rate"
         },
         "type": "log"
        },
        "xaxis3": {
         "anchor": "y3",
         "categoryarray": [
          "squared_error",
          "huber"
         ],
         "categoryorder": "array",
         "domain": [
          0.18512396694214875,
          0.25950413223140495
         ],
         "title": {
          "text": "loss"
         },
         "type": "category"
        },
        "xaxis4": {
         "anchor": "y4",
         "domain": [
          0.27768595041322314,
          0.3520661157024793
         ],
         "title": {
          "text": "max_depth"
         }
        },
        "xaxis5": {
         "anchor": "y5",
         "categoryarray": [
          "sqrt",
          "log2",
          null
         ],
         "categoryorder": "array",
         "domain": [
          0.3702479338842975,
          0.44462809917355367
         ],
         "title": {
          "text": "max_features"
         },
         "type": "category"
        },
        "xaxis6": {
         "anchor": "y6",
         "domain": [
          0.46280991735537186,
          0.5371900826446281
         ],
         "title": {
          "text": "max_leaf_nodes"
         }
        },
        "xaxis7": {
         "anchor": "y7",
         "domain": [
          0.5553719008264462,
          0.6297520661157023
         ],
         "title": {
          "text": "min_impurity_decrease"
         }
        },
        "xaxis8": {
         "anchor": "y8",
         "domain": [
          0.6479338842975206,
          0.7223140495867768
         ],
         "title": {
          "text": "min_samples_leaf"
         }
        },
        "xaxis9": {
         "anchor": "y9",
         "domain": [
          0.740495867768595,
          0.8148760330578512
         ],
         "title": {
          "text": "min_samples_split"
         }
        },
        "yaxis": {
         "anchor": "x",
         "domain": [
          0,
          1
         ],
         "title": {
          "text": "Objective Value"
         }
        },
        "yaxis10": {
         "anchor": "x10",
         "domain": [
          0,
          1
         ],
         "matches": "y",
         "showticklabels": false
        },
        "yaxis11": {
         "anchor": "x11",
         "domain": [
          0,
          1
         ],
         "matches": "y",
         "showticklabels": false
        },
        "yaxis2": {
         "anchor": "x2",
         "domain": [
          0,
          1
         ],
         "matches": "y",
         "showticklabels": false
        },
        "yaxis3": {
         "anchor": "x3",
         "domain": [
          0,
          1
         ],
         "matches": "y",
         "showticklabels": false
        },
        "yaxis4": {
         "anchor": "x4",
         "domain": [
          0,
          1
         ],
         "matches": "y",
         "showticklabels": false
        },
        "yaxis5": {
         "anchor": "x5",
         "domain": [
          0,
          1
         ],
         "matches": "y",
         "showticklabels": false
        },
        "yaxis6": {
         "anchor": "x6",
         "domain": [
          0,
          1
         ],
         "matches": "y",
         "showticklabels": false
        },
        "yaxis7": {
         "anchor": "x7",
         "domain": [
          0,
          1
         ],
         "matches": "y",
         "showticklabels": false
        },
        "yaxis8": {
         "anchor": "x8",
         "domain": [
          0,
          1
         ],
         "matches": "y",
         "showticklabels": false
        },
        "yaxis9": {
         "anchor": "x9",
         "domain": [
          0,
          1
         ],
         "matches": "y",
         "showticklabels": false
        }
       }
      },
      "text/html": [
       "<div>                        <script type=\"text/javascript\">window.PlotlyConfig = {MathJaxConfig: 'local'};</script>\n",
       "        <script charset=\"utf-8\" src=\"https://cdn.plot.ly/plotly-3.1.1.min.js\" integrity=\"sha256-HUEFyfiTnZJxCxur99FjbKYTvKSzwDaD3/x5TqHpFu4=\" crossorigin=\"anonymous\"></script>                <div id=\"38cebf24-e07e-4e03-8471-c5b44e82c356\" class=\"plotly-graph-div\" style=\"height:100%; width:3300px;\"></div>            <script type=\"text/javascript\">                window.PLOTLYENV=window.PLOTLYENV || {};                                if (document.getElementById(\"38cebf24-e07e-4e03-8471-c5b44e82c356\")) {                    Plotly.newPlot(                        \"38cebf24-e07e-4e03-8471-c5b44e82c356\",                        [{\"marker\":{\"color\":[0,1,2,3,4,5,6,7,8,9,10,11,12,13,14,15,16,17,18,19,20,21,22,23,24,25,26,27,28,29,30,31,32,33,34,35,36,37,38,39,40,41,42,43,44,45,46,47,48,49],\"colorbar\":{\"title\":{\"text\":\"Trial\"},\"x\":1.0,\"xpad\":40},\"colorscale\":[[0.0,\"rgb(247,251,255)\"],[0.125,\"rgb(222,235,247)\"],[0.25,\"rgb(198,219,239)\"],[0.375,\"rgb(158,202,225)\"],[0.5,\"rgb(107,174,214)\"],[0.625,\"rgb(66,146,198)\"],[0.75,\"rgb(33,113,181)\"],[0.875,\"rgb(8,81,156)\"],[1.0,\"rgb(8,48,107)\"]],\"line\":{\"color\":\"Grey\",\"width\":0.5},\"showscale\":true},\"mode\":\"markers\",\"name\":\"Feasible Trial\",\"showlegend\":false,\"x\":[0.8712339110678275,0.9014234438413611,0.899517691011127,0.9421874235023117,0.9486886936600517,0.8563558350286024,0.8927541018358549,0.8661221287254004,0.8927107788626256,0.947178208272096,0.8528478291139971,0.8513553148025303,0.8715112163763844,0.8755407504889483,0.8740863874583386,0.9198507707597202,0.8670559496747424,0.8846091158324922,0.9163161405482261,0.8636088734425605,0.8829910613622213,0.8785098183876235,0.8627958523743791,0.8811442422940439,0.8612224802214589,0.8775530303842521,0.8865013098893159,0.8685304178685387,0.9063346246431395,0.8715684159158977,0.8584211008409289,0.8753548373649981,0.8697078520524402,0.8897280760582977,0.8927707709424861,0.905747012166398,0.9016933689976901,0.9130996700033748,0.9300449091393835,0.901485644292268,0.9080261965222004,0.8951874981855131,0.9001956436460746,0.8979061404922908,0.8980128982499493,0.9252256398333366,0.932804862427679,0.9244336910182035,0.9320163322379106,0.9407093101733085],\"y\":[2.3608831792247367,2.2820522525287616,2.318979126304997,2.2388340980678647,2.2569534097225974,2.229492403550998,2.3261397934918158,2.2148135864928276,2.318103891151641,2.2547791298803928,2.252198774143338,2.237786023098335,2.222565367628073,2.5307493070512326,2.2240652745890386,2.29553608521051,2.2389529783134523,2.2581816980912883,2.2395378422107144,2.234900660096892,2.518379967672704,2.22208513802615,2.367841016161326,2.2548665709096385,2.234500408344479,2.2410339814064644,2.283454395613842,2.270646837716169,2.294690368584063,2.296999378092976,2.42180070090883,2.222058446044877,2.267337575540688,2.221377558730074,2.2312876860289883,2.217123698579245,2.215990140537614,2.2257298756246833,2.225093158793382,2.2352416380844304,2.2530225886515285,2.2131069675604977,2.2168445589309247,2.2251290920895492,2.222747079077472,2.215792968484861,2.265995215493276,2.2340069541869476,2.214915918398305,2.2250385872599927],\"type\":\"scatter\",\"xaxis\":\"x\",\"yaxis\":\"y\"},{\"marker\":{\"color\":[0,1,2,3,4,5,6,7,8,9,10,11,12,13,14,15,16,17,18,19,20,21,22,23,24,25,26,27,28,29,30,31,32,33,34,35,36,37,38,39,40,41,42,43,44,45,46,47,48,49],\"colorbar\":{\"title\":{\"text\":\"Trial\"},\"x\":1.0,\"xpad\":40},\"colorscale\":[[0.0,\"rgb(247,251,255)\"],[0.125,\"rgb(222,235,247)\"],[0.25,\"rgb(198,219,239)\"],[0.375,\"rgb(158,202,225)\"],[0.5,\"rgb(107,174,214)\"],[0.625,\"rgb(66,146,198)\"],[0.75,\"rgb(33,113,181)\"],[0.875,\"rgb(8,81,156)\"],[1.0,\"rgb(8,48,107)\"]],\"line\":{\"color\":\"Grey\",\"width\":0.5},\"showscale\":false},\"mode\":\"markers\",\"name\":\"Feasible Trial\",\"showlegend\":false,\"x\":[0.1205712628744377,0.028145092716060652,0.07896186801026692,0.024112898115291985,0.011662890273931383,0.010189592979395137,0.1195960383019184,0.011128194768838964,0.08622121759478739,0.010239273411172712,0.03445639818969485,0.017503385288179057,0.01341458896888798,0.25584662417332554,0.01751622099503016,0.04775185206539079,0.01679718022476552,0.043004499339600426,0.022523637802736165,0.013722987188971322,0.28943713540306176,0.016929432313236223,0.016404129365867548,0.013601110430113259,0.022256796513877845,0.029829231027351327,0.013263053584906166,0.03562358778302287,0.021793190071613802,0.06487161422946844,0.2049601307261189,0.018698545659261878,0.014267923411607564,0.019667684624011045,0.02546554163394945,0.020153870969308277,0.01905156668431094,0.031907881906453016,0.011065856851404855,0.02672488336929063,0.04032466964837497,0.018215481991953993,0.020021147548223105,0.010578926048830269,0.020578724457406265,0.02685856329872164,0.012197473964077941,0.028649062394214834,0.015348208802267801,0.015541777406018944],\"y\":[2.3608831792247367,2.2820522525287616,2.318979126304997,2.2388340980678647,2.2569534097225974,2.229492403550998,2.3261397934918158,2.2148135864928276,2.318103891151641,2.2547791298803928,2.252198774143338,2.237786023098335,2.222565367628073,2.5307493070512326,2.2240652745890386,2.29553608521051,2.2389529783134523,2.2581816980912883,2.2395378422107144,2.234900660096892,2.518379967672704,2.22208513802615,2.367841016161326,2.2548665709096385,2.234500408344479,2.2410339814064644,2.283454395613842,2.270646837716169,2.294690368584063,2.296999378092976,2.42180070090883,2.222058446044877,2.267337575540688,2.221377558730074,2.2312876860289883,2.217123698579245,2.215990140537614,2.2257298756246833,2.225093158793382,2.2352416380844304,2.2530225886515285,2.2131069675604977,2.2168445589309247,2.2251290920895492,2.222747079077472,2.215792968484861,2.265995215493276,2.2340069541869476,2.214915918398305,2.2250385872599927],\"type\":\"scatter\",\"xaxis\":\"x2\",\"yaxis\":\"y2\"},{\"marker\":{\"color\":[0,1,2,3,4,5,6,7,8,9,10,11,12,13,14,15,16,17,18,19,20,21,22,23,24,25,26,27,28,29,30,31,32,33,34,35,36,37,38,39,40,41,42,43,44,45,46,47,48,49],\"colorbar\":{\"title\":{\"text\":\"Trial\"},\"x\":1.0,\"xpad\":40},\"colorscale\":[[0.0,\"rgb(247,251,255)\"],[0.125,\"rgb(222,235,247)\"],[0.25,\"rgb(198,219,239)\"],[0.375,\"rgb(158,202,225)\"],[0.5,\"rgb(107,174,214)\"],[0.625,\"rgb(66,146,198)\"],[0.75,\"rgb(33,113,181)\"],[0.875,\"rgb(8,81,156)\"],[1.0,\"rgb(8,48,107)\"]],\"line\":{\"color\":\"Grey\",\"width\":0.5},\"showscale\":false},\"mode\":\"markers\",\"name\":\"Feasible Trial\",\"showlegend\":false,\"x\":[\"huber\",\"huber\",\"squared_error\",\"huber\",\"huber\",\"squared_error\",\"huber\",\"huber\",\"squared_error\",\"huber\",\"squared_error\",\"squared_error\",\"squared_error\",\"squared_error\",\"huber\",\"squared_error\",\"huber\",\"squared_error\",\"squared_error\",\"huber\",\"squared_error\",\"huber\",\"huber\",\"huber\",\"huber\",\"huber\",\"huber\",\"huber\",\"squared_error\",\"huber\",\"huber\",\"huber\",\"huber\",\"huber\",\"huber\",\"huber\",\"huber\",\"huber\",\"huber\",\"huber\",\"huber\",\"huber\",\"huber\",\"huber\",\"huber\",\"huber\",\"huber\",\"huber\",\"huber\",\"huber\"],\"y\":[2.3608831792247367,2.2820522525287616,2.318979126304997,2.2388340980678647,2.2569534097225974,2.229492403550998,2.3261397934918158,2.2148135864928276,2.318103891151641,2.2547791298803928,2.252198774143338,2.237786023098335,2.222565367628073,2.5307493070512326,2.2240652745890386,2.29553608521051,2.2389529783134523,2.2581816980912883,2.2395378422107144,2.234900660096892,2.518379967672704,2.22208513802615,2.367841016161326,2.2548665709096385,2.234500408344479,2.2410339814064644,2.283454395613842,2.270646837716169,2.294690368584063,2.296999378092976,2.42180070090883,2.222058446044877,2.267337575540688,2.221377558730074,2.2312876860289883,2.217123698579245,2.215990140537614,2.2257298756246833,2.225093158793382,2.2352416380844304,2.2530225886515285,2.2131069675604977,2.2168445589309247,2.2251290920895492,2.222747079077472,2.215792968484861,2.265995215493276,2.2340069541869476,2.214915918398305,2.2250385872599927],\"type\":\"scatter\",\"xaxis\":\"x3\",\"yaxis\":\"y3\"},{\"marker\":{\"color\":[0,1,2,3,4,5,6,7,8,9,10,11,12,13,14,15,16,17,18,19,20,21,22,23,24,25,26,27,28,29,30,31,32,33,34,35,36,37,38,39,40,41,42,43,44,45,46,47,48,49],\"colorbar\":{\"title\":{\"text\":\"Trial\"},\"x\":1.0,\"xpad\":40},\"colorscale\":[[0.0,\"rgb(247,251,255)\"],[0.125,\"rgb(222,235,247)\"],[0.25,\"rgb(198,219,239)\"],[0.375,\"rgb(158,202,225)\"],[0.5,\"rgb(107,174,214)\"],[0.625,\"rgb(66,146,198)\"],[0.75,\"rgb(33,113,181)\"],[0.875,\"rgb(8,81,156)\"],[1.0,\"rgb(8,48,107)\"]],\"line\":{\"color\":\"Grey\",\"width\":0.5},\"showscale\":false},\"mode\":\"markers\",\"name\":\"Feasible Trial\",\"showlegend\":false,\"x\":[7,2,6,3,4,2,6,3,5,4,3,2,3,3,4,3,5,3,2,4,5,4,3,4,3,4,2,5,3,7,6,4,4,4,5,4,4,5,6,4,5,4,4,3,4,3,2,3,3,2],\"y\":[2.3608831792247367,2.2820522525287616,2.318979126304997,2.2388340980678647,2.2569534097225974,2.229492403550998,2.3261397934918158,2.2148135864928276,2.318103891151641,2.2547791298803928,2.252198774143338,2.237786023098335,2.222565367628073,2.5307493070512326,2.2240652745890386,2.29553608521051,2.2389529783134523,2.2581816980912883,2.2395378422107144,2.234900660096892,2.518379967672704,2.22208513802615,2.367841016161326,2.2548665709096385,2.234500408344479,2.2410339814064644,2.283454395613842,2.270646837716169,2.294690368584063,2.296999378092976,2.42180070090883,2.222058446044877,2.267337575540688,2.221377558730074,2.2312876860289883,2.217123698579245,2.215990140537614,2.2257298756246833,2.225093158793382,2.2352416380844304,2.2530225886515285,2.2131069675604977,2.2168445589309247,2.2251290920895492,2.222747079077472,2.215792968484861,2.265995215493276,2.2340069541869476,2.214915918398305,2.2250385872599927],\"type\":\"scatter\",\"xaxis\":\"x4\",\"yaxis\":\"y4\"},{\"marker\":{\"color\":[0,1,2,3,4,5,6,7,8,9,10,11,12,13,14,15,16,17,18,19,20,21,22,23,24,25,26,27,28,29,30,31,32,33,34,35,36,37,38,39,40,41,42,43,44,45,46,47,48,49],\"colorbar\":{\"title\":{\"text\":\"Trial\"},\"x\":1.0,\"xpad\":40},\"colorscale\":[[0.0,\"rgb(247,251,255)\"],[0.125,\"rgb(222,235,247)\"],[0.25,\"rgb(198,219,239)\"],[0.375,\"rgb(158,202,225)\"],[0.5,\"rgb(107,174,214)\"],[0.625,\"rgb(66,146,198)\"],[0.75,\"rgb(33,113,181)\"],[0.875,\"rgb(8,81,156)\"],[1.0,\"rgb(8,48,107)\"]],\"line\":{\"color\":\"Grey\",\"width\":0.5},\"showscale\":false},\"mode\":\"markers\",\"name\":\"Feasible Trial\",\"showlegend\":false,\"x\":[null,null,\"log2\",\"log2\",null,\"log2\",\"log2\",\"sqrt\",\"sqrt\",null,\"sqrt\",\"sqrt\",\"sqrt\",\"sqrt\",\"sqrt\",\"sqrt\",\"sqrt\",\"sqrt\",\"sqrt\",\"sqrt\",\"sqrt\",\"sqrt\",\"sqrt\",\"sqrt\",\"sqrt\",\"sqrt\",\"sqrt\",\"sqrt\",null,\"log2\",null,\"sqrt\",\"sqrt\",\"sqrt\",\"sqrt\",\"log2\",\"log2\",\"log2\",\"log2\",\"log2\",\"log2\",\"log2\",\"log2\",\"log2\",\"log2\",\"log2\",\"log2\",\"log2\",\"log2\",\"log2\"],\"y\":[2.3608831792247367,2.2820522525287616,2.318979126304997,2.2388340980678647,2.2569534097225974,2.229492403550998,2.3261397934918158,2.2148135864928276,2.318103891151641,2.2547791298803928,2.252198774143338,2.237786023098335,2.222565367628073,2.5307493070512326,2.2240652745890386,2.29553608521051,2.2389529783134523,2.2581816980912883,2.2395378422107144,2.234900660096892,2.518379967672704,2.22208513802615,2.367841016161326,2.2548665709096385,2.234500408344479,2.2410339814064644,2.283454395613842,2.270646837716169,2.294690368584063,2.296999378092976,2.42180070090883,2.222058446044877,2.267337575540688,2.221377558730074,2.2312876860289883,2.217123698579245,2.215990140537614,2.2257298756246833,2.225093158793382,2.2352416380844304,2.2530225886515285,2.2131069675604977,2.2168445589309247,2.2251290920895492,2.222747079077472,2.215792968484861,2.265995215493276,2.2340069541869476,2.214915918398305,2.2250385872599927],\"type\":\"scatter\",\"xaxis\":\"x5\",\"yaxis\":\"y5\"},{\"marker\":{\"color\":[0,1,2,3,4,5,6,7,8,9,10,11,12,13,14,15,16,17,18,19,20,21,22,23,24,25,26,27,28,29,30,31,32,33,34,35,36,37,38,39,40,41,42,43,44,45,46,47,48,49],\"colorbar\":{\"title\":{\"text\":\"Trial\"},\"x\":1.0,\"xpad\":40},\"colorscale\":[[0.0,\"rgb(247,251,255)\"],[0.125,\"rgb(222,235,247)\"],[0.25,\"rgb(198,219,239)\"],[0.375,\"rgb(158,202,225)\"],[0.5,\"rgb(107,174,214)\"],[0.625,\"rgb(66,146,198)\"],[0.75,\"rgb(33,113,181)\"],[0.875,\"rgb(8,81,156)\"],[1.0,\"rgb(8,48,107)\"]],\"line\":{\"color\":\"Grey\",\"width\":0.5},\"showscale\":false},\"mode\":\"markers\",\"name\":\"Feasible Trial\",\"showlegend\":false,\"x\":[425,140,105,319,83,199,285,180,152,213,497,220,207,328,246,55,163,400,277,172,110,246,231,327,257,187,295,373,121,191,363,246,255,142,135,83,79,81,73,96,134,53,50,52,68,96,99,118,51,98],\"y\":[2.3608831792247367,2.2820522525287616,2.318979126304997,2.2388340980678647,2.2569534097225974,2.229492403550998,2.3261397934918158,2.2148135864928276,2.318103891151641,2.2547791298803928,2.252198774143338,2.237786023098335,2.222565367628073,2.5307493070512326,2.2240652745890386,2.29553608521051,2.2389529783134523,2.2581816980912883,2.2395378422107144,2.234900660096892,2.518379967672704,2.22208513802615,2.367841016161326,2.2548665709096385,2.234500408344479,2.2410339814064644,2.283454395613842,2.270646837716169,2.294690368584063,2.296999378092976,2.42180070090883,2.222058446044877,2.267337575540688,2.221377558730074,2.2312876860289883,2.217123698579245,2.215990140537614,2.2257298756246833,2.225093158793382,2.2352416380844304,2.2530225886515285,2.2131069675604977,2.2168445589309247,2.2251290920895492,2.222747079077472,2.215792968484861,2.265995215493276,2.2340069541869476,2.214915918398305,2.2250385872599927],\"type\":\"scatter\",\"xaxis\":\"x6\",\"yaxis\":\"y6\"},{\"marker\":{\"color\":[0,1,2,3,4,5,6,7,8,9,10,11,12,13,14,15,16,17,18,19,20,21,22,23,24,25,26,27,28,29,30,31,32,33,34,35,36,37,38,39,40,41,42,43,44,45,46,47,48,49],\"colorbar\":{\"title\":{\"text\":\"Trial\"},\"x\":1.0,\"xpad\":40},\"colorscale\":[[0.0,\"rgb(247,251,255)\"],[0.125,\"rgb(222,235,247)\"],[0.25,\"rgb(198,219,239)\"],[0.375,\"rgb(158,202,225)\"],[0.5,\"rgb(107,174,214)\"],[0.625,\"rgb(66,146,198)\"],[0.75,\"rgb(33,113,181)\"],[0.875,\"rgb(8,81,156)\"],[1.0,\"rgb(8,48,107)\"]],\"line\":{\"color\":\"Grey\",\"width\":0.5},\"showscale\":false},\"mode\":\"markers\",\"name\":\"Feasible Trial\",\"showlegend\":false,\"x\":[0.12022300234864176,0.058428929707043636,0.06092275383467414,0.19391692555291173,0.05618690193747616,0.07169314570885453,0.1521570097233795,0.08207658460712595,0.1614880310328125,0.18858194078250384,0.005278365854026579,0.0954576825626162,0.09130867133019255,0.10992009495635216,0.08861031477364052,0.021962820748635266,0.13219994755130463,0.029621372163248554,0.08180021421406473,0.13425967449340742,0.04105605116514056,0.09181425004024427,0.10862768791146489,0.08039727090901545,0.0954822964178552,0.12239776081367332,0.07132453713299033,0.041920639542824684,0.10209350202272213,0.12119057184604064,0.13664942977310685,0.08533824581145212,0.07165865585444144,0.05794140290827088,0.06266440181977,0.048867007494396444,0.04564439752237828,0.04908489060211184,0.02340290513603669,0.0020558750663316194,0.05053430997992995,0.06321206484858768,0.062319009316616845,0.03462821921378126,0.06290691131039934,0.012562633576107124,0.015700915425040828,0.017554134784538405,0.010588993625053354,0.03071954517906811],\"y\":[2.3608831792247367,2.2820522525287616,2.318979126304997,2.2388340980678647,2.2569534097225974,2.229492403550998,2.3261397934918158,2.2148135864928276,2.318103891151641,2.2547791298803928,2.252198774143338,2.237786023098335,2.222565367628073,2.5307493070512326,2.2240652745890386,2.29553608521051,2.2389529783134523,2.2581816980912883,2.2395378422107144,2.234900660096892,2.518379967672704,2.22208513802615,2.367841016161326,2.2548665709096385,2.234500408344479,2.2410339814064644,2.283454395613842,2.270646837716169,2.294690368584063,2.296999378092976,2.42180070090883,2.222058446044877,2.267337575540688,2.221377558730074,2.2312876860289883,2.217123698579245,2.215990140537614,2.2257298756246833,2.225093158793382,2.2352416380844304,2.2530225886515285,2.2131069675604977,2.2168445589309247,2.2251290920895492,2.222747079077472,2.215792968484861,2.265995215493276,2.2340069541869476,2.214915918398305,2.2250385872599927],\"type\":\"scatter\",\"xaxis\":\"x7\",\"yaxis\":\"y7\"},{\"marker\":{\"color\":[0,1,2,3,4,5,6,7,8,9,10,11,12,13,14,15,16,17,18,19,20,21,22,23,24,25,26,27,28,29,30,31,32,33,34,35,36,37,38,39,40,41,42,43,44,45,46,47,48,49],\"colorbar\":{\"title\":{\"text\":\"Trial\"},\"x\":1.0,\"xpad\":40},\"colorscale\":[[0.0,\"rgb(247,251,255)\"],[0.125,\"rgb(222,235,247)\"],[0.25,\"rgb(198,219,239)\"],[0.375,\"rgb(158,202,225)\"],[0.5,\"rgb(107,174,214)\"],[0.625,\"rgb(66,146,198)\"],[0.75,\"rgb(33,113,181)\"],[0.875,\"rgb(8,81,156)\"],[1.0,\"rgb(8,48,107)\"]],\"line\":{\"color\":\"Grey\",\"width\":0.5},\"showscale\":false},\"mode\":\"markers\",\"name\":\"Feasible Trial\",\"showlegend\":false,\"x\":[1,4,5,3,5,4,1,5,5,1,3,4,4,4,2,3,5,4,2,5,4,2,2,2,3,5,2,3,4,1,5,2,2,1,1,1,1,1,1,1,1,1,1,1,1,1,1,1,2,3],\"y\":[2.3608831792247367,2.2820522525287616,2.318979126304997,2.2388340980678647,2.2569534097225974,2.229492403550998,2.3261397934918158,2.2148135864928276,2.318103891151641,2.2547791298803928,2.252198774143338,2.237786023098335,2.222565367628073,2.5307493070512326,2.2240652745890386,2.29553608521051,2.2389529783134523,2.2581816980912883,2.2395378422107144,2.234900660096892,2.518379967672704,2.22208513802615,2.367841016161326,2.2548665709096385,2.234500408344479,2.2410339814064644,2.283454395613842,2.270646837716169,2.294690368584063,2.296999378092976,2.42180070090883,2.222058446044877,2.267337575540688,2.221377558730074,2.2312876860289883,2.217123698579245,2.215990140537614,2.2257298756246833,2.225093158793382,2.2352416380844304,2.2530225886515285,2.2131069675604977,2.2168445589309247,2.2251290920895492,2.222747079077472,2.215792968484861,2.265995215493276,2.2340069541869476,2.214915918398305,2.2250385872599927],\"type\":\"scatter\",\"xaxis\":\"x8\",\"yaxis\":\"y8\"},{\"marker\":{\"color\":[0,1,2,3,4,5,6,7,8,9,10,11,12,13,14,15,16,17,18,19,20,21,22,23,24,25,26,27,28,29,30,31,32,33,34,35,36,37,38,39,40,41,42,43,44,45,46,47,48,49],\"colorbar\":{\"title\":{\"text\":\"Trial\"},\"x\":1.0,\"xpad\":40},\"colorscale\":[[0.0,\"rgb(247,251,255)\"],[0.125,\"rgb(222,235,247)\"],[0.25,\"rgb(198,219,239)\"],[0.375,\"rgb(158,202,225)\"],[0.5,\"rgb(107,174,214)\"],[0.625,\"rgb(66,146,198)\"],[0.75,\"rgb(33,113,181)\"],[0.875,\"rgb(8,81,156)\"],[1.0,\"rgb(8,48,107)\"]],\"line\":{\"color\":\"Grey\",\"width\":0.5},\"showscale\":false},\"mode\":\"markers\",\"name\":\"Feasible Trial\",\"showlegend\":false,\"x\":[3,4,10,6,4,8,6,6,3,3,7,8,9,10,9,6,5,8,7,5,9,9,9,7,10,8,5,2,9,7,10,9,9,8,8,7,7,6,6,7,4,7,7,7,6,7,5,6,7,7],\"y\":[2.3608831792247367,2.2820522525287616,2.318979126304997,2.2388340980678647,2.2569534097225974,2.229492403550998,2.3261397934918158,2.2148135864928276,2.318103891151641,2.2547791298803928,2.252198774143338,2.237786023098335,2.222565367628073,2.5307493070512326,2.2240652745890386,2.29553608521051,2.2389529783134523,2.2581816980912883,2.2395378422107144,2.234900660096892,2.518379967672704,2.22208513802615,2.367841016161326,2.2548665709096385,2.234500408344479,2.2410339814064644,2.283454395613842,2.270646837716169,2.294690368584063,2.296999378092976,2.42180070090883,2.222058446044877,2.267337575540688,2.221377558730074,2.2312876860289883,2.217123698579245,2.215990140537614,2.2257298756246833,2.225093158793382,2.2352416380844304,2.2530225886515285,2.2131069675604977,2.2168445589309247,2.2251290920895492,2.222747079077472,2.215792968484861,2.265995215493276,2.2340069541869476,2.214915918398305,2.2250385872599927],\"type\":\"scatter\",\"xaxis\":\"x9\",\"yaxis\":\"y9\"},{\"marker\":{\"color\":[0,1,2,3,4,5,6,7,8,9,10,11,12,13,14,15,16,17,18,19,20,21,22,23,24,25,26,27,28,29,30,31,32,33,34,35,36,37,38,39,40,41,42,43,44,45,46,47,48,49],\"colorbar\":{\"title\":{\"text\":\"Trial\"},\"x\":1.0,\"xpad\":40},\"colorscale\":[[0.0,\"rgb(247,251,255)\"],[0.125,\"rgb(222,235,247)\"],[0.25,\"rgb(198,219,239)\"],[0.375,\"rgb(158,202,225)\"],[0.5,\"rgb(107,174,214)\"],[0.625,\"rgb(66,146,198)\"],[0.75,\"rgb(33,113,181)\"],[0.875,\"rgb(8,81,156)\"],[1.0,\"rgb(8,48,107)\"]],\"line\":{\"color\":\"Grey\",\"width\":0.5},\"showscale\":false},\"mode\":\"markers\",\"name\":\"Feasible Trial\",\"showlegend\":false,\"x\":[639,572,253,696,393,834,674,673,885,560,106,993,822,824,374,761,999,482,742,890,469,273,139,232,607,494,306,763,895,629,403,347,210,326,308,321,349,183,426,530,327,368,434,443,525,373,370,590,683,661],\"y\":[2.3608831792247367,2.2820522525287616,2.318979126304997,2.2388340980678647,2.2569534097225974,2.229492403550998,2.3261397934918158,2.2148135864928276,2.318103891151641,2.2547791298803928,2.252198774143338,2.237786023098335,2.222565367628073,2.5307493070512326,2.2240652745890386,2.29553608521051,2.2389529783134523,2.2581816980912883,2.2395378422107144,2.234900660096892,2.518379967672704,2.22208513802615,2.367841016161326,2.2548665709096385,2.234500408344479,2.2410339814064644,2.283454395613842,2.270646837716169,2.294690368584063,2.296999378092976,2.42180070090883,2.222058446044877,2.267337575540688,2.221377558730074,2.2312876860289883,2.217123698579245,2.215990140537614,2.2257298756246833,2.225093158793382,2.2352416380844304,2.2530225886515285,2.2131069675604977,2.2168445589309247,2.2251290920895492,2.222747079077472,2.215792968484861,2.265995215493276,2.2340069541869476,2.214915918398305,2.2250385872599927],\"type\":\"scatter\",\"xaxis\":\"x10\",\"yaxis\":\"y10\"},{\"marker\":{\"color\":[0,1,2,3,4,5,6,7,8,9,10,11,12,13,14,15,16,17,18,19,20,21,22,23,24,25,26,27,28,29,30,31,32,33,34,35,36,37,38,39,40,41,42,43,44,45,46,47,48,49],\"colorbar\":{\"title\":{\"text\":\"Trial\"},\"x\":1.0,\"xpad\":40},\"colorscale\":[[0.0,\"rgb(247,251,255)\"],[0.125,\"rgb(222,235,247)\"],[0.25,\"rgb(198,219,239)\"],[0.375,\"rgb(158,202,225)\"],[0.5,\"rgb(107,174,214)\"],[0.625,\"rgb(66,146,198)\"],[0.75,\"rgb(33,113,181)\"],[0.875,\"rgb(8,81,156)\"],[1.0,\"rgb(8,48,107)\"]],\"line\":{\"color\":\"Grey\",\"width\":0.5},\"showscale\":false},\"mode\":\"markers\",\"name\":\"Feasible Trial\",\"showlegend\":false,\"x\":[0.6624074561769746,0.7727780074568463,0.6260206371941118,0.7246844304357644,0.7554709158757928,0.8827429375390468,0.9548850970305306,0.7257423924305306,0.9214688307596458,0.7669644012595116,0.8559192772506938,0.8478578374796667,0.84450876983227,0.6967268492719876,0.8045604523998372,0.8210137421803548,0.6997108097658562,0.9732071419446625,0.6020394152472084,0.8945172351954431,0.7293363056497617,0.8012364486139857,0.8131426732117017,0.8394938090778475,0.7800112678160017,0.6705094672175854,0.8795410705783853,0.9175392558703932,0.7468714877292691,0.6552863481261628,0.7914691169956078,0.8210807737385951,0.8261067780130366,0.8582476792678189,0.7958948941829426,0.7345769786766436,0.7276893432735742,0.7086674042397739,0.7378202822333738,0.6746442099123175,0.7635689220435657,0.7118604064961678,0.6462890155373187,0.6483069058435833,0.7158319395956911,0.6938068627026094,0.6307263899116755,0.6891577676320443,0.6839994024018025,0.6829021967926221],\"y\":[2.3608831792247367,2.2820522525287616,2.318979126304997,2.2388340980678647,2.2569534097225974,2.229492403550998,2.3261397934918158,2.2148135864928276,2.318103891151641,2.2547791298803928,2.252198774143338,2.237786023098335,2.222565367628073,2.5307493070512326,2.2240652745890386,2.29553608521051,2.2389529783134523,2.2581816980912883,2.2395378422107144,2.234900660096892,2.518379967672704,2.22208513802615,2.367841016161326,2.2548665709096385,2.234500408344479,2.2410339814064644,2.283454395613842,2.270646837716169,2.294690368584063,2.296999378092976,2.42180070090883,2.222058446044877,2.267337575540688,2.221377558730074,2.2312876860289883,2.217123698579245,2.215990140537614,2.2257298756246833,2.225093158793382,2.2352416380844304,2.2530225886515285,2.2131069675604977,2.2168445589309247,2.2251290920895492,2.222747079077472,2.215792968484861,2.265995215493276,2.2340069541869476,2.214915918398305,2.2250385872599927],\"type\":\"scatter\",\"xaxis\":\"x11\",\"yaxis\":\"y11\"}],                        {\"template\":{\"data\":{\"histogram2dcontour\":[{\"type\":\"histogram2dcontour\",\"colorbar\":{\"outlinewidth\":0,\"ticks\":\"\"},\"colorscale\":[[0.0,\"#0d0887\"],[0.1111111111111111,\"#46039f\"],[0.2222222222222222,\"#7201a8\"],[0.3333333333333333,\"#9c179e\"],[0.4444444444444444,\"#bd3786\"],[0.5555555555555556,\"#d8576b\"],[0.6666666666666666,\"#ed7953\"],[0.7777777777777778,\"#fb9f3a\"],[0.8888888888888888,\"#fdca26\"],[1.0,\"#f0f921\"]]}],\"choropleth\":[{\"type\":\"choropleth\",\"colorbar\":{\"outlinewidth\":0,\"ticks\":\"\"}}],\"histogram2d\":[{\"type\":\"histogram2d\",\"colorbar\":{\"outlinewidth\":0,\"ticks\":\"\"},\"colorscale\":[[0.0,\"#0d0887\"],[0.1111111111111111,\"#46039f\"],[0.2222222222222222,\"#7201a8\"],[0.3333333333333333,\"#9c179e\"],[0.4444444444444444,\"#bd3786\"],[0.5555555555555556,\"#d8576b\"],[0.6666666666666666,\"#ed7953\"],[0.7777777777777778,\"#fb9f3a\"],[0.8888888888888888,\"#fdca26\"],[1.0,\"#f0f921\"]]}],\"heatmap\":[{\"type\":\"heatmap\",\"colorbar\":{\"outlinewidth\":0,\"ticks\":\"\"},\"colorscale\":[[0.0,\"#0d0887\"],[0.1111111111111111,\"#46039f\"],[0.2222222222222222,\"#7201a8\"],[0.3333333333333333,\"#9c179e\"],[0.4444444444444444,\"#bd3786\"],[0.5555555555555556,\"#d8576b\"],[0.6666666666666666,\"#ed7953\"],[0.7777777777777778,\"#fb9f3a\"],[0.8888888888888888,\"#fdca26\"],[1.0,\"#f0f921\"]]}],\"contourcarpet\":[{\"type\":\"contourcarpet\",\"colorbar\":{\"outlinewidth\":0,\"ticks\":\"\"}}],\"contour\":[{\"type\":\"contour\",\"colorbar\":{\"outlinewidth\":0,\"ticks\":\"\"},\"colorscale\":[[0.0,\"#0d0887\"],[0.1111111111111111,\"#46039f\"],[0.2222222222222222,\"#7201a8\"],[0.3333333333333333,\"#9c179e\"],[0.4444444444444444,\"#bd3786\"],[0.5555555555555556,\"#d8576b\"],[0.6666666666666666,\"#ed7953\"],[0.7777777777777778,\"#fb9f3a\"],[0.8888888888888888,\"#fdca26\"],[1.0,\"#f0f921\"]]}],\"surface\":[{\"type\":\"surface\",\"colorbar\":{\"outlinewidth\":0,\"ticks\":\"\"},\"colorscale\":[[0.0,\"#0d0887\"],[0.1111111111111111,\"#46039f\"],[0.2222222222222222,\"#7201a8\"],[0.3333333333333333,\"#9c179e\"],[0.4444444444444444,\"#bd3786\"],[0.5555555555555556,\"#d8576b\"],[0.6666666666666666,\"#ed7953\"],[0.7777777777777778,\"#fb9f3a\"],[0.8888888888888888,\"#fdca26\"],[1.0,\"#f0f921\"]]}],\"mesh3d\":[{\"type\":\"mesh3d\",\"colorbar\":{\"outlinewidth\":0,\"ticks\":\"\"}}],\"scatter\":[{\"fillpattern\":{\"fillmode\":\"overlay\",\"size\":10,\"solidity\":0.2},\"type\":\"scatter\"}],\"parcoords\":[{\"type\":\"parcoords\",\"line\":{\"colorbar\":{\"outlinewidth\":0,\"ticks\":\"\"}}}],\"scatterpolargl\":[{\"type\":\"scatterpolargl\",\"marker\":{\"colorbar\":{\"outlinewidth\":0,\"ticks\":\"\"}}}],\"bar\":[{\"error_x\":{\"color\":\"#2a3f5f\"},\"error_y\":{\"color\":\"#2a3f5f\"},\"marker\":{\"line\":{\"color\":\"#E5ECF6\",\"width\":0.5},\"pattern\":{\"fillmode\":\"overlay\",\"size\":10,\"solidity\":0.2}},\"type\":\"bar\"}],\"scattergeo\":[{\"type\":\"scattergeo\",\"marker\":{\"colorbar\":{\"outlinewidth\":0,\"ticks\":\"\"}}}],\"scatterpolar\":[{\"type\":\"scatterpolar\",\"marker\":{\"colorbar\":{\"outlinewidth\":0,\"ticks\":\"\"}}}],\"histogram\":[{\"marker\":{\"pattern\":{\"fillmode\":\"overlay\",\"size\":10,\"solidity\":0.2}},\"type\":\"histogram\"}],\"scattergl\":[{\"type\":\"scattergl\",\"marker\":{\"colorbar\":{\"outlinewidth\":0,\"ticks\":\"\"}}}],\"scatter3d\":[{\"type\":\"scatter3d\",\"line\":{\"colorbar\":{\"outlinewidth\":0,\"ticks\":\"\"}},\"marker\":{\"colorbar\":{\"outlinewidth\":0,\"ticks\":\"\"}}}],\"scattermap\":[{\"type\":\"scattermap\",\"marker\":{\"colorbar\":{\"outlinewidth\":0,\"ticks\":\"\"}}}],\"scattermapbox\":[{\"type\":\"scattermapbox\",\"marker\":{\"colorbar\":{\"outlinewidth\":0,\"ticks\":\"\"}}}],\"scatterternary\":[{\"type\":\"scatterternary\",\"marker\":{\"colorbar\":{\"outlinewidth\":0,\"ticks\":\"\"}}}],\"scattercarpet\":[{\"type\":\"scattercarpet\",\"marker\":{\"colorbar\":{\"outlinewidth\":0,\"ticks\":\"\"}}}],\"carpet\":[{\"aaxis\":{\"endlinecolor\":\"#2a3f5f\",\"gridcolor\":\"white\",\"linecolor\":\"white\",\"minorgridcolor\":\"white\",\"startlinecolor\":\"#2a3f5f\"},\"baxis\":{\"endlinecolor\":\"#2a3f5f\",\"gridcolor\":\"white\",\"linecolor\":\"white\",\"minorgridcolor\":\"white\",\"startlinecolor\":\"#2a3f5f\"},\"type\":\"carpet\"}],\"table\":[{\"cells\":{\"fill\":{\"color\":\"#EBF0F8\"},\"line\":{\"color\":\"white\"}},\"header\":{\"fill\":{\"color\":\"#C8D4E3\"},\"line\":{\"color\":\"white\"}},\"type\":\"table\"}],\"barpolar\":[{\"marker\":{\"line\":{\"color\":\"#E5ECF6\",\"width\":0.5},\"pattern\":{\"fillmode\":\"overlay\",\"size\":10,\"solidity\":0.2}},\"type\":\"barpolar\"}],\"pie\":[{\"automargin\":true,\"type\":\"pie\"}]},\"layout\":{\"autotypenumbers\":\"strict\",\"colorway\":[\"#636efa\",\"#EF553B\",\"#00cc96\",\"#ab63fa\",\"#FFA15A\",\"#19d3f3\",\"#FF6692\",\"#B6E880\",\"#FF97FF\",\"#FECB52\"],\"font\":{\"color\":\"#2a3f5f\"},\"hovermode\":\"closest\",\"hoverlabel\":{\"align\":\"left\"},\"paper_bgcolor\":\"white\",\"plot_bgcolor\":\"#E5ECF6\",\"polar\":{\"bgcolor\":\"#E5ECF6\",\"angularaxis\":{\"gridcolor\":\"white\",\"linecolor\":\"white\",\"ticks\":\"\"},\"radialaxis\":{\"gridcolor\":\"white\",\"linecolor\":\"white\",\"ticks\":\"\"}},\"ternary\":{\"bgcolor\":\"#E5ECF6\",\"aaxis\":{\"gridcolor\":\"white\",\"linecolor\":\"white\",\"ticks\":\"\"},\"baxis\":{\"gridcolor\":\"white\",\"linecolor\":\"white\",\"ticks\":\"\"},\"caxis\":{\"gridcolor\":\"white\",\"linecolor\":\"white\",\"ticks\":\"\"}},\"coloraxis\":{\"colorbar\":{\"outlinewidth\":0,\"ticks\":\"\"}},\"colorscale\":{\"sequential\":[[0.0,\"#0d0887\"],[0.1111111111111111,\"#46039f\"],[0.2222222222222222,\"#7201a8\"],[0.3333333333333333,\"#9c179e\"],[0.4444444444444444,\"#bd3786\"],[0.5555555555555556,\"#d8576b\"],[0.6666666666666666,\"#ed7953\"],[0.7777777777777778,\"#fb9f3a\"],[0.8888888888888888,\"#fdca26\"],[1.0,\"#f0f921\"]],\"sequentialminus\":[[0.0,\"#0d0887\"],[0.1111111111111111,\"#46039f\"],[0.2222222222222222,\"#7201a8\"],[0.3333333333333333,\"#9c179e\"],[0.4444444444444444,\"#bd3786\"],[0.5555555555555556,\"#d8576b\"],[0.6666666666666666,\"#ed7953\"],[0.7777777777777778,\"#fb9f3a\"],[0.8888888888888888,\"#fdca26\"],[1.0,\"#f0f921\"]],\"diverging\":[[0,\"#8e0152\"],[0.1,\"#c51b7d\"],[0.2,\"#de77ae\"],[0.3,\"#f1b6da\"],[0.4,\"#fde0ef\"],[0.5,\"#f7f7f7\"],[0.6,\"#e6f5d0\"],[0.7,\"#b8e186\"],[0.8,\"#7fbc41\"],[0.9,\"#4d9221\"],[1,\"#276419\"]]},\"xaxis\":{\"gridcolor\":\"white\",\"linecolor\":\"white\",\"ticks\":\"\",\"title\":{\"standoff\":15},\"zerolinecolor\":\"white\",\"automargin\":true,\"zerolinewidth\":2},\"yaxis\":{\"gridcolor\":\"white\",\"linecolor\":\"white\",\"ticks\":\"\",\"title\":{\"standoff\":15},\"zerolinecolor\":\"white\",\"automargin\":true,\"zerolinewidth\":2},\"scene\":{\"xaxis\":{\"backgroundcolor\":\"#E5ECF6\",\"gridcolor\":\"white\",\"linecolor\":\"white\",\"showbackground\":true,\"ticks\":\"\",\"zerolinecolor\":\"white\",\"gridwidth\":2},\"yaxis\":{\"backgroundcolor\":\"#E5ECF6\",\"gridcolor\":\"white\",\"linecolor\":\"white\",\"showbackground\":true,\"ticks\":\"\",\"zerolinecolor\":\"white\",\"gridwidth\":2},\"zaxis\":{\"backgroundcolor\":\"#E5ECF6\",\"gridcolor\":\"white\",\"linecolor\":\"white\",\"showbackground\":true,\"ticks\":\"\",\"zerolinecolor\":\"white\",\"gridwidth\":2}},\"shapedefaults\":{\"line\":{\"color\":\"#2a3f5f\"}},\"annotationdefaults\":{\"arrowcolor\":\"#2a3f5f\",\"arrowhead\":0,\"arrowwidth\":1},\"geo\":{\"bgcolor\":\"white\",\"landcolor\":\"#E5ECF6\",\"subunitcolor\":\"white\",\"showland\":true,\"showlakes\":true,\"lakecolor\":\"white\"},\"title\":{\"x\":0.05},\"mapbox\":{\"style\":\"light\"}}},\"xaxis\":{\"anchor\":\"y\",\"domain\":[0.0,0.07438016528925619],\"title\":{\"text\":\"alpha\"}},\"yaxis\":{\"anchor\":\"x\",\"domain\":[0.0,1.0],\"title\":{\"text\":\"Objective Value\"}},\"xaxis2\":{\"anchor\":\"y2\",\"domain\":[0.09256198347107437,0.16694214876033056],\"title\":{\"text\":\"learning_rate\"},\"type\":\"log\"},\"yaxis2\":{\"anchor\":\"x2\",\"domain\":[0.0,1.0],\"matches\":\"y\",\"showticklabels\":false},\"xaxis3\":{\"anchor\":\"y3\",\"domain\":[0.18512396694214875,0.25950413223140495],\"title\":{\"text\":\"loss\"},\"type\":\"category\",\"categoryorder\":\"array\",\"categoryarray\":[\"squared_error\",\"huber\"]},\"yaxis3\":{\"anchor\":\"x3\",\"domain\":[0.0,1.0],\"matches\":\"y\",\"showticklabels\":false},\"xaxis4\":{\"anchor\":\"y4\",\"domain\":[0.27768595041322314,0.3520661157024793],\"title\":{\"text\":\"max_depth\"}},\"yaxis4\":{\"anchor\":\"x4\",\"domain\":[0.0,1.0],\"matches\":\"y\",\"showticklabels\":false},\"xaxis5\":{\"anchor\":\"y5\",\"domain\":[0.3702479338842975,0.44462809917355367],\"title\":{\"text\":\"max_features\"},\"type\":\"category\",\"categoryorder\":\"array\",\"categoryarray\":[\"sqrt\",\"log2\",null]},\"yaxis5\":{\"anchor\":\"x5\",\"domain\":[0.0,1.0],\"matches\":\"y\",\"showticklabels\":false},\"xaxis6\":{\"anchor\":\"y6\",\"domain\":[0.46280991735537186,0.5371900826446281],\"title\":{\"text\":\"max_leaf_nodes\"}},\"yaxis6\":{\"anchor\":\"x6\",\"domain\":[0.0,1.0],\"matches\":\"y\",\"showticklabels\":false},\"xaxis7\":{\"anchor\":\"y7\",\"domain\":[0.5553719008264462,0.6297520661157023],\"title\":{\"text\":\"min_impurity_decrease\"}},\"yaxis7\":{\"anchor\":\"x7\",\"domain\":[0.0,1.0],\"matches\":\"y\",\"showticklabels\":false},\"xaxis8\":{\"anchor\":\"y8\",\"domain\":[0.6479338842975206,0.7223140495867768],\"title\":{\"text\":\"min_samples_leaf\"}},\"yaxis8\":{\"anchor\":\"x8\",\"domain\":[0.0,1.0],\"matches\":\"y\",\"showticklabels\":false},\"xaxis9\":{\"anchor\":\"y9\",\"domain\":[0.740495867768595,0.8148760330578512],\"title\":{\"text\":\"min_samples_split\"}},\"yaxis9\":{\"anchor\":\"x9\",\"domain\":[0.0,1.0],\"matches\":\"y\",\"showticklabels\":false},\"xaxis10\":{\"anchor\":\"y10\",\"domain\":[0.8330578512396694,0.9074380165289255],\"title\":{\"text\":\"n_estimators\"}},\"yaxis10\":{\"anchor\":\"x10\",\"domain\":[0.0,1.0],\"matches\":\"y\",\"showticklabels\":false},\"xaxis11\":{\"anchor\":\"y11\",\"domain\":[0.9256198347107437,0.9999999999999999],\"title\":{\"text\":\"subsample\"}},\"yaxis11\":{\"anchor\":\"x11\",\"domain\":[0.0,1.0],\"matches\":\"y\",\"showticklabels\":false},\"title\":{\"text\":\"Slice Plot\"},\"width\":3300},                        {\"responsive\": true}                    )                };            </script>        </div>"
      ],
      "text/plain": [
       "Figure({\n",
       "    'data': [{'marker': {'color': [0, 1, 2, 3, 4, 5, 6, 7, 8, 9, 10, 11, 12, 13,\n",
       "                                   14, 15, 16, 17, 18, 19, 20, 21, 22, 23, 24, 25,\n",
       "                                   26, 27, 28, 29, 30, 31, 32, 33, 34, 35, 36, 37,\n",
       "                                   38, 39, 40, 41, 42, 43, 44, 45, 46, 47, 48, 49],\n",
       "                         'colorbar': {'title': {'text': 'Trial'}, 'x': 1.0, 'xpad': 40},\n",
       "                         'colorscale': [[0.0, 'rgb(247,251,255)'], [0.125,\n",
       "                                        'rgb(222,235,247)'], [0.25,\n",
       "                                        'rgb(198,219,239)'], [0.375,\n",
       "                                        'rgb(158,202,225)'], [0.5,\n",
       "                                        'rgb(107,174,214)'], [0.625,\n",
       "                                        'rgb(66,146,198)'], [0.75,\n",
       "                                        'rgb(33,113,181)'], [0.875,\n",
       "                                        'rgb(8,81,156)'], [1.0, 'rgb(8,48,107)']],\n",
       "                         'line': {'color': 'Grey', 'width': 0.5},\n",
       "                         'showscale': True},\n",
       "              'mode': 'markers',\n",
       "              'name': 'Feasible Trial',\n",
       "              'showlegend': False,\n",
       "              'type': 'scatter',\n",
       "              'x': [0.8712339110678275, 0.9014234438413611, 0.899517691011127,\n",
       "                    0.9421874235023117, 0.9486886936600517, 0.8563558350286024,\n",
       "                    0.8927541018358549, 0.8661221287254004, 0.8927107788626256,\n",
       "                    0.947178208272096, 0.8528478291139971, 0.8513553148025303,\n",
       "                    0.8715112163763844, 0.8755407504889483, 0.8740863874583386,\n",
       "                    0.9198507707597202, 0.8670559496747424, 0.8846091158324922,\n",
       "                    0.9163161405482261, 0.8636088734425605, 0.8829910613622213,\n",
       "                    0.8785098183876235, 0.8627958523743791, 0.8811442422940439,\n",
       "                    0.8612224802214589, 0.8775530303842521, 0.8865013098893159,\n",
       "                    0.8685304178685387, 0.9063346246431395, 0.8715684159158977,\n",
       "                    0.8584211008409289, 0.8753548373649981, 0.8697078520524402,\n",
       "                    0.8897280760582977, 0.8927707709424861, 0.905747012166398,\n",
       "                    0.9016933689976901, 0.9130996700033748, 0.9300449091393835,\n",
       "                    0.901485644292268, 0.9080261965222004, 0.8951874981855131,\n",
       "                    0.9001956436460746, 0.8979061404922908, 0.8980128982499493,\n",
       "                    0.9252256398333366, 0.932804862427679, 0.9244336910182035,\n",
       "                    0.9320163322379106, 0.9407093101733085],\n",
       "              'xaxis': 'x',\n",
       "              'y': [2.3608831792247367, 2.2820522525287616, 2.318979126304997,\n",
       "                    2.2388340980678647, 2.2569534097225974, 2.229492403550998,\n",
       "                    2.3261397934918158, 2.2148135864928276, 2.318103891151641,\n",
       "                    2.2547791298803928, 2.252198774143338, 2.237786023098335,\n",
       "                    2.222565367628073, 2.5307493070512326, 2.2240652745890386,\n",
       "                    2.29553608521051, 2.2389529783134523, 2.2581816980912883,\n",
       "                    2.2395378422107144, 2.234900660096892, 2.518379967672704,\n",
       "                    2.22208513802615, 2.367841016161326, 2.2548665709096385,\n",
       "                    2.234500408344479, 2.2410339814064644, 2.283454395613842,\n",
       "                    2.270646837716169, 2.294690368584063, 2.296999378092976,\n",
       "                    2.42180070090883, 2.222058446044877, 2.267337575540688,\n",
       "                    2.221377558730074, 2.2312876860289883, 2.217123698579245,\n",
       "                    2.215990140537614, 2.2257298756246833, 2.225093158793382,\n",
       "                    2.2352416380844304, 2.2530225886515285, 2.2131069675604977,\n",
       "                    2.2168445589309247, 2.2251290920895492, 2.222747079077472,\n",
       "                    2.215792968484861, 2.265995215493276, 2.2340069541869476,\n",
       "                    2.214915918398305, 2.2250385872599927],\n",
       "              'yaxis': 'y'},\n",
       "             {'marker': {'color': [0, 1, 2, 3, 4, 5, 6, 7, 8, 9, 10, 11, 12, 13,\n",
       "                                   14, 15, 16, 17, 18, 19, 20, 21, 22, 23, 24, 25,\n",
       "                                   26, 27, 28, 29, 30, 31, 32, 33, 34, 35, 36, 37,\n",
       "                                   38, 39, 40, 41, 42, 43, 44, 45, 46, 47, 48, 49],\n",
       "                         'colorbar': {'title': {'text': 'Trial'}, 'x': 1.0, 'xpad': 40},\n",
       "                         'colorscale': [[0.0, 'rgb(247,251,255)'], [0.125,\n",
       "                                        'rgb(222,235,247)'], [0.25,\n",
       "                                        'rgb(198,219,239)'], [0.375,\n",
       "                                        'rgb(158,202,225)'], [0.5,\n",
       "                                        'rgb(107,174,214)'], [0.625,\n",
       "                                        'rgb(66,146,198)'], [0.75,\n",
       "                                        'rgb(33,113,181)'], [0.875,\n",
       "                                        'rgb(8,81,156)'], [1.0, 'rgb(8,48,107)']],\n",
       "                         'line': {'color': 'Grey', 'width': 0.5},\n",
       "                         'showscale': False},\n",
       "              'mode': 'markers',\n",
       "              'name': 'Feasible Trial',\n",
       "              'showlegend': False,\n",
       "              'type': 'scatter',\n",
       "              'x': [0.1205712628744377, 0.028145092716060652, 0.07896186801026692,\n",
       "                    0.024112898115291985, 0.011662890273931383,\n",
       "                    0.010189592979395137, 0.1195960383019184, 0.011128194768838964,\n",
       "                    0.08622121759478739, 0.010239273411172712, 0.03445639818969485,\n",
       "                    0.017503385288179057, 0.01341458896888798, 0.25584662417332554,\n",
       "                    0.01751622099503016, 0.04775185206539079, 0.01679718022476552,\n",
       "                    0.043004499339600426, 0.022523637802736165,\n",
       "                    0.013722987188971322, 0.28943713540306176,\n",
       "                    0.016929432313236223, 0.016404129365867548,\n",
       "                    0.013601110430113259, 0.022256796513877845,\n",
       "                    0.029829231027351327, 0.013263053584906166,\n",
       "                    0.03562358778302287, 0.021793190071613802, 0.06487161422946844,\n",
       "                    0.2049601307261189, 0.018698545659261878, 0.014267923411607564,\n",
       "                    0.019667684624011045, 0.02546554163394945,\n",
       "                    0.020153870969308277, 0.01905156668431094,\n",
       "                    0.031907881906453016, 0.011065856851404855,\n",
       "                    0.02672488336929063, 0.04032466964837497, 0.018215481991953993,\n",
       "                    0.020021147548223105, 0.010578926048830269,\n",
       "                    0.020578724457406265, 0.02685856329872164,\n",
       "                    0.012197473964077941, 0.028649062394214834,\n",
       "                    0.015348208802267801, 0.015541777406018944],\n",
       "              'xaxis': 'x2',\n",
       "              'y': [2.3608831792247367, 2.2820522525287616, 2.318979126304997,\n",
       "                    2.2388340980678647, 2.2569534097225974, 2.229492403550998,\n",
       "                    2.3261397934918158, 2.2148135864928276, 2.318103891151641,\n",
       "                    2.2547791298803928, 2.252198774143338, 2.237786023098335,\n",
       "                    2.222565367628073, 2.5307493070512326, 2.2240652745890386,\n",
       "                    2.29553608521051, 2.2389529783134523, 2.2581816980912883,\n",
       "                    2.2395378422107144, 2.234900660096892, 2.518379967672704,\n",
       "                    2.22208513802615, 2.367841016161326, 2.2548665709096385,\n",
       "                    2.234500408344479, 2.2410339814064644, 2.283454395613842,\n",
       "                    2.270646837716169, 2.294690368584063, 2.296999378092976,\n",
       "                    2.42180070090883, 2.222058446044877, 2.267337575540688,\n",
       "                    2.221377558730074, 2.2312876860289883, 2.217123698579245,\n",
       "                    2.215990140537614, 2.2257298756246833, 2.225093158793382,\n",
       "                    2.2352416380844304, 2.2530225886515285, 2.2131069675604977,\n",
       "                    2.2168445589309247, 2.2251290920895492, 2.222747079077472,\n",
       "                    2.215792968484861, 2.265995215493276, 2.2340069541869476,\n",
       "                    2.214915918398305, 2.2250385872599927],\n",
       "              'yaxis': 'y2'},\n",
       "             {'marker': {'color': [0, 1, 2, 3, 4, 5, 6, 7, 8, 9, 10, 11, 12, 13,\n",
       "                                   14, 15, 16, 17, 18, 19, 20, 21, 22, 23, 24, 25,\n",
       "                                   26, 27, 28, 29, 30, 31, 32, 33, 34, 35, 36, 37,\n",
       "                                   38, 39, 40, 41, 42, 43, 44, 45, 46, 47, 48, 49],\n",
       "                         'colorbar': {'title': {'text': 'Trial'}, 'x': 1.0, 'xpad': 40},\n",
       "                         'colorscale': [[0.0, 'rgb(247,251,255)'], [0.125,\n",
       "                                        'rgb(222,235,247)'], [0.25,\n",
       "                                        'rgb(198,219,239)'], [0.375,\n",
       "                                        'rgb(158,202,225)'], [0.5,\n",
       "                                        'rgb(107,174,214)'], [0.625,\n",
       "                                        'rgb(66,146,198)'], [0.75,\n",
       "                                        'rgb(33,113,181)'], [0.875,\n",
       "                                        'rgb(8,81,156)'], [1.0, 'rgb(8,48,107)']],\n",
       "                         'line': {'color': 'Grey', 'width': 0.5},\n",
       "                         'showscale': False},\n",
       "              'mode': 'markers',\n",
       "              'name': 'Feasible Trial',\n",
       "              'showlegend': False,\n",
       "              'type': 'scatter',\n",
       "              'x': [huber, huber, squared_error, huber, huber, squared_error,\n",
       "                    huber, huber, squared_error, huber, squared_error,\n",
       "                    squared_error, squared_error, squared_error, huber,\n",
       "                    squared_error, huber, squared_error, squared_error, huber,\n",
       "                    squared_error, huber, huber, huber, huber, huber, huber, huber,\n",
       "                    squared_error, huber, huber, huber, huber, huber, huber, huber,\n",
       "                    huber, huber, huber, huber, huber, huber, huber, huber, huber,\n",
       "                    huber, huber, huber, huber, huber],\n",
       "              'xaxis': 'x3',\n",
       "              'y': [2.3608831792247367, 2.2820522525287616, 2.318979126304997,\n",
       "                    2.2388340980678647, 2.2569534097225974, 2.229492403550998,\n",
       "                    2.3261397934918158, 2.2148135864928276, 2.318103891151641,\n",
       "                    2.2547791298803928, 2.252198774143338, 2.237786023098335,\n",
       "                    2.222565367628073, 2.5307493070512326, 2.2240652745890386,\n",
       "                    2.29553608521051, 2.2389529783134523, 2.2581816980912883,\n",
       "                    2.2395378422107144, 2.234900660096892, 2.518379967672704,\n",
       "                    2.22208513802615, 2.367841016161326, 2.2548665709096385,\n",
       "                    2.234500408344479, 2.2410339814064644, 2.283454395613842,\n",
       "                    2.270646837716169, 2.294690368584063, 2.296999378092976,\n",
       "                    2.42180070090883, 2.222058446044877, 2.267337575540688,\n",
       "                    2.221377558730074, 2.2312876860289883, 2.217123698579245,\n",
       "                    2.215990140537614, 2.2257298756246833, 2.225093158793382,\n",
       "                    2.2352416380844304, 2.2530225886515285, 2.2131069675604977,\n",
       "                    2.2168445589309247, 2.2251290920895492, 2.222747079077472,\n",
       "                    2.215792968484861, 2.265995215493276, 2.2340069541869476,\n",
       "                    2.214915918398305, 2.2250385872599927],\n",
       "              'yaxis': 'y3'},\n",
       "             {'marker': {'color': [0, 1, 2, 3, 4, 5, 6, 7, 8, 9, 10, 11, 12, 13,\n",
       "                                   14, 15, 16, 17, 18, 19, 20, 21, 22, 23, 24, 25,\n",
       "                                   26, 27, 28, 29, 30, 31, 32, 33, 34, 35, 36, 37,\n",
       "                                   38, 39, 40, 41, 42, 43, 44, 45, 46, 47, 48, 49],\n",
       "                         'colorbar': {'title': {'text': 'Trial'}, 'x': 1.0, 'xpad': 40},\n",
       "                         'colorscale': [[0.0, 'rgb(247,251,255)'], [0.125,\n",
       "                                        'rgb(222,235,247)'], [0.25,\n",
       "                                        'rgb(198,219,239)'], [0.375,\n",
       "                                        'rgb(158,202,225)'], [0.5,\n",
       "                                        'rgb(107,174,214)'], [0.625,\n",
       "                                        'rgb(66,146,198)'], [0.75,\n",
       "                                        'rgb(33,113,181)'], [0.875,\n",
       "                                        'rgb(8,81,156)'], [1.0, 'rgb(8,48,107)']],\n",
       "                         'line': {'color': 'Grey', 'width': 0.5},\n",
       "                         'showscale': False},\n",
       "              'mode': 'markers',\n",
       "              'name': 'Feasible Trial',\n",
       "              'showlegend': False,\n",
       "              'type': 'scatter',\n",
       "              'x': [7, 2, 6, 3, 4, 2, 6, 3, 5, 4, 3, 2, 3, 3, 4, 3, 5, 3, 2, 4, 5,\n",
       "                    4, 3, 4, 3, 4, 2, 5, 3, 7, 6, 4, 4, 4, 5, 4, 4, 5, 6, 4, 5, 4,\n",
       "                    4, 3, 4, 3, 2, 3, 3, 2],\n",
       "              'xaxis': 'x4',\n",
       "              'y': [2.3608831792247367, 2.2820522525287616, 2.318979126304997,\n",
       "                    2.2388340980678647, 2.2569534097225974, 2.229492403550998,\n",
       "                    2.3261397934918158, 2.2148135864928276, 2.318103891151641,\n",
       "                    2.2547791298803928, 2.252198774143338, 2.237786023098335,\n",
       "                    2.222565367628073, 2.5307493070512326, 2.2240652745890386,\n",
       "                    2.29553608521051, 2.2389529783134523, 2.2581816980912883,\n",
       "                    2.2395378422107144, 2.234900660096892, 2.518379967672704,\n",
       "                    2.22208513802615, 2.367841016161326, 2.2548665709096385,\n",
       "                    2.234500408344479, 2.2410339814064644, 2.283454395613842,\n",
       "                    2.270646837716169, 2.294690368584063, 2.296999378092976,\n",
       "                    2.42180070090883, 2.222058446044877, 2.267337575540688,\n",
       "                    2.221377558730074, 2.2312876860289883, 2.217123698579245,\n",
       "                    2.215990140537614, 2.2257298756246833, 2.225093158793382,\n",
       "                    2.2352416380844304, 2.2530225886515285, 2.2131069675604977,\n",
       "                    2.2168445589309247, 2.2251290920895492, 2.222747079077472,\n",
       "                    2.215792968484861, 2.265995215493276, 2.2340069541869476,\n",
       "                    2.214915918398305, 2.2250385872599927],\n",
       "              'yaxis': 'y4'},\n",
       "             {'marker': {'color': [0, 1, 2, 3, 4, 5, 6, 7, 8, 9, 10, 11, 12, 13,\n",
       "                                   14, 15, 16, 17, 18, 19, 20, 21, 22, 23, 24, 25,\n",
       "                                   26, 27, 28, 29, 30, 31, 32, 33, 34, 35, 36, 37,\n",
       "                                   38, 39, 40, 41, 42, 43, 44, 45, 46, 47, 48, 49],\n",
       "                         'colorbar': {'title': {'text': 'Trial'}, 'x': 1.0, 'xpad': 40},\n",
       "                         'colorscale': [[0.0, 'rgb(247,251,255)'], [0.125,\n",
       "                                        'rgb(222,235,247)'], [0.25,\n",
       "                                        'rgb(198,219,239)'], [0.375,\n",
       "                                        'rgb(158,202,225)'], [0.5,\n",
       "                                        'rgb(107,174,214)'], [0.625,\n",
       "                                        'rgb(66,146,198)'], [0.75,\n",
       "                                        'rgb(33,113,181)'], [0.875,\n",
       "                                        'rgb(8,81,156)'], [1.0, 'rgb(8,48,107)']],\n",
       "                         'line': {'color': 'Grey', 'width': 0.5},\n",
       "                         'showscale': False},\n",
       "              'mode': 'markers',\n",
       "              'name': 'Feasible Trial',\n",
       "              'showlegend': False,\n",
       "              'type': 'scatter',\n",
       "              'x': [None, None, log2, log2, None, log2, log2, sqrt, sqrt, None,\n",
       "                    sqrt, sqrt, sqrt, sqrt, sqrt, sqrt, sqrt, sqrt, sqrt, sqrt,\n",
       "                    sqrt, sqrt, sqrt, sqrt, sqrt, sqrt, sqrt, sqrt, None, log2,\n",
       "                    None, sqrt, sqrt, sqrt, sqrt, log2, log2, log2, log2, log2,\n",
       "                    log2, log2, log2, log2, log2, log2, log2, log2, log2, log2],\n",
       "              'xaxis': 'x5',\n",
       "              'y': [2.3608831792247367, 2.2820522525287616, 2.318979126304997,\n",
       "                    2.2388340980678647, 2.2569534097225974, 2.229492403550998,\n",
       "                    2.3261397934918158, 2.2148135864928276, 2.318103891151641,\n",
       "                    2.2547791298803928, 2.252198774143338, 2.237786023098335,\n",
       "                    2.222565367628073, 2.5307493070512326, 2.2240652745890386,\n",
       "                    2.29553608521051, 2.2389529783134523, 2.2581816980912883,\n",
       "                    2.2395378422107144, 2.234900660096892, 2.518379967672704,\n",
       "                    2.22208513802615, 2.367841016161326, 2.2548665709096385,\n",
       "                    2.234500408344479, 2.2410339814064644, 2.283454395613842,\n",
       "                    2.270646837716169, 2.294690368584063, 2.296999378092976,\n",
       "                    2.42180070090883, 2.222058446044877, 2.267337575540688,\n",
       "                    2.221377558730074, 2.2312876860289883, 2.217123698579245,\n",
       "                    2.215990140537614, 2.2257298756246833, 2.225093158793382,\n",
       "                    2.2352416380844304, 2.2530225886515285, 2.2131069675604977,\n",
       "                    2.2168445589309247, 2.2251290920895492, 2.222747079077472,\n",
       "                    2.215792968484861, 2.265995215493276, 2.2340069541869476,\n",
       "                    2.214915918398305, 2.2250385872599927],\n",
       "              'yaxis': 'y5'},\n",
       "             {'marker': {'color': [0, 1, 2, 3, 4, 5, 6, 7, 8, 9, 10, 11, 12, 13,\n",
       "                                   14, 15, 16, 17, 18, 19, 20, 21, 22, 23, 24, 25,\n",
       "                                   26, 27, 28, 29, 30, 31, 32, 33, 34, 35, 36, 37,\n",
       "                                   38, 39, 40, 41, 42, 43, 44, 45, 46, 47, 48, 49],\n",
       "                         'colorbar': {'title': {'text': 'Trial'}, 'x': 1.0, 'xpad': 40},\n",
       "                         'colorscale': [[0.0, 'rgb(247,251,255)'], [0.125,\n",
       "                                        'rgb(222,235,247)'], [0.25,\n",
       "                                        'rgb(198,219,239)'], [0.375,\n",
       "                                        'rgb(158,202,225)'], [0.5,\n",
       "                                        'rgb(107,174,214)'], [0.625,\n",
       "                                        'rgb(66,146,198)'], [0.75,\n",
       "                                        'rgb(33,113,181)'], [0.875,\n",
       "                                        'rgb(8,81,156)'], [1.0, 'rgb(8,48,107)']],\n",
       "                         'line': {'color': 'Grey', 'width': 0.5},\n",
       "                         'showscale': False},\n",
       "              'mode': 'markers',\n",
       "              'name': 'Feasible Trial',\n",
       "              'showlegend': False,\n",
       "              'type': 'scatter',\n",
       "              'x': [425, 140, 105, 319, 83, 199, 285, 180, 152, 213, 497, 220,\n",
       "                    207, 328, 246, 55, 163, 400, 277, 172, 110, 246, 231, 327, 257,\n",
       "                    187, 295, 373, 121, 191, 363, 246, 255, 142, 135, 83, 79, 81,\n",
       "                    73, 96, 134, 53, 50, 52, 68, 96, 99, 118, 51, 98],\n",
       "              'xaxis': 'x6',\n",
       "              'y': [2.3608831792247367, 2.2820522525287616, 2.318979126304997,\n",
       "                    2.2388340980678647, 2.2569534097225974, 2.229492403550998,\n",
       "                    2.3261397934918158, 2.2148135864928276, 2.318103891151641,\n",
       "                    2.2547791298803928, 2.252198774143338, 2.237786023098335,\n",
       "                    2.222565367628073, 2.5307493070512326, 2.2240652745890386,\n",
       "                    2.29553608521051, 2.2389529783134523, 2.2581816980912883,\n",
       "                    2.2395378422107144, 2.234900660096892, 2.518379967672704,\n",
       "                    2.22208513802615, 2.367841016161326, 2.2548665709096385,\n",
       "                    2.234500408344479, 2.2410339814064644, 2.283454395613842,\n",
       "                    2.270646837716169, 2.294690368584063, 2.296999378092976,\n",
       "                    2.42180070090883, 2.222058446044877, 2.267337575540688,\n",
       "                    2.221377558730074, 2.2312876860289883, 2.217123698579245,\n",
       "                    2.215990140537614, 2.2257298756246833, 2.225093158793382,\n",
       "                    2.2352416380844304, 2.2530225886515285, 2.2131069675604977,\n",
       "                    2.2168445589309247, 2.2251290920895492, 2.222747079077472,\n",
       "                    2.215792968484861, 2.265995215493276, 2.2340069541869476,\n",
       "                    2.214915918398305, 2.2250385872599927],\n",
       "              'yaxis': 'y6'},\n",
       "             {'marker': {'color': [0, 1, 2, 3, 4, 5, 6, 7, 8, 9, 10, 11, 12, 13,\n",
       "                                   14, 15, 16, 17, 18, 19, 20, 21, 22, 23, 24, 25,\n",
       "                                   26, 27, 28, 29, 30, 31, 32, 33, 34, 35, 36, 37,\n",
       "                                   38, 39, 40, 41, 42, 43, 44, 45, 46, 47, 48, 49],\n",
       "                         'colorbar': {'title': {'text': 'Trial'}, 'x': 1.0, 'xpad': 40},\n",
       "                         'colorscale': [[0.0, 'rgb(247,251,255)'], [0.125,\n",
       "                                        'rgb(222,235,247)'], [0.25,\n",
       "                                        'rgb(198,219,239)'], [0.375,\n",
       "                                        'rgb(158,202,225)'], [0.5,\n",
       "                                        'rgb(107,174,214)'], [0.625,\n",
       "                                        'rgb(66,146,198)'], [0.75,\n",
       "                                        'rgb(33,113,181)'], [0.875,\n",
       "                                        'rgb(8,81,156)'], [1.0, 'rgb(8,48,107)']],\n",
       "                         'line': {'color': 'Grey', 'width': 0.5},\n",
       "                         'showscale': False},\n",
       "              'mode': 'markers',\n",
       "              'name': 'Feasible Trial',\n",
       "              'showlegend': False,\n",
       "              'type': 'scatter',\n",
       "              'x': [0.12022300234864176, 0.058428929707043636,\n",
       "                    0.06092275383467414, 0.19391692555291173, 0.05618690193747616,\n",
       "                    0.07169314570885453, 0.1521570097233795, 0.08207658460712595,\n",
       "                    0.1614880310328125, 0.18858194078250384, 0.005278365854026579,\n",
       "                    0.0954576825626162, 0.09130867133019255, 0.10992009495635216,\n",
       "                    0.08861031477364052, 0.021962820748635266, 0.13219994755130463,\n",
       "                    0.029621372163248554, 0.08180021421406473, 0.13425967449340742,\n",
       "                    0.04105605116514056, 0.09181425004024427, 0.10862768791146489,\n",
       "                    0.08039727090901545, 0.0954822964178552, 0.12239776081367332,\n",
       "                    0.07132453713299033, 0.041920639542824684, 0.10209350202272213,\n",
       "                    0.12119057184604064, 0.13664942977310685, 0.08533824581145212,\n",
       "                    0.07165865585444144, 0.05794140290827088, 0.06266440181977,\n",
       "                    0.048867007494396444, 0.04564439752237828, 0.04908489060211184,\n",
       "                    0.02340290513603669, 0.0020558750663316194,\n",
       "                    0.05053430997992995, 0.06321206484858768, 0.062319009316616845,\n",
       "                    0.03462821921378126, 0.06290691131039934, 0.012562633576107124,\n",
       "                    0.015700915425040828, 0.017554134784538405,\n",
       "                    0.010588993625053354, 0.03071954517906811],\n",
       "              'xaxis': 'x7',\n",
       "              'y': [2.3608831792247367, 2.2820522525287616, 2.318979126304997,\n",
       "                    2.2388340980678647, 2.2569534097225974, 2.229492403550998,\n",
       "                    2.3261397934918158, 2.2148135864928276, 2.318103891151641,\n",
       "                    2.2547791298803928, 2.252198774143338, 2.237786023098335,\n",
       "                    2.222565367628073, 2.5307493070512326, 2.2240652745890386,\n",
       "                    2.29553608521051, 2.2389529783134523, 2.2581816980912883,\n",
       "                    2.2395378422107144, 2.234900660096892, 2.518379967672704,\n",
       "                    2.22208513802615, 2.367841016161326, 2.2548665709096385,\n",
       "                    2.234500408344479, 2.2410339814064644, 2.283454395613842,\n",
       "                    2.270646837716169, 2.294690368584063, 2.296999378092976,\n",
       "                    2.42180070090883, 2.222058446044877, 2.267337575540688,\n",
       "                    2.221377558730074, 2.2312876860289883, 2.217123698579245,\n",
       "                    2.215990140537614, 2.2257298756246833, 2.225093158793382,\n",
       "                    2.2352416380844304, 2.2530225886515285, 2.2131069675604977,\n",
       "                    2.2168445589309247, 2.2251290920895492, 2.222747079077472,\n",
       "                    2.215792968484861, 2.265995215493276, 2.2340069541869476,\n",
       "                    2.214915918398305, 2.2250385872599927],\n",
       "              'yaxis': 'y7'},\n",
       "             {'marker': {'color': [0, 1, 2, 3, 4, 5, 6, 7, 8, 9, 10, 11, 12, 13,\n",
       "                                   14, 15, 16, 17, 18, 19, 20, 21, 22, 23, 24, 25,\n",
       "                                   26, 27, 28, 29, 30, 31, 32, 33, 34, 35, 36, 37,\n",
       "                                   38, 39, 40, 41, 42, 43, 44, 45, 46, 47, 48, 49],\n",
       "                         'colorbar': {'title': {'text': 'Trial'}, 'x': 1.0, 'xpad': 40},\n",
       "                         'colorscale': [[0.0, 'rgb(247,251,255)'], [0.125,\n",
       "                                        'rgb(222,235,247)'], [0.25,\n",
       "                                        'rgb(198,219,239)'], [0.375,\n",
       "                                        'rgb(158,202,225)'], [0.5,\n",
       "                                        'rgb(107,174,214)'], [0.625,\n",
       "                                        'rgb(66,146,198)'], [0.75,\n",
       "                                        'rgb(33,113,181)'], [0.875,\n",
       "                                        'rgb(8,81,156)'], [1.0, 'rgb(8,48,107)']],\n",
       "                         'line': {'color': 'Grey', 'width': 0.5},\n",
       "                         'showscale': False},\n",
       "              'mode': 'markers',\n",
       "              'name': 'Feasible Trial',\n",
       "              'showlegend': False,\n",
       "              'type': 'scatter',\n",
       "              'x': [1, 4, 5, 3, 5, 4, 1, 5, 5, 1, 3, 4, 4, 4, 2, 3, 5, 4, 2, 5, 4,\n",
       "                    2, 2, 2, 3, 5, 2, 3, 4, 1, 5, 2, 2, 1, 1, 1, 1, 1, 1, 1, 1, 1,\n",
       "                    1, 1, 1, 1, 1, 1, 2, 3],\n",
       "              'xaxis': 'x8',\n",
       "              'y': [2.3608831792247367, 2.2820522525287616, 2.318979126304997,\n",
       "                    2.2388340980678647, 2.2569534097225974, 2.229492403550998,\n",
       "                    2.3261397934918158, 2.2148135864928276, 2.318103891151641,\n",
       "                    2.2547791298803928, 2.252198774143338, 2.237786023098335,\n",
       "                    2.222565367628073, 2.5307493070512326, 2.2240652745890386,\n",
       "                    2.29553608521051, 2.2389529783134523, 2.2581816980912883,\n",
       "                    2.2395378422107144, 2.234900660096892, 2.518379967672704,\n",
       "                    2.22208513802615, 2.367841016161326, 2.2548665709096385,\n",
       "                    2.234500408344479, 2.2410339814064644, 2.283454395613842,\n",
       "                    2.270646837716169, 2.294690368584063, 2.296999378092976,\n",
       "                    2.42180070090883, 2.222058446044877, 2.267337575540688,\n",
       "                    2.221377558730074, 2.2312876860289883, 2.217123698579245,\n",
       "                    2.215990140537614, 2.2257298756246833, 2.225093158793382,\n",
       "                    2.2352416380844304, 2.2530225886515285, 2.2131069675604977,\n",
       "                    2.2168445589309247, 2.2251290920895492, 2.222747079077472,\n",
       "                    2.215792968484861, 2.265995215493276, 2.2340069541869476,\n",
       "                    2.214915918398305, 2.2250385872599927],\n",
       "              'yaxis': 'y8'},\n",
       "             {'marker': {'color': [0, 1, 2, 3, 4, 5, 6, 7, 8, 9, 10, 11, 12, 13,\n",
       "                                   14, 15, 16, 17, 18, 19, 20, 21, 22, 23, 24, 25,\n",
       "                                   26, 27, 28, 29, 30, 31, 32, 33, 34, 35, 36, 37,\n",
       "                                   38, 39, 40, 41, 42, 43, 44, 45, 46, 47, 48, 49],\n",
       "                         'colorbar': {'title': {'text': 'Trial'}, 'x': 1.0, 'xpad': 40},\n",
       "                         'colorscale': [[0.0, 'rgb(247,251,255)'], [0.125,\n",
       "                                        'rgb(222,235,247)'], [0.25,\n",
       "                                        'rgb(198,219,239)'], [0.375,\n",
       "                                        'rgb(158,202,225)'], [0.5,\n",
       "                                        'rgb(107,174,214)'], [0.625,\n",
       "                                        'rgb(66,146,198)'], [0.75,\n",
       "                                        'rgb(33,113,181)'], [0.875,\n",
       "                                        'rgb(8,81,156)'], [1.0, 'rgb(8,48,107)']],\n",
       "                         'line': {'color': 'Grey', 'width': 0.5},\n",
       "                         'showscale': False},\n",
       "              'mode': 'markers',\n",
       "              'name': 'Feasible Trial',\n",
       "              'showlegend': False,\n",
       "              'type': 'scatter',\n",
       "              'x': [3, 4, 10, 6, 4, 8, 6, 6, 3, 3, 7, 8, 9, 10, 9, 6, 5, 8, 7, 5,\n",
       "                    9, 9, 9, 7, 10, 8, 5, 2, 9, 7, 10, 9, 9, 8, 8, 7, 7, 6, 6, 7,\n",
       "                    4, 7, 7, 7, 6, 7, 5, 6, 7, 7],\n",
       "              'xaxis': 'x9',\n",
       "              'y': [2.3608831792247367, 2.2820522525287616, 2.318979126304997,\n",
       "                    2.2388340980678647, 2.2569534097225974, 2.229492403550998,\n",
       "                    2.3261397934918158, 2.2148135864928276, 2.318103891151641,\n",
       "                    2.2547791298803928, 2.252198774143338, 2.237786023098335,\n",
       "                    2.222565367628073, 2.5307493070512326, 2.2240652745890386,\n",
       "                    2.29553608521051, 2.2389529783134523, 2.2581816980912883,\n",
       "                    2.2395378422107144, 2.234900660096892, 2.518379967672704,\n",
       "                    2.22208513802615, 2.367841016161326, 2.2548665709096385,\n",
       "                    2.234500408344479, 2.2410339814064644, 2.283454395613842,\n",
       "                    2.270646837716169, 2.294690368584063, 2.296999378092976,\n",
       "                    2.42180070090883, 2.222058446044877, 2.267337575540688,\n",
       "                    2.221377558730074, 2.2312876860289883, 2.217123698579245,\n",
       "                    2.215990140537614, 2.2257298756246833, 2.225093158793382,\n",
       "                    2.2352416380844304, 2.2530225886515285, 2.2131069675604977,\n",
       "                    2.2168445589309247, 2.2251290920895492, 2.222747079077472,\n",
       "                    2.215792968484861, 2.265995215493276, 2.2340069541869476,\n",
       "                    2.214915918398305, 2.2250385872599927],\n",
       "              'yaxis': 'y9'},\n",
       "             {'marker': {'color': [0, 1, 2, 3, 4, 5, 6, 7, 8, 9, 10, 11, 12, 13,\n",
       "                                   14, 15, 16, 17, 18, 19, 20, 21, 22, 23, 24, 25,\n",
       "                                   26, 27, 28, 29, 30, 31, 32, 33, 34, 35, 36, 37,\n",
       "                                   38, 39, 40, 41, 42, 43, 44, 45, 46, 47, 48, 49],\n",
       "                         'colorbar': {'title': {'text': 'Trial'}, 'x': 1.0, 'xpad': 40},\n",
       "                         'colorscale': [[0.0, 'rgb(247,251,255)'], [0.125,\n",
       "                                        'rgb(222,235,247)'], [0.25,\n",
       "                                        'rgb(198,219,239)'], [0.375,\n",
       "                                        'rgb(158,202,225)'], [0.5,\n",
       "                                        'rgb(107,174,214)'], [0.625,\n",
       "                                        'rgb(66,146,198)'], [0.75,\n",
       "                                        'rgb(33,113,181)'], [0.875,\n",
       "                                        'rgb(8,81,156)'], [1.0, 'rgb(8,48,107)']],\n",
       "                         'line': {'color': 'Grey', 'width': 0.5},\n",
       "                         'showscale': False},\n",
       "              'mode': 'markers',\n",
       "              'name': 'Feasible Trial',\n",
       "              'showlegend': False,\n",
       "              'type': 'scatter',\n",
       "              'x': [639, 572, 253, 696, 393, 834, 674, 673, 885, 560, 106, 993,\n",
       "                    822, 824, 374, 761, 999, 482, 742, 890, 469, 273, 139, 232,\n",
       "                    607, 494, 306, 763, 895, 629, 403, 347, 210, 326, 308, 321,\n",
       "                    349, 183, 426, 530, 327, 368, 434, 443, 525, 373, 370, 590,\n",
       "                    683, 661],\n",
       "              'xaxis': 'x10',\n",
       "              'y': [2.3608831792247367, 2.2820522525287616, 2.318979126304997,\n",
       "                    2.2388340980678647, 2.2569534097225974, 2.229492403550998,\n",
       "                    2.3261397934918158, 2.2148135864928276, 2.318103891151641,\n",
       "                    2.2547791298803928, 2.252198774143338, 2.237786023098335,\n",
       "                    2.222565367628073, 2.5307493070512326, 2.2240652745890386,\n",
       "                    2.29553608521051, 2.2389529783134523, 2.2581816980912883,\n",
       "                    2.2395378422107144, 2.234900660096892, 2.518379967672704,\n",
       "                    2.22208513802615, 2.367841016161326, 2.2548665709096385,\n",
       "                    2.234500408344479, 2.2410339814064644, 2.283454395613842,\n",
       "                    2.270646837716169, 2.294690368584063, 2.296999378092976,\n",
       "                    2.42180070090883, 2.222058446044877, 2.267337575540688,\n",
       "                    2.221377558730074, 2.2312876860289883, 2.217123698579245,\n",
       "                    2.215990140537614, 2.2257298756246833, 2.225093158793382,\n",
       "                    2.2352416380844304, 2.2530225886515285, 2.2131069675604977,\n",
       "                    2.2168445589309247, 2.2251290920895492, 2.222747079077472,\n",
       "                    2.215792968484861, 2.265995215493276, 2.2340069541869476,\n",
       "                    2.214915918398305, 2.2250385872599927],\n",
       "              'yaxis': 'y10'},\n",
       "             {'marker': {'color': [0, 1, 2, 3, 4, 5, 6, 7, 8, 9, 10, 11, 12, 13,\n",
       "                                   14, 15, 16, 17, 18, 19, 20, 21, 22, 23, 24, 25,\n",
       "                                   26, 27, 28, 29, 30, 31, 32, 33, 34, 35, 36, 37,\n",
       "                                   38, 39, 40, 41, 42, 43, 44, 45, 46, 47, 48, 49],\n",
       "                         'colorbar': {'title': {'text': 'Trial'}, 'x': 1.0, 'xpad': 40},\n",
       "                         'colorscale': [[0.0, 'rgb(247,251,255)'], [0.125,\n",
       "                                        'rgb(222,235,247)'], [0.25,\n",
       "                                        'rgb(198,219,239)'], [0.375,\n",
       "                                        'rgb(158,202,225)'], [0.5,\n",
       "                                        'rgb(107,174,214)'], [0.625,\n",
       "                                        'rgb(66,146,198)'], [0.75,\n",
       "                                        'rgb(33,113,181)'], [0.875,\n",
       "                                        'rgb(8,81,156)'], [1.0, 'rgb(8,48,107)']],\n",
       "                         'line': {'color': 'Grey', 'width': 0.5},\n",
       "                         'showscale': False},\n",
       "              'mode': 'markers',\n",
       "              'name': 'Feasible Trial',\n",
       "              'showlegend': False,\n",
       "              'type': 'scatter',\n",
       "              'x': [0.6624074561769746, 0.7727780074568463, 0.6260206371941118,\n",
       "                    0.7246844304357644, 0.7554709158757928, 0.8827429375390468,\n",
       "                    0.9548850970305306, 0.7257423924305306, 0.9214688307596458,\n",
       "                    0.7669644012595116, 0.8559192772506938, 0.8478578374796667,\n",
       "                    0.84450876983227, 0.6967268492719876, 0.8045604523998372,\n",
       "                    0.8210137421803548, 0.6997108097658562, 0.9732071419446625,\n",
       "                    0.6020394152472084, 0.8945172351954431, 0.7293363056497617,\n",
       "                    0.8012364486139857, 0.8131426732117017, 0.8394938090778475,\n",
       "                    0.7800112678160017, 0.6705094672175854, 0.8795410705783853,\n",
       "                    0.9175392558703932, 0.7468714877292691, 0.6552863481261628,\n",
       "                    0.7914691169956078, 0.8210807737385951, 0.8261067780130366,\n",
       "                    0.8582476792678189, 0.7958948941829426, 0.7345769786766436,\n",
       "                    0.7276893432735742, 0.7086674042397739, 0.7378202822333738,\n",
       "                    0.6746442099123175, 0.7635689220435657, 0.7118604064961678,\n",
       "                    0.6462890155373187, 0.6483069058435833, 0.7158319395956911,\n",
       "                    0.6938068627026094, 0.6307263899116755, 0.6891577676320443,\n",
       "                    0.6839994024018025, 0.6829021967926221],\n",
       "              'xaxis': 'x11',\n",
       "              'y': [2.3608831792247367, 2.2820522525287616, 2.318979126304997,\n",
       "                    2.2388340980678647, 2.2569534097225974, 2.229492403550998,\n",
       "                    2.3261397934918158, 2.2148135864928276, 2.318103891151641,\n",
       "                    2.2547791298803928, 2.252198774143338, 2.237786023098335,\n",
       "                    2.222565367628073, 2.5307493070512326, 2.2240652745890386,\n",
       "                    2.29553608521051, 2.2389529783134523, 2.2581816980912883,\n",
       "                    2.2395378422107144, 2.234900660096892, 2.518379967672704,\n",
       "                    2.22208513802615, 2.367841016161326, 2.2548665709096385,\n",
       "                    2.234500408344479, 2.2410339814064644, 2.283454395613842,\n",
       "                    2.270646837716169, 2.294690368584063, 2.296999378092976,\n",
       "                    2.42180070090883, 2.222058446044877, 2.267337575540688,\n",
       "                    2.221377558730074, 2.2312876860289883, 2.217123698579245,\n",
       "                    2.215990140537614, 2.2257298756246833, 2.225093158793382,\n",
       "                    2.2352416380844304, 2.2530225886515285, 2.2131069675604977,\n",
       "                    2.2168445589309247, 2.2251290920895492, 2.222747079077472,\n",
       "                    2.215792968484861, 2.265995215493276, 2.2340069541869476,\n",
       "                    2.214915918398305, 2.2250385872599927],\n",
       "              'yaxis': 'y11'}],\n",
       "    'layout': {'template': '...',\n",
       "               'title': {'text': 'Slice Plot'},\n",
       "               'width': 3300,\n",
       "               'xaxis': {'anchor': 'y', 'domain': [0.0, 0.07438016528925619], 'title': {'text': 'alpha'}},\n",
       "               'xaxis10': {'anchor': 'y10',\n",
       "                           'domain': [0.8330578512396694, 0.9074380165289255],\n",
       "                           'title': {'text': 'n_estimators'}},\n",
       "               'xaxis11': {'anchor': 'y11',\n",
       "                           'domain': [0.9256198347107437, 0.9999999999999999],\n",
       "                           'title': {'text': 'subsample'}},\n",
       "               'xaxis2': {'anchor': 'y2',\n",
       "                          'domain': [0.09256198347107437, 0.16694214876033056],\n",
       "                          'title': {'text': 'learning_rate'},\n",
       "                          'type': 'log'},\n",
       "               'xaxis3': {'anchor': 'y3',\n",
       "                          'categoryarray': [squared_error, huber],\n",
       "                          'categoryorder': 'array',\n",
       "                          'domain': [0.18512396694214875, 0.25950413223140495],\n",
       "                          'title': {'text': 'loss'},\n",
       "                          'type': 'category'},\n",
       "               'xaxis4': {'anchor': 'y4',\n",
       "                          'domain': [0.27768595041322314, 0.3520661157024793],\n",
       "                          'title': {'text': 'max_depth'}},\n",
       "               'xaxis5': {'anchor': 'y5',\n",
       "                          'categoryarray': [sqrt, log2, None],\n",
       "                          'categoryorder': 'array',\n",
       "                          'domain': [0.3702479338842975, 0.44462809917355367],\n",
       "                          'title': {'text': 'max_features'},\n",
       "                          'type': 'category'},\n",
       "               'xaxis6': {'anchor': 'y6',\n",
       "                          'domain': [0.46280991735537186, 0.5371900826446281],\n",
       "                          'title': {'text': 'max_leaf_nodes'}},\n",
       "               'xaxis7': {'anchor': 'y7',\n",
       "                          'domain': [0.5553719008264462, 0.6297520661157023],\n",
       "                          'title': {'text': 'min_impurity_decrease'}},\n",
       "               'xaxis8': {'anchor': 'y8',\n",
       "                          'domain': [0.6479338842975206, 0.7223140495867768],\n",
       "                          'title': {'text': 'min_samples_leaf'}},\n",
       "               'xaxis9': {'anchor': 'y9',\n",
       "                          'domain': [0.740495867768595, 0.8148760330578512],\n",
       "                          'title': {'text': 'min_samples_split'}},\n",
       "               'yaxis': {'anchor': 'x', 'domain': [0.0, 1.0], 'title': {'text': 'Objective Value'}},\n",
       "               'yaxis10': {'anchor': 'x10', 'domain': [0.0, 1.0], 'matches': 'y', 'showticklabels': False},\n",
       "               'yaxis11': {'anchor': 'x11', 'domain': [0.0, 1.0], 'matches': 'y', 'showticklabels': False},\n",
       "               'yaxis2': {'anchor': 'x2', 'domain': [0.0, 1.0], 'matches': 'y', 'showticklabels': False},\n",
       "               'yaxis3': {'anchor': 'x3', 'domain': [0.0, 1.0], 'matches': 'y', 'showticklabels': False},\n",
       "               'yaxis4': {'anchor': 'x4', 'domain': [0.0, 1.0], 'matches': 'y', 'showticklabels': False},\n",
       "               'yaxis5': {'anchor': 'x5', 'domain': [0.0, 1.0], 'matches': 'y', 'showticklabels': False},\n",
       "               'yaxis6': {'anchor': 'x6', 'domain': [0.0, 1.0], 'matches': 'y', 'showticklabels': False},\n",
       "               'yaxis7': {'anchor': 'x7', 'domain': [0.0, 1.0], 'matches': 'y', 'showticklabels': False},\n",
       "               'yaxis8': {'anchor': 'x8', 'domain': [0.0, 1.0], 'matches': 'y', 'showticklabels': False},\n",
       "               'yaxis9': {'anchor': 'x9', 'domain': [0.0, 1.0], 'matches': 'y', 'showticklabels': False}}\n",
       "})"
      ]
     },
     "execution_count": 24,
     "metadata": {},
     "output_type": "execute_result"
    }
   ],
   "source": [
    "vis.plot_slice(study=study_grad)"
   ]
  },
  {
   "cell_type": "code",
   "execution_count": null,
   "id": "fe0937c0",
   "metadata": {},
   "outputs": [
    {
     "ename": "ValueError",
     "evalue": "Mime type rendering requires nbformat>=4.2.0 but it is not installed",
     "output_type": "error",
     "traceback": [
      "\u001b[31m---------------------------------------------------------------------------\u001b[39m",
      "\u001b[31mValueError\u001b[39m                                Traceback (most recent call last)",
      "\u001b[36mFile \u001b[39m\u001b[32md:\\code\\Python\\DSEB_ex\\ML1\\.venv\\Lib\\site-packages\\IPython\\core\\formatters.py:984\u001b[39m, in \u001b[36mIPythonDisplayFormatter.__call__\u001b[39m\u001b[34m(self, obj)\u001b[39m\n\u001b[32m    982\u001b[39m method = get_real_method(obj, \u001b[38;5;28mself\u001b[39m.print_method)\n\u001b[32m    983\u001b[39m \u001b[38;5;28;01mif\u001b[39;00m method \u001b[38;5;129;01mis\u001b[39;00m \u001b[38;5;129;01mnot\u001b[39;00m \u001b[38;5;28;01mNone\u001b[39;00m:\n\u001b[32m--> \u001b[39m\u001b[32m984\u001b[39m     \u001b[43mmethod\u001b[49m\u001b[43m(\u001b[49m\u001b[43m)\u001b[49m\n\u001b[32m    985\u001b[39m     \u001b[38;5;28;01mreturn\u001b[39;00m \u001b[38;5;28;01mTrue\u001b[39;00m\n",
      "\u001b[36mFile \u001b[39m\u001b[32md:\\code\\Python\\DSEB_ex\\ML1\\.venv\\Lib\\site-packages\\plotly\\basedatatypes.py:850\u001b[39m, in \u001b[36mBaseFigure._ipython_display_\u001b[39m\u001b[34m(self)\u001b[39m\n\u001b[32m    847\u001b[39m \u001b[38;5;28;01mimport\u001b[39;00m\u001b[38;5;250m \u001b[39m\u001b[34;01mplotly\u001b[39;00m\u001b[34;01m.\u001b[39;00m\u001b[34;01mio\u001b[39;00m\u001b[38;5;250m \u001b[39m\u001b[38;5;28;01mas\u001b[39;00m\u001b[38;5;250m \u001b[39m\u001b[34;01mpio\u001b[39;00m\n\u001b[32m    849\u001b[39m \u001b[38;5;28;01mif\u001b[39;00m pio.renderers.render_on_display \u001b[38;5;129;01mand\u001b[39;00m pio.renderers.default:\n\u001b[32m--> \u001b[39m\u001b[32m850\u001b[39m     \u001b[43mpio\u001b[49m\u001b[43m.\u001b[49m\u001b[43mshow\u001b[49m\u001b[43m(\u001b[49m\u001b[38;5;28;43mself\u001b[39;49m\u001b[43m)\u001b[49m\n\u001b[32m    851\u001b[39m \u001b[38;5;28;01melse\u001b[39;00m:\n\u001b[32m    852\u001b[39m     \u001b[38;5;28mprint\u001b[39m(\u001b[38;5;28mrepr\u001b[39m(\u001b[38;5;28mself\u001b[39m))\n",
      "\u001b[36mFile \u001b[39m\u001b[32md:\\code\\Python\\DSEB_ex\\ML1\\.venv\\Lib\\site-packages\\plotly\\io\\_renderers.py:415\u001b[39m, in \u001b[36mshow\u001b[39m\u001b[34m(fig, renderer, validate, **kwargs)\u001b[39m\n\u001b[32m    410\u001b[39m     \u001b[38;5;28;01mraise\u001b[39;00m \u001b[38;5;167;01mValueError\u001b[39;00m(\n\u001b[32m    411\u001b[39m         \u001b[33m\"\u001b[39m\u001b[33mMime type rendering requires ipython but it is not installed\u001b[39m\u001b[33m\"\u001b[39m\n\u001b[32m    412\u001b[39m     )\n\u001b[32m    414\u001b[39m \u001b[38;5;28;01mif\u001b[39;00m \u001b[38;5;129;01mnot\u001b[39;00m nbformat \u001b[38;5;129;01mor\u001b[39;00m Version(nbformat.__version__) < Version(\u001b[33m\"\u001b[39m\u001b[33m4.2.0\u001b[39m\u001b[33m\"\u001b[39m):\n\u001b[32m--> \u001b[39m\u001b[32m415\u001b[39m     \u001b[38;5;28;01mraise\u001b[39;00m \u001b[38;5;167;01mValueError\u001b[39;00m(\n\u001b[32m    416\u001b[39m         \u001b[33m\"\u001b[39m\u001b[33mMime type rendering requires nbformat>=4.2.0 but it is not installed\u001b[39m\u001b[33m\"\u001b[39m\n\u001b[32m    417\u001b[39m     )\n\u001b[32m    419\u001b[39m display_jupyter_version_warnings()\n\u001b[32m    421\u001b[39m ipython_display.display(bundle, raw=\u001b[38;5;28;01mTrue\u001b[39;00m)\n",
      "\u001b[31mValueError\u001b[39m: Mime type rendering requires nbformat>=4.2.0 but it is not installed"
     ]
    },
    {
     "data": {
      "application/vnd.plotly.v1+json": {
       "config": {
        "plotlyServerURL": "https://plot.ly"
       },
       "data": [
        {
         "cliponaxis": false,
         "hovertemplate": [
          "min_impurity_decrease (FloatDistribution): 0.0019895667269517617<extra></extra>",
          "min_samples_leaf (IntDistribution): 0.001990150838463588<extra></extra>",
          "loss (CategoricalDistribution): 0.006198301422825004<extra></extra>",
          "subsample (FloatDistribution): 0.007875805982251481<extra></extra>",
          "max_features (CategoricalDistribution): 0.009707534715602695<extra></extra>",
          "min_samples_split (IntDistribution): 0.009918224176536853<extra></extra>",
          "n_estimators (IntDistribution): 0.012472575371803579<extra></extra>",
          "max_depth (IntDistribution): 0.013882644785282039<extra></extra>",
          "alpha (FloatDistribution): 0.014865501170405214<extra></extra>",
          "max_leaf_nodes (IntDistribution): 0.017696264856904596<extra></extra>",
          "learning_rate (FloatDistribution): 0.9034034299529733<extra></extra>"
         ],
         "name": "Objective Value",
         "orientation": "h",
         "text": [
          "<0.01",
          "<0.01",
          "<0.01",
          "<0.01",
          "<0.01",
          "<0.01",
          "0.01",
          "0.01",
          "0.01",
          "0.02",
          "0.90"
         ],
         "textposition": "outside",
         "type": "bar",
         "x": [
          0.0019895667269517617,
          0.001990150838463588,
          0.006198301422825004,
          0.007875805982251481,
          0.009707534715602695,
          0.009918224176536853,
          0.012472575371803579,
          0.013882644785282039,
          0.014865501170405214,
          0.017696264856904596,
          0.9034034299529733
         ],
         "y": [
          "min_impurity_decrease",
          "min_samples_leaf",
          "loss",
          "subsample",
          "max_features",
          "min_samples_split",
          "n_estimators",
          "max_depth",
          "alpha",
          "max_leaf_nodes",
          "learning_rate"
         ]
        }
       ],
       "layout": {
        "template": {
         "data": {
          "bar": [
           {
            "error_x": {
             "color": "#2a3f5f"
            },
            "error_y": {
             "color": "#2a3f5f"
            },
            "marker": {
             "line": {
              "color": "#E5ECF6",
              "width": 0.5
             },
             "pattern": {
              "fillmode": "overlay",
              "size": 10,
              "solidity": 0.2
             }
            },
            "type": "bar"
           }
          ],
          "barpolar": [
           {
            "marker": {
             "line": {
              "color": "#E5ECF6",
              "width": 0.5
             },
             "pattern": {
              "fillmode": "overlay",
              "size": 10,
              "solidity": 0.2
             }
            },
            "type": "barpolar"
           }
          ],
          "carpet": [
           {
            "aaxis": {
             "endlinecolor": "#2a3f5f",
             "gridcolor": "white",
             "linecolor": "white",
             "minorgridcolor": "white",
             "startlinecolor": "#2a3f5f"
            },
            "baxis": {
             "endlinecolor": "#2a3f5f",
             "gridcolor": "white",
             "linecolor": "white",
             "minorgridcolor": "white",
             "startlinecolor": "#2a3f5f"
            },
            "type": "carpet"
           }
          ],
          "choropleth": [
           {
            "colorbar": {
             "outlinewidth": 0,
             "ticks": ""
            },
            "type": "choropleth"
           }
          ],
          "contour": [
           {
            "colorbar": {
             "outlinewidth": 0,
             "ticks": ""
            },
            "colorscale": [
             [
              0,
              "#0d0887"
             ],
             [
              0.1111111111111111,
              "#46039f"
             ],
             [
              0.2222222222222222,
              "#7201a8"
             ],
             [
              0.3333333333333333,
              "#9c179e"
             ],
             [
              0.4444444444444444,
              "#bd3786"
             ],
             [
              0.5555555555555556,
              "#d8576b"
             ],
             [
              0.6666666666666666,
              "#ed7953"
             ],
             [
              0.7777777777777778,
              "#fb9f3a"
             ],
             [
              0.8888888888888888,
              "#fdca26"
             ],
             [
              1,
              "#f0f921"
             ]
            ],
            "type": "contour"
           }
          ],
          "contourcarpet": [
           {
            "colorbar": {
             "outlinewidth": 0,
             "ticks": ""
            },
            "type": "contourcarpet"
           }
          ],
          "heatmap": [
           {
            "colorbar": {
             "outlinewidth": 0,
             "ticks": ""
            },
            "colorscale": [
             [
              0,
              "#0d0887"
             ],
             [
              0.1111111111111111,
              "#46039f"
             ],
             [
              0.2222222222222222,
              "#7201a8"
             ],
             [
              0.3333333333333333,
              "#9c179e"
             ],
             [
              0.4444444444444444,
              "#bd3786"
             ],
             [
              0.5555555555555556,
              "#d8576b"
             ],
             [
              0.6666666666666666,
              "#ed7953"
             ],
             [
              0.7777777777777778,
              "#fb9f3a"
             ],
             [
              0.8888888888888888,
              "#fdca26"
             ],
             [
              1,
              "#f0f921"
             ]
            ],
            "type": "heatmap"
           }
          ],
          "histogram": [
           {
            "marker": {
             "pattern": {
              "fillmode": "overlay",
              "size": 10,
              "solidity": 0.2
             }
            },
            "type": "histogram"
           }
          ],
          "histogram2d": [
           {
            "colorbar": {
             "outlinewidth": 0,
             "ticks": ""
            },
            "colorscale": [
             [
              0,
              "#0d0887"
             ],
             [
              0.1111111111111111,
              "#46039f"
             ],
             [
              0.2222222222222222,
              "#7201a8"
             ],
             [
              0.3333333333333333,
              "#9c179e"
             ],
             [
              0.4444444444444444,
              "#bd3786"
             ],
             [
              0.5555555555555556,
              "#d8576b"
             ],
             [
              0.6666666666666666,
              "#ed7953"
             ],
             [
              0.7777777777777778,
              "#fb9f3a"
             ],
             [
              0.8888888888888888,
              "#fdca26"
             ],
             [
              1,
              "#f0f921"
             ]
            ],
            "type": "histogram2d"
           }
          ],
          "histogram2dcontour": [
           {
            "colorbar": {
             "outlinewidth": 0,
             "ticks": ""
            },
            "colorscale": [
             [
              0,
              "#0d0887"
             ],
             [
              0.1111111111111111,
              "#46039f"
             ],
             [
              0.2222222222222222,
              "#7201a8"
             ],
             [
              0.3333333333333333,
              "#9c179e"
             ],
             [
              0.4444444444444444,
              "#bd3786"
             ],
             [
              0.5555555555555556,
              "#d8576b"
             ],
             [
              0.6666666666666666,
              "#ed7953"
             ],
             [
              0.7777777777777778,
              "#fb9f3a"
             ],
             [
              0.8888888888888888,
              "#fdca26"
             ],
             [
              1,
              "#f0f921"
             ]
            ],
            "type": "histogram2dcontour"
           }
          ],
          "mesh3d": [
           {
            "colorbar": {
             "outlinewidth": 0,
             "ticks": ""
            },
            "type": "mesh3d"
           }
          ],
          "parcoords": [
           {
            "line": {
             "colorbar": {
              "outlinewidth": 0,
              "ticks": ""
             }
            },
            "type": "parcoords"
           }
          ],
          "pie": [
           {
            "automargin": true,
            "type": "pie"
           }
          ],
          "scatter": [
           {
            "fillpattern": {
             "fillmode": "overlay",
             "size": 10,
             "solidity": 0.2
            },
            "type": "scatter"
           }
          ],
          "scatter3d": [
           {
            "line": {
             "colorbar": {
              "outlinewidth": 0,
              "ticks": ""
             }
            },
            "marker": {
             "colorbar": {
              "outlinewidth": 0,
              "ticks": ""
             }
            },
            "type": "scatter3d"
           }
          ],
          "scattercarpet": [
           {
            "marker": {
             "colorbar": {
              "outlinewidth": 0,
              "ticks": ""
             }
            },
            "type": "scattercarpet"
           }
          ],
          "scattergeo": [
           {
            "marker": {
             "colorbar": {
              "outlinewidth": 0,
              "ticks": ""
             }
            },
            "type": "scattergeo"
           }
          ],
          "scattergl": [
           {
            "marker": {
             "colorbar": {
              "outlinewidth": 0,
              "ticks": ""
             }
            },
            "type": "scattergl"
           }
          ],
          "scattermap": [
           {
            "marker": {
             "colorbar": {
              "outlinewidth": 0,
              "ticks": ""
             }
            },
            "type": "scattermap"
           }
          ],
          "scattermapbox": [
           {
            "marker": {
             "colorbar": {
              "outlinewidth": 0,
              "ticks": ""
             }
            },
            "type": "scattermapbox"
           }
          ],
          "scatterpolar": [
           {
            "marker": {
             "colorbar": {
              "outlinewidth": 0,
              "ticks": ""
             }
            },
            "type": "scatterpolar"
           }
          ],
          "scatterpolargl": [
           {
            "marker": {
             "colorbar": {
              "outlinewidth": 0,
              "ticks": ""
             }
            },
            "type": "scatterpolargl"
           }
          ],
          "scatterternary": [
           {
            "marker": {
             "colorbar": {
              "outlinewidth": 0,
              "ticks": ""
             }
            },
            "type": "scatterternary"
           }
          ],
          "surface": [
           {
            "colorbar": {
             "outlinewidth": 0,
             "ticks": ""
            },
            "colorscale": [
             [
              0,
              "#0d0887"
             ],
             [
              0.1111111111111111,
              "#46039f"
             ],
             [
              0.2222222222222222,
              "#7201a8"
             ],
             [
              0.3333333333333333,
              "#9c179e"
             ],
             [
              0.4444444444444444,
              "#bd3786"
             ],
             [
              0.5555555555555556,
              "#d8576b"
             ],
             [
              0.6666666666666666,
              "#ed7953"
             ],
             [
              0.7777777777777778,
              "#fb9f3a"
             ],
             [
              0.8888888888888888,
              "#fdca26"
             ],
             [
              1,
              "#f0f921"
             ]
            ],
            "type": "surface"
           }
          ],
          "table": [
           {
            "cells": {
             "fill": {
              "color": "#EBF0F8"
             },
             "line": {
              "color": "white"
             }
            },
            "header": {
             "fill": {
              "color": "#C8D4E3"
             },
             "line": {
              "color": "white"
             }
            },
            "type": "table"
           }
          ]
         },
         "layout": {
          "annotationdefaults": {
           "arrowcolor": "#2a3f5f",
           "arrowhead": 0,
           "arrowwidth": 1
          },
          "autotypenumbers": "strict",
          "coloraxis": {
           "colorbar": {
            "outlinewidth": 0,
            "ticks": ""
           }
          },
          "colorscale": {
           "diverging": [
            [
             0,
             "#8e0152"
            ],
            [
             0.1,
             "#c51b7d"
            ],
            [
             0.2,
             "#de77ae"
            ],
            [
             0.3,
             "#f1b6da"
            ],
            [
             0.4,
             "#fde0ef"
            ],
            [
             0.5,
             "#f7f7f7"
            ],
            [
             0.6,
             "#e6f5d0"
            ],
            [
             0.7,
             "#b8e186"
            ],
            [
             0.8,
             "#7fbc41"
            ],
            [
             0.9,
             "#4d9221"
            ],
            [
             1,
             "#276419"
            ]
           ],
           "sequential": [
            [
             0,
             "#0d0887"
            ],
            [
             0.1111111111111111,
             "#46039f"
            ],
            [
             0.2222222222222222,
             "#7201a8"
            ],
            [
             0.3333333333333333,
             "#9c179e"
            ],
            [
             0.4444444444444444,
             "#bd3786"
            ],
            [
             0.5555555555555556,
             "#d8576b"
            ],
            [
             0.6666666666666666,
             "#ed7953"
            ],
            [
             0.7777777777777778,
             "#fb9f3a"
            ],
            [
             0.8888888888888888,
             "#fdca26"
            ],
            [
             1,
             "#f0f921"
            ]
           ],
           "sequentialminus": [
            [
             0,
             "#0d0887"
            ],
            [
             0.1111111111111111,
             "#46039f"
            ],
            [
             0.2222222222222222,
             "#7201a8"
            ],
            [
             0.3333333333333333,
             "#9c179e"
            ],
            [
             0.4444444444444444,
             "#bd3786"
            ],
            [
             0.5555555555555556,
             "#d8576b"
            ],
            [
             0.6666666666666666,
             "#ed7953"
            ],
            [
             0.7777777777777778,
             "#fb9f3a"
            ],
            [
             0.8888888888888888,
             "#fdca26"
            ],
            [
             1,
             "#f0f921"
            ]
           ]
          },
          "colorway": [
           "#636efa",
           "#EF553B",
           "#00cc96",
           "#ab63fa",
           "#FFA15A",
           "#19d3f3",
           "#FF6692",
           "#B6E880",
           "#FF97FF",
           "#FECB52"
          ],
          "font": {
           "color": "#2a3f5f"
          },
          "geo": {
           "bgcolor": "white",
           "lakecolor": "white",
           "landcolor": "#E5ECF6",
           "showlakes": true,
           "showland": true,
           "subunitcolor": "white"
          },
          "hoverlabel": {
           "align": "left"
          },
          "hovermode": "closest",
          "mapbox": {
           "style": "light"
          },
          "paper_bgcolor": "white",
          "plot_bgcolor": "#E5ECF6",
          "polar": {
           "angularaxis": {
            "gridcolor": "white",
            "linecolor": "white",
            "ticks": ""
           },
           "bgcolor": "#E5ECF6",
           "radialaxis": {
            "gridcolor": "white",
            "linecolor": "white",
            "ticks": ""
           }
          },
          "scene": {
           "xaxis": {
            "backgroundcolor": "#E5ECF6",
            "gridcolor": "white",
            "gridwidth": 2,
            "linecolor": "white",
            "showbackground": true,
            "ticks": "",
            "zerolinecolor": "white"
           },
           "yaxis": {
            "backgroundcolor": "#E5ECF6",
            "gridcolor": "white",
            "gridwidth": 2,
            "linecolor": "white",
            "showbackground": true,
            "ticks": "",
            "zerolinecolor": "white"
           },
           "zaxis": {
            "backgroundcolor": "#E5ECF6",
            "gridcolor": "white",
            "gridwidth": 2,
            "linecolor": "white",
            "showbackground": true,
            "ticks": "",
            "zerolinecolor": "white"
           }
          },
          "shapedefaults": {
           "line": {
            "color": "#2a3f5f"
           }
          },
          "ternary": {
           "aaxis": {
            "gridcolor": "white",
            "linecolor": "white",
            "ticks": ""
           },
           "baxis": {
            "gridcolor": "white",
            "linecolor": "white",
            "ticks": ""
           },
           "bgcolor": "#E5ECF6",
           "caxis": {
            "gridcolor": "white",
            "linecolor": "white",
            "ticks": ""
           }
          },
          "title": {
           "x": 0.05
          },
          "xaxis": {
           "automargin": true,
           "gridcolor": "white",
           "linecolor": "white",
           "ticks": "",
           "title": {
            "standoff": 15
           },
           "zerolinecolor": "white",
           "zerolinewidth": 2
          },
          "yaxis": {
           "automargin": true,
           "gridcolor": "white",
           "linecolor": "white",
           "ticks": "",
           "title": {
            "standoff": 15
           },
           "zerolinecolor": "white",
           "zerolinewidth": 2
          }
         }
        },
        "title": {
         "text": "Hyperparameter Importances"
        },
        "xaxis": {
         "title": {
          "text": "Hyperparameter Importance"
         }
        },
        "yaxis": {
         "title": {
          "text": "Hyperparameter"
         }
        }
       }
      },
      "text/html": [
       "<div>                        <script type=\"text/javascript\">window.PlotlyConfig = {MathJaxConfig: 'local'};</script>\n",
       "        <script charset=\"utf-8\" src=\"https://cdn.plot.ly/plotly-3.1.1.min.js\" integrity=\"sha256-HUEFyfiTnZJxCxur99FjbKYTvKSzwDaD3/x5TqHpFu4=\" crossorigin=\"anonymous\"></script>                <div id=\"5a87c5b7-6f50-4e3b-975a-0c814fa5b3d0\" class=\"plotly-graph-div\" style=\"height:100%; width:100%;\"></div>            <script type=\"text/javascript\">                window.PLOTLYENV=window.PLOTLYENV || {};                                if (document.getElementById(\"5a87c5b7-6f50-4e3b-975a-0c814fa5b3d0\")) {                    Plotly.newPlot(                        \"5a87c5b7-6f50-4e3b-975a-0c814fa5b3d0\",                        [{\"cliponaxis\":false,\"hovertemplate\":[\"min_impurity_decrease (FloatDistribution): 0.0019895667269517617\\u003cextra\\u003e\\u003c\\u002fextra\\u003e\",\"min_samples_leaf (IntDistribution): 0.001990150838463588\\u003cextra\\u003e\\u003c\\u002fextra\\u003e\",\"loss (CategoricalDistribution): 0.006198301422825004\\u003cextra\\u003e\\u003c\\u002fextra\\u003e\",\"subsample (FloatDistribution): 0.007875805982251481\\u003cextra\\u003e\\u003c\\u002fextra\\u003e\",\"max_features (CategoricalDistribution): 0.009707534715602695\\u003cextra\\u003e\\u003c\\u002fextra\\u003e\",\"min_samples_split (IntDistribution): 0.009918224176536853\\u003cextra\\u003e\\u003c\\u002fextra\\u003e\",\"n_estimators (IntDistribution): 0.012472575371803579\\u003cextra\\u003e\\u003c\\u002fextra\\u003e\",\"max_depth (IntDistribution): 0.013882644785282039\\u003cextra\\u003e\\u003c\\u002fextra\\u003e\",\"alpha (FloatDistribution): 0.014865501170405214\\u003cextra\\u003e\\u003c\\u002fextra\\u003e\",\"max_leaf_nodes (IntDistribution): 0.017696264856904596\\u003cextra\\u003e\\u003c\\u002fextra\\u003e\",\"learning_rate (FloatDistribution): 0.9034034299529733\\u003cextra\\u003e\\u003c\\u002fextra\\u003e\"],\"name\":\"Objective Value\",\"orientation\":\"h\",\"text\":[\"\\u003c0.01\",\"\\u003c0.01\",\"\\u003c0.01\",\"\\u003c0.01\",\"\\u003c0.01\",\"\\u003c0.01\",\"0.01\",\"0.01\",\"0.01\",\"0.02\",\"0.90\"],\"textposition\":\"outside\",\"x\":[0.0019895667269517617,0.001990150838463588,0.006198301422825004,0.007875805982251481,0.009707534715602695,0.009918224176536853,0.012472575371803579,0.013882644785282039,0.014865501170405214,0.017696264856904596,0.9034034299529733],\"y\":[\"min_impurity_decrease\",\"min_samples_leaf\",\"loss\",\"subsample\",\"max_features\",\"min_samples_split\",\"n_estimators\",\"max_depth\",\"alpha\",\"max_leaf_nodes\",\"learning_rate\"],\"type\":\"bar\"}],                        {\"title\":{\"text\":\"Hyperparameter Importances\"},\"xaxis\":{\"title\":{\"text\":\"Hyperparameter Importance\"}},\"yaxis\":{\"title\":{\"text\":\"Hyperparameter\"}},\"template\":{\"data\":{\"histogram2dcontour\":[{\"type\":\"histogram2dcontour\",\"colorbar\":{\"outlinewidth\":0,\"ticks\":\"\"},\"colorscale\":[[0.0,\"#0d0887\"],[0.1111111111111111,\"#46039f\"],[0.2222222222222222,\"#7201a8\"],[0.3333333333333333,\"#9c179e\"],[0.4444444444444444,\"#bd3786\"],[0.5555555555555556,\"#d8576b\"],[0.6666666666666666,\"#ed7953\"],[0.7777777777777778,\"#fb9f3a\"],[0.8888888888888888,\"#fdca26\"],[1.0,\"#f0f921\"]]}],\"choropleth\":[{\"type\":\"choropleth\",\"colorbar\":{\"outlinewidth\":0,\"ticks\":\"\"}}],\"histogram2d\":[{\"type\":\"histogram2d\",\"colorbar\":{\"outlinewidth\":0,\"ticks\":\"\"},\"colorscale\":[[0.0,\"#0d0887\"],[0.1111111111111111,\"#46039f\"],[0.2222222222222222,\"#7201a8\"],[0.3333333333333333,\"#9c179e\"],[0.4444444444444444,\"#bd3786\"],[0.5555555555555556,\"#d8576b\"],[0.6666666666666666,\"#ed7953\"],[0.7777777777777778,\"#fb9f3a\"],[0.8888888888888888,\"#fdca26\"],[1.0,\"#f0f921\"]]}],\"heatmap\":[{\"type\":\"heatmap\",\"colorbar\":{\"outlinewidth\":0,\"ticks\":\"\"},\"colorscale\":[[0.0,\"#0d0887\"],[0.1111111111111111,\"#46039f\"],[0.2222222222222222,\"#7201a8\"],[0.3333333333333333,\"#9c179e\"],[0.4444444444444444,\"#bd3786\"],[0.5555555555555556,\"#d8576b\"],[0.6666666666666666,\"#ed7953\"],[0.7777777777777778,\"#fb9f3a\"],[0.8888888888888888,\"#fdca26\"],[1.0,\"#f0f921\"]]}],\"contourcarpet\":[{\"type\":\"contourcarpet\",\"colorbar\":{\"outlinewidth\":0,\"ticks\":\"\"}}],\"contour\":[{\"type\":\"contour\",\"colorbar\":{\"outlinewidth\":0,\"ticks\":\"\"},\"colorscale\":[[0.0,\"#0d0887\"],[0.1111111111111111,\"#46039f\"],[0.2222222222222222,\"#7201a8\"],[0.3333333333333333,\"#9c179e\"],[0.4444444444444444,\"#bd3786\"],[0.5555555555555556,\"#d8576b\"],[0.6666666666666666,\"#ed7953\"],[0.7777777777777778,\"#fb9f3a\"],[0.8888888888888888,\"#fdca26\"],[1.0,\"#f0f921\"]]}],\"surface\":[{\"type\":\"surface\",\"colorbar\":{\"outlinewidth\":0,\"ticks\":\"\"},\"colorscale\":[[0.0,\"#0d0887\"],[0.1111111111111111,\"#46039f\"],[0.2222222222222222,\"#7201a8\"],[0.3333333333333333,\"#9c179e\"],[0.4444444444444444,\"#bd3786\"],[0.5555555555555556,\"#d8576b\"],[0.6666666666666666,\"#ed7953\"],[0.7777777777777778,\"#fb9f3a\"],[0.8888888888888888,\"#fdca26\"],[1.0,\"#f0f921\"]]}],\"mesh3d\":[{\"type\":\"mesh3d\",\"colorbar\":{\"outlinewidth\":0,\"ticks\":\"\"}}],\"scatter\":[{\"fillpattern\":{\"fillmode\":\"overlay\",\"size\":10,\"solidity\":0.2},\"type\":\"scatter\"}],\"parcoords\":[{\"type\":\"parcoords\",\"line\":{\"colorbar\":{\"outlinewidth\":0,\"ticks\":\"\"}}}],\"scatterpolargl\":[{\"type\":\"scatterpolargl\",\"marker\":{\"colorbar\":{\"outlinewidth\":0,\"ticks\":\"\"}}}],\"bar\":[{\"error_x\":{\"color\":\"#2a3f5f\"},\"error_y\":{\"color\":\"#2a3f5f\"},\"marker\":{\"line\":{\"color\":\"#E5ECF6\",\"width\":0.5},\"pattern\":{\"fillmode\":\"overlay\",\"size\":10,\"solidity\":0.2}},\"type\":\"bar\"}],\"scattergeo\":[{\"type\":\"scattergeo\",\"marker\":{\"colorbar\":{\"outlinewidth\":0,\"ticks\":\"\"}}}],\"scatterpolar\":[{\"type\":\"scatterpolar\",\"marker\":{\"colorbar\":{\"outlinewidth\":0,\"ticks\":\"\"}}}],\"histogram\":[{\"marker\":{\"pattern\":{\"fillmode\":\"overlay\",\"size\":10,\"solidity\":0.2}},\"type\":\"histogram\"}],\"scattergl\":[{\"type\":\"scattergl\",\"marker\":{\"colorbar\":{\"outlinewidth\":0,\"ticks\":\"\"}}}],\"scatter3d\":[{\"type\":\"scatter3d\",\"line\":{\"colorbar\":{\"outlinewidth\":0,\"ticks\":\"\"}},\"marker\":{\"colorbar\":{\"outlinewidth\":0,\"ticks\":\"\"}}}],\"scattermap\":[{\"type\":\"scattermap\",\"marker\":{\"colorbar\":{\"outlinewidth\":0,\"ticks\":\"\"}}}],\"scattermapbox\":[{\"type\":\"scattermapbox\",\"marker\":{\"colorbar\":{\"outlinewidth\":0,\"ticks\":\"\"}}}],\"scatterternary\":[{\"type\":\"scatterternary\",\"marker\":{\"colorbar\":{\"outlinewidth\":0,\"ticks\":\"\"}}}],\"scattercarpet\":[{\"type\":\"scattercarpet\",\"marker\":{\"colorbar\":{\"outlinewidth\":0,\"ticks\":\"\"}}}],\"carpet\":[{\"aaxis\":{\"endlinecolor\":\"#2a3f5f\",\"gridcolor\":\"white\",\"linecolor\":\"white\",\"minorgridcolor\":\"white\",\"startlinecolor\":\"#2a3f5f\"},\"baxis\":{\"endlinecolor\":\"#2a3f5f\",\"gridcolor\":\"white\",\"linecolor\":\"white\",\"minorgridcolor\":\"white\",\"startlinecolor\":\"#2a3f5f\"},\"type\":\"carpet\"}],\"table\":[{\"cells\":{\"fill\":{\"color\":\"#EBF0F8\"},\"line\":{\"color\":\"white\"}},\"header\":{\"fill\":{\"color\":\"#C8D4E3\"},\"line\":{\"color\":\"white\"}},\"type\":\"table\"}],\"barpolar\":[{\"marker\":{\"line\":{\"color\":\"#E5ECF6\",\"width\":0.5},\"pattern\":{\"fillmode\":\"overlay\",\"size\":10,\"solidity\":0.2}},\"type\":\"barpolar\"}],\"pie\":[{\"automargin\":true,\"type\":\"pie\"}]},\"layout\":{\"autotypenumbers\":\"strict\",\"colorway\":[\"#636efa\",\"#EF553B\",\"#00cc96\",\"#ab63fa\",\"#FFA15A\",\"#19d3f3\",\"#FF6692\",\"#B6E880\",\"#FF97FF\",\"#FECB52\"],\"font\":{\"color\":\"#2a3f5f\"},\"hovermode\":\"closest\",\"hoverlabel\":{\"align\":\"left\"},\"paper_bgcolor\":\"white\",\"plot_bgcolor\":\"#E5ECF6\",\"polar\":{\"bgcolor\":\"#E5ECF6\",\"angularaxis\":{\"gridcolor\":\"white\",\"linecolor\":\"white\",\"ticks\":\"\"},\"radialaxis\":{\"gridcolor\":\"white\",\"linecolor\":\"white\",\"ticks\":\"\"}},\"ternary\":{\"bgcolor\":\"#E5ECF6\",\"aaxis\":{\"gridcolor\":\"white\",\"linecolor\":\"white\",\"ticks\":\"\"},\"baxis\":{\"gridcolor\":\"white\",\"linecolor\":\"white\",\"ticks\":\"\"},\"caxis\":{\"gridcolor\":\"white\",\"linecolor\":\"white\",\"ticks\":\"\"}},\"coloraxis\":{\"colorbar\":{\"outlinewidth\":0,\"ticks\":\"\"}},\"colorscale\":{\"sequential\":[[0.0,\"#0d0887\"],[0.1111111111111111,\"#46039f\"],[0.2222222222222222,\"#7201a8\"],[0.3333333333333333,\"#9c179e\"],[0.4444444444444444,\"#bd3786\"],[0.5555555555555556,\"#d8576b\"],[0.6666666666666666,\"#ed7953\"],[0.7777777777777778,\"#fb9f3a\"],[0.8888888888888888,\"#fdca26\"],[1.0,\"#f0f921\"]],\"sequentialminus\":[[0.0,\"#0d0887\"],[0.1111111111111111,\"#46039f\"],[0.2222222222222222,\"#7201a8\"],[0.3333333333333333,\"#9c179e\"],[0.4444444444444444,\"#bd3786\"],[0.5555555555555556,\"#d8576b\"],[0.6666666666666666,\"#ed7953\"],[0.7777777777777778,\"#fb9f3a\"],[0.8888888888888888,\"#fdca26\"],[1.0,\"#f0f921\"]],\"diverging\":[[0,\"#8e0152\"],[0.1,\"#c51b7d\"],[0.2,\"#de77ae\"],[0.3,\"#f1b6da\"],[0.4,\"#fde0ef\"],[0.5,\"#f7f7f7\"],[0.6,\"#e6f5d0\"],[0.7,\"#b8e186\"],[0.8,\"#7fbc41\"],[0.9,\"#4d9221\"],[1,\"#276419\"]]},\"xaxis\":{\"gridcolor\":\"white\",\"linecolor\":\"white\",\"ticks\":\"\",\"title\":{\"standoff\":15},\"zerolinecolor\":\"white\",\"automargin\":true,\"zerolinewidth\":2},\"yaxis\":{\"gridcolor\":\"white\",\"linecolor\":\"white\",\"ticks\":\"\",\"title\":{\"standoff\":15},\"zerolinecolor\":\"white\",\"automargin\":true,\"zerolinewidth\":2},\"scene\":{\"xaxis\":{\"backgroundcolor\":\"#E5ECF6\",\"gridcolor\":\"white\",\"linecolor\":\"white\",\"showbackground\":true,\"ticks\":\"\",\"zerolinecolor\":\"white\",\"gridwidth\":2},\"yaxis\":{\"backgroundcolor\":\"#E5ECF6\",\"gridcolor\":\"white\",\"linecolor\":\"white\",\"showbackground\":true,\"ticks\":\"\",\"zerolinecolor\":\"white\",\"gridwidth\":2},\"zaxis\":{\"backgroundcolor\":\"#E5ECF6\",\"gridcolor\":\"white\",\"linecolor\":\"white\",\"showbackground\":true,\"ticks\":\"\",\"zerolinecolor\":\"white\",\"gridwidth\":2}},\"shapedefaults\":{\"line\":{\"color\":\"#2a3f5f\"}},\"annotationdefaults\":{\"arrowcolor\":\"#2a3f5f\",\"arrowhead\":0,\"arrowwidth\":1},\"geo\":{\"bgcolor\":\"white\",\"landcolor\":\"#E5ECF6\",\"subunitcolor\":\"white\",\"showland\":true,\"showlakes\":true,\"lakecolor\":\"white\"},\"title\":{\"x\":0.05},\"mapbox\":{\"style\":\"light\"}}}},                        {\"responsive\": true}                    )                };            </script>        </div>"
      ],
      "text/plain": [
       "Figure({\n",
       "    'data': [{'cliponaxis': False,\n",
       "              'hovertemplate': [min_impurity_decrease (FloatDistribution):\n",
       "                                0.0019895667269517617<extra></extra>,\n",
       "                                min_samples_leaf (IntDistribution):\n",
       "                                0.001990150838463588<extra></extra>, loss\n",
       "                                (CategoricalDistribution):\n",
       "                                0.006198301422825004<extra></extra>, subsample\n",
       "                                (FloatDistribution):\n",
       "                                0.007875805982251481<extra></extra>, max_features\n",
       "                                (CategoricalDistribution):\n",
       "                                0.009707534715602695<extra></extra>,\n",
       "                                min_samples_split (IntDistribution):\n",
       "                                0.009918224176536853<extra></extra>, n_estimators\n",
       "                                (IntDistribution):\n",
       "                                0.012472575371803579<extra></extra>, max_depth\n",
       "                                (IntDistribution):\n",
       "                                0.013882644785282039<extra></extra>, alpha\n",
       "                                (FloatDistribution):\n",
       "                                0.014865501170405214<extra></extra>, max_leaf_nodes\n",
       "                                (IntDistribution):\n",
       "                                0.017696264856904596<extra></extra>, learning_rate\n",
       "                                (FloatDistribution):\n",
       "                                0.9034034299529733<extra></extra>],\n",
       "              'name': 'Objective Value',\n",
       "              'orientation': 'h',\n",
       "              'text': [<0.01, <0.01, <0.01, <0.01, <0.01, <0.01, 0.01, 0.01, 0.01,\n",
       "                       0.02, 0.90],\n",
       "              'textposition': 'outside',\n",
       "              'type': 'bar',\n",
       "              'x': [0.0019895667269517617, 0.001990150838463588,\n",
       "                    0.006198301422825004, 0.007875805982251481,\n",
       "                    0.009707534715602695, 0.009918224176536853,\n",
       "                    0.012472575371803579, 0.013882644785282039,\n",
       "                    0.014865501170405214, 0.017696264856904596, 0.9034034299529733],\n",
       "              'y': [min_impurity_decrease, min_samples_leaf, loss, subsample,\n",
       "                    max_features, min_samples_split, n_estimators, max_depth,\n",
       "                    alpha, max_leaf_nodes, learning_rate]}],\n",
       "    'layout': {'template': '...',\n",
       "               'title': {'text': 'Hyperparameter Importances'},\n",
       "               'xaxis': {'title': {'text': 'Hyperparameter Importance'}},\n",
       "               'yaxis': {'title': {'text': 'Hyperparameter'}}}\n",
       "})"
      ]
     },
     "execution_count": 25,
     "metadata": {},
     "output_type": "execute_result"
    }
   ],
   "source": [
    "vis.plot_param_importances(study=study_grad)"
   ]
  },
  {
   "cell_type": "code",
   "execution_count": null,
   "id": "db952101",
   "metadata": {},
   "outputs": [],
   "source": [
    "task_grad.close()"
   ]
  }
 ],
 "metadata": {
  "kernelspec": {
   "display_name": "Python (group1venv)",
   "language": "python",
   "name": "group1venv"
  },
  "language_info": {
   "codemirror_mode": {
    "name": "ipython",
    "version": 3
   },
   "file_extension": ".py",
   "mimetype": "text/x-python",
   "name": "python",
   "nbconvert_exporter": "python",
   "pygments_lexer": "ipython3",
   "version": "3.12.4"
  }
 },
 "nbformat": 4,
 "nbformat_minor": 5
}
