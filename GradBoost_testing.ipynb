{
 "cells": [
  {
   "cell_type": "code",
   "execution_count": 1,
   "id": "b72ccedf",
   "metadata": {},
   "outputs": [
    {
     "name": "stderr",
     "output_type": "stream",
     "text": [
      "c:\\Users\\Admin\\Documents\\ML\\group1\\venv\\Lib\\site-packages\\tqdm\\auto.py:21: TqdmWarning: IProgress not found. Please update jupyter and ipywidgets. See https://ipywidgets.readthedocs.io/en/stable/user_install.html\n",
      "  from .autonotebook import tqdm as notebook_tqdm\n"
     ]
    }
   ],
   "source": [
    "from clearml import Task\n",
    "import numpy as np\n",
    "import random\n",
    "import os\n",
    "import optuna\n",
    "\n",
    "import joblib\n",
    "import pandas as pd\n",
    "import optuna.visualization as vis\n",
    "import matplotlib.pyplot as plt\n",
    "\n",
    "from pathlib import Path\n",
    "from clearml import Logger\n",
    "from sklearn.ensemble import RandomForestRegressor\n",
    "from sklearn.ensemble import ExtraTreesRegressor, GradientBoostingRegressor\n",
    "from sklearn.model_selection import TimeSeriesSplit\n",
    "\n",
    "from src import data_preprocessing as dp\n",
    "from src import pipeline as pl\n",
    "from src import feature_engineering as fe\n",
    "from src.model_evaluation import evaluate\n",
    "from sklearn.model_selection import cross_val_score, cross_val_predict, KFold\n",
    "\n",
    "SEED = 42 # vẫn phải chọn random của model đấy\n",
    "\n",
    "# Python, NumPy\n",
    "random.seed(SEED)\n",
    "np.random.seed(SEED) \n",
    "\n",
    "# Hash seed cho Python interpreter (ảnh hưởng tới dict order)\n",
    "os.environ['PYTHONHASHSEED'] = str(SEED)\n",
    "\n",
    "# Giới hạn luồng tính toán song song (để tránh floating-point nondeterminism)\n",
    "os.environ[\"OMP_NUM_THREADS\"] = \"1\"\n",
    "os.environ[\"MKL_NUM_THREADS\"] = \"1\"\n",
    "os.environ[\"NUMEXPR_NUM_THREADS\"] = \"1\"\n",
    "\n",
    "# tạo sampler của Optuna có seed cố định\n",
    "sampler = optuna.samplers.TPESampler(seed=SEED)\n"
   ]
  },
  {
   "cell_type": "code",
   "execution_count": null,
   "id": "e8a9465b",
   "metadata": {},
   "outputs": [
    {
     "name": "stdout",
     "output_type": "stream",
     "text": [
      " Loaded data with shape: (3660, 33)\n",
      "Dropped column: 'description'\n",
      "Dropped column: 'icon'\n",
      "Dropped column: 'stations'\n",
      "Dropped column: 'name'\n",
      "(2562, 258)\n"
     ]
    }
   ],
   "source": [
    "# 1. Load raw Data\n",
    "df = dp.load_data(r\"data\\raw data\\Hanoi Daily 10 years.csv\")\n",
    "\n",
    "\n",
    "# 2. basic preprocessing for all data set\n",
    "df = dp.basic_preprocessing(df=df)\n",
    "\n",
    "# 3. chia train, val, test (tỉ lệ 70/15/15)\n",
    "target_col = 'temp'\n",
    "train_size = 0.7\n",
    "val_size = 0.15\n",
    "n = len(df)\n",
    "\n",
    "train_df = df.iloc[:int(train_size*n)]\n",
    "val_df = df.iloc[int(train_size*n):int((train_size+val_size)*n)]\n",
    "test_df = df.iloc[int((train_size+val_size)*n):]\n",
    "\n",
    "# 4. Fit và transform trên preprocessing pipeline\n",
    "pipeline1 = pl.build_preprocessing_pipeline()\n",
    "\n",
    "# fit trên train\n",
    "pipeline1.fit(train_df)\n",
    "\n",
    "# transform \n",
    "train_processed = pipeline1.transform(train_df)\n",
    "val_processed = pipeline1.transform(val_df)\n",
    "test_processed = pipeline1.transform(test_df)\n",
    "\n",
    "\n",
    "# Tạo feature engineering\n",
    "column_lag = ['tempmax', 'tempmin', 'dew', 'humidity', 'precip',\n",
    "    'precipprob', 'precipcover', 'windgust', 'windspeed',\n",
    "    'sealevelpressure', 'cloudcover', 'visibility', 'solarradiation', \n",
    "    'pressure_temp_index', 'wind_temp_index', 'temp_range', 'dew_spread']\n",
    "\n",
    "train_feat = fe.feature_engineering(train_processed, column= column_lag)\n",
    "val_feat = fe.feature_engineering(val_processed, column= column_lag)\n",
    "test_feat = fe.feature_engineering(test_processed, column= column_lag)\n",
    "print(train_feat.shape)"
   ]
  },
  {
   "cell_type": "code",
   "execution_count": 4,
   "id": "6efadf4d",
   "metadata": {},
   "outputs": [
    {
     "name": "stdout",
     "output_type": "stream",
     "text": [
      "Train: ((2562, 257), (2562,)), Val: ((549, 257), (549,)), Test: ((549, 257), (549,))\n"
     ]
    }
   ],
   "source": [
    "# Chia X, y riêng biệt\n",
    "X_train, y_train = train_feat.drop(columns=[target_col]), train_df[target_col]\n",
    "X_val, y_val = val_feat.drop(columns=[target_col]), val_df[target_col]\n",
    "X_test, y_test = test_feat.drop(columns=[target_col]), test_df[target_col]\n",
    "\n",
    "print(f\"Train: {X_train.shape, y_train.shape}, Val: {X_val.shape, y_val.shape}, Test: {X_test.shape, y_test.shape}\")"
   ]
  },
  {
   "cell_type": "code",
   "execution_count": 5,
   "id": "d967ba34",
   "metadata": {},
   "outputs": [],
   "source": [
    "# không để drop highly correlated ở preprocessing nữa, chuyển sang ở feature selection\n",
    "from src import feature_selection as fs\n",
    "dropHighCorr = fs.DropHighlyCorrelated()\n",
    "dropHighCorr.fit(X_train)\n",
    "X_train = dropHighCorr.transform(X_train)\n",
    "X_val = dropHighCorr.transform(X_val)\n",
    "X_test = dropHighCorr.transform(X_test)\n"
   ]
  },
  {
   "cell_type": "code",
   "execution_count": 6,
   "id": "c2ab4bfa",
   "metadata": {},
   "outputs": [],
   "source": [
    "fs_pipeline_GB = pl.build_GB_featture_engineering_pipeline()\n",
    "# GB importance\n",
    "# fit trên train\n",
    "X_train = fs_pipeline_GB.fit_transform(X_train, y_train)\n",
    "\n",
    "# transform \n",
    "X_train = fs_pipeline_GB.transform(X_train)\n",
    "X_val = fs_pipeline_GB.transform(X_val)\n",
    "X_test = fs_pipeline_GB.transform(X_test)"
   ]
  },
  {
   "cell_type": "code",
   "execution_count": 13,
   "id": "386f9b14",
   "metadata": {},
   "outputs": [
    {
     "data": {
      "text/plain": [
       "Index(['feelslike_lag_1', 'pressure_temp_index_roll_mean_14', 'sunrise_lag_1',\n",
       "       'solar_temp_index_lag_1', 'winddir_lag_1', 'windspeed_lag_1',\n",
       "       'sealevelpressure_roll_mean_14', 'windgust_lag_1', 'humidity_lag_1',\n",
       "       'day_length_lag_1', 'windgust_roll_mean_3', 'dew_spread_lag_1',\n",
       "       'visibility_lag_1', 'dew_roll_mean_3', 'precip_lag_2',\n",
       "       'temp_roll_std_7', 'temp_range_lag_1', 'precipcover_roll_mean_3',\n",
       "       'precip_lag_1', 'sealevelpressure_roll_std_14', 'humidity_roll_mean_3',\n",
       "       'precipcover_lag_1', 'tempmax_lag_7', 'dew_spread_lag_4',\n",
       "       'conditions_lag_1', 'visibility_lag_2', 'month_lag_1',\n",
       "       'temp_range_roll_std_14', 'windgust_lag_4',\n",
       "       'sealevelpressure_roll_std_3'],\n",
       "      dtype='object')"
      ]
     },
     "execution_count": 13,
     "metadata": {},
     "output_type": "execute_result"
    }
   ],
   "source": [
    "X_train.columns"
   ]
  },
  {
   "cell_type": "code",
   "execution_count": null,
   "id": "b81d4ed4",
   "metadata": {},
   "outputs": [],
   "source": [
    "# chưa có feature selection, vẫn còn đủ temp lag 1, ... 252 features\n",
    "# 1. RF\n",
    "## Default\n",
    "# a. Validation metrics: {'RMSE': 2.1278075895022885, 'R2': 0.8297628223226209, 'MAPE': 7.013125189028322}\n",
    "# b. Test metrics: {'RMSE': 1.7168173002419687, 'R2': 0.8638144750921892, 'MAPE': 5.359437239042012}\n",
    "\n",
    "## Best parameter\n",
    "# Validation metrics: {'RMSE': 1.6388776242029133, 'R2': 0.8990089808287993, 'MAPE': 5.741406234570231}\n",
    "# Test metrics: {'RMSE': 1.4337918013739446, 'R2': 0.9050150119360206, 'MAPE': 4.584963631819218}\n",
    "\n",
    "\n",
    "# 2. Extra Tree\n",
    "## Default\n",
    "# Validation metrics: {'RMSE': 1.5501069852687441, 'R2': 0.9096531427481926, 'MAPE': 5.289823867518864}\n",
    "# Test metrics: {'RMSE': 1.4094799560393934, 'R2': 0.9082088955219491, 'MAPE': 4.494487229026149}\n",
    "\n",
    "## Best parameter\n",
    "# Validation metrics: {'RMSE': 1.4981094962144423, 'R2': 0.9156127533286983, 'MAPE': 5.13799909932879}\n",
    "# Test metrics: {'RMSE': 1.3558239003827515, 'R2': 0.9150644784751033, 'MAPE': 4.317549688535942}\n",
    "\n",
    "# 3. GB\n",
    "## Default\n",
    "# Validation metrics: {'RMSE': 1.479398688181336, 'R2': 0.9177075178532362, 'MAPE': 5.0692414857715775}\n",
    "# Test metrics: {'RMSE': 1.3534994389764416, 'R2': 0.9153554603683042, 'MAPE': 4.1845167790637126}\n",
    "\n",
    "## Best parameter\n",
    "# Validation metrics: {'RMSE': 1.5011458815829, 'R2': 0.9152703326059204, 'MAPE': 5.158944802837902}\n",
    "# Test metrics: {'RMSE': 1.3430800523462543, 'R2': 0.9166536500947113, 'MAPE': 4.216884591360309}\n",
    "Task.current_task().close()"
   ]
  },
  {
   "cell_type": "markdown",
   "id": "cb0a9a8c",
   "metadata": {},
   "source": [
    "### Gradient Boosting "
   ]
  },
  {
   "cell_type": "code",
   "execution_count": null,
   "id": "3eca2184",
   "metadata": {},
   "outputs": [
    {
     "name": "stdout",
     "output_type": "stream",
     "text": [
      "ClearML Task: created new task id=beee3945002f447293344e69f2c53b2b\n",
      "ClearML results page: https://app.clear.ml/projects/01d8ce929f0243de9a9d3adf48970730/experiments/beee3945002f447293344e69f2c53b2b/output/log\n",
      "Task ID: beee3945002f447293344e69f2c53b2b\n"
     ]
    },
    {
     "name": "stdout",
     "output_type": "stream",
     "text": [
      "ClearML Monitor: GPU monitoring failed getting GPU reading, switching off GPU monitoring\n",
      "ClearML Monitor: Could not detect iteration reporting, falling back to iterations as seconds-from-start\n",
      "2025-10-21 19:31:17,312 - clearml.storage - INFO - Uploading: 1.26MB from c:/Users/Admin/Documents/ML/group1/models/Tuning_GradBoosting_model.pkl\n"
     ]
    },
    {
     "name": "stderr",
     "output_type": "stream",
     "text": [
      "█████████████████████████████████ 100% | 1.26/1.26 MB [00:04<00:00,  3.75s/MB]: \n"
     ]
    }
   ],
   "source": [
    "# mỗi lần chạy xong, thì tạo task mới\n",
    "# Tạo task mới trong project Temperature Forecasting\n",
    "# Task.current_task().close()\n",
    "task_gb = Task.init(\n",
    "    project_name=\"Temperature Forecasting\",     # tên project (nếu chưa có sẽ tự tạo)\n",
    "    task_name=\"GradBoosting Tuning\", # tên task mới\n",
    "    task_type=Task.TaskTypes.optimizer            # loại task (training / testing / optimizer ...)\n",
    ")\n",
    "\n",
    "# print(\"✅ Task created successfully!\")\n",
    "print(\"Task ID:\", task_gb.id)"
   ]
  },
  {
   "cell_type": "code",
   "execution_count": 9,
   "id": "a89fa78e",
   "metadata": {},
   "outputs": [],
   "source": [
    "task_grad = Task.get_task(task_id=\"beee3945002f447293344e69f2c53b2b\")\n",
    "logger_grad = task_grad.get_logger()"
   ]
  },
  {
   "cell_type": "code",
   "execution_count": 10,
   "id": "0af6df57",
   "metadata": {},
   "outputs": [],
   "source": [
    "## A. default hyper parameter\n",
    "# 1. fit \n",
    "model_grad = GradientBoostingRegressor(\n",
    "    loss='squared_error', # Hàm mất mát, mặc định squared_error\n",
    "    learning_rate=0.1,\n",
    "    n_estimators=100,    # Số lượng cây boosting, mặc định 100\n",
    "    subsample=1.0,      # Tỉ lệ mẫu dùng mỗi vòng (1.0 = full dataset)\n",
    "    criterion='friedman_mse',   # Tiêu chí chia node, mặc định friedman_mse\n",
    "    min_samples_split=2,     # Số mẫu tối thiểu trong leaf\n",
    "    min_samples_leaf=1,  # Số mẫu tối thiểu trong leaf\n",
    "    min_weight_fraction_leaf=0.0,   # Tỷ lệ trọng số tối thiểu trong leaf\n",
    "    max_depth=3,    # Độ sâu tối đa của mỗi cây (default = 3)\n",
    "    min_impurity_decrease=0.0,\n",
    "    random_state=42,\n",
    "    max_features=None,   # Số lượng feature xem xét khi chia, None = tất cả\n",
    "    alpha=0.9,    # Dành cho loss='huber' hoặc 'quantile'\n",
    "    max_leaf_nodes=None,     # Số leaf tối đa mỗi cây\n",
    "    warm_start=False,   # để False khi tuning, Dùng để tiếp tục huấn luyện model cũ\n",
    "    #validation_fraction= 0.1,   # ❌ tránh dùng để không leak\n",
    "    n_iter_no_change=None,      # ❌ tránh auto validation split\n",
    "    tol=1e-4,       # Ngưỡng dừng sớm cho early stopping\n",
    "    ccp_alpha=0.0  # Complexity pruning, mặc định 0\n",
    ")\n",
    "\n",
    "model_grad.fit(X_train, y_train) \n",
    "\n",
    "# 2. predict\n",
    "y_pred_val = model_grad.predict(X_val) \n",
    "y_pred_test = model_grad.predict(X_test)\n"
   ]
  },
  {
   "cell_type": "code",
   "execution_count": 11,
   "id": "fcc3c692",
   "metadata": {},
   "outputs": [
    {
     "name": "stdout",
     "output_type": "stream",
     "text": [
      "                             Feature  Importance\n",
      "0                    feelslike_lag_1    0.826917\n",
      "1   pressure_temp_index_roll_mean_14    0.050166\n",
      "2                      sunrise_lag_1    0.043052\n",
      "3             solar_temp_index_lag_1    0.015197\n",
      "4                      winddir_lag_1    0.012260\n",
      "5                    windspeed_lag_1    0.008932\n",
      "6      sealevelpressure_roll_mean_14    0.008391\n",
      "7                     windgust_lag_1    0.006775\n",
      "8                     humidity_lag_1    0.006270\n",
      "9                   day_length_lag_1    0.002715\n",
      "10              windgust_roll_mean_3    0.002405\n",
      "11                  dew_spread_lag_1    0.001804\n",
      "15                   temp_roll_std_7    0.001410\n",
      "12                  visibility_lag_1    0.001320\n",
      "16                  temp_range_lag_1    0.001101\n",
      "27            temp_range_roll_std_14    0.001100\n",
      "13                   dew_roll_mean_3    0.000953\n",
      "21                 precipcover_lag_1    0.000935\n",
      "25                  visibility_lag_2    0.000901\n",
      "22                     tempmax_lag_7    0.000894\n",
      "19      sealevelpressure_roll_std_14    0.000891\n",
      "26                       month_lag_1    0.000874\n",
      "14                      precip_lag_2    0.000832\n",
      "20              humidity_roll_mean_3    0.000708\n",
      "23                  dew_spread_lag_4    0.000698\n",
      "29       sealevelpressure_roll_std_3    0.000657\n",
      "17           precipcover_roll_mean_3    0.000539\n",
      "28                    windgust_lag_4    0.000521\n",
      "18                      precip_lag_1    0.000427\n",
      "24                  conditions_lag_1    0.000353\n"
     ]
    }
   ],
   "source": [
    "# Lấy feature importance\n",
    "importances_grad = model_grad.feature_importances_\n",
    "\n",
    "# Tạo DataFrame hiển thị\n",
    "feat_importance_grad = pd.DataFrame({\n",
    "    'Feature': X_train.columns,\n",
    "    'Importance': importances_grad\n",
    "}).sort_values(by='Importance', ascending=False)\n",
    "\n",
    "print(feat_importance_grad)"
   ]
  },
  {
   "cell_type": "code",
   "execution_count": 14,
   "id": "fa776e65",
   "metadata": {},
   "outputs": [
    {
     "name": "stderr",
     "output_type": "stream",
     "text": [
      "No artists with labels found to put in legend.  Note that artists whose label start with an underscore are ignored when legend() is called with no argument.\n"
     ]
    },
    {
     "data": {
      "image/png": "[encoded data removed]",
      "text/plain": [
       "<Figure size 1000x600 with 1 Axes>"
      ]
     },
     "metadata": {},
     "output_type": "display_data"
    }
   ],
   "source": [
    "plt.figure(figsize=(10, 6))\n",
    "plt.barh(feat_importance_grad['Feature'][:15], feat_importance_grad['Importance'][:15])\n",
    "plt.gca().invert_yaxis()\n",
    "plt.title(\"Top 15 Feature Importances (GB)\")\n",
    "plt.xlabel(\"Importance\")\n",
    "plt.show()"
   ]
  },
  {
   "cell_type": "code",
   "execution_count": 15,
   "id": "ae3b4d86",
   "metadata": {},
   "outputs": [
    {
     "name": "stdout",
     "output_type": "stream",
     "text": [
      "Validation metrics: {'RMSE': 1.451543321963491, 'R2': 0.9207772876005071, 'MAPE': 4.935673482940297}\n",
      "Test metrics: {'RMSE': 1.3579157812057445, 'R2': 0.9148021847440567, 'MAPE': 4.28077045100291}\n",
      "ExtraTree model saved to models/GradBoosting_model.pkl\n"
     ]
    },
    {
     "data": {
      "text/plain": [
       "True"
      ]
     },
     "execution_count": 15,
     "metadata": {},
     "output_type": "execute_result"
    }
   ],
   "source": [
    "# Đánh giá sơ bộ trước khi tune\n",
    "\n",
    "# 3. Evaluate on validation\n",
    "defGrad_val_metrics = evaluate(y_val, y_pred_val)\n",
    "print(\"Validation metrics:\", defGrad_val_metrics)\n",
    "\n",
    "# 4. Evaluate on test\n",
    "defGrad_test_metrics = evaluate(y_test, y_pred_test)\n",
    "print(\"Test metrics:\", defGrad_test_metrics)\n",
    "\n",
    "# 5. Save model \n",
    "model_path = r'models/GradBoosting_model.pkl' \n",
    "joblib.dump(model_grad, model_path)\n",
    "print(f\"ExtraTree model saved to {model_path}\")\n",
    "\n",
    "# 6 Log lên ClearML\n",
    "logger_grad.report_scalar(\"Default Metrics\", \"RMSE_val\", defGrad_val_metrics[\"RMSE\"], iteration=0)\n",
    "logger_grad.report_scalar(\"Default Metrics\", \"R2_val\", defGrad_val_metrics[\"R2\"], iteration=0)\n",
    "logger_grad.report_scalar(\"Default Metrics\", \"MAPE_val\", defGrad_val_metrics[\"MAPE\"], iteration=0)\n",
    "logger_grad.report_scalar(\"Default Metrics\", \"RMSE_test\", defGrad_test_metrics[\"RMSE\"], iteration=0)\n",
    "logger_grad.report_scalar(\"Default Metrics\", \"R2_test\", defGrad_test_metrics[\"R2\"], iteration=0)\n",
    "logger_grad.report_scalar(\"Default Metrics\", \"MAPE_test\", defGrad_test_metrics[\"MAPE\"], iteration=0)\n",
    "\n",
    "\n",
    "task_grad.upload_artifact(\"Default Metrics\", {\n",
    "    \"Validation\": defGrad_val_metrics,\n",
    "    \"Test\": defGrad_test_metrics\n",
    "})\n"
   ]
  },
  {
   "cell_type": "code",
   "execution_count": 16,
   "id": "fad427db",
   "metadata": {},
   "outputs": [],
   "source": [
    "## B. Hyperparameter tuning cho Gradient Boosting\n",
    "def objective(trial):\n",
    "    # === 1. Định nghĩa không gian hyperparameter ===\n",
    "    params = {\n",
    "        'loss': trial.suggest_categorical('loss', ['squared_error', 'huber']),\n",
    "        'learning_rate': trial.suggest_float('learning_rate', 0.01, 0.3),   # default = 0.1\n",
    "        'n_estimators': trial.suggest_int('n_estimators', 100, 1000),       # default = 100\n",
    "        'subsample': trial.suggest_float('subsample', 0.6, 1.0),            # default = 1.0\n",
    "        'criterion': 'friedman_mse',                                        # default\n",
    "        'min_samples_split': trial.suggest_int('min_samples_split', 2, 10), # default = 2\n",
    "        'min_samples_leaf': trial.suggest_int('min_samples_leaf', 1, 5),    # default = 1\n",
    "        'max_depth': trial.suggest_int('max_depth', 2, 7),                  # default = 3\n",
    "        'min_impurity_decrease': trial.suggest_float('min_impurity_decrease', 0.0, 0.2),\n",
    "        'max_features': trial.suggest_categorical('max_features', ['sqrt', 'log2', None]),\n",
    "        'max_leaf_nodes': trial.suggest_int('max_leaf_nodes', 50, 500),     # default = None\n",
    "        'alpha': trial.suggest_float('alpha', 0.85, 0.95),                  # chỉ dùng nếu loss='huber' hoặc 'quantile'\n",
    "        'tol': 1e-4,\n",
    "        'ccp_alpha': 0.0,\n",
    "        'random_state': 42\n",
    "        # ⚠️ Không dùng early stopping (n_iter_no_change, validation_fraction)\n",
    "        # vì đây là time series → tránh leak\n",
    "    }\n",
    "\n",
    "    # === 2. TimeSeriesSplit CV ===\n",
    "    cv = TimeSeriesSplit(n_splits=5)\n",
    "    rmse_scores = []\n",
    "\n",
    "    for train_idx, val_idx in cv.split(X_train):\n",
    "        X_tr, X_val = X_train.iloc[train_idx], X_train.iloc[val_idx]\n",
    "        y_tr, y_val = y_train.iloc[train_idx], y_train.iloc[val_idx]\n",
    "\n",
    "        # === 3. Train model ===\n",
    "        model = GradientBoostingRegressor(**params)\n",
    "        model.fit(X_tr, y_tr)\n",
    "        y_pred_val = model.predict(X_val)\n",
    "\n",
    "        metrics = evaluate(y_val, y_pred_val)\n",
    "        rmse_scores.append(metrics['RMSE'])\n",
    "\n",
    "    mean_rmse = np.mean(rmse_scores)\n",
    "\n",
    "    # === 4. Log kết quả lên ClearML ===\n",
    "    # (a) Log RMSE cho mỗi trial\n",
    "    logger_grad.report_scalar(\n",
    "        title='Optuna Tuning - GradientBoosting',\n",
    "        series='Trial RMSE',\n",
    "        value=mean_rmse,\n",
    "        iteration=trial.number\n",
    "    )\n",
    "\n",
    "    # (b) Log toàn bộ tham số của trial (bảng tóm tắt)\n",
    "    params_table = pd.DataFrame([params])\n",
    "    logger_grad.report_table(\n",
    "        title=f\"Trial {trial.number} Parameters\",\n",
    "        series=\"params\",\n",
    "        iteration=trial.number,\n",
    "        table_plot=params_table\n",
    "    )\n",
    "\n",
    "    # === 5. Trả về RMSE trung bình của các fold để Optuna minimize ===\n",
    "    return mean_rmse\n"
   ]
  },
  {
   "cell_type": "code",
   "execution_count": 17,
   "id": "461fb805",
   "metadata": {},
   "outputs": [
    {
     "name": "stderr",
     "output_type": "stream",
     "text": [
      "[I 2025-10-21 19:11:34,495] A new study created in memory with name: no-name-3524912d-2955-41ed-9114-d52d479e271d\n",
      "Best trial: 0. Best value: 1.59351:   2%|▏         | 1/50 [00:19<15:46, 19.32s/it]"
     ]
    },
    {
     "name": "stdout",
     "output_type": "stream",
     "text": [
      "[I 2025-10-21 19:11:53,811] Trial 0 finished with value: 1.5935054955919967 and parameters: {'loss': 'huber', 'learning_rate': 0.22227824312530747, 'n_estimators': 639, 'subsample': 0.6624074561769746, 'min_samples_split': 3, 'min_samples_leaf': 1, 'max_depth': 7, 'min_impurity_decrease': 0.12022300234864176, 'max_features': None, 'max_leaf_nodes': 425, 'alpha': 0.8712339110678275}. Best is trial 0 with value: 1.5935054955919967.\n"
     ]
    },
    {
     "name": "stderr",
     "output_type": "stream",
     "text": [
      "Best trial: 1. Best value: 1.51582:   4%|▍         | 2/50 [00:46<18:56, 23.68s/it]"
     ]
    },
    {
     "name": "stdout",
     "output_type": "stream",
     "text": [
      "[I 2025-10-21 19:12:20,552] Trial 1 finished with value: 1.5158239985156112 and parameters: {'loss': 'huber', 'learning_rate': 0.09823025045826593, 'n_estimators': 572, 'subsample': 0.7727780074568463, 'min_samples_split': 4, 'min_samples_leaf': 4, 'max_depth': 2, 'min_impurity_decrease': 0.058428929707043636, 'max_features': None, 'max_leaf_nodes': 140, 'alpha': 0.9014234438413611}. Best is trial 1 with value: 1.5158239985156112.\n"
     ]
    },
    {
     "name": "stderr",
     "output_type": "stream",
     "text": [
      "Best trial: 1. Best value: 1.51582:   6%|▌         | 3/50 [00:50<11:41, 14.92s/it]"
     ]
    },
    {
     "name": "stdout",
     "output_type": "stream",
     "text": [
      "[I 2025-10-21 19:12:25,051] Trial 2 finished with value: 1.6302963885598682 and parameters: {'loss': 'squared_error', 'learning_rate': 0.1861880070514171, 'n_estimators': 253, 'subsample': 0.6260206371941118, 'min_samples_split': 10, 'min_samples_leaf': 5, 'max_depth': 6, 'min_impurity_decrease': 0.06092275383467414, 'max_features': 'log2', 'max_leaf_nodes': 105, 'alpha': 0.899517691011127}. Best is trial 1 with value: 1.5158239985156112.\n"
     ]
    },
    {
     "name": "stderr",
     "output_type": "stream",
     "text": [
      "Best trial: 1. Best value: 1.51582:   8%|▊         | 4/50 [01:13<13:56, 18.18s/it]"
     ]
    },
    {
     "name": "stdout",
     "output_type": "stream",
     "text": [
      "[I 2025-10-21 19:12:48,223] Trial 3 finished with value: 1.5565247948158343 and parameters: {'loss': 'huber', 'learning_rate': 0.0850461946640049, 'n_estimators': 696, 'subsample': 0.7246844304357644, 'min_samples_split': 6, 'min_samples_leaf': 3, 'max_depth': 3, 'min_impurity_decrease': 0.19391692555291173, 'max_features': 'log2', 'max_leaf_nodes': 319, 'alpha': 0.9421874235023117}. Best is trial 1 with value: 1.5158239985156112.\n"
     ]
    },
    {
     "name": "stderr",
     "output_type": "stream",
     "text": [
      "Best trial: 4. Best value: 1.44671:  10%|█         | 5/50 [01:49<18:18, 24.41s/it]"
     ]
    },
    {
     "name": "stdout",
     "output_type": "stream",
     "text": [
      "[I 2025-10-21 19:13:23,688] Trial 4 finished with value: 1.4467128318118392 and parameters: {'loss': 'huber', 'learning_rate': 0.023115913784056037, 'n_estimators': 393, 'subsample': 0.7554709158757928, 'min_samples_split': 4, 'min_samples_leaf': 5, 'max_depth': 4, 'min_impurity_decrease': 0.05618690193747616, 'max_features': None, 'max_leaf_nodes': 83, 'alpha': 0.9486886936600517}. Best is trial 4 with value: 1.4467128318118392.\n"
     ]
    },
    {
     "name": "stderr",
     "output_type": "stream",
     "text": [
      "Best trial: 4. Best value: 1.44671:  12%|█▏        | 6/50 [01:56<13:43, 18.72s/it]"
     ]
    },
    {
     "name": "stdout",
     "output_type": "stream",
     "text": [
      "[I 2025-10-21 19:13:31,355] Trial 5 finished with value: 1.5535102854493936 and parameters: {'loss': 'squared_error', 'learning_rate': 0.011601413965844696, 'n_estimators': 834, 'subsample': 0.8827429375390468, 'min_samples_split': 8, 'min_samples_leaf': 4, 'max_depth': 2, 'min_impurity_decrease': 0.07169314570885453, 'max_features': 'log2', 'max_leaf_nodes': 199, 'alpha': 0.8563558350286024}. Best is trial 4 with value: 1.4467128318118392.\n"
     ]
    },
    {
     "name": "stderr",
     "output_type": "stream",
     "text": [
      "Best trial: 4. Best value: 1.44671:  14%|█▍        | 7/50 [02:09<12:06, 16.89s/it]"
     ]
    },
    {
     "name": "stdout",
     "output_type": "stream",
     "text": [
      "[I 2025-10-21 19:13:44,481] Trial 6 finished with value: 1.6304652037507545 and parameters: {'loss': 'huber', 'learning_rate': 0.22158579171803858, 'n_estimators': 674, 'subsample': 0.9548850970305306, 'min_samples_split': 6, 'min_samples_leaf': 1, 'max_depth': 6, 'min_impurity_decrease': 0.1521570097233795, 'max_features': 'log2', 'max_leaf_nodes': 285, 'alpha': 0.8927541018358549}. Best is trial 4 with value: 1.4467128318118392.\n"
     ]
    },
    {
     "name": "stderr",
     "output_type": "stream",
     "text": [
      "Best trial: 4. Best value: 1.44671:  16%|█▌        | 8/50 [02:26<11:42, 16.74s/it]"
     ]
    },
    {
     "name": "stdout",
     "output_type": "stream",
     "text": [
      "[I 2025-10-21 19:14:00,890] Trial 7 finished with value: 1.4814744652866412 and parameters: {'loss': 'huber', 'learning_rate': 0.019114463849152934, 'n_estimators': 673, 'subsample': 0.7257423924305306, 'min_samples_split': 6, 'min_samples_leaf': 5, 'max_depth': 3, 'min_impurity_decrease': 0.08207658460712595, 'max_features': 'sqrt', 'max_leaf_nodes': 180, 'alpha': 0.8661221287254004}. Best is trial 4 with value: 1.4467128318118392.\n"
     ]
    },
    {
     "name": "stderr",
     "output_type": "stream",
     "text": [
      "Best trial: 4. Best value: 1.44671:  18%|█▊        | 9/50 [02:34<09:39, 14.14s/it]"
     ]
    },
    {
     "name": "stdout",
     "output_type": "stream",
     "text": [
      "[I 2025-10-21 19:14:09,330] Trial 8 finished with value: 1.6136963800252022 and parameters: {'loss': 'squared_error', 'learning_rate': 0.19368708938802282, 'n_estimators': 885, 'subsample': 0.9214688307596458, 'min_samples_split': 3, 'min_samples_leaf': 5, 'max_depth': 5, 'min_impurity_decrease': 0.1614880310328125, 'max_features': 'sqrt', 'max_leaf_nodes': 152, 'alpha': 0.8927107788626256}. Best is trial 4 with value: 1.4467128318118392.\n"
     ]
    },
    {
     "name": "stderr",
     "output_type": "stream",
     "text": [
      "Best trial: 9. Best value: 1.43592:  20%|██        | 10/50 [03:22<16:25, 24.63s/it]"
     ]
    },
    {
     "name": "stdout",
     "output_type": "stream",
     "text": [
      "[I 2025-10-21 19:14:57,432] Trial 9 finished with value: 1.435916025853116 and parameters: {'loss': 'huber', 'learning_rate': 0.012016117854045303, 'n_estimators': 560, 'subsample': 0.7669644012595116, 'min_samples_split': 3, 'min_samples_leaf': 1, 'max_depth': 4, 'min_impurity_decrease': 0.18858194078250384, 'max_features': None, 'max_leaf_nodes': 213, 'alpha': 0.947178208272096}. Best is trial 9 with value: 1.435916025853116.\n"
     ]
    },
    {
     "name": "stderr",
     "output_type": "stream",
     "text": [
      "Best trial: 9. Best value: 1.43592:  22%|██▏       | 11/50 [03:32<12:55, 19.87s/it]"
     ]
    },
    {
     "name": "stdout",
     "output_type": "stream",
     "text": [
      "[I 2025-10-21 19:15:06,529] Trial 10 finished with value: 1.459464789655881 and parameters: {'loss': 'squared_error', 'learning_rate': 0.11548102535027302, 'n_estimators': 106, 'subsample': 0.8559192772506938, 'min_samples_split': 2, 'min_samples_leaf': 2, 'max_depth': 4, 'min_impurity_decrease': 0.014824035653036832, 'max_features': None, 'max_leaf_nodes': 497, 'alpha': 0.9262876279815506}. Best is trial 9 with value: 1.435916025853116.\n"
     ]
    },
    {
     "name": "stderr",
     "output_type": "stream",
     "text": [
      "Best trial: 9. Best value: 1.43592:  24%|██▍       | 12/50 [04:04<14:57, 23.61s/it]"
     ]
    },
    {
     "name": "stdout",
     "output_type": "stream",
     "text": [
      "[I 2025-10-21 19:15:38,699] Trial 11 finished with value: 1.4761559552735444 and parameters: {'loss': 'huber', 'learning_rate': 0.06004912214289325, 'n_estimators': 406, 'subsample': 0.8165174529401429, 'min_samples_split': 4, 'min_samples_leaf': 2, 'max_depth': 4, 'min_impurity_decrease': 0.01494546178157534, 'max_features': None, 'max_leaf_nodes': 77, 'alpha': 0.9499324790016894}. Best is trial 9 with value: 1.435916025853116.\n"
     ]
    },
    {
     "name": "stderr",
     "output_type": "stream",
     "text": [
      "Best trial: 9. Best value: 1.43592:  26%|██▌       | 13/50 [04:43<17:26, 28.29s/it]"
     ]
    },
    {
     "name": "stdout",
     "output_type": "stream",
     "text": [
      "[I 2025-10-21 19:16:17,744] Trial 12 finished with value: 1.4801857451909515 and parameters: {'loss': 'huber', 'learning_rate': 0.04814667210287845, 'n_estimators': 413, 'subsample': 0.765145626391539, 'min_samples_split': 4, 'min_samples_leaf': 3, 'max_depth': 5, 'min_impurity_decrease': 0.10939072049243478, 'max_features': None, 'max_leaf_nodes': 54, 'alpha': 0.9261950998455413}. Best is trial 9 with value: 1.435916025853116.\n"
     ]
    },
    {
     "name": "stderr",
     "output_type": "stream",
     "text": [
      "Best trial: 9. Best value: 1.43592:  28%|██▊       | 14/50 [05:02<15:23, 25.66s/it]"
     ]
    },
    {
     "name": "stdout",
     "output_type": "stream",
     "text": [
      "[I 2025-10-21 19:16:37,332] Trial 13 finished with value: 1.5923015324172343 and parameters: {'loss': 'huber', 'learning_rate': 0.2750858916243106, 'n_estimators': 424, 'subsample': 0.7071446743883983, 'min_samples_split': 2, 'min_samples_leaf': 4, 'max_depth': 3, 'min_impurity_decrease': 0.1998022171858216, 'max_features': None, 'max_leaf_nodes': 237, 'alpha': 0.9289965688531333}. Best is trial 9 with value: 1.435916025853116.\n"
     ]
    },
    {
     "name": "stderr",
     "output_type": "stream",
     "text": [
      "Best trial: 9. Best value: 1.43592:  30%|███       | 15/50 [05:23<14:03, 24.10s/it]"
     ]
    },
    {
     "name": "stdout",
     "output_type": "stream",
     "text": [
      "[I 2025-10-21 19:16:57,822] Trial 14 finished with value: 1.5266383616742583 and parameters: {'loss': 'huber', 'learning_rate': 0.1334209446655103, 'n_estimators': 283, 'subsample': 0.7983601084096518, 'min_samples_split': 5, 'min_samples_leaf': 2, 'max_depth': 4, 'min_impurity_decrease': 0.03094596072615125, 'max_features': None, 'max_leaf_nodes': 339, 'alpha': 0.9376635303225268}. Best is trial 9 with value: 1.435916025853116.\n"
     ]
    },
    {
     "name": "stderr",
     "output_type": "stream",
     "text": [
      "Best trial: 9. Best value: 1.43592:  32%|███▏      | 16/50 [06:10<17:39, 31.16s/it]"
     ]
    },
    {
     "name": "stdout",
     "output_type": "stream",
     "text": [
      "[I 2025-10-21 19:17:45,383] Trial 15 finished with value: 1.4881005792745705 and parameters: {'loss': 'huber', 'learning_rate': 0.04956215859581681, 'n_estimators': 503, 'subsample': 0.668147523279367, 'min_samples_split': 8, 'min_samples_leaf': 1, 'max_depth': 5, 'min_impurity_decrease': 0.13330712786154378, 'max_features': None, 'max_leaf_nodes': 246, 'alpha': 0.9143821378407033}. Best is trial 9 with value: 1.435916025853116.\n"
     ]
    },
    {
     "name": "stderr",
     "output_type": "stream",
     "text": [
      "Best trial: 9. Best value: 1.43592:  34%|███▍      | 17/50 [06:37<16:20, 29.71s/it]"
     ]
    },
    {
     "name": "stdout",
     "output_type": "stream",
     "text": [
      "[I 2025-10-21 19:18:11,721] Trial 16 finished with value: 1.472008614715834 and parameters: {'loss': 'huber', 'learning_rate': 0.011683522839419761, 'n_estimators': 991, 'subsample': 0.850967930645987, 'min_samples_split': 5, 'min_samples_leaf': 3, 'max_depth': 3, 'min_impurity_decrease': 0.04225417279386334, 'max_features': 'sqrt', 'max_leaf_nodes': 384, 'alpha': 0.9476863371745423}. Best is trial 9 with value: 1.435916025853116.\n"
     ]
    },
    {
     "name": "stderr",
     "output_type": "stream",
     "text": [
      "Best trial: 9. Best value: 1.43592:  36%|███▌      | 18/50 [07:23<18:26, 34.58s/it]"
     ]
    },
    {
     "name": "stdout",
     "output_type": "stream",
     "text": [
      "[I 2025-10-21 19:18:57,646] Trial 17 finished with value: 1.5019404970128427 and parameters: {'loss': 'huber', 'learning_rate': 0.06891407658679836, 'n_estimators': 265, 'subsample': 0.7597178593275226, 'min_samples_split': 3, 'min_samples_leaf': 2, 'max_depth': 6, 'min_impurity_decrease': 0.08637155719993538, 'max_features': None, 'max_leaf_nodes': 120, 'alpha': 0.9132630392762318}. Best is trial 9 with value: 1.435916025853116.\n"
     ]
    },
    {
     "name": "stderr",
     "output_type": "stream",
     "text": [
      "Best trial: 9. Best value: 1.43592:  38%|███▊      | 19/50 [07:49<16:31, 32.00s/it]"
     ]
    },
    {
     "name": "stdout",
     "output_type": "stream",
     "text": [
      "[I 2025-10-21 19:19:23,620] Trial 18 finished with value: 1.5610200289960168 and parameters: {'loss': 'squared_error', 'learning_rate': 0.14810902842972024, 'n_estimators': 509, 'subsample': 0.6031982378141749, 'min_samples_split': 2, 'min_samples_leaf': 4, 'max_depth': 4, 'min_impurity_decrease': 0.16771741334118312, 'max_features': None, 'max_leaf_nodes': 207, 'alpha': 0.934482578358602}. Best is trial 9 with value: 1.435916025853116.\n"
     ]
    },
    {
     "name": "stderr",
     "output_type": "stream",
     "text": [
      "Best trial: 9. Best value: 1.43592:  40%|████      | 20/50 [07:58<12:34, 25.14s/it]"
     ]
    },
    {
     "name": "stdout",
     "output_type": "stream",
     "text": [
      "[I 2025-10-21 19:19:32,776] Trial 19 finished with value: 1.49807794201903 and parameters: {'loss': 'huber', 'learning_rate': 0.03762572046063529, 'n_estimators': 127, 'subsample': 0.9834399962929773, 'min_samples_split': 8, 'min_samples_leaf': 5, 'max_depth': 5, 'min_impurity_decrease': 0.09614074077528068, 'max_features': 'sqrt', 'max_leaf_nodes': 95, 'alpha': 0.9164579119127989}. Best is trial 9 with value: 1.435916025853116.\n"
     ]
    },
    {
     "name": "stderr",
     "output_type": "stream",
     "text": [
      "Best trial: 9. Best value: 1.43592:  42%|████▏     | 21/50 [08:15<10:57, 22.66s/it]"
     ]
    },
    {
     "name": "stdout",
     "output_type": "stream",
     "text": [
      "[I 2025-10-21 19:19:49,664] Trial 20 finished with value: 1.6151612515661644 and parameters: {'loss': 'huber', 'learning_rate': 0.2969437641043133, 'n_estimators': 342, 'subsample': 0.8180545123987003, 'min_samples_split': 5, 'min_samples_leaf': 1, 'max_depth': 7, 'min_impurity_decrease': 0.14554751073424213, 'max_features': None, 'max_leaf_nodes': 167, 'alpha': 0.877909956470797}. Best is trial 9 with value: 1.435916025853116.\n"
     ]
    },
    {
     "name": "stderr",
     "output_type": "stream",
     "text": [
      "Best trial: 9. Best value: 1.43592:  44%|████▍     | 22/50 [08:23<08:32, 18.30s/it]"
     ]
    },
    {
     "name": "stdout",
     "output_type": "stream",
     "text": [
      "[I 2025-10-21 19:19:57,783] Trial 21 finished with value: 1.4637943258534312 and parameters: {'loss': 'squared_error', 'learning_rate': 0.11173769385389651, 'n_estimators': 102, 'subsample': 0.8670731885908882, 'min_samples_split': 2, 'min_samples_leaf': 2, 'max_depth': 4, 'min_impurity_decrease': 0.0036832257690606104, 'max_features': None, 'max_leaf_nodes': 495, 'alpha': 0.9254543648368806}. Best is trial 9 with value: 1.435916025853116.\n"
     ]
    },
    {
     "name": "stderr",
     "output_type": "stream",
     "text": [
      "Best trial: 9. Best value: 1.43592:  46%|████▌     | 23/50 [08:39<07:55, 17.62s/it]"
     ]
    },
    {
     "name": "stdout",
     "output_type": "stream",
     "text": [
      "[I 2025-10-21 19:20:13,808] Trial 22 finished with value: 1.4652453708841846 and parameters: {'loss': 'squared_error', 'learning_rate': 0.12095332660665097, 'n_estimators': 198, 'subsample': 0.9083707096944635, 'min_samples_split': 3, 'min_samples_leaf': 2, 'max_depth': 4, 'min_impurity_decrease': 0.031208905496107626, 'max_features': None, 'max_leaf_nodes': 490, 'alpha': 0.9403856707923428}. Best is trial 9 with value: 1.435916025853116.\n"
     ]
    },
    {
     "name": "stderr",
     "output_type": "stream",
     "text": [
      "Best trial: 9. Best value: 1.43592:  48%|████▊     | 24/50 [09:12<09:36, 22.17s/it]"
     ]
    },
    {
     "name": "stdout",
     "output_type": "stream",
     "text": [
      "[I 2025-10-21 19:20:46,612] Trial 23 finished with value: 1.4965777673238752 and parameters: {'loss': 'squared_error', 'learning_rate': 0.07815786729497494, 'n_estimators': 579, 'subsample': 0.8496432649904782, 'min_samples_split': 2, 'min_samples_leaf': 1, 'max_depth': 3, 'min_impurity_decrease': 0.019128404487679773, 'max_features': None, 'max_leaf_nodes': 419, 'alpha': 0.9496591855595929}. Best is trial 9 with value: 1.435916025853116.\n"
     ]
    },
    {
     "name": "stderr",
     "output_type": "stream",
     "text": [
      "Best trial: 9. Best value: 1.43592:  50%|█████     | 25/50 [10:05<13:09, 31.59s/it]"
     ]
    },
    {
     "name": "stdout",
     "output_type": "stream",
     "text": [
      "[I 2025-10-21 19:21:40,167] Trial 24 finished with value: 1.472326912990265 and parameters: {'loss': 'squared_error', 'learning_rate': 0.04136135388557521, 'n_estimators': 801, 'subsample': 0.7927875458629294, 'min_samples_split': 4, 'min_samples_leaf': 3, 'max_depth': 4, 'min_impurity_decrease': 0.047049501693023674, 'max_features': None, 'max_leaf_nodes': 289, 'alpha': 0.9324005985818247}. Best is trial 9 with value: 1.435916025853116.\n"
     ]
    },
    {
     "name": "stderr",
     "output_type": "stream",
     "text": [
      "Best trial: 9. Best value: 1.43592:  52%|█████▏    | 26/50 [10:28<11:32, 28.87s/it]"
     ]
    },
    {
     "name": "stdout",
     "output_type": "stream",
     "text": [
      "[I 2025-10-21 19:22:02,699] Trial 25 finished with value: 1.5684935132220945 and parameters: {'loss': 'squared_error', 'learning_rate': 0.16458534897494634, 'n_estimators': 344, 'subsample': 0.6934645428171423, 'min_samples_split': 3, 'min_samples_leaf': 2, 'max_depth': 5, 'min_impurity_decrease': 0.001988536677006835, 'max_features': None, 'max_leaf_nodes': 364, 'alpha': 0.9189579790434649}. Best is trial 9 with value: 1.435916025853116.\n"
     ]
    },
    {
     "name": "stderr",
     "output_type": "stream",
     "text": [
      "Best trial: 9. Best value: 1.43592:  54%|█████▍    | 27/50 [10:36<08:39, 22.57s/it]"
     ]
    },
    {
     "name": "stdout",
     "output_type": "stream",
     "text": [
      "[I 2025-10-21 19:22:10,563] Trial 26 finished with value: 1.478405888710259 and parameters: {'loss': 'squared_error', 'learning_rate': 0.030197986740731438, 'n_estimators': 163, 'subsample': 0.7495743056061102, 'min_samples_split': 2, 'min_samples_leaf': 1, 'max_depth': 3, 'min_impurity_decrease': 0.17434374434379163, 'max_features': None, 'max_leaf_nodes': 236, 'alpha': 0.940401748122941}. Best is trial 9 with value: 1.435916025853116.\n"
     ]
    },
    {
     "name": "stderr",
     "output_type": "stream",
     "text": [
      "Best trial: 9. Best value: 1.43592:  56%|█████▌    | 28/50 [11:22<10:53, 29.68s/it]"
     ]
    },
    {
     "name": "stdout",
     "output_type": "stream",
     "text": [
      "[I 2025-10-21 19:22:56,849] Trial 27 finished with value: 1.4971166130325881 and parameters: {'loss': 'huber', 'learning_rate': 0.09659360444950862, 'n_estimators': 479, 'subsample': 0.829992691292269, 'min_samples_split': 7, 'min_samples_leaf': 2, 'max_depth': 4, 'min_impurity_decrease': 0.046519877797775055, 'max_features': None, 'max_leaf_nodes': 50, 'alpha': 0.9228514692891076}. Best is trial 9 with value: 1.435916025853116.\n"
     ]
    },
    {
     "name": "stderr",
     "output_type": "stream",
     "text": [
      "Best trial: 9. Best value: 1.43592:  58%|█████▊    | 29/50 [11:24<07:31, 21.51s/it]"
     ]
    },
    {
     "name": "stdout",
     "output_type": "stream",
     "text": [
      "[I 2025-10-21 19:22:59,280] Trial 28 finished with value: 1.5329161668110252 and parameters: {'loss': 'squared_error', 'learning_rate': 0.06174436010444494, 'n_estimators': 206, 'subsample': 0.9025259021741168, 'min_samples_split': 4, 'min_samples_leaf': 1, 'max_depth': 2, 'min_impurity_decrease': 0.02511613192596358, 'max_features': 'sqrt', 'max_leaf_nodes': 449, 'alpha': 0.9423294732824092}. Best is trial 9 with value: 1.435916025853116.\n"
     ]
    },
    {
     "name": "stderr",
     "output_type": "stream",
     "text": [
      "Best trial: 9. Best value: 1.43592:  60%|██████    | 30/50 [11:44<07:02, 21.11s/it]"
     ]
    },
    {
     "name": "stdout",
     "output_type": "stream",
     "text": [
      "[I 2025-10-21 19:23:19,448] Trial 29 finished with value: 1.643688539489835 and parameters: {'loss': 'huber', 'learning_rate': 0.16515327595632054, 'n_estimators': 763, 'subsample': 0.6695555777599758, 'min_samples_split': 3, 'min_samples_leaf': 1, 'max_depth': 5, 'min_impurity_decrease': 0.12119057184604064, 'max_features': 'log2', 'max_leaf_nodes': 392, 'alpha': 0.9072743312115124}. Best is trial 9 with value: 1.435916025853116.\n"
     ]
    },
    {
     "name": "stderr",
     "output_type": "stream",
     "text": [
      "Best trial: 9. Best value: 1.43592:  62%|██████▏   | 31/50 [12:17<07:48, 24.64s/it]"
     ]
    },
    {
     "name": "stdout",
     "output_type": "stream",
     "text": [
      "[I 2025-10-21 19:23:52,332] Trial 30 finished with value: 1.5682734507604024 and parameters: {'loss': 'huber', 'learning_rate': 0.2461830672491817, 'n_estimators': 593, 'subsample': 0.7898046733627585, 'min_samples_split': 5, 'min_samples_leaf': 2, 'max_depth': 4, 'min_impurity_decrease': 0.18377615466317512, 'max_features': None, 'max_leaf_nodes': 322, 'alpha': 0.9322994860512883}. Best is trial 9 with value: 1.435916025853116.\n"
     ]
    },
    {
     "name": "stderr",
     "output_type": "stream",
     "text": [
      "Best trial: 9. Best value: 1.43592:  64%|██████▍   | 32/50 [12:26<05:54, 19.71s/it]"
     ]
    },
    {
     "name": "stdout",
     "output_type": "stream",
     "text": [
      "[I 2025-10-21 19:24:00,525] Trial 31 finished with value: 1.4587447627949683 and parameters: {'loss': 'squared_error', 'learning_rate': 0.10598581155258721, 'n_estimators': 104, 'subsample': 0.8733177224383363, 'min_samples_split': 2, 'min_samples_leaf': 2, 'max_depth': 4, 'min_impurity_decrease': 0.002251625013406514, 'max_features': None, 'max_leaf_nodes': 488, 'alpha': 0.9277841823198698}. Best is trial 9 with value: 1.435916025853116.\n"
     ]
    },
    {
     "name": "stderr",
     "output_type": "stream",
     "text": [
      "Best trial: 9. Best value: 1.43592:  66%|██████▌   | 33/50 [12:51<06:03, 21.38s/it]"
     ]
    },
    {
     "name": "stdout",
     "output_type": "stream",
     "text": [
      "[I 2025-10-21 19:24:25,820] Trial 32 finished with value: 1.505971252618841 and parameters: {'loss': 'squared_error', 'learning_rate': 0.11702549965570182, 'n_estimators': 336, 'subsample': 0.9369456401500476, 'min_samples_split': 2, 'min_samples_leaf': 3, 'max_depth': 4, 'min_impurity_decrease': 0.013756743933598135, 'max_features': None, 'max_leaf_nodes': 454, 'alpha': 0.9457858883983188}. Best is trial 9 with value: 1.435916025853116.\n"
     ]
    },
    {
     "name": "stderr",
     "output_type": "stream",
     "text": [
      "Best trial: 9. Best value: 1.43592:  68%|██████▊   | 34/50 [13:00<04:43, 17.73s/it]"
     ]
    },
    {
     "name": "stdout",
     "output_type": "stream",
     "text": [
      "[I 2025-10-21 19:24:35,020] Trial 33 finished with value: 1.4752439287565386 and parameters: {'loss': 'squared_error', 'learning_rate': 0.09529395378999087, 'n_estimators': 169, 'subsample': 0.8859357281437735, 'min_samples_split': 3, 'min_samples_leaf': 2, 'max_depth': 3, 'min_impurity_decrease': 0.06760143482579126, 'max_features': None, 'max_leaf_nodes': 457, 'alpha': 0.9076041905451053}. Best is trial 9 with value: 1.435916025853116.\n"
     ]
    },
    {
     "name": "stderr",
     "output_type": "stream",
     "text": [
      "Best trial: 9. Best value: 1.43592:  70%|███████   | 35/50 [13:14<04:09, 16.60s/it]"
     ]
    },
    {
     "name": "stdout",
     "output_type": "stream",
     "text": [
      "[I 2025-10-21 19:24:49,007] Trial 34 finished with value: 1.5221946352463096 and parameters: {'loss': 'squared_error', 'learning_rate': 0.13906156134735506, 'n_estimators': 227, 'subsample': 0.7391424340389634, 'min_samples_split': 3, 'min_samples_leaf': 3, 'max_depth': 4, 'min_impurity_decrease': 0.0561227997906673, 'max_features': None, 'max_leaf_nodes': 421, 'alpha': 0.9342599464269512}. Best is trial 9 with value: 1.435916025853116.\n"
     ]
    },
    {
     "name": "stderr",
     "output_type": "stream",
     "text": [
      "Best trial: 9. Best value: 1.43592:  72%|███████▏  | 36/50 [13:19<03:05, 13.27s/it]"
     ]
    },
    {
     "name": "stdout",
     "output_type": "stream",
     "text": [
      "[I 2025-10-21 19:24:54,490] Trial 35 finished with value: 1.5143400561414169 and parameters: {'loss': 'squared_error', 'learning_rate': 0.0814500789938589, 'n_estimators': 292, 'subsample': 0.8507683070747691, 'min_samples_split': 10, 'min_samples_leaf': 4, 'max_depth': 5, 'min_impurity_decrease': 0.033696015378168784, 'max_features': 'log2', 'max_leaf_nodes': 473, 'alpha': 0.9204302708914095}. Best is trial 9 with value: 1.435916025853116.\n"
     ]
    },
    {
     "name": "stderr",
     "output_type": "stream",
     "text": [
      "Best trial: 9. Best value: 1.43592:  74%|███████▍  | 37/50 [13:26<02:25, 11.18s/it]"
     ]
    },
    {
     "name": "stdout",
     "output_type": "stream",
     "text": [
      "[I 2025-10-21 19:25:00,794] Trial 36 finished with value: 1.490768490839028 and parameters: {'loss': 'squared_error', 'learning_rate': 0.18247069002121052, 'n_estimators': 135, 'subsample': 0.7808772137390048, 'min_samples_split': 4, 'min_samples_leaf': 1, 'max_depth': 2, 'min_impurity_decrease': 0.0008765750101316413, 'max_features': None, 'max_leaf_nodes': 136, 'alpha': 0.9441466960701543}. Best is trial 9 with value: 1.435916025853116.\n"
     ]
    },
    {
     "name": "stderr",
     "output_type": "stream",
     "text": [
      "Best trial: 9. Best value: 1.43592:  76%|███████▌  | 38/50 [13:44<02:40, 13.36s/it]"
     ]
    },
    {
     "name": "stdout",
     "output_type": "stream",
     "text": [
      "[I 2025-10-21 19:25:19,231] Trial 37 finished with value: 1.4847319972406967 and parameters: {'loss': 'huber', 'learning_rate': 0.02618850045621976, 'n_estimators': 627, 'subsample': 0.8197970124465569, 'min_samples_split': 2, 'min_samples_leaf': 4, 'max_depth': 3, 'min_impurity_decrease': 0.05812179121708118, 'max_features': 'log2', 'max_leaf_nodes': 264, 'alpha': 0.8960375477181002}. Best is trial 9 with value: 1.435916025853116.\n"
     ]
    },
    {
     "name": "stderr",
     "output_type": "stream",
     "text": [
      "Best trial: 9. Best value: 1.43592:  78%|███████▊  | 39/50 [14:23<03:51, 21.02s/it]"
     ]
    },
    {
     "name": "stdout",
     "output_type": "stream",
     "text": [
      "[I 2025-10-21 19:25:58,143] Trial 38 finished with value: 1.5227404345342825 and parameters: {'loss': 'squared_error', 'learning_rate': 0.10611490414279899, 'n_estimators': 738, 'subsample': 0.8714412410229431, 'min_samples_split': 3, 'min_samples_leaf': 5, 'max_depth': 6, 'min_impurity_decrease': 0.07189859720013471, 'max_features': None, 'max_leaf_nodes': 185, 'alpha': 0.9372154175081593}. Best is trial 9 with value: 1.435916025853116.\n"
     ]
    },
    {
     "name": "stderr",
     "output_type": "stream",
     "text": [
      "Best trial: 9. Best value: 1.43592:  80%|████████  | 40/50 [15:11<04:50, 29.03s/it]"
     ]
    },
    {
     "name": "stdout",
     "output_type": "stream",
     "text": [
      "[I 2025-10-21 19:26:45,838] Trial 39 finished with value: 1.4790130569986883 and parameters: {'loss': 'huber', 'learning_rate': 0.05554771625436786, 'n_estimators': 544, 'subsample': 0.7038383831663181, 'min_samples_split': 4, 'min_samples_leaf': 2, 'max_depth': 4, 'min_impurity_decrease': 0.012069436350374713, 'max_features': None, 'max_leaf_nodes': 210, 'alpha': 0.8805935797788503}. Best is trial 9 with value: 1.435916025853116.\n"
     ]
    },
    {
     "name": "stderr",
     "output_type": "stream",
     "text": [
      "Best trial: 9. Best value: 1.43592:  82%|████████▏ | 41/50 [15:23<03:36, 24.06s/it]"
     ]
    },
    {
     "name": "stdout",
     "output_type": "stream",
     "text": [
      "[I 2025-10-21 19:26:58,312] Trial 40 finished with value: 1.6106497745565256 and parameters: {'loss': 'huber', 'learning_rate': 0.20987562355884481, 'n_estimators': 435, 'subsample': 0.7393070117962682, 'min_samples_split': 2, 'min_samples_leaf': 3, 'max_depth': 3, 'min_impurity_decrease': 0.10454377466260051, 'max_features': 'sqrt', 'max_leaf_nodes': 302, 'alpha': 0.9080261965222004}. Best is trial 9 with value: 1.435916025853116.\n"
     ]
    },
    {
     "name": "stderr",
     "output_type": "stream",
     "text": [
      "Best trial: 9. Best value: 1.43592:  84%|████████▍ | 42/50 [15:31<02:33, 19.22s/it]"
     ]
    },
    {
     "name": "stdout",
     "output_type": "stream",
     "text": [
      "[I 2025-10-21 19:27:06,226] Trial 41 finished with value: 1.4727788770732684 and parameters: {'loss': 'squared_error', 'learning_rate': 0.12568195889422085, 'n_estimators': 111, 'subsample': 0.8747212869962977, 'min_samples_split': 2, 'min_samples_leaf': 2, 'max_depth': 4, 'min_impurity_decrease': 0.006987577514449695, 'max_features': None, 'max_leaf_nodes': 485, 'alpha': 0.9267629808422112}. Best is trial 9 with value: 1.435916025853116.\n"
     ]
    },
    {
     "name": "stderr",
     "output_type": "stream",
     "text": [
      "Best trial: 9. Best value: 1.43592:  86%|████████▌ | 43/50 [15:41<01:53, 16.27s/it]"
     ]
    },
    {
     "name": "stdout",
     "output_type": "stream",
     "text": [
      "[I 2025-10-21 19:27:15,630] Trial 42 finished with value: 1.465158131361378 and parameters: {'loss': 'squared_error', 'learning_rate': 0.10185933035497963, 'n_estimators': 117, 'subsample': 0.8344190393323836, 'min_samples_split': 2, 'min_samples_leaf': 2, 'max_depth': 4, 'min_impurity_decrease': 0.021220039328445885, 'max_features': None, 'max_leaf_nodes': 492, 'alpha': 0.9251795310209694}. Best is trial 9 with value: 1.435916025853116.\n"
     ]
    },
    {
     "name": "stderr",
     "output_type": "stream",
     "text": [
      "Best trial: 9. Best value: 1.43592:  88%|████████▊ | 44/50 [15:57<01:38, 16.38s/it]"
     ]
    },
    {
     "name": "stdout",
     "output_type": "stream",
     "text": [
      "[I 2025-10-21 19:27:32,268] Trial 43 finished with value: 1.4798045955199857 and parameters: {'loss': 'squared_error', 'learning_rate': 0.11364022228823602, 'n_estimators': 171, 'subsample': 0.8948334618384564, 'min_samples_split': 3, 'min_samples_leaf': 2, 'max_depth': 5, 'min_impurity_decrease': 0.0356882036880544, 'max_features': None, 'max_leaf_nodes': 441, 'alpha': 0.93039698255721}. Best is trial 9 with value: 1.435916025853116.\n"
     ]
    },
    {
     "name": "stderr",
     "output_type": "stream",
     "text": [
      "Best trial: 9. Best value: 1.43592:  90%|█████████ | 45/50 [16:16<01:25, 17.08s/it]"
     ]
    },
    {
     "name": "stdout",
     "output_type": "stream",
     "text": [
      "[I 2025-10-21 19:27:50,975] Trial 44 finished with value: 1.492579464451056 and parameters: {'loss': 'squared_error', 'learning_rate': 0.14824768027370508, 'n_estimators': 229, 'subsample': 0.9325454187511872, 'min_samples_split': 2, 'min_samples_leaf': 3, 'max_depth': 4, 'min_impurity_decrease': 0.009166540856728057, 'max_features': None, 'max_leaf_nodes': 472, 'alpha': 0.9381762832705577}. Best is trial 9 with value: 1.435916025853116.\n"
     ]
    },
    {
     "name": "stderr",
     "output_type": "stream",
     "text": [
      "Best trial: 9. Best value: 1.43592:  92%|█████████▏| 46/50 [16:21<00:53, 13.35s/it]"
     ]
    },
    {
     "name": "stdout",
     "output_type": "stream",
     "text": [
      "[I 2025-10-21 19:27:55,627] Trial 45 finished with value: 1.5129486195374942 and parameters: {'loss': 'squared_error', 'learning_rate': 0.07335228677125527, 'n_estimators': 305, 'subsample': 0.8582622819331827, 'min_samples_split': 3, 'min_samples_leaf': 1, 'max_depth': 5, 'min_impurity_decrease': 0.01846895094286575, 'max_features': 'log2', 'max_leaf_nodes': 401, 'alpha': 0.9008295594782302}. Best is trial 9 with value: 1.435916025853116.\n"
     ]
    },
    {
     "name": "stderr",
     "output_type": "stream",
     "text": [
      "Best trial: 9. Best value: 1.43592:  94%|█████████▍| 47/50 [17:10<01:12, 24.06s/it]"
     ]
    },
    {
     "name": "stdout",
     "output_type": "stream",
     "text": [
      "[I 2025-10-21 19:28:44,658] Trial 46 finished with value: 1.4932247272689925 and parameters: {'loss': 'huber', 'learning_rate': 0.08996553167843488, 'n_estimators': 634, 'subsample': 0.7730873459511247, 'min_samples_split': 2, 'min_samples_leaf': 2, 'max_depth': 4, 'min_impurity_decrease': 0.08390005931456736, 'max_features': None, 'max_leaf_nodes': 498, 'alpha': 0.944919839138906}. Best is trial 9 with value: 1.435916025853116.\n"
     ]
    },
    {
     "name": "stderr",
     "output_type": "stream",
     "text": [
      "Best trial: 9. Best value: 1.43592:  96%|█████████▌| 48/50 [17:14<00:36, 18.10s/it]"
     ]
    },
    {
     "name": "stdout",
     "output_type": "stream",
     "text": [
      "[I 2025-10-21 19:28:48,858] Trial 47 finished with value: 1.7158692832633786 and parameters: {'loss': 'squared_error', 'learning_rate': 0.02008956098020802, 'n_estimators': 101, 'subsample': 0.7206942373142307, 'min_samples_split': 4, 'min_samples_leaf': 1, 'max_depth': 3, 'min_impurity_decrease': 0.04434973133315737, 'max_features': None, 'max_leaf_nodes': 356, 'alpha': 0.9114859374946556}. Best is trial 9 with value: 1.435916025853116.\n"
     ]
    },
    {
     "name": "stderr",
     "output_type": "stream",
     "text": [
      "Best trial: 9. Best value: 1.43592:  98%|█████████▊| 49/50 [17:44<00:21, 21.79s/it]"
     ]
    },
    {
     "name": "stdout",
     "output_type": "stream",
     "text": [
      "[I 2025-10-21 19:29:19,262] Trial 48 finished with value: 1.5101824709930702 and parameters: {'loss': 'huber', 'learning_rate': 0.13599209953595934, 'n_estimators': 377, 'subsample': 0.809065458540542, 'min_samples_split': 9, 'min_samples_leaf': 5, 'max_depth': 4, 'min_impurity_decrease': 0.0005238406381360885, 'max_features': None, 'max_leaf_nodes': 80, 'alpha': 0.8514117513645384}. Best is trial 9 with value: 1.435916025853116.\n"
     ]
    },
    {
     "name": "stderr",
     "output_type": "stream",
     "text": [
      "Best trial: 9. Best value: 1.43592: 100%|██████████| 50/50 [17:56<00:00, 21.53s/it]"
     ]
    },
    {
     "name": "stdout",
     "output_type": "stream",
     "text": [
      "[I 2025-10-21 19:29:31,077] Trial 49 finished with value: 1.4966546055119405 and parameters: {'loss': 'squared_error', 'learning_rate': 0.03727334232939966, 'n_estimators': 468, 'subsample': 0.9532172519243896, 'min_samples_split': 3, 'min_samples_leaf': 3, 'max_depth': 5, 'min_impurity_decrease': 0.026469923644511215, 'max_features': 'sqrt', 'max_leaf_nodes': 428, 'alpha': 0.8864503861754216}. Best is trial 9 with value: 1.435916025853116.\n",
      "Best parameters: {'loss': 'huber', 'learning_rate': 0.012016117854045303, 'n_estimators': 560, 'subsample': 0.7669644012595116, 'min_samples_split': 3, 'min_samples_leaf': 1, 'max_depth': 4, 'min_impurity_decrease': 0.18858194078250384, 'max_features': None, 'max_leaf_nodes': 213, 'alpha': 0.947178208272096}\n",
      "Best RMSE: 1.435916025853116\n"
     ]
    },
    {
     "name": "stderr",
     "output_type": "stream",
     "text": [
      "\n"
     ]
    }
   ],
   "source": [
    "# === 3. Chạy Optuna study cho ExtraTrees ===\n",
    "study_grad = optuna.create_study(\n",
    "    direction='minimize',   # mục tiêu: giảm RMSE\n",
    "    sampler=sampler\n",
    ")\n",
    "\n",
    "# Tiến hành tối ưu\n",
    "study_grad.optimize(objective, n_trials=50, show_progress_bar=True)\n",
    "\n",
    "# === 4. In kết quả tốt nhất ===\n",
    "print(\"Best parameters:\", study_grad.best_trial.params)\n",
    "print(\"Best RMSE:\", study_grad.best_value)\n"
   ]
  },
  {
   "cell_type": "code",
   "execution_count": 18,
   "id": "749e20f4",
   "metadata": {},
   "outputs": [
    {
     "name": "stdout",
     "output_type": "stream",
     "text": [
      "Validation metrics: {'RMSE': 1.429960278216999, 'R2': 0.9231157024537284, 'MAPE': 4.804639028578624}\n",
      "Test metrics: {'RMSE': 1.3227282538361278, 'R2': 0.9191604201502542, 'MAPE': 4.145968732551361}\n",
      "RandomForest model saved to models/Tuning_GradBoosting_model.pkl\n"
     ]
    },
    {
     "data": {
      "text/plain": [
       "True"
      ]
     },
     "execution_count": 18,
     "metadata": {},
     "output_type": "execute_result"
    }
   ],
   "source": [
    "# === 4 Log kết quả tổng hợp ===\n",
    "task_grad.upload_artifact(\"Best Parameters\", study_grad.best_trial.params)\n",
    "\n",
    "# Fit lại mô hình với best params\n",
    "best_model_grad = GradientBoostingRegressor(**study_grad.best_trial.params)\n",
    "best_model_grad.fit(X_train, y_train)\n",
    "\n",
    "# Predict\n",
    "y_pred_val = best_model_grad.predict(X_val)\n",
    "y_pred_test = best_model_grad.predict(X_test)\n",
    "\n",
    "# Evaluate on validation\n",
    "bestGrad_val_metrics = evaluate(y_val, y_pred_val)\n",
    "print(\"Validation metrics:\", bestGrad_val_metrics)\n",
    "\n",
    "# Evaluate on test\n",
    "bestGrad_test_metrics = evaluate(y_test, y_pred_test)\n",
    "print(\"Test metrics:\", bestGrad_test_metrics)\n",
    "\n",
    "\n",
    "# 6 Log lên ClearML\n",
    "logger_grad.report_scalar(\"Best Metrics\", \"RMSE_val\", bestGrad_val_metrics[\"RMSE\"], iteration=0)\n",
    "logger_grad.report_scalar(\"Best Metrics\", \"R2_val\", bestGrad_val_metrics[\"R2\"], iteration=0)\n",
    "logger_grad.report_scalar(\"Best Metrics\", \"MAPE_val\", bestGrad_val_metrics[\"MAPE\"], iteration=0)\n",
    "logger_grad.report_scalar(\"Best Metrics\", \"RMSE_test\", bestGrad_test_metrics[\"RMSE\"], iteration=0)\n",
    "logger_grad.report_scalar(\"Best Metrics\", \"R2_test\", bestGrad_test_metrics[\"R2\"], iteration=0)\n",
    "logger_grad.report_scalar(\"Best Metrics\", \"MAPE_test\", bestGrad_test_metrics[\"MAPE\"], iteration=0)\n",
    "\n",
    "\n",
    "# Upload artifact tổng hợp\n",
    "task_grad.upload_artifact(\"Best Metrics\", {\n",
    "    \"Validation\": bestGrad_val_metrics,\n",
    "    \"Test\": bestGrad_test_metrics\n",
    "})\n",
    "\n",
    "\n",
    "# Save & upload model\n",
    "model_path = r'models/Tuning_GradBoosting_model.pkl' \n",
    "joblib.dump(best_model_grad, model_path)\n",
    "print(f\"RandomForest model saved to {model_path}\")\n",
    "task_grad.upload_artifact(\"Best Model\", model_path)"
   ]
  },
  {
   "cell_type": "code",
   "execution_count": 19,
   "id": "bab07e02",
   "metadata": {},
   "outputs": [],
   "source": [
    "# === 6️ Vẽ biểu đồ RMSE theo trial  ===\n",
    "fig3 = plt.figure(figsize=(7, 4))\n",
    "plt.plot([t.value for t in study_grad.trials])\n",
    "plt.xlabel(\"Trial\")\n",
    "plt.ylabel(\"RMSE\")\n",
    "plt.title(\"Optuna RMSE per Trial\")\n",
    "\n",
    "logger_grad.report_matplotlib_figure(\n",
    "    title=\"Optuna Performance\", \n",
    "    series=\"RMSE Curve\", \n",
    "    figure=fig3,\n",
    "    iteration=len(study_grad.trials)\n",
    ")\n",
    "plt.close(fig3)\n"
   ]
  },
  {
   "cell_type": "code",
   "execution_count": 20,
   "id": "5c669a16",
   "metadata": {},
   "outputs": [
    {
     "data": {
      "application/vnd.plotly.v1+json": {
       "config": {
        "plotlyServerURL": "https://plot.ly"
       },
       "data": [
        {
         "dimensions": [
          {
           "label": "Objective Value",
           "range": [
            1.435916025853116,
            1.7158692832633786
           ],
           "values": [
            1.5935054955919967,
            1.5158239985156112,
            1.6302963885598682,
            1.5565247948158343,
            1.4467128318118392,
            1.5535102854493936,
            1.6304652037507545,
            1.4814744652866412,
            1.6136963800252022,
            1.435916025853116,
            1.459464789655881,
            1.4761559552735444,
            1.4801857451909515,
            1.5923015324172343,
            1.5266383616742583,
            1.4881005792745705,
            1.472008614715834,
            1.5019404970128427,
            1.5610200289960168,
            1.49807794201903,
            1.6151612515661644,
            1.4637943258534312,
            1.4652453708841846,
            1.4965777673238752,
            1.472326912990265,
            1.5684935132220945,
            1.478405888710259,
            1.4971166130325881,
            1.5329161668110252,
            1.643688539489835,
            1.5682734507604024,
            1.4587447627949683,
            1.505971252618841,
            1.4752439287565386,
            1.5221946352463096,
            1.5143400561414169,
            1.490768490839028,
            1.4847319972406967,
            1.5227404345342825,
            1.4790130569986883,
            1.6106497745565256,
            1.4727788770732684,
            1.465158131361378,
            1.4798045955199857,
            1.492579464451056,
            1.5129486195374942,
            1.4932247272689925,
            1.7158692832633786,
            1.5101824709930702,
            1.4966546055119405
           ]
          },
          {
           "label": "alpha",
           "range": [
            0.8514117513645384,
            0.9499324790016894
           ],
           "values": [
            0.8712339110678275,
            0.9014234438413611,
            0.899517691011127,
            0.9421874235023117,
            0.9486886936600517,
            0.8563558350286024,
            0.8927541018358549,
            0.8661221287254004,
            0.8927107788626256,
            0.947178208272096,
            0.9262876279815506,
            0.9499324790016894,
            0.9261950998455413,
            0.9289965688531333,
            0.9376635303225268,
            0.9143821378407033,
            0.9476863371745423,
            0.9132630392762318,
            0.934482578358602,
            0.9164579119127989,
            0.877909956470797,
            0.9254543648368806,
            0.9403856707923428,
            0.9496591855595929,
            0.9324005985818247,
            0.9189579790434649,
            0.940401748122941,
            0.9228514692891076,
            0.9423294732824092,
            0.9072743312115124,
            0.9322994860512883,
            0.9277841823198698,
            0.9457858883983188,
            0.9076041905451053,
            0.9342599464269512,
            0.9204302708914095,
            0.9441466960701543,
            0.8960375477181002,
            0.9372154175081593,
            0.8805935797788503,
            0.9080261965222004,
            0.9267629808422112,
            0.9251795310209694,
            0.93039698255721,
            0.9381762832705577,
            0.9008295594782302,
            0.944919839138906,
            0.9114859374946556,
            0.8514117513645384,
            0.8864503861754216
           ]
          },
          {
           "label": "learning_rate",
           "range": [
            0.011601413965844696,
            0.2969437641043133
           ],
           "values": [
            0.22227824312530747,
            0.09823025045826593,
            0.1861880070514171,
            0.0850461946640049,
            0.023115913784056037,
            0.011601413965844696,
            0.22158579171803858,
            0.019114463849152934,
            0.19368708938802282,
            0.012016117854045303,
            0.11548102535027302,
            0.06004912214289325,
            0.04814667210287845,
            0.2750858916243106,
            0.1334209446655103,
            0.04956215859581681,
            0.011683522839419761,
            0.06891407658679836,
            0.14810902842972024,
            0.03762572046063529,
            0.2969437641043133,
            0.11173769385389651,
            0.12095332660665097,
            0.07815786729497494,
            0.04136135388557521,
            0.16458534897494634,
            0.030197986740731438,
            0.09659360444950862,
            0.06174436010444494,
            0.16515327595632054,
            0.2461830672491817,
            0.10598581155258721,
            0.11702549965570182,
            0.09529395378999087,
            0.13906156134735506,
            0.0814500789938589,
            0.18247069002121052,
            0.02618850045621976,
            0.10611490414279899,
            0.05554771625436786,
            0.20987562355884481,
            0.12568195889422085,
            0.10185933035497963,
            0.11364022228823602,
            0.14824768027370508,
            0.07335228677125527,
            0.08996553167843488,
            0.02008956098020802,
            0.13599209953595934,
            0.03727334232939966
           ]
          },
          {
           "label": "loss",
           "range": [
            0,
            1
           ],
           "ticktext": [
            "huber",
            "squared_error"
           ],
           "tickvals": [
            0,
            1
           ],
           "values": [
            0,
            0,
            1,
            0,
            0,
            1,
            0,
            0,
            1,
            0,
            1,
            0,
            0,
            0,
            0,
            0,
            0,
            0,
            1,
            0,
            0,
            1,
            1,
            1,
            1,
            1,
            1,
            0,
            1,
            0,
            0,
            1,
            1,
            1,
            1,
            1,
            1,
            0,
            1,
            0,
            0,
            1,
            1,
            1,
            1,
            1,
            0,
            1,
            0,
            1
           ]
          },
          {
           "label": "max_depth",
           "range": [
            2,
            7
           ],
           "values": [
            7,
            2,
            6,
            3,
            4,
            2,
            6,
            3,
            5,
            4,
            4,
            4,
            5,
            3,
            4,
            5,
            3,
            6,
            4,
            5,
            7,
            4,
            4,
            3,
            4,
            5,
            3,
            4,
            2,
            5,
            4,
            4,
            4,
            3,
            4,
            5,
            2,
            3,
            6,
            4,
            3,
            4,
            4,
            5,
            4,
            5,
            4,
            3,
            4,
            5
           ]
          },
          {
           "label": "max_features",
           "range": [
            0,
            2
           ],
           "ticktext": [
            "None",
            "log2",
            "sqrt"
           ],
           "tickvals": [
            0,
            1,
            2
           ],
           "values": [
            0,
            0,
            1,
            1,
            0,
            1,
            1,
            2,
            2,
            0,
            0,
            0,
            0,
            0,
            0,
            0,
            2,
            0,
            0,
            2,
            0,
            0,
            0,
            0,
            0,
            0,
            0,
            0,
            2,
            1,
            0,
            0,
            0,
            0,
            0,
            1,
            0,
            1,
            0,
            0,
            2,
            0,
            0,
            0,
            0,
            1,
            0,
            0,
            0,
            2
           ]
          },
          {
           "label": "max_leaf_nodes",
           "range": [
            50,
            498
           ],
           "values": [
            425,
            140,
            105,
            319,
            83,
            199,
            285,
            180,
            152,
            213,
            497,
            77,
            54,
            237,
            339,
            246,
            384,
            120,
            207,
            95,
            167,
            495,
            490,
            419,
            289,
            364,
            236,
            50,
            449,
            392,
            322,
            488,
            454,
            457,
            421,
            473,
            136,
            264,
            185,
            210,
            302,
            485,
            492,
            441,
            472,
            401,
            498,
            356,
            80,
            428
           ]
          },
          {
           "label": "min_impurity_decr...",
           "range": [
            0.0005238406381360885,
            0.1998022171858216
           ],
           "values": [
            0.12022300234864176,
            0.058428929707043636,
            0.06092275383467414,
            0.19391692555291173,
            0.05618690193747616,
            0.07169314570885453,
            0.1521570097233795,
            0.08207658460712595,
            0.1614880310328125,
            0.18858194078250384,
            0.014824035653036832,
            0.01494546178157534,
            0.10939072049243478,
            0.1998022171858216,
            0.03094596072615125,
            0.13330712786154378,
            0.04225417279386334,
            0.08637155719993538,
            0.16771741334118312,
            0.09614074077528068,
            0.14554751073424213,
            0.0036832257690606104,
            0.031208905496107626,
            0.019128404487679773,
            0.047049501693023674,
            0.001988536677006835,
            0.17434374434379163,
            0.046519877797775055,
            0.02511613192596358,
            0.12119057184604064,
            0.18377615466317512,
            0.002251625013406514,
            0.013756743933598135,
            0.06760143482579126,
            0.0561227997906673,
            0.033696015378168784,
            0.0008765750101316413,
            0.05812179121708118,
            0.07189859720013471,
            0.012069436350374713,
            0.10454377466260051,
            0.006987577514449695,
            0.021220039328445885,
            0.0356882036880544,
            0.009166540856728057,
            0.01846895094286575,
            0.08390005931456736,
            0.04434973133315737,
            0.0005238406381360885,
            0.026469923644511215
           ]
          },
          {
           "label": "min_samples_leaf",
           "range": [
            1,
            5
           ],
           "values": [
            1,
            4,
            5,
            3,
            5,
            4,
            1,
            5,
            5,
            1,
            2,
            2,
            3,
            4,
            2,
            1,
            3,
            2,
            4,
            5,
            1,
            2,
            2,
            1,
            3,
            2,
            1,
            2,
            1,
            1,
            2,
            2,
            3,
            2,
            3,
            4,
            1,
            4,
            5,
            2,
            3,
            2,
            2,
            2,
            3,
            1,
            2,
            1,
            5,
            3
           ]
          },
          {
           "label": "min_samples_split",
           "range": [
            2,
            10
           ],
           "values": [
            3,
            4,
            10,
            6,
            4,
            8,
            6,
            6,
            3,
            3,
            2,
            4,
            4,
            2,
            5,
            8,
            5,
            3,
            2,
            8,
            5,
            2,
            3,
            2,
            4,
            3,
            2,
            7,
            4,
            3,
            5,
            2,
            2,
            3,
            3,
            10,
            4,
            2,
            3,
            4,
            2,
            2,
            2,
            3,
            2,
            3,
            2,
            4,
            9,
            3
           ]
          },
          {
           "label": "n_estimators",
           "range": [
            101,
            991
           ],
           "values": [
            639,
            572,
            253,
            696,
            393,
            834,
            674,
            673,
            885,
            560,
            106,
            406,
            413,
            424,
            283,
            503,
            991,
            265,
            509,
            127,
            342,
            102,
            198,
            579,
            801,
            344,
            163,
            479,
            206,
            763,
            593,
            104,
            336,
            169,
            227,
            292,
            135,
            627,
            738,
            544,
            435,
            111,
            117,
            171,
            229,
            305,
            634,
            101,
            377,
            468
           ]
          },
          {
           "label": "subsample",
           "range": [
            0.6031982378141749,
            0.9834399962929773
           ],
           "values": [
            0.6624074561769746,
            0.7727780074568463,
            0.6260206371941118,
            0.7246844304357644,
            0.7554709158757928,
            0.8827429375390468,
            0.9548850970305306,
            0.7257423924305306,
            0.9214688307596458,
            0.7669644012595116,
            0.8559192772506938,
            0.8165174529401429,
            0.765145626391539,
            0.7071446743883983,
            0.7983601084096518,
            0.668147523279367,
            0.850967930645987,
            0.7597178593275226,
            0.6031982378141749,
            0.9834399962929773,
            0.8180545123987003,
            0.8670731885908882,
            0.9083707096944635,
            0.8496432649904782,
            0.7927875458629294,
            0.6934645428171423,
            0.7495743056061102,
            0.829992691292269,
            0.9025259021741168,
            0.6695555777599758,
            0.7898046733627585,
            0.8733177224383363,
            0.9369456401500476,
            0.8859357281437735,
            0.7391424340389634,
            0.8507683070747691,
            0.7808772137390048,
            0.8197970124465569,
            0.8714412410229431,
            0.7038383831663181,
            0.7393070117962682,
            0.8747212869962977,
            0.8344190393323836,
            0.8948334618384564,
            0.9325454187511872,
            0.8582622819331827,
            0.7730873459511247,
            0.7206942373142307,
            0.809065458540542,
            0.9532172519243896
           ]
          }
         ],
         "labelangle": 30,
         "labelside": "bottom",
         "line": {
          "color": [
           1.5935054955919967,
           1.5158239985156112,
           1.6302963885598682,
           1.5565247948158343,
           1.4467128318118392,
           1.5535102854493936,
           1.6304652037507545,
           1.4814744652866412,
           1.6136963800252022,
           1.435916025853116,
           1.459464789655881,
           1.4761559552735444,
           1.4801857451909515,
           1.5923015324172343,
           1.5266383616742583,
           1.4881005792745705,
           1.472008614715834,
           1.5019404970128427,
           1.5610200289960168,
           1.49807794201903,
           1.6151612515661644,
           1.4637943258534312,
           1.4652453708841846,
           1.4965777673238752,
           1.472326912990265,
           1.5684935132220945,
           1.478405888710259,
           1.4971166130325881,
           1.5329161668110252,
           1.643688539489835,
           1.5682734507604024,
           1.4587447627949683,
           1.505971252618841,
           1.4752439287565386,
           1.5221946352463096,
           1.5143400561414169,
           1.490768490839028,
           1.4847319972406967,
           1.5227404345342825,
           1.4790130569986883,
           1.6106497745565256,
           1.4727788770732684,
           1.465158131361378,
           1.4798045955199857,
           1.492579464451056,
           1.5129486195374942,
           1.4932247272689925,
           1.7158692832633786,
           1.5101824709930702,
           1.4966546055119405
          ],
          "colorbar": {
           "title": {
            "text": "Objective Value"
           }
          },
          "colorscale": [
           [
            0,
            "rgb(247,251,255)"
           ],
           [
            0.125,
            "rgb(222,235,247)"
           ],
           [
            0.25,
            "rgb(198,219,239)"
           ],
           [
            0.375,
            "rgb(158,202,225)"
           ],
           [
            0.5,
            "rgb(107,174,214)"
           ],
           [
            0.625,
            "rgb(66,146,198)"
           ],
           [
            0.75,
            "rgb(33,113,181)"
           ],
           [
            0.875,
            "rgb(8,81,156)"
           ],
           [
            1,
            "rgb(8,48,107)"
           ]
          ],
          "reversescale": true,
          "showscale": true
         },
         "type": "parcoords"
        }
       ],
       "layout": {
        "template": {
         "data": {
          "bar": [
           {
            "error_x": {
             "color": "#2a3f5f"
            },
            "error_y": {
             "color": "#2a3f5f"
            },
            "marker": {
             "line": {
              "color": "#E5ECF6",
              "width": 0.5
             },
             "pattern": {
              "fillmode": "overlay",
              "size": 10,
              "solidity": 0.2
             }
            },
            "type": "bar"
           }
          ],
          "barpolar": [
           {
            "marker": {
             "line": {
              "color": "#E5ECF6",
              "width": 0.5
             },
             "pattern": {
              "fillmode": "overlay",
              "size": 10,
              "solidity": 0.2
             }
            },
            "type": "barpolar"
           }
          ],
          "carpet": [
           {
            "aaxis": {
             "endlinecolor": "#2a3f5f",
             "gridcolor": "white",
             "linecolor": "white",
             "minorgridcolor": "white",
             "startlinecolor": "#2a3f5f"
            },
            "baxis": {
             "endlinecolor": "#2a3f5f",
             "gridcolor": "white",
             "linecolor": "white",
             "minorgridcolor": "white",
             "startlinecolor": "#2a3f5f"
            },
            "type": "carpet"
           }
          ],
          "choropleth": [
           {
            "colorbar": {
             "outlinewidth": 0,
             "ticks": ""
            },
            "type": "choropleth"
           }
          ],
          "contour": [
           {
            "colorbar": {
             "outlinewidth": 0,
             "ticks": ""
            },
            "colorscale": [
             [
              0,
              "#0d0887"
             ],
             [
              0.1111111111111111,
              "#46039f"
             ],
             [
              0.2222222222222222,
              "#7201a8"
             ],
             [
              0.3333333333333333,
              "#9c179e"
             ],
             [
              0.4444444444444444,
              "#bd3786"
             ],
             [
              0.5555555555555556,
              "#d8576b"
             ],
             [
              0.6666666666666666,
              "#ed7953"
             ],
             [
              0.7777777777777778,
              "#fb9f3a"
             ],
             [
              0.8888888888888888,
              "#fdca26"
             ],
             [
              1,
              "#f0f921"
             ]
            ],
            "type": "contour"
           }
          ],
          "contourcarpet": [
           {
            "colorbar": {
             "outlinewidth": 0,
             "ticks": ""
            },
            "type": "contourcarpet"
           }
          ],
          "heatmap": [
           {
            "colorbar": {
             "outlinewidth": 0,
             "ticks": ""
            },
            "colorscale": [
             [
              0,
              "#0d0887"
             ],
             [
              0.1111111111111111,
              "#46039f"
             ],
             [
              0.2222222222222222,
              "#7201a8"
             ],
             [
              0.3333333333333333,
              "#9c179e"
             ],
             [
              0.4444444444444444,
              "#bd3786"
             ],
             [
              0.5555555555555556,
              "#d8576b"
             ],
             [
              0.6666666666666666,
              "#ed7953"
             ],
             [
              0.7777777777777778,
              "#fb9f3a"
             ],
             [
              0.8888888888888888,
              "#fdca26"
             ],
             [
              1,
              "#f0f921"
             ]
            ],
            "type": "heatmap"
           }
          ],
          "histogram": [
           {
            "marker": {
             "pattern": {
              "fillmode": "overlay",
              "size": 10,
              "solidity": 0.2
             }
            },
            "type": "histogram"
           }
          ],
          "histogram2d": [
           {
            "colorbar": {
             "outlinewidth": 0,
             "ticks": ""
            },
            "colorscale": [
             [
              0,
              "#0d0887"
             ],
             [
              0.1111111111111111,
              "#46039f"
             ],
             [
              0.2222222222222222,
              "#7201a8"
             ],
             [
              0.3333333333333333,
              "#9c179e"
             ],
             [
              0.4444444444444444,
              "#bd3786"
             ],
             [
              0.5555555555555556,
              "#d8576b"
             ],
             [
              0.6666666666666666,
              "#ed7953"
             ],
             [
              0.7777777777777778,
              "#fb9f3a"
             ],
             [
              0.8888888888888888,
              "#fdca26"
             ],
             [
              1,
              "#f0f921"
             ]
            ],
            "type": "histogram2d"
           }
          ],
          "histogram2dcontour": [
           {
            "colorbar": {
             "outlinewidth": 0,
             "ticks": ""
            },
            "colorscale": [
             [
              0,
              "#0d0887"
             ],
             [
              0.1111111111111111,
              "#46039f"
             ],
             [
              0.2222222222222222,
              "#7201a8"
             ],
             [
              0.3333333333333333,
              "#9c179e"
             ],
             [
              0.4444444444444444,
              "#bd3786"
             ],
             [
              0.5555555555555556,
              "#d8576b"
             ],
             [
              0.6666666666666666,
              "#ed7953"
             ],
             [
              0.7777777777777778,
              "#fb9f3a"
             ],
             [
              0.8888888888888888,
              "#fdca26"
             ],
             [
              1,
              "#f0f921"
             ]
            ],
            "type": "histogram2dcontour"
           }
          ],
          "mesh3d": [
           {
            "colorbar": {
             "outlinewidth": 0,
             "ticks": ""
            },
            "type": "mesh3d"
           }
          ],
          "parcoords": [
           {
            "line": {
             "colorbar": {
              "outlinewidth": 0,
              "ticks": ""
             }
            },
            "type": "parcoords"
           }
          ],
          "pie": [
           {
            "automargin": true,
            "type": "pie"
           }
          ],
          "scatter": [
           {
            "fillpattern": {
             "fillmode": "overlay",
             "size": 10,
             "solidity": 0.2
            },
            "type": "scatter"
           }
          ],
          "scatter3d": [
           {
            "line": {
             "colorbar": {
              "outlinewidth": 0,
              "ticks": ""
             }
            },
            "marker": {
             "colorbar": {
              "outlinewidth": 0,
              "ticks": ""
             }
            },
            "type": "scatter3d"
           }
          ],
          "scattercarpet": [
           {
            "marker": {
             "colorbar": {
              "outlinewidth": 0,
              "ticks": ""
             }
            },
            "type": "scattercarpet"
           }
          ],
          "scattergeo": [
           {
            "marker": {
             "colorbar": {
              "outlinewidth": 0,
              "ticks": ""
             }
            },
            "type": "scattergeo"
           }
          ],
          "scattergl": [
           {
            "marker": {
             "colorbar": {
              "outlinewidth": 0,
              "ticks": ""
             }
            },
            "type": "scattergl"
           }
          ],
          "scattermap": [
           {
            "marker": {
             "colorbar": {
              "outlinewidth": 0,
              "ticks": ""
             }
            },
            "type": "scattermap"
           }
          ],
          "scattermapbox": [
           {
            "marker": {
             "colorbar": {
              "outlinewidth": 0,
              "ticks": ""
             }
            },
            "type": "scattermapbox"
           }
          ],
          "scatterpolar": [
           {
            "marker": {
             "colorbar": {
              "outlinewidth": 0,
              "ticks": ""
             }
            },
            "type": "scatterpolar"
           }
          ],
          "scatterpolargl": [
           {
            "marker": {
             "colorbar": {
              "outlinewidth": 0,
              "ticks": ""
             }
            },
            "type": "scatterpolargl"
           }
          ],
          "scatterternary": [
           {
            "marker": {
             "colorbar": {
              "outlinewidth": 0,
              "ticks": ""
             }
            },
            "type": "scatterternary"
           }
          ],
          "surface": [
           {
            "colorbar": {
             "outlinewidth": 0,
             "ticks": ""
            },
            "colorscale": [
             [
              0,
              "#0d0887"
             ],
             [
              0.1111111111111111,
              "#46039f"
             ],
             [
              0.2222222222222222,
              "#7201a8"
             ],
             [
              0.3333333333333333,
              "#9c179e"
             ],
             [
              0.4444444444444444,
              "#bd3786"
             ],
             [
              0.5555555555555556,
              "#d8576b"
             ],
             [
              0.6666666666666666,
              "#ed7953"
             ],
             [
              0.7777777777777778,
              "#fb9f3a"
             ],
             [
              0.8888888888888888,
              "#fdca26"
             ],
             [
              1,
              "#f0f921"
             ]
            ],
            "type": "surface"
           }
          ],
          "table": [
           {
            "cells": {
             "fill": {
              "color": "#EBF0F8"
             },
             "line": {
              "color": "white"
             }
            },
            "header": {
             "fill": {
              "color": "#C8D4E3"
             },
             "line": {
              "color": "white"
             }
            },
            "type": "table"
           }
          ]
         },
         "layout": {
          "annotationdefaults": {
           "arrowcolor": "#2a3f5f",
           "arrowhead": 0,
           "arrowwidth": 1
          },
          "autotypenumbers": "strict",
          "coloraxis": {
           "colorbar": {
            "outlinewidth": 0,
            "ticks": ""
           }
          },
          "colorscale": {
           "diverging": [
            [
             0,
             "#8e0152"
            ],
            [
             0.1,
             "#c51b7d"
            ],
            [
             0.2,
             "#de77ae"
            ],
            [
             0.3,
             "#f1b6da"
            ],
            [
             0.4,
             "#fde0ef"
            ],
            [
             0.5,
             "#f7f7f7"
            ],
            [
             0.6,
             "#e6f5d0"
            ],
            [
             0.7,
             "#b8e186"
            ],
            [
             0.8,
             "#7fbc41"
            ],
            [
             0.9,
             "#4d9221"
            ],
            [
             1,
             "#276419"
            ]
           ],
           "sequential": [
            [
             0,
             "#0d0887"
            ],
            [
             0.1111111111111111,
             "#46039f"
            ],
            [
             0.2222222222222222,
             "#7201a8"
            ],
            [
             0.3333333333333333,
             "#9c179e"
            ],
            [
             0.4444444444444444,
             "#bd3786"
            ],
            [
             0.5555555555555556,
             "#d8576b"
            ],
            [
             0.6666666666666666,
             "#ed7953"
            ],
            [
             0.7777777777777778,
             "#fb9f3a"
            ],
            [
             0.8888888888888888,
             "#fdca26"
            ],
            [
             1,
             "#f0f921"
            ]
           ],
           "sequentialminus": [
            [
             0,
             "#0d0887"
            ],
            [
             0.1111111111111111,
             "#46039f"
            ],
            [
             0.2222222222222222,
             "#7201a8"
            ],
            [
             0.3333333333333333,
             "#9c179e"
            ],
            [
             0.4444444444444444,
             "#bd3786"
            ],
            [
             0.5555555555555556,
             "#d8576b"
            ],
            [
             0.6666666666666666,
             "#ed7953"
            ],
            [
             0.7777777777777778,
             "#fb9f3a"
            ],
            [
             0.8888888888888888,
             "#fdca26"
            ],
            [
             1,
             "#f0f921"
            ]
           ]
          },
          "colorway": [
           "#636efa",
           "#EF553B",
           "#00cc96",
           "#ab63fa",
           "#FFA15A",
           "#19d3f3",
           "#FF6692",
           "#B6E880",
           "#FF97FF",
           "#FECB52"
          ],
          "font": {
           "color": "#2a3f5f"
          },
          "geo": {
           "bgcolor": "white",
           "lakecolor": "white",
           "landcolor": "#E5ECF6",
           "showlakes": true,
           "showland": true,
           "subunitcolor": "white"
          },
          "hoverlabel": {
           "align": "left"
          },
          "hovermode": "closest",
          "mapbox": {
           "style": "light"
          },
          "paper_bgcolor": "white",
          "plot_bgcolor": "#E5ECF6",
          "polar": {
           "angularaxis": {
            "gridcolor": "white",
            "linecolor": "white",
            "ticks": ""
           },
           "bgcolor": "#E5ECF6",
           "radialaxis": {
            "gridcolor": "white",
            "linecolor": "white",
            "ticks": ""
           }
          },
          "scene": {
           "xaxis": {
            "backgroundcolor": "#E5ECF6",
            "gridcolor": "white",
            "gridwidth": 2,
            "linecolor": "white",
            "showbackground": true,
            "ticks": "",
            "zerolinecolor": "white"
           },
           "yaxis": {
            "backgroundcolor": "#E5ECF6",
            "gridcolor": "white",
            "gridwidth": 2,
            "linecolor": "white",
            "showbackground": true,
            "ticks": "",
            "zerolinecolor": "white"
           },
           "zaxis": {
            "backgroundcolor": "#E5ECF6",
            "gridcolor": "white",
            "gridwidth": 2,
            "linecolor": "white",
            "showbackground": true,
            "ticks": "",
            "zerolinecolor": "white"
           }
          },
          "shapedefaults": {
           "line": {
            "color": "#2a3f5f"
           }
          },
          "ternary": {
           "aaxis": {
            "gridcolor": "white",
            "linecolor": "white",
            "ticks": ""
           },
           "baxis": {
            "gridcolor": "white",
            "linecolor": "white",
            "ticks": ""
           },
           "bgcolor": "#E5ECF6",
           "caxis": {
            "gridcolor": "white",
            "linecolor": "white",
            "ticks": ""
           }
          },
          "title": {
           "x": 0.05
          },
          "xaxis": {
           "automargin": true,
           "gridcolor": "white",
           "linecolor": "white",
           "ticks": "",
           "title": {
            "standoff": 15
           },
           "zerolinecolor": "white",
           "zerolinewidth": 2
          },
          "yaxis": {
           "automargin": true,
           "gridcolor": "white",
           "linecolor": "white",
           "ticks": "",
           "title": {
            "standoff": 15
           },
           "zerolinecolor": "white",
           "zerolinewidth": 2
          }
         }
        },
        "title": {
         "text": "Parallel Coordinate Plot"
        }
       }
      }
     },
     "metadata": {},
     "output_type": "display_data"
    }
   ],
   "source": [
    "vis.plot_parallel_coordinate(study_grad)"
   ]
  },
  {
   "cell_type": "code",
   "execution_count": 21,
   "id": "29554614",
   "metadata": {},
   "outputs": [
    {
     "data": {
      "application/vnd.plotly.v1+json": {
       "config": {
        "plotlyServerURL": "https://plot.ly"
       },
       "data": [
        {
         "marker": {
          "color": [
           0,
           1,
           2,
           3,
           4,
           5,
           6,
           7,
           8,
           9,
           10,
           11,
           12,
           13,
           14,
           15,
           16,
           17,
           18,
           19,
           20,
           21,
           22,
           23,
           24,
           25,
           26,
           27,
           28,
           29,
           30,
           31,
           32,
           33,
           34,
           35,
           36,
           37,
           38,
           39,
           40,
           41,
           42,
           43,
           44,
           45,
           46,
           47,
           48,
           49
          ],
          "colorbar": {
           "title": {
            "text": "Trial"
           },
           "x": 1,
           "xpad": 40
          },
          "colorscale": [
           [
            0,
            "rgb(247,251,255)"
           ],
           [
            0.125,
            "rgb(222,235,247)"
           ],
           [
            0.25,
            "rgb(198,219,239)"
           ],
           [
            0.375,
            "rgb(158,202,225)"
           ],
           [
            0.5,
            "rgb(107,174,214)"
           ],
           [
            0.625,
            "rgb(66,146,198)"
           ],
           [
            0.75,
            "rgb(33,113,181)"
           ],
           [
            0.875,
            "rgb(8,81,156)"
           ],
           [
            1,
            "rgb(8,48,107)"
           ]
          ],
          "line": {
           "color": "Grey",
           "width": 0.5
          },
          "showscale": true
         },
         "mode": "markers",
         "name": "Feasible Trial",
         "showlegend": false,
         "type": "scatter",
         "x": [
          0.8712339110678275,
          0.9014234438413611,
          0.899517691011127,
          0.9421874235023117,
          0.9486886936600517,
          0.8563558350286024,
          0.8927541018358549,
          0.8661221287254004,
          0.8927107788626256,
          0.947178208272096,
          0.9262876279815506,
          0.9499324790016894,
          0.9261950998455413,
          0.9289965688531333,
          0.9376635303225268,
          0.9143821378407033,
          0.9476863371745423,
          0.9132630392762318,
          0.934482578358602,
          0.9164579119127989,
          0.877909956470797,
          0.9254543648368806,
          0.9403856707923428,
          0.9496591855595929,
          0.9324005985818247,
          0.9189579790434649,
          0.940401748122941,
          0.9228514692891076,
          0.9423294732824092,
          0.9072743312115124,
          0.9322994860512883,
          0.9277841823198698,
          0.9457858883983188,
          0.9076041905451053,
          0.9342599464269512,
          0.9204302708914095,
          0.9441466960701543,
          0.8960375477181002,
          0.9372154175081593,
          0.8805935797788503,
          0.9080261965222004,
          0.9267629808422112,
          0.9251795310209694,
          0.93039698255721,
          0.9381762832705577,
          0.9008295594782302,
          0.944919839138906,
          0.9114859374946556,
          0.8514117513645384,
          0.8864503861754216
         ],
         "xaxis": "x",
         "y": [
          1.5935054955919967,
          1.5158239985156112,
          1.6302963885598682,
          1.5565247948158343,
          1.4467128318118392,
          1.5535102854493936,
          1.6304652037507545,
          1.4814744652866412,
          1.6136963800252022,
          1.435916025853116,
          1.459464789655881,
          1.4761559552735444,
          1.4801857451909515,
          1.5923015324172343,
          1.5266383616742583,
          1.4881005792745705,
          1.472008614715834,
          1.5019404970128427,
          1.5610200289960168,
          1.49807794201903,
          1.6151612515661644,
          1.4637943258534312,
          1.4652453708841846,
          1.4965777673238752,
          1.472326912990265,
          1.5684935132220945,
          1.478405888710259,
          1.4971166130325881,
          1.5329161668110252,
          1.643688539489835,
          1.5682734507604024,
          1.4587447627949683,
          1.505971252618841,
          1.4752439287565386,
          1.5221946352463096,
          1.5143400561414169,
          1.490768490839028,
          1.4847319972406967,
          1.5227404345342825,
          1.4790130569986883,
          1.6106497745565256,
          1.4727788770732684,
          1.465158131361378,
          1.4798045955199857,
          1.492579464451056,
          1.5129486195374942,
          1.4932247272689925,
          1.7158692832633786,
          1.5101824709930702,
          1.4966546055119405
         ],
         "yaxis": "y"
        },
        {
         "marker": {
          "color": [
           0,
           1,
           2,
           3,
           4,
           5,
           6,
           7,
           8,
           9,
           10,
           11,
           12,
           13,
           14,
           15,
           16,
           17,
           18,
           19,
           20,
           21,
           22,
           23,
           24,
           25,
           26,
           27,
           28,
           29,
           30,
           31,
           32,
           33,
           34,
           35,
           36,
           37,
           38,
           39,
           40,
           41,
           42,
           43,
           44,
           45,
           46,
           47,
           48,
           49
          ],
          "colorbar": {
           "title": {
            "text": "Trial"
           },
           "x": 1,
           "xpad": 40
          },
          "colorscale": [
           [
            0,
            "rgb(247,251,255)"
           ],
           [
            0.125,
            "rgb(222,235,247)"
           ],
           [
            0.25,
            "rgb(198,219,239)"
           ],
           [
            0.375,
            "rgb(158,202,225)"
           ],
           [
            0.5,
            "rgb(107,174,214)"
           ],
           [
            0.625,
            "rgb(66,146,198)"
           ],
           [
            0.75,
            "rgb(33,113,181)"
           ],
           [
            0.875,
            "rgb(8,81,156)"
           ],
           [
            1,
            "rgb(8,48,107)"
           ]
          ],
          "line": {
           "color": "Grey",
           "width": 0.5
          },
          "showscale": false
         },
         "mode": "markers",
         "name": "Feasible Trial",
         "showlegend": false,
         "type": "scatter",
         "x": [
          0.22227824312530747,
          0.09823025045826593,
          0.1861880070514171,
          0.0850461946640049,
          0.023115913784056037,
          0.011601413965844696,
          0.22158579171803858,
          0.019114463849152934,
          0.19368708938802282,
          0.012016117854045303,
          0.11548102535027302,
          0.06004912214289325,
          0.04814667210287845,
          0.2750858916243106,
          0.1334209446655103,
          0.04956215859581681,
          0.011683522839419761,
          0.06891407658679836,
          0.14810902842972024,
          0.03762572046063529,
          0.2969437641043133,
          0.11173769385389651,
          0.12095332660665097,
          0.07815786729497494,
          0.04136135388557521,
          0.16458534897494634,
          0.030197986740731438,
          0.09659360444950862,
          0.06174436010444494,
          0.16515327595632054,
          0.2461830672491817,
          0.10598581155258721,
          0.11702549965570182,
          0.09529395378999087,
          0.13906156134735506,
          0.0814500789938589,
          0.18247069002121052,
          0.02618850045621976,
          0.10611490414279899,
          0.05554771625436786,
          0.20987562355884481,
          0.12568195889422085,
          0.10185933035497963,
          0.11364022228823602,
          0.14824768027370508,
          0.07335228677125527,
          0.08996553167843488,
          0.02008956098020802,
          0.13599209953595934,
          0.03727334232939966
         ],
         "xaxis": "x2",
         "y": [
          1.5935054955919967,
          1.5158239985156112,
          1.6302963885598682,
          1.5565247948158343,
          1.4467128318118392,
          1.5535102854493936,
          1.6304652037507545,
          1.4814744652866412,
          1.6136963800252022,
          1.435916025853116,
          1.459464789655881,
          1.4761559552735444,
          1.4801857451909515,
          1.5923015324172343,
          1.5266383616742583,
          1.4881005792745705,
          1.472008614715834,
          1.5019404970128427,
          1.5610200289960168,
          1.49807794201903,
          1.6151612515661644,
          1.4637943258534312,
          1.4652453708841846,
          1.4965777673238752,
          1.472326912990265,
          1.5684935132220945,
          1.478405888710259,
          1.4971166130325881,
          1.5329161668110252,
          1.643688539489835,
          1.5682734507604024,
          1.4587447627949683,
          1.505971252618841,
          1.4752439287565386,
          1.5221946352463096,
          1.5143400561414169,
          1.490768490839028,
          1.4847319972406967,
          1.5227404345342825,
          1.4790130569986883,
          1.6106497745565256,
          1.4727788770732684,
          1.465158131361378,
          1.4798045955199857,
          1.492579464451056,
          1.5129486195374942,
          1.4932247272689925,
          1.7158692832633786,
          1.5101824709930702,
          1.4966546055119405
         ],
         "yaxis": "y2"
        },
        {
         "marker": {
          "color": [
           0,
           1,
           2,
           3,
           4,
           5,
           6,
           7,
           8,
           9,
           10,
           11,
           12,
           13,
           14,
           15,
           16,
           17,
           18,
           19,
           20,
           21,
           22,
           23,
           24,
           25,
           26,
           27,
           28,
           29,
           30,
           31,
           32,
           33,
           34,
           35,
           36,
           37,
           38,
           39,
           40,
           41,
           42,
           43,
           44,
           45,
           46,
           47,
           48,
           49
          ],
          "colorbar": {
           "title": {
            "text": "Trial"
           },
           "x": 1,
           "xpad": 40
          },
          "colorscale": [
           [
            0,
            "rgb(247,251,255)"
           ],
           [
            0.125,
            "rgb(222,235,247)"
           ],
           [
            0.25,
            "rgb(198,219,239)"
           ],
           [
            0.375,
            "rgb(158,202,225)"
           ],
           [
            0.5,
            "rgb(107,174,214)"
           ],
           [
            0.625,
            "rgb(66,146,198)"
           ],
           [
            0.75,
            "rgb(33,113,181)"
           ],
           [
            0.875,
            "rgb(8,81,156)"
           ],
           [
            1,
            "rgb(8,48,107)"
           ]
          ],
          "line": {
           "color": "Grey",
           "width": 0.5
          },
          "showscale": false
         },
         "mode": "markers",
         "name": "Feasible Trial",
         "showlegend": false,
         "type": "scatter",
         "x": [
          "huber",
          "huber",
          "squared_error",
          "huber",
          "huber",
          "squared_error",
          "huber",
          "huber",
          "squared_error",
          "huber",
          "squared_error",
          "huber",
          "huber",
          "huber",
          "huber",
          "huber",
          "huber",
          "huber",
          "squared_error",
          "huber",
          "huber",
          "squared_error",
          "squared_error",
          "squared_error",
          "squared_error",
          "squared_error",
          "squared_error",
          "huber",
          "squared_error",
          "huber",
          "huber",
          "squared_error",
          "squared_error",
          "squared_error",
          "squared_error",
          "squared_error",
          "squared_error",
          "huber",
          "squared_error",
          "huber",
          "huber",
          "squared_error",
          "squared_error",
          "squared_error",
          "squared_error",
          "squared_error",
          "huber",
          "squared_error",
          "huber",
          "squared_error"
         ],
         "xaxis": "x3",
         "y": [
          1.5935054955919967,
          1.5158239985156112,
          1.6302963885598682,
          1.5565247948158343,
          1.4467128318118392,
          1.5535102854493936,
          1.6304652037507545,
          1.4814744652866412,
          1.6136963800252022,
          1.435916025853116,
          1.459464789655881,
          1.4761559552735444,
          1.4801857451909515,
          1.5923015324172343,
          1.5266383616742583,
          1.4881005792745705,
          1.472008614715834,
          1.5019404970128427,
          1.5610200289960168,
          1.49807794201903,
          1.6151612515661644,
          1.4637943258534312,
          1.4652453708841846,
          1.4965777673238752,
          1.472326912990265,
          1.5684935132220945,
          1.478405888710259,
          1.4971166130325881,
          1.5329161668110252,
          1.643688539489835,
          1.5682734507604024,
          1.4587447627949683,
          1.505971252618841,
          1.4752439287565386,
          1.5221946352463096,
          1.5143400561414169,
          1.490768490839028,
          1.4847319972406967,
          1.5227404345342825,
          1.4790130569986883,
          1.6106497745565256,
          1.4727788770732684,
          1.465158131361378,
          1.4798045955199857,
          1.492579464451056,
          1.5129486195374942,
          1.4932247272689925,
          1.7158692832633786,
          1.5101824709930702,
          1.4966546055119405
         ],
         "yaxis": "y3"
        },
        {
         "marker": {
          "color": [
           0,
           1,
           2,
           3,
           4,
           5,
           6,
           7,
           8,
           9,
           10,
           11,
           12,
           13,
           14,
           15,
           16,
           17,
           18,
           19,
           20,
           21,
           22,
           23,
           24,
           25,
           26,
           27,
           28,
           29,
           30,
           31,
           32,
           33,
           34,
           35,
           36,
           37,
           38,
           39,
           40,
           41,
           42,
           43,
           44,
           45,
           46,
           47,
           48,
           49
          ],
          "colorbar": {
           "title": {
            "text": "Trial"
           },
           "x": 1,
           "xpad": 40
          },
          "colorscale": [
           [
            0,
            "rgb(247,251,255)"
           ],
           [
            0.125,
            "rgb(222,235,247)"
           ],
           [
            0.25,
            "rgb(198,219,239)"
           ],
           [
            0.375,
            "rgb(158,202,225)"
           ],
           [
            0.5,
            "rgb(107,174,214)"
           ],
           [
            0.625,
            "rgb(66,146,198)"
           ],
           [
            0.75,
            "rgb(33,113,181)"
           ],
           [
            0.875,
            "rgb(8,81,156)"
           ],
           [
            1,
            "rgb(8,48,107)"
           ]
          ],
          "line": {
           "color": "Grey",
           "width": 0.5
          },
          "showscale": false
         },
         "mode": "markers",
         "name": "Feasible Trial",
         "showlegend": false,
         "type": "scatter",
         "x": [
          7,
          2,
          6,
          3,
          4,
          2,
          6,
          3,
          5,
          4,
          4,
          4,
          5,
          3,
          4,
          5,
          3,
          6,
          4,
          5,
          7,
          4,
          4,
          3,
          4,
          5,
          3,
          4,
          2,
          5,
          4,
          4,
          4,
          3,
          4,
          5,
          2,
          3,
          6,
          4,
          3,
          4,
          4,
          5,
          4,
          5,
          4,
          3,
          4,
          5
         ],
         "xaxis": "x4",
         "y": [
          1.5935054955919967,
          1.5158239985156112,
          1.6302963885598682,
          1.5565247948158343,
          1.4467128318118392,
          1.5535102854493936,
          1.6304652037507545,
          1.4814744652866412,
          1.6136963800252022,
          1.435916025853116,
          1.459464789655881,
          1.4761559552735444,
          1.4801857451909515,
          1.5923015324172343,
          1.5266383616742583,
          1.4881005792745705,
          1.472008614715834,
          1.5019404970128427,
          1.5610200289960168,
          1.49807794201903,
          1.6151612515661644,
          1.4637943258534312,
          1.4652453708841846,
          1.4965777673238752,
          1.472326912990265,
          1.5684935132220945,
          1.478405888710259,
          1.4971166130325881,
          1.5329161668110252,
          1.643688539489835,
          1.5682734507604024,
          1.4587447627949683,
          1.505971252618841,
          1.4752439287565386,
          1.5221946352463096,
          1.5143400561414169,
          1.490768490839028,
          1.4847319972406967,
          1.5227404345342825,
          1.4790130569986883,
          1.6106497745565256,
          1.4727788770732684,
          1.465158131361378,
          1.4798045955199857,
          1.492579464451056,
          1.5129486195374942,
          1.4932247272689925,
          1.7158692832633786,
          1.5101824709930702,
          1.4966546055119405
         ],
         "yaxis": "y4"
        },
        {
         "marker": {
          "color": [
           0,
           1,
           2,
           3,
           4,
           5,
           6,
           7,
           8,
           9,
           10,
           11,
           12,
           13,
           14,
           15,
           16,
           17,
           18,
           19,
           20,
           21,
           22,
           23,
           24,
           25,
           26,
           27,
           28,
           29,
           30,
           31,
           32,
           33,
           34,
           35,
           36,
           37,
           38,
           39,
           40,
           41,
           42,
           43,
           44,
           45,
           46,
           47,
           48,
           49
          ],
          "colorbar": {
           "title": {
            "text": "Trial"
           },
           "x": 1,
           "xpad": 40
          },
          "colorscale": [
           [
            0,
            "rgb(247,251,255)"
           ],
           [
            0.125,
            "rgb(222,235,247)"
           ],
           [
            0.25,
            "rgb(198,219,239)"
           ],
           [
            0.375,
            "rgb(158,202,225)"
           ],
           [
            0.5,
            "rgb(107,174,214)"
           ],
           [
            0.625,
            "rgb(66,146,198)"
           ],
           [
            0.75,
            "rgb(33,113,181)"
           ],
           [
            0.875,
            "rgb(8,81,156)"
           ],
           [
            1,
            "rgb(8,48,107)"
           ]
          ],
          "line": {
           "color": "Grey",
           "width": 0.5
          },
          "showscale": false
         },
         "mode": "markers",
         "name": "Feasible Trial",
         "showlegend": false,
         "type": "scatter",
         "x": [
          null,
          null,
          "log2",
          "log2",
          null,
          "log2",
          "log2",
          "sqrt",
          "sqrt",
          null,
          null,
          null,
          null,
          null,
          null,
          null,
          "sqrt",
          null,
          null,
          "sqrt",
          null,
          null,
          null,
          null,
          null,
          null,
          null,
          null,
          "sqrt",
          "log2",
          null,
          null,
          null,
          null,
          null,
          "log2",
          null,
          "log2",
          null,
          null,
          "sqrt",
          null,
          null,
          null,
          null,
          "log2",
          null,
          null,
          null,
          "sqrt"
         ],
         "xaxis": "x5",
         "y": [
          1.5935054955919967,
          1.5158239985156112,
          1.6302963885598682,
          1.5565247948158343,
          1.4467128318118392,
          1.5535102854493936,
          1.6304652037507545,
          1.4814744652866412,
          1.6136963800252022,
          1.435916025853116,
          1.459464789655881,
          1.4761559552735444,
          1.4801857451909515,
          1.5923015324172343,
          1.5266383616742583,
          1.4881005792745705,
          1.472008614715834,
          1.5019404970128427,
          1.5610200289960168,
          1.49807794201903,
          1.6151612515661644,
          1.4637943258534312,
          1.4652453708841846,
          1.4965777673238752,
          1.472326912990265,
          1.5684935132220945,
          1.478405888710259,
          1.4971166130325881,
          1.5329161668110252,
          1.643688539489835,
          1.5682734507604024,
          1.4587447627949683,
          1.505971252618841,
          1.4752439287565386,
          1.5221946352463096,
          1.5143400561414169,
          1.490768490839028,
          1.4847319972406967,
          1.5227404345342825,
          1.4790130569986883,
          1.6106497745565256,
          1.4727788770732684,
          1.465158131361378,
          1.4798045955199857,
          1.492579464451056,
          1.5129486195374942,
          1.4932247272689925,
          1.7158692832633786,
          1.5101824709930702,
          1.4966546055119405
         ],
         "yaxis": "y5"
        },
        {
         "marker": {
          "color": [
           0,
           1,
           2,
           3,
           4,
           5,
           6,
           7,
           8,
           9,
           10,
           11,
           12,
           13,
           14,
           15,
           16,
           17,
           18,
           19,
           20,
           21,
           22,
           23,
           24,
           25,
           26,
           27,
           28,
           29,
           30,
           31,
           32,
           33,
           34,
           35,
           36,
           37,
           38,
           39,
           40,
           41,
           42,
           43,
           44,
           45,
           46,
           47,
           48,
           49
          ],
          "colorbar": {
           "title": {
            "text": "Trial"
           },
           "x": 1,
           "xpad": 40
          },
          "colorscale": [
           [
            0,
            "rgb(247,251,255)"
           ],
           [
            0.125,
            "rgb(222,235,247)"
           ],
           [
            0.25,
            "rgb(198,219,239)"
           ],
           [
            0.375,
            "rgb(158,202,225)"
           ],
           [
            0.5,
            "rgb(107,174,214)"
           ],
           [
            0.625,
            "rgb(66,146,198)"
           ],
           [
            0.75,
            "rgb(33,113,181)"
           ],
           [
            0.875,
            "rgb(8,81,156)"
           ],
           [
            1,
            "rgb(8,48,107)"
           ]
          ],
          "line": {
           "color": "Grey",
           "width": 0.5
          },
          "showscale": false
         },
         "mode": "markers",
         "name": "Feasible Trial",
         "showlegend": false,
         "type": "scatter",
         "x": [
          425,
          140,
          105,
          319,
          83,
          199,
          285,
          180,
          152,
          213,
          497,
          77,
          54,
          237,
          339,
          246,
          384,
          120,
          207,
          95,
          167,
          495,
          490,
          419,
          289,
          364,
          236,
          50,
          449,
          392,
          322,
          488,
          454,
          457,
          421,
          473,
          136,
          264,
          185,
          210,
          302,
          485,
          492,
          441,
          472,
          401,
          498,
          356,
          80,
          428
         ],
         "xaxis": "x6",
         "y": [
          1.5935054955919967,
          1.5158239985156112,
          1.6302963885598682,
          1.5565247948158343,
          1.4467128318118392,
          1.5535102854493936,
          1.6304652037507545,
          1.4814744652866412,
          1.6136963800252022,
          1.435916025853116,
          1.459464789655881,
          1.4761559552735444,
          1.4801857451909515,
          1.5923015324172343,
          1.5266383616742583,
          1.4881005792745705,
          1.472008614715834,
          1.5019404970128427,
          1.5610200289960168,
          1.49807794201903,
          1.6151612515661644,
          1.4637943258534312,
          1.4652453708841846,
          1.4965777673238752,
          1.472326912990265,
          1.5684935132220945,
          1.478405888710259,
          1.4971166130325881,
          1.5329161668110252,
          1.643688539489835,
          1.5682734507604024,
          1.4587447627949683,
          1.505971252618841,
          1.4752439287565386,
          1.5221946352463096,
          1.5143400561414169,
          1.490768490839028,
          1.4847319972406967,
          1.5227404345342825,
          1.4790130569986883,
          1.6106497745565256,
          1.4727788770732684,
          1.465158131361378,
          1.4798045955199857,
          1.492579464451056,
          1.5129486195374942,
          1.4932247272689925,
          1.7158692832633786,
          1.5101824709930702,
          1.4966546055119405
         ],
         "yaxis": "y6"
        },
        {
         "marker": {
          "color": [
           0,
           1,
           2,
           3,
           4,
           5,
           6,
           7,
           8,
           9,
           10,
           11,
           12,
           13,
           14,
           15,
           16,
           17,
           18,
           19,
           20,
           21,
           22,
           23,
           24,
           25,
           26,
           27,
           28,
           29,
           30,
           31,
           32,
           33,
           34,
           35,
           36,
           37,
           38,
           39,
           40,
           41,
           42,
           43,
           44,
           45,
           46,
           47,
           48,
           49
          ],
          "colorbar": {
           "title": {
            "text": "Trial"
           },
           "x": 1,
           "xpad": 40
          },
          "colorscale": [
           [
            0,
            "rgb(247,251,255)"
           ],
           [
            0.125,
            "rgb(222,235,247)"
           ],
           [
            0.25,
            "rgb(198,219,239)"
           ],
           [
            0.375,
            "rgb(158,202,225)"
           ],
           [
            0.5,
            "rgb(107,174,214)"
           ],
           [
            0.625,
            "rgb(66,146,198)"
           ],
           [
            0.75,
            "rgb(33,113,181)"
           ],
           [
            0.875,
            "rgb(8,81,156)"
           ],
           [
            1,
            "rgb(8,48,107)"
           ]
          ],
          "line": {
           "color": "Grey",
           "width": 0.5
          },
          "showscale": false
         },
         "mode": "markers",
         "name": "Feasible Trial",
         "showlegend": false,
         "type": "scatter",
         "x": [
          0.12022300234864176,
          0.058428929707043636,
          0.06092275383467414,
          0.19391692555291173,
          0.05618690193747616,
          0.07169314570885453,
          0.1521570097233795,
          0.08207658460712595,
          0.1614880310328125,
          0.18858194078250384,
          0.014824035653036832,
          0.01494546178157534,
          0.10939072049243478,
          0.1998022171858216,
          0.03094596072615125,
          0.13330712786154378,
          0.04225417279386334,
          0.08637155719993538,
          0.16771741334118312,
          0.09614074077528068,
          0.14554751073424213,
          0.0036832257690606104,
          0.031208905496107626,
          0.019128404487679773,
          0.047049501693023674,
          0.001988536677006835,
          0.17434374434379163,
          0.046519877797775055,
          0.02511613192596358,
          0.12119057184604064,
          0.18377615466317512,
          0.002251625013406514,
          0.013756743933598135,
          0.06760143482579126,
          0.0561227997906673,
          0.033696015378168784,
          0.0008765750101316413,
          0.05812179121708118,
          0.07189859720013471,
          0.012069436350374713,
          0.10454377466260051,
          0.006987577514449695,
          0.021220039328445885,
          0.0356882036880544,
          0.009166540856728057,
          0.01846895094286575,
          0.08390005931456736,
          0.04434973133315737,
          0.0005238406381360885,
          0.026469923644511215
         ],
         "xaxis": "x7",
         "y": [
          1.5935054955919967,
          1.5158239985156112,
          1.6302963885598682,
          1.5565247948158343,
          1.4467128318118392,
          1.5535102854493936,
          1.6304652037507545,
          1.4814744652866412,
          1.6136963800252022,
          1.435916025853116,
          1.459464789655881,
          1.4761559552735444,
          1.4801857451909515,
          1.5923015324172343,
          1.5266383616742583,
          1.4881005792745705,
          1.472008614715834,
          1.5019404970128427,
          1.5610200289960168,
          1.49807794201903,
          1.6151612515661644,
          1.4637943258534312,
          1.4652453708841846,
          1.4965777673238752,
          1.472326912990265,
          1.5684935132220945,
          1.478405888710259,
          1.4971166130325881,
          1.5329161668110252,
          1.643688539489835,
          1.5682734507604024,
          1.4587447627949683,
          1.505971252618841,
          1.4752439287565386,
          1.5221946352463096,
          1.5143400561414169,
          1.490768490839028,
          1.4847319972406967,
          1.5227404345342825,
          1.4790130569986883,
          1.6106497745565256,
          1.4727788770732684,
          1.465158131361378,
          1.4798045955199857,
          1.492579464451056,
          1.5129486195374942,
          1.4932247272689925,
          1.7158692832633786,
          1.5101824709930702,
          1.4966546055119405
         ],
         "yaxis": "y7"
        },
        {
         "marker": {
          "color": [
           0,
           1,
           2,
           3,
           4,
           5,
           6,
           7,
           8,
           9,
           10,
           11,
           12,
           13,
           14,
           15,
           16,
           17,
           18,
           19,
           20,
           21,
           22,
           23,
           24,
           25,
           26,
           27,
           28,
           29,
           30,
           31,
           32,
           33,
           34,
           35,
           36,
           37,
           38,
           39,
           40,
           41,
           42,
           43,
           44,
           45,
           46,
           47,
           48,
           49
          ],
          "colorbar": {
           "title": {
            "text": "Trial"
           },
           "x": 1,
           "xpad": 40
          },
          "colorscale": [
           [
            0,
            "rgb(247,251,255)"
           ],
           [
            0.125,
            "rgb(222,235,247)"
           ],
           [
            0.25,
            "rgb(198,219,239)"
           ],
           [
            0.375,
            "rgb(158,202,225)"
           ],
           [
            0.5,
            "rgb(107,174,214)"
           ],
           [
            0.625,
            "rgb(66,146,198)"
           ],
           [
            0.75,
            "rgb(33,113,181)"
           ],
           [
            0.875,
            "rgb(8,81,156)"
           ],
           [
            1,
            "rgb(8,48,107)"
           ]
          ],
          "line": {
           "color": "Grey",
           "width": 0.5
          },
          "showscale": false
         },
         "mode": "markers",
         "name": "Feasible Trial",
         "showlegend": false,
         "type": "scatter",
         "x": [
          1,
          4,
          5,
          3,
          5,
          4,
          1,
          5,
          5,
          1,
          2,
          2,
          3,
          4,
          2,
          1,
          3,
          2,
          4,
          5,
          1,
          2,
          2,
          1,
          3,
          2,
          1,
          2,
          1,
          1,
          2,
          2,
          3,
          2,
          3,
          4,
          1,
          4,
          5,
          2,
          3,
          2,
          2,
          2,
          3,
          1,
          2,
          1,
          5,
          3
         ],
         "xaxis": "x8",
         "y": [
          1.5935054955919967,
          1.5158239985156112,
          1.6302963885598682,
          1.5565247948158343,
          1.4467128318118392,
          1.5535102854493936,
          1.6304652037507545,
          1.4814744652866412,
          1.6136963800252022,
          1.435916025853116,
          1.459464789655881,
          1.4761559552735444,
          1.4801857451909515,
          1.5923015324172343,
          1.5266383616742583,
          1.4881005792745705,
          1.472008614715834,
          1.5019404970128427,
          1.5610200289960168,
          1.49807794201903,
          1.6151612515661644,
          1.4637943258534312,
          1.4652453708841846,
          1.4965777673238752,
          1.472326912990265,
          1.5684935132220945,
          1.478405888710259,
          1.4971166130325881,
          1.5329161668110252,
          1.643688539489835,
          1.5682734507604024,
          1.4587447627949683,
          1.505971252618841,
          1.4752439287565386,
          1.5221946352463096,
          1.5143400561414169,
          1.490768490839028,
          1.4847319972406967,
          1.5227404345342825,
          1.4790130569986883,
          1.6106497745565256,
          1.4727788770732684,
          1.465158131361378,
          1.4798045955199857,
          1.492579464451056,
          1.5129486195374942,
          1.4932247272689925,
          1.7158692832633786,
          1.5101824709930702,
          1.4966546055119405
         ],
         "yaxis": "y8"
        },
        {
         "marker": {
          "color": [
           0,
           1,
           2,
           3,
           4,
           5,
           6,
           7,
           8,
           9,
           10,
           11,
           12,
           13,
           14,
           15,
           16,
           17,
           18,
           19,
           20,
           21,
           22,
           23,
           24,
           25,
           26,
           27,
           28,
           29,
           30,
           31,
           32,
           33,
           34,
           35,
           36,
           37,
           38,
           39,
           40,
           41,
           42,
           43,
           44,
           45,
           46,
           47,
           48,
           49
          ],
          "colorbar": {
           "title": {
            "text": "Trial"
           },
           "x": 1,
           "xpad": 40
          },
          "colorscale": [
           [
            0,
            "rgb(247,251,255)"
           ],
           [
            0.125,
            "rgb(222,235,247)"
           ],
           [
            0.25,
            "rgb(198,219,239)"
           ],
           [
            0.375,
            "rgb(158,202,225)"
           ],
           [
            0.5,
            "rgb(107,174,214)"
           ],
           [
            0.625,
            "rgb(66,146,198)"
           ],
           [
            0.75,
            "rgb(33,113,181)"
           ],
           [
            0.875,
            "rgb(8,81,156)"
           ],
           [
            1,
            "rgb(8,48,107)"
           ]
          ],
          "line": {
           "color": "Grey",
           "width": 0.5
          },
          "showscale": false
         },
         "mode": "markers",
         "name": "Feasible Trial",
         "showlegend": false,
         "type": "scatter",
         "x": [
          3,
          4,
          10,
          6,
          4,
          8,
          6,
          6,
          3,
          3,
          2,
          4,
          4,
          2,
          5,
          8,
          5,
          3,
          2,
          8,
          5,
          2,
          3,
          2,
          4,
          3,
          2,
          7,
          4,
          3,
          5,
          2,
          2,
          3,
          3,
          10,
          4,
          2,
          3,
          4,
          2,
          2,
          2,
          3,
          2,
          3,
          2,
          4,
          9,
          3
         ],
         "xaxis": "x9",
         "y": [
          1.5935054955919967,
          1.5158239985156112,
          1.6302963885598682,
          1.5565247948158343,
          1.4467128318118392,
          1.5535102854493936,
          1.6304652037507545,
          1.4814744652866412,
          1.6136963800252022,
          1.435916025853116,
          1.459464789655881,
          1.4761559552735444,
          1.4801857451909515,
          1.5923015324172343,
          1.5266383616742583,
          1.4881005792745705,
          1.472008614715834,
          1.5019404970128427,
          1.5610200289960168,
          1.49807794201903,
          1.6151612515661644,
          1.4637943258534312,
          1.4652453708841846,
          1.4965777673238752,
          1.472326912990265,
          1.5684935132220945,
          1.478405888710259,
          1.4971166130325881,
          1.5329161668110252,
          1.643688539489835,
          1.5682734507604024,
          1.4587447627949683,
          1.505971252618841,
          1.4752439287565386,
          1.5221946352463096,
          1.5143400561414169,
          1.490768490839028,
          1.4847319972406967,
          1.5227404345342825,
          1.4790130569986883,
          1.6106497745565256,
          1.4727788770732684,
          1.465158131361378,
          1.4798045955199857,
          1.492579464451056,
          1.5129486195374942,
          1.4932247272689925,
          1.7158692832633786,
          1.5101824709930702,
          1.4966546055119405
         ],
         "yaxis": "y9"
        },
        {
         "marker": {
          "color": [
           0,
           1,
           2,
           3,
           4,
           5,
           6,
           7,
           8,
           9,
           10,
           11,
           12,
           13,
           14,
           15,
           16,
           17,
           18,
           19,
           20,
           21,
           22,
           23,
           24,
           25,
           26,
           27,
           28,
           29,
           30,
           31,
           32,
           33,
           34,
           35,
           36,
           37,
           38,
           39,
           40,
           41,
           42,
           43,
           44,
           45,
           46,
           47,
           48,
           49
          ],
          "colorbar": {
           "title": {
            "text": "Trial"
           },
           "x": 1,
           "xpad": 40
          },
          "colorscale": [
           [
            0,
            "rgb(247,251,255)"
           ],
           [
            0.125,
            "rgb(222,235,247)"
           ],
           [
            0.25,
            "rgb(198,219,239)"
           ],
           [
            0.375,
            "rgb(158,202,225)"
           ],
           [
            0.5,
            "rgb(107,174,214)"
           ],
           [
            0.625,
            "rgb(66,146,198)"
           ],
           [
            0.75,
            "rgb(33,113,181)"
           ],
           [
            0.875,
            "rgb(8,81,156)"
           ],
           [
            1,
            "rgb(8,48,107)"
           ]
          ],
          "line": {
           "color": "Grey",
           "width": 0.5
          },
          "showscale": false
         },
         "mode": "markers",
         "name": "Feasible Trial",
         "showlegend": false,
         "type": "scatter",
         "x": [
          639,
          572,
          253,
          696,
          393,
          834,
          674,
          673,
          885,
          560,
          106,
          406,
          413,
          424,
          283,
          503,
          991,
          265,
          509,
          127,
          342,
          102,
          198,
          579,
          801,
          344,
          163,
          479,
          206,
          763,
          593,
          104,
          336,
          169,
          227,
          292,
          135,
          627,
          738,
          544,
          435,
          111,
          117,
          171,
          229,
          305,
          634,
          101,
          377,
          468
         ],
         "xaxis": "x10",
         "y": [
          1.5935054955919967,
          1.5158239985156112,
          1.6302963885598682,
          1.5565247948158343,
          1.4467128318118392,
          1.5535102854493936,
          1.6304652037507545,
          1.4814744652866412,
          1.6136963800252022,
          1.435916025853116,
          1.459464789655881,
          1.4761559552735444,
          1.4801857451909515,
          1.5923015324172343,
          1.5266383616742583,
          1.4881005792745705,
          1.472008614715834,
          1.5019404970128427,
          1.5610200289960168,
          1.49807794201903,
          1.6151612515661644,
          1.4637943258534312,
          1.4652453708841846,
          1.4965777673238752,
          1.472326912990265,
          1.5684935132220945,
          1.478405888710259,
          1.4971166130325881,
          1.5329161668110252,
          1.643688539489835,
          1.5682734507604024,
          1.4587447627949683,
          1.505971252618841,
          1.4752439287565386,
          1.5221946352463096,
          1.5143400561414169,
          1.490768490839028,
          1.4847319972406967,
          1.5227404345342825,
          1.4790130569986883,
          1.6106497745565256,
          1.4727788770732684,
          1.465158131361378,
          1.4798045955199857,
          1.492579464451056,
          1.5129486195374942,
          1.4932247272689925,
          1.7158692832633786,
          1.5101824709930702,
          1.4966546055119405
         ],
         "yaxis": "y10"
        },
        {
         "marker": {
          "color": [
           0,
           1,
           2,
           3,
           4,
           5,
           6,
           7,
           8,
           9,
           10,
           11,
           12,
           13,
           14,
           15,
           16,
           17,
           18,
           19,
           20,
           21,
           22,
           23,
           24,
           25,
           26,
           27,
           28,
           29,
           30,
           31,
           32,
           33,
           34,
           35,
           36,
           37,
           38,
           39,
           40,
           41,
           42,
           43,
           44,
           45,
           46,
           47,
           48,
           49
          ],
          "colorbar": {
           "title": {
            "text": "Trial"
           },
           "x": 1,
           "xpad": 40
          },
          "colorscale": [
           [
            0,
            "rgb(247,251,255)"
           ],
           [
            0.125,
            "rgb(222,235,247)"
           ],
           [
            0.25,
            "rgb(198,219,239)"
           ],
           [
            0.375,
            "rgb(158,202,225)"
           ],
           [
            0.5,
            "rgb(107,174,214)"
           ],
           [
            0.625,
            "rgb(66,146,198)"
           ],
           [
            0.75,
            "rgb(33,113,181)"
           ],
           [
            0.875,
            "rgb(8,81,156)"
           ],
           [
            1,
            "rgb(8,48,107)"
           ]
          ],
          "line": {
           "color": "Grey",
           "width": 0.5
          },
          "showscale": false
         },
         "mode": "markers",
         "name": "Feasible Trial",
         "showlegend": false,
         "type": "scatter",
         "x": [
          0.6624074561769746,
          0.7727780074568463,
          0.6260206371941118,
          0.7246844304357644,
          0.7554709158757928,
          0.8827429375390468,
          0.9548850970305306,
          0.7257423924305306,
          0.9214688307596458,
          0.7669644012595116,
          0.8559192772506938,
          0.8165174529401429,
          0.765145626391539,
          0.7071446743883983,
          0.7983601084096518,
          0.668147523279367,
          0.850967930645987,
          0.7597178593275226,
          0.6031982378141749,
          0.9834399962929773,
          0.8180545123987003,
          0.8670731885908882,
          0.9083707096944635,
          0.8496432649904782,
          0.7927875458629294,
          0.6934645428171423,
          0.7495743056061102,
          0.829992691292269,
          0.9025259021741168,
          0.6695555777599758,
          0.7898046733627585,
          0.8733177224383363,
          0.9369456401500476,
          0.8859357281437735,
          0.7391424340389634,
          0.8507683070747691,
          0.7808772137390048,
          0.8197970124465569,
          0.8714412410229431,
          0.7038383831663181,
          0.7393070117962682,
          0.8747212869962977,
          0.8344190393323836,
          0.8948334618384564,
          0.9325454187511872,
          0.8582622819331827,
          0.7730873459511247,
          0.7206942373142307,
          0.809065458540542,
          0.9532172519243896
         ],
         "xaxis": "x11",
         "y": [
          1.5935054955919967,
          1.5158239985156112,
          1.6302963885598682,
          1.5565247948158343,
          1.4467128318118392,
          1.5535102854493936,
          1.6304652037507545,
          1.4814744652866412,
          1.6136963800252022,
          1.435916025853116,
          1.459464789655881,
          1.4761559552735444,
          1.4801857451909515,
          1.5923015324172343,
          1.5266383616742583,
          1.4881005792745705,
          1.472008614715834,
          1.5019404970128427,
          1.5610200289960168,
          1.49807794201903,
          1.6151612515661644,
          1.4637943258534312,
          1.4652453708841846,
          1.4965777673238752,
          1.472326912990265,
          1.5684935132220945,
          1.478405888710259,
          1.4971166130325881,
          1.5329161668110252,
          1.643688539489835,
          1.5682734507604024,
          1.4587447627949683,
          1.505971252618841,
          1.4752439287565386,
          1.5221946352463096,
          1.5143400561414169,
          1.490768490839028,
          1.4847319972406967,
          1.5227404345342825,
          1.4790130569986883,
          1.6106497745565256,
          1.4727788770732684,
          1.465158131361378,
          1.4798045955199857,
          1.492579464451056,
          1.5129486195374942,
          1.4932247272689925,
          1.7158692832633786,
          1.5101824709930702,
          1.4966546055119405
         ],
         "yaxis": "y11"
        }
       ],
       "layout": {
        "template": {
         "data": {
          "bar": [
           {
            "error_x": {
             "color": "#2a3f5f"
            },
            "error_y": {
             "color": "#2a3f5f"
            },
            "marker": {
             "line": {
              "color": "#E5ECF6",
              "width": 0.5
             },
             "pattern": {
              "fillmode": "overlay",
              "size": 10,
              "solidity": 0.2
             }
            },
            "type": "bar"
           }
          ],
          "barpolar": [
           {
            "marker": {
             "line": {
              "color": "#E5ECF6",
              "width": 0.5
             },
             "pattern": {
              "fillmode": "overlay",
              "size": 10,
              "solidity": 0.2
             }
            },
            "type": "barpolar"
           }
          ],
          "carpet": [
           {
            "aaxis": {
             "endlinecolor": "#2a3f5f",
             "gridcolor": "white",
             "linecolor": "white",
             "minorgridcolor": "white",
             "startlinecolor": "#2a3f5f"
            },
            "baxis": {
             "endlinecolor": "#2a3f5f",
             "gridcolor": "white",
             "linecolor": "white",
             "minorgridcolor": "white",
             "startlinecolor": "#2a3f5f"
            },
            "type": "carpet"
           }
          ],
          "choropleth": [
           {
            "colorbar": {
             "outlinewidth": 0,
             "ticks": ""
            },
            "type": "choropleth"
           }
          ],
          "contour": [
           {
            "colorbar": {
             "outlinewidth": 0,
             "ticks": ""
            },
            "colorscale": [
             [
              0,
              "#0d0887"
             ],
             [
              0.1111111111111111,
              "#46039f"
             ],
             [
              0.2222222222222222,
              "#7201a8"
             ],
             [
              0.3333333333333333,
              "#9c179e"
             ],
             [
              0.4444444444444444,
              "#bd3786"
             ],
             [
              0.5555555555555556,
              "#d8576b"
             ],
             [
              0.6666666666666666,
              "#ed7953"
             ],
             [
              0.7777777777777778,
              "#fb9f3a"
             ],
             [
              0.8888888888888888,
              "#fdca26"
             ],
             [
              1,
              "#f0f921"
             ]
            ],
            "type": "contour"
           }
          ],
          "contourcarpet": [
           {
            "colorbar": {
             "outlinewidth": 0,
             "ticks": ""
            },
            "type": "contourcarpet"
           }
          ],
          "heatmap": [
           {
            "colorbar": {
             "outlinewidth": 0,
             "ticks": ""
            },
            "colorscale": [
             [
              0,
              "#0d0887"
             ],
             [
              0.1111111111111111,
              "#46039f"
             ],
             [
              0.2222222222222222,
              "#7201a8"
             ],
             [
              0.3333333333333333,
              "#9c179e"
             ],
             [
              0.4444444444444444,
              "#bd3786"
             ],
             [
              0.5555555555555556,
              "#d8576b"
             ],
             [
              0.6666666666666666,
              "#ed7953"
             ],
             [
              0.7777777777777778,
              "#fb9f3a"
             ],
             [
              0.8888888888888888,
              "#fdca26"
             ],
             [
              1,
              "#f0f921"
             ]
            ],
            "type": "heatmap"
           }
          ],
          "histogram": [
           {
            "marker": {
             "pattern": {
              "fillmode": "overlay",
              "size": 10,
              "solidity": 0.2
             }
            },
            "type": "histogram"
           }
          ],
          "histogram2d": [
           {
            "colorbar": {
             "outlinewidth": 0,
             "ticks": ""
            },
            "colorscale": [
             [
              0,
              "#0d0887"
             ],
             [
              0.1111111111111111,
              "#46039f"
             ],
             [
              0.2222222222222222,
              "#7201a8"
             ],
             [
              0.3333333333333333,
              "#9c179e"
             ],
             [
              0.4444444444444444,
              "#bd3786"
             ],
             [
              0.5555555555555556,
              "#d8576b"
             ],
             [
              0.6666666666666666,
              "#ed7953"
             ],
             [
              0.7777777777777778,
              "#fb9f3a"
             ],
             [
              0.8888888888888888,
              "#fdca26"
             ],
             [
              1,
              "#f0f921"
             ]
            ],
            "type": "histogram2d"
           }
          ],
          "histogram2dcontour": [
           {
            "colorbar": {
             "outlinewidth": 0,
             "ticks": ""
            },
            "colorscale": [
             [
              0,
              "#0d0887"
             ],
             [
              0.1111111111111111,
              "#46039f"
             ],
             [
              0.2222222222222222,
              "#7201a8"
             ],
             [
              0.3333333333333333,
              "#9c179e"
             ],
             [
              0.4444444444444444,
              "#bd3786"
             ],
             [
              0.5555555555555556,
              "#d8576b"
             ],
             [
              0.6666666666666666,
              "#ed7953"
             ],
             [
              0.7777777777777778,
              "#fb9f3a"
             ],
             [
              0.8888888888888888,
              "#fdca26"
             ],
             [
              1,
              "#f0f921"
             ]
            ],
            "type": "histogram2dcontour"
           }
          ],
          "mesh3d": [
           {
            "colorbar": {
             "outlinewidth": 0,
             "ticks": ""
            },
            "type": "mesh3d"
           }
          ],
          "parcoords": [
           {
            "line": {
             "colorbar": {
              "outlinewidth": 0,
              "ticks": ""
             }
            },
            "type": "parcoords"
           }
          ],
          "pie": [
           {
            "automargin": true,
            "type": "pie"
           }
          ],
          "scatter": [
           {
            "fillpattern": {
             "fillmode": "overlay",
             "size": 10,
             "solidity": 0.2
            },
            "type": "scatter"
           }
          ],
          "scatter3d": [
           {
            "line": {
             "colorbar": {
              "outlinewidth": 0,
              "ticks": ""
             }
            },
            "marker": {
             "colorbar": {
              "outlinewidth": 0,
              "ticks": ""
             }
            },
            "type": "scatter3d"
           }
          ],
          "scattercarpet": [
           {
            "marker": {
             "colorbar": {
              "outlinewidth": 0,
              "ticks": ""
             }
            },
            "type": "scattercarpet"
           }
          ],
          "scattergeo": [
           {
            "marker": {
             "colorbar": {
              "outlinewidth": 0,
              "ticks": ""
             }
            },
            "type": "scattergeo"
           }
          ],
          "scattergl": [
           {
            "marker": {
             "colorbar": {
              "outlinewidth": 0,
              "ticks": ""
             }
            },
            "type": "scattergl"
           }
          ],
          "scattermap": [
           {
            "marker": {
             "colorbar": {
              "outlinewidth": 0,
              "ticks": ""
             }
            },
            "type": "scattermap"
           }
          ],
          "scattermapbox": [
           {
            "marker": {
             "colorbar": {
              "outlinewidth": 0,
              "ticks": ""
             }
            },
            "type": "scattermapbox"
           }
          ],
          "scatterpolar": [
           {
            "marker": {
             "colorbar": {
              "outlinewidth": 0,
              "ticks": ""
             }
            },
            "type": "scatterpolar"
           }
          ],
          "scatterpolargl": [
           {
            "marker": {
             "colorbar": {
              "outlinewidth": 0,
              "ticks": ""
             }
            },
            "type": "scatterpolargl"
           }
          ],
          "scatterternary": [
           {
            "marker": {
             "colorbar": {
              "outlinewidth": 0,
              "ticks": ""
             }
            },
            "type": "scatterternary"
           }
          ],
          "surface": [
           {
            "colorbar": {
             "outlinewidth": 0,
             "ticks": ""
            },
            "colorscale": [
             [
              0,
              "#0d0887"
             ],
             [
              0.1111111111111111,
              "#46039f"
             ],
             [
              0.2222222222222222,
              "#7201a8"
             ],
             [
              0.3333333333333333,
              "#9c179e"
             ],
             [
              0.4444444444444444,
              "#bd3786"
             ],
             [
              0.5555555555555556,
              "#d8576b"
             ],
             [
              0.6666666666666666,
              "#ed7953"
             ],
             [
              0.7777777777777778,
              "#fb9f3a"
             ],
             [
              0.8888888888888888,
              "#fdca26"
             ],
             [
              1,
              "#f0f921"
             ]
            ],
            "type": "surface"
           }
          ],
          "table": [
           {
            "cells": {
             "fill": {
              "color": "#EBF0F8"
             },
             "line": {
              "color": "white"
             }
            },
            "header": {
             "fill": {
              "color": "#C8D4E3"
             },
             "line": {
              "color": "white"
             }
            },
            "type": "table"
           }
          ]
         },
         "layout": {
          "annotationdefaults": {
           "arrowcolor": "#2a3f5f",
           "arrowhead": 0,
           "arrowwidth": 1
          },
          "autotypenumbers": "strict",
          "coloraxis": {
           "colorbar": {
            "outlinewidth": 0,
            "ticks": ""
           }
          },
          "colorscale": {
           "diverging": [
            [
             0,
             "#8e0152"
            ],
            [
             0.1,
             "#c51b7d"
            ],
            [
             0.2,
             "#de77ae"
            ],
            [
             0.3,
             "#f1b6da"
            ],
            [
             0.4,
             "#fde0ef"
            ],
            [
             0.5,
             "#f7f7f7"
            ],
            [
             0.6,
             "#e6f5d0"
            ],
            [
             0.7,
             "#b8e186"
            ],
            [
             0.8,
             "#7fbc41"
            ],
            [
             0.9,
             "#4d9221"
            ],
            [
             1,
             "#276419"
            ]
           ],
           "sequential": [
            [
             0,
             "#0d0887"
            ],
            [
             0.1111111111111111,
             "#46039f"
            ],
            [
             0.2222222222222222,
             "#7201a8"
            ],
            [
             0.3333333333333333,
             "#9c179e"
            ],
            [
             0.4444444444444444,
             "#bd3786"
            ],
            [
             0.5555555555555556,
             "#d8576b"
            ],
            [
             0.6666666666666666,
             "#ed7953"
            ],
            [
             0.7777777777777778,
             "#fb9f3a"
            ],
            [
             0.8888888888888888,
             "#fdca26"
            ],
            [
             1,
             "#f0f921"
            ]
           ],
           "sequentialminus": [
            [
             0,
             "#0d0887"
            ],
            [
             0.1111111111111111,
             "#46039f"
            ],
            [
             0.2222222222222222,
             "#7201a8"
            ],
            [
             0.3333333333333333,
             "#9c179e"
            ],
            [
             0.4444444444444444,
             "#bd3786"
            ],
            [
             0.5555555555555556,
             "#d8576b"
            ],
            [
             0.6666666666666666,
             "#ed7953"
            ],
            [
             0.7777777777777778,
             "#fb9f3a"
            ],
            [
             0.8888888888888888,
             "#fdca26"
            ],
            [
             1,
             "#f0f921"
            ]
           ]
          },
          "colorway": [
           "#636efa",
           "#EF553B",
           "#00cc96",
           "#ab63fa",
           "#FFA15A",
           "#19d3f3",
           "#FF6692",
           "#B6E880",
           "#FF97FF",
           "#FECB52"
          ],
          "font": {
           "color": "#2a3f5f"
          },
          "geo": {
           "bgcolor": "white",
           "lakecolor": "white",
           "landcolor": "#E5ECF6",
           "showlakes": true,
           "showland": true,
           "subunitcolor": "white"
          },
          "hoverlabel": {
           "align": "left"
          },
          "hovermode": "closest",
          "mapbox": {
           "style": "light"
          },
          "paper_bgcolor": "white",
          "plot_bgcolor": "#E5ECF6",
          "polar": {
           "angularaxis": {
            "gridcolor": "white",
            "linecolor": "white",
            "ticks": ""
           },
           "bgcolor": "#E5ECF6",
           "radialaxis": {
            "gridcolor": "white",
            "linecolor": "white",
            "ticks": ""
           }
          },
          "scene": {
           "xaxis": {
            "backgroundcolor": "#E5ECF6",
            "gridcolor": "white",
            "gridwidth": 2,
            "linecolor": "white",
            "showbackground": true,
            "ticks": "",
            "zerolinecolor": "white"
           },
           "yaxis": {
            "backgroundcolor": "#E5ECF6",
            "gridcolor": "white",
            "gridwidth": 2,
            "linecolor": "white",
            "showbackground": true,
            "ticks": "",
            "zerolinecolor": "white"
           },
           "zaxis": {
            "backgroundcolor": "#E5ECF6",
            "gridcolor": "white",
            "gridwidth": 2,
            "linecolor": "white",
            "showbackground": true,
            "ticks": "",
            "zerolinecolor": "white"
           }
          },
          "shapedefaults": {
           "line": {
            "color": "#2a3f5f"
           }
          },
          "ternary": {
           "aaxis": {
            "gridcolor": "white",
            "linecolor": "white",
            "ticks": ""
           },
           "baxis": {
            "gridcolor": "white",
            "linecolor": "white",
            "ticks": ""
           },
           "bgcolor": "#E5ECF6",
           "caxis": {
            "gridcolor": "white",
            "linecolor": "white",
            "ticks": ""
           }
          },
          "title": {
           "x": 0.05
          },
          "xaxis": {
           "automargin": true,
           "gridcolor": "white",
           "linecolor": "white",
           "ticks": "",
           "title": {
            "standoff": 15
           },
           "zerolinecolor": "white",
           "zerolinewidth": 2
          },
          "yaxis": {
           "automargin": true,
           "gridcolor": "white",
           "linecolor": "white",
           "ticks": "",
           "title": {
            "standoff": 15
           },
           "zerolinecolor": "white",
           "zerolinewidth": 2
          }
         }
        },
        "title": {
         "text": "Slice Plot"
        },
        "width": 3300,
        "xaxis": {
         "anchor": "y",
         "domain": [
          0,
          0.07438016528925619
         ],
         "title": {
          "text": "alpha"
         }
        },
        "xaxis10": {
         "anchor": "y10",
         "domain": [
          0.8330578512396694,
          0.9074380165289255
         ],
         "title": {
          "text": "n_estimators"
         }
        },
        "xaxis11": {
         "anchor": "y11",
         "domain": [
          0.9256198347107437,
          0.9999999999999999
         ],
         "title": {
          "text": "subsample"
         }
        },
        "xaxis2": {
         "anchor": "y2",
         "domain": [
          0.09256198347107437,
          0.16694214876033056
         ],
         "title": {
          "text": "learning_rate"
         }
        },
        "xaxis3": {
         "anchor": "y3",
         "categoryarray": [
          "squared_error",
          "huber"
         ],
         "categoryorder": "array",
         "domain": [
          0.18512396694214875,
          0.25950413223140495
         ],
         "title": {
          "text": "loss"
         },
         "type": "category"
        },
        "xaxis4": {
         "anchor": "y4",
         "domain": [
          0.27768595041322314,
          0.3520661157024793
         ],
         "title": {
          "text": "max_depth"
         }
        },
        "xaxis5": {
         "anchor": "y5",
         "categoryarray": [
          "sqrt",
          "log2",
          null
         ],
         "categoryorder": "array",
         "domain": [
          0.3702479338842975,
          0.44462809917355367
         ],
         "title": {
          "text": "max_features"
         },
         "type": "category"
        },
        "xaxis6": {
         "anchor": "y6",
         "domain": [
          0.46280991735537186,
          0.5371900826446281
         ],
         "title": {
          "text": "max_leaf_nodes"
         }
        },
        "xaxis7": {
         "anchor": "y7",
         "domain": [
          0.5553719008264463,
          0.6297520661157024
         ],
         "title": {
          "text": "min_impurity_decrease"
         }
        },
        "xaxis8": {
         "anchor": "y8",
         "domain": [
          0.6479338842975206,
          0.7223140495867768
         ],
         "title": {
          "text": "min_samples_leaf"
         }
        },
        "xaxis9": {
         "anchor": "y9",
         "domain": [
          0.740495867768595,
          0.8148760330578512
         ],
         "title": {
          "text": "min_samples_split"
         }
        },
        "yaxis": {
         "anchor": "x",
         "domain": [
          0,
          1
         ],
         "title": {
          "text": "Objective Value"
         }
        },
        "yaxis10": {
         "anchor": "x10",
         "domain": [
          0,
          1
         ],
         "matches": "y",
         "showticklabels": false
        },
        "yaxis11": {
         "anchor": "x11",
         "domain": [
          0,
          1
         ],
         "matches": "y",
         "showticklabels": false
        },
        "yaxis2": {
         "anchor": "x2",
         "domain": [
          0,
          1
         ],
         "matches": "y",
         "showticklabels": false
        },
        "yaxis3": {
         "anchor": "x3",
         "domain": [
          0,
          1
         ],
         "matches": "y",
         "showticklabels": false
        },
        "yaxis4": {
         "anchor": "x4",
         "domain": [
          0,
          1
         ],
         "matches": "y",
         "showticklabels": false
        },
        "yaxis5": {
         "anchor": "x5",
         "domain": [
          0,
          1
         ],
         "matches": "y",
         "showticklabels": false
        },
        "yaxis6": {
         "anchor": "x6",
         "domain": [
          0,
          1
         ],
         "matches": "y",
         "showticklabels": false
        },
        "yaxis7": {
         "anchor": "x7",
         "domain": [
          0,
          1
         ],
         "matches": "y",
         "showticklabels": false
        },
        "yaxis8": {
         "anchor": "x8",
         "domain": [
          0,
          1
         ],
         "matches": "y",
         "showticklabels": false
        },
        "yaxis9": {
         "anchor": "x9",
         "domain": [
          0,
          1
         ],
         "matches": "y",
         "showticklabels": false
        }
       }
      }
     },
     "metadata": {},
     "output_type": "display_data"
    }
   ],
   "source": [
    "vis.plot_slice(study=study_grad)"
   ]
  },
  {
   "cell_type": "code",
   "execution_count": 22,
   "id": "fe0937c0",
   "metadata": {},
   "outputs": [
    {
     "data": {
      "application/vnd.plotly.v1+json": {
       "config": {
        "plotlyServerURL": "https://plot.ly"
       },
       "data": [
        {
         "cliponaxis": false,
         "hovertemplate": [
          "loss (CategoricalDistribution): 0.002338929401145947<extra></extra>",
          "min_samples_leaf (IntDistribution): 0.00455903217251362<extra></extra>",
          "min_samples_split (IntDistribution): 0.007165606721950012<extra></extra>",
          "max_leaf_nodes (IntDistribution): 0.008164475548849425<extra></extra>",
          "max_depth (IntDistribution): 0.015550423881898682<extra></extra>",
          "min_impurity_decrease (FloatDistribution): 0.026570118264933825<extra></extra>",
          "max_features (CategoricalDistribution): 0.027845318565563434<extra></extra>",
          "n_estimators (IntDistribution): 0.034292687919609204<extra></extra>",
          "alpha (FloatDistribution): 0.03682066940276947<extra></extra>",
          "subsample (FloatDistribution): 0.07018587646098678<extra></extra>",
          "learning_rate (FloatDistribution): 0.7665068616597798<extra></extra>"
         ],
         "name": "Objective Value",
         "orientation": "h",
         "text": [
          "<0.01",
          "<0.01",
          "<0.01",
          "<0.01",
          "0.02",
          "0.03",
          "0.03",
          "0.03",
          "0.04",
          "0.07",
          "0.77"
         ],
         "textposition": "outside",
         "type": "bar",
         "x": [
          0.002338929401145947,
          0.00455903217251362,
          0.007165606721950012,
          0.008164475548849425,
          0.015550423881898682,
          0.026570118264933825,
          0.027845318565563434,
          0.034292687919609204,
          0.03682066940276947,
          0.07018587646098678,
          0.7665068616597798
         ],
         "y": [
          "loss",
          "min_samples_leaf",
          "min_samples_split",
          "max_leaf_nodes",
          "max_depth",
          "min_impurity_decrease",
          "max_features",
          "n_estimators",
          "alpha",
          "subsample",
          "learning_rate"
         ]
        }
       ],
       "layout": {
        "template": {
         "data": {
          "bar": [
           {
            "error_x": {
             "color": "#2a3f5f"
            },
            "error_y": {
             "color": "#2a3f5f"
            },
            "marker": {
             "line": {
              "color": "#E5ECF6",
              "width": 0.5
             },
             "pattern": {
              "fillmode": "overlay",
              "size": 10,
              "solidity": 0.2
             }
            },
            "type": "bar"
           }
          ],
          "barpolar": [
           {
            "marker": {
             "line": {
              "color": "#E5ECF6",
              "width": 0.5
             },
             "pattern": {
              "fillmode": "overlay",
              "size": 10,
              "solidity": 0.2
             }
            },
            "type": "barpolar"
           }
          ],
          "carpet": [
           {
            "aaxis": {
             "endlinecolor": "#2a3f5f",
             "gridcolor": "white",
             "linecolor": "white",
             "minorgridcolor": "white",
             "startlinecolor": "#2a3f5f"
            },
            "baxis": {
             "endlinecolor": "#2a3f5f",
             "gridcolor": "white",
             "linecolor": "white",
             "minorgridcolor": "white",
             "startlinecolor": "#2a3f5f"
            },
            "type": "carpet"
           }
          ],
          "choropleth": [
           {
            "colorbar": {
             "outlinewidth": 0,
             "ticks": ""
            },
            "type": "choropleth"
           }
          ],
          "contour": [
           {
            "colorbar": {
             "outlinewidth": 0,
             "ticks": ""
            },
            "colorscale": [
             [
              0,
              "#0d0887"
             ],
             [
              0.1111111111111111,
              "#46039f"
             ],
             [
              0.2222222222222222,
              "#7201a8"
             ],
             [
              0.3333333333333333,
              "#9c179e"
             ],
             [
              0.4444444444444444,
              "#bd3786"
             ],
             [
              0.5555555555555556,
              "#d8576b"
             ],
             [
              0.6666666666666666,
              "#ed7953"
             ],
             [
              0.7777777777777778,
              "#fb9f3a"
             ],
             [
              0.8888888888888888,
              "#fdca26"
             ],
             [
              1,
              "#f0f921"
             ]
            ],
            "type": "contour"
           }
          ],
          "contourcarpet": [
           {
            "colorbar": {
             "outlinewidth": 0,
             "ticks": ""
            },
            "type": "contourcarpet"
           }
          ],
          "heatmap": [
           {
            "colorbar": {
             "outlinewidth": 0,
             "ticks": ""
            },
            "colorscale": [
             [
              0,
              "#0d0887"
             ],
             [
              0.1111111111111111,
              "#46039f"
             ],
             [
              0.2222222222222222,
              "#7201a8"
             ],
             [
              0.3333333333333333,
              "#9c179e"
             ],
             [
              0.4444444444444444,
              "#bd3786"
             ],
             [
              0.5555555555555556,
              "#d8576b"
             ],
             [
              0.6666666666666666,
              "#ed7953"
             ],
             [
              0.7777777777777778,
              "#fb9f3a"
             ],
             [
              0.8888888888888888,
              "#fdca26"
             ],
             [
              1,
              "#f0f921"
             ]
            ],
            "type": "heatmap"
           }
          ],
          "histogram": [
           {
            "marker": {
             "pattern": {
              "fillmode": "overlay",
              "size": 10,
              "solidity": 0.2
             }
            },
            "type": "histogram"
           }
          ],
          "histogram2d": [
           {
            "colorbar": {
             "outlinewidth": 0,
             "ticks": ""
            },
            "colorscale": [
             [
              0,
              "#0d0887"
             ],
             [
              0.1111111111111111,
              "#46039f"
             ],
             [
              0.2222222222222222,
              "#7201a8"
             ],
             [
              0.3333333333333333,
              "#9c179e"
             ],
             [
              0.4444444444444444,
              "#bd3786"
             ],
             [
              0.5555555555555556,
              "#d8576b"
             ],
             [
              0.6666666666666666,
              "#ed7953"
             ],
             [
              0.7777777777777778,
              "#fb9f3a"
             ],
             [
              0.8888888888888888,
              "#fdca26"
             ],
             [
              1,
              "#f0f921"
             ]
            ],
            "type": "histogram2d"
           }
          ],
          "histogram2dcontour": [
           {
            "colorbar": {
             "outlinewidth": 0,
             "ticks": ""
            },
            "colorscale": [
             [
              0,
              "#0d0887"
             ],
             [
              0.1111111111111111,
              "#46039f"
             ],
             [
              0.2222222222222222,
              "#7201a8"
             ],
             [
              0.3333333333333333,
              "#9c179e"
             ],
             [
              0.4444444444444444,
              "#bd3786"
             ],
             [
              0.5555555555555556,
              "#d8576b"
             ],
             [
              0.6666666666666666,
              "#ed7953"
             ],
             [
              0.7777777777777778,
              "#fb9f3a"
             ],
             [
              0.8888888888888888,
              "#fdca26"
             ],
             [
              1,
              "#f0f921"
             ]
            ],
            "type": "histogram2dcontour"
           }
          ],
          "mesh3d": [
           {
            "colorbar": {
             "outlinewidth": 0,
             "ticks": ""
            },
            "type": "mesh3d"
           }
          ],
          "parcoords": [
           {
            "line": {
             "colorbar": {
              "outlinewidth": 0,
              "ticks": ""
             }
            },
            "type": "parcoords"
           }
          ],
          "pie": [
           {
            "automargin": true,
            "type": "pie"
           }
          ],
          "scatter": [
           {
            "fillpattern": {
             "fillmode": "overlay",
             "size": 10,
             "solidity": 0.2
            },
            "type": "scatter"
           }
          ],
          "scatter3d": [
           {
            "line": {
             "colorbar": {
              "outlinewidth": 0,
              "ticks": ""
             }
            },
            "marker": {
             "colorbar": {
              "outlinewidth": 0,
              "ticks": ""
             }
            },
            "type": "scatter3d"
           }
          ],
          "scattercarpet": [
           {
            "marker": {
             "colorbar": {
              "outlinewidth": 0,
              "ticks": ""
             }
            },
            "type": "scattercarpet"
           }
          ],
          "scattergeo": [
           {
            "marker": {
             "colorbar": {
              "outlinewidth": 0,
              "ticks": ""
             }
            },
            "type": "scattergeo"
           }
          ],
          "scattergl": [
           {
            "marker": {
             "colorbar": {
              "outlinewidth": 0,
              "ticks": ""
             }
            },
            "type": "scattergl"
           }
          ],
          "scattermap": [
           {
            "marker": {
             "colorbar": {
              "outlinewidth": 0,
              "ticks": ""
             }
            },
            "type": "scattermap"
           }
          ],
          "scattermapbox": [
           {
            "marker": {
             "colorbar": {
              "outlinewidth": 0,
              "ticks": ""
             }
            },
            "type": "scattermapbox"
           }
          ],
          "scatterpolar": [
           {
            "marker": {
             "colorbar": {
              "outlinewidth": 0,
              "ticks": ""
             }
            },
            "type": "scatterpolar"
           }
          ],
          "scatterpolargl": [
           {
            "marker": {
             "colorbar": {
              "outlinewidth": 0,
              "ticks": ""
             }
            },
            "type": "scatterpolargl"
           }
          ],
          "scatterternary": [
           {
            "marker": {
             "colorbar": {
              "outlinewidth": 0,
              "ticks": ""
             }
            },
            "type": "scatterternary"
           }
          ],
          "surface": [
           {
            "colorbar": {
             "outlinewidth": 0,
             "ticks": ""
            },
            "colorscale": [
             [
              0,
              "#0d0887"
             ],
             [
              0.1111111111111111,
              "#46039f"
             ],
             [
              0.2222222222222222,
              "#7201a8"
             ],
             [
              0.3333333333333333,
              "#9c179e"
             ],
             [
              0.4444444444444444,
              "#bd3786"
             ],
             [
              0.5555555555555556,
              "#d8576b"
             ],
             [
              0.6666666666666666,
              "#ed7953"
             ],
             [
              0.7777777777777778,
              "#fb9f3a"
             ],
             [
              0.8888888888888888,
              "#fdca26"
             ],
             [
              1,
              "#f0f921"
             ]
            ],
            "type": "surface"
           }
          ],
          "table": [
           {
            "cells": {
             "fill": {
              "color": "#EBF0F8"
             },
             "line": {
              "color": "white"
             }
            },
            "header": {
             "fill": {
              "color": "#C8D4E3"
             },
             "line": {
              "color": "white"
             }
            },
            "type": "table"
           }
          ]
         },
         "layout": {
          "annotationdefaults": {
           "arrowcolor": "#2a3f5f",
           "arrowhead": 0,
           "arrowwidth": 1
          },
          "autotypenumbers": "strict",
          "coloraxis": {
           "colorbar": {
            "outlinewidth": 0,
            "ticks": ""
           }
          },
          "colorscale": {
           "diverging": [
            [
             0,
             "#8e0152"
            ],
            [
             0.1,
             "#c51b7d"
            ],
            [
             0.2,
             "#de77ae"
            ],
            [
             0.3,
             "#f1b6da"
            ],
            [
             0.4,
             "#fde0ef"
            ],
            [
             0.5,
             "#f7f7f7"
            ],
            [
             0.6,
             "#e6f5d0"
            ],
            [
             0.7,
             "#b8e186"
            ],
            [
             0.8,
             "#7fbc41"
            ],
            [
             0.9,
             "#4d9221"
            ],
            [
             1,
             "#276419"
            ]
           ],
           "sequential": [
            [
             0,
             "#0d0887"
            ],
            [
             0.1111111111111111,
             "#46039f"
            ],
            [
             0.2222222222222222,
             "#7201a8"
            ],
            [
             0.3333333333333333,
             "#9c179e"
            ],
            [
             0.4444444444444444,
             "#bd3786"
            ],
            [
             0.5555555555555556,
             "#d8576b"
            ],
            [
             0.6666666666666666,
             "#ed7953"
            ],
            [
             0.7777777777777778,
             "#fb9f3a"
            ],
            [
             0.8888888888888888,
             "#fdca26"
            ],
            [
             1,
             "#f0f921"
            ]
           ],
           "sequentialminus": [
            [
             0,
             "#0d0887"
            ],
            [
             0.1111111111111111,
             "#46039f"
            ],
            [
             0.2222222222222222,
             "#7201a8"
            ],
            [
             0.3333333333333333,
             "#9c179e"
            ],
            [
             0.4444444444444444,
             "#bd3786"
            ],
            [
             0.5555555555555556,
             "#d8576b"
            ],
            [
             0.6666666666666666,
             "#ed7953"
            ],
            [
             0.7777777777777778,
             "#fb9f3a"
            ],
            [
             0.8888888888888888,
             "#fdca26"
            ],
            [
             1,
             "#f0f921"
            ]
           ]
          },
          "colorway": [
           "#636efa",
           "#EF553B",
           "#00cc96",
           "#ab63fa",
           "#FFA15A",
           "#19d3f3",
           "#FF6692",
           "#B6E880",
           "#FF97FF",
           "#FECB52"
          ],
          "font": {
           "color": "#2a3f5f"
          },
          "geo": {
           "bgcolor": "white",
           "lakecolor": "white",
           "landcolor": "#E5ECF6",
           "showlakes": true,
           "showland": true,
           "subunitcolor": "white"
          },
          "hoverlabel": {
           "align": "left"
          },
          "hovermode": "closest",
          "mapbox": {
           "style": "light"
          },
          "paper_bgcolor": "white",
          "plot_bgcolor": "#E5ECF6",
          "polar": {
           "angularaxis": {
            "gridcolor": "white",
            "linecolor": "white",
            "ticks": ""
           },
           "bgcolor": "#E5ECF6",
           "radialaxis": {
            "gridcolor": "white",
            "linecolor": "white",
            "ticks": ""
           }
          },
          "scene": {
           "xaxis": {
            "backgroundcolor": "#E5ECF6",
            "gridcolor": "white",
            "gridwidth": 2,
            "linecolor": "white",
            "showbackground": true,
            "ticks": "",
            "zerolinecolor": "white"
           },
           "yaxis": {
            "backgroundcolor": "#E5ECF6",
            "gridcolor": "white",
            "gridwidth": 2,
            "linecolor": "white",
            "showbackground": true,
            "ticks": "",
            "zerolinecolor": "white"
           },
           "zaxis": {
            "backgroundcolor": "#E5ECF6",
            "gridcolor": "white",
            "gridwidth": 2,
            "linecolor": "white",
            "showbackground": true,
            "ticks": "",
            "zerolinecolor": "white"
           }
          },
          "shapedefaults": {
           "line": {
            "color": "#2a3f5f"
           }
          },
          "ternary": {
           "aaxis": {
            "gridcolor": "white",
            "linecolor": "white",
            "ticks": ""
           },
           "baxis": {
            "gridcolor": "white",
            "linecolor": "white",
            "ticks": ""
           },
           "bgcolor": "#E5ECF6",
           "caxis": {
            "gridcolor": "white",
            "linecolor": "white",
            "ticks": ""
           }
          },
          "title": {
           "x": 0.05
          },
          "xaxis": {
           "automargin": true,
           "gridcolor": "white",
           "linecolor": "white",
           "ticks": "",
           "title": {
            "standoff": 15
           },
           "zerolinecolor": "white",
           "zerolinewidth": 2
          },
          "yaxis": {
           "automargin": true,
           "gridcolor": "white",
           "linecolor": "white",
           "ticks": "",
           "title": {
            "standoff": 15
           },
           "zerolinecolor": "white",
           "zerolinewidth": 2
          }
         }
        },
        "title": {
         "text": "Hyperparameter Importances"
        },
        "xaxis": {
         "title": {
          "text": "Hyperparameter Importance"
         }
        },
        "yaxis": {
         "title": {
          "text": "Hyperparameter"
         }
        }
       }
      }
     },
     "metadata": {},
     "output_type": "display_data"
    }
   ],
   "source": [
    "vis.plot_param_importances(study=study_grad)"
   ]
  },
  {
   "cell_type": "code",
   "execution_count": 23,
   "id": "db952101",
   "metadata": {},
   "outputs": [],
   "source": [
    "task_grad.close()"
   ]
  }
 ],
 "metadata": {
  "kernelspec": {
   "display_name": "Python (group1venv)",
   "language": "python",
   "name": "group1venv"
  },
  "language_info": {
   "codemirror_mode": {
    "name": "ipython",
    "version": 3
   },
   "file_extension": ".py",
   "mimetype": "text/x-python",
   "name": "python",
   "nbconvert_exporter": "python",
   "pygments_lexer": "ipython3",
   "version": "3.12.4"
  }
 },
 "nbformat": 4,
 "nbformat_minor": 5
}
