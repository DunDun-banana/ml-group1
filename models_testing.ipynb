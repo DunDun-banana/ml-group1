{
 "cells": [
  {
   "cell_type": "code",
   "execution_count": 1,
   "id": "b72ccedf",
   "metadata": {},
   "outputs": [
    {
     "name": "stderr",
     "output_type": "stream",
     "text": [
      "c:\\Users\\Admin\\Documents\\ML\\group1\\venv\\Lib\\site-packages\\tqdm\\auto.py:21: TqdmWarning: IProgress not found. Please update jupyter and ipywidgets. See https://ipywidgets.readthedocs.io/en/stable/user_install.html\n",
      "  from .autonotebook import tqdm as notebook_tqdm\n"
     ]
    }
   ],
   "source": [
    "from clearml import Task\n",
    "import numpy as np\n",
    "import random\n",
    "import os\n",
    "import optuna\n",
    "\n",
    "import joblib\n",
    "import pandas as pd\n",
    "import optuna.visualization as vis\n",
    "import matplotlib.pyplot as plt\n",
    "\n",
    "from pathlib import Path\n",
    "from clearml import Logger\n",
    "from sklearn.ensemble import RandomForestRegressor\n",
    "from sklearn.ensemble import ExtraTreesRegressor, GradientBoostingRegressor\n",
    "from sklearn.model_selection import TimeSeriesSplit\n",
    "\n",
    "from src import data_preprocessing as dp\n",
    "from src import pipeline as pl\n",
    "from src import feature_engineering as fe\n",
    "from src.model_evaluation import evaluate\n",
    "from sklearn.model_selection import cross_val_score, cross_val_predict, KFold\n",
    "\n",
    "SEED = 42 # vẫn phải chọn random của model đấy\n",
    "\n",
    "# Python, NumPy\n",
    "random.seed(SEED)\n",
    "np.random.seed(SEED) \n",
    "\n",
    "# Hash seed cho Python interpreter (ảnh hưởng tới dict order)\n",
    "os.environ['PYTHONHASHSEED'] = str(SEED)\n",
    "\n",
    "# Giới hạn luồng tính toán song song (để tránh floating-point nondeterminism)\n",
    "os.environ[\"OMP_NUM_THREADS\"] = \"1\"\n",
    "os.environ[\"MKL_NUM_THREADS\"] = \"1\"\n",
    "os.environ[\"NUMEXPR_NUM_THREADS\"] = \"1\"\n",
    "\n",
    "# tạo sampler của Optuna có seed cố định\n",
    "sampler = optuna.samplers.TPESampler(seed=SEED)\n"
   ]
  },
  {
   "cell_type": "code",
   "execution_count": 36,
   "id": "e8a9465b",
   "metadata": {},
   "outputs": [
    {
     "name": "stdout",
     "output_type": "stream",
     "text": [
      " Loaded data with shape: (3660, 33)\n",
      "Dropped column: 'description'\n",
      "Dropped column: 'icon'\n",
      "Dropped column: 'stations'\n",
      "Dropped column: 'name'\n",
      "(2562, 258)\n"
     ]
    }
   ],
   "source": [
    "# 1. Load raw Data\n",
    "df = dp.load_data(r\"data\\raw data\\Hanoi Daily 10 years.csv\")\n",
    "\n",
    "\n",
    "# 2. basic preprocessing for all data set\n",
    "df = dp.basic_preprocessing(df=df)\n",
    "\n",
    "# 3. chia train, val, test (tỉ lệ 70/15/15)\n",
    "target_col = 'temp'\n",
    "train_size = 0.7\n",
    "val_size = 0.15\n",
    "n = len(df)\n",
    "\n",
    "train_df = df.iloc[:int(train_size*n)]\n",
    "val_df = df.iloc[int(train_size*n):int((train_size+val_size)*n)]\n",
    "test_df = df.iloc[int((train_size+val_size)*n):]\n",
    "\n",
    "# 4. Fit và transform trên preprocessing pipeline\n",
    "pipeline1 = pl.build_preprocessing_pipeline()\n",
    "\n",
    "# fit trên train\n",
    "pipeline1.fit(train_df)\n",
    "\n",
    "# transform \n",
    "train_processed = pipeline1.transform(train_df)\n",
    "val_processed = pipeline1.transform(val_df)\n",
    "test_processed = pipeline1.transform(test_df)\n",
    "\n",
    "\n",
    "# Tạo feature engineering\n",
    "column_lag = ['temp','tempmax', 'tempmin', 'dew', 'humidity', 'precip',\n",
    "    'precipprob', 'precipcover', 'windgust', 'windspeed',\n",
    "    'sealevelpressure', 'cloudcover', 'visibility', 'solarradiation', \n",
    "    'pressure_temp_index', 'wind_temp_index', 'temp_range', 'dew_spread']\n",
    "\n",
    "train_feat = fe.feature_engineering(train_processed, column= column_lag)\n",
    "val_feat = fe.feature_engineering(val_processed, column= column_lag)\n",
    "test_feat = fe.feature_engineering(test_processed, column= column_lag)\n",
    "print(train_feat.shape)"
   ]
  },
  {
   "cell_type": "code",
   "execution_count": 37,
   "id": "6efadf4d",
   "metadata": {},
   "outputs": [
    {
     "name": "stdout",
     "output_type": "stream",
     "text": [
      "Train: ((2562, 257), (2562,)), Val: ((549, 257), (549,)), Test: ((549, 257), (549,))\n"
     ]
    }
   ],
   "source": [
    "# Chia X, y riêng biệt\n",
    "X_train, y_train = train_feat.drop(columns=[target_col]), train_df[target_col]\n",
    "X_val, y_val = val_feat.drop(columns=[target_col]), val_df[target_col]\n",
    "X_test, y_test = test_feat.drop(columns=[target_col]), test_df[target_col]\n",
    "\n",
    "print(f\"Train: {X_train.shape, y_train.shape}, Val: {X_val.shape, y_val.shape}, Test: {X_test.shape, y_test.shape}\")"
   ]
  },
  {
   "cell_type": "code",
   "execution_count": 15,
   "id": "d967ba34",
   "metadata": {},
   "outputs": [],
   "source": [
    "# không để drop highly correlated ở preprocessing nữa, chuyển sang ở feature selection\n",
    "from src import feature_selection as fs\n",
    "dropHighCorr = fs.DropHighlyCorrelated()\n",
    "dropHighCorr.fit(X_train)\n",
    "X_train = dropHighCorr.transform(X_train)\n",
    "X_val = dropHighCorr.transform(X_val)\n",
    "X_test = dropHighCorr.transform(X_test)\n"
   ]
  },
  {
   "cell_type": "code",
   "execution_count": null,
   "id": "c2ab4bfa",
   "metadata": {},
   "outputs": [
    {
     "ename": "",
     "evalue": "",
     "output_type": "error",
     "traceback": [
      "\u001b[1;31mThe Kernel crashed while executing code in the current cell or a previous cell. \n",
      "\u001b[1;31mPlease review the code in the cell(s) to identify a possible cause of the failure. \n",
      "\u001b[1;31mClick <a href='https://aka.ms/vscodeJupyterKernelCrash'>here</a> for more info. \n",
      "\u001b[1;31mView Jupyter <a href='command:jupyter.viewOutput'>log</a> for further details."
     ]
    }
   ],
   "source": [
    "fs_pipeline_RF = pl.build_RF_featture_engineering_pipeline()\n",
    "fs_pipeline_ET = pl.build_ExTree_featture_engineering_pipeline()\n",
    "fs_pipeline_GB = pl.build_GB_featture_engineering_pipeline()"
   ]
  },
  {
   "cell_type": "code",
   "execution_count": 21,
   "id": "507fdee3",
   "metadata": {},
   "outputs": [],
   "source": [
    "# RF importance\n",
    "# fit trên train\n",
    "X_train = fs_pipeline_RF.fit_transform(X_train, y_train)\n",
    "\n",
    "# transform \n",
    "X_train = fs_pipeline_RF.transform(X_train)\n",
    "X_val = fs_pipeline_RF.transform(X_val)\n",
    "X_test = fs_pipeline_RF.transform(X_test)"
   ]
  },
  {
   "cell_type": "code",
   "execution_count": 22,
   "id": "386f9b14",
   "metadata": {},
   "outputs": [
    {
     "data": {
      "text/plain": [
       "Index(['temp_lag_1', 'feelslike_lag_1', 'pressure_temp_index_lag_1',\n",
       "       'feelslikemin_lag_1', 'windspeed_lag_1', 'windgust_lag_1',\n",
       "       'sunrise_lag_1', 'winddir_lag_1', 'solar_temp_index_lag_1',\n",
       "       'temp_roll_mean_14', 'wind_variability_lag_1', 'dew_spread_lag_1',\n",
       "       'tempmax_lag_1', 'temp_roll_mean_7', 'feelslikemax_lag_1',\n",
       "       'tempmax_roll_mean_14', 'dew_lag_1', 'wind_temp_index_lag_1',\n",
       "       'tempmin_roll_mean_14', 'pressure_temp_index_roll_mean_14',\n",
       "       'day_length_lag_1', 'solarradiation_roll_std_14',\n",
       "       'sealevelpressure_lag_1', 'sealevelpressure_roll_mean_14',\n",
       "       'sealevelpressure_roll_std_7', 'humidity_lag_1', 'dew_roll_mean_14',\n",
       "       'windgust_roll_mean_3', 'sunset_lag_1', 'precip_lag_1'],\n",
       "      dtype='object')"
      ]
     },
     "execution_count": 22,
     "metadata": {},
     "output_type": "execute_result"
    }
   ],
   "source": [
    "X_train.columns"
   ]
  },
  {
   "cell_type": "code",
   "execution_count": 32,
   "id": "7d615940",
   "metadata": {},
   "outputs": [],
   "source": [
    "# Extree importance\n",
    "# fit trên train\n",
    "fs_pipeline_ET.fit(X_train, y_train)\n",
    "\n",
    "# transform \n",
    "X_train = fs_pipeline_ET.transform(X_train)\n",
    "X_val = fs_pipeline_ET.transform(X_val)\n",
    "X_test = fs_pipeline_ET.transform(X_test)"
   ]
  },
  {
   "cell_type": "code",
   "execution_count": 47,
   "id": "b81d4ed4",
   "metadata": {},
   "outputs": [],
   "source": [
    "# chưa có feature selection\n",
    "# 1. RF\n",
    "## Default\n",
    "# a. Validation metrics: {'RMSE': 2.1278075895022885, 'R2': 0.8297628223226209, 'MAPE': 7.013125189028322}\n",
    "# b. Test metrics: {'RMSE': 1.7168173002419687, 'R2': 0.8638144750921892, 'MAPE': 5.359437239042012}\n",
    "\n",
    "## Best parameter\n",
    "# Validation metrics: {'RMSE': 1.6388776242029133, 'R2': 0.8990089808287993, 'MAPE': 5.741406234570231}\n",
    "# Test metrics: {'RMSE': 1.4337918013739446, 'R2': 0.9050150119360206, 'MAPE': 4.584963631819218}\n",
    "\n",
    "\n",
    "# 2. Extra Tree\n",
    "## Default\n",
    "# Validation metrics: {'RMSE': 1.5501069852687441, 'R2': 0.9096531427481926, 'MAPE': 5.289823867518864}\n",
    "# Test metrics: {'RMSE': 1.4094799560393934, 'R2': 0.9082088955219491, 'MAPE': 4.494487229026149}\n",
    "\n",
    "## Best parameter\n",
    "# Validation metrics: {'RMSE': 1.4981094962144423, 'R2': 0.9156127533286983, 'MAPE': 5.13799909932879}\n",
    "# Test metrics: {'RMSE': 1.3558239003827515, 'R2': 0.9150644784751033, 'MAPE': 4.317549688535942}\n",
    "\n",
    "# 3. GB\n",
    "## Default\n",
    "# Validation metrics: {'RMSE': 1.479398688181336, 'R2': 0.9177075178532362, 'MAPE': 5.0692414857715775}\n",
    "# Test metrics: {'RMSE': 1.3534994389764416, 'R2': 0.9153554603683042, 'MAPE': 4.1845167790637126}\n",
    "\n",
    "## Best parameter\n",
    "# Validation metrics: {'RMSE': 1.5011458815829, 'R2': 0.9152703326059204, 'MAPE': 5.158944802837902}\n",
    "# Test metrics: {'RMSE': 1.3430800523462543, 'R2': 0.9166536500947113, 'MAPE': 4.216884591360309}\n",
    "Task.current_task().close()"
   ]
  },
  {
   "cell_type": "markdown",
   "id": "99aa7da8",
   "metadata": {},
   "source": [
    "### Random Forest"
   ]
  },
  {
   "cell_type": "code",
   "execution_count": null,
   "id": "b1b2454a",
   "metadata": {},
   "outputs": [
    {
     "name": "stderr",
     "output_type": "stream",
     "text": [
      "███████████████████████████████ 100% | 24.99/24.99 MB [02:41<00:00,  6.47s/MB]: \n"
     ]
    }
   ],
   "source": [
    "# ! pip install plotly\n",
    "# === 1️ Khởi tạo Task (1 study = 1 Task) ===\n",
    "# Khởi tạo task mới cho mỗi lần experiemt/ study bằng Task.create ...\n",
    "# Hoặc nếu muốn tiếp tục với task cũ thì pass task id vào Task.get_task ...\n",
    "\n",
    "# mấy đứa tự tạo task mới cũng được, không thì cop id trong clearml\n",
    "# Nhớ đổi tên instance đi nhá, vd như task_1, logger_1\n",
    "Task.current_task().close()\n",
    "task = Task.get_task(task_id=\"7b83a27c498a4297a20d937179948683\")\n",
    "logger = task.get_logger()\n",
    "\n",
    "# Tạo task mới trong project Temperature Forecasting\n",
    "# task = Task.init(\n",
    "#     project_name=\"Temperature Forecasting\",     # tên project (nếu chưa có sẽ tự tạo)\n",
    "#     task_name=\"RF Optuna Tuning\", # tên task mới\n",
    "#     task_type=Task.TaskTypes.optimizer            # loại task (training / testing / optimizer ...)\n",
    "# )\n",
    "\n",
    "# print(\"✅ Task created successfully!\")\n",
    "# print(\"Task ID:\", task.id)\n"
   ]
  },
  {
   "cell_type": "code",
   "execution_count": 24,
   "id": "22dfd01f",
   "metadata": {},
   "outputs": [],
   "source": [
    "## A. default hyper parameter\n",
    "# 1. fit \n",
    "model1 = RandomForestRegressor(n_estimators = 100, min_samples_split=2, min_samples_leaf=1,min_impurity_decrease=0, \n",
    "                               max_depth= 7, max_features= None, bootstrap= False, oob_score= False, \n",
    "                               max_leaf_nodes= None, max_samples= None, random_state= 42, n_jobs= -1\n",
    "                               )\n",
    "model1.fit(X_train, y_train) \n",
    "\n",
    "# 2. predict\n",
    "y_pred_val = model1.predict(X_val) \n",
    "y_pred_test = model1.predict(X_test)"
   ]
  },
  {
   "cell_type": "code",
   "execution_count": 11,
   "id": "8a70dd81",
   "metadata": {},
   "outputs": [],
   "source": [
    "# Lấy feature importance\n",
    "importances = model1.feature_importances_\n",
    "\n",
    "# Tạo DataFrame hiển thị\n",
    "feat_importance = pd.DataFrame({\n",
    "    'Feature': X_train.columns,\n",
    "    'Importance': importances\n",
    "}).sort_values(by='Importance', ascending=False)\n",
    "\n",
    "#print(feat_importance)"
   ]
  },
  {
   "cell_type": "code",
   "execution_count": null,
   "id": "29b87314",
   "metadata": {},
   "outputs": [
    {
     "data": {
      "text/plain": [
       "Text(0.5, 0, 'Importance')"
      ]
     },
     "execution_count": 12,
     "metadata": {},
     "output_type": "execute_result"
    },
    {
     "data": {
      "image/png": "[encoded data removed]",
      "text/plain": [
       "<Figure size 1000x600 with 1 Axes>"
      ]
     },
     "metadata": {},
     "output_type": "display_data"
    }
   ],
   "source": [
    "plt.figure(figsize=(10, 6))\n",
    "plt.barh(feat_importance['Feature'][:15], feat_importance['Importance'][:15])\n",
    "plt.gca().invert_yaxis()\n",
    "plt.title(\"Top 15 Feature Importances (Random Forest)\")\n",
    "plt.xlabel(\"Importance\")\n",
    "#plt.show()\n"
   ]
  },
  {
   "cell_type": "code",
   "execution_count": 13,
   "id": "cf8c68be",
   "metadata": {},
   "outputs": [
    {
     "name": "stdout",
     "output_type": "stream",
     "text": [
      "Validation metrics: {'RMSE': 2.1278075895022885, 'R2': 0.8297628223226209, 'MAPE': 7.013125189028322}\n",
      "Test metrics: {'RMSE': 1.7168173002419687, 'R2': 0.8638144750921892, 'MAPE': 5.359437239042012}\n",
      "RandomForest model saved to models/RF_model.pkl\n"
     ]
    },
    {
     "data": {
      "text/plain": [
       "True"
      ]
     },
     "execution_count": 13,
     "metadata": {},
     "output_type": "execute_result"
    }
   ],
   "source": [
    "# Đánh giá sơ bộ trước khi tune\n",
    "\n",
    "# 3. Evaluate on validation\n",
    "default_val_metrics = evaluate(y_val, y_pred_val)\n",
    "print(\"Validation metrics:\", default_val_metrics)\n",
    "\n",
    "# 4. Evaluate on test\n",
    "default_test_metrics = evaluate(y_test, y_pred_test)\n",
    "print(\"Test metrics:\", default_test_metrics)\n",
    "\n",
    "# 5. Save model \n",
    "model_path = r'models/RF_model.pkl' \n",
    "joblib.dump(model1, model_path)\n",
    "print(f\"RandomForest model saved to {model_path}\")\n",
    "\n",
    "# 6 Log lên ClearML\n",
    "logger.report_scalar(\"Default Metrics\", \"RMSE_val\", default_val_metrics[\"RMSE\"], iteration=0)\n",
    "logger.report_scalar(\"Default Metrics\", \"R2_val\", default_val_metrics[\"R2\"], iteration=0)\n",
    "logger.report_scalar(\"Default Metrics\", \"MAPE_val\", default_val_metrics[\"MAPE\"], iteration=0)\n",
    "logger.report_scalar(\"Default Metrics\", \"RMSE_test\", default_test_metrics[\"RMSE\"], iteration=0)\n",
    "logger.report_scalar(\"Default Metrics\", \"R2_test\", default_test_metrics[\"R2\"], iteration=0)\n",
    "logger.report_scalar(\"Default Metrics\", \"MAPE_test\", default_test_metrics[\"MAPE\"], iteration=0)\n",
    "\n",
    "\n",
    "task.upload_artifact(\"Default Metrics\", {\n",
    "    \"Validation\": default_val_metrics,\n",
    "    \"Test\": default_test_metrics\n",
    "})\n"
   ]
  },
  {
   "cell_type": "code",
   "execution_count": 14,
   "id": "5a6482b0",
   "metadata": {},
   "outputs": [],
   "source": [
    "## B hyper parameter tuning\n",
    "# === 1 Định nghĩa objective của optuna ===\n",
    "def objective(trial):\n",
    "    # Hyperparameter space\n",
    "    params = {\n",
    "    'n_estimators' : trial.suggest_int('n_estimators', 400, 1000),\n",
    "    'max_depth' : trial.suggest_int('max_depth', 15, 35),\n",
    "    'min_samples_split' : trial.suggest_int('min_samples_split', 5, 20),\n",
    "    'min_samples_leaf' : trial.suggest_int('min_samples_leaf', 3, 8),\n",
    "    'min_impurity_decrease' : trial.suggest_float('min_impurity_decrease', 0.001, 0.5),\n",
    "    'max_features' : trial.suggest_categorical('max_features', ['sqrt']),\n",
    "    'bootstrap' : False,\n",
    "    'max_leaf_nodes' : trial.suggest_int('max_leaf_nodes', 400, 700),\n",
    "    'random_state' : 42, \n",
    "    'n_jobs' : -1 \n",
    "    }\n",
    "\n",
    "    # Time series CV\n",
    "    cv = TimeSeriesSplit(n_splits=5)\n",
    "    rmse_scores = []\n",
    "\n",
    "    for train_idx, val_idx in cv.split(X_train):\n",
    "        X_tr, X_val = X_train.iloc[train_idx], X_train.iloc[val_idx]\n",
    "        y_tr, y_val = y_train.iloc[train_idx], y_train.iloc[val_idx]\n",
    "\n",
    "        \n",
    "        # Model\n",
    "        model = RandomForestRegressor(**params)\n",
    "        model.fit(X_tr, y_tr)\n",
    "        y_pred_val = model.predict(X_val)\n",
    "\n",
    "        metrics = evaluate(y_val, y_pred_val)\n",
    "        rmse_scores.append(metrics['RMSE'])\n",
    "    \n",
    "    mean_rmse = np.mean(rmse_scores)\n",
    "\n",
    "    # === 2 Log thông tin của trial lên ClearML ===\n",
    "    # (a) Log RMSE cho mỗi trial\n",
    "    logger.report_scalar(title = 'Optuna Tuning', series = 'Trial RMSE', value = mean_rmse, iteration = trial.number)\n",
    "\n",
    "    # (b) Log toàn bộ tham số của trial (bảng tóm tắt)\n",
    "    params_table = pd.DataFrame([params])\n",
    "    logger.report_table(title=f\"Trial {trial.number} Parameters\", series=\"params\", iteration=trial.number, table_plot=params_table)\n",
    "\n",
    "    # Trả về RMSE trung bình của các cv để Optuna minimize\n",
    "    return mean_rmse\n"
   ]
  },
  {
   "cell_type": "code",
   "execution_count": 15,
   "id": "0eceb38e",
   "metadata": {},
   "outputs": [
    {
     "name": "stderr",
     "output_type": "stream",
     "text": [
      "[I 2025-10-21 03:59:58,940] A new study created in memory with name: no-name-b0ac1bec-9b73-4ea5-bfc5-ee16a8cc0d46\n",
      "[I 2025-10-21 04:00:14,491] Trial 0 finished with value: 1.7509401082865224 and parameters: {'n_estimators': 625, 'max_depth': 34, 'min_samples_split': 16, 'min_samples_leaf': 6, 'min_impurity_decrease': 0.07885330158077582, 'max_features': 'sqrt', 'max_leaf_nodes': 446}. Best is trial 0 with value: 1.7509401082865224.\n",
      "[I 2025-10-21 04:00:28,720] Trial 1 finished with value: 1.6277715374624464 and parameters: {'n_estimators': 434, 'max_depth': 33, 'min_samples_split': 14, 'min_samples_leaf': 7, 'min_impurity_decrease': 0.011271662653605422, 'max_features': 'sqrt', 'max_leaf_nodes': 691}. Best is trial 1 with value: 1.6277715374624464.\n",
      "[I 2025-10-21 04:00:48,479] Trial 2 finished with value: 1.8434452458104276 and parameters: {'n_estimators': 900, 'max_depth': 19, 'min_samples_split': 7, 'min_samples_leaf': 4, 'min_impurity_decrease': 0.1528168792368093, 'max_features': 'sqrt', 'max_leaf_nodes': 557}. Best is trial 1 with value: 1.6277715374624464.\n",
      "[I 2025-10-21 04:01:02,223] Trial 3 finished with value: 1.83885292337709 and parameters: {'n_estimators': 659, 'max_depth': 21, 'min_samples_split': 14, 'min_samples_leaf': 3, 'min_impurity_decrease': 0.14678017961907386, 'max_features': 'sqrt', 'max_leaf_nodes': 510}. Best is trial 1 with value: 1.6277715374624464.\n",
      "[I 2025-10-21 04:01:14,964] Trial 4 finished with value: 1.9643463268681998 and parameters: {'n_estimators': 674, 'max_depth': 31, 'min_samples_split': 8, 'min_samples_leaf': 6, 'min_impurity_decrease': 0.2966148698621592, 'max_features': 'sqrt', 'max_leaf_nodes': 413}. Best is trial 1 with value: 1.6277715374624464.\n",
      "[I 2025-10-21 04:01:29,060] Trial 5 finished with value: 2.0641430521386814 and parameters: {'n_estimators': 765, 'max_depth': 18, 'min_samples_split': 6, 'min_samples_leaf': 8, 'min_impurity_decrease': 0.48285038450420514, 'max_features': 'sqrt', 'max_leaf_nodes': 643}. Best is trial 1 with value: 1.6277715374624464.\n",
      "[I 2025-10-21 04:01:41,992] Trial 6 finished with value: 1.7263385771832738 and parameters: {'n_estimators': 583, 'max_depth': 17, 'min_samples_split': 15, 'min_samples_leaf': 5, 'min_impurity_decrease': 0.06189707918754463, 'max_features': 'sqrt', 'max_leaf_nodes': 549}. Best is trial 1 with value: 1.6277715374624464.\n",
      "[I 2025-10-21 04:01:51,123] Trial 7 finished with value: 1.8481952383768054 and parameters: {'n_estimators': 420, 'max_depth': 34, 'min_samples_split': 9, 'min_samples_leaf': 6, 'min_impurity_decrease': 0.15654382696861607, 'max_features': 'sqrt', 'max_leaf_nodes': 556}. Best is trial 1 with value: 1.6277715374624464.\n",
      "[I 2025-10-21 04:02:05,638] Trial 8 finished with value: 2.060704816558438 and parameters: {'n_estimators': 728, 'max_depth': 18, 'min_samples_split': 20, 'min_samples_leaf': 7, 'min_impurity_decrease': 0.46980997184053036, 'max_features': 'sqrt', 'max_leaf_nodes': 669}. Best is trial 1 with value: 1.6277715374624464.\n",
      "[I 2025-10-21 04:02:26,648] Trial 9 finished with value: 1.6504032179996426 and parameters: {'n_estimators': 759, 'max_depth': 34, 'min_samples_split': 6, 'min_samples_leaf': 4, 'min_impurity_decrease': 0.023568417166358494, 'max_features': 'sqrt', 'max_leaf_nodes': 497}. Best is trial 1 with value: 1.6277715374624464.\n",
      "[I 2025-10-21 04:02:34,463] Trial 10 finished with value: 1.9802510395128454 and parameters: {'n_estimators': 412, 'max_depth': 27, 'min_samples_split': 11, 'min_samples_leaf': 8, 'min_impurity_decrease': 0.3204041627313105, 'max_features': 'sqrt', 'max_leaf_nodes': 620}. Best is trial 1 with value: 1.6277715374624464.\n",
      "[I 2025-10-21 04:03:04,717] Trial 11 finished with value: 1.6160107202903298 and parameters: {'n_estimators': 897, 'max_depth': 29, 'min_samples_split': 11, 'min_samples_leaf': 4, 'min_impurity_decrease': 0.008851822693701772, 'max_features': 'sqrt', 'max_leaf_nodes': 480}. Best is trial 11 with value: 1.6160107202903298.\n",
      "[I 2025-10-21 04:03:41,957] Trial 12 finished with value: 1.611717238538556 and parameters: {'n_estimators': 970, 'max_depth': 28, 'min_samples_split': 12, 'min_samples_leaf': 3, 'min_impurity_decrease': 0.0063957805072579746, 'max_features': 'sqrt', 'max_leaf_nodes': 465}. Best is trial 12 with value: 1.611717238538556.\n",
      "[I 2025-10-21 04:04:03,422] Trial 13 finished with value: 1.903150127635346 and parameters: {'n_estimators': 978, 'max_depth': 27, 'min_samples_split': 11, 'min_samples_leaf': 3, 'min_impurity_decrease': 0.2179881859884533, 'max_features': 'sqrt', 'max_leaf_nodes': 454}. Best is trial 12 with value: 1.611717238538556.\n",
      "[I 2025-10-21 04:04:22,184] Trial 14 finished with value: 1.7716911549618417 and parameters: {'n_estimators': 866, 'max_depth': 24, 'min_samples_split': 11, 'min_samples_leaf': 4, 'min_impurity_decrease': 0.09457878308525028, 'max_features': 'sqrt', 'max_leaf_nodes': 481}. Best is trial 12 with value: 1.611717238538556.\n",
      "[I 2025-10-21 04:04:40,104] Trial 15 finished with value: 2.0260795073462594 and parameters: {'n_estimators': 1000, 'max_depth': 30, 'min_samples_split': 18, 'min_samples_leaf': 3, 'min_impurity_decrease': 0.39919943967042937, 'max_features': 'sqrt', 'max_leaf_nodes': 412}. Best is trial 12 with value: 1.611717238538556.\n",
      "[I 2025-10-21 04:04:57,633] Trial 16 finished with value: 1.9153156404603604 and parameters: {'n_estimators': 858, 'max_depth': 25, 'min_samples_split': 12, 'min_samples_leaf': 5, 'min_impurity_decrease': 0.2330274048388413, 'max_features': 'sqrt', 'max_leaf_nodes': 534}. Best is trial 12 with value: 1.611717238538556.\n",
      "[I 2025-10-21 04:05:27,112] Trial 17 finished with value: 1.619644060809137 and parameters: {'n_estimators': 927, 'max_depth': 29, 'min_samples_split': 9, 'min_samples_leaf': 4, 'min_impurity_decrease': 0.011331774777394, 'max_features': 'sqrt', 'max_leaf_nodes': 458}. Best is trial 12 with value: 1.611717238538556.\n",
      "[I 2025-10-21 04:05:43,814] Trial 18 finished with value: 1.8187422099685615 and parameters: {'n_estimators': 798, 'max_depth': 22, 'min_samples_split': 13, 'min_samples_leaf': 3, 'min_impurity_decrease': 0.13093527753025283, 'max_features': 'sqrt', 'max_leaf_nodes': 593}. Best is trial 12 with value: 1.611717238538556.\n",
      "[I 2025-10-21 04:06:03,027] Trial 19 finished with value: 1.722267795865152 and parameters: {'n_estimators': 824, 'max_depth': 15, 'min_samples_split': 17, 'min_samples_leaf': 5, 'min_impurity_decrease': 0.06038411897944618, 'max_features': 'sqrt', 'max_leaf_nodes': 509}. Best is trial 12 with value: 1.611717238538556.\n",
      "[I 2025-10-21 04:06:20,524] Trial 20 finished with value: 1.9590460050099172 and parameters: {'n_estimators': 938, 'max_depth': 28, 'min_samples_split': 10, 'min_samples_leaf': 4, 'min_impurity_decrease': 0.2933981445589344, 'max_features': 'sqrt', 'max_leaf_nodes': 476}. Best is trial 12 with value: 1.611717238538556.\n",
      "[I 2025-10-21 04:06:49,464] Trial 21 finished with value: 1.6242388353242294 and parameters: {'n_estimators': 941, 'max_depth': 30, 'min_samples_split': 9, 'min_samples_leaf': 4, 'min_impurity_decrease': 0.01362682122009942, 'max_features': 'sqrt', 'max_leaf_nodes': 445}. Best is trial 12 with value: 1.611717238538556.\n",
      "[I 2025-10-21 04:07:22,928] Trial 22 finished with value: 1.6097896822825948 and parameters: {'n_estimators': 910, 'max_depth': 28, 'min_samples_split': 9, 'min_samples_leaf': 3, 'min_impurity_decrease': 0.003501511120214604, 'max_features': 'sqrt', 'max_leaf_nodes': 467}. Best is trial 22 with value: 1.6097896822825948.\n",
      "[I 2025-10-21 04:07:42,981] Trial 23 finished with value: 1.7694598641902473 and parameters: {'n_estimators': 872, 'max_depth': 25, 'min_samples_split': 13, 'min_samples_leaf': 3, 'min_impurity_decrease': 0.09403804201915195, 'max_features': 'sqrt', 'max_leaf_nodes': 418}. Best is trial 22 with value: 1.6097896822825948.\n",
      "[I 2025-10-21 04:08:06,577] Trial 24 finished with value: 1.6965722881401206 and parameters: {'n_estimators': 972, 'max_depth': 31, 'min_samples_split': 5, 'min_samples_leaf': 3, 'min_impurity_decrease': 0.04631227225210787, 'max_features': 'sqrt', 'max_leaf_nodes': 478}. Best is trial 22 with value: 1.6097896822825948.\n",
      "[I 2025-10-21 04:08:22,693] Trial 25 finished with value: 1.8756807933181239 and parameters: {'n_estimators': 831, 'max_depth': 27, 'min_samples_split': 12, 'min_samples_leaf': 3, 'min_impurity_decrease': 0.1852467940336832, 'max_features': 'sqrt', 'max_leaf_nodes': 523}. Best is trial 22 with value: 1.6097896822825948.\n",
      "[I 2025-10-21 04:08:44,520] Trial 26 finished with value: 1.8019992968592533 and parameters: {'n_estimators': 911, 'max_depth': 23, 'min_samples_split': 10, 'min_samples_leaf': 4, 'min_impurity_decrease': 0.11693900925625679, 'max_features': 'sqrt', 'max_leaf_nodes': 579}. Best is trial 22 with value: 1.6097896822825948.\n",
      "[I 2025-10-21 04:08:59,875] Trial 27 finished with value: 1.6994573529912453 and parameters: {'n_estimators': 553, 'max_depth': 32, 'min_samples_split': 8, 'min_samples_leaf': 5, 'min_impurity_decrease': 0.046874052738652854, 'max_features': 'sqrt', 'max_leaf_nodes': 436}. Best is trial 22 with value: 1.6097896822825948.\n",
      "[I 2025-10-21 04:09:21,450] Trial 28 finished with value: 1.7858181844398213 and parameters: {'n_estimators': 956, 'max_depth': 28, 'min_samples_split': 10, 'min_samples_leaf': 3, 'min_impurity_decrease': 0.10448165270051003, 'max_features': 'sqrt', 'max_leaf_nodes': 492}. Best is trial 22 with value: 1.6097896822825948.\n",
      "[I 2025-10-21 04:09:39,565] Trial 29 finished with value: 1.7489141417688365 and parameters: {'n_estimators': 791, 'max_depth': 26, 'min_samples_split': 8, 'min_samples_leaf': 4, 'min_impurity_decrease': 0.07707918688083214, 'max_features': 'sqrt', 'max_leaf_nodes': 437}. Best is trial 22 with value: 1.6097896822825948.\n",
      "[I 2025-10-21 04:10:14,391] Trial 30 finished with value: 1.6124097800683728 and parameters: {'n_estimators': 1000, 'max_depth': 30, 'min_samples_split': 16, 'min_samples_leaf': 3, 'min_impurity_decrease': 0.0032161166876876015, 'max_features': 'sqrt', 'max_leaf_nodes': 467}. Best is trial 22 with value: 1.6097896822825948.\n",
      "[I 2025-10-21 04:10:41,645] Trial 31 finished with value: 1.6714414179887913 and parameters: {'n_estimators': 990, 'max_depth': 29, 'min_samples_split': 16, 'min_samples_leaf': 3, 'min_impurity_decrease': 0.03394676674501902, 'max_features': 'sqrt', 'max_leaf_nodes': 467}. Best is trial 22 with value: 1.6097896822825948.\n",
      "[I 2025-10-21 04:11:13,882] Trial 32 finished with value: 1.612086472069685 and parameters: {'n_estimators': 893, 'max_depth': 32, 'min_samples_split': 14, 'min_samples_leaf': 3, 'min_impurity_decrease': 0.0016261905046777187, 'max_features': 'sqrt', 'max_leaf_nodes': 427}. Best is trial 22 with value: 1.6097896822825948.\n",
      "[I 2025-10-21 04:11:34,321] Trial 33 finished with value: 1.7339688016463868 and parameters: {'n_estimators': 891, 'max_depth': 32, 'min_samples_split': 15, 'min_samples_leaf': 3, 'min_impurity_decrease': 0.06929274985732081, 'max_features': 'sqrt', 'max_leaf_nodes': 401}. Best is trial 22 with value: 1.6097896822825948.\n",
      "[I 2025-10-21 04:11:58,965] Trial 34 finished with value: 1.6762143787593928 and parameters: {'n_estimators': 952, 'max_depth': 33, 'min_samples_split': 14, 'min_samples_leaf': 3, 'min_impurity_decrease': 0.036480943281412145, 'max_features': 'sqrt', 'max_leaf_nodes': 433}. Best is trial 22 with value: 1.6097896822825948.\n",
      "[I 2025-10-21 04:12:14,704] Trial 35 finished with value: 1.617200950578145 and parameters: {'n_estimators': 476, 'max_depth': 35, 'min_samples_split': 18, 'min_samples_leaf': 3, 'min_impurity_decrease': 0.0034536208105111887, 'max_features': 'sqrt', 'max_leaf_nodes': 428}. Best is trial 22 with value: 1.6097896822825948.\n",
      "[I 2025-10-21 04:12:45,314] Trial 36 finished with value: 1.6120696834341532 and parameters: {'n_estimators': 837, 'max_depth': 31, 'min_samples_split': 15, 'min_samples_leaf': 4, 'min_impurity_decrease': 0.0015711286226615662, 'max_features': 'sqrt', 'max_leaf_nodes': 459}. Best is trial 22 with value: 1.6097896822825948.\n",
      "[I 2025-10-21 04:13:06,111] Trial 37 finished with value: 1.7470398980714983 and parameters: {'n_estimators': 832, 'max_depth': 32, 'min_samples_split': 15, 'min_samples_leaf': 5, 'min_impurity_decrease': 0.07686328413289813, 'max_features': 'sqrt', 'max_leaf_nodes': 453}. Best is trial 22 with value: 1.6097896822825948.\n",
      "[I 2025-10-21 04:13:20,437] Trial 38 finished with value: 1.8756677913425115 and parameters: {'n_estimators': 706, 'max_depth': 31, 'min_samples_split': 14, 'min_samples_leaf': 4, 'min_impurity_decrease': 0.18125906630812108, 'max_features': 'sqrt', 'max_leaf_nodes': 502}. Best is trial 22 with value: 1.6097896822825948.\n",
      "[I 2025-10-21 04:13:36,616] Trial 39 finished with value: 1.6960330536512067 and parameters: {'n_estimators': 644, 'max_depth': 35, 'min_samples_split': 13, 'min_samples_leaf': 7, 'min_impurity_decrease': 0.043925280947401966, 'max_features': 'sqrt', 'max_leaf_nodes': 524}. Best is trial 22 with value: 1.6097896822825948.\n",
      "[I 2025-10-21 04:13:49,937] Trial 40 finished with value: 1.9981956295485896 and parameters: {'n_estimators': 749, 'max_depth': 33, 'min_samples_split': 17, 'min_samples_leaf': 4, 'min_impurity_decrease': 0.34456233850269835, 'max_features': 'sqrt', 'max_leaf_nodes': 403}. Best is trial 22 with value: 1.6097896822825948.\n",
      "[I 2025-10-21 04:14:14,032] Trial 41 finished with value: 1.6717898781040397 and parameters: {'n_estimators': 918, 'max_depth': 30, 'min_samples_split': 16, 'min_samples_leaf': 3, 'min_impurity_decrease': 0.03403357781160215, 'max_features': 'sqrt', 'max_leaf_nodes': 466}. Best is trial 22 with value: 1.6097896822825948.\n",
      "[I 2025-10-21 04:14:46,198] Trial 42 finished with value: 1.6119050243419963 and parameters: {'n_estimators': 885, 'max_depth': 28, 'min_samples_split': 17, 'min_samples_leaf': 3, 'min_impurity_decrease': 0.0010829761128161395, 'max_features': 'sqrt', 'max_leaf_nodes': 423}. Best is trial 22 with value: 1.6097896822825948.\n",
      "[I 2025-10-21 04:15:17,657] Trial 43 finished with value: 1.615725144003926 and parameters: {'n_estimators': 876, 'max_depth': 28, 'min_samples_split': 19, 'min_samples_leaf': 3, 'min_impurity_decrease': 0.0018586494484055308, 'max_features': 'sqrt', 'max_leaf_nodes': 428}. Best is trial 22 with value: 1.6097896822825948.\n",
      "[I 2025-10-21 04:15:37,618] Trial 44 finished with value: 1.7329312817972622 and parameters: {'n_estimators': 847, 'max_depth': 27, 'min_samples_split': 14, 'min_samples_leaf': 3, 'min_impurity_decrease': 0.06845333962016728, 'max_features': 'sqrt', 'max_leaf_nodes': 446}. Best is trial 22 with value: 1.6097896822825948.\n",
      "[I 2025-10-21 04:15:58,853] Trial 45 finished with value: 1.6576162547512054 and parameters: {'n_estimators': 790, 'max_depth': 29, 'min_samples_split': 17, 'min_samples_leaf': 6, 'min_impurity_decrease': 0.02539657213470542, 'max_features': 'sqrt', 'max_leaf_nodes': 422}. Best is trial 22 with value: 1.6097896822825948.\n",
      "[I 2025-10-21 04:16:22,934] Trial 46 finished with value: 1.7137174045138308 and parameters: {'n_estimators': 910, 'max_depth': 26, 'min_samples_split': 15, 'min_samples_leaf': 4, 'min_impurity_decrease': 0.05559490275855768, 'max_features': 'sqrt', 'max_leaf_nodes': 698}. Best is trial 22 with value: 1.6097896822825948.\n",
      "[I 2025-10-21 04:16:42,021] Trial 47 finished with value: 1.8179235263324987 and parameters: {'n_estimators': 889, 'max_depth': 26, 'min_samples_split': 12, 'min_samples_leaf': 4, 'min_impurity_decrease': 0.13153979472669405, 'max_features': 'sqrt', 'max_leaf_nodes': 491}. Best is trial 22 with value: 1.6097896822825948.\n",
      "[I 2025-10-21 04:17:04,109] Trial 48 finished with value: 1.7682152739145036 and parameters: {'n_estimators': 964, 'max_depth': 31, 'min_samples_split': 7, 'min_samples_leaf': 3, 'min_impurity_decrease': 0.09177636663764206, 'max_features': 'sqrt', 'max_leaf_nodes': 409}. Best is trial 22 with value: 1.6097896822825948.\n",
      "[I 2025-10-21 04:17:28,168] Trial 49 finished with value: 1.651821151282001 and parameters: {'n_estimators': 815, 'max_depth': 33, 'min_samples_split': 20, 'min_samples_leaf': 3, 'min_impurity_decrease': 0.02268812877641265, 'max_features': 'sqrt', 'max_leaf_nodes': 444}. Best is trial 22 with value: 1.6097896822825948.\n"
     ]
    },
    {
     "name": "stdout",
     "output_type": "stream",
     "text": [
      "Best parameters: {'n_estimators': 910, 'max_depth': 28, 'min_samples_split': 9, 'min_samples_leaf': 3, 'min_impurity_decrease': 0.003501511120214604, 'max_features': 'sqrt', 'max_leaf_nodes': 467}\n",
      "Best RMSE: 1.6097896822825948\n"
     ]
    }
   ],
   "source": [
    "# === 3 Chạy Optuna study ===\n",
    "study = optuna.create_study(direction='minimize', sampler=sampler)  # minimize RMSE\n",
    "study.optimize(objective, n_trials=50)\n",
    "print(\"Best parameters:\", study.best_trial.params)\n",
    "print(\"Best RMSE:\", study.best_value)\n"
   ]
  },
  {
   "cell_type": "code",
   "execution_count": 16,
   "id": "9df8a384",
   "metadata": {},
   "outputs": [
    {
     "name": "stdout",
     "output_type": "stream",
     "text": [
      "Validation metrics: {'RMSE': 1.6388776242029133, 'R2': 0.8990089808287993, 'MAPE': 5.741406234570231}\n",
      "Test metrics: {'RMSE': 1.4337918013739446, 'R2': 0.9050150119360206, 'MAPE': 4.584963631819218}\n",
      "RandomForest model saved to models/Tuning_RF_model.pkl\n"
     ]
    },
    {
     "data": {
      "text/plain": [
       "True"
      ]
     },
     "execution_count": 16,
     "metadata": {},
     "output_type": "execute_result"
    }
   ],
   "source": [
    "# === 4 Log kết quả tổng hợp ===\n",
    "task.upload_artifact(\"Best Parameters\", study.best_trial.params)\n",
    "\n",
    "# Fit lại mô hình với best params\n",
    "best_model = RandomForestRegressor(**study.best_trial.params)\n",
    "best_model.fit(X_train, y_train)\n",
    "\n",
    "# Predict\n",
    "y_pred_val = best_model.predict(X_val)\n",
    "y_pred_test = best_model.predict(X_test)\n",
    "\n",
    "# Evaluate on validation\n",
    "best_val_metrics = evaluate(y_val, y_pred_val)\n",
    "print(\"Validation metrics:\", best_val_metrics)\n",
    "\n",
    "# Evaluate on test\n",
    "best_test_metrics = evaluate(y_test, y_pred_test)\n",
    "print(\"Test metrics:\", best_test_metrics)\n",
    "\n",
    "\n",
    "# 6 Log lên ClearML\n",
    "logger.report_scalar(\"Best Metrics\", \"RMSE_val\", best_val_metrics[\"RMSE\"], iteration=0)\n",
    "logger.report_scalar(\"Best Metrics\", \"R2_val\", best_val_metrics[\"R2\"], iteration=0)\n",
    "logger.report_scalar(\"Best Metrics\", \"MAPE_val\", best_val_metrics[\"MAPE\"], iteration=0)\n",
    "logger.report_scalar(\"Best Metrics\", \"RMSE_test\", best_test_metrics[\"RMSE\"], iteration=0)\n",
    "logger.report_scalar(\"Best Metrics\", \"R2_test\", best_test_metrics[\"R2\"], iteration=0)\n",
    "logger.report_scalar(\"Best Metrics\", \"MAPE_test\", best_test_metrics[\"MAPE\"], iteration=0)\n",
    "\n",
    "\n",
    "# Upload artifact tổng hợp\n",
    "task.upload_artifact(\"Best Metrics\", {\n",
    "    \"Validation\": best_val_metrics,\n",
    "    \"Test\": best_test_metrics\n",
    "})\n",
    "\n",
    "\n",
    "# Save & upload model\n",
    "model_path = r'models/Tuning_RF_model.pkl' \n",
    "joblib.dump(best_model, model_path)\n",
    "print(f\"RandomForest model saved to {model_path}\")\n",
    "task.upload_artifact(\"Best Model\", model_path)"
   ]
  },
  {
   "cell_type": "code",
   "execution_count": 17,
   "id": "3c0d8058",
   "metadata": {},
   "outputs": [],
   "source": [
    "# === 6️ Vẽ biểu đồ RMSE theo trial  ===\n",
    "fig = plt.figure(figsize=(7, 4))\n",
    "plt.plot([t.value for t in study.trials])\n",
    "plt.xlabel(\"Trial\")\n",
    "plt.ylabel(\"RMSE\")\n",
    "plt.title(\"Optuna RMSE per Trial\")\n",
    "\n",
    "logger.report_matplotlib_figure(\n",
    "    title=\"Optuna Performance\", \n",
    "    series=\"RMSE Curve\", \n",
    "    figure=fig,\n",
    "    iteration=len(study.trials)\n",
    ")\n",
    "plt.close(fig)\n"
   ]
  },
  {
   "cell_type": "code",
   "execution_count": 38,
   "id": "dbb9e7ca",
   "metadata": {},
   "outputs": [],
   "source": [
    "\n",
    "# === 7️ Kết thúc Task ===\n",
    "task.close()"
   ]
  },
  {
   "cell_type": "code",
   "execution_count": 20,
   "id": "1417c76d",
   "metadata": {},
   "outputs": [
    {
     "data": {
      "application/vnd.plotly.v1+json": {
       "config": {
        "plotlyServerURL": "https://plot.ly"
       },
       "data": [
        {
         "mode": "markers",
         "name": "Objective Value",
         "type": "scatter",
         "x": [
          0,
          1,
          2,
          3,
          4,
          5,
          6,
          7,
          8,
          9,
          10,
          11,
          12,
          13,
          14,
          15,
          16,
          17,
          18,
          19,
          20,
          21,
          22,
          23,
          24,
          25,
          26,
          27,
          28,
          29,
          30,
          31,
          32,
          33,
          34,
          35,
          36,
          37,
          38,
          39,
          40,
          41,
          42,
          43,
          44,
          45,
          46,
          47,
          48,
          49
         ],
         "y": [
          1.7509401082865224,
          1.6277715374624464,
          1.8434452458104276,
          1.83885292337709,
          1.9643463268681998,
          2.0641430521386814,
          1.7263385771832738,
          1.8481952383768054,
          2.060704816558438,
          1.6504032179996426,
          1.9802510395128454,
          1.6160107202903298,
          1.611717238538556,
          1.903150127635346,
          1.7716911549618417,
          2.0260795073462594,
          1.9153156404603604,
          1.619644060809137,
          1.8187422099685615,
          1.722267795865152,
          1.9590460050099172,
          1.6242388353242294,
          1.6097896822825948,
          1.7694598641902473,
          1.6965722881401206,
          1.8756807933181239,
          1.8019992968592533,
          1.6994573529912453,
          1.7858181844398213,
          1.7489141417688365,
          1.6124097800683728,
          1.6714414179887913,
          1.612086472069685,
          1.7339688016463868,
          1.6762143787593928,
          1.617200950578145,
          1.6120696834341532,
          1.7470398980714983,
          1.8756677913425115,
          1.6960330536512067,
          1.9981956295485896,
          1.6717898781040397,
          1.6119050243419963,
          1.615725144003926,
          1.7329312817972622,
          1.6576162547512054,
          1.7137174045138308,
          1.8179235263324987,
          1.7682152739145036,
          1.651821151282001
         ]
        },
        {
         "mode": "lines",
         "name": "Best Value",
         "type": "scatter",
         "x": [
          0,
          1,
          2,
          3,
          4,
          5,
          6,
          7,
          8,
          9,
          10,
          11,
          12,
          13,
          14,
          15,
          16,
          17,
          18,
          19,
          20,
          21,
          22,
          23,
          24,
          25,
          26,
          27,
          28,
          29,
          30,
          31,
          32,
          33,
          34,
          35,
          36,
          37,
          38,
          39,
          40,
          41,
          42,
          43,
          44,
          45,
          46,
          47,
          48,
          49
         ],
         "y": [
          1.7509401082865224,
          1.6277715374624464,
          1.6277715374624464,
          1.6277715374624464,
          1.6277715374624464,
          1.6277715374624464,
          1.6277715374624464,
          1.6277715374624464,
          1.6277715374624464,
          1.6277715374624464,
          1.6277715374624464,
          1.6160107202903298,
          1.611717238538556,
          1.611717238538556,
          1.611717238538556,
          1.611717238538556,
          1.611717238538556,
          1.611717238538556,
          1.611717238538556,
          1.611717238538556,
          1.611717238538556,
          1.611717238538556,
          1.6097896822825948,
          1.6097896822825948,
          1.6097896822825948,
          1.6097896822825948,
          1.6097896822825948,
          1.6097896822825948,
          1.6097896822825948,
          1.6097896822825948,
          1.6097896822825948,
          1.6097896822825948,
          1.6097896822825948,
          1.6097896822825948,
          1.6097896822825948,
          1.6097896822825948,
          1.6097896822825948,
          1.6097896822825948,
          1.6097896822825948,
          1.6097896822825948,
          1.6097896822825948,
          1.6097896822825948,
          1.6097896822825948,
          1.6097896822825948,
          1.6097896822825948,
          1.6097896822825948,
          1.6097896822825948,
          1.6097896822825948,
          1.6097896822825948,
          1.6097896822825948
         ]
        },
        {
         "marker": {
          "color": "#cccccc"
         },
         "mode": "markers",
         "name": "Infeasible Trial",
         "showlegend": false,
         "type": "scatter",
         "x": [],
         "y": []
        }
       ],
       "layout": {
        "template": {
         "data": {
          "bar": [
           {
            "error_x": {
             "color": "#2a3f5f"
            },
            "error_y": {
             "color": "#2a3f5f"
            },
            "marker": {
             "line": {
              "color": "#E5ECF6",
              "width": 0.5
             },
             "pattern": {
              "fillmode": "overlay",
              "size": 10,
              "solidity": 0.2
             }
            },
            "type": "bar"
           }
          ],
          "barpolar": [
           {
            "marker": {
             "line": {
              "color": "#E5ECF6",
              "width": 0.5
             },
             "pattern": {
              "fillmode": "overlay",
              "size": 10,
              "solidity": 0.2
             }
            },
            "type": "barpolar"
           }
          ],
          "carpet": [
           {
            "aaxis": {
             "endlinecolor": "#2a3f5f",
             "gridcolor": "white",
             "linecolor": "white",
             "minorgridcolor": "white",
             "startlinecolor": "#2a3f5f"
            },
            "baxis": {
             "endlinecolor": "#2a3f5f",
             "gridcolor": "white",
             "linecolor": "white",
             "minorgridcolor": "white",
             "startlinecolor": "#2a3f5f"
            },
            "type": "carpet"
           }
          ],
          "choropleth": [
           {
            "colorbar": {
             "outlinewidth": 0,
             "ticks": ""
            },
            "type": "choropleth"
           }
          ],
          "contour": [
           {
            "colorbar": {
             "outlinewidth": 0,
             "ticks": ""
            },
            "colorscale": [
             [
              0,
              "#0d0887"
             ],
             [
              0.1111111111111111,
              "#46039f"
             ],
             [
              0.2222222222222222,
              "#7201a8"
             ],
             [
              0.3333333333333333,
              "#9c179e"
             ],
             [
              0.4444444444444444,
              "#bd3786"
             ],
             [
              0.5555555555555556,
              "#d8576b"
             ],
             [
              0.6666666666666666,
              "#ed7953"
             ],
             [
              0.7777777777777778,
              "#fb9f3a"
             ],
             [
              0.8888888888888888,
              "#fdca26"
             ],
             [
              1,
              "#f0f921"
             ]
            ],
            "type": "contour"
           }
          ],
          "contourcarpet": [
           {
            "colorbar": {
             "outlinewidth": 0,
             "ticks": ""
            },
            "type": "contourcarpet"
           }
          ],
          "heatmap": [
           {
            "colorbar": {
             "outlinewidth": 0,
             "ticks": ""
            },
            "colorscale": [
             [
              0,
              "#0d0887"
             ],
             [
              0.1111111111111111,
              "#46039f"
             ],
             [
              0.2222222222222222,
              "#7201a8"
             ],
             [
              0.3333333333333333,
              "#9c179e"
             ],
             [
              0.4444444444444444,
              "#bd3786"
             ],
             [
              0.5555555555555556,
              "#d8576b"
             ],
             [
              0.6666666666666666,
              "#ed7953"
             ],
             [
              0.7777777777777778,
              "#fb9f3a"
             ],
             [
              0.8888888888888888,
              "#fdca26"
             ],
             [
              1,
              "#f0f921"
             ]
            ],
            "type": "heatmap"
           }
          ],
          "histogram": [
           {
            "marker": {
             "pattern": {
              "fillmode": "overlay",
              "size": 10,
              "solidity": 0.2
             }
            },
            "type": "histogram"
           }
          ],
          "histogram2d": [
           {
            "colorbar": {
             "outlinewidth": 0,
             "ticks": ""
            },
            "colorscale": [
             [
              0,
              "#0d0887"
             ],
             [
              0.1111111111111111,
              "#46039f"
             ],
             [
              0.2222222222222222,
              "#7201a8"
             ],
             [
              0.3333333333333333,
              "#9c179e"
             ],
             [
              0.4444444444444444,
              "#bd3786"
             ],
             [
              0.5555555555555556,
              "#d8576b"
             ],
             [
              0.6666666666666666,
              "#ed7953"
             ],
             [
              0.7777777777777778,
              "#fb9f3a"
             ],
             [
              0.8888888888888888,
              "#fdca26"
             ],
             [
              1,
              "#f0f921"
             ]
            ],
            "type": "histogram2d"
           }
          ],
          "histogram2dcontour": [
           {
            "colorbar": {
             "outlinewidth": 0,
             "ticks": ""
            },
            "colorscale": [
             [
              0,
              "#0d0887"
             ],
             [
              0.1111111111111111,
              "#46039f"
             ],
             [
              0.2222222222222222,
              "#7201a8"
             ],
             [
              0.3333333333333333,
              "#9c179e"
             ],
             [
              0.4444444444444444,
              "#bd3786"
             ],
             [
              0.5555555555555556,
              "#d8576b"
             ],
             [
              0.6666666666666666,
              "#ed7953"
             ],
             [
              0.7777777777777778,
              "#fb9f3a"
             ],
             [
              0.8888888888888888,
              "#fdca26"
             ],
             [
              1,
              "#f0f921"
             ]
            ],
            "type": "histogram2dcontour"
           }
          ],
          "mesh3d": [
           {
            "colorbar": {
             "outlinewidth": 0,
             "ticks": ""
            },
            "type": "mesh3d"
           }
          ],
          "parcoords": [
           {
            "line": {
             "colorbar": {
              "outlinewidth": 0,
              "ticks": ""
             }
            },
            "type": "parcoords"
           }
          ],
          "pie": [
           {
            "automargin": true,
            "type": "pie"
           }
          ],
          "scatter": [
           {
            "fillpattern": {
             "fillmode": "overlay",
             "size": 10,
             "solidity": 0.2
            },
            "type": "scatter"
           }
          ],
          "scatter3d": [
           {
            "line": {
             "colorbar": {
              "outlinewidth": 0,
              "ticks": ""
             }
            },
            "marker": {
             "colorbar": {
              "outlinewidth": 0,
              "ticks": ""
             }
            },
            "type": "scatter3d"
           }
          ],
          "scattercarpet": [
           {
            "marker": {
             "colorbar": {
              "outlinewidth": 0,
              "ticks": ""
             }
            },
            "type": "scattercarpet"
           }
          ],
          "scattergeo": [
           {
            "marker": {
             "colorbar": {
              "outlinewidth": 0,
              "ticks": ""
             }
            },
            "type": "scattergeo"
           }
          ],
          "scattergl": [
           {
            "marker": {
             "colorbar": {
              "outlinewidth": 0,
              "ticks": ""
             }
            },
            "type": "scattergl"
           }
          ],
          "scattermap": [
           {
            "marker": {
             "colorbar": {
              "outlinewidth": 0,
              "ticks": ""
             }
            },
            "type": "scattermap"
           }
          ],
          "scattermapbox": [
           {
            "marker": {
             "colorbar": {
              "outlinewidth": 0,
              "ticks": ""
             }
            },
            "type": "scattermapbox"
           }
          ],
          "scatterpolar": [
           {
            "marker": {
             "colorbar": {
              "outlinewidth": 0,
              "ticks": ""
             }
            },
            "type": "scatterpolar"
           }
          ],
          "scatterpolargl": [
           {
            "marker": {
             "colorbar": {
              "outlinewidth": 0,
              "ticks": ""
             }
            },
            "type": "scatterpolargl"
           }
          ],
          "scatterternary": [
           {
            "marker": {
             "colorbar": {
              "outlinewidth": 0,
              "ticks": ""
             }
            },
            "type": "scatterternary"
           }
          ],
          "surface": [
           {
            "colorbar": {
             "outlinewidth": 0,
             "ticks": ""
            },
            "colorscale": [
             [
              0,
              "#0d0887"
             ],
             [
              0.1111111111111111,
              "#46039f"
             ],
             [
              0.2222222222222222,
              "#7201a8"
             ],
             [
              0.3333333333333333,
              "#9c179e"
             ],
             [
              0.4444444444444444,
              "#bd3786"
             ],
             [
              0.5555555555555556,
              "#d8576b"
             ],
             [
              0.6666666666666666,
              "#ed7953"
             ],
             [
              0.7777777777777778,
              "#fb9f3a"
             ],
             [
              0.8888888888888888,
              "#fdca26"
             ],
             [
              1,
              "#f0f921"
             ]
            ],
            "type": "surface"
           }
          ],
          "table": [
           {
            "cells": {
             "fill": {
              "color": "#EBF0F8"
             },
             "line": {
              "color": "white"
             }
            },
            "header": {
             "fill": {
              "color": "#C8D4E3"
             },
             "line": {
              "color": "white"
             }
            },
            "type": "table"
           }
          ]
         },
         "layout": {
          "annotationdefaults": {
           "arrowcolor": "#2a3f5f",
           "arrowhead": 0,
           "arrowwidth": 1
          },
          "autotypenumbers": "strict",
          "coloraxis": {
           "colorbar": {
            "outlinewidth": 0,
            "ticks": ""
           }
          },
          "colorscale": {
           "diverging": [
            [
             0,
             "#8e0152"
            ],
            [
             0.1,
             "#c51b7d"
            ],
            [
             0.2,
             "#de77ae"
            ],
            [
             0.3,
             "#f1b6da"
            ],
            [
             0.4,
             "#fde0ef"
            ],
            [
             0.5,
             "#f7f7f7"
            ],
            [
             0.6,
             "#e6f5d0"
            ],
            [
             0.7,
             "#b8e186"
            ],
            [
             0.8,
             "#7fbc41"
            ],
            [
             0.9,
             "#4d9221"
            ],
            [
             1,
             "#276419"
            ]
           ],
           "sequential": [
            [
             0,
             "#0d0887"
            ],
            [
             0.1111111111111111,
             "#46039f"
            ],
            [
             0.2222222222222222,
             "#7201a8"
            ],
            [
             0.3333333333333333,
             "#9c179e"
            ],
            [
             0.4444444444444444,
             "#bd3786"
            ],
            [
             0.5555555555555556,
             "#d8576b"
            ],
            [
             0.6666666666666666,
             "#ed7953"
            ],
            [
             0.7777777777777778,
             "#fb9f3a"
            ],
            [
             0.8888888888888888,
             "#fdca26"
            ],
            [
             1,
             "#f0f921"
            ]
           ],
           "sequentialminus": [
            [
             0,
             "#0d0887"
            ],
            [
             0.1111111111111111,
             "#46039f"
            ],
            [
             0.2222222222222222,
             "#7201a8"
            ],
            [
             0.3333333333333333,
             "#9c179e"
            ],
            [
             0.4444444444444444,
             "#bd3786"
            ],
            [
             0.5555555555555556,
             "#d8576b"
            ],
            [
             0.6666666666666666,
             "#ed7953"
            ],
            [
             0.7777777777777778,
             "#fb9f3a"
            ],
            [
             0.8888888888888888,
             "#fdca26"
            ],
            [
             1,
             "#f0f921"
            ]
           ]
          },
          "colorway": [
           "#636efa",
           "#EF553B",
           "#00cc96",
           "#ab63fa",
           "#FFA15A",
           "#19d3f3",
           "#FF6692",
           "#B6E880",
           "#FF97FF",
           "#FECB52"
          ],
          "font": {
           "color": "#2a3f5f"
          },
          "geo": {
           "bgcolor": "white",
           "lakecolor": "white",
           "landcolor": "#E5ECF6",
           "showlakes": true,
           "showland": true,
           "subunitcolor": "white"
          },
          "hoverlabel": {
           "align": "left"
          },
          "hovermode": "closest",
          "mapbox": {
           "style": "light"
          },
          "paper_bgcolor": "white",
          "plot_bgcolor": "#E5ECF6",
          "polar": {
           "angularaxis": {
            "gridcolor": "white",
            "linecolor": "white",
            "ticks": ""
           },
           "bgcolor": "#E5ECF6",
           "radialaxis": {
            "gridcolor": "white",
            "linecolor": "white",
            "ticks": ""
           }
          },
          "scene": {
           "xaxis": {
            "backgroundcolor": "#E5ECF6",
            "gridcolor": "white",
            "gridwidth": 2,
            "linecolor": "white",
            "showbackground": true,
            "ticks": "",
            "zerolinecolor": "white"
           },
           "yaxis": {
            "backgroundcolor": "#E5ECF6",
            "gridcolor": "white",
            "gridwidth": 2,
            "linecolor": "white",
            "showbackground": true,
            "ticks": "",
            "zerolinecolor": "white"
           },
           "zaxis": {
            "backgroundcolor": "#E5ECF6",
            "gridcolor": "white",
            "gridwidth": 2,
            "linecolor": "white",
            "showbackground": true,
            "ticks": "",
            "zerolinecolor": "white"
           }
          },
          "shapedefaults": {
           "line": {
            "color": "#2a3f5f"
           }
          },
          "ternary": {
           "aaxis": {
            "gridcolor": "white",
            "linecolor": "white",
            "ticks": ""
           },
           "baxis": {
            "gridcolor": "white",
            "linecolor": "white",
            "ticks": ""
           },
           "bgcolor": "#E5ECF6",
           "caxis": {
            "gridcolor": "white",
            "linecolor": "white",
            "ticks": ""
           }
          },
          "title": {
           "x": 0.05
          },
          "xaxis": {
           "automargin": true,
           "gridcolor": "white",
           "linecolor": "white",
           "ticks": "",
           "title": {
            "standoff": 15
           },
           "zerolinecolor": "white",
           "zerolinewidth": 2
          },
          "yaxis": {
           "automargin": true,
           "gridcolor": "white",
           "linecolor": "white",
           "ticks": "",
           "title": {
            "standoff": 15
           },
           "zerolinecolor": "white",
           "zerolinewidth": 2
          }
         }
        },
        "title": {
         "text": "Optimization History Plot"
        },
        "xaxis": {
         "title": {
          "text": "Trial"
         }
        },
        "yaxis": {
         "title": {
          "text": "Objective Value"
         }
        }
       }
      }
     },
     "metadata": {},
     "output_type": "display_data"
    }
   ],
   "source": [
    "vis.plot_optimization_history(study)\n"
   ]
  },
  {
   "cell_type": "code",
   "execution_count": 21,
   "id": "efb2d938",
   "metadata": {},
   "outputs": [
    {
     "data": {
      "application/vnd.plotly.v1+json": {
       "config": {
        "plotlyServerURL": "https://plot.ly"
       },
       "data": [
        {
         "dimensions": [
          {
           "label": "Objective Value",
           "range": [
            1.6097896822825948,
            2.0641430521386814
           ],
           "values": [
            1.7509401082865224,
            1.6277715374624464,
            1.8434452458104276,
            1.83885292337709,
            1.9643463268681998,
            2.0641430521386814,
            1.7263385771832738,
            1.8481952383768054,
            2.060704816558438,
            1.6504032179996426,
            1.9802510395128454,
            1.6160107202903298,
            1.611717238538556,
            1.903150127635346,
            1.7716911549618417,
            2.0260795073462594,
            1.9153156404603604,
            1.619644060809137,
            1.8187422099685615,
            1.722267795865152,
            1.9590460050099172,
            1.6242388353242294,
            1.6097896822825948,
            1.7694598641902473,
            1.6965722881401206,
            1.8756807933181239,
            1.8019992968592533,
            1.6994573529912453,
            1.7858181844398213,
            1.7489141417688365,
            1.6124097800683728,
            1.6714414179887913,
            1.612086472069685,
            1.7339688016463868,
            1.6762143787593928,
            1.617200950578145,
            1.6120696834341532,
            1.7470398980714983,
            1.8756677913425115,
            1.6960330536512067,
            1.9981956295485896,
            1.6717898781040397,
            1.6119050243419963,
            1.615725144003926,
            1.7329312817972622,
            1.6576162547512054,
            1.7137174045138308,
            1.8179235263324987,
            1.7682152739145036,
            1.651821151282001
           ]
          },
          {
           "label": "max_depth",
           "range": [
            15,
            35
           ],
           "values": [
            34,
            33,
            19,
            21,
            31,
            18,
            17,
            34,
            18,
            34,
            27,
            29,
            28,
            27,
            24,
            30,
            25,
            29,
            22,
            15,
            28,
            30,
            28,
            25,
            31,
            27,
            23,
            32,
            28,
            26,
            30,
            29,
            32,
            32,
            33,
            35,
            31,
            32,
            31,
            35,
            33,
            30,
            28,
            28,
            27,
            29,
            26,
            26,
            31,
            33
           ]
          },
          {
           "label": "max_features",
           "range": [
            0,
            0
           ],
           "ticktext": [
            "sqrt"
           ],
           "tickvals": [
            0
           ],
           "values": [
            0,
            0,
            0,
            0,
            0,
            0,
            0,
            0,
            0,
            0,
            0,
            0,
            0,
            0,
            0,
            0,
            0,
            0,
            0,
            0,
            0,
            0,
            0,
            0,
            0,
            0,
            0,
            0,
            0,
            0,
            0,
            0,
            0,
            0,
            0,
            0,
            0,
            0,
            0,
            0,
            0,
            0,
            0,
            0,
            0,
            0,
            0,
            0,
            0,
            0
           ]
          },
          {
           "label": "max_leaf_nodes",
           "range": [
            401,
            698
           ],
           "values": [
            446,
            691,
            557,
            510,
            413,
            643,
            549,
            556,
            669,
            497,
            620,
            480,
            465,
            454,
            481,
            412,
            534,
            458,
            593,
            509,
            476,
            445,
            467,
            418,
            478,
            523,
            579,
            436,
            492,
            437,
            467,
            467,
            427,
            401,
            433,
            428,
            459,
            453,
            502,
            524,
            403,
            466,
            423,
            428,
            446,
            422,
            698,
            491,
            409,
            444
           ]
          },
          {
           "label": "min_impurity_decr...",
           "range": [
            0.0010829761128161395,
            0.48285038450420514
           ],
           "values": [
            0.07885330158077582,
            0.011271662653605422,
            0.1528168792368093,
            0.14678017961907386,
            0.2966148698621592,
            0.48285038450420514,
            0.06189707918754463,
            0.15654382696861607,
            0.46980997184053036,
            0.023568417166358494,
            0.3204041627313105,
            0.008851822693701772,
            0.0063957805072579746,
            0.2179881859884533,
            0.09457878308525028,
            0.39919943967042937,
            0.2330274048388413,
            0.011331774777394,
            0.13093527753025283,
            0.06038411897944618,
            0.2933981445589344,
            0.01362682122009942,
            0.003501511120214604,
            0.09403804201915195,
            0.04631227225210787,
            0.1852467940336832,
            0.11693900925625679,
            0.046874052738652854,
            0.10448165270051003,
            0.07707918688083214,
            0.0032161166876876015,
            0.03394676674501902,
            0.0016261905046777187,
            0.06929274985732081,
            0.036480943281412145,
            0.0034536208105111887,
            0.0015711286226615662,
            0.07686328413289813,
            0.18125906630812108,
            0.043925280947401966,
            0.34456233850269835,
            0.03403357781160215,
            0.0010829761128161395,
            0.0018586494484055308,
            0.06845333962016728,
            0.02539657213470542,
            0.05559490275855768,
            0.13153979472669405,
            0.09177636663764206,
            0.02268812877641265
           ]
          },
          {
           "label": "min_samples_leaf",
           "range": [
            3,
            8
           ],
           "values": [
            6,
            7,
            4,
            3,
            6,
            8,
            5,
            6,
            7,
            4,
            8,
            4,
            3,
            3,
            4,
            3,
            5,
            4,
            3,
            5,
            4,
            4,
            3,
            3,
            3,
            3,
            4,
            5,
            3,
            4,
            3,
            3,
            3,
            3,
            3,
            3,
            4,
            5,
            4,
            7,
            4,
            3,
            3,
            3,
            3,
            6,
            4,
            4,
            3,
            3
           ]
          },
          {
           "label": "min_samples_split",
           "range": [
            5,
            20
           ],
           "values": [
            16,
            14,
            7,
            14,
            8,
            6,
            15,
            9,
            20,
            6,
            11,
            11,
            12,
            11,
            11,
            18,
            12,
            9,
            13,
            17,
            10,
            9,
            9,
            13,
            5,
            12,
            10,
            8,
            10,
            8,
            16,
            16,
            14,
            15,
            14,
            18,
            15,
            15,
            14,
            13,
            17,
            16,
            17,
            19,
            14,
            17,
            15,
            12,
            7,
            20
           ]
          },
          {
           "label": "n_estimators",
           "range": [
            412,
            1000
           ],
           "values": [
            625,
            434,
            900,
            659,
            674,
            765,
            583,
            420,
            728,
            759,
            412,
            897,
            970,
            978,
            866,
            1000,
            858,
            927,
            798,
            824,
            938,
            941,
            910,
            872,
            972,
            831,
            911,
            553,
            956,
            791,
            1000,
            990,
            893,
            891,
            952,
            476,
            837,
            832,
            706,
            644,
            749,
            918,
            885,
            876,
            847,
            790,
            910,
            889,
            964,
            815
           ]
          }
         ],
         "labelangle": 30,
         "labelside": "bottom",
         "line": {
          "color": [
           1.7509401082865224,
           1.6277715374624464,
           1.8434452458104276,
           1.83885292337709,
           1.9643463268681998,
           2.0641430521386814,
           1.7263385771832738,
           1.8481952383768054,
           2.060704816558438,
           1.6504032179996426,
           1.9802510395128454,
           1.6160107202903298,
           1.611717238538556,
           1.903150127635346,
           1.7716911549618417,
           2.0260795073462594,
           1.9153156404603604,
           1.619644060809137,
           1.8187422099685615,
           1.722267795865152,
           1.9590460050099172,
           1.6242388353242294,
           1.6097896822825948,
           1.7694598641902473,
           1.6965722881401206,
           1.8756807933181239,
           1.8019992968592533,
           1.6994573529912453,
           1.7858181844398213,
           1.7489141417688365,
           1.6124097800683728,
           1.6714414179887913,
           1.612086472069685,
           1.7339688016463868,
           1.6762143787593928,
           1.617200950578145,
           1.6120696834341532,
           1.7470398980714983,
           1.8756677913425115,
           1.6960330536512067,
           1.9981956295485896,
           1.6717898781040397,
           1.6119050243419963,
           1.615725144003926,
           1.7329312817972622,
           1.6576162547512054,
           1.7137174045138308,
           1.8179235263324987,
           1.7682152739145036,
           1.651821151282001
          ],
          "colorbar": {
           "title": {
            "text": "Objective Value"
           }
          },
          "colorscale": [
           [
            0,
            "rgb(247,251,255)"
           ],
           [
            0.125,
            "rgb(222,235,247)"
           ],
           [
            0.25,
            "rgb(198,219,239)"
           ],
           [
            0.375,
            "rgb(158,202,225)"
           ],
           [
            0.5,
            "rgb(107,174,214)"
           ],
           [
            0.625,
            "rgb(66,146,198)"
           ],
           [
            0.75,
            "rgb(33,113,181)"
           ],
           [
            0.875,
            "rgb(8,81,156)"
           ],
           [
            1,
            "rgb(8,48,107)"
           ]
          ],
          "reversescale": true,
          "showscale": true
         },
         "type": "parcoords"
        }
       ],
       "layout": {
        "template": {
         "data": {
          "bar": [
           {
            "error_x": {
             "color": "#2a3f5f"
            },
            "error_y": {
             "color": "#2a3f5f"
            },
            "marker": {
             "line": {
              "color": "#E5ECF6",
              "width": 0.5
             },
             "pattern": {
              "fillmode": "overlay",
              "size": 10,
              "solidity": 0.2
             }
            },
            "type": "bar"
           }
          ],
          "barpolar": [
           {
            "marker": {
             "line": {
              "color": "#E5ECF6",
              "width": 0.5
             },
             "pattern": {
              "fillmode": "overlay",
              "size": 10,
              "solidity": 0.2
             }
            },
            "type": "barpolar"
           }
          ],
          "carpet": [
           {
            "aaxis": {
             "endlinecolor": "#2a3f5f",
             "gridcolor": "white",
             "linecolor": "white",
             "minorgridcolor": "white",
             "startlinecolor": "#2a3f5f"
            },
            "baxis": {
             "endlinecolor": "#2a3f5f",
             "gridcolor": "white",
             "linecolor": "white",
             "minorgridcolor": "white",
             "startlinecolor": "#2a3f5f"
            },
            "type": "carpet"
           }
          ],
          "choropleth": [
           {
            "colorbar": {
             "outlinewidth": 0,
             "ticks": ""
            },
            "type": "choropleth"
           }
          ],
          "contour": [
           {
            "colorbar": {
             "outlinewidth": 0,
             "ticks": ""
            },
            "colorscale": [
             [
              0,
              "#0d0887"
             ],
             [
              0.1111111111111111,
              "#46039f"
             ],
             [
              0.2222222222222222,
              "#7201a8"
             ],
             [
              0.3333333333333333,
              "#9c179e"
             ],
             [
              0.4444444444444444,
              "#bd3786"
             ],
             [
              0.5555555555555556,
              "#d8576b"
             ],
             [
              0.6666666666666666,
              "#ed7953"
             ],
             [
              0.7777777777777778,
              "#fb9f3a"
             ],
             [
              0.8888888888888888,
              "#fdca26"
             ],
             [
              1,
              "#f0f921"
             ]
            ],
            "type": "contour"
           }
          ],
          "contourcarpet": [
           {
            "colorbar": {
             "outlinewidth": 0,
             "ticks": ""
            },
            "type": "contourcarpet"
           }
          ],
          "heatmap": [
           {
            "colorbar": {
             "outlinewidth": 0,
             "ticks": ""
            },
            "colorscale": [
             [
              0,
              "#0d0887"
             ],
             [
              0.1111111111111111,
              "#46039f"
             ],
             [
              0.2222222222222222,
              "#7201a8"
             ],
             [
              0.3333333333333333,
              "#9c179e"
             ],
             [
              0.4444444444444444,
              "#bd3786"
             ],
             [
              0.5555555555555556,
              "#d8576b"
             ],
             [
              0.6666666666666666,
              "#ed7953"
             ],
             [
              0.7777777777777778,
              "#fb9f3a"
             ],
             [
              0.8888888888888888,
              "#fdca26"
             ],
             [
              1,
              "#f0f921"
             ]
            ],
            "type": "heatmap"
           }
          ],
          "histogram": [
           {
            "marker": {
             "pattern": {
              "fillmode": "overlay",
              "size": 10,
              "solidity": 0.2
             }
            },
            "type": "histogram"
           }
          ],
          "histogram2d": [
           {
            "colorbar": {
             "outlinewidth": 0,
             "ticks": ""
            },
            "colorscale": [
             [
              0,
              "#0d0887"
             ],
             [
              0.1111111111111111,
              "#46039f"
             ],
             [
              0.2222222222222222,
              "#7201a8"
             ],
             [
              0.3333333333333333,
              "#9c179e"
             ],
             [
              0.4444444444444444,
              "#bd3786"
             ],
             [
              0.5555555555555556,
              "#d8576b"
             ],
             [
              0.6666666666666666,
              "#ed7953"
             ],
             [
              0.7777777777777778,
              "#fb9f3a"
             ],
             [
              0.8888888888888888,
              "#fdca26"
             ],
             [
              1,
              "#f0f921"
             ]
            ],
            "type": "histogram2d"
           }
          ],
          "histogram2dcontour": [
           {
            "colorbar": {
             "outlinewidth": 0,
             "ticks": ""
            },
            "colorscale": [
             [
              0,
              "#0d0887"
             ],
             [
              0.1111111111111111,
              "#46039f"
             ],
             [
              0.2222222222222222,
              "#7201a8"
             ],
             [
              0.3333333333333333,
              "#9c179e"
             ],
             [
              0.4444444444444444,
              "#bd3786"
             ],
             [
              0.5555555555555556,
              "#d8576b"
             ],
             [
              0.6666666666666666,
              "#ed7953"
             ],
             [
              0.7777777777777778,
              "#fb9f3a"
             ],
             [
              0.8888888888888888,
              "#fdca26"
             ],
             [
              1,
              "#f0f921"
             ]
            ],
            "type": "histogram2dcontour"
           }
          ],
          "mesh3d": [
           {
            "colorbar": {
             "outlinewidth": 0,
             "ticks": ""
            },
            "type": "mesh3d"
           }
          ],
          "parcoords": [
           {
            "line": {
             "colorbar": {
              "outlinewidth": 0,
              "ticks": ""
             }
            },
            "type": "parcoords"
           }
          ],
          "pie": [
           {
            "automargin": true,
            "type": "pie"
           }
          ],
          "scatter": [
           {
            "fillpattern": {
             "fillmode": "overlay",
             "size": 10,
             "solidity": 0.2
            },
            "type": "scatter"
           }
          ],
          "scatter3d": [
           {
            "line": {
             "colorbar": {
              "outlinewidth": 0,
              "ticks": ""
             }
            },
            "marker": {
             "colorbar": {
              "outlinewidth": 0,
              "ticks": ""
             }
            },
            "type": "scatter3d"
           }
          ],
          "scattercarpet": [
           {
            "marker": {
             "colorbar": {
              "outlinewidth": 0,
              "ticks": ""
             }
            },
            "type": "scattercarpet"
           }
          ],
          "scattergeo": [
           {
            "marker": {
             "colorbar": {
              "outlinewidth": 0,
              "ticks": ""
             }
            },
            "type": "scattergeo"
           }
          ],
          "scattergl": [
           {
            "marker": {
             "colorbar": {
              "outlinewidth": 0,
              "ticks": ""
             }
            },
            "type": "scattergl"
           }
          ],
          "scattermap": [
           {
            "marker": {
             "colorbar": {
              "outlinewidth": 0,
              "ticks": ""
             }
            },
            "type": "scattermap"
           }
          ],
          "scattermapbox": [
           {
            "marker": {
             "colorbar": {
              "outlinewidth": 0,
              "ticks": ""
             }
            },
            "type": "scattermapbox"
           }
          ],
          "scatterpolar": [
           {
            "marker": {
             "colorbar": {
              "outlinewidth": 0,
              "ticks": ""
             }
            },
            "type": "scatterpolar"
           }
          ],
          "scatterpolargl": [
           {
            "marker": {
             "colorbar": {
              "outlinewidth": 0,
              "ticks": ""
             }
            },
            "type": "scatterpolargl"
           }
          ],
          "scatterternary": [
           {
            "marker": {
             "colorbar": {
              "outlinewidth": 0,
              "ticks": ""
             }
            },
            "type": "scatterternary"
           }
          ],
          "surface": [
           {
            "colorbar": {
             "outlinewidth": 0,
             "ticks": ""
            },
            "colorscale": [
             [
              0,
              "#0d0887"
             ],
             [
              0.1111111111111111,
              "#46039f"
             ],
             [
              0.2222222222222222,
              "#7201a8"
             ],
             [
              0.3333333333333333,
              "#9c179e"
             ],
             [
              0.4444444444444444,
              "#bd3786"
             ],
             [
              0.5555555555555556,
              "#d8576b"
             ],
             [
              0.6666666666666666,
              "#ed7953"
             ],
             [
              0.7777777777777778,
              "#fb9f3a"
             ],
             [
              0.8888888888888888,
              "#fdca26"
             ],
             [
              1,
              "#f0f921"
             ]
            ],
            "type": "surface"
           }
          ],
          "table": [
           {
            "cells": {
             "fill": {
              "color": "#EBF0F8"
             },
             "line": {
              "color": "white"
             }
            },
            "header": {
             "fill": {
              "color": "#C8D4E3"
             },
             "line": {
              "color": "white"
             }
            },
            "type": "table"
           }
          ]
         },
         "layout": {
          "annotationdefaults": {
           "arrowcolor": "#2a3f5f",
           "arrowhead": 0,
           "arrowwidth": 1
          },
          "autotypenumbers": "strict",
          "coloraxis": {
           "colorbar": {
            "outlinewidth": 0,
            "ticks": ""
           }
          },
          "colorscale": {
           "diverging": [
            [
             0,
             "#8e0152"
            ],
            [
             0.1,
             "#c51b7d"
            ],
            [
             0.2,
             "#de77ae"
            ],
            [
             0.3,
             "#f1b6da"
            ],
            [
             0.4,
             "#fde0ef"
            ],
            [
             0.5,
             "#f7f7f7"
            ],
            [
             0.6,
             "#e6f5d0"
            ],
            [
             0.7,
             "#b8e186"
            ],
            [
             0.8,
             "#7fbc41"
            ],
            [
             0.9,
             "#4d9221"
            ],
            [
             1,
             "#276419"
            ]
           ],
           "sequential": [
            [
             0,
             "#0d0887"
            ],
            [
             0.1111111111111111,
             "#46039f"
            ],
            [
             0.2222222222222222,
             "#7201a8"
            ],
            [
             0.3333333333333333,
             "#9c179e"
            ],
            [
             0.4444444444444444,
             "#bd3786"
            ],
            [
             0.5555555555555556,
             "#d8576b"
            ],
            [
             0.6666666666666666,
             "#ed7953"
            ],
            [
             0.7777777777777778,
             "#fb9f3a"
            ],
            [
             0.8888888888888888,
             "#fdca26"
            ],
            [
             1,
             "#f0f921"
            ]
           ],
           "sequentialminus": [
            [
             0,
             "#0d0887"
            ],
            [
             0.1111111111111111,
             "#46039f"
            ],
            [
             0.2222222222222222,
             "#7201a8"
            ],
            [
             0.3333333333333333,
             "#9c179e"
            ],
            [
             0.4444444444444444,
             "#bd3786"
            ],
            [
             0.5555555555555556,
             "#d8576b"
            ],
            [
             0.6666666666666666,
             "#ed7953"
            ],
            [
             0.7777777777777778,
             "#fb9f3a"
            ],
            [
             0.8888888888888888,
             "#fdca26"
            ],
            [
             1,
             "#f0f921"
            ]
           ]
          },
          "colorway": [
           "#636efa",
           "#EF553B",
           "#00cc96",
           "#ab63fa",
           "#FFA15A",
           "#19d3f3",
           "#FF6692",
           "#B6E880",
           "#FF97FF",
           "#FECB52"
          ],
          "font": {
           "color": "#2a3f5f"
          },
          "geo": {
           "bgcolor": "white",
           "lakecolor": "white",
           "landcolor": "#E5ECF6",
           "showlakes": true,
           "showland": true,
           "subunitcolor": "white"
          },
          "hoverlabel": {
           "align": "left"
          },
          "hovermode": "closest",
          "mapbox": {
           "style": "light"
          },
          "paper_bgcolor": "white",
          "plot_bgcolor": "#E5ECF6",
          "polar": {
           "angularaxis": {
            "gridcolor": "white",
            "linecolor": "white",
            "ticks": ""
           },
           "bgcolor": "#E5ECF6",
           "radialaxis": {
            "gridcolor": "white",
            "linecolor": "white",
            "ticks": ""
           }
          },
          "scene": {
           "xaxis": {
            "backgroundcolor": "#E5ECF6",
            "gridcolor": "white",
            "gridwidth": 2,
            "linecolor": "white",
            "showbackground": true,
            "ticks": "",
            "zerolinecolor": "white"
           },
           "yaxis": {
            "backgroundcolor": "#E5ECF6",
            "gridcolor": "white",
            "gridwidth": 2,
            "linecolor": "white",
            "showbackground": true,
            "ticks": "",
            "zerolinecolor": "white"
           },
           "zaxis": {
            "backgroundcolor": "#E5ECF6",
            "gridcolor": "white",
            "gridwidth": 2,
            "linecolor": "white",
            "showbackground": true,
            "ticks": "",
            "zerolinecolor": "white"
           }
          },
          "shapedefaults": {
           "line": {
            "color": "#2a3f5f"
           }
          },
          "ternary": {
           "aaxis": {
            "gridcolor": "white",
            "linecolor": "white",
            "ticks": ""
           },
           "baxis": {
            "gridcolor": "white",
            "linecolor": "white",
            "ticks": ""
           },
           "bgcolor": "#E5ECF6",
           "caxis": {
            "gridcolor": "white",
            "linecolor": "white",
            "ticks": ""
           }
          },
          "title": {
           "x": 0.05
          },
          "xaxis": {
           "automargin": true,
           "gridcolor": "white",
           "linecolor": "white",
           "ticks": "",
           "title": {
            "standoff": 15
           },
           "zerolinecolor": "white",
           "zerolinewidth": 2
          },
          "yaxis": {
           "automargin": true,
           "gridcolor": "white",
           "linecolor": "white",
           "ticks": "",
           "title": {
            "standoff": 15
           },
           "zerolinecolor": "white",
           "zerolinewidth": 2
          }
         }
        },
        "title": {
         "text": "Parallel Coordinate Plot"
        }
       }
      }
     },
     "metadata": {},
     "output_type": "display_data"
    }
   ],
   "source": [
    "vis.plot_parallel_coordinate(study)"
   ]
  },
  {
   "cell_type": "code",
   "execution_count": 22,
   "id": "a3a4efee",
   "metadata": {},
   "outputs": [
    {
     "data": {
      "application/vnd.plotly.v1+json": {
       "config": {
        "plotlyServerURL": "https://plot.ly"
       },
       "data": [
        {
         "marker": {
          "color": [
           0,
           1,
           2,
           3,
           4,
           5,
           6,
           7,
           8,
           9,
           10,
           11,
           12,
           13,
           14,
           15,
           16,
           17,
           18,
           19,
           20,
           21,
           22,
           23,
           24,
           25,
           26,
           27,
           28,
           29,
           30,
           31,
           32,
           33,
           34,
           35,
           36,
           37,
           38,
           39,
           40,
           41,
           42,
           43,
           44,
           45,
           46,
           47,
           48,
           49
          ],
          "colorbar": {
           "title": {
            "text": "Trial"
           },
           "x": 1,
           "xpad": 40
          },
          "colorscale": [
           [
            0,
            "rgb(247,251,255)"
           ],
           [
            0.125,
            "rgb(222,235,247)"
           ],
           [
            0.25,
            "rgb(198,219,239)"
           ],
           [
            0.375,
            "rgb(158,202,225)"
           ],
           [
            0.5,
            "rgb(107,174,214)"
           ],
           [
            0.625,
            "rgb(66,146,198)"
           ],
           [
            0.75,
            "rgb(33,113,181)"
           ],
           [
            0.875,
            "rgb(8,81,156)"
           ],
           [
            1,
            "rgb(8,48,107)"
           ]
          ],
          "line": {
           "color": "Grey",
           "width": 0.5
          },
          "showscale": true
         },
         "mode": "markers",
         "name": "Feasible Trial",
         "showlegend": false,
         "type": "scatter",
         "x": [
          34,
          33,
          19,
          21,
          31,
          18,
          17,
          34,
          18,
          34,
          27,
          29,
          28,
          27,
          24,
          30,
          25,
          29,
          22,
          15,
          28,
          30,
          28,
          25,
          31,
          27,
          23,
          32,
          28,
          26,
          30,
          29,
          32,
          32,
          33,
          35,
          31,
          32,
          31,
          35,
          33,
          30,
          28,
          28,
          27,
          29,
          26,
          26,
          31,
          33
         ],
         "xaxis": "x",
         "y": [
          1.7509401082865224,
          1.6277715374624464,
          1.8434452458104276,
          1.83885292337709,
          1.9643463268681998,
          2.0641430521386814,
          1.7263385771832738,
          1.8481952383768054,
          2.060704816558438,
          1.6504032179996426,
          1.9802510395128454,
          1.6160107202903298,
          1.611717238538556,
          1.903150127635346,
          1.7716911549618417,
          2.0260795073462594,
          1.9153156404603604,
          1.619644060809137,
          1.8187422099685615,
          1.722267795865152,
          1.9590460050099172,
          1.6242388353242294,
          1.6097896822825948,
          1.7694598641902473,
          1.6965722881401206,
          1.8756807933181239,
          1.8019992968592533,
          1.6994573529912453,
          1.7858181844398213,
          1.7489141417688365,
          1.6124097800683728,
          1.6714414179887913,
          1.612086472069685,
          1.7339688016463868,
          1.6762143787593928,
          1.617200950578145,
          1.6120696834341532,
          1.7470398980714983,
          1.8756677913425115,
          1.6960330536512067,
          1.9981956295485896,
          1.6717898781040397,
          1.6119050243419963,
          1.615725144003926,
          1.7329312817972622,
          1.6576162547512054,
          1.7137174045138308,
          1.8179235263324987,
          1.7682152739145036,
          1.651821151282001
         ],
         "yaxis": "y"
        },
        {
         "marker": {
          "color": [
           0,
           1,
           2,
           3,
           4,
           5,
           6,
           7,
           8,
           9,
           10,
           11,
           12,
           13,
           14,
           15,
           16,
           17,
           18,
           19,
           20,
           21,
           22,
           23,
           24,
           25,
           26,
           27,
           28,
           29,
           30,
           31,
           32,
           33,
           34,
           35,
           36,
           37,
           38,
           39,
           40,
           41,
           42,
           43,
           44,
           45,
           46,
           47,
           48,
           49
          ],
          "colorbar": {
           "title": {
            "text": "Trial"
           },
           "x": 1,
           "xpad": 40
          },
          "colorscale": [
           [
            0,
            "rgb(247,251,255)"
           ],
           [
            0.125,
            "rgb(222,235,247)"
           ],
           [
            0.25,
            "rgb(198,219,239)"
           ],
           [
            0.375,
            "rgb(158,202,225)"
           ],
           [
            0.5,
            "rgb(107,174,214)"
           ],
           [
            0.625,
            "rgb(66,146,198)"
           ],
           [
            0.75,
            "rgb(33,113,181)"
           ],
           [
            0.875,
            "rgb(8,81,156)"
           ],
           [
            1,
            "rgb(8,48,107)"
           ]
          ],
          "line": {
           "color": "Grey",
           "width": 0.5
          },
          "showscale": false
         },
         "mode": "markers",
         "name": "Feasible Trial",
         "showlegend": false,
         "type": "scatter",
         "x": [
          "sqrt",
          "sqrt",
          "sqrt",
          "sqrt",
          "sqrt",
          "sqrt",
          "sqrt",
          "sqrt",
          "sqrt",
          "sqrt",
          "sqrt",
          "sqrt",
          "sqrt",
          "sqrt",
          "sqrt",
          "sqrt",
          "sqrt",
          "sqrt",
          "sqrt",
          "sqrt",
          "sqrt",
          "sqrt",
          "sqrt",
          "sqrt",
          "sqrt",
          "sqrt",
          "sqrt",
          "sqrt",
          "sqrt",
          "sqrt",
          "sqrt",
          "sqrt",
          "sqrt",
          "sqrt",
          "sqrt",
          "sqrt",
          "sqrt",
          "sqrt",
          "sqrt",
          "sqrt",
          "sqrt",
          "sqrt",
          "sqrt",
          "sqrt",
          "sqrt",
          "sqrt",
          "sqrt",
          "sqrt",
          "sqrt",
          "sqrt"
         ],
         "xaxis": "x2",
         "y": [
          1.7509401082865224,
          1.6277715374624464,
          1.8434452458104276,
          1.83885292337709,
          1.9643463268681998,
          2.0641430521386814,
          1.7263385771832738,
          1.8481952383768054,
          2.060704816558438,
          1.6504032179996426,
          1.9802510395128454,
          1.6160107202903298,
          1.611717238538556,
          1.903150127635346,
          1.7716911549618417,
          2.0260795073462594,
          1.9153156404603604,
          1.619644060809137,
          1.8187422099685615,
          1.722267795865152,
          1.9590460050099172,
          1.6242388353242294,
          1.6097896822825948,
          1.7694598641902473,
          1.6965722881401206,
          1.8756807933181239,
          1.8019992968592533,
          1.6994573529912453,
          1.7858181844398213,
          1.7489141417688365,
          1.6124097800683728,
          1.6714414179887913,
          1.612086472069685,
          1.7339688016463868,
          1.6762143787593928,
          1.617200950578145,
          1.6120696834341532,
          1.7470398980714983,
          1.8756677913425115,
          1.6960330536512067,
          1.9981956295485896,
          1.6717898781040397,
          1.6119050243419963,
          1.615725144003926,
          1.7329312817972622,
          1.6576162547512054,
          1.7137174045138308,
          1.8179235263324987,
          1.7682152739145036,
          1.651821151282001
         ],
         "yaxis": "y2"
        },
        {
         "marker": {
          "color": [
           0,
           1,
           2,
           3,
           4,
           5,
           6,
           7,
           8,
           9,
           10,
           11,
           12,
           13,
           14,
           15,
           16,
           17,
           18,
           19,
           20,
           21,
           22,
           23,
           24,
           25,
           26,
           27,
           28,
           29,
           30,
           31,
           32,
           33,
           34,
           35,
           36,
           37,
           38,
           39,
           40,
           41,
           42,
           43,
           44,
           45,
           46,
           47,
           48,
           49
          ],
          "colorbar": {
           "title": {
            "text": "Trial"
           },
           "x": 1,
           "xpad": 40
          },
          "colorscale": [
           [
            0,
            "rgb(247,251,255)"
           ],
           [
            0.125,
            "rgb(222,235,247)"
           ],
           [
            0.25,
            "rgb(198,219,239)"
           ],
           [
            0.375,
            "rgb(158,202,225)"
           ],
           [
            0.5,
            "rgb(107,174,214)"
           ],
           [
            0.625,
            "rgb(66,146,198)"
           ],
           [
            0.75,
            "rgb(33,113,181)"
           ],
           [
            0.875,
            "rgb(8,81,156)"
           ],
           [
            1,
            "rgb(8,48,107)"
           ]
          ],
          "line": {
           "color": "Grey",
           "width": 0.5
          },
          "showscale": false
         },
         "mode": "markers",
         "name": "Feasible Trial",
         "showlegend": false,
         "type": "scatter",
         "x": [
          446,
          691,
          557,
          510,
          413,
          643,
          549,
          556,
          669,
          497,
          620,
          480,
          465,
          454,
          481,
          412,
          534,
          458,
          593,
          509,
          476,
          445,
          467,
          418,
          478,
          523,
          579,
          436,
          492,
          437,
          467,
          467,
          427,
          401,
          433,
          428,
          459,
          453,
          502,
          524,
          403,
          466,
          423,
          428,
          446,
          422,
          698,
          491,
          409,
          444
         ],
         "xaxis": "x3",
         "y": [
          1.7509401082865224,
          1.6277715374624464,
          1.8434452458104276,
          1.83885292337709,
          1.9643463268681998,
          2.0641430521386814,
          1.7263385771832738,
          1.8481952383768054,
          2.060704816558438,
          1.6504032179996426,
          1.9802510395128454,
          1.6160107202903298,
          1.611717238538556,
          1.903150127635346,
          1.7716911549618417,
          2.0260795073462594,
          1.9153156404603604,
          1.619644060809137,
          1.8187422099685615,
          1.722267795865152,
          1.9590460050099172,
          1.6242388353242294,
          1.6097896822825948,
          1.7694598641902473,
          1.6965722881401206,
          1.8756807933181239,
          1.8019992968592533,
          1.6994573529912453,
          1.7858181844398213,
          1.7489141417688365,
          1.6124097800683728,
          1.6714414179887913,
          1.612086472069685,
          1.7339688016463868,
          1.6762143787593928,
          1.617200950578145,
          1.6120696834341532,
          1.7470398980714983,
          1.8756677913425115,
          1.6960330536512067,
          1.9981956295485896,
          1.6717898781040397,
          1.6119050243419963,
          1.615725144003926,
          1.7329312817972622,
          1.6576162547512054,
          1.7137174045138308,
          1.8179235263324987,
          1.7682152739145036,
          1.651821151282001
         ],
         "yaxis": "y3"
        },
        {
         "marker": {
          "color": [
           0,
           1,
           2,
           3,
           4,
           5,
           6,
           7,
           8,
           9,
           10,
           11,
           12,
           13,
           14,
           15,
           16,
           17,
           18,
           19,
           20,
           21,
           22,
           23,
           24,
           25,
           26,
           27,
           28,
           29,
           30,
           31,
           32,
           33,
           34,
           35,
           36,
           37,
           38,
           39,
           40,
           41,
           42,
           43,
           44,
           45,
           46,
           47,
           48,
           49
          ],
          "colorbar": {
           "title": {
            "text": "Trial"
           },
           "x": 1,
           "xpad": 40
          },
          "colorscale": [
           [
            0,
            "rgb(247,251,255)"
           ],
           [
            0.125,
            "rgb(222,235,247)"
           ],
           [
            0.25,
            "rgb(198,219,239)"
           ],
           [
            0.375,
            "rgb(158,202,225)"
           ],
           [
            0.5,
            "rgb(107,174,214)"
           ],
           [
            0.625,
            "rgb(66,146,198)"
           ],
           [
            0.75,
            "rgb(33,113,181)"
           ],
           [
            0.875,
            "rgb(8,81,156)"
           ],
           [
            1,
            "rgb(8,48,107)"
           ]
          ],
          "line": {
           "color": "Grey",
           "width": 0.5
          },
          "showscale": false
         },
         "mode": "markers",
         "name": "Feasible Trial",
         "showlegend": false,
         "type": "scatter",
         "x": [
          0.07885330158077582,
          0.011271662653605422,
          0.1528168792368093,
          0.14678017961907386,
          0.2966148698621592,
          0.48285038450420514,
          0.06189707918754463,
          0.15654382696861607,
          0.46980997184053036,
          0.023568417166358494,
          0.3204041627313105,
          0.008851822693701772,
          0.0063957805072579746,
          0.2179881859884533,
          0.09457878308525028,
          0.39919943967042937,
          0.2330274048388413,
          0.011331774777394,
          0.13093527753025283,
          0.06038411897944618,
          0.2933981445589344,
          0.01362682122009942,
          0.003501511120214604,
          0.09403804201915195,
          0.04631227225210787,
          0.1852467940336832,
          0.11693900925625679,
          0.046874052738652854,
          0.10448165270051003,
          0.07707918688083214,
          0.0032161166876876015,
          0.03394676674501902,
          0.0016261905046777187,
          0.06929274985732081,
          0.036480943281412145,
          0.0034536208105111887,
          0.0015711286226615662,
          0.07686328413289813,
          0.18125906630812108,
          0.043925280947401966,
          0.34456233850269835,
          0.03403357781160215,
          0.0010829761128161395,
          0.0018586494484055308,
          0.06845333962016728,
          0.02539657213470542,
          0.05559490275855768,
          0.13153979472669405,
          0.09177636663764206,
          0.02268812877641265
         ],
         "xaxis": "x4",
         "y": [
          1.7509401082865224,
          1.6277715374624464,
          1.8434452458104276,
          1.83885292337709,
          1.9643463268681998,
          2.0641430521386814,
          1.7263385771832738,
          1.8481952383768054,
          2.060704816558438,
          1.6504032179996426,
          1.9802510395128454,
          1.6160107202903298,
          1.611717238538556,
          1.903150127635346,
          1.7716911549618417,
          2.0260795073462594,
          1.9153156404603604,
          1.619644060809137,
          1.8187422099685615,
          1.722267795865152,
          1.9590460050099172,
          1.6242388353242294,
          1.6097896822825948,
          1.7694598641902473,
          1.6965722881401206,
          1.8756807933181239,
          1.8019992968592533,
          1.6994573529912453,
          1.7858181844398213,
          1.7489141417688365,
          1.6124097800683728,
          1.6714414179887913,
          1.612086472069685,
          1.7339688016463868,
          1.6762143787593928,
          1.617200950578145,
          1.6120696834341532,
          1.7470398980714983,
          1.8756677913425115,
          1.6960330536512067,
          1.9981956295485896,
          1.6717898781040397,
          1.6119050243419963,
          1.615725144003926,
          1.7329312817972622,
          1.6576162547512054,
          1.7137174045138308,
          1.8179235263324987,
          1.7682152739145036,
          1.651821151282001
         ],
         "yaxis": "y4"
        },
        {
         "marker": {
          "color": [
           0,
           1,
           2,
           3,
           4,
           5,
           6,
           7,
           8,
           9,
           10,
           11,
           12,
           13,
           14,
           15,
           16,
           17,
           18,
           19,
           20,
           21,
           22,
           23,
           24,
           25,
           26,
           27,
           28,
           29,
           30,
           31,
           32,
           33,
           34,
           35,
           36,
           37,
           38,
           39,
           40,
           41,
           42,
           43,
           44,
           45,
           46,
           47,
           48,
           49
          ],
          "colorbar": {
           "title": {
            "text": "Trial"
           },
           "x": 1,
           "xpad": 40
          },
          "colorscale": [
           [
            0,
            "rgb(247,251,255)"
           ],
           [
            0.125,
            "rgb(222,235,247)"
           ],
           [
            0.25,
            "rgb(198,219,239)"
           ],
           [
            0.375,
            "rgb(158,202,225)"
           ],
           [
            0.5,
            "rgb(107,174,214)"
           ],
           [
            0.625,
            "rgb(66,146,198)"
           ],
           [
            0.75,
            "rgb(33,113,181)"
           ],
           [
            0.875,
            "rgb(8,81,156)"
           ],
           [
            1,
            "rgb(8,48,107)"
           ]
          ],
          "line": {
           "color": "Grey",
           "width": 0.5
          },
          "showscale": false
         },
         "mode": "markers",
         "name": "Feasible Trial",
         "showlegend": false,
         "type": "scatter",
         "x": [
          6,
          7,
          4,
          3,
          6,
          8,
          5,
          6,
          7,
          4,
          8,
          4,
          3,
          3,
          4,
          3,
          5,
          4,
          3,
          5,
          4,
          4,
          3,
          3,
          3,
          3,
          4,
          5,
          3,
          4,
          3,
          3,
          3,
          3,
          3,
          3,
          4,
          5,
          4,
          7,
          4,
          3,
          3,
          3,
          3,
          6,
          4,
          4,
          3,
          3
         ],
         "xaxis": "x5",
         "y": [
          1.7509401082865224,
          1.6277715374624464,
          1.8434452458104276,
          1.83885292337709,
          1.9643463268681998,
          2.0641430521386814,
          1.7263385771832738,
          1.8481952383768054,
          2.060704816558438,
          1.6504032179996426,
          1.9802510395128454,
          1.6160107202903298,
          1.611717238538556,
          1.903150127635346,
          1.7716911549618417,
          2.0260795073462594,
          1.9153156404603604,
          1.619644060809137,
          1.8187422099685615,
          1.722267795865152,
          1.9590460050099172,
          1.6242388353242294,
          1.6097896822825948,
          1.7694598641902473,
          1.6965722881401206,
          1.8756807933181239,
          1.8019992968592533,
          1.6994573529912453,
          1.7858181844398213,
          1.7489141417688365,
          1.6124097800683728,
          1.6714414179887913,
          1.612086472069685,
          1.7339688016463868,
          1.6762143787593928,
          1.617200950578145,
          1.6120696834341532,
          1.7470398980714983,
          1.8756677913425115,
          1.6960330536512067,
          1.9981956295485896,
          1.6717898781040397,
          1.6119050243419963,
          1.615725144003926,
          1.7329312817972622,
          1.6576162547512054,
          1.7137174045138308,
          1.8179235263324987,
          1.7682152739145036,
          1.651821151282001
         ],
         "yaxis": "y5"
        },
        {
         "marker": {
          "color": [
           0,
           1,
           2,
           3,
           4,
           5,
           6,
           7,
           8,
           9,
           10,
           11,
           12,
           13,
           14,
           15,
           16,
           17,
           18,
           19,
           20,
           21,
           22,
           23,
           24,
           25,
           26,
           27,
           28,
           29,
           30,
           31,
           32,
           33,
           34,
           35,
           36,
           37,
           38,
           39,
           40,
           41,
           42,
           43,
           44,
           45,
           46,
           47,
           48,
           49
          ],
          "colorbar": {
           "title": {
            "text": "Trial"
           },
           "x": 1,
           "xpad": 40
          },
          "colorscale": [
           [
            0,
            "rgb(247,251,255)"
           ],
           [
            0.125,
            "rgb(222,235,247)"
           ],
           [
            0.25,
            "rgb(198,219,239)"
           ],
           [
            0.375,
            "rgb(158,202,225)"
           ],
           [
            0.5,
            "rgb(107,174,214)"
           ],
           [
            0.625,
            "rgb(66,146,198)"
           ],
           [
            0.75,
            "rgb(33,113,181)"
           ],
           [
            0.875,
            "rgb(8,81,156)"
           ],
           [
            1,
            "rgb(8,48,107)"
           ]
          ],
          "line": {
           "color": "Grey",
           "width": 0.5
          },
          "showscale": false
         },
         "mode": "markers",
         "name": "Feasible Trial",
         "showlegend": false,
         "type": "scatter",
         "x": [
          16,
          14,
          7,
          14,
          8,
          6,
          15,
          9,
          20,
          6,
          11,
          11,
          12,
          11,
          11,
          18,
          12,
          9,
          13,
          17,
          10,
          9,
          9,
          13,
          5,
          12,
          10,
          8,
          10,
          8,
          16,
          16,
          14,
          15,
          14,
          18,
          15,
          15,
          14,
          13,
          17,
          16,
          17,
          19,
          14,
          17,
          15,
          12,
          7,
          20
         ],
         "xaxis": "x6",
         "y": [
          1.7509401082865224,
          1.6277715374624464,
          1.8434452458104276,
          1.83885292337709,
          1.9643463268681998,
          2.0641430521386814,
          1.7263385771832738,
          1.8481952383768054,
          2.060704816558438,
          1.6504032179996426,
          1.9802510395128454,
          1.6160107202903298,
          1.611717238538556,
          1.903150127635346,
          1.7716911549618417,
          2.0260795073462594,
          1.9153156404603604,
          1.619644060809137,
          1.8187422099685615,
          1.722267795865152,
          1.9590460050099172,
          1.6242388353242294,
          1.6097896822825948,
          1.7694598641902473,
          1.6965722881401206,
          1.8756807933181239,
          1.8019992968592533,
          1.6994573529912453,
          1.7858181844398213,
          1.7489141417688365,
          1.6124097800683728,
          1.6714414179887913,
          1.612086472069685,
          1.7339688016463868,
          1.6762143787593928,
          1.617200950578145,
          1.6120696834341532,
          1.7470398980714983,
          1.8756677913425115,
          1.6960330536512067,
          1.9981956295485896,
          1.6717898781040397,
          1.6119050243419963,
          1.615725144003926,
          1.7329312817972622,
          1.6576162547512054,
          1.7137174045138308,
          1.8179235263324987,
          1.7682152739145036,
          1.651821151282001
         ],
         "yaxis": "y6"
        },
        {
         "marker": {
          "color": [
           0,
           1,
           2,
           3,
           4,
           5,
           6,
           7,
           8,
           9,
           10,
           11,
           12,
           13,
           14,
           15,
           16,
           17,
           18,
           19,
           20,
           21,
           22,
           23,
           24,
           25,
           26,
           27,
           28,
           29,
           30,
           31,
           32,
           33,
           34,
           35,
           36,
           37,
           38,
           39,
           40,
           41,
           42,
           43,
           44,
           45,
           46,
           47,
           48,
           49
          ],
          "colorbar": {
           "title": {
            "text": "Trial"
           },
           "x": 1,
           "xpad": 40
          },
          "colorscale": [
           [
            0,
            "rgb(247,251,255)"
           ],
           [
            0.125,
            "rgb(222,235,247)"
           ],
           [
            0.25,
            "rgb(198,219,239)"
           ],
           [
            0.375,
            "rgb(158,202,225)"
           ],
           [
            0.5,
            "rgb(107,174,214)"
           ],
           [
            0.625,
            "rgb(66,146,198)"
           ],
           [
            0.75,
            "rgb(33,113,181)"
           ],
           [
            0.875,
            "rgb(8,81,156)"
           ],
           [
            1,
            "rgb(8,48,107)"
           ]
          ],
          "line": {
           "color": "Grey",
           "width": 0.5
          },
          "showscale": false
         },
         "mode": "markers",
         "name": "Feasible Trial",
         "showlegend": false,
         "type": "scatter",
         "x": [
          625,
          434,
          900,
          659,
          674,
          765,
          583,
          420,
          728,
          759,
          412,
          897,
          970,
          978,
          866,
          1000,
          858,
          927,
          798,
          824,
          938,
          941,
          910,
          872,
          972,
          831,
          911,
          553,
          956,
          791,
          1000,
          990,
          893,
          891,
          952,
          476,
          837,
          832,
          706,
          644,
          749,
          918,
          885,
          876,
          847,
          790,
          910,
          889,
          964,
          815
         ],
         "xaxis": "x7",
         "y": [
          1.7509401082865224,
          1.6277715374624464,
          1.8434452458104276,
          1.83885292337709,
          1.9643463268681998,
          2.0641430521386814,
          1.7263385771832738,
          1.8481952383768054,
          2.060704816558438,
          1.6504032179996426,
          1.9802510395128454,
          1.6160107202903298,
          1.611717238538556,
          1.903150127635346,
          1.7716911549618417,
          2.0260795073462594,
          1.9153156404603604,
          1.619644060809137,
          1.8187422099685615,
          1.722267795865152,
          1.9590460050099172,
          1.6242388353242294,
          1.6097896822825948,
          1.7694598641902473,
          1.6965722881401206,
          1.8756807933181239,
          1.8019992968592533,
          1.6994573529912453,
          1.7858181844398213,
          1.7489141417688365,
          1.6124097800683728,
          1.6714414179887913,
          1.612086472069685,
          1.7339688016463868,
          1.6762143787593928,
          1.617200950578145,
          1.6120696834341532,
          1.7470398980714983,
          1.8756677913425115,
          1.6960330536512067,
          1.9981956295485896,
          1.6717898781040397,
          1.6119050243419963,
          1.615725144003926,
          1.7329312817972622,
          1.6576162547512054,
          1.7137174045138308,
          1.8179235263324987,
          1.7682152739145036,
          1.651821151282001
         ],
         "yaxis": "y7"
        }
       ],
       "layout": {
        "template": {
         "data": {
          "bar": [
           {
            "error_x": {
             "color": "#2a3f5f"
            },
            "error_y": {
             "color": "#2a3f5f"
            },
            "marker": {
             "line": {
              "color": "#E5ECF6",
              "width": 0.5
             },
             "pattern": {
              "fillmode": "overlay",
              "size": 10,
              "solidity": 0.2
             }
            },
            "type": "bar"
           }
          ],
          "barpolar": [
           {
            "marker": {
             "line": {
              "color": "#E5ECF6",
              "width": 0.5
             },
             "pattern": {
              "fillmode": "overlay",
              "size": 10,
              "solidity": 0.2
             }
            },
            "type": "barpolar"
           }
          ],
          "carpet": [
           {
            "aaxis": {
             "endlinecolor": "#2a3f5f",
             "gridcolor": "white",
             "linecolor": "white",
             "minorgridcolor": "white",
             "startlinecolor": "#2a3f5f"
            },
            "baxis": {
             "endlinecolor": "#2a3f5f",
             "gridcolor": "white",
             "linecolor": "white",
             "minorgridcolor": "white",
             "startlinecolor": "#2a3f5f"
            },
            "type": "carpet"
           }
          ],
          "choropleth": [
           {
            "colorbar": {
             "outlinewidth": 0,
             "ticks": ""
            },
            "type": "choropleth"
           }
          ],
          "contour": [
           {
            "colorbar": {
             "outlinewidth": 0,
             "ticks": ""
            },
            "colorscale": [
             [
              0,
              "#0d0887"
             ],
             [
              0.1111111111111111,
              "#46039f"
             ],
             [
              0.2222222222222222,
              "#7201a8"
             ],
             [
              0.3333333333333333,
              "#9c179e"
             ],
             [
              0.4444444444444444,
              "#bd3786"
             ],
             [
              0.5555555555555556,
              "#d8576b"
             ],
             [
              0.6666666666666666,
              "#ed7953"
             ],
             [
              0.7777777777777778,
              "#fb9f3a"
             ],
             [
              0.8888888888888888,
              "#fdca26"
             ],
             [
              1,
              "#f0f921"
             ]
            ],
            "type": "contour"
           }
          ],
          "contourcarpet": [
           {
            "colorbar": {
             "outlinewidth": 0,
             "ticks": ""
            },
            "type": "contourcarpet"
           }
          ],
          "heatmap": [
           {
            "colorbar": {
             "outlinewidth": 0,
             "ticks": ""
            },
            "colorscale": [
             [
              0,
              "#0d0887"
             ],
             [
              0.1111111111111111,
              "#46039f"
             ],
             [
              0.2222222222222222,
              "#7201a8"
             ],
             [
              0.3333333333333333,
              "#9c179e"
             ],
             [
              0.4444444444444444,
              "#bd3786"
             ],
             [
              0.5555555555555556,
              "#d8576b"
             ],
             [
              0.6666666666666666,
              "#ed7953"
             ],
             [
              0.7777777777777778,
              "#fb9f3a"
             ],
             [
              0.8888888888888888,
              "#fdca26"
             ],
             [
              1,
              "#f0f921"
             ]
            ],
            "type": "heatmap"
           }
          ],
          "histogram": [
           {
            "marker": {
             "pattern": {
              "fillmode": "overlay",
              "size": 10,
              "solidity": 0.2
             }
            },
            "type": "histogram"
           }
          ],
          "histogram2d": [
           {
            "colorbar": {
             "outlinewidth": 0,
             "ticks": ""
            },
            "colorscale": [
             [
              0,
              "#0d0887"
             ],
             [
              0.1111111111111111,
              "#46039f"
             ],
             [
              0.2222222222222222,
              "#7201a8"
             ],
             [
              0.3333333333333333,
              "#9c179e"
             ],
             [
              0.4444444444444444,
              "#bd3786"
             ],
             [
              0.5555555555555556,
              "#d8576b"
             ],
             [
              0.6666666666666666,
              "#ed7953"
             ],
             [
              0.7777777777777778,
              "#fb9f3a"
             ],
             [
              0.8888888888888888,
              "#fdca26"
             ],
             [
              1,
              "#f0f921"
             ]
            ],
            "type": "histogram2d"
           }
          ],
          "histogram2dcontour": [
           {
            "colorbar": {
             "outlinewidth": 0,
             "ticks": ""
            },
            "colorscale": [
             [
              0,
              "#0d0887"
             ],
             [
              0.1111111111111111,
              "#46039f"
             ],
             [
              0.2222222222222222,
              "#7201a8"
             ],
             [
              0.3333333333333333,
              "#9c179e"
             ],
             [
              0.4444444444444444,
              "#bd3786"
             ],
             [
              0.5555555555555556,
              "#d8576b"
             ],
             [
              0.6666666666666666,
              "#ed7953"
             ],
             [
              0.7777777777777778,
              "#fb9f3a"
             ],
             [
              0.8888888888888888,
              "#fdca26"
             ],
             [
              1,
              "#f0f921"
             ]
            ],
            "type": "histogram2dcontour"
           }
          ],
          "mesh3d": [
           {
            "colorbar": {
             "outlinewidth": 0,
             "ticks": ""
            },
            "type": "mesh3d"
           }
          ],
          "parcoords": [
           {
            "line": {
             "colorbar": {
              "outlinewidth": 0,
              "ticks": ""
             }
            },
            "type": "parcoords"
           }
          ],
          "pie": [
           {
            "automargin": true,
            "type": "pie"
           }
          ],
          "scatter": [
           {
            "fillpattern": {
             "fillmode": "overlay",
             "size": 10,
             "solidity": 0.2
            },
            "type": "scatter"
           }
          ],
          "scatter3d": [
           {
            "line": {
             "colorbar": {
              "outlinewidth": 0,
              "ticks": ""
             }
            },
            "marker": {
             "colorbar": {
              "outlinewidth": 0,
              "ticks": ""
             }
            },
            "type": "scatter3d"
           }
          ],
          "scattercarpet": [
           {
            "marker": {
             "colorbar": {
              "outlinewidth": 0,
              "ticks": ""
             }
            },
            "type": "scattercarpet"
           }
          ],
          "scattergeo": [
           {
            "marker": {
             "colorbar": {
              "outlinewidth": 0,
              "ticks": ""
             }
            },
            "type": "scattergeo"
           }
          ],
          "scattergl": [
           {
            "marker": {
             "colorbar": {
              "outlinewidth": 0,
              "ticks": ""
             }
            },
            "type": "scattergl"
           }
          ],
          "scattermap": [
           {
            "marker": {
             "colorbar": {
              "outlinewidth": 0,
              "ticks": ""
             }
            },
            "type": "scattermap"
           }
          ],
          "scattermapbox": [
           {
            "marker": {
             "colorbar": {
              "outlinewidth": 0,
              "ticks": ""
             }
            },
            "type": "scattermapbox"
           }
          ],
          "scatterpolar": [
           {
            "marker": {
             "colorbar": {
              "outlinewidth": 0,
              "ticks": ""
             }
            },
            "type": "scatterpolar"
           }
          ],
          "scatterpolargl": [
           {
            "marker": {
             "colorbar": {
              "outlinewidth": 0,
              "ticks": ""
             }
            },
            "type": "scatterpolargl"
           }
          ],
          "scatterternary": [
           {
            "marker": {
             "colorbar": {
              "outlinewidth": 0,
              "ticks": ""
             }
            },
            "type": "scatterternary"
           }
          ],
          "surface": [
           {
            "colorbar": {
             "outlinewidth": 0,
             "ticks": ""
            },
            "colorscale": [
             [
              0,
              "#0d0887"
             ],
             [
              0.1111111111111111,
              "#46039f"
             ],
             [
              0.2222222222222222,
              "#7201a8"
             ],
             [
              0.3333333333333333,
              "#9c179e"
             ],
             [
              0.4444444444444444,
              "#bd3786"
             ],
             [
              0.5555555555555556,
              "#d8576b"
             ],
             [
              0.6666666666666666,
              "#ed7953"
             ],
             [
              0.7777777777777778,
              "#fb9f3a"
             ],
             [
              0.8888888888888888,
              "#fdca26"
             ],
             [
              1,
              "#f0f921"
             ]
            ],
            "type": "surface"
           }
          ],
          "table": [
           {
            "cells": {
             "fill": {
              "color": "#EBF0F8"
             },
             "line": {
              "color": "white"
             }
            },
            "header": {
             "fill": {
              "color": "#C8D4E3"
             },
             "line": {
              "color": "white"
             }
            },
            "type": "table"
           }
          ]
         },
         "layout": {
          "annotationdefaults": {
           "arrowcolor": "#2a3f5f",
           "arrowhead": 0,
           "arrowwidth": 1
          },
          "autotypenumbers": "strict",
          "coloraxis": {
           "colorbar": {
            "outlinewidth": 0,
            "ticks": ""
           }
          },
          "colorscale": {
           "diverging": [
            [
             0,
             "#8e0152"
            ],
            [
             0.1,
             "#c51b7d"
            ],
            [
             0.2,
             "#de77ae"
            ],
            [
             0.3,
             "#f1b6da"
            ],
            [
             0.4,
             "#fde0ef"
            ],
            [
             0.5,
             "#f7f7f7"
            ],
            [
             0.6,
             "#e6f5d0"
            ],
            [
             0.7,
             "#b8e186"
            ],
            [
             0.8,
             "#7fbc41"
            ],
            [
             0.9,
             "#4d9221"
            ],
            [
             1,
             "#276419"
            ]
           ],
           "sequential": [
            [
             0,
             "#0d0887"
            ],
            [
             0.1111111111111111,
             "#46039f"
            ],
            [
             0.2222222222222222,
             "#7201a8"
            ],
            [
             0.3333333333333333,
             "#9c179e"
            ],
            [
             0.4444444444444444,
             "#bd3786"
            ],
            [
             0.5555555555555556,
             "#d8576b"
            ],
            [
             0.6666666666666666,
             "#ed7953"
            ],
            [
             0.7777777777777778,
             "#fb9f3a"
            ],
            [
             0.8888888888888888,
             "#fdca26"
            ],
            [
             1,
             "#f0f921"
            ]
           ],
           "sequentialminus": [
            [
             0,
             "#0d0887"
            ],
            [
             0.1111111111111111,
             "#46039f"
            ],
            [
             0.2222222222222222,
             "#7201a8"
            ],
            [
             0.3333333333333333,
             "#9c179e"
            ],
            [
             0.4444444444444444,
             "#bd3786"
            ],
            [
             0.5555555555555556,
             "#d8576b"
            ],
            [
             0.6666666666666666,
             "#ed7953"
            ],
            [
             0.7777777777777778,
             "#fb9f3a"
            ],
            [
             0.8888888888888888,
             "#fdca26"
            ],
            [
             1,
             "#f0f921"
            ]
           ]
          },
          "colorway": [
           "#636efa",
           "#EF553B",
           "#00cc96",
           "#ab63fa",
           "#FFA15A",
           "#19d3f3",
           "#FF6692",
           "#B6E880",
           "#FF97FF",
           "#FECB52"
          ],
          "font": {
           "color": "#2a3f5f"
          },
          "geo": {
           "bgcolor": "white",
           "lakecolor": "white",
           "landcolor": "#E5ECF6",
           "showlakes": true,
           "showland": true,
           "subunitcolor": "white"
          },
          "hoverlabel": {
           "align": "left"
          },
          "hovermode": "closest",
          "mapbox": {
           "style": "light"
          },
          "paper_bgcolor": "white",
          "plot_bgcolor": "#E5ECF6",
          "polar": {
           "angularaxis": {
            "gridcolor": "white",
            "linecolor": "white",
            "ticks": ""
           },
           "bgcolor": "#E5ECF6",
           "radialaxis": {
            "gridcolor": "white",
            "linecolor": "white",
            "ticks": ""
           }
          },
          "scene": {
           "xaxis": {
            "backgroundcolor": "#E5ECF6",
            "gridcolor": "white",
            "gridwidth": 2,
            "linecolor": "white",
            "showbackground": true,
            "ticks": "",
            "zerolinecolor": "white"
           },
           "yaxis": {
            "backgroundcolor": "#E5ECF6",
            "gridcolor": "white",
            "gridwidth": 2,
            "linecolor": "white",
            "showbackground": true,
            "ticks": "",
            "zerolinecolor": "white"
           },
           "zaxis": {
            "backgroundcolor": "#E5ECF6",
            "gridcolor": "white",
            "gridwidth": 2,
            "linecolor": "white",
            "showbackground": true,
            "ticks": "",
            "zerolinecolor": "white"
           }
          },
          "shapedefaults": {
           "line": {
            "color": "#2a3f5f"
           }
          },
          "ternary": {
           "aaxis": {
            "gridcolor": "white",
            "linecolor": "white",
            "ticks": ""
           },
           "baxis": {
            "gridcolor": "white",
            "linecolor": "white",
            "ticks": ""
           },
           "bgcolor": "#E5ECF6",
           "caxis": {
            "gridcolor": "white",
            "linecolor": "white",
            "ticks": ""
           }
          },
          "title": {
           "x": 0.05
          },
          "xaxis": {
           "automargin": true,
           "gridcolor": "white",
           "linecolor": "white",
           "ticks": "",
           "title": {
            "standoff": 15
           },
           "zerolinecolor": "white",
           "zerolinewidth": 2
          },
          "yaxis": {
           "automargin": true,
           "gridcolor": "white",
           "linecolor": "white",
           "ticks": "",
           "title": {
            "standoff": 15
           },
           "zerolinecolor": "white",
           "zerolinewidth": 2
          }
         }
        },
        "title": {
         "text": "Slice Plot"
        },
        "width": 2100,
        "xaxis": {
         "anchor": "y",
         "domain": [
          0,
          0.1183673469387755
         ],
         "title": {
          "text": "max_depth"
         }
        },
        "xaxis2": {
         "anchor": "y2",
         "categoryarray": [
          "sqrt"
         ],
         "categoryorder": "array",
         "domain": [
          0.14693877551020407,
          0.26530612244897955
         ],
         "title": {
          "text": "max_features"
         },
         "type": "category"
        },
        "xaxis3": {
         "anchor": "y3",
         "domain": [
          0.29387755102040813,
          0.4122448979591836
         ],
         "title": {
          "text": "max_leaf_nodes"
         }
        },
        "xaxis4": {
         "anchor": "y4",
         "domain": [
          0.4408163265306122,
          0.5591836734693877
         ],
         "title": {
          "text": "min_impurity_decrease"
         }
        },
        "xaxis5": {
         "anchor": "y5",
         "domain": [
          0.5877551020408163,
          0.7061224489795918
         ],
         "title": {
          "text": "min_samples_leaf"
         }
        },
        "xaxis6": {
         "anchor": "y6",
         "domain": [
          0.7346938775510204,
          0.8530612244897959
         ],
         "title": {
          "text": "min_samples_split"
         }
        },
        "xaxis7": {
         "anchor": "y7",
         "domain": [
          0.8816326530612244,
          0.9999999999999999
         ],
         "title": {
          "text": "n_estimators"
         }
        },
        "yaxis": {
         "anchor": "x",
         "domain": [
          0,
          1
         ],
         "title": {
          "text": "Objective Value"
         }
        },
        "yaxis2": {
         "anchor": "x2",
         "domain": [
          0,
          1
         ],
         "matches": "y",
         "showticklabels": false
        },
        "yaxis3": {
         "anchor": "x3",
         "domain": [
          0,
          1
         ],
         "matches": "y",
         "showticklabels": false
        },
        "yaxis4": {
         "anchor": "x4",
         "domain": [
          0,
          1
         ],
         "matches": "y",
         "showticklabels": false
        },
        "yaxis5": {
         "anchor": "x5",
         "domain": [
          0,
          1
         ],
         "matches": "y",
         "showticklabels": false
        },
        "yaxis6": {
         "anchor": "x6",
         "domain": [
          0,
          1
         ],
         "matches": "y",
         "showticklabels": false
        },
        "yaxis7": {
         "anchor": "x7",
         "domain": [
          0,
          1
         ],
         "matches": "y",
         "showticklabels": false
        }
       }
      }
     },
     "metadata": {},
     "output_type": "display_data"
    }
   ],
   "source": [
    "vis.plot_slice(study=study)"
   ]
  },
  {
   "cell_type": "code",
   "execution_count": 23,
   "id": "583b4c36",
   "metadata": {},
   "outputs": [
    {
     "data": {
      "application/vnd.plotly.v1+json": {
       "config": {
        "plotlyServerURL": "https://plot.ly"
       },
       "data": [
        {
         "cliponaxis": false,
         "hovertemplate": [
          "max_features (CategoricalDistribution): 0.0<extra></extra>",
          "min_samples_leaf (IntDistribution): 0.0008209044560415966<extra></extra>",
          "n_estimators (IntDistribution): 0.0015227862774479957<extra></extra>",
          "max_leaf_nodes (IntDistribution): 0.0020556221568243543<extra></extra>",
          "max_depth (IntDistribution): 0.0028506702228867716<extra></extra>",
          "min_samples_split (IntDistribution): 0.004829643683331193<extra></extra>",
          "min_impurity_decrease (FloatDistribution): 0.987920373203468<extra></extra>"
         ],
         "name": "Objective Value",
         "orientation": "h",
         "text": [
          "<0.01",
          "<0.01",
          "<0.01",
          "<0.01",
          "<0.01",
          "<0.01",
          "0.99"
         ],
         "textposition": "outside",
         "type": "bar",
         "x": [
          0,
          0.0008209044560415966,
          0.0015227862774479957,
          0.0020556221568243543,
          0.0028506702228867716,
          0.004829643683331193,
          0.987920373203468
         ],
         "y": [
          "max_features",
          "min_samples_leaf",
          "n_estimators",
          "max_leaf_nodes",
          "max_depth",
          "min_samples_split",
          "min_impurity_decrease"
         ]
        }
       ],
       "layout": {
        "template": {
         "data": {
          "bar": [
           {
            "error_x": {
             "color": "#2a3f5f"
            },
            "error_y": {
             "color": "#2a3f5f"
            },
            "marker": {
             "line": {
              "color": "#E5ECF6",
              "width": 0.5
             },
             "pattern": {
              "fillmode": "overlay",
              "size": 10,
              "solidity": 0.2
             }
            },
            "type": "bar"
           }
          ],
          "barpolar": [
           {
            "marker": {
             "line": {
              "color": "#E5ECF6",
              "width": 0.5
             },
             "pattern": {
              "fillmode": "overlay",
              "size": 10,
              "solidity": 0.2
             }
            },
            "type": "barpolar"
           }
          ],
          "carpet": [
           {
            "aaxis": {
             "endlinecolor": "#2a3f5f",
             "gridcolor": "white",
             "linecolor": "white",
             "minorgridcolor": "white",
             "startlinecolor": "#2a3f5f"
            },
            "baxis": {
             "endlinecolor": "#2a3f5f",
             "gridcolor": "white",
             "linecolor": "white",
             "minorgridcolor": "white",
             "startlinecolor": "#2a3f5f"
            },
            "type": "carpet"
           }
          ],
          "choropleth": [
           {
            "colorbar": {
             "outlinewidth": 0,
             "ticks": ""
            },
            "type": "choropleth"
           }
          ],
          "contour": [
           {
            "colorbar": {
             "outlinewidth": 0,
             "ticks": ""
            },
            "colorscale": [
             [
              0,
              "#0d0887"
             ],
             [
              0.1111111111111111,
              "#46039f"
             ],
             [
              0.2222222222222222,
              "#7201a8"
             ],
             [
              0.3333333333333333,
              "#9c179e"
             ],
             [
              0.4444444444444444,
              "#bd3786"
             ],
             [
              0.5555555555555556,
              "#d8576b"
             ],
             [
              0.6666666666666666,
              "#ed7953"
             ],
             [
              0.7777777777777778,
              "#fb9f3a"
             ],
             [
              0.8888888888888888,
              "#fdca26"
             ],
             [
              1,
              "#f0f921"
             ]
            ],
            "type": "contour"
           }
          ],
          "contourcarpet": [
           {
            "colorbar": {
             "outlinewidth": 0,
             "ticks": ""
            },
            "type": "contourcarpet"
           }
          ],
          "heatmap": [
           {
            "colorbar": {
             "outlinewidth": 0,
             "ticks": ""
            },
            "colorscale": [
             [
              0,
              "#0d0887"
             ],
             [
              0.1111111111111111,
              "#46039f"
             ],
             [
              0.2222222222222222,
              "#7201a8"
             ],
             [
              0.3333333333333333,
              "#9c179e"
             ],
             [
              0.4444444444444444,
              "#bd3786"
             ],
             [
              0.5555555555555556,
              "#d8576b"
             ],
             [
              0.6666666666666666,
              "#ed7953"
             ],
             [
              0.7777777777777778,
              "#fb9f3a"
             ],
             [
              0.8888888888888888,
              "#fdca26"
             ],
             [
              1,
              "#f0f921"
             ]
            ],
            "type": "heatmap"
           }
          ],
          "histogram": [
           {
            "marker": {
             "pattern": {
              "fillmode": "overlay",
              "size": 10,
              "solidity": 0.2
             }
            },
            "type": "histogram"
           }
          ],
          "histogram2d": [
           {
            "colorbar": {
             "outlinewidth": 0,
             "ticks": ""
            },
            "colorscale": [
             [
              0,
              "#0d0887"
             ],
             [
              0.1111111111111111,
              "#46039f"
             ],
             [
              0.2222222222222222,
              "#7201a8"
             ],
             [
              0.3333333333333333,
              "#9c179e"
             ],
             [
              0.4444444444444444,
              "#bd3786"
             ],
             [
              0.5555555555555556,
              "#d8576b"
             ],
             [
              0.6666666666666666,
              "#ed7953"
             ],
             [
              0.7777777777777778,
              "#fb9f3a"
             ],
             [
              0.8888888888888888,
              "#fdca26"
             ],
             [
              1,
              "#f0f921"
             ]
            ],
            "type": "histogram2d"
           }
          ],
          "histogram2dcontour": [
           {
            "colorbar": {
             "outlinewidth": 0,
             "ticks": ""
            },
            "colorscale": [
             [
              0,
              "#0d0887"
             ],
             [
              0.1111111111111111,
              "#46039f"
             ],
             [
              0.2222222222222222,
              "#7201a8"
             ],
             [
              0.3333333333333333,
              "#9c179e"
             ],
             [
              0.4444444444444444,
              "#bd3786"
             ],
             [
              0.5555555555555556,
              "#d8576b"
             ],
             [
              0.6666666666666666,
              "#ed7953"
             ],
             [
              0.7777777777777778,
              "#fb9f3a"
             ],
             [
              0.8888888888888888,
              "#fdca26"
             ],
             [
              1,
              "#f0f921"
             ]
            ],
            "type": "histogram2dcontour"
           }
          ],
          "mesh3d": [
           {
            "colorbar": {
             "outlinewidth": 0,
             "ticks": ""
            },
            "type": "mesh3d"
           }
          ],
          "parcoords": [
           {
            "line": {
             "colorbar": {
              "outlinewidth": 0,
              "ticks": ""
             }
            },
            "type": "parcoords"
           }
          ],
          "pie": [
           {
            "automargin": true,
            "type": "pie"
           }
          ],
          "scatter": [
           {
            "fillpattern": {
             "fillmode": "overlay",
             "size": 10,
             "solidity": 0.2
            },
            "type": "scatter"
           }
          ],
          "scatter3d": [
           {
            "line": {
             "colorbar": {
              "outlinewidth": 0,
              "ticks": ""
             }
            },
            "marker": {
             "colorbar": {
              "outlinewidth": 0,
              "ticks": ""
             }
            },
            "type": "scatter3d"
           }
          ],
          "scattercarpet": [
           {
            "marker": {
             "colorbar": {
              "outlinewidth": 0,
              "ticks": ""
             }
            },
            "type": "scattercarpet"
           }
          ],
          "scattergeo": [
           {
            "marker": {
             "colorbar": {
              "outlinewidth": 0,
              "ticks": ""
             }
            },
            "type": "scattergeo"
           }
          ],
          "scattergl": [
           {
            "marker": {
             "colorbar": {
              "outlinewidth": 0,
              "ticks": ""
             }
            },
            "type": "scattergl"
           }
          ],
          "scattermap": [
           {
            "marker": {
             "colorbar": {
              "outlinewidth": 0,
              "ticks": ""
             }
            },
            "type": "scattermap"
           }
          ],
          "scattermapbox": [
           {
            "marker": {
             "colorbar": {
              "outlinewidth": 0,
              "ticks": ""
             }
            },
            "type": "scattermapbox"
           }
          ],
          "scatterpolar": [
           {
            "marker": {
             "colorbar": {
              "outlinewidth": 0,
              "ticks": ""
             }
            },
            "type": "scatterpolar"
           }
          ],
          "scatterpolargl": [
           {
            "marker": {
             "colorbar": {
              "outlinewidth": 0,
              "ticks": ""
             }
            },
            "type": "scatterpolargl"
           }
          ],
          "scatterternary": [
           {
            "marker": {
             "colorbar": {
              "outlinewidth": 0,
              "ticks": ""
             }
            },
            "type": "scatterternary"
           }
          ],
          "surface": [
           {
            "colorbar": {
             "outlinewidth": 0,
             "ticks": ""
            },
            "colorscale": [
             [
              0,
              "#0d0887"
             ],
             [
              0.1111111111111111,
              "#46039f"
             ],
             [
              0.2222222222222222,
              "#7201a8"
             ],
             [
              0.3333333333333333,
              "#9c179e"
             ],
             [
              0.4444444444444444,
              "#bd3786"
             ],
             [
              0.5555555555555556,
              "#d8576b"
             ],
             [
              0.6666666666666666,
              "#ed7953"
             ],
             [
              0.7777777777777778,
              "#fb9f3a"
             ],
             [
              0.8888888888888888,
              "#fdca26"
             ],
             [
              1,
              "#f0f921"
             ]
            ],
            "type": "surface"
           }
          ],
          "table": [
           {
            "cells": {
             "fill": {
              "color": "#EBF0F8"
             },
             "line": {
              "color": "white"
             }
            },
            "header": {
             "fill": {
              "color": "#C8D4E3"
             },
             "line": {
              "color": "white"
             }
            },
            "type": "table"
           }
          ]
         },
         "layout": {
          "annotationdefaults": {
           "arrowcolor": "#2a3f5f",
           "arrowhead": 0,
           "arrowwidth": 1
          },
          "autotypenumbers": "strict",
          "coloraxis": {
           "colorbar": {
            "outlinewidth": 0,
            "ticks": ""
           }
          },
          "colorscale": {
           "diverging": [
            [
             0,
             "#8e0152"
            ],
            [
             0.1,
             "#c51b7d"
            ],
            [
             0.2,
             "#de77ae"
            ],
            [
             0.3,
             "#f1b6da"
            ],
            [
             0.4,
             "#fde0ef"
            ],
            [
             0.5,
             "#f7f7f7"
            ],
            [
             0.6,
             "#e6f5d0"
            ],
            [
             0.7,
             "#b8e186"
            ],
            [
             0.8,
             "#7fbc41"
            ],
            [
             0.9,
             "#4d9221"
            ],
            [
             1,
             "#276419"
            ]
           ],
           "sequential": [
            [
             0,
             "#0d0887"
            ],
            [
             0.1111111111111111,
             "#46039f"
            ],
            [
             0.2222222222222222,
             "#7201a8"
            ],
            [
             0.3333333333333333,
             "#9c179e"
            ],
            [
             0.4444444444444444,
             "#bd3786"
            ],
            [
             0.5555555555555556,
             "#d8576b"
            ],
            [
             0.6666666666666666,
             "#ed7953"
            ],
            [
             0.7777777777777778,
             "#fb9f3a"
            ],
            [
             0.8888888888888888,
             "#fdca26"
            ],
            [
             1,
             "#f0f921"
            ]
           ],
           "sequentialminus": [
            [
             0,
             "#0d0887"
            ],
            [
             0.1111111111111111,
             "#46039f"
            ],
            [
             0.2222222222222222,
             "#7201a8"
            ],
            [
             0.3333333333333333,
             "#9c179e"
            ],
            [
             0.4444444444444444,
             "#bd3786"
            ],
            [
             0.5555555555555556,
             "#d8576b"
            ],
            [
             0.6666666666666666,
             "#ed7953"
            ],
            [
             0.7777777777777778,
             "#fb9f3a"
            ],
            [
             0.8888888888888888,
             "#fdca26"
            ],
            [
             1,
             "#f0f921"
            ]
           ]
          },
          "colorway": [
           "#636efa",
           "#EF553B",
           "#00cc96",
           "#ab63fa",
           "#FFA15A",
           "#19d3f3",
           "#FF6692",
           "#B6E880",
           "#FF97FF",
           "#FECB52"
          ],
          "font": {
           "color": "#2a3f5f"
          },
          "geo": {
           "bgcolor": "white",
           "lakecolor": "white",
           "landcolor": "#E5ECF6",
           "showlakes": true,
           "showland": true,
           "subunitcolor": "white"
          },
          "hoverlabel": {
           "align": "left"
          },
          "hovermode": "closest",
          "mapbox": {
           "style": "light"
          },
          "paper_bgcolor": "white",
          "plot_bgcolor": "#E5ECF6",
          "polar": {
           "angularaxis": {
            "gridcolor": "white",
            "linecolor": "white",
            "ticks": ""
           },
           "bgcolor": "#E5ECF6",
           "radialaxis": {
            "gridcolor": "white",
            "linecolor": "white",
            "ticks": ""
           }
          },
          "scene": {
           "xaxis": {
            "backgroundcolor": "#E5ECF6",
            "gridcolor": "white",
            "gridwidth": 2,
            "linecolor": "white",
            "showbackground": true,
            "ticks": "",
            "zerolinecolor": "white"
           },
           "yaxis": {
            "backgroundcolor": "#E5ECF6",
            "gridcolor": "white",
            "gridwidth": 2,
            "linecolor": "white",
            "showbackground": true,
            "ticks": "",
            "zerolinecolor": "white"
           },
           "zaxis": {
            "backgroundcolor": "#E5ECF6",
            "gridcolor": "white",
            "gridwidth": 2,
            "linecolor": "white",
            "showbackground": true,
            "ticks": "",
            "zerolinecolor": "white"
           }
          },
          "shapedefaults": {
           "line": {
            "color": "#2a3f5f"
           }
          },
          "ternary": {
           "aaxis": {
            "gridcolor": "white",
            "linecolor": "white",
            "ticks": ""
           },
           "baxis": {
            "gridcolor": "white",
            "linecolor": "white",
            "ticks": ""
           },
           "bgcolor": "#E5ECF6",
           "caxis": {
            "gridcolor": "white",
            "linecolor": "white",
            "ticks": ""
           }
          },
          "title": {
           "x": 0.05
          },
          "xaxis": {
           "automargin": true,
           "gridcolor": "white",
           "linecolor": "white",
           "ticks": "",
           "title": {
            "standoff": 15
           },
           "zerolinecolor": "white",
           "zerolinewidth": 2
          },
          "yaxis": {
           "automargin": true,
           "gridcolor": "white",
           "linecolor": "white",
           "ticks": "",
           "title": {
            "standoff": 15
           },
           "zerolinecolor": "white",
           "zerolinewidth": 2
          }
         }
        },
        "title": {
         "text": "Hyperparameter Importances"
        },
        "xaxis": {
         "title": {
          "text": "Hyperparameter Importance"
         }
        },
        "yaxis": {
         "title": {
          "text": "Hyperparameter"
         }
        }
       }
      }
     },
     "metadata": {},
     "output_type": "display_data"
    }
   ],
   "source": [
    "vis.plot_param_importances(study=study)"
   ]
  },
  {
   "cell_type": "markdown",
   "id": "d1e4330c",
   "metadata": {},
   "source": [
    "### Extra Tree"
   ]
  },
  {
   "cell_type": "code",
   "execution_count": null,
   "id": "f0180fa8",
   "metadata": {},
   "outputs": [
    {
     "name": "stdout",
     "output_type": "stream",
     "text": [
      "ClearML Task: created new task id=20da5909b4454c7baafbb9ecb538dd94\n",
      "ClearML results page: https://app.clear.ml/projects/01d8ce929f0243de9a9d3adf48970730/experiments/20da5909b4454c7baafbb9ecb538dd94/output/log\n",
      "✅ Task created successfully!\n",
      "Task ID: 20da5909b4454c7baafbb9ecb538dd94\n"
     ]
    },
    {
     "name": "stdout",
     "output_type": "stream",
     "text": [
      "ClearML Monitor: GPU monitoring failed getting GPU reading, switching off GPU monitoring\n",
      "ClearML Monitor: Could not detect iteration reporting, falling back to iterations as seconds-from-start\n",
      "2025-10-21 07:19:33,915 - clearml.storage - INFO - Uploading: 21.70MB from c:/Users/Admin/Documents/ML/group1/models/Tuning_ExTree_model.pkl\n"
     ]
    },
    {
     "name": "stderr",
     "output_type": "stream",
     "text": [
      "████████████████████████████████ 100% | 21.70/21.7 MB [01:54<00:00,  5.27s/MB]: \n"
     ]
    }
   ],
   "source": [
    "# mỗi lần chạy xong, thì tạo task mới\n",
    "# Tạo task mới trong project Temperature Forecasting\n",
    "Task.current_task().close()\n",
    "# task = Task.init(\n",
    "#     project_name=\"Temperature Forecasting\",     # tên project (nếu chưa có sẽ tự tạo)\n",
    "#     task_name=\"ExtraTree Optuna Tuning\", # tên task mới\n",
    "#     task_type=Task.TaskTypes.optimizer            # loại task (training / testing / optimizer ...)\n",
    "# )\n",
    "\n",
    "# print(\"✅ Task created successfully!\")\n",
    "# print(\"Task ID:\", task.id)"
   ]
  },
  {
   "cell_type": "code",
   "execution_count": 9,
   "id": "22a2705d",
   "metadata": {},
   "outputs": [],
   "source": [
    "task_extra = Task.get_task(task_id=\"20da5909b4454c7baafbb9ecb538dd94\")\n",
    "logger_extra = task_extra.get_logger()"
   ]
  },
  {
   "cell_type": "code",
   "execution_count": 34,
   "id": "b9fd182b",
   "metadata": {},
   "outputs": [],
   "source": [
    "## A. default hyper parameter\n",
    "# 1. fit \n",
    "model_ex = ExtraTreesRegressor(\n",
    "    n_estimators = 100,          # số cây (default)\n",
    "    criterion = 'squared_error', # hàm loss mặc định\n",
    "    max_depth = 7,               # bạn đặt theo baseline RF\n",
    "    min_samples_split = 2,\n",
    "    min_samples_leaf = 1,\n",
    "    min_impurity_decrease = 0.0,\n",
    "    max_features = None,         # xét tất cả features\n",
    "    max_leaf_nodes = None,\n",
    "    bootstrap = False,           # ExtraTrees mặc định là False\n",
    "    oob_score = False,           # không dùng out-of-bag\n",
    "    max_samples = None,\n",
    "    random_state = 42,\n",
    "    n_jobs = -1\n",
    ")\n",
    "model_ex.fit(X_train, y_train) \n",
    "\n",
    "# 2. predict\n",
    "y_pred_val = model_ex.predict(X_val) \n",
    "y_pred_test = model_ex.predict(X_test)"
   ]
  },
  {
   "cell_type": "code",
   "execution_count": 35,
   "id": "8d7c2e64",
   "metadata": {},
   "outputs": [
    {
     "name": "stdout",
     "output_type": "stream",
     "text": [
      "Validation metrics: {'RMSE': 1.5601582607522162, 'R2': 0.9084776815242552, 'MAPE': 5.242943797499387}\n",
      "Test metrics: {'RMSE': 1.3974525388138206, 'R2': 0.9097687609474473, 'MAPE': 4.450040592901364}\n"
     ]
    }
   ],
   "source": [
    "# 3. Evaluate on validation\n",
    "defEx_val_metrics = evaluate(y_val, y_pred_val)\n",
    "print(\"Validation metrics:\", defEx_val_metrics)\n",
    "\n",
    "# 4. Evaluate on test\n",
    "defEx_test_metrics = evaluate(y_test, y_pred_test)\n",
    "print(\"Test metrics:\", defEx_test_metrics)"
   ]
  },
  {
   "cell_type": "code",
   "execution_count": 45,
   "id": "4c19e1cf",
   "metadata": {},
   "outputs": [],
   "source": [
    "# Lấy feature importance\n",
    "importances_extra = model_ex.feature_importances_\n",
    "\n",
    "# Tạo DataFrame hiển thị\n",
    "feat_importance_extra = pd.DataFrame({\n",
    "    'Feature': X_train.columns,\n",
    "    'Importance': importances_extra\n",
    "}).sort_values(by='Importance', ascending=False)\n",
    "\n",
    "#print(feat_importance_extra)"
   ]
  },
  {
   "cell_type": "code",
   "execution_count": 46,
   "id": "e58abfa0",
   "metadata": {},
   "outputs": [
    {
     "data": {
      "text/plain": [
       "Text(0.5, 0, 'Importance')"
      ]
     },
     "execution_count": 46,
     "metadata": {},
     "output_type": "execute_result"
    },
    {
     "data": {
      "image/png": "[encoded data removed]",
      "text/plain": [
       "<Figure size 1000x600 with 1 Axes>"
      ]
     },
     "metadata": {},
     "output_type": "display_data"
    }
   ],
   "source": [
    "plt.figure(figsize=(10, 6))\n",
    "plt.barh(feat_importance_extra['Feature'][:15], feat_importance_extra['Importance'][:15])\n",
    "plt.gca().invert_yaxis()\n",
    "plt.title(\"Top 15 Feature Importances (extra tree)\")\n",
    "plt.xlabel(\"Importance\")\n",
    "#plt.show()"
   ]
  },
  {
   "cell_type": "code",
   "execution_count": 17,
   "id": "6a342598",
   "metadata": {},
   "outputs": [
    {
     "name": "stdout",
     "output_type": "stream",
     "text": [
      "Validation metrics: {'RMSE': 1.5501069852687441, 'R2': 0.9096531427481926, 'MAPE': 5.289823867518864}\n",
      "Test metrics: {'RMSE': 1.4094799560393934, 'R2': 0.9082088955219491, 'MAPE': 4.494487229026149}\n",
      "ExtraTree model saved to models/ExTree_model.pkl\n"
     ]
    },
    {
     "data": {
      "text/plain": [
       "True"
      ]
     },
     "execution_count": 17,
     "metadata": {},
     "output_type": "execute_result"
    }
   ],
   "source": [
    "# Đánh giá sơ bộ trước khi tune\n",
    "\n",
    "# 3. Evaluate on validation\n",
    "defEx_val_metrics = evaluate(y_val, y_pred_val)\n",
    "print(\"Validation metrics:\", defEx_val_metrics)\n",
    "\n",
    "# 4. Evaluate on test\n",
    "defEx_test_metrics = evaluate(y_test, y_pred_test)\n",
    "print(\"Test metrics:\", defEx_test_metrics)\n",
    "\n",
    "# 5. Save model \n",
    "model_path = r'models/ExTree_model.pkl' \n",
    "joblib.dump(model_ex, model_path)\n",
    "print(f\"ExtraTree model saved to {model_path}\")\n",
    "\n",
    "# 6 Log lên ClearML\n",
    "logger_extra.report_scalar(\"Default Metrics\", \"RMSE_val\", defEx_val_metrics[\"RMSE\"], iteration=0)\n",
    "logger_extra.report_scalar(\"Default Metrics\", \"R2_val\", defEx_val_metrics[\"R2\"], iteration=0)\n",
    "logger_extra.report_scalar(\"Default Metrics\", \"MAPE_val\", defEx_val_metrics[\"MAPE\"], iteration=0)\n",
    "logger_extra.report_scalar(\"Default Metrics\", \"RMSE_test\", defEx_test_metrics[\"RMSE\"], iteration=0)\n",
    "logger_extra.report_scalar(\"Default Metrics\", \"R2_test\", defEx_test_metrics[\"R2\"], iteration=0)\n",
    "logger_extra.report_scalar(\"Default Metrics\", \"MAPE_test\", defEx_test_metrics[\"MAPE\"], iteration=0)\n",
    "\n",
    "\n",
    "task_extra.upload_artifact(\"Default Metrics\", {\n",
    "    \"Validation\": defEx_val_metrics,\n",
    "    \"Test\": defEx_test_metrics\n",
    "})\n"
   ]
  },
  {
   "cell_type": "code",
   "execution_count": 18,
   "id": "c44fbb45",
   "metadata": {},
   "outputs": [],
   "source": [
    "## B. Hyperparameter tuning cho ExtraTrees\n",
    "def objective(trial):\n",
    "    # === 1. Định nghĩa không gian hyperparameter ===\n",
    "    params = {\n",
    "        'n_estimators': trial.suggest_int('n_estimators', 100, 1000),       # default = 100\n",
    "        'max_depth': trial.suggest_int('max_depth', 5, 50),                # default = None\n",
    "        'min_samples_split': trial.suggest_int('min_samples_split', 2, 10),# default = 2\n",
    "        'min_samples_leaf': trial.suggest_int('min_samples_leaf', 1, 5),   # default = 1\n",
    "        'min_impurity_decrease': trial.suggest_float('min_impurity_decrease', 0.0, 0.3), # default = 0\n",
    "        'max_features': trial.suggest_categorical('max_features', ['sqrt', 'log2', None]),\n",
    "        'bootstrap': False, # default = False\n",
    "        'max_leaf_nodes': trial.suggest_int('max_leaf_nodes', 100, 1000),   # default = None\n",
    "        'random_state': 42,\n",
    "        'n_jobs': -1\n",
    "    }\n",
    "\n",
    "    # === 2. TimeSeriesSplit CV ===\n",
    "    cv = TimeSeriesSplit(n_splits=5)\n",
    "    rmse_scores = []\n",
    "\n",
    "    for train_idx, val_idx in cv.split(X_train):\n",
    "        X_tr, X_val = X_train.iloc[train_idx], X_train.iloc[val_idx]\n",
    "        y_tr, y_val = y_train.iloc[train_idx], y_train.iloc[val_idx]\n",
    "\n",
    "        # === 3. Train model ===\n",
    "        model = ExtraTreesRegressor(**params)\n",
    "        model.fit(X_tr, y_tr)\n",
    "        y_pred_val = model.predict(X_val)\n",
    "\n",
    "        metrics = evaluate(y_val, y_pred_val)  # bạn có hàm evaluate riêng rồi\n",
    "        rmse_scores.append(metrics['RMSE'])\n",
    "\n",
    "    mean_rmse = np.mean(rmse_scores)\n",
    "\n",
    "    # === 4. Log kết quả lên ClearML ===\n",
    "    # (a) Log giá trị RMSE của trial\n",
    "    logger_extra.report_scalar(\n",
    "        title='Optuna Tuning - ExtraTrees',\n",
    "        series='Trial RMSE',\n",
    "        value=mean_rmse,\n",
    "        iteration=trial.number\n",
    "    )\n",
    "\n",
    "    # (b) Log bảng thông số\n",
    "    params_table = pd.DataFrame([params])\n",
    "    logger_extra.report_table(\n",
    "        title=f\"Trial {trial.number} Parameters\",\n",
    "        series=\"params\",\n",
    "        iteration=trial.number,\n",
    "        table_plot=params_table\n",
    "    )\n",
    "\n",
    "    # === 5. Trả về giá trị cần minimize (RMSE) ===\n",
    "    return mean_rmse\n"
   ]
  },
  {
   "cell_type": "code",
   "execution_count": 19,
   "id": "e72ffcc6",
   "metadata": {},
   "outputs": [
    {
     "name": "stderr",
     "output_type": "stream",
     "text": [
      "[I 2025-10-21 05:58:06,982] A new study created in memory with name: no-name-b69554ff-c087-4fa8-bf8d-bb591f9731b2\n",
      "Best trial: 0. Best value: 1.59908:   2%|▏         | 1/50 [00:12<10:27, 12.80s/it]"
     ]
    },
    {
     "name": "stdout",
     "output_type": "stream",
     "text": [
      "[I 2025-10-21 05:58:19,782] Trial 0 finished with value: 1.5990817073040768 and parameters: {'n_estimators': 437, 'max_depth': 48, 'min_samples_split': 8, 'min_samples_leaf': 3, 'min_impurity_decrease': 0.04680559213273095, 'max_features': None, 'max_leaf_nodes': 641}. Best is trial 0 with value: 1.5990817073040768.\n"
     ]
    },
    {
     "name": "stderr",
     "output_type": "stream",
     "text": [
      "Best trial: 0. Best value: 1.59908:   4%|▍         | 2/50 [00:32<13:17, 16.61s/it]"
     ]
    },
    {
     "name": "stdout",
     "output_type": "stream",
     "text": [
      "[I 2025-10-21 05:58:39,064] Trial 1 finished with value: 1.6325372268308342 and parameters: {'n_estimators': 737, 'max_depth': 5, 'min_samples_split': 10, 'min_samples_leaf': 5, 'min_impurity_decrease': 0.06370173320348284, 'max_features': None, 'max_leaf_nodes': 572}. Best is trial 0 with value: 1.5990817073040768.\n"
     ]
    },
    {
     "name": "stderr",
     "output_type": "stream",
     "text": [
      "Best trial: 0. Best value: 1.59908:   6%|▌         | 3/50 [00:43<11:13, 14.32s/it]"
     ]
    },
    {
     "name": "stdout",
     "output_type": "stream",
     "text": [
      "[I 2025-10-21 05:58:50,660] Trial 2 finished with value: 1.6494402309519742 and parameters: {'n_estimators': 489, 'max_depth': 18, 'min_samples_split': 7, 'min_samples_leaf': 1, 'min_impurity_decrease': 0.08764339456056544, 'max_features': None, 'max_leaf_nodes': 279}. Best is trial 0 with value: 1.5990817073040768.\n"
     ]
    },
    {
     "name": "stderr",
     "output_type": "stream",
     "text": [
      "Best trial: 0. Best value: 1.59908:   8%|▊         | 4/50 [00:58<11:16, 14.70s/it]"
     ]
    },
    {
     "name": "stdout",
     "output_type": "stream",
     "text": [
      "[I 2025-10-21 05:59:05,952] Trial 3 finished with value: 1.607132994492444 and parameters: {'n_estimators': 563, 'max_depth': 32, 'min_samples_split': 2, 'min_samples_leaf': 4, 'min_impurity_decrease': 0.051157237106187456, 'max_features': None, 'max_leaf_nodes': 828}. Best is trial 0 with value: 1.5990817073040768.\n"
     ]
    },
    {
     "name": "stderr",
     "output_type": "stream",
     "text": [
      "Best trial: 4. Best value: 1.58341:  10%|█         | 5/50 [01:09<09:58, 13.29s/it]"
     ]
    },
    {
     "name": "stdout",
     "output_type": "stream",
     "text": [
      "[I 2025-10-21 05:59:16,750] Trial 4 finished with value: 1.5834131688297148 and parameters: {'n_estimators': 374, 'max_depth': 9, 'min_samples_split': 8, 'min_samples_leaf': 3, 'min_impurity_decrease': 0.036611470453433645, 'max_features': None, 'max_leaf_nodes': 333}. Best is trial 4 with value: 1.5834131688297148.\n"
     ]
    },
    {
     "name": "stderr",
     "output_type": "stream",
     "text": [
      "Best trial: 4. Best value: 1.58341:  12%|█▏        | 6/50 [01:16<08:13, 11.21s/it]"
     ]
    },
    {
     "name": "stdout",
     "output_type": "stream",
     "text": [
      "[I 2025-10-21 05:59:23,899] Trial 5 finished with value: 1.8855972277849644 and parameters: {'n_estimators': 696, 'max_depth': 19, 'min_samples_split': 6, 'min_samples_leaf': 3, 'min_impurity_decrease': 0.05545633665765811, 'max_features': 'sqrt', 'max_leaf_nodes': 906}. Best is trial 4 with value: 1.5834131688297148.\n"
     ]
    },
    {
     "name": "stderr",
     "output_type": "stream",
     "text": [
      "Best trial: 4. Best value: 1.58341:  14%|█▍        | 7/50 [01:23<07:03,  9.85s/it]"
     ]
    },
    {
     "name": "stdout",
     "output_type": "stream",
     "text": [
      "[I 2025-10-21 05:59:30,968] Trial 6 finished with value: 1.8845864367790832 and parameters: {'n_estimators': 638, 'max_depth': 47, 'min_samples_split': 2, 'min_samples_leaf': 1, 'min_impurity_decrease': 0.01356818667316142, 'max_features': 'log2', 'max_leaf_nodes': 846}. Best is trial 4 with value: 1.5834131688297148.\n"
     ]
    },
    {
     "name": "stderr",
     "output_type": "stream",
     "text": [
      "Best trial: 4. Best value: 1.58341:  16%|█▌        | 8/50 [01:28<05:44,  8.21s/it]"
     ]
    },
    {
     "name": "stdout",
     "output_type": "stream",
     "text": [
      "[I 2025-10-21 05:59:35,640] Trial 7 finished with value: 2.288769514827592 and parameters: {'n_estimators': 421, 'max_depth': 17, 'min_samples_split': 6, 'min_samples_leaf': 1, 'min_impurity_decrease': 0.2406590942262119, 'max_features': 'log2', 'max_leaf_nodes': 279}. Best is trial 4 with value: 1.5834131688297148.\n"
     ]
    },
    {
     "name": "stderr",
     "output_type": "stream",
     "text": [
      "Best trial: 4. Best value: 1.58341:  18%|█▊        | 9/50 [01:30<04:11,  6.13s/it]"
     ]
    },
    {
     "name": "stdout",
     "output_type": "stream",
     "text": [
      "[I 2025-10-21 05:59:37,222] Trial 8 finished with value: 2.309883572699083 and parameters: {'n_estimators': 104, 'max_depth': 42, 'min_samples_split': 8, 'min_samples_leaf': 4, 'min_impurity_decrease': 0.2313811040057837, 'max_features': 'log2', 'max_leaf_nodes': 877}. Best is trial 4 with value: 1.5834131688297148.\n"
     ]
    },
    {
     "name": "stderr",
     "output_type": "stream",
     "text": [
      "Best trial: 4. Best value: 1.58341:  20%|██        | 10/50 [01:44<05:48,  8.70s/it]"
     ]
    },
    {
     "name": "stdout",
     "output_type": "stream",
     "text": [
      "[I 2025-10-21 05:59:51,686] Trial 9 finished with value: 1.6615481646203456 and parameters: {'n_estimators': 661, 'max_depth': 20, 'min_samples_split': 2, 'min_samples_leaf': 2, 'min_impurity_decrease': 0.09755499660802411, 'max_features': None, 'max_leaf_nodes': 525}. Best is trial 4 with value: 1.5834131688297148.\n"
     ]
    },
    {
     "name": "stderr",
     "output_type": "stream",
     "text": [
      "Best trial: 4. Best value: 1.58341:  22%|██▏       | 11/50 [01:54<05:47,  8.92s/it]"
     ]
    },
    {
     "name": "stdout",
     "output_type": "stream",
     "text": [
      "[I 2025-10-21 06:00:01,079] Trial 10 finished with value: 2.066418271011817 and parameters: {'n_estimators': 951, 'max_depth': 5, 'min_samples_split': 4, 'min_samples_leaf': 5, 'min_impurity_decrease': 0.16085657660932784, 'max_features': 'sqrt', 'max_leaf_nodes': 114}. Best is trial 4 with value: 1.5834131688297148.\n"
     ]
    },
    {
     "name": "stderr",
     "output_type": "stream",
     "text": [
      "Best trial: 11. Best value: 1.52375:  24%|██▍       | 12/50 [02:10<07:01, 11.09s/it]"
     ]
    },
    {
     "name": "stdout",
     "output_type": "stream",
     "text": [
      "[I 2025-10-21 06:00:17,129] Trial 11 finished with value: 1.523754140428553 and parameters: {'n_estimators': 294, 'max_depth': 33, 'min_samples_split': 10, 'min_samples_leaf': 3, 'min_impurity_decrease': 0.0027683007133353157, 'max_features': None, 'max_leaf_nodes': 582}. Best is trial 11 with value: 1.523754140428553.\n"
     ]
    },
    {
     "name": "stderr",
     "output_type": "stream",
     "text": [
      "Best trial: 11. Best value: 1.52375:  26%|██▌       | 13/50 [02:23<07:17, 11.83s/it]"
     ]
    },
    {
     "name": "stdout",
     "output_type": "stream",
     "text": [
      "[I 2025-10-21 06:00:30,670] Trial 12 finished with value: 1.526351654772212 and parameters: {'n_estimators': 227, 'max_depth': 33, 'min_samples_split': 10, 'min_samples_leaf': 2, 'min_impurity_decrease': 0.0023922249698360085, 'max_features': None, 'max_leaf_nodes': 396}. Best is trial 11 with value: 1.523754140428553.\n"
     ]
    },
    {
     "name": "stderr",
     "output_type": "stream",
     "text": [
      "Best trial: 11. Best value: 1.52375:  28%|██▊       | 14/50 [02:28<05:49,  9.72s/it]"
     ]
    },
    {
     "name": "stdout",
     "output_type": "stream",
     "text": [
      "[I 2025-10-21 06:00:35,514] Trial 13 finished with value: 1.7005436953317747 and parameters: {'n_estimators': 230, 'max_depth': 33, 'min_samples_split': 10, 'min_samples_leaf': 2, 'min_impurity_decrease': 0.14228480479966227, 'max_features': None, 'max_leaf_nodes': 431}. Best is trial 11 with value: 1.523754140428553.\n"
     ]
    },
    {
     "name": "stderr",
     "output_type": "stream",
     "text": [
      "Best trial: 11. Best value: 1.52375:  30%|███       | 15/50 [02:40<06:06, 10.47s/it]"
     ]
    },
    {
     "name": "stdout",
     "output_type": "stream",
     "text": [
      "[I 2025-10-21 06:00:47,713] Trial 14 finished with value: 1.5314560188736785 and parameters: {'n_estimators': 264, 'max_depth': 38, 'min_samples_split': 10, 'min_samples_leaf': 2, 'min_impurity_decrease': 0.007664848443163036, 'max_features': None, 'max_leaf_nodes': 720}. Best is trial 11 with value: 1.523754140428553.\n"
     ]
    },
    {
     "name": "stderr",
     "output_type": "stream",
     "text": [
      "Best trial: 11. Best value: 1.52375:  32%|███▏      | 16/50 [02:42<04:23,  7.76s/it]"
     ]
    },
    {
     "name": "stdout",
     "output_type": "stream",
     "text": [
      "[I 2025-10-21 06:00:49,182] Trial 15 finished with value: 2.1612532715832486 and parameters: {'n_estimators': 126, 'max_depth': 27, 'min_samples_split': 9, 'min_samples_leaf': 4, 'min_impurity_decrease': 0.29880509680836403, 'max_features': 'sqrt', 'max_leaf_nodes': 441}. Best is trial 11 with value: 1.523754140428553.\n"
     ]
    },
    {
     "name": "stderr",
     "output_type": "stream",
     "text": [
      "Best trial: 11. Best value: 1.52375:  34%|███▍      | 17/50 [02:48<04:00,  7.28s/it]"
     ]
    },
    {
     "name": "stdout",
     "output_type": "stream",
     "text": [
      "[I 2025-10-21 06:00:55,344] Trial 16 finished with value: 1.690876431413472 and parameters: {'n_estimators': 293, 'max_depth': 27, 'min_samples_split': 4, 'min_samples_leaf': 2, 'min_impurity_decrease': 0.12847659481075646, 'max_features': None, 'max_leaf_nodes': 696}. Best is trial 11 with value: 1.523754140428553.\n"
     ]
    },
    {
     "name": "stderr",
     "output_type": "stream",
     "text": [
      "Best trial: 11. Best value: 1.52375:  36%|███▌      | 18/50 [02:54<03:45,  7.05s/it]"
     ]
    },
    {
     "name": "stdout",
     "output_type": "stream",
     "text": [
      "[I 2025-10-21 06:01:01,847] Trial 17 finished with value: 1.7272734189728396 and parameters: {'n_estimators': 331, 'max_depth': 35, 'min_samples_split': 9, 'min_samples_leaf': 2, 'min_impurity_decrease': 0.18496255345188253, 'max_features': None, 'max_leaf_nodes': 118}. Best is trial 11 with value: 1.523754140428553.\n"
     ]
    },
    {
     "name": "stderr",
     "output_type": "stream",
     "text": [
      "Best trial: 11. Best value: 1.52375:  38%|███▊      | 19/50 [02:57<02:59,  5.79s/it]"
     ]
    },
    {
     "name": "stdout",
     "output_type": "stream",
     "text": [
      "[I 2025-10-21 06:01:04,698] Trial 18 finished with value: 1.705927232683969 and parameters: {'n_estimators': 227, 'max_depth': 41, 'min_samples_split': 9, 'min_samples_leaf': 3, 'min_impurity_decrease': 0.00014212030256912592, 'max_features': 'sqrt', 'max_leaf_nodes': 422}. Best is trial 11 with value: 1.523754140428553.\n"
     ]
    },
    {
     "name": "stderr",
     "output_type": "stream",
     "text": [
      "Best trial: 11. Best value: 1.52375:  40%|████      | 20/50 [02:59<02:20,  4.67s/it]"
     ]
    },
    {
     "name": "stdout",
     "output_type": "stream",
     "text": [
      "[I 2025-10-21 06:01:06,776] Trial 19 finished with value: 2.146526693055383 and parameters: {'n_estimators': 188, 'max_depth': 25, 'min_samples_split': 5, 'min_samples_leaf': 3, 'min_impurity_decrease': 0.09542294520450934, 'max_features': 'log2', 'max_leaf_nodes': 556}. Best is trial 11 with value: 1.523754140428553.\n"
     ]
    },
    {
     "name": "stderr",
     "output_type": "stream",
     "text": [
      "Best trial: 11. Best value: 1.52375:  42%|████▏     | 21/50 [03:17<04:05,  8.47s/it]"
     ]
    },
    {
     "name": "stdout",
     "output_type": "stream",
     "text": [
      "[I 2025-10-21 06:01:24,089] Trial 20 finished with value: 1.6752966616141318 and parameters: {'n_estimators': 845, 'max_depth': 31, 'min_samples_split': 7, 'min_samples_leaf': 4, 'min_impurity_decrease': 0.11309879122991345, 'max_features': None, 'max_leaf_nodes': 212}. Best is trial 11 with value: 1.523754140428553.\n"
     ]
    },
    {
     "name": "stderr",
     "output_type": "stream",
     "text": [
      "Best trial: 11. Best value: 1.52375:  44%|████▍     | 22/50 [03:27<04:11,  8.98s/it]"
     ]
    },
    {
     "name": "stdout",
     "output_type": "stream",
     "text": [
      "[I 2025-10-21 06:01:34,254] Trial 21 finished with value: 1.5497236881390382 and parameters: {'n_estimators': 294, 'max_depth': 38, 'min_samples_split': 10, 'min_samples_leaf': 2, 'min_impurity_decrease': 0.017434249220333264, 'max_features': None, 'max_leaf_nodes': 746}. Best is trial 11 with value: 1.523754140428553.\n"
     ]
    },
    {
     "name": "stderr",
     "output_type": "stream",
     "text": [
      "Best trial: 11. Best value: 1.52375:  46%|████▌     | 23/50 [03:34<03:46,  8.38s/it]"
     ]
    },
    {
     "name": "stdout",
     "output_type": "stream",
     "text": [
      "[I 2025-10-21 06:01:41,252] Trial 22 finished with value: 1.5679621260914618 and parameters: {'n_estimators': 213, 'max_depth': 38, 'min_samples_split': 10, 'min_samples_leaf': 2, 'min_impurity_decrease': 0.02700028414056692, 'max_features': None, 'max_leaf_nodes': 744}. Best is trial 11 with value: 1.523754140428553.\n"
     ]
    },
    {
     "name": "stderr",
     "output_type": "stream",
     "text": [
      "Best trial: 11. Best value: 1.52375:  48%|████▊     | 24/50 [03:42<03:34,  8.23s/it]"
     ]
    },
    {
     "name": "stdout",
     "output_type": "stream",
     "text": [
      "[I 2025-10-21 06:01:49,140] Trial 23 finished with value: 1.6331311890940838 and parameters: {'n_estimators': 326, 'max_depth': 44, 'min_samples_split': 9, 'min_samples_leaf': 1, 'min_impurity_decrease': 0.07202354786212121, 'max_features': None, 'max_leaf_nodes': 984}. Best is trial 11 with value: 1.523754140428553.\n"
     ]
    },
    {
     "name": "stderr",
     "output_type": "stream",
     "text": [
      "Best trial: 24. Best value: 1.5237:  50%|█████     | 25/50 [04:11<06:07, 14.69s/it] "
     ]
    },
    {
     "name": "stdout",
     "output_type": "stream",
     "text": [
      "[I 2025-10-21 06:02:18,878] Trial 24 finished with value: 1.5236951203372882 and parameters: {'n_estimators': 502, 'max_depth': 37, 'min_samples_split': 10, 'min_samples_leaf': 3, 'min_impurity_decrease': 0.0038686233519529584, 'max_features': None, 'max_leaf_nodes': 627}. Best is trial 24 with value: 1.5236951203372882.\n"
     ]
    },
    {
     "name": "stderr",
     "output_type": "stream",
     "text": [
      "Best trial: 24. Best value: 1.5237:  52%|█████▏    | 26/50 [04:28<06:06, 15.28s/it]"
     ]
    },
    {
     "name": "stdout",
     "output_type": "stream",
     "text": [
      "[I 2025-10-21 06:02:35,560] Trial 25 finished with value: 1.573771022600014 and parameters: {'n_estimators': 554, 'max_depth': 29, 'min_samples_split': 9, 'min_samples_leaf': 3, 'min_impurity_decrease': 0.029916974116560024, 'max_features': None, 'max_leaf_nodes': 631}. Best is trial 24 with value: 1.5236951203372882.\n"
     ]
    },
    {
     "name": "stderr",
     "output_type": "stream",
     "text": [
      "Best trial: 24. Best value: 1.5237:  54%|█████▍    | 27/50 [05:01<07:49, 20.43s/it]"
     ]
    },
    {
     "name": "stdout",
     "output_type": "stream",
     "text": [
      "[I 2025-10-21 06:03:07,992] Trial 26 finished with value: 1.5240869017052332 and parameters: {'n_estimators': 473, 'max_depth': 34, 'min_samples_split': 7, 'min_samples_leaf': 4, 'min_impurity_decrease': 0.0031038109060421985, 'max_features': None, 'max_leaf_nodes': 494}. Best is trial 24 with value: 1.5236951203372882.\n"
     ]
    },
    {
     "name": "stderr",
     "output_type": "stream",
     "text": [
      "Best trial: 24. Best value: 1.5237:  56%|█████▌    | 28/50 [05:12<06:31, 17.77s/it]"
     ]
    },
    {
     "name": "stdout",
     "output_type": "stream",
     "text": [
      "[I 2025-10-21 06:03:19,570] Trial 27 finished with value: 1.6343713302975338 and parameters: {'n_estimators': 485, 'max_depth': 24, 'min_samples_split': 7, 'min_samples_leaf': 4, 'min_impurity_decrease': 0.07218552274866853, 'max_features': None, 'max_leaf_nodes': 494}. Best is trial 24 with value: 1.5236951203372882.\n"
     ]
    },
    {
     "name": "stderr",
     "output_type": "stream",
     "text": [
      "Best trial: 24. Best value: 1.5237:  58%|█████▊    | 29/50 [05:19<05:01, 14.37s/it]"
     ]
    },
    {
     "name": "stdout",
     "output_type": "stream",
     "text": [
      "[I 2025-10-21 06:03:26,000] Trial 28 finished with value: 2.016142558798332 and parameters: {'n_estimators': 595, 'max_depth': 36, 'min_samples_split': 5, 'min_samples_leaf': 5, 'min_impurity_decrease': 0.02926105771009733, 'max_features': 'log2', 'max_leaf_nodes': 625}. Best is trial 24 with value: 1.5236951203372882.\n"
     ]
    },
    {
     "name": "stderr",
     "output_type": "stream",
     "text": [
      "Best trial: 24. Best value: 1.5237:  60%|██████    | 30/50 [05:24<03:53, 11.68s/it]"
     ]
    },
    {
     "name": "stdout",
     "output_type": "stream",
     "text": [
      "[I 2025-10-21 06:03:31,400] Trial 29 finished with value: 1.8669228337578663 and parameters: {'n_estimators': 471, 'max_depth': 48, 'min_samples_split': 8, 'min_samples_leaf': 4, 'min_impurity_decrease': 0.04512861932542525, 'max_features': 'sqrt', 'max_leaf_nodes': 594}. Best is trial 24 with value: 1.5236951203372882.\n"
     ]
    },
    {
     "name": "stderr",
     "output_type": "stream",
     "text": [
      "Best trial: 24. Best value: 1.5237:  62%|██████▏   | 31/50 [05:34<03:32, 11.18s/it]"
     ]
    },
    {
     "name": "stdout",
     "output_type": "stream",
     "text": [
      "[I 2025-10-21 06:03:41,398] Trial 30 finished with value: 1.7250402701084941 and parameters: {'n_estimators': 405, 'max_depth': 43, 'min_samples_split': 7, 'min_samples_leaf': 3, 'min_impurity_decrease': 0.18332931163087207, 'max_features': None, 'max_leaf_nodes': 492}. Best is trial 24 with value: 1.5236951203372882.\n"
     ]
    },
    {
     "name": "stderr",
     "output_type": "stream",
     "text": [
      "Best trial: 24. Best value: 1.5237:  64%|██████▍   | 32/50 [06:00<04:40, 15.60s/it]"
     ]
    },
    {
     "name": "stdout",
     "output_type": "stream",
     "text": [
      "[I 2025-10-21 06:04:07,338] Trial 31 finished with value: 1.5243202045894193 and parameters: {'n_estimators': 360, 'max_depth': 34, 'min_samples_split': 8, 'min_samples_leaf': 3, 'min_impurity_decrease': 0.0035070938131738045, 'max_features': None, 'max_leaf_nodes': 370}. Best is trial 24 with value: 1.5236951203372882.\n"
     ]
    },
    {
     "name": "stderr",
     "output_type": "stream",
     "text": [
      "Best trial: 24. Best value: 1.5237:  66%|██████▌   | 33/50 [06:13<04:12, 14.84s/it]"
     ]
    },
    {
     "name": "stdout",
     "output_type": "stream",
     "text": [
      "[I 2025-10-21 06:04:20,403] Trial 32 finished with value: 1.58978464996247 and parameters: {'n_estimators': 380, 'max_depth': 35, 'min_samples_split': 8, 'min_samples_leaf': 3, 'min_impurity_decrease': 0.040264089564674, 'max_features': None, 'max_leaf_nodes': 363}. Best is trial 24 with value: 1.5236951203372882.\n"
     ]
    },
    {
     "name": "stderr",
     "output_type": "stream",
     "text": [
      "Best trial: 33. Best value: 1.52172:  68%|██████▊   | 34/50 [06:52<05:54, 22.14s/it]"
     ]
    },
    {
     "name": "stdout",
     "output_type": "stream",
     "text": [
      "[I 2025-10-21 06:04:59,579] Trial 33 finished with value: 1.5217242861904132 and parameters: {'n_estimators': 489, 'max_depth': 30, 'min_samples_split': 8, 'min_samples_leaf': 3, 'min_impurity_decrease': 0.0020519908217961035, 'max_features': None, 'max_leaf_nodes': 676}. Best is trial 33 with value: 1.5217242861904132.\n"
     ]
    },
    {
     "name": "stderr",
     "output_type": "stream",
     "text": [
      "Best trial: 33. Best value: 1.52172:  70%|███████   | 35/50 [07:08<05:03, 20.21s/it]"
     ]
    },
    {
     "name": "stdout",
     "output_type": "stream",
     "text": [
      "[I 2025-10-21 06:05:15,272] Trial 34 finished with value: 1.6246351533308268 and parameters: {'n_estimators': 515, 'max_depth': 29, 'min_samples_split': 9, 'min_samples_leaf': 4, 'min_impurity_decrease': 0.06413813880771567, 'max_features': None, 'max_leaf_nodes': 667}. Best is trial 33 with value: 1.5217242861904132.\n"
     ]
    },
    {
     "name": "stderr",
     "output_type": "stream",
     "text": [
      "Best trial: 33. Best value: 1.52172:  72%|███████▏  | 36/50 [07:41<05:36, 24.05s/it]"
     ]
    },
    {
     "name": "stdout",
     "output_type": "stream",
     "text": [
      "[I 2025-10-21 06:05:48,300] Trial 35 finished with value: 1.5571540698654773 and parameters: {'n_estimators': 788, 'max_depth': 23, 'min_samples_split': 7, 'min_samples_leaf': 5, 'min_impurity_decrease': 0.01930036116309236, 'max_features': None, 'max_leaf_nodes': 589}. Best is trial 33 with value: 1.5217242861904132.\n"
     ]
    },
    {
     "name": "stderr",
     "output_type": "stream",
     "text": [
      "Best trial: 33. Best value: 1.52172:  74%|███████▍  | 37/50 [07:55<04:34, 21.10s/it]"
     ]
    },
    {
     "name": "stdout",
     "output_type": "stream",
     "text": [
      "[I 2025-10-21 06:06:02,520] Trial 36 finished with value: 1.6031305688237558 and parameters: {'n_estimators': 432, 'max_depth': 31, 'min_samples_split': 6, 'min_samples_leaf': 3, 'min_impurity_decrease': 0.05003129065519235, 'max_features': None, 'max_leaf_nodes': 793}. Best is trial 33 with value: 1.5217242861904132.\n"
     ]
    },
    {
     "name": "stderr",
     "output_type": "stream",
     "text": [
      "Best trial: 33. Best value: 1.52172:  76%|███████▌  | 38/50 [08:13<04:01, 20.12s/it]"
     ]
    },
    {
     "name": "stdout",
     "output_type": "stream",
     "text": [
      "[I 2025-10-21 06:06:20,328] Trial 37 finished with value: 1.6409144035674994 and parameters: {'n_estimators': 612, 'max_depth': 40, 'min_samples_split': 10, 'min_samples_leaf': 4, 'min_impurity_decrease': 0.07808373781433507, 'max_features': None, 'max_leaf_nodes': 488}. Best is trial 33 with value: 1.5217242861904132.\n"
     ]
    },
    {
     "name": "stderr",
     "output_type": "stream",
     "text": [
      "Best trial: 33. Best value: 1.52172:  78%|███████▊  | 39/50 [08:31<03:35, 19.61s/it]"
     ]
    },
    {
     "name": "stdout",
     "output_type": "stream",
     "text": [
      "[I 2025-10-21 06:06:38,758] Trial 38 finished with value: 1.5850790207362786 and parameters: {'n_estimators': 529, 'max_depth': 15, 'min_samples_split': 7, 'min_samples_leaf': 4, 'min_impurity_decrease': 0.03699729901799936, 'max_features': None, 'max_leaf_nodes': 659}. Best is trial 33 with value: 1.5217242861904132.\n"
     ]
    },
    {
     "name": "stderr",
     "output_type": "stream",
     "text": [
      "Best trial: 33. Best value: 1.52172:  80%|████████  | 40/50 [08:37<02:34, 15.50s/it]"
     ]
    },
    {
     "name": "stdout",
     "output_type": "stream",
     "text": [
      "[I 2025-10-21 06:06:44,665] Trial 39 finished with value: 2.0685864377920056 and parameters: {'n_estimators': 457, 'max_depth': 45, 'min_samples_split': 8, 'min_samples_leaf': 3, 'min_impurity_decrease': 0.05490674449743011, 'max_features': 'log2', 'max_leaf_nodes': 791}. Best is trial 33 with value: 1.5217242861904132.\n"
     ]
    },
    {
     "name": "stderr",
     "output_type": "stream",
     "text": [
      "Best trial: 33. Best value: 1.52172:  82%|████████▏ | 41/50 [09:11<03:07, 20.86s/it]"
     ]
    },
    {
     "name": "stdout",
     "output_type": "stream",
     "text": [
      "[I 2025-10-21 06:07:18,024] Trial 40 finished with value: 1.5521295835394642 and parameters: {'n_estimators': 687, 'max_depth': 30, 'min_samples_split': 6, 'min_samples_leaf': 3, 'min_impurity_decrease': 0.018668982115223394, 'max_features': None, 'max_leaf_nodes': 534}. Best is trial 33 with value: 1.5217242861904132.\n"
     ]
    },
    {
     "name": "stderr",
     "output_type": "stream",
     "text": [
      "Best trial: 33. Best value: 1.52172:  84%|████████▍ | 42/50 [1:16:52<2:44:23, 1232.92s/it]"
     ]
    },
    {
     "name": "stdout",
     "output_type": "stream",
     "text": [
      "[I 2025-10-21 07:14:59,110] Trial 41 finished with value: 1.5391036820407078 and parameters: {'n_estimators': 371, 'max_depth': 34, 'min_samples_split': 8, 'min_samples_leaf': 3, 'min_impurity_decrease': 0.012256154692135457, 'max_features': None, 'max_leaf_nodes': 309}. Best is trial 33 with value: 1.5217242861904132.\n"
     ]
    },
    {
     "name": "stderr",
     "output_type": "stream",
     "text": [
      "Best trial: 33. Best value: 1.52172:  86%|████████▌ | 43/50 [1:17:10<1:41:19, 868.44s/it] "
     ]
    },
    {
     "name": "stdout",
     "output_type": "stream",
     "text": [
      "[I 2025-10-21 07:15:17,095] Trial 42 finished with value: 1.5236449274253738 and parameters: {'n_estimators': 353, 'max_depth': 37, 'min_samples_split': 8, 'min_samples_leaf': 3, 'min_impurity_decrease': 0.0021492550011880467, 'max_features': None, 'max_leaf_nodes': 224}. Best is trial 33 with value: 1.5217242861904132.\n"
     ]
    },
    {
     "name": "stderr",
     "output_type": "stream",
     "text": [
      "Best trial: 33. Best value: 1.52172:  88%|████████▊ | 44/50 [1:17:25<1:01:14, 612.39s/it]"
     ]
    },
    {
     "name": "stdout",
     "output_type": "stream",
     "text": [
      "[I 2025-10-21 07:15:32,014] Trial 43 finished with value: 1.56782226454884 and parameters: {'n_estimators': 510, 'max_depth': 37, 'min_samples_split': 9, 'min_samples_leaf': 3, 'min_impurity_decrease': 0.02669407454485325, 'max_features': None, 'max_leaf_nodes': 223}. Best is trial 33 with value: 1.5217242861904132.\n"
     ]
    },
    {
     "name": "stderr",
     "output_type": "stream",
     "text": [
      "Best trial: 33. Best value: 1.52172:  90%|█████████ | 45/50 [1:17:52<36:24, 437.00s/it]  "
     ]
    },
    {
     "name": "stdout",
     "output_type": "stream",
     "text": [
      "[I 2025-10-21 07:15:59,780] Trial 44 finished with value: 1.521861090289064 and parameters: {'n_estimators': 441, 'max_depth': 50, 'min_samples_split': 5, 'min_samples_leaf': 3, 'min_impurity_decrease': 0.0009353793760996771, 'max_features': None, 'max_leaf_nodes': 598}. Best is trial 33 with value: 1.5217242861904132.\n"
     ]
    },
    {
     "name": "stderr",
     "output_type": "stream",
     "text": [
      "Best trial: 33. Best value: 1.52172:  92%|█████████▏| 46/50 [1:17:55<20:27, 306.75s/it]"
     ]
    },
    {
     "name": "stdout",
     "output_type": "stream",
     "text": [
      "[I 2025-10-21 07:16:02,616] Trial 45 finished with value: 1.874536335614383 and parameters: {'n_estimators': 405, 'max_depth': 50, 'min_samples_split': 5, 'min_samples_leaf': 3, 'min_impurity_decrease': 0.050164425544144096, 'max_features': 'sqrt', 'max_leaf_nodes': 596}. Best is trial 33 with value: 1.5217242861904132.\n"
     ]
    },
    {
     "name": "stderr",
     "output_type": "stream",
     "text": [
      "Best trial: 33. Best value: 1.52172:  94%|█████████▍| 47/50 [1:18:13<10:59, 219.95s/it]"
     ]
    },
    {
     "name": "stdout",
     "output_type": "stream",
     "text": [
      "[I 2025-10-21 07:16:20,039] Trial 46 finished with value: 1.551271282660369 and parameters: {'n_estimators': 594, 'max_depth': 40, 'min_samples_split': 3, 'min_samples_leaf': 3, 'min_impurity_decrease': 0.018047364829072723, 'max_features': None, 'max_leaf_nodes': 698}. Best is trial 33 with value: 1.5217242861904132.\n"
     ]
    },
    {
     "name": "stderr",
     "output_type": "stream",
     "text": [
      "Best trial: 33. Best value: 1.52172:  96%|█████████▌| 48/50 [1:18:22<05:13, 156.72s/it]"
     ]
    },
    {
     "name": "stdout",
     "output_type": "stream",
     "text": [
      "[I 2025-10-21 07:16:29,202] Trial 47 finished with value: 1.525383219474549 and parameters: {'n_estimators': 159, 'max_depth': 50, 'min_samples_split': 4, 'min_samples_leaf': 3, 'min_impurity_decrease': 0.0004386780234173042, 'max_features': None, 'max_leaf_nodes': 635}. Best is trial 33 with value: 1.5217242861904132.\n"
     ]
    },
    {
     "name": "stderr",
     "output_type": "stream",
     "text": [
      "Best trial: 33. Best value: 1.52172:  98%|█████████▊| 49/50 [1:18:24<01:50, 110.49s/it]"
     ]
    },
    {
     "name": "stdout",
     "output_type": "stream",
     "text": [
      "[I 2025-10-21 07:16:31,830] Trial 48 finished with value: 2.3040572523817158 and parameters: {'n_estimators': 282, 'max_depth': 46, 'min_samples_split': 6, 'min_samples_leaf': 2, 'min_impurity_decrease': 0.24863876645200433, 'max_features': 'log2', 'max_leaf_nodes': 549}. Best is trial 33 with value: 1.5217242861904132.\n"
     ]
    },
    {
     "name": "stderr",
     "output_type": "stream",
     "text": [
      "Best trial: 33. Best value: 1.52172: 100%|██████████| 50/50 [1:18:32<00:00, 94.24s/it] "
     ]
    },
    {
     "name": "stdout",
     "output_type": "stream",
     "text": [
      "[I 2025-10-21 07:16:39,219] Trial 49 finished with value: 1.5794466205800917 and parameters: {'n_estimators': 331, 'max_depth': 22, 'min_samples_split': 10, 'min_samples_leaf': 3, 'min_impurity_decrease': 0.03478849914668711, 'max_features': None, 'max_leaf_nodes': 681}. Best is trial 33 with value: 1.5217242861904132.\n",
      "Best parameters: {'n_estimators': 489, 'max_depth': 30, 'min_samples_split': 8, 'min_samples_leaf': 3, 'min_impurity_decrease': 0.0020519908217961035, 'max_features': None, 'max_leaf_nodes': 676}\n",
      "Best RMSE: 1.5217242861904132\n"
     ]
    },
    {
     "name": "stderr",
     "output_type": "stream",
     "text": [
      "\n"
     ]
    }
   ],
   "source": [
    "# === 3. Chạy Optuna study cho ExtraTrees ===\n",
    "study_ex = optuna.create_study(\n",
    "    direction='minimize',   # mục tiêu: giảm RMSE\n",
    "    sampler=sampler\n",
    ")\n",
    "\n",
    "# Tiến hành tối ưu\n",
    "study_ex.optimize(objective, n_trials=50, show_progress_bar=True)\n",
    "\n",
    "# === 4. In kết quả tốt nhất ===\n",
    "print(\"Best parameters:\", study_ex.best_trial.params)\n",
    "print(\"Best RMSE:\", study_ex.best_value)\n"
   ]
  },
  {
   "cell_type": "code",
   "execution_count": null,
   "id": "476f1f47",
   "metadata": {},
   "outputs": [
    {
     "name": "stdout",
     "output_type": "stream",
     "text": [
      "Validation metrics: {'RMSE': 1.4981094962144423, 'R2': 0.9156127533286983, 'MAPE': 5.13799909932879}\n",
      "Test metrics: {'RMSE': 1.3558239003827515, 'R2': 0.9150644784751033, 'MAPE': 4.317549688535942}\n",
      "RandomForest model saved to models/Tuning_ExTree_model.pkl\n"
     ]
    },
    {
     "data": {
      "text/plain": [
       "True"
      ]
     },
     "execution_count": 20,
     "metadata": {},
     "output_type": "execute_result"
    }
   ],
   "source": [
    "# === 4 Log kết quả tổng hợp ===\n",
    "task_extra.upload_artifact(\"Best Parameters\", study_ex.best_trial.params)\n",
    "\n",
    "# Fit lại mô hình với best params\n",
    "best_model_ex = ExtraTreesRegressor(**study_ex.best_trial.params)\n",
    "best_model_ex.fit(X_train, y_train)\n",
    "\n",
    "# Predict\n",
    "y_pred_val = best_model_ex.predict(X_val)\n",
    "y_pred_test = best_model_ex.predict(X_test)\n",
    "\n",
    "# Evaluate on validation\n",
    "bestEx_val_metrics = evaluate(y_val, y_pred_val)\n",
    "print(\"Validation metrics:\", bestEx_val_metrics)\n",
    "\n",
    "# Evaluate on test\n",
    "bestEx_test_metrics = evaluate(y_test, y_pred_test)\n",
    "print(\"Test metrics:\", bestEx_test_metrics)\n",
    "\n",
    "\n",
    "# 6 Log lên ClearML\n",
    "logger_extra.report_scalar(\"Best Metrics\", \"RMSE_val\", bestEx_val_metrics[\"RMSE\"], iteration=0)\n",
    "logger_extra.report_scalar(\"Best Metrics\", \"R2_val\", bestEx_val_metrics[\"R2\"], iteration=0)\n",
    "logger_extra.report_scalar(\"Best Metrics\", \"MAPE_val\", bestEx_val_metrics[\"MAPE\"], iteration=0)\n",
    "logger_extra.report_scalar(\"Best Metrics\", \"RMSE_test\", bestEx_test_metrics[\"RMSE\"], iteration=0)\n",
    "logger_extra.report_scalar(\"Best Metrics\", \"R2_test\", bestEx_test_metrics[\"R2\"], iteration=0)\n",
    "logger_extra.report_scalar(\"Best Metrics\", \"MAPE_test\", bestEx_test_metrics[\"MAPE\"], iteration=0)\n",
    "\n",
    "\n",
    "# Upload artifact tổng hợp\n",
    "task_extra.upload_artifact(\"Best Metrics\", {\n",
    "    \"Validation\": bestEx_val_metrics,\n",
    "    \"Test\": bestEx_test_metrics\n",
    "})\n",
    "\n",
    "\n",
    "# Save & upload model\n",
    "model_path = r'models/Tuning_ExTree_model.pkl' \n",
    "joblib.dump(best_model_ex, model_path)\n",
    "print(f\"RandomForest model saved to {model_path}\")\n",
    "task_extra.upload_artifact(\"Best Model\", model_path)"
   ]
  },
  {
   "cell_type": "code",
   "execution_count": 21,
   "id": "68568fd7",
   "metadata": {},
   "outputs": [],
   "source": [
    "# === 6️ Vẽ biểu đồ RMSE theo trial  ===\n",
    "fig2 = plt.figure(figsize=(7, 4))\n",
    "plt.plot([t.value for t in study_ex.trials])\n",
    "plt.xlabel(\"Trial\")\n",
    "plt.ylabel(\"RMSE\")\n",
    "plt.title(\"Optuna RMSE per Trial\")\n",
    "\n",
    "logger_extra.report_matplotlib_figure(\n",
    "    title=\"Optuna Performance\", \n",
    "    series=\"RMSE Curve\", \n",
    "    figure=fig2,\n",
    "    iteration=len(study_ex.trials)\n",
    ")\n",
    "plt.close(fig2)\n"
   ]
  },
  {
   "cell_type": "code",
   "execution_count": 22,
   "id": "2e1eba13",
   "metadata": {},
   "outputs": [],
   "source": [
    "task_extra.close()"
   ]
  },
  {
   "cell_type": "code",
   "execution_count": 23,
   "id": "f5a6c8ba",
   "metadata": {},
   "outputs": [
    {
     "data": {
      "application/vnd.plotly.v1+json": {
       "config": {
        "plotlyServerURL": "https://plot.ly"
       },
       "data": [
        {
         "dimensions": [
          {
           "label": "Objective Value",
           "range": [
            1.5217242861904132,
            2.309883572699083
           ],
           "values": [
            1.5990817073040768,
            1.6325372268308342,
            1.6494402309519742,
            1.607132994492444,
            1.5834131688297148,
            1.8855972277849644,
            1.8845864367790832,
            2.288769514827592,
            2.309883572699083,
            1.6615481646203456,
            2.066418271011817,
            1.523754140428553,
            1.526351654772212,
            1.7005436953317747,
            1.5314560188736785,
            2.1612532715832486,
            1.690876431413472,
            1.7272734189728396,
            1.705927232683969,
            2.146526693055383,
            1.6752966616141318,
            1.5497236881390382,
            1.5679621260914618,
            1.6331311890940838,
            1.5236951203372882,
            1.573771022600014,
            1.5240869017052332,
            1.6343713302975338,
            2.016142558798332,
            1.8669228337578663,
            1.7250402701084941,
            1.5243202045894193,
            1.58978464996247,
            1.5217242861904132,
            1.6246351533308268,
            1.5571540698654773,
            1.6031305688237558,
            1.6409144035674994,
            1.5850790207362786,
            2.0685864377920056,
            1.5521295835394642,
            1.5391036820407078,
            1.5236449274253738,
            1.56782226454884,
            1.521861090289064,
            1.874536335614383,
            1.551271282660369,
            1.525383219474549,
            2.3040572523817158,
            1.5794466205800917
           ]
          },
          {
           "label": "max_depth",
           "range": [
            5,
            50
           ],
           "values": [
            48,
            5,
            18,
            32,
            9,
            19,
            47,
            17,
            42,
            20,
            5,
            33,
            33,
            33,
            38,
            27,
            27,
            35,
            41,
            25,
            31,
            38,
            38,
            44,
            37,
            29,
            34,
            24,
            36,
            48,
            43,
            34,
            35,
            30,
            29,
            23,
            31,
            40,
            15,
            45,
            30,
            34,
            37,
            37,
            50,
            50,
            40,
            50,
            46,
            22
           ]
          },
          {
           "label": "max_features",
           "range": [
            0,
            2
           ],
           "ticktext": [
            "None",
            "sqrt",
            "log2"
           ],
           "tickvals": [
            0,
            1,
            2
           ],
           "values": [
            0,
            0,
            0,
            0,
            0,
            1,
            2,
            2,
            2,
            0,
            1,
            0,
            0,
            0,
            0,
            1,
            0,
            0,
            1,
            2,
            0,
            0,
            0,
            0,
            0,
            0,
            0,
            0,
            2,
            1,
            0,
            0,
            0,
            0,
            0,
            0,
            0,
            0,
            0,
            2,
            0,
            0,
            0,
            0,
            0,
            1,
            0,
            0,
            2,
            0
           ]
          },
          {
           "label": "max_leaf_nodes",
           "range": [
            114,
            984
           ],
           "values": [
            641,
            572,
            279,
            828,
            333,
            906,
            846,
            279,
            877,
            525,
            114,
            582,
            396,
            431,
            720,
            441,
            696,
            118,
            422,
            556,
            212,
            746,
            744,
            984,
            627,
            631,
            494,
            494,
            625,
            594,
            492,
            370,
            363,
            676,
            667,
            589,
            793,
            488,
            659,
            791,
            534,
            309,
            224,
            223,
            598,
            596,
            698,
            635,
            549,
            681
           ]
          },
          {
           "label": "min_impurity_decr...",
           "range": [
            0.00014212030256912592,
            0.29880509680836403
           ],
           "values": [
            0.04680559213273095,
            0.06370173320348284,
            0.08764339456056544,
            0.051157237106187456,
            0.036611470453433645,
            0.05545633665765811,
            0.01356818667316142,
            0.2406590942262119,
            0.2313811040057837,
            0.09755499660802411,
            0.16085657660932784,
            0.0027683007133353157,
            0.0023922249698360085,
            0.14228480479966227,
            0.007664848443163036,
            0.29880509680836403,
            0.12847659481075646,
            0.18496255345188253,
            0.00014212030256912592,
            0.09542294520450934,
            0.11309879122991345,
            0.017434249220333264,
            0.02700028414056692,
            0.07202354786212121,
            0.0038686233519529584,
            0.029916974116560024,
            0.0031038109060421985,
            0.07218552274866853,
            0.02926105771009733,
            0.04512861932542525,
            0.18332931163087207,
            0.0035070938131738045,
            0.040264089564674,
            0.0020519908217961035,
            0.06413813880771567,
            0.01930036116309236,
            0.05003129065519235,
            0.07808373781433507,
            0.03699729901799936,
            0.05490674449743011,
            0.018668982115223394,
            0.012256154692135457,
            0.0021492550011880467,
            0.02669407454485325,
            0.0009353793760996771,
            0.050164425544144096,
            0.018047364829072723,
            0.0004386780234173042,
            0.24863876645200433,
            0.03478849914668711
           ]
          },
          {
           "label": "min_samples_leaf",
           "range": [
            1,
            5
           ],
           "values": [
            3,
            5,
            1,
            4,
            3,
            3,
            1,
            1,
            4,
            2,
            5,
            3,
            2,
            2,
            2,
            4,
            2,
            2,
            3,
            3,
            4,
            2,
            2,
            1,
            3,
            3,
            4,
            4,
            5,
            4,
            3,
            3,
            3,
            3,
            4,
            5,
            3,
            4,
            4,
            3,
            3,
            3,
            3,
            3,
            3,
            3,
            3,
            3,
            2,
            3
           ]
          },
          {
           "label": "min_samples_split",
           "range": [
            2,
            10
           ],
           "values": [
            8,
            10,
            7,
            2,
            8,
            6,
            2,
            6,
            8,
            2,
            4,
            10,
            10,
            10,
            10,
            9,
            4,
            9,
            9,
            5,
            7,
            10,
            10,
            9,
            10,
            9,
            7,
            7,
            5,
            8,
            7,
            8,
            8,
            8,
            9,
            7,
            6,
            10,
            7,
            8,
            6,
            8,
            8,
            9,
            5,
            5,
            3,
            4,
            6,
            10
           ]
          },
          {
           "label": "n_estimators",
           "range": [
            104,
            951
           ],
           "values": [
            437,
            737,
            489,
            563,
            374,
            696,
            638,
            421,
            104,
            661,
            951,
            294,
            227,
            230,
            264,
            126,
            293,
            331,
            227,
            188,
            845,
            294,
            213,
            326,
            502,
            554,
            473,
            485,
            595,
            471,
            405,
            360,
            380,
            489,
            515,
            788,
            432,
            612,
            529,
            457,
            687,
            371,
            353,
            510,
            441,
            405,
            594,
            159,
            282,
            331
           ]
          }
         ],
         "labelangle": 30,
         "labelside": "bottom",
         "line": {
          "color": [
           1.5990817073040768,
           1.6325372268308342,
           1.6494402309519742,
           1.607132994492444,
           1.5834131688297148,
           1.8855972277849644,
           1.8845864367790832,
           2.288769514827592,
           2.309883572699083,
           1.6615481646203456,
           2.066418271011817,
           1.523754140428553,
           1.526351654772212,
           1.7005436953317747,
           1.5314560188736785,
           2.1612532715832486,
           1.690876431413472,
           1.7272734189728396,
           1.705927232683969,
           2.146526693055383,
           1.6752966616141318,
           1.5497236881390382,
           1.5679621260914618,
           1.6331311890940838,
           1.5236951203372882,
           1.573771022600014,
           1.5240869017052332,
           1.6343713302975338,
           2.016142558798332,
           1.8669228337578663,
           1.7250402701084941,
           1.5243202045894193,
           1.58978464996247,
           1.5217242861904132,
           1.6246351533308268,
           1.5571540698654773,
           1.6031305688237558,
           1.6409144035674994,
           1.5850790207362786,
           2.0685864377920056,
           1.5521295835394642,
           1.5391036820407078,
           1.5236449274253738,
           1.56782226454884,
           1.521861090289064,
           1.874536335614383,
           1.551271282660369,
           1.525383219474549,
           2.3040572523817158,
           1.5794466205800917
          ],
          "colorbar": {
           "title": {
            "text": "Objective Value"
           }
          },
          "colorscale": [
           [
            0,
            "rgb(247,251,255)"
           ],
           [
            0.125,
            "rgb(222,235,247)"
           ],
           [
            0.25,
            "rgb(198,219,239)"
           ],
           [
            0.375,
            "rgb(158,202,225)"
           ],
           [
            0.5,
            "rgb(107,174,214)"
           ],
           [
            0.625,
            "rgb(66,146,198)"
           ],
           [
            0.75,
            "rgb(33,113,181)"
           ],
           [
            0.875,
            "rgb(8,81,156)"
           ],
           [
            1,
            "rgb(8,48,107)"
           ]
          ],
          "reversescale": true,
          "showscale": true
         },
         "type": "parcoords"
        }
       ],
       "layout": {
        "template": {
         "data": {
          "bar": [
           {
            "error_x": {
             "color": "#2a3f5f"
            },
            "error_y": {
             "color": "#2a3f5f"
            },
            "marker": {
             "line": {
              "color": "#E5ECF6",
              "width": 0.5
             },
             "pattern": {
              "fillmode": "overlay",
              "size": 10,
              "solidity": 0.2
             }
            },
            "type": "bar"
           }
          ],
          "barpolar": [
           {
            "marker": {
             "line": {
              "color": "#E5ECF6",
              "width": 0.5
             },
             "pattern": {
              "fillmode": "overlay",
              "size": 10,
              "solidity": 0.2
             }
            },
            "type": "barpolar"
           }
          ],
          "carpet": [
           {
            "aaxis": {
             "endlinecolor": "#2a3f5f",
             "gridcolor": "white",
             "linecolor": "white",
             "minorgridcolor": "white",
             "startlinecolor": "#2a3f5f"
            },
            "baxis": {
             "endlinecolor": "#2a3f5f",
             "gridcolor": "white",
             "linecolor": "white",
             "minorgridcolor": "white",
             "startlinecolor": "#2a3f5f"
            },
            "type": "carpet"
           }
          ],
          "choropleth": [
           {
            "colorbar": {
             "outlinewidth": 0,
             "ticks": ""
            },
            "type": "choropleth"
           }
          ],
          "contour": [
           {
            "colorbar": {
             "outlinewidth": 0,
             "ticks": ""
            },
            "colorscale": [
             [
              0,
              "#0d0887"
             ],
             [
              0.1111111111111111,
              "#46039f"
             ],
             [
              0.2222222222222222,
              "#7201a8"
             ],
             [
              0.3333333333333333,
              "#9c179e"
             ],
             [
              0.4444444444444444,
              "#bd3786"
             ],
             [
              0.5555555555555556,
              "#d8576b"
             ],
             [
              0.6666666666666666,
              "#ed7953"
             ],
             [
              0.7777777777777778,
              "#fb9f3a"
             ],
             [
              0.8888888888888888,
              "#fdca26"
             ],
             [
              1,
              "#f0f921"
             ]
            ],
            "type": "contour"
           }
          ],
          "contourcarpet": [
           {
            "colorbar": {
             "outlinewidth": 0,
             "ticks": ""
            },
            "type": "contourcarpet"
           }
          ],
          "heatmap": [
           {
            "colorbar": {
             "outlinewidth": 0,
             "ticks": ""
            },
            "colorscale": [
             [
              0,
              "#0d0887"
             ],
             [
              0.1111111111111111,
              "#46039f"
             ],
             [
              0.2222222222222222,
              "#7201a8"
             ],
             [
              0.3333333333333333,
              "#9c179e"
             ],
             [
              0.4444444444444444,
              "#bd3786"
             ],
             [
              0.5555555555555556,
              "#d8576b"
             ],
             [
              0.6666666666666666,
              "#ed7953"
             ],
             [
              0.7777777777777778,
              "#fb9f3a"
             ],
             [
              0.8888888888888888,
              "#fdca26"
             ],
             [
              1,
              "#f0f921"
             ]
            ],
            "type": "heatmap"
           }
          ],
          "histogram": [
           {
            "marker": {
             "pattern": {
              "fillmode": "overlay",
              "size": 10,
              "solidity": 0.2
             }
            },
            "type": "histogram"
           }
          ],
          "histogram2d": [
           {
            "colorbar": {
             "outlinewidth": 0,
             "ticks": ""
            },
            "colorscale": [
             [
              0,
              "#0d0887"
             ],
             [
              0.1111111111111111,
              "#46039f"
             ],
             [
              0.2222222222222222,
              "#7201a8"
             ],
             [
              0.3333333333333333,
              "#9c179e"
             ],
             [
              0.4444444444444444,
              "#bd3786"
             ],
             [
              0.5555555555555556,
              "#d8576b"
             ],
             [
              0.6666666666666666,
              "#ed7953"
             ],
             [
              0.7777777777777778,
              "#fb9f3a"
             ],
             [
              0.8888888888888888,
              "#fdca26"
             ],
             [
              1,
              "#f0f921"
             ]
            ],
            "type": "histogram2d"
           }
          ],
          "histogram2dcontour": [
           {
            "colorbar": {
             "outlinewidth": 0,
             "ticks": ""
            },
            "colorscale": [
             [
              0,
              "#0d0887"
             ],
             [
              0.1111111111111111,
              "#46039f"
             ],
             [
              0.2222222222222222,
              "#7201a8"
             ],
             [
              0.3333333333333333,
              "#9c179e"
             ],
             [
              0.4444444444444444,
              "#bd3786"
             ],
             [
              0.5555555555555556,
              "#d8576b"
             ],
             [
              0.6666666666666666,
              "#ed7953"
             ],
             [
              0.7777777777777778,
              "#fb9f3a"
             ],
             [
              0.8888888888888888,
              "#fdca26"
             ],
             [
              1,
              "#f0f921"
             ]
            ],
            "type": "histogram2dcontour"
           }
          ],
          "mesh3d": [
           {
            "colorbar": {
             "outlinewidth": 0,
             "ticks": ""
            },
            "type": "mesh3d"
           }
          ],
          "parcoords": [
           {
            "line": {
             "colorbar": {
              "outlinewidth": 0,
              "ticks": ""
             }
            },
            "type": "parcoords"
           }
          ],
          "pie": [
           {
            "automargin": true,
            "type": "pie"
           }
          ],
          "scatter": [
           {
            "fillpattern": {
             "fillmode": "overlay",
             "size": 10,
             "solidity": 0.2
            },
            "type": "scatter"
           }
          ],
          "scatter3d": [
           {
            "line": {
             "colorbar": {
              "outlinewidth": 0,
              "ticks": ""
             }
            },
            "marker": {
             "colorbar": {
              "outlinewidth": 0,
              "ticks": ""
             }
            },
            "type": "scatter3d"
           }
          ],
          "scattercarpet": [
           {
            "marker": {
             "colorbar": {
              "outlinewidth": 0,
              "ticks": ""
             }
            },
            "type": "scattercarpet"
           }
          ],
          "scattergeo": [
           {
            "marker": {
             "colorbar": {
              "outlinewidth": 0,
              "ticks": ""
             }
            },
            "type": "scattergeo"
           }
          ],
          "scattergl": [
           {
            "marker": {
             "colorbar": {
              "outlinewidth": 0,
              "ticks": ""
             }
            },
            "type": "scattergl"
           }
          ],
          "scattermap": [
           {
            "marker": {
             "colorbar": {
              "outlinewidth": 0,
              "ticks": ""
             }
            },
            "type": "scattermap"
           }
          ],
          "scattermapbox": [
           {
            "marker": {
             "colorbar": {
              "outlinewidth": 0,
              "ticks": ""
             }
            },
            "type": "scattermapbox"
           }
          ],
          "scatterpolar": [
           {
            "marker": {
             "colorbar": {
              "outlinewidth": 0,
              "ticks": ""
             }
            },
            "type": "scatterpolar"
           }
          ],
          "scatterpolargl": [
           {
            "marker": {
             "colorbar": {
              "outlinewidth": 0,
              "ticks": ""
             }
            },
            "type": "scatterpolargl"
           }
          ],
          "scatterternary": [
           {
            "marker": {
             "colorbar": {
              "outlinewidth": 0,
              "ticks": ""
             }
            },
            "type": "scatterternary"
           }
          ],
          "surface": [
           {
            "colorbar": {
             "outlinewidth": 0,
             "ticks": ""
            },
            "colorscale": [
             [
              0,
              "#0d0887"
             ],
             [
              0.1111111111111111,
              "#46039f"
             ],
             [
              0.2222222222222222,
              "#7201a8"
             ],
             [
              0.3333333333333333,
              "#9c179e"
             ],
             [
              0.4444444444444444,
              "#bd3786"
             ],
             [
              0.5555555555555556,
              "#d8576b"
             ],
             [
              0.6666666666666666,
              "#ed7953"
             ],
             [
              0.7777777777777778,
              "#fb9f3a"
             ],
             [
              0.8888888888888888,
              "#fdca26"
             ],
             [
              1,
              "#f0f921"
             ]
            ],
            "type": "surface"
           }
          ],
          "table": [
           {
            "cells": {
             "fill": {
              "color": "#EBF0F8"
             },
             "line": {
              "color": "white"
             }
            },
            "header": {
             "fill": {
              "color": "#C8D4E3"
             },
             "line": {
              "color": "white"
             }
            },
            "type": "table"
           }
          ]
         },
         "layout": {
          "annotationdefaults": {
           "arrowcolor": "#2a3f5f",
           "arrowhead": 0,
           "arrowwidth": 1
          },
          "autotypenumbers": "strict",
          "coloraxis": {
           "colorbar": {
            "outlinewidth": 0,
            "ticks": ""
           }
          },
          "colorscale": {
           "diverging": [
            [
             0,
             "#8e0152"
            ],
            [
             0.1,
             "#c51b7d"
            ],
            [
             0.2,
             "#de77ae"
            ],
            [
             0.3,
             "#f1b6da"
            ],
            [
             0.4,
             "#fde0ef"
            ],
            [
             0.5,
             "#f7f7f7"
            ],
            [
             0.6,
             "#e6f5d0"
            ],
            [
             0.7,
             "#b8e186"
            ],
            [
             0.8,
             "#7fbc41"
            ],
            [
             0.9,
             "#4d9221"
            ],
            [
             1,
             "#276419"
            ]
           ],
           "sequential": [
            [
             0,
             "#0d0887"
            ],
            [
             0.1111111111111111,
             "#46039f"
            ],
            [
             0.2222222222222222,
             "#7201a8"
            ],
            [
             0.3333333333333333,
             "#9c179e"
            ],
            [
             0.4444444444444444,
             "#bd3786"
            ],
            [
             0.5555555555555556,
             "#d8576b"
            ],
            [
             0.6666666666666666,
             "#ed7953"
            ],
            [
             0.7777777777777778,
             "#fb9f3a"
            ],
            [
             0.8888888888888888,
             "#fdca26"
            ],
            [
             1,
             "#f0f921"
            ]
           ],
           "sequentialminus": [
            [
             0,
             "#0d0887"
            ],
            [
             0.1111111111111111,
             "#46039f"
            ],
            [
             0.2222222222222222,
             "#7201a8"
            ],
            [
             0.3333333333333333,
             "#9c179e"
            ],
            [
             0.4444444444444444,
             "#bd3786"
            ],
            [
             0.5555555555555556,
             "#d8576b"
            ],
            [
             0.6666666666666666,
             "#ed7953"
            ],
            [
             0.7777777777777778,
             "#fb9f3a"
            ],
            [
             0.8888888888888888,
             "#fdca26"
            ],
            [
             1,
             "#f0f921"
            ]
           ]
          },
          "colorway": [
           "#636efa",
           "#EF553B",
           "#00cc96",
           "#ab63fa",
           "#FFA15A",
           "#19d3f3",
           "#FF6692",
           "#B6E880",
           "#FF97FF",
           "#FECB52"
          ],
          "font": {
           "color": "#2a3f5f"
          },
          "geo": {
           "bgcolor": "white",
           "lakecolor": "white",
           "landcolor": "#E5ECF6",
           "showlakes": true,
           "showland": true,
           "subunitcolor": "white"
          },
          "hoverlabel": {
           "align": "left"
          },
          "hovermode": "closest",
          "mapbox": {
           "style": "light"
          },
          "paper_bgcolor": "white",
          "plot_bgcolor": "#E5ECF6",
          "polar": {
           "angularaxis": {
            "gridcolor": "white",
            "linecolor": "white",
            "ticks": ""
           },
           "bgcolor": "#E5ECF6",
           "radialaxis": {
            "gridcolor": "white",
            "linecolor": "white",
            "ticks": ""
           }
          },
          "scene": {
           "xaxis": {
            "backgroundcolor": "#E5ECF6",
            "gridcolor": "white",
            "gridwidth": 2,
            "linecolor": "white",
            "showbackground": true,
            "ticks": "",
            "zerolinecolor": "white"
           },
           "yaxis": {
            "backgroundcolor": "#E5ECF6",
            "gridcolor": "white",
            "gridwidth": 2,
            "linecolor": "white",
            "showbackground": true,
            "ticks": "",
            "zerolinecolor": "white"
           },
           "zaxis": {
            "backgroundcolor": "#E5ECF6",
            "gridcolor": "white",
            "gridwidth": 2,
            "linecolor": "white",
            "showbackground": true,
            "ticks": "",
            "zerolinecolor": "white"
           }
          },
          "shapedefaults": {
           "line": {
            "color": "#2a3f5f"
           }
          },
          "ternary": {
           "aaxis": {
            "gridcolor": "white",
            "linecolor": "white",
            "ticks": ""
           },
           "baxis": {
            "gridcolor": "white",
            "linecolor": "white",
            "ticks": ""
           },
           "bgcolor": "#E5ECF6",
           "caxis": {
            "gridcolor": "white",
            "linecolor": "white",
            "ticks": ""
           }
          },
          "title": {
           "x": 0.05
          },
          "xaxis": {
           "automargin": true,
           "gridcolor": "white",
           "linecolor": "white",
           "ticks": "",
           "title": {
            "standoff": 15
           },
           "zerolinecolor": "white",
           "zerolinewidth": 2
          },
          "yaxis": {
           "automargin": true,
           "gridcolor": "white",
           "linecolor": "white",
           "ticks": "",
           "title": {
            "standoff": 15
           },
           "zerolinecolor": "white",
           "zerolinewidth": 2
          }
         }
        },
        "title": {
         "text": "Parallel Coordinate Plot"
        }
       }
      }
     },
     "metadata": {},
     "output_type": "display_data"
    }
   ],
   "source": [
    "vis.plot_parallel_coordinate(study_ex)"
   ]
  },
  {
   "cell_type": "code",
   "execution_count": 24,
   "id": "b850f61b",
   "metadata": {},
   "outputs": [
    {
     "data": {
      "application/vnd.plotly.v1+json": {
       "config": {
        "plotlyServerURL": "https://plot.ly"
       },
       "data": [
        {
         "marker": {
          "color": [
           0,
           1,
           2,
           3,
           4,
           5,
           6,
           7,
           8,
           9,
           10,
           11,
           12,
           13,
           14,
           15,
           16,
           17,
           18,
           19,
           20,
           21,
           22,
           23,
           24,
           25,
           26,
           27,
           28,
           29,
           30,
           31,
           32,
           33,
           34,
           35,
           36,
           37,
           38,
           39,
           40,
           41,
           42,
           43,
           44,
           45,
           46,
           47,
           48,
           49
          ],
          "colorbar": {
           "title": {
            "text": "Trial"
           },
           "x": 1,
           "xpad": 40
          },
          "colorscale": [
           [
            0,
            "rgb(247,251,255)"
           ],
           [
            0.125,
            "rgb(222,235,247)"
           ],
           [
            0.25,
            "rgb(198,219,239)"
           ],
           [
            0.375,
            "rgb(158,202,225)"
           ],
           [
            0.5,
            "rgb(107,174,214)"
           ],
           [
            0.625,
            "rgb(66,146,198)"
           ],
           [
            0.75,
            "rgb(33,113,181)"
           ],
           [
            0.875,
            "rgb(8,81,156)"
           ],
           [
            1,
            "rgb(8,48,107)"
           ]
          ],
          "line": {
           "color": "Grey",
           "width": 0.5
          },
          "showscale": true
         },
         "mode": "markers",
         "name": "Feasible Trial",
         "showlegend": false,
         "type": "scatter",
         "x": [
          48,
          5,
          18,
          32,
          9,
          19,
          47,
          17,
          42,
          20,
          5,
          33,
          33,
          33,
          38,
          27,
          27,
          35,
          41,
          25,
          31,
          38,
          38,
          44,
          37,
          29,
          34,
          24,
          36,
          48,
          43,
          34,
          35,
          30,
          29,
          23,
          31,
          40,
          15,
          45,
          30,
          34,
          37,
          37,
          50,
          50,
          40,
          50,
          46,
          22
         ],
         "xaxis": "x",
         "y": [
          1.5990817073040768,
          1.6325372268308342,
          1.6494402309519742,
          1.607132994492444,
          1.5834131688297148,
          1.8855972277849644,
          1.8845864367790832,
          2.288769514827592,
          2.309883572699083,
          1.6615481646203456,
          2.066418271011817,
          1.523754140428553,
          1.526351654772212,
          1.7005436953317747,
          1.5314560188736785,
          2.1612532715832486,
          1.690876431413472,
          1.7272734189728396,
          1.705927232683969,
          2.146526693055383,
          1.6752966616141318,
          1.5497236881390382,
          1.5679621260914618,
          1.6331311890940838,
          1.5236951203372882,
          1.573771022600014,
          1.5240869017052332,
          1.6343713302975338,
          2.016142558798332,
          1.8669228337578663,
          1.7250402701084941,
          1.5243202045894193,
          1.58978464996247,
          1.5217242861904132,
          1.6246351533308268,
          1.5571540698654773,
          1.6031305688237558,
          1.6409144035674994,
          1.5850790207362786,
          2.0685864377920056,
          1.5521295835394642,
          1.5391036820407078,
          1.5236449274253738,
          1.56782226454884,
          1.521861090289064,
          1.874536335614383,
          1.551271282660369,
          1.525383219474549,
          2.3040572523817158,
          1.5794466205800917
         ],
         "yaxis": "y"
        },
        {
         "marker": {
          "color": [
           0,
           1,
           2,
           3,
           4,
           5,
           6,
           7,
           8,
           9,
           10,
           11,
           12,
           13,
           14,
           15,
           16,
           17,
           18,
           19,
           20,
           21,
           22,
           23,
           24,
           25,
           26,
           27,
           28,
           29,
           30,
           31,
           32,
           33,
           34,
           35,
           36,
           37,
           38,
           39,
           40,
           41,
           42,
           43,
           44,
           45,
           46,
           47,
           48,
           49
          ],
          "colorbar": {
           "title": {
            "text": "Trial"
           },
           "x": 1,
           "xpad": 40
          },
          "colorscale": [
           [
            0,
            "rgb(247,251,255)"
           ],
           [
            0.125,
            "rgb(222,235,247)"
           ],
           [
            0.25,
            "rgb(198,219,239)"
           ],
           [
            0.375,
            "rgb(158,202,225)"
           ],
           [
            0.5,
            "rgb(107,174,214)"
           ],
           [
            0.625,
            "rgb(66,146,198)"
           ],
           [
            0.75,
            "rgb(33,113,181)"
           ],
           [
            0.875,
            "rgb(8,81,156)"
           ],
           [
            1,
            "rgb(8,48,107)"
           ]
          ],
          "line": {
           "color": "Grey",
           "width": 0.5
          },
          "showscale": false
         },
         "mode": "markers",
         "name": "Feasible Trial",
         "showlegend": false,
         "type": "scatter",
         "x": [
          null,
          null,
          null,
          null,
          null,
          "sqrt",
          "log2",
          "log2",
          "log2",
          null,
          "sqrt",
          null,
          null,
          null,
          null,
          "sqrt",
          null,
          null,
          "sqrt",
          "log2",
          null,
          null,
          null,
          null,
          null,
          null,
          null,
          null,
          "log2",
          "sqrt",
          null,
          null,
          null,
          null,
          null,
          null,
          null,
          null,
          null,
          "log2",
          null,
          null,
          null,
          null,
          null,
          "sqrt",
          null,
          null,
          "log2",
          null
         ],
         "xaxis": "x2",
         "y": [
          1.5990817073040768,
          1.6325372268308342,
          1.6494402309519742,
          1.607132994492444,
          1.5834131688297148,
          1.8855972277849644,
          1.8845864367790832,
          2.288769514827592,
          2.309883572699083,
          1.6615481646203456,
          2.066418271011817,
          1.523754140428553,
          1.526351654772212,
          1.7005436953317747,
          1.5314560188736785,
          2.1612532715832486,
          1.690876431413472,
          1.7272734189728396,
          1.705927232683969,
          2.146526693055383,
          1.6752966616141318,
          1.5497236881390382,
          1.5679621260914618,
          1.6331311890940838,
          1.5236951203372882,
          1.573771022600014,
          1.5240869017052332,
          1.6343713302975338,
          2.016142558798332,
          1.8669228337578663,
          1.7250402701084941,
          1.5243202045894193,
          1.58978464996247,
          1.5217242861904132,
          1.6246351533308268,
          1.5571540698654773,
          1.6031305688237558,
          1.6409144035674994,
          1.5850790207362786,
          2.0685864377920056,
          1.5521295835394642,
          1.5391036820407078,
          1.5236449274253738,
          1.56782226454884,
          1.521861090289064,
          1.874536335614383,
          1.551271282660369,
          1.525383219474549,
          2.3040572523817158,
          1.5794466205800917
         ],
         "yaxis": "y2"
        },
        {
         "marker": {
          "color": [
           0,
           1,
           2,
           3,
           4,
           5,
           6,
           7,
           8,
           9,
           10,
           11,
           12,
           13,
           14,
           15,
           16,
           17,
           18,
           19,
           20,
           21,
           22,
           23,
           24,
           25,
           26,
           27,
           28,
           29,
           30,
           31,
           32,
           33,
           34,
           35,
           36,
           37,
           38,
           39,
           40,
           41,
           42,
           43,
           44,
           45,
           46,
           47,
           48,
           49
          ],
          "colorbar": {
           "title": {
            "text": "Trial"
           },
           "x": 1,
           "xpad": 40
          },
          "colorscale": [
           [
            0,
            "rgb(247,251,255)"
           ],
           [
            0.125,
            "rgb(222,235,247)"
           ],
           [
            0.25,
            "rgb(198,219,239)"
           ],
           [
            0.375,
            "rgb(158,202,225)"
           ],
           [
            0.5,
            "rgb(107,174,214)"
           ],
           [
            0.625,
            "rgb(66,146,198)"
           ],
           [
            0.75,
            "rgb(33,113,181)"
           ],
           [
            0.875,
            "rgb(8,81,156)"
           ],
           [
            1,
            "rgb(8,48,107)"
           ]
          ],
          "line": {
           "color": "Grey",
           "width": 0.5
          },
          "showscale": false
         },
         "mode": "markers",
         "name": "Feasible Trial",
         "showlegend": false,
         "type": "scatter",
         "x": [
          641,
          572,
          279,
          828,
          333,
          906,
          846,
          279,
          877,
          525,
          114,
          582,
          396,
          431,
          720,
          441,
          696,
          118,
          422,
          556,
          212,
          746,
          744,
          984,
          627,
          631,
          494,
          494,
          625,
          594,
          492,
          370,
          363,
          676,
          667,
          589,
          793,
          488,
          659,
          791,
          534,
          309,
          224,
          223,
          598,
          596,
          698,
          635,
          549,
          681
         ],
         "xaxis": "x3",
         "y": [
          1.5990817073040768,
          1.6325372268308342,
          1.6494402309519742,
          1.607132994492444,
          1.5834131688297148,
          1.8855972277849644,
          1.8845864367790832,
          2.288769514827592,
          2.309883572699083,
          1.6615481646203456,
          2.066418271011817,
          1.523754140428553,
          1.526351654772212,
          1.7005436953317747,
          1.5314560188736785,
          2.1612532715832486,
          1.690876431413472,
          1.7272734189728396,
          1.705927232683969,
          2.146526693055383,
          1.6752966616141318,
          1.5497236881390382,
          1.5679621260914618,
          1.6331311890940838,
          1.5236951203372882,
          1.573771022600014,
          1.5240869017052332,
          1.6343713302975338,
          2.016142558798332,
          1.8669228337578663,
          1.7250402701084941,
          1.5243202045894193,
          1.58978464996247,
          1.5217242861904132,
          1.6246351533308268,
          1.5571540698654773,
          1.6031305688237558,
          1.6409144035674994,
          1.5850790207362786,
          2.0685864377920056,
          1.5521295835394642,
          1.5391036820407078,
          1.5236449274253738,
          1.56782226454884,
          1.521861090289064,
          1.874536335614383,
          1.551271282660369,
          1.525383219474549,
          2.3040572523817158,
          1.5794466205800917
         ],
         "yaxis": "y3"
        },
        {
         "marker": {
          "color": [
           0,
           1,
           2,
           3,
           4,
           5,
           6,
           7,
           8,
           9,
           10,
           11,
           12,
           13,
           14,
           15,
           16,
           17,
           18,
           19,
           20,
           21,
           22,
           23,
           24,
           25,
           26,
           27,
           28,
           29,
           30,
           31,
           32,
           33,
           34,
           35,
           36,
           37,
           38,
           39,
           40,
           41,
           42,
           43,
           44,
           45,
           46,
           47,
           48,
           49
          ],
          "colorbar": {
           "title": {
            "text": "Trial"
           },
           "x": 1,
           "xpad": 40
          },
          "colorscale": [
           [
            0,
            "rgb(247,251,255)"
           ],
           [
            0.125,
            "rgb(222,235,247)"
           ],
           [
            0.25,
            "rgb(198,219,239)"
           ],
           [
            0.375,
            "rgb(158,202,225)"
           ],
           [
            0.5,
            "rgb(107,174,214)"
           ],
           [
            0.625,
            "rgb(66,146,198)"
           ],
           [
            0.75,
            "rgb(33,113,181)"
           ],
           [
            0.875,
            "rgb(8,81,156)"
           ],
           [
            1,
            "rgb(8,48,107)"
           ]
          ],
          "line": {
           "color": "Grey",
           "width": 0.5
          },
          "showscale": false
         },
         "mode": "markers",
         "name": "Feasible Trial",
         "showlegend": false,
         "type": "scatter",
         "x": [
          0.04680559213273095,
          0.06370173320348284,
          0.08764339456056544,
          0.051157237106187456,
          0.036611470453433645,
          0.05545633665765811,
          0.01356818667316142,
          0.2406590942262119,
          0.2313811040057837,
          0.09755499660802411,
          0.16085657660932784,
          0.0027683007133353157,
          0.0023922249698360085,
          0.14228480479966227,
          0.007664848443163036,
          0.29880509680836403,
          0.12847659481075646,
          0.18496255345188253,
          0.00014212030256912592,
          0.09542294520450934,
          0.11309879122991345,
          0.017434249220333264,
          0.02700028414056692,
          0.07202354786212121,
          0.0038686233519529584,
          0.029916974116560024,
          0.0031038109060421985,
          0.07218552274866853,
          0.02926105771009733,
          0.04512861932542525,
          0.18332931163087207,
          0.0035070938131738045,
          0.040264089564674,
          0.0020519908217961035,
          0.06413813880771567,
          0.01930036116309236,
          0.05003129065519235,
          0.07808373781433507,
          0.03699729901799936,
          0.05490674449743011,
          0.018668982115223394,
          0.012256154692135457,
          0.0021492550011880467,
          0.02669407454485325,
          0.0009353793760996771,
          0.050164425544144096,
          0.018047364829072723,
          0.0004386780234173042,
          0.24863876645200433,
          0.03478849914668711
         ],
         "xaxis": "x4",
         "y": [
          1.5990817073040768,
          1.6325372268308342,
          1.6494402309519742,
          1.607132994492444,
          1.5834131688297148,
          1.8855972277849644,
          1.8845864367790832,
          2.288769514827592,
          2.309883572699083,
          1.6615481646203456,
          2.066418271011817,
          1.523754140428553,
          1.526351654772212,
          1.7005436953317747,
          1.5314560188736785,
          2.1612532715832486,
          1.690876431413472,
          1.7272734189728396,
          1.705927232683969,
          2.146526693055383,
          1.6752966616141318,
          1.5497236881390382,
          1.5679621260914618,
          1.6331311890940838,
          1.5236951203372882,
          1.573771022600014,
          1.5240869017052332,
          1.6343713302975338,
          2.016142558798332,
          1.8669228337578663,
          1.7250402701084941,
          1.5243202045894193,
          1.58978464996247,
          1.5217242861904132,
          1.6246351533308268,
          1.5571540698654773,
          1.6031305688237558,
          1.6409144035674994,
          1.5850790207362786,
          2.0685864377920056,
          1.5521295835394642,
          1.5391036820407078,
          1.5236449274253738,
          1.56782226454884,
          1.521861090289064,
          1.874536335614383,
          1.551271282660369,
          1.525383219474549,
          2.3040572523817158,
          1.5794466205800917
         ],
         "yaxis": "y4"
        },
        {
         "marker": {
          "color": [
           0,
           1,
           2,
           3,
           4,
           5,
           6,
           7,
           8,
           9,
           10,
           11,
           12,
           13,
           14,
           15,
           16,
           17,
           18,
           19,
           20,
           21,
           22,
           23,
           24,
           25,
           26,
           27,
           28,
           29,
           30,
           31,
           32,
           33,
           34,
           35,
           36,
           37,
           38,
           39,
           40,
           41,
           42,
           43,
           44,
           45,
           46,
           47,
           48,
           49
          ],
          "colorbar": {
           "title": {
            "text": "Trial"
           },
           "x": 1,
           "xpad": 40
          },
          "colorscale": [
           [
            0,
            "rgb(247,251,255)"
           ],
           [
            0.125,
            "rgb(222,235,247)"
           ],
           [
            0.25,
            "rgb(198,219,239)"
           ],
           [
            0.375,
            "rgb(158,202,225)"
           ],
           [
            0.5,
            "rgb(107,174,214)"
           ],
           [
            0.625,
            "rgb(66,146,198)"
           ],
           [
            0.75,
            "rgb(33,113,181)"
           ],
           [
            0.875,
            "rgb(8,81,156)"
           ],
           [
            1,
            "rgb(8,48,107)"
           ]
          ],
          "line": {
           "color": "Grey",
           "width": 0.5
          },
          "showscale": false
         },
         "mode": "markers",
         "name": "Feasible Trial",
         "showlegend": false,
         "type": "scatter",
         "x": [
          3,
          5,
          1,
          4,
          3,
          3,
          1,
          1,
          4,
          2,
          5,
          3,
          2,
          2,
          2,
          4,
          2,
          2,
          3,
          3,
          4,
          2,
          2,
          1,
          3,
          3,
          4,
          4,
          5,
          4,
          3,
          3,
          3,
          3,
          4,
          5,
          3,
          4,
          4,
          3,
          3,
          3,
          3,
          3,
          3,
          3,
          3,
          3,
          2,
          3
         ],
         "xaxis": "x5",
         "y": [
          1.5990817073040768,
          1.6325372268308342,
          1.6494402309519742,
          1.607132994492444,
          1.5834131688297148,
          1.8855972277849644,
          1.8845864367790832,
          2.288769514827592,
          2.309883572699083,
          1.6615481646203456,
          2.066418271011817,
          1.523754140428553,
          1.526351654772212,
          1.7005436953317747,
          1.5314560188736785,
          2.1612532715832486,
          1.690876431413472,
          1.7272734189728396,
          1.705927232683969,
          2.146526693055383,
          1.6752966616141318,
          1.5497236881390382,
          1.5679621260914618,
          1.6331311890940838,
          1.5236951203372882,
          1.573771022600014,
          1.5240869017052332,
          1.6343713302975338,
          2.016142558798332,
          1.8669228337578663,
          1.7250402701084941,
          1.5243202045894193,
          1.58978464996247,
          1.5217242861904132,
          1.6246351533308268,
          1.5571540698654773,
          1.6031305688237558,
          1.6409144035674994,
          1.5850790207362786,
          2.0685864377920056,
          1.5521295835394642,
          1.5391036820407078,
          1.5236449274253738,
          1.56782226454884,
          1.521861090289064,
          1.874536335614383,
          1.551271282660369,
          1.525383219474549,
          2.3040572523817158,
          1.5794466205800917
         ],
         "yaxis": "y5"
        },
        {
         "marker": {
          "color": [
           0,
           1,
           2,
           3,
           4,
           5,
           6,
           7,
           8,
           9,
           10,
           11,
           12,
           13,
           14,
           15,
           16,
           17,
           18,
           19,
           20,
           21,
           22,
           23,
           24,
           25,
           26,
           27,
           28,
           29,
           30,
           31,
           32,
           33,
           34,
           35,
           36,
           37,
           38,
           39,
           40,
           41,
           42,
           43,
           44,
           45,
           46,
           47,
           48,
           49
          ],
          "colorbar": {
           "title": {
            "text": "Trial"
           },
           "x": 1,
           "xpad": 40
          },
          "colorscale": [
           [
            0,
            "rgb(247,251,255)"
           ],
           [
            0.125,
            "rgb(222,235,247)"
           ],
           [
            0.25,
            "rgb(198,219,239)"
           ],
           [
            0.375,
            "rgb(158,202,225)"
           ],
           [
            0.5,
            "rgb(107,174,214)"
           ],
           [
            0.625,
            "rgb(66,146,198)"
           ],
           [
            0.75,
            "rgb(33,113,181)"
           ],
           [
            0.875,
            "rgb(8,81,156)"
           ],
           [
            1,
            "rgb(8,48,107)"
           ]
          ],
          "line": {
           "color": "Grey",
           "width": 0.5
          },
          "showscale": false
         },
         "mode": "markers",
         "name": "Feasible Trial",
         "showlegend": false,
         "type": "scatter",
         "x": [
          8,
          10,
          7,
          2,
          8,
          6,
          2,
          6,
          8,
          2,
          4,
          10,
          10,
          10,
          10,
          9,
          4,
          9,
          9,
          5,
          7,
          10,
          10,
          9,
          10,
          9,
          7,
          7,
          5,
          8,
          7,
          8,
          8,
          8,
          9,
          7,
          6,
          10,
          7,
          8,
          6,
          8,
          8,
          9,
          5,
          5,
          3,
          4,
          6,
          10
         ],
         "xaxis": "x6",
         "y": [
          1.5990817073040768,
          1.6325372268308342,
          1.6494402309519742,
          1.607132994492444,
          1.5834131688297148,
          1.8855972277849644,
          1.8845864367790832,
          2.288769514827592,
          2.309883572699083,
          1.6615481646203456,
          2.066418271011817,
          1.523754140428553,
          1.526351654772212,
          1.7005436953317747,
          1.5314560188736785,
          2.1612532715832486,
          1.690876431413472,
          1.7272734189728396,
          1.705927232683969,
          2.146526693055383,
          1.6752966616141318,
          1.5497236881390382,
          1.5679621260914618,
          1.6331311890940838,
          1.5236951203372882,
          1.573771022600014,
          1.5240869017052332,
          1.6343713302975338,
          2.016142558798332,
          1.8669228337578663,
          1.7250402701084941,
          1.5243202045894193,
          1.58978464996247,
          1.5217242861904132,
          1.6246351533308268,
          1.5571540698654773,
          1.6031305688237558,
          1.6409144035674994,
          1.5850790207362786,
          2.0685864377920056,
          1.5521295835394642,
          1.5391036820407078,
          1.5236449274253738,
          1.56782226454884,
          1.521861090289064,
          1.874536335614383,
          1.551271282660369,
          1.525383219474549,
          2.3040572523817158,
          1.5794466205800917
         ],
         "yaxis": "y6"
        },
        {
         "marker": {
          "color": [
           0,
           1,
           2,
           3,
           4,
           5,
           6,
           7,
           8,
           9,
           10,
           11,
           12,
           13,
           14,
           15,
           16,
           17,
           18,
           19,
           20,
           21,
           22,
           23,
           24,
           25,
           26,
           27,
           28,
           29,
           30,
           31,
           32,
           33,
           34,
           35,
           36,
           37,
           38,
           39,
           40,
           41,
           42,
           43,
           44,
           45,
           46,
           47,
           48,
           49
          ],
          "colorbar": {
           "title": {
            "text": "Trial"
           },
           "x": 1,
           "xpad": 40
          },
          "colorscale": [
           [
            0,
            "rgb(247,251,255)"
           ],
           [
            0.125,
            "rgb(222,235,247)"
           ],
           [
            0.25,
            "rgb(198,219,239)"
           ],
           [
            0.375,
            "rgb(158,202,225)"
           ],
           [
            0.5,
            "rgb(107,174,214)"
           ],
           [
            0.625,
            "rgb(66,146,198)"
           ],
           [
            0.75,
            "rgb(33,113,181)"
           ],
           [
            0.875,
            "rgb(8,81,156)"
           ],
           [
            1,
            "rgb(8,48,107)"
           ]
          ],
          "line": {
           "color": "Grey",
           "width": 0.5
          },
          "showscale": false
         },
         "mode": "markers",
         "name": "Feasible Trial",
         "showlegend": false,
         "type": "scatter",
         "x": [
          437,
          737,
          489,
          563,
          374,
          696,
          638,
          421,
          104,
          661,
          951,
          294,
          227,
          230,
          264,
          126,
          293,
          331,
          227,
          188,
          845,
          294,
          213,
          326,
          502,
          554,
          473,
          485,
          595,
          471,
          405,
          360,
          380,
          489,
          515,
          788,
          432,
          612,
          529,
          457,
          687,
          371,
          353,
          510,
          441,
          405,
          594,
          159,
          282,
          331
         ],
         "xaxis": "x7",
         "y": [
          1.5990817073040768,
          1.6325372268308342,
          1.6494402309519742,
          1.607132994492444,
          1.5834131688297148,
          1.8855972277849644,
          1.8845864367790832,
          2.288769514827592,
          2.309883572699083,
          1.6615481646203456,
          2.066418271011817,
          1.523754140428553,
          1.526351654772212,
          1.7005436953317747,
          1.5314560188736785,
          2.1612532715832486,
          1.690876431413472,
          1.7272734189728396,
          1.705927232683969,
          2.146526693055383,
          1.6752966616141318,
          1.5497236881390382,
          1.5679621260914618,
          1.6331311890940838,
          1.5236951203372882,
          1.573771022600014,
          1.5240869017052332,
          1.6343713302975338,
          2.016142558798332,
          1.8669228337578663,
          1.7250402701084941,
          1.5243202045894193,
          1.58978464996247,
          1.5217242861904132,
          1.6246351533308268,
          1.5571540698654773,
          1.6031305688237558,
          1.6409144035674994,
          1.5850790207362786,
          2.0685864377920056,
          1.5521295835394642,
          1.5391036820407078,
          1.5236449274253738,
          1.56782226454884,
          1.521861090289064,
          1.874536335614383,
          1.551271282660369,
          1.525383219474549,
          2.3040572523817158,
          1.5794466205800917
         ],
         "yaxis": "y7"
        }
       ],
       "layout": {
        "template": {
         "data": {
          "bar": [
           {
            "error_x": {
             "color": "#2a3f5f"
            },
            "error_y": {
             "color": "#2a3f5f"
            },
            "marker": {
             "line": {
              "color": "#E5ECF6",
              "width": 0.5
             },
             "pattern": {
              "fillmode": "overlay",
              "size": 10,
              "solidity": 0.2
             }
            },
            "type": "bar"
           }
          ],
          "barpolar": [
           {
            "marker": {
             "line": {
              "color": "#E5ECF6",
              "width": 0.5
             },
             "pattern": {
              "fillmode": "overlay",
              "size": 10,
              "solidity": 0.2
             }
            },
            "type": "barpolar"
           }
          ],
          "carpet": [
           {
            "aaxis": {
             "endlinecolor": "#2a3f5f",
             "gridcolor": "white",
             "linecolor": "white",
             "minorgridcolor": "white",
             "startlinecolor": "#2a3f5f"
            },
            "baxis": {
             "endlinecolor": "#2a3f5f",
             "gridcolor": "white",
             "linecolor": "white",
             "minorgridcolor": "white",
             "startlinecolor": "#2a3f5f"
            },
            "type": "carpet"
           }
          ],
          "choropleth": [
           {
            "colorbar": {
             "outlinewidth": 0,
             "ticks": ""
            },
            "type": "choropleth"
           }
          ],
          "contour": [
           {
            "colorbar": {
             "outlinewidth": 0,
             "ticks": ""
            },
            "colorscale": [
             [
              0,
              "#0d0887"
             ],
             [
              0.1111111111111111,
              "#46039f"
             ],
             [
              0.2222222222222222,
              "#7201a8"
             ],
             [
              0.3333333333333333,
              "#9c179e"
             ],
             [
              0.4444444444444444,
              "#bd3786"
             ],
             [
              0.5555555555555556,
              "#d8576b"
             ],
             [
              0.6666666666666666,
              "#ed7953"
             ],
             [
              0.7777777777777778,
              "#fb9f3a"
             ],
             [
              0.8888888888888888,
              "#fdca26"
             ],
             [
              1,
              "#f0f921"
             ]
            ],
            "type": "contour"
           }
          ],
          "contourcarpet": [
           {
            "colorbar": {
             "outlinewidth": 0,
             "ticks": ""
            },
            "type": "contourcarpet"
           }
          ],
          "heatmap": [
           {
            "colorbar": {
             "outlinewidth": 0,
             "ticks": ""
            },
            "colorscale": [
             [
              0,
              "#0d0887"
             ],
             [
              0.1111111111111111,
              "#46039f"
             ],
             [
              0.2222222222222222,
              "#7201a8"
             ],
             [
              0.3333333333333333,
              "#9c179e"
             ],
             [
              0.4444444444444444,
              "#bd3786"
             ],
             [
              0.5555555555555556,
              "#d8576b"
             ],
             [
              0.6666666666666666,
              "#ed7953"
             ],
             [
              0.7777777777777778,
              "#fb9f3a"
             ],
             [
              0.8888888888888888,
              "#fdca26"
             ],
             [
              1,
              "#f0f921"
             ]
            ],
            "type": "heatmap"
           }
          ],
          "histogram": [
           {
            "marker": {
             "pattern": {
              "fillmode": "overlay",
              "size": 10,
              "solidity": 0.2
             }
            },
            "type": "histogram"
           }
          ],
          "histogram2d": [
           {
            "colorbar": {
             "outlinewidth": 0,
             "ticks": ""
            },
            "colorscale": [
             [
              0,
              "#0d0887"
             ],
             [
              0.1111111111111111,
              "#46039f"
             ],
             [
              0.2222222222222222,
              "#7201a8"
             ],
             [
              0.3333333333333333,
              "#9c179e"
             ],
             [
              0.4444444444444444,
              "#bd3786"
             ],
             [
              0.5555555555555556,
              "#d8576b"
             ],
             [
              0.6666666666666666,
              "#ed7953"
             ],
             [
              0.7777777777777778,
              "#fb9f3a"
             ],
             [
              0.8888888888888888,
              "#fdca26"
             ],
             [
              1,
              "#f0f921"
             ]
            ],
            "type": "histogram2d"
           }
          ],
          "histogram2dcontour": [
           {
            "colorbar": {
             "outlinewidth": 0,
             "ticks": ""
            },
            "colorscale": [
             [
              0,
              "#0d0887"
             ],
             [
              0.1111111111111111,
              "#46039f"
             ],
             [
              0.2222222222222222,
              "#7201a8"
             ],
             [
              0.3333333333333333,
              "#9c179e"
             ],
             [
              0.4444444444444444,
              "#bd3786"
             ],
             [
              0.5555555555555556,
              "#d8576b"
             ],
             [
              0.6666666666666666,
              "#ed7953"
             ],
             [
              0.7777777777777778,
              "#fb9f3a"
             ],
             [
              0.8888888888888888,
              "#fdca26"
             ],
             [
              1,
              "#f0f921"
             ]
            ],
            "type": "histogram2dcontour"
           }
          ],
          "mesh3d": [
           {
            "colorbar": {
             "outlinewidth": 0,
             "ticks": ""
            },
            "type": "mesh3d"
           }
          ],
          "parcoords": [
           {
            "line": {
             "colorbar": {
              "outlinewidth": 0,
              "ticks": ""
             }
            },
            "type": "parcoords"
           }
          ],
          "pie": [
           {
            "automargin": true,
            "type": "pie"
           }
          ],
          "scatter": [
           {
            "fillpattern": {
             "fillmode": "overlay",
             "size": 10,
             "solidity": 0.2
            },
            "type": "scatter"
           }
          ],
          "scatter3d": [
           {
            "line": {
             "colorbar": {
              "outlinewidth": 0,
              "ticks": ""
             }
            },
            "marker": {
             "colorbar": {
              "outlinewidth": 0,
              "ticks": ""
             }
            },
            "type": "scatter3d"
           }
          ],
          "scattercarpet": [
           {
            "marker": {
             "colorbar": {
              "outlinewidth": 0,
              "ticks": ""
             }
            },
            "type": "scattercarpet"
           }
          ],
          "scattergeo": [
           {
            "marker": {
             "colorbar": {
              "outlinewidth": 0,
              "ticks": ""
             }
            },
            "type": "scattergeo"
           }
          ],
          "scattergl": [
           {
            "marker": {
             "colorbar": {
              "outlinewidth": 0,
              "ticks": ""
             }
            },
            "type": "scattergl"
           }
          ],
          "scattermap": [
           {
            "marker": {
             "colorbar": {
              "outlinewidth": 0,
              "ticks": ""
             }
            },
            "type": "scattermap"
           }
          ],
          "scattermapbox": [
           {
            "marker": {
             "colorbar": {
              "outlinewidth": 0,
              "ticks": ""
             }
            },
            "type": "scattermapbox"
           }
          ],
          "scatterpolar": [
           {
            "marker": {
             "colorbar": {
              "outlinewidth": 0,
              "ticks": ""
             }
            },
            "type": "scatterpolar"
           }
          ],
          "scatterpolargl": [
           {
            "marker": {
             "colorbar": {
              "outlinewidth": 0,
              "ticks": ""
             }
            },
            "type": "scatterpolargl"
           }
          ],
          "scatterternary": [
           {
            "marker": {
             "colorbar": {
              "outlinewidth": 0,
              "ticks": ""
             }
            },
            "type": "scatterternary"
           }
          ],
          "surface": [
           {
            "colorbar": {
             "outlinewidth": 0,
             "ticks": ""
            },
            "colorscale": [
             [
              0,
              "#0d0887"
             ],
             [
              0.1111111111111111,
              "#46039f"
             ],
             [
              0.2222222222222222,
              "#7201a8"
             ],
             [
              0.3333333333333333,
              "#9c179e"
             ],
             [
              0.4444444444444444,
              "#bd3786"
             ],
             [
              0.5555555555555556,
              "#d8576b"
             ],
             [
              0.6666666666666666,
              "#ed7953"
             ],
             [
              0.7777777777777778,
              "#fb9f3a"
             ],
             [
              0.8888888888888888,
              "#fdca26"
             ],
             [
              1,
              "#f0f921"
             ]
            ],
            "type": "surface"
           }
          ],
          "table": [
           {
            "cells": {
             "fill": {
              "color": "#EBF0F8"
             },
             "line": {
              "color": "white"
             }
            },
            "header": {
             "fill": {
              "color": "#C8D4E3"
             },
             "line": {
              "color": "white"
             }
            },
            "type": "table"
           }
          ]
         },
         "layout": {
          "annotationdefaults": {
           "arrowcolor": "#2a3f5f",
           "arrowhead": 0,
           "arrowwidth": 1
          },
          "autotypenumbers": "strict",
          "coloraxis": {
           "colorbar": {
            "outlinewidth": 0,
            "ticks": ""
           }
          },
          "colorscale": {
           "diverging": [
            [
             0,
             "#8e0152"
            ],
            [
             0.1,
             "#c51b7d"
            ],
            [
             0.2,
             "#de77ae"
            ],
            [
             0.3,
             "#f1b6da"
            ],
            [
             0.4,
             "#fde0ef"
            ],
            [
             0.5,
             "#f7f7f7"
            ],
            [
             0.6,
             "#e6f5d0"
            ],
            [
             0.7,
             "#b8e186"
            ],
            [
             0.8,
             "#7fbc41"
            ],
            [
             0.9,
             "#4d9221"
            ],
            [
             1,
             "#276419"
            ]
           ],
           "sequential": [
            [
             0,
             "#0d0887"
            ],
            [
             0.1111111111111111,
             "#46039f"
            ],
            [
             0.2222222222222222,
             "#7201a8"
            ],
            [
             0.3333333333333333,
             "#9c179e"
            ],
            [
             0.4444444444444444,
             "#bd3786"
            ],
            [
             0.5555555555555556,
             "#d8576b"
            ],
            [
             0.6666666666666666,
             "#ed7953"
            ],
            [
             0.7777777777777778,
             "#fb9f3a"
            ],
            [
             0.8888888888888888,
             "#fdca26"
            ],
            [
             1,
             "#f0f921"
            ]
           ],
           "sequentialminus": [
            [
             0,
             "#0d0887"
            ],
            [
             0.1111111111111111,
             "#46039f"
            ],
            [
             0.2222222222222222,
             "#7201a8"
            ],
            [
             0.3333333333333333,
             "#9c179e"
            ],
            [
             0.4444444444444444,
             "#bd3786"
            ],
            [
             0.5555555555555556,
             "#d8576b"
            ],
            [
             0.6666666666666666,
             "#ed7953"
            ],
            [
             0.7777777777777778,
             "#fb9f3a"
            ],
            [
             0.8888888888888888,
             "#fdca26"
            ],
            [
             1,
             "#f0f921"
            ]
           ]
          },
          "colorway": [
           "#636efa",
           "#EF553B",
           "#00cc96",
           "#ab63fa",
           "#FFA15A",
           "#19d3f3",
           "#FF6692",
           "#B6E880",
           "#FF97FF",
           "#FECB52"
          ],
          "font": {
           "color": "#2a3f5f"
          },
          "geo": {
           "bgcolor": "white",
           "lakecolor": "white",
           "landcolor": "#E5ECF6",
           "showlakes": true,
           "showland": true,
           "subunitcolor": "white"
          },
          "hoverlabel": {
           "align": "left"
          },
          "hovermode": "closest",
          "mapbox": {
           "style": "light"
          },
          "paper_bgcolor": "white",
          "plot_bgcolor": "#E5ECF6",
          "polar": {
           "angularaxis": {
            "gridcolor": "white",
            "linecolor": "white",
            "ticks": ""
           },
           "bgcolor": "#E5ECF6",
           "radialaxis": {
            "gridcolor": "white",
            "linecolor": "white",
            "ticks": ""
           }
          },
          "scene": {
           "xaxis": {
            "backgroundcolor": "#E5ECF6",
            "gridcolor": "white",
            "gridwidth": 2,
            "linecolor": "white",
            "showbackground": true,
            "ticks": "",
            "zerolinecolor": "white"
           },
           "yaxis": {
            "backgroundcolor": "#E5ECF6",
            "gridcolor": "white",
            "gridwidth": 2,
            "linecolor": "white",
            "showbackground": true,
            "ticks": "",
            "zerolinecolor": "white"
           },
           "zaxis": {
            "backgroundcolor": "#E5ECF6",
            "gridcolor": "white",
            "gridwidth": 2,
            "linecolor": "white",
            "showbackground": true,
            "ticks": "",
            "zerolinecolor": "white"
           }
          },
          "shapedefaults": {
           "line": {
            "color": "#2a3f5f"
           }
          },
          "ternary": {
           "aaxis": {
            "gridcolor": "white",
            "linecolor": "white",
            "ticks": ""
           },
           "baxis": {
            "gridcolor": "white",
            "linecolor": "white",
            "ticks": ""
           },
           "bgcolor": "#E5ECF6",
           "caxis": {
            "gridcolor": "white",
            "linecolor": "white",
            "ticks": ""
           }
          },
          "title": {
           "x": 0.05
          },
          "xaxis": {
           "automargin": true,
           "gridcolor": "white",
           "linecolor": "white",
           "ticks": "",
           "title": {
            "standoff": 15
           },
           "zerolinecolor": "white",
           "zerolinewidth": 2
          },
          "yaxis": {
           "automargin": true,
           "gridcolor": "white",
           "linecolor": "white",
           "ticks": "",
           "title": {
            "standoff": 15
           },
           "zerolinecolor": "white",
           "zerolinewidth": 2
          }
         }
        },
        "title": {
         "text": "Slice Plot"
        },
        "width": 2100,
        "xaxis": {
         "anchor": "y",
         "domain": [
          0,
          0.1183673469387755
         ],
         "title": {
          "text": "max_depth"
         }
        },
        "xaxis2": {
         "anchor": "y2",
         "categoryarray": [
          "sqrt",
          "log2",
          null
         ],
         "categoryorder": "array",
         "domain": [
          0.14693877551020407,
          0.26530612244897955
         ],
         "title": {
          "text": "max_features"
         },
         "type": "category"
        },
        "xaxis3": {
         "anchor": "y3",
         "domain": [
          0.29387755102040813,
          0.4122448979591836
         ],
         "title": {
          "text": "max_leaf_nodes"
         }
        },
        "xaxis4": {
         "anchor": "y4",
         "domain": [
          0.4408163265306122,
          0.5591836734693877
         ],
         "title": {
          "text": "min_impurity_decrease"
         }
        },
        "xaxis5": {
         "anchor": "y5",
         "domain": [
          0.5877551020408163,
          0.7061224489795918
         ],
         "title": {
          "text": "min_samples_leaf"
         }
        },
        "xaxis6": {
         "anchor": "y6",
         "domain": [
          0.7346938775510204,
          0.8530612244897959
         ],
         "title": {
          "text": "min_samples_split"
         }
        },
        "xaxis7": {
         "anchor": "y7",
         "domain": [
          0.8816326530612244,
          0.9999999999999999
         ],
         "title": {
          "text": "n_estimators"
         }
        },
        "yaxis": {
         "anchor": "x",
         "domain": [
          0,
          1
         ],
         "title": {
          "text": "Objective Value"
         }
        },
        "yaxis2": {
         "anchor": "x2",
         "domain": [
          0,
          1
         ],
         "matches": "y",
         "showticklabels": false
        },
        "yaxis3": {
         "anchor": "x3",
         "domain": [
          0,
          1
         ],
         "matches": "y",
         "showticklabels": false
        },
        "yaxis4": {
         "anchor": "x4",
         "domain": [
          0,
          1
         ],
         "matches": "y",
         "showticklabels": false
        },
        "yaxis5": {
         "anchor": "x5",
         "domain": [
          0,
          1
         ],
         "matches": "y",
         "showticklabels": false
        },
        "yaxis6": {
         "anchor": "x6",
         "domain": [
          0,
          1
         ],
         "matches": "y",
         "showticklabels": false
        },
        "yaxis7": {
         "anchor": "x7",
         "domain": [
          0,
          1
         ],
         "matches": "y",
         "showticklabels": false
        }
       }
      }
     },
     "metadata": {},
     "output_type": "display_data"
    }
   ],
   "source": [
    "vis.plot_slice(study=study_ex)"
   ]
  },
  {
   "cell_type": "code",
   "execution_count": 25,
   "id": "1ef7213f",
   "metadata": {},
   "outputs": [
    {
     "data": {
      "application/vnd.plotly.v1+json": {
       "config": {
        "plotlyServerURL": "https://plot.ly"
       },
       "data": [
        {
         "cliponaxis": false,
         "hovertemplate": [
          "min_samples_leaf (IntDistribution): 0.002307117450316279<extra></extra>",
          "max_depth (IntDistribution): 0.003939416482315907<extra></extra>",
          "max_leaf_nodes (IntDistribution): 0.006723934004062648<extra></extra>",
          "min_samples_split (IntDistribution): 0.00784552601156702<extra></extra>",
          "n_estimators (IntDistribution): 0.021076349461666248<extra></extra>",
          "min_impurity_decrease (FloatDistribution): 0.15324375768299162<extra></extra>",
          "max_features (CategoricalDistribution): 0.8048638989070802<extra></extra>"
         ],
         "name": "Objective Value",
         "orientation": "h",
         "text": [
          "<0.01",
          "<0.01",
          "<0.01",
          "<0.01",
          "0.02",
          "0.15",
          "0.80"
         ],
         "textposition": "outside",
         "type": "bar",
         "x": [
          0.002307117450316279,
          0.003939416482315907,
          0.006723934004062648,
          0.00784552601156702,
          0.021076349461666248,
          0.15324375768299162,
          0.8048638989070802
         ],
         "y": [
          "min_samples_leaf",
          "max_depth",
          "max_leaf_nodes",
          "min_samples_split",
          "n_estimators",
          "min_impurity_decrease",
          "max_features"
         ]
        }
       ],
       "layout": {
        "template": {
         "data": {
          "bar": [
           {
            "error_x": {
             "color": "#2a3f5f"
            },
            "error_y": {
             "color": "#2a3f5f"
            },
            "marker": {
             "line": {
              "color": "#E5ECF6",
              "width": 0.5
             },
             "pattern": {
              "fillmode": "overlay",
              "size": 10,
              "solidity": 0.2
             }
            },
            "type": "bar"
           }
          ],
          "barpolar": [
           {
            "marker": {
             "line": {
              "color": "#E5ECF6",
              "width": 0.5
             },
             "pattern": {
              "fillmode": "overlay",
              "size": 10,
              "solidity": 0.2
             }
            },
            "type": "barpolar"
           }
          ],
          "carpet": [
           {
            "aaxis": {
             "endlinecolor": "#2a3f5f",
             "gridcolor": "white",
             "linecolor": "white",
             "minorgridcolor": "white",
             "startlinecolor": "#2a3f5f"
            },
            "baxis": {
             "endlinecolor": "#2a3f5f",
             "gridcolor": "white",
             "linecolor": "white",
             "minorgridcolor": "white",
             "startlinecolor": "#2a3f5f"
            },
            "type": "carpet"
           }
          ],
          "choropleth": [
           {
            "colorbar": {
             "outlinewidth": 0,
             "ticks": ""
            },
            "type": "choropleth"
           }
          ],
          "contour": [
           {
            "colorbar": {
             "outlinewidth": 0,
             "ticks": ""
            },
            "colorscale": [
             [
              0,
              "#0d0887"
             ],
             [
              0.1111111111111111,
              "#46039f"
             ],
             [
              0.2222222222222222,
              "#7201a8"
             ],
             [
              0.3333333333333333,
              "#9c179e"
             ],
             [
              0.4444444444444444,
              "#bd3786"
             ],
             [
              0.5555555555555556,
              "#d8576b"
             ],
             [
              0.6666666666666666,
              "#ed7953"
             ],
             [
              0.7777777777777778,
              "#fb9f3a"
             ],
             [
              0.8888888888888888,
              "#fdca26"
             ],
             [
              1,
              "#f0f921"
             ]
            ],
            "type": "contour"
           }
          ],
          "contourcarpet": [
           {
            "colorbar": {
             "outlinewidth": 0,
             "ticks": ""
            },
            "type": "contourcarpet"
           }
          ],
          "heatmap": [
           {
            "colorbar": {
             "outlinewidth": 0,
             "ticks": ""
            },
            "colorscale": [
             [
              0,
              "#0d0887"
             ],
             [
              0.1111111111111111,
              "#46039f"
             ],
             [
              0.2222222222222222,
              "#7201a8"
             ],
             [
              0.3333333333333333,
              "#9c179e"
             ],
             [
              0.4444444444444444,
              "#bd3786"
             ],
             [
              0.5555555555555556,
              "#d8576b"
             ],
             [
              0.6666666666666666,
              "#ed7953"
             ],
             [
              0.7777777777777778,
              "#fb9f3a"
             ],
             [
              0.8888888888888888,
              "#fdca26"
             ],
             [
              1,
              "#f0f921"
             ]
            ],
            "type": "heatmap"
           }
          ],
          "histogram": [
           {
            "marker": {
             "pattern": {
              "fillmode": "overlay",
              "size": 10,
              "solidity": 0.2
             }
            },
            "type": "histogram"
           }
          ],
          "histogram2d": [
           {
            "colorbar": {
             "outlinewidth": 0,
             "ticks": ""
            },
            "colorscale": [
             [
              0,
              "#0d0887"
             ],
             [
              0.1111111111111111,
              "#46039f"
             ],
             [
              0.2222222222222222,
              "#7201a8"
             ],
             [
              0.3333333333333333,
              "#9c179e"
             ],
             [
              0.4444444444444444,
              "#bd3786"
             ],
             [
              0.5555555555555556,
              "#d8576b"
             ],
             [
              0.6666666666666666,
              "#ed7953"
             ],
             [
              0.7777777777777778,
              "#fb9f3a"
             ],
             [
              0.8888888888888888,
              "#fdca26"
             ],
             [
              1,
              "#f0f921"
             ]
            ],
            "type": "histogram2d"
           }
          ],
          "histogram2dcontour": [
           {
            "colorbar": {
             "outlinewidth": 0,
             "ticks": ""
            },
            "colorscale": [
             [
              0,
              "#0d0887"
             ],
             [
              0.1111111111111111,
              "#46039f"
             ],
             [
              0.2222222222222222,
              "#7201a8"
             ],
             [
              0.3333333333333333,
              "#9c179e"
             ],
             [
              0.4444444444444444,
              "#bd3786"
             ],
             [
              0.5555555555555556,
              "#d8576b"
             ],
             [
              0.6666666666666666,
              "#ed7953"
             ],
             [
              0.7777777777777778,
              "#fb9f3a"
             ],
             [
              0.8888888888888888,
              "#fdca26"
             ],
             [
              1,
              "#f0f921"
             ]
            ],
            "type": "histogram2dcontour"
           }
          ],
          "mesh3d": [
           {
            "colorbar": {
             "outlinewidth": 0,
             "ticks": ""
            },
            "type": "mesh3d"
           }
          ],
          "parcoords": [
           {
            "line": {
             "colorbar": {
              "outlinewidth": 0,
              "ticks": ""
             }
            },
            "type": "parcoords"
           }
          ],
          "pie": [
           {
            "automargin": true,
            "type": "pie"
           }
          ],
          "scatter": [
           {
            "fillpattern": {
             "fillmode": "overlay",
             "size": 10,
             "solidity": 0.2
            },
            "type": "scatter"
           }
          ],
          "scatter3d": [
           {
            "line": {
             "colorbar": {
              "outlinewidth": 0,
              "ticks": ""
             }
            },
            "marker": {
             "colorbar": {
              "outlinewidth": 0,
              "ticks": ""
             }
            },
            "type": "scatter3d"
           }
          ],
          "scattercarpet": [
           {
            "marker": {
             "colorbar": {
              "outlinewidth": 0,
              "ticks": ""
             }
            },
            "type": "scattercarpet"
           }
          ],
          "scattergeo": [
           {
            "marker": {
             "colorbar": {
              "outlinewidth": 0,
              "ticks": ""
             }
            },
            "type": "scattergeo"
           }
          ],
          "scattergl": [
           {
            "marker": {
             "colorbar": {
              "outlinewidth": 0,
              "ticks": ""
             }
            },
            "type": "scattergl"
           }
          ],
          "scattermap": [
           {
            "marker": {
             "colorbar": {
              "outlinewidth": 0,
              "ticks": ""
             }
            },
            "type": "scattermap"
           }
          ],
          "scattermapbox": [
           {
            "marker": {
             "colorbar": {
              "outlinewidth": 0,
              "ticks": ""
             }
            },
            "type": "scattermapbox"
           }
          ],
          "scatterpolar": [
           {
            "marker": {
             "colorbar": {
              "outlinewidth": 0,
              "ticks": ""
             }
            },
            "type": "scatterpolar"
           }
          ],
          "scatterpolargl": [
           {
            "marker": {
             "colorbar": {
              "outlinewidth": 0,
              "ticks": ""
             }
            },
            "type": "scatterpolargl"
           }
          ],
          "scatterternary": [
           {
            "marker": {
             "colorbar": {
              "outlinewidth": 0,
              "ticks": ""
             }
            },
            "type": "scatterternary"
           }
          ],
          "surface": [
           {
            "colorbar": {
             "outlinewidth": 0,
             "ticks": ""
            },
            "colorscale": [
             [
              0,
              "#0d0887"
             ],
             [
              0.1111111111111111,
              "#46039f"
             ],
             [
              0.2222222222222222,
              "#7201a8"
             ],
             [
              0.3333333333333333,
              "#9c179e"
             ],
             [
              0.4444444444444444,
              "#bd3786"
             ],
             [
              0.5555555555555556,
              "#d8576b"
             ],
             [
              0.6666666666666666,
              "#ed7953"
             ],
             [
              0.7777777777777778,
              "#fb9f3a"
             ],
             [
              0.8888888888888888,
              "#fdca26"
             ],
             [
              1,
              "#f0f921"
             ]
            ],
            "type": "surface"
           }
          ],
          "table": [
           {
            "cells": {
             "fill": {
              "color": "#EBF0F8"
             },
             "line": {
              "color": "white"
             }
            },
            "header": {
             "fill": {
              "color": "#C8D4E3"
             },
             "line": {
              "color": "white"
             }
            },
            "type": "table"
           }
          ]
         },
         "layout": {
          "annotationdefaults": {
           "arrowcolor": "#2a3f5f",
           "arrowhead": 0,
           "arrowwidth": 1
          },
          "autotypenumbers": "strict",
          "coloraxis": {
           "colorbar": {
            "outlinewidth": 0,
            "ticks": ""
           }
          },
          "colorscale": {
           "diverging": [
            [
             0,
             "#8e0152"
            ],
            [
             0.1,
             "#c51b7d"
            ],
            [
             0.2,
             "#de77ae"
            ],
            [
             0.3,
             "#f1b6da"
            ],
            [
             0.4,
             "#fde0ef"
            ],
            [
             0.5,
             "#f7f7f7"
            ],
            [
             0.6,
             "#e6f5d0"
            ],
            [
             0.7,
             "#b8e186"
            ],
            [
             0.8,
             "#7fbc41"
            ],
            [
             0.9,
             "#4d9221"
            ],
            [
             1,
             "#276419"
            ]
           ],
           "sequential": [
            [
             0,
             "#0d0887"
            ],
            [
             0.1111111111111111,
             "#46039f"
            ],
            [
             0.2222222222222222,
             "#7201a8"
            ],
            [
             0.3333333333333333,
             "#9c179e"
            ],
            [
             0.4444444444444444,
             "#bd3786"
            ],
            [
             0.5555555555555556,
             "#d8576b"
            ],
            [
             0.6666666666666666,
             "#ed7953"
            ],
            [
             0.7777777777777778,
             "#fb9f3a"
            ],
            [
             0.8888888888888888,
             "#fdca26"
            ],
            [
             1,
             "#f0f921"
            ]
           ],
           "sequentialminus": [
            [
             0,
             "#0d0887"
            ],
            [
             0.1111111111111111,
             "#46039f"
            ],
            [
             0.2222222222222222,
             "#7201a8"
            ],
            [
             0.3333333333333333,
             "#9c179e"
            ],
            [
             0.4444444444444444,
             "#bd3786"
            ],
            [
             0.5555555555555556,
             "#d8576b"
            ],
            [
             0.6666666666666666,
             "#ed7953"
            ],
            [
             0.7777777777777778,
             "#fb9f3a"
            ],
            [
             0.8888888888888888,
             "#fdca26"
            ],
            [
             1,
             "#f0f921"
            ]
           ]
          },
          "colorway": [
           "#636efa",
           "#EF553B",
           "#00cc96",
           "#ab63fa",
           "#FFA15A",
           "#19d3f3",
           "#FF6692",
           "#B6E880",
           "#FF97FF",
           "#FECB52"
          ],
          "font": {
           "color": "#2a3f5f"
          },
          "geo": {
           "bgcolor": "white",
           "lakecolor": "white",
           "landcolor": "#E5ECF6",
           "showlakes": true,
           "showland": true,
           "subunitcolor": "white"
          },
          "hoverlabel": {
           "align": "left"
          },
          "hovermode": "closest",
          "mapbox": {
           "style": "light"
          },
          "paper_bgcolor": "white",
          "plot_bgcolor": "#E5ECF6",
          "polar": {
           "angularaxis": {
            "gridcolor": "white",
            "linecolor": "white",
            "ticks": ""
           },
           "bgcolor": "#E5ECF6",
           "radialaxis": {
            "gridcolor": "white",
            "linecolor": "white",
            "ticks": ""
           }
          },
          "scene": {
           "xaxis": {
            "backgroundcolor": "#E5ECF6",
            "gridcolor": "white",
            "gridwidth": 2,
            "linecolor": "white",
            "showbackground": true,
            "ticks": "",
            "zerolinecolor": "white"
           },
           "yaxis": {
            "backgroundcolor": "#E5ECF6",
            "gridcolor": "white",
            "gridwidth": 2,
            "linecolor": "white",
            "showbackground": true,
            "ticks": "",
            "zerolinecolor": "white"
           },
           "zaxis": {
            "backgroundcolor": "#E5ECF6",
            "gridcolor": "white",
            "gridwidth": 2,
            "linecolor": "white",
            "showbackground": true,
            "ticks": "",
            "zerolinecolor": "white"
           }
          },
          "shapedefaults": {
           "line": {
            "color": "#2a3f5f"
           }
          },
          "ternary": {
           "aaxis": {
            "gridcolor": "white",
            "linecolor": "white",
            "ticks": ""
           },
           "baxis": {
            "gridcolor": "white",
            "linecolor": "white",
            "ticks": ""
           },
           "bgcolor": "#E5ECF6",
           "caxis": {
            "gridcolor": "white",
            "linecolor": "white",
            "ticks": ""
           }
          },
          "title": {
           "x": 0.05
          },
          "xaxis": {
           "automargin": true,
           "gridcolor": "white",
           "linecolor": "white",
           "ticks": "",
           "title": {
            "standoff": 15
           },
           "zerolinecolor": "white",
           "zerolinewidth": 2
          },
          "yaxis": {
           "automargin": true,
           "gridcolor": "white",
           "linecolor": "white",
           "ticks": "",
           "title": {
            "standoff": 15
           },
           "zerolinecolor": "white",
           "zerolinewidth": 2
          }
         }
        },
        "title": {
         "text": "Hyperparameter Importances"
        },
        "xaxis": {
         "title": {
          "text": "Hyperparameter Importance"
         }
        },
        "yaxis": {
         "title": {
          "text": "Hyperparameter"
         }
        }
       }
      }
     },
     "metadata": {},
     "output_type": "display_data"
    }
   ],
   "source": [
    "vis.plot_param_importances(study=study_ex)"
   ]
  },
  {
   "cell_type": "markdown",
   "id": "cb0a9a8c",
   "metadata": {},
   "source": [
    "### Gradient Boosting "
   ]
  },
  {
   "cell_type": "code",
   "execution_count": null,
   "id": "3eca2184",
   "metadata": {},
   "outputs": [],
   "source": [
    "# mỗi lần chạy xong, thì tạo task mới\n",
    "# Tạo task mới trong project Temperature Forecasting\n",
    "Task.current_task().close()\n",
    "# task = Task.init(\n",
    "#     project_name=\"Temperature Forecasting\",     # tên project (nếu chưa có sẽ tự tạo)\n",
    "#     task_name=\"RF Optuna Tuning\", # tên task mới\n",
    "#     task_type=Task.TaskTypes.optimizer            # loại task (training / testing / optimizer ...)\n",
    "# )\n",
    "\n",
    "# print(\"✅ Task created successfully!\")\n",
    "# print(\"Task ID:\", task.id)"
   ]
  },
  {
   "cell_type": "code",
   "execution_count": 26,
   "id": "a89fa78e",
   "metadata": {},
   "outputs": [],
   "source": [
    "task_grad = Task.get_task(task_id=\"15f754d1ec5a4904b0a17d442ec88b57\")\n",
    "logger_grad = task.get_logger()"
   ]
  },
  {
   "cell_type": "code",
   "execution_count": 29,
   "id": "0af6df57",
   "metadata": {},
   "outputs": [],
   "source": [
    "## A. default hyper parameter\n",
    "# 1. fit \n",
    "model_grad = GradientBoostingRegressor(\n",
    "    loss='squared_error', # Hàm mất mát, mặc định squared_error\n",
    "    learning_rate=0.1,\n",
    "    n_estimators=100,    # Số lượng cây boosting, mặc định 100\n",
    "    subsample=1.0,      # Tỉ lệ mẫu dùng mỗi vòng (1.0 = full dataset)\n",
    "    criterion='friedman_mse',   # Tiêu chí chia node, mặc định friedman_mse\n",
    "    min_samples_split=2,     # Số mẫu tối thiểu trong leaf\n",
    "    min_samples_leaf=1,  # Số mẫu tối thiểu trong leaf\n",
    "    min_weight_fraction_leaf=0.0,   # Tỷ lệ trọng số tối thiểu trong leaf\n",
    "    max_depth=3,    # Độ sâu tối đa của mỗi cây (default = 3)\n",
    "    min_impurity_decrease=0.0,\n",
    "    random_state=42,\n",
    "    max_features=None,   # Số lượng feature xem xét khi chia, None = tất cả\n",
    "    alpha=0.9,    # Dành cho loss='huber' hoặc 'quantile'\n",
    "    max_leaf_nodes=None,     # Số leaf tối đa mỗi cây\n",
    "    warm_start=False,   # để False khi tuning, Dùng để tiếp tục huấn luyện model cũ\n",
    "    #validation_fraction= 0.1,   # ❌ tránh dùng để không leak\n",
    "    n_iter_no_change=None,      # ❌ tránh auto validation split\n",
    "    tol=1e-4,       # Ngưỡng dừng sớm cho early stopping\n",
    "    ccp_alpha=0.0  # Complexity pruning, mặc định 0\n",
    ")\n",
    "\n",
    "model_grad.fit(X_train, y_train) \n",
    "\n",
    "# 2. predict\n",
    "y_pred_val = model_grad.predict(X_val) \n",
    "y_pred_test = model_grad.predict(X_test)\n"
   ]
  },
  {
   "cell_type": "code",
   "execution_count": 30,
   "id": "fcc3c692",
   "metadata": {},
   "outputs": [
    {
     "name": "stdout",
     "output_type": "stream",
     "text": [
      "                         Feature  Importance\n",
      "2                     temp_lag_1    0.721221\n",
      "1                  tempmin_lag_1    0.070129\n",
      "30     pressure_temp_index_lag_1    0.050341\n",
      "16                 sunrise_lag_1    0.036718\n",
      "152         tempmin_roll_mean_14    0.023370\n",
      "..                           ...         ...\n",
      "121    pressure_temp_index_lag_3    0.000000\n",
      "190  wind_temp_index_roll_mean_7    0.000000\n",
      "189  wind_temp_index_roll_mean_3    0.000000\n",
      "123    pressure_temp_index_lag_5    0.000000\n",
      "126        wind_temp_index_lag_2    0.000000\n",
      "\n",
      "[252 rows x 2 columns]\n"
     ]
    }
   ],
   "source": [
    "# Lấy feature importance\n",
    "importances_grad = model_grad.feature_importances_\n",
    "\n",
    "# Tạo DataFrame hiển thị\n",
    "feat_importance_grad = pd.DataFrame({\n",
    "    'Feature': X_train.columns,\n",
    "    'Importance': importances_grad\n",
    "}).sort_values(by='Importance', ascending=False)\n",
    "\n",
    "print(feat_importance_grad)"
   ]
  },
  {
   "cell_type": "code",
   "execution_count": 32,
   "id": "fa776e65",
   "metadata": {},
   "outputs": [
    {
     "name": "stderr",
     "output_type": "stream",
     "text": [
      "No artists with labels found to put in legend.  Note that artists whose label start with an underscore are ignored when legend() is called with no argument.\n"
     ]
    },
    {
     "data": {
      "image/png": "[encoded data removed]",
      "text/plain": [
       "<Figure size 1000x600 with 1 Axes>"
      ]
     },
     "metadata": {},
     "output_type": "display_data"
    }
   ],
   "source": [
    "plt.figure(figsize=(10, 6))\n",
    "plt.barh(feat_importance_grad['Feature'][:15], feat_importance_grad['Importance'][:15])\n",
    "plt.gca().invert_yaxis()\n",
    "plt.title(\"Top 15 Feature Importances (GB)\")\n",
    "plt.xlabel(\"Importance\")\n",
    "plt.show()"
   ]
  },
  {
   "cell_type": "code",
   "execution_count": 33,
   "id": "ae3b4d86",
   "metadata": {},
   "outputs": [
    {
     "name": "stdout",
     "output_type": "stream",
     "text": [
      "Validation metrics: {'RMSE': 1.479398688181336, 'R2': 0.9177075178532362, 'MAPE': 5.0692414857715775}\n",
      "Test metrics: {'RMSE': 1.3534994389764416, 'R2': 0.9153554603683042, 'MAPE': 4.1845167790637126}\n",
      "ExtraTree model saved to models/GradBoosting_model.pkl\n"
     ]
    },
    {
     "data": {
      "text/plain": [
       "True"
      ]
     },
     "execution_count": 33,
     "metadata": {},
     "output_type": "execute_result"
    }
   ],
   "source": [
    "# Đánh giá sơ bộ trước khi tune\n",
    "\n",
    "# 3. Evaluate on validation\n",
    "defGrad_val_metrics = evaluate(y_val, y_pred_val)\n",
    "print(\"Validation metrics:\", defGrad_val_metrics)\n",
    "\n",
    "# 4. Evaluate on test\n",
    "defGrad_test_metrics = evaluate(y_test, y_pred_test)\n",
    "print(\"Test metrics:\", defGrad_test_metrics)\n",
    "\n",
    "# 5. Save model \n",
    "model_path = r'models/GradBoosting_model.pkl' \n",
    "joblib.dump(model_grad, model_path)\n",
    "print(f\"ExtraTree model saved to {model_path}\")\n",
    "\n",
    "# 6 Log lên ClearML\n",
    "logger_grad.report_scalar(\"Default Metrics\", \"RMSE_val\", defGrad_val_metrics[\"RMSE\"], iteration=0)\n",
    "logger_grad.report_scalar(\"Default Metrics\", \"R2_val\", defGrad_val_metrics[\"R2\"], iteration=0)\n",
    "logger_grad.report_scalar(\"Default Metrics\", \"MAPE_val\", defGrad_val_metrics[\"MAPE\"], iteration=0)\n",
    "logger_grad.report_scalar(\"Default Metrics\", \"RMSE_test\", defGrad_test_metrics[\"RMSE\"], iteration=0)\n",
    "logger_grad.report_scalar(\"Default Metrics\", \"R2_test\", defGrad_test_metrics[\"R2\"], iteration=0)\n",
    "logger_grad.report_scalar(\"Default Metrics\", \"MAPE_test\", defGrad_test_metrics[\"MAPE\"], iteration=0)\n",
    "\n",
    "\n",
    "task_grad.upload_artifact(\"Default Metrics\", {\n",
    "    \"Validation\": defGrad_val_metrics,\n",
    "    \"Test\": defGrad_test_metrics\n",
    "})\n"
   ]
  },
  {
   "cell_type": "code",
   "execution_count": 34,
   "id": "fad427db",
   "metadata": {},
   "outputs": [],
   "source": [
    "## B. Hyperparameter tuning cho Gradient Boosting\n",
    "def objective(trial):\n",
    "    # === 1. Định nghĩa không gian hyperparameter ===\n",
    "    params = {\n",
    "        'loss': trial.suggest_categorical('loss', ['squared_error', 'huber']),\n",
    "        'learning_rate': trial.suggest_float('learning_rate', 0.01, 0.3),   # default = 0.1\n",
    "        'n_estimators': trial.suggest_int('n_estimators', 100, 1000),       # default = 100\n",
    "        'subsample': trial.suggest_float('subsample', 0.6, 1.0),            # default = 1.0\n",
    "        'criterion': 'friedman_mse',                                        # default\n",
    "        'min_samples_split': trial.suggest_int('min_samples_split', 2, 10), # default = 2\n",
    "        'min_samples_leaf': trial.suggest_int('min_samples_leaf', 1, 5),    # default = 1\n",
    "        'max_depth': trial.suggest_int('max_depth', 2, 7),                  # default = 3\n",
    "        'min_impurity_decrease': trial.suggest_float('min_impurity_decrease', 0.0, 0.2),\n",
    "        'max_features': trial.suggest_categorical('max_features', ['sqrt', 'log2', None]),\n",
    "        'max_leaf_nodes': trial.suggest_int('max_leaf_nodes', 50, 500),     # default = None\n",
    "        'alpha': trial.suggest_float('alpha', 0.85, 0.95),                  # chỉ dùng nếu loss='huber' hoặc 'quantile'\n",
    "        'tol': 1e-4,\n",
    "        'ccp_alpha': 0.0,\n",
    "        'random_state': 42\n",
    "        # ⚠️ Không dùng early stopping (n_iter_no_change, validation_fraction)\n",
    "        # vì đây là time series → tránh leak\n",
    "    }\n",
    "\n",
    "    # === 2. TimeSeriesSplit CV ===\n",
    "    cv = TimeSeriesSplit(n_splits=5)\n",
    "    rmse_scores = []\n",
    "\n",
    "    for train_idx, val_idx in cv.split(X_train):\n",
    "        X_tr, X_val = X_train.iloc[train_idx], X_train.iloc[val_idx]\n",
    "        y_tr, y_val = y_train.iloc[train_idx], y_train.iloc[val_idx]\n",
    "\n",
    "        # === 3. Train model ===\n",
    "        model = GradientBoostingRegressor(**params)\n",
    "        model.fit(X_tr, y_tr)\n",
    "        y_pred_val = model.predict(X_val)\n",
    "\n",
    "        metrics = evaluate(y_val, y_pred_val)\n",
    "        rmse_scores.append(metrics['RMSE'])\n",
    "\n",
    "    mean_rmse = np.mean(rmse_scores)\n",
    "\n",
    "    # === 4. Log kết quả lên ClearML ===\n",
    "    # (a) Log RMSE cho mỗi trial\n",
    "    logger_grad.report_scalar(\n",
    "        title='Optuna Tuning - GradientBoosting',\n",
    "        series='Trial RMSE',\n",
    "        value=mean_rmse,\n",
    "        iteration=trial.number\n",
    "    )\n",
    "\n",
    "    # (b) Log toàn bộ tham số của trial (bảng tóm tắt)\n",
    "    params_table = pd.DataFrame([params])\n",
    "    logger_grad.report_table(\n",
    "        title=f\"Trial {trial.number} Parameters\",\n",
    "        series=\"params\",\n",
    "        iteration=trial.number,\n",
    "        table_plot=params_table\n",
    "    )\n",
    "\n",
    "    # === 5. Trả về RMSE trung bình của các fold để Optuna minimize ===\n",
    "    return mean_rmse\n"
   ]
  },
  {
   "cell_type": "code",
   "execution_count": 35,
   "id": "461fb805",
   "metadata": {},
   "outputs": [
    {
     "name": "stderr",
     "output_type": "stream",
     "text": [
      "[I 2025-10-21 08:28:57,232] A new study created in memory with name: no-name-b651856f-dcc4-4d0a-afba-9b9d7c02fb69\n",
      "Best trial: 0. Best value: 1.62064:   2%|▏         | 1/50 [04:21<3:33:35, 261.54s/it]"
     ]
    },
    {
     "name": "stdout",
     "output_type": "stream",
     "text": [
      "[I 2025-10-21 08:33:18,780] Trial 0 finished with value: 1.6206408671335133 and parameters: {'loss': 'huber', 'learning_rate': 0.23062766409890026, 'n_estimators': 605, 'subsample': 0.9083868719818244, 'min_samples_split': 6, 'min_samples_leaf': 3, 'max_depth': 4, 'min_impurity_decrease': 0.005083825348819038, 'max_features': None, 'max_leaf_nodes': 191, 'alpha': 0.9008570691164702}. Best is trial 0 with value: 1.6206408671335133.\n"
     ]
    },
    {
     "name": "stderr",
     "output_type": "stream",
     "text": [
      "Best trial: 0. Best value: 1.62064:   4%|▍         | 2/50 [07:34<2:56:52, 221.10s/it]"
     ]
    },
    {
     "name": "stdout",
     "output_type": "stream",
     "text": [
      "[I 2025-10-21 08:36:31,574] Trial 1 finished with value: 1.6252330109327642 and parameters: {'loss': 'squared_error', 'learning_rate': 0.1290110476803326, 'n_estimators': 780, 'subsample': 0.6915192661966489, 'min_samples_split': 2, 'min_samples_leaf': 2, 'max_depth': 2, 'min_impurity_decrease': 0.18593953046851464, 'max_features': None, 'max_leaf_nodes': 412, 'alpha': 0.8686570058886035}. Best is trial 0 with value: 1.6206408671335133.\n"
     ]
    },
    {
     "name": "stderr",
     "output_type": "stream",
     "text": [
      "Best trial: 0. Best value: 1.62064:   6%|▌         | 3/50 [07:50<1:39:57, 127.61s/it]"
     ]
    },
    {
     "name": "stdout",
     "output_type": "stream",
     "text": [
      "[I 2025-10-21 08:36:47,923] Trial 2 finished with value: 1.7392028199912275 and parameters: {'loss': 'squared_error', 'learning_rate': 0.24415764499757814, 'n_estimators': 907, 'subsample': 0.7272013899887455, 'min_samples_split': 2, 'min_samples_leaf': 2, 'max_depth': 4, 'min_impurity_decrease': 0.16360295318449863, 'max_features': 'sqrt', 'max_leaf_nodes': 238, 'alpha': 0.872210781047073}. Best is trial 0 with value: 1.6206408671335133.\n"
     ]
    },
    {
     "name": "stderr",
     "output_type": "stream",
     "text": [
      "Best trial: 0. Best value: 1.62064:   8%|▊         | 4/50 [07:59<1:01:47, 80.60s/it] "
     ]
    },
    {
     "name": "stdout",
     "output_type": "stream",
     "text": [
      "[I 2025-10-21 08:36:56,458] Trial 3 finished with value: 1.845015311833657 and parameters: {'loss': 'huber', 'learning_rate': 0.28344381413463055, 'n_estimators': 391, 'subsample': 0.8075162486973464, 'min_samples_split': 8, 'min_samples_leaf': 2, 'max_depth': 7, 'min_impurity_decrease': 0.19248945898842226, 'max_features': 'log2', 'max_leaf_nodes': 178, 'alpha': 0.8536886947354533}. Best is trial 0 with value: 1.6206408671335133.\n"
     ]
    },
    {
     "name": "stderr",
     "output_type": "stream",
     "text": [
      "Best trial: 4. Best value: 1.54743:  10%|█         | 5/50 [11:57<1:42:59, 137.31s/it]"
     ]
    },
    {
     "name": "stdout",
     "output_type": "stream",
     "text": [
      "[I 2025-10-21 08:40:54,333] Trial 4 finished with value: 1.5474255782829527 and parameters: {'loss': 'squared_error', 'learning_rate': 0.02492883786249691, 'n_estimators': 351, 'subsample': 0.9633063543866615, 'min_samples_split': 4, 'min_samples_leaf': 1, 'max_depth': 4, 'min_impurity_decrease': 0.19713009082212016, 'max_features': None, 'max_leaf_nodes': 157, 'alpha': 0.922821634861186}. Best is trial 4 with value: 1.5474255782829527.\n"
     ]
    },
    {
     "name": "stderr",
     "output_type": "stream",
     "text": [
      "Best trial: 4. Best value: 1.54743:  12%|█▏        | 6/50 [12:15<1:11:09, 97.02s/it] "
     ]
    },
    {
     "name": "stdout",
     "output_type": "stream",
     "text": [
      "[I 2025-10-21 08:41:13,151] Trial 5 finished with value: 1.715748424366728 and parameters: {'loss': 'huber', 'learning_rate': 0.19372361612065947, 'n_estimators': 582, 'subsample': 0.6361159080217633, 'min_samples_split': 9, 'min_samples_leaf': 2, 'max_depth': 3, 'min_impurity_decrease': 0.008155028310952784, 'max_features': 'log2', 'max_leaf_nodes': 280, 'alpha': 0.8726495775197938}. Best is trial 4 with value: 1.5474255782829527.\n"
     ]
    },
    {
     "name": "stderr",
     "output_type": "stream",
     "text": [
      "Best trial: 4. Best value: 1.54743:  14%|█▍        | 7/50 [12:27<49:24, 68.95s/it]  "
     ]
    },
    {
     "name": "stdout",
     "output_type": "stream",
     "text": [
      "[I 2025-10-21 08:41:24,303] Trial 6 finished with value: 1.6726824353323013 and parameters: {'loss': 'squared_error', 'learning_rate': 0.21037194404971513, 'n_estimators': 448, 'subsample': 0.9746919954946938, 'min_samples_split': 3, 'min_samples_leaf': 2, 'max_depth': 2, 'min_impurity_decrease': 0.18493872365571257, 'max_features': 'sqrt', 'max_leaf_nodes': 418, 'alpha': 0.9055200811599462}. Best is trial 4 with value: 1.5474255782829527.\n"
     ]
    },
    {
     "name": "stderr",
     "output_type": "stream",
     "text": [
      "Best trial: 4. Best value: 1.54743:  16%|█▌        | 8/50 [13:06<41:47, 59.71s/it]"
     ]
    },
    {
     "name": "stdout",
     "output_type": "stream",
     "text": [
      "[I 2025-10-21 08:42:04,231] Trial 7 finished with value: 1.5575728952598218 and parameters: {'loss': 'squared_error', 'learning_rate': 0.03699980266371077, 'n_estimators': 908, 'subsample': 0.9601672228653322, 'min_samples_split': 7, 'min_samples_leaf': 2, 'max_depth': 4, 'min_impurity_decrease': 0.14519113577404788, 'max_features': 'sqrt', 'max_leaf_nodes': 339, 'alpha': 0.8584139964995049}. Best is trial 4 with value: 1.5474255782829527.\n"
     ]
    },
    {
     "name": "stderr",
     "output_type": "stream",
     "text": [
      "Best trial: 4. Best value: 1.54743:  18%|█▊        | 9/50 [13:10<28:45, 42.08s/it]"
     ]
    },
    {
     "name": "stdout",
     "output_type": "stream",
     "text": [
      "[I 2025-10-21 08:42:07,560] Trial 8 finished with value: 1.6674098756590332 and parameters: {'loss': 'huber', 'learning_rate': 0.18586442730128108, 'n_estimators': 108, 'subsample': 0.6405886171464128, 'min_samples_split': 7, 'min_samples_leaf': 1, 'max_depth': 2, 'min_impurity_decrease': 0.10974675787331722, 'max_features': 'sqrt', 'max_leaf_nodes': 371, 'alpha': 0.87372490874968}. Best is trial 4 with value: 1.5474255782829527.\n"
     ]
    },
    {
     "name": "stderr",
     "output_type": "stream",
     "text": [
      "Best trial: 4. Best value: 1.54743:  20%|██        | 10/50 [13:32<23:52, 35.81s/it]"
     ]
    },
    {
     "name": "stdout",
     "output_type": "stream",
     "text": [
      "[I 2025-10-21 08:42:29,311] Trial 9 finished with value: 1.7175720392187652 and parameters: {'loss': 'huber', 'learning_rate': 0.19839354072369225, 'n_estimators': 865, 'subsample': 0.8630451569201374, 'min_samples_split': 7, 'min_samples_leaf': 1, 'max_depth': 4, 'min_impurity_decrease': 0.05304047353634509, 'max_features': 'log2', 'max_leaf_nodes': 452, 'alpha': 0.9131138625997263}. Best is trial 4 with value: 1.5474255782829527.\n"
     ]
    },
    {
     "name": "stderr",
     "output_type": "stream",
     "text": [
      "Best trial: 4. Best value: 1.54743:  22%|██▏       | 11/50 [17:13<1:00:06, 92.49s/it]"
     ]
    },
    {
     "name": "stdout",
     "output_type": "stream",
     "text": [
      "[I 2025-10-21 08:46:10,301] Trial 10 finished with value: 1.589107953915801 and parameters: {'loss': 'squared_error', 'learning_rate': 0.024445413027925578, 'n_estimators': 212, 'subsample': 0.9995899115909027, 'min_samples_split': 4, 'min_samples_leaf': 5, 'max_depth': 6, 'min_impurity_decrease': 0.1022339972530001, 'max_features': None, 'max_leaf_nodes': 62, 'alpha': 0.9443509844134305}. Best is trial 4 with value: 1.5474255782829527.\n"
     ]
    },
    {
     "name": "stderr",
     "output_type": "stream",
     "text": [
      "Best trial: 4. Best value: 1.54743:  24%|██▍       | 12/50 [17:34<44:48, 70.76s/it]  "
     ]
    },
    {
     "name": "stdout",
     "output_type": "stream",
     "text": [
      "[I 2025-10-21 08:46:31,381] Trial 11 finished with value: 1.5497361320370147 and parameters: {'loss': 'squared_error', 'learning_rate': 0.01337387076666794, 'n_estimators': 335, 'subsample': 0.9191683961382393, 'min_samples_split': 5, 'min_samples_leaf': 4, 'max_depth': 5, 'min_impurity_decrease': 0.1445803401859236, 'max_features': 'sqrt', 'max_leaf_nodes': 79, 'alpha': 0.9355026622845743}. Best is trial 4 with value: 1.5474255782829527.\n"
     ]
    },
    {
     "name": "stderr",
     "output_type": "stream",
     "text": [
      "Best trial: 4. Best value: 1.54743:  26%|██▌       | 13/50 [20:41<1:05:21, 106.00s/it]"
     ]
    },
    {
     "name": "stdout",
     "output_type": "stream",
     "text": [
      "[I 2025-10-21 08:49:38,458] Trial 12 finished with value: 1.5622548580376323 and parameters: {'loss': 'squared_error', 'learning_rate': 0.08420579413668827, 'n_estimators': 314, 'subsample': 0.894224421329017, 'min_samples_split': 5, 'min_samples_leaf': 5, 'max_depth': 6, 'min_impurity_decrease': 0.12517554378314064, 'max_features': None, 'max_leaf_nodes': 57, 'alpha': 0.9335765689204073}. Best is trial 4 with value: 1.5474255782829527.\n"
     ]
    },
    {
     "name": "stderr",
     "output_type": "stream",
     "text": [
      "Best trial: 4. Best value: 1.54743:  28%|██▊       | 14/50 [20:52<46:21, 77.27s/it]   "
     ]
    },
    {
     "name": "stdout",
     "output_type": "stream",
     "text": [
      "[I 2025-10-21 08:49:49,338] Trial 13 finished with value: 1.5849455824683525 and parameters: {'loss': 'squared_error', 'learning_rate': 0.07208608555349522, 'n_estimators': 250, 'subsample': 0.8255007384166373, 'min_samples_split': 4, 'min_samples_leaf': 4, 'max_depth': 5, 'min_impurity_decrease': 0.1559426828604917, 'max_features': 'sqrt', 'max_leaf_nodes': 120, 'alpha': 0.9237283448181403}. Best is trial 4 with value: 1.5474255782829527.\n"
     ]
    },
    {
     "name": "stderr",
     "output_type": "stream",
     "text": [
      "Best trial: 4. Best value: 1.54743:  30%|███       | 15/50 [24:51<1:13:36, 126.19s/it]"
     ]
    },
    {
     "name": "stdout",
     "output_type": "stream",
     "text": [
      "[I 2025-10-21 08:53:48,916] Trial 14 finished with value: 1.5959574787529776 and parameters: {'loss': 'squared_error', 'learning_rate': 0.11393250935233099, 'n_estimators': 484, 'subsample': 0.9181171691694481, 'min_samples_split': 5, 'min_samples_leaf': 4, 'max_depth': 5, 'min_impurity_decrease': 0.06985911570292885, 'max_features': None, 'max_leaf_nodes': 130, 'alpha': 0.9498259206636188}. Best is trial 4 with value: 1.5474255782829527.\n"
     ]
    },
    {
     "name": "stderr",
     "output_type": "stream",
     "text": [
      "Best trial: 4. Best value: 1.54743:  32%|███▏      | 16/50 [25:29<56:30, 99.73s/it]   "
     ]
    },
    {
     "name": "stdout",
     "output_type": "stream",
     "text": [
      "[I 2025-10-21 08:54:27,199] Trial 15 finished with value: 1.5558201060754364 and parameters: {'loss': 'squared_error', 'learning_rate': 0.021608377264407504, 'n_estimators': 694, 'subsample': 0.7660822645523062, 'min_samples_split': 4, 'min_samples_leaf': 4, 'max_depth': 6, 'min_impurity_decrease': 0.13751957356055927, 'max_features': 'sqrt', 'max_leaf_nodes': 116, 'alpha': 0.9261645694344912}. Best is trial 4 with value: 1.5474255782829527.\n"
     ]
    },
    {
     "name": "stderr",
     "output_type": "stream",
     "text": [
      "Best trial: 16. Best value: 1.53198:  34%|███▍      | 17/50 [28:39<1:09:38, 126.62s/it]"
     ]
    },
    {
     "name": "stdout",
     "output_type": "stream",
     "text": [
      "[I 2025-10-21 08:57:36,359] Trial 16 finished with value: 1.5319837694861163 and parameters: {'loss': 'squared_error', 'learning_rate': 0.06948491604486835, 'n_estimators': 377, 'subsample': 0.9423225915596489, 'min_samples_split': 5, 'min_samples_leaf': 3, 'max_depth': 3, 'min_impurity_decrease': 0.16865463495245292, 'max_features': None, 'max_leaf_nodes': 192, 'alpha': 0.8902281014012696}. Best is trial 16 with value: 1.5319837694861163.\n"
     ]
    },
    {
     "name": "stderr",
     "output_type": "stream",
     "text": [
      "Best trial: 17. Best value: 1.51326:  36%|███▌      | 18/50 [29:31<55:39, 104.36s/it]  "
     ]
    },
    {
     "name": "stdout",
     "output_type": "stream",
     "text": [
      "[I 2025-10-21 08:58:28,877] Trial 17 finished with value: 1.513255479469843 and parameters: {'loss': 'squared_error', 'learning_rate': 0.06805568297993364, 'n_estimators': 122, 'subsample': 0.8545593990716109, 'min_samples_split': 10, 'min_samples_leaf': 3, 'max_depth': 3, 'min_impurity_decrease': 0.16842561757174063, 'max_features': None, 'max_leaf_nodes': 264, 'alpha': 0.8895919085730313}. Best is trial 17 with value: 1.513255479469843.\n"
     ]
    },
    {
     "name": "stderr",
     "output_type": "stream",
     "text": [
      "Best trial: 17. Best value: 1.51326:  38%|███▊      | 19/50 [30:20<45:19, 87.74s/it] "
     ]
    },
    {
     "name": "stdout",
     "output_type": "stream",
     "text": [
      "[I 2025-10-21 08:59:17,902] Trial 18 finished with value: 1.514115568077687 and parameters: {'loss': 'squared_error', 'learning_rate': 0.06832474717214677, 'n_estimators': 124, 'subsample': 0.8513942956326147, 'min_samples_split': 10, 'min_samples_leaf': 3, 'max_depth': 3, 'min_impurity_decrease': 0.1683549707630025, 'max_features': None, 'max_leaf_nodes': 276, 'alpha': 0.8872958511094311}. Best is trial 17 with value: 1.513255479469843.\n"
     ]
    },
    {
     "name": "stderr",
     "output_type": "stream",
     "text": [
      "Best trial: 17. Best value: 1.51326:  40%|████      | 20/50 [31:14<38:44, 77.47s/it]"
     ]
    },
    {
     "name": "stdout",
     "output_type": "stream",
     "text": [
      "[I 2025-10-21 09:00:11,443] Trial 19 finished with value: 1.5695336127326756 and parameters: {'loss': 'squared_error', 'learning_rate': 0.15381687280548678, 'n_estimators': 129, 'subsample': 0.8523657517524306, 'min_samples_split': 10, 'min_samples_leaf': 3, 'max_depth': 3, 'min_impurity_decrease': 0.07570096430238864, 'max_features': None, 'max_leaf_nodes': 292, 'alpha': 0.8888273108006807}. Best is trial 17 with value: 1.513255479469843.\n"
     ]
    },
    {
     "name": "stderr",
     "output_type": "stream",
     "text": [
      "Best trial: 17. Best value: 1.51326:  42%|████▏     | 21/50 [32:30<37:20, 77.26s/it]"
     ]
    },
    {
     "name": "stdout",
     "output_type": "stream",
     "text": [
      "[I 2025-10-21 09:01:28,227] Trial 20 finished with value: 1.564416327059567 and parameters: {'loss': 'squared_error', 'learning_rate': 0.1061111267826175, 'n_estimators': 184, 'subsample': 0.7859164453647545, 'min_samples_split': 10, 'min_samples_leaf': 3, 'max_depth': 3, 'min_impurity_decrease': 0.11951830730787635, 'max_features': None, 'max_leaf_nodes': 326, 'alpha': 0.8866935469443263}. Best is trial 17 with value: 1.513255479469843.\n"
     ]
    },
    {
     "name": "stderr",
     "output_type": "stream",
     "text": [
      "Best trial: 17. Best value: 1.51326:  44%|████▍     | 22/50 [34:36<42:47, 91.71s/it]"
     ]
    },
    {
     "name": "stdout",
     "output_type": "stream",
     "text": [
      "[I 2025-10-21 09:03:33,608] Trial 21 finished with value: 1.5280442994973948 and parameters: {'loss': 'squared_error', 'learning_rate': 0.06679621012923327, 'n_estimators': 257, 'subsample': 0.8720444816084041, 'min_samples_split': 9, 'min_samples_leaf': 3, 'max_depth': 3, 'min_impurity_decrease': 0.16965473856587815, 'max_features': None, 'max_leaf_nodes': 225, 'alpha': 0.886114443542677}. Best is trial 17 with value: 1.513255479469843.\n"
     ]
    },
    {
     "name": "stderr",
     "output_type": "stream",
     "text": [
      "Best trial: 17. Best value: 1.51326:  46%|████▌     | 23/50 [36:48<46:47, 103.96s/it]"
     ]
    },
    {
     "name": "stdout",
     "output_type": "stream",
     "text": [
      "[I 2025-10-21 09:05:46,162] Trial 22 finished with value: 1.5162222957598281 and parameters: {'loss': 'squared_error', 'learning_rate': 0.055029460857840586, 'n_estimators': 271, 'subsample': 0.8596126465263838, 'min_samples_split': 9, 'min_samples_leaf': 3, 'max_depth': 3, 'min_impurity_decrease': 0.1702488282828115, 'max_features': None, 'max_leaf_nodes': 238, 'alpha': 0.8862584967430945}. Best is trial 17 with value: 1.513255479469843.\n"
     ]
    },
    {
     "name": "stderr",
     "output_type": "stream",
     "text": [
      "Best trial: 17. Best value: 1.51326:  48%|████▊     | 24/50 [37:18<35:22, 81.65s/it] "
     ]
    },
    {
     "name": "stdout",
     "output_type": "stream",
     "text": [
      "[I 2025-10-21 09:06:15,777] Trial 23 finished with value: 1.543858163501255 and parameters: {'loss': 'squared_error', 'learning_rate': 0.05140769869064416, 'n_estimators': 101, 'subsample': 0.8245622159787888, 'min_samples_split': 9, 'min_samples_leaf': 3, 'max_depth': 2, 'min_impurity_decrease': 0.16739518861873573, 'max_features': None, 'max_leaf_nodes': 246, 'alpha': 0.880938284048763}. Best is trial 17 with value: 1.513255479469843.\n"
     ]
    },
    {
     "name": "stderr",
     "output_type": "stream",
     "text": [
      "Best trial: 17. Best value: 1.51326:  50%|█████     | 25/50 [38:32<33:04, 79.39s/it]"
     ]
    },
    {
     "name": "stdout",
     "output_type": "stream",
     "text": [
      "[I 2025-10-21 09:07:29,875] Trial 24 finished with value: 1.5474244821789707 and parameters: {'loss': 'squared_error', 'learning_rate': 0.09035703682858134, 'n_estimators': 184, 'subsample': 0.7577982067075679, 'min_samples_split': 10, 'min_samples_leaf': 4, 'max_depth': 3, 'min_impurity_decrease': 0.12984756413416493, 'max_features': None, 'max_leaf_nodes': 315, 'alpha': 0.8967882732786285}. Best is trial 17 with value: 1.513255479469843.\n"
     ]
    },
    {
     "name": "stderr",
     "output_type": "stream",
     "text": [
      "Best trial: 17. Best value: 1.51326:  52%|█████▏    | 26/50 [40:01<32:51, 82.15s/it]"
     ]
    },
    {
     "name": "stdout",
     "output_type": "stream",
     "text": [
      "[I 2025-10-21 09:08:58,480] Trial 25 finished with value: 1.5713806099840537 and parameters: {'loss': 'squared_error', 'learning_rate': 0.13932380285849852, 'n_estimators': 286, 'subsample': 0.8488270573663407, 'min_samples_split': 8, 'min_samples_leaf': 3, 'max_depth': 2, 'min_impurity_decrease': 0.15212448562055406, 'max_features': None, 'max_leaf_nodes': 500, 'alpha': 0.8965148276777934}. Best is trial 17 with value: 1.513255479469843.\n"
     ]
    },
    {
     "name": "stderr",
     "output_type": "stream",
     "text": [
      "Best trial: 17. Best value: 1.51326:  54%|█████▍    | 27/50 [40:08<22:53, 59.73s/it]"
     ]
    },
    {
     "name": "stdout",
     "output_type": "stream",
     "text": [
      "[I 2025-10-21 09:09:05,888] Trial 26 finished with value: 1.6300458623514271 and parameters: {'loss': 'huber', 'learning_rate': 0.1042099001467637, 'n_estimators': 168, 'subsample': 0.8924291904401074, 'min_samples_split': 9, 'min_samples_leaf': 3, 'max_depth': 3, 'min_impurity_decrease': 0.1791857506712239, 'max_features': 'log2', 'max_leaf_nodes': 262, 'alpha': 0.9119683564071664}. Best is trial 17 with value: 1.513255479469843.\n"
     ]
    },
    {
     "name": "stderr",
     "output_type": "stream",
     "text": [
      "Best trial: 17. Best value: 1.51326:  56%|█████▌    | 28/50 [43:22<36:37, 99.88s/it]"
     ]
    },
    {
     "name": "stdout",
     "output_type": "stream",
     "text": [
      "[I 2025-10-21 09:12:19,456] Trial 27 finished with value: 1.5305988050164125 and parameters: {'loss': 'squared_error', 'learning_rate': 0.0487500136144375, 'n_estimators': 456, 'subsample': 0.8242934097818462, 'min_samples_split': 10, 'min_samples_leaf': 4, 'max_depth': 3, 'min_impurity_decrease': 0.08980928246322048, 'max_features': None, 'max_leaf_nodes': 217, 'alpha': 0.8628132307256866}. Best is trial 17 with value: 1.513255479469843.\n"
     ]
    },
    {
     "name": "stderr",
     "output_type": "stream",
     "text": [
      "Best trial: 17. Best value: 1.51326:  58%|█████▊    | 29/50 [45:07<35:28, 101.38s/it]"
     ]
    },
    {
     "name": "stdout",
     "output_type": "stream",
     "text": [
      "[I 2025-10-21 09:14:04,319] Trial 28 finished with value: 1.520555071013359 and parameters: {'loss': 'squared_error', 'learning_rate': 0.050165052121997636, 'n_estimators': 202, 'subsample': 0.7837158660597497, 'min_samples_split': 8, 'min_samples_leaf': 3, 'max_depth': 4, 'min_impurity_decrease': 0.03346331589000956, 'max_features': None, 'max_leaf_nodes': 298, 'alpha': 0.8795410418567741}. Best is trial 17 with value: 1.513255479469843.\n"
     ]
    },
    {
     "name": "stderr",
     "output_type": "stream",
     "text": [
      "Best trial: 17. Best value: 1.51326:  60%|██████    | 30/50 [47:59<40:55, 122.78s/it]"
     ]
    },
    {
     "name": "stdout",
     "output_type": "stream",
     "text": [
      "[I 2025-10-21 09:16:57,028] Trial 29 finished with value: 1.6137095090346238 and parameters: {'loss': 'huber', 'learning_rate': 0.12440171607233522, 'n_estimators': 664, 'subsample': 0.7077689121222799, 'min_samples_split': 10, 'min_samples_leaf': 4, 'max_depth': 2, 'min_impurity_decrease': 0.1997374941929841, 'max_features': None, 'max_leaf_nodes': 345, 'alpha': 0.9069218933780425}. Best is trial 17 with value: 1.513255479469843.\n"
     ]
    },
    {
     "name": "stderr",
     "output_type": "stream",
     "text": [
      "Best trial: 17. Best value: 1.51326:  62%|██████▏   | 31/50 [51:33<47:31, 150.09s/it]"
     ]
    },
    {
     "name": "stdout",
     "output_type": "stream",
     "text": [
      "[I 2025-10-21 09:20:30,838] Trial 30 finished with value: 1.5735190928612526 and parameters: {'loss': 'squared_error', 'learning_rate': 0.0891041906808796, 'n_estimators': 509, 'subsample': 0.8820492591643958, 'min_samples_split': 9, 'min_samples_leaf': 3, 'max_depth': 3, 'min_impurity_decrease': 0.1753493383573614, 'max_features': None, 'max_leaf_nodes': 193, 'alpha': 0.8783315554985095}. Best is trial 17 with value: 1.513255479469843.\n"
     ]
    },
    {
     "name": "stderr",
     "output_type": "stream",
     "text": [
      "Best trial: 17. Best value: 1.51326:  64%|██████▍   | 32/50 [53:22<41:17, 137.64s/it]"
     ]
    },
    {
     "name": "stdout",
     "output_type": "stream",
     "text": [
      "[I 2025-10-21 09:22:19,435] Trial 31 finished with value: 1.5232525589011885 and parameters: {'loss': 'squared_error', 'learning_rate': 0.05078675278513303, 'n_estimators': 232, 'subsample': 0.7867285094057499, 'min_samples_split': 8, 'min_samples_leaf': 3, 'max_depth': 4, 'min_impurity_decrease': 0.016210327507749627, 'max_features': None, 'max_leaf_nodes': 284, 'alpha': 0.8806581213694321}. Best is trial 17 with value: 1.513255479469843.\n"
     ]
    },
    {
     "name": "stderr",
     "output_type": "stream",
     "text": [
      "Best trial: 17. Best value: 1.51326:  66%|██████▌   | 33/50 [54:29<33:02, 116.59s/it]"
     ]
    },
    {
     "name": "stdout",
     "output_type": "stream",
     "text": [
      "[I 2025-10-21 09:23:26,915] Trial 32 finished with value: 1.5374091902463427 and parameters: {'loss': 'squared_error', 'learning_rate': 0.060046754871899685, 'n_estimators': 140, 'subsample': 0.8432818386223194, 'min_samples_split': 8, 'min_samples_leaf': 3, 'max_depth': 4, 'min_impurity_decrease': 0.036128193165877044, 'max_features': None, 'max_leaf_nodes': 369, 'alpha': 0.8940748881989248}. Best is trial 17 with value: 1.513255479469843.\n"
     ]
    },
    {
     "name": "stderr",
     "output_type": "stream",
     "text": [
      "Best trial: 17. Best value: 1.51326:  68%|██████▊   | 34/50 [56:00<29:00, 108.81s/it]"
     ]
    },
    {
     "name": "stdout",
     "output_type": "stream",
     "text": [
      "[I 2025-10-21 09:24:57,554] Trial 33 finished with value: 1.531444212501317 and parameters: {'loss': 'squared_error', 'learning_rate': 0.041839027238452245, 'n_estimators': 209, 'subsample': 0.7382502447186605, 'min_samples_split': 9, 'min_samples_leaf': 2, 'max_depth': 4, 'min_impurity_decrease': 0.1563839359460319, 'max_features': None, 'max_leaf_nodes': 305, 'alpha': 0.9003203068864667}. Best is trial 17 with value: 1.513255479469843.\n"
     ]
    },
    {
     "name": "stderr",
     "output_type": "stream",
     "text": [
      "Best trial: 17. Best value: 1.51326:  70%|███████   | 35/50 [57:47<27:03, 108.23s/it]"
     ]
    },
    {
     "name": "stdout",
     "output_type": "stream",
     "text": [
      "[I 2025-10-21 09:26:44,446] Trial 34 finished with value: 1.6190923047510075 and parameters: {'loss': 'squared_error', 'learning_rate': 0.16847086502790712, 'n_estimators': 290, 'subsample': 0.7970884068213093, 'min_samples_split': 10, 'min_samples_leaf': 3, 'max_depth': 3, 'min_impurity_decrease': 0.029350568337117737, 'max_features': None, 'max_leaf_nodes': 268, 'alpha': 0.8664924737672144}. Best is trial 17 with value: 1.513255479469843.\n"
     ]
    },
    {
     "name": "stderr",
     "output_type": "stream",
     "text": [
      "Best trial: 17. Best value: 1.51326:  72%|███████▏  | 36/50 [1:01:24<32:53, 140.96s/it]"
     ]
    },
    {
     "name": "stdout",
     "output_type": "stream",
     "text": [
      "[I 2025-10-21 09:30:21,759] Trial 35 finished with value: 1.564168163966254 and parameters: {'loss': 'squared_error', 'learning_rate': 0.08637216460445696, 'n_estimators': 410, 'subsample': 0.6752159049896618, 'min_samples_split': 8, 'min_samples_leaf': 2, 'max_depth': 5, 'min_impurity_decrease': 0.05760726659721385, 'max_features': None, 'max_leaf_nodes': 219, 'alpha': 0.8782646376134746}. Best is trial 17 with value: 1.513255479469843.\n"
     ]
    },
    {
     "name": "stderr",
     "output_type": "stream",
     "text": [
      "Best trial: 17. Best value: 1.51326:  74%|███████▍  | 37/50 [1:01:27<21:34, 99.61s/it] "
     ]
    },
    {
     "name": "stdout",
     "output_type": "stream",
     "text": [
      "[I 2025-10-21 09:30:24,899] Trial 36 finished with value: 1.7801413683524914 and parameters: {'loss': 'squared_error', 'learning_rate': 0.28882886449296086, 'n_estimators': 159, 'subsample': 0.8161163271803477, 'min_samples_split': 9, 'min_samples_leaf': 2, 'max_depth': 4, 'min_impurity_decrease': 0.18564609212855931, 'max_features': 'log2', 'max_leaf_nodes': 249, 'alpha': 0.8844084064256925}. Best is trial 17 with value: 1.513255479469843.\n"
     ]
    },
    {
     "name": "stderr",
     "output_type": "stream",
     "text": [
      "Best trial: 17. Best value: 1.51326:  76%|███████▌  | 38/50 [1:02:42<18:25, 92.12s/it]"
     ]
    },
    {
     "name": "stdout",
     "output_type": "stream",
     "text": [
      "[I 2025-10-21 09:31:39,538] Trial 37 finished with value: 1.6308950298738485 and parameters: {'loss': 'huber', 'learning_rate': 0.24572401428262264, 'n_estimators': 248, 'subsample': 0.7615139674185, 'min_samples_split': 6, 'min_samples_leaf': 3, 'max_depth': 2, 'min_impurity_decrease': 0.18563578645669626, 'max_features': None, 'max_leaf_nodes': 161, 'alpha': 0.8692306396609927}. Best is trial 17 with value: 1.513255479469843.\n"
     ]
    },
    {
     "name": "stderr",
     "output_type": "stream",
     "text": [
      "Best trial: 17. Best value: 1.51326:  78%|███████▊  | 39/50 [1:03:44<15:13, 83.07s/it]"
     ]
    },
    {
     "name": "stdout",
     "output_type": "stream",
     "text": [
      "[I 2025-10-21 09:32:41,492] Trial 38 finished with value: 1.5498116105905515 and parameters: {'loss': 'squared_error', 'learning_rate': 0.03655891696000646, 'n_estimators': 101, 'subsample': 0.9070594393584049, 'min_samples_split': 7, 'min_samples_leaf': 2, 'max_depth': 4, 'min_impurity_decrease': 0.1390560832109102, 'max_features': None, 'max_leaf_nodes': 358, 'alpha': 0.8515600502759436}. Best is trial 17 with value: 1.513255479469843.\n"
     ]
    },
    {
     "name": "stderr",
     "output_type": "stream",
     "text": [
      "Best trial: 17. Best value: 1.51326:  80%|████████  | 40/50 [1:03:51<10:02, 60.20s/it]"
     ]
    },
    {
     "name": "stdout",
     "output_type": "stream",
     "text": [
      "[I 2025-10-21 09:32:48,344] Trial 39 finished with value: 1.6336917588792903 and parameters: {'loss': 'squared_error', 'learning_rate': 0.0772501272550056, 'n_estimators': 346, 'subsample': 0.8395774476175148, 'min_samples_split': 10, 'min_samples_leaf': 4, 'max_depth': 7, 'min_impurity_decrease': 0.09327667871973988, 'max_features': 'log2', 'max_leaf_nodes': 389, 'alpha': 0.9050804599615573}. Best is trial 17 with value: 1.513255479469843.\n"
     ]
    },
    {
     "name": "stderr",
     "output_type": "stream",
     "text": [
      "Best trial: 17. Best value: 1.51326:  82%|████████▏ | 41/50 [1:07:24<15:55, 106.18s/it]"
     ]
    },
    {
     "name": "stdout",
     "output_type": "stream",
     "text": [
      "[I 2025-10-21 09:36:21,793] Trial 40 finished with value: 1.5926601235137015 and parameters: {'loss': 'huber', 'learning_rate': 0.13979172404702703, 'n_estimators': 998, 'subsample': 0.6064603628372138, 'min_samples_split': 9, 'min_samples_leaf': 2, 'max_depth': 3, 'min_impurity_decrease': 0.11328821853750962, 'max_features': None, 'max_leaf_nodes': 298, 'alpha': 0.891493703986859}. Best is trial 17 with value: 1.513255479469843.\n"
     ]
    },
    {
     "name": "stderr",
     "output_type": "stream",
     "text": [
      "Best trial: 41. Best value: 1.51124:  84%|████████▍ | 42/50 [1:09:14<14:19, 107.38s/it]"
     ]
    },
    {
     "name": "stdout",
     "output_type": "stream",
     "text": [
      "[I 2025-10-21 09:38:11,981] Trial 41 finished with value: 1.5112405279516987 and parameters: {'loss': 'squared_error', 'learning_rate': 0.05244774965020099, 'n_estimators': 213, 'subsample': 0.7850273411765307, 'min_samples_split': 8, 'min_samples_leaf': 3, 'max_depth': 4, 'min_impurity_decrease': 0.012811759222223912, 'max_features': None, 'max_leaf_nodes': 277, 'alpha': 0.8813630695877896}. Best is trial 41 with value: 1.5112405279516987.\n"
     ]
    },
    {
     "name": "stderr",
     "output_type": "stream",
     "text": [
      "Best trial: 41. Best value: 1.51124:  86%|████████▌ | 43/50 [1:10:47<12:01, 103.13s/it]"
     ]
    },
    {
     "name": "stdout",
     "output_type": "stream",
     "text": [
      "[I 2025-10-21 09:39:45,210] Trial 42 finished with value: 1.5242399918247573 and parameters: {'loss': 'squared_error', 'learning_rate': 0.03390883098065394, 'n_estimators': 197, 'subsample': 0.8006846940062793, 'min_samples_split': 8, 'min_samples_leaf': 3, 'max_depth': 4, 'min_impurity_decrease': 0.0075426526967797974, 'max_features': None, 'max_leaf_nodes': 271, 'alpha': 0.8745926114347798}. Best is trial 41 with value: 1.5112405279516987.\n"
     ]
    },
    {
     "name": "stderr",
     "output_type": "stream",
     "text": [
      "Best trial: 41. Best value: 1.51124:  88%|████████▊ | 44/50 [1:11:51<09:07, 91.26s/it] "
     ]
    },
    {
     "name": "stdout",
     "output_type": "stream",
     "text": [
      "[I 2025-10-21 09:40:48,767] Trial 43 finished with value: 1.9298548544076737 and parameters: {'loss': 'squared_error', 'learning_rate': 0.010202484052325059, 'n_estimators': 145, 'subsample': 0.7301419722428539, 'min_samples_split': 7, 'min_samples_leaf': 3, 'max_depth': 4, 'min_impurity_decrease': 0.014901162519238592, 'max_features': None, 'max_leaf_nodes': 243, 'alpha': 0.8619868894199267}. Best is trial 41 with value: 1.5112405279516987.\n"
     ]
    },
    {
     "name": "stderr",
     "output_type": "stream",
     "text": [
      "Best trial: 41. Best value: 1.51124:  90%|█████████ | 45/50 [1:13:39<08:01, 96.37s/it]"
     ]
    },
    {
     "name": "stdout",
     "output_type": "stream",
     "text": [
      "[I 2025-10-21 09:42:37,039] Trial 44 finished with value: 1.5245508467220854 and parameters: {'loss': 'squared_error', 'learning_rate': 0.06070961244975346, 'n_estimators': 284, 'subsample': 0.7778339670970656, 'min_samples_split': 8, 'min_samples_leaf': 3, 'max_depth': 3, 'min_impurity_decrease': 0.03733991882992273, 'max_features': None, 'max_leaf_nodes': 325, 'alpha': 0.8828723197453999}. Best is trial 41 with value: 1.5112405279516987.\n"
     ]
    },
    {
     "name": "stderr",
     "output_type": "stream",
     "text": [
      "Best trial: 41. Best value: 1.51124:  92%|█████████▏| 46/50 [1:16:34<07:59, 119.93s/it]"
     ]
    },
    {
     "name": "stdout",
     "output_type": "stream",
     "text": [
      "[I 2025-10-21 09:45:31,954] Trial 45 finished with value: 1.5449981749547308 and parameters: {'loss': 'squared_error', 'learning_rate': 0.02777574627250548, 'n_estimators': 226, 'subsample': 0.8701215962937234, 'min_samples_split': 9, 'min_samples_leaf': 2, 'max_depth': 5, 'min_impurity_decrease': 0.0013255782864689397, 'max_features': None, 'max_leaf_nodes': 213, 'alpha': 0.8763063426723805}. Best is trial 41 with value: 1.5112405279516987.\n"
     ]
    },
    {
     "name": "stderr",
     "output_type": "stream",
     "text": [
      "Best trial: 41. Best value: 1.51124:  94%|█████████▍| 47/50 [1:16:42<04:18, 86.30s/it] "
     ]
    },
    {
     "name": "stdout",
     "output_type": "stream",
     "text": [
      "[I 2025-10-21 09:45:39,783] Trial 46 finished with value: 1.600751163394266 and parameters: {'loss': 'squared_error', 'learning_rate': 0.05530392458437131, 'n_estimators': 400, 'subsample': 0.8070422706006527, 'min_samples_split': 10, 'min_samples_leaf': 3, 'max_depth': 4, 'min_impurity_decrease': 0.024122867984655454, 'max_features': 'log2', 'max_leaf_nodes': 257, 'alpha': 0.8942866584775729}. Best is trial 41 with value: 1.5112405279516987.\n"
     ]
    },
    {
     "name": "stderr",
     "output_type": "stream",
     "text": [
      "Best trial: 41. Best value: 1.51124:  96%|█████████▌| 48/50 [1:16:54<02:07, 63.99s/it]"
     ]
    },
    {
     "name": "stdout",
     "output_type": "stream",
     "text": [
      "[I 2025-10-21 09:45:51,708] Trial 47 finished with value: 1.6026328659227154 and parameters: {'loss': 'squared_error', 'learning_rate': 0.10010760929330775, 'n_estimators': 554, 'subsample': 0.9297152662353937, 'min_samples_split': 8, 'min_samples_leaf': 4, 'max_depth': 2, 'min_impurity_decrease': 0.04801570293027635, 'max_features': 'sqrt', 'max_leaf_nodes': 284, 'alpha': 0.8710666461352561}. Best is trial 41 with value: 1.5112405279516987.\n"
     ]
    },
    {
     "name": "stderr",
     "output_type": "stream",
     "text": [
      "Best trial: 41. Best value: 1.51124:  98%|█████████▊| 49/50 [1:19:32<01:32, 92.07s/it]"
     ]
    },
    {
     "name": "stdout",
     "output_type": "stream",
     "text": [
      "[I 2025-10-21 09:48:29,318] Trial 48 finished with value: 1.5584507602678204 and parameters: {'loss': 'huber', 'learning_rate': 0.0762695506999601, 'n_estimators': 317, 'subsample': 0.8582381780436898, 'min_samples_split': 2, 'min_samples_leaf': 3, 'max_depth': 4, 'min_impurity_decrease': 0.15675624990692083, 'max_features': None, 'max_leaf_nodes': 232, 'alpha': 0.8997470064041976}. Best is trial 41 with value: 1.5112405279516987.\n"
     ]
    },
    {
     "name": "stderr",
     "output_type": "stream",
     "text": [
      "Best trial: 41. Best value: 1.51124: 100%|██████████| 50/50 [1:20:21<00:00, 96.44s/it]"
     ]
    },
    {
     "name": "stdout",
     "output_type": "stream",
     "text": [
      "[I 2025-10-21 09:49:19,084] Trial 49 finished with value: 1.5738517669140317 and parameters: {'loss': 'squared_error', 'learning_rate': 0.11747198452366821, 'n_estimators': 137, 'subsample': 0.7442162198556554, 'min_samples_split': 7, 'min_samples_leaf': 2, 'max_depth': 3, 'min_impurity_decrease': 0.0743919106278146, 'max_features': None, 'max_leaf_nodes': 199, 'alpha': 0.8566760300529501}. Best is trial 41 with value: 1.5112405279516987.\n",
      "Best parameters: {'loss': 'squared_error', 'learning_rate': 0.05244774965020099, 'n_estimators': 213, 'subsample': 0.7850273411765307, 'min_samples_split': 8, 'min_samples_leaf': 3, 'max_depth': 4, 'min_impurity_decrease': 0.012811759222223912, 'max_features': None, 'max_leaf_nodes': 277, 'alpha': 0.8813630695877896}\n",
      "Best RMSE: 1.5112405279516987\n"
     ]
    },
    {
     "name": "stderr",
     "output_type": "stream",
     "text": [
      "\n"
     ]
    }
   ],
   "source": [
    "# === 3. Chạy Optuna study cho ExtraTrees ===\n",
    "study_grad = optuna.create_study(\n",
    "    direction='minimize',   # mục tiêu: giảm RMSE\n",
    "    sampler=sampler\n",
    ")\n",
    "\n",
    "# Tiến hành tối ưu\n",
    "study_grad.optimize(objective, n_trials=50, show_progress_bar=True)\n",
    "\n",
    "# === 4. In kết quả tốt nhất ===\n",
    "print(\"Best parameters:\", study_grad.best_trial.params)\n",
    "print(\"Best RMSE:\", study_grad.best_value)\n"
   ]
  },
  {
   "cell_type": "code",
   "execution_count": 37,
   "id": "749e20f4",
   "metadata": {},
   "outputs": [
    {
     "name": "stdout",
     "output_type": "stream",
     "text": [
      "Validation metrics: {'RMSE': 1.5011458815829, 'R2': 0.9152703326059204, 'MAPE': 5.158944802837902}\n",
      "Test metrics: {'RMSE': 1.3430800523462543, 'R2': 0.9166536500947113, 'MAPE': 4.216884591360309}\n",
      "RandomForest model saved to models/Tuning_GradBoosting_model.pkl\n"
     ]
    },
    {
     "data": {
      "text/plain": [
       "True"
      ]
     },
     "execution_count": 37,
     "metadata": {},
     "output_type": "execute_result"
    }
   ],
   "source": [
    "# === 4 Log kết quả tổng hợp ===\n",
    "task_grad.upload_artifact(\"Best Parameters\", study_grad.best_trial.params)\n",
    "\n",
    "# Fit lại mô hình với best params\n",
    "best_model_grad = GradientBoostingRegressor(**study_grad.best_trial.params)\n",
    "best_model_grad.fit(X_train, y_train)\n",
    "\n",
    "# Predict\n",
    "y_pred_val = best_model_grad.predict(X_val)\n",
    "y_pred_test = best_model_grad.predict(X_test)\n",
    "\n",
    "# Evaluate on validation\n",
    "bestGrad_val_metrics = evaluate(y_val, y_pred_val)\n",
    "print(\"Validation metrics:\", bestGrad_val_metrics)\n",
    "\n",
    "# Evaluate on test\n",
    "bestGrad_test_metrics = evaluate(y_test, y_pred_test)\n",
    "print(\"Test metrics:\", bestGrad_test_metrics)\n",
    "\n",
    "\n",
    "# 6 Log lên ClearML\n",
    "logger_grad.report_scalar(\"Best Metrics\", \"RMSE_val\", bestGrad_val_metrics[\"RMSE\"], iteration=0)\n",
    "logger_grad.report_scalar(\"Best Metrics\", \"R2_val\", bestGrad_val_metrics[\"R2\"], iteration=0)\n",
    "logger_grad.report_scalar(\"Best Metrics\", \"MAPE_val\", bestGrad_val_metrics[\"MAPE\"], iteration=0)\n",
    "logger_grad.report_scalar(\"Best Metrics\", \"RMSE_test\", bestGrad_test_metrics[\"RMSE\"], iteration=0)\n",
    "logger_grad.report_scalar(\"Best Metrics\", \"R2_test\", bestGrad_test_metrics[\"R2\"], iteration=0)\n",
    "logger_grad.report_scalar(\"Best Metrics\", \"MAPE_test\", bestGrad_test_metrics[\"MAPE\"], iteration=0)\n",
    "\n",
    "\n",
    "# Upload artifact tổng hợp\n",
    "task_grad.upload_artifact(\"Best Metrics\", {\n",
    "    \"Validation\": bestGrad_val_metrics,\n",
    "    \"Test\": bestGrad_test_metrics\n",
    "})\n",
    "\n",
    "\n",
    "# Save & upload model\n",
    "model_path = r'models/Tuning_GradBoosting_model.pkl' \n",
    "joblib.dump(best_model_grad, model_path)\n",
    "print(f\"RandomForest model saved to {model_path}\")\n",
    "task_grad.upload_artifact(\"Best Model\", model_path)"
   ]
  },
  {
   "cell_type": "code",
   "execution_count": 38,
   "id": "bab07e02",
   "metadata": {},
   "outputs": [],
   "source": [
    "# === 6️ Vẽ biểu đồ RMSE theo trial  ===\n",
    "fig3 = plt.figure(figsize=(7, 4))\n",
    "plt.plot([t.value for t in study_grad.trials])\n",
    "plt.xlabel(\"Trial\")\n",
    "plt.ylabel(\"RMSE\")\n",
    "plt.title(\"Optuna RMSE per Trial\")\n",
    "\n",
    "logger_grad.report_matplotlib_figure(\n",
    "    title=\"Optuna Performance\", \n",
    "    series=\"RMSE Curve\", \n",
    "    figure=fig3,\n",
    "    iteration=len(study_grad.trials)\n",
    ")\n",
    "plt.close(fig3)\n"
   ]
  },
  {
   "cell_type": "code",
   "execution_count": 39,
   "id": "5c669a16",
   "metadata": {},
   "outputs": [
    {
     "data": {
      "application/vnd.plotly.v1+json": {
       "config": {
        "plotlyServerURL": "https://plot.ly"
       },
       "data": [
        {
         "dimensions": [
          {
           "label": "Objective Value",
           "range": [
            1.5112405279516987,
            1.9298548544076737
           ],
           "values": [
            1.6206408671335133,
            1.6252330109327642,
            1.7392028199912275,
            1.845015311833657,
            1.5474255782829527,
            1.715748424366728,
            1.6726824353323013,
            1.5575728952598218,
            1.6674098756590332,
            1.7175720392187652,
            1.589107953915801,
            1.5497361320370147,
            1.5622548580376323,
            1.5849455824683525,
            1.5959574787529776,
            1.5558201060754364,
            1.5319837694861163,
            1.513255479469843,
            1.514115568077687,
            1.5695336127326756,
            1.564416327059567,
            1.5280442994973948,
            1.5162222957598281,
            1.543858163501255,
            1.5474244821789707,
            1.5713806099840537,
            1.6300458623514271,
            1.5305988050164125,
            1.520555071013359,
            1.6137095090346238,
            1.5735190928612526,
            1.5232525589011885,
            1.5374091902463427,
            1.531444212501317,
            1.6190923047510075,
            1.564168163966254,
            1.7801413683524914,
            1.6308950298738485,
            1.5498116105905515,
            1.6336917588792903,
            1.5926601235137015,
            1.5112405279516987,
            1.5242399918247573,
            1.9298548544076737,
            1.5245508467220854,
            1.5449981749547308,
            1.600751163394266,
            1.6026328659227154,
            1.5584507602678204,
            1.5738517669140317
           ]
          },
          {
           "label": "alpha",
           "range": [
            0.8515600502759436,
            0.9498259206636188
           ],
           "values": [
            0.9008570691164702,
            0.8686570058886035,
            0.872210781047073,
            0.8536886947354533,
            0.922821634861186,
            0.8726495775197938,
            0.9055200811599462,
            0.8584139964995049,
            0.87372490874968,
            0.9131138625997263,
            0.9443509844134305,
            0.9355026622845743,
            0.9335765689204073,
            0.9237283448181403,
            0.9498259206636188,
            0.9261645694344912,
            0.8902281014012696,
            0.8895919085730313,
            0.8872958511094311,
            0.8888273108006807,
            0.8866935469443263,
            0.886114443542677,
            0.8862584967430945,
            0.880938284048763,
            0.8967882732786285,
            0.8965148276777934,
            0.9119683564071664,
            0.8628132307256866,
            0.8795410418567741,
            0.9069218933780425,
            0.8783315554985095,
            0.8806581213694321,
            0.8940748881989248,
            0.9003203068864667,
            0.8664924737672144,
            0.8782646376134746,
            0.8844084064256925,
            0.8692306396609927,
            0.8515600502759436,
            0.9050804599615573,
            0.891493703986859,
            0.8813630695877896,
            0.8745926114347798,
            0.8619868894199267,
            0.8828723197453999,
            0.8763063426723805,
            0.8942866584775729,
            0.8710666461352561,
            0.8997470064041976,
            0.8566760300529501
           ]
          },
          {
           "label": "learning_rate",
           "range": [
            0.010202484052325059,
            0.28882886449296086
           ],
           "values": [
            0.23062766409890026,
            0.1290110476803326,
            0.24415764499757814,
            0.28344381413463055,
            0.02492883786249691,
            0.19372361612065947,
            0.21037194404971513,
            0.03699980266371077,
            0.18586442730128108,
            0.19839354072369225,
            0.024445413027925578,
            0.01337387076666794,
            0.08420579413668827,
            0.07208608555349522,
            0.11393250935233099,
            0.021608377264407504,
            0.06948491604486835,
            0.06805568297993364,
            0.06832474717214677,
            0.15381687280548678,
            0.1061111267826175,
            0.06679621012923327,
            0.055029460857840586,
            0.05140769869064416,
            0.09035703682858134,
            0.13932380285849852,
            0.1042099001467637,
            0.0487500136144375,
            0.050165052121997636,
            0.12440171607233522,
            0.0891041906808796,
            0.05078675278513303,
            0.060046754871899685,
            0.041839027238452245,
            0.16847086502790712,
            0.08637216460445696,
            0.28882886449296086,
            0.24572401428262264,
            0.03655891696000646,
            0.0772501272550056,
            0.13979172404702703,
            0.05244774965020099,
            0.03390883098065394,
            0.010202484052325059,
            0.06070961244975346,
            0.02777574627250548,
            0.05530392458437131,
            0.10010760929330775,
            0.0762695506999601,
            0.11747198452366821
           ]
          },
          {
           "label": "loss",
           "range": [
            0,
            1
           ],
           "ticktext": [
            "huber",
            "squared_error"
           ],
           "tickvals": [
            0,
            1
           ],
           "values": [
            0,
            1,
            1,
            0,
            1,
            0,
            1,
            1,
            0,
            0,
            1,
            1,
            1,
            1,
            1,
            1,
            1,
            1,
            1,
            1,
            1,
            1,
            1,
            1,
            1,
            1,
            0,
            1,
            1,
            0,
            1,
            1,
            1,
            1,
            1,
            1,
            1,
            0,
            1,
            1,
            0,
            1,
            1,
            1,
            1,
            1,
            1,
            1,
            0,
            1
           ]
          },
          {
           "label": "max_depth",
           "range": [
            2,
            7
           ],
           "values": [
            4,
            2,
            4,
            7,
            4,
            3,
            2,
            4,
            2,
            4,
            6,
            5,
            6,
            5,
            5,
            6,
            3,
            3,
            3,
            3,
            3,
            3,
            3,
            2,
            3,
            2,
            3,
            3,
            4,
            2,
            3,
            4,
            4,
            4,
            3,
            5,
            4,
            2,
            4,
            7,
            3,
            4,
            4,
            4,
            3,
            5,
            4,
            2,
            4,
            3
           ]
          },
          {
           "label": "max_features",
           "range": [
            0,
            2
           ],
           "ticktext": [
            "None",
            "sqrt",
            "log2"
           ],
           "tickvals": [
            0,
            1,
            2
           ],
           "values": [
            0,
            0,
            1,
            2,
            0,
            2,
            1,
            1,
            1,
            2,
            0,
            1,
            0,
            1,
            0,
            1,
            0,
            0,
            0,
            0,
            0,
            0,
            0,
            0,
            0,
            0,
            2,
            0,
            0,
            0,
            0,
            0,
            0,
            0,
            0,
            0,
            2,
            0,
            0,
            2,
            0,
            0,
            0,
            0,
            0,
            0,
            2,
            1,
            0,
            0
           ]
          },
          {
           "label": "max_leaf_nodes",
           "range": [
            57,
            500
           ],
           "values": [
            191,
            412,
            238,
            178,
            157,
            280,
            418,
            339,
            371,
            452,
            62,
            79,
            57,
            120,
            130,
            116,
            192,
            264,
            276,
            292,
            326,
            225,
            238,
            246,
            315,
            500,
            262,
            217,
            298,
            345,
            193,
            284,
            369,
            305,
            268,
            219,
            249,
            161,
            358,
            389,
            298,
            277,
            271,
            243,
            325,
            213,
            257,
            284,
            232,
            199
           ]
          },
          {
           "label": "min_impurity_decr...",
           "range": [
            0.0013255782864689397,
            0.1997374941929841
           ],
           "values": [
            0.005083825348819038,
            0.18593953046851464,
            0.16360295318449863,
            0.19248945898842226,
            0.19713009082212016,
            0.008155028310952784,
            0.18493872365571257,
            0.14519113577404788,
            0.10974675787331722,
            0.05304047353634509,
            0.1022339972530001,
            0.1445803401859236,
            0.12517554378314064,
            0.1559426828604917,
            0.06985911570292885,
            0.13751957356055927,
            0.16865463495245292,
            0.16842561757174063,
            0.1683549707630025,
            0.07570096430238864,
            0.11951830730787635,
            0.16965473856587815,
            0.1702488282828115,
            0.16739518861873573,
            0.12984756413416493,
            0.15212448562055406,
            0.1791857506712239,
            0.08980928246322048,
            0.03346331589000956,
            0.1997374941929841,
            0.1753493383573614,
            0.016210327507749627,
            0.036128193165877044,
            0.1563839359460319,
            0.029350568337117737,
            0.05760726659721385,
            0.18564609212855931,
            0.18563578645669626,
            0.1390560832109102,
            0.09327667871973988,
            0.11328821853750962,
            0.012811759222223912,
            0.0075426526967797974,
            0.014901162519238592,
            0.03733991882992273,
            0.0013255782864689397,
            0.024122867984655454,
            0.04801570293027635,
            0.15675624990692083,
            0.0743919106278146
           ]
          },
          {
           "label": "min_samples_leaf",
           "range": [
            1,
            5
           ],
           "values": [
            3,
            2,
            2,
            2,
            1,
            2,
            2,
            2,
            1,
            1,
            5,
            4,
            5,
            4,
            4,
            4,
            3,
            3,
            3,
            3,
            3,
            3,
            3,
            3,
            4,
            3,
            3,
            4,
            3,
            4,
            3,
            3,
            3,
            2,
            3,
            2,
            2,
            3,
            2,
            4,
            2,
            3,
            3,
            3,
            3,
            2,
            3,
            4,
            3,
            2
           ]
          },
          {
           "label": "min_samples_split",
           "range": [
            2,
            10
           ],
           "values": [
            6,
            2,
            2,
            8,
            4,
            9,
            3,
            7,
            7,
            7,
            4,
            5,
            5,
            4,
            5,
            4,
            5,
            10,
            10,
            10,
            10,
            9,
            9,
            9,
            10,
            8,
            9,
            10,
            8,
            10,
            9,
            8,
            8,
            9,
            10,
            8,
            9,
            6,
            7,
            10,
            9,
            8,
            8,
            7,
            8,
            9,
            10,
            8,
            2,
            7
           ]
          },
          {
           "label": "n_estimators",
           "range": [
            101,
            998
           ],
           "values": [
            605,
            780,
            907,
            391,
            351,
            582,
            448,
            908,
            108,
            865,
            212,
            335,
            314,
            250,
            484,
            694,
            377,
            122,
            124,
            129,
            184,
            257,
            271,
            101,
            184,
            286,
            168,
            456,
            202,
            664,
            509,
            232,
            140,
            209,
            290,
            410,
            159,
            248,
            101,
            346,
            998,
            213,
            197,
            145,
            284,
            226,
            400,
            554,
            317,
            137
           ]
          },
          {
           "label": "subsample",
           "range": [
            0.6064603628372138,
            0.9995899115909027
           ],
           "values": [
            0.9083868719818244,
            0.6915192661966489,
            0.7272013899887455,
            0.8075162486973464,
            0.9633063543866615,
            0.6361159080217633,
            0.9746919954946938,
            0.9601672228653322,
            0.6405886171464128,
            0.8630451569201374,
            0.9995899115909027,
            0.9191683961382393,
            0.894224421329017,
            0.8255007384166373,
            0.9181171691694481,
            0.7660822645523062,
            0.9423225915596489,
            0.8545593990716109,
            0.8513942956326147,
            0.8523657517524306,
            0.7859164453647545,
            0.8720444816084041,
            0.8596126465263838,
            0.8245622159787888,
            0.7577982067075679,
            0.8488270573663407,
            0.8924291904401074,
            0.8242934097818462,
            0.7837158660597497,
            0.7077689121222799,
            0.8820492591643958,
            0.7867285094057499,
            0.8432818386223194,
            0.7382502447186605,
            0.7970884068213093,
            0.6752159049896618,
            0.8161163271803477,
            0.7615139674185,
            0.9070594393584049,
            0.8395774476175148,
            0.6064603628372138,
            0.7850273411765307,
            0.8006846940062793,
            0.7301419722428539,
            0.7778339670970656,
            0.8701215962937234,
            0.8070422706006527,
            0.9297152662353937,
            0.8582381780436898,
            0.7442162198556554
           ]
          }
         ],
         "labelangle": 30,
         "labelside": "bottom",
         "line": {
          "color": [
           1.6206408671335133,
           1.6252330109327642,
           1.7392028199912275,
           1.845015311833657,
           1.5474255782829527,
           1.715748424366728,
           1.6726824353323013,
           1.5575728952598218,
           1.6674098756590332,
           1.7175720392187652,
           1.589107953915801,
           1.5497361320370147,
           1.5622548580376323,
           1.5849455824683525,
           1.5959574787529776,
           1.5558201060754364,
           1.5319837694861163,
           1.513255479469843,
           1.514115568077687,
           1.5695336127326756,
           1.564416327059567,
           1.5280442994973948,
           1.5162222957598281,
           1.543858163501255,
           1.5474244821789707,
           1.5713806099840537,
           1.6300458623514271,
           1.5305988050164125,
           1.520555071013359,
           1.6137095090346238,
           1.5735190928612526,
           1.5232525589011885,
           1.5374091902463427,
           1.531444212501317,
           1.6190923047510075,
           1.564168163966254,
           1.7801413683524914,
           1.6308950298738485,
           1.5498116105905515,
           1.6336917588792903,
           1.5926601235137015,
           1.5112405279516987,
           1.5242399918247573,
           1.9298548544076737,
           1.5245508467220854,
           1.5449981749547308,
           1.600751163394266,
           1.6026328659227154,
           1.5584507602678204,
           1.5738517669140317
          ],
          "colorbar": {
           "title": {
            "text": "Objective Value"
           }
          },
          "colorscale": [
           [
            0,
            "rgb(247,251,255)"
           ],
           [
            0.125,
            "rgb(222,235,247)"
           ],
           [
            0.25,
            "rgb(198,219,239)"
           ],
           [
            0.375,
            "rgb(158,202,225)"
           ],
           [
            0.5,
            "rgb(107,174,214)"
           ],
           [
            0.625,
            "rgb(66,146,198)"
           ],
           [
            0.75,
            "rgb(33,113,181)"
           ],
           [
            0.875,
            "rgb(8,81,156)"
           ],
           [
            1,
            "rgb(8,48,107)"
           ]
          ],
          "reversescale": true,
          "showscale": true
         },
         "type": "parcoords"
        }
       ],
       "layout": {
        "template": {
         "data": {
          "bar": [
           {
            "error_x": {
             "color": "#2a3f5f"
            },
            "error_y": {
             "color": "#2a3f5f"
            },
            "marker": {
             "line": {
              "color": "#E5ECF6",
              "width": 0.5
             },
             "pattern": {
              "fillmode": "overlay",
              "size": 10,
              "solidity": 0.2
             }
            },
            "type": "bar"
           }
          ],
          "barpolar": [
           {
            "marker": {
             "line": {
              "color": "#E5ECF6",
              "width": 0.5
             },
             "pattern": {
              "fillmode": "overlay",
              "size": 10,
              "solidity": 0.2
             }
            },
            "type": "barpolar"
           }
          ],
          "carpet": [
           {
            "aaxis": {
             "endlinecolor": "#2a3f5f",
             "gridcolor": "white",
             "linecolor": "white",
             "minorgridcolor": "white",
             "startlinecolor": "#2a3f5f"
            },
            "baxis": {
             "endlinecolor": "#2a3f5f",
             "gridcolor": "white",
             "linecolor": "white",
             "minorgridcolor": "white",
             "startlinecolor": "#2a3f5f"
            },
            "type": "carpet"
           }
          ],
          "choropleth": [
           {
            "colorbar": {
             "outlinewidth": 0,
             "ticks": ""
            },
            "type": "choropleth"
           }
          ],
          "contour": [
           {
            "colorbar": {
             "outlinewidth": 0,
             "ticks": ""
            },
            "colorscale": [
             [
              0,
              "#0d0887"
             ],
             [
              0.1111111111111111,
              "#46039f"
             ],
             [
              0.2222222222222222,
              "#7201a8"
             ],
             [
              0.3333333333333333,
              "#9c179e"
             ],
             [
              0.4444444444444444,
              "#bd3786"
             ],
             [
              0.5555555555555556,
              "#d8576b"
             ],
             [
              0.6666666666666666,
              "#ed7953"
             ],
             [
              0.7777777777777778,
              "#fb9f3a"
             ],
             [
              0.8888888888888888,
              "#fdca26"
             ],
             [
              1,
              "#f0f921"
             ]
            ],
            "type": "contour"
           }
          ],
          "contourcarpet": [
           {
            "colorbar": {
             "outlinewidth": 0,
             "ticks": ""
            },
            "type": "contourcarpet"
           }
          ],
          "heatmap": [
           {
            "colorbar": {
             "outlinewidth": 0,
             "ticks": ""
            },
            "colorscale": [
             [
              0,
              "#0d0887"
             ],
             [
              0.1111111111111111,
              "#46039f"
             ],
             [
              0.2222222222222222,
              "#7201a8"
             ],
             [
              0.3333333333333333,
              "#9c179e"
             ],
             [
              0.4444444444444444,
              "#bd3786"
             ],
             [
              0.5555555555555556,
              "#d8576b"
             ],
             [
              0.6666666666666666,
              "#ed7953"
             ],
             [
              0.7777777777777778,
              "#fb9f3a"
             ],
             [
              0.8888888888888888,
              "#fdca26"
             ],
             [
              1,
              "#f0f921"
             ]
            ],
            "type": "heatmap"
           }
          ],
          "histogram": [
           {
            "marker": {
             "pattern": {
              "fillmode": "overlay",
              "size": 10,
              "solidity": 0.2
             }
            },
            "type": "histogram"
           }
          ],
          "histogram2d": [
           {
            "colorbar": {
             "outlinewidth": 0,
             "ticks": ""
            },
            "colorscale": [
             [
              0,
              "#0d0887"
             ],
             [
              0.1111111111111111,
              "#46039f"
             ],
             [
              0.2222222222222222,
              "#7201a8"
             ],
             [
              0.3333333333333333,
              "#9c179e"
             ],
             [
              0.4444444444444444,
              "#bd3786"
             ],
             [
              0.5555555555555556,
              "#d8576b"
             ],
             [
              0.6666666666666666,
              "#ed7953"
             ],
             [
              0.7777777777777778,
              "#fb9f3a"
             ],
             [
              0.8888888888888888,
              "#fdca26"
             ],
             [
              1,
              "#f0f921"
             ]
            ],
            "type": "histogram2d"
           }
          ],
          "histogram2dcontour": [
           {
            "colorbar": {
             "outlinewidth": 0,
             "ticks": ""
            },
            "colorscale": [
             [
              0,
              "#0d0887"
             ],
             [
              0.1111111111111111,
              "#46039f"
             ],
             [
              0.2222222222222222,
              "#7201a8"
             ],
             [
              0.3333333333333333,
              "#9c179e"
             ],
             [
              0.4444444444444444,
              "#bd3786"
             ],
             [
              0.5555555555555556,
              "#d8576b"
             ],
             [
              0.6666666666666666,
              "#ed7953"
             ],
             [
              0.7777777777777778,
              "#fb9f3a"
             ],
             [
              0.8888888888888888,
              "#fdca26"
             ],
             [
              1,
              "#f0f921"
             ]
            ],
            "type": "histogram2dcontour"
           }
          ],
          "mesh3d": [
           {
            "colorbar": {
             "outlinewidth": 0,
             "ticks": ""
            },
            "type": "mesh3d"
           }
          ],
          "parcoords": [
           {
            "line": {
             "colorbar": {
              "outlinewidth": 0,
              "ticks": ""
             }
            },
            "type": "parcoords"
           }
          ],
          "pie": [
           {
            "automargin": true,
            "type": "pie"
           }
          ],
          "scatter": [
           {
            "fillpattern": {
             "fillmode": "overlay",
             "size": 10,
             "solidity": 0.2
            },
            "type": "scatter"
           }
          ],
          "scatter3d": [
           {
            "line": {
             "colorbar": {
              "outlinewidth": 0,
              "ticks": ""
             }
            },
            "marker": {
             "colorbar": {
              "outlinewidth": 0,
              "ticks": ""
             }
            },
            "type": "scatter3d"
           }
          ],
          "scattercarpet": [
           {
            "marker": {
             "colorbar": {
              "outlinewidth": 0,
              "ticks": ""
             }
            },
            "type": "scattercarpet"
           }
          ],
          "scattergeo": [
           {
            "marker": {
             "colorbar": {
              "outlinewidth": 0,
              "ticks": ""
             }
            },
            "type": "scattergeo"
           }
          ],
          "scattergl": [
           {
            "marker": {
             "colorbar": {
              "outlinewidth": 0,
              "ticks": ""
             }
            },
            "type": "scattergl"
           }
          ],
          "scattermap": [
           {
            "marker": {
             "colorbar": {
              "outlinewidth": 0,
              "ticks": ""
             }
            },
            "type": "scattermap"
           }
          ],
          "scattermapbox": [
           {
            "marker": {
             "colorbar": {
              "outlinewidth": 0,
              "ticks": ""
             }
            },
            "type": "scattermapbox"
           }
          ],
          "scatterpolar": [
           {
            "marker": {
             "colorbar": {
              "outlinewidth": 0,
              "ticks": ""
             }
            },
            "type": "scatterpolar"
           }
          ],
          "scatterpolargl": [
           {
            "marker": {
             "colorbar": {
              "outlinewidth": 0,
              "ticks": ""
             }
            },
            "type": "scatterpolargl"
           }
          ],
          "scatterternary": [
           {
            "marker": {
             "colorbar": {
              "outlinewidth": 0,
              "ticks": ""
             }
            },
            "type": "scatterternary"
           }
          ],
          "surface": [
           {
            "colorbar": {
             "outlinewidth": 0,
             "ticks": ""
            },
            "colorscale": [
             [
              0,
              "#0d0887"
             ],
             [
              0.1111111111111111,
              "#46039f"
             ],
             [
              0.2222222222222222,
              "#7201a8"
             ],
             [
              0.3333333333333333,
              "#9c179e"
             ],
             [
              0.4444444444444444,
              "#bd3786"
             ],
             [
              0.5555555555555556,
              "#d8576b"
             ],
             [
              0.6666666666666666,
              "#ed7953"
             ],
             [
              0.7777777777777778,
              "#fb9f3a"
             ],
             [
              0.8888888888888888,
              "#fdca26"
             ],
             [
              1,
              "#f0f921"
             ]
            ],
            "type": "surface"
           }
          ],
          "table": [
           {
            "cells": {
             "fill": {
              "color": "#EBF0F8"
             },
             "line": {
              "color": "white"
             }
            },
            "header": {
             "fill": {
              "color": "#C8D4E3"
             },
             "line": {
              "color": "white"
             }
            },
            "type": "table"
           }
          ]
         },
         "layout": {
          "annotationdefaults": {
           "arrowcolor": "#2a3f5f",
           "arrowhead": 0,
           "arrowwidth": 1
          },
          "autotypenumbers": "strict",
          "coloraxis": {
           "colorbar": {
            "outlinewidth": 0,
            "ticks": ""
           }
          },
          "colorscale": {
           "diverging": [
            [
             0,
             "#8e0152"
            ],
            [
             0.1,
             "#c51b7d"
            ],
            [
             0.2,
             "#de77ae"
            ],
            [
             0.3,
             "#f1b6da"
            ],
            [
             0.4,
             "#fde0ef"
            ],
            [
             0.5,
             "#f7f7f7"
            ],
            [
             0.6,
             "#e6f5d0"
            ],
            [
             0.7,
             "#b8e186"
            ],
            [
             0.8,
             "#7fbc41"
            ],
            [
             0.9,
             "#4d9221"
            ],
            [
             1,
             "#276419"
            ]
           ],
           "sequential": [
            [
             0,
             "#0d0887"
            ],
            [
             0.1111111111111111,
             "#46039f"
            ],
            [
             0.2222222222222222,
             "#7201a8"
            ],
            [
             0.3333333333333333,
             "#9c179e"
            ],
            [
             0.4444444444444444,
             "#bd3786"
            ],
            [
             0.5555555555555556,
             "#d8576b"
            ],
            [
             0.6666666666666666,
             "#ed7953"
            ],
            [
             0.7777777777777778,
             "#fb9f3a"
            ],
            [
             0.8888888888888888,
             "#fdca26"
            ],
            [
             1,
             "#f0f921"
            ]
           ],
           "sequentialminus": [
            [
             0,
             "#0d0887"
            ],
            [
             0.1111111111111111,
             "#46039f"
            ],
            [
             0.2222222222222222,
             "#7201a8"
            ],
            [
             0.3333333333333333,
             "#9c179e"
            ],
            [
             0.4444444444444444,
             "#bd3786"
            ],
            [
             0.5555555555555556,
             "#d8576b"
            ],
            [
             0.6666666666666666,
             "#ed7953"
            ],
            [
             0.7777777777777778,
             "#fb9f3a"
            ],
            [
             0.8888888888888888,
             "#fdca26"
            ],
            [
             1,
             "#f0f921"
            ]
           ]
          },
          "colorway": [
           "#636efa",
           "#EF553B",
           "#00cc96",
           "#ab63fa",
           "#FFA15A",
           "#19d3f3",
           "#FF6692",
           "#B6E880",
           "#FF97FF",
           "#FECB52"
          ],
          "font": {
           "color": "#2a3f5f"
          },
          "geo": {
           "bgcolor": "white",
           "lakecolor": "white",
           "landcolor": "#E5ECF6",
           "showlakes": true,
           "showland": true,
           "subunitcolor": "white"
          },
          "hoverlabel": {
           "align": "left"
          },
          "hovermode": "closest",
          "mapbox": {
           "style": "light"
          },
          "paper_bgcolor": "white",
          "plot_bgcolor": "#E5ECF6",
          "polar": {
           "angularaxis": {
            "gridcolor": "white",
            "linecolor": "white",
            "ticks": ""
           },
           "bgcolor": "#E5ECF6",
           "radialaxis": {
            "gridcolor": "white",
            "linecolor": "white",
            "ticks": ""
           }
          },
          "scene": {
           "xaxis": {
            "backgroundcolor": "#E5ECF6",
            "gridcolor": "white",
            "gridwidth": 2,
            "linecolor": "white",
            "showbackground": true,
            "ticks": "",
            "zerolinecolor": "white"
           },
           "yaxis": {
            "backgroundcolor": "#E5ECF6",
            "gridcolor": "white",
            "gridwidth": 2,
            "linecolor": "white",
            "showbackground": true,
            "ticks": "",
            "zerolinecolor": "white"
           },
           "zaxis": {
            "backgroundcolor": "#E5ECF6",
            "gridcolor": "white",
            "gridwidth": 2,
            "linecolor": "white",
            "showbackground": true,
            "ticks": "",
            "zerolinecolor": "white"
           }
          },
          "shapedefaults": {
           "line": {
            "color": "#2a3f5f"
           }
          },
          "ternary": {
           "aaxis": {
            "gridcolor": "white",
            "linecolor": "white",
            "ticks": ""
           },
           "baxis": {
            "gridcolor": "white",
            "linecolor": "white",
            "ticks": ""
           },
           "bgcolor": "#E5ECF6",
           "caxis": {
            "gridcolor": "white",
            "linecolor": "white",
            "ticks": ""
           }
          },
          "title": {
           "x": 0.05
          },
          "xaxis": {
           "automargin": true,
           "gridcolor": "white",
           "linecolor": "white",
           "ticks": "",
           "title": {
            "standoff": 15
           },
           "zerolinecolor": "white",
           "zerolinewidth": 2
          },
          "yaxis": {
           "automargin": true,
           "gridcolor": "white",
           "linecolor": "white",
           "ticks": "",
           "title": {
            "standoff": 15
           },
           "zerolinecolor": "white",
           "zerolinewidth": 2
          }
         }
        },
        "title": {
         "text": "Parallel Coordinate Plot"
        }
       }
      }
     },
     "metadata": {},
     "output_type": "display_data"
    }
   ],
   "source": [
    "vis.plot_parallel_coordinate(study_grad)"
   ]
  },
  {
   "cell_type": "code",
   "execution_count": 40,
   "id": "29554614",
   "metadata": {},
   "outputs": [
    {
     "data": {
      "application/vnd.plotly.v1+json": {
       "config": {
        "plotlyServerURL": "https://plot.ly"
       },
       "data": [
        {
         "marker": {
          "color": [
           0,
           1,
           2,
           3,
           4,
           5,
           6,
           7,
           8,
           9,
           10,
           11,
           12,
           13,
           14,
           15,
           16,
           17,
           18,
           19,
           20,
           21,
           22,
           23,
           24,
           25,
           26,
           27,
           28,
           29,
           30,
           31,
           32,
           33,
           34,
           35,
           36,
           37,
           38,
           39,
           40,
           41,
           42,
           43,
           44,
           45,
           46,
           47,
           48,
           49
          ],
          "colorbar": {
           "title": {
            "text": "Trial"
           },
           "x": 1,
           "xpad": 40
          },
          "colorscale": [
           [
            0,
            "rgb(247,251,255)"
           ],
           [
            0.125,
            "rgb(222,235,247)"
           ],
           [
            0.25,
            "rgb(198,219,239)"
           ],
           [
            0.375,
            "rgb(158,202,225)"
           ],
           [
            0.5,
            "rgb(107,174,214)"
           ],
           [
            0.625,
            "rgb(66,146,198)"
           ],
           [
            0.75,
            "rgb(33,113,181)"
           ],
           [
            0.875,
            "rgb(8,81,156)"
           ],
           [
            1,
            "rgb(8,48,107)"
           ]
          ],
          "line": {
           "color": "Grey",
           "width": 0.5
          },
          "showscale": true
         },
         "mode": "markers",
         "name": "Feasible Trial",
         "showlegend": false,
         "type": "scatter",
         "x": [
          0.9008570691164702,
          0.8686570058886035,
          0.872210781047073,
          0.8536886947354533,
          0.922821634861186,
          0.8726495775197938,
          0.9055200811599462,
          0.8584139964995049,
          0.87372490874968,
          0.9131138625997263,
          0.9443509844134305,
          0.9355026622845743,
          0.9335765689204073,
          0.9237283448181403,
          0.9498259206636188,
          0.9261645694344912,
          0.8902281014012696,
          0.8895919085730313,
          0.8872958511094311,
          0.8888273108006807,
          0.8866935469443263,
          0.886114443542677,
          0.8862584967430945,
          0.880938284048763,
          0.8967882732786285,
          0.8965148276777934,
          0.9119683564071664,
          0.8628132307256866,
          0.8795410418567741,
          0.9069218933780425,
          0.8783315554985095,
          0.8806581213694321,
          0.8940748881989248,
          0.9003203068864667,
          0.8664924737672144,
          0.8782646376134746,
          0.8844084064256925,
          0.8692306396609927,
          0.8515600502759436,
          0.9050804599615573,
          0.891493703986859,
          0.8813630695877896,
          0.8745926114347798,
          0.8619868894199267,
          0.8828723197453999,
          0.8763063426723805,
          0.8942866584775729,
          0.8710666461352561,
          0.8997470064041976,
          0.8566760300529501
         ],
         "xaxis": "x",
         "y": [
          1.6206408671335133,
          1.6252330109327642,
          1.7392028199912275,
          1.845015311833657,
          1.5474255782829527,
          1.715748424366728,
          1.6726824353323013,
          1.5575728952598218,
          1.6674098756590332,
          1.7175720392187652,
          1.589107953915801,
          1.5497361320370147,
          1.5622548580376323,
          1.5849455824683525,
          1.5959574787529776,
          1.5558201060754364,
          1.5319837694861163,
          1.513255479469843,
          1.514115568077687,
          1.5695336127326756,
          1.564416327059567,
          1.5280442994973948,
          1.5162222957598281,
          1.543858163501255,
          1.5474244821789707,
          1.5713806099840537,
          1.6300458623514271,
          1.5305988050164125,
          1.520555071013359,
          1.6137095090346238,
          1.5735190928612526,
          1.5232525589011885,
          1.5374091902463427,
          1.531444212501317,
          1.6190923047510075,
          1.564168163966254,
          1.7801413683524914,
          1.6308950298738485,
          1.5498116105905515,
          1.6336917588792903,
          1.5926601235137015,
          1.5112405279516987,
          1.5242399918247573,
          1.9298548544076737,
          1.5245508467220854,
          1.5449981749547308,
          1.600751163394266,
          1.6026328659227154,
          1.5584507602678204,
          1.5738517669140317
         ],
         "yaxis": "y"
        },
        {
         "marker": {
          "color": [
           0,
           1,
           2,
           3,
           4,
           5,
           6,
           7,
           8,
           9,
           10,
           11,
           12,
           13,
           14,
           15,
           16,
           17,
           18,
           19,
           20,
           21,
           22,
           23,
           24,
           25,
           26,
           27,
           28,
           29,
           30,
           31,
           32,
           33,
           34,
           35,
           36,
           37,
           38,
           39,
           40,
           41,
           42,
           43,
           44,
           45,
           46,
           47,
           48,
           49
          ],
          "colorbar": {
           "title": {
            "text": "Trial"
           },
           "x": 1,
           "xpad": 40
          },
          "colorscale": [
           [
            0,
            "rgb(247,251,255)"
           ],
           [
            0.125,
            "rgb(222,235,247)"
           ],
           [
            0.25,
            "rgb(198,219,239)"
           ],
           [
            0.375,
            "rgb(158,202,225)"
           ],
           [
            0.5,
            "rgb(107,174,214)"
           ],
           [
            0.625,
            "rgb(66,146,198)"
           ],
           [
            0.75,
            "rgb(33,113,181)"
           ],
           [
            0.875,
            "rgb(8,81,156)"
           ],
           [
            1,
            "rgb(8,48,107)"
           ]
          ],
          "line": {
           "color": "Grey",
           "width": 0.5
          },
          "showscale": false
         },
         "mode": "markers",
         "name": "Feasible Trial",
         "showlegend": false,
         "type": "scatter",
         "x": [
          0.23062766409890026,
          0.1290110476803326,
          0.24415764499757814,
          0.28344381413463055,
          0.02492883786249691,
          0.19372361612065947,
          0.21037194404971513,
          0.03699980266371077,
          0.18586442730128108,
          0.19839354072369225,
          0.024445413027925578,
          0.01337387076666794,
          0.08420579413668827,
          0.07208608555349522,
          0.11393250935233099,
          0.021608377264407504,
          0.06948491604486835,
          0.06805568297993364,
          0.06832474717214677,
          0.15381687280548678,
          0.1061111267826175,
          0.06679621012923327,
          0.055029460857840586,
          0.05140769869064416,
          0.09035703682858134,
          0.13932380285849852,
          0.1042099001467637,
          0.0487500136144375,
          0.050165052121997636,
          0.12440171607233522,
          0.0891041906808796,
          0.05078675278513303,
          0.060046754871899685,
          0.041839027238452245,
          0.16847086502790712,
          0.08637216460445696,
          0.28882886449296086,
          0.24572401428262264,
          0.03655891696000646,
          0.0772501272550056,
          0.13979172404702703,
          0.05244774965020099,
          0.03390883098065394,
          0.010202484052325059,
          0.06070961244975346,
          0.02777574627250548,
          0.05530392458437131,
          0.10010760929330775,
          0.0762695506999601,
          0.11747198452366821
         ],
         "xaxis": "x2",
         "y": [
          1.6206408671335133,
          1.6252330109327642,
          1.7392028199912275,
          1.845015311833657,
          1.5474255782829527,
          1.715748424366728,
          1.6726824353323013,
          1.5575728952598218,
          1.6674098756590332,
          1.7175720392187652,
          1.589107953915801,
          1.5497361320370147,
          1.5622548580376323,
          1.5849455824683525,
          1.5959574787529776,
          1.5558201060754364,
          1.5319837694861163,
          1.513255479469843,
          1.514115568077687,
          1.5695336127326756,
          1.564416327059567,
          1.5280442994973948,
          1.5162222957598281,
          1.543858163501255,
          1.5474244821789707,
          1.5713806099840537,
          1.6300458623514271,
          1.5305988050164125,
          1.520555071013359,
          1.6137095090346238,
          1.5735190928612526,
          1.5232525589011885,
          1.5374091902463427,
          1.531444212501317,
          1.6190923047510075,
          1.564168163966254,
          1.7801413683524914,
          1.6308950298738485,
          1.5498116105905515,
          1.6336917588792903,
          1.5926601235137015,
          1.5112405279516987,
          1.5242399918247573,
          1.9298548544076737,
          1.5245508467220854,
          1.5449981749547308,
          1.600751163394266,
          1.6026328659227154,
          1.5584507602678204,
          1.5738517669140317
         ],
         "yaxis": "y2"
        },
        {
         "marker": {
          "color": [
           0,
           1,
           2,
           3,
           4,
           5,
           6,
           7,
           8,
           9,
           10,
           11,
           12,
           13,
           14,
           15,
           16,
           17,
           18,
           19,
           20,
           21,
           22,
           23,
           24,
           25,
           26,
           27,
           28,
           29,
           30,
           31,
           32,
           33,
           34,
           35,
           36,
           37,
           38,
           39,
           40,
           41,
           42,
           43,
           44,
           45,
           46,
           47,
           48,
           49
          ],
          "colorbar": {
           "title": {
            "text": "Trial"
           },
           "x": 1,
           "xpad": 40
          },
          "colorscale": [
           [
            0,
            "rgb(247,251,255)"
           ],
           [
            0.125,
            "rgb(222,235,247)"
           ],
           [
            0.25,
            "rgb(198,219,239)"
           ],
           [
            0.375,
            "rgb(158,202,225)"
           ],
           [
            0.5,
            "rgb(107,174,214)"
           ],
           [
            0.625,
            "rgb(66,146,198)"
           ],
           [
            0.75,
            "rgb(33,113,181)"
           ],
           [
            0.875,
            "rgb(8,81,156)"
           ],
           [
            1,
            "rgb(8,48,107)"
           ]
          ],
          "line": {
           "color": "Grey",
           "width": 0.5
          },
          "showscale": false
         },
         "mode": "markers",
         "name": "Feasible Trial",
         "showlegend": false,
         "type": "scatter",
         "x": [
          "huber",
          "squared_error",
          "squared_error",
          "huber",
          "squared_error",
          "huber",
          "squared_error",
          "squared_error",
          "huber",
          "huber",
          "squared_error",
          "squared_error",
          "squared_error",
          "squared_error",
          "squared_error",
          "squared_error",
          "squared_error",
          "squared_error",
          "squared_error",
          "squared_error",
          "squared_error",
          "squared_error",
          "squared_error",
          "squared_error",
          "squared_error",
          "squared_error",
          "huber",
          "squared_error",
          "squared_error",
          "huber",
          "squared_error",
          "squared_error",
          "squared_error",
          "squared_error",
          "squared_error",
          "squared_error",
          "squared_error",
          "huber",
          "squared_error",
          "squared_error",
          "huber",
          "squared_error",
          "squared_error",
          "squared_error",
          "squared_error",
          "squared_error",
          "squared_error",
          "squared_error",
          "huber",
          "squared_error"
         ],
         "xaxis": "x3",
         "y": [
          1.6206408671335133,
          1.6252330109327642,
          1.7392028199912275,
          1.845015311833657,
          1.5474255782829527,
          1.715748424366728,
          1.6726824353323013,
          1.5575728952598218,
          1.6674098756590332,
          1.7175720392187652,
          1.589107953915801,
          1.5497361320370147,
          1.5622548580376323,
          1.5849455824683525,
          1.5959574787529776,
          1.5558201060754364,
          1.5319837694861163,
          1.513255479469843,
          1.514115568077687,
          1.5695336127326756,
          1.564416327059567,
          1.5280442994973948,
          1.5162222957598281,
          1.543858163501255,
          1.5474244821789707,
          1.5713806099840537,
          1.6300458623514271,
          1.5305988050164125,
          1.520555071013359,
          1.6137095090346238,
          1.5735190928612526,
          1.5232525589011885,
          1.5374091902463427,
          1.531444212501317,
          1.6190923047510075,
          1.564168163966254,
          1.7801413683524914,
          1.6308950298738485,
          1.5498116105905515,
          1.6336917588792903,
          1.5926601235137015,
          1.5112405279516987,
          1.5242399918247573,
          1.9298548544076737,
          1.5245508467220854,
          1.5449981749547308,
          1.600751163394266,
          1.6026328659227154,
          1.5584507602678204,
          1.5738517669140317
         ],
         "yaxis": "y3"
        },
        {
         "marker": {
          "color": [
           0,
           1,
           2,
           3,
           4,
           5,
           6,
           7,
           8,
           9,
           10,
           11,
           12,
           13,
           14,
           15,
           16,
           17,
           18,
           19,
           20,
           21,
           22,
           23,
           24,
           25,
           26,
           27,
           28,
           29,
           30,
           31,
           32,
           33,
           34,
           35,
           36,
           37,
           38,
           39,
           40,
           41,
           42,
           43,
           44,
           45,
           46,
           47,
           48,
           49
          ],
          "colorbar": {
           "title": {
            "text": "Trial"
           },
           "x": 1,
           "xpad": 40
          },
          "colorscale": [
           [
            0,
            "rgb(247,251,255)"
           ],
           [
            0.125,
            "rgb(222,235,247)"
           ],
           [
            0.25,
            "rgb(198,219,239)"
           ],
           [
            0.375,
            "rgb(158,202,225)"
           ],
           [
            0.5,
            "rgb(107,174,214)"
           ],
           [
            0.625,
            "rgb(66,146,198)"
           ],
           [
            0.75,
            "rgb(33,113,181)"
           ],
           [
            0.875,
            "rgb(8,81,156)"
           ],
           [
            1,
            "rgb(8,48,107)"
           ]
          ],
          "line": {
           "color": "Grey",
           "width": 0.5
          },
          "showscale": false
         },
         "mode": "markers",
         "name": "Feasible Trial",
         "showlegend": false,
         "type": "scatter",
         "x": [
          4,
          2,
          4,
          7,
          4,
          3,
          2,
          4,
          2,
          4,
          6,
          5,
          6,
          5,
          5,
          6,
          3,
          3,
          3,
          3,
          3,
          3,
          3,
          2,
          3,
          2,
          3,
          3,
          4,
          2,
          3,
          4,
          4,
          4,
          3,
          5,
          4,
          2,
          4,
          7,
          3,
          4,
          4,
          4,
          3,
          5,
          4,
          2,
          4,
          3
         ],
         "xaxis": "x4",
         "y": [
          1.6206408671335133,
          1.6252330109327642,
          1.7392028199912275,
          1.845015311833657,
          1.5474255782829527,
          1.715748424366728,
          1.6726824353323013,
          1.5575728952598218,
          1.6674098756590332,
          1.7175720392187652,
          1.589107953915801,
          1.5497361320370147,
          1.5622548580376323,
          1.5849455824683525,
          1.5959574787529776,
          1.5558201060754364,
          1.5319837694861163,
          1.513255479469843,
          1.514115568077687,
          1.5695336127326756,
          1.564416327059567,
          1.5280442994973948,
          1.5162222957598281,
          1.543858163501255,
          1.5474244821789707,
          1.5713806099840537,
          1.6300458623514271,
          1.5305988050164125,
          1.520555071013359,
          1.6137095090346238,
          1.5735190928612526,
          1.5232525589011885,
          1.5374091902463427,
          1.531444212501317,
          1.6190923047510075,
          1.564168163966254,
          1.7801413683524914,
          1.6308950298738485,
          1.5498116105905515,
          1.6336917588792903,
          1.5926601235137015,
          1.5112405279516987,
          1.5242399918247573,
          1.9298548544076737,
          1.5245508467220854,
          1.5449981749547308,
          1.600751163394266,
          1.6026328659227154,
          1.5584507602678204,
          1.5738517669140317
         ],
         "yaxis": "y4"
        },
        {
         "marker": {
          "color": [
           0,
           1,
           2,
           3,
           4,
           5,
           6,
           7,
           8,
           9,
           10,
           11,
           12,
           13,
           14,
           15,
           16,
           17,
           18,
           19,
           20,
           21,
           22,
           23,
           24,
           25,
           26,
           27,
           28,
           29,
           30,
           31,
           32,
           33,
           34,
           35,
           36,
           37,
           38,
           39,
           40,
           41,
           42,
           43,
           44,
           45,
           46,
           47,
           48,
           49
          ],
          "colorbar": {
           "title": {
            "text": "Trial"
           },
           "x": 1,
           "xpad": 40
          },
          "colorscale": [
           [
            0,
            "rgb(247,251,255)"
           ],
           [
            0.125,
            "rgb(222,235,247)"
           ],
           [
            0.25,
            "rgb(198,219,239)"
           ],
           [
            0.375,
            "rgb(158,202,225)"
           ],
           [
            0.5,
            "rgb(107,174,214)"
           ],
           [
            0.625,
            "rgb(66,146,198)"
           ],
           [
            0.75,
            "rgb(33,113,181)"
           ],
           [
            0.875,
            "rgb(8,81,156)"
           ],
           [
            1,
            "rgb(8,48,107)"
           ]
          ],
          "line": {
           "color": "Grey",
           "width": 0.5
          },
          "showscale": false
         },
         "mode": "markers",
         "name": "Feasible Trial",
         "showlegend": false,
         "type": "scatter",
         "x": [
          null,
          null,
          "sqrt",
          "log2",
          null,
          "log2",
          "sqrt",
          "sqrt",
          "sqrt",
          "log2",
          null,
          "sqrt",
          null,
          "sqrt",
          null,
          "sqrt",
          null,
          null,
          null,
          null,
          null,
          null,
          null,
          null,
          null,
          null,
          "log2",
          null,
          null,
          null,
          null,
          null,
          null,
          null,
          null,
          null,
          "log2",
          null,
          null,
          "log2",
          null,
          null,
          null,
          null,
          null,
          null,
          "log2",
          "sqrt",
          null,
          null
         ],
         "xaxis": "x5",
         "y": [
          1.6206408671335133,
          1.6252330109327642,
          1.7392028199912275,
          1.845015311833657,
          1.5474255782829527,
          1.715748424366728,
          1.6726824353323013,
          1.5575728952598218,
          1.6674098756590332,
          1.7175720392187652,
          1.589107953915801,
          1.5497361320370147,
          1.5622548580376323,
          1.5849455824683525,
          1.5959574787529776,
          1.5558201060754364,
          1.5319837694861163,
          1.513255479469843,
          1.514115568077687,
          1.5695336127326756,
          1.564416327059567,
          1.5280442994973948,
          1.5162222957598281,
          1.543858163501255,
          1.5474244821789707,
          1.5713806099840537,
          1.6300458623514271,
          1.5305988050164125,
          1.520555071013359,
          1.6137095090346238,
          1.5735190928612526,
          1.5232525589011885,
          1.5374091902463427,
          1.531444212501317,
          1.6190923047510075,
          1.564168163966254,
          1.7801413683524914,
          1.6308950298738485,
          1.5498116105905515,
          1.6336917588792903,
          1.5926601235137015,
          1.5112405279516987,
          1.5242399918247573,
          1.9298548544076737,
          1.5245508467220854,
          1.5449981749547308,
          1.600751163394266,
          1.6026328659227154,
          1.5584507602678204,
          1.5738517669140317
         ],
         "yaxis": "y5"
        },
        {
         "marker": {
          "color": [
           0,
           1,
           2,
           3,
           4,
           5,
           6,
           7,
           8,
           9,
           10,
           11,
           12,
           13,
           14,
           15,
           16,
           17,
           18,
           19,
           20,
           21,
           22,
           23,
           24,
           25,
           26,
           27,
           28,
           29,
           30,
           31,
           32,
           33,
           34,
           35,
           36,
           37,
           38,
           39,
           40,
           41,
           42,
           43,
           44,
           45,
           46,
           47,
           48,
           49
          ],
          "colorbar": {
           "title": {
            "text": "Trial"
           },
           "x": 1,
           "xpad": 40
          },
          "colorscale": [
           [
            0,
            "rgb(247,251,255)"
           ],
           [
            0.125,
            "rgb(222,235,247)"
           ],
           [
            0.25,
            "rgb(198,219,239)"
           ],
           [
            0.375,
            "rgb(158,202,225)"
           ],
           [
            0.5,
            "rgb(107,174,214)"
           ],
           [
            0.625,
            "rgb(66,146,198)"
           ],
           [
            0.75,
            "rgb(33,113,181)"
           ],
           [
            0.875,
            "rgb(8,81,156)"
           ],
           [
            1,
            "rgb(8,48,107)"
           ]
          ],
          "line": {
           "color": "Grey",
           "width": 0.5
          },
          "showscale": false
         },
         "mode": "markers",
         "name": "Feasible Trial",
         "showlegend": false,
         "type": "scatter",
         "x": [
          191,
          412,
          238,
          178,
          157,
          280,
          418,
          339,
          371,
          452,
          62,
          79,
          57,
          120,
          130,
          116,
          192,
          264,
          276,
          292,
          326,
          225,
          238,
          246,
          315,
          500,
          262,
          217,
          298,
          345,
          193,
          284,
          369,
          305,
          268,
          219,
          249,
          161,
          358,
          389,
          298,
          277,
          271,
          243,
          325,
          213,
          257,
          284,
          232,
          199
         ],
         "xaxis": "x6",
         "y": [
          1.6206408671335133,
          1.6252330109327642,
          1.7392028199912275,
          1.845015311833657,
          1.5474255782829527,
          1.715748424366728,
          1.6726824353323013,
          1.5575728952598218,
          1.6674098756590332,
          1.7175720392187652,
          1.589107953915801,
          1.5497361320370147,
          1.5622548580376323,
          1.5849455824683525,
          1.5959574787529776,
          1.5558201060754364,
          1.5319837694861163,
          1.513255479469843,
          1.514115568077687,
          1.5695336127326756,
          1.564416327059567,
          1.5280442994973948,
          1.5162222957598281,
          1.543858163501255,
          1.5474244821789707,
          1.5713806099840537,
          1.6300458623514271,
          1.5305988050164125,
          1.520555071013359,
          1.6137095090346238,
          1.5735190928612526,
          1.5232525589011885,
          1.5374091902463427,
          1.531444212501317,
          1.6190923047510075,
          1.564168163966254,
          1.7801413683524914,
          1.6308950298738485,
          1.5498116105905515,
          1.6336917588792903,
          1.5926601235137015,
          1.5112405279516987,
          1.5242399918247573,
          1.9298548544076737,
          1.5245508467220854,
          1.5449981749547308,
          1.600751163394266,
          1.6026328659227154,
          1.5584507602678204,
          1.5738517669140317
         ],
         "yaxis": "y6"
        },
        {
         "marker": {
          "color": [
           0,
           1,
           2,
           3,
           4,
           5,
           6,
           7,
           8,
           9,
           10,
           11,
           12,
           13,
           14,
           15,
           16,
           17,
           18,
           19,
           20,
           21,
           22,
           23,
           24,
           25,
           26,
           27,
           28,
           29,
           30,
           31,
           32,
           33,
           34,
           35,
           36,
           37,
           38,
           39,
           40,
           41,
           42,
           43,
           44,
           45,
           46,
           47,
           48,
           49
          ],
          "colorbar": {
           "title": {
            "text": "Trial"
           },
           "x": 1,
           "xpad": 40
          },
          "colorscale": [
           [
            0,
            "rgb(247,251,255)"
           ],
           [
            0.125,
            "rgb(222,235,247)"
           ],
           [
            0.25,
            "rgb(198,219,239)"
           ],
           [
            0.375,
            "rgb(158,202,225)"
           ],
           [
            0.5,
            "rgb(107,174,214)"
           ],
           [
            0.625,
            "rgb(66,146,198)"
           ],
           [
            0.75,
            "rgb(33,113,181)"
           ],
           [
            0.875,
            "rgb(8,81,156)"
           ],
           [
            1,
            "rgb(8,48,107)"
           ]
          ],
          "line": {
           "color": "Grey",
           "width": 0.5
          },
          "showscale": false
         },
         "mode": "markers",
         "name": "Feasible Trial",
         "showlegend": false,
         "type": "scatter",
         "x": [
          0.005083825348819038,
          0.18593953046851464,
          0.16360295318449863,
          0.19248945898842226,
          0.19713009082212016,
          0.008155028310952784,
          0.18493872365571257,
          0.14519113577404788,
          0.10974675787331722,
          0.05304047353634509,
          0.1022339972530001,
          0.1445803401859236,
          0.12517554378314064,
          0.1559426828604917,
          0.06985911570292885,
          0.13751957356055927,
          0.16865463495245292,
          0.16842561757174063,
          0.1683549707630025,
          0.07570096430238864,
          0.11951830730787635,
          0.16965473856587815,
          0.1702488282828115,
          0.16739518861873573,
          0.12984756413416493,
          0.15212448562055406,
          0.1791857506712239,
          0.08980928246322048,
          0.03346331589000956,
          0.1997374941929841,
          0.1753493383573614,
          0.016210327507749627,
          0.036128193165877044,
          0.1563839359460319,
          0.029350568337117737,
          0.05760726659721385,
          0.18564609212855931,
          0.18563578645669626,
          0.1390560832109102,
          0.09327667871973988,
          0.11328821853750962,
          0.012811759222223912,
          0.0075426526967797974,
          0.014901162519238592,
          0.03733991882992273,
          0.0013255782864689397,
          0.024122867984655454,
          0.04801570293027635,
          0.15675624990692083,
          0.0743919106278146
         ],
         "xaxis": "x7",
         "y": [
          1.6206408671335133,
          1.6252330109327642,
          1.7392028199912275,
          1.845015311833657,
          1.5474255782829527,
          1.715748424366728,
          1.6726824353323013,
          1.5575728952598218,
          1.6674098756590332,
          1.7175720392187652,
          1.589107953915801,
          1.5497361320370147,
          1.5622548580376323,
          1.5849455824683525,
          1.5959574787529776,
          1.5558201060754364,
          1.5319837694861163,
          1.513255479469843,
          1.514115568077687,
          1.5695336127326756,
          1.564416327059567,
          1.5280442994973948,
          1.5162222957598281,
          1.543858163501255,
          1.5474244821789707,
          1.5713806099840537,
          1.6300458623514271,
          1.5305988050164125,
          1.520555071013359,
          1.6137095090346238,
          1.5735190928612526,
          1.5232525589011885,
          1.5374091902463427,
          1.531444212501317,
          1.6190923047510075,
          1.564168163966254,
          1.7801413683524914,
          1.6308950298738485,
          1.5498116105905515,
          1.6336917588792903,
          1.5926601235137015,
          1.5112405279516987,
          1.5242399918247573,
          1.9298548544076737,
          1.5245508467220854,
          1.5449981749547308,
          1.600751163394266,
          1.6026328659227154,
          1.5584507602678204,
          1.5738517669140317
         ],
         "yaxis": "y7"
        },
        {
         "marker": {
          "color": [
           0,
           1,
           2,
           3,
           4,
           5,
           6,
           7,
           8,
           9,
           10,
           11,
           12,
           13,
           14,
           15,
           16,
           17,
           18,
           19,
           20,
           21,
           22,
           23,
           24,
           25,
           26,
           27,
           28,
           29,
           30,
           31,
           32,
           33,
           34,
           35,
           36,
           37,
           38,
           39,
           40,
           41,
           42,
           43,
           44,
           45,
           46,
           47,
           48,
           49
          ],
          "colorbar": {
           "title": {
            "text": "Trial"
           },
           "x": 1,
           "xpad": 40
          },
          "colorscale": [
           [
            0,
            "rgb(247,251,255)"
           ],
           [
            0.125,
            "rgb(222,235,247)"
           ],
           [
            0.25,
            "rgb(198,219,239)"
           ],
           [
            0.375,
            "rgb(158,202,225)"
           ],
           [
            0.5,
            "rgb(107,174,214)"
           ],
           [
            0.625,
            "rgb(66,146,198)"
           ],
           [
            0.75,
            "rgb(33,113,181)"
           ],
           [
            0.875,
            "rgb(8,81,156)"
           ],
           [
            1,
            "rgb(8,48,107)"
           ]
          ],
          "line": {
           "color": "Grey",
           "width": 0.5
          },
          "showscale": false
         },
         "mode": "markers",
         "name": "Feasible Trial",
         "showlegend": false,
         "type": "scatter",
         "x": [
          3,
          2,
          2,
          2,
          1,
          2,
          2,
          2,
          1,
          1,
          5,
          4,
          5,
          4,
          4,
          4,
          3,
          3,
          3,
          3,
          3,
          3,
          3,
          3,
          4,
          3,
          3,
          4,
          3,
          4,
          3,
          3,
          3,
          2,
          3,
          2,
          2,
          3,
          2,
          4,
          2,
          3,
          3,
          3,
          3,
          2,
          3,
          4,
          3,
          2
         ],
         "xaxis": "x8",
         "y": [
          1.6206408671335133,
          1.6252330109327642,
          1.7392028199912275,
          1.845015311833657,
          1.5474255782829527,
          1.715748424366728,
          1.6726824353323013,
          1.5575728952598218,
          1.6674098756590332,
          1.7175720392187652,
          1.589107953915801,
          1.5497361320370147,
          1.5622548580376323,
          1.5849455824683525,
          1.5959574787529776,
          1.5558201060754364,
          1.5319837694861163,
          1.513255479469843,
          1.514115568077687,
          1.5695336127326756,
          1.564416327059567,
          1.5280442994973948,
          1.5162222957598281,
          1.543858163501255,
          1.5474244821789707,
          1.5713806099840537,
          1.6300458623514271,
          1.5305988050164125,
          1.520555071013359,
          1.6137095090346238,
          1.5735190928612526,
          1.5232525589011885,
          1.5374091902463427,
          1.531444212501317,
          1.6190923047510075,
          1.564168163966254,
          1.7801413683524914,
          1.6308950298738485,
          1.5498116105905515,
          1.6336917588792903,
          1.5926601235137015,
          1.5112405279516987,
          1.5242399918247573,
          1.9298548544076737,
          1.5245508467220854,
          1.5449981749547308,
          1.600751163394266,
          1.6026328659227154,
          1.5584507602678204,
          1.5738517669140317
         ],
         "yaxis": "y8"
        },
        {
         "marker": {
          "color": [
           0,
           1,
           2,
           3,
           4,
           5,
           6,
           7,
           8,
           9,
           10,
           11,
           12,
           13,
           14,
           15,
           16,
           17,
           18,
           19,
           20,
           21,
           22,
           23,
           24,
           25,
           26,
           27,
           28,
           29,
           30,
           31,
           32,
           33,
           34,
           35,
           36,
           37,
           38,
           39,
           40,
           41,
           42,
           43,
           44,
           45,
           46,
           47,
           48,
           49
          ],
          "colorbar": {
           "title": {
            "text": "Trial"
           },
           "x": 1,
           "xpad": 40
          },
          "colorscale": [
           [
            0,
            "rgb(247,251,255)"
           ],
           [
            0.125,
            "rgb(222,235,247)"
           ],
           [
            0.25,
            "rgb(198,219,239)"
           ],
           [
            0.375,
            "rgb(158,202,225)"
           ],
           [
            0.5,
            "rgb(107,174,214)"
           ],
           [
            0.625,
            "rgb(66,146,198)"
           ],
           [
            0.75,
            "rgb(33,113,181)"
           ],
           [
            0.875,
            "rgb(8,81,156)"
           ],
           [
            1,
            "rgb(8,48,107)"
           ]
          ],
          "line": {
           "color": "Grey",
           "width": 0.5
          },
          "showscale": false
         },
         "mode": "markers",
         "name": "Feasible Trial",
         "showlegend": false,
         "type": "scatter",
         "x": [
          6,
          2,
          2,
          8,
          4,
          9,
          3,
          7,
          7,
          7,
          4,
          5,
          5,
          4,
          5,
          4,
          5,
          10,
          10,
          10,
          10,
          9,
          9,
          9,
          10,
          8,
          9,
          10,
          8,
          10,
          9,
          8,
          8,
          9,
          10,
          8,
          9,
          6,
          7,
          10,
          9,
          8,
          8,
          7,
          8,
          9,
          10,
          8,
          2,
          7
         ],
         "xaxis": "x9",
         "y": [
          1.6206408671335133,
          1.6252330109327642,
          1.7392028199912275,
          1.845015311833657,
          1.5474255782829527,
          1.715748424366728,
          1.6726824353323013,
          1.5575728952598218,
          1.6674098756590332,
          1.7175720392187652,
          1.589107953915801,
          1.5497361320370147,
          1.5622548580376323,
          1.5849455824683525,
          1.5959574787529776,
          1.5558201060754364,
          1.5319837694861163,
          1.513255479469843,
          1.514115568077687,
          1.5695336127326756,
          1.564416327059567,
          1.5280442994973948,
          1.5162222957598281,
          1.543858163501255,
          1.5474244821789707,
          1.5713806099840537,
          1.6300458623514271,
          1.5305988050164125,
          1.520555071013359,
          1.6137095090346238,
          1.5735190928612526,
          1.5232525589011885,
          1.5374091902463427,
          1.531444212501317,
          1.6190923047510075,
          1.564168163966254,
          1.7801413683524914,
          1.6308950298738485,
          1.5498116105905515,
          1.6336917588792903,
          1.5926601235137015,
          1.5112405279516987,
          1.5242399918247573,
          1.9298548544076737,
          1.5245508467220854,
          1.5449981749547308,
          1.600751163394266,
          1.6026328659227154,
          1.5584507602678204,
          1.5738517669140317
         ],
         "yaxis": "y9"
        },
        {
         "marker": {
          "color": [
           0,
           1,
           2,
           3,
           4,
           5,
           6,
           7,
           8,
           9,
           10,
           11,
           12,
           13,
           14,
           15,
           16,
           17,
           18,
           19,
           20,
           21,
           22,
           23,
           24,
           25,
           26,
           27,
           28,
           29,
           30,
           31,
           32,
           33,
           34,
           35,
           36,
           37,
           38,
           39,
           40,
           41,
           42,
           43,
           44,
           45,
           46,
           47,
           48,
           49
          ],
          "colorbar": {
           "title": {
            "text": "Trial"
           },
           "x": 1,
           "xpad": 40
          },
          "colorscale": [
           [
            0,
            "rgb(247,251,255)"
           ],
           [
            0.125,
            "rgb(222,235,247)"
           ],
           [
            0.25,
            "rgb(198,219,239)"
           ],
           [
            0.375,
            "rgb(158,202,225)"
           ],
           [
            0.5,
            "rgb(107,174,214)"
           ],
           [
            0.625,
            "rgb(66,146,198)"
           ],
           [
            0.75,
            "rgb(33,113,181)"
           ],
           [
            0.875,
            "rgb(8,81,156)"
           ],
           [
            1,
            "rgb(8,48,107)"
           ]
          ],
          "line": {
           "color": "Grey",
           "width": 0.5
          },
          "showscale": false
         },
         "mode": "markers",
         "name": "Feasible Trial",
         "showlegend": false,
         "type": "scatter",
         "x": [
          605,
          780,
          907,
          391,
          351,
          582,
          448,
          908,
          108,
          865,
          212,
          335,
          314,
          250,
          484,
          694,
          377,
          122,
          124,
          129,
          184,
          257,
          271,
          101,
          184,
          286,
          168,
          456,
          202,
          664,
          509,
          232,
          140,
          209,
          290,
          410,
          159,
          248,
          101,
          346,
          998,
          213,
          197,
          145,
          284,
          226,
          400,
          554,
          317,
          137
         ],
         "xaxis": "x10",
         "y": [
          1.6206408671335133,
          1.6252330109327642,
          1.7392028199912275,
          1.845015311833657,
          1.5474255782829527,
          1.715748424366728,
          1.6726824353323013,
          1.5575728952598218,
          1.6674098756590332,
          1.7175720392187652,
          1.589107953915801,
          1.5497361320370147,
          1.5622548580376323,
          1.5849455824683525,
          1.5959574787529776,
          1.5558201060754364,
          1.5319837694861163,
          1.513255479469843,
          1.514115568077687,
          1.5695336127326756,
          1.564416327059567,
          1.5280442994973948,
          1.5162222957598281,
          1.543858163501255,
          1.5474244821789707,
          1.5713806099840537,
          1.6300458623514271,
          1.5305988050164125,
          1.520555071013359,
          1.6137095090346238,
          1.5735190928612526,
          1.5232525589011885,
          1.5374091902463427,
          1.531444212501317,
          1.6190923047510075,
          1.564168163966254,
          1.7801413683524914,
          1.6308950298738485,
          1.5498116105905515,
          1.6336917588792903,
          1.5926601235137015,
          1.5112405279516987,
          1.5242399918247573,
          1.9298548544076737,
          1.5245508467220854,
          1.5449981749547308,
          1.600751163394266,
          1.6026328659227154,
          1.5584507602678204,
          1.5738517669140317
         ],
         "yaxis": "y10"
        },
        {
         "marker": {
          "color": [
           0,
           1,
           2,
           3,
           4,
           5,
           6,
           7,
           8,
           9,
           10,
           11,
           12,
           13,
           14,
           15,
           16,
           17,
           18,
           19,
           20,
           21,
           22,
           23,
           24,
           25,
           26,
           27,
           28,
           29,
           30,
           31,
           32,
           33,
           34,
           35,
           36,
           37,
           38,
           39,
           40,
           41,
           42,
           43,
           44,
           45,
           46,
           47,
           48,
           49
          ],
          "colorbar": {
           "title": {
            "text": "Trial"
           },
           "x": 1,
           "xpad": 40
          },
          "colorscale": [
           [
            0,
            "rgb(247,251,255)"
           ],
           [
            0.125,
            "rgb(222,235,247)"
           ],
           [
            0.25,
            "rgb(198,219,239)"
           ],
           [
            0.375,
            "rgb(158,202,225)"
           ],
           [
            0.5,
            "rgb(107,174,214)"
           ],
           [
            0.625,
            "rgb(66,146,198)"
           ],
           [
            0.75,
            "rgb(33,113,181)"
           ],
           [
            0.875,
            "rgb(8,81,156)"
           ],
           [
            1,
            "rgb(8,48,107)"
           ]
          ],
          "line": {
           "color": "Grey",
           "width": 0.5
          },
          "showscale": false
         },
         "mode": "markers",
         "name": "Feasible Trial",
         "showlegend": false,
         "type": "scatter",
         "x": [
          0.9083868719818244,
          0.6915192661966489,
          0.7272013899887455,
          0.8075162486973464,
          0.9633063543866615,
          0.6361159080217633,
          0.9746919954946938,
          0.9601672228653322,
          0.6405886171464128,
          0.8630451569201374,
          0.9995899115909027,
          0.9191683961382393,
          0.894224421329017,
          0.8255007384166373,
          0.9181171691694481,
          0.7660822645523062,
          0.9423225915596489,
          0.8545593990716109,
          0.8513942956326147,
          0.8523657517524306,
          0.7859164453647545,
          0.8720444816084041,
          0.8596126465263838,
          0.8245622159787888,
          0.7577982067075679,
          0.8488270573663407,
          0.8924291904401074,
          0.8242934097818462,
          0.7837158660597497,
          0.7077689121222799,
          0.8820492591643958,
          0.7867285094057499,
          0.8432818386223194,
          0.7382502447186605,
          0.7970884068213093,
          0.6752159049896618,
          0.8161163271803477,
          0.7615139674185,
          0.9070594393584049,
          0.8395774476175148,
          0.6064603628372138,
          0.7850273411765307,
          0.8006846940062793,
          0.7301419722428539,
          0.7778339670970656,
          0.8701215962937234,
          0.8070422706006527,
          0.9297152662353937,
          0.8582381780436898,
          0.7442162198556554
         ],
         "xaxis": "x11",
         "y": [
          1.6206408671335133,
          1.6252330109327642,
          1.7392028199912275,
          1.845015311833657,
          1.5474255782829527,
          1.715748424366728,
          1.6726824353323013,
          1.5575728952598218,
          1.6674098756590332,
          1.7175720392187652,
          1.589107953915801,
          1.5497361320370147,
          1.5622548580376323,
          1.5849455824683525,
          1.5959574787529776,
          1.5558201060754364,
          1.5319837694861163,
          1.513255479469843,
          1.514115568077687,
          1.5695336127326756,
          1.564416327059567,
          1.5280442994973948,
          1.5162222957598281,
          1.543858163501255,
          1.5474244821789707,
          1.5713806099840537,
          1.6300458623514271,
          1.5305988050164125,
          1.520555071013359,
          1.6137095090346238,
          1.5735190928612526,
          1.5232525589011885,
          1.5374091902463427,
          1.531444212501317,
          1.6190923047510075,
          1.564168163966254,
          1.7801413683524914,
          1.6308950298738485,
          1.5498116105905515,
          1.6336917588792903,
          1.5926601235137015,
          1.5112405279516987,
          1.5242399918247573,
          1.9298548544076737,
          1.5245508467220854,
          1.5449981749547308,
          1.600751163394266,
          1.6026328659227154,
          1.5584507602678204,
          1.5738517669140317
         ],
         "yaxis": "y11"
        }
       ],
       "layout": {
        "template": {
         "data": {
          "bar": [
           {
            "error_x": {
             "color": "#2a3f5f"
            },
            "error_y": {
             "color": "#2a3f5f"
            },
            "marker": {
             "line": {
              "color": "#E5ECF6",
              "width": 0.5
             },
             "pattern": {
              "fillmode": "overlay",
              "size": 10,
              "solidity": 0.2
             }
            },
            "type": "bar"
           }
          ],
          "barpolar": [
           {
            "marker": {
             "line": {
              "color": "#E5ECF6",
              "width": 0.5
             },
             "pattern": {
              "fillmode": "overlay",
              "size": 10,
              "solidity": 0.2
             }
            },
            "type": "barpolar"
           }
          ],
          "carpet": [
           {
            "aaxis": {
             "endlinecolor": "#2a3f5f",
             "gridcolor": "white",
             "linecolor": "white",
             "minorgridcolor": "white",
             "startlinecolor": "#2a3f5f"
            },
            "baxis": {
             "endlinecolor": "#2a3f5f",
             "gridcolor": "white",
             "linecolor": "white",
             "minorgridcolor": "white",
             "startlinecolor": "#2a3f5f"
            },
            "type": "carpet"
           }
          ],
          "choropleth": [
           {
            "colorbar": {
             "outlinewidth": 0,
             "ticks": ""
            },
            "type": "choropleth"
           }
          ],
          "contour": [
           {
            "colorbar": {
             "outlinewidth": 0,
             "ticks": ""
            },
            "colorscale": [
             [
              0,
              "#0d0887"
             ],
             [
              0.1111111111111111,
              "#46039f"
             ],
             [
              0.2222222222222222,
              "#7201a8"
             ],
             [
              0.3333333333333333,
              "#9c179e"
             ],
             [
              0.4444444444444444,
              "#bd3786"
             ],
             [
              0.5555555555555556,
              "#d8576b"
             ],
             [
              0.6666666666666666,
              "#ed7953"
             ],
             [
              0.7777777777777778,
              "#fb9f3a"
             ],
             [
              0.8888888888888888,
              "#fdca26"
             ],
             [
              1,
              "#f0f921"
             ]
            ],
            "type": "contour"
           }
          ],
          "contourcarpet": [
           {
            "colorbar": {
             "outlinewidth": 0,
             "ticks": ""
            },
            "type": "contourcarpet"
           }
          ],
          "heatmap": [
           {
            "colorbar": {
             "outlinewidth": 0,
             "ticks": ""
            },
            "colorscale": [
             [
              0,
              "#0d0887"
             ],
             [
              0.1111111111111111,
              "#46039f"
             ],
             [
              0.2222222222222222,
              "#7201a8"
             ],
             [
              0.3333333333333333,
              "#9c179e"
             ],
             [
              0.4444444444444444,
              "#bd3786"
             ],
             [
              0.5555555555555556,
              "#d8576b"
             ],
             [
              0.6666666666666666,
              "#ed7953"
             ],
             [
              0.7777777777777778,
              "#fb9f3a"
             ],
             [
              0.8888888888888888,
              "#fdca26"
             ],
             [
              1,
              "#f0f921"
             ]
            ],
            "type": "heatmap"
           }
          ],
          "histogram": [
           {
            "marker": {
             "pattern": {
              "fillmode": "overlay",
              "size": 10,
              "solidity": 0.2
             }
            },
            "type": "histogram"
           }
          ],
          "histogram2d": [
           {
            "colorbar": {
             "outlinewidth": 0,
             "ticks": ""
            },
            "colorscale": [
             [
              0,
              "#0d0887"
             ],
             [
              0.1111111111111111,
              "#46039f"
             ],
             [
              0.2222222222222222,
              "#7201a8"
             ],
             [
              0.3333333333333333,
              "#9c179e"
             ],
             [
              0.4444444444444444,
              "#bd3786"
             ],
             [
              0.5555555555555556,
              "#d8576b"
             ],
             [
              0.6666666666666666,
              "#ed7953"
             ],
             [
              0.7777777777777778,
              "#fb9f3a"
             ],
             [
              0.8888888888888888,
              "#fdca26"
             ],
             [
              1,
              "#f0f921"
             ]
            ],
            "type": "histogram2d"
           }
          ],
          "histogram2dcontour": [
           {
            "colorbar": {
             "outlinewidth": 0,
             "ticks": ""
            },
            "colorscale": [
             [
              0,
              "#0d0887"
             ],
             [
              0.1111111111111111,
              "#46039f"
             ],
             [
              0.2222222222222222,
              "#7201a8"
             ],
             [
              0.3333333333333333,
              "#9c179e"
             ],
             [
              0.4444444444444444,
              "#bd3786"
             ],
             [
              0.5555555555555556,
              "#d8576b"
             ],
             [
              0.6666666666666666,
              "#ed7953"
             ],
             [
              0.7777777777777778,
              "#fb9f3a"
             ],
             [
              0.8888888888888888,
              "#fdca26"
             ],
             [
              1,
              "#f0f921"
             ]
            ],
            "type": "histogram2dcontour"
           }
          ],
          "mesh3d": [
           {
            "colorbar": {
             "outlinewidth": 0,
             "ticks": ""
            },
            "type": "mesh3d"
           }
          ],
          "parcoords": [
           {
            "line": {
             "colorbar": {
              "outlinewidth": 0,
              "ticks": ""
             }
            },
            "type": "parcoords"
           }
          ],
          "pie": [
           {
            "automargin": true,
            "type": "pie"
           }
          ],
          "scatter": [
           {
            "fillpattern": {
             "fillmode": "overlay",
             "size": 10,
             "solidity": 0.2
            },
            "type": "scatter"
           }
          ],
          "scatter3d": [
           {
            "line": {
             "colorbar": {
              "outlinewidth": 0,
              "ticks": ""
             }
            },
            "marker": {
             "colorbar": {
              "outlinewidth": 0,
              "ticks": ""
             }
            },
            "type": "scatter3d"
           }
          ],
          "scattercarpet": [
           {
            "marker": {
             "colorbar": {
              "outlinewidth": 0,
              "ticks": ""
             }
            },
            "type": "scattercarpet"
           }
          ],
          "scattergeo": [
           {
            "marker": {
             "colorbar": {
              "outlinewidth": 0,
              "ticks": ""
             }
            },
            "type": "scattergeo"
           }
          ],
          "scattergl": [
           {
            "marker": {
             "colorbar": {
              "outlinewidth": 0,
              "ticks": ""
             }
            },
            "type": "scattergl"
           }
          ],
          "scattermap": [
           {
            "marker": {
             "colorbar": {
              "outlinewidth": 0,
              "ticks": ""
             }
            },
            "type": "scattermap"
           }
          ],
          "scattermapbox": [
           {
            "marker": {
             "colorbar": {
              "outlinewidth": 0,
              "ticks": ""
             }
            },
            "type": "scattermapbox"
           }
          ],
          "scatterpolar": [
           {
            "marker": {
             "colorbar": {
              "outlinewidth": 0,
              "ticks": ""
             }
            },
            "type": "scatterpolar"
           }
          ],
          "scatterpolargl": [
           {
            "marker": {
             "colorbar": {
              "outlinewidth": 0,
              "ticks": ""
             }
            },
            "type": "scatterpolargl"
           }
          ],
          "scatterternary": [
           {
            "marker": {
             "colorbar": {
              "outlinewidth": 0,
              "ticks": ""
             }
            },
            "type": "scatterternary"
           }
          ],
          "surface": [
           {
            "colorbar": {
             "outlinewidth": 0,
             "ticks": ""
            },
            "colorscale": [
             [
              0,
              "#0d0887"
             ],
             [
              0.1111111111111111,
              "#46039f"
             ],
             [
              0.2222222222222222,
              "#7201a8"
             ],
             [
              0.3333333333333333,
              "#9c179e"
             ],
             [
              0.4444444444444444,
              "#bd3786"
             ],
             [
              0.5555555555555556,
              "#d8576b"
             ],
             [
              0.6666666666666666,
              "#ed7953"
             ],
             [
              0.7777777777777778,
              "#fb9f3a"
             ],
             [
              0.8888888888888888,
              "#fdca26"
             ],
             [
              1,
              "#f0f921"
             ]
            ],
            "type": "surface"
           }
          ],
          "table": [
           {
            "cells": {
             "fill": {
              "color": "#EBF0F8"
             },
             "line": {
              "color": "white"
             }
            },
            "header": {
             "fill": {
              "color": "#C8D4E3"
             },
             "line": {
              "color": "white"
             }
            },
            "type": "table"
           }
          ]
         },
         "layout": {
          "annotationdefaults": {
           "arrowcolor": "#2a3f5f",
           "arrowhead": 0,
           "arrowwidth": 1
          },
          "autotypenumbers": "strict",
          "coloraxis": {
           "colorbar": {
            "outlinewidth": 0,
            "ticks": ""
           }
          },
          "colorscale": {
           "diverging": [
            [
             0,
             "#8e0152"
            ],
            [
             0.1,
             "#c51b7d"
            ],
            [
             0.2,
             "#de77ae"
            ],
            [
             0.3,
             "#f1b6da"
            ],
            [
             0.4,
             "#fde0ef"
            ],
            [
             0.5,
             "#f7f7f7"
            ],
            [
             0.6,
             "#e6f5d0"
            ],
            [
             0.7,
             "#b8e186"
            ],
            [
             0.8,
             "#7fbc41"
            ],
            [
             0.9,
             "#4d9221"
            ],
            [
             1,
             "#276419"
            ]
           ],
           "sequential": [
            [
             0,
             "#0d0887"
            ],
            [
             0.1111111111111111,
             "#46039f"
            ],
            [
             0.2222222222222222,
             "#7201a8"
            ],
            [
             0.3333333333333333,
             "#9c179e"
            ],
            [
             0.4444444444444444,
             "#bd3786"
            ],
            [
             0.5555555555555556,
             "#d8576b"
            ],
            [
             0.6666666666666666,
             "#ed7953"
            ],
            [
             0.7777777777777778,
             "#fb9f3a"
            ],
            [
             0.8888888888888888,
             "#fdca26"
            ],
            [
             1,
             "#f0f921"
            ]
           ],
           "sequentialminus": [
            [
             0,
             "#0d0887"
            ],
            [
             0.1111111111111111,
             "#46039f"
            ],
            [
             0.2222222222222222,
             "#7201a8"
            ],
            [
             0.3333333333333333,
             "#9c179e"
            ],
            [
             0.4444444444444444,
             "#bd3786"
            ],
            [
             0.5555555555555556,
             "#d8576b"
            ],
            [
             0.6666666666666666,
             "#ed7953"
            ],
            [
             0.7777777777777778,
             "#fb9f3a"
            ],
            [
             0.8888888888888888,
             "#fdca26"
            ],
            [
             1,
             "#f0f921"
            ]
           ]
          },
          "colorway": [
           "#636efa",
           "#EF553B",
           "#00cc96",
           "#ab63fa",
           "#FFA15A",
           "#19d3f3",
           "#FF6692",
           "#B6E880",
           "#FF97FF",
           "#FECB52"
          ],
          "font": {
           "color": "#2a3f5f"
          },
          "geo": {
           "bgcolor": "white",
           "lakecolor": "white",
           "landcolor": "#E5ECF6",
           "showlakes": true,
           "showland": true,
           "subunitcolor": "white"
          },
          "hoverlabel": {
           "align": "left"
          },
          "hovermode": "closest",
          "mapbox": {
           "style": "light"
          },
          "paper_bgcolor": "white",
          "plot_bgcolor": "#E5ECF6",
          "polar": {
           "angularaxis": {
            "gridcolor": "white",
            "linecolor": "white",
            "ticks": ""
           },
           "bgcolor": "#E5ECF6",
           "radialaxis": {
            "gridcolor": "white",
            "linecolor": "white",
            "ticks": ""
           }
          },
          "scene": {
           "xaxis": {
            "backgroundcolor": "#E5ECF6",
            "gridcolor": "white",
            "gridwidth": 2,
            "linecolor": "white",
            "showbackground": true,
            "ticks": "",
            "zerolinecolor": "white"
           },
           "yaxis": {
            "backgroundcolor": "#E5ECF6",
            "gridcolor": "white",
            "gridwidth": 2,
            "linecolor": "white",
            "showbackground": true,
            "ticks": "",
            "zerolinecolor": "white"
           },
           "zaxis": {
            "backgroundcolor": "#E5ECF6",
            "gridcolor": "white",
            "gridwidth": 2,
            "linecolor": "white",
            "showbackground": true,
            "ticks": "",
            "zerolinecolor": "white"
           }
          },
          "shapedefaults": {
           "line": {
            "color": "#2a3f5f"
           }
          },
          "ternary": {
           "aaxis": {
            "gridcolor": "white",
            "linecolor": "white",
            "ticks": ""
           },
           "baxis": {
            "gridcolor": "white",
            "linecolor": "white",
            "ticks": ""
           },
           "bgcolor": "#E5ECF6",
           "caxis": {
            "gridcolor": "white",
            "linecolor": "white",
            "ticks": ""
           }
          },
          "title": {
           "x": 0.05
          },
          "xaxis": {
           "automargin": true,
           "gridcolor": "white",
           "linecolor": "white",
           "ticks": "",
           "title": {
            "standoff": 15
           },
           "zerolinecolor": "white",
           "zerolinewidth": 2
          },
          "yaxis": {
           "automargin": true,
           "gridcolor": "white",
           "linecolor": "white",
           "ticks": "",
           "title": {
            "standoff": 15
           },
           "zerolinecolor": "white",
           "zerolinewidth": 2
          }
         }
        },
        "title": {
         "text": "Slice Plot"
        },
        "width": 3300,
        "xaxis": {
         "anchor": "y",
         "domain": [
          0,
          0.07438016528925619
         ],
         "title": {
          "text": "alpha"
         }
        },
        "xaxis10": {
         "anchor": "y10",
         "domain": [
          0.8330578512396694,
          0.9074380165289255
         ],
         "title": {
          "text": "n_estimators"
         }
        },
        "xaxis11": {
         "anchor": "y11",
         "domain": [
          0.9256198347107437,
          0.9999999999999999
         ],
         "title": {
          "text": "subsample"
         }
        },
        "xaxis2": {
         "anchor": "y2",
         "domain": [
          0.09256198347107437,
          0.16694214876033056
         ],
         "title": {
          "text": "learning_rate"
         }
        },
        "xaxis3": {
         "anchor": "y3",
         "categoryarray": [
          "squared_error",
          "huber"
         ],
         "categoryorder": "array",
         "domain": [
          0.18512396694214875,
          0.25950413223140495
         ],
         "title": {
          "text": "loss"
         },
         "type": "category"
        },
        "xaxis4": {
         "anchor": "y4",
         "domain": [
          0.27768595041322314,
          0.3520661157024793
         ],
         "title": {
          "text": "max_depth"
         }
        },
        "xaxis5": {
         "anchor": "y5",
         "categoryarray": [
          "sqrt",
          "log2",
          null
         ],
         "categoryorder": "array",
         "domain": [
          0.3702479338842975,
          0.44462809917355367
         ],
         "title": {
          "text": "max_features"
         },
         "type": "category"
        },
        "xaxis6": {
         "anchor": "y6",
         "domain": [
          0.46280991735537186,
          0.5371900826446281
         ],
         "title": {
          "text": "max_leaf_nodes"
         }
        },
        "xaxis7": {
         "anchor": "y7",
         "domain": [
          0.5553719008264463,
          0.6297520661157024
         ],
         "title": {
          "text": "min_impurity_decrease"
         }
        },
        "xaxis8": {
         "anchor": "y8",
         "domain": [
          0.6479338842975206,
          0.7223140495867768
         ],
         "title": {
          "text": "min_samples_leaf"
         }
        },
        "xaxis9": {
         "anchor": "y9",
         "domain": [
          0.740495867768595,
          0.8148760330578512
         ],
         "title": {
          "text": "min_samples_split"
         }
        },
        "yaxis": {
         "anchor": "x",
         "domain": [
          0,
          1
         ],
         "title": {
          "text": "Objective Value"
         }
        },
        "yaxis10": {
         "anchor": "x10",
         "domain": [
          0,
          1
         ],
         "matches": "y",
         "showticklabels": false
        },
        "yaxis11": {
         "anchor": "x11",
         "domain": [
          0,
          1
         ],
         "matches": "y",
         "showticklabels": false
        },
        "yaxis2": {
         "anchor": "x2",
         "domain": [
          0,
          1
         ],
         "matches": "y",
         "showticklabels": false
        },
        "yaxis3": {
         "anchor": "x3",
         "domain": [
          0,
          1
         ],
         "matches": "y",
         "showticklabels": false
        },
        "yaxis4": {
         "anchor": "x4",
         "domain": [
          0,
          1
         ],
         "matches": "y",
         "showticklabels": false
        },
        "yaxis5": {
         "anchor": "x5",
         "domain": [
          0,
          1
         ],
         "matches": "y",
         "showticklabels": false
        },
        "yaxis6": {
         "anchor": "x6",
         "domain": [
          0,
          1
         ],
         "matches": "y",
         "showticklabels": false
        },
        "yaxis7": {
         "anchor": "x7",
         "domain": [
          0,
          1
         ],
         "matches": "y",
         "showticklabels": false
        },
        "yaxis8": {
         "anchor": "x8",
         "domain": [
          0,
          1
         ],
         "matches": "y",
         "showticklabels": false
        },
        "yaxis9": {
         "anchor": "x9",
         "domain": [
          0,
          1
         ],
         "matches": "y",
         "showticklabels": false
        }
       }
      }
     },
     "metadata": {},
     "output_type": "display_data"
    }
   ],
   "source": [
    "vis.plot_slice(study=study_grad)"
   ]
  },
  {
   "cell_type": "code",
   "execution_count": 41,
   "id": "fe0937c0",
   "metadata": {},
   "outputs": [
    {
     "data": {
      "application/vnd.plotly.v1+json": {
       "config": {
        "plotlyServerURL": "https://plot.ly"
       },
       "data": [
        {
         "cliponaxis": false,
         "hovertemplate": [
          "loss (CategoricalDistribution): 0.0011773687437609923<extra></extra>",
          "n_estimators (IntDistribution): 0.008311514715417434<extra></extra>",
          "max_leaf_nodes (IntDistribution): 0.008512169702649388<extra></extra>",
          "max_depth (IntDistribution): 0.009084812560729029<extra></extra>",
          "min_samples_split (IntDistribution): 0.009568901419925039<extra></extra>",
          "min_impurity_decrease (FloatDistribution): 0.012498019663209892<extra></extra>",
          "subsample (FloatDistribution): 0.014376745031582283<extra></extra>",
          "min_samples_leaf (IntDistribution): 0.016378798836885738<extra></extra>",
          "max_features (CategoricalDistribution): 0.04816988160796541<extra></extra>",
          "alpha (FloatDistribution): 0.06261738878971493<extra></extra>",
          "learning_rate (FloatDistribution): 0.8093043989281599<extra></extra>"
         ],
         "name": "Objective Value",
         "orientation": "h",
         "text": [
          "<0.01",
          "<0.01",
          "<0.01",
          "<0.01",
          "<0.01",
          "0.01",
          "0.01",
          "0.02",
          "0.05",
          "0.06",
          "0.81"
         ],
         "textposition": "outside",
         "type": "bar",
         "x": [
          0.0011773687437609923,
          0.008311514715417434,
          0.008512169702649388,
          0.009084812560729029,
          0.009568901419925039,
          0.012498019663209892,
          0.014376745031582283,
          0.016378798836885738,
          0.04816988160796541,
          0.06261738878971493,
          0.8093043989281599
         ],
         "y": [
          "loss",
          "n_estimators",
          "max_leaf_nodes",
          "max_depth",
          "min_samples_split",
          "min_impurity_decrease",
          "subsample",
          "min_samples_leaf",
          "max_features",
          "alpha",
          "learning_rate"
         ]
        }
       ],
       "layout": {
        "template": {
         "data": {
          "bar": [
           {
            "error_x": {
             "color": "#2a3f5f"
            },
            "error_y": {
             "color": "#2a3f5f"
            },
            "marker": {
             "line": {
              "color": "#E5ECF6",
              "width": 0.5
             },
             "pattern": {
              "fillmode": "overlay",
              "size": 10,
              "solidity": 0.2
             }
            },
            "type": "bar"
           }
          ],
          "barpolar": [
           {
            "marker": {
             "line": {
              "color": "#E5ECF6",
              "width": 0.5
             },
             "pattern": {
              "fillmode": "overlay",
              "size": 10,
              "solidity": 0.2
             }
            },
            "type": "barpolar"
           }
          ],
          "carpet": [
           {
            "aaxis": {
             "endlinecolor": "#2a3f5f",
             "gridcolor": "white",
             "linecolor": "white",
             "minorgridcolor": "white",
             "startlinecolor": "#2a3f5f"
            },
            "baxis": {
             "endlinecolor": "#2a3f5f",
             "gridcolor": "white",
             "linecolor": "white",
             "minorgridcolor": "white",
             "startlinecolor": "#2a3f5f"
            },
            "type": "carpet"
           }
          ],
          "choropleth": [
           {
            "colorbar": {
             "outlinewidth": 0,
             "ticks": ""
            },
            "type": "choropleth"
           }
          ],
          "contour": [
           {
            "colorbar": {
             "outlinewidth": 0,
             "ticks": ""
            },
            "colorscale": [
             [
              0,
              "#0d0887"
             ],
             [
              0.1111111111111111,
              "#46039f"
             ],
             [
              0.2222222222222222,
              "#7201a8"
             ],
             [
              0.3333333333333333,
              "#9c179e"
             ],
             [
              0.4444444444444444,
              "#bd3786"
             ],
             [
              0.5555555555555556,
              "#d8576b"
             ],
             [
              0.6666666666666666,
              "#ed7953"
             ],
             [
              0.7777777777777778,
              "#fb9f3a"
             ],
             [
              0.8888888888888888,
              "#fdca26"
             ],
             [
              1,
              "#f0f921"
             ]
            ],
            "type": "contour"
           }
          ],
          "contourcarpet": [
           {
            "colorbar": {
             "outlinewidth": 0,
             "ticks": ""
            },
            "type": "contourcarpet"
           }
          ],
          "heatmap": [
           {
            "colorbar": {
             "outlinewidth": 0,
             "ticks": ""
            },
            "colorscale": [
             [
              0,
              "#0d0887"
             ],
             [
              0.1111111111111111,
              "#46039f"
             ],
             [
              0.2222222222222222,
              "#7201a8"
             ],
             [
              0.3333333333333333,
              "#9c179e"
             ],
             [
              0.4444444444444444,
              "#bd3786"
             ],
             [
              0.5555555555555556,
              "#d8576b"
             ],
             [
              0.6666666666666666,
              "#ed7953"
             ],
             [
              0.7777777777777778,
              "#fb9f3a"
             ],
             [
              0.8888888888888888,
              "#fdca26"
             ],
             [
              1,
              "#f0f921"
             ]
            ],
            "type": "heatmap"
           }
          ],
          "histogram": [
           {
            "marker": {
             "pattern": {
              "fillmode": "overlay",
              "size": 10,
              "solidity": 0.2
             }
            },
            "type": "histogram"
           }
          ],
          "histogram2d": [
           {
            "colorbar": {
             "outlinewidth": 0,
             "ticks": ""
            },
            "colorscale": [
             [
              0,
              "#0d0887"
             ],
             [
              0.1111111111111111,
              "#46039f"
             ],
             [
              0.2222222222222222,
              "#7201a8"
             ],
             [
              0.3333333333333333,
              "#9c179e"
             ],
             [
              0.4444444444444444,
              "#bd3786"
             ],
             [
              0.5555555555555556,
              "#d8576b"
             ],
             [
              0.6666666666666666,
              "#ed7953"
             ],
             [
              0.7777777777777778,
              "#fb9f3a"
             ],
             [
              0.8888888888888888,
              "#fdca26"
             ],
             [
              1,
              "#f0f921"
             ]
            ],
            "type": "histogram2d"
           }
          ],
          "histogram2dcontour": [
           {
            "colorbar": {
             "outlinewidth": 0,
             "ticks": ""
            },
            "colorscale": [
             [
              0,
              "#0d0887"
             ],
             [
              0.1111111111111111,
              "#46039f"
             ],
             [
              0.2222222222222222,
              "#7201a8"
             ],
             [
              0.3333333333333333,
              "#9c179e"
             ],
             [
              0.4444444444444444,
              "#bd3786"
             ],
             [
              0.5555555555555556,
              "#d8576b"
             ],
             [
              0.6666666666666666,
              "#ed7953"
             ],
             [
              0.7777777777777778,
              "#fb9f3a"
             ],
             [
              0.8888888888888888,
              "#fdca26"
             ],
             [
              1,
              "#f0f921"
             ]
            ],
            "type": "histogram2dcontour"
           }
          ],
          "mesh3d": [
           {
            "colorbar": {
             "outlinewidth": 0,
             "ticks": ""
            },
            "type": "mesh3d"
           }
          ],
          "parcoords": [
           {
            "line": {
             "colorbar": {
              "outlinewidth": 0,
              "ticks": ""
             }
            },
            "type": "parcoords"
           }
          ],
          "pie": [
           {
            "automargin": true,
            "type": "pie"
           }
          ],
          "scatter": [
           {
            "fillpattern": {
             "fillmode": "overlay",
             "size": 10,
             "solidity": 0.2
            },
            "type": "scatter"
           }
          ],
          "scatter3d": [
           {
            "line": {
             "colorbar": {
              "outlinewidth": 0,
              "ticks": ""
             }
            },
            "marker": {
             "colorbar": {
              "outlinewidth": 0,
              "ticks": ""
             }
            },
            "type": "scatter3d"
           }
          ],
          "scattercarpet": [
           {
            "marker": {
             "colorbar": {
              "outlinewidth": 0,
              "ticks": ""
             }
            },
            "type": "scattercarpet"
           }
          ],
          "scattergeo": [
           {
            "marker": {
             "colorbar": {
              "outlinewidth": 0,
              "ticks": ""
             }
            },
            "type": "scattergeo"
           }
          ],
          "scattergl": [
           {
            "marker": {
             "colorbar": {
              "outlinewidth": 0,
              "ticks": ""
             }
            },
            "type": "scattergl"
           }
          ],
          "scattermap": [
           {
            "marker": {
             "colorbar": {
              "outlinewidth": 0,
              "ticks": ""
             }
            },
            "type": "scattermap"
           }
          ],
          "scattermapbox": [
           {
            "marker": {
             "colorbar": {
              "outlinewidth": 0,
              "ticks": ""
             }
            },
            "type": "scattermapbox"
           }
          ],
          "scatterpolar": [
           {
            "marker": {
             "colorbar": {
              "outlinewidth": 0,
              "ticks": ""
             }
            },
            "type": "scatterpolar"
           }
          ],
          "scatterpolargl": [
           {
            "marker": {
             "colorbar": {
              "outlinewidth": 0,
              "ticks": ""
             }
            },
            "type": "scatterpolargl"
           }
          ],
          "scatterternary": [
           {
            "marker": {
             "colorbar": {
              "outlinewidth": 0,
              "ticks": ""
             }
            },
            "type": "scatterternary"
           }
          ],
          "surface": [
           {
            "colorbar": {
             "outlinewidth": 0,
             "ticks": ""
            },
            "colorscale": [
             [
              0,
              "#0d0887"
             ],
             [
              0.1111111111111111,
              "#46039f"
             ],
             [
              0.2222222222222222,
              "#7201a8"
             ],
             [
              0.3333333333333333,
              "#9c179e"
             ],
             [
              0.4444444444444444,
              "#bd3786"
             ],
             [
              0.5555555555555556,
              "#d8576b"
             ],
             [
              0.6666666666666666,
              "#ed7953"
             ],
             [
              0.7777777777777778,
              "#fb9f3a"
             ],
             [
              0.8888888888888888,
              "#fdca26"
             ],
             [
              1,
              "#f0f921"
             ]
            ],
            "type": "surface"
           }
          ],
          "table": [
           {
            "cells": {
             "fill": {
              "color": "#EBF0F8"
             },
             "line": {
              "color": "white"
             }
            },
            "header": {
             "fill": {
              "color": "#C8D4E3"
             },
             "line": {
              "color": "white"
             }
            },
            "type": "table"
           }
          ]
         },
         "layout": {
          "annotationdefaults": {
           "arrowcolor": "#2a3f5f",
           "arrowhead": 0,
           "arrowwidth": 1
          },
          "autotypenumbers": "strict",
          "coloraxis": {
           "colorbar": {
            "outlinewidth": 0,
            "ticks": ""
           }
          },
          "colorscale": {
           "diverging": [
            [
             0,
             "#8e0152"
            ],
            [
             0.1,
             "#c51b7d"
            ],
            [
             0.2,
             "#de77ae"
            ],
            [
             0.3,
             "#f1b6da"
            ],
            [
             0.4,
             "#fde0ef"
            ],
            [
             0.5,
             "#f7f7f7"
            ],
            [
             0.6,
             "#e6f5d0"
            ],
            [
             0.7,
             "#b8e186"
            ],
            [
             0.8,
             "#7fbc41"
            ],
            [
             0.9,
             "#4d9221"
            ],
            [
             1,
             "#276419"
            ]
           ],
           "sequential": [
            [
             0,
             "#0d0887"
            ],
            [
             0.1111111111111111,
             "#46039f"
            ],
            [
             0.2222222222222222,
             "#7201a8"
            ],
            [
             0.3333333333333333,
             "#9c179e"
            ],
            [
             0.4444444444444444,
             "#bd3786"
            ],
            [
             0.5555555555555556,
             "#d8576b"
            ],
            [
             0.6666666666666666,
             "#ed7953"
            ],
            [
             0.7777777777777778,
             "#fb9f3a"
            ],
            [
             0.8888888888888888,
             "#fdca26"
            ],
            [
             1,
             "#f0f921"
            ]
           ],
           "sequentialminus": [
            [
             0,
             "#0d0887"
            ],
            [
             0.1111111111111111,
             "#46039f"
            ],
            [
             0.2222222222222222,
             "#7201a8"
            ],
            [
             0.3333333333333333,
             "#9c179e"
            ],
            [
             0.4444444444444444,
             "#bd3786"
            ],
            [
             0.5555555555555556,
             "#d8576b"
            ],
            [
             0.6666666666666666,
             "#ed7953"
            ],
            [
             0.7777777777777778,
             "#fb9f3a"
            ],
            [
             0.8888888888888888,
             "#fdca26"
            ],
            [
             1,
             "#f0f921"
            ]
           ]
          },
          "colorway": [
           "#636efa",
           "#EF553B",
           "#00cc96",
           "#ab63fa",
           "#FFA15A",
           "#19d3f3",
           "#FF6692",
           "#B6E880",
           "#FF97FF",
           "#FECB52"
          ],
          "font": {
           "color": "#2a3f5f"
          },
          "geo": {
           "bgcolor": "white",
           "lakecolor": "white",
           "landcolor": "#E5ECF6",
           "showlakes": true,
           "showland": true,
           "subunitcolor": "white"
          },
          "hoverlabel": {
           "align": "left"
          },
          "hovermode": "closest",
          "mapbox": {
           "style": "light"
          },
          "paper_bgcolor": "white",
          "plot_bgcolor": "#E5ECF6",
          "polar": {
           "angularaxis": {
            "gridcolor": "white",
            "linecolor": "white",
            "ticks": ""
           },
           "bgcolor": "#E5ECF6",
           "radialaxis": {
            "gridcolor": "white",
            "linecolor": "white",
            "ticks": ""
           }
          },
          "scene": {
           "xaxis": {
            "backgroundcolor": "#E5ECF6",
            "gridcolor": "white",
            "gridwidth": 2,
            "linecolor": "white",
            "showbackground": true,
            "ticks": "",
            "zerolinecolor": "white"
           },
           "yaxis": {
            "backgroundcolor": "#E5ECF6",
            "gridcolor": "white",
            "gridwidth": 2,
            "linecolor": "white",
            "showbackground": true,
            "ticks": "",
            "zerolinecolor": "white"
           },
           "zaxis": {
            "backgroundcolor": "#E5ECF6",
            "gridcolor": "white",
            "gridwidth": 2,
            "linecolor": "white",
            "showbackground": true,
            "ticks": "",
            "zerolinecolor": "white"
           }
          },
          "shapedefaults": {
           "line": {
            "color": "#2a3f5f"
           }
          },
          "ternary": {
           "aaxis": {
            "gridcolor": "white",
            "linecolor": "white",
            "ticks": ""
           },
           "baxis": {
            "gridcolor": "white",
            "linecolor": "white",
            "ticks": ""
           },
           "bgcolor": "#E5ECF6",
           "caxis": {
            "gridcolor": "white",
            "linecolor": "white",
            "ticks": ""
           }
          },
          "title": {
           "x": 0.05
          },
          "xaxis": {
           "automargin": true,
           "gridcolor": "white",
           "linecolor": "white",
           "ticks": "",
           "title": {
            "standoff": 15
           },
           "zerolinecolor": "white",
           "zerolinewidth": 2
          },
          "yaxis": {
           "automargin": true,
           "gridcolor": "white",
           "linecolor": "white",
           "ticks": "",
           "title": {
            "standoff": 15
           },
           "zerolinecolor": "white",
           "zerolinewidth": 2
          }
         }
        },
        "title": {
         "text": "Hyperparameter Importances"
        },
        "xaxis": {
         "title": {
          "text": "Hyperparameter Importance"
         }
        },
        "yaxis": {
         "title": {
          "text": "Hyperparameter"
         }
        }
       }
      }
     },
     "metadata": {},
     "output_type": "display_data"
    }
   ],
   "source": [
    "vis.plot_param_importances(study=study_grad)"
   ]
  },
  {
   "cell_type": "code",
   "execution_count": 43,
   "id": "db952101",
   "metadata": {},
   "outputs": [],
   "source": [
    "task_grad.close()"
   ]
  }
 ],
 "metadata": {
  "kernelspec": {
   "display_name": "Python (group1venv)",
   "language": "python",
   "name": "group1venv"
  },
  "language_info": {
   "codemirror_mode": {
    "name": "ipython",
    "version": 3
   },
   "file_extension": ".py",
   "mimetype": "text/x-python",
   "name": "python",
   "nbconvert_exporter": "python",
   "pygments_lexer": "ipython3",
   "version": "3.12.4"
  }
 },
 "nbformat": 4,
 "nbformat_minor": 5
}
