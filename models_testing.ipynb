{
 "cells": [
  {
   "cell_type": "code",
   "execution_count": 57,
   "id": "b72ccedf",
   "metadata": {},
   "outputs": [],
   "source": [
    "import numpy as np\n",
    "import random\n",
    "import os\n",
    "\n",
    "# fix random seed\n",
    "SEED = 42  \n",
    "\n",
    "# Python built-in random\n",
    "random.seed(SEED)\n",
    "\n",
    "# NumPy random\n",
    "np.random.seed(SEED) # scikit-learn sẽ tự dùng numpy seed ngầm bên trong)\n",
    "\n",
    "# Đảm bảo các process con (nếu có) cũng dùng cùng seed\n",
    "os.environ['PYTHONHASHSEED'] = str(SEED)\n"
   ]
  },
  {
   "cell_type": "code",
   "execution_count": 58,
   "id": "d5bc9007",
   "metadata": {},
   "outputs": [],
   "source": [
    "import joblib\n",
    "import pandas as pd\n",
    "import optuna\n",
    "\n",
    "from pathlib import Path\n",
    "from sklearn.ensemble import RandomForestRegressor\n",
    "from sklearn.ensemble import ExtraTreesClassifier\n",
    "from sklearn.model_selection import TimeSeriesSplit\n",
    "\n",
    "from src import data_preprocessing as dp\n",
    "from src import pipeline as pl\n",
    "from src import feature_engineering as fe\n",
    "from src.model_evaluation import evaluate\n",
    "from sklearn.model_selection import cross_val_score "
   ]
  },
  {
   "cell_type": "code",
   "execution_count": 71,
   "id": "e8a9465b",
   "metadata": {},
   "outputs": [
    {
     "name": "stdout",
     "output_type": "stream",
     "text": [
      "step 1\n",
      " Loaded data with shape: (3660, 33)\n",
      "\n",
      "step 2\n",
      "Dropped column: 'description'\n",
      "Dropped column: 'severerisk'\n",
      "Dropped column: 'icon'\n",
      "Dropped column: 'stations'\n",
      "Shape: (3660, 28)\n",
      "\n",
      "step 3\n",
      "Train: 2562, Val: 549, Test: 549\n"
     ]
    }
   ],
   "source": [
    "# 1. Load raw Data\n",
    "print('step 1')\n",
    "df = dp.load_data(r\"data\\raw data\\Hanoi Daily 10 years.csv\")\n",
    "\n",
    "\n",
    "# 2. basic preprocessing for all data set\n",
    "# đang để là có drop description \n",
    "print()\n",
    "print('step 2')\n",
    "df = dp.basic_preprocessing(df=df)\n",
    "print(\"Shape:\", df.shape)\n",
    "\n",
    "\n",
    "# 3. chia train, val, test (tỉ lệ 70/15/15)\n",
    "print()\n",
    "print('step 3')\n",
    "\n",
    "target_col = 'temp'\n",
    "train_size = 0.7\n",
    "val_size = 0.15\n",
    "n = len(df)\n",
    "\n",
    "train_df = df.iloc[:int(train_size*n)]\n",
    "val_df = df.iloc[int(train_size*n):int((train_size+val_size)*n)]\n",
    "test_df = df.iloc[int((train_size+val_size)*n):]\n",
    "\n",
    "print(f\"Train: {len(train_df)}, Val: {len(val_df)}, Test: {len(test_df)}\")"
   ]
  },
  {
   "cell_type": "code",
   "execution_count": 72,
   "id": "fd4c377d",
   "metadata": {},
   "outputs": [
    {
     "name": "stderr",
     "output_type": "stream",
     "text": [
      "c:\\Users\\Admin\\Documents\\ML\\group1\\src\\data_preprocessing.py:189: SettingWithCopyWarning: \n",
      "A value is trying to be set on a copy of a slice from a DataFrame\n",
      "\n",
      "See the caveats in the documentation: https://pandas.pydata.org/pandas-docs/stable/user_guide/indexing.html#returning-a-view-versus-a-copy\n",
      "  X.drop(columns=self.cols_to_drop_, errors='ignore', inplace=True)\n",
      "c:\\Users\\Admin\\Documents\\ML\\group1\\src\\data_preprocessing.py:189: SettingWithCopyWarning: \n",
      "A value is trying to be set on a copy of a slice from a DataFrame\n",
      "\n",
      "See the caveats in the documentation: https://pandas.pydata.org/pandas-docs/stable/user_guide/indexing.html#returning-a-view-versus-a-copy\n",
      "  X.drop(columns=self.cols_to_drop_, errors='ignore', inplace=True)\n",
      "c:\\Users\\Admin\\Documents\\ML\\group1\\src\\data_preprocessing.py:189: SettingWithCopyWarning: \n",
      "A value is trying to be set on a copy of a slice from a DataFrame\n",
      "\n",
      "See the caveats in the documentation: https://pandas.pydata.org/pandas-docs/stable/user_guide/indexing.html#returning-a-view-versus-a-copy\n",
      "  X.drop(columns=self.cols_to_drop_, errors='ignore', inplace=True)\n",
      "c:\\Users\\Admin\\Documents\\ML\\group1\\src\\data_preprocessing.py:189: SettingWithCopyWarning: \n",
      "A value is trying to be set on a copy of a slice from a DataFrame\n",
      "\n",
      "See the caveats in the documentation: https://pandas.pydata.org/pandas-docs/stable/user_guide/indexing.html#returning-a-view-versus-a-copy\n",
      "  X.drop(columns=self.cols_to_drop_, errors='ignore', inplace=True)\n"
     ]
    }
   ],
   "source": [
    "# 4. Fit và transform trên preprocessing pipeline\n",
    "pipeline1 = pl.build_preprocessing_pipeline()\n",
    "\n",
    "# fit trên train\n",
    "pipeline1.fit(train_df)\n",
    "\n",
    "# transform \n",
    "train_processed = pipeline1.transform(train_df)\n",
    "val_processed = pipeline1.transform(val_df)\n",
    "test_processed = pipeline1.transform(test_df)\n",
    "\n"
   ]
  },
  {
   "cell_type": "code",
   "execution_count": 61,
   "id": "41103015",
   "metadata": {},
   "outputs": [
    {
     "name": "stdout",
     "output_type": "stream",
     "text": [
      "(2562, 114)\n"
     ]
    }
   ],
   "source": [
    "# Tạo feature engineering\n",
    "column_lag = ['tempmax', 'tempmin', 'dew', 'humidity', 'precip',\n",
    "    'precipprob', 'precipcover', 'windgust', 'windspeed',\n",
    "    'sealevelpressure', 'cloudcover', 'visibility', 'solarradiation']\n",
    "train_feat = fe.feature_engineering(train_processed, column= column_lag)\n",
    "val_feat = fe.feature_engineering(val_processed, column= column_lag)\n",
    "test_feat = fe.feature_engineering(test_processed, column= column_lag)\n",
    "print(train_feat.shape)\n"
   ]
  },
  {
   "cell_type": "code",
   "execution_count": 62,
   "id": "6efadf4d",
   "metadata": {},
   "outputs": [
    {
     "name": "stdout",
     "output_type": "stream",
     "text": [
      "Train: ((2562, 113), (2562,)), Val: ((549, 113), (549,)), Test: ((549, 113), (549,))\n"
     ]
    }
   ],
   "source": [
    "# Chia X, y riêng biệt\n",
    "X_train, y_train = train_feat.drop(columns=[target_col]), train_df[target_col]\n",
    "X_val, y_val = val_feat.drop(columns=[target_col]), val_df[target_col]\n",
    "X_test, y_test = test_feat.drop(columns=[target_col]), test_df[target_col]\n",
    "\n",
    "print(f\"Train: {X_train.shape, y_train.shape}, Val: {X_val.shape, y_val.shape}, Test: {X_test.shape, y_test.shape}\")"
   ]
  },
  {
   "cell_type": "code",
   "execution_count": 73,
   "id": "dd9f0f5b",
   "metadata": {},
   "outputs": [
    {
     "name": "stdout",
     "output_type": "stream",
     "text": [
      "Train: ((2562, 111), (2562,)), Val: ((549, 111), (549,)), Test: ((549, 111), (549,))\n"
     ]
    }
   ],
   "source": [
    "# thử chỉ có preprocessing\n",
    "X_train_base, y_train_base = train_processed.drop(columns=[target_col]), train_df[target_col]\n",
    "X_val_base, y_val_base = val_processed.drop(columns=[target_col]), val_df[target_col]\n",
    "X_test_base, y_test_base = test_processed.drop(columns=[target_col]), test_df[target_col]\n",
    "\n",
    "X_train_base = X_train.drop(['sunrise', 'sunset'], axis= 1)\n",
    "X_val_base = X_val.drop(['sunrise', 'sunset'], axis= 1)\n",
    "X_test_base= X_test.drop(['sunrise', 'sunset'], axis= 1)\n",
    "\n",
    "print(f\"Train: {X_train_base.shape, y_train.shape}, Val: {X_val_base.shape, y_val.shape}, Test: {X_test_base.shape, y_test.shape}\")"
   ]
  },
  {
   "cell_type": "code",
   "execution_count": null,
   "id": "a7ad3c38",
   "metadata": {},
   "outputs": [],
   "source": [
    "X_train_base = X_train.drop(['', 'tempmax'], axis= 1)\n",
    "X_val_base = X_val.drop(['sunrise', 'sunset'], axis= 1)\n",
    "X_test_base= X_test.drop(['sunrise', 'sunset'], axis= 1)"
   ]
  },
  {
   "cell_type": "markdown",
   "id": "99aa7da8",
   "metadata": {},
   "source": [
    "### Random Forest"
   ]
  },
  {
   "cell_type": "code",
   "execution_count": 64,
   "id": "22dfd01f",
   "metadata": {},
   "outputs": [],
   "source": [
    "# 1. fit \n",
    "model1 = RandomForestRegressor(n_estimators = 100, min_samples_split=2, min_samples_leaf=1,min_impurity_decrease=0, \n",
    "                               max_depth= 7, max_features= None, bootstrap= True, oob_score= False, \n",
    "                               max_leaf_nodes= None, max_samples= None\n",
    "                               )\n",
    "model1.fit(X_train, y_train) # sau này đầy đủ feature engineering thì thay X đầy đủ feature vào\n",
    "\n",
    "# 2. predict\n",
    "y_pred_val = model1.predict(X_val) \n",
    "y_pred_test = model1.predict(X_test)"
   ]
  },
  {
   "cell_type": "code",
   "execution_count": 69,
   "id": "8a70dd81",
   "metadata": {},
   "outputs": [
    {
     "name": "stdout",
     "output_type": "stream",
     "text": [
      "                Feature    Importance\n",
      "35  pressure_temp_index  5.746446e-01\n",
      "0               tempmax  2.176490e-01\n",
      "1               tempmin  2.024941e-01\n",
      "61  tempmax_roll_mean_3  7.095637e-04\n",
      "65  tempmin_roll_mean_3  6.164205e-04\n",
      "..                  ...           ...\n",
      "45        season_spring  1.667402e-07\n",
      "41   conditions_encoded  1.228406e-07\n",
      "53     precipprob_lag_1  1.025084e-07\n",
      "43  wind_category_South  0.000000e+00\n",
      "40                foggy  0.000000e+00\n",
      "\n",
      "[113 rows x 2 columns]\n"
     ]
    }
   ],
   "source": [
    "# Lấy feature importance\n",
    "importances = model1.feature_importances_\n",
    "\n",
    "# Tạo DataFrame hiển thị\n",
    "feat_importance = pd.DataFrame({\n",
    "    'Feature': X_train.columns,\n",
    "    'Importance': importances\n",
    "}).sort_values(by='Importance', ascending=False)\n",
    "\n",
    "print(feat_importance)"
   ]
  },
  {
   "cell_type": "code",
   "execution_count": 70,
   "id": "29b87314",
   "metadata": {},
   "outputs": [
    {
     "data": {
      "image/png": "[encoded data removed]",
      "text/plain": [
       "<Figure size 1000x600 with 1 Axes>"
      ]
     },
     "metadata": {},
     "output_type": "display_data"
    }
   ],
   "source": [
    "import matplotlib.pyplot as plt\n",
    "\n",
    "plt.figure(figsize=(10, 6))\n",
    "plt.barh(feat_importance['Feature'][:15], feat_importance['Importance'][:15])\n",
    "plt.gca().invert_yaxis()\n",
    "plt.title(\"Top 15 Feature Importances (Random Forest)\")\n",
    "plt.xlabel(\"Importance\")\n",
    "plt.show()\n"
   ]
  },
  {
   "cell_type": "code",
   "execution_count": 66,
   "id": "cf8c68be",
   "metadata": {},
   "outputs": [
    {
     "name": "stdout",
     "output_type": "stream",
     "text": [
      "Validation metrics: {'RMSE': np.float64(0.42731243226162613), 'R2': 0.9931343642249196, 'MAPE': np.float64(1.3931957017289864)}\n",
      "Test metrics: {'RMSE': np.float64(0.44147985901365555), 'R2': 0.9909945674557555, 'MAPE': np.float64(1.3620791071794232)}\n",
      "RandomForest model saved to models/RF_model.pkl\n"
     ]
    }
   ],
   "source": [
    "# 3. Evaluate on validation\n",
    "val_metrics = evaluate(y_val, y_pred_val)\n",
    "print(\"Validation metrics:\", val_metrics)\n",
    "\n",
    "# 4. Evaluate on test\n",
    "test_metrics = evaluate(y_test, y_pred_test)\n",
    "print(\"Test metrics:\", test_metrics)\n",
    "\n",
    "# 5. Save model \n",
    "model_path = r'models/RF_model.pkl' \n",
    "joblib.dump(model1, model_path)\n",
    "print(f\"RandomForest model saved to {model_path}\")"
   ]
  },
  {
   "cell_type": "code",
   "execution_count": 67,
   "id": "5a6482b0",
   "metadata": {},
   "outputs": [
    {
     "ename": "SyntaxError",
     "evalue": "invalid syntax. Maybe you meant '==' or ':=' instead of '='? (3208592587.py, line 10)",
     "output_type": "error",
     "traceback": [
      "\u001b[1;36m  Cell \u001b[1;32mIn[67], line 10\u001b[1;36m\u001b[0m\n\u001b[1;33m    max_leaf_nodes= None, max_samples= None\u001b[0m\n\u001b[1;37m    ^\u001b[0m\n\u001b[1;31mSyntaxError\u001b[0m\u001b[1;31m:\u001b[0m invalid syntax. Maybe you meant '==' or ':=' instead of '='?\n"
     ]
    }
   ],
   "source": [
    "def object(trial):\n",
    "   n_estimators = trial.suggest_int('n_estimator', 100, 1000)\n",
    "   min_samples_split=2\n",
    "   min_samples_leaf=1\n",
    "   min_impurity_decrease=0\n",
    "   max_depth= trial.suggest_int('n_estimator', 10, 50)\n",
    "   max_features= None\n",
    "   bootstrap= True\n",
    "   oob_score= False \n",
    "   max_leaf_nodes= None, max_samples= None\n",
    "\n",
    "   model = RandomForestRegressor(n_estimators = n_estimators, min_samples_split= min_samples_split, min_samples_leaf= min_samples_leaf, min_impurity_decrease= min_impurity_decrease, \n",
    "                               max_depth= max_depth, max_features= max_features, bootstrap= bootstrap, oob_score= oob_score, \n",
    "                               max_leaf_nodes= max_leaf_nodes, max_samples= max_samples)\n",
    "   \n",
    "   score = cross_val_score(model, X_extract_time, y_train, cv)"
   ]
  },
  {
   "cell_type": "markdown",
   "id": "d1e4330c",
   "metadata": {},
   "source": [
    "### Extra Tree"
   ]
  },
  {
   "cell_type": "code",
   "execution_count": null,
   "id": "b9fd182b",
   "metadata": {},
   "outputs": [],
   "source": [
    "model2 = ExtraTreesClassifier(\n",
    "    n_estimators=100,    # số cây\n",
    "    max_features='sqrt', # số feature được xem khi split\n",
    "    random_state=42\n",
    ")"
   ]
  },
  {
   "cell_type": "markdown",
   "id": "cb0a9a8c",
   "metadata": {},
   "source": [
    "### Gradient Boosting (tại model này chưa học, tìm hiểu đã rồi rảnh thì làm random 1 trong 3 đứa :))))"
   ]
  }
 ],
 "metadata": {
  "kernelspec": {
   "display_name": "Python 3",
   "language": "python",
   "name": "python3"
  },
  "language_info": {
   "codemirror_mode": {
    "name": "ipython",
    "version": 3
   },
   "file_extension": ".py",
   "mimetype": "text/x-python",
   "name": "python",
   "nbconvert_exporter": "python",
   "pygments_lexer": "ipython3",
   "version": "3.12.4"
  }
 },
 "nbformat": 4,
 "nbformat_minor": 5
}
