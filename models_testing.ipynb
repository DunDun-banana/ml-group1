{
 "cells": [
  {
   "cell_type": "code",
   "execution_count": 1,
   "id": "b72ccedf",
   "metadata": {},
   "outputs": [
    {
     "name": "stderr",
     "output_type": "stream",
     "text": [
      "c:\\Users\\Admin\\Documents\\ML\\group1\\venv\\Lib\\site-packages\\tqdm\\auto.py:21: TqdmWarning: IProgress not found. Please update jupyter and ipywidgets. See https://ipywidgets.readthedocs.io/en/stable/user_install.html\n",
      "  from .autonotebook import tqdm as notebook_tqdm\n"
     ]
    }
   ],
   "source": [
    "from clearml import Task\n",
    "import numpy as np\n",
    "import random\n",
    "import os\n",
    "import optuna\n",
    "\n",
    "SEED = 42 # vẫn phải chọn random của model đấy\n",
    "\n",
    "# Python, NumPy\n",
    "random.seed(SEED)\n",
    "np.random.seed(SEED) \n",
    "\n",
    "# Hash seed cho Python interpreter (ảnh hưởng tới dict order)\n",
    "os.environ['PYTHONHASHSEED'] = str(SEED)\n",
    "\n",
    "# Giới hạn luồng tính toán song song (để tránh floating-point nondeterminism)\n",
    "os.environ[\"OMP_NUM_THREADS\"] = \"1\"\n",
    "os.environ[\"MKL_NUM_THREADS\"] = \"1\"\n",
    "os.environ[\"NUMEXPR_NUM_THREADS\"] = \"1\"\n",
    "\n",
    "# tạo sampler của Optuna có seed cố định\n",
    "sampler = optuna.samplers.TPESampler(seed=SEED)\n",
    "\n",
    "\n",
    "\n"
   ]
  },
  {
   "cell_type": "code",
   "execution_count": 3,
   "id": "d5bc9007",
   "metadata": {},
   "outputs": [],
   "source": [
    "import joblib\n",
    "import pandas as pd\n",
    "import optuna.visualization as vis\n",
    "\n",
    "from pathlib import Path\n",
    "from clearml import Logger\n",
    "from sklearn.ensemble import RandomForestRegressor\n",
    "from sklearn.ensemble import ExtraTreesClassifier\n",
    "from sklearn.model_selection import TimeSeriesSplit\n",
    "\n",
    "from src import data_preprocessing as dp\n",
    "from src import pipeline as pl\n",
    "from src import feature_engineering as fe\n",
    "from src.model_evaluation import evaluate\n",
    "from sklearn.model_selection import cross_val_score, cross_val_predict, KFold"
   ]
  },
  {
   "cell_type": "code",
   "execution_count": 10,
   "id": "93b3f079",
   "metadata": {},
   "outputs": [],
   "source": [
    "# thay bằng task_id thực tế của task bạn muốn cập nhật\n",
    "# Lấy task đã tồn tại bằng task_id\n",
    "task = Task.get_task(task_id=\"6ccb6c6f476d46c991d0653fdc21123a\")\n"
   ]
  },
  {
   "cell_type": "code",
   "execution_count": 3,
   "id": "e8a9465b",
   "metadata": {},
   "outputs": [
    {
     "name": "stdout",
     "output_type": "stream",
     "text": [
      "step 1\n",
      " Loaded data with shape: (3660, 33)\n",
      "\n",
      "step 2\n",
      "Dropped column: 'description'\n",
      "Dropped column: 'severerisk'\n",
      "Dropped column: 'icon'\n",
      "Dropped column: 'stations'\n",
      "Shape: (3660, 28)\n",
      "\n",
      "step 3\n",
      "Train: 2562, Val: 549, Test: 549\n"
     ]
    }
   ],
   "source": [
    "# 1. Load raw Data\n",
    "print('step 1')\n",
    "df = dp.load_data(r\"data\\raw data\\Hanoi Daily 10 years.csv\")\n",
    "\n",
    "\n",
    "# 2. basic preprocessing for all data set\n",
    "# đang để là có drop description \n",
    "print()\n",
    "print('step 2')\n",
    "df = dp.basic_preprocessing(df=df)\n",
    "print(\"Shape:\", df.shape)\n",
    "\n",
    "\n",
    "# 3. chia train, val, test (tỉ lệ 70/15/15)\n",
    "print()\n",
    "print('step 3')\n",
    "\n",
    "target_col = 'temp'\n",
    "train_size = 0.7\n",
    "val_size = 0.15\n",
    "n = len(df)\n",
    "\n",
    "train_df = df.iloc[:int(train_size*n)]\n",
    "val_df = df.iloc[int(train_size*n):int((train_size+val_size)*n)]\n",
    "test_df = df.iloc[int((train_size+val_size)*n):]\n",
    "\n",
    "print(f\"Train: {len(train_df)}, Val: {len(val_df)}, Test: {len(test_df)}\")"
   ]
  },
  {
   "cell_type": "code",
   "execution_count": 4,
   "id": "fd4c377d",
   "metadata": {},
   "outputs": [],
   "source": [
    "# 4. Fit và transform trên preprocessing pipeline\n",
    "pipeline1 = pl.build_preprocessing_pipeline()\n",
    "\n",
    "# fit trên train\n",
    "pipeline1.fit(train_df)\n",
    "\n",
    "# transform \n",
    "train_processed = pipeline1.transform(train_df)\n",
    "val_processed = pipeline1.transform(val_df)\n",
    "test_processed = pipeline1.transform(test_df)\n",
    "\n"
   ]
  },
  {
   "cell_type": "code",
   "execution_count": 6,
   "id": "41103015",
   "metadata": {},
   "outputs": [
    {
     "name": "stdout",
     "output_type": "stream",
     "text": [
      "(2562, 253)\n"
     ]
    }
   ],
   "source": [
    "# Tạo feature engineering\n",
    "column_lag = ['temp','tempmax', 'tempmin', 'dew', 'humidity', 'precip',\n",
    "    'precipprob', 'precipcover', 'windgust', 'windspeed',\n",
    "    'sealevelpressure', 'cloudcover', 'visibility', 'solarradiation', \n",
    "    'pressure_temp_index', 'wind_temp_index', 'temp_range', 'dew_spread']\n",
    "train_feat = fe.feature_engineering(train_processed, column= column_lag)\n",
    "val_feat = fe.feature_engineering(val_processed, column= column_lag)\n",
    "test_feat = fe.feature_engineering(test_processed, column= column_lag)\n",
    "print(train_feat.shape)\n"
   ]
  },
  {
   "cell_type": "code",
   "execution_count": 7,
   "id": "2f7ed84e",
   "metadata": {},
   "outputs": [
    {
     "name": "stdout",
     "output_type": "stream",
     "text": [
      "temp, tempmax_lag_1, tempmin_lag_1, temp_lag_1, dew_lag_1, humidity_lag_1, precip_lag_1, precipprob_lag_1, precipcover_lag_1, windgust_lag_1, windspeed_lag_1, winddir_lag_1, sealevelpressure_lag_1, cloudcover_lag_1, visibility_lag_1, solarradiation_lag_1, moonphase_lag_1, sunrise_lag_1, sunset_lag_1, conditions_lag_1, month_lag_1, weekday_lag_1, month_sin_lag_1, month_cos_lag_1, day_length_lag_1, temp_range_lag_1, dew_spread_lag_1, humidity_high_lag_1, rain_binary_lag_1, rain_intensity_lag_1, wind_temp_index_lag_1, pressure_temp_index_lag_1, humidity_cloud_index_lag_1, solar_temp_index_lag_1, uv_cloud_index_lag_1, wind_variability_lag_1, foggy_lag_1, temp_lag_2, temp_lag_3, temp_lag_4, temp_lag_5, temp_lag_6, temp_lag_7, tempmax_lag_2, tempmax_lag_3, tempmax_lag_4, tempmax_lag_5, tempmax_lag_6, tempmax_lag_7, tempmin_lag_2, tempmin_lag_3, tempmin_lag_4, tempmin_lag_5, tempmin_lag_6, tempmin_lag_7, dew_lag_2, dew_lag_3, dew_lag_4, dew_lag_5, dew_lag_6, dew_lag_7, humidity_lag_2, humidity_lag_3, humidity_lag_4, humidity_lag_5, humidity_lag_6, humidity_lag_7, precip_lag_2, precip_lag_3, precip_lag_4, precip_lag_5, precip_lag_6, precip_lag_7, precipprob_lag_2, precipprob_lag_3, precipprob_lag_4, precipprob_lag_5, precipprob_lag_6, precipprob_lag_7, precipcover_lag_2, precipcover_lag_3, precipcover_lag_4, precipcover_lag_5, precipcover_lag_6, precipcover_lag_7, windgust_lag_2, windgust_lag_3, windgust_lag_4, windgust_lag_5, windgust_lag_6, windgust_lag_7, windspeed_lag_2, windspeed_lag_3, windspeed_lag_4, windspeed_lag_5, windspeed_lag_6, windspeed_lag_7, sealevelpressure_lag_2, sealevelpressure_lag_3, sealevelpressure_lag_4, sealevelpressure_lag_5, sealevelpressure_lag_6, sealevelpressure_lag_7, cloudcover_lag_2, cloudcover_lag_3, cloudcover_lag_4, cloudcover_lag_5, cloudcover_lag_6, cloudcover_lag_7, visibility_lag_2, visibility_lag_3, visibility_lag_4, visibility_lag_5, visibility_lag_6, visibility_lag_7, solarradiation_lag_2, solarradiation_lag_3, solarradiation_lag_4, solarradiation_lag_5, solarradiation_lag_6, solarradiation_lag_7, pressure_temp_index_lag_2, pressure_temp_index_lag_3, pressure_temp_index_lag_4, pressure_temp_index_lag_5, pressure_temp_index_lag_6, pressure_temp_index_lag_7, wind_temp_index_lag_2, wind_temp_index_lag_3, wind_temp_index_lag_4, wind_temp_index_lag_5, wind_temp_index_lag_6, wind_temp_index_lag_7, temp_range_lag_2, temp_range_lag_3, temp_range_lag_4, temp_range_lag_5, temp_range_lag_6, temp_range_lag_7, dew_spread_lag_2, dew_spread_lag_3, dew_spread_lag_4, dew_spread_lag_5, dew_spread_lag_6, dew_spread_lag_7, temp_roll_mean_3, temp_roll_mean_7, temp_roll_mean_14, tempmax_roll_mean_3, tempmax_roll_mean_7, tempmax_roll_mean_14, tempmin_roll_mean_3, tempmin_roll_mean_7, tempmin_roll_mean_14, dew_roll_mean_3, dew_roll_mean_7, dew_roll_mean_14, humidity_roll_mean_3, humidity_roll_mean_7, humidity_roll_mean_14, precip_roll_mean_3, precip_roll_mean_7, precip_roll_mean_14, precipprob_roll_mean_3, precipprob_roll_mean_7, precipprob_roll_mean_14, precipcover_roll_mean_3, precipcover_roll_mean_7, precipcover_roll_mean_14, windgust_roll_mean_3, windgust_roll_mean_7, windgust_roll_mean_14, windspeed_roll_mean_3, windspeed_roll_mean_7, windspeed_roll_mean_14, sealevelpressure_roll_mean_3, sealevelpressure_roll_mean_7, sealevelpressure_roll_mean_14, cloudcover_roll_mean_3, cloudcover_roll_mean_7, cloudcover_roll_mean_14, visibility_roll_mean_3, visibility_roll_mean_7, visibility_roll_mean_14, solarradiation_roll_mean_3, solarradiation_roll_mean_7, solarradiation_roll_mean_14, pressure_temp_index_roll_mean_3, pressure_temp_index_roll_mean_7, pressure_temp_index_roll_mean_14, wind_temp_index_roll_mean_3, wind_temp_index_roll_mean_7, wind_temp_index_roll_mean_14, temp_range_roll_mean_3, temp_range_roll_mean_7, temp_range_roll_mean_14, dew_spread_roll_mean_3, dew_spread_roll_mean_7, dew_spread_roll_mean_14, temp_roll_std_3, temp_roll_std_7, temp_roll_std_14, tempmax_roll_std_3, tempmax_roll_std_7, tempmax_roll_std_14, tempmin_roll_std_3, tempmin_roll_std_7, tempmin_roll_std_14, dew_roll_std_3, dew_roll_std_7, dew_roll_std_14, humidity_roll_std_3, humidity_roll_std_7, humidity_roll_std_14, precip_roll_std_3, precip_roll_std_7, precip_roll_std_14, precipprob_roll_std_3, precipprob_roll_std_7, precipprob_roll_std_14, precipcover_roll_std_3, precipcover_roll_std_7, precipcover_roll_std_14, windgust_roll_std_3, windgust_roll_std_7, windgust_roll_std_14, windspeed_roll_std_3, windspeed_roll_std_7, windspeed_roll_std_14, sealevelpressure_roll_std_3, sealevelpressure_roll_std_7, sealevelpressure_roll_std_14, cloudcover_roll_std_3, cloudcover_roll_std_7, cloudcover_roll_std_14, visibility_roll_std_3, visibility_roll_std_7, visibility_roll_std_14, solarradiation_roll_std_3, solarradiation_roll_std_7, solarradiation_roll_std_14, pressure_temp_index_roll_std_3, pressure_temp_index_roll_std_7, pressure_temp_index_roll_std_14, wind_temp_index_roll_std_3, wind_temp_index_roll_std_7, wind_temp_index_roll_std_14, temp_range_roll_std_3, temp_range_roll_std_7, temp_range_roll_std_14, dew_spread_roll_std_3, dew_spread_roll_std_7, dew_spread_roll_std_14\n"
     ]
    }
   ],
   "source": [
    "# Hiển thị toàn bộ dòng và cột\n",
    "print(\", \".join(train_feat.columns))\n"
   ]
  },
  {
   "cell_type": "code",
   "execution_count": 8,
   "id": "6efadf4d",
   "metadata": {},
   "outputs": [
    {
     "name": "stdout",
     "output_type": "stream",
     "text": [
      "Train: ((2562, 252), (2562,)), Val: ((549, 252), (549,)), Test: ((549, 252), (549,))\n"
     ]
    }
   ],
   "source": [
    "# Chia X, y riêng biệt\n",
    "X_train, y_train = train_feat.drop(columns=[target_col]), train_df[target_col]\n",
    "X_val, y_val = val_feat.drop(columns=[target_col]), val_df[target_col]\n",
    "X_test, y_test = test_feat.drop(columns=[target_col]), test_df[target_col]\n",
    "\n",
    "print(f\"Train: {X_train.shape, y_train.shape}, Val: {X_val.shape, y_val.shape}, Test: {X_test.shape, y_test.shape}\")"
   ]
  },
  {
   "cell_type": "code",
   "execution_count": 9,
   "id": "dd9f0f5b",
   "metadata": {},
   "outputs": [
    {
     "name": "stdout",
     "output_type": "stream",
     "text": [
      "Train: ((2562, 37), (2562,)), Val: ((549, 37), (549,)), Test: ((549, 37), (549,))\n"
     ]
    }
   ],
   "source": [
    "# thử chỉ có preprocessing\n",
    "X_train_base, y_train_base = train_processed.drop(columns=[target_col]), train_df[target_col]\n",
    "X_val_base, y_val_base = val_processed.drop(columns=[target_col]), val_df[target_col]\n",
    "X_test_base, y_test_base = test_processed.drop(columns=[target_col]), test_df[target_col]\n",
    "\n",
    "# X_train_base = X_train.drop(['sunrise', 'sunset'], axis= 1)\n",
    "# X_val_base = X_val.drop(['sunrise', 'sunset'], axis= 1)\n",
    "# X_test_base= X_test.drop(['sunrise', 'sunset'], axis= 1)\n",
    "\n",
    "print(f\"Train: {X_train_base.shape, y_train.shape}, Val: {X_val_base.shape, y_val.shape}, Test: {X_test_base.shape, y_test.shape}\")"
   ]
  },
  {
   "cell_type": "markdown",
   "id": "99aa7da8",
   "metadata": {},
   "source": [
    "### Random Forest"
   ]
  },
  {
   "cell_type": "code",
   "execution_count": 10,
   "id": "22dfd01f",
   "metadata": {},
   "outputs": [],
   "source": [
    "# 1. fit \n",
    "model1 = RandomForestRegressor(n_estimators = 100, min_samples_split=2, min_samples_leaf=1,min_impurity_decrease=0, \n",
    "                               max_depth= 7, max_features= None, bootstrap= True, oob_score= False, \n",
    "                               max_leaf_nodes= None, max_samples= None, random_state= 42\n",
    "                               )\n",
    "model1.fit(X_train, y_train) # sau này đầy đủ feature engineering thì thay X đầy đủ feature vào\n",
    "\n",
    "# 2. predict\n",
    "y_pred_val = model1.predict(X_val) \n",
    "y_pred_test = model1.predict(X_test)"
   ]
  },
  {
   "cell_type": "code",
   "execution_count": 11,
   "id": "8a70dd81",
   "metadata": {},
   "outputs": [
    {
     "name": "stdout",
     "output_type": "stream",
     "text": [
      "                      Feature    Importance\n",
      "2                  temp_lag_1  8.719595e-01\n",
      "1               tempmin_lag_1  2.788409e-02\n",
      "30  pressure_temp_index_lag_1  2.403750e-02\n",
      "9             windspeed_lag_1  7.132565e-03\n",
      "8              windgust_lag_1  4.534253e-03\n",
      "..                        ...           ...\n",
      "74           precipprob_lag_4  1.139459e-06\n",
      "77           precipprob_lag_7  3.766489e-07\n",
      "73           precipprob_lag_3  1.515299e-07\n",
      "72           precipprob_lag_2  0.000000e+00\n",
      "35                foggy_lag_1  0.000000e+00\n",
      "\n",
      "[252 rows x 2 columns]\n"
     ]
    }
   ],
   "source": [
    "# Lấy feature importance\n",
    "importances = model1.feature_importances_\n",
    "\n",
    "# Tạo DataFrame hiển thị\n",
    "feat_importance = pd.DataFrame({\n",
    "    'Feature': X_train.columns,\n",
    "    'Importance': importances\n",
    "}).sort_values(by='Importance', ascending=False)\n",
    "\n",
    "print(feat_importance)"
   ]
  },
  {
   "cell_type": "code",
   "execution_count": 12,
   "id": "29b87314",
   "metadata": {},
   "outputs": [
    {
     "data": {
      "image/png": "[encoded data removed]",
      "text/plain": [
       "<Figure size 1000x600 with 1 Axes>"
      ]
     },
     "metadata": {},
     "output_type": "display_data"
    }
   ],
   "source": [
    "import matplotlib.pyplot as plt\n",
    "\n",
    "plt.figure(figsize=(10, 6))\n",
    "plt.barh(feat_importance['Feature'][:15], feat_importance['Importance'][:15])\n",
    "plt.gca().invert_yaxis()\n",
    "plt.title(\"Top 15 Feature Importances (Random Forest)\")\n",
    "plt.xlabel(\"Importance\")\n",
    "plt.show()\n"
   ]
  },
  {
   "cell_type": "code",
   "execution_count": 13,
   "id": "cf8c68be",
   "metadata": {},
   "outputs": [
    {
     "name": "stdout",
     "output_type": "stream",
     "text": [
      "Validation metrics: {'RMSE': np.float64(1.5947420272865784), 'R2': 0.904375190572565, 'MAPE': np.float64(5.370479272607208)}\n",
      "Test metrics: {'RMSE': np.float64(1.4048978311934608), 'R2': 0.9088047388756998, 'MAPE': np.float64(4.457994638536641)}\n",
      "RandomForest model saved to models/RF_model.pkl\n"
     ]
    }
   ],
   "source": [
    "# Đánh giá sơ bộ trước khi tune\n",
    "\n",
    "# 3. Evaluate on validation\n",
    "val_metrics = evaluate(y_val, y_pred_val)\n",
    "print(\"Validation metrics:\", val_metrics)\n",
    "\n",
    "# 4. Evaluate on test\n",
    "test_metrics = evaluate(y_test, y_pred_test)\n",
    "print(\"Test metrics:\", test_metrics)\n",
    "\n",
    "# 5. Save model \n",
    "model_path = r'models/RF_model.pkl' \n",
    "joblib.dump(model1, model_path)\n",
    "print(f\"RandomForest model saved to {model_path}\")\n",
    "\n"
   ]
  },
  {
   "cell_type": "code",
   "execution_count": 14,
   "id": "5a6482b0",
   "metadata": {},
   "outputs": [],
   "source": [
    "def objective(trial):\n",
    "    # Hyperparameter space\n",
    "    n_estimators = trial.suggest_int('n_estimators', 100, 1000)\n",
    "    max_depth = trial.suggest_int('max_depth', 5, 50)\n",
    "    min_samples_split = trial.suggest_int('min_samples_split', 2, 10)\n",
    "    min_samples_leaf = trial.suggest_int('min_samples_leaf', 1, 5)\n",
    "    min_impurity_decrease = trial.suggest_float('min_impurity_decrease', 0.0, 0.5)\n",
    "    max_features = trial.suggest_categorical('max_features', ['sqrt', 'log2', None])\n",
    "    #bootstrap = trial.suggest_categorical('bootstrap', [True, False])\n",
    "    #oob_score = trial.suggest_categorical('oob_score', [False, True]) if bootstrap else False\n",
    "    max_leaf_nodes = trial.suggest_int('max_leaf_nodes', 10, 1000)\n",
    "    #max_samples = trial.suggest_float('max_samples', 0.5, 1.0) if bootstrap else None\n",
    "\n",
    "    # Model\n",
    "    model = RandomForestRegressor(\n",
    "        n_estimators=n_estimators,\n",
    "        max_depth=max_depth,\n",
    "        min_samples_split=min_samples_split,\n",
    "        min_samples_leaf=min_samples_leaf,\n",
    "        min_impurity_decrease=min_impurity_decrease,\n",
    "        max_features=max_features,\n",
    "        bootstrap= False,\n",
    "        oob_score= False,\n",
    "        max_leaf_nodes=max_leaf_nodes,\n",
    "        max_samples= None,\n",
    "        random_state=42,\n",
    "        n_jobs=-1\n",
    "    )\n",
    "\n",
    "    # Time series CV\n",
    "    cv = TimeSeriesSplit(n_splits=5)\n",
    "    rmse_scores = []\n",
    "\n",
    "    for train_idx, val_idx in cv.split(X_train):\n",
    "        X_tr, X_val = X_train.iloc[train_idx], X_train.iloc[val_idx]\n",
    "        y_tr, y_val = y_train.iloc[train_idx], y_train.iloc[val_idx]\n",
    "\n",
    "        model.fit(X_tr, y_tr)\n",
    "        y_pred_val = model.predict(X_val)\n",
    "\n",
    "        metrics = evaluate(y_val, y_pred_val)\n",
    "        rmse_scores.append(metrics['RMSE'])\n",
    "\n",
    "    # Trả về RMSE trung bình của các cv để Optuna minimize\n",
    "    return np.mean(rmse_scores)\n"
   ]
  },
  {
   "cell_type": "code",
   "execution_count": 15,
   "id": "0eceb38e",
   "metadata": {},
   "outputs": [
    {
     "name": "stderr",
     "output_type": "stream",
     "text": [
      "[I 2025-10-18 19:02:15,998] A new study created in memory with name: no-name-1198b350-4c60-4735-833e-4b6ec24126d6\n",
      "[I 2025-10-18 19:03:54,081] Trial 0 finished with value: 1.9222961423389961 and parameters: {'n_estimators': 437, 'max_depth': 48, 'min_samples_split': 8, 'min_samples_leaf': 3, 'min_impurity_decrease': 0.07800932022121826, 'max_features': None, 'max_leaf_nodes': 605}. Best is trial 0 with value: 1.9222961423389961.\n",
      "[I 2025-10-18 19:06:24,804] Trial 1 finished with value: 2.008556664600326 and parameters: {'n_estimators': 737, 'max_depth': 5, 'min_samples_split': 10, 'min_samples_leaf': 5, 'min_impurity_decrease': 0.10616955533913808, 'max_features': None, 'max_leaf_nodes': 530}. Best is trial 0 with value: 1.9222961423389961.\n",
      "[I 2025-10-18 19:08:01,607] Trial 2 finished with value: 2.0212229655663627 and parameters: {'n_estimators': 489, 'max_depth': 18, 'min_samples_split': 7, 'min_samples_leaf': 1, 'min_impurity_decrease': 0.14607232426760908, 'max_features': None, 'max_leaf_nodes': 207}. Best is trial 0 with value: 1.9222961423389961.\n",
      "[I 2025-10-18 19:09:59,429] Trial 3 finished with value: 1.948583287277496 and parameters: {'n_estimators': 563, 'max_depth': 32, 'min_samples_split': 2, 'min_samples_leaf': 4, 'min_impurity_decrease': 0.08526206184364576, 'max_features': None, 'max_leaf_nodes': 811}. Best is trial 0 with value: 1.9222961423389961.\n",
      "[I 2025-10-18 19:11:33,370] Trial 4 finished with value: 1.917108382543978 and parameters: {'n_estimators': 374, 'max_depth': 9, 'min_samples_split': 8, 'min_samples_leaf': 3, 'min_impurity_decrease': 0.06101911742238941, 'max_features': None, 'max_leaf_nodes': 266}. Best is trial 4 with value: 1.917108382543978.\n",
      "[I 2025-10-18 19:11:45,967] Trial 5 finished with value: 1.7716167717138493 and parameters: {'n_estimators': 696, 'max_depth': 19, 'min_samples_split': 6, 'min_samples_leaf': 3, 'min_impurity_decrease': 0.09242722776276352, 'max_features': 'sqrt', 'max_leaf_nodes': 896}. Best is trial 5 with value: 1.7716167717138493.\n",
      "[I 2025-10-18 19:11:55,696] Trial 6 finished with value: 1.753552251487854 and parameters: {'n_estimators': 638, 'max_depth': 47, 'min_samples_split': 2, 'min_samples_leaf': 1, 'min_impurity_decrease': 0.022613644455269033, 'max_features': 'log2', 'max_leaf_nodes': 831}. Best is trial 6 with value: 1.753552251487854.\n",
      "[I 2025-10-18 19:11:59,368] Trial 7 finished with value: 2.1649308574967705 and parameters: {'n_estimators': 421, 'max_depth': 17, 'min_samples_split': 6, 'min_samples_leaf': 1, 'min_impurity_decrease': 0.40109849037701983, 'max_features': 'log2', 'max_leaf_nodes': 206}. Best is trial 6 with value: 1.753552251487854.\n",
      "[I 2025-10-18 19:12:00,444] Trial 8 finished with value: 2.182260163829581 and parameters: {'n_estimators': 104, 'max_depth': 42, 'min_samples_split': 8, 'min_samples_leaf': 4, 'min_impurity_decrease': 0.38563517334297287, 'max_features': 'log2', 'max_leaf_nodes': 865}. Best is trial 6 with value: 1.753552251487854.\n",
      "[I 2025-10-18 19:13:59,529] Trial 9 finished with value: 2.0233027891370767 and parameters: {'n_estimators': 661, 'max_depth': 20, 'min_samples_split': 2, 'min_samples_leaf': 2, 'min_impurity_decrease': 0.16259166101337352, 'max_features': None, 'max_leaf_nodes': 477}. Best is trial 6 with value: 1.753552251487854.\n",
      "[I 2025-10-18 19:14:07,838] Trial 10 finished with value: 2.0976600140948003 and parameters: {'n_estimators': 959, 'max_depth': 36, 'min_samples_split': 4, 'min_samples_leaf': 2, 'min_impurity_decrease': 0.2828065453407016, 'max_features': 'log2', 'max_leaf_nodes': 733}. Best is trial 6 with value: 1.753552251487854.\n",
      "[I 2025-10-18 19:14:33,686] Trial 11 finished with value: 1.6102184334936915 and parameters: {'n_estimators': 843, 'max_depth': 27, 'min_samples_split': 4, 'min_samples_leaf': 2, 'min_impurity_decrease': 0.004844991541240212, 'max_features': 'sqrt', 'max_leaf_nodes': 994}. Best is trial 11 with value: 1.6102184334936915.\n",
      "[I 2025-10-18 19:15:04,278] Trial 12 finished with value: 1.6104416739066607 and parameters: {'n_estimators': 917, 'max_depth': 28, 'min_samples_split': 4, 'min_samples_leaf': 1, 'min_impurity_decrease': 0.0038824000167317872, 'max_features': 'sqrt', 'max_leaf_nodes': 969}. Best is trial 11 with value: 1.6102184334936915.\n",
      "[I 2025-10-18 19:15:18,692] Trial 13 finished with value: 1.9192587100914102 and parameters: {'n_estimators': 999, 'max_depth': 27, 'min_samples_split': 4, 'min_samples_leaf': 2, 'min_impurity_decrease': 0.23714134133277048, 'max_features': 'sqrt', 'max_leaf_nodes': 997}. Best is trial 11 with value: 1.6102184334936915.\n",
      "[I 2025-10-18 19:15:42,362] Trial 14 finished with value: 1.623197622770104 and parameters: {'n_estimators': 863, 'max_depth': 27, 'min_samples_split': 4, 'min_samples_leaf': 2, 'min_impurity_decrease': 0.012774747405271736, 'max_features': 'sqrt', 'max_leaf_nodes': 996}. Best is trial 11 with value: 1.6102184334936915.\n",
      "[I 2025-10-18 19:15:54,743] Trial 15 finished with value: 2.068342963431302 and parameters: {'n_estimators': 837, 'max_depth': 36, 'min_samples_split': 5, 'min_samples_leaf': 1, 'min_impurity_decrease': 0.49800849468060676, 'max_features': 'sqrt', 'max_leaf_nodes': 45}. Best is trial 11 with value: 1.6102184334936915.\n",
      "[I 2025-10-18 19:16:07,971] Trial 16 finished with value: 1.9006504285800971 and parameters: {'n_estimators': 843, 'max_depth': 23, 'min_samples_split': 3, 'min_samples_leaf': 2, 'min_impurity_decrease': 0.21406201062105903, 'max_features': 'sqrt', 'max_leaf_nodes': 666}. Best is trial 11 with value: 1.6102184334936915.\n",
      "[I 2025-10-18 19:16:11,619] Trial 17 finished with value: 1.9649157314475232 and parameters: {'n_estimators': 245, 'max_depth': 12, 'min_samples_split': 5, 'min_samples_leaf': 1, 'min_impurity_decrease': 0.3081804086073414, 'max_features': 'sqrt', 'max_leaf_nodes': 392}. Best is trial 11 with value: 1.6102184334936915.\n",
      "[I 2025-10-18 19:16:47,430] Trial 18 finished with value: 1.6068139853648262 and parameters: {'n_estimators': 904, 'max_depth': 33, 'min_samples_split': 3, 'min_samples_leaf': 2, 'min_impurity_decrease': 0.00023670696376072893, 'max_features': 'sqrt', 'max_leaf_nodes': 733}. Best is trial 18 with value: 1.6068139853648262.\n",
      "[I 2025-10-18 19:17:00,388] Trial 19 finished with value: 1.864454406512484 and parameters: {'n_estimators': 787, 'max_depth': 39, 'min_samples_split': 3, 'min_samples_leaf': 4, 'min_impurity_decrease': 0.17097873385545498, 'max_features': 'sqrt', 'max_leaf_nodes': 769}. Best is trial 18 with value: 1.6068139853648262.\n",
      "[I 2025-10-18 19:17:13,815] Trial 20 finished with value: 1.8151250237296412 and parameters: {'n_estimators': 765, 'max_depth': 32, 'min_samples_split': 3, 'min_samples_leaf': 3, 'min_impurity_decrease': 0.12633326939759731, 'max_features': 'sqrt', 'max_leaf_nodes': 720}. Best is trial 18 with value: 1.6068139853648262.\n",
      "[I 2025-10-18 19:17:48,313] Trial 21 finished with value: 1.6045203861328527 and parameters: {'n_estimators': 923, 'max_depth': 32, 'min_samples_split': 5, 'min_samples_leaf': 2, 'min_impurity_decrease': 0.0008010072428880139, 'max_features': 'sqrt', 'max_leaf_nodes': 933}. Best is trial 21 with value: 1.6045203861328527.\n",
      "[I 2025-10-18 19:18:05,772] Trial 22 finished with value: 1.6904760277003568 and parameters: {'n_estimators': 901, 'max_depth': 32, 'min_samples_split': 5, 'min_samples_leaf': 2, 'min_impurity_decrease': 0.0439599561047482, 'max_features': 'sqrt', 'max_leaf_nodes': 913}. Best is trial 21 with value: 1.6045203861328527.\n",
      "[I 2025-10-18 19:18:24,905] Trial 23 finished with value: 1.6996658232572073 and parameters: {'n_estimators': 994, 'max_depth': 43, 'min_samples_split': 5, 'min_samples_leaf': 2, 'min_impurity_decrease': 0.04844051935291133, 'max_features': 'sqrt', 'max_leaf_nodes': 892}. Best is trial 21 with value: 1.6045203861328527.\n",
      "[I 2025-10-18 19:18:43,783] Trial 24 finished with value: 1.6279611568136474 and parameters: {'n_estimators': 801, 'max_depth': 28, 'min_samples_split': 3, 'min_samples_leaf': 3, 'min_impurity_decrease': 0.014823506822549563, 'max_features': 'sqrt', 'max_leaf_nodes': 665}. Best is trial 21 with value: 1.6045203861328527.\n",
      "[I 2025-10-18 19:19:03,935] Trial 25 finished with value: 1.712161265758835 and parameters: {'n_estimators': 920, 'max_depth': 36, 'min_samples_split': 6, 'min_samples_leaf': 2, 'min_impurity_decrease': 0.05518365312914568, 'max_features': 'sqrt', 'max_leaf_nodes': 930}. Best is trial 21 with value: 1.6045203861328527.\n",
      "[I 2025-10-18 19:19:12,366] Trial 26 finished with value: 1.8770438607051034 and parameters: {'n_estimators': 573, 'max_depth': 24, 'min_samples_split': 7, 'min_samples_leaf': 3, 'min_impurity_decrease': 0.18263597682153498, 'max_features': 'sqrt', 'max_leaf_nodes': 814}. Best is trial 21 with value: 1.6045203861328527.\n",
      "[I 2025-10-18 19:19:45,400] Trial 27 finished with value: 1.6072958705534397 and parameters: {'n_estimators': 887, 'max_depth': 31, 'min_samples_split': 4, 'min_samples_leaf': 2, 'min_impurity_decrease': 0.0008945155015677046, 'max_features': 'sqrt', 'max_leaf_nodes': 618}. Best is trial 21 with value: 1.6045203861328527.\n",
      "[I 2025-10-18 19:20:00,225] Trial 28 finished with value: 1.788697691828574 and parameters: {'n_estimators': 926, 'max_depth': 32, 'min_samples_split': 3, 'min_samples_leaf': 2, 'min_impurity_decrease': 0.1067238881886955, 'max_features': 'sqrt', 'max_leaf_nodes': 558}. Best is trial 21 with value: 1.6045203861328527.\n",
      "[I 2025-10-18 19:20:08,529] Trial 29 finished with value: 1.8780851125324118 and parameters: {'n_estimators': 709, 'max_depth': 47, 'min_samples_split': 10, 'min_samples_leaf': 3, 'min_impurity_decrease': 0.07346172610724881, 'max_features': 'log2', 'max_leaf_nodes': 626}. Best is trial 21 with value: 1.6045203861328527.\n",
      "[I 2025-10-18 19:20:19,657] Trial 30 finished with value: 1.8220112310214802 and parameters: {'n_estimators': 625, 'max_depth': 40, 'min_samples_split': 7, 'min_samples_leaf': 3, 'min_impurity_decrease': 0.1320857201772539, 'max_features': 'sqrt', 'max_leaf_nodes': 452}. Best is trial 21 with value: 1.6045203861328527.\n",
      "[I 2025-10-18 19:20:38,238] Trial 31 finished with value: 1.6670116539456352 and parameters: {'n_estimators': 878, 'max_depth': 24, 'min_samples_split': 4, 'min_samples_leaf': 2, 'min_impurity_decrease': 0.03233246256373826, 'max_features': 'sqrt', 'max_leaf_nodes': 604}. Best is trial 21 with value: 1.6045203861328527.\n",
      "[I 2025-10-18 19:20:57,040] Trial 32 finished with value: 1.6375271310240955 and parameters: {'n_estimators': 809, 'max_depth': 30, 'min_samples_split': 5, 'min_samples_leaf': 2, 'min_impurity_decrease': 0.01897962565181481, 'max_features': 'sqrt', 'max_leaf_nodes': 777}. Best is trial 21 with value: 1.6045203861328527.\n",
      "[I 2025-10-18 19:21:24,845] Trial 33 finished with value: 1.609718964442227 and parameters: {'n_estimators': 736, 'max_depth': 35, 'min_samples_split': 4, 'min_samples_leaf': 1, 'min_impurity_decrease': 0.003262696965486856, 'max_features': 'sqrt', 'max_leaf_nodes': 704}. Best is trial 21 with value: 1.6045203861328527.\n",
      "[I 2025-10-18 19:24:16,821] Trial 34 finished with value: 1.9254244911574392 and parameters: {'n_estimators': 760, 'max_depth': 36, 'min_samples_split': 2, 'min_samples_leaf': 1, 'min_impurity_decrease': 0.07739399096013086, 'max_features': None, 'max_leaf_nodes': 545}. Best is trial 21 with value: 1.6045203861328527.\n",
      "[I 2025-10-18 19:24:35,159] Trial 35 finished with value: 1.7057304483066287 and parameters: {'n_estimators': 956, 'max_depth': 34, 'min_samples_split': 3, 'min_samples_leaf': 5, 'min_impurity_decrease': 0.05077537926175943, 'max_features': 'sqrt', 'max_leaf_nodes': 695}. Best is trial 21 with value: 1.6045203861328527.\n",
      "[I 2025-10-18 19:30:53,902] Trial 36 finished with value: 2.205108345895582 and parameters: {'n_estimators': 730, 'max_depth': 41, 'min_samples_split': 9, 'min_samples_leaf': 1, 'min_impurity_decrease': 0.0005573349889212171, 'max_features': None, 'max_leaf_nodes': 763}. Best is trial 21 with value: 1.6045203861328527.\n",
      "[I 2025-10-18 19:31:10,411] Trial 37 finished with value: 1.7892012573558322 and parameters: {'n_estimators': 876, 'max_depth': 44, 'min_samples_split': 5, 'min_samples_leaf': 1, 'min_impurity_decrease': 0.10757176949360582, 'max_features': 'sqrt', 'max_leaf_nodes': 593}. Best is trial 21 with value: 1.6045203861328527.\n",
      "[I 2025-10-18 19:31:21,030] Trial 38 finished with value: 1.7606533239503386 and parameters: {'n_estimators': 529, 'max_depth': 38, 'min_samples_split': 6, 'min_samples_leaf': 1, 'min_impurity_decrease': 0.0829232462250519, 'max_features': 'sqrt', 'max_leaf_nodes': 429}. Best is trial 21 with value: 1.6045203861328527.\n",
      "[I 2025-10-18 19:35:56,839] Trial 39 finished with value: 1.9494609835634809 and parameters: {'n_estimators': 943, 'max_depth': 30, 'min_samples_split': 4, 'min_samples_leaf': 3, 'min_impurity_decrease': 0.03283501875930164, 'max_features': None, 'max_leaf_nodes': 356}. Best is trial 21 with value: 1.6045203861328527.\n",
      "[I 2025-10-18 19:36:07,298] Trial 40 finished with value: 1.869972155717451 and parameters: {'n_estimators': 696, 'max_depth': 34, 'min_samples_split': 2, 'min_samples_leaf': 4, 'min_impurity_decrease': 0.06751404580325826, 'max_features': 'log2', 'max_leaf_nodes': 851}. Best is trial 21 with value: 1.6045203861328527.\n",
      "[I 2025-10-18 19:36:29,156] Trial 41 finished with value: 1.6704858977867076 and parameters: {'n_estimators': 827, 'max_depth': 30, 'min_samples_split': 4, 'min_samples_leaf': 2, 'min_impurity_decrease': 0.034069348008919635, 'max_features': 'sqrt', 'max_leaf_nodes': 926}. Best is trial 21 with value: 1.6045203861328527.\n",
      "[I 2025-10-18 19:37:05,528] Trial 42 finished with value: 1.6085818973455428 and parameters: {'n_estimators': 890, 'max_depth': 25, 'min_samples_split': 4, 'min_samples_leaf': 2, 'min_impurity_decrease': 0.0034132862209701104, 'max_features': 'sqrt', 'max_leaf_nodes': 514}. Best is trial 21 with value: 1.6045203861328527.\n",
      "[I 2025-10-18 19:37:40,461] Trial 43 finished with value: 1.6107337420055874 and parameters: {'n_estimators': 978, 'max_depth': 22, 'min_samples_split': 6, 'min_samples_leaf': 1, 'min_impurity_decrease': 0.0020871764605157046, 'max_features': 'sqrt', 'max_leaf_nodes': 487}. Best is trial 21 with value: 1.6045203861328527.\n",
      "[I 2025-10-18 19:37:57,349] Trial 44 finished with value: 1.7739166825509234 and parameters: {'n_estimators': 890, 'max_depth': 50, 'min_samples_split': 5, 'min_samples_leaf': 2, 'min_impurity_decrease': 0.09614821448260027, 'max_features': 'sqrt', 'max_leaf_nodes': 517}. Best is trial 21 with value: 1.6045203861328527.\n",
      "[I 2025-10-18 19:38:13,047] Trial 45 finished with value: 1.715115848914931 and parameters: {'n_estimators': 667, 'max_depth': 17, 'min_samples_split': 3, 'min_samples_leaf': 2, 'min_impurity_decrease': 0.05675986853847986, 'max_features': 'sqrt', 'max_leaf_nodes': 635}. Best is trial 21 with value: 1.6045203861328527.\n",
      "[I 2025-10-18 19:38:19,378] Trial 46 finished with value: 1.7765135380697032 and parameters: {'n_estimators': 349, 'max_depth': 34, 'min_samples_split': 4, 'min_samples_leaf': 3, 'min_impurity_decrease': 0.028926655173466792, 'max_features': 'log2', 'max_leaf_nodes': 570}. Best is trial 21 with value: 1.6045203861328527.\n",
      "[I 2025-10-18 19:38:32,437] Trial 47 finished with value: 2.0151464498134084 and parameters: {'n_estimators': 758, 'max_depth': 25, 'min_samples_split': 2, 'min_samples_leaf': 1, 'min_impurity_decrease': 0.3753350342223253, 'max_features': 'sqrt', 'max_leaf_nodes': 712}. Best is trial 21 with value: 1.6045203861328527.\n",
      "[I 2025-10-18 19:47:56,183] Trial 48 finished with value: 2.2041434708641034 and parameters: {'n_estimators': 947, 'max_depth': 20, 'min_samples_split': 4, 'min_samples_leaf': 2, 'min_impurity_decrease': 0.0005535767329178742, 'max_features': None, 'max_leaf_nodes': 338}. Best is trial 21 with value: 1.6045203861328527.\n",
      "[I 2025-10-18 19:48:07,867] Trial 49 finished with value: 1.9944121256501444 and parameters: {'n_estimators': 616, 'max_depth': 38, 'min_samples_split': 3, 'min_samples_leaf': 1, 'min_impurity_decrease': 0.33756884206049914, 'max_features': 'sqrt', 'max_leaf_nodes': 659}. Best is trial 21 with value: 1.6045203861328527.\n"
     ]
    },
    {
     "name": "stdout",
     "output_type": "stream",
     "text": [
      "Best parameters: {'n_estimators': 923, 'max_depth': 32, 'min_samples_split': 5, 'min_samples_leaf': 2, 'min_impurity_decrease': 0.0008010072428880139, 'max_features': 'sqrt', 'max_leaf_nodes': 933}\n",
      "Best RMSE: 1.6045203861328527\n"
     ]
    }
   ],
   "source": [
    "study = optuna.create_study(direction='minimize', sampler=sampler)  # minimize RMSE\n",
    "study.optimize(objective, n_trials=50)\n",
    "print(\"Best parameters:\", study.best_trial.params)\n",
    "print(\"Best RMSE:\", study.best_value)\n"
   ]
  },
  {
   "cell_type": "code",
   "execution_count": 16,
   "id": "b1f6997b",
   "metadata": {},
   "outputs": [
    {
     "data": {
      "text/plain": [
       "{'n_estimators': 923,\n",
       " 'max_depth': 32,\n",
       " 'min_samples_split': 5,\n",
       " 'min_samples_leaf': 2,\n",
       " 'min_impurity_decrease': 0.0008010072428880139,\n",
       " 'max_features': 'sqrt',\n",
       " 'max_leaf_nodes': 933}"
      ]
     },
     "execution_count": 16,
     "metadata": {},
     "output_type": "execute_result"
    }
   ],
   "source": [
    "study.best_params"
   ]
  },
  {
   "cell_type": "code",
   "execution_count": 17,
   "id": "3a481d0c",
   "metadata": {},
   "outputs": [],
   "source": [
    "best_params = study.best_params"
   ]
  },
  {
   "cell_type": "code",
   "execution_count": 18,
   "id": "f4dbc870",
   "metadata": {},
   "outputs": [],
   "source": [
    "# ! pip install plotly"
   ]
  },
  {
   "cell_type": "code",
   "execution_count": 19,
   "id": "1417c76d",
   "metadata": {},
   "outputs": [
    {
     "data": {
      "application/vnd.plotly.v1+json": {
       "config": {
        "plotlyServerURL": "https://plot.ly"
       },
       "data": [
        {
         "mode": "markers",
         "name": "Objective Value",
         "type": "scatter",
         "x": [
          0,
          1,
          2,
          3,
          4,
          5,
          6,
          7,
          8,
          9,
          10,
          11,
          12,
          13,
          14,
          15,
          16,
          17,
          18,
          19,
          20,
          21,
          22,
          23,
          24,
          25,
          26,
          27,
          28,
          29,
          30,
          31,
          32,
          33,
          34,
          35,
          36,
          37,
          38,
          39,
          40,
          41,
          42,
          43,
          44,
          45,
          46,
          47,
          48,
          49
         ],
         "y": [
          1.9222961423389961,
          2.008556664600326,
          2.0212229655663627,
          1.948583287277496,
          1.917108382543978,
          1.7716167717138493,
          1.753552251487854,
          2.1649308574967705,
          2.182260163829581,
          2.0233027891370767,
          2.0976600140948003,
          1.6102184334936915,
          1.6104416739066607,
          1.9192587100914102,
          1.623197622770104,
          2.068342963431302,
          1.9006504285800971,
          1.9649157314475232,
          1.6068139853648262,
          1.864454406512484,
          1.8151250237296412,
          1.6045203861328527,
          1.6904760277003568,
          1.6996658232572073,
          1.6279611568136474,
          1.712161265758835,
          1.8770438607051034,
          1.6072958705534397,
          1.788697691828574,
          1.8780851125324118,
          1.8220112310214802,
          1.6670116539456352,
          1.6375271310240955,
          1.609718964442227,
          1.9254244911574392,
          1.7057304483066287,
          2.205108345895582,
          1.7892012573558322,
          1.7606533239503386,
          1.9494609835634809,
          1.869972155717451,
          1.6704858977867076,
          1.6085818973455428,
          1.6107337420055874,
          1.7739166825509234,
          1.715115848914931,
          1.7765135380697032,
          2.0151464498134084,
          2.2041434708641034,
          1.9944121256501444
         ]
        },
        {
         "mode": "lines",
         "name": "Best Value",
         "type": "scatter",
         "x": [
          0,
          1,
          2,
          3,
          4,
          5,
          6,
          7,
          8,
          9,
          10,
          11,
          12,
          13,
          14,
          15,
          16,
          17,
          18,
          19,
          20,
          21,
          22,
          23,
          24,
          25,
          26,
          27,
          28,
          29,
          30,
          31,
          32,
          33,
          34,
          35,
          36,
          37,
          38,
          39,
          40,
          41,
          42,
          43,
          44,
          45,
          46,
          47,
          48,
          49
         ],
         "y": [
          1.9222961423389961,
          1.9222961423389961,
          1.9222961423389961,
          1.9222961423389961,
          1.917108382543978,
          1.7716167717138493,
          1.753552251487854,
          1.753552251487854,
          1.753552251487854,
          1.753552251487854,
          1.753552251487854,
          1.6102184334936915,
          1.6102184334936915,
          1.6102184334936915,
          1.6102184334936915,
          1.6102184334936915,
          1.6102184334936915,
          1.6102184334936915,
          1.6068139853648262,
          1.6068139853648262,
          1.6068139853648262,
          1.6045203861328527,
          1.6045203861328527,
          1.6045203861328527,
          1.6045203861328527,
          1.6045203861328527,
          1.6045203861328527,
          1.6045203861328527,
          1.6045203861328527,
          1.6045203861328527,
          1.6045203861328527,
          1.6045203861328527,
          1.6045203861328527,
          1.6045203861328527,
          1.6045203861328527,
          1.6045203861328527,
          1.6045203861328527,
          1.6045203861328527,
          1.6045203861328527,
          1.6045203861328527,
          1.6045203861328527,
          1.6045203861328527,
          1.6045203861328527,
          1.6045203861328527,
          1.6045203861328527,
          1.6045203861328527,
          1.6045203861328527,
          1.6045203861328527,
          1.6045203861328527,
          1.6045203861328527
         ]
        },
        {
         "marker": {
          "color": "#cccccc"
         },
         "mode": "markers",
         "name": "Infeasible Trial",
         "showlegend": false,
         "type": "scatter",
         "x": [],
         "y": []
        }
       ],
       "layout": {
        "template": {
         "data": {
          "bar": [
           {
            "error_x": {
             "color": "#2a3f5f"
            },
            "error_y": {
             "color": "#2a3f5f"
            },
            "marker": {
             "line": {
              "color": "#E5ECF6",
              "width": 0.5
             },
             "pattern": {
              "fillmode": "overlay",
              "size": 10,
              "solidity": 0.2
             }
            },
            "type": "bar"
           }
          ],
          "barpolar": [
           {
            "marker": {
             "line": {
              "color": "#E5ECF6",
              "width": 0.5
             },
             "pattern": {
              "fillmode": "overlay",
              "size": 10,
              "solidity": 0.2
             }
            },
            "type": "barpolar"
           }
          ],
          "carpet": [
           {
            "aaxis": {
             "endlinecolor": "#2a3f5f",
             "gridcolor": "white",
             "linecolor": "white",
             "minorgridcolor": "white",
             "startlinecolor": "#2a3f5f"
            },
            "baxis": {
             "endlinecolor": "#2a3f5f",
             "gridcolor": "white",
             "linecolor": "white",
             "minorgridcolor": "white",
             "startlinecolor": "#2a3f5f"
            },
            "type": "carpet"
           }
          ],
          "choropleth": [
           {
            "colorbar": {
             "outlinewidth": 0,
             "ticks": ""
            },
            "type": "choropleth"
           }
          ],
          "contour": [
           {
            "colorbar": {
             "outlinewidth": 0,
             "ticks": ""
            },
            "colorscale": [
             [
              0,
              "#0d0887"
             ],
             [
              0.1111111111111111,
              "#46039f"
             ],
             [
              0.2222222222222222,
              "#7201a8"
             ],
             [
              0.3333333333333333,
              "#9c179e"
             ],
             [
              0.4444444444444444,
              "#bd3786"
             ],
             [
              0.5555555555555556,
              "#d8576b"
             ],
             [
              0.6666666666666666,
              "#ed7953"
             ],
             [
              0.7777777777777778,
              "#fb9f3a"
             ],
             [
              0.8888888888888888,
              "#fdca26"
             ],
             [
              1,
              "#f0f921"
             ]
            ],
            "type": "contour"
           }
          ],
          "contourcarpet": [
           {
            "colorbar": {
             "outlinewidth": 0,
             "ticks": ""
            },
            "type": "contourcarpet"
           }
          ],
          "heatmap": [
           {
            "colorbar": {
             "outlinewidth": 0,
             "ticks": ""
            },
            "colorscale": [
             [
              0,
              "#0d0887"
             ],
             [
              0.1111111111111111,
              "#46039f"
             ],
             [
              0.2222222222222222,
              "#7201a8"
             ],
             [
              0.3333333333333333,
              "#9c179e"
             ],
             [
              0.4444444444444444,
              "#bd3786"
             ],
             [
              0.5555555555555556,
              "#d8576b"
             ],
             [
              0.6666666666666666,
              "#ed7953"
             ],
             [
              0.7777777777777778,
              "#fb9f3a"
             ],
             [
              0.8888888888888888,
              "#fdca26"
             ],
             [
              1,
              "#f0f921"
             ]
            ],
            "type": "heatmap"
           }
          ],
          "histogram": [
           {
            "marker": {
             "pattern": {
              "fillmode": "overlay",
              "size": 10,
              "solidity": 0.2
             }
            },
            "type": "histogram"
           }
          ],
          "histogram2d": [
           {
            "colorbar": {
             "outlinewidth": 0,
             "ticks": ""
            },
            "colorscale": [
             [
              0,
              "#0d0887"
             ],
             [
              0.1111111111111111,
              "#46039f"
             ],
             [
              0.2222222222222222,
              "#7201a8"
             ],
             [
              0.3333333333333333,
              "#9c179e"
             ],
             [
              0.4444444444444444,
              "#bd3786"
             ],
             [
              0.5555555555555556,
              "#d8576b"
             ],
             [
              0.6666666666666666,
              "#ed7953"
             ],
             [
              0.7777777777777778,
              "#fb9f3a"
             ],
             [
              0.8888888888888888,
              "#fdca26"
             ],
             [
              1,
              "#f0f921"
             ]
            ],
            "type": "histogram2d"
           }
          ],
          "histogram2dcontour": [
           {
            "colorbar": {
             "outlinewidth": 0,
             "ticks": ""
            },
            "colorscale": [
             [
              0,
              "#0d0887"
             ],
             [
              0.1111111111111111,
              "#46039f"
             ],
             [
              0.2222222222222222,
              "#7201a8"
             ],
             [
              0.3333333333333333,
              "#9c179e"
             ],
             [
              0.4444444444444444,
              "#bd3786"
             ],
             [
              0.5555555555555556,
              "#d8576b"
             ],
             [
              0.6666666666666666,
              "#ed7953"
             ],
             [
              0.7777777777777778,
              "#fb9f3a"
             ],
             [
              0.8888888888888888,
              "#fdca26"
             ],
             [
              1,
              "#f0f921"
             ]
            ],
            "type": "histogram2dcontour"
           }
          ],
          "mesh3d": [
           {
            "colorbar": {
             "outlinewidth": 0,
             "ticks": ""
            },
            "type": "mesh3d"
           }
          ],
          "parcoords": [
           {
            "line": {
             "colorbar": {
              "outlinewidth": 0,
              "ticks": ""
             }
            },
            "type": "parcoords"
           }
          ],
          "pie": [
           {
            "automargin": true,
            "type": "pie"
           }
          ],
          "scatter": [
           {
            "fillpattern": {
             "fillmode": "overlay",
             "size": 10,
             "solidity": 0.2
            },
            "type": "scatter"
           }
          ],
          "scatter3d": [
           {
            "line": {
             "colorbar": {
              "outlinewidth": 0,
              "ticks": ""
             }
            },
            "marker": {
             "colorbar": {
              "outlinewidth": 0,
              "ticks": ""
             }
            },
            "type": "scatter3d"
           }
          ],
          "scattercarpet": [
           {
            "marker": {
             "colorbar": {
              "outlinewidth": 0,
              "ticks": ""
             }
            },
            "type": "scattercarpet"
           }
          ],
          "scattergeo": [
           {
            "marker": {
             "colorbar": {
              "outlinewidth": 0,
              "ticks": ""
             }
            },
            "type": "scattergeo"
           }
          ],
          "scattergl": [
           {
            "marker": {
             "colorbar": {
              "outlinewidth": 0,
              "ticks": ""
             }
            },
            "type": "scattergl"
           }
          ],
          "scattermap": [
           {
            "marker": {
             "colorbar": {
              "outlinewidth": 0,
              "ticks": ""
             }
            },
            "type": "scattermap"
           }
          ],
          "scattermapbox": [
           {
            "marker": {
             "colorbar": {
              "outlinewidth": 0,
              "ticks": ""
             }
            },
            "type": "scattermapbox"
           }
          ],
          "scatterpolar": [
           {
            "marker": {
             "colorbar": {
              "outlinewidth": 0,
              "ticks": ""
             }
            },
            "type": "scatterpolar"
           }
          ],
          "scatterpolargl": [
           {
            "marker": {
             "colorbar": {
              "outlinewidth": 0,
              "ticks": ""
             }
            },
            "type": "scatterpolargl"
           }
          ],
          "scatterternary": [
           {
            "marker": {
             "colorbar": {
              "outlinewidth": 0,
              "ticks": ""
             }
            },
            "type": "scatterternary"
           }
          ],
          "surface": [
           {
            "colorbar": {
             "outlinewidth": 0,
             "ticks": ""
            },
            "colorscale": [
             [
              0,
              "#0d0887"
             ],
             [
              0.1111111111111111,
              "#46039f"
             ],
             [
              0.2222222222222222,
              "#7201a8"
             ],
             [
              0.3333333333333333,
              "#9c179e"
             ],
             [
              0.4444444444444444,
              "#bd3786"
             ],
             [
              0.5555555555555556,
              "#d8576b"
             ],
             [
              0.6666666666666666,
              "#ed7953"
             ],
             [
              0.7777777777777778,
              "#fb9f3a"
             ],
             [
              0.8888888888888888,
              "#fdca26"
             ],
             [
              1,
              "#f0f921"
             ]
            ],
            "type": "surface"
           }
          ],
          "table": [
           {
            "cells": {
             "fill": {
              "color": "#EBF0F8"
             },
             "line": {
              "color": "white"
             }
            },
            "header": {
             "fill": {
              "color": "#C8D4E3"
             },
             "line": {
              "color": "white"
             }
            },
            "type": "table"
           }
          ]
         },
         "layout": {
          "annotationdefaults": {
           "arrowcolor": "#2a3f5f",
           "arrowhead": 0,
           "arrowwidth": 1
          },
          "autotypenumbers": "strict",
          "coloraxis": {
           "colorbar": {
            "outlinewidth": 0,
            "ticks": ""
           }
          },
          "colorscale": {
           "diverging": [
            [
             0,
             "#8e0152"
            ],
            [
             0.1,
             "#c51b7d"
            ],
            [
             0.2,
             "#de77ae"
            ],
            [
             0.3,
             "#f1b6da"
            ],
            [
             0.4,
             "#fde0ef"
            ],
            [
             0.5,
             "#f7f7f7"
            ],
            [
             0.6,
             "#e6f5d0"
            ],
            [
             0.7,
             "#b8e186"
            ],
            [
             0.8,
             "#7fbc41"
            ],
            [
             0.9,
             "#4d9221"
            ],
            [
             1,
             "#276419"
            ]
           ],
           "sequential": [
            [
             0,
             "#0d0887"
            ],
            [
             0.1111111111111111,
             "#46039f"
            ],
            [
             0.2222222222222222,
             "#7201a8"
            ],
            [
             0.3333333333333333,
             "#9c179e"
            ],
            [
             0.4444444444444444,
             "#bd3786"
            ],
            [
             0.5555555555555556,
             "#d8576b"
            ],
            [
             0.6666666666666666,
             "#ed7953"
            ],
            [
             0.7777777777777778,
             "#fb9f3a"
            ],
            [
             0.8888888888888888,
             "#fdca26"
            ],
            [
             1,
             "#f0f921"
            ]
           ],
           "sequentialminus": [
            [
             0,
             "#0d0887"
            ],
            [
             0.1111111111111111,
             "#46039f"
            ],
            [
             0.2222222222222222,
             "#7201a8"
            ],
            [
             0.3333333333333333,
             "#9c179e"
            ],
            [
             0.4444444444444444,
             "#bd3786"
            ],
            [
             0.5555555555555556,
             "#d8576b"
            ],
            [
             0.6666666666666666,
             "#ed7953"
            ],
            [
             0.7777777777777778,
             "#fb9f3a"
            ],
            [
             0.8888888888888888,
             "#fdca26"
            ],
            [
             1,
             "#f0f921"
            ]
           ]
          },
          "colorway": [
           "#636efa",
           "#EF553B",
           "#00cc96",
           "#ab63fa",
           "#FFA15A",
           "#19d3f3",
           "#FF6692",
           "#B6E880",
           "#FF97FF",
           "#FECB52"
          ],
          "font": {
           "color": "#2a3f5f"
          },
          "geo": {
           "bgcolor": "white",
           "lakecolor": "white",
           "landcolor": "#E5ECF6",
           "showlakes": true,
           "showland": true,
           "subunitcolor": "white"
          },
          "hoverlabel": {
           "align": "left"
          },
          "hovermode": "closest",
          "mapbox": {
           "style": "light"
          },
          "paper_bgcolor": "white",
          "plot_bgcolor": "#E5ECF6",
          "polar": {
           "angularaxis": {
            "gridcolor": "white",
            "linecolor": "white",
            "ticks": ""
           },
           "bgcolor": "#E5ECF6",
           "radialaxis": {
            "gridcolor": "white",
            "linecolor": "white",
            "ticks": ""
           }
          },
          "scene": {
           "xaxis": {
            "backgroundcolor": "#E5ECF6",
            "gridcolor": "white",
            "gridwidth": 2,
            "linecolor": "white",
            "showbackground": true,
            "ticks": "",
            "zerolinecolor": "white"
           },
           "yaxis": {
            "backgroundcolor": "#E5ECF6",
            "gridcolor": "white",
            "gridwidth": 2,
            "linecolor": "white",
            "showbackground": true,
            "ticks": "",
            "zerolinecolor": "white"
           },
           "zaxis": {
            "backgroundcolor": "#E5ECF6",
            "gridcolor": "white",
            "gridwidth": 2,
            "linecolor": "white",
            "showbackground": true,
            "ticks": "",
            "zerolinecolor": "white"
           }
          },
          "shapedefaults": {
           "line": {
            "color": "#2a3f5f"
           }
          },
          "ternary": {
           "aaxis": {
            "gridcolor": "white",
            "linecolor": "white",
            "ticks": ""
           },
           "baxis": {
            "gridcolor": "white",
            "linecolor": "white",
            "ticks": ""
           },
           "bgcolor": "#E5ECF6",
           "caxis": {
            "gridcolor": "white",
            "linecolor": "white",
            "ticks": ""
           }
          },
          "title": {
           "x": 0.05
          },
          "xaxis": {
           "automargin": true,
           "gridcolor": "white",
           "linecolor": "white",
           "ticks": "",
           "title": {
            "standoff": 15
           },
           "zerolinecolor": "white",
           "zerolinewidth": 2
          },
          "yaxis": {
           "automargin": true,
           "gridcolor": "white",
           "linecolor": "white",
           "ticks": "",
           "title": {
            "standoff": 15
           },
           "zerolinecolor": "white",
           "zerolinewidth": 2
          }
         }
        },
        "title": {
         "text": "Optimization History Plot"
        },
        "xaxis": {
         "title": {
          "text": "Trial"
         }
        },
        "yaxis": {
         "title": {
          "text": "Objective Value"
         }
        }
       }
      }
     },
     "metadata": {},
     "output_type": "display_data"
    }
   ],
   "source": [
    "vis.plot_optimization_history(study)\n"
   ]
  },
  {
   "cell_type": "code",
   "execution_count": 20,
   "id": "efb2d938",
   "metadata": {},
   "outputs": [
    {
     "data": {
      "application/vnd.plotly.v1+json": {
       "config": {
        "plotlyServerURL": "https://plot.ly"
       },
       "data": [
        {
         "dimensions": [
          {
           "label": "Objective Value",
           "range": [
            1.6045203861328527,
            2.205108345895582
           ],
           "values": [
            1.9222961423389961,
            2.008556664600326,
            2.0212229655663627,
            1.948583287277496,
            1.917108382543978,
            1.7716167717138493,
            1.753552251487854,
            2.1649308574967705,
            2.182260163829581,
            2.0233027891370767,
            2.0976600140948003,
            1.6102184334936915,
            1.6104416739066607,
            1.9192587100914102,
            1.623197622770104,
            2.068342963431302,
            1.9006504285800971,
            1.9649157314475232,
            1.6068139853648262,
            1.864454406512484,
            1.8151250237296412,
            1.6045203861328527,
            1.6904760277003568,
            1.6996658232572073,
            1.6279611568136474,
            1.712161265758835,
            1.8770438607051034,
            1.6072958705534397,
            1.788697691828574,
            1.8780851125324118,
            1.8220112310214802,
            1.6670116539456352,
            1.6375271310240955,
            1.609718964442227,
            1.9254244911574392,
            1.7057304483066287,
            2.205108345895582,
            1.7892012573558322,
            1.7606533239503386,
            1.9494609835634809,
            1.869972155717451,
            1.6704858977867076,
            1.6085818973455428,
            1.6107337420055874,
            1.7739166825509234,
            1.715115848914931,
            1.7765135380697032,
            2.0151464498134084,
            2.2041434708641034,
            1.9944121256501444
           ]
          },
          {
           "label": "max_depth",
           "range": [
            5,
            50
           ],
           "values": [
            48,
            5,
            18,
            32,
            9,
            19,
            47,
            17,
            42,
            20,
            36,
            27,
            28,
            27,
            27,
            36,
            23,
            12,
            33,
            39,
            32,
            32,
            32,
            43,
            28,
            36,
            24,
            31,
            32,
            47,
            40,
            24,
            30,
            35,
            36,
            34,
            41,
            44,
            38,
            30,
            34,
            30,
            25,
            22,
            50,
            17,
            34,
            25,
            20,
            38
           ]
          },
          {
           "label": "max_features",
           "range": [
            0,
            2
           ],
           "ticktext": [
            "None",
            "sqrt",
            "log2"
           ],
           "tickvals": [
            0,
            1,
            2
           ],
           "values": [
            0,
            0,
            0,
            0,
            0,
            1,
            2,
            2,
            2,
            0,
            2,
            1,
            1,
            1,
            1,
            1,
            1,
            1,
            1,
            1,
            1,
            1,
            1,
            1,
            1,
            1,
            1,
            1,
            1,
            2,
            1,
            1,
            1,
            1,
            0,
            1,
            0,
            1,
            1,
            0,
            2,
            1,
            1,
            1,
            1,
            1,
            2,
            1,
            0,
            1
           ]
          },
          {
           "label": "max_leaf_nodes",
           "range": [
            45,
            997
           ],
           "values": [
            605,
            530,
            207,
            811,
            266,
            896,
            831,
            206,
            865,
            477,
            733,
            994,
            969,
            997,
            996,
            45,
            666,
            392,
            733,
            769,
            720,
            933,
            913,
            892,
            665,
            930,
            814,
            618,
            558,
            626,
            452,
            604,
            777,
            704,
            545,
            695,
            763,
            593,
            429,
            356,
            851,
            926,
            514,
            487,
            517,
            635,
            570,
            712,
            338,
            659
           ]
          },
          {
           "label": "min_impurity_decr...",
           "range": [
            0.00023670696376072893,
            0.49800849468060676
           ],
           "values": [
            0.07800932022121826,
            0.10616955533913808,
            0.14607232426760908,
            0.08526206184364576,
            0.06101911742238941,
            0.09242722776276352,
            0.022613644455269033,
            0.40109849037701983,
            0.38563517334297287,
            0.16259166101337352,
            0.2828065453407016,
            0.004844991541240212,
            0.0038824000167317872,
            0.23714134133277048,
            0.012774747405271736,
            0.49800849468060676,
            0.21406201062105903,
            0.3081804086073414,
            0.00023670696376072893,
            0.17097873385545498,
            0.12633326939759731,
            0.0008010072428880139,
            0.0439599561047482,
            0.04844051935291133,
            0.014823506822549563,
            0.05518365312914568,
            0.18263597682153498,
            0.0008945155015677046,
            0.1067238881886955,
            0.07346172610724881,
            0.1320857201772539,
            0.03233246256373826,
            0.01897962565181481,
            0.003262696965486856,
            0.07739399096013086,
            0.05077537926175943,
            0.0005573349889212171,
            0.10757176949360582,
            0.0829232462250519,
            0.03283501875930164,
            0.06751404580325826,
            0.034069348008919635,
            0.0034132862209701104,
            0.0020871764605157046,
            0.09614821448260027,
            0.05675986853847986,
            0.028926655173466792,
            0.3753350342223253,
            0.0005535767329178742,
            0.33756884206049914
           ]
          },
          {
           "label": "min_samples_leaf",
           "range": [
            1,
            5
           ],
           "values": [
            3,
            5,
            1,
            4,
            3,
            3,
            1,
            1,
            4,
            2,
            2,
            2,
            1,
            2,
            2,
            1,
            2,
            1,
            2,
            4,
            3,
            2,
            2,
            2,
            3,
            2,
            3,
            2,
            2,
            3,
            3,
            2,
            2,
            1,
            1,
            5,
            1,
            1,
            1,
            3,
            4,
            2,
            2,
            1,
            2,
            2,
            3,
            1,
            2,
            1
           ]
          },
          {
           "label": "min_samples_split",
           "range": [
            2,
            10
           ],
           "values": [
            8,
            10,
            7,
            2,
            8,
            6,
            2,
            6,
            8,
            2,
            4,
            4,
            4,
            4,
            4,
            5,
            3,
            5,
            3,
            3,
            3,
            5,
            5,
            5,
            3,
            6,
            7,
            4,
            3,
            10,
            7,
            4,
            5,
            4,
            2,
            3,
            9,
            5,
            6,
            4,
            2,
            4,
            4,
            6,
            5,
            3,
            4,
            2,
            4,
            3
           ]
          },
          {
           "label": "n_estimators",
           "range": [
            104,
            999
           ],
           "values": [
            437,
            737,
            489,
            563,
            374,
            696,
            638,
            421,
            104,
            661,
            959,
            843,
            917,
            999,
            863,
            837,
            843,
            245,
            904,
            787,
            765,
            923,
            901,
            994,
            801,
            920,
            573,
            887,
            926,
            709,
            625,
            878,
            809,
            736,
            760,
            956,
            730,
            876,
            529,
            943,
            696,
            827,
            890,
            978,
            890,
            667,
            349,
            758,
            947,
            616
           ]
          }
         ],
         "labelangle": 30,
         "labelside": "bottom",
         "line": {
          "color": [
           1.9222961423389961,
           2.008556664600326,
           2.0212229655663627,
           1.948583287277496,
           1.917108382543978,
           1.7716167717138493,
           1.753552251487854,
           2.1649308574967705,
           2.182260163829581,
           2.0233027891370767,
           2.0976600140948003,
           1.6102184334936915,
           1.6104416739066607,
           1.9192587100914102,
           1.623197622770104,
           2.068342963431302,
           1.9006504285800971,
           1.9649157314475232,
           1.6068139853648262,
           1.864454406512484,
           1.8151250237296412,
           1.6045203861328527,
           1.6904760277003568,
           1.6996658232572073,
           1.6279611568136474,
           1.712161265758835,
           1.8770438607051034,
           1.6072958705534397,
           1.788697691828574,
           1.8780851125324118,
           1.8220112310214802,
           1.6670116539456352,
           1.6375271310240955,
           1.609718964442227,
           1.9254244911574392,
           1.7057304483066287,
           2.205108345895582,
           1.7892012573558322,
           1.7606533239503386,
           1.9494609835634809,
           1.869972155717451,
           1.6704858977867076,
           1.6085818973455428,
           1.6107337420055874,
           1.7739166825509234,
           1.715115848914931,
           1.7765135380697032,
           2.0151464498134084,
           2.2041434708641034,
           1.9944121256501444
          ],
          "colorbar": {
           "title": {
            "text": "Objective Value"
           }
          },
          "colorscale": [
           [
            0,
            "rgb(247,251,255)"
           ],
           [
            0.125,
            "rgb(222,235,247)"
           ],
           [
            0.25,
            "rgb(198,219,239)"
           ],
           [
            0.375,
            "rgb(158,202,225)"
           ],
           [
            0.5,
            "rgb(107,174,214)"
           ],
           [
            0.625,
            "rgb(66,146,198)"
           ],
           [
            0.75,
            "rgb(33,113,181)"
           ],
           [
            0.875,
            "rgb(8,81,156)"
           ],
           [
            1,
            "rgb(8,48,107)"
           ]
          ],
          "reversescale": true,
          "showscale": true
         },
         "type": "parcoords"
        }
       ],
       "layout": {
        "template": {
         "data": {
          "bar": [
           {
            "error_x": {
             "color": "#2a3f5f"
            },
            "error_y": {
             "color": "#2a3f5f"
            },
            "marker": {
             "line": {
              "color": "#E5ECF6",
              "width": 0.5
             },
             "pattern": {
              "fillmode": "overlay",
              "size": 10,
              "solidity": 0.2
             }
            },
            "type": "bar"
           }
          ],
          "barpolar": [
           {
            "marker": {
             "line": {
              "color": "#E5ECF6",
              "width": 0.5
             },
             "pattern": {
              "fillmode": "overlay",
              "size": 10,
              "solidity": 0.2
             }
            },
            "type": "barpolar"
           }
          ],
          "carpet": [
           {
            "aaxis": {
             "endlinecolor": "#2a3f5f",
             "gridcolor": "white",
             "linecolor": "white",
             "minorgridcolor": "white",
             "startlinecolor": "#2a3f5f"
            },
            "baxis": {
             "endlinecolor": "#2a3f5f",
             "gridcolor": "white",
             "linecolor": "white",
             "minorgridcolor": "white",
             "startlinecolor": "#2a3f5f"
            },
            "type": "carpet"
           }
          ],
          "choropleth": [
           {
            "colorbar": {
             "outlinewidth": 0,
             "ticks": ""
            },
            "type": "choropleth"
           }
          ],
          "contour": [
           {
            "colorbar": {
             "outlinewidth": 0,
             "ticks": ""
            },
            "colorscale": [
             [
              0,
              "#0d0887"
             ],
             [
              0.1111111111111111,
              "#46039f"
             ],
             [
              0.2222222222222222,
              "#7201a8"
             ],
             [
              0.3333333333333333,
              "#9c179e"
             ],
             [
              0.4444444444444444,
              "#bd3786"
             ],
             [
              0.5555555555555556,
              "#d8576b"
             ],
             [
              0.6666666666666666,
              "#ed7953"
             ],
             [
              0.7777777777777778,
              "#fb9f3a"
             ],
             [
              0.8888888888888888,
              "#fdca26"
             ],
             [
              1,
              "#f0f921"
             ]
            ],
            "type": "contour"
           }
          ],
          "contourcarpet": [
           {
            "colorbar": {
             "outlinewidth": 0,
             "ticks": ""
            },
            "type": "contourcarpet"
           }
          ],
          "heatmap": [
           {
            "colorbar": {
             "outlinewidth": 0,
             "ticks": ""
            },
            "colorscale": [
             [
              0,
              "#0d0887"
             ],
             [
              0.1111111111111111,
              "#46039f"
             ],
             [
              0.2222222222222222,
              "#7201a8"
             ],
             [
              0.3333333333333333,
              "#9c179e"
             ],
             [
              0.4444444444444444,
              "#bd3786"
             ],
             [
              0.5555555555555556,
              "#d8576b"
             ],
             [
              0.6666666666666666,
              "#ed7953"
             ],
             [
              0.7777777777777778,
              "#fb9f3a"
             ],
             [
              0.8888888888888888,
              "#fdca26"
             ],
             [
              1,
              "#f0f921"
             ]
            ],
            "type": "heatmap"
           }
          ],
          "histogram": [
           {
            "marker": {
             "pattern": {
              "fillmode": "overlay",
              "size": 10,
              "solidity": 0.2
             }
            },
            "type": "histogram"
           }
          ],
          "histogram2d": [
           {
            "colorbar": {
             "outlinewidth": 0,
             "ticks": ""
            },
            "colorscale": [
             [
              0,
              "#0d0887"
             ],
             [
              0.1111111111111111,
              "#46039f"
             ],
             [
              0.2222222222222222,
              "#7201a8"
             ],
             [
              0.3333333333333333,
              "#9c179e"
             ],
             [
              0.4444444444444444,
              "#bd3786"
             ],
             [
              0.5555555555555556,
              "#d8576b"
             ],
             [
              0.6666666666666666,
              "#ed7953"
             ],
             [
              0.7777777777777778,
              "#fb9f3a"
             ],
             [
              0.8888888888888888,
              "#fdca26"
             ],
             [
              1,
              "#f0f921"
             ]
            ],
            "type": "histogram2d"
           }
          ],
          "histogram2dcontour": [
           {
            "colorbar": {
             "outlinewidth": 0,
             "ticks": ""
            },
            "colorscale": [
             [
              0,
              "#0d0887"
             ],
             [
              0.1111111111111111,
              "#46039f"
             ],
             [
              0.2222222222222222,
              "#7201a8"
             ],
             [
              0.3333333333333333,
              "#9c179e"
             ],
             [
              0.4444444444444444,
              "#bd3786"
             ],
             [
              0.5555555555555556,
              "#d8576b"
             ],
             [
              0.6666666666666666,
              "#ed7953"
             ],
             [
              0.7777777777777778,
              "#fb9f3a"
             ],
             [
              0.8888888888888888,
              "#fdca26"
             ],
             [
              1,
              "#f0f921"
             ]
            ],
            "type": "histogram2dcontour"
           }
          ],
          "mesh3d": [
           {
            "colorbar": {
             "outlinewidth": 0,
             "ticks": ""
            },
            "type": "mesh3d"
           }
          ],
          "parcoords": [
           {
            "line": {
             "colorbar": {
              "outlinewidth": 0,
              "ticks": ""
             }
            },
            "type": "parcoords"
           }
          ],
          "pie": [
           {
            "automargin": true,
            "type": "pie"
           }
          ],
          "scatter": [
           {
            "fillpattern": {
             "fillmode": "overlay",
             "size": 10,
             "solidity": 0.2
            },
            "type": "scatter"
           }
          ],
          "scatter3d": [
           {
            "line": {
             "colorbar": {
              "outlinewidth": 0,
              "ticks": ""
             }
            },
            "marker": {
             "colorbar": {
              "outlinewidth": 0,
              "ticks": ""
             }
            },
            "type": "scatter3d"
           }
          ],
          "scattercarpet": [
           {
            "marker": {
             "colorbar": {
              "outlinewidth": 0,
              "ticks": ""
             }
            },
            "type": "scattercarpet"
           }
          ],
          "scattergeo": [
           {
            "marker": {
             "colorbar": {
              "outlinewidth": 0,
              "ticks": ""
             }
            },
            "type": "scattergeo"
           }
          ],
          "scattergl": [
           {
            "marker": {
             "colorbar": {
              "outlinewidth": 0,
              "ticks": ""
             }
            },
            "type": "scattergl"
           }
          ],
          "scattermap": [
           {
            "marker": {
             "colorbar": {
              "outlinewidth": 0,
              "ticks": ""
             }
            },
            "type": "scattermap"
           }
          ],
          "scattermapbox": [
           {
            "marker": {
             "colorbar": {
              "outlinewidth": 0,
              "ticks": ""
             }
            },
            "type": "scattermapbox"
           }
          ],
          "scatterpolar": [
           {
            "marker": {
             "colorbar": {
              "outlinewidth": 0,
              "ticks": ""
             }
            },
            "type": "scatterpolar"
           }
          ],
          "scatterpolargl": [
           {
            "marker": {
             "colorbar": {
              "outlinewidth": 0,
              "ticks": ""
             }
            },
            "type": "scatterpolargl"
           }
          ],
          "scatterternary": [
           {
            "marker": {
             "colorbar": {
              "outlinewidth": 0,
              "ticks": ""
             }
            },
            "type": "scatterternary"
           }
          ],
          "surface": [
           {
            "colorbar": {
             "outlinewidth": 0,
             "ticks": ""
            },
            "colorscale": [
             [
              0,
              "#0d0887"
             ],
             [
              0.1111111111111111,
              "#46039f"
             ],
             [
              0.2222222222222222,
              "#7201a8"
             ],
             [
              0.3333333333333333,
              "#9c179e"
             ],
             [
              0.4444444444444444,
              "#bd3786"
             ],
             [
              0.5555555555555556,
              "#d8576b"
             ],
             [
              0.6666666666666666,
              "#ed7953"
             ],
             [
              0.7777777777777778,
              "#fb9f3a"
             ],
             [
              0.8888888888888888,
              "#fdca26"
             ],
             [
              1,
              "#f0f921"
             ]
            ],
            "type": "surface"
           }
          ],
          "table": [
           {
            "cells": {
             "fill": {
              "color": "#EBF0F8"
             },
             "line": {
              "color": "white"
             }
            },
            "header": {
             "fill": {
              "color": "#C8D4E3"
             },
             "line": {
              "color": "white"
             }
            },
            "type": "table"
           }
          ]
         },
         "layout": {
          "annotationdefaults": {
           "arrowcolor": "#2a3f5f",
           "arrowhead": 0,
           "arrowwidth": 1
          },
          "autotypenumbers": "strict",
          "coloraxis": {
           "colorbar": {
            "outlinewidth": 0,
            "ticks": ""
           }
          },
          "colorscale": {
           "diverging": [
            [
             0,
             "#8e0152"
            ],
            [
             0.1,
             "#c51b7d"
            ],
            [
             0.2,
             "#de77ae"
            ],
            [
             0.3,
             "#f1b6da"
            ],
            [
             0.4,
             "#fde0ef"
            ],
            [
             0.5,
             "#f7f7f7"
            ],
            [
             0.6,
             "#e6f5d0"
            ],
            [
             0.7,
             "#b8e186"
            ],
            [
             0.8,
             "#7fbc41"
            ],
            [
             0.9,
             "#4d9221"
            ],
            [
             1,
             "#276419"
            ]
           ],
           "sequential": [
            [
             0,
             "#0d0887"
            ],
            [
             0.1111111111111111,
             "#46039f"
            ],
            [
             0.2222222222222222,
             "#7201a8"
            ],
            [
             0.3333333333333333,
             "#9c179e"
            ],
            [
             0.4444444444444444,
             "#bd3786"
            ],
            [
             0.5555555555555556,
             "#d8576b"
            ],
            [
             0.6666666666666666,
             "#ed7953"
            ],
            [
             0.7777777777777778,
             "#fb9f3a"
            ],
            [
             0.8888888888888888,
             "#fdca26"
            ],
            [
             1,
             "#f0f921"
            ]
           ],
           "sequentialminus": [
            [
             0,
             "#0d0887"
            ],
            [
             0.1111111111111111,
             "#46039f"
            ],
            [
             0.2222222222222222,
             "#7201a8"
            ],
            [
             0.3333333333333333,
             "#9c179e"
            ],
            [
             0.4444444444444444,
             "#bd3786"
            ],
            [
             0.5555555555555556,
             "#d8576b"
            ],
            [
             0.6666666666666666,
             "#ed7953"
            ],
            [
             0.7777777777777778,
             "#fb9f3a"
            ],
            [
             0.8888888888888888,
             "#fdca26"
            ],
            [
             1,
             "#f0f921"
            ]
           ]
          },
          "colorway": [
           "#636efa",
           "#EF553B",
           "#00cc96",
           "#ab63fa",
           "#FFA15A",
           "#19d3f3",
           "#FF6692",
           "#B6E880",
           "#FF97FF",
           "#FECB52"
          ],
          "font": {
           "color": "#2a3f5f"
          },
          "geo": {
           "bgcolor": "white",
           "lakecolor": "white",
           "landcolor": "#E5ECF6",
           "showlakes": true,
           "showland": true,
           "subunitcolor": "white"
          },
          "hoverlabel": {
           "align": "left"
          },
          "hovermode": "closest",
          "mapbox": {
           "style": "light"
          },
          "paper_bgcolor": "white",
          "plot_bgcolor": "#E5ECF6",
          "polar": {
           "angularaxis": {
            "gridcolor": "white",
            "linecolor": "white",
            "ticks": ""
           },
           "bgcolor": "#E5ECF6",
           "radialaxis": {
            "gridcolor": "white",
            "linecolor": "white",
            "ticks": ""
           }
          },
          "scene": {
           "xaxis": {
            "backgroundcolor": "#E5ECF6",
            "gridcolor": "white",
            "gridwidth": 2,
            "linecolor": "white",
            "showbackground": true,
            "ticks": "",
            "zerolinecolor": "white"
           },
           "yaxis": {
            "backgroundcolor": "#E5ECF6",
            "gridcolor": "white",
            "gridwidth": 2,
            "linecolor": "white",
            "showbackground": true,
            "ticks": "",
            "zerolinecolor": "white"
           },
           "zaxis": {
            "backgroundcolor": "#E5ECF6",
            "gridcolor": "white",
            "gridwidth": 2,
            "linecolor": "white",
            "showbackground": true,
            "ticks": "",
            "zerolinecolor": "white"
           }
          },
          "shapedefaults": {
           "line": {
            "color": "#2a3f5f"
           }
          },
          "ternary": {
           "aaxis": {
            "gridcolor": "white",
            "linecolor": "white",
            "ticks": ""
           },
           "baxis": {
            "gridcolor": "white",
            "linecolor": "white",
            "ticks": ""
           },
           "bgcolor": "#E5ECF6",
           "caxis": {
            "gridcolor": "white",
            "linecolor": "white",
            "ticks": ""
           }
          },
          "title": {
           "x": 0.05
          },
          "xaxis": {
           "automargin": true,
           "gridcolor": "white",
           "linecolor": "white",
           "ticks": "",
           "title": {
            "standoff": 15
           },
           "zerolinecolor": "white",
           "zerolinewidth": 2
          },
          "yaxis": {
           "automargin": true,
           "gridcolor": "white",
           "linecolor": "white",
           "ticks": "",
           "title": {
            "standoff": 15
           },
           "zerolinecolor": "white",
           "zerolinewidth": 2
          }
         }
        },
        "title": {
         "text": "Parallel Coordinate Plot"
        }
       }
      }
     },
     "metadata": {},
     "output_type": "display_data"
    }
   ],
   "source": [
    "vis.plot_parallel_coordinate(study)"
   ]
  },
  {
   "cell_type": "code",
   "execution_count": 21,
   "id": "a3a4efee",
   "metadata": {},
   "outputs": [
    {
     "data": {
      "application/vnd.plotly.v1+json": {
       "config": {
        "plotlyServerURL": "https://plot.ly"
       },
       "data": [
        {
         "marker": {
          "color": [
           0,
           1,
           2,
           3,
           4,
           5,
           6,
           7,
           8,
           9,
           10,
           11,
           12,
           13,
           14,
           15,
           16,
           17,
           18,
           19,
           20,
           21,
           22,
           23,
           24,
           25,
           26,
           27,
           28,
           29,
           30,
           31,
           32,
           33,
           34,
           35,
           36,
           37,
           38,
           39,
           40,
           41,
           42,
           43,
           44,
           45,
           46,
           47,
           48,
           49
          ],
          "colorbar": {
           "title": {
            "text": "Trial"
           },
           "x": 1,
           "xpad": 40
          },
          "colorscale": [
           [
            0,
            "rgb(247,251,255)"
           ],
           [
            0.125,
            "rgb(222,235,247)"
           ],
           [
            0.25,
            "rgb(198,219,239)"
           ],
           [
            0.375,
            "rgb(158,202,225)"
           ],
           [
            0.5,
            "rgb(107,174,214)"
           ],
           [
            0.625,
            "rgb(66,146,198)"
           ],
           [
            0.75,
            "rgb(33,113,181)"
           ],
           [
            0.875,
            "rgb(8,81,156)"
           ],
           [
            1,
            "rgb(8,48,107)"
           ]
          ],
          "line": {
           "color": "Grey",
           "width": 0.5
          },
          "showscale": true
         },
         "mode": "markers",
         "name": "Feasible Trial",
         "showlegend": false,
         "type": "scatter",
         "x": [
          48,
          5,
          18,
          32,
          9,
          19,
          47,
          17,
          42,
          20,
          36,
          27,
          28,
          27,
          27,
          36,
          23,
          12,
          33,
          39,
          32,
          32,
          32,
          43,
          28,
          36,
          24,
          31,
          32,
          47,
          40,
          24,
          30,
          35,
          36,
          34,
          41,
          44,
          38,
          30,
          34,
          30,
          25,
          22,
          50,
          17,
          34,
          25,
          20,
          38
         ],
         "xaxis": "x",
         "y": [
          1.9222961423389961,
          2.008556664600326,
          2.0212229655663627,
          1.948583287277496,
          1.917108382543978,
          1.7716167717138493,
          1.753552251487854,
          2.1649308574967705,
          2.182260163829581,
          2.0233027891370767,
          2.0976600140948003,
          1.6102184334936915,
          1.6104416739066607,
          1.9192587100914102,
          1.623197622770104,
          2.068342963431302,
          1.9006504285800971,
          1.9649157314475232,
          1.6068139853648262,
          1.864454406512484,
          1.8151250237296412,
          1.6045203861328527,
          1.6904760277003568,
          1.6996658232572073,
          1.6279611568136474,
          1.712161265758835,
          1.8770438607051034,
          1.6072958705534397,
          1.788697691828574,
          1.8780851125324118,
          1.8220112310214802,
          1.6670116539456352,
          1.6375271310240955,
          1.609718964442227,
          1.9254244911574392,
          1.7057304483066287,
          2.205108345895582,
          1.7892012573558322,
          1.7606533239503386,
          1.9494609835634809,
          1.869972155717451,
          1.6704858977867076,
          1.6085818973455428,
          1.6107337420055874,
          1.7739166825509234,
          1.715115848914931,
          1.7765135380697032,
          2.0151464498134084,
          2.2041434708641034,
          1.9944121256501444
         ],
         "yaxis": "y"
        },
        {
         "marker": {
          "color": [
           0,
           1,
           2,
           3,
           4,
           5,
           6,
           7,
           8,
           9,
           10,
           11,
           12,
           13,
           14,
           15,
           16,
           17,
           18,
           19,
           20,
           21,
           22,
           23,
           24,
           25,
           26,
           27,
           28,
           29,
           30,
           31,
           32,
           33,
           34,
           35,
           36,
           37,
           38,
           39,
           40,
           41,
           42,
           43,
           44,
           45,
           46,
           47,
           48,
           49
          ],
          "colorbar": {
           "title": {
            "text": "Trial"
           },
           "x": 1,
           "xpad": 40
          },
          "colorscale": [
           [
            0,
            "rgb(247,251,255)"
           ],
           [
            0.125,
            "rgb(222,235,247)"
           ],
           [
            0.25,
            "rgb(198,219,239)"
           ],
           [
            0.375,
            "rgb(158,202,225)"
           ],
           [
            0.5,
            "rgb(107,174,214)"
           ],
           [
            0.625,
            "rgb(66,146,198)"
           ],
           [
            0.75,
            "rgb(33,113,181)"
           ],
           [
            0.875,
            "rgb(8,81,156)"
           ],
           [
            1,
            "rgb(8,48,107)"
           ]
          ],
          "line": {
           "color": "Grey",
           "width": 0.5
          },
          "showscale": false
         },
         "mode": "markers",
         "name": "Feasible Trial",
         "showlegend": false,
         "type": "scatter",
         "x": [
          null,
          null,
          null,
          null,
          null,
          "sqrt",
          "log2",
          "log2",
          "log2",
          null,
          "log2",
          "sqrt",
          "sqrt",
          "sqrt",
          "sqrt",
          "sqrt",
          "sqrt",
          "sqrt",
          "sqrt",
          "sqrt",
          "sqrt",
          "sqrt",
          "sqrt",
          "sqrt",
          "sqrt",
          "sqrt",
          "sqrt",
          "sqrt",
          "sqrt",
          "log2",
          "sqrt",
          "sqrt",
          "sqrt",
          "sqrt",
          null,
          "sqrt",
          null,
          "sqrt",
          "sqrt",
          null,
          "log2",
          "sqrt",
          "sqrt",
          "sqrt",
          "sqrt",
          "sqrt",
          "log2",
          "sqrt",
          null,
          "sqrt"
         ],
         "xaxis": "x2",
         "y": [
          1.9222961423389961,
          2.008556664600326,
          2.0212229655663627,
          1.948583287277496,
          1.917108382543978,
          1.7716167717138493,
          1.753552251487854,
          2.1649308574967705,
          2.182260163829581,
          2.0233027891370767,
          2.0976600140948003,
          1.6102184334936915,
          1.6104416739066607,
          1.9192587100914102,
          1.623197622770104,
          2.068342963431302,
          1.9006504285800971,
          1.9649157314475232,
          1.6068139853648262,
          1.864454406512484,
          1.8151250237296412,
          1.6045203861328527,
          1.6904760277003568,
          1.6996658232572073,
          1.6279611568136474,
          1.712161265758835,
          1.8770438607051034,
          1.6072958705534397,
          1.788697691828574,
          1.8780851125324118,
          1.8220112310214802,
          1.6670116539456352,
          1.6375271310240955,
          1.609718964442227,
          1.9254244911574392,
          1.7057304483066287,
          2.205108345895582,
          1.7892012573558322,
          1.7606533239503386,
          1.9494609835634809,
          1.869972155717451,
          1.6704858977867076,
          1.6085818973455428,
          1.6107337420055874,
          1.7739166825509234,
          1.715115848914931,
          1.7765135380697032,
          2.0151464498134084,
          2.2041434708641034,
          1.9944121256501444
         ],
         "yaxis": "y2"
        },
        {
         "marker": {
          "color": [
           0,
           1,
           2,
           3,
           4,
           5,
           6,
           7,
           8,
           9,
           10,
           11,
           12,
           13,
           14,
           15,
           16,
           17,
           18,
           19,
           20,
           21,
           22,
           23,
           24,
           25,
           26,
           27,
           28,
           29,
           30,
           31,
           32,
           33,
           34,
           35,
           36,
           37,
           38,
           39,
           40,
           41,
           42,
           43,
           44,
           45,
           46,
           47,
           48,
           49
          ],
          "colorbar": {
           "title": {
            "text": "Trial"
           },
           "x": 1,
           "xpad": 40
          },
          "colorscale": [
           [
            0,
            "rgb(247,251,255)"
           ],
           [
            0.125,
            "rgb(222,235,247)"
           ],
           [
            0.25,
            "rgb(198,219,239)"
           ],
           [
            0.375,
            "rgb(158,202,225)"
           ],
           [
            0.5,
            "rgb(107,174,214)"
           ],
           [
            0.625,
            "rgb(66,146,198)"
           ],
           [
            0.75,
            "rgb(33,113,181)"
           ],
           [
            0.875,
            "rgb(8,81,156)"
           ],
           [
            1,
            "rgb(8,48,107)"
           ]
          ],
          "line": {
           "color": "Grey",
           "width": 0.5
          },
          "showscale": false
         },
         "mode": "markers",
         "name": "Feasible Trial",
         "showlegend": false,
         "type": "scatter",
         "x": [
          605,
          530,
          207,
          811,
          266,
          896,
          831,
          206,
          865,
          477,
          733,
          994,
          969,
          997,
          996,
          45,
          666,
          392,
          733,
          769,
          720,
          933,
          913,
          892,
          665,
          930,
          814,
          618,
          558,
          626,
          452,
          604,
          777,
          704,
          545,
          695,
          763,
          593,
          429,
          356,
          851,
          926,
          514,
          487,
          517,
          635,
          570,
          712,
          338,
          659
         ],
         "xaxis": "x3",
         "y": [
          1.9222961423389961,
          2.008556664600326,
          2.0212229655663627,
          1.948583287277496,
          1.917108382543978,
          1.7716167717138493,
          1.753552251487854,
          2.1649308574967705,
          2.182260163829581,
          2.0233027891370767,
          2.0976600140948003,
          1.6102184334936915,
          1.6104416739066607,
          1.9192587100914102,
          1.623197622770104,
          2.068342963431302,
          1.9006504285800971,
          1.9649157314475232,
          1.6068139853648262,
          1.864454406512484,
          1.8151250237296412,
          1.6045203861328527,
          1.6904760277003568,
          1.6996658232572073,
          1.6279611568136474,
          1.712161265758835,
          1.8770438607051034,
          1.6072958705534397,
          1.788697691828574,
          1.8780851125324118,
          1.8220112310214802,
          1.6670116539456352,
          1.6375271310240955,
          1.609718964442227,
          1.9254244911574392,
          1.7057304483066287,
          2.205108345895582,
          1.7892012573558322,
          1.7606533239503386,
          1.9494609835634809,
          1.869972155717451,
          1.6704858977867076,
          1.6085818973455428,
          1.6107337420055874,
          1.7739166825509234,
          1.715115848914931,
          1.7765135380697032,
          2.0151464498134084,
          2.2041434708641034,
          1.9944121256501444
         ],
         "yaxis": "y3"
        },
        {
         "marker": {
          "color": [
           0,
           1,
           2,
           3,
           4,
           5,
           6,
           7,
           8,
           9,
           10,
           11,
           12,
           13,
           14,
           15,
           16,
           17,
           18,
           19,
           20,
           21,
           22,
           23,
           24,
           25,
           26,
           27,
           28,
           29,
           30,
           31,
           32,
           33,
           34,
           35,
           36,
           37,
           38,
           39,
           40,
           41,
           42,
           43,
           44,
           45,
           46,
           47,
           48,
           49
          ],
          "colorbar": {
           "title": {
            "text": "Trial"
           },
           "x": 1,
           "xpad": 40
          },
          "colorscale": [
           [
            0,
            "rgb(247,251,255)"
           ],
           [
            0.125,
            "rgb(222,235,247)"
           ],
           [
            0.25,
            "rgb(198,219,239)"
           ],
           [
            0.375,
            "rgb(158,202,225)"
           ],
           [
            0.5,
            "rgb(107,174,214)"
           ],
           [
            0.625,
            "rgb(66,146,198)"
           ],
           [
            0.75,
            "rgb(33,113,181)"
           ],
           [
            0.875,
            "rgb(8,81,156)"
           ],
           [
            1,
            "rgb(8,48,107)"
           ]
          ],
          "line": {
           "color": "Grey",
           "width": 0.5
          },
          "showscale": false
         },
         "mode": "markers",
         "name": "Feasible Trial",
         "showlegend": false,
         "type": "scatter",
         "x": [
          0.07800932022121826,
          0.10616955533913808,
          0.14607232426760908,
          0.08526206184364576,
          0.06101911742238941,
          0.09242722776276352,
          0.022613644455269033,
          0.40109849037701983,
          0.38563517334297287,
          0.16259166101337352,
          0.2828065453407016,
          0.004844991541240212,
          0.0038824000167317872,
          0.23714134133277048,
          0.012774747405271736,
          0.49800849468060676,
          0.21406201062105903,
          0.3081804086073414,
          0.00023670696376072893,
          0.17097873385545498,
          0.12633326939759731,
          0.0008010072428880139,
          0.0439599561047482,
          0.04844051935291133,
          0.014823506822549563,
          0.05518365312914568,
          0.18263597682153498,
          0.0008945155015677046,
          0.1067238881886955,
          0.07346172610724881,
          0.1320857201772539,
          0.03233246256373826,
          0.01897962565181481,
          0.003262696965486856,
          0.07739399096013086,
          0.05077537926175943,
          0.0005573349889212171,
          0.10757176949360582,
          0.0829232462250519,
          0.03283501875930164,
          0.06751404580325826,
          0.034069348008919635,
          0.0034132862209701104,
          0.0020871764605157046,
          0.09614821448260027,
          0.05675986853847986,
          0.028926655173466792,
          0.3753350342223253,
          0.0005535767329178742,
          0.33756884206049914
         ],
         "xaxis": "x4",
         "y": [
          1.9222961423389961,
          2.008556664600326,
          2.0212229655663627,
          1.948583287277496,
          1.917108382543978,
          1.7716167717138493,
          1.753552251487854,
          2.1649308574967705,
          2.182260163829581,
          2.0233027891370767,
          2.0976600140948003,
          1.6102184334936915,
          1.6104416739066607,
          1.9192587100914102,
          1.623197622770104,
          2.068342963431302,
          1.9006504285800971,
          1.9649157314475232,
          1.6068139853648262,
          1.864454406512484,
          1.8151250237296412,
          1.6045203861328527,
          1.6904760277003568,
          1.6996658232572073,
          1.6279611568136474,
          1.712161265758835,
          1.8770438607051034,
          1.6072958705534397,
          1.788697691828574,
          1.8780851125324118,
          1.8220112310214802,
          1.6670116539456352,
          1.6375271310240955,
          1.609718964442227,
          1.9254244911574392,
          1.7057304483066287,
          2.205108345895582,
          1.7892012573558322,
          1.7606533239503386,
          1.9494609835634809,
          1.869972155717451,
          1.6704858977867076,
          1.6085818973455428,
          1.6107337420055874,
          1.7739166825509234,
          1.715115848914931,
          1.7765135380697032,
          2.0151464498134084,
          2.2041434708641034,
          1.9944121256501444
         ],
         "yaxis": "y4"
        },
        {
         "marker": {
          "color": [
           0,
           1,
           2,
           3,
           4,
           5,
           6,
           7,
           8,
           9,
           10,
           11,
           12,
           13,
           14,
           15,
           16,
           17,
           18,
           19,
           20,
           21,
           22,
           23,
           24,
           25,
           26,
           27,
           28,
           29,
           30,
           31,
           32,
           33,
           34,
           35,
           36,
           37,
           38,
           39,
           40,
           41,
           42,
           43,
           44,
           45,
           46,
           47,
           48,
           49
          ],
          "colorbar": {
           "title": {
            "text": "Trial"
           },
           "x": 1,
           "xpad": 40
          },
          "colorscale": [
           [
            0,
            "rgb(247,251,255)"
           ],
           [
            0.125,
            "rgb(222,235,247)"
           ],
           [
            0.25,
            "rgb(198,219,239)"
           ],
           [
            0.375,
            "rgb(158,202,225)"
           ],
           [
            0.5,
            "rgb(107,174,214)"
           ],
           [
            0.625,
            "rgb(66,146,198)"
           ],
           [
            0.75,
            "rgb(33,113,181)"
           ],
           [
            0.875,
            "rgb(8,81,156)"
           ],
           [
            1,
            "rgb(8,48,107)"
           ]
          ],
          "line": {
           "color": "Grey",
           "width": 0.5
          },
          "showscale": false
         },
         "mode": "markers",
         "name": "Feasible Trial",
         "showlegend": false,
         "type": "scatter",
         "x": [
          3,
          5,
          1,
          4,
          3,
          3,
          1,
          1,
          4,
          2,
          2,
          2,
          1,
          2,
          2,
          1,
          2,
          1,
          2,
          4,
          3,
          2,
          2,
          2,
          3,
          2,
          3,
          2,
          2,
          3,
          3,
          2,
          2,
          1,
          1,
          5,
          1,
          1,
          1,
          3,
          4,
          2,
          2,
          1,
          2,
          2,
          3,
          1,
          2,
          1
         ],
         "xaxis": "x5",
         "y": [
          1.9222961423389961,
          2.008556664600326,
          2.0212229655663627,
          1.948583287277496,
          1.917108382543978,
          1.7716167717138493,
          1.753552251487854,
          2.1649308574967705,
          2.182260163829581,
          2.0233027891370767,
          2.0976600140948003,
          1.6102184334936915,
          1.6104416739066607,
          1.9192587100914102,
          1.623197622770104,
          2.068342963431302,
          1.9006504285800971,
          1.9649157314475232,
          1.6068139853648262,
          1.864454406512484,
          1.8151250237296412,
          1.6045203861328527,
          1.6904760277003568,
          1.6996658232572073,
          1.6279611568136474,
          1.712161265758835,
          1.8770438607051034,
          1.6072958705534397,
          1.788697691828574,
          1.8780851125324118,
          1.8220112310214802,
          1.6670116539456352,
          1.6375271310240955,
          1.609718964442227,
          1.9254244911574392,
          1.7057304483066287,
          2.205108345895582,
          1.7892012573558322,
          1.7606533239503386,
          1.9494609835634809,
          1.869972155717451,
          1.6704858977867076,
          1.6085818973455428,
          1.6107337420055874,
          1.7739166825509234,
          1.715115848914931,
          1.7765135380697032,
          2.0151464498134084,
          2.2041434708641034,
          1.9944121256501444
         ],
         "yaxis": "y5"
        },
        {
         "marker": {
          "color": [
           0,
           1,
           2,
           3,
           4,
           5,
           6,
           7,
           8,
           9,
           10,
           11,
           12,
           13,
           14,
           15,
           16,
           17,
           18,
           19,
           20,
           21,
           22,
           23,
           24,
           25,
           26,
           27,
           28,
           29,
           30,
           31,
           32,
           33,
           34,
           35,
           36,
           37,
           38,
           39,
           40,
           41,
           42,
           43,
           44,
           45,
           46,
           47,
           48,
           49
          ],
          "colorbar": {
           "title": {
            "text": "Trial"
           },
           "x": 1,
           "xpad": 40
          },
          "colorscale": [
           [
            0,
            "rgb(247,251,255)"
           ],
           [
            0.125,
            "rgb(222,235,247)"
           ],
           [
            0.25,
            "rgb(198,219,239)"
           ],
           [
            0.375,
            "rgb(158,202,225)"
           ],
           [
            0.5,
            "rgb(107,174,214)"
           ],
           [
            0.625,
            "rgb(66,146,198)"
           ],
           [
            0.75,
            "rgb(33,113,181)"
           ],
           [
            0.875,
            "rgb(8,81,156)"
           ],
           [
            1,
            "rgb(8,48,107)"
           ]
          ],
          "line": {
           "color": "Grey",
           "width": 0.5
          },
          "showscale": false
         },
         "mode": "markers",
         "name": "Feasible Trial",
         "showlegend": false,
         "type": "scatter",
         "x": [
          8,
          10,
          7,
          2,
          8,
          6,
          2,
          6,
          8,
          2,
          4,
          4,
          4,
          4,
          4,
          5,
          3,
          5,
          3,
          3,
          3,
          5,
          5,
          5,
          3,
          6,
          7,
          4,
          3,
          10,
          7,
          4,
          5,
          4,
          2,
          3,
          9,
          5,
          6,
          4,
          2,
          4,
          4,
          6,
          5,
          3,
          4,
          2,
          4,
          3
         ],
         "xaxis": "x6",
         "y": [
          1.9222961423389961,
          2.008556664600326,
          2.0212229655663627,
          1.948583287277496,
          1.917108382543978,
          1.7716167717138493,
          1.753552251487854,
          2.1649308574967705,
          2.182260163829581,
          2.0233027891370767,
          2.0976600140948003,
          1.6102184334936915,
          1.6104416739066607,
          1.9192587100914102,
          1.623197622770104,
          2.068342963431302,
          1.9006504285800971,
          1.9649157314475232,
          1.6068139853648262,
          1.864454406512484,
          1.8151250237296412,
          1.6045203861328527,
          1.6904760277003568,
          1.6996658232572073,
          1.6279611568136474,
          1.712161265758835,
          1.8770438607051034,
          1.6072958705534397,
          1.788697691828574,
          1.8780851125324118,
          1.8220112310214802,
          1.6670116539456352,
          1.6375271310240955,
          1.609718964442227,
          1.9254244911574392,
          1.7057304483066287,
          2.205108345895582,
          1.7892012573558322,
          1.7606533239503386,
          1.9494609835634809,
          1.869972155717451,
          1.6704858977867076,
          1.6085818973455428,
          1.6107337420055874,
          1.7739166825509234,
          1.715115848914931,
          1.7765135380697032,
          2.0151464498134084,
          2.2041434708641034,
          1.9944121256501444
         ],
         "yaxis": "y6"
        },
        {
         "marker": {
          "color": [
           0,
           1,
           2,
           3,
           4,
           5,
           6,
           7,
           8,
           9,
           10,
           11,
           12,
           13,
           14,
           15,
           16,
           17,
           18,
           19,
           20,
           21,
           22,
           23,
           24,
           25,
           26,
           27,
           28,
           29,
           30,
           31,
           32,
           33,
           34,
           35,
           36,
           37,
           38,
           39,
           40,
           41,
           42,
           43,
           44,
           45,
           46,
           47,
           48,
           49
          ],
          "colorbar": {
           "title": {
            "text": "Trial"
           },
           "x": 1,
           "xpad": 40
          },
          "colorscale": [
           [
            0,
            "rgb(247,251,255)"
           ],
           [
            0.125,
            "rgb(222,235,247)"
           ],
           [
            0.25,
            "rgb(198,219,239)"
           ],
           [
            0.375,
            "rgb(158,202,225)"
           ],
           [
            0.5,
            "rgb(107,174,214)"
           ],
           [
            0.625,
            "rgb(66,146,198)"
           ],
           [
            0.75,
            "rgb(33,113,181)"
           ],
           [
            0.875,
            "rgb(8,81,156)"
           ],
           [
            1,
            "rgb(8,48,107)"
           ]
          ],
          "line": {
           "color": "Grey",
           "width": 0.5
          },
          "showscale": false
         },
         "mode": "markers",
         "name": "Feasible Trial",
         "showlegend": false,
         "type": "scatter",
         "x": [
          437,
          737,
          489,
          563,
          374,
          696,
          638,
          421,
          104,
          661,
          959,
          843,
          917,
          999,
          863,
          837,
          843,
          245,
          904,
          787,
          765,
          923,
          901,
          994,
          801,
          920,
          573,
          887,
          926,
          709,
          625,
          878,
          809,
          736,
          760,
          956,
          730,
          876,
          529,
          943,
          696,
          827,
          890,
          978,
          890,
          667,
          349,
          758,
          947,
          616
         ],
         "xaxis": "x7",
         "y": [
          1.9222961423389961,
          2.008556664600326,
          2.0212229655663627,
          1.948583287277496,
          1.917108382543978,
          1.7716167717138493,
          1.753552251487854,
          2.1649308574967705,
          2.182260163829581,
          2.0233027891370767,
          2.0976600140948003,
          1.6102184334936915,
          1.6104416739066607,
          1.9192587100914102,
          1.623197622770104,
          2.068342963431302,
          1.9006504285800971,
          1.9649157314475232,
          1.6068139853648262,
          1.864454406512484,
          1.8151250237296412,
          1.6045203861328527,
          1.6904760277003568,
          1.6996658232572073,
          1.6279611568136474,
          1.712161265758835,
          1.8770438607051034,
          1.6072958705534397,
          1.788697691828574,
          1.8780851125324118,
          1.8220112310214802,
          1.6670116539456352,
          1.6375271310240955,
          1.609718964442227,
          1.9254244911574392,
          1.7057304483066287,
          2.205108345895582,
          1.7892012573558322,
          1.7606533239503386,
          1.9494609835634809,
          1.869972155717451,
          1.6704858977867076,
          1.6085818973455428,
          1.6107337420055874,
          1.7739166825509234,
          1.715115848914931,
          1.7765135380697032,
          2.0151464498134084,
          2.2041434708641034,
          1.9944121256501444
         ],
         "yaxis": "y7"
        }
       ],
       "layout": {
        "template": {
         "data": {
          "bar": [
           {
            "error_x": {
             "color": "#2a3f5f"
            },
            "error_y": {
             "color": "#2a3f5f"
            },
            "marker": {
             "line": {
              "color": "#E5ECF6",
              "width": 0.5
             },
             "pattern": {
              "fillmode": "overlay",
              "size": 10,
              "solidity": 0.2
             }
            },
            "type": "bar"
           }
          ],
          "barpolar": [
           {
            "marker": {
             "line": {
              "color": "#E5ECF6",
              "width": 0.5
             },
             "pattern": {
              "fillmode": "overlay",
              "size": 10,
              "solidity": 0.2
             }
            },
            "type": "barpolar"
           }
          ],
          "carpet": [
           {
            "aaxis": {
             "endlinecolor": "#2a3f5f",
             "gridcolor": "white",
             "linecolor": "white",
             "minorgridcolor": "white",
             "startlinecolor": "#2a3f5f"
            },
            "baxis": {
             "endlinecolor": "#2a3f5f",
             "gridcolor": "white",
             "linecolor": "white",
             "minorgridcolor": "white",
             "startlinecolor": "#2a3f5f"
            },
            "type": "carpet"
           }
          ],
          "choropleth": [
           {
            "colorbar": {
             "outlinewidth": 0,
             "ticks": ""
            },
            "type": "choropleth"
           }
          ],
          "contour": [
           {
            "colorbar": {
             "outlinewidth": 0,
             "ticks": ""
            },
            "colorscale": [
             [
              0,
              "#0d0887"
             ],
             [
              0.1111111111111111,
              "#46039f"
             ],
             [
              0.2222222222222222,
              "#7201a8"
             ],
             [
              0.3333333333333333,
              "#9c179e"
             ],
             [
              0.4444444444444444,
              "#bd3786"
             ],
             [
              0.5555555555555556,
              "#d8576b"
             ],
             [
              0.6666666666666666,
              "#ed7953"
             ],
             [
              0.7777777777777778,
              "#fb9f3a"
             ],
             [
              0.8888888888888888,
              "#fdca26"
             ],
             [
              1,
              "#f0f921"
             ]
            ],
            "type": "contour"
           }
          ],
          "contourcarpet": [
           {
            "colorbar": {
             "outlinewidth": 0,
             "ticks": ""
            },
            "type": "contourcarpet"
           }
          ],
          "heatmap": [
           {
            "colorbar": {
             "outlinewidth": 0,
             "ticks": ""
            },
            "colorscale": [
             [
              0,
              "#0d0887"
             ],
             [
              0.1111111111111111,
              "#46039f"
             ],
             [
              0.2222222222222222,
              "#7201a8"
             ],
             [
              0.3333333333333333,
              "#9c179e"
             ],
             [
              0.4444444444444444,
              "#bd3786"
             ],
             [
              0.5555555555555556,
              "#d8576b"
             ],
             [
              0.6666666666666666,
              "#ed7953"
             ],
             [
              0.7777777777777778,
              "#fb9f3a"
             ],
             [
              0.8888888888888888,
              "#fdca26"
             ],
             [
              1,
              "#f0f921"
             ]
            ],
            "type": "heatmap"
           }
          ],
          "histogram": [
           {
            "marker": {
             "pattern": {
              "fillmode": "overlay",
              "size": 10,
              "solidity": 0.2
             }
            },
            "type": "histogram"
           }
          ],
          "histogram2d": [
           {
            "colorbar": {
             "outlinewidth": 0,
             "ticks": ""
            },
            "colorscale": [
             [
              0,
              "#0d0887"
             ],
             [
              0.1111111111111111,
              "#46039f"
             ],
             [
              0.2222222222222222,
              "#7201a8"
             ],
             [
              0.3333333333333333,
              "#9c179e"
             ],
             [
              0.4444444444444444,
              "#bd3786"
             ],
             [
              0.5555555555555556,
              "#d8576b"
             ],
             [
              0.6666666666666666,
              "#ed7953"
             ],
             [
              0.7777777777777778,
              "#fb9f3a"
             ],
             [
              0.8888888888888888,
              "#fdca26"
             ],
             [
              1,
              "#f0f921"
             ]
            ],
            "type": "histogram2d"
           }
          ],
          "histogram2dcontour": [
           {
            "colorbar": {
             "outlinewidth": 0,
             "ticks": ""
            },
            "colorscale": [
             [
              0,
              "#0d0887"
             ],
             [
              0.1111111111111111,
              "#46039f"
             ],
             [
              0.2222222222222222,
              "#7201a8"
             ],
             [
              0.3333333333333333,
              "#9c179e"
             ],
             [
              0.4444444444444444,
              "#bd3786"
             ],
             [
              0.5555555555555556,
              "#d8576b"
             ],
             [
              0.6666666666666666,
              "#ed7953"
             ],
             [
              0.7777777777777778,
              "#fb9f3a"
             ],
             [
              0.8888888888888888,
              "#fdca26"
             ],
             [
              1,
              "#f0f921"
             ]
            ],
            "type": "histogram2dcontour"
           }
          ],
          "mesh3d": [
           {
            "colorbar": {
             "outlinewidth": 0,
             "ticks": ""
            },
            "type": "mesh3d"
           }
          ],
          "parcoords": [
           {
            "line": {
             "colorbar": {
              "outlinewidth": 0,
              "ticks": ""
             }
            },
            "type": "parcoords"
           }
          ],
          "pie": [
           {
            "automargin": true,
            "type": "pie"
           }
          ],
          "scatter": [
           {
            "fillpattern": {
             "fillmode": "overlay",
             "size": 10,
             "solidity": 0.2
            },
            "type": "scatter"
           }
          ],
          "scatter3d": [
           {
            "line": {
             "colorbar": {
              "outlinewidth": 0,
              "ticks": ""
             }
            },
            "marker": {
             "colorbar": {
              "outlinewidth": 0,
              "ticks": ""
             }
            },
            "type": "scatter3d"
           }
          ],
          "scattercarpet": [
           {
            "marker": {
             "colorbar": {
              "outlinewidth": 0,
              "ticks": ""
             }
            },
            "type": "scattercarpet"
           }
          ],
          "scattergeo": [
           {
            "marker": {
             "colorbar": {
              "outlinewidth": 0,
              "ticks": ""
             }
            },
            "type": "scattergeo"
           }
          ],
          "scattergl": [
           {
            "marker": {
             "colorbar": {
              "outlinewidth": 0,
              "ticks": ""
             }
            },
            "type": "scattergl"
           }
          ],
          "scattermap": [
           {
            "marker": {
             "colorbar": {
              "outlinewidth": 0,
              "ticks": ""
             }
            },
            "type": "scattermap"
           }
          ],
          "scattermapbox": [
           {
            "marker": {
             "colorbar": {
              "outlinewidth": 0,
              "ticks": ""
             }
            },
            "type": "scattermapbox"
           }
          ],
          "scatterpolar": [
           {
            "marker": {
             "colorbar": {
              "outlinewidth": 0,
              "ticks": ""
             }
            },
            "type": "scatterpolar"
           }
          ],
          "scatterpolargl": [
           {
            "marker": {
             "colorbar": {
              "outlinewidth": 0,
              "ticks": ""
             }
            },
            "type": "scatterpolargl"
           }
          ],
          "scatterternary": [
           {
            "marker": {
             "colorbar": {
              "outlinewidth": 0,
              "ticks": ""
             }
            },
            "type": "scatterternary"
           }
          ],
          "surface": [
           {
            "colorbar": {
             "outlinewidth": 0,
             "ticks": ""
            },
            "colorscale": [
             [
              0,
              "#0d0887"
             ],
             [
              0.1111111111111111,
              "#46039f"
             ],
             [
              0.2222222222222222,
              "#7201a8"
             ],
             [
              0.3333333333333333,
              "#9c179e"
             ],
             [
              0.4444444444444444,
              "#bd3786"
             ],
             [
              0.5555555555555556,
              "#d8576b"
             ],
             [
              0.6666666666666666,
              "#ed7953"
             ],
             [
              0.7777777777777778,
              "#fb9f3a"
             ],
             [
              0.8888888888888888,
              "#fdca26"
             ],
             [
              1,
              "#f0f921"
             ]
            ],
            "type": "surface"
           }
          ],
          "table": [
           {
            "cells": {
             "fill": {
              "color": "#EBF0F8"
             },
             "line": {
              "color": "white"
             }
            },
            "header": {
             "fill": {
              "color": "#C8D4E3"
             },
             "line": {
              "color": "white"
             }
            },
            "type": "table"
           }
          ]
         },
         "layout": {
          "annotationdefaults": {
           "arrowcolor": "#2a3f5f",
           "arrowhead": 0,
           "arrowwidth": 1
          },
          "autotypenumbers": "strict",
          "coloraxis": {
           "colorbar": {
            "outlinewidth": 0,
            "ticks": ""
           }
          },
          "colorscale": {
           "diverging": [
            [
             0,
             "#8e0152"
            ],
            [
             0.1,
             "#c51b7d"
            ],
            [
             0.2,
             "#de77ae"
            ],
            [
             0.3,
             "#f1b6da"
            ],
            [
             0.4,
             "#fde0ef"
            ],
            [
             0.5,
             "#f7f7f7"
            ],
            [
             0.6,
             "#e6f5d0"
            ],
            [
             0.7,
             "#b8e186"
            ],
            [
             0.8,
             "#7fbc41"
            ],
            [
             0.9,
             "#4d9221"
            ],
            [
             1,
             "#276419"
            ]
           ],
           "sequential": [
            [
             0,
             "#0d0887"
            ],
            [
             0.1111111111111111,
             "#46039f"
            ],
            [
             0.2222222222222222,
             "#7201a8"
            ],
            [
             0.3333333333333333,
             "#9c179e"
            ],
            [
             0.4444444444444444,
             "#bd3786"
            ],
            [
             0.5555555555555556,
             "#d8576b"
            ],
            [
             0.6666666666666666,
             "#ed7953"
            ],
            [
             0.7777777777777778,
             "#fb9f3a"
            ],
            [
             0.8888888888888888,
             "#fdca26"
            ],
            [
             1,
             "#f0f921"
            ]
           ],
           "sequentialminus": [
            [
             0,
             "#0d0887"
            ],
            [
             0.1111111111111111,
             "#46039f"
            ],
            [
             0.2222222222222222,
             "#7201a8"
            ],
            [
             0.3333333333333333,
             "#9c179e"
            ],
            [
             0.4444444444444444,
             "#bd3786"
            ],
            [
             0.5555555555555556,
             "#d8576b"
            ],
            [
             0.6666666666666666,
             "#ed7953"
            ],
            [
             0.7777777777777778,
             "#fb9f3a"
            ],
            [
             0.8888888888888888,
             "#fdca26"
            ],
            [
             1,
             "#f0f921"
            ]
           ]
          },
          "colorway": [
           "#636efa",
           "#EF553B",
           "#00cc96",
           "#ab63fa",
           "#FFA15A",
           "#19d3f3",
           "#FF6692",
           "#B6E880",
           "#FF97FF",
           "#FECB52"
          ],
          "font": {
           "color": "#2a3f5f"
          },
          "geo": {
           "bgcolor": "white",
           "lakecolor": "white",
           "landcolor": "#E5ECF6",
           "showlakes": true,
           "showland": true,
           "subunitcolor": "white"
          },
          "hoverlabel": {
           "align": "left"
          },
          "hovermode": "closest",
          "mapbox": {
           "style": "light"
          },
          "paper_bgcolor": "white",
          "plot_bgcolor": "#E5ECF6",
          "polar": {
           "angularaxis": {
            "gridcolor": "white",
            "linecolor": "white",
            "ticks": ""
           },
           "bgcolor": "#E5ECF6",
           "radialaxis": {
            "gridcolor": "white",
            "linecolor": "white",
            "ticks": ""
           }
          },
          "scene": {
           "xaxis": {
            "backgroundcolor": "#E5ECF6",
            "gridcolor": "white",
            "gridwidth": 2,
            "linecolor": "white",
            "showbackground": true,
            "ticks": "",
            "zerolinecolor": "white"
           },
           "yaxis": {
            "backgroundcolor": "#E5ECF6",
            "gridcolor": "white",
            "gridwidth": 2,
            "linecolor": "white",
            "showbackground": true,
            "ticks": "",
            "zerolinecolor": "white"
           },
           "zaxis": {
            "backgroundcolor": "#E5ECF6",
            "gridcolor": "white",
            "gridwidth": 2,
            "linecolor": "white",
            "showbackground": true,
            "ticks": "",
            "zerolinecolor": "white"
           }
          },
          "shapedefaults": {
           "line": {
            "color": "#2a3f5f"
           }
          },
          "ternary": {
           "aaxis": {
            "gridcolor": "white",
            "linecolor": "white",
            "ticks": ""
           },
           "baxis": {
            "gridcolor": "white",
            "linecolor": "white",
            "ticks": ""
           },
           "bgcolor": "#E5ECF6",
           "caxis": {
            "gridcolor": "white",
            "linecolor": "white",
            "ticks": ""
           }
          },
          "title": {
           "x": 0.05
          },
          "xaxis": {
           "automargin": true,
           "gridcolor": "white",
           "linecolor": "white",
           "ticks": "",
           "title": {
            "standoff": 15
           },
           "zerolinecolor": "white",
           "zerolinewidth": 2
          },
          "yaxis": {
           "automargin": true,
           "gridcolor": "white",
           "linecolor": "white",
           "ticks": "",
           "title": {
            "standoff": 15
           },
           "zerolinecolor": "white",
           "zerolinewidth": 2
          }
         }
        },
        "title": {
         "text": "Slice Plot"
        },
        "width": 2100,
        "xaxis": {
         "anchor": "y",
         "domain": [
          0,
          0.1183673469387755
         ],
         "title": {
          "text": "max_depth"
         }
        },
        "xaxis2": {
         "anchor": "y2",
         "categoryarray": [
          "sqrt",
          "log2",
          null
         ],
         "categoryorder": "array",
         "domain": [
          0.14693877551020407,
          0.26530612244897955
         ],
         "title": {
          "text": "max_features"
         },
         "type": "category"
        },
        "xaxis3": {
         "anchor": "y3",
         "domain": [
          0.29387755102040813,
          0.4122448979591836
         ],
         "title": {
          "text": "max_leaf_nodes"
         }
        },
        "xaxis4": {
         "anchor": "y4",
         "domain": [
          0.4408163265306122,
          0.5591836734693877
         ],
         "title": {
          "text": "min_impurity_decrease"
         }
        },
        "xaxis5": {
         "anchor": "y5",
         "domain": [
          0.5877551020408163,
          0.7061224489795918
         ],
         "title": {
          "text": "min_samples_leaf"
         }
        },
        "xaxis6": {
         "anchor": "y6",
         "domain": [
          0.7346938775510204,
          0.8530612244897959
         ],
         "title": {
          "text": "min_samples_split"
         }
        },
        "xaxis7": {
         "anchor": "y7",
         "domain": [
          0.8816326530612244,
          0.9999999999999999
         ],
         "title": {
          "text": "n_estimators"
         }
        },
        "yaxis": {
         "anchor": "x",
         "domain": [
          0,
          1
         ],
         "title": {
          "text": "Objective Value"
         }
        },
        "yaxis2": {
         "anchor": "x2",
         "domain": [
          0,
          1
         ],
         "matches": "y",
         "showticklabels": false
        },
        "yaxis3": {
         "anchor": "x3",
         "domain": [
          0,
          1
         ],
         "matches": "y",
         "showticklabels": false
        },
        "yaxis4": {
         "anchor": "x4",
         "domain": [
          0,
          1
         ],
         "matches": "y",
         "showticklabels": false
        },
        "yaxis5": {
         "anchor": "x5",
         "domain": [
          0,
          1
         ],
         "matches": "y",
         "showticklabels": false
        },
        "yaxis6": {
         "anchor": "x6",
         "domain": [
          0,
          1
         ],
         "matches": "y",
         "showticklabels": false
        },
        "yaxis7": {
         "anchor": "x7",
         "domain": [
          0,
          1
         ],
         "matches": "y",
         "showticklabels": false
        }
       }
      }
     },
     "metadata": {},
     "output_type": "display_data"
    }
   ],
   "source": [
    "vis.plot_slice(study=study)"
   ]
  },
  {
   "cell_type": "markdown",
   "id": "0f3aaf97",
   "metadata": {},
   "source": [
    "| **Tham số**               | **Giải thích ngắn gọn**                                                                            |\n",
    "| ------------------------- | -------------------------------------------------------------------------------------------------- |\n",
    "| **n_estimators**          | Số lượng cây (trees) trong rừng. Càng nhiều cây → mô hình càng ổn định, nhưng chậm hơn.            |\n",
    "| **max_depth**             | Độ sâu tối đa của mỗi cây. Giới hạn độ phức tạp của cây để tránh overfitting.                      |\n",
    "| **min_samples_split**     | Số mẫu tối thiểu cần có để một node được chia. Tăng giá trị này giúp giảm overfitting.             |\n",
    "| **min_samples_leaf**      | Số mẫu tối thiểu cần có ở mỗi lá (leaf node). Tăng giá trị → cây “mượt” hơn, ít nhạy với nhiễu.    |\n",
    "| **min_impurity_decrease** | Mức giảm impurity tối thiểu để chấp nhận chia node. Giúp kiểm soát việc chia nhỏ không cần thiết.  |\n",
    "| **max_features**          | Số lượng đặc trưng (features) được xem xét tại mỗi lần chia. Giúp tạo sự đa dạng giữa các cây.     |\n",
    "| **bootstrap**             | Nếu `True`, dùng **sampling có hoàn lại** để huấn luyện từng cây (bootstrap sampling).             |\n",
    "| **oob_score**             | Nếu `True`, dùng **out-of-bag samples** để ước lượng độ chính xác (giống cross-validation nội bộ). |\n",
    "| **max_leaf_nodes**        | Giới hạn số lượng node lá tối đa của mỗi cây. Giúp đơn giản hóa mô hình.                           |\n",
    "| **max_samples**           | Số lượng mẫu (hoặc tỉ lệ) được lấy ngẫu nhiên từ tập huấn luyện cho mỗi cây khi dùng bootstrap.    |\n",
    "| **random_state**          | Hạt giống ngẫu nhiên để tái lập kết quả (đảm bảo chạy lại vẫn ra kết quả giống).                   |\n",
    "| **n_jobs**                | Số lượng CPU chạy song song. `-1` nghĩa là dùng **t_**                                             |\n"
   ]
  },
  {
   "cell_type": "code",
   "execution_count": 22,
   "id": "583b4c36",
   "metadata": {},
   "outputs": [
    {
     "data": {
      "application/vnd.plotly.v1+json": {
       "config": {
        "plotlyServerURL": "https://plot.ly"
       },
       "data": [
        {
         "cliponaxis": false,
         "hovertemplate": [
          "n_estimators (IntDistribution): 0.01385793295341045<extra></extra>",
          "min_samples_split (IntDistribution): 0.014115259156817436<extra></extra>",
          "max_depth (IntDistribution): 0.020959079154555457<extra></extra>",
          "min_samples_leaf (IntDistribution): 0.027295445353618396<extra></extra>",
          "max_leaf_nodes (IntDistribution): 0.035005943415920296<extra></extra>",
          "max_features (CategoricalDistribution): 0.34935173501827016<extra></extra>",
          "min_impurity_decrease (FloatDistribution): 0.5394146049474079<extra></extra>"
         ],
         "name": "Objective Value",
         "orientation": "h",
         "text": [
          "0.01",
          "0.01",
          "0.02",
          "0.03",
          "0.04",
          "0.35",
          "0.54"
         ],
         "textposition": "outside",
         "type": "bar",
         "x": [
          0.01385793295341045,
          0.014115259156817436,
          0.020959079154555457,
          0.027295445353618396,
          0.035005943415920296,
          0.34935173501827016,
          0.5394146049474079
         ],
         "y": [
          "n_estimators",
          "min_samples_split",
          "max_depth",
          "min_samples_leaf",
          "max_leaf_nodes",
          "max_features",
          "min_impurity_decrease"
         ]
        }
       ],
       "layout": {
        "template": {
         "data": {
          "bar": [
           {
            "error_x": {
             "color": "#2a3f5f"
            },
            "error_y": {
             "color": "#2a3f5f"
            },
            "marker": {
             "line": {
              "color": "#E5ECF6",
              "width": 0.5
             },
             "pattern": {
              "fillmode": "overlay",
              "size": 10,
              "solidity": 0.2
             }
            },
            "type": "bar"
           }
          ],
          "barpolar": [
           {
            "marker": {
             "line": {
              "color": "#E5ECF6",
              "width": 0.5
             },
             "pattern": {
              "fillmode": "overlay",
              "size": 10,
              "solidity": 0.2
             }
            },
            "type": "barpolar"
           }
          ],
          "carpet": [
           {
            "aaxis": {
             "endlinecolor": "#2a3f5f",
             "gridcolor": "white",
             "linecolor": "white",
             "minorgridcolor": "white",
             "startlinecolor": "#2a3f5f"
            },
            "baxis": {
             "endlinecolor": "#2a3f5f",
             "gridcolor": "white",
             "linecolor": "white",
             "minorgridcolor": "white",
             "startlinecolor": "#2a3f5f"
            },
            "type": "carpet"
           }
          ],
          "choropleth": [
           {
            "colorbar": {
             "outlinewidth": 0,
             "ticks": ""
            },
            "type": "choropleth"
           }
          ],
          "contour": [
           {
            "colorbar": {
             "outlinewidth": 0,
             "ticks": ""
            },
            "colorscale": [
             [
              0,
              "#0d0887"
             ],
             [
              0.1111111111111111,
              "#46039f"
             ],
             [
              0.2222222222222222,
              "#7201a8"
             ],
             [
              0.3333333333333333,
              "#9c179e"
             ],
             [
              0.4444444444444444,
              "#bd3786"
             ],
             [
              0.5555555555555556,
              "#d8576b"
             ],
             [
              0.6666666666666666,
              "#ed7953"
             ],
             [
              0.7777777777777778,
              "#fb9f3a"
             ],
             [
              0.8888888888888888,
              "#fdca26"
             ],
             [
              1,
              "#f0f921"
             ]
            ],
            "type": "contour"
           }
          ],
          "contourcarpet": [
           {
            "colorbar": {
             "outlinewidth": 0,
             "ticks": ""
            },
            "type": "contourcarpet"
           }
          ],
          "heatmap": [
           {
            "colorbar": {
             "outlinewidth": 0,
             "ticks": ""
            },
            "colorscale": [
             [
              0,
              "#0d0887"
             ],
             [
              0.1111111111111111,
              "#46039f"
             ],
             [
              0.2222222222222222,
              "#7201a8"
             ],
             [
              0.3333333333333333,
              "#9c179e"
             ],
             [
              0.4444444444444444,
              "#bd3786"
             ],
             [
              0.5555555555555556,
              "#d8576b"
             ],
             [
              0.6666666666666666,
              "#ed7953"
             ],
             [
              0.7777777777777778,
              "#fb9f3a"
             ],
             [
              0.8888888888888888,
              "#fdca26"
             ],
             [
              1,
              "#f0f921"
             ]
            ],
            "type": "heatmap"
           }
          ],
          "histogram": [
           {
            "marker": {
             "pattern": {
              "fillmode": "overlay",
              "size": 10,
              "solidity": 0.2
             }
            },
            "type": "histogram"
           }
          ],
          "histogram2d": [
           {
            "colorbar": {
             "outlinewidth": 0,
             "ticks": ""
            },
            "colorscale": [
             [
              0,
              "#0d0887"
             ],
             [
              0.1111111111111111,
              "#46039f"
             ],
             [
              0.2222222222222222,
              "#7201a8"
             ],
             [
              0.3333333333333333,
              "#9c179e"
             ],
             [
              0.4444444444444444,
              "#bd3786"
             ],
             [
              0.5555555555555556,
              "#d8576b"
             ],
             [
              0.6666666666666666,
              "#ed7953"
             ],
             [
              0.7777777777777778,
              "#fb9f3a"
             ],
             [
              0.8888888888888888,
              "#fdca26"
             ],
             [
              1,
              "#f0f921"
             ]
            ],
            "type": "histogram2d"
           }
          ],
          "histogram2dcontour": [
           {
            "colorbar": {
             "outlinewidth": 0,
             "ticks": ""
            },
            "colorscale": [
             [
              0,
              "#0d0887"
             ],
             [
              0.1111111111111111,
              "#46039f"
             ],
             [
              0.2222222222222222,
              "#7201a8"
             ],
             [
              0.3333333333333333,
              "#9c179e"
             ],
             [
              0.4444444444444444,
              "#bd3786"
             ],
             [
              0.5555555555555556,
              "#d8576b"
             ],
             [
              0.6666666666666666,
              "#ed7953"
             ],
             [
              0.7777777777777778,
              "#fb9f3a"
             ],
             [
              0.8888888888888888,
              "#fdca26"
             ],
             [
              1,
              "#f0f921"
             ]
            ],
            "type": "histogram2dcontour"
           }
          ],
          "mesh3d": [
           {
            "colorbar": {
             "outlinewidth": 0,
             "ticks": ""
            },
            "type": "mesh3d"
           }
          ],
          "parcoords": [
           {
            "line": {
             "colorbar": {
              "outlinewidth": 0,
              "ticks": ""
             }
            },
            "type": "parcoords"
           }
          ],
          "pie": [
           {
            "automargin": true,
            "type": "pie"
           }
          ],
          "scatter": [
           {
            "fillpattern": {
             "fillmode": "overlay",
             "size": 10,
             "solidity": 0.2
            },
            "type": "scatter"
           }
          ],
          "scatter3d": [
           {
            "line": {
             "colorbar": {
              "outlinewidth": 0,
              "ticks": ""
             }
            },
            "marker": {
             "colorbar": {
              "outlinewidth": 0,
              "ticks": ""
             }
            },
            "type": "scatter3d"
           }
          ],
          "scattercarpet": [
           {
            "marker": {
             "colorbar": {
              "outlinewidth": 0,
              "ticks": ""
             }
            },
            "type": "scattercarpet"
           }
          ],
          "scattergeo": [
           {
            "marker": {
             "colorbar": {
              "outlinewidth": 0,
              "ticks": ""
             }
            },
            "type": "scattergeo"
           }
          ],
          "scattergl": [
           {
            "marker": {
             "colorbar": {
              "outlinewidth": 0,
              "ticks": ""
             }
            },
            "type": "scattergl"
           }
          ],
          "scattermap": [
           {
            "marker": {
             "colorbar": {
              "outlinewidth": 0,
              "ticks": ""
             }
            },
            "type": "scattermap"
           }
          ],
          "scattermapbox": [
           {
            "marker": {
             "colorbar": {
              "outlinewidth": 0,
              "ticks": ""
             }
            },
            "type": "scattermapbox"
           }
          ],
          "scatterpolar": [
           {
            "marker": {
             "colorbar": {
              "outlinewidth": 0,
              "ticks": ""
             }
            },
            "type": "scatterpolar"
           }
          ],
          "scatterpolargl": [
           {
            "marker": {
             "colorbar": {
              "outlinewidth": 0,
              "ticks": ""
             }
            },
            "type": "scatterpolargl"
           }
          ],
          "scatterternary": [
           {
            "marker": {
             "colorbar": {
              "outlinewidth": 0,
              "ticks": ""
             }
            },
            "type": "scatterternary"
           }
          ],
          "surface": [
           {
            "colorbar": {
             "outlinewidth": 0,
             "ticks": ""
            },
            "colorscale": [
             [
              0,
              "#0d0887"
             ],
             [
              0.1111111111111111,
              "#46039f"
             ],
             [
              0.2222222222222222,
              "#7201a8"
             ],
             [
              0.3333333333333333,
              "#9c179e"
             ],
             [
              0.4444444444444444,
              "#bd3786"
             ],
             [
              0.5555555555555556,
              "#d8576b"
             ],
             [
              0.6666666666666666,
              "#ed7953"
             ],
             [
              0.7777777777777778,
              "#fb9f3a"
             ],
             [
              0.8888888888888888,
              "#fdca26"
             ],
             [
              1,
              "#f0f921"
             ]
            ],
            "type": "surface"
           }
          ],
          "table": [
           {
            "cells": {
             "fill": {
              "color": "#EBF0F8"
             },
             "line": {
              "color": "white"
             }
            },
            "header": {
             "fill": {
              "color": "#C8D4E3"
             },
             "line": {
              "color": "white"
             }
            },
            "type": "table"
           }
          ]
         },
         "layout": {
          "annotationdefaults": {
           "arrowcolor": "#2a3f5f",
           "arrowhead": 0,
           "arrowwidth": 1
          },
          "autotypenumbers": "strict",
          "coloraxis": {
           "colorbar": {
            "outlinewidth": 0,
            "ticks": ""
           }
          },
          "colorscale": {
           "diverging": [
            [
             0,
             "#8e0152"
            ],
            [
             0.1,
             "#c51b7d"
            ],
            [
             0.2,
             "#de77ae"
            ],
            [
             0.3,
             "#f1b6da"
            ],
            [
             0.4,
             "#fde0ef"
            ],
            [
             0.5,
             "#f7f7f7"
            ],
            [
             0.6,
             "#e6f5d0"
            ],
            [
             0.7,
             "#b8e186"
            ],
            [
             0.8,
             "#7fbc41"
            ],
            [
             0.9,
             "#4d9221"
            ],
            [
             1,
             "#276419"
            ]
           ],
           "sequential": [
            [
             0,
             "#0d0887"
            ],
            [
             0.1111111111111111,
             "#46039f"
            ],
            [
             0.2222222222222222,
             "#7201a8"
            ],
            [
             0.3333333333333333,
             "#9c179e"
            ],
            [
             0.4444444444444444,
             "#bd3786"
            ],
            [
             0.5555555555555556,
             "#d8576b"
            ],
            [
             0.6666666666666666,
             "#ed7953"
            ],
            [
             0.7777777777777778,
             "#fb9f3a"
            ],
            [
             0.8888888888888888,
             "#fdca26"
            ],
            [
             1,
             "#f0f921"
            ]
           ],
           "sequentialminus": [
            [
             0,
             "#0d0887"
            ],
            [
             0.1111111111111111,
             "#46039f"
            ],
            [
             0.2222222222222222,
             "#7201a8"
            ],
            [
             0.3333333333333333,
             "#9c179e"
            ],
            [
             0.4444444444444444,
             "#bd3786"
            ],
            [
             0.5555555555555556,
             "#d8576b"
            ],
            [
             0.6666666666666666,
             "#ed7953"
            ],
            [
             0.7777777777777778,
             "#fb9f3a"
            ],
            [
             0.8888888888888888,
             "#fdca26"
            ],
            [
             1,
             "#f0f921"
            ]
           ]
          },
          "colorway": [
           "#636efa",
           "#EF553B",
           "#00cc96",
           "#ab63fa",
           "#FFA15A",
           "#19d3f3",
           "#FF6692",
           "#B6E880",
           "#FF97FF",
           "#FECB52"
          ],
          "font": {
           "color": "#2a3f5f"
          },
          "geo": {
           "bgcolor": "white",
           "lakecolor": "white",
           "landcolor": "#E5ECF6",
           "showlakes": true,
           "showland": true,
           "subunitcolor": "white"
          },
          "hoverlabel": {
           "align": "left"
          },
          "hovermode": "closest",
          "mapbox": {
           "style": "light"
          },
          "paper_bgcolor": "white",
          "plot_bgcolor": "#E5ECF6",
          "polar": {
           "angularaxis": {
            "gridcolor": "white",
            "linecolor": "white",
            "ticks": ""
           },
           "bgcolor": "#E5ECF6",
           "radialaxis": {
            "gridcolor": "white",
            "linecolor": "white",
            "ticks": ""
           }
          },
          "scene": {
           "xaxis": {
            "backgroundcolor": "#E5ECF6",
            "gridcolor": "white",
            "gridwidth": 2,
            "linecolor": "white",
            "showbackground": true,
            "ticks": "",
            "zerolinecolor": "white"
           },
           "yaxis": {
            "backgroundcolor": "#E5ECF6",
            "gridcolor": "white",
            "gridwidth": 2,
            "linecolor": "white",
            "showbackground": true,
            "ticks": "",
            "zerolinecolor": "white"
           },
           "zaxis": {
            "backgroundcolor": "#E5ECF6",
            "gridcolor": "white",
            "gridwidth": 2,
            "linecolor": "white",
            "showbackground": true,
            "ticks": "",
            "zerolinecolor": "white"
           }
          },
          "shapedefaults": {
           "line": {
            "color": "#2a3f5f"
           }
          },
          "ternary": {
           "aaxis": {
            "gridcolor": "white",
            "linecolor": "white",
            "ticks": ""
           },
           "baxis": {
            "gridcolor": "white",
            "linecolor": "white",
            "ticks": ""
           },
           "bgcolor": "#E5ECF6",
           "caxis": {
            "gridcolor": "white",
            "linecolor": "white",
            "ticks": ""
           }
          },
          "title": {
           "x": 0.05
          },
          "xaxis": {
           "automargin": true,
           "gridcolor": "white",
           "linecolor": "white",
           "ticks": "",
           "title": {
            "standoff": 15
           },
           "zerolinecolor": "white",
           "zerolinewidth": 2
          },
          "yaxis": {
           "automargin": true,
           "gridcolor": "white",
           "linecolor": "white",
           "ticks": "",
           "title": {
            "standoff": 15
           },
           "zerolinecolor": "white",
           "zerolinewidth": 2
          }
         }
        },
        "title": {
         "text": "Hyperparameter Importances"
        },
        "xaxis": {
         "title": {
          "text": "Hyperparameter Importance"
         }
        },
        "yaxis": {
         "title": {
          "text": "Hyperparameter"
         }
        }
       }
      }
     },
     "metadata": {},
     "output_type": "display_data"
    }
   ],
   "source": [
    "vis.plot_param_importances(study=study)"
   ]
  },
  {
   "cell_type": "code",
   "execution_count": 23,
   "id": "ab64ad06",
   "metadata": {},
   "outputs": [],
   "source": [
    "# creating new model\n",
    "best_n_estimators= best_params['n_estimators']\n",
    "best_max_depth= best_params['max_depth']\n",
    "best_min_samples_split= best_params['min_samples_split']\n",
    "best_min_samples_leaf= best_params['min_samples_leaf']\n",
    "best_min_impurity_decrease= best_params['min_impurity_decrease']\n",
    "best_max_features= best_params['max_features']\n",
    "best_bootstrap= False\n",
    "best_oob_score= False\n",
    "best_max_leaf_nodes= best_params['max_leaf_nodes']\n",
    "best_max_samples= None"
   ]
  },
  {
   "cell_type": "code",
   "execution_count": 24,
   "id": "ca90cc62",
   "metadata": {},
   "outputs": [],
   "source": [
    "best_model = RandomForestRegressor(\n",
    "    n_estimators=best_n_estimators,\n",
    "    max_depth=best_max_depth,\n",
    "    min_samples_split=best_min_samples_split,\n",
    "    min_samples_leaf=best_min_samples_leaf,\n",
    "    min_impurity_decrease=best_min_impurity_decrease,\n",
    "    max_features=best_max_features,\n",
    "    bootstrap=best_bootstrap,\n",
    "    oob_score=best_oob_score,\n",
    "    max_leaf_nodes=best_max_leaf_nodes,\n",
    "    max_samples=best_max_samples,\n",
    "    random_state=42,  # thêm để đảm bảo reproducibility\n",
    "    n_jobs=-1         # tận dụng toàn bộ CPU cores\n",
    ")"
   ]
  },
  {
   "cell_type": "code",
   "execution_count": 25,
   "id": "8ea00feb",
   "metadata": {},
   "outputs": [
    {
     "data": {
      "text/html": [
       "<style>#sk-container-id-1 {\n",
       "  /* Definition of color scheme common for light and dark mode */\n",
       "  --sklearn-color-text: #000;\n",
       "  --sklearn-color-text-muted: #666;\n",
       "  --sklearn-color-line: gray;\n",
       "  /* Definition of color scheme for unfitted estimators */\n",
       "  --sklearn-color-unfitted-level-0: #fff5e6;\n",
       "  --sklearn-color-unfitted-level-1: #f6e4d2;\n",
       "  --sklearn-color-unfitted-level-2: #ffe0b3;\n",
       "  --sklearn-color-unfitted-level-3: chocolate;\n",
       "  /* Definition of color scheme for fitted estimators */\n",
       "  --sklearn-color-fitted-level-0: #f0f8ff;\n",
       "  --sklearn-color-fitted-level-1: #d4ebff;\n",
       "  --sklearn-color-fitted-level-2: #b3dbfd;\n",
       "  --sklearn-color-fitted-level-3: cornflowerblue;\n",
       "\n",
       "  /* Specific color for light theme */\n",
       "  --sklearn-color-text-on-default-background: var(--sg-text-color, var(--theme-code-foreground, var(--jp-content-font-color1, black)));\n",
       "  --sklearn-color-background: var(--sg-background-color, var(--theme-background, var(--jp-layout-color0, white)));\n",
       "  --sklearn-color-border-box: var(--sg-text-color, var(--theme-code-foreground, var(--jp-content-font-color1, black)));\n",
       "  --sklearn-color-icon: #696969;\n",
       "\n",
       "  @media (prefers-color-scheme: dark) {\n",
       "    /* Redefinition of color scheme for dark theme */\n",
       "    --sklearn-color-text-on-default-background: var(--sg-text-color, var(--theme-code-foreground, var(--jp-content-font-color1, white)));\n",
       "    --sklearn-color-background: var(--sg-background-color, var(--theme-background, var(--jp-layout-color0, #111)));\n",
       "    --sklearn-color-border-box: var(--sg-text-color, var(--theme-code-foreground, var(--jp-content-font-color1, white)));\n",
       "    --sklearn-color-icon: #878787;\n",
       "  }\n",
       "}\n",
       "\n",
       "#sk-container-id-1 {\n",
       "  color: var(--sklearn-color-text);\n",
       "}\n",
       "\n",
       "#sk-container-id-1 pre {\n",
       "  padding: 0;\n",
       "}\n",
       "\n",
       "#sk-container-id-1 input.sk-hidden--visually {\n",
       "  border: 0;\n",
       "  clip: rect(1px 1px 1px 1px);\n",
       "  clip: rect(1px, 1px, 1px, 1px);\n",
       "  height: 1px;\n",
       "  margin: -1px;\n",
       "  overflow: hidden;\n",
       "  padding: 0;\n",
       "  position: absolute;\n",
       "  width: 1px;\n",
       "}\n",
       "\n",
       "#sk-container-id-1 div.sk-dashed-wrapped {\n",
       "  border: 1px dashed var(--sklearn-color-line);\n",
       "  margin: 0 0.4em 0.5em 0.4em;\n",
       "  box-sizing: border-box;\n",
       "  padding-bottom: 0.4em;\n",
       "  background-color: var(--sklearn-color-background);\n",
       "}\n",
       "\n",
       "#sk-container-id-1 div.sk-container {\n",
       "  /* jupyter's `normalize.less` sets `[hidden] { display: none; }`\n",
       "     but bootstrap.min.css set `[hidden] { display: none !important; }`\n",
       "     so we also need the `!important` here to be able to override the\n",
       "     default hidden behavior on the sphinx rendered scikit-learn.org.\n",
       "     See: https://github.com/scikit-learn/scikit-learn/issues/21755 */\n",
       "  display: inline-block !important;\n",
       "  position: relative;\n",
       "}\n",
       "\n",
       "#sk-container-id-1 div.sk-text-repr-fallback {\n",
       "  display: none;\n",
       "}\n",
       "\n",
       "div.sk-parallel-item,\n",
       "div.sk-serial,\n",
       "div.sk-item {\n",
       "  /* draw centered vertical line to link estimators */\n",
       "  background-image: linear-gradient(var(--sklearn-color-text-on-default-background), var(--sklearn-color-text-on-default-background));\n",
       "  background-size: 2px 100%;\n",
       "  background-repeat: no-repeat;\n",
       "  background-position: center center;\n",
       "}\n",
       "\n",
       "/* Parallel-specific style estimator block */\n",
       "\n",
       "#sk-container-id-1 div.sk-parallel-item::after {\n",
       "  content: \"\";\n",
       "  width: 100%;\n",
       "  border-bottom: 2px solid var(--sklearn-color-text-on-default-background);\n",
       "  flex-grow: 1;\n",
       "}\n",
       "\n",
       "#sk-container-id-1 div.sk-parallel {\n",
       "  display: flex;\n",
       "  align-items: stretch;\n",
       "  justify-content: center;\n",
       "  background-color: var(--sklearn-color-background);\n",
       "  position: relative;\n",
       "}\n",
       "\n",
       "#sk-container-id-1 div.sk-parallel-item {\n",
       "  display: flex;\n",
       "  flex-direction: column;\n",
       "}\n",
       "\n",
       "#sk-container-id-1 div.sk-parallel-item:first-child::after {\n",
       "  align-self: flex-end;\n",
       "  width: 50%;\n",
       "}\n",
       "\n",
       "#sk-container-id-1 div.sk-parallel-item:last-child::after {\n",
       "  align-self: flex-start;\n",
       "  width: 50%;\n",
       "}\n",
       "\n",
       "#sk-container-id-1 div.sk-parallel-item:only-child::after {\n",
       "  width: 0;\n",
       "}\n",
       "\n",
       "/* Serial-specific style estimator block */\n",
       "\n",
       "#sk-container-id-1 div.sk-serial {\n",
       "  display: flex;\n",
       "  flex-direction: column;\n",
       "  align-items: center;\n",
       "  background-color: var(--sklearn-color-background);\n",
       "  padding-right: 1em;\n",
       "  padding-left: 1em;\n",
       "}\n",
       "\n",
       "\n",
       "/* Toggleable style: style used for estimator/Pipeline/ColumnTransformer box that is\n",
       "clickable and can be expanded/collapsed.\n",
       "- Pipeline and ColumnTransformer use this feature and define the default style\n",
       "- Estimators will overwrite some part of the style using the `sk-estimator` class\n",
       "*/\n",
       "\n",
       "/* Pipeline and ColumnTransformer style (default) */\n",
       "\n",
       "#sk-container-id-1 div.sk-toggleable {\n",
       "  /* Default theme specific background. It is overwritten whether we have a\n",
       "  specific estimator or a Pipeline/ColumnTransformer */\n",
       "  background-color: var(--sklearn-color-background);\n",
       "}\n",
       "\n",
       "/* Toggleable label */\n",
       "#sk-container-id-1 label.sk-toggleable__label {\n",
       "  cursor: pointer;\n",
       "  display: flex;\n",
       "  width: 100%;\n",
       "  margin-bottom: 0;\n",
       "  padding: 0.5em;\n",
       "  box-sizing: border-box;\n",
       "  text-align: center;\n",
       "  align-items: start;\n",
       "  justify-content: space-between;\n",
       "  gap: 0.5em;\n",
       "}\n",
       "\n",
       "#sk-container-id-1 label.sk-toggleable__label .caption {\n",
       "  font-size: 0.6rem;\n",
       "  font-weight: lighter;\n",
       "  color: var(--sklearn-color-text-muted);\n",
       "}\n",
       "\n",
       "#sk-container-id-1 label.sk-toggleable__label-arrow:before {\n",
       "  /* Arrow on the left of the label */\n",
       "  content: \"▸\";\n",
       "  float: left;\n",
       "  margin-right: 0.25em;\n",
       "  color: var(--sklearn-color-icon);\n",
       "}\n",
       "\n",
       "#sk-container-id-1 label.sk-toggleable__label-arrow:hover:before {\n",
       "  color: var(--sklearn-color-text);\n",
       "}\n",
       "\n",
       "/* Toggleable content - dropdown */\n",
       "\n",
       "#sk-container-id-1 div.sk-toggleable__content {\n",
       "  display: none;\n",
       "  text-align: left;\n",
       "  /* unfitted */\n",
       "  background-color: var(--sklearn-color-unfitted-level-0);\n",
       "}\n",
       "\n",
       "#sk-container-id-1 div.sk-toggleable__content.fitted {\n",
       "  /* fitted */\n",
       "  background-color: var(--sklearn-color-fitted-level-0);\n",
       "}\n",
       "\n",
       "#sk-container-id-1 div.sk-toggleable__content pre {\n",
       "  margin: 0.2em;\n",
       "  border-radius: 0.25em;\n",
       "  color: var(--sklearn-color-text);\n",
       "  /* unfitted */\n",
       "  background-color: var(--sklearn-color-unfitted-level-0);\n",
       "}\n",
       "\n",
       "#sk-container-id-1 div.sk-toggleable__content.fitted pre {\n",
       "  /* unfitted */\n",
       "  background-color: var(--sklearn-color-fitted-level-0);\n",
       "}\n",
       "\n",
       "#sk-container-id-1 input.sk-toggleable__control:checked~div.sk-toggleable__content {\n",
       "  /* Expand drop-down */\n",
       "  display: block;\n",
       "  width: 100%;\n",
       "  overflow: visible;\n",
       "}\n",
       "\n",
       "#sk-container-id-1 input.sk-toggleable__control:checked~label.sk-toggleable__label-arrow:before {\n",
       "  content: \"▾\";\n",
       "}\n",
       "\n",
       "/* Pipeline/ColumnTransformer-specific style */\n",
       "\n",
       "#sk-container-id-1 div.sk-label input.sk-toggleable__control:checked~label.sk-toggleable__label {\n",
       "  color: var(--sklearn-color-text);\n",
       "  background-color: var(--sklearn-color-unfitted-level-2);\n",
       "}\n",
       "\n",
       "#sk-container-id-1 div.sk-label.fitted input.sk-toggleable__control:checked~label.sk-toggleable__label {\n",
       "  background-color: var(--sklearn-color-fitted-level-2);\n",
       "}\n",
       "\n",
       "/* Estimator-specific style */\n",
       "\n",
       "/* Colorize estimator box */\n",
       "#sk-container-id-1 div.sk-estimator input.sk-toggleable__control:checked~label.sk-toggleable__label {\n",
       "  /* unfitted */\n",
       "  background-color: var(--sklearn-color-unfitted-level-2);\n",
       "}\n",
       "\n",
       "#sk-container-id-1 div.sk-estimator.fitted input.sk-toggleable__control:checked~label.sk-toggleable__label {\n",
       "  /* fitted */\n",
       "  background-color: var(--sklearn-color-fitted-level-2);\n",
       "}\n",
       "\n",
       "#sk-container-id-1 div.sk-label label.sk-toggleable__label,\n",
       "#sk-container-id-1 div.sk-label label {\n",
       "  /* The background is the default theme color */\n",
       "  color: var(--sklearn-color-text-on-default-background);\n",
       "}\n",
       "\n",
       "/* On hover, darken the color of the background */\n",
       "#sk-container-id-1 div.sk-label:hover label.sk-toggleable__label {\n",
       "  color: var(--sklearn-color-text);\n",
       "  background-color: var(--sklearn-color-unfitted-level-2);\n",
       "}\n",
       "\n",
       "/* Label box, darken color on hover, fitted */\n",
       "#sk-container-id-1 div.sk-label.fitted:hover label.sk-toggleable__label.fitted {\n",
       "  color: var(--sklearn-color-text);\n",
       "  background-color: var(--sklearn-color-fitted-level-2);\n",
       "}\n",
       "\n",
       "/* Estimator label */\n",
       "\n",
       "#sk-container-id-1 div.sk-label label {\n",
       "  font-family: monospace;\n",
       "  font-weight: bold;\n",
       "  display: inline-block;\n",
       "  line-height: 1.2em;\n",
       "}\n",
       "\n",
       "#sk-container-id-1 div.sk-label-container {\n",
       "  text-align: center;\n",
       "}\n",
       "\n",
       "/* Estimator-specific */\n",
       "#sk-container-id-1 div.sk-estimator {\n",
       "  font-family: monospace;\n",
       "  border: 1px dotted var(--sklearn-color-border-box);\n",
       "  border-radius: 0.25em;\n",
       "  box-sizing: border-box;\n",
       "  margin-bottom: 0.5em;\n",
       "  /* unfitted */\n",
       "  background-color: var(--sklearn-color-unfitted-level-0);\n",
       "}\n",
       "\n",
       "#sk-container-id-1 div.sk-estimator.fitted {\n",
       "  /* fitted */\n",
       "  background-color: var(--sklearn-color-fitted-level-0);\n",
       "}\n",
       "\n",
       "/* on hover */\n",
       "#sk-container-id-1 div.sk-estimator:hover {\n",
       "  /* unfitted */\n",
       "  background-color: var(--sklearn-color-unfitted-level-2);\n",
       "}\n",
       "\n",
       "#sk-container-id-1 div.sk-estimator.fitted:hover {\n",
       "  /* fitted */\n",
       "  background-color: var(--sklearn-color-fitted-level-2);\n",
       "}\n",
       "\n",
       "/* Specification for estimator info (e.g. \"i\" and \"?\") */\n",
       "\n",
       "/* Common style for \"i\" and \"?\" */\n",
       "\n",
       ".sk-estimator-doc-link,\n",
       "a:link.sk-estimator-doc-link,\n",
       "a:visited.sk-estimator-doc-link {\n",
       "  float: right;\n",
       "  font-size: smaller;\n",
       "  line-height: 1em;\n",
       "  font-family: monospace;\n",
       "  background-color: var(--sklearn-color-background);\n",
       "  border-radius: 1em;\n",
       "  height: 1em;\n",
       "  width: 1em;\n",
       "  text-decoration: none !important;\n",
       "  margin-left: 0.5em;\n",
       "  text-align: center;\n",
       "  /* unfitted */\n",
       "  border: var(--sklearn-color-unfitted-level-1) 1pt solid;\n",
       "  color: var(--sklearn-color-unfitted-level-1);\n",
       "}\n",
       "\n",
       ".sk-estimator-doc-link.fitted,\n",
       "a:link.sk-estimator-doc-link.fitted,\n",
       "a:visited.sk-estimator-doc-link.fitted {\n",
       "  /* fitted */\n",
       "  border: var(--sklearn-color-fitted-level-1) 1pt solid;\n",
       "  color: var(--sklearn-color-fitted-level-1);\n",
       "}\n",
       "\n",
       "/* On hover */\n",
       "div.sk-estimator:hover .sk-estimator-doc-link:hover,\n",
       ".sk-estimator-doc-link:hover,\n",
       "div.sk-label-container:hover .sk-estimator-doc-link:hover,\n",
       ".sk-estimator-doc-link:hover {\n",
       "  /* unfitted */\n",
       "  background-color: var(--sklearn-color-unfitted-level-3);\n",
       "  color: var(--sklearn-color-background);\n",
       "  text-decoration: none;\n",
       "}\n",
       "\n",
       "div.sk-estimator.fitted:hover .sk-estimator-doc-link.fitted:hover,\n",
       ".sk-estimator-doc-link.fitted:hover,\n",
       "div.sk-label-container:hover .sk-estimator-doc-link.fitted:hover,\n",
       ".sk-estimator-doc-link.fitted:hover {\n",
       "  /* fitted */\n",
       "  background-color: var(--sklearn-color-fitted-level-3);\n",
       "  color: var(--sklearn-color-background);\n",
       "  text-decoration: none;\n",
       "}\n",
       "\n",
       "/* Span, style for the box shown on hovering the info icon */\n",
       ".sk-estimator-doc-link span {\n",
       "  display: none;\n",
       "  z-index: 9999;\n",
       "  position: relative;\n",
       "  font-weight: normal;\n",
       "  right: .2ex;\n",
       "  padding: .5ex;\n",
       "  margin: .5ex;\n",
       "  width: min-content;\n",
       "  min-width: 20ex;\n",
       "  max-width: 50ex;\n",
       "  color: var(--sklearn-color-text);\n",
       "  box-shadow: 2pt 2pt 4pt #999;\n",
       "  /* unfitted */\n",
       "  background: var(--sklearn-color-unfitted-level-0);\n",
       "  border: .5pt solid var(--sklearn-color-unfitted-level-3);\n",
       "}\n",
       "\n",
       ".sk-estimator-doc-link.fitted span {\n",
       "  /* fitted */\n",
       "  background: var(--sklearn-color-fitted-level-0);\n",
       "  border: var(--sklearn-color-fitted-level-3);\n",
       "}\n",
       "\n",
       ".sk-estimator-doc-link:hover span {\n",
       "  display: block;\n",
       "}\n",
       "\n",
       "/* \"?\"-specific style due to the `<a>` HTML tag */\n",
       "\n",
       "#sk-container-id-1 a.estimator_doc_link {\n",
       "  float: right;\n",
       "  font-size: 1rem;\n",
       "  line-height: 1em;\n",
       "  font-family: monospace;\n",
       "  background-color: var(--sklearn-color-background);\n",
       "  border-radius: 1rem;\n",
       "  height: 1rem;\n",
       "  width: 1rem;\n",
       "  text-decoration: none;\n",
       "  /* unfitted */\n",
       "  color: var(--sklearn-color-unfitted-level-1);\n",
       "  border: var(--sklearn-color-unfitted-level-1) 1pt solid;\n",
       "}\n",
       "\n",
       "#sk-container-id-1 a.estimator_doc_link.fitted {\n",
       "  /* fitted */\n",
       "  border: var(--sklearn-color-fitted-level-1) 1pt solid;\n",
       "  color: var(--sklearn-color-fitted-level-1);\n",
       "}\n",
       "\n",
       "/* On hover */\n",
       "#sk-container-id-1 a.estimator_doc_link:hover {\n",
       "  /* unfitted */\n",
       "  background-color: var(--sklearn-color-unfitted-level-3);\n",
       "  color: var(--sklearn-color-background);\n",
       "  text-decoration: none;\n",
       "}\n",
       "\n",
       "#sk-container-id-1 a.estimator_doc_link.fitted:hover {\n",
       "  /* fitted */\n",
       "  background-color: var(--sklearn-color-fitted-level-3);\n",
       "}\n",
       "\n",
       ".estimator-table summary {\n",
       "    padding: .5rem;\n",
       "    font-family: monospace;\n",
       "    cursor: pointer;\n",
       "}\n",
       "\n",
       ".estimator-table details[open] {\n",
       "    padding-left: 0.1rem;\n",
       "    padding-right: 0.1rem;\n",
       "    padding-bottom: 0.3rem;\n",
       "}\n",
       "\n",
       ".estimator-table .parameters-table {\n",
       "    margin-left: auto !important;\n",
       "    margin-right: auto !important;\n",
       "}\n",
       "\n",
       ".estimator-table .parameters-table tr:nth-child(odd) {\n",
       "    background-color: #fff;\n",
       "}\n",
       "\n",
       ".estimator-table .parameters-table tr:nth-child(even) {\n",
       "    background-color: #f6f6f6;\n",
       "}\n",
       "\n",
       ".estimator-table .parameters-table tr:hover {\n",
       "    background-color: #e0e0e0;\n",
       "}\n",
       "\n",
       ".estimator-table table td {\n",
       "    border: 1px solid rgba(106, 105, 104, 0.232);\n",
       "}\n",
       "\n",
       ".user-set td {\n",
       "    color:rgb(255, 94, 0);\n",
       "    text-align: left;\n",
       "}\n",
       "\n",
       ".user-set td.value pre {\n",
       "    color:rgb(255, 94, 0) !important;\n",
       "    background-color: transparent !important;\n",
       "}\n",
       "\n",
       ".default td {\n",
       "    color: black;\n",
       "    text-align: left;\n",
       "}\n",
       "\n",
       ".user-set td i,\n",
       ".default td i {\n",
       "    color: black;\n",
       "}\n",
       "\n",
       ".copy-paste-icon {\n",
       "    background-image: url(data:image/svg+xml;base64,PHN2ZyB4bWxucz0iaHR0cDovL3d3dy53My5vcmcvMjAwMC9zdmciIHZpZXdCb3g9IjAgMCA0NDggNTEyIj48IS0tIUZvbnQgQXdlc29tZSBGcmVlIDYuNy4yIGJ5IEBmb250YXdlc29tZSAtIGh0dHBzOi8vZm9udGF3ZXNvbWUuY29tIExpY2Vuc2UgLSBodHRwczovL2ZvbnRhd2Vzb21lLmNvbS9saWNlbnNlL2ZyZWUgQ29weXJpZ2h0IDIwMjUgRm9udGljb25zLCBJbmMuLS0+PHBhdGggZD0iTTIwOCAwTDMzMi4xIDBjMTIuNyAwIDI0LjkgNS4xIDMzLjkgMTQuMWw2Ny45IDY3LjljOSA5IDE0LjEgMjEuMiAxNC4xIDMzLjlMNDQ4IDMzNmMwIDI2LjUtMjEuNSA0OC00OCA0OGwtMTkyIDBjLTI2LjUgMC00OC0yMS41LTQ4LTQ4bDAtMjg4YzAtMjYuNSAyMS41LTQ4IDQ4LTQ4ek00OCAxMjhsODAgMCAwIDY0LTY0IDAgMCAyNTYgMTkyIDAgMC0zMiA2NCAwIDAgNDhjMCAyNi41LTIxLjUgNDgtNDggNDhMNDggNTEyYy0yNi41IDAtNDgtMjEuNS00OC00OEwwIDE3NmMwLTI2LjUgMjEuNS00OCA0OC00OHoiLz48L3N2Zz4=);\n",
       "    background-repeat: no-repeat;\n",
       "    background-size: 14px 14px;\n",
       "    background-position: 0;\n",
       "    display: inline-block;\n",
       "    width: 14px;\n",
       "    height: 14px;\n",
       "    cursor: pointer;\n",
       "}\n",
       "</style><body><div id=\"sk-container-id-1\" class=\"sk-top-container\"><div class=\"sk-text-repr-fallback\"><pre>RandomForestRegressor(bootstrap=False, max_depth=32, max_features=&#x27;sqrt&#x27;,\n",
       "                      max_leaf_nodes=933,\n",
       "                      min_impurity_decrease=0.0008010072428880139,\n",
       "                      min_samples_leaf=2, min_samples_split=5, n_estimators=923,\n",
       "                      n_jobs=-1, random_state=42)</pre><b>In a Jupyter environment, please rerun this cell to show the HTML representation or trust the notebook. <br />On GitHub, the HTML representation is unable to render, please try loading this page with nbviewer.org.</b></div><div class=\"sk-container\" hidden><div class=\"sk-item\"><div class=\"sk-estimator fitted sk-toggleable\"><input class=\"sk-toggleable__control sk-hidden--visually\" id=\"sk-estimator-id-1\" type=\"checkbox\" checked><label for=\"sk-estimator-id-1\" class=\"sk-toggleable__label fitted sk-toggleable__label-arrow\"><div><div>RandomForestRegressor</div></div><div><a class=\"sk-estimator-doc-link fitted\" rel=\"noreferrer\" target=\"_blank\" href=\"https://scikit-learn.org/1.7/modules/generated/sklearn.ensemble.RandomForestRegressor.html\">?<span>Documentation for RandomForestRegressor</span></a><span class=\"sk-estimator-doc-link fitted\">i<span>Fitted</span></span></div></label><div class=\"sk-toggleable__content fitted\" data-param-prefix=\"\">\n",
       "        <div class=\"estimator-table\">\n",
       "            <details>\n",
       "                <summary>Parameters</summary>\n",
       "                <table class=\"parameters-table\">\n",
       "                  <tbody>\n",
       "                    \n",
       "        <tr class=\"user-set\">\n",
       "            <td><i class=\"copy-paste-icon\"\n",
       "                 onclick=\"copyToClipboard('n_estimators',\n",
       "                          this.parentElement.nextElementSibling)\"\n",
       "            ></i></td>\n",
       "            <td class=\"param\">n_estimators&nbsp;</td>\n",
       "            <td class=\"value\">923</td>\n",
       "        </tr>\n",
       "    \n",
       "\n",
       "        <tr class=\"default\">\n",
       "            <td><i class=\"copy-paste-icon\"\n",
       "                 onclick=\"copyToClipboard('criterion',\n",
       "                          this.parentElement.nextElementSibling)\"\n",
       "            ></i></td>\n",
       "            <td class=\"param\">criterion&nbsp;</td>\n",
       "            <td class=\"value\">&#x27;squared_error&#x27;</td>\n",
       "        </tr>\n",
       "    \n",
       "\n",
       "        <tr class=\"user-set\">\n",
       "            <td><i class=\"copy-paste-icon\"\n",
       "                 onclick=\"copyToClipboard('max_depth',\n",
       "                          this.parentElement.nextElementSibling)\"\n",
       "            ></i></td>\n",
       "            <td class=\"param\">max_depth&nbsp;</td>\n",
       "            <td class=\"value\">32</td>\n",
       "        </tr>\n",
       "    \n",
       "\n",
       "        <tr class=\"user-set\">\n",
       "            <td><i class=\"copy-paste-icon\"\n",
       "                 onclick=\"copyToClipboard('min_samples_split',\n",
       "                          this.parentElement.nextElementSibling)\"\n",
       "            ></i></td>\n",
       "            <td class=\"param\">min_samples_split&nbsp;</td>\n",
       "            <td class=\"value\">5</td>\n",
       "        </tr>\n",
       "    \n",
       "\n",
       "        <tr class=\"user-set\">\n",
       "            <td><i class=\"copy-paste-icon\"\n",
       "                 onclick=\"copyToClipboard('min_samples_leaf',\n",
       "                          this.parentElement.nextElementSibling)\"\n",
       "            ></i></td>\n",
       "            <td class=\"param\">min_samples_leaf&nbsp;</td>\n",
       "            <td class=\"value\">2</td>\n",
       "        </tr>\n",
       "    \n",
       "\n",
       "        <tr class=\"default\">\n",
       "            <td><i class=\"copy-paste-icon\"\n",
       "                 onclick=\"copyToClipboard('min_weight_fraction_leaf',\n",
       "                          this.parentElement.nextElementSibling)\"\n",
       "            ></i></td>\n",
       "            <td class=\"param\">min_weight_fraction_leaf&nbsp;</td>\n",
       "            <td class=\"value\">0.0</td>\n",
       "        </tr>\n",
       "    \n",
       "\n",
       "        <tr class=\"user-set\">\n",
       "            <td><i class=\"copy-paste-icon\"\n",
       "                 onclick=\"copyToClipboard('max_features',\n",
       "                          this.parentElement.nextElementSibling)\"\n",
       "            ></i></td>\n",
       "            <td class=\"param\">max_features&nbsp;</td>\n",
       "            <td class=\"value\">&#x27;sqrt&#x27;</td>\n",
       "        </tr>\n",
       "    \n",
       "\n",
       "        <tr class=\"user-set\">\n",
       "            <td><i class=\"copy-paste-icon\"\n",
       "                 onclick=\"copyToClipboard('max_leaf_nodes',\n",
       "                          this.parentElement.nextElementSibling)\"\n",
       "            ></i></td>\n",
       "            <td class=\"param\">max_leaf_nodes&nbsp;</td>\n",
       "            <td class=\"value\">933</td>\n",
       "        </tr>\n",
       "    \n",
       "\n",
       "        <tr class=\"user-set\">\n",
       "            <td><i class=\"copy-paste-icon\"\n",
       "                 onclick=\"copyToClipboard('min_impurity_decrease',\n",
       "                          this.parentElement.nextElementSibling)\"\n",
       "            ></i></td>\n",
       "            <td class=\"param\">min_impurity_decrease&nbsp;</td>\n",
       "            <td class=\"value\">0.0008010072428880139</td>\n",
       "        </tr>\n",
       "    \n",
       "\n",
       "        <tr class=\"user-set\">\n",
       "            <td><i class=\"copy-paste-icon\"\n",
       "                 onclick=\"copyToClipboard('bootstrap',\n",
       "                          this.parentElement.nextElementSibling)\"\n",
       "            ></i></td>\n",
       "            <td class=\"param\">bootstrap&nbsp;</td>\n",
       "            <td class=\"value\">False</td>\n",
       "        </tr>\n",
       "    \n",
       "\n",
       "        <tr class=\"default\">\n",
       "            <td><i class=\"copy-paste-icon\"\n",
       "                 onclick=\"copyToClipboard('oob_score',\n",
       "                          this.parentElement.nextElementSibling)\"\n",
       "            ></i></td>\n",
       "            <td class=\"param\">oob_score&nbsp;</td>\n",
       "            <td class=\"value\">False</td>\n",
       "        </tr>\n",
       "    \n",
       "\n",
       "        <tr class=\"user-set\">\n",
       "            <td><i class=\"copy-paste-icon\"\n",
       "                 onclick=\"copyToClipboard('n_jobs',\n",
       "                          this.parentElement.nextElementSibling)\"\n",
       "            ></i></td>\n",
       "            <td class=\"param\">n_jobs&nbsp;</td>\n",
       "            <td class=\"value\">-1</td>\n",
       "        </tr>\n",
       "    \n",
       "\n",
       "        <tr class=\"user-set\">\n",
       "            <td><i class=\"copy-paste-icon\"\n",
       "                 onclick=\"copyToClipboard('random_state',\n",
       "                          this.parentElement.nextElementSibling)\"\n",
       "            ></i></td>\n",
       "            <td class=\"param\">random_state&nbsp;</td>\n",
       "            <td class=\"value\">42</td>\n",
       "        </tr>\n",
       "    \n",
       "\n",
       "        <tr class=\"default\">\n",
       "            <td><i class=\"copy-paste-icon\"\n",
       "                 onclick=\"copyToClipboard('verbose',\n",
       "                          this.parentElement.nextElementSibling)\"\n",
       "            ></i></td>\n",
       "            <td class=\"param\">verbose&nbsp;</td>\n",
       "            <td class=\"value\">0</td>\n",
       "        </tr>\n",
       "    \n",
       "\n",
       "        <tr class=\"default\">\n",
       "            <td><i class=\"copy-paste-icon\"\n",
       "                 onclick=\"copyToClipboard('warm_start',\n",
       "                          this.parentElement.nextElementSibling)\"\n",
       "            ></i></td>\n",
       "            <td class=\"param\">warm_start&nbsp;</td>\n",
       "            <td class=\"value\">False</td>\n",
       "        </tr>\n",
       "    \n",
       "\n",
       "        <tr class=\"default\">\n",
       "            <td><i class=\"copy-paste-icon\"\n",
       "                 onclick=\"copyToClipboard('ccp_alpha',\n",
       "                          this.parentElement.nextElementSibling)\"\n",
       "            ></i></td>\n",
       "            <td class=\"param\">ccp_alpha&nbsp;</td>\n",
       "            <td class=\"value\">0.0</td>\n",
       "        </tr>\n",
       "    \n",
       "\n",
       "        <tr class=\"default\">\n",
       "            <td><i class=\"copy-paste-icon\"\n",
       "                 onclick=\"copyToClipboard('max_samples',\n",
       "                          this.parentElement.nextElementSibling)\"\n",
       "            ></i></td>\n",
       "            <td class=\"param\">max_samples&nbsp;</td>\n",
       "            <td class=\"value\">None</td>\n",
       "        </tr>\n",
       "    \n",
       "\n",
       "        <tr class=\"default\">\n",
       "            <td><i class=\"copy-paste-icon\"\n",
       "                 onclick=\"copyToClipboard('monotonic_cst',\n",
       "                          this.parentElement.nextElementSibling)\"\n",
       "            ></i></td>\n",
       "            <td class=\"param\">monotonic_cst&nbsp;</td>\n",
       "            <td class=\"value\">None</td>\n",
       "        </tr>\n",
       "    \n",
       "                  </tbody>\n",
       "                </table>\n",
       "            </details>\n",
       "        </div>\n",
       "    </div></div></div></div></div><script>function copyToClipboard(text, element) {\n",
       "    // Get the parameter prefix from the closest toggleable content\n",
       "    const toggleableContent = element.closest('.sk-toggleable__content');\n",
       "    const paramPrefix = toggleableContent ? toggleableContent.dataset.paramPrefix : '';\n",
       "    const fullParamName = paramPrefix ? `${paramPrefix}${text}` : text;\n",
       "\n",
       "    const originalStyle = element.style;\n",
       "    const computedStyle = window.getComputedStyle(element);\n",
       "    const originalWidth = computedStyle.width;\n",
       "    const originalHTML = element.innerHTML.replace('Copied!', '');\n",
       "\n",
       "    navigator.clipboard.writeText(fullParamName)\n",
       "        .then(() => {\n",
       "            element.style.width = originalWidth;\n",
       "            element.style.color = 'green';\n",
       "            element.innerHTML = \"Copied!\";\n",
       "\n",
       "            setTimeout(() => {\n",
       "                element.innerHTML = originalHTML;\n",
       "                element.style = originalStyle;\n",
       "            }, 2000);\n",
       "        })\n",
       "        .catch(err => {\n",
       "            console.error('Failed to copy:', err);\n",
       "            element.style.color = 'red';\n",
       "            element.innerHTML = \"Failed!\";\n",
       "            setTimeout(() => {\n",
       "                element.innerHTML = originalHTML;\n",
       "                element.style = originalStyle;\n",
       "            }, 2000);\n",
       "        });\n",
       "    return false;\n",
       "}\n",
       "\n",
       "document.querySelectorAll('.fa-regular.fa-copy').forEach(function(element) {\n",
       "    const toggleableContent = element.closest('.sk-toggleable__content');\n",
       "    const paramPrefix = toggleableContent ? toggleableContent.dataset.paramPrefix : '';\n",
       "    const paramName = element.parentElement.nextElementSibling.textContent.trim();\n",
       "    const fullParamName = paramPrefix ? `${paramPrefix}${paramName}` : paramName;\n",
       "\n",
       "    element.setAttribute('title', fullParamName);\n",
       "});\n",
       "</script></body>"
      ],
      "text/plain": [
       "RandomForestRegressor(bootstrap=False, max_depth=32, max_features='sqrt',\n",
       "                      max_leaf_nodes=933,\n",
       "                      min_impurity_decrease=0.0008010072428880139,\n",
       "                      min_samples_leaf=2, min_samples_split=5, n_estimators=923,\n",
       "                      n_jobs=-1, random_state=42)"
      ]
     },
     "execution_count": 25,
     "metadata": {},
     "output_type": "execute_result"
    }
   ],
   "source": [
    "best_model.fit(X_train,y_train)"
   ]
  },
  {
   "cell_type": "code",
   "execution_count": 29,
   "id": "1c386e2f",
   "metadata": {},
   "outputs": [
    {
     "name": "stdout",
     "output_type": "stream",
     "text": [
      "Validation metrics: {'RMSE': np.float64(1.5969372850924521), 'R2': 0.9041117428296458, 'MAPE': np.float64(5.612991776463948)}\n",
      "Test metrics: {'RMSE': np.float64(1.4119494229735612), 'R2': 0.9078869701643867, 'MAPE': np.float64(4.5023913053845765)}\n",
      "RandomForest model saved to models/Tuning_RF_model.pkl\n"
     ]
    }
   ],
   "source": [
    "# 2. predict\n",
    "y_pred_val = best_model.predict(X_val) \n",
    "y_pred_test = best_model.predict(X_test)\n",
    "\n",
    "# 3. Evaluate on validation\n",
    "val_metrics = evaluate(y_val, y_pred_val)\n",
    "print(\"Validation metrics:\", val_metrics)\n",
    "\n",
    "# 4. Evaluate on test\n",
    "test_metrics = evaluate(y_test, y_pred_test)\n",
    "print(\"Test metrics:\", test_metrics)\n",
    "\n",
    "# 5. Save model \n",
    "model_path = r'models/Tuning_RF_model.pkl' \n",
    "joblib.dump(best_model, model_path)\n",
    "print(f\"RandomForest model saved to {model_path}\")\n"
   ]
  },
  {
   "cell_type": "code",
   "execution_count": null,
   "id": "2cba439b",
   "metadata": {},
   "outputs": [],
   "source": [
    "# Log model lên ClearML\n",
    "task.update_output_model(\"tune_1_RF_Model\", model_path)"
   ]
  },
  {
   "cell_type": "code",
   "execution_count": 27,
   "id": "f5cc2098",
   "metadata": {},
   "outputs": [],
   "source": [
    "# Validation metrics: {'RMSE': np.float64(1.5947420272865784), 'R2': 0.904375190572565, 'MAPE': np.float64(5.370479272607208)}\n",
    "# Test metrics: {'RMSE': np.float64(1.4048978311934608), 'R2': 0.9088047388756998, 'MAPE': np.float64(4.457994638536641)}\n",
    "# RandomForest model saved to models/RF_model.pkl"
   ]
  },
  {
   "cell_type": "markdown",
   "id": "d1e4330c",
   "metadata": {},
   "source": [
    "### Extra Tree"
   ]
  },
  {
   "cell_type": "code",
   "execution_count": 28,
   "id": "b9fd182b",
   "metadata": {},
   "outputs": [],
   "source": [
    "model2 = ExtraTreesClassifier(\n",
    "    n_estimators=100,    # số cây\n",
    "    max_features='sqrt', # số feature được xem khi split\n",
    "    random_state=42\n",
    ")"
   ]
  },
  {
   "cell_type": "markdown",
   "id": "cb0a9a8c",
   "metadata": {},
   "source": [
    "### Gradient Boosting (tại model này chưa học, tìm hiểu đã rồi rảnh thì làm random 1 trong 3 đứa :))))"
   ]
  }
 ],
 "metadata": {
  "kernelspec": {
   "display_name": "Python (group1venv)",
   "language": "python",
   "name": "group1venv"
  },
  "language_info": {
   "codemirror_mode": {
    "name": "ipython",
    "version": 3
   },
   "file_extension": ".py",
   "mimetype": "text/x-python",
   "name": "python",
   "nbconvert_exporter": "python",
   "pygments_lexer": "ipython3",
   "version": "3.12.4"
  }
 },
 "nbformat": 4,
 "nbformat_minor": 5
}
