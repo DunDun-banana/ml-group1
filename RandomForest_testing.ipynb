{
 "cells": [
  {
   "cell_type": "code",
   "execution_count": 6,
   "id": "b72ccedf",
   "metadata": {},
   "outputs": [],
   "source": [
    "from clearml import Task\n",
    "import numpy as np\n",
    "import random\n",
    "import os\n",
    "import optuna\n",
    "\n",
    "import joblib\n",
    "import pandas as pd\n",
    "import optuna.visualization as vis\n",
    "import matplotlib.pyplot as plt\n",
    "\n",
    "from pathlib import Path\n",
    "from clearml import Logger\n",
    "from sklearn.ensemble import RandomForestRegressor\n",
    "from sklearn.ensemble import ExtraTreesRegressor, GradientBoostingRegressor\n",
    "from sklearn.model_selection import TimeSeriesSplit\n",
    "\n",
    "from src import data_preprocessing as dp\n",
    "from src import pipeline as pl\n",
    "from src import feature_engineering as fe\n",
    "from src.model_evaluation import evaluate\n",
    "from sklearn.model_selection import cross_val_score, cross_val_predict, KFold\n",
    "\n",
    "SEED = 42 # vẫn phải chọn random của model đấy\n",
    "\n",
    "# Python, NumPy\n",
    "random.seed(SEED)\n",
    "np.random.seed(SEED) \n",
    "\n",
    "# Hash seed cho Python interpreter (ảnh hưởng tới dict order)\n",
    "os.environ['PYTHONHASHSEED'] = str(SEED)\n",
    "\n",
    "# Giới hạn luồng tính toán song song (để tránh floating-point nondeterminism)\n",
    "os.environ[\"OMP_NUM_THREADS\"] = \"1\"\n",
    "os.environ[\"MKL_NUM_THREADS\"] = \"1\"\n",
    "os.environ[\"NUMEXPR_NUM_THREADS\"] = \"1\"\n",
    "\n",
    "# tạo sampler của Optuna có seed cố định\n",
    "sampler = optuna.samplers.TPESampler(seed=SEED)\n"
   ]
  },
  {
   "cell_type": "code",
   "execution_count": 7,
   "id": "e8a9465b",
   "metadata": {},
   "outputs": [
    {
     "name": "stdout",
     "output_type": "stream",
     "text": [
      " Loaded data with shape: (3660, 33)\n",
      "Dropped column: 'description'\n",
      "Dropped column: 'icon'\n",
      "Dropped column: 'stations'\n",
      "Dropped column: 'name'\n",
      "(2562, 258)\n"
     ]
    }
   ],
   "source": [
    "# 1. Load raw Data\n",
    "df = dp.load_data(r\"data\\raw data\\Hanoi Daily 10 years.csv\")\n",
    "\n",
    "\n",
    "# 2. basic preprocessing for all data set\n",
    "df = dp.basic_preprocessing(df=df)\n",
    "\n",
    "# 3. chia train, val, test (tỉ lệ 70/15/15)\n",
    "target_col = 'temp'\n",
    "train_size = 0.7\n",
    "val_size = 0.15\n",
    "n = len(df)\n",
    "\n",
    "train_df = df.iloc[:int(train_size*n)]\n",
    "val_df = df.iloc[int(train_size*n):int((train_size+val_size)*n)]\n",
    "test_df = df.iloc[int((train_size+val_size)*n):]\n",
    "\n",
    "# 4. Fit và transform trên preprocessing pipeline\n",
    "pipeline1 = pl.build_preprocessing_pipeline()\n",
    "\n",
    "# fit trên train\n",
    "pipeline1.fit(train_df)\n",
    "\n",
    "# transform \n",
    "train_processed = pipeline1.transform(train_df)\n",
    "val_processed = pipeline1.transform(val_df)\n",
    "test_processed = pipeline1.transform(test_df)\n",
    "\n",
    "\n",
    "# Tạo feature engineering\n",
    "column_lag = ['temp','tempmax', 'tempmin', 'dew', 'humidity', 'precip',\n",
    "    'precipprob', 'precipcover', 'windgust', 'windspeed',\n",
    "    'sealevelpressure', 'cloudcover', 'visibility', 'solarradiation', \n",
    "    'pressure_temp_index', 'wind_temp_index', 'temp_range', 'dew_spread']\n",
    "\n",
    "train_feat = fe.feature_engineering(train_processed, column= column_lag)\n",
    "val_feat = fe.feature_engineering(val_processed, column= column_lag)\n",
    "test_feat = fe.feature_engineering(test_processed, column= column_lag)\n",
    "print(train_feat.shape)"
   ]
  },
  {
   "cell_type": "code",
   "execution_count": 8,
   "id": "6efadf4d",
   "metadata": {},
   "outputs": [
    {
     "name": "stdout",
     "output_type": "stream",
     "text": [
      "Train: ((2562, 257), (2562,)), Val: ((549, 257), (549,)), Test: ((549, 257), (549,))\n"
     ]
    }
   ],
   "source": [
    "# Chia X, y riêng biệt\n",
    "X_train, y_train = train_feat.drop(columns=[target_col]), train_df[target_col]\n",
    "X_val, y_val = val_feat.drop(columns=[target_col]), val_df[target_col]\n",
    "X_test, y_test = test_feat.drop(columns=[target_col]), test_df[target_col]\n",
    "\n",
    "print(f\"Train: {X_train.shape, y_train.shape}, Val: {X_val.shape, y_val.shape}, Test: {X_test.shape, y_test.shape}\")"
   ]
  },
  {
   "cell_type": "code",
   "execution_count": 9,
   "id": "d967ba34",
   "metadata": {},
   "outputs": [],
   "source": [
    "# không để drop highly correlated ở preprocessing nữa, chuyển sang ở feature selection\n",
    "from src import feature_selection as fs\n",
    "dropHighCorr = fs.DropHighlyCorrelated()\n",
    "dropHighCorr.fit(X_train)\n",
    "X_train = dropHighCorr.transform(X_train)\n",
    "X_val = dropHighCorr.transform(X_val)\n",
    "X_test = dropHighCorr.transform(X_test)\n"
   ]
  },
  {
   "cell_type": "code",
   "execution_count": 10,
   "id": "c2ab4bfa",
   "metadata": {},
   "outputs": [],
   "source": [
    "fs_pipeline_RF = pl.build_RF_featture_engineering_pipeline()"
   ]
  },
  {
   "cell_type": "code",
   "execution_count": 11,
   "id": "507fdee3",
   "metadata": {},
   "outputs": [],
   "source": [
    "# RF importance\n",
    "# fit trên train\n",
    "X_train = fs_pipeline_RF.fit_transform(X_train, y_train)\n",
    "\n",
    "# transform \n",
    "X_train = fs_pipeline_RF.transform(X_train)\n",
    "X_val = fs_pipeline_RF.transform(X_val)\n",
    "X_test = fs_pipeline_RF.transform(X_test)"
   ]
  },
  {
   "cell_type": "code",
   "execution_count": 12,
   "id": "386f9b14",
   "metadata": {},
   "outputs": [
    {
     "data": {
      "text/plain": [
       "Index(['feelslike_lag_1', 'solar_temp_index_lag_1', 'windspeed_lag_1',\n",
       "       'humidity_lag_1', 'sunrise_lag_1', 'windgust_lag_1',\n",
       "       'pressure_temp_index_roll_mean_14', 'winddir_lag_1', 'dew_spread_lag_1',\n",
       "       'wind_variability_lag_1', 'sealevelpressure_roll_mean_14',\n",
       "       'day_length_lag_1', 'wind_temp_index_lag_1', 'temp_range_lag_1',\n",
       "       'tempmax_lag_4', 'precip_lag_1', 'visibility_lag_1',\n",
       "       'sealevelpressure_roll_std_7', 'solarradiation_roll_std_14',\n",
       "       'sealevelpressure_lag_7', 'pressure_temp_index_lag_7',\n",
       "       'solarradiation_lag_2', 'windgust_roll_mean_3', 'visibility_lag_3',\n",
       "       'temp_roll_std_7', 'pressure_temp_index_roll_std_14',\n",
       "       'pressure_temp_index_lag_6', 'windgust_roll_std_3',\n",
       "       'visibility_roll_std_3', 'pressure_temp_index_roll_std_3'],\n",
       "      dtype='object')"
      ]
     },
     "execution_count": 12,
     "metadata": {},
     "output_type": "execute_result"
    }
   ],
   "source": [
    "X_train.columns"
   ]
  },
  {
   "cell_type": "code",
   "execution_count": null,
   "id": "b81d4ed4",
   "metadata": {},
   "outputs": [],
   "source": [
    "# chưa có feature selection\n",
    "# 1. RF\n",
    "## Default\n",
    "# a. Validation metrics: {'RMSE': 2.1278075895022885, 'R2': 0.8297628223226209, 'MAPE': 7.013125189028322}\n",
    "# b. Test metrics: {'RMSE': 1.7168173002419687, 'R2': 0.8638144750921892, 'MAPE': 5.359437239042012}\n",
    "\n",
    "## Best parameter\n",
    "# Validation metrics: {'RMSE': 1.6388776242029133, 'R2': 0.8990089808287993, 'MAPE': 5.741406234570231}\n",
    "# Test metrics: {'RMSE': 1.4337918013739446, 'R2': 0.9050150119360206, 'MAPE': 4.584963631819218}\n",
    "\n",
    "\n",
    "# 2. Extra Tree\n",
    "## Default\n",
    "# Validation metrics: {'RMSE': 1.5501069852687441, 'R2': 0.9096531427481926, 'MAPE': 5.289823867518864}\n",
    "# Test metrics: {'RMSE': 1.4094799560393934, 'R2': 0.9082088955219491, 'MAPE': 4.494487229026149}\n",
    "\n",
    "## Best parameter\n",
    "# Validation metrics: {'RMSE': 1.4981094962144423, 'R2': 0.9156127533286983, 'MAPE': 5.13799909932879}\n",
    "# Test metrics: {'RMSE': 1.3558239003827515, 'R2': 0.9150644784751033, 'MAPE': 4.317549688535942}\n",
    "\n",
    "# 3. GB\n",
    "## Default\n",
    "# Validation metrics: {'RMSE': 1.479398688181336, 'R2': 0.9177075178532362, 'MAPE': 5.0692414857715775}\n",
    "# Test metrics: {'RMSE': 1.3534994389764416, 'R2': 0.9153554603683042, 'MAPE': 4.1845167790637126}\n",
    "\n",
    "## Best parameter\n",
    "# Validation metrics: {'RMSE': 1.5011458815829, 'R2': 0.9152703326059204, 'MAPE': 5.158944802837902}\n",
    "# Test metrics: {'RMSE': 1.3430800523462543, 'R2': 0.9166536500947113, 'MAPE': 4.216884591360309}\n",
    "Task.current_task().close()"
   ]
  },
  {
   "cell_type": "markdown",
   "id": "99aa7da8",
   "metadata": {},
   "source": [
    "### Random Forest"
   ]
  },
  {
   "cell_type": "code",
   "execution_count": null,
   "id": "b1b2454a",
   "metadata": {},
   "outputs": [
    {
     "name": "stdout",
     "output_type": "stream",
     "text": [
      "ClearML Task: created new task id=ce115461cca2450fb4aa5ce1434fdb56\n",
      "ClearML results page: https://app.clear.ml/projects/01d8ce929f0243de9a9d3adf48970730/experiments/ce115461cca2450fb4aa5ce1434fdb56/output/log\n",
      "Task ID: ce115461cca2450fb4aa5ce1434fdb56\n"
     ]
    },
    {
     "name": "stdout",
     "output_type": "stream",
     "text": [
      "ClearML Monitor: GPU monitoring failed getting GPU reading, switching off GPU monitoring\n",
      "2025-10-21 18:20:12,867 - clearml.storage - INFO - Uploading: 23.45MB from c:/Users/Admin/Documents/ML/group1/models/Tuning_RF_model.pkl\n"
     ]
    },
    {
     "name": "stderr",
     "output_type": "stream",
     "text": [
      "███████████████████████████████ 100% | 23.45/23.45 MB [01:55<00:00,  4.92s/MB]: \n",
      "███████████████████████████████ 100% | 23.45/23.45 MB [01:56<00:00,  4.97s/MB]: \n"
     ]
    }
   ],
   "source": [
    "# ! pip install plotly\n",
    "# === 1️ Khởi tạo Task (1 study = 1 Task) ===\n",
    "# Khởi tạo task mới cho mỗi lần experiemt/ study bằng Task.create ...\n",
    "# Hoặc nếu muốn tiếp tục với task cũ thì pass task id vào Task.get_task ...\n",
    "\n",
    "# mấy đứa tự tạo task mới cũng được, không thì cop id trong clearml\n",
    "# Nhớ đổi tên instance đi nhá, vd như task_1, logger_1\n",
    "# Tạo task mới trong project Temperature Forecasting\n",
    "task = Task.init(\n",
    "    project_name=\"Temperature Forecasting\",     # tên project (nếu chưa có sẽ tự tạo)\n",
    "    task_name=\"RF Optuna Tuning\", # tên task mới\n",
    "    task_type=Task.TaskTypes.optimizer            # loại task (training / testing / optimizer ...)\n",
    ")\n",
    "\n",
    "# print(\"✅ Task created successfully!\")\n",
    "print(\"Task ID:\", task.id)\n"
   ]
  },
  {
   "cell_type": "code",
   "execution_count": 16,
   "id": "386ad108",
   "metadata": {},
   "outputs": [],
   "source": [
    "task = Task.get_task(task_id=\"ce115461cca2450fb4aa5ce1434fdb56\")\n",
    "logger = task.get_logger()"
   ]
  },
  {
   "cell_type": "code",
   "execution_count": 17,
   "id": "22dfd01f",
   "metadata": {},
   "outputs": [],
   "source": [
    "## A. default hyper parameter\n",
    "# 1. fit \n",
    "model1 = RandomForestRegressor(n_estimators = 100, min_samples_split=2, min_samples_leaf=1,min_impurity_decrease=0, \n",
    "                               max_depth= 7, max_features= None, bootstrap= False, oob_score= False, \n",
    "                               max_leaf_nodes= None, max_samples= None, random_state= 42, n_jobs= -1\n",
    "                               )\n",
    "model1.fit(X_train, y_train) \n",
    "\n",
    "# 2. predict\n",
    "y_pred_val = model1.predict(X_val) \n",
    "y_pred_test = model1.predict(X_test)"
   ]
  },
  {
   "cell_type": "code",
   "execution_count": 18,
   "id": "8a70dd81",
   "metadata": {},
   "outputs": [],
   "source": [
    "# Lấy feature importance\n",
    "importances = model1.feature_importances_\n",
    "\n",
    "# Tạo DataFrame hiển thị\n",
    "feat_importance = pd.DataFrame({\n",
    "    'Feature': X_train.columns,\n",
    "    'Importance': importances\n",
    "}).sort_values(by='Importance', ascending=False)\n",
    "\n",
    "#print(feat_importance)"
   ]
  },
  {
   "cell_type": "code",
   "execution_count": 19,
   "id": "29b87314",
   "metadata": {},
   "outputs": [
    {
     "data": {
      "text/plain": [
       "Text(0.5, 0, 'Importance')"
      ]
     },
     "execution_count": 19,
     "metadata": {},
     "output_type": "execute_result"
    },
    {
     "data": {
      "image/png": "[encoded data removed]",
      "text/plain": [
       "<Figure size 1000x600 with 1 Axes>"
      ]
     },
     "metadata": {},
     "output_type": "display_data"
    }
   ],
   "source": [
    "plt.figure(figsize=(10, 6))\n",
    "plt.barh(feat_importance['Feature'][:15], feat_importance['Importance'][:15])\n",
    "plt.gca().invert_yaxis()\n",
    "plt.title(\"Top 15 Feature Importances (Random Forest)\")\n",
    "plt.xlabel(\"Importance\")\n",
    "#plt.show()\n"
   ]
  },
  {
   "cell_type": "code",
   "execution_count": 20,
   "id": "cf8c68be",
   "metadata": {},
   "outputs": [
    {
     "name": "stdout",
     "output_type": "stream",
     "text": [
      "Validation metrics: {'RMSE': 1.7668779833722073, 'R2': 0.8826176441037896, 'MAPE': 6.0101795956807775}\n",
      "Test metrics: {'RMSE': 1.6188276477495223, 'R2': 0.8789167656636432, 'MAPE': 5.108976073760763}\n",
      "RandomForest model saved to models/RF_model.pkl\n"
     ]
    },
    {
     "data": {
      "text/plain": [
       "True"
      ]
     },
     "execution_count": 20,
     "metadata": {},
     "output_type": "execute_result"
    }
   ],
   "source": [
    "# Đánh giá sơ bộ trước khi tune\n",
    "\n",
    "# 3. Evaluate on validation\n",
    "default_val_metrics = evaluate(y_val, y_pred_val)\n",
    "print(\"Validation metrics:\", default_val_metrics)\n",
    "\n",
    "# 4. Evaluate on test\n",
    "default_test_metrics = evaluate(y_test, y_pred_test)\n",
    "print(\"Test metrics:\", default_test_metrics)\n",
    "\n",
    "# 5. Save model \n",
    "model_path = r'models/RF_model.pkl' \n",
    "joblib.dump(model1, model_path)\n",
    "print(f\"RandomForest model saved to {model_path}\")\n",
    "\n",
    "# 6 Log lên ClearML\n",
    "logger.report_scalar(\"Default Metrics\", \"RMSE_val\", default_val_metrics[\"RMSE\"], iteration=0)\n",
    "logger.report_scalar(\"Default Metrics\", \"R2_val\", default_val_metrics[\"R2\"], iteration=0)\n",
    "logger.report_scalar(\"Default Metrics\", \"MAPE_val\", default_val_metrics[\"MAPE\"], iteration=0)\n",
    "logger.report_scalar(\"Default Metrics\", \"RMSE_test\", default_test_metrics[\"RMSE\"], iteration=0)\n",
    "logger.report_scalar(\"Default Metrics\", \"R2_test\", default_test_metrics[\"R2\"], iteration=0)\n",
    "logger.report_scalar(\"Default Metrics\", \"MAPE_test\", default_test_metrics[\"MAPE\"], iteration=0)\n",
    "\n",
    "\n",
    "task.upload_artifact(\"Default Metrics\", {\n",
    "    \"Validation\": default_val_metrics,\n",
    "    \"Test\": default_test_metrics\n",
    "})\n"
   ]
  },
  {
   "cell_type": "code",
   "execution_count": 21,
   "id": "5a6482b0",
   "metadata": {},
   "outputs": [],
   "source": [
    "## B hyper parameter tuning\n",
    "# === 1 Định nghĩa objective của optuna ===\n",
    "def objective(trial):\n",
    "    # Hyperparameter space\n",
    "    params = {\n",
    "    'n_estimators' : trial.suggest_int('n_estimators', 400, 1000),\n",
    "    'max_depth' : trial.suggest_int('max_depth', 15, 35),\n",
    "    'min_samples_split' : trial.suggest_int('min_samples_split', 5, 20),\n",
    "    'min_samples_leaf' : trial.suggest_int('min_samples_leaf', 3, 8),\n",
    "    'min_impurity_decrease' : trial.suggest_float('min_impurity_decrease', 0.001, 0.5),\n",
    "    'max_features' : trial.suggest_categorical('max_features', ['sqrt']),\n",
    "    'bootstrap' : False,\n",
    "    'max_leaf_nodes' : trial.suggest_int('max_leaf_nodes', 400, 700),\n",
    "    'random_state' : 42, \n",
    "    'n_jobs' : -1 \n",
    "    }\n",
    "\n",
    "    # Time series CV\n",
    "    cv = TimeSeriesSplit(n_splits=5)\n",
    "    rmse_scores = []\n",
    "\n",
    "    for train_idx, val_idx in cv.split(X_train):\n",
    "        X_tr, X_val = X_train.iloc[train_idx], X_train.iloc[val_idx]\n",
    "        y_tr, y_val = y_train.iloc[train_idx], y_train.iloc[val_idx]\n",
    "\n",
    "        \n",
    "        # Model\n",
    "        model = RandomForestRegressor(**params)\n",
    "        model.fit(X_tr, y_tr)\n",
    "        y_pred_val = model.predict(X_val)\n",
    "\n",
    "        metrics = evaluate(y_val, y_pred_val)\n",
    "        rmse_scores.append(metrics['RMSE'])\n",
    "    \n",
    "    mean_rmse = np.mean(rmse_scores)\n",
    "\n",
    "    # === 2 Log thông tin của trial lên ClearML ===\n",
    "    # (a) Log RMSE cho mỗi trial\n",
    "    logger.report_scalar(title = 'Optuna Tuning', series = 'Trial RMSE', value = mean_rmse, iteration = trial.number)\n",
    "\n",
    "    # (b) Log toàn bộ tham số của trial (bảng tóm tắt)\n",
    "    params_table = pd.DataFrame([params])\n",
    "    logger.report_table(title=f\"Trial {trial.number} Parameters\", series=\"params\", iteration=trial.number, table_plot=params_table)\n",
    "\n",
    "    # Trả về RMSE trung bình của các cv để Optuna minimize\n",
    "    return mean_rmse\n"
   ]
  },
  {
   "cell_type": "code",
   "execution_count": 22,
   "id": "0eceb38e",
   "metadata": {},
   "outputs": [
    {
     "name": "stderr",
     "output_type": "stream",
     "text": [
      "[I 2025-10-21 18:10:10,654] A new study created in memory with name: no-name-48ade2c4-8ba7-409e-9ab0-b0952393820b\n",
      "[I 2025-10-21 18:10:20,116] Trial 0 finished with value: 1.7411685469992204 and parameters: {'n_estimators': 625, 'max_depth': 34, 'min_samples_split': 16, 'min_samples_leaf': 6, 'min_impurity_decrease': 0.07885330158077582, 'max_features': 'sqrt', 'max_leaf_nodes': 446}. Best is trial 0 with value: 1.7411685469992204.\n",
      "[I 2025-10-21 18:10:26,637] Trial 1 finished with value: 1.5948624620647043 and parameters: {'n_estimators': 434, 'max_depth': 33, 'min_samples_split': 14, 'min_samples_leaf': 7, 'min_impurity_decrease': 0.011271662653605422, 'max_features': 'sqrt', 'max_leaf_nodes': 691}. Best is trial 1 with value: 1.5948624620647043.\n",
      "[I 2025-10-21 18:10:38,568] Trial 2 finished with value: 1.8444698233316736 and parameters: {'n_estimators': 900, 'max_depth': 19, 'min_samples_split': 7, 'min_samples_leaf': 4, 'min_impurity_decrease': 0.1528168792368093, 'max_features': 'sqrt', 'max_leaf_nodes': 557}. Best is trial 1 with value: 1.5948624620647043.\n",
      "[I 2025-10-21 18:10:47,573] Trial 3 finished with value: 1.8333832326633268 and parameters: {'n_estimators': 659, 'max_depth': 21, 'min_samples_split': 14, 'min_samples_leaf': 3, 'min_impurity_decrease': 0.14678017961907386, 'max_features': 'sqrt', 'max_leaf_nodes': 510}. Best is trial 1 with value: 1.5948624620647043.\n",
      "[I 2025-10-21 18:10:57,124] Trial 4 finished with value: 1.965693049156672 and parameters: {'n_estimators': 674, 'max_depth': 31, 'min_samples_split': 8, 'min_samples_leaf': 6, 'min_impurity_decrease': 0.2966148698621592, 'max_features': 'sqrt', 'max_leaf_nodes': 413}. Best is trial 1 with value: 1.5948624620647043.\n",
      "[I 2025-10-21 18:11:06,097] Trial 5 finished with value: 2.0934917156658557 and parameters: {'n_estimators': 765, 'max_depth': 18, 'min_samples_split': 6, 'min_samples_leaf': 8, 'min_impurity_decrease': 0.48285038450420514, 'max_features': 'sqrt', 'max_leaf_nodes': 643}. Best is trial 1 with value: 1.5948624620647043.\n",
      "[I 2025-10-21 18:11:13,724] Trial 6 finished with value: 1.7105693838748208 and parameters: {'n_estimators': 583, 'max_depth': 17, 'min_samples_split': 15, 'min_samples_leaf': 5, 'min_impurity_decrease': 0.06189707918754463, 'max_features': 'sqrt', 'max_leaf_nodes': 549}. Best is trial 1 with value: 1.5948624620647043.\n",
      "[I 2025-10-21 18:11:19,277] Trial 7 finished with value: 1.8451095097479802 and parameters: {'n_estimators': 420, 'max_depth': 34, 'min_samples_split': 9, 'min_samples_leaf': 6, 'min_impurity_decrease': 0.15654382696861607, 'max_features': 'sqrt', 'max_leaf_nodes': 556}. Best is trial 1 with value: 1.5948624620647043.\n",
      "[I 2025-10-21 18:11:27,262] Trial 8 finished with value: 2.0821863862378356 and parameters: {'n_estimators': 728, 'max_depth': 18, 'min_samples_split': 20, 'min_samples_leaf': 7, 'min_impurity_decrease': 0.46980997184053036, 'max_features': 'sqrt', 'max_leaf_nodes': 669}. Best is trial 1 with value: 1.5948624620647043.\n",
      "[I 2025-10-21 18:11:38,312] Trial 9 finished with value: 1.6185192584528352 and parameters: {'n_estimators': 759, 'max_depth': 34, 'min_samples_split': 6, 'min_samples_leaf': 4, 'min_impurity_decrease': 0.023568417166358494, 'max_features': 'sqrt', 'max_leaf_nodes': 497}. Best is trial 1 with value: 1.5948624620647043.\n",
      "[I 2025-10-21 18:11:43,508] Trial 10 finished with value: 1.9817639929768316 and parameters: {'n_estimators': 412, 'max_depth': 27, 'min_samples_split': 11, 'min_samples_leaf': 8, 'min_impurity_decrease': 0.3204041627313105, 'max_features': 'sqrt', 'max_leaf_nodes': 620}. Best is trial 1 with value: 1.5948624620647043.\n",
      "[I 2025-10-21 18:11:58,604] Trial 11 finished with value: 1.575909197875436 and parameters: {'n_estimators': 897, 'max_depth': 29, 'min_samples_split': 11, 'min_samples_leaf': 4, 'min_impurity_decrease': 0.008851822693701772, 'max_features': 'sqrt', 'max_leaf_nodes': 480}. Best is trial 11 with value: 1.575909197875436.\n",
      "[I 2025-10-21 18:12:14,792] Trial 12 finished with value: 1.5658038108812862 and parameters: {'n_estimators': 970, 'max_depth': 28, 'min_samples_split': 12, 'min_samples_leaf': 3, 'min_impurity_decrease': 0.0063957805072579746, 'max_features': 'sqrt', 'max_leaf_nodes': 465}. Best is trial 12 with value: 1.5658038108812862.\n",
      "[I 2025-10-21 18:12:28,107] Trial 13 finished with value: 1.9075798379804696 and parameters: {'n_estimators': 978, 'max_depth': 27, 'min_samples_split': 11, 'min_samples_leaf': 3, 'min_impurity_decrease': 0.2179881859884533, 'max_features': 'sqrt', 'max_leaf_nodes': 454}. Best is trial 12 with value: 1.5658038108812862.\n",
      "[I 2025-10-21 18:12:41,445] Trial 14 finished with value: 1.7652205874784794 and parameters: {'n_estimators': 866, 'max_depth': 24, 'min_samples_split': 11, 'min_samples_leaf': 4, 'min_impurity_decrease': 0.09457878308525028, 'max_features': 'sqrt', 'max_leaf_nodes': 481}. Best is trial 12 with value: 1.5658038108812862.\n",
      "[I 2025-10-21 18:12:55,244] Trial 15 finished with value: 2.0414167183062673 and parameters: {'n_estimators': 1000, 'max_depth': 30, 'min_samples_split': 18, 'min_samples_leaf': 3, 'min_impurity_decrease': 0.39919943967042937, 'max_features': 'sqrt', 'max_leaf_nodes': 412}. Best is trial 12 with value: 1.5658038108812862.\n",
      "[I 2025-10-21 18:13:06,654] Trial 16 finished with value: 1.9237388679793717 and parameters: {'n_estimators': 858, 'max_depth': 25, 'min_samples_split': 12, 'min_samples_leaf': 5, 'min_impurity_decrease': 0.2330274048388413, 'max_features': 'sqrt', 'max_leaf_nodes': 534}. Best is trial 12 with value: 1.5658038108812862.\n",
      "[I 2025-10-21 18:13:21,314] Trial 17 finished with value: 1.5808341516037643 and parameters: {'n_estimators': 927, 'max_depth': 29, 'min_samples_split': 9, 'min_samples_leaf': 4, 'min_impurity_decrease': 0.011331774777394, 'max_features': 'sqrt', 'max_leaf_nodes': 458}. Best is trial 12 with value: 1.5658038108812862.\n",
      "[I 2025-10-21 18:13:32,489] Trial 18 finished with value: 1.8157941098137453 and parameters: {'n_estimators': 798, 'max_depth': 22, 'min_samples_split': 13, 'min_samples_leaf': 3, 'min_impurity_decrease': 0.13093527753025283, 'max_features': 'sqrt', 'max_leaf_nodes': 593}. Best is trial 12 with value: 1.5658038108812862.\n",
      "[I 2025-10-21 18:13:42,294] Trial 19 finished with value: 1.7142858541801231 and parameters: {'n_estimators': 824, 'max_depth': 15, 'min_samples_split': 17, 'min_samples_leaf': 5, 'min_impurity_decrease': 0.06038411897944618, 'max_features': 'sqrt', 'max_leaf_nodes': 509}. Best is trial 12 with value: 1.5658038108812862.\n",
      "[I 2025-10-21 18:13:52,492] Trial 20 finished with value: 1.9687882401771706 and parameters: {'n_estimators': 938, 'max_depth': 28, 'min_samples_split': 10, 'min_samples_leaf': 4, 'min_impurity_decrease': 0.2933981445589344, 'max_features': 'sqrt', 'max_leaf_nodes': 476}. Best is trial 12 with value: 1.5658038108812862.\n",
      "[I 2025-10-21 18:14:05,574] Trial 21 finished with value: 1.5878171265243206 and parameters: {'n_estimators': 941, 'max_depth': 30, 'min_samples_split': 9, 'min_samples_leaf': 4, 'min_impurity_decrease': 0.01362682122009942, 'max_features': 'sqrt', 'max_leaf_nodes': 445}. Best is trial 12 with value: 1.5658038108812862.\n",
      "[I 2025-10-21 18:14:20,234] Trial 22 finished with value: 1.5539649247595906 and parameters: {'n_estimators': 910, 'max_depth': 28, 'min_samples_split': 9, 'min_samples_leaf': 3, 'min_impurity_decrease': 0.003501511120214604, 'max_features': 'sqrt', 'max_leaf_nodes': 467}. Best is trial 22 with value: 1.5539649247595906.\n",
      "[I 2025-10-21 18:14:30,489] Trial 23 finished with value: 1.7628229234664539 and parameters: {'n_estimators': 872, 'max_depth': 25, 'min_samples_split': 13, 'min_samples_leaf': 3, 'min_impurity_decrease': 0.09403804201915195, 'max_features': 'sqrt', 'max_leaf_nodes': 418}. Best is trial 22 with value: 1.5539649247595906.\n",
      "[I 2025-10-21 18:14:42,607] Trial 24 finished with value: 1.6759236225847107 and parameters: {'n_estimators': 972, 'max_depth': 31, 'min_samples_split': 5, 'min_samples_leaf': 3, 'min_impurity_decrease': 0.04631227225210787, 'max_features': 'sqrt', 'max_leaf_nodes': 478}. Best is trial 22 with value: 1.5539649247595906.\n",
      "[I 2025-10-21 18:14:51,014] Trial 25 finished with value: 1.8774718312890648 and parameters: {'n_estimators': 831, 'max_depth': 27, 'min_samples_split': 12, 'min_samples_leaf': 3, 'min_impurity_decrease': 0.1852467940336832, 'max_features': 'sqrt', 'max_leaf_nodes': 523}. Best is trial 22 with value: 1.5539649247595906.\n",
      "[I 2025-10-21 18:15:05,791] Trial 26 finished with value: 1.7963742569228196 and parameters: {'n_estimators': 911, 'max_depth': 23, 'min_samples_split': 10, 'min_samples_leaf': 4, 'min_impurity_decrease': 0.11693900925625679, 'max_features': 'sqrt', 'max_leaf_nodes': 579}. Best is trial 22 with value: 1.5539649247595906.\n",
      "[I 2025-10-21 18:15:14,100] Trial 27 finished with value: 1.679365457492842 and parameters: {'n_estimators': 553, 'max_depth': 32, 'min_samples_split': 8, 'min_samples_leaf': 5, 'min_impurity_decrease': 0.046874052738652854, 'max_features': 'sqrt', 'max_leaf_nodes': 436}. Best is trial 22 with value: 1.5539649247595906.\n",
      "[I 2025-10-21 18:15:25,654] Trial 28 finished with value: 1.7765566689395107 and parameters: {'n_estimators': 956, 'max_depth': 28, 'min_samples_split': 10, 'min_samples_leaf': 3, 'min_impurity_decrease': 0.10448165270051003, 'max_features': 'sqrt', 'max_leaf_nodes': 492}. Best is trial 22 with value: 1.5539649247595906.\n",
      "[I 2025-10-21 18:15:36,924] Trial 29 finished with value: 1.7385274062107299 and parameters: {'n_estimators': 791, 'max_depth': 26, 'min_samples_split': 8, 'min_samples_leaf': 4, 'min_impurity_decrease': 0.07707918688083214, 'max_features': 'sqrt', 'max_leaf_nodes': 437}. Best is trial 22 with value: 1.5539649247595906.\n",
      "[I 2025-10-21 18:15:54,273] Trial 30 finished with value: 1.5666829780303448 and parameters: {'n_estimators': 1000, 'max_depth': 30, 'min_samples_split': 16, 'min_samples_leaf': 3, 'min_impurity_decrease': 0.0032161166876876015, 'max_features': 'sqrt', 'max_leaf_nodes': 467}. Best is trial 22 with value: 1.5539649247595906.\n",
      "[I 2025-10-21 18:16:08,803] Trial 31 finished with value: 1.6519098140325514 and parameters: {'n_estimators': 990, 'max_depth': 29, 'min_samples_split': 16, 'min_samples_leaf': 3, 'min_impurity_decrease': 0.03394676674501902, 'max_features': 'sqrt', 'max_leaf_nodes': 467}. Best is trial 22 with value: 1.5539649247595906.\n",
      "[I 2025-10-21 18:16:24,450] Trial 32 finished with value: 1.563139515330696 and parameters: {'n_estimators': 893, 'max_depth': 32, 'min_samples_split': 14, 'min_samples_leaf': 3, 'min_impurity_decrease': 0.0016261905046777187, 'max_features': 'sqrt', 'max_leaf_nodes': 427}. Best is trial 22 with value: 1.5539649247595906.\n",
      "[I 2025-10-21 18:16:38,390] Trial 33 finished with value: 1.7250228252962505 and parameters: {'n_estimators': 891, 'max_depth': 32, 'min_samples_split': 15, 'min_samples_leaf': 3, 'min_impurity_decrease': 0.06929274985732081, 'max_features': 'sqrt', 'max_leaf_nodes': 401}. Best is trial 22 with value: 1.5539649247595906.\n",
      "[I 2025-10-21 18:16:51,472] Trial 34 finished with value: 1.656437862666016 and parameters: {'n_estimators': 952, 'max_depth': 33, 'min_samples_split': 14, 'min_samples_leaf': 3, 'min_impurity_decrease': 0.036480943281412145, 'max_features': 'sqrt', 'max_leaf_nodes': 433}. Best is trial 22 with value: 1.5539649247595906.\n",
      "[I 2025-10-21 18:16:59,844] Trial 35 finished with value: 1.5672763792437983 and parameters: {'n_estimators': 476, 'max_depth': 35, 'min_samples_split': 18, 'min_samples_leaf': 3, 'min_impurity_decrease': 0.0034536208105111887, 'max_features': 'sqrt', 'max_leaf_nodes': 428}. Best is trial 22 with value: 1.5539649247595906.\n",
      "[I 2025-10-21 18:17:15,527] Trial 36 finished with value: 1.5690488503853988 and parameters: {'n_estimators': 837, 'max_depth': 31, 'min_samples_split': 15, 'min_samples_leaf': 4, 'min_impurity_decrease': 0.0015711286226615662, 'max_features': 'sqrt', 'max_leaf_nodes': 459}. Best is trial 22 with value: 1.5539649247595906.\n",
      "[I 2025-10-21 18:17:29,132] Trial 37 finished with value: 1.7359884723689016 and parameters: {'n_estimators': 922, 'max_depth': 32, 'min_samples_split': 14, 'min_samples_leaf': 3, 'min_impurity_decrease': 0.07688821485204528, 'max_features': 'sqrt', 'max_leaf_nodes': 513}. Best is trial 22 with value: 1.5539649247595906.\n",
      "[I 2025-10-21 18:17:42,844] Trial 38 finished with value: 1.8766277125813136 and parameters: {'n_estimators': 999, 'max_depth': 30, 'min_samples_split': 17, 'min_samples_leaf': 5, 'min_impurity_decrease': 0.18129676748950746, 'max_features': 'sqrt', 'max_leaf_nodes': 502}. Best is trial 22 with value: 1.5539649247595906.\n",
      "[I 2025-10-21 18:17:56,003] Trial 39 finished with value: 1.6841163233567413 and parameters: {'n_estimators': 890, 'max_depth': 26, 'min_samples_split': 16, 'min_samples_leaf': 7, 'min_impurity_decrease': 0.043925280947401966, 'max_features': 'sqrt', 'max_leaf_nodes': 401}. Best is trial 22 with value: 1.5539649247595906.\n",
      "[I 2025-10-21 18:18:05,553] Trial 40 finished with value: 2.0005448873855665 and parameters: {'n_estimators': 731, 'max_depth': 33, 'min_samples_split': 13, 'min_samples_leaf': 3, 'min_impurity_decrease': 0.34456233850269835, 'max_features': 'sqrt', 'max_leaf_nodes': 527}. Best is trial 22 with value: 1.5539649247595906.\n",
      "[I 2025-10-21 18:18:14,737] Trial 41 finished with value: 1.6538465106431441 and parameters: {'n_estimators': 601, 'max_depth': 34, 'min_samples_split': 19, 'min_samples_leaf': 3, 'min_impurity_decrease': 0.03403357781160215, 'max_features': 'sqrt', 'max_leaf_nodes': 420}. Best is trial 22 with value: 1.5539649247595906.\n",
      "[I 2025-10-21 18:18:24,363] Trial 42 finished with value: 1.5667339070565405 and parameters: {'n_estimators': 508, 'max_depth': 35, 'min_samples_split': 18, 'min_samples_leaf': 3, 'min_impurity_decrease': 0.0010829761128161395, 'max_features': 'sqrt', 'max_leaf_nodes': 429}. Best is trial 22 with value: 1.5539649247595906.\n",
      "[I 2025-10-21 18:18:31,864] Trial 43 finished with value: 1.5677394026971925 and parameters: {'n_estimators': 473, 'max_depth': 35, 'min_samples_split': 16, 'min_samples_leaf': 4, 'min_impurity_decrease': 0.0018586494484055308, 'max_features': 'sqrt', 'max_leaf_nodes': 444}. Best is trial 22 with value: 1.5539649247595906.\n",
      "[I 2025-10-21 18:18:40,492] Trial 44 finished with value: 1.690394499732894 and parameters: {'n_estimators': 640, 'max_depth': 31, 'min_samples_split': 20, 'min_samples_leaf': 3, 'min_impurity_decrease': 0.050280529542798165, 'max_features': 'sqrt', 'max_leaf_nodes': 466}. Best is trial 22 with value: 1.5539649247595906.\n",
      "[I 2025-10-21 18:18:50,114] Trial 45 finished with value: 1.6385552824994913 and parameters: {'n_estimators': 696, 'max_depth': 33, 'min_samples_split': 18, 'min_samples_leaf': 6, 'min_impurity_decrease': 0.02539657213470542, 'max_features': 'sqrt', 'max_leaf_nodes': 490}. Best is trial 22 with value: 1.5539649247595906.\n",
      "[I 2025-10-21 18:18:56,392] Trial 46 finished with value: 1.8009645100479539 and parameters: {'n_estimators': 547, 'max_depth': 28, 'min_samples_split': 14, 'min_samples_leaf': 4, 'min_impurity_decrease': 0.12238430946046928, 'max_features': 'sqrt', 'max_leaf_nodes': 698}. Best is trial 22 with value: 1.5539649247595906.\n",
      "[I 2025-10-21 18:19:07,450] Trial 47 finished with value: 1.7521155897107565 and parameters: {'n_estimators': 962, 'max_depth': 29, 'min_samples_split': 19, 'min_samples_leaf': 3, 'min_impurity_decrease': 0.08613550421948926, 'max_features': 'sqrt', 'max_leaf_nodes': 450}. Best is trial 22 with value: 1.5539649247595906.\n",
      "[I 2025-10-21 18:19:12,522] Trial 48 finished with value: 2.03664973905316 and parameters: {'n_estimators': 471, 'max_depth': 35, 'min_samples_split': 17, 'min_samples_leaf': 7, 'min_impurity_decrease': 0.4064481788336912, 'max_features': 'sqrt', 'max_leaf_nodes': 421}. Best is trial 22 with value: 1.5539649247595906.\n",
      "[I 2025-10-21 18:19:18,719] Trial 49 finished with value: 1.7128981936746626 and parameters: {'n_estimators': 507, 'max_depth': 32, 'min_samples_split': 15, 'min_samples_leaf': 3, 'min_impurity_decrease': 0.06386575442468173, 'max_features': 'sqrt', 'max_leaf_nodes': 468}. Best is trial 22 with value: 1.5539649247595906.\n"
     ]
    },
    {
     "name": "stdout",
     "output_type": "stream",
     "text": [
      "Best parameters: {'n_estimators': 910, 'max_depth': 28, 'min_samples_split': 9, 'min_samples_leaf': 3, 'min_impurity_decrease': 0.003501511120214604, 'max_features': 'sqrt', 'max_leaf_nodes': 467}\n",
      "Best RMSE: 1.5539649247595906\n"
     ]
    }
   ],
   "source": [
    "# === 3 Chạy Optuna study ===\n",
    "study = optuna.create_study(direction='minimize', sampler=sampler)  # minimize RMSE\n",
    "study.optimize(objective, n_trials=50)\n",
    "print(\"Best parameters:\", study.best_trial.params)\n",
    "print(\"Best RMSE:\", study.best_value)\n"
   ]
  },
  {
   "cell_type": "code",
   "execution_count": 23,
   "id": "9df8a384",
   "metadata": {},
   "outputs": [
    {
     "name": "stdout",
     "output_type": "stream",
     "text": [
      "Validation metrics: {'RMSE': 1.5668726839037717, 'R2': 0.9076882206886517, 'MAPE': 5.654116211891582}\n",
      "Test metrics: {'RMSE': 1.3432516967556682, 'R2': 0.9166323455579876, 'MAPE': 4.221891882131596}\n",
      "RandomForest model saved to models/Tuning_RF_model.pkl\n"
     ]
    },
    {
     "data": {
      "text/plain": [
       "True"
      ]
     },
     "execution_count": 23,
     "metadata": {},
     "output_type": "execute_result"
    }
   ],
   "source": [
    "# === 4 Log kết quả tổng hợp ===\n",
    "task.upload_artifact(\"Best Parameters\", study.best_trial.params)\n",
    "\n",
    "# Fit lại mô hình với best params\n",
    "best_model = RandomForestRegressor(**study.best_trial.params)\n",
    "best_model.fit(X_train, y_train)\n",
    "\n",
    "# Predict\n",
    "y_pred_val = best_model.predict(X_val)\n",
    "y_pred_test = best_model.predict(X_test)\n",
    "\n",
    "# Evaluate on validation\n",
    "best_val_metrics = evaluate(y_val, y_pred_val)\n",
    "print(\"Validation metrics:\", best_val_metrics)\n",
    "\n",
    "# Evaluate on test\n",
    "best_test_metrics = evaluate(y_test, y_pred_test)\n",
    "print(\"Test metrics:\", best_test_metrics)\n",
    "\n",
    "\n",
    "# 6 Log lên ClearML\n",
    "logger.report_scalar(\"Best Metrics\", \"RMSE_val\", best_val_metrics[\"RMSE\"], iteration=0)\n",
    "logger.report_scalar(\"Best Metrics\", \"R2_val\", best_val_metrics[\"R2\"], iteration=0)\n",
    "logger.report_scalar(\"Best Metrics\", \"MAPE_val\", best_val_metrics[\"MAPE\"], iteration=0)\n",
    "logger.report_scalar(\"Best Metrics\", \"RMSE_test\", best_test_metrics[\"RMSE\"], iteration=0)\n",
    "logger.report_scalar(\"Best Metrics\", \"R2_test\", best_test_metrics[\"R2\"], iteration=0)\n",
    "logger.report_scalar(\"Best Metrics\", \"MAPE_test\", best_test_metrics[\"MAPE\"], iteration=0)\n",
    "\n",
    "\n",
    "# Upload artifact tổng hợp\n",
    "task.upload_artifact(\"Best Metrics\", {\n",
    "    \"Validation\": best_val_metrics,\n",
    "    \"Test\": best_test_metrics\n",
    "})\n",
    "\n",
    "\n",
    "# Save & upload model\n",
    "model_path = r'models/Tuning_RF_model.pkl' \n",
    "joblib.dump(best_model, model_path)\n",
    "print(f\"RandomForest model saved to {model_path}\")\n",
    "task.upload_artifact(\"Best Model\", model_path)"
   ]
  },
  {
   "cell_type": "code",
   "execution_count": 24,
   "id": "3c0d8058",
   "metadata": {},
   "outputs": [],
   "source": [
    "# === 6️ Vẽ biểu đồ RMSE theo trial  ===\n",
    "fig = plt.figure(figsize=(7, 4))\n",
    "plt.plot([t.value for t in study.trials])\n",
    "plt.xlabel(\"Trial\")\n",
    "plt.ylabel(\"RMSE\")\n",
    "plt.title(\"Optuna RMSE per Trial\")\n",
    "\n",
    "logger.report_matplotlib_figure(\n",
    "    title=\"Optuna Performance\", \n",
    "    series=\"RMSE Curve\", \n",
    "    figure=fig,\n",
    "    iteration=len(study.trials)\n",
    ")\n",
    "plt.close(fig)\n"
   ]
  },
  {
   "cell_type": "code",
   "execution_count": 25,
   "id": "1417c76d",
   "metadata": {},
   "outputs": [
    {
     "data": {
      "application/vnd.plotly.v1+json": {
       "config": {
        "plotlyServerURL": "https://plot.ly"
       },
       "data": [
        {
         "mode": "markers",
         "name": "Objective Value",
         "type": "scatter",
         "x": [
          0,
          1,
          2,
          3,
          4,
          5,
          6,
          7,
          8,
          9,
          10,
          11,
          12,
          13,
          14,
          15,
          16,
          17,
          18,
          19,
          20,
          21,
          22,
          23,
          24,
          25,
          26,
          27,
          28,
          29,
          30,
          31,
          32,
          33,
          34,
          35,
          36,
          37,
          38,
          39,
          40,
          41,
          42,
          43,
          44,
          45,
          46,
          47,
          48,
          49
         ],
         "y": [
          1.7411685469992204,
          1.5948624620647043,
          1.8444698233316736,
          1.8333832326633268,
          1.965693049156672,
          2.0934917156658557,
          1.7105693838748208,
          1.8451095097479802,
          2.0821863862378356,
          1.6185192584528352,
          1.9817639929768316,
          1.575909197875436,
          1.5658038108812862,
          1.9075798379804696,
          1.7652205874784794,
          2.0414167183062673,
          1.9237388679793717,
          1.5808341516037643,
          1.8157941098137453,
          1.7142858541801231,
          1.9687882401771706,
          1.5878171265243206,
          1.5539649247595906,
          1.7628229234664539,
          1.6759236225847107,
          1.8774718312890648,
          1.7963742569228196,
          1.679365457492842,
          1.7765566689395107,
          1.7385274062107299,
          1.5666829780303448,
          1.6519098140325514,
          1.563139515330696,
          1.7250228252962505,
          1.656437862666016,
          1.5672763792437983,
          1.5690488503853988,
          1.7359884723689016,
          1.8766277125813136,
          1.6841163233567413,
          2.0005448873855665,
          1.6538465106431441,
          1.5667339070565405,
          1.5677394026971925,
          1.690394499732894,
          1.6385552824994913,
          1.8009645100479539,
          1.7521155897107565,
          2.03664973905316,
          1.7128981936746626
         ]
        },
        {
         "mode": "lines",
         "name": "Best Value",
         "type": "scatter",
         "x": [
          0,
          1,
          2,
          3,
          4,
          5,
          6,
          7,
          8,
          9,
          10,
          11,
          12,
          13,
          14,
          15,
          16,
          17,
          18,
          19,
          20,
          21,
          22,
          23,
          24,
          25,
          26,
          27,
          28,
          29,
          30,
          31,
          32,
          33,
          34,
          35,
          36,
          37,
          38,
          39,
          40,
          41,
          42,
          43,
          44,
          45,
          46,
          47,
          48,
          49
         ],
         "y": [
          1.7411685469992204,
          1.5948624620647043,
          1.5948624620647043,
          1.5948624620647043,
          1.5948624620647043,
          1.5948624620647043,
          1.5948624620647043,
          1.5948624620647043,
          1.5948624620647043,
          1.5948624620647043,
          1.5948624620647043,
          1.575909197875436,
          1.5658038108812862,
          1.5658038108812862,
          1.5658038108812862,
          1.5658038108812862,
          1.5658038108812862,
          1.5658038108812862,
          1.5658038108812862,
          1.5658038108812862,
          1.5658038108812862,
          1.5658038108812862,
          1.5539649247595906,
          1.5539649247595906,
          1.5539649247595906,
          1.5539649247595906,
          1.5539649247595906,
          1.5539649247595906,
          1.5539649247595906,
          1.5539649247595906,
          1.5539649247595906,
          1.5539649247595906,
          1.5539649247595906,
          1.5539649247595906,
          1.5539649247595906,
          1.5539649247595906,
          1.5539649247595906,
          1.5539649247595906,
          1.5539649247595906,
          1.5539649247595906,
          1.5539649247595906,
          1.5539649247595906,
          1.5539649247595906,
          1.5539649247595906,
          1.5539649247595906,
          1.5539649247595906,
          1.5539649247595906,
          1.5539649247595906,
          1.5539649247595906,
          1.5539649247595906
         ]
        },
        {
         "marker": {
          "color": "#cccccc"
         },
         "mode": "markers",
         "name": "Infeasible Trial",
         "showlegend": false,
         "type": "scatter",
         "x": [],
         "y": []
        }
       ],
       "layout": {
        "template": {
         "data": {
          "bar": [
           {
            "error_x": {
             "color": "#2a3f5f"
            },
            "error_y": {
             "color": "#2a3f5f"
            },
            "marker": {
             "line": {
              "color": "#E5ECF6",
              "width": 0.5
             },
             "pattern": {
              "fillmode": "overlay",
              "size": 10,
              "solidity": 0.2
             }
            },
            "type": "bar"
           }
          ],
          "barpolar": [
           {
            "marker": {
             "line": {
              "color": "#E5ECF6",
              "width": 0.5
             },
             "pattern": {
              "fillmode": "overlay",
              "size": 10,
              "solidity": 0.2
             }
            },
            "type": "barpolar"
           }
          ],
          "carpet": [
           {
            "aaxis": {
             "endlinecolor": "#2a3f5f",
             "gridcolor": "white",
             "linecolor": "white",
             "minorgridcolor": "white",
             "startlinecolor": "#2a3f5f"
            },
            "baxis": {
             "endlinecolor": "#2a3f5f",
             "gridcolor": "white",
             "linecolor": "white",
             "minorgridcolor": "white",
             "startlinecolor": "#2a3f5f"
            },
            "type": "carpet"
           }
          ],
          "choropleth": [
           {
            "colorbar": {
             "outlinewidth": 0,
             "ticks": ""
            },
            "type": "choropleth"
           }
          ],
          "contour": [
           {
            "colorbar": {
             "outlinewidth": 0,
             "ticks": ""
            },
            "colorscale": [
             [
              0,
              "#0d0887"
             ],
             [
              0.1111111111111111,
              "#46039f"
             ],
             [
              0.2222222222222222,
              "#7201a8"
             ],
             [
              0.3333333333333333,
              "#9c179e"
             ],
             [
              0.4444444444444444,
              "#bd3786"
             ],
             [
              0.5555555555555556,
              "#d8576b"
             ],
             [
              0.6666666666666666,
              "#ed7953"
             ],
             [
              0.7777777777777778,
              "#fb9f3a"
             ],
             [
              0.8888888888888888,
              "#fdca26"
             ],
             [
              1,
              "#f0f921"
             ]
            ],
            "type": "contour"
           }
          ],
          "contourcarpet": [
           {
            "colorbar": {
             "outlinewidth": 0,
             "ticks": ""
            },
            "type": "contourcarpet"
           }
          ],
          "heatmap": [
           {
            "colorbar": {
             "outlinewidth": 0,
             "ticks": ""
            },
            "colorscale": [
             [
              0,
              "#0d0887"
             ],
             [
              0.1111111111111111,
              "#46039f"
             ],
             [
              0.2222222222222222,
              "#7201a8"
             ],
             [
              0.3333333333333333,
              "#9c179e"
             ],
             [
              0.4444444444444444,
              "#bd3786"
             ],
             [
              0.5555555555555556,
              "#d8576b"
             ],
             [
              0.6666666666666666,
              "#ed7953"
             ],
             [
              0.7777777777777778,
              "#fb9f3a"
             ],
             [
              0.8888888888888888,
              "#fdca26"
             ],
             [
              1,
              "#f0f921"
             ]
            ],
            "type": "heatmap"
           }
          ],
          "histogram": [
           {
            "marker": {
             "pattern": {
              "fillmode": "overlay",
              "size": 10,
              "solidity": 0.2
             }
            },
            "type": "histogram"
           }
          ],
          "histogram2d": [
           {
            "colorbar": {
             "outlinewidth": 0,
             "ticks": ""
            },
            "colorscale": [
             [
              0,
              "#0d0887"
             ],
             [
              0.1111111111111111,
              "#46039f"
             ],
             [
              0.2222222222222222,
              "#7201a8"
             ],
             [
              0.3333333333333333,
              "#9c179e"
             ],
             [
              0.4444444444444444,
              "#bd3786"
             ],
             [
              0.5555555555555556,
              "#d8576b"
             ],
             [
              0.6666666666666666,
              "#ed7953"
             ],
             [
              0.7777777777777778,
              "#fb9f3a"
             ],
             [
              0.8888888888888888,
              "#fdca26"
             ],
             [
              1,
              "#f0f921"
             ]
            ],
            "type": "histogram2d"
           }
          ],
          "histogram2dcontour": [
           {
            "colorbar": {
             "outlinewidth": 0,
             "ticks": ""
            },
            "colorscale": [
             [
              0,
              "#0d0887"
             ],
             [
              0.1111111111111111,
              "#46039f"
             ],
             [
              0.2222222222222222,
              "#7201a8"
             ],
             [
              0.3333333333333333,
              "#9c179e"
             ],
             [
              0.4444444444444444,
              "#bd3786"
             ],
             [
              0.5555555555555556,
              "#d8576b"
             ],
             [
              0.6666666666666666,
              "#ed7953"
             ],
             [
              0.7777777777777778,
              "#fb9f3a"
             ],
             [
              0.8888888888888888,
              "#fdca26"
             ],
             [
              1,
              "#f0f921"
             ]
            ],
            "type": "histogram2dcontour"
           }
          ],
          "mesh3d": [
           {
            "colorbar": {
             "outlinewidth": 0,
             "ticks": ""
            },
            "type": "mesh3d"
           }
          ],
          "parcoords": [
           {
            "line": {
             "colorbar": {
              "outlinewidth": 0,
              "ticks": ""
             }
            },
            "type": "parcoords"
           }
          ],
          "pie": [
           {
            "automargin": true,
            "type": "pie"
           }
          ],
          "scatter": [
           {
            "fillpattern": {
             "fillmode": "overlay",
             "size": 10,
             "solidity": 0.2
            },
            "type": "scatter"
           }
          ],
          "scatter3d": [
           {
            "line": {
             "colorbar": {
              "outlinewidth": 0,
              "ticks": ""
             }
            },
            "marker": {
             "colorbar": {
              "outlinewidth": 0,
              "ticks": ""
             }
            },
            "type": "scatter3d"
           }
          ],
          "scattercarpet": [
           {
            "marker": {
             "colorbar": {
              "outlinewidth": 0,
              "ticks": ""
             }
            },
            "type": "scattercarpet"
           }
          ],
          "scattergeo": [
           {
            "marker": {
             "colorbar": {
              "outlinewidth": 0,
              "ticks": ""
             }
            },
            "type": "scattergeo"
           }
          ],
          "scattergl": [
           {
            "marker": {
             "colorbar": {
              "outlinewidth": 0,
              "ticks": ""
             }
            },
            "type": "scattergl"
           }
          ],
          "scattermap": [
           {
            "marker": {
             "colorbar": {
              "outlinewidth": 0,
              "ticks": ""
             }
            },
            "type": "scattermap"
           }
          ],
          "scattermapbox": [
           {
            "marker": {
             "colorbar": {
              "outlinewidth": 0,
              "ticks": ""
             }
            },
            "type": "scattermapbox"
           }
          ],
          "scatterpolar": [
           {
            "marker": {
             "colorbar": {
              "outlinewidth": 0,
              "ticks": ""
             }
            },
            "type": "scatterpolar"
           }
          ],
          "scatterpolargl": [
           {
            "marker": {
             "colorbar": {
              "outlinewidth": 0,
              "ticks": ""
             }
            },
            "type": "scatterpolargl"
           }
          ],
          "scatterternary": [
           {
            "marker": {
             "colorbar": {
              "outlinewidth": 0,
              "ticks": ""
             }
            },
            "type": "scatterternary"
           }
          ],
          "surface": [
           {
            "colorbar": {
             "outlinewidth": 0,
             "ticks": ""
            },
            "colorscale": [
             [
              0,
              "#0d0887"
             ],
             [
              0.1111111111111111,
              "#46039f"
             ],
             [
              0.2222222222222222,
              "#7201a8"
             ],
             [
              0.3333333333333333,
              "#9c179e"
             ],
             [
              0.4444444444444444,
              "#bd3786"
             ],
             [
              0.5555555555555556,
              "#d8576b"
             ],
             [
              0.6666666666666666,
              "#ed7953"
             ],
             [
              0.7777777777777778,
              "#fb9f3a"
             ],
             [
              0.8888888888888888,
              "#fdca26"
             ],
             [
              1,
              "#f0f921"
             ]
            ],
            "type": "surface"
           }
          ],
          "table": [
           {
            "cells": {
             "fill": {
              "color": "#EBF0F8"
             },
             "line": {
              "color": "white"
             }
            },
            "header": {
             "fill": {
              "color": "#C8D4E3"
             },
             "line": {
              "color": "white"
             }
            },
            "type": "table"
           }
          ]
         },
         "layout": {
          "annotationdefaults": {
           "arrowcolor": "#2a3f5f",
           "arrowhead": 0,
           "arrowwidth": 1
          },
          "autotypenumbers": "strict",
          "coloraxis": {
           "colorbar": {
            "outlinewidth": 0,
            "ticks": ""
           }
          },
          "colorscale": {
           "diverging": [
            [
             0,
             "#8e0152"
            ],
            [
             0.1,
             "#c51b7d"
            ],
            [
             0.2,
             "#de77ae"
            ],
            [
             0.3,
             "#f1b6da"
            ],
            [
             0.4,
             "#fde0ef"
            ],
            [
             0.5,
             "#f7f7f7"
            ],
            [
             0.6,
             "#e6f5d0"
            ],
            [
             0.7,
             "#b8e186"
            ],
            [
             0.8,
             "#7fbc41"
            ],
            [
             0.9,
             "#4d9221"
            ],
            [
             1,
             "#276419"
            ]
           ],
           "sequential": [
            [
             0,
             "#0d0887"
            ],
            [
             0.1111111111111111,
             "#46039f"
            ],
            [
             0.2222222222222222,
             "#7201a8"
            ],
            [
             0.3333333333333333,
             "#9c179e"
            ],
            [
             0.4444444444444444,
             "#bd3786"
            ],
            [
             0.5555555555555556,
             "#d8576b"
            ],
            [
             0.6666666666666666,
             "#ed7953"
            ],
            [
             0.7777777777777778,
             "#fb9f3a"
            ],
            [
             0.8888888888888888,
             "#fdca26"
            ],
            [
             1,
             "#f0f921"
            ]
           ],
           "sequentialminus": [
            [
             0,
             "#0d0887"
            ],
            [
             0.1111111111111111,
             "#46039f"
            ],
            [
             0.2222222222222222,
             "#7201a8"
            ],
            [
             0.3333333333333333,
             "#9c179e"
            ],
            [
             0.4444444444444444,
             "#bd3786"
            ],
            [
             0.5555555555555556,
             "#d8576b"
            ],
            [
             0.6666666666666666,
             "#ed7953"
            ],
            [
             0.7777777777777778,
             "#fb9f3a"
            ],
            [
             0.8888888888888888,
             "#fdca26"
            ],
            [
             1,
             "#f0f921"
            ]
           ]
          },
          "colorway": [
           "#636efa",
           "#EF553B",
           "#00cc96",
           "#ab63fa",
           "#FFA15A",
           "#19d3f3",
           "#FF6692",
           "#B6E880",
           "#FF97FF",
           "#FECB52"
          ],
          "font": {
           "color": "#2a3f5f"
          },
          "geo": {
           "bgcolor": "white",
           "lakecolor": "white",
           "landcolor": "#E5ECF6",
           "showlakes": true,
           "showland": true,
           "subunitcolor": "white"
          },
          "hoverlabel": {
           "align": "left"
          },
          "hovermode": "closest",
          "mapbox": {
           "style": "light"
          },
          "paper_bgcolor": "white",
          "plot_bgcolor": "#E5ECF6",
          "polar": {
           "angularaxis": {
            "gridcolor": "white",
            "linecolor": "white",
            "ticks": ""
           },
           "bgcolor": "#E5ECF6",
           "radialaxis": {
            "gridcolor": "white",
            "linecolor": "white",
            "ticks": ""
           }
          },
          "scene": {
           "xaxis": {
            "backgroundcolor": "#E5ECF6",
            "gridcolor": "white",
            "gridwidth": 2,
            "linecolor": "white",
            "showbackground": true,
            "ticks": "",
            "zerolinecolor": "white"
           },
           "yaxis": {
            "backgroundcolor": "#E5ECF6",
            "gridcolor": "white",
            "gridwidth": 2,
            "linecolor": "white",
            "showbackground": true,
            "ticks": "",
            "zerolinecolor": "white"
           },
           "zaxis": {
            "backgroundcolor": "#E5ECF6",
            "gridcolor": "white",
            "gridwidth": 2,
            "linecolor": "white",
            "showbackground": true,
            "ticks": "",
            "zerolinecolor": "white"
           }
          },
          "shapedefaults": {
           "line": {
            "color": "#2a3f5f"
           }
          },
          "ternary": {
           "aaxis": {
            "gridcolor": "white",
            "linecolor": "white",
            "ticks": ""
           },
           "baxis": {
            "gridcolor": "white",
            "linecolor": "white",
            "ticks": ""
           },
           "bgcolor": "#E5ECF6",
           "caxis": {
            "gridcolor": "white",
            "linecolor": "white",
            "ticks": ""
           }
          },
          "title": {
           "x": 0.05
          },
          "xaxis": {
           "automargin": true,
           "gridcolor": "white",
           "linecolor": "white",
           "ticks": "",
           "title": {
            "standoff": 15
           },
           "zerolinecolor": "white",
           "zerolinewidth": 2
          },
          "yaxis": {
           "automargin": true,
           "gridcolor": "white",
           "linecolor": "white",
           "ticks": "",
           "title": {
            "standoff": 15
           },
           "zerolinecolor": "white",
           "zerolinewidth": 2
          }
         }
        },
        "title": {
         "text": "Optimization History Plot"
        },
        "xaxis": {
         "title": {
          "text": "Trial"
         }
        },
        "yaxis": {
         "title": {
          "text": "Objective Value"
         }
        }
       }
      }
     },
     "metadata": {},
     "output_type": "display_data"
    }
   ],
   "source": [
    "vis.plot_optimization_history(study)\n"
   ]
  },
  {
   "cell_type": "code",
   "execution_count": 26,
   "id": "efb2d938",
   "metadata": {},
   "outputs": [
    {
     "data": {
      "application/vnd.plotly.v1+json": {
       "config": {
        "plotlyServerURL": "https://plot.ly"
       },
       "data": [
        {
         "dimensions": [
          {
           "label": "Objective Value",
           "range": [
            1.5539649247595906,
            2.0934917156658557
           ],
           "values": [
            1.7411685469992204,
            1.5948624620647043,
            1.8444698233316736,
            1.8333832326633268,
            1.965693049156672,
            2.0934917156658557,
            1.7105693838748208,
            1.8451095097479802,
            2.0821863862378356,
            1.6185192584528352,
            1.9817639929768316,
            1.575909197875436,
            1.5658038108812862,
            1.9075798379804696,
            1.7652205874784794,
            2.0414167183062673,
            1.9237388679793717,
            1.5808341516037643,
            1.8157941098137453,
            1.7142858541801231,
            1.9687882401771706,
            1.5878171265243206,
            1.5539649247595906,
            1.7628229234664539,
            1.6759236225847107,
            1.8774718312890648,
            1.7963742569228196,
            1.679365457492842,
            1.7765566689395107,
            1.7385274062107299,
            1.5666829780303448,
            1.6519098140325514,
            1.563139515330696,
            1.7250228252962505,
            1.656437862666016,
            1.5672763792437983,
            1.5690488503853988,
            1.7359884723689016,
            1.8766277125813136,
            1.6841163233567413,
            2.0005448873855665,
            1.6538465106431441,
            1.5667339070565405,
            1.5677394026971925,
            1.690394499732894,
            1.6385552824994913,
            1.8009645100479539,
            1.7521155897107565,
            2.03664973905316,
            1.7128981936746626
           ]
          },
          {
           "label": "max_depth",
           "range": [
            15,
            35
           ],
           "values": [
            34,
            33,
            19,
            21,
            31,
            18,
            17,
            34,
            18,
            34,
            27,
            29,
            28,
            27,
            24,
            30,
            25,
            29,
            22,
            15,
            28,
            30,
            28,
            25,
            31,
            27,
            23,
            32,
            28,
            26,
            30,
            29,
            32,
            32,
            33,
            35,
            31,
            32,
            30,
            26,
            33,
            34,
            35,
            35,
            31,
            33,
            28,
            29,
            35,
            32
           ]
          },
          {
           "label": "max_features",
           "range": [
            0,
            0
           ],
           "ticktext": [
            "sqrt"
           ],
           "tickvals": [
            0
           ],
           "values": [
            0,
            0,
            0,
            0,
            0,
            0,
            0,
            0,
            0,
            0,
            0,
            0,
            0,
            0,
            0,
            0,
            0,
            0,
            0,
            0,
            0,
            0,
            0,
            0,
            0,
            0,
            0,
            0,
            0,
            0,
            0,
            0,
            0,
            0,
            0,
            0,
            0,
            0,
            0,
            0,
            0,
            0,
            0,
            0,
            0,
            0,
            0,
            0,
            0,
            0
           ]
          },
          {
           "label": "max_leaf_nodes",
           "range": [
            401,
            698
           ],
           "values": [
            446,
            691,
            557,
            510,
            413,
            643,
            549,
            556,
            669,
            497,
            620,
            480,
            465,
            454,
            481,
            412,
            534,
            458,
            593,
            509,
            476,
            445,
            467,
            418,
            478,
            523,
            579,
            436,
            492,
            437,
            467,
            467,
            427,
            401,
            433,
            428,
            459,
            513,
            502,
            401,
            527,
            420,
            429,
            444,
            466,
            490,
            698,
            450,
            421,
            468
           ]
          },
          {
           "label": "min_impurity_decr...",
           "range": [
            0.0010829761128161395,
            0.48285038450420514
           ],
           "values": [
            0.07885330158077582,
            0.011271662653605422,
            0.1528168792368093,
            0.14678017961907386,
            0.2966148698621592,
            0.48285038450420514,
            0.06189707918754463,
            0.15654382696861607,
            0.46980997184053036,
            0.023568417166358494,
            0.3204041627313105,
            0.008851822693701772,
            0.0063957805072579746,
            0.2179881859884533,
            0.09457878308525028,
            0.39919943967042937,
            0.2330274048388413,
            0.011331774777394,
            0.13093527753025283,
            0.06038411897944618,
            0.2933981445589344,
            0.01362682122009942,
            0.003501511120214604,
            0.09403804201915195,
            0.04631227225210787,
            0.1852467940336832,
            0.11693900925625679,
            0.046874052738652854,
            0.10448165270051003,
            0.07707918688083214,
            0.0032161166876876015,
            0.03394676674501902,
            0.0016261905046777187,
            0.06929274985732081,
            0.036480943281412145,
            0.0034536208105111887,
            0.0015711286226615662,
            0.07688821485204528,
            0.18129676748950746,
            0.043925280947401966,
            0.34456233850269835,
            0.03403357781160215,
            0.0010829761128161395,
            0.0018586494484055308,
            0.050280529542798165,
            0.02539657213470542,
            0.12238430946046928,
            0.08613550421948926,
            0.4064481788336912,
            0.06386575442468173
           ]
          },
          {
           "label": "min_samples_leaf",
           "range": [
            3,
            8
           ],
           "values": [
            6,
            7,
            4,
            3,
            6,
            8,
            5,
            6,
            7,
            4,
            8,
            4,
            3,
            3,
            4,
            3,
            5,
            4,
            3,
            5,
            4,
            4,
            3,
            3,
            3,
            3,
            4,
            5,
            3,
            4,
            3,
            3,
            3,
            3,
            3,
            3,
            4,
            3,
            5,
            7,
            3,
            3,
            3,
            4,
            3,
            6,
            4,
            3,
            7,
            3
           ]
          },
          {
           "label": "min_samples_split",
           "range": [
            5,
            20
           ],
           "values": [
            16,
            14,
            7,
            14,
            8,
            6,
            15,
            9,
            20,
            6,
            11,
            11,
            12,
            11,
            11,
            18,
            12,
            9,
            13,
            17,
            10,
            9,
            9,
            13,
            5,
            12,
            10,
            8,
            10,
            8,
            16,
            16,
            14,
            15,
            14,
            18,
            15,
            14,
            17,
            16,
            13,
            19,
            18,
            16,
            20,
            18,
            14,
            19,
            17,
            15
           ]
          },
          {
           "label": "n_estimators",
           "range": [
            412,
            1000
           ],
           "values": [
            625,
            434,
            900,
            659,
            674,
            765,
            583,
            420,
            728,
            759,
            412,
            897,
            970,
            978,
            866,
            1000,
            858,
            927,
            798,
            824,
            938,
            941,
            910,
            872,
            972,
            831,
            911,
            553,
            956,
            791,
            1000,
            990,
            893,
            891,
            952,
            476,
            837,
            922,
            999,
            890,
            731,
            601,
            508,
            473,
            640,
            696,
            547,
            962,
            471,
            507
           ]
          }
         ],
         "labelangle": 30,
         "labelside": "bottom",
         "line": {
          "color": [
           1.7411685469992204,
           1.5948624620647043,
           1.8444698233316736,
           1.8333832326633268,
           1.965693049156672,
           2.0934917156658557,
           1.7105693838748208,
           1.8451095097479802,
           2.0821863862378356,
           1.6185192584528352,
           1.9817639929768316,
           1.575909197875436,
           1.5658038108812862,
           1.9075798379804696,
           1.7652205874784794,
           2.0414167183062673,
           1.9237388679793717,
           1.5808341516037643,
           1.8157941098137453,
           1.7142858541801231,
           1.9687882401771706,
           1.5878171265243206,
           1.5539649247595906,
           1.7628229234664539,
           1.6759236225847107,
           1.8774718312890648,
           1.7963742569228196,
           1.679365457492842,
           1.7765566689395107,
           1.7385274062107299,
           1.5666829780303448,
           1.6519098140325514,
           1.563139515330696,
           1.7250228252962505,
           1.656437862666016,
           1.5672763792437983,
           1.5690488503853988,
           1.7359884723689016,
           1.8766277125813136,
           1.6841163233567413,
           2.0005448873855665,
           1.6538465106431441,
           1.5667339070565405,
           1.5677394026971925,
           1.690394499732894,
           1.6385552824994913,
           1.8009645100479539,
           1.7521155897107565,
           2.03664973905316,
           1.7128981936746626
          ],
          "colorbar": {
           "title": {
            "text": "Objective Value"
           }
          },
          "colorscale": [
           [
            0,
            "rgb(247,251,255)"
           ],
           [
            0.125,
            "rgb(222,235,247)"
           ],
           [
            0.25,
            "rgb(198,219,239)"
           ],
           [
            0.375,
            "rgb(158,202,225)"
           ],
           [
            0.5,
            "rgb(107,174,214)"
           ],
           [
            0.625,
            "rgb(66,146,198)"
           ],
           [
            0.75,
            "rgb(33,113,181)"
           ],
           [
            0.875,
            "rgb(8,81,156)"
           ],
           [
            1,
            "rgb(8,48,107)"
           ]
          ],
          "reversescale": true,
          "showscale": true
         },
         "type": "parcoords"
        }
       ],
       "layout": {
        "template": {
         "data": {
          "bar": [
           {
            "error_x": {
             "color": "#2a3f5f"
            },
            "error_y": {
             "color": "#2a3f5f"
            },
            "marker": {
             "line": {
              "color": "#E5ECF6",
              "width": 0.5
             },
             "pattern": {
              "fillmode": "overlay",
              "size": 10,
              "solidity": 0.2
             }
            },
            "type": "bar"
           }
          ],
          "barpolar": [
           {
            "marker": {
             "line": {
              "color": "#E5ECF6",
              "width": 0.5
             },
             "pattern": {
              "fillmode": "overlay",
              "size": 10,
              "solidity": 0.2
             }
            },
            "type": "barpolar"
           }
          ],
          "carpet": [
           {
            "aaxis": {
             "endlinecolor": "#2a3f5f",
             "gridcolor": "white",
             "linecolor": "white",
             "minorgridcolor": "white",
             "startlinecolor": "#2a3f5f"
            },
            "baxis": {
             "endlinecolor": "#2a3f5f",
             "gridcolor": "white",
             "linecolor": "white",
             "minorgridcolor": "white",
             "startlinecolor": "#2a3f5f"
            },
            "type": "carpet"
           }
          ],
          "choropleth": [
           {
            "colorbar": {
             "outlinewidth": 0,
             "ticks": ""
            },
            "type": "choropleth"
           }
          ],
          "contour": [
           {
            "colorbar": {
             "outlinewidth": 0,
             "ticks": ""
            },
            "colorscale": [
             [
              0,
              "#0d0887"
             ],
             [
              0.1111111111111111,
              "#46039f"
             ],
             [
              0.2222222222222222,
              "#7201a8"
             ],
             [
              0.3333333333333333,
              "#9c179e"
             ],
             [
              0.4444444444444444,
              "#bd3786"
             ],
             [
              0.5555555555555556,
              "#d8576b"
             ],
             [
              0.6666666666666666,
              "#ed7953"
             ],
             [
              0.7777777777777778,
              "#fb9f3a"
             ],
             [
              0.8888888888888888,
              "#fdca26"
             ],
             [
              1,
              "#f0f921"
             ]
            ],
            "type": "contour"
           }
          ],
          "contourcarpet": [
           {
            "colorbar": {
             "outlinewidth": 0,
             "ticks": ""
            },
            "type": "contourcarpet"
           }
          ],
          "heatmap": [
           {
            "colorbar": {
             "outlinewidth": 0,
             "ticks": ""
            },
            "colorscale": [
             [
              0,
              "#0d0887"
             ],
             [
              0.1111111111111111,
              "#46039f"
             ],
             [
              0.2222222222222222,
              "#7201a8"
             ],
             [
              0.3333333333333333,
              "#9c179e"
             ],
             [
              0.4444444444444444,
              "#bd3786"
             ],
             [
              0.5555555555555556,
              "#d8576b"
             ],
             [
              0.6666666666666666,
              "#ed7953"
             ],
             [
              0.7777777777777778,
              "#fb9f3a"
             ],
             [
              0.8888888888888888,
              "#fdca26"
             ],
             [
              1,
              "#f0f921"
             ]
            ],
            "type": "heatmap"
           }
          ],
          "histogram": [
           {
            "marker": {
             "pattern": {
              "fillmode": "overlay",
              "size": 10,
              "solidity": 0.2
             }
            },
            "type": "histogram"
           }
          ],
          "histogram2d": [
           {
            "colorbar": {
             "outlinewidth": 0,
             "ticks": ""
            },
            "colorscale": [
             [
              0,
              "#0d0887"
             ],
             [
              0.1111111111111111,
              "#46039f"
             ],
             [
              0.2222222222222222,
              "#7201a8"
             ],
             [
              0.3333333333333333,
              "#9c179e"
             ],
             [
              0.4444444444444444,
              "#bd3786"
             ],
             [
              0.5555555555555556,
              "#d8576b"
             ],
             [
              0.6666666666666666,
              "#ed7953"
             ],
             [
              0.7777777777777778,
              "#fb9f3a"
             ],
             [
              0.8888888888888888,
              "#fdca26"
             ],
             [
              1,
              "#f0f921"
             ]
            ],
            "type": "histogram2d"
           }
          ],
          "histogram2dcontour": [
           {
            "colorbar": {
             "outlinewidth": 0,
             "ticks": ""
            },
            "colorscale": [
             [
              0,
              "#0d0887"
             ],
             [
              0.1111111111111111,
              "#46039f"
             ],
             [
              0.2222222222222222,
              "#7201a8"
             ],
             [
              0.3333333333333333,
              "#9c179e"
             ],
             [
              0.4444444444444444,
              "#bd3786"
             ],
             [
              0.5555555555555556,
              "#d8576b"
             ],
             [
              0.6666666666666666,
              "#ed7953"
             ],
             [
              0.7777777777777778,
              "#fb9f3a"
             ],
             [
              0.8888888888888888,
              "#fdca26"
             ],
             [
              1,
              "#f0f921"
             ]
            ],
            "type": "histogram2dcontour"
           }
          ],
          "mesh3d": [
           {
            "colorbar": {
             "outlinewidth": 0,
             "ticks": ""
            },
            "type": "mesh3d"
           }
          ],
          "parcoords": [
           {
            "line": {
             "colorbar": {
              "outlinewidth": 0,
              "ticks": ""
             }
            },
            "type": "parcoords"
           }
          ],
          "pie": [
           {
            "automargin": true,
            "type": "pie"
           }
          ],
          "scatter": [
           {
            "fillpattern": {
             "fillmode": "overlay",
             "size": 10,
             "solidity": 0.2
            },
            "type": "scatter"
           }
          ],
          "scatter3d": [
           {
            "line": {
             "colorbar": {
              "outlinewidth": 0,
              "ticks": ""
             }
            },
            "marker": {
             "colorbar": {
              "outlinewidth": 0,
              "ticks": ""
             }
            },
            "type": "scatter3d"
           }
          ],
          "scattercarpet": [
           {
            "marker": {
             "colorbar": {
              "outlinewidth": 0,
              "ticks": ""
             }
            },
            "type": "scattercarpet"
           }
          ],
          "scattergeo": [
           {
            "marker": {
             "colorbar": {
              "outlinewidth": 0,
              "ticks": ""
             }
            },
            "type": "scattergeo"
           }
          ],
          "scattergl": [
           {
            "marker": {
             "colorbar": {
              "outlinewidth": 0,
              "ticks": ""
             }
            },
            "type": "scattergl"
           }
          ],
          "scattermap": [
           {
            "marker": {
             "colorbar": {
              "outlinewidth": 0,
              "ticks": ""
             }
            },
            "type": "scattermap"
           }
          ],
          "scattermapbox": [
           {
            "marker": {
             "colorbar": {
              "outlinewidth": 0,
              "ticks": ""
             }
            },
            "type": "scattermapbox"
           }
          ],
          "scatterpolar": [
           {
            "marker": {
             "colorbar": {
              "outlinewidth": 0,
              "ticks": ""
             }
            },
            "type": "scatterpolar"
           }
          ],
          "scatterpolargl": [
           {
            "marker": {
             "colorbar": {
              "outlinewidth": 0,
              "ticks": ""
             }
            },
            "type": "scatterpolargl"
           }
          ],
          "scatterternary": [
           {
            "marker": {
             "colorbar": {
              "outlinewidth": 0,
              "ticks": ""
             }
            },
            "type": "scatterternary"
           }
          ],
          "surface": [
           {
            "colorbar": {
             "outlinewidth": 0,
             "ticks": ""
            },
            "colorscale": [
             [
              0,
              "#0d0887"
             ],
             [
              0.1111111111111111,
              "#46039f"
             ],
             [
              0.2222222222222222,
              "#7201a8"
             ],
             [
              0.3333333333333333,
              "#9c179e"
             ],
             [
              0.4444444444444444,
              "#bd3786"
             ],
             [
              0.5555555555555556,
              "#d8576b"
             ],
             [
              0.6666666666666666,
              "#ed7953"
             ],
             [
              0.7777777777777778,
              "#fb9f3a"
             ],
             [
              0.8888888888888888,
              "#fdca26"
             ],
             [
              1,
              "#f0f921"
             ]
            ],
            "type": "surface"
           }
          ],
          "table": [
           {
            "cells": {
             "fill": {
              "color": "#EBF0F8"
             },
             "line": {
              "color": "white"
             }
            },
            "header": {
             "fill": {
              "color": "#C8D4E3"
             },
             "line": {
              "color": "white"
             }
            },
            "type": "table"
           }
          ]
         },
         "layout": {
          "annotationdefaults": {
           "arrowcolor": "#2a3f5f",
           "arrowhead": 0,
           "arrowwidth": 1
          },
          "autotypenumbers": "strict",
          "coloraxis": {
           "colorbar": {
            "outlinewidth": 0,
            "ticks": ""
           }
          },
          "colorscale": {
           "diverging": [
            [
             0,
             "#8e0152"
            ],
            [
             0.1,
             "#c51b7d"
            ],
            [
             0.2,
             "#de77ae"
            ],
            [
             0.3,
             "#f1b6da"
            ],
            [
             0.4,
             "#fde0ef"
            ],
            [
             0.5,
             "#f7f7f7"
            ],
            [
             0.6,
             "#e6f5d0"
            ],
            [
             0.7,
             "#b8e186"
            ],
            [
             0.8,
             "#7fbc41"
            ],
            [
             0.9,
             "#4d9221"
            ],
            [
             1,
             "#276419"
            ]
           ],
           "sequential": [
            [
             0,
             "#0d0887"
            ],
            [
             0.1111111111111111,
             "#46039f"
            ],
            [
             0.2222222222222222,
             "#7201a8"
            ],
            [
             0.3333333333333333,
             "#9c179e"
            ],
            [
             0.4444444444444444,
             "#bd3786"
            ],
            [
             0.5555555555555556,
             "#d8576b"
            ],
            [
             0.6666666666666666,
             "#ed7953"
            ],
            [
             0.7777777777777778,
             "#fb9f3a"
            ],
            [
             0.8888888888888888,
             "#fdca26"
            ],
            [
             1,
             "#f0f921"
            ]
           ],
           "sequentialminus": [
            [
             0,
             "#0d0887"
            ],
            [
             0.1111111111111111,
             "#46039f"
            ],
            [
             0.2222222222222222,
             "#7201a8"
            ],
            [
             0.3333333333333333,
             "#9c179e"
            ],
            [
             0.4444444444444444,
             "#bd3786"
            ],
            [
             0.5555555555555556,
             "#d8576b"
            ],
            [
             0.6666666666666666,
             "#ed7953"
            ],
            [
             0.7777777777777778,
             "#fb9f3a"
            ],
            [
             0.8888888888888888,
             "#fdca26"
            ],
            [
             1,
             "#f0f921"
            ]
           ]
          },
          "colorway": [
           "#636efa",
           "#EF553B",
           "#00cc96",
           "#ab63fa",
           "#FFA15A",
           "#19d3f3",
           "#FF6692",
           "#B6E880",
           "#FF97FF",
           "#FECB52"
          ],
          "font": {
           "color": "#2a3f5f"
          },
          "geo": {
           "bgcolor": "white",
           "lakecolor": "white",
           "landcolor": "#E5ECF6",
           "showlakes": true,
           "showland": true,
           "subunitcolor": "white"
          },
          "hoverlabel": {
           "align": "left"
          },
          "hovermode": "closest",
          "mapbox": {
           "style": "light"
          },
          "paper_bgcolor": "white",
          "plot_bgcolor": "#E5ECF6",
          "polar": {
           "angularaxis": {
            "gridcolor": "white",
            "linecolor": "white",
            "ticks": ""
           },
           "bgcolor": "#E5ECF6",
           "radialaxis": {
            "gridcolor": "white",
            "linecolor": "white",
            "ticks": ""
           }
          },
          "scene": {
           "xaxis": {
            "backgroundcolor": "#E5ECF6",
            "gridcolor": "white",
            "gridwidth": 2,
            "linecolor": "white",
            "showbackground": true,
            "ticks": "",
            "zerolinecolor": "white"
           },
           "yaxis": {
            "backgroundcolor": "#E5ECF6",
            "gridcolor": "white",
            "gridwidth": 2,
            "linecolor": "white",
            "showbackground": true,
            "ticks": "",
            "zerolinecolor": "white"
           },
           "zaxis": {
            "backgroundcolor": "#E5ECF6",
            "gridcolor": "white",
            "gridwidth": 2,
            "linecolor": "white",
            "showbackground": true,
            "ticks": "",
            "zerolinecolor": "white"
           }
          },
          "shapedefaults": {
           "line": {
            "color": "#2a3f5f"
           }
          },
          "ternary": {
           "aaxis": {
            "gridcolor": "white",
            "linecolor": "white",
            "ticks": ""
           },
           "baxis": {
            "gridcolor": "white",
            "linecolor": "white",
            "ticks": ""
           },
           "bgcolor": "#E5ECF6",
           "caxis": {
            "gridcolor": "white",
            "linecolor": "white",
            "ticks": ""
           }
          },
          "title": {
           "x": 0.05
          },
          "xaxis": {
           "automargin": true,
           "gridcolor": "white",
           "linecolor": "white",
           "ticks": "",
           "title": {
            "standoff": 15
           },
           "zerolinecolor": "white",
           "zerolinewidth": 2
          },
          "yaxis": {
           "automargin": true,
           "gridcolor": "white",
           "linecolor": "white",
           "ticks": "",
           "title": {
            "standoff": 15
           },
           "zerolinecolor": "white",
           "zerolinewidth": 2
          }
         }
        },
        "title": {
         "text": "Parallel Coordinate Plot"
        }
       }
      }
     },
     "metadata": {},
     "output_type": "display_data"
    }
   ],
   "source": [
    "vis.plot_parallel_coordinate(study)"
   ]
  },
  {
   "cell_type": "code",
   "execution_count": 27,
   "id": "a3a4efee",
   "metadata": {},
   "outputs": [
    {
     "data": {
      "application/vnd.plotly.v1+json": {
       "config": {
        "plotlyServerURL": "https://plot.ly"
       },
       "data": [
        {
         "marker": {
          "color": [
           0,
           1,
           2,
           3,
           4,
           5,
           6,
           7,
           8,
           9,
           10,
           11,
           12,
           13,
           14,
           15,
           16,
           17,
           18,
           19,
           20,
           21,
           22,
           23,
           24,
           25,
           26,
           27,
           28,
           29,
           30,
           31,
           32,
           33,
           34,
           35,
           36,
           37,
           38,
           39,
           40,
           41,
           42,
           43,
           44,
           45,
           46,
           47,
           48,
           49
          ],
          "colorbar": {
           "title": {
            "text": "Trial"
           },
           "x": 1,
           "xpad": 40
          },
          "colorscale": [
           [
            0,
            "rgb(247,251,255)"
           ],
           [
            0.125,
            "rgb(222,235,247)"
           ],
           [
            0.25,
            "rgb(198,219,239)"
           ],
           [
            0.375,
            "rgb(158,202,225)"
           ],
           [
            0.5,
            "rgb(107,174,214)"
           ],
           [
            0.625,
            "rgb(66,146,198)"
           ],
           [
            0.75,
            "rgb(33,113,181)"
           ],
           [
            0.875,
            "rgb(8,81,156)"
           ],
           [
            1,
            "rgb(8,48,107)"
           ]
          ],
          "line": {
           "color": "Grey",
           "width": 0.5
          },
          "showscale": true
         },
         "mode": "markers",
         "name": "Feasible Trial",
         "showlegend": false,
         "type": "scatter",
         "x": [
          34,
          33,
          19,
          21,
          31,
          18,
          17,
          34,
          18,
          34,
          27,
          29,
          28,
          27,
          24,
          30,
          25,
          29,
          22,
          15,
          28,
          30,
          28,
          25,
          31,
          27,
          23,
          32,
          28,
          26,
          30,
          29,
          32,
          32,
          33,
          35,
          31,
          32,
          30,
          26,
          33,
          34,
          35,
          35,
          31,
          33,
          28,
          29,
          35,
          32
         ],
         "xaxis": "x",
         "y": [
          1.7411685469992204,
          1.5948624620647043,
          1.8444698233316736,
          1.8333832326633268,
          1.965693049156672,
          2.0934917156658557,
          1.7105693838748208,
          1.8451095097479802,
          2.0821863862378356,
          1.6185192584528352,
          1.9817639929768316,
          1.575909197875436,
          1.5658038108812862,
          1.9075798379804696,
          1.7652205874784794,
          2.0414167183062673,
          1.9237388679793717,
          1.5808341516037643,
          1.8157941098137453,
          1.7142858541801231,
          1.9687882401771706,
          1.5878171265243206,
          1.5539649247595906,
          1.7628229234664539,
          1.6759236225847107,
          1.8774718312890648,
          1.7963742569228196,
          1.679365457492842,
          1.7765566689395107,
          1.7385274062107299,
          1.5666829780303448,
          1.6519098140325514,
          1.563139515330696,
          1.7250228252962505,
          1.656437862666016,
          1.5672763792437983,
          1.5690488503853988,
          1.7359884723689016,
          1.8766277125813136,
          1.6841163233567413,
          2.0005448873855665,
          1.6538465106431441,
          1.5667339070565405,
          1.5677394026971925,
          1.690394499732894,
          1.6385552824994913,
          1.8009645100479539,
          1.7521155897107565,
          2.03664973905316,
          1.7128981936746626
         ],
         "yaxis": "y"
        },
        {
         "marker": {
          "color": [
           0,
           1,
           2,
           3,
           4,
           5,
           6,
           7,
           8,
           9,
           10,
           11,
           12,
           13,
           14,
           15,
           16,
           17,
           18,
           19,
           20,
           21,
           22,
           23,
           24,
           25,
           26,
           27,
           28,
           29,
           30,
           31,
           32,
           33,
           34,
           35,
           36,
           37,
           38,
           39,
           40,
           41,
           42,
           43,
           44,
           45,
           46,
           47,
           48,
           49
          ],
          "colorbar": {
           "title": {
            "text": "Trial"
           },
           "x": 1,
           "xpad": 40
          },
          "colorscale": [
           [
            0,
            "rgb(247,251,255)"
           ],
           [
            0.125,
            "rgb(222,235,247)"
           ],
           [
            0.25,
            "rgb(198,219,239)"
           ],
           [
            0.375,
            "rgb(158,202,225)"
           ],
           [
            0.5,
            "rgb(107,174,214)"
           ],
           [
            0.625,
            "rgb(66,146,198)"
           ],
           [
            0.75,
            "rgb(33,113,181)"
           ],
           [
            0.875,
            "rgb(8,81,156)"
           ],
           [
            1,
            "rgb(8,48,107)"
           ]
          ],
          "line": {
           "color": "Grey",
           "width": 0.5
          },
          "showscale": false
         },
         "mode": "markers",
         "name": "Feasible Trial",
         "showlegend": false,
         "type": "scatter",
         "x": [
          "sqrt",
          "sqrt",
          "sqrt",
          "sqrt",
          "sqrt",
          "sqrt",
          "sqrt",
          "sqrt",
          "sqrt",
          "sqrt",
          "sqrt",
          "sqrt",
          "sqrt",
          "sqrt",
          "sqrt",
          "sqrt",
          "sqrt",
          "sqrt",
          "sqrt",
          "sqrt",
          "sqrt",
          "sqrt",
          "sqrt",
          "sqrt",
          "sqrt",
          "sqrt",
          "sqrt",
          "sqrt",
          "sqrt",
          "sqrt",
          "sqrt",
          "sqrt",
          "sqrt",
          "sqrt",
          "sqrt",
          "sqrt",
          "sqrt",
          "sqrt",
          "sqrt",
          "sqrt",
          "sqrt",
          "sqrt",
          "sqrt",
          "sqrt",
          "sqrt",
          "sqrt",
          "sqrt",
          "sqrt",
          "sqrt",
          "sqrt"
         ],
         "xaxis": "x2",
         "y": [
          1.7411685469992204,
          1.5948624620647043,
          1.8444698233316736,
          1.8333832326633268,
          1.965693049156672,
          2.0934917156658557,
          1.7105693838748208,
          1.8451095097479802,
          2.0821863862378356,
          1.6185192584528352,
          1.9817639929768316,
          1.575909197875436,
          1.5658038108812862,
          1.9075798379804696,
          1.7652205874784794,
          2.0414167183062673,
          1.9237388679793717,
          1.5808341516037643,
          1.8157941098137453,
          1.7142858541801231,
          1.9687882401771706,
          1.5878171265243206,
          1.5539649247595906,
          1.7628229234664539,
          1.6759236225847107,
          1.8774718312890648,
          1.7963742569228196,
          1.679365457492842,
          1.7765566689395107,
          1.7385274062107299,
          1.5666829780303448,
          1.6519098140325514,
          1.563139515330696,
          1.7250228252962505,
          1.656437862666016,
          1.5672763792437983,
          1.5690488503853988,
          1.7359884723689016,
          1.8766277125813136,
          1.6841163233567413,
          2.0005448873855665,
          1.6538465106431441,
          1.5667339070565405,
          1.5677394026971925,
          1.690394499732894,
          1.6385552824994913,
          1.8009645100479539,
          1.7521155897107565,
          2.03664973905316,
          1.7128981936746626
         ],
         "yaxis": "y2"
        },
        {
         "marker": {
          "color": [
           0,
           1,
           2,
           3,
           4,
           5,
           6,
           7,
           8,
           9,
           10,
           11,
           12,
           13,
           14,
           15,
           16,
           17,
           18,
           19,
           20,
           21,
           22,
           23,
           24,
           25,
           26,
           27,
           28,
           29,
           30,
           31,
           32,
           33,
           34,
           35,
           36,
           37,
           38,
           39,
           40,
           41,
           42,
           43,
           44,
           45,
           46,
           47,
           48,
           49
          ],
          "colorbar": {
           "title": {
            "text": "Trial"
           },
           "x": 1,
           "xpad": 40
          },
          "colorscale": [
           [
            0,
            "rgb(247,251,255)"
           ],
           [
            0.125,
            "rgb(222,235,247)"
           ],
           [
            0.25,
            "rgb(198,219,239)"
           ],
           [
            0.375,
            "rgb(158,202,225)"
           ],
           [
            0.5,
            "rgb(107,174,214)"
           ],
           [
            0.625,
            "rgb(66,146,198)"
           ],
           [
            0.75,
            "rgb(33,113,181)"
           ],
           [
            0.875,
            "rgb(8,81,156)"
           ],
           [
            1,
            "rgb(8,48,107)"
           ]
          ],
          "line": {
           "color": "Grey",
           "width": 0.5
          },
          "showscale": false
         },
         "mode": "markers",
         "name": "Feasible Trial",
         "showlegend": false,
         "type": "scatter",
         "x": [
          446,
          691,
          557,
          510,
          413,
          643,
          549,
          556,
          669,
          497,
          620,
          480,
          465,
          454,
          481,
          412,
          534,
          458,
          593,
          509,
          476,
          445,
          467,
          418,
          478,
          523,
          579,
          436,
          492,
          437,
          467,
          467,
          427,
          401,
          433,
          428,
          459,
          513,
          502,
          401,
          527,
          420,
          429,
          444,
          466,
          490,
          698,
          450,
          421,
          468
         ],
         "xaxis": "x3",
         "y": [
          1.7411685469992204,
          1.5948624620647043,
          1.8444698233316736,
          1.8333832326633268,
          1.965693049156672,
          2.0934917156658557,
          1.7105693838748208,
          1.8451095097479802,
          2.0821863862378356,
          1.6185192584528352,
          1.9817639929768316,
          1.575909197875436,
          1.5658038108812862,
          1.9075798379804696,
          1.7652205874784794,
          2.0414167183062673,
          1.9237388679793717,
          1.5808341516037643,
          1.8157941098137453,
          1.7142858541801231,
          1.9687882401771706,
          1.5878171265243206,
          1.5539649247595906,
          1.7628229234664539,
          1.6759236225847107,
          1.8774718312890648,
          1.7963742569228196,
          1.679365457492842,
          1.7765566689395107,
          1.7385274062107299,
          1.5666829780303448,
          1.6519098140325514,
          1.563139515330696,
          1.7250228252962505,
          1.656437862666016,
          1.5672763792437983,
          1.5690488503853988,
          1.7359884723689016,
          1.8766277125813136,
          1.6841163233567413,
          2.0005448873855665,
          1.6538465106431441,
          1.5667339070565405,
          1.5677394026971925,
          1.690394499732894,
          1.6385552824994913,
          1.8009645100479539,
          1.7521155897107565,
          2.03664973905316,
          1.7128981936746626
         ],
         "yaxis": "y3"
        },
        {
         "marker": {
          "color": [
           0,
           1,
           2,
           3,
           4,
           5,
           6,
           7,
           8,
           9,
           10,
           11,
           12,
           13,
           14,
           15,
           16,
           17,
           18,
           19,
           20,
           21,
           22,
           23,
           24,
           25,
           26,
           27,
           28,
           29,
           30,
           31,
           32,
           33,
           34,
           35,
           36,
           37,
           38,
           39,
           40,
           41,
           42,
           43,
           44,
           45,
           46,
           47,
           48,
           49
          ],
          "colorbar": {
           "title": {
            "text": "Trial"
           },
           "x": 1,
           "xpad": 40
          },
          "colorscale": [
           [
            0,
            "rgb(247,251,255)"
           ],
           [
            0.125,
            "rgb(222,235,247)"
           ],
           [
            0.25,
            "rgb(198,219,239)"
           ],
           [
            0.375,
            "rgb(158,202,225)"
           ],
           [
            0.5,
            "rgb(107,174,214)"
           ],
           [
            0.625,
            "rgb(66,146,198)"
           ],
           [
            0.75,
            "rgb(33,113,181)"
           ],
           [
            0.875,
            "rgb(8,81,156)"
           ],
           [
            1,
            "rgb(8,48,107)"
           ]
          ],
          "line": {
           "color": "Grey",
           "width": 0.5
          },
          "showscale": false
         },
         "mode": "markers",
         "name": "Feasible Trial",
         "showlegend": false,
         "type": "scatter",
         "x": [
          0.07885330158077582,
          0.011271662653605422,
          0.1528168792368093,
          0.14678017961907386,
          0.2966148698621592,
          0.48285038450420514,
          0.06189707918754463,
          0.15654382696861607,
          0.46980997184053036,
          0.023568417166358494,
          0.3204041627313105,
          0.008851822693701772,
          0.0063957805072579746,
          0.2179881859884533,
          0.09457878308525028,
          0.39919943967042937,
          0.2330274048388413,
          0.011331774777394,
          0.13093527753025283,
          0.06038411897944618,
          0.2933981445589344,
          0.01362682122009942,
          0.003501511120214604,
          0.09403804201915195,
          0.04631227225210787,
          0.1852467940336832,
          0.11693900925625679,
          0.046874052738652854,
          0.10448165270051003,
          0.07707918688083214,
          0.0032161166876876015,
          0.03394676674501902,
          0.0016261905046777187,
          0.06929274985732081,
          0.036480943281412145,
          0.0034536208105111887,
          0.0015711286226615662,
          0.07688821485204528,
          0.18129676748950746,
          0.043925280947401966,
          0.34456233850269835,
          0.03403357781160215,
          0.0010829761128161395,
          0.0018586494484055308,
          0.050280529542798165,
          0.02539657213470542,
          0.12238430946046928,
          0.08613550421948926,
          0.4064481788336912,
          0.06386575442468173
         ],
         "xaxis": "x4",
         "y": [
          1.7411685469992204,
          1.5948624620647043,
          1.8444698233316736,
          1.8333832326633268,
          1.965693049156672,
          2.0934917156658557,
          1.7105693838748208,
          1.8451095097479802,
          2.0821863862378356,
          1.6185192584528352,
          1.9817639929768316,
          1.575909197875436,
          1.5658038108812862,
          1.9075798379804696,
          1.7652205874784794,
          2.0414167183062673,
          1.9237388679793717,
          1.5808341516037643,
          1.8157941098137453,
          1.7142858541801231,
          1.9687882401771706,
          1.5878171265243206,
          1.5539649247595906,
          1.7628229234664539,
          1.6759236225847107,
          1.8774718312890648,
          1.7963742569228196,
          1.679365457492842,
          1.7765566689395107,
          1.7385274062107299,
          1.5666829780303448,
          1.6519098140325514,
          1.563139515330696,
          1.7250228252962505,
          1.656437862666016,
          1.5672763792437983,
          1.5690488503853988,
          1.7359884723689016,
          1.8766277125813136,
          1.6841163233567413,
          2.0005448873855665,
          1.6538465106431441,
          1.5667339070565405,
          1.5677394026971925,
          1.690394499732894,
          1.6385552824994913,
          1.8009645100479539,
          1.7521155897107565,
          2.03664973905316,
          1.7128981936746626
         ],
         "yaxis": "y4"
        },
        {
         "marker": {
          "color": [
           0,
           1,
           2,
           3,
           4,
           5,
           6,
           7,
           8,
           9,
           10,
           11,
           12,
           13,
           14,
           15,
           16,
           17,
           18,
           19,
           20,
           21,
           22,
           23,
           24,
           25,
           26,
           27,
           28,
           29,
           30,
           31,
           32,
           33,
           34,
           35,
           36,
           37,
           38,
           39,
           40,
           41,
           42,
           43,
           44,
           45,
           46,
           47,
           48,
           49
          ],
          "colorbar": {
           "title": {
            "text": "Trial"
           },
           "x": 1,
           "xpad": 40
          },
          "colorscale": [
           [
            0,
            "rgb(247,251,255)"
           ],
           [
            0.125,
            "rgb(222,235,247)"
           ],
           [
            0.25,
            "rgb(198,219,239)"
           ],
           [
            0.375,
            "rgb(158,202,225)"
           ],
           [
            0.5,
            "rgb(107,174,214)"
           ],
           [
            0.625,
            "rgb(66,146,198)"
           ],
           [
            0.75,
            "rgb(33,113,181)"
           ],
           [
            0.875,
            "rgb(8,81,156)"
           ],
           [
            1,
            "rgb(8,48,107)"
           ]
          ],
          "line": {
           "color": "Grey",
           "width": 0.5
          },
          "showscale": false
         },
         "mode": "markers",
         "name": "Feasible Trial",
         "showlegend": false,
         "type": "scatter",
         "x": [
          6,
          7,
          4,
          3,
          6,
          8,
          5,
          6,
          7,
          4,
          8,
          4,
          3,
          3,
          4,
          3,
          5,
          4,
          3,
          5,
          4,
          4,
          3,
          3,
          3,
          3,
          4,
          5,
          3,
          4,
          3,
          3,
          3,
          3,
          3,
          3,
          4,
          3,
          5,
          7,
          3,
          3,
          3,
          4,
          3,
          6,
          4,
          3,
          7,
          3
         ],
         "xaxis": "x5",
         "y": [
          1.7411685469992204,
          1.5948624620647043,
          1.8444698233316736,
          1.8333832326633268,
          1.965693049156672,
          2.0934917156658557,
          1.7105693838748208,
          1.8451095097479802,
          2.0821863862378356,
          1.6185192584528352,
          1.9817639929768316,
          1.575909197875436,
          1.5658038108812862,
          1.9075798379804696,
          1.7652205874784794,
          2.0414167183062673,
          1.9237388679793717,
          1.5808341516037643,
          1.8157941098137453,
          1.7142858541801231,
          1.9687882401771706,
          1.5878171265243206,
          1.5539649247595906,
          1.7628229234664539,
          1.6759236225847107,
          1.8774718312890648,
          1.7963742569228196,
          1.679365457492842,
          1.7765566689395107,
          1.7385274062107299,
          1.5666829780303448,
          1.6519098140325514,
          1.563139515330696,
          1.7250228252962505,
          1.656437862666016,
          1.5672763792437983,
          1.5690488503853988,
          1.7359884723689016,
          1.8766277125813136,
          1.6841163233567413,
          2.0005448873855665,
          1.6538465106431441,
          1.5667339070565405,
          1.5677394026971925,
          1.690394499732894,
          1.6385552824994913,
          1.8009645100479539,
          1.7521155897107565,
          2.03664973905316,
          1.7128981936746626
         ],
         "yaxis": "y5"
        },
        {
         "marker": {
          "color": [
           0,
           1,
           2,
           3,
           4,
           5,
           6,
           7,
           8,
           9,
           10,
           11,
           12,
           13,
           14,
           15,
           16,
           17,
           18,
           19,
           20,
           21,
           22,
           23,
           24,
           25,
           26,
           27,
           28,
           29,
           30,
           31,
           32,
           33,
           34,
           35,
           36,
           37,
           38,
           39,
           40,
           41,
           42,
           43,
           44,
           45,
           46,
           47,
           48,
           49
          ],
          "colorbar": {
           "title": {
            "text": "Trial"
           },
           "x": 1,
           "xpad": 40
          },
          "colorscale": [
           [
            0,
            "rgb(247,251,255)"
           ],
           [
            0.125,
            "rgb(222,235,247)"
           ],
           [
            0.25,
            "rgb(198,219,239)"
           ],
           [
            0.375,
            "rgb(158,202,225)"
           ],
           [
            0.5,
            "rgb(107,174,214)"
           ],
           [
            0.625,
            "rgb(66,146,198)"
           ],
           [
            0.75,
            "rgb(33,113,181)"
           ],
           [
            0.875,
            "rgb(8,81,156)"
           ],
           [
            1,
            "rgb(8,48,107)"
           ]
          ],
          "line": {
           "color": "Grey",
           "width": 0.5
          },
          "showscale": false
         },
         "mode": "markers",
         "name": "Feasible Trial",
         "showlegend": false,
         "type": "scatter",
         "x": [
          16,
          14,
          7,
          14,
          8,
          6,
          15,
          9,
          20,
          6,
          11,
          11,
          12,
          11,
          11,
          18,
          12,
          9,
          13,
          17,
          10,
          9,
          9,
          13,
          5,
          12,
          10,
          8,
          10,
          8,
          16,
          16,
          14,
          15,
          14,
          18,
          15,
          14,
          17,
          16,
          13,
          19,
          18,
          16,
          20,
          18,
          14,
          19,
          17,
          15
         ],
         "xaxis": "x6",
         "y": [
          1.7411685469992204,
          1.5948624620647043,
          1.8444698233316736,
          1.8333832326633268,
          1.965693049156672,
          2.0934917156658557,
          1.7105693838748208,
          1.8451095097479802,
          2.0821863862378356,
          1.6185192584528352,
          1.9817639929768316,
          1.575909197875436,
          1.5658038108812862,
          1.9075798379804696,
          1.7652205874784794,
          2.0414167183062673,
          1.9237388679793717,
          1.5808341516037643,
          1.8157941098137453,
          1.7142858541801231,
          1.9687882401771706,
          1.5878171265243206,
          1.5539649247595906,
          1.7628229234664539,
          1.6759236225847107,
          1.8774718312890648,
          1.7963742569228196,
          1.679365457492842,
          1.7765566689395107,
          1.7385274062107299,
          1.5666829780303448,
          1.6519098140325514,
          1.563139515330696,
          1.7250228252962505,
          1.656437862666016,
          1.5672763792437983,
          1.5690488503853988,
          1.7359884723689016,
          1.8766277125813136,
          1.6841163233567413,
          2.0005448873855665,
          1.6538465106431441,
          1.5667339070565405,
          1.5677394026971925,
          1.690394499732894,
          1.6385552824994913,
          1.8009645100479539,
          1.7521155897107565,
          2.03664973905316,
          1.7128981936746626
         ],
         "yaxis": "y6"
        },
        {
         "marker": {
          "color": [
           0,
           1,
           2,
           3,
           4,
           5,
           6,
           7,
           8,
           9,
           10,
           11,
           12,
           13,
           14,
           15,
           16,
           17,
           18,
           19,
           20,
           21,
           22,
           23,
           24,
           25,
           26,
           27,
           28,
           29,
           30,
           31,
           32,
           33,
           34,
           35,
           36,
           37,
           38,
           39,
           40,
           41,
           42,
           43,
           44,
           45,
           46,
           47,
           48,
           49
          ],
          "colorbar": {
           "title": {
            "text": "Trial"
           },
           "x": 1,
           "xpad": 40
          },
          "colorscale": [
           [
            0,
            "rgb(247,251,255)"
           ],
           [
            0.125,
            "rgb(222,235,247)"
           ],
           [
            0.25,
            "rgb(198,219,239)"
           ],
           [
            0.375,
            "rgb(158,202,225)"
           ],
           [
            0.5,
            "rgb(107,174,214)"
           ],
           [
            0.625,
            "rgb(66,146,198)"
           ],
           [
            0.75,
            "rgb(33,113,181)"
           ],
           [
            0.875,
            "rgb(8,81,156)"
           ],
           [
            1,
            "rgb(8,48,107)"
           ]
          ],
          "line": {
           "color": "Grey",
           "width": 0.5
          },
          "showscale": false
         },
         "mode": "markers",
         "name": "Feasible Trial",
         "showlegend": false,
         "type": "scatter",
         "x": [
          625,
          434,
          900,
          659,
          674,
          765,
          583,
          420,
          728,
          759,
          412,
          897,
          970,
          978,
          866,
          1000,
          858,
          927,
          798,
          824,
          938,
          941,
          910,
          872,
          972,
          831,
          911,
          553,
          956,
          791,
          1000,
          990,
          893,
          891,
          952,
          476,
          837,
          922,
          999,
          890,
          731,
          601,
          508,
          473,
          640,
          696,
          547,
          962,
          471,
          507
         ],
         "xaxis": "x7",
         "y": [
          1.7411685469992204,
          1.5948624620647043,
          1.8444698233316736,
          1.8333832326633268,
          1.965693049156672,
          2.0934917156658557,
          1.7105693838748208,
          1.8451095097479802,
          2.0821863862378356,
          1.6185192584528352,
          1.9817639929768316,
          1.575909197875436,
          1.5658038108812862,
          1.9075798379804696,
          1.7652205874784794,
          2.0414167183062673,
          1.9237388679793717,
          1.5808341516037643,
          1.8157941098137453,
          1.7142858541801231,
          1.9687882401771706,
          1.5878171265243206,
          1.5539649247595906,
          1.7628229234664539,
          1.6759236225847107,
          1.8774718312890648,
          1.7963742569228196,
          1.679365457492842,
          1.7765566689395107,
          1.7385274062107299,
          1.5666829780303448,
          1.6519098140325514,
          1.563139515330696,
          1.7250228252962505,
          1.656437862666016,
          1.5672763792437983,
          1.5690488503853988,
          1.7359884723689016,
          1.8766277125813136,
          1.6841163233567413,
          2.0005448873855665,
          1.6538465106431441,
          1.5667339070565405,
          1.5677394026971925,
          1.690394499732894,
          1.6385552824994913,
          1.8009645100479539,
          1.7521155897107565,
          2.03664973905316,
          1.7128981936746626
         ],
         "yaxis": "y7"
        }
       ],
       "layout": {
        "template": {
         "data": {
          "bar": [
           {
            "error_x": {
             "color": "#2a3f5f"
            },
            "error_y": {
             "color": "#2a3f5f"
            },
            "marker": {
             "line": {
              "color": "#E5ECF6",
              "width": 0.5
             },
             "pattern": {
              "fillmode": "overlay",
              "size": 10,
              "solidity": 0.2
             }
            },
            "type": "bar"
           }
          ],
          "barpolar": [
           {
            "marker": {
             "line": {
              "color": "#E5ECF6",
              "width": 0.5
             },
             "pattern": {
              "fillmode": "overlay",
              "size": 10,
              "solidity": 0.2
             }
            },
            "type": "barpolar"
           }
          ],
          "carpet": [
           {
            "aaxis": {
             "endlinecolor": "#2a3f5f",
             "gridcolor": "white",
             "linecolor": "white",
             "minorgridcolor": "white",
             "startlinecolor": "#2a3f5f"
            },
            "baxis": {
             "endlinecolor": "#2a3f5f",
             "gridcolor": "white",
             "linecolor": "white",
             "minorgridcolor": "white",
             "startlinecolor": "#2a3f5f"
            },
            "type": "carpet"
           }
          ],
          "choropleth": [
           {
            "colorbar": {
             "outlinewidth": 0,
             "ticks": ""
            },
            "type": "choropleth"
           }
          ],
          "contour": [
           {
            "colorbar": {
             "outlinewidth": 0,
             "ticks": ""
            },
            "colorscale": [
             [
              0,
              "#0d0887"
             ],
             [
              0.1111111111111111,
              "#46039f"
             ],
             [
              0.2222222222222222,
              "#7201a8"
             ],
             [
              0.3333333333333333,
              "#9c179e"
             ],
             [
              0.4444444444444444,
              "#bd3786"
             ],
             [
              0.5555555555555556,
              "#d8576b"
             ],
             [
              0.6666666666666666,
              "#ed7953"
             ],
             [
              0.7777777777777778,
              "#fb9f3a"
             ],
             [
              0.8888888888888888,
              "#fdca26"
             ],
             [
              1,
              "#f0f921"
             ]
            ],
            "type": "contour"
           }
          ],
          "contourcarpet": [
           {
            "colorbar": {
             "outlinewidth": 0,
             "ticks": ""
            },
            "type": "contourcarpet"
           }
          ],
          "heatmap": [
           {
            "colorbar": {
             "outlinewidth": 0,
             "ticks": ""
            },
            "colorscale": [
             [
              0,
              "#0d0887"
             ],
             [
              0.1111111111111111,
              "#46039f"
             ],
             [
              0.2222222222222222,
              "#7201a8"
             ],
             [
              0.3333333333333333,
              "#9c179e"
             ],
             [
              0.4444444444444444,
              "#bd3786"
             ],
             [
              0.5555555555555556,
              "#d8576b"
             ],
             [
              0.6666666666666666,
              "#ed7953"
             ],
             [
              0.7777777777777778,
              "#fb9f3a"
             ],
             [
              0.8888888888888888,
              "#fdca26"
             ],
             [
              1,
              "#f0f921"
             ]
            ],
            "type": "heatmap"
           }
          ],
          "histogram": [
           {
            "marker": {
             "pattern": {
              "fillmode": "overlay",
              "size": 10,
              "solidity": 0.2
             }
            },
            "type": "histogram"
           }
          ],
          "histogram2d": [
           {
            "colorbar": {
             "outlinewidth": 0,
             "ticks": ""
            },
            "colorscale": [
             [
              0,
              "#0d0887"
             ],
             [
              0.1111111111111111,
              "#46039f"
             ],
             [
              0.2222222222222222,
              "#7201a8"
             ],
             [
              0.3333333333333333,
              "#9c179e"
             ],
             [
              0.4444444444444444,
              "#bd3786"
             ],
             [
              0.5555555555555556,
              "#d8576b"
             ],
             [
              0.6666666666666666,
              "#ed7953"
             ],
             [
              0.7777777777777778,
              "#fb9f3a"
             ],
             [
              0.8888888888888888,
              "#fdca26"
             ],
             [
              1,
              "#f0f921"
             ]
            ],
            "type": "histogram2d"
           }
          ],
          "histogram2dcontour": [
           {
            "colorbar": {
             "outlinewidth": 0,
             "ticks": ""
            },
            "colorscale": [
             [
              0,
              "#0d0887"
             ],
             [
              0.1111111111111111,
              "#46039f"
             ],
             [
              0.2222222222222222,
              "#7201a8"
             ],
             [
              0.3333333333333333,
              "#9c179e"
             ],
             [
              0.4444444444444444,
              "#bd3786"
             ],
             [
              0.5555555555555556,
              "#d8576b"
             ],
             [
              0.6666666666666666,
              "#ed7953"
             ],
             [
              0.7777777777777778,
              "#fb9f3a"
             ],
             [
              0.8888888888888888,
              "#fdca26"
             ],
             [
              1,
              "#f0f921"
             ]
            ],
            "type": "histogram2dcontour"
           }
          ],
          "mesh3d": [
           {
            "colorbar": {
             "outlinewidth": 0,
             "ticks": ""
            },
            "type": "mesh3d"
           }
          ],
          "parcoords": [
           {
            "line": {
             "colorbar": {
              "outlinewidth": 0,
              "ticks": ""
             }
            },
            "type": "parcoords"
           }
          ],
          "pie": [
           {
            "automargin": true,
            "type": "pie"
           }
          ],
          "scatter": [
           {
            "fillpattern": {
             "fillmode": "overlay",
             "size": 10,
             "solidity": 0.2
            },
            "type": "scatter"
           }
          ],
          "scatter3d": [
           {
            "line": {
             "colorbar": {
              "outlinewidth": 0,
              "ticks": ""
             }
            },
            "marker": {
             "colorbar": {
              "outlinewidth": 0,
              "ticks": ""
             }
            },
            "type": "scatter3d"
           }
          ],
          "scattercarpet": [
           {
            "marker": {
             "colorbar": {
              "outlinewidth": 0,
              "ticks": ""
             }
            },
            "type": "scattercarpet"
           }
          ],
          "scattergeo": [
           {
            "marker": {
             "colorbar": {
              "outlinewidth": 0,
              "ticks": ""
             }
            },
            "type": "scattergeo"
           }
          ],
          "scattergl": [
           {
            "marker": {
             "colorbar": {
              "outlinewidth": 0,
              "ticks": ""
             }
            },
            "type": "scattergl"
           }
          ],
          "scattermap": [
           {
            "marker": {
             "colorbar": {
              "outlinewidth": 0,
              "ticks": ""
             }
            },
            "type": "scattermap"
           }
          ],
          "scattermapbox": [
           {
            "marker": {
             "colorbar": {
              "outlinewidth": 0,
              "ticks": ""
             }
            },
            "type": "scattermapbox"
           }
          ],
          "scatterpolar": [
           {
            "marker": {
             "colorbar": {
              "outlinewidth": 0,
              "ticks": ""
             }
            },
            "type": "scatterpolar"
           }
          ],
          "scatterpolargl": [
           {
            "marker": {
             "colorbar": {
              "outlinewidth": 0,
              "ticks": ""
             }
            },
            "type": "scatterpolargl"
           }
          ],
          "scatterternary": [
           {
            "marker": {
             "colorbar": {
              "outlinewidth": 0,
              "ticks": ""
             }
            },
            "type": "scatterternary"
           }
          ],
          "surface": [
           {
            "colorbar": {
             "outlinewidth": 0,
             "ticks": ""
            },
            "colorscale": [
             [
              0,
              "#0d0887"
             ],
             [
              0.1111111111111111,
              "#46039f"
             ],
             [
              0.2222222222222222,
              "#7201a8"
             ],
             [
              0.3333333333333333,
              "#9c179e"
             ],
             [
              0.4444444444444444,
              "#bd3786"
             ],
             [
              0.5555555555555556,
              "#d8576b"
             ],
             [
              0.6666666666666666,
              "#ed7953"
             ],
             [
              0.7777777777777778,
              "#fb9f3a"
             ],
             [
              0.8888888888888888,
              "#fdca26"
             ],
             [
              1,
              "#f0f921"
             ]
            ],
            "type": "surface"
           }
          ],
          "table": [
           {
            "cells": {
             "fill": {
              "color": "#EBF0F8"
             },
             "line": {
              "color": "white"
             }
            },
            "header": {
             "fill": {
              "color": "#C8D4E3"
             },
             "line": {
              "color": "white"
             }
            },
            "type": "table"
           }
          ]
         },
         "layout": {
          "annotationdefaults": {
           "arrowcolor": "#2a3f5f",
           "arrowhead": 0,
           "arrowwidth": 1
          },
          "autotypenumbers": "strict",
          "coloraxis": {
           "colorbar": {
            "outlinewidth": 0,
            "ticks": ""
           }
          },
          "colorscale": {
           "diverging": [
            [
             0,
             "#8e0152"
            ],
            [
             0.1,
             "#c51b7d"
            ],
            [
             0.2,
             "#de77ae"
            ],
            [
             0.3,
             "#f1b6da"
            ],
            [
             0.4,
             "#fde0ef"
            ],
            [
             0.5,
             "#f7f7f7"
            ],
            [
             0.6,
             "#e6f5d0"
            ],
            [
             0.7,
             "#b8e186"
            ],
            [
             0.8,
             "#7fbc41"
            ],
            [
             0.9,
             "#4d9221"
            ],
            [
             1,
             "#276419"
            ]
           ],
           "sequential": [
            [
             0,
             "#0d0887"
            ],
            [
             0.1111111111111111,
             "#46039f"
            ],
            [
             0.2222222222222222,
             "#7201a8"
            ],
            [
             0.3333333333333333,
             "#9c179e"
            ],
            [
             0.4444444444444444,
             "#bd3786"
            ],
            [
             0.5555555555555556,
             "#d8576b"
            ],
            [
             0.6666666666666666,
             "#ed7953"
            ],
            [
             0.7777777777777778,
             "#fb9f3a"
            ],
            [
             0.8888888888888888,
             "#fdca26"
            ],
            [
             1,
             "#f0f921"
            ]
           ],
           "sequentialminus": [
            [
             0,
             "#0d0887"
            ],
            [
             0.1111111111111111,
             "#46039f"
            ],
            [
             0.2222222222222222,
             "#7201a8"
            ],
            [
             0.3333333333333333,
             "#9c179e"
            ],
            [
             0.4444444444444444,
             "#bd3786"
            ],
            [
             0.5555555555555556,
             "#d8576b"
            ],
            [
             0.6666666666666666,
             "#ed7953"
            ],
            [
             0.7777777777777778,
             "#fb9f3a"
            ],
            [
             0.8888888888888888,
             "#fdca26"
            ],
            [
             1,
             "#f0f921"
            ]
           ]
          },
          "colorway": [
           "#636efa",
           "#EF553B",
           "#00cc96",
           "#ab63fa",
           "#FFA15A",
           "#19d3f3",
           "#FF6692",
           "#B6E880",
           "#FF97FF",
           "#FECB52"
          ],
          "font": {
           "color": "#2a3f5f"
          },
          "geo": {
           "bgcolor": "white",
           "lakecolor": "white",
           "landcolor": "#E5ECF6",
           "showlakes": true,
           "showland": true,
           "subunitcolor": "white"
          },
          "hoverlabel": {
           "align": "left"
          },
          "hovermode": "closest",
          "mapbox": {
           "style": "light"
          },
          "paper_bgcolor": "white",
          "plot_bgcolor": "#E5ECF6",
          "polar": {
           "angularaxis": {
            "gridcolor": "white",
            "linecolor": "white",
            "ticks": ""
           },
           "bgcolor": "#E5ECF6",
           "radialaxis": {
            "gridcolor": "white",
            "linecolor": "white",
            "ticks": ""
           }
          },
          "scene": {
           "xaxis": {
            "backgroundcolor": "#E5ECF6",
            "gridcolor": "white",
            "gridwidth": 2,
            "linecolor": "white",
            "showbackground": true,
            "ticks": "",
            "zerolinecolor": "white"
           },
           "yaxis": {
            "backgroundcolor": "#E5ECF6",
            "gridcolor": "white",
            "gridwidth": 2,
            "linecolor": "white",
            "showbackground": true,
            "ticks": "",
            "zerolinecolor": "white"
           },
           "zaxis": {
            "backgroundcolor": "#E5ECF6",
            "gridcolor": "white",
            "gridwidth": 2,
            "linecolor": "white",
            "showbackground": true,
            "ticks": "",
            "zerolinecolor": "white"
           }
          },
          "shapedefaults": {
           "line": {
            "color": "#2a3f5f"
           }
          },
          "ternary": {
           "aaxis": {
            "gridcolor": "white",
            "linecolor": "white",
            "ticks": ""
           },
           "baxis": {
            "gridcolor": "white",
            "linecolor": "white",
            "ticks": ""
           },
           "bgcolor": "#E5ECF6",
           "caxis": {
            "gridcolor": "white",
            "linecolor": "white",
            "ticks": ""
           }
          },
          "title": {
           "x": 0.05
          },
          "xaxis": {
           "automargin": true,
           "gridcolor": "white",
           "linecolor": "white",
           "ticks": "",
           "title": {
            "standoff": 15
           },
           "zerolinecolor": "white",
           "zerolinewidth": 2
          },
          "yaxis": {
           "automargin": true,
           "gridcolor": "white",
           "linecolor": "white",
           "ticks": "",
           "title": {
            "standoff": 15
           },
           "zerolinecolor": "white",
           "zerolinewidth": 2
          }
         }
        },
        "title": {
         "text": "Slice Plot"
        },
        "width": 2100,
        "xaxis": {
         "anchor": "y",
         "domain": [
          0,
          0.1183673469387755
         ],
         "title": {
          "text": "max_depth"
         }
        },
        "xaxis2": {
         "anchor": "y2",
         "categoryarray": [
          "sqrt"
         ],
         "categoryorder": "array",
         "domain": [
          0.14693877551020407,
          0.26530612244897955
         ],
         "title": {
          "text": "max_features"
         },
         "type": "category"
        },
        "xaxis3": {
         "anchor": "y3",
         "domain": [
          0.29387755102040813,
          0.4122448979591836
         ],
         "title": {
          "text": "max_leaf_nodes"
         }
        },
        "xaxis4": {
         "anchor": "y4",
         "domain": [
          0.4408163265306122,
          0.5591836734693877
         ],
         "title": {
          "text": "min_impurity_decrease"
         }
        },
        "xaxis5": {
         "anchor": "y5",
         "domain": [
          0.5877551020408163,
          0.7061224489795918
         ],
         "title": {
          "text": "min_samples_leaf"
         }
        },
        "xaxis6": {
         "anchor": "y6",
         "domain": [
          0.7346938775510204,
          0.8530612244897959
         ],
         "title": {
          "text": "min_samples_split"
         }
        },
        "xaxis7": {
         "anchor": "y7",
         "domain": [
          0.8816326530612244,
          0.9999999999999999
         ],
         "title": {
          "text": "n_estimators"
         }
        },
        "yaxis": {
         "anchor": "x",
         "domain": [
          0,
          1
         ],
         "title": {
          "text": "Objective Value"
         }
        },
        "yaxis2": {
         "anchor": "x2",
         "domain": [
          0,
          1
         ],
         "matches": "y",
         "showticklabels": false
        },
        "yaxis3": {
         "anchor": "x3",
         "domain": [
          0,
          1
         ],
         "matches": "y",
         "showticklabels": false
        },
        "yaxis4": {
         "anchor": "x4",
         "domain": [
          0,
          1
         ],
         "matches": "y",
         "showticklabels": false
        },
        "yaxis5": {
         "anchor": "x5",
         "domain": [
          0,
          1
         ],
         "matches": "y",
         "showticklabels": false
        },
        "yaxis6": {
         "anchor": "x6",
         "domain": [
          0,
          1
         ],
         "matches": "y",
         "showticklabels": false
        },
        "yaxis7": {
         "anchor": "x7",
         "domain": [
          0,
          1
         ],
         "matches": "y",
         "showticklabels": false
        }
       }
      }
     },
     "metadata": {},
     "output_type": "display_data"
    }
   ],
   "source": [
    "vis.plot_slice(study=study)"
   ]
  },
  {
   "cell_type": "code",
   "execution_count": 28,
   "id": "583b4c36",
   "metadata": {},
   "outputs": [
    {
     "data": {
      "application/vnd.plotly.v1+json": {
       "config": {
        "plotlyServerURL": "https://plot.ly"
       },
       "data": [
        {
         "cliponaxis": false,
         "hovertemplate": [
          "max_features (CategoricalDistribution): 0.0<extra></extra>",
          "min_samples_leaf (IntDistribution): 0.0016416438492681193<extra></extra>",
          "max_depth (IntDistribution): 0.0022681254836462313<extra></extra>",
          "n_estimators (IntDistribution): 0.002297801307482762<extra></extra>",
          "min_samples_split (IntDistribution): 0.004619891676851487<extra></extra>",
          "max_leaf_nodes (IntDistribution): 0.00476789239875488<extra></extra>",
          "min_impurity_decrease (FloatDistribution): 0.9844046452839964<extra></extra>"
         ],
         "name": "Objective Value",
         "orientation": "h",
         "text": [
          "<0.01",
          "<0.01",
          "<0.01",
          "<0.01",
          "<0.01",
          "<0.01",
          "0.98"
         ],
         "textposition": "outside",
         "type": "bar",
         "x": [
          0,
          0.0016416438492681193,
          0.0022681254836462313,
          0.002297801307482762,
          0.004619891676851487,
          0.00476789239875488,
          0.9844046452839964
         ],
         "y": [
          "max_features",
          "min_samples_leaf",
          "max_depth",
          "n_estimators",
          "min_samples_split",
          "max_leaf_nodes",
          "min_impurity_decrease"
         ]
        }
       ],
       "layout": {
        "template": {
         "data": {
          "bar": [
           {
            "error_x": {
             "color": "#2a3f5f"
            },
            "error_y": {
             "color": "#2a3f5f"
            },
            "marker": {
             "line": {
              "color": "#E5ECF6",
              "width": 0.5
             },
             "pattern": {
              "fillmode": "overlay",
              "size": 10,
              "solidity": 0.2
             }
            },
            "type": "bar"
           }
          ],
          "barpolar": [
           {
            "marker": {
             "line": {
              "color": "#E5ECF6",
              "width": 0.5
             },
             "pattern": {
              "fillmode": "overlay",
              "size": 10,
              "solidity": 0.2
             }
            },
            "type": "barpolar"
           }
          ],
          "carpet": [
           {
            "aaxis": {
             "endlinecolor": "#2a3f5f",
             "gridcolor": "white",
             "linecolor": "white",
             "minorgridcolor": "white",
             "startlinecolor": "#2a3f5f"
            },
            "baxis": {
             "endlinecolor": "#2a3f5f",
             "gridcolor": "white",
             "linecolor": "white",
             "minorgridcolor": "white",
             "startlinecolor": "#2a3f5f"
            },
            "type": "carpet"
           }
          ],
          "choropleth": [
           {
            "colorbar": {
             "outlinewidth": 0,
             "ticks": ""
            },
            "type": "choropleth"
           }
          ],
          "contour": [
           {
            "colorbar": {
             "outlinewidth": 0,
             "ticks": ""
            },
            "colorscale": [
             [
              0,
              "#0d0887"
             ],
             [
              0.1111111111111111,
              "#46039f"
             ],
             [
              0.2222222222222222,
              "#7201a8"
             ],
             [
              0.3333333333333333,
              "#9c179e"
             ],
             [
              0.4444444444444444,
              "#bd3786"
             ],
             [
              0.5555555555555556,
              "#d8576b"
             ],
             [
              0.6666666666666666,
              "#ed7953"
             ],
             [
              0.7777777777777778,
              "#fb9f3a"
             ],
             [
              0.8888888888888888,
              "#fdca26"
             ],
             [
              1,
              "#f0f921"
             ]
            ],
            "type": "contour"
           }
          ],
          "contourcarpet": [
           {
            "colorbar": {
             "outlinewidth": 0,
             "ticks": ""
            },
            "type": "contourcarpet"
           }
          ],
          "heatmap": [
           {
            "colorbar": {
             "outlinewidth": 0,
             "ticks": ""
            },
            "colorscale": [
             [
              0,
              "#0d0887"
             ],
             [
              0.1111111111111111,
              "#46039f"
             ],
             [
              0.2222222222222222,
              "#7201a8"
             ],
             [
              0.3333333333333333,
              "#9c179e"
             ],
             [
              0.4444444444444444,
              "#bd3786"
             ],
             [
              0.5555555555555556,
              "#d8576b"
             ],
             [
              0.6666666666666666,
              "#ed7953"
             ],
             [
              0.7777777777777778,
              "#fb9f3a"
             ],
             [
              0.8888888888888888,
              "#fdca26"
             ],
             [
              1,
              "#f0f921"
             ]
            ],
            "type": "heatmap"
           }
          ],
          "histogram": [
           {
            "marker": {
             "pattern": {
              "fillmode": "overlay",
              "size": 10,
              "solidity": 0.2
             }
            },
            "type": "histogram"
           }
          ],
          "histogram2d": [
           {
            "colorbar": {
             "outlinewidth": 0,
             "ticks": ""
            },
            "colorscale": [
             [
              0,
              "#0d0887"
             ],
             [
              0.1111111111111111,
              "#46039f"
             ],
             [
              0.2222222222222222,
              "#7201a8"
             ],
             [
              0.3333333333333333,
              "#9c179e"
             ],
             [
              0.4444444444444444,
              "#bd3786"
             ],
             [
              0.5555555555555556,
              "#d8576b"
             ],
             [
              0.6666666666666666,
              "#ed7953"
             ],
             [
              0.7777777777777778,
              "#fb9f3a"
             ],
             [
              0.8888888888888888,
              "#fdca26"
             ],
             [
              1,
              "#f0f921"
             ]
            ],
            "type": "histogram2d"
           }
          ],
          "histogram2dcontour": [
           {
            "colorbar": {
             "outlinewidth": 0,
             "ticks": ""
            },
            "colorscale": [
             [
              0,
              "#0d0887"
             ],
             [
              0.1111111111111111,
              "#46039f"
             ],
             [
              0.2222222222222222,
              "#7201a8"
             ],
             [
              0.3333333333333333,
              "#9c179e"
             ],
             [
              0.4444444444444444,
              "#bd3786"
             ],
             [
              0.5555555555555556,
              "#d8576b"
             ],
             [
              0.6666666666666666,
              "#ed7953"
             ],
             [
              0.7777777777777778,
              "#fb9f3a"
             ],
             [
              0.8888888888888888,
              "#fdca26"
             ],
             [
              1,
              "#f0f921"
             ]
            ],
            "type": "histogram2dcontour"
           }
          ],
          "mesh3d": [
           {
            "colorbar": {
             "outlinewidth": 0,
             "ticks": ""
            },
            "type": "mesh3d"
           }
          ],
          "parcoords": [
           {
            "line": {
             "colorbar": {
              "outlinewidth": 0,
              "ticks": ""
             }
            },
            "type": "parcoords"
           }
          ],
          "pie": [
           {
            "automargin": true,
            "type": "pie"
           }
          ],
          "scatter": [
           {
            "fillpattern": {
             "fillmode": "overlay",
             "size": 10,
             "solidity": 0.2
            },
            "type": "scatter"
           }
          ],
          "scatter3d": [
           {
            "line": {
             "colorbar": {
              "outlinewidth": 0,
              "ticks": ""
             }
            },
            "marker": {
             "colorbar": {
              "outlinewidth": 0,
              "ticks": ""
             }
            },
            "type": "scatter3d"
           }
          ],
          "scattercarpet": [
           {
            "marker": {
             "colorbar": {
              "outlinewidth": 0,
              "ticks": ""
             }
            },
            "type": "scattercarpet"
           }
          ],
          "scattergeo": [
           {
            "marker": {
             "colorbar": {
              "outlinewidth": 0,
              "ticks": ""
             }
            },
            "type": "scattergeo"
           }
          ],
          "scattergl": [
           {
            "marker": {
             "colorbar": {
              "outlinewidth": 0,
              "ticks": ""
             }
            },
            "type": "scattergl"
           }
          ],
          "scattermap": [
           {
            "marker": {
             "colorbar": {
              "outlinewidth": 0,
              "ticks": ""
             }
            },
            "type": "scattermap"
           }
          ],
          "scattermapbox": [
           {
            "marker": {
             "colorbar": {
              "outlinewidth": 0,
              "ticks": ""
             }
            },
            "type": "scattermapbox"
           }
          ],
          "scatterpolar": [
           {
            "marker": {
             "colorbar": {
              "outlinewidth": 0,
              "ticks": ""
             }
            },
            "type": "scatterpolar"
           }
          ],
          "scatterpolargl": [
           {
            "marker": {
             "colorbar": {
              "outlinewidth": 0,
              "ticks": ""
             }
            },
            "type": "scatterpolargl"
           }
          ],
          "scatterternary": [
           {
            "marker": {
             "colorbar": {
              "outlinewidth": 0,
              "ticks": ""
             }
            },
            "type": "scatterternary"
           }
          ],
          "surface": [
           {
            "colorbar": {
             "outlinewidth": 0,
             "ticks": ""
            },
            "colorscale": [
             [
              0,
              "#0d0887"
             ],
             [
              0.1111111111111111,
              "#46039f"
             ],
             [
              0.2222222222222222,
              "#7201a8"
             ],
             [
              0.3333333333333333,
              "#9c179e"
             ],
             [
              0.4444444444444444,
              "#bd3786"
             ],
             [
              0.5555555555555556,
              "#d8576b"
             ],
             [
              0.6666666666666666,
              "#ed7953"
             ],
             [
              0.7777777777777778,
              "#fb9f3a"
             ],
             [
              0.8888888888888888,
              "#fdca26"
             ],
             [
              1,
              "#f0f921"
             ]
            ],
            "type": "surface"
           }
          ],
          "table": [
           {
            "cells": {
             "fill": {
              "color": "#EBF0F8"
             },
             "line": {
              "color": "white"
             }
            },
            "header": {
             "fill": {
              "color": "#C8D4E3"
             },
             "line": {
              "color": "white"
             }
            },
            "type": "table"
           }
          ]
         },
         "layout": {
          "annotationdefaults": {
           "arrowcolor": "#2a3f5f",
           "arrowhead": 0,
           "arrowwidth": 1
          },
          "autotypenumbers": "strict",
          "coloraxis": {
           "colorbar": {
            "outlinewidth": 0,
            "ticks": ""
           }
          },
          "colorscale": {
           "diverging": [
            [
             0,
             "#8e0152"
            ],
            [
             0.1,
             "#c51b7d"
            ],
            [
             0.2,
             "#de77ae"
            ],
            [
             0.3,
             "#f1b6da"
            ],
            [
             0.4,
             "#fde0ef"
            ],
            [
             0.5,
             "#f7f7f7"
            ],
            [
             0.6,
             "#e6f5d0"
            ],
            [
             0.7,
             "#b8e186"
            ],
            [
             0.8,
             "#7fbc41"
            ],
            [
             0.9,
             "#4d9221"
            ],
            [
             1,
             "#276419"
            ]
           ],
           "sequential": [
            [
             0,
             "#0d0887"
            ],
            [
             0.1111111111111111,
             "#46039f"
            ],
            [
             0.2222222222222222,
             "#7201a8"
            ],
            [
             0.3333333333333333,
             "#9c179e"
            ],
            [
             0.4444444444444444,
             "#bd3786"
            ],
            [
             0.5555555555555556,
             "#d8576b"
            ],
            [
             0.6666666666666666,
             "#ed7953"
            ],
            [
             0.7777777777777778,
             "#fb9f3a"
            ],
            [
             0.8888888888888888,
             "#fdca26"
            ],
            [
             1,
             "#f0f921"
            ]
           ],
           "sequentialminus": [
            [
             0,
             "#0d0887"
            ],
            [
             0.1111111111111111,
             "#46039f"
            ],
            [
             0.2222222222222222,
             "#7201a8"
            ],
            [
             0.3333333333333333,
             "#9c179e"
            ],
            [
             0.4444444444444444,
             "#bd3786"
            ],
            [
             0.5555555555555556,
             "#d8576b"
            ],
            [
             0.6666666666666666,
             "#ed7953"
            ],
            [
             0.7777777777777778,
             "#fb9f3a"
            ],
            [
             0.8888888888888888,
             "#fdca26"
            ],
            [
             1,
             "#f0f921"
            ]
           ]
          },
          "colorway": [
           "#636efa",
           "#EF553B",
           "#00cc96",
           "#ab63fa",
           "#FFA15A",
           "#19d3f3",
           "#FF6692",
           "#B6E880",
           "#FF97FF",
           "#FECB52"
          ],
          "font": {
           "color": "#2a3f5f"
          },
          "geo": {
           "bgcolor": "white",
           "lakecolor": "white",
           "landcolor": "#E5ECF6",
           "showlakes": true,
           "showland": true,
           "subunitcolor": "white"
          },
          "hoverlabel": {
           "align": "left"
          },
          "hovermode": "closest",
          "mapbox": {
           "style": "light"
          },
          "paper_bgcolor": "white",
          "plot_bgcolor": "#E5ECF6",
          "polar": {
           "angularaxis": {
            "gridcolor": "white",
            "linecolor": "white",
            "ticks": ""
           },
           "bgcolor": "#E5ECF6",
           "radialaxis": {
            "gridcolor": "white",
            "linecolor": "white",
            "ticks": ""
           }
          },
          "scene": {
           "xaxis": {
            "backgroundcolor": "#E5ECF6",
            "gridcolor": "white",
            "gridwidth": 2,
            "linecolor": "white",
            "showbackground": true,
            "ticks": "",
            "zerolinecolor": "white"
           },
           "yaxis": {
            "backgroundcolor": "#E5ECF6",
            "gridcolor": "white",
            "gridwidth": 2,
            "linecolor": "white",
            "showbackground": true,
            "ticks": "",
            "zerolinecolor": "white"
           },
           "zaxis": {
            "backgroundcolor": "#E5ECF6",
            "gridcolor": "white",
            "gridwidth": 2,
            "linecolor": "white",
            "showbackground": true,
            "ticks": "",
            "zerolinecolor": "white"
           }
          },
          "shapedefaults": {
           "line": {
            "color": "#2a3f5f"
           }
          },
          "ternary": {
           "aaxis": {
            "gridcolor": "white",
            "linecolor": "white",
            "ticks": ""
           },
           "baxis": {
            "gridcolor": "white",
            "linecolor": "white",
            "ticks": ""
           },
           "bgcolor": "#E5ECF6",
           "caxis": {
            "gridcolor": "white",
            "linecolor": "white",
            "ticks": ""
           }
          },
          "title": {
           "x": 0.05
          },
          "xaxis": {
           "automargin": true,
           "gridcolor": "white",
           "linecolor": "white",
           "ticks": "",
           "title": {
            "standoff": 15
           },
           "zerolinecolor": "white",
           "zerolinewidth": 2
          },
          "yaxis": {
           "automargin": true,
           "gridcolor": "white",
           "linecolor": "white",
           "ticks": "",
           "title": {
            "standoff": 15
           },
           "zerolinecolor": "white",
           "zerolinewidth": 2
          }
         }
        },
        "title": {
         "text": "Hyperparameter Importances"
        },
        "xaxis": {
         "title": {
          "text": "Hyperparameter Importance"
         }
        },
        "yaxis": {
         "title": {
          "text": "Hyperparameter"
         }
        }
       }
      }
     },
     "metadata": {},
     "output_type": "display_data"
    }
   ],
   "source": [
    "vis.plot_param_importances(study=study)"
   ]
  },
  {
   "cell_type": "code",
   "execution_count": null,
   "id": "6b9c05ef",
   "metadata": {},
   "outputs": [],
   "source": [
    "# === 7️ Kết thúc Task ===\n",
    "task.close()"
   ]
  }
 ],
 "metadata": {
  "kernelspec": {
   "display_name": "Python (group1venv)",
   "language": "python",
   "name": "group1venv"
  },
  "language_info": {
   "codemirror_mode": {
    "name": "ipython",
    "version": 3
   },
   "file_extension": ".py",
   "mimetype": "text/x-python",
   "name": "python",
   "nbconvert_exporter": "python",
   "pygments_lexer": "ipython3",
   "version": "3.12.4"
  }
 },
 "nbformat": 4,
 "nbformat_minor": 5
}
