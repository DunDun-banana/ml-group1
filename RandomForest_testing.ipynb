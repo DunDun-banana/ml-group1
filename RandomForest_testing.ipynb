{
 "cells": [
  {
   "cell_type": "code",
   "execution_count": 1,
   "id": "b72ccedf",
   "metadata": {},
   "outputs": [
    {
     "name": "stderr",
     "output_type": "stream",
     "text": [
      "c:\\Users\\Admin\\Documents\\ML\\group1\\venv\\Lib\\site-packages\\tqdm\\auto.py:21: TqdmWarning: IProgress not found. Please update jupyter and ipywidgets. See https://ipywidgets.readthedocs.io/en/stable/user_install.html\n",
      "  from .autonotebook import tqdm as notebook_tqdm\n"
     ]
    }
   ],
   "source": [
    "from clearml import Task\n",
    "import numpy as np\n",
    "import random\n",
    "import os\n",
    "import optuna\n",
    "\n",
    "import joblib\n",
    "import pandas as pd\n",
    "import optuna.visualization as vis\n",
    "import matplotlib.pyplot as plt\n",
    "\n",
    "from pathlib import Path\n",
    "from clearml import Logger\n",
    "from sklearn.ensemble import RandomForestRegressor\n",
    "from sklearn.ensemble import ExtraTreesRegressor, GradientBoostingRegressor\n",
    "from sklearn.model_selection import TimeSeriesSplit\n",
    "\n",
    "from src import data_preprocessing as dp\n",
    "from src import pipeline as pl\n",
    "from src import feature_engineering as fe\n",
    "from src.model_evaluation import evaluate\n",
    "from sklearn.model_selection import cross_val_score, cross_val_predict, KFold\n",
    "\n",
    "SEED = 42 # vẫn phải chọn random của model đấy\n",
    "\n",
    "# Python, NumPy\n",
    "random.seed(SEED)\n",
    "np.random.seed(SEED) \n",
    "\n",
    "# Hash seed cho Python interpreter (ảnh hưởng tới dict order)\n",
    "os.environ['PYTHONHASHSEED'] = str(SEED)\n",
    "\n",
    "# Giới hạn luồng tính toán song song (để tránh floating-point nondeterminism)\n",
    "os.environ[\"OMP_NUM_THREADS\"] = \"1\"\n",
    "os.environ[\"MKL_NUM_THREADS\"] = \"1\"\n",
    "os.environ[\"NUMEXPR_NUM_THREADS\"] = \"1\"\n",
    "\n",
    "# tạo sampler của Optuna có seed cố định\n",
    "sampler = optuna.samplers.TPESampler(seed=SEED)\n"
   ]
  },
  {
   "cell_type": "code",
   "execution_count": 2,
   "id": "e8a9465b",
   "metadata": {},
   "outputs": [
    {
     "name": "stdout",
     "output_type": "stream",
     "text": [
      " Loaded data with shape: (3660, 33)\n",
      "Dropped column: 'description'\n",
      "Dropped column: 'icon'\n",
      "Dropped column: 'stations'\n",
      "Dropped column: 'name'\n",
      "(2562, 246)\n"
     ]
    }
   ],
   "source": [
    "# 1. Load raw Data\n",
    "df = dp.load_data(r\"data\\raw data\\Hanoi Daily 10 years.csv\")\n",
    "\n",
    "\n",
    "# 2. basic preprocessing for all data set\n",
    "df = dp.basic_preprocessing(df=df)\n",
    "\n",
    "# 3. chia train, val, test (tỉ lệ 70/15/15)\n",
    "target_col = 'temp'\n",
    "train_size = 0.7\n",
    "val_size = 0.15\n",
    "n = len(df)\n",
    "\n",
    "train_df = df.iloc[:int(train_size*n)]\n",
    "val_df = df.iloc[int(train_size*n):int((train_size+val_size)*n)]\n",
    "test_df = df.iloc[int((train_size+val_size)*n):]\n",
    "\n",
    "# 4. Fit và transform trên preprocessing pipeline\n",
    "pipeline1 = pl.build_preprocessing_pipeline()\n",
    "\n",
    "# fit trên train\n",
    "pipeline1.fit(train_df)\n",
    "\n",
    "# transform \n",
    "train_processed = pipeline1.transform(train_df)\n",
    "val_processed = pipeline1.transform(val_df)\n",
    "test_processed = pipeline1.transform(test_df)\n",
    "\n",
    "\n",
    "# Tạo feature engineering\n",
    "column_lag = ['tempmax', 'tempmin', 'dew', 'humidity', 'precip',\n",
    "    'precipprob', 'precipcover', 'windgust', 'windspeed',\n",
    "    'sealevelpressure', 'cloudcover', 'visibility', 'solarradiation', \n",
    "    'pressure_temp_index', 'wind_temp_index', 'temp_range', 'dew_spread']\n",
    "\n",
    "train_feat = fe.feature_engineering(train_processed, column= column_lag)\n",
    "val_feat = fe.feature_engineering(val_processed, column= column_lag)\n",
    "test_feat = fe.feature_engineering(test_processed, column= column_lag)\n",
    "print(train_feat.shape)"
   ]
  },
  {
   "cell_type": "code",
   "execution_count": 3,
   "id": "6efadf4d",
   "metadata": {},
   "outputs": [
    {
     "name": "stdout",
     "output_type": "stream",
     "text": [
      "Train: ((2562, 245), (2562,)), Val: ((549, 245), (549,)), Test: ((549, 245), (549,))\n"
     ]
    }
   ],
   "source": [
    "# Chia X, y riêng biệt\n",
    "X_train, y_train = train_feat.drop(columns=[target_col]), train_df[target_col]\n",
    "X_val, y_val = val_feat.drop(columns=[target_col]), val_df[target_col]\n",
    "X_test, y_test = test_feat.drop(columns=[target_col]), test_df[target_col]\n",
    "\n",
    "print(f\"Train: {X_train.shape, y_train.shape}, Val: {X_val.shape, y_val.shape}, Test: {X_test.shape, y_test.shape}\")"
   ]
  },
  {
   "cell_type": "code",
   "execution_count": 4,
   "id": "12727f27",
   "metadata": {},
   "outputs": [],
   "source": [
    "pipeline2 = pl.build_RF_featture_engineering_pipeline(top_k=30)\n",
    "X_train = pipeline2.fit_transform(X= X_train, y= y_train)"
   ]
  },
  {
   "cell_type": "code",
   "execution_count": 5,
   "id": "1cfa7941",
   "metadata": {},
   "outputs": [
    {
     "data": {
      "text/plain": [
       "['pipelines/featureSelection_pipeline.pkl']"
      ]
     },
     "execution_count": 5,
     "metadata": {},
     "output_type": "execute_result"
    }
   ],
   "source": [
    "joblib.dump(pipeline1, \"pipelines/preprocessing_pipeline.pkl\")\n",
    "joblib.dump(pipeline2, \"pipelines/featureSelection_pipeline.pkl\")\n"
   ]
  },
  {
   "cell_type": "code",
   "execution_count": null,
   "id": "d967ba34",
   "metadata": {},
   "outputs": [],
   "source": [
    "# không để drop highly correlated ở preprocessing nữa, chuyển sang ở feature selection\n",
    "# dropHighCorr = fs.DropHighlyCorrelated()\n",
    "# dropHighCorr.fit(X_train)\n",
    "# X_train = dropHighCorr.transform(X_train)\n",
    "# X_val = dropHighCorr.transform(X_val)\n",
    "# X_test = dropHighCorr.transform(X_test)\n",
    "\n",
    "# fs_pipeline_RF = pl.build_RF_featture_engineering_pipeline()\n",
    "# # RF importance\n",
    "# # fit trên train\n",
    "# X_train = fs_pipeline_RF.fit_transform(X_train, y_train)\n",
    "\n",
    "# # transform \n",
    "# # X_train = fs_pipeline_RF.transform(X_train)\n",
    "# X_val = fs_pipeline_RF.transform(X_val)\n",
    "# X_test = fs_pipeline_RF.transform(X_test)\n"
   ]
  },
  {
   "cell_type": "code",
   "execution_count": 6,
   "id": "386f9b14",
   "metadata": {},
   "outputs": [
    {
     "data": {
      "text/plain": [
       "Index(['feelslike_lag_1', 'solar_temp_index_lag_1', 'windspeed_lag_1',\n",
       "       'humidity_lag_1', 'sunrise_lag_1', 'windgust_lag_1',\n",
       "       'pressure_temp_index_roll_mean_14', 'winddir_lag_1', 'dew_spread_lag_1',\n",
       "       'wind_variability_lag_1', 'sealevelpressure_roll_mean_14',\n",
       "       'day_length_lag_1', 'wind_temp_index_lag_1', 'temp_range_lag_1',\n",
       "       'tempmax_lag_4', 'sealevelpressure_roll_std_7', 'precip_lag_1',\n",
       "       'solarradiation_roll_std_14', 'visibility_lag_1',\n",
       "       'pressure_temp_index_lag_7', 'sealevelpressure_lag_7',\n",
       "       'windgust_roll_mean_3', 'solarradiation_lag_2',\n",
       "       'pressure_temp_index_roll_std_14', 'solarradiation_roll_mean_14',\n",
       "       'windgust_roll_std_3', 'pressure_temp_index_lag_6',\n",
       "       'visibility_roll_std_3', 'tempmax_roll_std_7', 'visibility_lag_3'],\n",
       "      dtype='object')"
      ]
     },
     "execution_count": 6,
     "metadata": {},
     "output_type": "execute_result"
    }
   ],
   "source": [
    "X_train.columns"
   ]
  },
  {
   "cell_type": "code",
   "execution_count": null,
   "id": "b81d4ed4",
   "metadata": {},
   "outputs": [],
   "source": [
    "# chưa có feature selection\n",
    "# 1. RF\n",
    "## Default\n",
    "# a. Validation metrics: {'RMSE': 2.1278075895022885, 'R2': 0.8297628223226209, 'MAPE': 7.013125189028322}\n",
    "# b. Test metrics: {'RMSE': 1.7168173002419687, 'R2': 0.8638144750921892, 'MAPE': 5.359437239042012}\n",
    "\n",
    "## Best parameter\n",
    "# Validation metrics: {'RMSE': 1.6388776242029133, 'R2': 0.8990089808287993, 'MAPE': 5.741406234570231}\n",
    "# Test metrics: {'RMSE': 1.4337918013739446, 'R2': 0.9050150119360206, 'MAPE': 4.584963631819218}\n",
    "\n",
    "\n",
    "# 2. Extra Tree\n",
    "## Default\n",
    "# Validation metrics: {'RMSE': 1.5501069852687441, 'R2': 0.9096531427481926, 'MAPE': 5.289823867518864}\n",
    "# Test metrics: {'RMSE': 1.4094799560393934, 'R2': 0.9082088955219491, 'MAPE': 4.494487229026149}\n",
    "\n",
    "## Best parameter\n",
    "# Validation metrics: {'RMSE': 1.4981094962144423, 'R2': 0.9156127533286983, 'MAPE': 5.13799909932879}\n",
    "# Test metrics: {'RMSE': 1.3558239003827515, 'R2': 0.9150644784751033, 'MAPE': 4.317549688535942}\n",
    "\n",
    "# 3. GB\n",
    "## Default\n",
    "# Validation metrics: {'RMSE': 1.479398688181336, 'R2': 0.9177075178532362, 'MAPE': 5.0692414857715775}\n",
    "# Test metrics: {'RMSE': 1.3534994389764416, 'R2': 0.9153554603683042, 'MAPE': 4.1845167790637126}\n",
    "\n",
    "## Best parameter\n",
    "# Validation metrics: {'RMSE': 1.5011458815829, 'R2': 0.9152703326059204, 'MAPE': 5.158944802837902}\n",
    "# Test metrics: {'RMSE': 1.3430800523462543, 'R2': 0.9166536500947113, 'MAPE': 4.216884591360309}\n",
    "Task.current_task().close()"
   ]
  },
  {
   "cell_type": "markdown",
   "id": "99aa7da8",
   "metadata": {},
   "source": [
    "### Random Forest"
   ]
  },
  {
   "cell_type": "code",
   "execution_count": null,
   "id": "b1b2454a",
   "metadata": {},
   "outputs": [],
   "source": [
    "# ! pip install plotly\n",
    "# === 1️ Khởi tạo Task (1 study = 1 Task) ===\n",
    "# Khởi tạo task mới cho mỗi lần experiemt/ study bằng Task.create ...\n",
    "# Hoặc nếu muốn tiếp tục với task cũ thì pass task id vào Task.get_task ...\n",
    "\n",
    "# mấy đứa tự tạo task mới cũng được, không thì cop id trong clearml\n",
    "# Nhớ đổi tên instance đi nhá, vd như task_1, logger_1\n",
    "# Tạo task mới trong project Temperature Forecasting\n",
    "task = Task.init(\n",
    "    project_name=\"Temperature Forecasting\",     # tên project (nếu chưa có sẽ tự tạo)\n",
    "    task_name=\"RF Optuna Tuning\", # tên task mới\n",
    "    task_type=Task.TaskTypes.optimizer            # loại task (training / testing / optimizer ...)\n",
    ")\n",
    "\n",
    "# print(\"✅ Task created successfully!\")\n",
    "print(\"Task ID:\", task.id)\n"
   ]
  },
  {
   "cell_type": "code",
   "execution_count": null,
   "id": "386ad108",
   "metadata": {},
   "outputs": [],
   "source": [
    "task = Task.get_task(task_id=\"ce115461cca2450fb4aa5ce1434fdb56\")\n",
    "logger = task.get_logger()"
   ]
  },
  {
   "cell_type": "code",
   "execution_count": null,
   "id": "22dfd01f",
   "metadata": {},
   "outputs": [],
   "source": [
    "## A. default hyper parameter\n",
    "# 1. fit \n",
    "model1 = RandomForestRegressor(n_estimators = 100, min_samples_split=2, min_samples_leaf=1,min_impurity_decrease=0, \n",
    "                               max_depth= 7, max_features= None, bootstrap= False, oob_score= False, \n",
    "                               max_leaf_nodes= None, max_samples= None, random_state= 42, n_jobs= -1\n",
    "                               )\n",
    "model1.fit(X_train, y_train) \n",
    "\n",
    "# 2. predict\n",
    "y_pred_val = model1.predict(X_val) \n",
    "y_pred_test = model1.predict(X_test)"
   ]
  },
  {
   "cell_type": "code",
   "execution_count": null,
   "id": "8a70dd81",
   "metadata": {},
   "outputs": [],
   "source": [
    "# Lấy feature importance\n",
    "importances = model1.feature_importances_\n",
    "\n",
    "# Tạo DataFrame hiển thị\n",
    "feat_importance = pd.DataFrame({\n",
    "    'Feature': X_train.columns,\n",
    "    'Importance': importances\n",
    "}).sort_values(by='Importance', ascending=False)\n",
    "\n",
    "#print(feat_importance)"
   ]
  },
  {
   "cell_type": "code",
   "execution_count": null,
   "id": "29b87314",
   "metadata": {},
   "outputs": [],
   "source": [
    "plt.figure(figsize=(10, 6))\n",
    "plt.barh(feat_importance['Feature'][:15], feat_importance['Importance'][:15])\n",
    "plt.gca().invert_yaxis()\n",
    "plt.title(\"Top 15 Feature Importances (Random Forest)\")\n",
    "plt.xlabel(\"Importance\")\n",
    "#plt.show()\n"
   ]
  },
  {
   "cell_type": "code",
   "execution_count": null,
   "id": "cf8c68be",
   "metadata": {},
   "outputs": [],
   "source": [
    "# Đánh giá sơ bộ trước khi tune\n",
    "\n",
    "# 3. Evaluate on validation\n",
    "default_val_metrics = evaluate(y_val, y_pred_val)\n",
    "print(\"Validation metrics:\", default_val_metrics)\n",
    "\n",
    "# 4. Evaluate on test\n",
    "default_test_metrics = evaluate(y_test, y_pred_test)\n",
    "print(\"Test metrics:\", default_test_metrics)\n",
    "\n",
    "# 5. Save model \n",
    "model_path = r'models/RF_model.pkl' \n",
    "joblib.dump(model1, model_path)\n",
    "print(f\"RandomForest model saved to {model_path}\")\n",
    "\n",
    "# 6 Log lên ClearML\n",
    "logger.report_scalar(\"Default Metrics\", \"RMSE_val\", default_val_metrics[\"RMSE\"], iteration=0)\n",
    "logger.report_scalar(\"Default Metrics\", \"R2_val\", default_val_metrics[\"R2\"], iteration=0)\n",
    "logger.report_scalar(\"Default Metrics\", \"MAPE_val\", default_val_metrics[\"MAPE\"], iteration=0)\n",
    "logger.report_scalar(\"Default Metrics\", \"RMSE_test\", default_test_metrics[\"RMSE\"], iteration=0)\n",
    "logger.report_scalar(\"Default Metrics\", \"R2_test\", default_test_metrics[\"R2\"], iteration=0)\n",
    "logger.report_scalar(\"Default Metrics\", \"MAPE_test\", default_test_metrics[\"MAPE\"], iteration=0)\n",
    "\n",
    "\n",
    "task.upload_artifact(\"Default Metrics\", {\n",
    "    \"Validation\": default_val_metrics,\n",
    "    \"Test\": default_test_metrics\n",
    "})\n"
   ]
  },
  {
   "cell_type": "code",
   "execution_count": null,
   "id": "5a6482b0",
   "metadata": {},
   "outputs": [],
   "source": [
    "## B hyper parameter tuning\n",
    "# === 1 Định nghĩa objective của optuna ===\n",
    "def objective(trial):\n",
    "    # Hyperparameter space\n",
    "    params = {\n",
    "    'n_estimators' : trial.suggest_int('n_estimators', 400, 1000),\n",
    "    'max_depth' : trial.suggest_int('max_depth', 15, 35),\n",
    "    'min_samples_split' : trial.suggest_int('min_samples_split', 5, 20),\n",
    "    'min_samples_leaf' : trial.suggest_int('min_samples_leaf', 3, 8),\n",
    "    'min_impurity_decrease' : trial.suggest_float('min_impurity_decrease', 0.001, 0.5),\n",
    "    'max_features' : trial.suggest_categorical('max_features', ['sqrt']),\n",
    "    'bootstrap' : False,\n",
    "    'max_leaf_nodes' : trial.suggest_int('max_leaf_nodes', 400, 700),\n",
    "    'random_state' : 42, \n",
    "    'n_jobs' : -1 \n",
    "    }\n",
    "\n",
    "    # Time series CV\n",
    "    cv = TimeSeriesSplit(n_splits=5)\n",
    "    rmse_scores = []\n",
    "\n",
    "    for train_idx, val_idx in cv.split(X_train):\n",
    "        X_tr, X_val = X_train.iloc[train_idx], X_train.iloc[val_idx]\n",
    "        y_tr, y_val = y_train.iloc[train_idx], y_train.iloc[val_idx]\n",
    "\n",
    "        \n",
    "        # Model\n",
    "        model = RandomForestRegressor(**params)\n",
    "        model.fit(X_tr, y_tr)\n",
    "        y_pred_val = model.predict(X_val)\n",
    "\n",
    "        metrics = evaluate(y_val, y_pred_val)\n",
    "        rmse_scores.append(metrics['RMSE'])\n",
    "    \n",
    "    mean_rmse = np.mean(rmse_scores)\n",
    "\n",
    "    # === 2 Log thông tin của trial lên ClearML ===\n",
    "    # (a) Log RMSE cho mỗi trial\n",
    "    logger.report_scalar(title = 'Optuna Tuning', series = 'Trial RMSE', value = mean_rmse, iteration = trial.number)\n",
    "\n",
    "    # (b) Log toàn bộ tham số của trial (bảng tóm tắt)\n",
    "    params_table = pd.DataFrame([params])\n",
    "    logger.report_table(title=f\"Trial {trial.number} Parameters\", series=\"params\", iteration=trial.number, table_plot=params_table)\n",
    "\n",
    "    # Trả về RMSE trung bình của các cv để Optuna minimize\n",
    "    return mean_rmse\n"
   ]
  },
  {
   "cell_type": "code",
   "execution_count": null,
   "id": "0eceb38e",
   "metadata": {},
   "outputs": [],
   "source": [
    "# === 3 Chạy Optuna study ===\n",
    "study = optuna.create_study(direction='minimize', sampler=sampler)  # minimize RMSE\n",
    "study.optimize(objective, n_trials=50)\n",
    "print(\"Best parameters:\", study.best_trial.params)\n",
    "print(\"Best RMSE:\", study.best_value)\n"
   ]
  },
  {
   "cell_type": "code",
   "execution_count": null,
   "id": "9df8a384",
   "metadata": {},
   "outputs": [],
   "source": [
    "# === 4 Log kết quả tổng hợp ===\n",
    "task.upload_artifact(\"Best Parameters\", study.best_trial.params)\n",
    "\n",
    "# Fit lại mô hình với best params\n",
    "best_model = RandomForestRegressor(**study.best_trial.params)\n",
    "best_model.fit(X_train, y_train)\n",
    "\n",
    "# Predict\n",
    "y_pred_val = best_model.predict(X_val)\n",
    "y_pred_test = best_model.predict(X_test)\n",
    "\n",
    "# Evaluate on validation\n",
    "best_val_metrics = evaluate(y_val, y_pred_val)\n",
    "print(\"Validation metrics:\", best_val_metrics)\n",
    "\n",
    "# Evaluate on test\n",
    "best_test_metrics = evaluate(y_test, y_pred_test)\n",
    "print(\"Test metrics:\", best_test_metrics)\n",
    "\n",
    "\n",
    "# 6 Log lên ClearML\n",
    "logger.report_scalar(\"Best Metrics\", \"RMSE_val\", best_val_metrics[\"RMSE\"], iteration=0)\n",
    "logger.report_scalar(\"Best Metrics\", \"R2_val\", best_val_metrics[\"R2\"], iteration=0)\n",
    "logger.report_scalar(\"Best Metrics\", \"MAPE_val\", best_val_metrics[\"MAPE\"], iteration=0)\n",
    "logger.report_scalar(\"Best Metrics\", \"RMSE_test\", best_test_metrics[\"RMSE\"], iteration=0)\n",
    "logger.report_scalar(\"Best Metrics\", \"R2_test\", best_test_metrics[\"R2\"], iteration=0)\n",
    "logger.report_scalar(\"Best Metrics\", \"MAPE_test\", best_test_metrics[\"MAPE\"], iteration=0)\n",
    "\n",
    "\n",
    "# Upload artifact tổng hợp\n",
    "task.upload_artifact(\"Best Metrics\", {\n",
    "    \"Validation\": best_val_metrics,\n",
    "    \"Test\": best_test_metrics\n",
    "})\n",
    "\n",
    "\n",
    "# Save & upload model\n",
    "model_path = r'models/Tuning_RF_model.pkl' \n",
    "joblib.dump(best_model, model_path)\n",
    "print(f\"RandomForest model saved to {model_path}\")\n",
    "task.upload_artifact(\"Best Model\", model_path)"
   ]
  },
  {
   "cell_type": "code",
   "execution_count": null,
   "id": "3c0d8058",
   "metadata": {},
   "outputs": [],
   "source": [
    "# === 6️ Vẽ biểu đồ RMSE theo trial  ===\n",
    "fig = plt.figure(figsize=(7, 4))\n",
    "plt.plot([t.value for t in study.trials])\n",
    "plt.xlabel(\"Trial\")\n",
    "plt.ylabel(\"RMSE\")\n",
    "plt.title(\"Optuna RMSE per Trial\")\n",
    "\n",
    "logger.report_matplotlib_figure(\n",
    "    title=\"Optuna Performance\", \n",
    "    series=\"RMSE Curve\", \n",
    "    figure=fig,\n",
    "    iteration=len(study.trials)\n",
    ")\n",
    "plt.close(fig)\n"
   ]
  },
  {
   "cell_type": "code",
   "execution_count": null,
   "id": "1417c76d",
   "metadata": {},
   "outputs": [],
   "source": [
    "vis.plot_optimization_history(study)\n"
   ]
  },
  {
   "cell_type": "code",
   "execution_count": null,
   "id": "efb2d938",
   "metadata": {},
   "outputs": [],
   "source": [
    "vis.plot_parallel_coordinate(study)"
   ]
  },
  {
   "cell_type": "code",
   "execution_count": null,
   "id": "a3a4efee",
   "metadata": {},
   "outputs": [],
   "source": [
    "vis.plot_slice(study=study)"
   ]
  },
  {
   "cell_type": "code",
   "execution_count": null,
   "id": "583b4c36",
   "metadata": {},
   "outputs": [],
   "source": [
    "vis.plot_param_importances(study=study)"
   ]
  },
  {
   "cell_type": "code",
   "execution_count": null,
   "id": "6b9c05ef",
   "metadata": {},
   "outputs": [],
   "source": [
    "# === 7️ Kết thúc Task ===\n",
    "task.close()"
   ]
  }
 ],
 "metadata": {
  "kernelspec": {
   "display_name": "Python (group1venv)",
   "language": "python",
   "name": "group1venv"
  },
  "language_info": {
   "codemirror_mode": {
    "name": "ipython",
    "version": 3
   },
   "file_extension": ".py",
   "mimetype": "text/x-python",
   "name": "python",
   "nbconvert_exporter": "python",
   "pygments_lexer": "ipython3",
   "version": "3.12.4"
  }
 },
 "nbformat": 4,
 "nbformat_minor": 5
}
